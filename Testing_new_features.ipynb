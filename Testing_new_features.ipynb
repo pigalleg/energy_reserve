{
 "cells": [
  {
   "cell_type": "code",
   "execution_count": 161,
   "metadata": {},
   "outputs": [
    {
     "data": {
      "text/plain": [
       "#3902 (generic function with 1 method)"
      ]
     },
     "metadata": {},
     "output_type": "display_data"
    }
   ],
   "source": [
    "using VegaLite\n",
    "using PlotlyJS\n",
    "include(\"./utils.jl\")\n",
    "include(\"./unit_commitment.jl\")\n",
    "ENV[\"COLUMNS\"]=120 # Set so all columns of DataFrames and Matrices are displayed\n",
    "\n",
    "color_map=Dict(\n",
    "    \"battery\" => \"green\",\n",
    "    \"solar_photovoltaic\" => \"gold\",\n",
    "    \"onshore_wind_turbine\" => \"skyblue\",\n",
    "    \"hydroelectric_pumped_storage\" => \"darkblue\",\n",
    "    \"small_hydroelectric\" => \"cornflowerblue\",\n",
    "    \"biomass\" => \"#6fc276\",\n",
    "    \"natural_gas_fired_combined_cycle\" => \"grey\",\n",
    "    \"natural_gas_fired_combustion_turbine\" => \"black\",\n",
    "    \"total\" => \"purple\",\n",
    "    \"required\" => \"#F0092\",\n",
    ")\n",
    "color_discrete_map = (key) -> if haskey(color_map, key) color_map[key] else \"red\" end"
   ]
  },
  {
   "cell_type": "code",
   "execution_count": 162,
   "metadata": {},
   "outputs": [],
   "source": [
    "\n",
    "gen_info, fuels, loads, gen_variable_info, storage_info = read_data()\n",
    "gen_df = pre_process_generators_data(gen_info, fuels)\n",
    "storage_df = pre_process_storage_data(storage_info)\n",
    "\n",
    "# A spring day\n",
    "n=100\n",
    "T_period = (n*24+1):((n+1)*24)\n",
    "\n",
    "# High solar case: 3,500 MW\n",
    "gen_df_sens = copy(gen_df)\n",
    "gen_df_sens[gen_df_sens.resource .== \"solar_photovoltaic\",\n",
    "    :existing_cap_mw] .= 3500\n",
    "gen_variable = pre_process_gen_variable(gen_df_sens, gen_variable_info)\n",
    "\n",
    "# Filtering data with timeseries according to T_period\n",
    "gen_variable_multi = gen_variable[in.(gen_variable.hour,Ref(T_period)),:];\n",
    "loads_multi = loads[in.(loads.hour,Ref(T_period)),:];\n",
    "\n",
    "required_reserve = DataFrame(\n",
    "    hour = loads[in.(loads.hour, Ref(T_period)), :hour],\n",
    "    reserve_up_MW = 300 .+ loads[in.(loads.hour,Ref(T_period)), :demand].*0.05,\n",
    "    reserve_down_MW = loads[in.(loads.hour, Ref(T_period)), :demand].*0.05)\n",
    "\n",
    "\n",
    "required_energy_reserve = [(row_1.hour, row_2.hour, row_1.reserve_up_MW*(row_1.hour == row_2.hour), row_1.reserve_down_MW*(row_1.hour == row_2.hour)) for row_1 in eachrow(required_reserve), row_2 in eachrow(required_reserve) if row_1.hour <= row_2.hour]\n",
    "required_energy_reserve = DataFrame(required_energy_reserve)\n",
    "required_energy_reserve = rename(required_energy_reserve, :1 => :i_hour, :2 => :t_hour, :3 => :reserve_up_MW, :4 => :reserve_down_MW,)\n",
    ";"
   ]
  },
  {
   "cell_type": "markdown",
   "metadata": {},
   "source": [
    "### Enriched solution"
   ]
  },
  {
   "cell_type": "code",
   "execution_count": 163,
   "metadata": {},
   "outputs": [
    {
     "name": "stdout",
     "output_type": "stream",
     "text": [
      "Set parameter WLSAccessID\n",
      "Set parameter WLSSecret\n",
      "Set parameter LicenseID to value 2475843\n",
      "Academic license 2475843 - for non-commercial use only - registered to pa___@imperial.ac.uk\n",
      "Set parameter MIPGap to value 0.001\n",
      "Adding ramp constraints...\n"
     ]
    },
    {
     "name": "stdout",
     "output_type": "stream",
     "text": [
      "Adding reserve constraints...\n"
     ]
    },
    {
     "name": "stdout",
     "output_type": "stream",
     "text": [
      "Adding storage...\n"
     ]
    },
    {
     "name": "stdout",
     "output_type": "stream",
     "text": [
      "Set parameter MIPGap to value 0.001\n",
      "Gurobi Optimizer version 11.0.0 build v11.0.0rc2 (linux64 - \"Ubuntu 22.04.3 LTS\")\n",
      "\n",
      "CPU model: 11th Gen Intel(R) Core(TM) i7-11370H @ 3.30GHz, instruction set [SSE2|AVX|AVX2|AVX512]\n",
      "Thread count: 4 physical cores, 8 logical processors, using up to 8 threads\n",
      "\n",
      "Academic license 2475843 - for non-commercial use only - registered to pa___@imperial.ac.uk\n",
      "Optimize a model with 8852 rows, 4776 columns and 22356 nonzeros\n",
      "Model fingerprint: 0x5ca5e576\n",
      "Variable types: 2952 continuous, 1824 integer (1824 binary)\n",
      "Coefficient statistics:\n",
      "  Matrix range     [9e-01, 1e+03]\n",
      "  Objective range  [1e-01, 5e+04]\n",
      "  Bounds range     [0e+00, 0e+00]\n",
      "  RHS range        [1e+00, 4e+03]\n",
      "Presolve removed 5764 rows and 1106 columns\n",
      "Presolve time: 0.03s\n",
      "Presolved: 3088 rows, 3670 columns, 14274 nonzeros\n",
      "Variable types: 1890 continuous, 1780 integer (1780 binary)\n",
      "\n",
      "Root relaxation: objective 6.473629e+05, 1066 iterations, 0.03 seconds (0.03 work units)\n",
      "\n",
      "    Nodes    |    Current Node    |     Objective Bounds      |     Work\n",
      " Expl Unexpl |  Obj  Depth IntInf | Incumbent    BestBd   Gap | It/Node Time\n",
      "\n",
      "     0     0 647362.921    0   30          - 647362.921      -     -    0s\n",
      "H    0     0                    721155.77515 647362.921  10.2%     -    0s\n",
      "H    0     0                    664438.78739 647362.921  2.57%     -    0s\n",
      "     0     0 649941.517    0   29 664438.787 649941.517  2.18%     -    0s\n",
      "     0     0 651204.119    0   32 664438.787 651204.119  1.99%     -    0s\n",
      "H    0     0                    652001.29503 651216.317  0.12%     -    0s\n",
      "H    0     0                    651571.01332 651216.317  0.05%     -    0s\n",
      "     0     0 651216.317    0    9 651571.013 651216.317  0.05%     -    0s\n",
      "\n",
      "Cutting planes:\n",
      "  Gomory: 1\n",
      "  Lift-and-project: 4\n",
      "  Cover: 1\n",
      "  Implied bound: 3\n",
      "  MIR: 27\n",
      "  Flow cover: 41\n",
      "\n",
      "Explored 1 nodes (1461 simplex iterations) in 0.25 seconds (0.21 work units)\n",
      "Thread count was 8 (of 8 available processors)\n",
      "\n",
      "Solution count 3: 651571 664439 721156 \n",
      "\n",
      "Optimal solution found (tolerance 1.00e-03)\n",
      "Best objective 6.515710133188e+05, best bound 6.512163165594e+05, gap 0.0544%\n",
      "\n",
      "User-callback calls 614, time in user-callback 0.00 sec\n"
     ]
    }
   ],
   "source": [
    "solution = solve_unit_commitment(\n",
    "    gen_df_sens,\n",
    "    loads_multi,\n",
    "    gen_variable_multi,\n",
    "    0.001,\n",
    "    ramp_constraints = true,\n",
    "    storage = storage_df,\n",
    "    reserve = required_reserve,\n",
    "    enriched_solution = true);\n"
   ]
  },
  {
   "cell_type": "code",
   "execution_count": 164,
   "metadata": {},
   "outputs": [],
   "source": [
    "\n",
    "#TODO: add curtailment to demand\n",
    "\n",
    "#Supply-demand computation\n",
    "supply = combine(groupby(solution.generation, [:hour, :resource]), :production_MW => sum, renamecols=false)\n",
    "demand = combine(groupby(solution.demand, [:hour, :resource]), :demand_MW => sum, renamecols=false)\n",
    "\n",
    "\n",
    "aux = combine(groupby(solution.generation, [:hour, :resource]), :curtailment_MW => sum, renamecols=false)\n",
    "replace!(aux.curtailment_MW, missing => 0)\n",
    "aux = aux[aux.curtailment_MW.>0,:]\n",
    "rename!(aux, :curtailment_MW => :production_MW)\n",
    "transform!(aux, :resource .=> ByRow(x -> x*\"_curtailment\") => :resource)\n",
    "append!(supply, aux, promote = true)\n",
    "\n",
    "if haskey(solution,:storage)\n",
    "    aux = combine(groupby(solution.storage, [:hour, :resource]), [:discharge_MW => sum, :charge_MW => sum], renamecols=false)\n",
    "    rename!(aux, [:discharge_MW => :production_MW, :charge_MW => :demand_MW])\n",
    "    append!(supply, aux[!,[:hour, :resource, :production_MW]])\n",
    "    append!(demand,  aux[!,[:hour, :resource, :demand_MW]], promote = true)\n",
    "end\n",
    "\n",
    "aux = solution.generation[!,[:r_id, :hour,:resource,:reserve_up_MW, :reserve_down_MW]]\n",
    "replace!([aux.reserve_up_MW, missing => 0, aux.reserve_up_MW, missing => 0])\n",
    "# replace!(aux.reserve_down_MW, missing => 0)\n",
    "reserve = combine(groupby(aux, [:hour, :resource]), [:reserve_up_MW => sum,:reserve_down_MW => sum], renamecols=false)\n",
    "\n",
    "reserve_ = copy(reserve)\n",
    "aux = required_reserve\n",
    "aux.resource.= \"required\"\n",
    "append!(reserve_, aux)\n",
    ";\n",
    "\n",
    "# total = combine(groupby(aux, [:hour]), [:reserve_up_MW => sum,:reserve_down_MW => sum], renamecols=false)\n",
    "# replace!(total.reserve_up_MW, missing => 0)\n",
    "# replace!(total.reserve_up_MW, missing => 0)\n",
    "# total.resource .= \"total\"\n",
    "# append!(reserve,total)\n",
    "\n",
    "# reserve = stack(reserve, [:reserve_up_MW, :reserve_down_MW], variable_name = :reserve_type)\n",
    "\n",
    "# aux = stack(required_reserve, [:reserve_up_MW,:reserve_down_MW],variable_name = :reserve_type)\n",
    "# aux = required_reserve\n",
    "# aux.resource.= \"required\"\n",
    "# append!(reserve, aux)\n"
   ]
  },
  {
   "cell_type": "code",
   "execution_count": 165,
   "metadata": {},
   "outputs": [
    {
     "data": {
      "application/vnd.plotly.v1+json": {
       "config": {
        "editable": false,
        "responsive": true,
        "scrollZoom": true,
        "showLink": false,
        "staticPlot": false
       },
       "data": [
        {
         "line": {
          "color": "grey",
          "shape": "line",
          "width": 1
         },
         "mode": "lines",
         "name": "natural_gas_fired_combined_cycle",
         "stackgroup": "one",
         "type": "scatter",
         "x": [
          2401,
          2402,
          2403,
          2404,
          2405,
          2406,
          2407,
          2408,
          2409,
          2410,
          2411,
          2412,
          2413,
          2414,
          2415,
          2416,
          2417,
          2418,
          2419,
          2420,
          2421,
          2422,
          2423,
          2424
         ],
         "xaxis": "x1",
         "y": [
          691.6461999999999,
          1194.2462,
          1282.4922,
          1280.2922,
          1271.7422,
          1259.5922,
          1244.6922000000002,
          1228.5422,
          1132.16,
          1134.91,
          1129.81,
          1125.91,
          1133.3104616904504,
          1152.76,
          1157.16,
          1148.573491008033,
          1164.96,
          1155.3600000000001,
          1173.6,
          1167.45,
          1167.2,
          1179.6000000000001,
          1193.1000000000001,
          437.926
         ],
         "yaxis": "y1"
        },
        {
         "line": {
          "color": "black",
          "shape": "line",
          "width": 1
         },
         "mode": "lines",
         "name": "natural_gas_fired_combustion_turbine",
         "stackgroup": "one",
         "type": "scatter",
         "x": [
          2401,
          2402,
          2403,
          2404,
          2405,
          2406,
          2407,
          2408,
          2409,
          2410,
          2411,
          2412,
          2413,
          2414,
          2415,
          2416,
          2417,
          2418,
          2419,
          2420,
          2421,
          2422,
          2423,
          2424
         ],
         "xaxis": "x1",
         "y": [
          32.3078,
          32.3078,
          32.3078,
          32.3078,
          32.3078,
          32.3078,
          32.3078,
          32.3078,
          0,
          0,
          0,
          0,
          0,
          0,
          0,
          0,
          0,
          0,
          0,
          0,
          0,
          0,
          0,
          0
         ],
         "yaxis": "y1"
        },
        {
         "line": {
          "color": "skyblue",
          "shape": "line",
          "width": 1
         },
         "mode": "lines",
         "name": "onshore_wind_turbine",
         "stackgroup": "one",
         "type": "scatter",
         "x": [
          2401,
          2402,
          2403,
          2404,
          2405,
          2406,
          2407,
          2408,
          2409,
          2410,
          2411,
          2412,
          2413,
          2414,
          2415,
          2416,
          2417,
          2418,
          2419,
          2420,
          2421,
          2422,
          2423,
          2424
         ],
         "xaxis": "x1",
         "y": [
          163.3088,
          169.79327999999998,
          115.1104,
          100.55296,
          80.57728,
          139.17695999999998,
          74.17984,
          49.373439999999995,
          167.35616,
          131.56096000000014,
          111.1936,
          92.11008,
          52.09344,
          64.69248,
          49.22112,
          65.41055999999999,
          57.18527999999999,
          78.61887999999999,
          52.61568,
          61.42848,
          71.9168,
          96.04864,
          126.46912,
          144.42111999999997
         ],
         "yaxis": "y1"
        },
        {
         "line": {
          "color": "cornflowerblue",
          "shape": "line",
          "width": 1
         },
         "mode": "lines",
         "name": "small_hydroelectric",
         "stackgroup": "one",
         "type": "scatter",
         "x": [
          2401,
          2402,
          2403,
          2404,
          2405,
          2406,
          2407,
          2408,
          2409,
          2410,
          2411,
          2412,
          2413,
          2414,
          2415,
          2416,
          2417,
          2418,
          2419,
          2420,
          2421,
          2422,
          2423,
          2424
         ],
         "xaxis": "x1",
         "y": [
          3.184932,
          3.184932,
          3.184932,
          3.184931999999989,
          3.184932,
          3.184932,
          3.184932,
          3.184932,
          3.184932,
          3.184932,
          3.184932,
          3.184932,
          3.184932,
          3.184932,
          3.184932,
          3.1849319999998897,
          3.184932,
          3.184932,
          3.184932,
          3.1849319999999963,
          3.184932,
          3.184932,
          3.184932,
          3.184932
         ],
         "yaxis": "y1"
        },
        {
         "line": {
          "color": "gold",
          "shape": "line",
          "width": 1
         },
         "mode": "lines",
         "name": "solar_photovoltaic",
         "stackgroup": "one",
         "type": "scatter",
         "x": [
          2401,
          2402,
          2403,
          2404,
          2405,
          2406,
          2407,
          2408,
          2409,
          2410,
          2411,
          2412,
          2413,
          2414,
          2415,
          2416,
          2417,
          2418,
          2419,
          2420,
          2421,
          2422,
          2423,
          2424
         ],
         "xaxis": "x1",
         "y": [
          0,
          0,
          0,
          0,
          0,
          0,
          193.55,
          773.85,
          1671.6,
          2014.95,
          2113.65,
          2148.65,
          2256.1,
          2259.25,
          2184.35,
          1993.25,
          1637.3,
          1132.6,
          166.95,
          0,
          0,
          0,
          0,
          0
         ],
         "yaxis": "y1"
        },
        {
         "line": {
          "color": "#6fc276",
          "shape": "line",
          "width": 1
         },
         "mode": "lines",
         "name": "biomass",
         "stackgroup": "one",
         "type": "scatter",
         "x": [
          2401,
          2402,
          2403,
          2404,
          2405,
          2406,
          2407,
          2408,
          2409,
          2410,
          2411,
          2412,
          2413,
          2414,
          2415,
          2416,
          2417,
          2418,
          2419,
          2420,
          2421,
          2422,
          2423,
          2424
         ],
         "xaxis": "x1",
         "y": [
          0,
          21.4,
          21.4,
          21.4,
          21.4,
          21.4,
          21.4,
          21.4,
          21.4,
          21.4,
          21.4,
          21.4,
          21.4,
          21.4,
          21.4,
          21.4,
          21.4,
          21.4,
          21.4,
          21.4,
          21.4,
          21.4,
          21.4,
          0
         ],
         "yaxis": "y1"
        },
        {
         "line": {
          "color": "darkblue",
          "shape": "line",
          "width": 1
         },
         "mode": "lines",
         "name": "hydroelectric_pumped_storage",
         "stackgroup": "one",
         "type": "scatter",
         "x": [
          2401,
          2402,
          2403,
          2404,
          2405,
          2406,
          2407,
          2408,
          2409,
          2410,
          2411,
          2412,
          2413,
          2414,
          2415,
          2416,
          2417,
          2418,
          2419,
          2420,
          2421,
          2422,
          2423,
          2424
         ],
         "xaxis": "x1",
         "y": [
          42,
          42,
          42,
          42,
          42,
          42,
          42,
          42,
          42,
          42,
          42,
          42,
          42,
          42,
          42,
          42,
          42,
          42,
          42,
          42,
          42,
          42,
          42,
          42
         ],
         "yaxis": "y1"
        },
        {
         "line": {
          "color": "red",
          "shape": "line",
          "width": 1
         },
         "mode": "lines",
         "name": "small_hydroelectric_curtailment",
         "stackgroup": "one",
         "type": "scatter",
         "x": [
          2404,
          2416,
          2420
         ],
         "xaxis": "x1",
         "y": [
          1.0658141036401503e-14,
          1.1013412404281553e-13,
          3.552713678800501e-15
         ],
         "yaxis": "y1"
        },
        {
         "line": {
          "color": "red",
          "shape": "line",
          "width": 1
         },
         "mode": "lines",
         "name": "solar_photovoltaic_curtailment",
         "stackgroup": "one",
         "type": "scatter",
         "x": [
          2409
         ],
         "xaxis": "x1",
         "y": [
          2.2737367544323206e-13
         ],
         "yaxis": "y1"
        },
        {
         "line": {
          "color": "red",
          "shape": "line",
          "width": 1
         },
         "mode": "lines",
         "name": "onshore_wind_turbine_curtailment",
         "stackgroup": "one",
         "type": "scatter",
         "x": [
          2418
         ],
         "xaxis": "x1",
         "y": [
          1.4210854715202004e-14
         ],
         "yaxis": "y1"
        },
        {
         "line": {
          "color": "green",
          "shape": "line",
          "width": 1
         },
         "mode": "lines",
         "name": "battery",
         "stackgroup": "one",
         "type": "scatter",
         "x": [
          2401,
          2402,
          2403,
          2404,
          2405,
          2406,
          2407,
          2408,
          2409,
          2410,
          2411,
          2412,
          2413,
          2414,
          2415,
          2416,
          2417,
          2418,
          2419,
          2420,
          2421,
          2422,
          2423,
          2424
         ],
         "xaxis": "x1",
         "y": [
          682.552268,
          90.0677879999999,
          21.50466799999981,
          82.26210799999984,
          281.78778799999986,
          478.3381079999999,
          662.6852279999996,
          446.3416280000001,
          0,
          0,
          0,
          0,
          0,
          0,
          0,
          0,
          0,
          0,
          918.249388,
          1205.5365879999995,
          1200.2982679999998,
          915.7664279999999,
          601.8459479999999,
          1132.467948
         ],
         "yaxis": "y1"
        },
        {
         "line": {
          "color": "purple",
          "shape": "line",
          "width": 1
         },
         "mode": "lines",
         "name": "total",
         "stackgroup": "one",
         "type": "scatter",
         "x": [
          2401,
          2402,
          2403,
          2404,
          2405,
          2406,
          2407,
          2408,
          2409,
          2410,
          2411,
          2412,
          2413,
          2414,
          2415,
          2416,
          2417,
          2418,
          2419,
          2420,
          2421,
          2422,
          2423,
          2424
         ],
         "xaxis": "x2",
         "y": [
          1615,
          1553,
          1518,
          1562,
          1733,
          1976,
          2274,
          2597,
          2838,
          3023,
          3125,
          2963,
          2743,
          2666,
          2578,
          2482,
          2422,
          2374,
          2378,
          2501,
          2506,
          2258,
          1988,
          1760
         ],
         "yaxis": "y2"
        },
        {
         "line": {
          "color": "green",
          "shape": "line",
          "width": 1
         },
         "mode": "lines",
         "name": "battery",
         "stackgroup": "one",
         "type": "scatter",
         "x": [
          2401,
          2402,
          2403,
          2404,
          2405,
          2406,
          2407,
          2408,
          2409,
          2410,
          2411,
          2412,
          2413,
          2414,
          2415,
          2416,
          2417,
          2418,
          2419,
          2420,
          2421,
          2422,
          2423,
          2424
         ],
         "xaxis": "x2",
         "y": [
          0,
          0,
          0,
          0,
          0,
          0,
          0,
          0,
          199.70109200000007,
          325.0058920000002,
          296.23853200000036,
          470.2550120000003,
          765.0888336904507,
          877.2874120000002,
          879.3160520000001,
          791.8189830080329,
          504.0302119999999,
          59.16381199999978,
          0,
          0,
          0,
          0,
          0,
          0
         ],
         "yaxis": "y2"
        }
       ],
       "frames": [],
       "layout": {
        "annotations": [
         {
          "font": {
           "size": 16
          },
          "showarrow": false,
          "text": "Supply",
          "x": 0.225,
          "xanchor": "center",
          "xref": "paper",
          "y": 1,
          "yanchor": "bottom",
          "yref": "paper"
         },
         {
          "font": {
           "size": 16
          },
          "showarrow": false,
          "text": "Demand",
          "x": 0.775,
          "xanchor": "center",
          "xref": "paper",
          "y": 1,
          "yanchor": "bottom",
          "yref": "paper"
         }
        ],
        "margin": {
         "b": 50,
         "l": 50,
         "r": 50,
         "t": 60
        },
        "template": {
         "data": {
          "bar": [
           {
            "error_x": {
             "color": "#2a3f5f"
            },
            "error_y": {
             "color": "#2a3f5f"
            },
            "marker": {
             "line": {
              "color": "#E5ECF6",
              "width": 0.5
             }
            },
            "type": "bar"
           }
          ],
          "barpolar": [
           {
            "marker": {
             "line": {
              "color": "#E5ECF6",
              "width": 0.5
             }
            },
            "type": "barpolar"
           }
          ],
          "carpet": [
           {
            "aaxis": {
             "endlinecolor": "#2a3f5f",
             "gridcolor": "white",
             "linecolor": "white",
             "minorgridcolor": "white",
             "startlinecolor": "#2a3f5f"
            },
            "baxis": {
             "endlinecolor": "#2a3f5f",
             "gridcolor": "white",
             "linecolor": "white",
             "minorgridcolor": "white",
             "startlinecolor": "#2a3f5f"
            },
            "type": "carpet"
           }
          ],
          "choropleth": [
           {
            "colorbar": {
             "outlinewidth": 0,
             "ticks": ""
            },
            "type": "choropleth"
           }
          ],
          "contour": [
           {
            "colorbar": {
             "outlinewidth": 0,
             "ticks": ""
            },
            "colorscale": [
             [
              0,
              "#0d0887"
             ],
             [
              0.1111111111111111,
              "#46039f"
             ],
             [
              0.2222222222222222,
              "#7201a8"
             ],
             [
              0.3333333333333333,
              "#9c179e"
             ],
             [
              0.4444444444444444,
              "#bd3786"
             ],
             [
              0.5555555555555556,
              "#d8576b"
             ],
             [
              0.6666666666666666,
              "#ed7953"
             ],
             [
              0.7777777777777778,
              "#fb9f3a"
             ],
             [
              0.8888888888888888,
              "#fdca26"
             ],
             [
              1,
              "#f0f921"
             ]
            ],
            "type": "contour"
           }
          ],
          "contourcarpet": [
           {
            "colorbar": {
             "outlinewidth": 0,
             "ticks": ""
            },
            "type": "contourcarpet"
           }
          ],
          "heatmap": [
           {
            "colorbar": {
             "outlinewidth": 0,
             "ticks": ""
            },
            "colorscale": [
             [
              0,
              "#0d0887"
             ],
             [
              0.1111111111111111,
              "#46039f"
             ],
             [
              0.2222222222222222,
              "#7201a8"
             ],
             [
              0.3333333333333333,
              "#9c179e"
             ],
             [
              0.4444444444444444,
              "#bd3786"
             ],
             [
              0.5555555555555556,
              "#d8576b"
             ],
             [
              0.6666666666666666,
              "#ed7953"
             ],
             [
              0.7777777777777778,
              "#fb9f3a"
             ],
             [
              0.8888888888888888,
              "#fdca26"
             ],
             [
              1,
              "#f0f921"
             ]
            ],
            "type": "heatmap"
           }
          ],
          "heatmapgl": [
           {
            "colorbar": {
             "outlinewidth": 0,
             "ticks": ""
            },
            "colorscale": [
             [
              0,
              "#0d0887"
             ],
             [
              0.1111111111111111,
              "#46039f"
             ],
             [
              0.2222222222222222,
              "#7201a8"
             ],
             [
              0.3333333333333333,
              "#9c179e"
             ],
             [
              0.4444444444444444,
              "#bd3786"
             ],
             [
              0.5555555555555556,
              "#d8576b"
             ],
             [
              0.6666666666666666,
              "#ed7953"
             ],
             [
              0.7777777777777778,
              "#fb9f3a"
             ],
             [
              0.8888888888888888,
              "#fdca26"
             ],
             [
              1,
              "#f0f921"
             ]
            ],
            "type": "heatmapgl"
           }
          ],
          "histogram": [
           {
            "marker": {
             "colorbar": {
              "outlinewidth": 0,
              "ticks": ""
             }
            },
            "type": "histogram"
           }
          ],
          "histogram2d": [
           {
            "colorbar": {
             "outlinewidth": 0,
             "ticks": ""
            },
            "colorscale": [
             [
              0,
              "#0d0887"
             ],
             [
              0.1111111111111111,
              "#46039f"
             ],
             [
              0.2222222222222222,
              "#7201a8"
             ],
             [
              0.3333333333333333,
              "#9c179e"
             ],
             [
              0.4444444444444444,
              "#bd3786"
             ],
             [
              0.5555555555555556,
              "#d8576b"
             ],
             [
              0.6666666666666666,
              "#ed7953"
             ],
             [
              0.7777777777777778,
              "#fb9f3a"
             ],
             [
              0.8888888888888888,
              "#fdca26"
             ],
             [
              1,
              "#f0f921"
             ]
            ],
            "type": "histogram2d"
           }
          ],
          "histogram2dcontour": [
           {
            "colorbar": {
             "outlinewidth": 0,
             "ticks": ""
            },
            "colorscale": [
             [
              0,
              "#0d0887"
             ],
             [
              0.1111111111111111,
              "#46039f"
             ],
             [
              0.2222222222222222,
              "#7201a8"
             ],
             [
              0.3333333333333333,
              "#9c179e"
             ],
             [
              0.4444444444444444,
              "#bd3786"
             ],
             [
              0.5555555555555556,
              "#d8576b"
             ],
             [
              0.6666666666666666,
              "#ed7953"
             ],
             [
              0.7777777777777778,
              "#fb9f3a"
             ],
             [
              0.8888888888888888,
              "#fdca26"
             ],
             [
              1,
              "#f0f921"
             ]
            ],
            "type": "histogram2dcontour"
           }
          ],
          "mesh3d": [
           {
            "colorbar": {
             "outlinewidth": 0,
             "ticks": ""
            },
            "type": "mesh3d"
           }
          ],
          "parcoords": [
           {
            "line": {
             "colorbar": {
              "outlinewidth": 0,
              "ticks": ""
             }
            },
            "type": "parcoords"
           }
          ],
          "pie": [
           {
            "automargin": true,
            "type": "pie"
           }
          ],
          "scatter": [
           {
            "marker": {
             "colorbar": {
              "outlinewidth": 0,
              "ticks": ""
             }
            },
            "type": "scatter"
           }
          ],
          "scatter3d": [
           {
            "line": {
             "colorbar": {
              "outlinewidth": 0,
              "ticks": ""
             }
            },
            "marker": {
             "colorbar": {
              "outlinewidth": 0,
              "ticks": ""
             }
            },
            "type": "scatter3d"
           }
          ],
          "scattercarpet": [
           {
            "marker": {
             "colorbar": {
              "outlinewidth": 0,
              "ticks": ""
             }
            },
            "type": "scattercarpet"
           }
          ],
          "scattergeo": [
           {
            "marker": {
             "colorbar": {
              "outlinewidth": 0,
              "ticks": ""
             }
            },
            "type": "scattergeo"
           }
          ],
          "scattergl": [
           {
            "marker": {
             "colorbar": {
              "outlinewidth": 0,
              "ticks": ""
             }
            },
            "type": "scattergl"
           }
          ],
          "scattermapbox": [
           {
            "marker": {
             "colorbar": {
              "outlinewidth": 0,
              "ticks": ""
             }
            },
            "type": "scattermapbox"
           }
          ],
          "scatterpolar": [
           {
            "marker": {
             "colorbar": {
              "outlinewidth": 0,
              "ticks": ""
             }
            },
            "type": "scatterpolar"
           }
          ],
          "scatterpolargl": [
           {
            "marker": {
             "colorbar": {
              "outlinewidth": 0,
              "ticks": ""
             }
            },
            "type": "scatterpolargl"
           }
          ],
          "scatterternary": [
           {
            "marker": {
             "colorbar": {
              "outlinewidth": 0,
              "ticks": ""
             }
            },
            "type": "scatterternary"
           }
          ],
          "surface": [
           {
            "colorbar": {
             "outlinewidth": 0,
             "ticks": ""
            },
            "colorscale": [
             [
              0,
              "#0d0887"
             ],
             [
              0.1111111111111111,
              "#46039f"
             ],
             [
              0.2222222222222222,
              "#7201a8"
             ],
             [
              0.3333333333333333,
              "#9c179e"
             ],
             [
              0.4444444444444444,
              "#bd3786"
             ],
             [
              0.5555555555555556,
              "#d8576b"
             ],
             [
              0.6666666666666666,
              "#ed7953"
             ],
             [
              0.7777777777777778,
              "#fb9f3a"
             ],
             [
              0.8888888888888888,
              "#fdca26"
             ],
             [
              1,
              "#f0f921"
             ]
            ],
            "type": "surface"
           }
          ],
          "table": [
           {
            "cells": {
             "fill": {
              "color": "#EBF0F8"
             },
             "line": {
              "color": "white"
             }
            },
            "header": {
             "fill": {
              "color": "#C8D4E3"
             },
             "line": {
              "color": "white"
             }
            },
            "type": "table"
           }
          ]
         },
         "layout": {
          "annotationdefaults": {
           "arrowcolor": "#2a3f5f",
           "arrowhead": 0,
           "arrowwidth": 1
          },
          "autotypenumbers": "strict",
          "coloraxis": {
           "colorbar": {
            "outlinewidth": 0,
            "ticks": ""
           }
          },
          "colorscale": {
           "diverging": [
            [
             0,
             "#8e0152"
            ],
            [
             0.1,
             "#c51b7d"
            ],
            [
             0.2,
             "#de77ae"
            ],
            [
             0.3,
             "#f1b6da"
            ],
            [
             0.4,
             "#fde0ef"
            ],
            [
             0.5,
             "#f7f7f7"
            ],
            [
             0.6,
             "#e6f5d0"
            ],
            [
             0.7,
             "#b8e186"
            ],
            [
             0.8,
             "#7fbc41"
            ],
            [
             0.9,
             "#4d9221"
            ],
            [
             1,
             "#276419"
            ]
           ],
           "sequential": [
            [
             0,
             "#0d0887"
            ],
            [
             0.1111111111111111,
             "#46039f"
            ],
            [
             0.2222222222222222,
             "#7201a8"
            ],
            [
             0.3333333333333333,
             "#9c179e"
            ],
            [
             0.4444444444444444,
             "#bd3786"
            ],
            [
             0.5555555555555556,
             "#d8576b"
            ],
            [
             0.6666666666666666,
             "#ed7953"
            ],
            [
             0.7777777777777778,
             "#fb9f3a"
            ],
            [
             0.8888888888888888,
             "#fdca26"
            ],
            [
             1,
             "#f0f921"
            ]
           ],
           "sequentialminus": [
            [
             0,
             "#0d0887"
            ],
            [
             0.1111111111111111,
             "#46039f"
            ],
            [
             0.2222222222222222,
             "#7201a8"
            ],
            [
             0.3333333333333333,
             "#9c179e"
            ],
            [
             0.4444444444444444,
             "#bd3786"
            ],
            [
             0.5555555555555556,
             "#d8576b"
            ],
            [
             0.6666666666666666,
             "#ed7953"
            ],
            [
             0.7777777777777778,
             "#fb9f3a"
            ],
            [
             0.8888888888888888,
             "#fdca26"
            ],
            [
             1,
             "#f0f921"
            ]
           ]
          },
          "colorway": [
           "#636efa",
           "#EF553B",
           "#00cc96",
           "#ab63fa",
           "#FFA15A",
           "#19d3f3",
           "#FF6692",
           "#B6E880",
           "#FF97FF",
           "#FECB52"
          ],
          "font": {
           "color": "#2a3f5f"
          },
          "geo": {
           "bgcolor": "white",
           "lakecolor": "white",
           "landcolor": "#E5ECF6",
           "showlakes": true,
           "showland": true,
           "subunitcolor": "white"
          },
          "hoverlabel": {
           "align": "left"
          },
          "hovermode": "closest",
          "mapbox": {
           "style": "light"
          },
          "paper_bgcolor": "white",
          "plot_bgcolor": "#E5ECF6",
          "polar": {
           "angularaxis": {
            "gridcolor": "white",
            "linecolor": "white",
            "ticks": ""
           },
           "bgcolor": "#E5ECF6",
           "radialaxis": {
            "gridcolor": "white",
            "linecolor": "white",
            "ticks": ""
           }
          },
          "scene": {
           "xaxis": {
            "backgroundcolor": "#E5ECF6",
            "gridcolor": "white",
            "gridwidth": 2,
            "linecolor": "white",
            "showbackground": true,
            "ticks": "",
            "zerolinecolor": "white"
           },
           "yaxis": {
            "backgroundcolor": "#E5ECF6",
            "gridcolor": "white",
            "gridwidth": 2,
            "linecolor": "white",
            "showbackground": true,
            "ticks": "",
            "zerolinecolor": "white"
           },
           "zaxis": {
            "backgroundcolor": "#E5ECF6",
            "gridcolor": "white",
            "gridwidth": 2,
            "linecolor": "white",
            "showbackground": true,
            "ticks": "",
            "zerolinecolor": "white"
           }
          },
          "shapedefaults": {
           "line": {
            "color": "#2a3f5f"
           }
          },
          "ternary": {
           "aaxis": {
            "gridcolor": "white",
            "linecolor": "white",
            "ticks": ""
           },
           "baxis": {
            "gridcolor": "white",
            "linecolor": "white",
            "ticks": ""
           },
           "bgcolor": "#E5ECF6",
           "caxis": {
            "gridcolor": "white",
            "linecolor": "white",
            "ticks": ""
           }
          },
          "title": {
           "x": 0.05
          },
          "xaxis": {
           "automargin": true,
           "gridcolor": "white",
           "linecolor": "white",
           "ticks": "",
           "title": {
            "standoff": 15
           },
           "zerolinecolor": "white",
           "zerolinewidth": 2
          },
          "yaxis": {
           "automargin": true,
           "gridcolor": "white",
           "linecolor": "white",
           "ticks": "",
           "title": {
            "standoff": 15
           },
           "zerolinecolor": "white",
           "zerolinewidth": 2
          }
         }
        },
        "xaxis1": {
         "anchor": "y1",
         "domain": [
          0,
          0.45
         ],
         "title": {
          "text": "hour"
         }
        },
        "xaxis2": {
         "anchor": "y2",
         "domain": [
          0.55,
          1
         ],
         "title": {
          "text": "hour"
         }
        },
        "yaxis1": {
         "anchor": "x1",
         "domain": [
          0,
          1
         ],
         "title": {
          "text": "production MW"
         }
        },
        "yaxis2": {
         "anchor": "x2",
         "domain": [
          0,
          1
         ],
         "title": {
          "text": "demand MW"
         }
        }
       }
      },
      "image/png": "[encoded data removed]",
      "image/svg+xml": [
       "<svg class=\"main-svg\" xmlns=\"http://www.w3.org/2000/svg\" xmlns:xlink=\"http://www.w3.org/1999/xlink\" width=\"700\" height=\"500\" style=\"\" viewBox=\"0 0 700 500\"><rect x=\"0\" y=\"0\" width=\"700\" height=\"500\" style=\"fill: rgb(255, 255, 255); fill-opacity: 1;\"/><defs id=\"defs-063809\"><g class=\"clips\"><clipPath id=\"clip063809xyplot\" class=\"plotclip\"><rect width=\"152.55\" height=\"387\"/></clipPath><clipPath id=\"clip063809x2y2plot\" class=\"plotclip\"><rect width=\"152.54999999999998\" height=\"387\"/></clipPath><clipPath class=\"axesclip\" id=\"clip063809x\"><rect x=\"68\" y=\"0\" width=\"152.55\" height=\"500\"/></clipPath><clipPath class=\"axesclip\" id=\"clip063809y\"><rect x=\"0\" y=\"60\" width=\"700\" height=\"387\"/></clipPath><clipPath class=\"axesclip\" id=\"clip063809xy\"><rect x=\"68\" y=\"60\" width=\"152.55\" height=\"387\"/></clipPath><clipPath class=\"axesclip\" id=\"clip063809y2\"><rect x=\"0\" y=\"60\" width=\"700\" height=\"387\"/></clipPath><clipPath class=\"axesclip\" id=\"clip063809xy2\"><rect x=\"68\" y=\"60\" width=\"152.55\" height=\"387\"/></clipPath><clipPath class=\"axesclip\" id=\"clip063809x2\"><rect x=\"254.45000000000002\" y=\"0\" width=\"152.54999999999998\" height=\"500\"/></clipPath><clipPath class=\"axesclip\" id=\"clip063809x2y\"><rect x=\"254.45000000000002\" y=\"60\" width=\"152.54999999999998\" height=\"387\"/></clipPath><clipPath class=\"axesclip\" id=\"clip063809x2y2\"><rect x=\"254.45000000000002\" y=\"60\" width=\"152.54999999999998\" height=\"387\"/></clipPath></g><g class=\"gradients\"/></defs><g class=\"bglayer\"><rect class=\"bg\" x=\"68\" y=\"60\" width=\"152.55\" height=\"387\" style=\"fill: rgb(229, 236, 246); fill-opacity: 1; stroke-width: 0;\"/><rect class=\"bg\" x=\"254.45000000000002\" y=\"60\" width=\"152.54999999999998\" height=\"387\" style=\"fill: rgb(229, 236, 246); fill-opacity: 1; stroke-width: 0;\"/></g><g class=\"layer-below\"><g class=\"imagelayer\"/><g class=\"shapelayer\"/></g><g class=\"cartesianlayer\"><g class=\"subplot xy\"><g class=\"layer-subplot\"><g class=\"shapelayer\"/><g class=\"imagelayer\"/></g><g class=\"gridlayer\"><g class=\"x\"><path class=\"xgrid crisp\" transform=\"translate(94.53,0)\" d=\"M0,60v387\" style=\"stroke: rgb(255, 255, 255); stroke-opacity: 1; stroke-width: 1px;\"/><path class=\"xgrid crisp\" transform=\"translate(127.69,0)\" d=\"M0,60v387\" style=\"stroke: rgb(255, 255, 255); stroke-opacity: 1; stroke-width: 1px;\"/><path class=\"xgrid crisp\" transform=\"translate(160.86,0)\" d=\"M0,60v387\" style=\"stroke: rgb(255, 255, 255); stroke-opacity: 1; stroke-width: 1px;\"/><path class=\"xgrid crisp\" transform=\"translate(194.01999999999998,0)\" d=\"M0,60v387\" style=\"stroke: rgb(255, 255, 255); stroke-opacity: 1; stroke-width: 1px;\"/></g><g class=\"y\"><path class=\"ygrid crisp\" transform=\"translate(0,395.12)\" d=\"M68,0h152.55\" style=\"stroke: rgb(255, 255, 255); stroke-opacity: 1; stroke-width: 1px;\"/><path class=\"ygrid crisp\" transform=\"translate(0,343.24)\" d=\"M68,0h152.55\" style=\"stroke: rgb(255, 255, 255); stroke-opacity: 1; stroke-width: 1px;\"/><path class=\"ygrid crisp\" transform=\"translate(0,291.36)\" d=\"M68,0h152.55\" style=\"stroke: rgb(255, 255, 255); stroke-opacity: 1; stroke-width: 1px;\"/><path class=\"ygrid crisp\" transform=\"translate(0,239.48)\" d=\"M68,0h152.55\" style=\"stroke: rgb(255, 255, 255); stroke-opacity: 1; stroke-width: 1px;\"/><path class=\"ygrid crisp\" transform=\"translate(0,187.6)\" d=\"M68,0h152.55\" style=\"stroke: rgb(255, 255, 255); stroke-opacity: 1; stroke-width: 1px;\"/><path class=\"ygrid crisp\" transform=\"translate(0,135.72)\" d=\"M68,0h152.55\" style=\"stroke: rgb(255, 255, 255); stroke-opacity: 1; stroke-width: 1px;\"/><path class=\"ygrid crisp\" transform=\"translate(0,83.84)\" d=\"M68,0h152.55\" style=\"stroke: rgb(255, 255, 255); stroke-opacity: 1; stroke-width: 1px;\"/></g></g><g class=\"zerolinelayer\"><path class=\"yzl zl crisp\" transform=\"translate(0,447)\" d=\"M68,0h152.55\" style=\"stroke: rgb(255, 255, 255); stroke-opacity: 1; stroke-width: 2px;\"/></g><path class=\"xlines-below\"/><path class=\"ylines-below\"/><g class=\"overlines-below\"/><g class=\"xaxislayer-below\"/><g class=\"yaxislayer-below\"/><g class=\"overaxes-below\"/><g class=\"plot\" transform=\"translate(68,60)\" clip-path=\"url('#clip063809xyplot')\"><g class=\"scatterlayer mlayer\"><g class=\"trace scatter trace8e0e06\" style=\"stroke-miterlimit: 2;\"><g class=\"fills\"><g><path class=\"js-fill\" d=\"M152.55,387L0,387L0,315.24L6.63,263.09L13.27,253.93L26.53,255.04L33.16,256.31L46.43,259.53L53.06,269.53L59.69,269.24L66.33,269.77L72.96,270.18L79.59,269.41L86.22,267.39L92.86,266.93L99.49,267.82L106.12,266.12L112.75,267.12L119.39,265.23L132.65,265.89L139.28,264.61L145.92,263.2L152.55,341.56\" style=\"fill: rgb(128, 128, 128); fill-opacity: 0.5; stroke-width: 0;\"/></g><g><path class=\"js-fill\" d=\"M0,311.88L6.63,259.73L13.27,250.58L26.53,251.69L33.16,252.95L46.43,256.17L53.06,269.53L59.69,269.24L66.33,269.77L72.96,270.18L79.59,269.41L86.22,267.39L92.86,266.93L99.49,267.82L106.12,266.12L112.75,267.12L119.39,265.23L132.65,265.89L139.28,264.61L145.92,263.2L152.55,341.56L152.55,341.56L145.92,263.2L139.28,264.61L132.65,265.89L119.39,265.23L112.75,267.12L106.12,266.12L99.49,267.82L92.86,266.93L86.22,267.39L79.59,269.41L72.96,270.18L66.33,269.77L59.69,269.24L53.06,269.53L46.43,259.53L33.16,256.31L26.53,255.04L13.27,253.93L6.63,263.09L0,315.24Z\" style=\"fill: rgb(0, 0, 0); fill-opacity: 0.5; stroke-width: 0;\"/></g></g><g class=\"errorbars\"/><g class=\"lines\"><path class=\"js-line\" d=\"M0,315.24L6.63,263.09L13.27,253.93L26.53,255.04L33.16,256.31L46.43,259.53L53.06,269.53L59.69,269.24L66.33,269.77L72.96,270.18L79.59,269.41L86.22,267.39L92.86,266.93L99.49,267.82L106.12,266.12L112.75,267.12L119.39,265.23L132.65,265.89L139.28,264.61L145.92,263.2L152.55,341.56\" style=\"vector-effect: non-scaling-stroke; fill: none; stroke: rgb(128, 128, 128); stroke-opacity: 1; stroke-width: 1px; opacity: 1;\"/></g><g class=\"points\"/><g class=\"text\"/></g><g class=\"trace scatter trace2a4a0c\" style=\"stroke-miterlimit: 2;\"><g class=\"fills\"><g><path class=\"js-fill\" d=\"M0,294.94L6.63,242.12L13.27,238.63L19.9,240.37L26.53,243.33L33.16,238.51L39.8,246.8L46.43,251.05L53.06,252.16L66.33,258.23L72.96,260.62L79.59,264L86.22,260.68L92.86,261.83L99.49,261.04L112.75,258.96L119.39,259.77L126.02,259.49L132.65,258.43L145.92,250.08L152.55,326.58L152.55,341.56L145.92,263.2L139.28,264.61L132.65,265.89L119.39,265.23L112.75,267.12L106.12,266.12L99.49,267.82L92.86,266.93L86.22,267.39L79.59,269.41L72.96,270.18L66.33,269.77L59.69,269.24L53.06,269.53L46.43,256.17L33.16,252.95L26.53,251.69L13.27,250.58L6.63,259.73L0,311.88Z\" style=\"fill: rgb(135, 206, 235); fill-opacity: 0.5; stroke-width: 0;\"/></g></g><g class=\"errorbars\"/><g class=\"lines\"><path class=\"js-line\" d=\"M0,311.88L6.63,259.73L13.27,250.58L26.53,251.69L33.16,252.95L46.43,256.17L53.06,269.53L59.69,269.24L66.33,269.77L72.96,270.18L79.59,269.41L86.22,267.39L92.86,266.93L99.49,267.82L106.12,266.12L112.75,267.12L119.39,265.23L132.65,265.89L139.28,264.61L145.92,263.2L152.55,341.56\" style=\"vector-effect: non-scaling-stroke; fill: none; stroke: rgb(0, 0, 0); stroke-opacity: 1; stroke-width: 1px; opacity: 1;\"/></g><g class=\"points\"/><g class=\"text\"/></g><g class=\"trace scatter tracef58f2d\" style=\"stroke-miterlimit: 2;\"><g class=\"fills\"><g><path class=\"js-fill\" d=\"M0,294.61L6.63,241.79L13.27,238.3L19.9,240.04L26.53,243L33.16,238.18L39.8,246.47L46.43,250.72L53.06,251.83L66.33,257.9L72.96,260.29L79.59,263.67L86.22,260.35L92.86,261.5L99.49,260.71L112.75,258.63L119.39,259.44L126.02,259.16L132.65,258.1L145.92,249.75L152.55,326.25L152.55,326.58L145.92,250.08L132.65,258.43L126.02,259.49L119.39,259.77L112.75,258.96L99.49,261.04L92.86,261.83L86.22,260.68L79.59,264L72.96,260.62L66.33,258.23L53.06,252.16L46.43,251.05L39.8,246.8L33.16,238.51L26.53,243.33L19.9,240.37L13.27,238.63L6.63,242.12L0,294.94Z\" style=\"fill: rgb(100, 149, 237); fill-opacity: 0.5; stroke-width: 0;\"/></g></g><g class=\"errorbars\"/><g class=\"lines\"><path class=\"js-line\" d=\"M0,294.94L6.63,242.12L13.27,238.63L19.9,240.37L26.53,243.33L33.16,238.51L39.8,246.8L46.43,251.05L53.06,252.16L66.33,258.23L72.96,260.62L79.59,264L86.22,260.68L92.86,261.83L99.49,261.04L112.75,258.96L119.39,259.77L126.02,259.49L132.65,258.43L145.92,250.08L152.55,326.58\" style=\"vector-effect: non-scaling-stroke; fill: none; stroke: rgb(135, 206, 235); stroke-opacity: 1; stroke-width: 1px; opacity: 1;\"/></g><g class=\"points\"/><g class=\"text\"/></g><g class=\"trace scatter trace9cef17\" style=\"stroke-miterlimit: 2;\"><g class=\"fills\"><g><path class=\"js-fill\" d=\"M0,294.61L6.63,241.79L13.27,238.3L19.9,240.04L26.53,243L33.16,238.18L39.8,226.39L46.43,170.43L53.06,78.39L59.69,46.19L66.33,38.59L72.96,37.35L79.59,29.58L86.22,25.93L92.86,34.85L99.49,53.89L106.12,89.97L112.75,141.11L119.39,242.12L126.02,259.16L132.65,258.1L145.92,249.75L152.55,326.25L152.55,326.25L145.92,249.75L132.65,258.1L126.02,259.16L119.39,259.44L112.75,258.63L99.49,260.71L92.86,261.5L86.22,260.35L79.59,263.67L72.96,260.29L66.33,257.9L53.06,251.83L46.43,250.72L39.8,246.47L33.16,238.18L26.53,243L19.9,240.04L13.27,238.3L6.63,241.79L0,294.61Z\" style=\"fill: rgb(255, 215, 0); fill-opacity: 0.5; stroke-width: 0;\"/></g></g><g class=\"errorbars\"/><g class=\"lines\"><path class=\"js-line\" d=\"M0,294.61L6.63,241.79L13.27,238.3L19.9,240.04L26.53,243L33.16,238.18L39.8,246.47L46.43,250.72L53.06,251.83L66.33,257.9L72.96,260.29L79.59,263.67L86.22,260.35L92.86,261.5L99.49,260.71L112.75,258.63L119.39,259.44L126.02,259.16L132.65,258.1L145.92,249.75L152.55,326.25\" style=\"vector-effect: non-scaling-stroke; fill: none; stroke: rgb(100, 149, 237); stroke-opacity: 1; stroke-width: 1px; opacity: 1;\"/></g><g class=\"points\"/><g class=\"text\"/></g><g class=\"trace scatter tracefedc82\" style=\"stroke-miterlimit: 2;\"><g class=\"fills\"><g><path class=\"js-fill\" d=\"M0,294.61L6.63,239.56L13.27,236.08L19.9,237.82L26.53,240.78L33.16,235.96L39.8,224.17L46.43,168.21L53.06,76.17L59.69,43.97L66.33,36.37L72.96,35.12L79.59,27.36L86.22,23.71L92.86,32.63L99.49,51.67L106.12,87.75L112.75,138.89L119.39,239.89L126.02,256.94L132.65,255.88L145.92,247.53L152.55,326.25L152.55,326.25L145.92,249.75L132.65,258.1L126.02,259.16L119.39,242.12L112.75,141.11L106.12,89.97L99.49,53.89L92.86,34.85L86.22,25.93L79.59,29.58L72.96,37.35L66.33,38.59L59.69,46.19L53.06,78.39L46.43,170.43L39.8,226.39L33.16,238.18L26.53,243L19.9,240.04L13.27,238.3L6.63,241.79L0,294.61Z\" style=\"fill: rgb(111, 194, 118); fill-opacity: 0.5; stroke-width: 0;\"/></g></g><g class=\"errorbars\"/><g class=\"lines\"><path class=\"js-line\" d=\"M0,294.61L6.63,241.79L13.27,238.3L19.9,240.04L26.53,243L33.16,238.18L39.8,226.39L46.43,170.43L53.06,78.39L59.69,46.19L66.33,38.59L72.96,37.35L79.59,29.58L86.22,25.93L92.86,34.85L99.49,53.89L106.12,89.97L112.75,141.11L119.39,242.12L126.02,259.16L132.65,258.1L145.92,249.75L152.55,326.25\" style=\"vector-effect: non-scaling-stroke; fill: none; stroke: rgb(255, 215, 0); stroke-opacity: 1; stroke-width: 1px; opacity: 1;\"/></g><g class=\"points\"/><g class=\"text\"/></g><g class=\"trace scatter trace395214\" style=\"stroke-miterlimit: 2;\"><g class=\"fills\"><g><path class=\"js-fill\" d=\"M0,290.25L6.63,235.21L13.27,231.72L19.9,233.46L26.53,236.42L33.16,231.6L39.8,219.81L46.43,163.85L53.06,71.81L59.69,39.61L66.33,32.01L72.96,30.77L79.59,23L86.22,19.35L92.86,28.27L99.49,47.31L106.12,83.4L112.75,134.54L119.39,235.54L126.02,252.58L132.65,251.52L145.92,243.17L152.55,321.89L152.55,326.25L145.92,247.53L132.65,255.88L126.02,256.94L119.39,239.89L112.75,138.89L106.12,87.75L99.49,51.67L92.86,32.63L86.22,23.71L79.59,27.36L72.96,35.12L66.33,36.37L59.69,43.97L53.06,76.17L46.43,168.21L39.8,224.17L33.16,235.96L26.53,240.78L19.9,237.82L13.27,236.08L6.63,239.56L0,294.61Z\" style=\"fill: rgb(0, 0, 139); fill-opacity: 0.5; stroke-width: 0;\"/></g></g><g class=\"errorbars\"/><g class=\"lines\"><path class=\"js-line\" d=\"M0,294.61L6.63,239.56L13.27,236.08L19.9,237.82L26.53,240.78L33.16,235.96L39.8,224.17L46.43,168.21L53.06,76.17L59.69,43.97L66.33,36.37L72.96,35.12L79.59,27.36L86.22,23.71L92.86,32.63L99.49,51.67L106.12,87.75L112.75,138.89L119.39,239.89L126.02,256.94L132.65,255.88L145.92,247.53L152.55,326.25\" style=\"vector-effect: non-scaling-stroke; fill: none; stroke: rgb(111, 194, 118); stroke-opacity: 1; stroke-width: 1px; opacity: 1;\"/></g><g class=\"points\"/><g class=\"text\"/></g><g class=\"trace scatter trace1ec251\" style=\"stroke-miterlimit: 2;\"><g class=\"fills\"><g><path class=\"js-fill\" d=\"M0,290.25L6.63,235.21L13.27,231.72L19.9,233.46L26.53,236.42L33.16,231.6L39.8,219.81L46.43,163.85L53.06,71.81L59.69,39.61L66.33,32.01L72.96,30.77L79.59,23L86.22,19.35L92.86,28.27L99.49,47.31L106.12,83.4L112.75,134.54L119.39,235.54L126.02,252.58L132.65,251.52L145.92,243.17L152.55,321.89L152.55,321.89L145.92,243.17L132.65,251.52L126.02,252.58L119.39,235.54L112.75,134.54L106.12,83.4L99.49,47.31L92.86,28.27L86.22,19.35L79.59,23L72.96,30.77L66.33,32.01L59.69,39.61L53.06,71.81L46.43,163.85L39.8,219.81L33.16,231.6L26.53,236.42L19.9,233.46L13.27,231.72L6.63,235.21L0,290.25Z\" style=\"fill: rgb(255, 0, 0); fill-opacity: 0.5; stroke-width: 0;\"/></g></g><g class=\"errorbars\"/><g class=\"lines\"><path class=\"js-line\" d=\"M0,290.25L6.63,235.21L13.27,231.72L19.9,233.46L26.53,236.42L33.16,231.6L39.8,219.81L46.43,163.85L53.06,71.81L59.69,39.61L66.33,32.01L72.96,30.77L79.59,23L86.22,19.35L92.86,28.27L99.49,47.31L106.12,83.4L112.75,134.54L119.39,235.54L126.02,252.58L132.65,251.52L145.92,243.17L152.55,321.89\" style=\"vector-effect: non-scaling-stroke; fill: none; stroke: rgb(0, 0, 139); stroke-opacity: 1; stroke-width: 1px; opacity: 1;\"/></g><g class=\"points\"/><g class=\"text\"/></g><g class=\"trace scatter trace8307b2\" style=\"stroke-miterlimit: 2;\"><g class=\"fills\"><g><path class=\"js-fill\" d=\"M0,290.25L6.63,235.21L13.27,231.72L19.9,233.46L26.53,236.42L33.16,231.6L39.8,219.81L46.43,163.85L53.06,71.81L59.69,39.61L66.33,32.01L72.96,30.77L79.59,23L86.22,19.35L92.86,28.27L99.49,47.31L106.12,83.4L112.75,134.54L119.39,235.54L126.02,252.58L132.65,251.52L145.92,243.17L152.55,321.89L152.55,321.89L145.92,243.17L132.65,251.52L126.02,252.58L119.39,235.54L112.75,134.54L106.12,83.4L99.49,47.31L92.86,28.27L86.22,19.35L79.59,23L72.96,30.77L66.33,32.01L59.69,39.61L53.06,71.81L46.43,163.85L39.8,219.81L33.16,231.6L26.53,236.42L19.9,233.46L13.27,231.72L6.63,235.21L0,290.25Z\" style=\"fill: rgb(255, 0, 0); fill-opacity: 0.5; stroke-width: 0;\"/></g></g><g class=\"errorbars\"/><g class=\"lines\"><path class=\"js-line\" d=\"M0,290.25L6.63,235.21L13.27,231.72L19.9,233.46L26.53,236.42L33.16,231.6L39.8,219.81L46.43,163.85L53.06,71.81L59.69,39.61L66.33,32.01L72.96,30.77L79.59,23L86.22,19.35L92.86,28.27L99.49,47.31L106.12,83.4L112.75,134.54L119.39,235.54L126.02,252.58L132.65,251.52L145.92,243.17L152.55,321.89\" style=\"vector-effect: non-scaling-stroke; fill: none; stroke: rgb(255, 0, 0); stroke-opacity: 1; stroke-width: 1px; opacity: 1;\"/></g><g class=\"points\"/><g class=\"text\"/></g><g class=\"trace scatter tracef983ac\" style=\"stroke-miterlimit: 2;\"><g class=\"fills\"><g><path class=\"js-fill\" d=\"M0,290.25L6.63,235.21L13.27,231.72L19.9,233.46L26.53,236.42L33.16,231.6L39.8,219.81L46.43,163.85L53.06,71.81L59.69,39.61L66.33,32.01L72.96,30.77L79.59,23L86.22,19.35L92.86,28.27L99.49,47.31L106.12,83.4L112.75,134.54L119.39,235.54L126.02,252.58L132.65,251.52L145.92,243.17L152.55,321.89L152.55,321.89L145.92,243.17L132.65,251.52L126.02,252.58L119.39,235.54L112.75,134.54L106.12,83.4L99.49,47.31L92.86,28.27L86.22,19.35L79.59,23L72.96,30.77L66.33,32.01L59.69,39.61L53.06,71.81L46.43,163.85L39.8,219.81L33.16,231.6L26.53,236.42L19.9,233.46L13.27,231.72L6.63,235.21L0,290.25Z\" style=\"fill: rgb(255, 0, 0); fill-opacity: 0.5; stroke-width: 0;\"/></g></g><g class=\"errorbars\"/><g class=\"lines\"><path class=\"js-line\" d=\"M0,290.25L6.63,235.21L13.27,231.72L19.9,233.46L26.53,236.42L33.16,231.6L39.8,219.81L46.43,163.85L53.06,71.81L59.69,39.61L66.33,32.01L72.96,30.77L79.59,23L86.22,19.35L92.86,28.27L99.49,47.31L106.12,83.4L112.75,134.54L119.39,235.54L126.02,252.58L132.65,251.52L145.92,243.17L152.55,321.89\" style=\"vector-effect: non-scaling-stroke; fill: none; stroke: rgb(255, 0, 0); stroke-opacity: 1; stroke-width: 1px; opacity: 1;\"/></g><g class=\"points\"/><g class=\"text\"/></g><g class=\"trace scatter trace1e6577\" style=\"stroke-miterlimit: 2;\"><g class=\"fills\"><g><path class=\"js-fill\" d=\"M0,219.43L6.63,225.86L13.27,229.49L19.9,224.93L26.53,207.18L33.16,181.97L39.8,151.05L46.43,117.54L53.06,71.81L59.69,39.61L66.33,32.01L72.96,30.77L79.59,23L86.22,19.35L92.86,28.27L99.49,47.31L106.12,83.4L112.75,134.54L119.39,140.26L126.02,127.5L132.65,126.98L152.55,204.38L152.55,321.89L145.92,243.17L132.65,251.52L126.02,252.58L119.39,235.54L112.75,134.54L106.12,83.4L99.49,47.31L92.86,28.27L86.22,19.35L79.59,23L72.96,30.77L66.33,32.01L59.69,39.61L53.06,71.81L46.43,163.85L39.8,219.81L33.16,231.6L26.53,236.42L19.9,233.46L13.27,231.72L6.63,235.21L0,290.25Z\" style=\"fill: rgb(0, 128, 0); fill-opacity: 0.5; stroke-width: 0;\"/></g></g><g class=\"errorbars\"/><g class=\"lines\"><path class=\"js-line\" d=\"M0,290.25L6.63,235.21L13.27,231.72L19.9,233.46L26.53,236.42L33.16,231.6L39.8,219.81L46.43,163.85L53.06,71.81L59.69,39.61L66.33,32.01L72.96,30.77L79.59,23L86.22,19.35L92.86,28.27L99.49,47.31L106.12,83.4L112.75,134.54L119.39,235.54L126.02,252.58L132.65,251.52L145.92,243.17L152.55,321.89\" style=\"vector-effect: non-scaling-stroke; fill: none; stroke: rgb(255, 0, 0); stroke-opacity: 1; stroke-width: 1px; opacity: 1;\"/></g><g class=\"points\"/><g class=\"text\"/></g><g class=\"trace scatter trace123942\" style=\"stroke-miterlimit: 2;\"><g class=\"fills\"/><g class=\"errorbars\"/><g class=\"lines\"><path class=\"js-line\" d=\"M0,219.43L6.63,225.86L13.27,229.49L19.9,224.93L26.53,207.18L33.16,181.97L39.8,151.05L46.43,117.54L53.06,71.81L59.69,39.61L66.33,32.01L72.96,30.77L79.59,23L86.22,19.35L92.86,28.27L99.49,47.31L106.12,83.4L112.75,134.54L119.39,140.26L126.02,127.5L132.65,126.98L152.55,204.38\" style=\"vector-effect: non-scaling-stroke; fill: none; stroke: rgb(0, 128, 0); stroke-opacity: 1; stroke-width: 1px; opacity: 1;\"/></g><g class=\"points\"/><g class=\"text\"/></g></g></g><g class=\"overplot\"/><path class=\"xlines-above crisp\" d=\"M0,0\" style=\"fill: none;\"/><path class=\"ylines-above crisp\" d=\"M0,0\" style=\"fill: none;\"/><g class=\"overlines-above\"/><g class=\"xaxislayer-above\"><g class=\"xtick\"><text text-anchor=\"middle\" x=\"0\" y=\"460\" transform=\"translate(94.53,0)\" style=\"font-family: 'Open Sans', verdana, arial, sans-serif; font-size: 12px; fill: rgb(42, 63, 95); fill-opacity: 1; white-space: pre;\">2405</text></g><g class=\"xtick\"><text text-anchor=\"middle\" x=\"0\" y=\"460\" transform=\"translate(127.69,0)\" style=\"font-family: 'Open Sans', verdana, arial, sans-serif; font-size: 12px; fill: rgb(42, 63, 95); fill-opacity: 1; white-space: pre;\">2410</text></g><g class=\"xtick\"><text text-anchor=\"middle\" x=\"0\" y=\"460\" transform=\"translate(160.86,0)\" style=\"font-family: 'Open Sans', verdana, arial, sans-serif; font-size: 12px; fill: rgb(42, 63, 95); fill-opacity: 1; white-space: pre;\">2415</text></g><g class=\"xtick\"><text text-anchor=\"middle\" x=\"0\" y=\"460\" transform=\"translate(194.01999999999998,0)\" style=\"font-family: 'Open Sans', verdana, arial, sans-serif; font-size: 12px; fill: rgb(42, 63, 95); fill-opacity: 1; white-space: pre;\">2420</text></g></g><g class=\"yaxislayer-above\"><g class=\"ytick\"><text text-anchor=\"end\" x=\"67\" y=\"4.199999999999999\" transform=\"translate(0,447)\" style=\"font-family: 'Open Sans', verdana, arial, sans-serif; font-size: 12px; fill: rgb(42, 63, 95); fill-opacity: 1; white-space: pre;\">0</text></g><g class=\"ytick\"><text text-anchor=\"end\" x=\"67\" y=\"4.199999999999999\" transform=\"translate(0,395.12)\" style=\"font-family: 'Open Sans', verdana, arial, sans-serif; font-size: 12px; fill: rgb(42, 63, 95); fill-opacity: 1; white-space: pre;\">500</text></g><g class=\"ytick\"><text text-anchor=\"end\" x=\"67\" y=\"4.199999999999999\" transform=\"translate(0,343.24)\" style=\"font-family: 'Open Sans', verdana, arial, sans-serif; font-size: 12px; fill: rgb(42, 63, 95); fill-opacity: 1; white-space: pre;\">1000</text></g><g class=\"ytick\"><text text-anchor=\"end\" x=\"67\" y=\"4.199999999999999\" transform=\"translate(0,291.36)\" style=\"font-family: 'Open Sans', verdana, arial, sans-serif; font-size: 12px; fill: rgb(42, 63, 95); fill-opacity: 1; white-space: pre;\">1500</text></g><g class=\"ytick\"><text text-anchor=\"end\" x=\"67\" y=\"4.199999999999999\" transform=\"translate(0,239.48)\" style=\"font-family: 'Open Sans', verdana, arial, sans-serif; font-size: 12px; fill: rgb(42, 63, 95); fill-opacity: 1; white-space: pre;\">2000</text></g><g class=\"ytick\"><text text-anchor=\"end\" x=\"67\" y=\"4.199999999999999\" transform=\"translate(0,187.6)\" style=\"font-family: 'Open Sans', verdana, arial, sans-serif; font-size: 12px; fill: rgb(42, 63, 95); fill-opacity: 1; white-space: pre;\">2500</text></g><g class=\"ytick\"><text text-anchor=\"end\" x=\"67\" y=\"4.199999999999999\" transform=\"translate(0,135.72)\" style=\"font-family: 'Open Sans', verdana, arial, sans-serif; font-size: 12px; fill: rgb(42, 63, 95); fill-opacity: 1; white-space: pre;\">3000</text></g><g class=\"ytick\"><text text-anchor=\"end\" x=\"67\" y=\"4.199999999999999\" transform=\"translate(0,83.84)\" style=\"font-family: 'Open Sans', verdana, arial, sans-serif; font-size: 12px; fill: rgb(42, 63, 95); fill-opacity: 1; white-space: pre;\">3500</text></g></g><g class=\"overaxes-above\"/></g><g class=\"subplot x2y2\"><g class=\"layer-subplot\"><g class=\"shapelayer\"/><g class=\"imagelayer\"/></g><g class=\"gridlayer\"><g class=\"x2\"><path class=\"x2grid crisp\" transform=\"translate(280.98,0)\" d=\"M0,60v387\" style=\"stroke: rgb(255, 255, 255); stroke-opacity: 1; stroke-width: 1px;\"/><path class=\"x2grid crisp\" transform=\"translate(314.14,0)\" d=\"M0,60v387\" style=\"stroke: rgb(255, 255, 255); stroke-opacity: 1; stroke-width: 1px;\"/><path class=\"x2grid crisp\" transform=\"translate(347.31,0)\" d=\"M0,60v387\" style=\"stroke: rgb(255, 255, 255); stroke-opacity: 1; stroke-width: 1px;\"/><path class=\"x2grid crisp\" transform=\"translate(380.47,0)\" d=\"M0,60v387\" style=\"stroke: rgb(255, 255, 255); stroke-opacity: 1; stroke-width: 1px;\"/></g><g class=\"y2\"><path class=\"y2grid crisp\" transform=\"translate(0,395.12)\" d=\"M254.45000000000002,0h152.54999999999998\" style=\"stroke: rgb(255, 255, 255); stroke-opacity: 1; stroke-width: 1px;\"/><path class=\"y2grid crisp\" transform=\"translate(0,343.24)\" d=\"M254.45000000000002,0h152.54999999999998\" style=\"stroke: rgb(255, 255, 255); stroke-opacity: 1; stroke-width: 1px;\"/><path class=\"y2grid crisp\" transform=\"translate(0,291.36)\" d=\"M254.45000000000002,0h152.54999999999998\" style=\"stroke: rgb(255, 255, 255); stroke-opacity: 1; stroke-width: 1px;\"/><path class=\"y2grid crisp\" transform=\"translate(0,239.48)\" d=\"M254.45000000000002,0h152.54999999999998\" style=\"stroke: rgb(255, 255, 255); stroke-opacity: 1; stroke-width: 1px;\"/><path class=\"y2grid crisp\" transform=\"translate(0,187.6)\" d=\"M254.45000000000002,0h152.54999999999998\" style=\"stroke: rgb(255, 255, 255); stroke-opacity: 1; stroke-width: 1px;\"/><path class=\"y2grid crisp\" transform=\"translate(0,135.72)\" d=\"M254.45000000000002,0h152.54999999999998\" style=\"stroke: rgb(255, 255, 255); stroke-opacity: 1; stroke-width: 1px;\"/><path class=\"y2grid crisp\" transform=\"translate(0,83.84)\" d=\"M254.45000000000002,0h152.54999999999998\" style=\"stroke: rgb(255, 255, 255); stroke-opacity: 1; stroke-width: 1px;\"/></g></g><g class=\"zerolinelayer\"><path class=\"y2zl zl crisp\" transform=\"translate(0,447)\" d=\"M254.45000000000002,0h152.54999999999998\" style=\"stroke: rgb(255, 255, 255); stroke-opacity: 1; stroke-width: 2px;\"/></g><path class=\"xlines-below\"/><path class=\"ylines-below\"/><g class=\"overlines-below\"/><g class=\"xaxislayer-below\"/><g class=\"yaxislayer-below\"/><g class=\"overaxes-below\"/><g class=\"plot\" transform=\"translate(254.45000000000002,60)\" clip-path=\"url('#clip063809x2y2plot')\"><g class=\"scatterlayer mlayer\"><g class=\"trace scatter trace5172bd\" style=\"stroke-miterlimit: 2;\"><g class=\"fills\"><g><path class=\"js-fill\" d=\"M152.55,387L0,387L0,219.43L6.63,225.86L13.27,229.49L19.9,224.93L26.53,207.18L33.16,181.97L39.8,151.05L46.43,117.54L53.06,92.53L59.69,73.33L66.33,62.75L72.96,79.56L79.59,102.39L92.86,119.51L99.49,129.47L106.12,135.69L112.75,140.67L119.39,140.26L126.02,127.5L132.65,126.98L139.28,152.71L145.92,180.73L152.55,204.38\" style=\"fill: rgb(128, 0, 128); fill-opacity: 0.5; stroke-width: 0;\"/></g><g><path class=\"js-fill\" d=\"M0,219.43L6.63,225.86L13.27,229.49L19.9,224.93L26.53,207.18L33.16,181.97L39.8,151.05L46.43,117.54L53.06,71.81L59.69,39.61L66.33,32.01L72.96,30.77L79.59,23L86.22,19.35L92.86,28.27L99.49,47.31L106.12,83.4L112.75,134.54L119.39,140.26L126.02,127.5L132.65,126.98L152.55,204.38L152.55,204.38L145.92,180.73L139.28,152.71L132.65,126.98L126.02,127.5L119.39,140.26L112.75,140.67L106.12,135.69L99.49,129.47L92.86,119.51L79.59,102.39L72.96,79.56L66.33,62.75L59.69,73.33L53.06,92.53L46.43,117.54L39.8,151.05L33.16,181.97L26.53,207.18L19.9,224.93L13.27,229.49L6.63,225.86L0,219.43Z\" style=\"fill: rgb(0, 128, 0); fill-opacity: 0.5; stroke-width: 0;\"/></g></g><g class=\"errorbars\"/><g class=\"lines\"><path class=\"js-line\" d=\"M0,219.43L6.63,225.86L13.27,229.49L19.9,224.93L26.53,207.18L33.16,181.97L39.8,151.05L46.43,117.54L53.06,92.53L59.69,73.33L66.33,62.75L72.96,79.56L79.59,102.39L92.86,119.51L99.49,129.47L106.12,135.69L112.75,140.67L119.39,140.26L126.02,127.5L132.65,126.98L139.28,152.71L145.92,180.73L152.55,204.38\" style=\"vector-effect: non-scaling-stroke; fill: none; stroke: rgb(128, 0, 128); stroke-opacity: 1; stroke-width: 1px; opacity: 1;\"/></g><g class=\"points\"/><g class=\"text\"/></g><g class=\"trace scatter tracedc6f9b\" style=\"stroke-miterlimit: 2;\"><g class=\"fills\"/><g class=\"errorbars\"/><g class=\"lines\"><path class=\"js-line\" d=\"M0,219.43L6.63,225.86L13.27,229.49L19.9,224.93L26.53,207.18L33.16,181.97L39.8,151.05L46.43,117.54L53.06,71.81L59.69,39.61L66.33,32.01L72.96,30.77L79.59,23L86.22,19.35L92.86,28.27L99.49,47.31L106.12,83.4L112.75,134.54L119.39,140.26L126.02,127.5L132.65,126.98L152.55,204.38\" style=\"vector-effect: non-scaling-stroke; fill: none; stroke: rgb(0, 128, 0); stroke-opacity: 1; stroke-width: 1px; opacity: 1;\"/></g><g class=\"points\"/><g class=\"text\"/></g></g></g><g class=\"overplot\"/><path class=\"xlines-above crisp\" d=\"M0,0\" style=\"fill: none;\"/><path class=\"ylines-above crisp\" d=\"M0,0\" style=\"fill: none;\"/><g class=\"overlines-above\"/><g class=\"xaxislayer-above\"><g class=\"x2tick\"><text text-anchor=\"middle\" x=\"0\" y=\"460\" transform=\"translate(280.98,0)\" style=\"font-family: 'Open Sans', verdana, arial, sans-serif; font-size: 12px; fill: rgb(42, 63, 95); fill-opacity: 1; white-space: pre;\">2405</text></g><g class=\"x2tick\"><text text-anchor=\"middle\" x=\"0\" y=\"460\" transform=\"translate(314.14,0)\" style=\"font-family: 'Open Sans', verdana, arial, sans-serif; font-size: 12px; fill: rgb(42, 63, 95); fill-opacity: 1; white-space: pre;\">2410</text></g><g class=\"x2tick\"><text text-anchor=\"middle\" x=\"0\" y=\"460\" transform=\"translate(347.31,0)\" style=\"font-family: 'Open Sans', verdana, arial, sans-serif; font-size: 12px; fill: rgb(42, 63, 95); fill-opacity: 1; white-space: pre;\">2415</text></g><g class=\"x2tick\"><text text-anchor=\"middle\" x=\"0\" y=\"460\" transform=\"translate(380.47,0)\" style=\"font-family: 'Open Sans', verdana, arial, sans-serif; font-size: 12px; fill: rgb(42, 63, 95); fill-opacity: 1; white-space: pre;\">2420</text></g></g><g class=\"yaxislayer-above\"><g class=\"y2tick\"><text text-anchor=\"end\" x=\"253.45000000000002\" y=\"4.199999999999999\" transform=\"translate(0,447)\" style=\"font-family: 'Open Sans', verdana, arial, sans-serif; font-size: 12px; fill: rgb(42, 63, 95); fill-opacity: 1; white-space: pre;\">0</text></g><g class=\"y2tick\"><text text-anchor=\"end\" x=\"253.45000000000002\" y=\"4.199999999999999\" transform=\"translate(0,395.12)\" style=\"font-family: 'Open Sans', verdana, arial, sans-serif; font-size: 12px; fill: rgb(42, 63, 95); fill-opacity: 1; white-space: pre;\">500</text></g><g class=\"y2tick\"><text text-anchor=\"end\" x=\"253.45000000000002\" y=\"4.199999999999999\" transform=\"translate(0,343.24)\" style=\"font-family: 'Open Sans', verdana, arial, sans-serif; font-size: 12px; fill: rgb(42, 63, 95); fill-opacity: 1; white-space: pre;\">1000</text></g><g class=\"y2tick\"><text text-anchor=\"end\" x=\"253.45000000000002\" y=\"4.199999999999999\" transform=\"translate(0,291.36)\" style=\"font-family: 'Open Sans', verdana, arial, sans-serif; font-size: 12px; fill: rgb(42, 63, 95); fill-opacity: 1; white-space: pre;\">1500</text></g><g class=\"y2tick\"><text text-anchor=\"end\" x=\"253.45000000000002\" y=\"4.199999999999999\" transform=\"translate(0,239.48)\" style=\"font-family: 'Open Sans', verdana, arial, sans-serif; font-size: 12px; fill: rgb(42, 63, 95); fill-opacity: 1; white-space: pre;\">2000</text></g><g class=\"y2tick\"><text text-anchor=\"end\" x=\"253.45000000000002\" y=\"4.199999999999999\" transform=\"translate(0,187.6)\" style=\"font-family: 'Open Sans', verdana, arial, sans-serif; font-size: 12px; fill: rgb(42, 63, 95); fill-opacity: 1; white-space: pre;\">2500</text></g><g class=\"y2tick\"><text text-anchor=\"end\" x=\"253.45000000000002\" y=\"4.199999999999999\" transform=\"translate(0,135.72)\" style=\"font-family: 'Open Sans', verdana, arial, sans-serif; font-size: 12px; fill: rgb(42, 63, 95); fill-opacity: 1; white-space: pre;\">3000</text></g><g class=\"y2tick\"><text text-anchor=\"end\" x=\"253.45000000000002\" y=\"4.199999999999999\" transform=\"translate(0,83.84)\" style=\"font-family: 'Open Sans', verdana, arial, sans-serif; font-size: 12px; fill: rgb(42, 63, 95); fill-opacity: 1; white-space: pre;\">3500</text></g></g><g class=\"overaxes-above\"/></g></g><g class=\"polarlayer\"/><g class=\"ternarylayer\"/><g class=\"geolayer\"/><g class=\"funnelarealayer\"/><g class=\"pielayer\"/><g class=\"treemaplayer\"/><g class=\"sunburstlayer\"/><g class=\"glimages\"/><defs id=\"topdefs-063809\"><g class=\"clips\"/><clipPath id=\"legend063809\"><rect width=\"274\" height=\"257\" x=\"0\" y=\"0\"/></clipPath></defs><g class=\"layer-above\"><g class=\"imagelayer\"/><g class=\"shapelayer\"/></g><g class=\"infolayer\"><g class=\"legend\" pointer-events=\"all\" transform=\"translate(413.78000000000003,60)\"><rect class=\"bg\" shape-rendering=\"crispEdges\" width=\"274\" height=\"257\" x=\"0\" y=\"0\" style=\"stroke: rgb(68, 68, 68); stroke-opacity: 1; fill: rgb(255, 255, 255); fill-opacity: 1; stroke-width: 0px;\"/><g class=\"scrollbox\" transform=\"\" clip-path=\"url('#legend063809')\"><g class=\"groups\"><g class=\"traces\" transform=\"translate(0,14.5)\" style=\"opacity: 1;\"><text class=\"legendtext\" text-anchor=\"start\" x=\"40\" y=\"4.680000000000001\" style=\"font-family: 'Open Sans', verdana, arial, sans-serif; font-size: 12px; fill: rgb(42, 63, 95); fill-opacity: 1; white-space: pre;\">battery</text><g class=\"layers\"><g class=\"legendfill\"><path class=\"js-fill\" d=\"M5,-2h30v6h-30z\" style=\"stroke-width: 0; fill: rgb(0, 128, 0); fill-opacity: 0.5;\"/></g><g class=\"legendlines\"><path class=\"js-line\" d=\"M5,-2h30\" style=\"fill: none; stroke: rgb(0, 128, 0); stroke-opacity: 1; stroke-width: 1px;\"/></g><g class=\"legendsymbols\"><g class=\"legendpoints\"/></g></g><rect class=\"legendtoggle\" x=\"0\" y=\"-9.5\" width=\"268.625\" height=\"19\" style=\"fill: rgb(0, 0, 0); fill-opacity: 0;\"/></g><g class=\"traces\" transform=\"translate(0,33.5)\" style=\"opacity: 1;\"><text class=\"legendtext\" text-anchor=\"start\" x=\"40\" y=\"4.680000000000001\" style=\"font-family: 'Open Sans', verdana, arial, sans-serif; font-size: 12px; fill: rgb(42, 63, 95); fill-opacity: 1; white-space: pre;\">total</text><g class=\"layers\"><g class=\"legendfill\"><path class=\"js-fill\" d=\"M5,-2h30v6h-30z\" style=\"stroke-width: 0; fill: rgb(128, 0, 128); fill-opacity: 0.5;\"/></g><g class=\"legendlines\"><path class=\"js-line\" d=\"M5,-2h30\" style=\"fill: none; stroke: rgb(128, 0, 128); stroke-opacity: 1; stroke-width: 1px;\"/></g><g class=\"legendsymbols\"><g class=\"legendpoints\"/></g></g><rect class=\"legendtoggle\" x=\"0\" y=\"-9.5\" width=\"268.625\" height=\"19\" style=\"fill: rgb(0, 0, 0); fill-opacity: 0;\"/></g><g class=\"traces\" transform=\"translate(0,52.5)\" style=\"opacity: 1;\"><text class=\"legendtext\" text-anchor=\"start\" x=\"40\" y=\"4.680000000000001\" style=\"font-family: 'Open Sans', verdana, arial, sans-serif; font-size: 12px; fill: rgb(42, 63, 95); fill-opacity: 1; white-space: pre;\">battery</text><g class=\"layers\"><g class=\"legendfill\"><path class=\"js-fill\" d=\"M5,-2h30v6h-30z\" style=\"stroke-width: 0; fill: rgb(0, 128, 0); fill-opacity: 0.5;\"/></g><g class=\"legendlines\"><path class=\"js-line\" d=\"M5,-2h30\" style=\"fill: none; stroke: rgb(0, 128, 0); stroke-opacity: 1; stroke-width: 1px;\"/></g><g class=\"legendsymbols\"><g class=\"legendpoints\"/></g></g><rect class=\"legendtoggle\" x=\"0\" y=\"-9.5\" width=\"268.625\" height=\"19\" style=\"fill: rgb(0, 0, 0); fill-opacity: 0;\"/></g><g class=\"traces\" transform=\"translate(0,71.5)\" style=\"opacity: 1;\"><text class=\"legendtext\" text-anchor=\"start\" x=\"40\" y=\"4.680000000000001\" style=\"font-family: 'Open Sans', verdana, arial, sans-serif; font-size: 12px; fill: rgb(42, 63, 95); fill-opacity: 1; white-space: pre;\">onshore_wind_turbine_curtailment</text><g class=\"layers\"><g class=\"legendfill\"><path class=\"js-fill\" d=\"M5,-2h30v6h-30z\" style=\"stroke-width: 0; fill: rgb(255, 0, 0); fill-opacity: 0.5;\"/></g><g class=\"legendlines\"><path class=\"js-line\" d=\"M5,-2h30\" style=\"fill: none; stroke: rgb(255, 0, 0); stroke-opacity: 1; stroke-width: 1px;\"/></g><g class=\"legendsymbols\"><g class=\"legendpoints\"/></g></g><rect class=\"legendtoggle\" x=\"0\" y=\"-9.5\" width=\"268.625\" height=\"19\" style=\"fill: rgb(0, 0, 0); fill-opacity: 0;\"/></g><g class=\"traces\" transform=\"translate(0,90.5)\" style=\"opacity: 1;\"><text class=\"legendtext\" text-anchor=\"start\" x=\"40\" y=\"4.680000000000001\" style=\"font-family: 'Open Sans', verdana, arial, sans-serif; font-size: 12px; fill: rgb(42, 63, 95); fill-opacity: 1; white-space: pre;\">solar_photovoltaic_curtailment</text><g class=\"layers\"><g class=\"legendfill\"><path class=\"js-fill\" d=\"M5,-2h30v6h-30z\" style=\"stroke-width: 0; fill: rgb(255, 0, 0); fill-opacity: 0.5;\"/></g><g class=\"legendlines\"><path class=\"js-line\" d=\"M5,-2h30\" style=\"fill: none; stroke: rgb(255, 0, 0); stroke-opacity: 1; stroke-width: 1px;\"/></g><g class=\"legendsymbols\"><g class=\"legendpoints\"/></g></g><rect class=\"legendtoggle\" x=\"0\" y=\"-9.5\" width=\"268.625\" height=\"19\" style=\"fill: rgb(0, 0, 0); fill-opacity: 0;\"/></g><g class=\"traces\" transform=\"translate(0,109.5)\" style=\"opacity: 1;\"><text class=\"legendtext\" text-anchor=\"start\" x=\"40\" y=\"4.680000000000001\" style=\"font-family: 'Open Sans', verdana, arial, sans-serif; font-size: 12px; fill: rgb(42, 63, 95); fill-opacity: 1; white-space: pre;\">small_hydroelectric_curtailment</text><g class=\"layers\"><g class=\"legendfill\"><path class=\"js-fill\" d=\"M5,-2h30v6h-30z\" style=\"stroke-width: 0; fill: rgb(255, 0, 0); fill-opacity: 0.5;\"/></g><g class=\"legendlines\"><path class=\"js-line\" d=\"M5,-2h30\" style=\"fill: none; stroke: rgb(255, 0, 0); stroke-opacity: 1; stroke-width: 1px;\"/></g><g class=\"legendsymbols\"><g class=\"legendpoints\"/></g></g><rect class=\"legendtoggle\" x=\"0\" y=\"-9.5\" width=\"268.625\" height=\"19\" style=\"fill: rgb(0, 0, 0); fill-opacity: 0;\"/></g><g class=\"traces\" transform=\"translate(0,128.5)\" style=\"opacity: 1;\"><text class=\"legendtext\" text-anchor=\"start\" x=\"40\" y=\"4.680000000000001\" style=\"font-family: 'Open Sans', verdana, arial, sans-serif; font-size: 12px; fill: rgb(42, 63, 95); fill-opacity: 1; white-space: pre;\">hydroelectric_pumped_storage</text><g class=\"layers\"><g class=\"legendfill\"><path class=\"js-fill\" d=\"M5,-2h30v6h-30z\" style=\"stroke-width: 0; fill: rgb(0, 0, 139); fill-opacity: 0.5;\"/></g><g class=\"legendlines\"><path class=\"js-line\" d=\"M5,-2h30\" style=\"fill: none; stroke: rgb(0, 0, 139); stroke-opacity: 1; stroke-width: 1px;\"/></g><g class=\"legendsymbols\"><g class=\"legendpoints\"/></g></g><rect class=\"legendtoggle\" x=\"0\" y=\"-9.5\" width=\"268.625\" height=\"19\" style=\"fill: rgb(0, 0, 0); fill-opacity: 0;\"/></g><g class=\"traces\" transform=\"translate(0,147.5)\" style=\"opacity: 1;\"><text class=\"legendtext\" text-anchor=\"start\" x=\"40\" y=\"4.680000000000001\" style=\"font-family: 'Open Sans', verdana, arial, sans-serif; font-size: 12px; fill: rgb(42, 63, 95); fill-opacity: 1; white-space: pre;\">biomass</text><g class=\"layers\"><g class=\"legendfill\"><path class=\"js-fill\" d=\"M5,-2h30v6h-30z\" style=\"stroke-width: 0; fill: rgb(111, 194, 118); fill-opacity: 0.5;\"/></g><g class=\"legendlines\"><path class=\"js-line\" d=\"M5,-2h30\" style=\"fill: none; stroke: rgb(111, 194, 118); stroke-opacity: 1; stroke-width: 1px;\"/></g><g class=\"legendsymbols\"><g class=\"legendpoints\"/></g></g><rect class=\"legendtoggle\" x=\"0\" y=\"-9.5\" width=\"268.625\" height=\"19\" style=\"fill: rgb(0, 0, 0); fill-opacity: 0;\"/></g><g class=\"traces\" transform=\"translate(0,166.5)\" style=\"opacity: 1;\"><text class=\"legendtext\" text-anchor=\"start\" x=\"40\" y=\"4.680000000000001\" style=\"font-family: 'Open Sans', verdana, arial, sans-serif; font-size: 12px; fill: rgb(42, 63, 95); fill-opacity: 1; white-space: pre;\">solar_photovoltaic</text><g class=\"layers\"><g class=\"legendfill\"><path class=\"js-fill\" d=\"M5,-2h30v6h-30z\" style=\"stroke-width: 0; fill: rgb(255, 215, 0); fill-opacity: 0.5;\"/></g><g class=\"legendlines\"><path class=\"js-line\" d=\"M5,-2h30\" style=\"fill: none; stroke: rgb(255, 215, 0); stroke-opacity: 1; stroke-width: 1px;\"/></g><g class=\"legendsymbols\"><g class=\"legendpoints\"/></g></g><rect class=\"legendtoggle\" x=\"0\" y=\"-9.5\" width=\"268.625\" height=\"19\" style=\"fill: rgb(0, 0, 0); fill-opacity: 0;\"/></g><g class=\"traces\" transform=\"translate(0,185.5)\" style=\"opacity: 1;\"><text class=\"legendtext\" text-anchor=\"start\" x=\"40\" y=\"4.680000000000001\" style=\"font-family: 'Open Sans', verdana, arial, sans-serif; font-size: 12px; fill: rgb(42, 63, 95); fill-opacity: 1; white-space: pre;\">small_hydroelectric</text><g class=\"layers\"><g class=\"legendfill\"><path class=\"js-fill\" d=\"M5,-2h30v6h-30z\" style=\"stroke-width: 0; fill: rgb(100, 149, 237); fill-opacity: 0.5;\"/></g><g class=\"legendlines\"><path class=\"js-line\" d=\"M5,-2h30\" style=\"fill: none; stroke: rgb(100, 149, 237); stroke-opacity: 1; stroke-width: 1px;\"/></g><g class=\"legendsymbols\"><g class=\"legendpoints\"/></g></g><rect class=\"legendtoggle\" x=\"0\" y=\"-9.5\" width=\"268.625\" height=\"19\" style=\"fill: rgb(0, 0, 0); fill-opacity: 0;\"/></g><g class=\"traces\" transform=\"translate(0,204.5)\" style=\"opacity: 1;\"><text class=\"legendtext\" text-anchor=\"start\" x=\"40\" y=\"4.680000000000001\" style=\"font-family: 'Open Sans', verdana, arial, sans-serif; font-size: 12px; fill: rgb(42, 63, 95); fill-opacity: 1; white-space: pre;\">onshore_wind_turbine</text><g class=\"layers\"><g class=\"legendfill\"><path class=\"js-fill\" d=\"M5,-2h30v6h-30z\" style=\"stroke-width: 0; fill: rgb(135, 206, 235); fill-opacity: 0.5;\"/></g><g class=\"legendlines\"><path class=\"js-line\" d=\"M5,-2h30\" style=\"fill: none; stroke: rgb(135, 206, 235); stroke-opacity: 1; stroke-width: 1px;\"/></g><g class=\"legendsymbols\"><g class=\"legendpoints\"/></g></g><rect class=\"legendtoggle\" x=\"0\" y=\"-9.5\" width=\"268.625\" height=\"19\" style=\"fill: rgb(0, 0, 0); fill-opacity: 0;\"/></g><g class=\"traces\" transform=\"translate(0,223.5)\" style=\"opacity: 1;\"><text class=\"legendtext\" text-anchor=\"start\" x=\"40\" y=\"4.680000000000001\" style=\"font-family: 'Open Sans', verdana, arial, sans-serif; font-size: 12px; fill: rgb(42, 63, 95); fill-opacity: 1; white-space: pre;\">natural_gas_fired_combustion_turbine</text><g class=\"layers\"><g class=\"legendfill\"><path class=\"js-fill\" d=\"M5,-2h30v6h-30z\" style=\"stroke-width: 0; fill: rgb(0, 0, 0); fill-opacity: 0.5;\"/></g><g class=\"legendlines\"><path class=\"js-line\" d=\"M5,-2h30\" style=\"fill: none; stroke: rgb(0, 0, 0); stroke-opacity: 1; stroke-width: 1px;\"/></g><g class=\"legendsymbols\"><g class=\"legendpoints\"/></g></g><rect class=\"legendtoggle\" x=\"0\" y=\"-9.5\" width=\"268.625\" height=\"19\" style=\"fill: rgb(0, 0, 0); fill-opacity: 0;\"/></g><g class=\"traces\" transform=\"translate(0,242.5)\" style=\"opacity: 1;\"><text class=\"legendtext\" text-anchor=\"start\" x=\"40\" y=\"4.680000000000001\" style=\"font-family: 'Open Sans', verdana, arial, sans-serif; font-size: 12px; fill: rgb(42, 63, 95); fill-opacity: 1; white-space: pre;\">natural_gas_fired_combined_cycle</text><g class=\"layers\"><g class=\"legendfill\"><path class=\"js-fill\" d=\"M5,-2h30v6h-30z\" style=\"stroke-width: 0; fill: rgb(128, 128, 128); fill-opacity: 0.5;\"/></g><g class=\"legendlines\"><path class=\"js-line\" d=\"M5,-2h30\" style=\"fill: none; stroke: rgb(128, 128, 128); stroke-opacity: 1; stroke-width: 1px;\"/></g><g class=\"legendsymbols\"><g class=\"legendpoints\"/></g></g><rect class=\"legendtoggle\" x=\"0\" y=\"-9.5\" width=\"268.625\" height=\"19\" style=\"fill: rgb(0, 0, 0); fill-opacity: 0;\"/></g></g></g><rect class=\"scrollbar\" rx=\"20\" ry=\"3\" width=\"0\" height=\"0\" x=\"0\" y=\"0\" style=\"fill: rgb(128, 139, 164); fill-opacity: 1;\"/></g><g class=\"g-gtitle\"/><g class=\"g-xtitle\"><text class=\"xtitle\" x=\"144.275\" y=\"487.8\" text-anchor=\"middle\" style=\"font-family: 'Open Sans', verdana, arial, sans-serif; font-size: 14px; fill: rgb(42, 63, 95); opacity: 1; font-weight: normal; white-space: pre;\">hour</text></g><g class=\"g-x2title\"><text class=\"x2title\" x=\"330.725\" y=\"487.8\" text-anchor=\"middle\" style=\"font-family: 'Open Sans', verdana, arial, sans-serif; font-size: 14px; fill: rgb(42, 63, 95); opacity: 1; font-weight: normal; white-space: pre;\">hour</text></g><g class=\"g-ytitle\" transform=\"translate(1.3466796875,0)\"><text class=\"ytitle\" transform=\"rotate(-90,11.653125000000003,253.5)\" x=\"11.653125000000003\" y=\"253.5\" text-anchor=\"middle\" style=\"font-family: 'Open Sans', verdana, arial, sans-serif; font-size: 14px; fill: rgb(42, 63, 95); opacity: 1; font-weight: normal; white-space: pre;\">production MW</text></g><g class=\"g-y2title\"><text class=\"y2title\" transform=\"rotate(-90,198.10625,253.5)\" x=\"198.10625\" y=\"253.5\" text-anchor=\"middle\" style=\"font-family: 'Open Sans', verdana, arial, sans-serif; font-size: 14px; fill: rgb(42, 63, 95); opacity: 1; font-weight: normal; white-space: pre;\">demand MW</text></g><g class=\"annotation\" data-index=\"0\" style=\"opacity: 1;\"><g class=\"annotation-text-g\" transform=\"rotate(0,144.275,48.5)\"><g class=\"cursor-pointer\" transform=\"translate(115,37)\"><rect class=\"bg\" x=\"0.5\" y=\"0.5\" width=\"58\" height=\"22\" style=\"stroke-width: 1px; stroke: rgb(0, 0, 0); stroke-opacity: 0; fill: rgb(0, 0, 0); fill-opacity: 0;\"/><text class=\"annotation-text\" text-anchor=\"middle\" x=\"29.265625\" y=\"17\" style=\"font-family: 'Open Sans', verdana, arial, sans-serif; font-size: 16px; fill: rgb(42, 63, 95); fill-opacity: 1; white-space: pre;\">Supply</text></g></g></g><g class=\"annotation\" data-index=\"1\" style=\"opacity: 1;\"><g class=\"annotation-text-g\" transform=\"rotate(0,330.725,48.5)\"><g class=\"cursor-pointer\" transform=\"translate(295,37)\"><rect class=\"bg\" x=\"0.5\" y=\"0.5\" width=\"71\" height=\"22\" style=\"stroke-width: 1px; stroke: rgb(0, 0, 0); stroke-opacity: 0; fill: rgb(0, 0, 0); fill-opacity: 0;\"/><text class=\"annotation-text\" text-anchor=\"middle\" x=\"35.9375\" y=\"17\" style=\"font-family: 'Open Sans', verdana, arial, sans-serif; font-size: 16px; fill: rgb(42, 63, 95); fill-opacity: 1; white-space: pre;\">Demand</text></g></g></g></g></svg>"
      ],
      "text/html": [
       "<div\n",
       "    class=\"webio-mountpoint\"\n",
       "    data-webio-mountpoint=\"7748416719803077564\"\n",
       ">\n",
       "    <script>\n",
       "    (function(){\n",
       "    // Some integrations (namely, IJulia/Jupyter) use an alternate render pathway than\n",
       "    // just putting the html on the page. If WebIO isn't defined, then it's pretty likely\n",
       "    // that we're in one of those situations and the integration just isn't installed\n",
       "    // correctly.\n",
       "    if (typeof window.WebIO === \"undefined\") {\n",
       "        document\n",
       "            .querySelector('[data-webio-mountpoint=\"7748416719803077564\"]')\n",
       "            .innerHTML = (\n",
       "                '<div style=\"padding: 1em; background-color: #f8d6da; border: 1px solid #f5c6cb; font-weight: bold;\">' +\n",
       "                '<p><strong>WebIO not detected.</strong></p>' +\n",
       "                '<p>Please read ' +\n",
       "                '<a href=\"https://juliagizmos.github.io/WebIO.jl/latest/troubleshooting/not-detected/\" target=\"_blank\">the troubleshooting guide</a> ' +\n",
       "                'for more information on how to resolve this issue.</p>' +\n",
       "                '<p><a href=\"https://juliagizmos.github.io/WebIO.jl/latest/troubleshooting/not-detected/\" target=\"_blank\">https://juliagizmos.github.io/WebIO.jl/latest/troubleshooting/not-detected/</a></p>' +\n",
       "                '</div>'\n",
       "            );\n",
       "        return;\n",
       "    }\n",
       "    WebIO.mount(\n",
       "        document.querySelector('[data-webio-mountpoint=\"7748416719803077564\"]'),\n",
       "        {\"props\":{},\"nodeType\":\"Scope\",\"type\":\"node\",\"instanceArgs\":{\"imports\":{\"data\":[{\"name\":\"Plotly\",\"type\":\"js\",\"url\":\"\\/assetserver\\/d6feb8d8ce4676ebdde817a0745950a35b4ba3ae-plotly.min.js\"},{\"name\":null,\"type\":\"js\",\"url\":\"\\/assetserver\\/517030b23c1c21e94bf622985d97a74a9582e066-plotly_webio.bundle.js\"}],\"type\":\"async_block\"},\"id\":\"428306758429655620\",\"handlers\":{\"_toImage\":[\"(function (options){return this.Plotly.toImage(this.plotElem,options).then((function (data){return WebIO.setval({\\\"name\\\":\\\"image\\\",\\\"scope\\\":\\\"428306758429655620\\\",\\\"id\\\":\\\"905\\\",\\\"type\\\":\\\"observable\\\"},data)}))})\"],\"__get_gd_contents\":[\"(function (prop){prop==\\\"data\\\" ? (WebIO.setval({\\\"name\\\":\\\"__gd_contents\\\",\\\"scope\\\":\\\"428306758429655620\\\",\\\"id\\\":\\\"906\\\",\\\"type\\\":\\\"observable\\\"},this.plotElem.data)) : undefined; return prop==\\\"layout\\\" ? (WebIO.setval({\\\"name\\\":\\\"__gd_contents\\\",\\\"scope\\\":\\\"428306758429655620\\\",\\\"id\\\":\\\"906\\\",\\\"type\\\":\\\"observable\\\"},this.plotElem.layout)) : undefined})\"],\"_downloadImage\":[\"(function (options){return this.Plotly.downloadImage(this.plotElem,options)})\"],\"_commands\":[\"(function (args){var fn=args.shift(); var elem=this.plotElem; var Plotly=this.Plotly; args.unshift(elem); return Plotly[fn].apply(this,args)})\"]},\"systemjs_options\":null,\"mount_callbacks\":[\"function () {\\n    var handler = ((function (Plotly,PlotlyWebIO){PlotlyWebIO.init(WebIO); var gd=this.dom.querySelector(\\\"#plot-59f0268f-f7ce-4abb-8f53-555ab8c419e2\\\"); this.plotElem=gd; this.Plotly=Plotly; (window.Blink!==undefined) ? (gd.style.width=\\\"100%\\\", gd.style.height=\\\"100vh\\\", gd.style.marginLeft=\\\"0%\\\", gd.style.marginTop=\\\"0vh\\\") : undefined; window.onresize=(function (){return Plotly.Plots.resize(gd)}); Plotly.newPlot(gd,[{\\\"mode\\\":\\\"lines\\\",\\\"line\\\":{\\\"color\\\":\\\"grey\\\",\\\"width\\\":1,\\\"shape\\\":\\\"line\\\"},\\\"xaxis\\\":\\\"x1\\\",\\\"y\\\":[691.6461999999999,1194.2462,1282.4922,1280.2922,1271.7422,1259.5922,1244.6922000000002,1228.5422,1132.16,1134.91,1129.81,1125.91,1133.3104616904504,1152.76,1157.16,1148.573491008033,1164.96,1155.3600000000001,1173.6,1167.45,1167.2,1179.6000000000001,1193.1000000000001,437.926],\\\"type\\\":\\\"scatter\\\",\\\"name\\\":\\\"natural_gas_fired_combined_cycle\\\",\\\"stackgroup\\\":\\\"one\\\",\\\"yaxis\\\":\\\"y1\\\",\\\"x\\\":[2401,2402,2403,2404,2405,2406,2407,2408,2409,2410,2411,2412,2413,2414,2415,2416,2417,2418,2419,2420,2421,2422,2423,2424]},{\\\"mode\\\":\\\"lines\\\",\\\"line\\\":{\\\"color\\\":\\\"black\\\",\\\"width\\\":1,\\\"shape\\\":\\\"line\\\"},\\\"xaxis\\\":\\\"x1\\\",\\\"y\\\":[32.3078,32.3078,32.3078,32.3078,32.3078,32.3078,32.3078,32.3078,0.0,0.0,0.0,0.0,0.0,0.0,0.0,0.0,0.0,0.0,0.0,0.0,0.0,0.0,0.0,0.0],\\\"type\\\":\\\"scatter\\\",\\\"name\\\":\\\"natural_gas_fired_combustion_turbine\\\",\\\"stackgroup\\\":\\\"one\\\",\\\"yaxis\\\":\\\"y1\\\",\\\"x\\\":[2401,2402,2403,2404,2405,2406,2407,2408,2409,2410,2411,2412,2413,2414,2415,2416,2417,2418,2419,2420,2421,2422,2423,2424]},{\\\"mode\\\":\\\"lines\\\",\\\"line\\\":{\\\"color\\\":\\\"skyblue\\\",\\\"width\\\":1,\\\"shape\\\":\\\"line\\\"},\\\"xaxis\\\":\\\"x1\\\",\\\"y\\\":[163.3088,169.79327999999998,115.1104,100.55296,80.57728,139.17695999999998,74.17984,49.373439999999995,167.35616,131.56096000000014,111.1936,92.11008,52.09344,64.69248,49.22112,65.41055999999999,57.18527999999999,78.61887999999999,52.61568,61.42848,71.9168,96.04864,126.46912,144.42111999999997],\\\"type\\\":\\\"scatter\\\",\\\"name\\\":\\\"onshore_wind_turbine\\\",\\\"stackgroup\\\":\\\"one\\\",\\\"yaxis\\\":\\\"y1\\\",\\\"x\\\":[2401,2402,2403,2404,2405,2406,2407,2408,2409,2410,2411,2412,2413,2414,2415,2416,2417,2418,2419,2420,2421,2422,2423,2424]},{\\\"mode\\\":\\\"lines\\\",\\\"line\\\":{\\\"color\\\":\\\"cornflowerblue\\\",\\\"width\\\":1,\\\"shape\\\":\\\"line\\\"},\\\"xaxis\\\":\\\"x1\\\",\\\"y\\\":[3.184932,3.184932,3.184932,3.184931999999989,3.184932,3.184932,3.184932,3.184932,3.184932,3.184932,3.184932,3.184932,3.184932,3.184932,3.184932,3.1849319999998897,3.184932,3.184932,3.184932,3.1849319999999963,3.184932,3.184932,3.184932,3.184932],\\\"type\\\":\\\"scatter\\\",\\\"name\\\":\\\"small_hydroelectric\\\",\\\"stackgroup\\\":\\\"one\\\",\\\"yaxis\\\":\\\"y1\\\",\\\"x\\\":[2401,2402,2403,2404,2405,2406,2407,2408,2409,2410,2411,2412,2413,2414,2415,2416,2417,2418,2419,2420,2421,2422,2423,2424]},{\\\"mode\\\":\\\"lines\\\",\\\"line\\\":{\\\"color\\\":\\\"gold\\\",\\\"width\\\":1,\\\"shape\\\":\\\"line\\\"},\\\"xaxis\\\":\\\"x1\\\",\\\"y\\\":[0.0,0.0,0.0,0.0,0.0,0.0,193.55,773.85,1671.6,2014.95,2113.65,2148.65,2256.1,2259.25,2184.35,1993.25,1637.3,1132.6,166.95,0.0,0.0,0.0,0.0,0.0],\\\"type\\\":\\\"scatter\\\",\\\"name\\\":\\\"solar_photovoltaic\\\",\\\"stackgroup\\\":\\\"one\\\",\\\"yaxis\\\":\\\"y1\\\",\\\"x\\\":[2401,2402,2403,2404,2405,2406,2407,2408,2409,2410,2411,2412,2413,2414,2415,2416,2417,2418,2419,2420,2421,2422,2423,2424]},{\\\"mode\\\":\\\"lines\\\",\\\"line\\\":{\\\"color\\\":\\\"#6fc276\\\",\\\"width\\\":1,\\\"shape\\\":\\\"line\\\"},\\\"xaxis\\\":\\\"x1\\\",\\\"y\\\":[0.0,21.4,21.4,21.4,21.4,21.4,21.4,21.4,21.4,21.4,21.4,21.4,21.4,21.4,21.4,21.4,21.4,21.4,21.4,21.4,21.4,21.4,21.4,0.0],\\\"type\\\":\\\"scatter\\\",\\\"name\\\":\\\"biomass\\\",\\\"stackgroup\\\":\\\"one\\\",\\\"yaxis\\\":\\\"y1\\\",\\\"x\\\":[2401,2402,2403,2404,2405,2406,2407,2408,2409,2410,2411,2412,2413,2414,2415,2416,2417,2418,2419,2420,2421,2422,2423,2424]},{\\\"mode\\\":\\\"lines\\\",\\\"line\\\":{\\\"color\\\":\\\"darkblue\\\",\\\"width\\\":1,\\\"shape\\\":\\\"line\\\"},\\\"xaxis\\\":\\\"x1\\\",\\\"y\\\":[42.0,42.0,42.0,42.0,42.0,42.0,42.0,42.0,42.0,42.0,42.0,42.0,42.0,42.0,42.0,42.0,42.0,42.0,42.0,42.0,42.0,42.0,42.0,42.0],\\\"type\\\":\\\"scatter\\\",\\\"name\\\":\\\"hydroelectric_pumped_storage\\\",\\\"stackgroup\\\":\\\"one\\\",\\\"yaxis\\\":\\\"y1\\\",\\\"x\\\":[2401,2402,2403,2404,2405,2406,2407,2408,2409,2410,2411,2412,2413,2414,2415,2416,2417,2418,2419,2420,2421,2422,2423,2424]},{\\\"mode\\\":\\\"lines\\\",\\\"line\\\":{\\\"color\\\":\\\"red\\\",\\\"width\\\":1,\\\"shape\\\":\\\"line\\\"},\\\"xaxis\\\":\\\"x1\\\",\\\"y\\\":[1.0658141036401503e-14,1.1013412404281553e-13,3.552713678800501e-15],\\\"type\\\":\\\"scatter\\\",\\\"name\\\":\\\"small_hydroelectric_curtailment\\\",\\\"stackgroup\\\":\\\"one\\\",\\\"yaxis\\\":\\\"y1\\\",\\\"x\\\":[2404,2416,2420]},{\\\"mode\\\":\\\"lines\\\",\\\"line\\\":{\\\"color\\\":\\\"red\\\",\\\"width\\\":1,\\\"shape\\\":\\\"line\\\"},\\\"xaxis\\\":\\\"x1\\\",\\\"y\\\":[2.2737367544323206e-13],\\\"type\\\":\\\"scatter\\\",\\\"name\\\":\\\"solar_photovoltaic_curtailment\\\",\\\"stackgroup\\\":\\\"one\\\",\\\"yaxis\\\":\\\"y1\\\",\\\"x\\\":[2409]},{\\\"mode\\\":\\\"lines\\\",\\\"line\\\":{\\\"color\\\":\\\"red\\\",\\\"width\\\":1,\\\"shape\\\":\\\"line\\\"},\\\"xaxis\\\":\\\"x1\\\",\\\"y\\\":[1.4210854715202004e-14],\\\"type\\\":\\\"scatter\\\",\\\"name\\\":\\\"onshore_wind_turbine_curtailment\\\",\\\"stackgroup\\\":\\\"one\\\",\\\"yaxis\\\":\\\"y1\\\",\\\"x\\\":[2418]},{\\\"mode\\\":\\\"lines\\\",\\\"line\\\":{\\\"color\\\":\\\"green\\\",\\\"width\\\":1,\\\"shape\\\":\\\"line\\\"},\\\"xaxis\\\":\\\"x1\\\",\\\"y\\\":[682.552268,90.0677879999999,21.50466799999981,82.26210799999984,281.78778799999986,478.3381079999999,662.6852279999996,446.3416280000001,0.0,0.0,0.0,0.0,0.0,0.0,0.0,0.0,0.0,0.0,918.249388,1205.5365879999995,1200.2982679999998,915.7664279999999,601.8459479999999,1132.467948],\\\"type\\\":\\\"scatter\\\",\\\"name\\\":\\\"battery\\\",\\\"stackgroup\\\":\\\"one\\\",\\\"yaxis\\\":\\\"y1\\\",\\\"x\\\":[2401,2402,2403,2404,2405,2406,2407,2408,2409,2410,2411,2412,2413,2414,2415,2416,2417,2418,2419,2420,2421,2422,2423,2424]},{\\\"mode\\\":\\\"lines\\\",\\\"line\\\":{\\\"color\\\":\\\"purple\\\",\\\"width\\\":1,\\\"shape\\\":\\\"line\\\"},\\\"xaxis\\\":\\\"x2\\\",\\\"y\\\":[1615.0,1553.0,1518.0,1562.0,1733.0,1976.0,2274.0,2597.0,2838.0,3023.0,3125.0,2963.0,2743.0,2666.0,2578.0,2482.0,2422.0,2374.0,2378.0,2501.0,2506.0,2258.0,1988.0,1760.0],\\\"type\\\":\\\"scatter\\\",\\\"name\\\":\\\"total\\\",\\\"stackgroup\\\":\\\"one\\\",\\\"yaxis\\\":\\\"y2\\\",\\\"x\\\":[2401,2402,2403,2404,2405,2406,2407,2408,2409,2410,2411,2412,2413,2414,2415,2416,2417,2418,2419,2420,2421,2422,2423,2424]},{\\\"mode\\\":\\\"lines\\\",\\\"line\\\":{\\\"color\\\":\\\"green\\\",\\\"width\\\":1,\\\"shape\\\":\\\"line\\\"},\\\"xaxis\\\":\\\"x2\\\",\\\"y\\\":[0.0,0.0,0.0,0.0,0.0,0.0,0.0,0.0,199.70109200000007,325.0058920000002,296.23853200000036,470.2550120000003,765.0888336904507,877.2874120000002,879.3160520000001,791.8189830080329,504.0302119999999,59.16381199999978,0.0,0.0,0.0,0.0,0.0,0.0],\\\"type\\\":\\\"scatter\\\",\\\"name\\\":\\\"battery\\\",\\\"stackgroup\\\":\\\"one\\\",\\\"yaxis\\\":\\\"y2\\\",\\\"x\\\":[2401,2402,2403,2404,2405,2406,2407,2408,2409,2410,2411,2412,2413,2414,2415,2416,2417,2418,2419,2420,2421,2422,2423,2424]}],{\\\"xaxis1\\\":{\\\"title\\\":{\\\"text\\\":\\\"hour\\\"},\\\"domain\\\":[0.0,0.45],\\\"anchor\\\":\\\"y1\\\"},\\\"yaxis1\\\":{\\\"title\\\":{\\\"text\\\":\\\"production MW\\\"},\\\"domain\\\":[0.0,1.0],\\\"anchor\\\":\\\"x1\\\"},\\\"template\\\":{\\\"layout\\\":{\\\"coloraxis\\\":{\\\"colorbar\\\":{\\\"ticks\\\":\\\"\\\",\\\"outlinewidth\\\":0}},\\\"xaxis\\\":{\\\"gridcolor\\\":\\\"white\\\",\\\"zerolinewidth\\\":2,\\\"title\\\":{\\\"standoff\\\":15},\\\"ticks\\\":\\\"\\\",\\\"zerolinecolor\\\":\\\"white\\\",\\\"automargin\\\":true,\\\"linecolor\\\":\\\"white\\\"},\\\"hovermode\\\":\\\"closest\\\",\\\"paper_bgcolor\\\":\\\"white\\\",\\\"geo\\\":{\\\"showlakes\\\":true,\\\"showland\\\":true,\\\"landcolor\\\":\\\"#E5ECF6\\\",\\\"bgcolor\\\":\\\"white\\\",\\\"subunitcolor\\\":\\\"white\\\",\\\"lakecolor\\\":\\\"white\\\"},\\\"colorscale\\\":{\\\"sequential\\\":[[0.0,\\\"#0d0887\\\"],[0.1111111111111111,\\\"#46039f\\\"],[0.2222222222222222,\\\"#7201a8\\\"],[0.3333333333333333,\\\"#9c179e\\\"],[0.4444444444444444,\\\"#bd3786\\\"],[0.5555555555555556,\\\"#d8576b\\\"],[0.6666666666666666,\\\"#ed7953\\\"],[0.7777777777777778,\\\"#fb9f3a\\\"],[0.8888888888888888,\\\"#fdca26\\\"],[1.0,\\\"#f0f921\\\"]],\\\"diverging\\\":[[0,\\\"#8e0152\\\"],[0.1,\\\"#c51b7d\\\"],[0.2,\\\"#de77ae\\\"],[0.3,\\\"#f1b6da\\\"],[0.4,\\\"#fde0ef\\\"],[0.5,\\\"#f7f7f7\\\"],[0.6,\\\"#e6f5d0\\\"],[0.7,\\\"#b8e186\\\"],[0.8,\\\"#7fbc41\\\"],[0.9,\\\"#4d9221\\\"],[1,\\\"#276419\\\"]],\\\"sequentialminus\\\":[[0.0,\\\"#0d0887\\\"],[0.1111111111111111,\\\"#46039f\\\"],[0.2222222222222222,\\\"#7201a8\\\"],[0.3333333333333333,\\\"#9c179e\\\"],[0.4444444444444444,\\\"#bd3786\\\"],[0.5555555555555556,\\\"#d8576b\\\"],[0.6666666666666666,\\\"#ed7953\\\"],[0.7777777777777778,\\\"#fb9f3a\\\"],[0.8888888888888888,\\\"#fdca26\\\"],[1.0,\\\"#f0f921\\\"]]},\\\"yaxis\\\":{\\\"gridcolor\\\":\\\"white\\\",\\\"zerolinewidth\\\":2,\\\"title\\\":{\\\"standoff\\\":15},\\\"ticks\\\":\\\"\\\",\\\"zerolinecolor\\\":\\\"white\\\",\\\"automargin\\\":true,\\\"linecolor\\\":\\\"white\\\"},\\\"shapedefaults\\\":{\\\"line\\\":{\\\"color\\\":\\\"#2a3f5f\\\"}},\\\"hoverlabel\\\":{\\\"align\\\":\\\"left\\\"},\\\"mapbox\\\":{\\\"style\\\":\\\"light\\\"},\\\"polar\\\":{\\\"angularaxis\\\":{\\\"gridcolor\\\":\\\"white\\\",\\\"ticks\\\":\\\"\\\",\\\"linecolor\\\":\\\"white\\\"},\\\"bgcolor\\\":\\\"#E5ECF6\\\",\\\"radialaxis\\\":{\\\"gridcolor\\\":\\\"white\\\",\\\"ticks\\\":\\\"\\\",\\\"linecolor\\\":\\\"white\\\"}},\\\"autotypenumbers\\\":\\\"strict\\\",\\\"font\\\":{\\\"color\\\":\\\"#2a3f5f\\\"},\\\"ternary\\\":{\\\"baxis\\\":{\\\"gridcolor\\\":\\\"white\\\",\\\"ticks\\\":\\\"\\\",\\\"linecolor\\\":\\\"white\\\"},\\\"bgcolor\\\":\\\"#E5ECF6\\\",\\\"caxis\\\":{\\\"gridcolor\\\":\\\"white\\\",\\\"ticks\\\":\\\"\\\",\\\"linecolor\\\":\\\"white\\\"},\\\"aaxis\\\":{\\\"gridcolor\\\":\\\"white\\\",\\\"ticks\\\":\\\"\\\",\\\"linecolor\\\":\\\"white\\\"}},\\\"annotationdefaults\\\":{\\\"arrowhead\\\":0,\\\"arrowwidth\\\":1,\\\"arrowcolor\\\":\\\"#2a3f5f\\\"},\\\"plot_bgcolor\\\":\\\"#E5ECF6\\\",\\\"title\\\":{\\\"x\\\":0.05},\\\"scene\\\":{\\\"xaxis\\\":{\\\"gridcolor\\\":\\\"white\\\",\\\"gridwidth\\\":2,\\\"backgroundcolor\\\":\\\"#E5ECF6\\\",\\\"ticks\\\":\\\"\\\",\\\"showbackground\\\":true,\\\"zerolinecolor\\\":\\\"white\\\",\\\"linecolor\\\":\\\"white\\\"},\\\"zaxis\\\":{\\\"gridcolor\\\":\\\"white\\\",\\\"gridwidth\\\":2,\\\"backgroundcolor\\\":\\\"#E5ECF6\\\",\\\"ticks\\\":\\\"\\\",\\\"showbackground\\\":true,\\\"zerolinecolor\\\":\\\"white\\\",\\\"linecolor\\\":\\\"white\\\"},\\\"yaxis\\\":{\\\"gridcolor\\\":\\\"white\\\",\\\"gridwidth\\\":2,\\\"backgroundcolor\\\":\\\"#E5ECF6\\\",\\\"ticks\\\":\\\"\\\",\\\"showbackground\\\":true,\\\"zerolinecolor\\\":\\\"white\\\",\\\"linecolor\\\":\\\"white\\\"}},\\\"colorway\\\":[\\\"#636efa\\\",\\\"#EF553B\\\",\\\"#00cc96\\\",\\\"#ab63fa\\\",\\\"#FFA15A\\\",\\\"#19d3f3\\\",\\\"#FF6692\\\",\\\"#B6E880\\\",\\\"#FF97FF\\\",\\\"#FECB52\\\"]},\\\"data\\\":{\\\"barpolar\\\":[{\\\"type\\\":\\\"barpolar\\\",\\\"marker\\\":{\\\"line\\\":{\\\"color\\\":\\\"#E5ECF6\\\",\\\"width\\\":0.5}}}],\\\"carpet\\\":[{\\\"aaxis\\\":{\\\"gridcolor\\\":\\\"white\\\",\\\"endlinecolor\\\":\\\"#2a3f5f\\\",\\\"minorgridcolor\\\":\\\"white\\\",\\\"startlinecolor\\\":\\\"#2a3f5f\\\",\\\"linecolor\\\":\\\"white\\\"},\\\"type\\\":\\\"carpet\\\",\\\"baxis\\\":{\\\"gridcolor\\\":\\\"white\\\",\\\"endlinecolor\\\":\\\"#2a3f5f\\\",\\\"minorgridcolor\\\":\\\"white\\\",\\\"startlinecolor\\\":\\\"#2a3f5f\\\",\\\"linecolor\\\":\\\"white\\\"}}],\\\"scatterpolar\\\":[{\\\"type\\\":\\\"scatterpolar\\\",\\\"marker\\\":{\\\"colorbar\\\":{\\\"ticks\\\":\\\"\\\",\\\"outlinewidth\\\":0}}}],\\\"parcoords\\\":[{\\\"line\\\":{\\\"colorbar\\\":{\\\"ticks\\\":\\\"\\\",\\\"outlinewidth\\\":0}},\\\"type\\\":\\\"parcoords\\\"}],\\\"scatter\\\":[{\\\"type\\\":\\\"scatter\\\",\\\"marker\\\":{\\\"colorbar\\\":{\\\"ticks\\\":\\\"\\\",\\\"outlinewidth\\\":0}}}],\\\"histogram2dcontour\\\":[{\\\"colorbar\\\":{\\\"ticks\\\":\\\"\\\",\\\"outlinewidth\\\":0},\\\"type\\\":\\\"histogram2dcontour\\\",\\\"colorscale\\\":[[0.0,\\\"#0d0887\\\"],[0.1111111111111111,\\\"#46039f\\\"],[0.2222222222222222,\\\"#7201a8\\\"],[0.3333333333333333,\\\"#9c179e\\\"],[0.4444444444444444,\\\"#bd3786\\\"],[0.5555555555555556,\\\"#d8576b\\\"],[0.6666666666666666,\\\"#ed7953\\\"],[0.7777777777777778,\\\"#fb9f3a\\\"],[0.8888888888888888,\\\"#fdca26\\\"],[1.0,\\\"#f0f921\\\"]]}],\\\"contour\\\":[{\\\"colorbar\\\":{\\\"ticks\\\":\\\"\\\",\\\"outlinewidth\\\":0},\\\"type\\\":\\\"contour\\\",\\\"colorscale\\\":[[0.0,\\\"#0d0887\\\"],[0.1111111111111111,\\\"#46039f\\\"],[0.2222222222222222,\\\"#7201a8\\\"],[0.3333333333333333,\\\"#9c179e\\\"],[0.4444444444444444,\\\"#bd3786\\\"],[0.5555555555555556,\\\"#d8576b\\\"],[0.6666666666666666,\\\"#ed7953\\\"],[0.7777777777777778,\\\"#fb9f3a\\\"],[0.8888888888888888,\\\"#fdca26\\\"],[1.0,\\\"#f0f921\\\"]]}],\\\"scattercarpet\\\":[{\\\"type\\\":\\\"scattercarpet\\\",\\\"marker\\\":{\\\"colorbar\\\":{\\\"ticks\\\":\\\"\\\",\\\"outlinewidth\\\":0}}}],\\\"mesh3d\\\":[{\\\"colorbar\\\":{\\\"ticks\\\":\\\"\\\",\\\"outlinewidth\\\":0},\\\"type\\\":\\\"mesh3d\\\"}],\\\"surface\\\":[{\\\"colorbar\\\":{\\\"ticks\\\":\\\"\\\",\\\"outlinewidth\\\":0},\\\"type\\\":\\\"surface\\\",\\\"colorscale\\\":[[0.0,\\\"#0d0887\\\"],[0.1111111111111111,\\\"#46039f\\\"],[0.2222222222222222,\\\"#7201a8\\\"],[0.3333333333333333,\\\"#9c179e\\\"],[0.4444444444444444,\\\"#bd3786\\\"],[0.5555555555555556,\\\"#d8576b\\\"],[0.6666666666666666,\\\"#ed7953\\\"],[0.7777777777777778,\\\"#fb9f3a\\\"],[0.8888888888888888,\\\"#fdca26\\\"],[1.0,\\\"#f0f921\\\"]]}],\\\"scattermapbox\\\":[{\\\"type\\\":\\\"scattermapbox\\\",\\\"marker\\\":{\\\"colorbar\\\":{\\\"ticks\\\":\\\"\\\",\\\"outlinewidth\\\":0}}}],\\\"scattergeo\\\":[{\\\"type\\\":\\\"scattergeo\\\",\\\"marker\\\":{\\\"colorbar\\\":{\\\"ticks\\\":\\\"\\\",\\\"outlinewidth\\\":0}}}],\\\"histogram\\\":[{\\\"type\\\":\\\"histogram\\\",\\\"marker\\\":{\\\"colorbar\\\":{\\\"ticks\\\":\\\"\\\",\\\"outlinewidth\\\":0}}}],\\\"pie\\\":[{\\\"type\\\":\\\"pie\\\",\\\"automargin\\\":true}],\\\"choropleth\\\":[{\\\"colorbar\\\":{\\\"ticks\\\":\\\"\\\",\\\"outlinewidth\\\":0},\\\"type\\\":\\\"choropleth\\\"}],\\\"heatmapgl\\\":[{\\\"colorbar\\\":{\\\"ticks\\\":\\\"\\\",\\\"outlinewidth\\\":0},\\\"type\\\":\\\"heatmapgl\\\",\\\"colorscale\\\":[[0.0,\\\"#0d0887\\\"],[0.1111111111111111,\\\"#46039f\\\"],[0.2222222222222222,\\\"#7201a8\\\"],[0.3333333333333333,\\\"#9c179e\\\"],[0.4444444444444444,\\\"#bd3786\\\"],[0.5555555555555556,\\\"#d8576b\\\"],[0.6666666666666666,\\\"#ed7953\\\"],[0.7777777777777778,\\\"#fb9f3a\\\"],[0.8888888888888888,\\\"#fdca26\\\"],[1.0,\\\"#f0f921\\\"]]}],\\\"bar\\\":[{\\\"type\\\":\\\"bar\\\",\\\"error_y\\\":{\\\"color\\\":\\\"#2a3f5f\\\"},\\\"error_x\\\":{\\\"color\\\":\\\"#2a3f5f\\\"},\\\"marker\\\":{\\\"line\\\":{\\\"color\\\":\\\"#E5ECF6\\\",\\\"width\\\":0.5}}}],\\\"heatmap\\\":[{\\\"colorbar\\\":{\\\"ticks\\\":\\\"\\\",\\\"outlinewidth\\\":0},\\\"type\\\":\\\"heatmap\\\",\\\"colorscale\\\":[[0.0,\\\"#0d0887\\\"],[0.1111111111111111,\\\"#46039f\\\"],[0.2222222222222222,\\\"#7201a8\\\"],[0.3333333333333333,\\\"#9c179e\\\"],[0.4444444444444444,\\\"#bd3786\\\"],[0.5555555555555556,\\\"#d8576b\\\"],[0.6666666666666666,\\\"#ed7953\\\"],[0.7777777777777778,\\\"#fb9f3a\\\"],[0.8888888888888888,\\\"#fdca26\\\"],[1.0,\\\"#f0f921\\\"]]}],\\\"contourcarpet\\\":[{\\\"colorbar\\\":{\\\"ticks\\\":\\\"\\\",\\\"outlinewidth\\\":0},\\\"type\\\":\\\"contourcarpet\\\"}],\\\"table\\\":[{\\\"type\\\":\\\"table\\\",\\\"header\\\":{\\\"line\\\":{\\\"color\\\":\\\"white\\\"},\\\"fill\\\":{\\\"color\\\":\\\"#C8D4E3\\\"}},\\\"cells\\\":{\\\"line\\\":{\\\"color\\\":\\\"white\\\"},\\\"fill\\\":{\\\"color\\\":\\\"#EBF0F8\\\"}}}],\\\"scatter3d\\\":[{\\\"line\\\":{\\\"colorbar\\\":{\\\"ticks\\\":\\\"\\\",\\\"outlinewidth\\\":0}},\\\"type\\\":\\\"scatter3d\\\",\\\"marker\\\":{\\\"colorbar\\\":{\\\"ticks\\\":\\\"\\\",\\\"outlinewidth\\\":0}}}],\\\"scattergl\\\":[{\\\"type\\\":\\\"scattergl\\\",\\\"marker\\\":{\\\"colorbar\\\":{\\\"ticks\\\":\\\"\\\",\\\"outlinewidth\\\":0}}}],\\\"histogram2d\\\":[{\\\"colorbar\\\":{\\\"ticks\\\":\\\"\\\",\\\"outlinewidth\\\":0},\\\"type\\\":\\\"histogram2d\\\",\\\"colorscale\\\":[[0.0,\\\"#0d0887\\\"],[0.1111111111111111,\\\"#46039f\\\"],[0.2222222222222222,\\\"#7201a8\\\"],[0.3333333333333333,\\\"#9c179e\\\"],[0.4444444444444444,\\\"#bd3786\\\"],[0.5555555555555556,\\\"#d8576b\\\"],[0.6666666666666666,\\\"#ed7953\\\"],[0.7777777777777778,\\\"#fb9f3a\\\"],[0.8888888888888888,\\\"#fdca26\\\"],[1.0,\\\"#f0f921\\\"]]}],\\\"scatterternary\\\":[{\\\"type\\\":\\\"scatterternary\\\",\\\"marker\\\":{\\\"colorbar\\\":{\\\"ticks\\\":\\\"\\\",\\\"outlinewidth\\\":0}}}],\\\"scatterpolargl\\\":[{\\\"type\\\":\\\"scatterpolargl\\\",\\\"marker\\\":{\\\"colorbar\\\":{\\\"ticks\\\":\\\"\\\",\\\"outlinewidth\\\":0}}}]}},\\\"xaxis2\\\":{\\\"title\\\":{\\\"text\\\":\\\"hour\\\"},\\\"domain\\\":[0.55,1.0],\\\"anchor\\\":\\\"y2\\\"},\\\"margin\\\":{\\\"l\\\":50,\\\"b\\\":50,\\\"r\\\":50,\\\"t\\\":60},\\\"yaxis2\\\":{\\\"title\\\":{\\\"text\\\":\\\"demand MW\\\"},\\\"domain\\\":[0.0,1.0],\\\"anchor\\\":\\\"x2\\\"},\\\"annotations\\\":[{\\\"yanchor\\\":\\\"bottom\\\",\\\"xanchor\\\":\\\"center\\\",\\\"y\\\":1.0,\\\"font\\\":{\\\"size\\\":16},\\\"showarrow\\\":false,\\\"yref\\\":\\\"paper\\\",\\\"text\\\":\\\"Supply\\\",\\\"xref\\\":\\\"paper\\\",\\\"x\\\":0.225},{\\\"yanchor\\\":\\\"bottom\\\",\\\"xanchor\\\":\\\"center\\\",\\\"y\\\":1.0,\\\"font\\\":{\\\"size\\\":16},\\\"showarrow\\\":false,\\\"yref\\\":\\\"paper\\\",\\\"text\\\":\\\"Demand\\\",\\\"xref\\\":\\\"paper\\\",\\\"x\\\":0.775}]},{\\\"showLink\\\":false,\\\"editable\\\":false,\\\"responsive\\\":true,\\\"staticPlot\\\":false,\\\"scrollZoom\\\":true}); gd.on(\\\"plotly_hover\\\",(function (data){var filtered_data=WebIO.PlotlyCommands.filterEventData(gd,data,\\\"hover\\\"); return !(filtered_data.isnil) ? (WebIO.setval({\\\"name\\\":\\\"hover\\\",\\\"scope\\\":\\\"428306758429655620\\\",\\\"id\\\":\\\"901\\\",\\\"type\\\":\\\"observable\\\"},filtered_data.out)) : undefined})); gd.on(\\\"plotly_unhover\\\",(function (){return WebIO.setval({\\\"name\\\":\\\"hover\\\",\\\"scope\\\":\\\"428306758429655620\\\",\\\"id\\\":\\\"901\\\",\\\"type\\\":\\\"observable\\\"},{})})); gd.on(\\\"plotly_selected\\\",(function (data){var filtered_data=WebIO.PlotlyCommands.filterEventData(gd,data,\\\"selected\\\"); return !(filtered_data.isnil) ? (WebIO.setval({\\\"name\\\":\\\"selected\\\",\\\"scope\\\":\\\"428306758429655620\\\",\\\"id\\\":\\\"902\\\",\\\"type\\\":\\\"observable\\\"},filtered_data.out)) : undefined})); gd.on(\\\"plotly_deselect\\\",(function (){return WebIO.setval({\\\"name\\\":\\\"selected\\\",\\\"scope\\\":\\\"428306758429655620\\\",\\\"id\\\":\\\"902\\\",\\\"type\\\":\\\"observable\\\"},{})})); gd.on(\\\"plotly_relayout\\\",(function (data){var filtered_data=WebIO.PlotlyCommands.filterEventData(gd,data,\\\"relayout\\\"); return !(filtered_data.isnil) ? (WebIO.setval({\\\"name\\\":\\\"relayout\\\",\\\"scope\\\":\\\"428306758429655620\\\",\\\"id\\\":\\\"904\\\",\\\"type\\\":\\\"observable\\\"},filtered_data.out)) : undefined})); return gd.on(\\\"plotly_click\\\",(function (data){var filtered_data=WebIO.PlotlyCommands.filterEventData(gd,data,\\\"click\\\"); return !(filtered_data.isnil) ? (WebIO.setval({\\\"name\\\":\\\"click\\\",\\\"scope\\\":\\\"428306758429655620\\\",\\\"id\\\":\\\"903\\\",\\\"type\\\":\\\"observable\\\"},filtered_data.out)) : undefined}))}));\\n    (WebIO.importBlock({\\\"data\\\":[{\\\"name\\\":\\\"Plotly\\\",\\\"type\\\":\\\"js\\\",\\\"url\\\":\\\"\\/assetserver\\/d6feb8d8ce4676ebdde817a0745950a35b4ba3ae-plotly.min.js\\\"},{\\\"name\\\":null,\\\"type\\\":\\\"js\\\",\\\"url\\\":\\\"\\/assetserver\\/517030b23c1c21e94bf622985d97a74a9582e066-plotly_webio.bundle.js\\\"}],\\\"type\\\":\\\"async_block\\\"})).then((imports) => handler.apply(this, imports));\\n}\\n\"],\"observables\":{\"_toImage\":{\"sync\":false,\"id\":\"908\",\"value\":{}},\"hover\":{\"sync\":false,\"id\":\"901\",\"value\":{}},\"selected\":{\"sync\":false,\"id\":\"902\",\"value\":{}},\"__gd_contents\":{\"sync\":false,\"id\":\"906\",\"value\":{}},\"click\":{\"sync\":false,\"id\":\"903\",\"value\":{}},\"image\":{\"sync\":true,\"id\":\"905\",\"value\":\"\"},\"__get_gd_contents\":{\"sync\":false,\"id\":\"910\",\"value\":\"\"},\"_downloadImage\":{\"sync\":false,\"id\":\"909\",\"value\":{}},\"relayout\":{\"sync\":false,\"id\":\"904\",\"value\":{}},\"_commands\":{\"sync\":false,\"id\":\"907\",\"value\":[\"update\",{},{\"xaxis1\":{\"title\":{\"text\":\"hour\"},\"domain\":[0.0,0.45],\"anchor\":\"y1\"},\"yaxis1\":{\"title\":{\"text\":\"production MW\"},\"domain\":[0.0,1.0],\"anchor\":\"x1\"},\"template\":{\"data\":{\"scatterpolargl\":[{\"type\":\"scatterpolargl\",\"marker\":{\"colorbar\":{\"ticks\":\"\",\"outlinewidth\":0}}}],\"carpet\":[{\"baxis\":{\"gridcolor\":\"white\",\"endlinecolor\":\"#2a3f5f\",\"minorgridcolor\":\"white\",\"startlinecolor\":\"#2a3f5f\",\"linecolor\":\"white\"},\"type\":\"carpet\",\"aaxis\":{\"gridcolor\":\"white\",\"endlinecolor\":\"#2a3f5f\",\"minorgridcolor\":\"white\",\"startlinecolor\":\"#2a3f5f\",\"linecolor\":\"white\"}}],\"scatterpolar\":[{\"type\":\"scatterpolar\",\"marker\":{\"colorbar\":{\"ticks\":\"\",\"outlinewidth\":0}}}],\"parcoords\":[{\"line\":{\"colorbar\":{\"ticks\":\"\",\"outlinewidth\":0}},\"type\":\"parcoords\"}],\"scatter\":[{\"type\":\"scatter\",\"marker\":{\"colorbar\":{\"ticks\":\"\",\"outlinewidth\":0}}}],\"histogram2dcontour\":[{\"colorbar\":{\"ticks\":\"\",\"outlinewidth\":0},\"type\":\"histogram2dcontour\",\"colorscale\":[[0.0,\"#0d0887\"],[0.1111111111111111,\"#46039f\"],[0.2222222222222222,\"#7201a8\"],[0.3333333333333333,\"#9c179e\"],[0.4444444444444444,\"#bd3786\"],[0.5555555555555556,\"#d8576b\"],[0.6666666666666666,\"#ed7953\"],[0.7777777777777778,\"#fb9f3a\"],[0.8888888888888888,\"#fdca26\"],[1.0,\"#f0f921\"]]}],\"contour\":[{\"colorbar\":{\"ticks\":\"\",\"outlinewidth\":0},\"type\":\"contour\",\"colorscale\":[[0.0,\"#0d0887\"],[0.1111111111111111,\"#46039f\"],[0.2222222222222222,\"#7201a8\"],[0.3333333333333333,\"#9c179e\"],[0.4444444444444444,\"#bd3786\"],[0.5555555555555556,\"#d8576b\"],[0.6666666666666666,\"#ed7953\"],[0.7777777777777778,\"#fb9f3a\"],[0.8888888888888888,\"#fdca26\"],[1.0,\"#f0f921\"]]}],\"scattercarpet\":[{\"type\":\"scattercarpet\",\"marker\":{\"colorbar\":{\"ticks\":\"\",\"outlinewidth\":0}}}],\"mesh3d\":[{\"colorbar\":{\"ticks\":\"\",\"outlinewidth\":0},\"type\":\"mesh3d\"}],\"surface\":[{\"colorbar\":{\"ticks\":\"\",\"outlinewidth\":0},\"type\":\"surface\",\"colorscale\":[[0.0,\"#0d0887\"],[0.1111111111111111,\"#46039f\"],[0.2222222222222222,\"#7201a8\"],[0.3333333333333333,\"#9c179e\"],[0.4444444444444444,\"#bd3786\"],[0.5555555555555556,\"#d8576b\"],[0.6666666666666666,\"#ed7953\"],[0.7777777777777778,\"#fb9f3a\"],[0.8888888888888888,\"#fdca26\"],[1.0,\"#f0f921\"]]}],\"scattermapbox\":[{\"type\":\"scattermapbox\",\"marker\":{\"colorbar\":{\"ticks\":\"\",\"outlinewidth\":0}}}],\"scattergeo\":[{\"type\":\"scattergeo\",\"marker\":{\"colorbar\":{\"ticks\":\"\",\"outlinewidth\":0}}}],\"histogram\":[{\"type\":\"histogram\",\"marker\":{\"colorbar\":{\"ticks\":\"\",\"outlinewidth\":0}}}],\"pie\":[{\"type\":\"pie\",\"automargin\":true}],\"choropleth\":[{\"colorbar\":{\"ticks\":\"\",\"outlinewidth\":0},\"type\":\"choropleth\"}],\"heatmapgl\":[{\"colorbar\":{\"ticks\":\"\",\"outlinewidth\":0},\"type\":\"heatmapgl\",\"colorscale\":[[0.0,\"#0d0887\"],[0.1111111111111111,\"#46039f\"],[0.2222222222222222,\"#7201a8\"],[0.3333333333333333,\"#9c179e\"],[0.4444444444444444,\"#bd3786\"],[0.5555555555555556,\"#d8576b\"],[0.6666666666666666,\"#ed7953\"],[0.7777777777777778,\"#fb9f3a\"],[0.8888888888888888,\"#fdca26\"],[1.0,\"#f0f921\"]]}],\"bar\":[{\"type\":\"bar\",\"error_y\":{\"color\":\"#2a3f5f\"},\"error_x\":{\"color\":\"#2a3f5f\"},\"marker\":{\"line\":{\"color\":\"#E5ECF6\",\"width\":0.5}}}],\"heatmap\":[{\"colorbar\":{\"ticks\":\"\",\"outlinewidth\":0},\"type\":\"heatmap\",\"colorscale\":[[0.0,\"#0d0887\"],[0.1111111111111111,\"#46039f\"],[0.2222222222222222,\"#7201a8\"],[0.3333333333333333,\"#9c179e\"],[0.4444444444444444,\"#bd3786\"],[0.5555555555555556,\"#d8576b\"],[0.6666666666666666,\"#ed7953\"],[0.7777777777777778,\"#fb9f3a\"],[0.8888888888888888,\"#fdca26\"],[1.0,\"#f0f921\"]]}],\"contourcarpet\":[{\"colorbar\":{\"ticks\":\"\",\"outlinewidth\":0},\"type\":\"contourcarpet\"}],\"table\":[{\"type\":\"table\",\"header\":{\"line\":{\"color\":\"white\"},\"fill\":{\"color\":\"#C8D4E3\"}},\"cells\":{\"line\":{\"color\":\"white\"},\"fill\":{\"color\":\"#EBF0F8\"}}}],\"scatter3d\":[{\"line\":{\"colorbar\":{\"ticks\":\"\",\"outlinewidth\":0}},\"type\":\"scatter3d\",\"marker\":{\"colorbar\":{\"ticks\":\"\",\"outlinewidth\":0}}}],\"scattergl\":[{\"type\":\"scattergl\",\"marker\":{\"colorbar\":{\"ticks\":\"\",\"outlinewidth\":0}}}],\"histogram2d\":[{\"colorbar\":{\"ticks\":\"\",\"outlinewidth\":0},\"type\":\"histogram2d\",\"colorscale\":[[0.0,\"#0d0887\"],[0.1111111111111111,\"#46039f\"],[0.2222222222222222,\"#7201a8\"],[0.3333333333333333,\"#9c179e\"],[0.4444444444444444,\"#bd3786\"],[0.5555555555555556,\"#d8576b\"],[0.6666666666666666,\"#ed7953\"],[0.7777777777777778,\"#fb9f3a\"],[0.8888888888888888,\"#fdca26\"],[1.0,\"#f0f921\"]]}],\"scatterternary\":[{\"type\":\"scatterternary\",\"marker\":{\"colorbar\":{\"ticks\":\"\",\"outlinewidth\":0}}}],\"barpolar\":[{\"type\":\"barpolar\",\"marker\":{\"line\":{\"color\":\"#E5ECF6\",\"width\":0.5}}}]},\"layout\":{\"xaxis\":{\"gridcolor\":\"white\",\"zerolinewidth\":2,\"title\":{\"standoff\":15},\"ticks\":\"\",\"zerolinecolor\":\"white\",\"automargin\":true,\"linecolor\":\"white\"},\"hovermode\":\"closest\",\"paper_bgcolor\":\"white\",\"geo\":{\"showlakes\":true,\"showland\":true,\"landcolor\":\"#E5ECF6\",\"bgcolor\":\"white\",\"subunitcolor\":\"white\",\"lakecolor\":\"white\"},\"colorscale\":{\"sequential\":[[0.0,\"#0d0887\"],[0.1111111111111111,\"#46039f\"],[0.2222222222222222,\"#7201a8\"],[0.3333333333333333,\"#9c179e\"],[0.4444444444444444,\"#bd3786\"],[0.5555555555555556,\"#d8576b\"],[0.6666666666666666,\"#ed7953\"],[0.7777777777777778,\"#fb9f3a\"],[0.8888888888888888,\"#fdca26\"],[1.0,\"#f0f921\"]],\"diverging\":[[0,\"#8e0152\"],[0.1,\"#c51b7d\"],[0.2,\"#de77ae\"],[0.3,\"#f1b6da\"],[0.4,\"#fde0ef\"],[0.5,\"#f7f7f7\"],[0.6,\"#e6f5d0\"],[0.7,\"#b8e186\"],[0.8,\"#7fbc41\"],[0.9,\"#4d9221\"],[1,\"#276419\"]],\"sequentialminus\":[[0.0,\"#0d0887\"],[0.1111111111111111,\"#46039f\"],[0.2222222222222222,\"#7201a8\"],[0.3333333333333333,\"#9c179e\"],[0.4444444444444444,\"#bd3786\"],[0.5555555555555556,\"#d8576b\"],[0.6666666666666666,\"#ed7953\"],[0.7777777777777778,\"#fb9f3a\"],[0.8888888888888888,\"#fdca26\"],[1.0,\"#f0f921\"]]},\"yaxis\":{\"gridcolor\":\"white\",\"zerolinewidth\":2,\"title\":{\"standoff\":15},\"ticks\":\"\",\"zerolinecolor\":\"white\",\"automargin\":true,\"linecolor\":\"white\"},\"shapedefaults\":{\"line\":{\"color\":\"#2a3f5f\"}},\"font\":{\"color\":\"#2a3f5f\"},\"annotationdefaults\":{\"arrowhead\":0,\"arrowwidth\":1,\"arrowcolor\":\"#2a3f5f\"},\"plot_bgcolor\":\"#E5ECF6\",\"title\":{\"x\":0.05},\"coloraxis\":{\"colorbar\":{\"ticks\":\"\",\"outlinewidth\":0}},\"hoverlabel\":{\"align\":\"left\"},\"mapbox\":{\"style\":\"light\"},\"polar\":{\"angularaxis\":{\"gridcolor\":\"white\",\"ticks\":\"\",\"linecolor\":\"white\"},\"bgcolor\":\"#E5ECF6\",\"radialaxis\":{\"gridcolor\":\"white\",\"ticks\":\"\",\"linecolor\":\"white\"}},\"autotypenumbers\":\"strict\",\"ternary\":{\"aaxis\":{\"gridcolor\":\"white\",\"ticks\":\"\",\"linecolor\":\"white\"},\"bgcolor\":\"#E5ECF6\",\"caxis\":{\"gridcolor\":\"white\",\"ticks\":\"\",\"linecolor\":\"white\"},\"baxis\":{\"gridcolor\":\"white\",\"ticks\":\"\",\"linecolor\":\"white\"}},\"scene\":{\"xaxis\":{\"gridcolor\":\"white\",\"gridwidth\":2,\"backgroundcolor\":\"#E5ECF6\",\"ticks\":\"\",\"showbackground\":true,\"zerolinecolor\":\"white\",\"linecolor\":\"white\"},\"zaxis\":{\"gridcolor\":\"white\",\"gridwidth\":2,\"backgroundcolor\":\"#E5ECF6\",\"ticks\":\"\",\"showbackground\":true,\"zerolinecolor\":\"white\",\"linecolor\":\"white\"},\"yaxis\":{\"gridcolor\":\"white\",\"gridwidth\":2,\"backgroundcolor\":\"#E5ECF6\",\"ticks\":\"\",\"showbackground\":true,\"zerolinecolor\":\"white\",\"linecolor\":\"white\"}},\"colorway\":[\"#636efa\",\"#EF553B\",\"#00cc96\",\"#ab63fa\",\"#FFA15A\",\"#19d3f3\",\"#FF6692\",\"#B6E880\",\"#FF97FF\",\"#FECB52\"]}},\"xaxis2\":{\"title\":{\"text\":\"hour\"},\"domain\":[0.55,1.0],\"anchor\":\"y2\"},\"margin\":{\"l\":50,\"b\":50,\"r\":50,\"t\":60},\"yaxis2\":{\"title\":{\"text\":\"demand MW\"},\"domain\":[0.0,1.0],\"anchor\":\"x2\"},\"annotations\":[{\"yanchor\":\"bottom\",\"xanchor\":\"center\",\"y\":1.0,\"font\":{\"size\":16},\"showarrow\":false,\"yref\":\"paper\",\"text\":\"Supply\",\"xref\":\"paper\",\"x\":0.225},{\"yanchor\":\"bottom\",\"xanchor\":\"center\",\"y\":1.0,\"font\":{\"size\":16},\"showarrow\":false,\"yref\":\"paper\",\"text\":\"Demand\",\"xref\":\"paper\",\"x\":0.775}]}]}}},\"children\":[{\"props\":{\"id\":\"plot-59f0268f-f7ce-4abb-8f53-555ab8c419e2\"},\"nodeType\":\"DOM\",\"type\":\"node\",\"instanceArgs\":{\"namespace\":\"html\",\"tag\":\"div\"},\"children\":[]}]},\n",
       "        window,\n",
       "    );\n",
       "    })()\n",
       "    </script>\n",
       "</div>\n"
      ],
      "text/plain": [
       "data: [\n",
       "  \"scatter with fields line, mode, name, stackgroup, type, x, xaxis, y, and yaxis\",\n",
       "  \"scatter with fields line, mode, name, stackgroup, type, x, xaxis, y, and yaxis\",\n",
       "  \"scatter with fields line, mode, name, stackgroup, type, x, xaxis, y, and yaxis\",\n",
       "  \"scatter with fields line, mode, name, stackgroup, type, x, xaxis, y, and yaxis\",\n",
       "  \"scatter with fields line, mode, name, stackgroup, type, x, xaxis, y, and yaxis\",\n",
       "  \"scatter with fields line, mode, name, stackgroup, type, x, xaxis, y, and yaxis\",\n",
       "  \"scatter with fields line, mode, name, stackgroup, type, x, xaxis, y, and yaxis\",\n",
       "  \"scatter with fields line, mode, name, stackgroup, type, x, xaxis, y, and yaxis\",\n",
       "  \"scatter with fields line, mode, name, stackgroup, type, x, xaxis, y, and yaxis\",\n",
       "  \"scatter with fields line, mode, name, stackgroup, type, x, xaxis, y, and yaxis\",\n",
       "  \"scatter with fields line, mode, name, stackgroup, type, x, xaxis, y, and yaxis\",\n",
       "  \"scatter with fields line, mode, name, stackgroup, type, x, xaxis, y, and yaxis\",\n",
       "  \"scatter with fields line, mode, name, stackgroup, type, x, xaxis, y, and yaxis\"\n",
       "]\n",
       "\n",
       "layout: \"layout with fields annotations, margin, template, xaxis1, xaxis2, yaxis1, and yaxis2\"\n",
       "\n"
      ]
     },
     "metadata": {},
     "output_type": "display_data"
    }
   ],
   "source": [
    "plots1 = [\n",
    "    scatter(\n",
    "        x= supply[supply.resource .== r,:].hour, y=supply[supply.resource .== r,:].production_MW,\n",
    "        stackgroup=\"one\", mode=\"lines\", name = r,\n",
    "        line=attr(width=1, color=color_discrete_map(r), shape = \"line\")\n",
    "    ) for r in unique(supply.resource)\n",
    "]\n",
    "plots2 = [\n",
    "    scatter(\n",
    "        x= demand[demand.resource .== r,:].hour, y=demand[demand.resource .== r,:].demand_MW,\n",
    "        stackgroup=\"one\", mode=\"lines\", name = r,\n",
    "        line=attr(width=1, color=color_discrete_map(r), shape = \"line\")\n",
    "    ) for r in unique(demand.resource)\n",
    "]\n",
    "p1 = plot(plots1, Layout(yaxis_title=\"production MW\", xaxis_title=\"hour\", title = \"Supply\")\n",
    ")\n",
    "p2 =  plot(plots2, Layout(yaxis_title=\"demand MW\", xaxis_title=\"hour\", title = \"Demand\")\n",
    ")\n",
    "p = [p1 p2]\n",
    "relayout!(p)\n",
    "p"
   ]
  },
  {
   "cell_type": "code",
   "execution_count": 166,
   "metadata": {},
   "outputs": [
    {
     "data": {
      "application/vnd.plotly.v1+json": {
       "config": {
        "editable": false,
        "responsive": true,
        "scrollZoom": true,
        "showLink": false,
        "staticPlot": false
       },
       "data": [
        {
         "line": {
          "color": "grey",
          "shape": "line",
          "width": 1
         },
         "mode": "lines",
         "name": "natural_gas_fired_combined_cycle",
         "stackgroup": 1,
         "type": "scatter",
         "x": [
          2401,
          2402,
          2403,
          2404,
          2405,
          2406,
          2407,
          2408,
          2409,
          2410,
          2411,
          2412,
          2413,
          2414,
          2415,
          2416,
          2417,
          2418,
          2419,
          2420,
          2421,
          2422,
          2423,
          2424
         ],
         "xaxis": "x1",
         "y": [
          433.904,
          311.7578,
          310.0078,
          312.2078,
          320.7578,
          332.9078,
          347.8078,
          363.9578,
          441.9,
          451.15,
          456.25,
          448.15,
          437.15,
          433.3,
          428.9,
          424.1,
          421.1,
          418.7,
          418.9,
          425.05,
          425.3,
          412.9,
          399.4,
          388
         ],
         "yaxis": "y1"
        },
        {
         "line": {
          "color": "black",
          "shape": "line",
          "width": 1
         },
         "mode": "lines",
         "name": "natural_gas_fired_combustion_turbine",
         "stackgroup": 1,
         "type": "scatter",
         "x": [
          2401,
          2402,
          2403,
          2404,
          2405,
          2406,
          2407,
          2408,
          2409,
          2410,
          2411,
          2412,
          2413,
          2414,
          2415,
          2416,
          2417,
          2418,
          2419,
          2420,
          2421,
          2422,
          2423,
          2424
         ],
         "xaxis": "x1",
         "y": [
          65.8922,
          65.8922,
          65.8922,
          65.8922,
          65.8922,
          65.8922,
          65.8922,
          65.8922,
          0,
          0,
          0,
          0,
          0,
          0,
          0,
          0,
          0,
          0,
          0,
          0,
          0,
          0,
          0,
          0
         ],
         "yaxis": "y1"
        },
        {
         "line": {
          "color": "skyblue",
          "shape": "line",
          "width": 1
         },
         "mode": "lines",
         "name": "onshore_wind_turbine",
         "stackgroup": 1,
         "type": "scatter",
         "x": [
          2401,
          2402,
          2403,
          2404,
          2405,
          2406,
          2407,
          2408,
          2409,
          2410,
          2411,
          2412,
          2413,
          2414,
          2415,
          2416,
          2417,
          2418,
          2419,
          2420,
          2421,
          2422,
          2423,
          2424
         ],
         "xaxis": "x1",
         "y": [
          null,
          null,
          null,
          null,
          null,
          null,
          null,
          null,
          null,
          null,
          null,
          null,
          null,
          null,
          null,
          null,
          null,
          null,
          null,
          null,
          null,
          null,
          null,
          null
         ],
         "yaxis": "y1"
        },
        {
         "line": {
          "color": "cornflowerblue",
          "shape": "line",
          "width": 1
         },
         "mode": "lines",
         "name": "small_hydroelectric",
         "stackgroup": 1,
         "type": "scatter",
         "x": [
          2401,
          2402,
          2403,
          2404,
          2405,
          2406,
          2407,
          2408,
          2409,
          2410,
          2411,
          2412,
          2413,
          2414,
          2415,
          2416,
          2417,
          2418,
          2419,
          2420,
          2421,
          2422,
          2423,
          2424
         ],
         "xaxis": "x1",
         "y": [
          null,
          null,
          null,
          null,
          null,
          null,
          null,
          null,
          null,
          null,
          null,
          null,
          null,
          null,
          null,
          null,
          null,
          null,
          null,
          null,
          null,
          null,
          null,
          null
         ],
         "yaxis": "y1"
        },
        {
         "line": {
          "color": "gold",
          "shape": "line",
          "width": 1
         },
         "mode": "lines",
         "name": "solar_photovoltaic",
         "stackgroup": 1,
         "type": "scatter",
         "x": [
          2401,
          2402,
          2403,
          2404,
          2405,
          2406,
          2407,
          2408,
          2409,
          2410,
          2411,
          2412,
          2413,
          2414,
          2415,
          2416,
          2417,
          2418,
          2419,
          2420,
          2421,
          2422,
          2423,
          2424
         ],
         "xaxis": "x1",
         "y": [
          null,
          null,
          null,
          null,
          null,
          null,
          null,
          null,
          null,
          null,
          null,
          null,
          null,
          null,
          null,
          null,
          null,
          null,
          null,
          null,
          null,
          null,
          null,
          null
         ],
         "yaxis": "y1"
        },
        {
         "line": {
          "color": "#6fc276",
          "shape": "line",
          "width": 1
         },
         "mode": "lines",
         "name": "biomass",
         "stackgroup": 1,
         "type": "scatter",
         "x": [
          2401,
          2402,
          2403,
          2404,
          2405,
          2406,
          2407,
          2408,
          2409,
          2410,
          2411,
          2412,
          2413,
          2414,
          2415,
          2416,
          2417,
          2418,
          2419,
          2420,
          2421,
          2422,
          2423,
          2424
         ],
         "xaxis": "x1",
         "y": [
          null,
          null,
          null,
          null,
          null,
          null,
          null,
          null,
          null,
          null,
          null,
          null,
          null,
          null,
          null,
          null,
          null,
          null,
          null,
          null,
          null,
          null,
          null,
          null
         ],
         "yaxis": "y1"
        },
        {
         "line": {
          "color": "darkblue",
          "shape": "line",
          "width": 1
         },
         "mode": "lines",
         "name": "hydroelectric_pumped_storage",
         "stackgroup": 1,
         "type": "scatter",
         "x": [
          2401,
          2402,
          2403,
          2404,
          2405,
          2406,
          2407,
          2408,
          2409,
          2410,
          2411,
          2412,
          2413,
          2414,
          2415,
          2416,
          2417,
          2418,
          2419,
          2420,
          2421,
          2422,
          2423,
          2424
         ],
         "xaxis": "x1",
         "y": [
          null,
          null,
          null,
          null,
          null,
          null,
          null,
          null,
          null,
          null,
          null,
          null,
          null,
          null,
          null,
          null,
          null,
          null,
          null,
          null,
          null,
          null,
          null,
          null
         ],
         "yaxis": "y1"
        },
        {
         "line": {
          "color": "#F0092",
          "shape": "line",
          "width": 1
         },
         "mode": "lines",
         "name": "required",
         "stackgroup": 2,
         "type": "scatter",
         "x": [
          2401,
          2402,
          2403,
          2404,
          2405,
          2406,
          2407,
          2408,
          2409,
          2410,
          2411,
          2412,
          2413,
          2414,
          2415,
          2416,
          2417,
          2418,
          2419,
          2420,
          2421,
          2422,
          2423,
          2424
         ],
         "xaxis": "x1",
         "y": [
          380.75,
          377.65,
          375.9,
          378.1,
          386.65,
          398.8,
          413.7,
          429.85,
          441.9,
          451.15,
          456.25,
          448.15,
          437.15,
          433.3,
          428.9,
          424.1,
          421.1,
          418.7,
          418.9,
          425.05,
          425.3,
          412.9,
          399.4,
          388
         ],
         "yaxis": "y1"
        },
        {
         "line": {
          "color": "grey",
          "shape": "line",
          "width": 1
         },
         "mode": "lines",
         "name": "natural_gas_fired_combined_cycle",
         "stackgroup": 1,
         "type": "scatter",
         "x": [
          2401,
          2402,
          2403,
          2404,
          2405,
          2406,
          2407,
          2408,
          2409,
          2410,
          2411,
          2412,
          2413,
          2414,
          2415,
          2416,
          2417,
          2418,
          2419,
          2420,
          2421,
          2422,
          2423,
          2424
         ],
         "xaxis": "x2",
         "y": [
          433.904,
          311.7578,
          310.0078,
          312.2078,
          320.7578,
          332.9078,
          347.8078,
          363.9578,
          441.9,
          451.15,
          456.25,
          448.15,
          437.15,
          433.3,
          428.9,
          424.1,
          421.1,
          418.7,
          418.9,
          425.05,
          425.3,
          412.9,
          399.4,
          388
         ],
         "yaxis": "y2"
        },
        {
         "line": {
          "color": "black",
          "shape": "line",
          "width": 1
         },
         "mode": "lines",
         "name": "natural_gas_fired_combustion_turbine",
         "stackgroup": 1,
         "type": "scatter",
         "x": [
          2401,
          2402,
          2403,
          2404,
          2405,
          2406,
          2407,
          2408,
          2409,
          2410,
          2411,
          2412,
          2413,
          2414,
          2415,
          2416,
          2417,
          2418,
          2419,
          2420,
          2421,
          2422,
          2423,
          2424
         ],
         "xaxis": "x2",
         "y": [
          65.8922,
          65.8922,
          65.8922,
          65.8922,
          65.8922,
          65.8922,
          65.8922,
          65.8922,
          0,
          0,
          0,
          0,
          0,
          0,
          0,
          0,
          0,
          0,
          0,
          0,
          0,
          0,
          0,
          0
         ],
         "yaxis": "y2"
        },
        {
         "line": {
          "color": "skyblue",
          "shape": "line",
          "width": 1
         },
         "mode": "lines",
         "name": "onshore_wind_turbine",
         "stackgroup": 1,
         "type": "scatter",
         "x": [
          2401,
          2402,
          2403,
          2404,
          2405,
          2406,
          2407,
          2408,
          2409,
          2410,
          2411,
          2412,
          2413,
          2414,
          2415,
          2416,
          2417,
          2418,
          2419,
          2420,
          2421,
          2422,
          2423,
          2424
         ],
         "xaxis": "x2",
         "y": [
          null,
          null,
          null,
          null,
          null,
          null,
          null,
          null,
          null,
          null,
          null,
          null,
          null,
          null,
          null,
          null,
          null,
          null,
          null,
          null,
          null,
          null,
          null,
          null
         ],
         "yaxis": "y2"
        },
        {
         "line": {
          "color": "cornflowerblue",
          "shape": "line",
          "width": 1
         },
         "mode": "lines",
         "name": "small_hydroelectric",
         "stackgroup": 1,
         "type": "scatter",
         "x": [
          2401,
          2402,
          2403,
          2404,
          2405,
          2406,
          2407,
          2408,
          2409,
          2410,
          2411,
          2412,
          2413,
          2414,
          2415,
          2416,
          2417,
          2418,
          2419,
          2420,
          2421,
          2422,
          2423,
          2424
         ],
         "xaxis": "x2",
         "y": [
          null,
          null,
          null,
          null,
          null,
          null,
          null,
          null,
          null,
          null,
          null,
          null,
          null,
          null,
          null,
          null,
          null,
          null,
          null,
          null,
          null,
          null,
          null,
          null
         ],
         "yaxis": "y2"
        },
        {
         "line": {
          "color": "gold",
          "shape": "line",
          "width": 1
         },
         "mode": "lines",
         "name": "solar_photovoltaic",
         "stackgroup": 1,
         "type": "scatter",
         "x": [
          2401,
          2402,
          2403,
          2404,
          2405,
          2406,
          2407,
          2408,
          2409,
          2410,
          2411,
          2412,
          2413,
          2414,
          2415,
          2416,
          2417,
          2418,
          2419,
          2420,
          2421,
          2422,
          2423,
          2424
         ],
         "xaxis": "x2",
         "y": [
          null,
          null,
          null,
          null,
          null,
          null,
          null,
          null,
          null,
          null,
          null,
          null,
          null,
          null,
          null,
          null,
          null,
          null,
          null,
          null,
          null,
          null,
          null,
          null
         ],
         "yaxis": "y2"
        },
        {
         "line": {
          "color": "#6fc276",
          "shape": "line",
          "width": 1
         },
         "mode": "lines",
         "name": "biomass",
         "stackgroup": 1,
         "type": "scatter",
         "x": [
          2401,
          2402,
          2403,
          2404,
          2405,
          2406,
          2407,
          2408,
          2409,
          2410,
          2411,
          2412,
          2413,
          2414,
          2415,
          2416,
          2417,
          2418,
          2419,
          2420,
          2421,
          2422,
          2423,
          2424
         ],
         "xaxis": "x2",
         "y": [
          null,
          null,
          null,
          null,
          null,
          null,
          null,
          null,
          null,
          null,
          null,
          null,
          null,
          null,
          null,
          null,
          null,
          null,
          null,
          null,
          null,
          null,
          null,
          null
         ],
         "yaxis": "y2"
        },
        {
         "line": {
          "color": "darkblue",
          "shape": "line",
          "width": 1
         },
         "mode": "lines",
         "name": "hydroelectric_pumped_storage",
         "stackgroup": 1,
         "type": "scatter",
         "x": [
          2401,
          2402,
          2403,
          2404,
          2405,
          2406,
          2407,
          2408,
          2409,
          2410,
          2411,
          2412,
          2413,
          2414,
          2415,
          2416,
          2417,
          2418,
          2419,
          2420,
          2421,
          2422,
          2423,
          2424
         ],
         "xaxis": "x2",
         "y": [
          null,
          null,
          null,
          null,
          null,
          null,
          null,
          null,
          null,
          null,
          null,
          null,
          null,
          null,
          null,
          null,
          null,
          null,
          null,
          null,
          null,
          null,
          null,
          null
         ],
         "yaxis": "y2"
        },
        {
         "line": {
          "color": "#F0092",
          "shape": "line",
          "width": 1
         },
         "mode": "lines",
         "name": "required",
         "stackgroup": 2,
         "type": "scatter",
         "x": [
          2401,
          2402,
          2403,
          2404,
          2405,
          2406,
          2407,
          2408,
          2409,
          2410,
          2411,
          2412,
          2413,
          2414,
          2415,
          2416,
          2417,
          2418,
          2419,
          2420,
          2421,
          2422,
          2423,
          2424
         ],
         "xaxis": "x2",
         "y": [
          380.75,
          377.65,
          375.9,
          378.1,
          386.65,
          398.8,
          413.7,
          429.85,
          441.9,
          451.15,
          456.25,
          448.15,
          437.15,
          433.3,
          428.9,
          424.1,
          421.1,
          418.7,
          418.9,
          425.05,
          425.3,
          412.9,
          399.4,
          388
         ],
         "yaxis": "y2"
        }
       ],
       "frames": [],
       "layout": {
        "annotations": [
         {
          "font": {
           "size": 16
          },
          "showarrow": false,
          "text": "Reserve up",
          "x": 0.225,
          "xanchor": "center",
          "xref": "paper",
          "y": 1,
          "yanchor": "bottom",
          "yref": "paper"
         },
         {
          "font": {
           "size": 16
          },
          "showarrow": false,
          "text": "Reserve up",
          "x": 0.775,
          "xanchor": "center",
          "xref": "paper",
          "y": 1,
          "yanchor": "bottom",
          "yref": "paper"
         }
        ],
        "margin": {
         "b": 50,
         "l": 50,
         "r": 50,
         "t": 60
        },
        "template": {
         "data": {
          "bar": [
           {
            "error_x": {
             "color": "#2a3f5f"
            },
            "error_y": {
             "color": "#2a3f5f"
            },
            "marker": {
             "line": {
              "color": "#E5ECF6",
              "width": 0.5
             }
            },
            "type": "bar"
           }
          ],
          "barpolar": [
           {
            "marker": {
             "line": {
              "color": "#E5ECF6",
              "width": 0.5
             }
            },
            "type": "barpolar"
           }
          ],
          "carpet": [
           {
            "aaxis": {
             "endlinecolor": "#2a3f5f",
             "gridcolor": "white",
             "linecolor": "white",
             "minorgridcolor": "white",
             "startlinecolor": "#2a3f5f"
            },
            "baxis": {
             "endlinecolor": "#2a3f5f",
             "gridcolor": "white",
             "linecolor": "white",
             "minorgridcolor": "white",
             "startlinecolor": "#2a3f5f"
            },
            "type": "carpet"
           }
          ],
          "choropleth": [
           {
            "colorbar": {
             "outlinewidth": 0,
             "ticks": ""
            },
            "type": "choropleth"
           }
          ],
          "contour": [
           {
            "colorbar": {
             "outlinewidth": 0,
             "ticks": ""
            },
            "colorscale": [
             [
              0,
              "#0d0887"
             ],
             [
              0.1111111111111111,
              "#46039f"
             ],
             [
              0.2222222222222222,
              "#7201a8"
             ],
             [
              0.3333333333333333,
              "#9c179e"
             ],
             [
              0.4444444444444444,
              "#bd3786"
             ],
             [
              0.5555555555555556,
              "#d8576b"
             ],
             [
              0.6666666666666666,
              "#ed7953"
             ],
             [
              0.7777777777777778,
              "#fb9f3a"
             ],
             [
              0.8888888888888888,
              "#fdca26"
             ],
             [
              1,
              "#f0f921"
             ]
            ],
            "type": "contour"
           }
          ],
          "contourcarpet": [
           {
            "colorbar": {
             "outlinewidth": 0,
             "ticks": ""
            },
            "type": "contourcarpet"
           }
          ],
          "heatmap": [
           {
            "colorbar": {
             "outlinewidth": 0,
             "ticks": ""
            },
            "colorscale": [
             [
              0,
              "#0d0887"
             ],
             [
              0.1111111111111111,
              "#46039f"
             ],
             [
              0.2222222222222222,
              "#7201a8"
             ],
             [
              0.3333333333333333,
              "#9c179e"
             ],
             [
              0.4444444444444444,
              "#bd3786"
             ],
             [
              0.5555555555555556,
              "#d8576b"
             ],
             [
              0.6666666666666666,
              "#ed7953"
             ],
             [
              0.7777777777777778,
              "#fb9f3a"
             ],
             [
              0.8888888888888888,
              "#fdca26"
             ],
             [
              1,
              "#f0f921"
             ]
            ],
            "type": "heatmap"
           }
          ],
          "heatmapgl": [
           {
            "colorbar": {
             "outlinewidth": 0,
             "ticks": ""
            },
            "colorscale": [
             [
              0,
              "#0d0887"
             ],
             [
              0.1111111111111111,
              "#46039f"
             ],
             [
              0.2222222222222222,
              "#7201a8"
             ],
             [
              0.3333333333333333,
              "#9c179e"
             ],
             [
              0.4444444444444444,
              "#bd3786"
             ],
             [
              0.5555555555555556,
              "#d8576b"
             ],
             [
              0.6666666666666666,
              "#ed7953"
             ],
             [
              0.7777777777777778,
              "#fb9f3a"
             ],
             [
              0.8888888888888888,
              "#fdca26"
             ],
             [
              1,
              "#f0f921"
             ]
            ],
            "type": "heatmapgl"
           }
          ],
          "histogram": [
           {
            "marker": {
             "colorbar": {
              "outlinewidth": 0,
              "ticks": ""
             }
            },
            "type": "histogram"
           }
          ],
          "histogram2d": [
           {
            "colorbar": {
             "outlinewidth": 0,
             "ticks": ""
            },
            "colorscale": [
             [
              0,
              "#0d0887"
             ],
             [
              0.1111111111111111,
              "#46039f"
             ],
             [
              0.2222222222222222,
              "#7201a8"
             ],
             [
              0.3333333333333333,
              "#9c179e"
             ],
             [
              0.4444444444444444,
              "#bd3786"
             ],
             [
              0.5555555555555556,
              "#d8576b"
             ],
             [
              0.6666666666666666,
              "#ed7953"
             ],
             [
              0.7777777777777778,
              "#fb9f3a"
             ],
             [
              0.8888888888888888,
              "#fdca26"
             ],
             [
              1,
              "#f0f921"
             ]
            ],
            "type": "histogram2d"
           }
          ],
          "histogram2dcontour": [
           {
            "colorbar": {
             "outlinewidth": 0,
             "ticks": ""
            },
            "colorscale": [
             [
              0,
              "#0d0887"
             ],
             [
              0.1111111111111111,
              "#46039f"
             ],
             [
              0.2222222222222222,
              "#7201a8"
             ],
             [
              0.3333333333333333,
              "#9c179e"
             ],
             [
              0.4444444444444444,
              "#bd3786"
             ],
             [
              0.5555555555555556,
              "#d8576b"
             ],
             [
              0.6666666666666666,
              "#ed7953"
             ],
             [
              0.7777777777777778,
              "#fb9f3a"
             ],
             [
              0.8888888888888888,
              "#fdca26"
             ],
             [
              1,
              "#f0f921"
             ]
            ],
            "type": "histogram2dcontour"
           }
          ],
          "mesh3d": [
           {
            "colorbar": {
             "outlinewidth": 0,
             "ticks": ""
            },
            "type": "mesh3d"
           }
          ],
          "parcoords": [
           {
            "line": {
             "colorbar": {
              "outlinewidth": 0,
              "ticks": ""
             }
            },
            "type": "parcoords"
           }
          ],
          "pie": [
           {
            "automargin": true,
            "type": "pie"
           }
          ],
          "scatter": [
           {
            "marker": {
             "colorbar": {
              "outlinewidth": 0,
              "ticks": ""
             }
            },
            "type": "scatter"
           }
          ],
          "scatter3d": [
           {
            "line": {
             "colorbar": {
              "outlinewidth": 0,
              "ticks": ""
             }
            },
            "marker": {
             "colorbar": {
              "outlinewidth": 0,
              "ticks": ""
             }
            },
            "type": "scatter3d"
           }
          ],
          "scattercarpet": [
           {
            "marker": {
             "colorbar": {
              "outlinewidth": 0,
              "ticks": ""
             }
            },
            "type": "scattercarpet"
           }
          ],
          "scattergeo": [
           {
            "marker": {
             "colorbar": {
              "outlinewidth": 0,
              "ticks": ""
             }
            },
            "type": "scattergeo"
           }
          ],
          "scattergl": [
           {
            "marker": {
             "colorbar": {
              "outlinewidth": 0,
              "ticks": ""
             }
            },
            "type": "scattergl"
           }
          ],
          "scattermapbox": [
           {
            "marker": {
             "colorbar": {
              "outlinewidth": 0,
              "ticks": ""
             }
            },
            "type": "scattermapbox"
           }
          ],
          "scatterpolar": [
           {
            "marker": {
             "colorbar": {
              "outlinewidth": 0,
              "ticks": ""
             }
            },
            "type": "scatterpolar"
           }
          ],
          "scatterpolargl": [
           {
            "marker": {
             "colorbar": {
              "outlinewidth": 0,
              "ticks": ""
             }
            },
            "type": "scatterpolargl"
           }
          ],
          "scatterternary": [
           {
            "marker": {
             "colorbar": {
              "outlinewidth": 0,
              "ticks": ""
             }
            },
            "type": "scatterternary"
           }
          ],
          "surface": [
           {
            "colorbar": {
             "outlinewidth": 0,
             "ticks": ""
            },
            "colorscale": [
             [
              0,
              "#0d0887"
             ],
             [
              0.1111111111111111,
              "#46039f"
             ],
             [
              0.2222222222222222,
              "#7201a8"
             ],
             [
              0.3333333333333333,
              "#9c179e"
             ],
             [
              0.4444444444444444,
              "#bd3786"
             ],
             [
              0.5555555555555556,
              "#d8576b"
             ],
             [
              0.6666666666666666,
              "#ed7953"
             ],
             [
              0.7777777777777778,
              "#fb9f3a"
             ],
             [
              0.8888888888888888,
              "#fdca26"
             ],
             [
              1,
              "#f0f921"
             ]
            ],
            "type": "surface"
           }
          ],
          "table": [
           {
            "cells": {
             "fill": {
              "color": "#EBF0F8"
             },
             "line": {
              "color": "white"
             }
            },
            "header": {
             "fill": {
              "color": "#C8D4E3"
             },
             "line": {
              "color": "white"
             }
            },
            "type": "table"
           }
          ]
         },
         "layout": {
          "annotationdefaults": {
           "arrowcolor": "#2a3f5f",
           "arrowhead": 0,
           "arrowwidth": 1
          },
          "autotypenumbers": "strict",
          "coloraxis": {
           "colorbar": {
            "outlinewidth": 0,
            "ticks": ""
           }
          },
          "colorscale": {
           "diverging": [
            [
             0,
             "#8e0152"
            ],
            [
             0.1,
             "#c51b7d"
            ],
            [
             0.2,
             "#de77ae"
            ],
            [
             0.3,
             "#f1b6da"
            ],
            [
             0.4,
             "#fde0ef"
            ],
            [
             0.5,
             "#f7f7f7"
            ],
            [
             0.6,
             "#e6f5d0"
            ],
            [
             0.7,
             "#b8e186"
            ],
            [
             0.8,
             "#7fbc41"
            ],
            [
             0.9,
             "#4d9221"
            ],
            [
             1,
             "#276419"
            ]
           ],
           "sequential": [
            [
             0,
             "#0d0887"
            ],
            [
             0.1111111111111111,
             "#46039f"
            ],
            [
             0.2222222222222222,
             "#7201a8"
            ],
            [
             0.3333333333333333,
             "#9c179e"
            ],
            [
             0.4444444444444444,
             "#bd3786"
            ],
            [
             0.5555555555555556,
             "#d8576b"
            ],
            [
             0.6666666666666666,
             "#ed7953"
            ],
            [
             0.7777777777777778,
             "#fb9f3a"
            ],
            [
             0.8888888888888888,
             "#fdca26"
            ],
            [
             1,
             "#f0f921"
            ]
           ],
           "sequentialminus": [
            [
             0,
             "#0d0887"
            ],
            [
             0.1111111111111111,
             "#46039f"
            ],
            [
             0.2222222222222222,
             "#7201a8"
            ],
            [
             0.3333333333333333,
             "#9c179e"
            ],
            [
             0.4444444444444444,
             "#bd3786"
            ],
            [
             0.5555555555555556,
             "#d8576b"
            ],
            [
             0.6666666666666666,
             "#ed7953"
            ],
            [
             0.7777777777777778,
             "#fb9f3a"
            ],
            [
             0.8888888888888888,
             "#fdca26"
            ],
            [
             1,
             "#f0f921"
            ]
           ]
          },
          "colorway": [
           "#636efa",
           "#EF553B",
           "#00cc96",
           "#ab63fa",
           "#FFA15A",
           "#19d3f3",
           "#FF6692",
           "#B6E880",
           "#FF97FF",
           "#FECB52"
          ],
          "font": {
           "color": "#2a3f5f"
          },
          "geo": {
           "bgcolor": "white",
           "lakecolor": "white",
           "landcolor": "#E5ECF6",
           "showlakes": true,
           "showland": true,
           "subunitcolor": "white"
          },
          "hoverlabel": {
           "align": "left"
          },
          "hovermode": "closest",
          "mapbox": {
           "style": "light"
          },
          "paper_bgcolor": "white",
          "plot_bgcolor": "#E5ECF6",
          "polar": {
           "angularaxis": {
            "gridcolor": "white",
            "linecolor": "white",
            "ticks": ""
           },
           "bgcolor": "#E5ECF6",
           "radialaxis": {
            "gridcolor": "white",
            "linecolor": "white",
            "ticks": ""
           }
          },
          "scene": {
           "xaxis": {
            "backgroundcolor": "#E5ECF6",
            "gridcolor": "white",
            "gridwidth": 2,
            "linecolor": "white",
            "showbackground": true,
            "ticks": "",
            "zerolinecolor": "white"
           },
           "yaxis": {
            "backgroundcolor": "#E5ECF6",
            "gridcolor": "white",
            "gridwidth": 2,
            "linecolor": "white",
            "showbackground": true,
            "ticks": "",
            "zerolinecolor": "white"
           },
           "zaxis": {
            "backgroundcolor": "#E5ECF6",
            "gridcolor": "white",
            "gridwidth": 2,
            "linecolor": "white",
            "showbackground": true,
            "ticks": "",
            "zerolinecolor": "white"
           }
          },
          "shapedefaults": {
           "line": {
            "color": "#2a3f5f"
           }
          },
          "ternary": {
           "aaxis": {
            "gridcolor": "white",
            "linecolor": "white",
            "ticks": ""
           },
           "baxis": {
            "gridcolor": "white",
            "linecolor": "white",
            "ticks": ""
           },
           "bgcolor": "#E5ECF6",
           "caxis": {
            "gridcolor": "white",
            "linecolor": "white",
            "ticks": ""
           }
          },
          "title": {
           "x": 0.05
          },
          "xaxis": {
           "automargin": true,
           "gridcolor": "white",
           "linecolor": "white",
           "ticks": "",
           "title": {
            "standoff": 15
           },
           "zerolinecolor": "white",
           "zerolinewidth": 2
          },
          "yaxis": {
           "automargin": true,
           "gridcolor": "white",
           "linecolor": "white",
           "ticks": "",
           "title": {
            "standoff": 15
           },
           "zerolinecolor": "white",
           "zerolinewidth": 2
          }
         }
        },
        "xaxis1": {
         "anchor": "y1",
         "domain": [
          0,
          0.45
         ],
         "title": {
          "text": "hour"
         }
        },
        "xaxis2": {
         "anchor": "y2",
         "domain": [
          0.55,
          1
         ],
         "title": {
          "text": "hour"
         }
        },
        "yaxis1": {
         "anchor": "x1",
         "domain": [
          0,
          1
         ],
         "title": {
          "text": "reserve MW"
         }
        },
        "yaxis2": {
         "anchor": "x2",
         "domain": [
          0,
          1
         ],
         "title": {
          "text": "reserve MW"
         }
        }
       }
      },
      "image/png": "[encoded data removed]",
      "image/svg+xml": [
       "<svg class=\"main-svg\" xmlns=\"http://www.w3.org/2000/svg\" xmlns:xlink=\"http://www.w3.org/1999/xlink\" width=\"700\" height=\"500\" style=\"\" viewBox=\"0 0 700 500\"><rect x=\"0\" y=\"0\" width=\"700\" height=\"500\" style=\"fill: rgb(255, 255, 255); fill-opacity: 1;\"/><defs id=\"defs-772867\"><g class=\"clips\"><clipPath id=\"clip772867xyplot\" class=\"plotclip\"><rect width=\"155.70000000000002\" height=\"387\"/></clipPath><clipPath id=\"clip772867x2y2plot\" class=\"plotclip\"><rect width=\"155.7\" height=\"387\"/></clipPath><clipPath class=\"axesclip\" id=\"clip772867x\"><rect x=\"61\" y=\"0\" width=\"155.70000000000002\" height=\"500\"/></clipPath><clipPath class=\"axesclip\" id=\"clip772867y\"><rect x=\"0\" y=\"60\" width=\"700\" height=\"387\"/></clipPath><clipPath class=\"axesclip\" id=\"clip772867xy\"><rect x=\"61\" y=\"60\" width=\"155.70000000000002\" height=\"387\"/></clipPath><clipPath class=\"axesclip\" id=\"clip772867y2\"><rect x=\"0\" y=\"60\" width=\"700\" height=\"387\"/></clipPath><clipPath class=\"axesclip\" id=\"clip772867xy2\"><rect x=\"61\" y=\"60\" width=\"155.70000000000002\" height=\"387\"/></clipPath><clipPath class=\"axesclip\" id=\"clip772867x2\"><rect x=\"251.3\" y=\"0\" width=\"155.7\" height=\"500\"/></clipPath><clipPath class=\"axesclip\" id=\"clip772867x2y\"><rect x=\"251.3\" y=\"60\" width=\"155.7\" height=\"387\"/></clipPath><clipPath class=\"axesclip\" id=\"clip772867x2y2\"><rect x=\"251.3\" y=\"60\" width=\"155.7\" height=\"387\"/></clipPath></g><g class=\"gradients\"/></defs><g class=\"bglayer\"><rect class=\"bg\" x=\"61\" y=\"60\" width=\"155.70000000000002\" height=\"387\" style=\"fill: rgb(229, 236, 246); fill-opacity: 1; stroke-width: 0;\"/><rect class=\"bg\" x=\"251.3\" y=\"60\" width=\"155.7\" height=\"387\" style=\"fill: rgb(229, 236, 246); fill-opacity: 1; stroke-width: 0;\"/></g><g class=\"layer-below\"><g class=\"imagelayer\"/><g class=\"shapelayer\"/></g><g class=\"cartesianlayer\"><g class=\"subplot xy\"><g class=\"layer-subplot\"><g class=\"shapelayer\"/><g class=\"imagelayer\"/></g><g class=\"gridlayer\"><g class=\"x\"><path class=\"xgrid crisp\" transform=\"translate(88.08,0)\" d=\"M0,60v387\" style=\"stroke: rgb(255, 255, 255); stroke-opacity: 1; stroke-width: 1px;\"/><path class=\"xgrid crisp\" transform=\"translate(121.93,0)\" d=\"M0,60v387\" style=\"stroke: rgb(255, 255, 255); stroke-opacity: 1; stroke-width: 1px;\"/><path class=\"xgrid crisp\" transform=\"translate(155.76999999999998,0)\" d=\"M0,60v387\" style=\"stroke: rgb(255, 255, 255); stroke-opacity: 1; stroke-width: 1px;\"/><path class=\"xgrid crisp\" transform=\"translate(189.62,0)\" d=\"M0,60v387\" style=\"stroke: rgb(255, 255, 255); stroke-opacity: 1; stroke-width: 1px;\"/></g><g class=\"y\"><path class=\"ygrid crisp\" transform=\"translate(0,373.44)\" d=\"M61,0h155.70000000000002\" style=\"stroke: rgb(255, 255, 255); stroke-opacity: 1; stroke-width: 1px;\"/><path class=\"ygrid crisp\" transform=\"translate(0,299.88)\" d=\"M61,0h155.70000000000002\" style=\"stroke: rgb(255, 255, 255); stroke-opacity: 1; stroke-width: 1px;\"/><path class=\"ygrid crisp\" transform=\"translate(0,226.32)\" d=\"M61,0h155.70000000000002\" style=\"stroke: rgb(255, 255, 255); stroke-opacity: 1; stroke-width: 1px;\"/><path class=\"ygrid crisp\" transform=\"translate(0,152.76)\" d=\"M61,0h155.70000000000002\" style=\"stroke: rgb(255, 255, 255); stroke-opacity: 1; stroke-width: 1px;\"/><path class=\"ygrid crisp\" transform=\"translate(0,79.2)\" d=\"M61,0h155.70000000000002\" style=\"stroke: rgb(255, 255, 255); stroke-opacity: 1; stroke-width: 1px;\"/></g></g><g class=\"zerolinelayer\"><path class=\"yzl zl crisp\" transform=\"translate(0,447)\" d=\"M61,0h155.70000000000002\" style=\"stroke: rgb(255, 255, 255); stroke-opacity: 1; stroke-width: 2px;\"/></g><path class=\"xlines-below\"/><path class=\"ylines-below\"/><g class=\"overlines-below\"/><g class=\"xaxislayer-below\"/><g class=\"yaxislayer-below\"/><g class=\"overaxes-below\"/><g class=\"plot\" transform=\"translate(61,60)\" clip-path=\"url('#clip772867xyplot')\"><g class=\"scatterlayer mlayer\"><g class=\"trace scatter trace23f0e1\" style=\"stroke-miterlimit: 2;\"><g class=\"fills\"><g><path class=\"js-fill\" d=\"M155.7,387L0,387L0,67.82L6.77,157.67L13.54,158.96L20.31,157.34L27.08,151.05L33.85,142.11L40.62,131.15L47.39,119.27L54.16,61.94L60.93,55.13L67.7,51.38L74.47,57.34L81.23,65.43L94.77,71.5L101.54,75.03L115.08,79L121.85,78.86L128.62,74.33L135.39,74.15L155.7,101.59\" style=\"fill: rgb(128, 128, 128); fill-opacity: 0.5; stroke-width: 0;\"/></g><g><path class=\"js-fill\" d=\"M0,19.35L6.77,109.2L13.54,110.49L20.31,108.87L27.08,102.58L33.85,93.64L40.62,82.68L47.39,70.8L54.16,61.94L60.93,55.13L67.7,51.38L74.47,57.34L81.23,65.43L94.77,71.5L101.54,75.03L115.08,79L121.85,78.86L128.62,74.33L135.39,74.15L155.7,101.59L155.7,101.59L135.39,74.15L128.62,74.33L121.85,78.86L115.08,79L101.54,75.03L94.77,71.5L81.23,65.43L74.47,57.34L67.7,51.38L60.93,55.13L54.16,61.94L47.39,119.27L40.62,131.15L33.85,142.11L27.08,151.05L20.31,157.34L13.54,158.96L6.77,157.67L0,67.82Z\" style=\"fill: rgb(0, 0, 0); fill-opacity: 0.5; stroke-width: 0;\"/></g></g><g class=\"errorbars\"/><g class=\"lines\"><path class=\"js-line\" d=\"M0,67.82L6.77,157.67L13.54,158.96L20.31,157.34L27.08,151.05L33.85,142.11L40.62,131.15L47.39,119.27L54.16,61.94L60.93,55.13L67.7,51.38L74.47,57.34L81.23,65.43L94.77,71.5L101.54,75.03L115.08,79L121.85,78.86L128.62,74.33L135.39,74.15L155.7,101.59\" style=\"vector-effect: non-scaling-stroke; fill: none; stroke: rgb(128, 128, 128); stroke-opacity: 1; stroke-width: 1px; opacity: 1;\"/></g><g class=\"points\"/><g class=\"text\"/></g><g class=\"trace scatter tracea3efa0\" style=\"stroke-miterlimit: 2;\"><g class=\"fills\"><g><path class=\"js-fill\" d=\"M0,19.35L6.77,109.2L13.54,110.49L20.31,108.87L27.08,102.58L33.85,93.64L40.62,82.68L47.39,70.8L54.16,61.94L60.93,55.13L67.7,51.38L74.47,57.34L81.23,65.43L94.77,71.5L101.54,75.03L115.08,79L121.85,78.86L128.62,74.33L135.39,74.15L155.7,101.59L155.7,101.59L135.39,74.15L128.62,74.33L121.85,78.86L115.08,79L101.54,75.03L94.77,71.5L81.23,65.43L74.47,57.34L67.7,51.38L60.93,55.13L54.16,61.94L47.39,70.8L40.62,82.68L33.85,93.64L27.08,102.58L20.31,108.87L13.54,110.49L6.77,109.2L0,19.35Z\" style=\"fill: rgb(135, 206, 235); fill-opacity: 0.5; stroke-width: 0;\"/></g></g><g class=\"errorbars\"/><g class=\"lines\"><path class=\"js-line\" d=\"M0,19.35L6.77,109.2L13.54,110.49L20.31,108.87L27.08,102.58L33.85,93.64L40.62,82.68L47.39,70.8L54.16,61.94L60.93,55.13L67.7,51.38L74.47,57.34L81.23,65.43L94.77,71.5L101.54,75.03L115.08,79L121.85,78.86L128.62,74.33L135.39,74.15L155.7,101.59\" style=\"vector-effect: non-scaling-stroke; fill: none; stroke: rgb(0, 0, 0); stroke-opacity: 1; stroke-width: 1px; opacity: 1;\"/></g><g class=\"points\"/><g class=\"text\"/></g><g class=\"trace scatter tracecfbbc3\" style=\"stroke-miterlimit: 2;\"><g class=\"fills\"><g><path class=\"js-fill\" d=\"M0,19.35L6.77,109.2L13.54,110.49L20.31,108.87L27.08,102.58L33.85,93.64L40.62,82.68L47.39,70.8L54.16,61.94L60.93,55.13L67.7,51.38L74.47,57.34L81.23,65.43L94.77,71.5L101.54,75.03L115.08,79L121.85,78.86L128.62,74.33L135.39,74.15L155.7,101.59L155.7,101.59L135.39,74.15L128.62,74.33L121.85,78.86L115.08,79L101.54,75.03L94.77,71.5L81.23,65.43L74.47,57.34L67.7,51.38L60.93,55.13L54.16,61.94L47.39,70.8L40.62,82.68L33.85,93.64L27.08,102.58L20.31,108.87L13.54,110.49L6.77,109.2L0,19.35Z\" style=\"fill: rgb(100, 149, 237); fill-opacity: 0.5; stroke-width: 0;\"/></g></g><g class=\"errorbars\"/><g class=\"lines\"><path class=\"js-line\" d=\"M0,19.35L6.77,109.2L13.54,110.49L20.31,108.87L27.08,102.58L33.85,93.64L40.62,82.68L47.39,70.8L54.16,61.94L60.93,55.13L67.7,51.38L74.47,57.34L81.23,65.43L94.77,71.5L101.54,75.03L115.08,79L121.85,78.86L128.62,74.33L135.39,74.15L155.7,101.59\" style=\"vector-effect: non-scaling-stroke; fill: none; stroke: rgb(135, 206, 235); stroke-opacity: 1; stroke-width: 1px; opacity: 1;\"/></g><g class=\"points\"/><g class=\"text\"/></g><g class=\"trace scatter trace048fee\" style=\"stroke-miterlimit: 2;\"><g class=\"fills\"><g><path class=\"js-fill\" d=\"M0,19.35L6.77,109.2L13.54,110.49L20.31,108.87L27.08,102.58L33.85,93.64L40.62,82.68L47.39,70.8L54.16,61.94L60.93,55.13L67.7,51.38L74.47,57.34L81.23,65.43L94.77,71.5L101.54,75.03L115.08,79L121.85,78.86L128.62,74.33L135.39,74.15L155.7,101.59L155.7,101.59L135.39,74.15L128.62,74.33L121.85,78.86L115.08,79L101.54,75.03L94.77,71.5L81.23,65.43L74.47,57.34L67.7,51.38L60.93,55.13L54.16,61.94L47.39,70.8L40.62,82.68L33.85,93.64L27.08,102.58L20.31,108.87L13.54,110.49L6.77,109.2L0,19.35Z\" style=\"fill: rgb(255, 215, 0); fill-opacity: 0.5; stroke-width: 0;\"/></g></g><g class=\"errorbars\"/><g class=\"lines\"><path class=\"js-line\" d=\"M0,19.35L6.77,109.2L13.54,110.49L20.31,108.87L27.08,102.58L33.85,93.64L40.62,82.68L47.39,70.8L54.16,61.94L60.93,55.13L67.7,51.38L74.47,57.34L81.23,65.43L94.77,71.5L101.54,75.03L115.08,79L121.85,78.86L128.62,74.33L135.39,74.15L155.7,101.59\" style=\"vector-effect: non-scaling-stroke; fill: none; stroke: rgb(100, 149, 237); stroke-opacity: 1; stroke-width: 1px; opacity: 1;\"/></g><g class=\"points\"/><g class=\"text\"/></g><g class=\"trace scatter trace44ad06\" style=\"stroke-miterlimit: 2;\"><g class=\"fills\"><g><path class=\"js-fill\" d=\"M0,19.35L6.77,109.2L13.54,110.49L20.31,108.87L27.08,102.58L33.85,93.64L40.62,82.68L47.39,70.8L54.16,61.94L60.93,55.13L67.7,51.38L74.47,57.34L81.23,65.43L94.77,71.5L101.54,75.03L115.08,79L121.85,78.86L128.62,74.33L135.39,74.15L155.7,101.59L155.7,101.59L135.39,74.15L128.62,74.33L121.85,78.86L115.08,79L101.54,75.03L94.77,71.5L81.23,65.43L74.47,57.34L67.7,51.38L60.93,55.13L54.16,61.94L47.39,70.8L40.62,82.68L33.85,93.64L27.08,102.58L20.31,108.87L13.54,110.49L6.77,109.2L0,19.35Z\" style=\"fill: rgb(111, 194, 118); fill-opacity: 0.5; stroke-width: 0;\"/></g></g><g class=\"errorbars\"/><g class=\"lines\"><path class=\"js-line\" d=\"M0,19.35L6.77,109.2L13.54,110.49L20.31,108.87L27.08,102.58L33.85,93.64L40.62,82.68L47.39,70.8L54.16,61.94L60.93,55.13L67.7,51.38L74.47,57.34L81.23,65.43L94.77,71.5L101.54,75.03L115.08,79L121.85,78.86L128.62,74.33L135.39,74.15L155.7,101.59\" style=\"vector-effect: non-scaling-stroke; fill: none; stroke: rgb(255, 215, 0); stroke-opacity: 1; stroke-width: 1px; opacity: 1;\"/></g><g class=\"points\"/><g class=\"text\"/></g><g class=\"trace scatter trace49ea5c\" style=\"stroke-miterlimit: 2;\"><g class=\"fills\"><g><path class=\"js-fill\" d=\"M0,19.35L6.77,109.2L13.54,110.49L20.31,108.87L27.08,102.58L33.85,93.64L40.62,82.68L47.39,70.8L54.16,61.94L60.93,55.13L67.7,51.38L74.47,57.34L81.23,65.43L94.77,71.5L101.54,75.03L115.08,79L121.85,78.86L128.62,74.33L135.39,74.15L155.7,101.59L155.7,101.59L135.39,74.15L128.62,74.33L121.85,78.86L115.08,79L101.54,75.03L94.77,71.5L81.23,65.43L74.47,57.34L67.7,51.38L60.93,55.13L54.16,61.94L47.39,70.8L40.62,82.68L33.85,93.64L27.08,102.58L20.31,108.87L13.54,110.49L6.77,109.2L0,19.35Z\" style=\"fill: rgb(0, 0, 139); fill-opacity: 0.5; stroke-width: 0;\"/></g></g><g class=\"errorbars\"/><g class=\"lines\"><path class=\"js-line\" d=\"M0,19.35L6.77,109.2L13.54,110.49L20.31,108.87L27.08,102.58L33.85,93.64L40.62,82.68L47.39,70.8L54.16,61.94L60.93,55.13L67.7,51.38L74.47,57.34L81.23,65.43L94.77,71.5L101.54,75.03L115.08,79L121.85,78.86L128.62,74.33L135.39,74.15L155.7,101.59\" style=\"vector-effect: non-scaling-stroke; fill: none; stroke: rgb(111, 194, 118); stroke-opacity: 1; stroke-width: 1px; opacity: 1;\"/></g><g class=\"points\"/><g class=\"text\"/></g><g class=\"trace scatter trace91e62c\" style=\"stroke-miterlimit: 2;\"><g class=\"fills\"/><g class=\"errorbars\"/><g class=\"lines\"><path class=\"js-line\" d=\"M0,19.35L6.77,109.2L13.54,110.49L20.31,108.87L27.08,102.58L33.85,93.64L40.62,82.68L47.39,70.8L54.16,61.94L60.93,55.13L67.7,51.38L74.47,57.34L81.23,65.43L94.77,71.5L101.54,75.03L115.08,79L121.85,78.86L128.62,74.33L135.39,74.15L155.7,101.59\" style=\"vector-effect: non-scaling-stroke; fill: none; stroke: rgb(0, 0, 139); stroke-opacity: 1; stroke-width: 1px; opacity: 1;\"/></g><g class=\"points\"/><g class=\"text\"/></g><g class=\"trace scatter traceeea8dd\" style=\"stroke-miterlimit: 2;\"><g class=\"fills\"><g><path class=\"js-fill\" d=\"M155.7,387L0,387L0,106.92L6.77,109.2L13.54,110.49L20.31,108.87L27.08,102.58L33.85,93.64L40.62,82.68L47.39,70.8L54.16,61.94L60.93,55.13L67.7,51.38L74.47,57.34L81.23,65.43L94.77,71.5L101.54,75.03L115.08,79L121.85,78.86L128.62,74.33L135.39,74.15L155.7,101.59\" style=\"fill: rgb(182, 232, 128); fill-opacity: 0.5; stroke-width: 0;\"/></g></g><g class=\"errorbars\"/><g class=\"lines\"><path class=\"js-line\" d=\"M0,106.92L6.77,109.2L13.54,110.49L20.31,108.87L27.08,102.58L33.85,93.64L40.62,82.68L47.39,70.8L54.16,61.94L60.93,55.13L67.7,51.38L74.47,57.34L81.23,65.43L94.77,71.5L101.54,75.03L115.08,79L121.85,78.86L128.62,74.33L135.39,74.15L155.7,101.59\" style=\"vector-effect: non-scaling-stroke; fill: none; stroke: rgb(182, 232, 128); stroke-opacity: 1; stroke-width: 1px; opacity: 1;\"/></g><g class=\"points\"/><g class=\"text\"/></g></g></g><g class=\"overplot\"/><path class=\"xlines-above crisp\" d=\"M0,0\" style=\"fill: none;\"/><path class=\"ylines-above crisp\" d=\"M0,0\" style=\"fill: none;\"/><g class=\"overlines-above\"/><g class=\"xaxislayer-above\"><g class=\"xtick\"><text text-anchor=\"middle\" x=\"0\" y=\"460\" transform=\"translate(88.08,0)\" style=\"font-family: 'Open Sans', verdana, arial, sans-serif; font-size: 12px; fill: rgb(42, 63, 95); fill-opacity: 1; white-space: pre;\">2405</text></g><g class=\"xtick\"><text text-anchor=\"middle\" x=\"0\" y=\"460\" transform=\"translate(121.93,0)\" style=\"font-family: 'Open Sans', verdana, arial, sans-serif; font-size: 12px; fill: rgb(42, 63, 95); fill-opacity: 1; white-space: pre;\">2410</text></g><g class=\"xtick\"><text text-anchor=\"middle\" x=\"0\" y=\"460\" transform=\"translate(155.76999999999998,0)\" style=\"font-family: 'Open Sans', verdana, arial, sans-serif; font-size: 12px; fill: rgb(42, 63, 95); fill-opacity: 1; white-space: pre;\">2415</text></g><g class=\"xtick\"><text text-anchor=\"middle\" x=\"0\" y=\"460\" transform=\"translate(189.62,0)\" style=\"font-family: 'Open Sans', verdana, arial, sans-serif; font-size: 12px; fill: rgb(42, 63, 95); fill-opacity: 1; white-space: pre;\">2420</text></g></g><g class=\"yaxislayer-above\"><g class=\"ytick\"><text text-anchor=\"end\" x=\"60\" y=\"4.199999999999999\" transform=\"translate(0,447)\" style=\"font-family: 'Open Sans', verdana, arial, sans-serif; font-size: 12px; fill: rgb(42, 63, 95); fill-opacity: 1; white-space: pre;\">0</text></g><g class=\"ytick\"><text text-anchor=\"end\" x=\"60\" y=\"4.199999999999999\" transform=\"translate(0,373.44)\" style=\"font-family: 'Open Sans', verdana, arial, sans-serif; font-size: 12px; fill: rgb(42, 63, 95); fill-opacity: 1; white-space: pre;\">100</text></g><g class=\"ytick\"><text text-anchor=\"end\" x=\"60\" y=\"4.199999999999999\" transform=\"translate(0,299.88)\" style=\"font-family: 'Open Sans', verdana, arial, sans-serif; font-size: 12px; fill: rgb(42, 63, 95); fill-opacity: 1; white-space: pre;\">200</text></g><g class=\"ytick\"><text text-anchor=\"end\" x=\"60\" y=\"4.199999999999999\" transform=\"translate(0,226.32)\" style=\"font-family: 'Open Sans', verdana, arial, sans-serif; font-size: 12px; fill: rgb(42, 63, 95); fill-opacity: 1; white-space: pre;\">300</text></g><g class=\"ytick\"><text text-anchor=\"end\" x=\"60\" y=\"4.199999999999999\" transform=\"translate(0,152.76)\" style=\"font-family: 'Open Sans', verdana, arial, sans-serif; font-size: 12px; fill: rgb(42, 63, 95); fill-opacity: 1; white-space: pre;\">400</text></g><g class=\"ytick\"><text text-anchor=\"end\" x=\"60\" y=\"4.199999999999999\" transform=\"translate(0,79.2)\" style=\"font-family: 'Open Sans', verdana, arial, sans-serif; font-size: 12px; fill: rgb(42, 63, 95); fill-opacity: 1; white-space: pre;\">500</text></g></g><g class=\"overaxes-above\"/></g><g class=\"subplot x2y2\"><g class=\"layer-subplot\"><g class=\"shapelayer\"/><g class=\"imagelayer\"/></g><g class=\"gridlayer\"><g class=\"x2\"><path class=\"x2grid crisp\" transform=\"translate(278.38,0)\" d=\"M0,60v387\" style=\"stroke: rgb(255, 255, 255); stroke-opacity: 1; stroke-width: 1px;\"/><path class=\"x2grid crisp\" transform=\"translate(312.23,0)\" d=\"M0,60v387\" style=\"stroke: rgb(255, 255, 255); stroke-opacity: 1; stroke-width: 1px;\"/><path class=\"x2grid crisp\" transform=\"translate(346.07,0)\" d=\"M0,60v387\" style=\"stroke: rgb(255, 255, 255); stroke-opacity: 1; stroke-width: 1px;\"/><path class=\"x2grid crisp\" transform=\"translate(379.92,0)\" d=\"M0,60v387\" style=\"stroke: rgb(255, 255, 255); stroke-opacity: 1; stroke-width: 1px;\"/></g><g class=\"y2\"><path class=\"y2grid crisp\" transform=\"translate(0,373.44)\" d=\"M251.3,0h155.7\" style=\"stroke: rgb(255, 255, 255); stroke-opacity: 1; stroke-width: 1px;\"/><path class=\"y2grid crisp\" transform=\"translate(0,299.88)\" d=\"M251.3,0h155.7\" style=\"stroke: rgb(255, 255, 255); stroke-opacity: 1; stroke-width: 1px;\"/><path class=\"y2grid crisp\" transform=\"translate(0,226.32)\" d=\"M251.3,0h155.7\" style=\"stroke: rgb(255, 255, 255); stroke-opacity: 1; stroke-width: 1px;\"/><path class=\"y2grid crisp\" transform=\"translate(0,152.76)\" d=\"M251.3,0h155.7\" style=\"stroke: rgb(255, 255, 255); stroke-opacity: 1; stroke-width: 1px;\"/><path class=\"y2grid crisp\" transform=\"translate(0,79.2)\" d=\"M251.3,0h155.7\" style=\"stroke: rgb(255, 255, 255); stroke-opacity: 1; stroke-width: 1px;\"/></g></g><g class=\"zerolinelayer\"><path class=\"y2zl zl crisp\" transform=\"translate(0,447)\" d=\"M251.3,0h155.7\" style=\"stroke: rgb(255, 255, 255); stroke-opacity: 1; stroke-width: 2px;\"/></g><path class=\"xlines-below\"/><path class=\"ylines-below\"/><g class=\"overlines-below\"/><g class=\"xaxislayer-below\"/><g class=\"yaxislayer-below\"/><g class=\"overaxes-below\"/><g class=\"plot\" transform=\"translate(251.3,60)\" clip-path=\"url('#clip772867x2y2plot')\"><g class=\"scatterlayer mlayer\"><g class=\"trace scatter tracea5b41e\" style=\"stroke-miterlimit: 2;\"><g class=\"fills\"><g><path class=\"js-fill\" d=\"M155.7,387L0,387L0,67.82L6.77,157.67L13.54,158.96L20.31,157.34L27.08,151.05L33.85,142.11L40.62,131.15L47.39,119.27L54.16,61.94L60.93,55.13L67.7,51.38L74.47,57.34L81.23,65.43L94.77,71.5L101.54,75.03L115.08,79L121.85,78.86L128.62,74.33L135.39,74.15L155.7,101.59\" style=\"fill: rgb(128, 128, 128); fill-opacity: 0.5; stroke-width: 0;\"/></g><g><path class=\"js-fill\" d=\"M0,19.35L6.77,109.2L13.54,110.49L20.31,108.87L27.08,102.58L33.85,93.64L40.62,82.68L47.39,70.8L54.16,61.94L60.93,55.13L67.7,51.38L74.47,57.34L81.23,65.43L94.77,71.5L101.54,75.03L115.08,79L121.85,78.86L128.62,74.33L135.39,74.15L155.7,101.59L155.7,101.59L135.39,74.15L128.62,74.33L121.85,78.86L115.08,79L101.54,75.03L94.77,71.5L81.23,65.43L74.47,57.34L67.7,51.38L60.93,55.13L54.16,61.94L47.39,119.27L40.62,131.15L33.85,142.11L27.08,151.05L20.31,157.34L13.54,158.96L6.77,157.67L0,67.82Z\" style=\"fill: rgb(0, 0, 0); fill-opacity: 0.5; stroke-width: 0;\"/></g></g><g class=\"errorbars\"/><g class=\"lines\"><path class=\"js-line\" d=\"M0,67.82L6.77,157.67L13.54,158.96L20.31,157.34L27.08,151.05L33.85,142.11L40.62,131.15L47.39,119.27L54.16,61.94L60.93,55.13L67.7,51.38L74.47,57.34L81.23,65.43L94.77,71.5L101.54,75.03L115.08,79L121.85,78.86L128.62,74.33L135.39,74.15L155.7,101.59\" style=\"vector-effect: non-scaling-stroke; fill: none; stroke: rgb(128, 128, 128); stroke-opacity: 1; stroke-width: 1px; opacity: 1;\"/></g><g class=\"points\"/><g class=\"text\"/></g><g class=\"trace scatter trace0945b8\" style=\"stroke-miterlimit: 2;\"><g class=\"fills\"><g><path class=\"js-fill\" d=\"M0,19.35L6.77,109.2L13.54,110.49L20.31,108.87L27.08,102.58L33.85,93.64L40.62,82.68L47.39,70.8L54.16,61.94L60.93,55.13L67.7,51.38L74.47,57.34L81.23,65.43L94.77,71.5L101.54,75.03L115.08,79L121.85,78.86L128.62,74.33L135.39,74.15L155.7,101.59L155.7,101.59L135.39,74.15L128.62,74.33L121.85,78.86L115.08,79L101.54,75.03L94.77,71.5L81.23,65.43L74.47,57.34L67.7,51.38L60.93,55.13L54.16,61.94L47.39,70.8L40.62,82.68L33.85,93.64L27.08,102.58L20.31,108.87L13.54,110.49L6.77,109.2L0,19.35Z\" style=\"fill: rgb(135, 206, 235); fill-opacity: 0.5; stroke-width: 0;\"/></g></g><g class=\"errorbars\"/><g class=\"lines\"><path class=\"js-line\" d=\"M0,19.35L6.77,109.2L13.54,110.49L20.31,108.87L27.08,102.58L33.85,93.64L40.62,82.68L47.39,70.8L54.16,61.94L60.93,55.13L67.7,51.38L74.47,57.34L81.23,65.43L94.77,71.5L101.54,75.03L115.08,79L121.85,78.86L128.62,74.33L135.39,74.15L155.7,101.59\" style=\"vector-effect: non-scaling-stroke; fill: none; stroke: rgb(0, 0, 0); stroke-opacity: 1; stroke-width: 1px; opacity: 1;\"/></g><g class=\"points\"/><g class=\"text\"/></g><g class=\"trace scatter trace36e76b\" style=\"stroke-miterlimit: 2;\"><g class=\"fills\"><g><path class=\"js-fill\" d=\"M0,19.35L6.77,109.2L13.54,110.49L20.31,108.87L27.08,102.58L33.85,93.64L40.62,82.68L47.39,70.8L54.16,61.94L60.93,55.13L67.7,51.38L74.47,57.34L81.23,65.43L94.77,71.5L101.54,75.03L115.08,79L121.85,78.86L128.62,74.33L135.39,74.15L155.7,101.59L155.7,101.59L135.39,74.15L128.62,74.33L121.85,78.86L115.08,79L101.54,75.03L94.77,71.5L81.23,65.43L74.47,57.34L67.7,51.38L60.93,55.13L54.16,61.94L47.39,70.8L40.62,82.68L33.85,93.64L27.08,102.58L20.31,108.87L13.54,110.49L6.77,109.2L0,19.35Z\" style=\"fill: rgb(100, 149, 237); fill-opacity: 0.5; stroke-width: 0;\"/></g></g><g class=\"errorbars\"/><g class=\"lines\"><path class=\"js-line\" d=\"M0,19.35L6.77,109.2L13.54,110.49L20.31,108.87L27.08,102.58L33.85,93.64L40.62,82.68L47.39,70.8L54.16,61.94L60.93,55.13L67.7,51.38L74.47,57.34L81.23,65.43L94.77,71.5L101.54,75.03L115.08,79L121.85,78.86L128.62,74.33L135.39,74.15L155.7,101.59\" style=\"vector-effect: non-scaling-stroke; fill: none; stroke: rgb(135, 206, 235); stroke-opacity: 1; stroke-width: 1px; opacity: 1;\"/></g><g class=\"points\"/><g class=\"text\"/></g><g class=\"trace scatter tracee14da7\" style=\"stroke-miterlimit: 2;\"><g class=\"fills\"><g><path class=\"js-fill\" d=\"M0,19.35L6.77,109.2L13.54,110.49L20.31,108.87L27.08,102.58L33.85,93.64L40.62,82.68L47.39,70.8L54.16,61.94L60.93,55.13L67.7,51.38L74.47,57.34L81.23,65.43L94.77,71.5L101.54,75.03L115.08,79L121.85,78.86L128.62,74.33L135.39,74.15L155.7,101.59L155.7,101.59L135.39,74.15L128.62,74.33L121.85,78.86L115.08,79L101.54,75.03L94.77,71.5L81.23,65.43L74.47,57.34L67.7,51.38L60.93,55.13L54.16,61.94L47.39,70.8L40.62,82.68L33.85,93.64L27.08,102.58L20.31,108.87L13.54,110.49L6.77,109.2L0,19.35Z\" style=\"fill: rgb(255, 215, 0); fill-opacity: 0.5; stroke-width: 0;\"/></g></g><g class=\"errorbars\"/><g class=\"lines\"><path class=\"js-line\" d=\"M0,19.35L6.77,109.2L13.54,110.49L20.31,108.87L27.08,102.58L33.85,93.64L40.62,82.68L47.39,70.8L54.16,61.94L60.93,55.13L67.7,51.38L74.47,57.34L81.23,65.43L94.77,71.5L101.54,75.03L115.08,79L121.85,78.86L128.62,74.33L135.39,74.15L155.7,101.59\" style=\"vector-effect: non-scaling-stroke; fill: none; stroke: rgb(100, 149, 237); stroke-opacity: 1; stroke-width: 1px; opacity: 1;\"/></g><g class=\"points\"/><g class=\"text\"/></g><g class=\"trace scatter traceecb5f1\" style=\"stroke-miterlimit: 2;\"><g class=\"fills\"><g><path class=\"js-fill\" d=\"M0,19.35L6.77,109.2L13.54,110.49L20.31,108.87L27.08,102.58L33.85,93.64L40.62,82.68L47.39,70.8L54.16,61.94L60.93,55.13L67.7,51.38L74.47,57.34L81.23,65.43L94.77,71.5L101.54,75.03L115.08,79L121.85,78.86L128.62,74.33L135.39,74.15L155.7,101.59L155.7,101.59L135.39,74.15L128.62,74.33L121.85,78.86L115.08,79L101.54,75.03L94.77,71.5L81.23,65.43L74.47,57.34L67.7,51.38L60.93,55.13L54.16,61.94L47.39,70.8L40.62,82.68L33.85,93.64L27.08,102.58L20.31,108.87L13.54,110.49L6.77,109.2L0,19.35Z\" style=\"fill: rgb(111, 194, 118); fill-opacity: 0.5; stroke-width: 0;\"/></g></g><g class=\"errorbars\"/><g class=\"lines\"><path class=\"js-line\" d=\"M0,19.35L6.77,109.2L13.54,110.49L20.31,108.87L27.08,102.58L33.85,93.64L40.62,82.68L47.39,70.8L54.16,61.94L60.93,55.13L67.7,51.38L74.47,57.34L81.23,65.43L94.77,71.5L101.54,75.03L115.08,79L121.85,78.86L128.62,74.33L135.39,74.15L155.7,101.59\" style=\"vector-effect: non-scaling-stroke; fill: none; stroke: rgb(255, 215, 0); stroke-opacity: 1; stroke-width: 1px; opacity: 1;\"/></g><g class=\"points\"/><g class=\"text\"/></g><g class=\"trace scatter trace01a26d\" style=\"stroke-miterlimit: 2;\"><g class=\"fills\"><g><path class=\"js-fill\" d=\"M0,19.35L6.77,109.2L13.54,110.49L20.31,108.87L27.08,102.58L33.85,93.64L40.62,82.68L47.39,70.8L54.16,61.94L60.93,55.13L67.7,51.38L74.47,57.34L81.23,65.43L94.77,71.5L101.54,75.03L115.08,79L121.85,78.86L128.62,74.33L135.39,74.15L155.7,101.59L155.7,101.59L135.39,74.15L128.62,74.33L121.85,78.86L115.08,79L101.54,75.03L94.77,71.5L81.23,65.43L74.47,57.34L67.7,51.38L60.93,55.13L54.16,61.94L47.39,70.8L40.62,82.68L33.85,93.64L27.08,102.58L20.31,108.87L13.54,110.49L6.77,109.2L0,19.35Z\" style=\"fill: rgb(0, 0, 139); fill-opacity: 0.5; stroke-width: 0;\"/></g></g><g class=\"errorbars\"/><g class=\"lines\"><path class=\"js-line\" d=\"M0,19.35L6.77,109.2L13.54,110.49L20.31,108.87L27.08,102.58L33.85,93.64L40.62,82.68L47.39,70.8L54.16,61.94L60.93,55.13L67.7,51.38L74.47,57.34L81.23,65.43L94.77,71.5L101.54,75.03L115.08,79L121.85,78.86L128.62,74.33L135.39,74.15L155.7,101.59\" style=\"vector-effect: non-scaling-stroke; fill: none; stroke: rgb(111, 194, 118); stroke-opacity: 1; stroke-width: 1px; opacity: 1;\"/></g><g class=\"points\"/><g class=\"text\"/></g><g class=\"trace scatter traced80e06\" style=\"stroke-miterlimit: 2;\"><g class=\"fills\"/><g class=\"errorbars\"/><g class=\"lines\"><path class=\"js-line\" d=\"M0,19.35L6.77,109.2L13.54,110.49L20.31,108.87L27.08,102.58L33.85,93.64L40.62,82.68L47.39,70.8L54.16,61.94L60.93,55.13L67.7,51.38L74.47,57.34L81.23,65.43L94.77,71.5L101.54,75.03L115.08,79L121.85,78.86L128.62,74.33L135.39,74.15L155.7,101.59\" style=\"vector-effect: non-scaling-stroke; fill: none; stroke: rgb(0, 0, 139); stroke-opacity: 1; stroke-width: 1px; opacity: 1;\"/></g><g class=\"points\"/><g class=\"text\"/></g><g class=\"trace scatter tracead6325\" style=\"stroke-miterlimit: 2;\"><g class=\"fills\"><g><path class=\"js-fill\" d=\"M155.7,387L0,387L0,106.92L6.77,109.2L13.54,110.49L20.31,108.87L27.08,102.58L33.85,93.64L40.62,82.68L47.39,70.8L54.16,61.94L60.93,55.13L67.7,51.38L74.47,57.34L81.23,65.43L94.77,71.5L101.54,75.03L115.08,79L121.85,78.86L128.62,74.33L135.39,74.15L155.7,101.59\" style=\"fill: rgb(25, 211, 243); fill-opacity: 0.5; stroke-width: 0;\"/></g></g><g class=\"errorbars\"/><g class=\"lines\"><path class=\"js-line\" d=\"M0,106.92L6.77,109.2L13.54,110.49L20.31,108.87L27.08,102.58L33.85,93.64L40.62,82.68L47.39,70.8L54.16,61.94L60.93,55.13L67.7,51.38L74.47,57.34L81.23,65.43L94.77,71.5L101.54,75.03L115.08,79L121.85,78.86L128.62,74.33L135.39,74.15L155.7,101.59\" style=\"vector-effect: non-scaling-stroke; fill: none; stroke: rgb(25, 211, 243); stroke-opacity: 1; stroke-width: 1px; opacity: 1;\"/></g><g class=\"points\"/><g class=\"text\"/></g></g></g><g class=\"overplot\"/><path class=\"xlines-above crisp\" d=\"M0,0\" style=\"fill: none;\"/><path class=\"ylines-above crisp\" d=\"M0,0\" style=\"fill: none;\"/><g class=\"overlines-above\"/><g class=\"xaxislayer-above\"><g class=\"x2tick\"><text text-anchor=\"middle\" x=\"0\" y=\"460\" transform=\"translate(278.38,0)\" style=\"font-family: 'Open Sans', verdana, arial, sans-serif; font-size: 12px; fill: rgb(42, 63, 95); fill-opacity: 1; white-space: pre;\">2405</text></g><g class=\"x2tick\"><text text-anchor=\"middle\" x=\"0\" y=\"460\" transform=\"translate(312.23,0)\" style=\"font-family: 'Open Sans', verdana, arial, sans-serif; font-size: 12px; fill: rgb(42, 63, 95); fill-opacity: 1; white-space: pre;\">2410</text></g><g class=\"x2tick\"><text text-anchor=\"middle\" x=\"0\" y=\"460\" transform=\"translate(346.07,0)\" style=\"font-family: 'Open Sans', verdana, arial, sans-serif; font-size: 12px; fill: rgb(42, 63, 95); fill-opacity: 1; white-space: pre;\">2415</text></g><g class=\"x2tick\"><text text-anchor=\"middle\" x=\"0\" y=\"460\" transform=\"translate(379.92,0)\" style=\"font-family: 'Open Sans', verdana, arial, sans-serif; font-size: 12px; fill: rgb(42, 63, 95); fill-opacity: 1; white-space: pre;\">2420</text></g></g><g class=\"yaxislayer-above\"><g class=\"y2tick\"><text text-anchor=\"end\" x=\"250.3\" y=\"4.199999999999999\" transform=\"translate(0,447)\" style=\"font-family: 'Open Sans', verdana, arial, sans-serif; font-size: 12px; fill: rgb(42, 63, 95); fill-opacity: 1; white-space: pre;\">0</text></g><g class=\"y2tick\"><text text-anchor=\"end\" x=\"250.3\" y=\"4.199999999999999\" transform=\"translate(0,373.44)\" style=\"font-family: 'Open Sans', verdana, arial, sans-serif; font-size: 12px; fill: rgb(42, 63, 95); fill-opacity: 1; white-space: pre;\">100</text></g><g class=\"y2tick\"><text text-anchor=\"end\" x=\"250.3\" y=\"4.199999999999999\" transform=\"translate(0,299.88)\" style=\"font-family: 'Open Sans', verdana, arial, sans-serif; font-size: 12px; fill: rgb(42, 63, 95); fill-opacity: 1; white-space: pre;\">200</text></g><g class=\"y2tick\"><text text-anchor=\"end\" x=\"250.3\" y=\"4.199999999999999\" transform=\"translate(0,226.32)\" style=\"font-family: 'Open Sans', verdana, arial, sans-serif; font-size: 12px; fill: rgb(42, 63, 95); fill-opacity: 1; white-space: pre;\">300</text></g><g class=\"y2tick\"><text text-anchor=\"end\" x=\"250.3\" y=\"4.199999999999999\" transform=\"translate(0,152.76)\" style=\"font-family: 'Open Sans', verdana, arial, sans-serif; font-size: 12px; fill: rgb(42, 63, 95); fill-opacity: 1; white-space: pre;\">400</text></g><g class=\"y2tick\"><text text-anchor=\"end\" x=\"250.3\" y=\"4.199999999999999\" transform=\"translate(0,79.2)\" style=\"font-family: 'Open Sans', verdana, arial, sans-serif; font-size: 12px; fill: rgb(42, 63, 95); fill-opacity: 1; white-space: pre;\">500</text></g></g><g class=\"overaxes-above\"/></g></g><g class=\"polarlayer\"/><g class=\"ternarylayer\"/><g class=\"geolayer\"/><g class=\"funnelarealayer\"/><g class=\"pielayer\"/><g class=\"treemaplayer\"/><g class=\"sunburstlayer\"/><g class=\"glimages\"/><defs id=\"topdefs-772867\"><g class=\"clips\"/><clipPath id=\"legend772867\"><rect width=\"274\" height=\"314\" x=\"0\" y=\"0\"/></clipPath></defs><g class=\"layer-above\"><g class=\"imagelayer\"/><g class=\"shapelayer\"/></g><g class=\"infolayer\"><g class=\"legend\" pointer-events=\"all\" transform=\"translate(413.92,60)\"><rect class=\"bg\" shape-rendering=\"crispEdges\" width=\"274\" height=\"314\" x=\"0\" y=\"0\" style=\"stroke: rgb(68, 68, 68); stroke-opacity: 1; fill: rgb(255, 255, 255); fill-opacity: 1; stroke-width: 0px;\"/><g class=\"scrollbox\" transform=\"\" clip-path=\"url('#legend772867')\"><g class=\"groups\"><g class=\"traces\" transform=\"translate(0,14.5)\" style=\"opacity: 1;\"><text class=\"legendtext\" text-anchor=\"start\" x=\"40\" y=\"4.680000000000001\" style=\"font-family: 'Open Sans', verdana, arial, sans-serif; font-size: 12px; fill: rgb(42, 63, 95); fill-opacity: 1; white-space: pre;\">required</text><g class=\"layers\"><g class=\"legendfill\"><path class=\"js-fill\" d=\"M5,-2h30v6h-30z\" style=\"stroke-width: 0; fill: rgb(25, 211, 243); fill-opacity: 0.5;\"/></g><g class=\"legendlines\"><path class=\"js-line\" d=\"M5,-2h30\" style=\"fill: none; stroke: rgb(25, 211, 243); stroke-opacity: 1; stroke-width: 1px;\"/></g><g class=\"legendsymbols\"><g class=\"legendpoints\"/></g></g><rect class=\"legendtoggle\" x=\"0\" y=\"-9.5\" width=\"268.625\" height=\"19\" style=\"fill: rgb(0, 0, 0); fill-opacity: 0;\"/></g><g class=\"traces\" transform=\"translate(0,33.5)\" style=\"opacity: 1;\"><text class=\"legendtext\" text-anchor=\"start\" x=\"40\" y=\"4.680000000000001\" style=\"font-family: 'Open Sans', verdana, arial, sans-serif; font-size: 12px; fill: rgb(42, 63, 95); fill-opacity: 1; white-space: pre;\">hydroelectric_pumped_storage</text><g class=\"layers\"><g class=\"legendfill\"><path class=\"js-fill\" d=\"M5,-2h30v6h-30z\" style=\"stroke-width: 0; fill: rgb(0, 0, 139); fill-opacity: 0.5;\"/></g><g class=\"legendlines\"><path class=\"js-line\" d=\"M5,-2h30\" style=\"fill: none; stroke: rgb(0, 0, 139); stroke-opacity: 1; stroke-width: 1px;\"/></g><g class=\"legendsymbols\"><g class=\"legendpoints\"/></g></g><rect class=\"legendtoggle\" x=\"0\" y=\"-9.5\" width=\"268.625\" height=\"19\" style=\"fill: rgb(0, 0, 0); fill-opacity: 0;\"/></g><g class=\"traces\" transform=\"translate(0,52.5)\" style=\"opacity: 1;\"><text class=\"legendtext\" text-anchor=\"start\" x=\"40\" y=\"4.680000000000001\" style=\"font-family: 'Open Sans', verdana, arial, sans-serif; font-size: 12px; fill: rgb(42, 63, 95); fill-opacity: 1; white-space: pre;\">biomass</text><g class=\"layers\"><g class=\"legendfill\"><path class=\"js-fill\" d=\"M5,-2h30v6h-30z\" style=\"stroke-width: 0; fill: rgb(111, 194, 118); fill-opacity: 0.5;\"/></g><g class=\"legendlines\"><path class=\"js-line\" d=\"M5,-2h30\" style=\"fill: none; stroke: rgb(111, 194, 118); stroke-opacity: 1; stroke-width: 1px;\"/></g><g class=\"legendsymbols\"><g class=\"legendpoints\"/></g></g><rect class=\"legendtoggle\" x=\"0\" y=\"-9.5\" width=\"268.625\" height=\"19\" style=\"fill: rgb(0, 0, 0); fill-opacity: 0;\"/></g><g class=\"traces\" transform=\"translate(0,71.5)\" style=\"opacity: 1;\"><text class=\"legendtext\" text-anchor=\"start\" x=\"40\" y=\"4.680000000000001\" style=\"font-family: 'Open Sans', verdana, arial, sans-serif; font-size: 12px; fill: rgb(42, 63, 95); fill-opacity: 1; white-space: pre;\">solar_photovoltaic</text><g class=\"layers\"><g class=\"legendfill\"><path class=\"js-fill\" d=\"M5,-2h30v6h-30z\" style=\"stroke-width: 0; fill: rgb(255, 215, 0); fill-opacity: 0.5;\"/></g><g class=\"legendlines\"><path class=\"js-line\" d=\"M5,-2h30\" style=\"fill: none; stroke: rgb(255, 215, 0); stroke-opacity: 1; stroke-width: 1px;\"/></g><g class=\"legendsymbols\"><g class=\"legendpoints\"/></g></g><rect class=\"legendtoggle\" x=\"0\" y=\"-9.5\" width=\"268.625\" height=\"19\" style=\"fill: rgb(0, 0, 0); fill-opacity: 0;\"/></g><g class=\"traces\" transform=\"translate(0,90.5)\" style=\"opacity: 1;\"><text class=\"legendtext\" text-anchor=\"start\" x=\"40\" y=\"4.680000000000001\" style=\"font-family: 'Open Sans', verdana, arial, sans-serif; font-size: 12px; fill: rgb(42, 63, 95); fill-opacity: 1; white-space: pre;\">small_hydroelectric</text><g class=\"layers\"><g class=\"legendfill\"><path class=\"js-fill\" d=\"M5,-2h30v6h-30z\" style=\"stroke-width: 0; fill: rgb(100, 149, 237); fill-opacity: 0.5;\"/></g><g class=\"legendlines\"><path class=\"js-line\" d=\"M5,-2h30\" style=\"fill: none; stroke: rgb(100, 149, 237); stroke-opacity: 1; stroke-width: 1px;\"/></g><g class=\"legendsymbols\"><g class=\"legendpoints\"/></g></g><rect class=\"legendtoggle\" x=\"0\" y=\"-9.5\" width=\"268.625\" height=\"19\" style=\"fill: rgb(0, 0, 0); fill-opacity: 0;\"/></g><g class=\"traces\" transform=\"translate(0,109.5)\" style=\"opacity: 1;\"><text class=\"legendtext\" text-anchor=\"start\" x=\"40\" y=\"4.680000000000001\" style=\"font-family: 'Open Sans', verdana, arial, sans-serif; font-size: 12px; fill: rgb(42, 63, 95); fill-opacity: 1; white-space: pre;\">onshore_wind_turbine</text><g class=\"layers\"><g class=\"legendfill\"><path class=\"js-fill\" d=\"M5,-2h30v6h-30z\" style=\"stroke-width: 0; fill: rgb(135, 206, 235); fill-opacity: 0.5;\"/></g><g class=\"legendlines\"><path class=\"js-line\" d=\"M5,-2h30\" style=\"fill: none; stroke: rgb(135, 206, 235); stroke-opacity: 1; stroke-width: 1px;\"/></g><g class=\"legendsymbols\"><g class=\"legendpoints\"/></g></g><rect class=\"legendtoggle\" x=\"0\" y=\"-9.5\" width=\"268.625\" height=\"19\" style=\"fill: rgb(0, 0, 0); fill-opacity: 0;\"/></g><g class=\"traces\" transform=\"translate(0,128.5)\" style=\"opacity: 1;\"><text class=\"legendtext\" text-anchor=\"start\" x=\"40\" y=\"4.680000000000001\" style=\"font-family: 'Open Sans', verdana, arial, sans-serif; font-size: 12px; fill: rgb(42, 63, 95); fill-opacity: 1; white-space: pre;\">natural_gas_fired_combustion_turbine</text><g class=\"layers\"><g class=\"legendfill\"><path class=\"js-fill\" d=\"M5,-2h30v6h-30z\" style=\"stroke-width: 0; fill: rgb(0, 0, 0); fill-opacity: 0.5;\"/></g><g class=\"legendlines\"><path class=\"js-line\" d=\"M5,-2h30\" style=\"fill: none; stroke: rgb(0, 0, 0); stroke-opacity: 1; stroke-width: 1px;\"/></g><g class=\"legendsymbols\"><g class=\"legendpoints\"/></g></g><rect class=\"legendtoggle\" x=\"0\" y=\"-9.5\" width=\"268.625\" height=\"19\" style=\"fill: rgb(0, 0, 0); fill-opacity: 0;\"/></g><g class=\"traces\" transform=\"translate(0,147.5)\" style=\"opacity: 1;\"><text class=\"legendtext\" text-anchor=\"start\" x=\"40\" y=\"4.680000000000001\" style=\"font-family: 'Open Sans', verdana, arial, sans-serif; font-size: 12px; fill: rgb(42, 63, 95); fill-opacity: 1; white-space: pre;\">natural_gas_fired_combined_cycle</text><g class=\"layers\"><g class=\"legendfill\"><path class=\"js-fill\" d=\"M5,-2h30v6h-30z\" style=\"stroke-width: 0; fill: rgb(128, 128, 128); fill-opacity: 0.5;\"/></g><g class=\"legendlines\"><path class=\"js-line\" d=\"M5,-2h30\" style=\"fill: none; stroke: rgb(128, 128, 128); stroke-opacity: 1; stroke-width: 1px;\"/></g><g class=\"legendsymbols\"><g class=\"legendpoints\"/></g></g><rect class=\"legendtoggle\" x=\"0\" y=\"-9.5\" width=\"268.625\" height=\"19\" style=\"fill: rgb(0, 0, 0); fill-opacity: 0;\"/></g><g class=\"traces\" transform=\"translate(0,166.5)\" style=\"opacity: 1;\"><text class=\"legendtext\" text-anchor=\"start\" x=\"40\" y=\"4.680000000000001\" style=\"font-family: 'Open Sans', verdana, arial, sans-serif; font-size: 12px; fill: rgb(42, 63, 95); fill-opacity: 1; white-space: pre;\">required</text><g class=\"layers\"><g class=\"legendfill\"><path class=\"js-fill\" d=\"M5,-2h30v6h-30z\" style=\"stroke-width: 0; fill: rgb(182, 232, 128); fill-opacity: 0.5;\"/></g><g class=\"legendlines\"><path class=\"js-line\" d=\"M5,-2h30\" style=\"fill: none; stroke: rgb(182, 232, 128); stroke-opacity: 1; stroke-width: 1px;\"/></g><g class=\"legendsymbols\"><g class=\"legendpoints\"/></g></g><rect class=\"legendtoggle\" x=\"0\" y=\"-9.5\" width=\"268.625\" height=\"19\" style=\"fill: rgb(0, 0, 0); fill-opacity: 0;\"/></g><g class=\"traces\" transform=\"translate(0,185.5)\" style=\"opacity: 1;\"><text class=\"legendtext\" text-anchor=\"start\" x=\"40\" y=\"4.680000000000001\" style=\"font-family: 'Open Sans', verdana, arial, sans-serif; font-size: 12px; fill: rgb(42, 63, 95); fill-opacity: 1; white-space: pre;\">hydroelectric_pumped_storage</text><g class=\"layers\"><g class=\"legendfill\"><path class=\"js-fill\" d=\"M5,-2h30v6h-30z\" style=\"stroke-width: 0; fill: rgb(0, 0, 139); fill-opacity: 0.5;\"/></g><g class=\"legendlines\"><path class=\"js-line\" d=\"M5,-2h30\" style=\"fill: none; stroke: rgb(0, 0, 139); stroke-opacity: 1; stroke-width: 1px;\"/></g><g class=\"legendsymbols\"><g class=\"legendpoints\"/></g></g><rect class=\"legendtoggle\" x=\"0\" y=\"-9.5\" width=\"268.625\" height=\"19\" style=\"fill: rgb(0, 0, 0); fill-opacity: 0;\"/></g><g class=\"traces\" transform=\"translate(0,204.5)\" style=\"opacity: 1;\"><text class=\"legendtext\" text-anchor=\"start\" x=\"40\" y=\"4.680000000000001\" style=\"font-family: 'Open Sans', verdana, arial, sans-serif; font-size: 12px; fill: rgb(42, 63, 95); fill-opacity: 1; white-space: pre;\">biomass</text><g class=\"layers\"><g class=\"legendfill\"><path class=\"js-fill\" d=\"M5,-2h30v6h-30z\" style=\"stroke-width: 0; fill: rgb(111, 194, 118); fill-opacity: 0.5;\"/></g><g class=\"legendlines\"><path class=\"js-line\" d=\"M5,-2h30\" style=\"fill: none; stroke: rgb(111, 194, 118); stroke-opacity: 1; stroke-width: 1px;\"/></g><g class=\"legendsymbols\"><g class=\"legendpoints\"/></g></g><rect class=\"legendtoggle\" x=\"0\" y=\"-9.5\" width=\"268.625\" height=\"19\" style=\"fill: rgb(0, 0, 0); fill-opacity: 0;\"/></g><g class=\"traces\" transform=\"translate(0,223.5)\" style=\"opacity: 1;\"><text class=\"legendtext\" text-anchor=\"start\" x=\"40\" y=\"4.680000000000001\" style=\"font-family: 'Open Sans', verdana, arial, sans-serif; font-size: 12px; fill: rgb(42, 63, 95); fill-opacity: 1; white-space: pre;\">solar_photovoltaic</text><g class=\"layers\"><g class=\"legendfill\"><path class=\"js-fill\" d=\"M5,-2h30v6h-30z\" style=\"stroke-width: 0; fill: rgb(255, 215, 0); fill-opacity: 0.5;\"/></g><g class=\"legendlines\"><path class=\"js-line\" d=\"M5,-2h30\" style=\"fill: none; stroke: rgb(255, 215, 0); stroke-opacity: 1; stroke-width: 1px;\"/></g><g class=\"legendsymbols\"><g class=\"legendpoints\"/></g></g><rect class=\"legendtoggle\" x=\"0\" y=\"-9.5\" width=\"268.625\" height=\"19\" style=\"fill: rgb(0, 0, 0); fill-opacity: 0;\"/></g><g class=\"traces\" transform=\"translate(0,242.5)\" style=\"opacity: 1;\"><text class=\"legendtext\" text-anchor=\"start\" x=\"40\" y=\"4.680000000000001\" style=\"font-family: 'Open Sans', verdana, arial, sans-serif; font-size: 12px; fill: rgb(42, 63, 95); fill-opacity: 1; white-space: pre;\">small_hydroelectric</text><g class=\"layers\"><g class=\"legendfill\"><path class=\"js-fill\" d=\"M5,-2h30v6h-30z\" style=\"stroke-width: 0; fill: rgb(100, 149, 237); fill-opacity: 0.5;\"/></g><g class=\"legendlines\"><path class=\"js-line\" d=\"M5,-2h30\" style=\"fill: none; stroke: rgb(100, 149, 237); stroke-opacity: 1; stroke-width: 1px;\"/></g><g class=\"legendsymbols\"><g class=\"legendpoints\"/></g></g><rect class=\"legendtoggle\" x=\"0\" y=\"-9.5\" width=\"268.625\" height=\"19\" style=\"fill: rgb(0, 0, 0); fill-opacity: 0;\"/></g><g class=\"traces\" transform=\"translate(0,261.5)\" style=\"opacity: 1;\"><text class=\"legendtext\" text-anchor=\"start\" x=\"40\" y=\"4.680000000000001\" style=\"font-family: 'Open Sans', verdana, arial, sans-serif; font-size: 12px; fill: rgb(42, 63, 95); fill-opacity: 1; white-space: pre;\">onshore_wind_turbine</text><g class=\"layers\"><g class=\"legendfill\"><path class=\"js-fill\" d=\"M5,-2h30v6h-30z\" style=\"stroke-width: 0; fill: rgb(135, 206, 235); fill-opacity: 0.5;\"/></g><g class=\"legendlines\"><path class=\"js-line\" d=\"M5,-2h30\" style=\"fill: none; stroke: rgb(135, 206, 235); stroke-opacity: 1; stroke-width: 1px;\"/></g><g class=\"legendsymbols\"><g class=\"legendpoints\"/></g></g><rect class=\"legendtoggle\" x=\"0\" y=\"-9.5\" width=\"268.625\" height=\"19\" style=\"fill: rgb(0, 0, 0); fill-opacity: 0;\"/></g><g class=\"traces\" transform=\"translate(0,280.5)\" style=\"opacity: 1;\"><text class=\"legendtext\" text-anchor=\"start\" x=\"40\" y=\"4.680000000000001\" style=\"font-family: 'Open Sans', verdana, arial, sans-serif; font-size: 12px; fill: rgb(42, 63, 95); fill-opacity: 1; white-space: pre;\">natural_gas_fired_combustion_turbine</text><g class=\"layers\"><g class=\"legendfill\"><path class=\"js-fill\" d=\"M5,-2h30v6h-30z\" style=\"stroke-width: 0; fill: rgb(0, 0, 0); fill-opacity: 0.5;\"/></g><g class=\"legendlines\"><path class=\"js-line\" d=\"M5,-2h30\" style=\"fill: none; stroke: rgb(0, 0, 0); stroke-opacity: 1; stroke-width: 1px;\"/></g><g class=\"legendsymbols\"><g class=\"legendpoints\"/></g></g><rect class=\"legendtoggle\" x=\"0\" y=\"-9.5\" width=\"268.625\" height=\"19\" style=\"fill: rgb(0, 0, 0); fill-opacity: 0;\"/></g><g class=\"traces\" transform=\"translate(0,299.5)\" style=\"opacity: 1;\"><text class=\"legendtext\" text-anchor=\"start\" x=\"40\" y=\"4.680000000000001\" style=\"font-family: 'Open Sans', verdana, arial, sans-serif; font-size: 12px; fill: rgb(42, 63, 95); fill-opacity: 1; white-space: pre;\">natural_gas_fired_combined_cycle</text><g class=\"layers\"><g class=\"legendfill\"><path class=\"js-fill\" d=\"M5,-2h30v6h-30z\" style=\"stroke-width: 0; fill: rgb(128, 128, 128); fill-opacity: 0.5;\"/></g><g class=\"legendlines\"><path class=\"js-line\" d=\"M5,-2h30\" style=\"fill: none; stroke: rgb(128, 128, 128); stroke-opacity: 1; stroke-width: 1px;\"/></g><g class=\"legendsymbols\"><g class=\"legendpoints\"/></g></g><rect class=\"legendtoggle\" x=\"0\" y=\"-9.5\" width=\"268.625\" height=\"19\" style=\"fill: rgb(0, 0, 0); fill-opacity: 0;\"/></g></g></g><rect class=\"scrollbar\" rx=\"20\" ry=\"3\" width=\"0\" height=\"0\" x=\"0\" y=\"0\" style=\"fill: rgb(128, 139, 164); fill-opacity: 1;\"/></g><g class=\"g-gtitle\"/><g class=\"g-xtitle\"><text class=\"xtitle\" x=\"138.85000000000002\" y=\"487.8\" text-anchor=\"middle\" style=\"font-family: 'Open Sans', verdana, arial, sans-serif; font-size: 14px; fill: rgb(42, 63, 95); opacity: 1; font-weight: normal; white-space: pre;\">hour</text></g><g class=\"g-x2title\"><text class=\"x2title\" x=\"329.15\" y=\"487.8\" text-anchor=\"middle\" style=\"font-family: 'Open Sans', verdana, arial, sans-serif; font-size: 14px; fill: rgb(42, 63, 95); opacity: 1; font-weight: normal; white-space: pre;\">hour</text></g><g class=\"g-ytitle\" transform=\"translate(0.7060546875,0)\"><text class=\"ytitle\" transform=\"rotate(-90,12.293750000000003,253.5)\" x=\"12.293750000000003\" y=\"253.5\" text-anchor=\"middle\" style=\"font-family: 'Open Sans', verdana, arial, sans-serif; font-size: 14px; fill: rgb(42, 63, 95); opacity: 1; font-weight: normal; white-space: pre;\">reserve MW</text></g><g class=\"g-y2title\"><text class=\"y2title\" transform=\"rotate(-90,202.590625,253.5)\" x=\"202.590625\" y=\"253.5\" text-anchor=\"middle\" style=\"font-family: 'Open Sans', verdana, arial, sans-serif; font-size: 14px; fill: rgb(42, 63, 95); opacity: 1; font-weight: normal; white-space: pre;\">reserve MW</text></g><g class=\"annotation\" data-index=\"0\" style=\"opacity: 1;\"><g class=\"annotation-text-g\" transform=\"rotate(0,138.85000000000002,48.5)\"><g class=\"cursor-pointer\" transform=\"translate(92,37)\"><rect class=\"bg\" x=\"0.5\" y=\"0.5\" width=\"93\" height=\"22\" style=\"stroke-width: 1px; stroke: rgb(0, 0, 0); stroke-opacity: 0; fill: rgb(0, 0, 0); fill-opacity: 0;\"/><text class=\"annotation-text\" text-anchor=\"middle\" x=\"46.859375\" y=\"17\" style=\"font-family: 'Open Sans', verdana, arial, sans-serif; font-size: 16px; fill: rgb(42, 63, 95); fill-opacity: 1; white-space: pre;\">Reserve up</text></g></g></g><g class=\"annotation\" data-index=\"1\" style=\"opacity: 1;\"><g class=\"annotation-text-g\" transform=\"rotate(0,329.15000000000003,48.5)\"><g class=\"cursor-pointer\" transform=\"translate(282,37)\"><rect class=\"bg\" x=\"0.5\" y=\"0.5\" width=\"93\" height=\"22\" style=\"stroke-width: 1px; stroke: rgb(0, 0, 0); stroke-opacity: 0; fill: rgb(0, 0, 0); fill-opacity: 0;\"/><text class=\"annotation-text\" text-anchor=\"middle\" x=\"46.859375\" y=\"17\" style=\"font-family: 'Open Sans', verdana, arial, sans-serif; font-size: 16px; fill: rgb(42, 63, 95); fill-opacity: 1; white-space: pre;\">Reserve up</text></g></g></g></g></svg>"
      ],
      "text/html": [
       "<div\n",
       "    class=\"webio-mountpoint\"\n",
       "    data-webio-mountpoint=\"5024679615607957348\"\n",
       ">\n",
       "    <script>\n",
       "    (function(){\n",
       "    // Some integrations (namely, IJulia/Jupyter) use an alternate render pathway than\n",
       "    // just putting the html on the page. If WebIO isn't defined, then it's pretty likely\n",
       "    // that we're in one of those situations and the integration just isn't installed\n",
       "    // correctly.\n",
       "    if (typeof window.WebIO === \"undefined\") {\n",
       "        document\n",
       "            .querySelector('[data-webio-mountpoint=\"5024679615607957348\"]')\n",
       "            .innerHTML = (\n",
       "                '<div style=\"padding: 1em; background-color: #f8d6da; border: 1px solid #f5c6cb; font-weight: bold;\">' +\n",
       "                '<p><strong>WebIO not detected.</strong></p>' +\n",
       "                '<p>Please read ' +\n",
       "                '<a href=\"https://juliagizmos.github.io/WebIO.jl/latest/troubleshooting/not-detected/\" target=\"_blank\">the troubleshooting guide</a> ' +\n",
       "                'for more information on how to resolve this issue.</p>' +\n",
       "                '<p><a href=\"https://juliagizmos.github.io/WebIO.jl/latest/troubleshooting/not-detected/\" target=\"_blank\">https://juliagizmos.github.io/WebIO.jl/latest/troubleshooting/not-detected/</a></p>' +\n",
       "                '</div>'\n",
       "            );\n",
       "        return;\n",
       "    }\n",
       "    WebIO.mount(\n",
       "        document.querySelector('[data-webio-mountpoint=\"5024679615607957348\"]'),\n",
       "        {\"props\":{},\"nodeType\":\"Scope\",\"type\":\"node\",\"instanceArgs\":{\"imports\":{\"data\":[{\"name\":\"Plotly\",\"type\":\"js\",\"url\":\"\\/assetserver\\/d6feb8d8ce4676ebdde817a0745950a35b4ba3ae-plotly.min.js\"},{\"name\":null,\"type\":\"js\",\"url\":\"\\/assetserver\\/517030b23c1c21e94bf622985d97a74a9582e066-plotly_webio.bundle.js\"}],\"type\":\"async_block\"},\"id\":\"227468073358012482\",\"handlers\":{\"_toImage\":[\"(function (options){return this.Plotly.toImage(this.plotElem,options).then((function (data){return WebIO.setval({\\\"name\\\":\\\"image\\\",\\\"scope\\\":\\\"227468073358012482\\\",\\\"id\\\":\\\"935\\\",\\\"type\\\":\\\"observable\\\"},data)}))})\"],\"__get_gd_contents\":[\"(function (prop){prop==\\\"data\\\" ? (WebIO.setval({\\\"name\\\":\\\"__gd_contents\\\",\\\"scope\\\":\\\"227468073358012482\\\",\\\"id\\\":\\\"936\\\",\\\"type\\\":\\\"observable\\\"},this.plotElem.data)) : undefined; return prop==\\\"layout\\\" ? (WebIO.setval({\\\"name\\\":\\\"__gd_contents\\\",\\\"scope\\\":\\\"227468073358012482\\\",\\\"id\\\":\\\"936\\\",\\\"type\\\":\\\"observable\\\"},this.plotElem.layout)) : undefined})\"],\"_downloadImage\":[\"(function (options){return this.Plotly.downloadImage(this.plotElem,options)})\"],\"_commands\":[\"(function (args){var fn=args.shift(); var elem=this.plotElem; var Plotly=this.Plotly; args.unshift(elem); return Plotly[fn].apply(this,args)})\"]},\"systemjs_options\":null,\"mount_callbacks\":[\"function () {\\n    var handler = ((function (Plotly,PlotlyWebIO){PlotlyWebIO.init(WebIO); var gd=this.dom.querySelector(\\\"#plot-704c759b-6f68-42db-b960-ffc886b4410d\\\"); this.plotElem=gd; this.Plotly=Plotly; (window.Blink!==undefined) ? (gd.style.width=\\\"100%\\\", gd.style.height=\\\"100vh\\\", gd.style.marginLeft=\\\"0%\\\", gd.style.marginTop=\\\"0vh\\\") : undefined; window.onresize=(function (){return Plotly.Plots.resize(gd)}); Plotly.newPlot(gd,[{\\\"mode\\\":\\\"lines\\\",\\\"line\\\":{\\\"color\\\":\\\"grey\\\",\\\"width\\\":1,\\\"shape\\\":\\\"line\\\"},\\\"xaxis\\\":\\\"x1\\\",\\\"y\\\":[433.904,311.7578,310.0078,312.2078,320.7578,332.9078,347.8078,363.9578,441.9,451.15,456.25,448.15,437.15,433.3,428.9,424.1,421.1,418.7,418.9,425.05,425.3,412.9,399.4,388.0],\\\"type\\\":\\\"scatter\\\",\\\"name\\\":\\\"natural_gas_fired_combined_cycle\\\",\\\"stackgroup\\\":1,\\\"yaxis\\\":\\\"y1\\\",\\\"x\\\":[2401,2402,2403,2404,2405,2406,2407,2408,2409,2410,2411,2412,2413,2414,2415,2416,2417,2418,2419,2420,2421,2422,2423,2424]},{\\\"mode\\\":\\\"lines\\\",\\\"line\\\":{\\\"color\\\":\\\"black\\\",\\\"width\\\":1,\\\"shape\\\":\\\"line\\\"},\\\"xaxis\\\":\\\"x1\\\",\\\"y\\\":[65.8922,65.8922,65.8922,65.8922,65.8922,65.8922,65.8922,65.8922,0.0,0.0,0.0,0.0,0.0,0.0,0.0,0.0,0.0,0.0,0.0,0.0,0.0,0.0,0.0,0.0],\\\"type\\\":\\\"scatter\\\",\\\"name\\\":\\\"natural_gas_fired_combustion_turbine\\\",\\\"stackgroup\\\":1,\\\"yaxis\\\":\\\"y1\\\",\\\"x\\\":[2401,2402,2403,2404,2405,2406,2407,2408,2409,2410,2411,2412,2413,2414,2415,2416,2417,2418,2419,2420,2421,2422,2423,2424]},{\\\"mode\\\":\\\"lines\\\",\\\"line\\\":{\\\"color\\\":\\\"skyblue\\\",\\\"width\\\":1,\\\"shape\\\":\\\"line\\\"},\\\"xaxis\\\":\\\"x1\\\",\\\"y\\\":[null,null,null,null,null,null,null,null,null,null,null,null,null,null,null,null,null,null,null,null,null,null,null,null],\\\"type\\\":\\\"scatter\\\",\\\"name\\\":\\\"onshore_wind_turbine\\\",\\\"stackgroup\\\":1,\\\"yaxis\\\":\\\"y1\\\",\\\"x\\\":[2401,2402,2403,2404,2405,2406,2407,2408,2409,2410,2411,2412,2413,2414,2415,2416,2417,2418,2419,2420,2421,2422,2423,2424]},{\\\"mode\\\":\\\"lines\\\",\\\"line\\\":{\\\"color\\\":\\\"cornflowerblue\\\",\\\"width\\\":1,\\\"shape\\\":\\\"line\\\"},\\\"xaxis\\\":\\\"x1\\\",\\\"y\\\":[null,null,null,null,null,null,null,null,null,null,null,null,null,null,null,null,null,null,null,null,null,null,null,null],\\\"type\\\":\\\"scatter\\\",\\\"name\\\":\\\"small_hydroelectric\\\",\\\"stackgroup\\\":1,\\\"yaxis\\\":\\\"y1\\\",\\\"x\\\":[2401,2402,2403,2404,2405,2406,2407,2408,2409,2410,2411,2412,2413,2414,2415,2416,2417,2418,2419,2420,2421,2422,2423,2424]},{\\\"mode\\\":\\\"lines\\\",\\\"line\\\":{\\\"color\\\":\\\"gold\\\",\\\"width\\\":1,\\\"shape\\\":\\\"line\\\"},\\\"xaxis\\\":\\\"x1\\\",\\\"y\\\":[null,null,null,null,null,null,null,null,null,null,null,null,null,null,null,null,null,null,null,null,null,null,null,null],\\\"type\\\":\\\"scatter\\\",\\\"name\\\":\\\"solar_photovoltaic\\\",\\\"stackgroup\\\":1,\\\"yaxis\\\":\\\"y1\\\",\\\"x\\\":[2401,2402,2403,2404,2405,2406,2407,2408,2409,2410,2411,2412,2413,2414,2415,2416,2417,2418,2419,2420,2421,2422,2423,2424]},{\\\"mode\\\":\\\"lines\\\",\\\"line\\\":{\\\"color\\\":\\\"#6fc276\\\",\\\"width\\\":1,\\\"shape\\\":\\\"line\\\"},\\\"xaxis\\\":\\\"x1\\\",\\\"y\\\":[null,null,null,null,null,null,null,null,null,null,null,null,null,null,null,null,null,null,null,null,null,null,null,null],\\\"type\\\":\\\"scatter\\\",\\\"name\\\":\\\"biomass\\\",\\\"stackgroup\\\":1,\\\"yaxis\\\":\\\"y1\\\",\\\"x\\\":[2401,2402,2403,2404,2405,2406,2407,2408,2409,2410,2411,2412,2413,2414,2415,2416,2417,2418,2419,2420,2421,2422,2423,2424]},{\\\"mode\\\":\\\"lines\\\",\\\"line\\\":{\\\"color\\\":\\\"darkblue\\\",\\\"width\\\":1,\\\"shape\\\":\\\"line\\\"},\\\"xaxis\\\":\\\"x1\\\",\\\"y\\\":[null,null,null,null,null,null,null,null,null,null,null,null,null,null,null,null,null,null,null,null,null,null,null,null],\\\"type\\\":\\\"scatter\\\",\\\"name\\\":\\\"hydroelectric_pumped_storage\\\",\\\"stackgroup\\\":1,\\\"yaxis\\\":\\\"y1\\\",\\\"x\\\":[2401,2402,2403,2404,2405,2406,2407,2408,2409,2410,2411,2412,2413,2414,2415,2416,2417,2418,2419,2420,2421,2422,2423,2424]},{\\\"mode\\\":\\\"lines\\\",\\\"line\\\":{\\\"color\\\":\\\"#F0092\\\",\\\"width\\\":1,\\\"shape\\\":\\\"line\\\"},\\\"xaxis\\\":\\\"x1\\\",\\\"y\\\":[380.75,377.65,375.9,378.1,386.65,398.8,413.7,429.85,441.9,451.15,456.25,448.15,437.15,433.3,428.9,424.1,421.1,418.7,418.9,425.05,425.3,412.9,399.4,388.0],\\\"type\\\":\\\"scatter\\\",\\\"name\\\":\\\"required\\\",\\\"stackgroup\\\":2,\\\"yaxis\\\":\\\"y1\\\",\\\"x\\\":[2401,2402,2403,2404,2405,2406,2407,2408,2409,2410,2411,2412,2413,2414,2415,2416,2417,2418,2419,2420,2421,2422,2423,2424]},{\\\"mode\\\":\\\"lines\\\",\\\"line\\\":{\\\"color\\\":\\\"grey\\\",\\\"width\\\":1,\\\"shape\\\":\\\"line\\\"},\\\"xaxis\\\":\\\"x2\\\",\\\"y\\\":[433.904,311.7578,310.0078,312.2078,320.7578,332.9078,347.8078,363.9578,441.9,451.15,456.25,448.15,437.15,433.3,428.9,424.1,421.1,418.7,418.9,425.05,425.3,412.9,399.4,388.0],\\\"type\\\":\\\"scatter\\\",\\\"name\\\":\\\"natural_gas_fired_combined_cycle\\\",\\\"stackgroup\\\":1,\\\"yaxis\\\":\\\"y2\\\",\\\"x\\\":[2401,2402,2403,2404,2405,2406,2407,2408,2409,2410,2411,2412,2413,2414,2415,2416,2417,2418,2419,2420,2421,2422,2423,2424]},{\\\"mode\\\":\\\"lines\\\",\\\"line\\\":{\\\"color\\\":\\\"black\\\",\\\"width\\\":1,\\\"shape\\\":\\\"line\\\"},\\\"xaxis\\\":\\\"x2\\\",\\\"y\\\":[65.8922,65.8922,65.8922,65.8922,65.8922,65.8922,65.8922,65.8922,0.0,0.0,0.0,0.0,0.0,0.0,0.0,0.0,0.0,0.0,0.0,0.0,0.0,0.0,0.0,0.0],\\\"type\\\":\\\"scatter\\\",\\\"name\\\":\\\"natural_gas_fired_combustion_turbine\\\",\\\"stackgroup\\\":1,\\\"yaxis\\\":\\\"y2\\\",\\\"x\\\":[2401,2402,2403,2404,2405,2406,2407,2408,2409,2410,2411,2412,2413,2414,2415,2416,2417,2418,2419,2420,2421,2422,2423,2424]},{\\\"mode\\\":\\\"lines\\\",\\\"line\\\":{\\\"color\\\":\\\"skyblue\\\",\\\"width\\\":1,\\\"shape\\\":\\\"line\\\"},\\\"xaxis\\\":\\\"x2\\\",\\\"y\\\":[null,null,null,null,null,null,null,null,null,null,null,null,null,null,null,null,null,null,null,null,null,null,null,null],\\\"type\\\":\\\"scatter\\\",\\\"name\\\":\\\"onshore_wind_turbine\\\",\\\"stackgroup\\\":1,\\\"yaxis\\\":\\\"y2\\\",\\\"x\\\":[2401,2402,2403,2404,2405,2406,2407,2408,2409,2410,2411,2412,2413,2414,2415,2416,2417,2418,2419,2420,2421,2422,2423,2424]},{\\\"mode\\\":\\\"lines\\\",\\\"line\\\":{\\\"color\\\":\\\"cornflowerblue\\\",\\\"width\\\":1,\\\"shape\\\":\\\"line\\\"},\\\"xaxis\\\":\\\"x2\\\",\\\"y\\\":[null,null,null,null,null,null,null,null,null,null,null,null,null,null,null,null,null,null,null,null,null,null,null,null],\\\"type\\\":\\\"scatter\\\",\\\"name\\\":\\\"small_hydroelectric\\\",\\\"stackgroup\\\":1,\\\"yaxis\\\":\\\"y2\\\",\\\"x\\\":[2401,2402,2403,2404,2405,2406,2407,2408,2409,2410,2411,2412,2413,2414,2415,2416,2417,2418,2419,2420,2421,2422,2423,2424]},{\\\"mode\\\":\\\"lines\\\",\\\"line\\\":{\\\"color\\\":\\\"gold\\\",\\\"width\\\":1,\\\"shape\\\":\\\"line\\\"},\\\"xaxis\\\":\\\"x2\\\",\\\"y\\\":[null,null,null,null,null,null,null,null,null,null,null,null,null,null,null,null,null,null,null,null,null,null,null,null],\\\"type\\\":\\\"scatter\\\",\\\"name\\\":\\\"solar_photovoltaic\\\",\\\"stackgroup\\\":1,\\\"yaxis\\\":\\\"y2\\\",\\\"x\\\":[2401,2402,2403,2404,2405,2406,2407,2408,2409,2410,2411,2412,2413,2414,2415,2416,2417,2418,2419,2420,2421,2422,2423,2424]},{\\\"mode\\\":\\\"lines\\\",\\\"line\\\":{\\\"color\\\":\\\"#6fc276\\\",\\\"width\\\":1,\\\"shape\\\":\\\"line\\\"},\\\"xaxis\\\":\\\"x2\\\",\\\"y\\\":[null,null,null,null,null,null,null,null,null,null,null,null,null,null,null,null,null,null,null,null,null,null,null,null],\\\"type\\\":\\\"scatter\\\",\\\"name\\\":\\\"biomass\\\",\\\"stackgroup\\\":1,\\\"yaxis\\\":\\\"y2\\\",\\\"x\\\":[2401,2402,2403,2404,2405,2406,2407,2408,2409,2410,2411,2412,2413,2414,2415,2416,2417,2418,2419,2420,2421,2422,2423,2424]},{\\\"mode\\\":\\\"lines\\\",\\\"line\\\":{\\\"color\\\":\\\"darkblue\\\",\\\"width\\\":1,\\\"shape\\\":\\\"line\\\"},\\\"xaxis\\\":\\\"x2\\\",\\\"y\\\":[null,null,null,null,null,null,null,null,null,null,null,null,null,null,null,null,null,null,null,null,null,null,null,null],\\\"type\\\":\\\"scatter\\\",\\\"name\\\":\\\"hydroelectric_pumped_storage\\\",\\\"stackgroup\\\":1,\\\"yaxis\\\":\\\"y2\\\",\\\"x\\\":[2401,2402,2403,2404,2405,2406,2407,2408,2409,2410,2411,2412,2413,2414,2415,2416,2417,2418,2419,2420,2421,2422,2423,2424]},{\\\"mode\\\":\\\"lines\\\",\\\"line\\\":{\\\"color\\\":\\\"#F0092\\\",\\\"width\\\":1,\\\"shape\\\":\\\"line\\\"},\\\"xaxis\\\":\\\"x2\\\",\\\"y\\\":[380.75,377.65,375.9,378.1,386.65,398.8,413.7,429.85,441.9,451.15,456.25,448.15,437.15,433.3,428.9,424.1,421.1,418.7,418.9,425.05,425.3,412.9,399.4,388.0],\\\"type\\\":\\\"scatter\\\",\\\"name\\\":\\\"required\\\",\\\"stackgroup\\\":2,\\\"yaxis\\\":\\\"y2\\\",\\\"x\\\":[2401,2402,2403,2404,2405,2406,2407,2408,2409,2410,2411,2412,2413,2414,2415,2416,2417,2418,2419,2420,2421,2422,2423,2424]}],{\\\"xaxis1\\\":{\\\"title\\\":{\\\"text\\\":\\\"hour\\\"},\\\"domain\\\":[0.0,0.45],\\\"anchor\\\":\\\"y1\\\"},\\\"yaxis1\\\":{\\\"title\\\":{\\\"text\\\":\\\"reserve MW\\\"},\\\"domain\\\":[0.0,1.0],\\\"anchor\\\":\\\"x1\\\"},\\\"template\\\":{\\\"layout\\\":{\\\"coloraxis\\\":{\\\"colorbar\\\":{\\\"ticks\\\":\\\"\\\",\\\"outlinewidth\\\":0}},\\\"xaxis\\\":{\\\"gridcolor\\\":\\\"white\\\",\\\"zerolinewidth\\\":2,\\\"title\\\":{\\\"standoff\\\":15},\\\"ticks\\\":\\\"\\\",\\\"zerolinecolor\\\":\\\"white\\\",\\\"automargin\\\":true,\\\"linecolor\\\":\\\"white\\\"},\\\"hovermode\\\":\\\"closest\\\",\\\"paper_bgcolor\\\":\\\"white\\\",\\\"geo\\\":{\\\"showlakes\\\":true,\\\"showland\\\":true,\\\"landcolor\\\":\\\"#E5ECF6\\\",\\\"bgcolor\\\":\\\"white\\\",\\\"subunitcolor\\\":\\\"white\\\",\\\"lakecolor\\\":\\\"white\\\"},\\\"colorscale\\\":{\\\"sequential\\\":[[0.0,\\\"#0d0887\\\"],[0.1111111111111111,\\\"#46039f\\\"],[0.2222222222222222,\\\"#7201a8\\\"],[0.3333333333333333,\\\"#9c179e\\\"],[0.4444444444444444,\\\"#bd3786\\\"],[0.5555555555555556,\\\"#d8576b\\\"],[0.6666666666666666,\\\"#ed7953\\\"],[0.7777777777777778,\\\"#fb9f3a\\\"],[0.8888888888888888,\\\"#fdca26\\\"],[1.0,\\\"#f0f921\\\"]],\\\"diverging\\\":[[0,\\\"#8e0152\\\"],[0.1,\\\"#c51b7d\\\"],[0.2,\\\"#de77ae\\\"],[0.3,\\\"#f1b6da\\\"],[0.4,\\\"#fde0ef\\\"],[0.5,\\\"#f7f7f7\\\"],[0.6,\\\"#e6f5d0\\\"],[0.7,\\\"#b8e186\\\"],[0.8,\\\"#7fbc41\\\"],[0.9,\\\"#4d9221\\\"],[1,\\\"#276419\\\"]],\\\"sequentialminus\\\":[[0.0,\\\"#0d0887\\\"],[0.1111111111111111,\\\"#46039f\\\"],[0.2222222222222222,\\\"#7201a8\\\"],[0.3333333333333333,\\\"#9c179e\\\"],[0.4444444444444444,\\\"#bd3786\\\"],[0.5555555555555556,\\\"#d8576b\\\"],[0.6666666666666666,\\\"#ed7953\\\"],[0.7777777777777778,\\\"#fb9f3a\\\"],[0.8888888888888888,\\\"#fdca26\\\"],[1.0,\\\"#f0f921\\\"]]},\\\"yaxis\\\":{\\\"gridcolor\\\":\\\"white\\\",\\\"zerolinewidth\\\":2,\\\"title\\\":{\\\"standoff\\\":15},\\\"ticks\\\":\\\"\\\",\\\"zerolinecolor\\\":\\\"white\\\",\\\"automargin\\\":true,\\\"linecolor\\\":\\\"white\\\"},\\\"shapedefaults\\\":{\\\"line\\\":{\\\"color\\\":\\\"#2a3f5f\\\"}},\\\"hoverlabel\\\":{\\\"align\\\":\\\"left\\\"},\\\"mapbox\\\":{\\\"style\\\":\\\"light\\\"},\\\"polar\\\":{\\\"angularaxis\\\":{\\\"gridcolor\\\":\\\"white\\\",\\\"ticks\\\":\\\"\\\",\\\"linecolor\\\":\\\"white\\\"},\\\"bgcolor\\\":\\\"#E5ECF6\\\",\\\"radialaxis\\\":{\\\"gridcolor\\\":\\\"white\\\",\\\"ticks\\\":\\\"\\\",\\\"linecolor\\\":\\\"white\\\"}},\\\"autotypenumbers\\\":\\\"strict\\\",\\\"font\\\":{\\\"color\\\":\\\"#2a3f5f\\\"},\\\"ternary\\\":{\\\"baxis\\\":{\\\"gridcolor\\\":\\\"white\\\",\\\"ticks\\\":\\\"\\\",\\\"linecolor\\\":\\\"white\\\"},\\\"bgcolor\\\":\\\"#E5ECF6\\\",\\\"caxis\\\":{\\\"gridcolor\\\":\\\"white\\\",\\\"ticks\\\":\\\"\\\",\\\"linecolor\\\":\\\"white\\\"},\\\"aaxis\\\":{\\\"gridcolor\\\":\\\"white\\\",\\\"ticks\\\":\\\"\\\",\\\"linecolor\\\":\\\"white\\\"}},\\\"annotationdefaults\\\":{\\\"arrowhead\\\":0,\\\"arrowwidth\\\":1,\\\"arrowcolor\\\":\\\"#2a3f5f\\\"},\\\"plot_bgcolor\\\":\\\"#E5ECF6\\\",\\\"title\\\":{\\\"x\\\":0.05},\\\"scene\\\":{\\\"xaxis\\\":{\\\"gridcolor\\\":\\\"white\\\",\\\"gridwidth\\\":2,\\\"backgroundcolor\\\":\\\"#E5ECF6\\\",\\\"ticks\\\":\\\"\\\",\\\"showbackground\\\":true,\\\"zerolinecolor\\\":\\\"white\\\",\\\"linecolor\\\":\\\"white\\\"},\\\"zaxis\\\":{\\\"gridcolor\\\":\\\"white\\\",\\\"gridwidth\\\":2,\\\"backgroundcolor\\\":\\\"#E5ECF6\\\",\\\"ticks\\\":\\\"\\\",\\\"showbackground\\\":true,\\\"zerolinecolor\\\":\\\"white\\\",\\\"linecolor\\\":\\\"white\\\"},\\\"yaxis\\\":{\\\"gridcolor\\\":\\\"white\\\",\\\"gridwidth\\\":2,\\\"backgroundcolor\\\":\\\"#E5ECF6\\\",\\\"ticks\\\":\\\"\\\",\\\"showbackground\\\":true,\\\"zerolinecolor\\\":\\\"white\\\",\\\"linecolor\\\":\\\"white\\\"}},\\\"colorway\\\":[\\\"#636efa\\\",\\\"#EF553B\\\",\\\"#00cc96\\\",\\\"#ab63fa\\\",\\\"#FFA15A\\\",\\\"#19d3f3\\\",\\\"#FF6692\\\",\\\"#B6E880\\\",\\\"#FF97FF\\\",\\\"#FECB52\\\"]},\\\"data\\\":{\\\"barpolar\\\":[{\\\"type\\\":\\\"barpolar\\\",\\\"marker\\\":{\\\"line\\\":{\\\"color\\\":\\\"#E5ECF6\\\",\\\"width\\\":0.5}}}],\\\"carpet\\\":[{\\\"aaxis\\\":{\\\"gridcolor\\\":\\\"white\\\",\\\"endlinecolor\\\":\\\"#2a3f5f\\\",\\\"minorgridcolor\\\":\\\"white\\\",\\\"startlinecolor\\\":\\\"#2a3f5f\\\",\\\"linecolor\\\":\\\"white\\\"},\\\"type\\\":\\\"carpet\\\",\\\"baxis\\\":{\\\"gridcolor\\\":\\\"white\\\",\\\"endlinecolor\\\":\\\"#2a3f5f\\\",\\\"minorgridcolor\\\":\\\"white\\\",\\\"startlinecolor\\\":\\\"#2a3f5f\\\",\\\"linecolor\\\":\\\"white\\\"}}],\\\"scatterpolar\\\":[{\\\"type\\\":\\\"scatterpolar\\\",\\\"marker\\\":{\\\"colorbar\\\":{\\\"ticks\\\":\\\"\\\",\\\"outlinewidth\\\":0}}}],\\\"parcoords\\\":[{\\\"line\\\":{\\\"colorbar\\\":{\\\"ticks\\\":\\\"\\\",\\\"outlinewidth\\\":0}},\\\"type\\\":\\\"parcoords\\\"}],\\\"scatter\\\":[{\\\"type\\\":\\\"scatter\\\",\\\"marker\\\":{\\\"colorbar\\\":{\\\"ticks\\\":\\\"\\\",\\\"outlinewidth\\\":0}}}],\\\"histogram2dcontour\\\":[{\\\"colorbar\\\":{\\\"ticks\\\":\\\"\\\",\\\"outlinewidth\\\":0},\\\"type\\\":\\\"histogram2dcontour\\\",\\\"colorscale\\\":[[0.0,\\\"#0d0887\\\"],[0.1111111111111111,\\\"#46039f\\\"],[0.2222222222222222,\\\"#7201a8\\\"],[0.3333333333333333,\\\"#9c179e\\\"],[0.4444444444444444,\\\"#bd3786\\\"],[0.5555555555555556,\\\"#d8576b\\\"],[0.6666666666666666,\\\"#ed7953\\\"],[0.7777777777777778,\\\"#fb9f3a\\\"],[0.8888888888888888,\\\"#fdca26\\\"],[1.0,\\\"#f0f921\\\"]]}],\\\"contour\\\":[{\\\"colorbar\\\":{\\\"ticks\\\":\\\"\\\",\\\"outlinewidth\\\":0},\\\"type\\\":\\\"contour\\\",\\\"colorscale\\\":[[0.0,\\\"#0d0887\\\"],[0.1111111111111111,\\\"#46039f\\\"],[0.2222222222222222,\\\"#7201a8\\\"],[0.3333333333333333,\\\"#9c179e\\\"],[0.4444444444444444,\\\"#bd3786\\\"],[0.5555555555555556,\\\"#d8576b\\\"],[0.6666666666666666,\\\"#ed7953\\\"],[0.7777777777777778,\\\"#fb9f3a\\\"],[0.8888888888888888,\\\"#fdca26\\\"],[1.0,\\\"#f0f921\\\"]]}],\\\"scattercarpet\\\":[{\\\"type\\\":\\\"scattercarpet\\\",\\\"marker\\\":{\\\"colorbar\\\":{\\\"ticks\\\":\\\"\\\",\\\"outlinewidth\\\":0}}}],\\\"mesh3d\\\":[{\\\"colorbar\\\":{\\\"ticks\\\":\\\"\\\",\\\"outlinewidth\\\":0},\\\"type\\\":\\\"mesh3d\\\"}],\\\"surface\\\":[{\\\"colorbar\\\":{\\\"ticks\\\":\\\"\\\",\\\"outlinewidth\\\":0},\\\"type\\\":\\\"surface\\\",\\\"colorscale\\\":[[0.0,\\\"#0d0887\\\"],[0.1111111111111111,\\\"#46039f\\\"],[0.2222222222222222,\\\"#7201a8\\\"],[0.3333333333333333,\\\"#9c179e\\\"],[0.4444444444444444,\\\"#bd3786\\\"],[0.5555555555555556,\\\"#d8576b\\\"],[0.6666666666666666,\\\"#ed7953\\\"],[0.7777777777777778,\\\"#fb9f3a\\\"],[0.8888888888888888,\\\"#fdca26\\\"],[1.0,\\\"#f0f921\\\"]]}],\\\"scattermapbox\\\":[{\\\"type\\\":\\\"scattermapbox\\\",\\\"marker\\\":{\\\"colorbar\\\":{\\\"ticks\\\":\\\"\\\",\\\"outlinewidth\\\":0}}}],\\\"scattergeo\\\":[{\\\"type\\\":\\\"scattergeo\\\",\\\"marker\\\":{\\\"colorbar\\\":{\\\"ticks\\\":\\\"\\\",\\\"outlinewidth\\\":0}}}],\\\"histogram\\\":[{\\\"type\\\":\\\"histogram\\\",\\\"marker\\\":{\\\"colorbar\\\":{\\\"ticks\\\":\\\"\\\",\\\"outlinewidth\\\":0}}}],\\\"pie\\\":[{\\\"type\\\":\\\"pie\\\",\\\"automargin\\\":true}],\\\"choropleth\\\":[{\\\"colorbar\\\":{\\\"ticks\\\":\\\"\\\",\\\"outlinewidth\\\":0},\\\"type\\\":\\\"choropleth\\\"}],\\\"heatmapgl\\\":[{\\\"colorbar\\\":{\\\"ticks\\\":\\\"\\\",\\\"outlinewidth\\\":0},\\\"type\\\":\\\"heatmapgl\\\",\\\"colorscale\\\":[[0.0,\\\"#0d0887\\\"],[0.1111111111111111,\\\"#46039f\\\"],[0.2222222222222222,\\\"#7201a8\\\"],[0.3333333333333333,\\\"#9c179e\\\"],[0.4444444444444444,\\\"#bd3786\\\"],[0.5555555555555556,\\\"#d8576b\\\"],[0.6666666666666666,\\\"#ed7953\\\"],[0.7777777777777778,\\\"#fb9f3a\\\"],[0.8888888888888888,\\\"#fdca26\\\"],[1.0,\\\"#f0f921\\\"]]}],\\\"bar\\\":[{\\\"type\\\":\\\"bar\\\",\\\"error_y\\\":{\\\"color\\\":\\\"#2a3f5f\\\"},\\\"error_x\\\":{\\\"color\\\":\\\"#2a3f5f\\\"},\\\"marker\\\":{\\\"line\\\":{\\\"color\\\":\\\"#E5ECF6\\\",\\\"width\\\":0.5}}}],\\\"heatmap\\\":[{\\\"colorbar\\\":{\\\"ticks\\\":\\\"\\\",\\\"outlinewidth\\\":0},\\\"type\\\":\\\"heatmap\\\",\\\"colorscale\\\":[[0.0,\\\"#0d0887\\\"],[0.1111111111111111,\\\"#46039f\\\"],[0.2222222222222222,\\\"#7201a8\\\"],[0.3333333333333333,\\\"#9c179e\\\"],[0.4444444444444444,\\\"#bd3786\\\"],[0.5555555555555556,\\\"#d8576b\\\"],[0.6666666666666666,\\\"#ed7953\\\"],[0.7777777777777778,\\\"#fb9f3a\\\"],[0.8888888888888888,\\\"#fdca26\\\"],[1.0,\\\"#f0f921\\\"]]}],\\\"contourcarpet\\\":[{\\\"colorbar\\\":{\\\"ticks\\\":\\\"\\\",\\\"outlinewidth\\\":0},\\\"type\\\":\\\"contourcarpet\\\"}],\\\"table\\\":[{\\\"type\\\":\\\"table\\\",\\\"header\\\":{\\\"line\\\":{\\\"color\\\":\\\"white\\\"},\\\"fill\\\":{\\\"color\\\":\\\"#C8D4E3\\\"}},\\\"cells\\\":{\\\"line\\\":{\\\"color\\\":\\\"white\\\"},\\\"fill\\\":{\\\"color\\\":\\\"#EBF0F8\\\"}}}],\\\"scatter3d\\\":[{\\\"line\\\":{\\\"colorbar\\\":{\\\"ticks\\\":\\\"\\\",\\\"outlinewidth\\\":0}},\\\"type\\\":\\\"scatter3d\\\",\\\"marker\\\":{\\\"colorbar\\\":{\\\"ticks\\\":\\\"\\\",\\\"outlinewidth\\\":0}}}],\\\"scattergl\\\":[{\\\"type\\\":\\\"scattergl\\\",\\\"marker\\\":{\\\"colorbar\\\":{\\\"ticks\\\":\\\"\\\",\\\"outlinewidth\\\":0}}}],\\\"histogram2d\\\":[{\\\"colorbar\\\":{\\\"ticks\\\":\\\"\\\",\\\"outlinewidth\\\":0},\\\"type\\\":\\\"histogram2d\\\",\\\"colorscale\\\":[[0.0,\\\"#0d0887\\\"],[0.1111111111111111,\\\"#46039f\\\"],[0.2222222222222222,\\\"#7201a8\\\"],[0.3333333333333333,\\\"#9c179e\\\"],[0.4444444444444444,\\\"#bd3786\\\"],[0.5555555555555556,\\\"#d8576b\\\"],[0.6666666666666666,\\\"#ed7953\\\"],[0.7777777777777778,\\\"#fb9f3a\\\"],[0.8888888888888888,\\\"#fdca26\\\"],[1.0,\\\"#f0f921\\\"]]}],\\\"scatterternary\\\":[{\\\"type\\\":\\\"scatterternary\\\",\\\"marker\\\":{\\\"colorbar\\\":{\\\"ticks\\\":\\\"\\\",\\\"outlinewidth\\\":0}}}],\\\"scatterpolargl\\\":[{\\\"type\\\":\\\"scatterpolargl\\\",\\\"marker\\\":{\\\"colorbar\\\":{\\\"ticks\\\":\\\"\\\",\\\"outlinewidth\\\":0}}}]}},\\\"xaxis2\\\":{\\\"title\\\":{\\\"text\\\":\\\"hour\\\"},\\\"domain\\\":[0.55,1.0],\\\"anchor\\\":\\\"y2\\\"},\\\"margin\\\":{\\\"l\\\":50,\\\"b\\\":50,\\\"r\\\":50,\\\"t\\\":60},\\\"yaxis2\\\":{\\\"title\\\":{\\\"text\\\":\\\"reserve MW\\\"},\\\"domain\\\":[0.0,1.0],\\\"anchor\\\":\\\"x2\\\"},\\\"annotations\\\":[{\\\"yanchor\\\":\\\"bottom\\\",\\\"xanchor\\\":\\\"center\\\",\\\"y\\\":1.0,\\\"font\\\":{\\\"size\\\":16},\\\"showarrow\\\":false,\\\"yref\\\":\\\"paper\\\",\\\"text\\\":\\\"Reserve up\\\",\\\"xref\\\":\\\"paper\\\",\\\"x\\\":0.225},{\\\"yanchor\\\":\\\"bottom\\\",\\\"xanchor\\\":\\\"center\\\",\\\"y\\\":1.0,\\\"font\\\":{\\\"size\\\":16},\\\"showarrow\\\":false,\\\"yref\\\":\\\"paper\\\",\\\"text\\\":\\\"Reserve up\\\",\\\"xref\\\":\\\"paper\\\",\\\"x\\\":0.775}]},{\\\"showLink\\\":false,\\\"editable\\\":false,\\\"responsive\\\":true,\\\"staticPlot\\\":false,\\\"scrollZoom\\\":true}); gd.on(\\\"plotly_hover\\\",(function (data){var filtered_data=WebIO.PlotlyCommands.filterEventData(gd,data,\\\"hover\\\"); return !(filtered_data.isnil) ? (WebIO.setval({\\\"name\\\":\\\"hover\\\",\\\"scope\\\":\\\"227468073358012482\\\",\\\"id\\\":\\\"931\\\",\\\"type\\\":\\\"observable\\\"},filtered_data.out)) : undefined})); gd.on(\\\"plotly_unhover\\\",(function (){return WebIO.setval({\\\"name\\\":\\\"hover\\\",\\\"scope\\\":\\\"227468073358012482\\\",\\\"id\\\":\\\"931\\\",\\\"type\\\":\\\"observable\\\"},{})})); gd.on(\\\"plotly_selected\\\",(function (data){var filtered_data=WebIO.PlotlyCommands.filterEventData(gd,data,\\\"selected\\\"); return !(filtered_data.isnil) ? (WebIO.setval({\\\"name\\\":\\\"selected\\\",\\\"scope\\\":\\\"227468073358012482\\\",\\\"id\\\":\\\"932\\\",\\\"type\\\":\\\"observable\\\"},filtered_data.out)) : undefined})); gd.on(\\\"plotly_deselect\\\",(function (){return WebIO.setval({\\\"name\\\":\\\"selected\\\",\\\"scope\\\":\\\"227468073358012482\\\",\\\"id\\\":\\\"932\\\",\\\"type\\\":\\\"observable\\\"},{})})); gd.on(\\\"plotly_relayout\\\",(function (data){var filtered_data=WebIO.PlotlyCommands.filterEventData(gd,data,\\\"relayout\\\"); return !(filtered_data.isnil) ? (WebIO.setval({\\\"name\\\":\\\"relayout\\\",\\\"scope\\\":\\\"227468073358012482\\\",\\\"id\\\":\\\"934\\\",\\\"type\\\":\\\"observable\\\"},filtered_data.out)) : undefined})); return gd.on(\\\"plotly_click\\\",(function (data){var filtered_data=WebIO.PlotlyCommands.filterEventData(gd,data,\\\"click\\\"); return !(filtered_data.isnil) ? (WebIO.setval({\\\"name\\\":\\\"click\\\",\\\"scope\\\":\\\"227468073358012482\\\",\\\"id\\\":\\\"933\\\",\\\"type\\\":\\\"observable\\\"},filtered_data.out)) : undefined}))}));\\n    (WebIO.importBlock({\\\"data\\\":[{\\\"name\\\":\\\"Plotly\\\",\\\"type\\\":\\\"js\\\",\\\"url\\\":\\\"\\/assetserver\\/d6feb8d8ce4676ebdde817a0745950a35b4ba3ae-plotly.min.js\\\"},{\\\"name\\\":null,\\\"type\\\":\\\"js\\\",\\\"url\\\":\\\"\\/assetserver\\/517030b23c1c21e94bf622985d97a74a9582e066-plotly_webio.bundle.js\\\"}],\\\"type\\\":\\\"async_block\\\"})).then((imports) => handler.apply(this, imports));\\n}\\n\"],\"observables\":{\"_toImage\":{\"sync\":false,\"id\":\"938\",\"value\":{}},\"hover\":{\"sync\":false,\"id\":\"931\",\"value\":{}},\"selected\":{\"sync\":false,\"id\":\"932\",\"value\":{}},\"__gd_contents\":{\"sync\":false,\"id\":\"936\",\"value\":{}},\"click\":{\"sync\":false,\"id\":\"933\",\"value\":{}},\"image\":{\"sync\":true,\"id\":\"935\",\"value\":\"\"},\"__get_gd_contents\":{\"sync\":false,\"id\":\"940\",\"value\":\"\"},\"_downloadImage\":{\"sync\":false,\"id\":\"939\",\"value\":{}},\"relayout\":{\"sync\":false,\"id\":\"934\",\"value\":{}},\"_commands\":{\"sync\":false,\"id\":\"937\",\"value\":[\"update\",{},{\"xaxis1\":{\"title\":{\"text\":\"hour\"},\"domain\":[0.0,0.45],\"anchor\":\"y1\"},\"yaxis1\":{\"title\":{\"text\":\"reserve MW\"},\"domain\":[0.0,1.0],\"anchor\":\"x1\"},\"template\":{\"data\":{\"scatterpolargl\":[{\"type\":\"scatterpolargl\",\"marker\":{\"colorbar\":{\"ticks\":\"\",\"outlinewidth\":0}}}],\"carpet\":[{\"baxis\":{\"gridcolor\":\"white\",\"endlinecolor\":\"#2a3f5f\",\"minorgridcolor\":\"white\",\"startlinecolor\":\"#2a3f5f\",\"linecolor\":\"white\"},\"type\":\"carpet\",\"aaxis\":{\"gridcolor\":\"white\",\"endlinecolor\":\"#2a3f5f\",\"minorgridcolor\":\"white\",\"startlinecolor\":\"#2a3f5f\",\"linecolor\":\"white\"}}],\"scatterpolar\":[{\"type\":\"scatterpolar\",\"marker\":{\"colorbar\":{\"ticks\":\"\",\"outlinewidth\":0}}}],\"parcoords\":[{\"line\":{\"colorbar\":{\"ticks\":\"\",\"outlinewidth\":0}},\"type\":\"parcoords\"}],\"scatter\":[{\"type\":\"scatter\",\"marker\":{\"colorbar\":{\"ticks\":\"\",\"outlinewidth\":0}}}],\"histogram2dcontour\":[{\"colorbar\":{\"ticks\":\"\",\"outlinewidth\":0},\"type\":\"histogram2dcontour\",\"colorscale\":[[0.0,\"#0d0887\"],[0.1111111111111111,\"#46039f\"],[0.2222222222222222,\"#7201a8\"],[0.3333333333333333,\"#9c179e\"],[0.4444444444444444,\"#bd3786\"],[0.5555555555555556,\"#d8576b\"],[0.6666666666666666,\"#ed7953\"],[0.7777777777777778,\"#fb9f3a\"],[0.8888888888888888,\"#fdca26\"],[1.0,\"#f0f921\"]]}],\"contour\":[{\"colorbar\":{\"ticks\":\"\",\"outlinewidth\":0},\"type\":\"contour\",\"colorscale\":[[0.0,\"#0d0887\"],[0.1111111111111111,\"#46039f\"],[0.2222222222222222,\"#7201a8\"],[0.3333333333333333,\"#9c179e\"],[0.4444444444444444,\"#bd3786\"],[0.5555555555555556,\"#d8576b\"],[0.6666666666666666,\"#ed7953\"],[0.7777777777777778,\"#fb9f3a\"],[0.8888888888888888,\"#fdca26\"],[1.0,\"#f0f921\"]]}],\"scattercarpet\":[{\"type\":\"scattercarpet\",\"marker\":{\"colorbar\":{\"ticks\":\"\",\"outlinewidth\":0}}}],\"mesh3d\":[{\"colorbar\":{\"ticks\":\"\",\"outlinewidth\":0},\"type\":\"mesh3d\"}],\"surface\":[{\"colorbar\":{\"ticks\":\"\",\"outlinewidth\":0},\"type\":\"surface\",\"colorscale\":[[0.0,\"#0d0887\"],[0.1111111111111111,\"#46039f\"],[0.2222222222222222,\"#7201a8\"],[0.3333333333333333,\"#9c179e\"],[0.4444444444444444,\"#bd3786\"],[0.5555555555555556,\"#d8576b\"],[0.6666666666666666,\"#ed7953\"],[0.7777777777777778,\"#fb9f3a\"],[0.8888888888888888,\"#fdca26\"],[1.0,\"#f0f921\"]]}],\"scattermapbox\":[{\"type\":\"scattermapbox\",\"marker\":{\"colorbar\":{\"ticks\":\"\",\"outlinewidth\":0}}}],\"scattergeo\":[{\"type\":\"scattergeo\",\"marker\":{\"colorbar\":{\"ticks\":\"\",\"outlinewidth\":0}}}],\"histogram\":[{\"type\":\"histogram\",\"marker\":{\"colorbar\":{\"ticks\":\"\",\"outlinewidth\":0}}}],\"pie\":[{\"type\":\"pie\",\"automargin\":true}],\"choropleth\":[{\"colorbar\":{\"ticks\":\"\",\"outlinewidth\":0},\"type\":\"choropleth\"}],\"heatmapgl\":[{\"colorbar\":{\"ticks\":\"\",\"outlinewidth\":0},\"type\":\"heatmapgl\",\"colorscale\":[[0.0,\"#0d0887\"],[0.1111111111111111,\"#46039f\"],[0.2222222222222222,\"#7201a8\"],[0.3333333333333333,\"#9c179e\"],[0.4444444444444444,\"#bd3786\"],[0.5555555555555556,\"#d8576b\"],[0.6666666666666666,\"#ed7953\"],[0.7777777777777778,\"#fb9f3a\"],[0.8888888888888888,\"#fdca26\"],[1.0,\"#f0f921\"]]}],\"bar\":[{\"type\":\"bar\",\"error_y\":{\"color\":\"#2a3f5f\"},\"error_x\":{\"color\":\"#2a3f5f\"},\"marker\":{\"line\":{\"color\":\"#E5ECF6\",\"width\":0.5}}}],\"heatmap\":[{\"colorbar\":{\"ticks\":\"\",\"outlinewidth\":0},\"type\":\"heatmap\",\"colorscale\":[[0.0,\"#0d0887\"],[0.1111111111111111,\"#46039f\"],[0.2222222222222222,\"#7201a8\"],[0.3333333333333333,\"#9c179e\"],[0.4444444444444444,\"#bd3786\"],[0.5555555555555556,\"#d8576b\"],[0.6666666666666666,\"#ed7953\"],[0.7777777777777778,\"#fb9f3a\"],[0.8888888888888888,\"#fdca26\"],[1.0,\"#f0f921\"]]}],\"contourcarpet\":[{\"colorbar\":{\"ticks\":\"\",\"outlinewidth\":0},\"type\":\"contourcarpet\"}],\"table\":[{\"type\":\"table\",\"header\":{\"line\":{\"color\":\"white\"},\"fill\":{\"color\":\"#C8D4E3\"}},\"cells\":{\"line\":{\"color\":\"white\"},\"fill\":{\"color\":\"#EBF0F8\"}}}],\"scatter3d\":[{\"line\":{\"colorbar\":{\"ticks\":\"\",\"outlinewidth\":0}},\"type\":\"scatter3d\",\"marker\":{\"colorbar\":{\"ticks\":\"\",\"outlinewidth\":0}}}],\"scattergl\":[{\"type\":\"scattergl\",\"marker\":{\"colorbar\":{\"ticks\":\"\",\"outlinewidth\":0}}}],\"histogram2d\":[{\"colorbar\":{\"ticks\":\"\",\"outlinewidth\":0},\"type\":\"histogram2d\",\"colorscale\":[[0.0,\"#0d0887\"],[0.1111111111111111,\"#46039f\"],[0.2222222222222222,\"#7201a8\"],[0.3333333333333333,\"#9c179e\"],[0.4444444444444444,\"#bd3786\"],[0.5555555555555556,\"#d8576b\"],[0.6666666666666666,\"#ed7953\"],[0.7777777777777778,\"#fb9f3a\"],[0.8888888888888888,\"#fdca26\"],[1.0,\"#f0f921\"]]}],\"scatterternary\":[{\"type\":\"scatterternary\",\"marker\":{\"colorbar\":{\"ticks\":\"\",\"outlinewidth\":0}}}],\"barpolar\":[{\"type\":\"barpolar\",\"marker\":{\"line\":{\"color\":\"#E5ECF6\",\"width\":0.5}}}]},\"layout\":{\"xaxis\":{\"gridcolor\":\"white\",\"zerolinewidth\":2,\"title\":{\"standoff\":15},\"ticks\":\"\",\"zerolinecolor\":\"white\",\"automargin\":true,\"linecolor\":\"white\"},\"hovermode\":\"closest\",\"paper_bgcolor\":\"white\",\"geo\":{\"showlakes\":true,\"showland\":true,\"landcolor\":\"#E5ECF6\",\"bgcolor\":\"white\",\"subunitcolor\":\"white\",\"lakecolor\":\"white\"},\"colorscale\":{\"sequential\":[[0.0,\"#0d0887\"],[0.1111111111111111,\"#46039f\"],[0.2222222222222222,\"#7201a8\"],[0.3333333333333333,\"#9c179e\"],[0.4444444444444444,\"#bd3786\"],[0.5555555555555556,\"#d8576b\"],[0.6666666666666666,\"#ed7953\"],[0.7777777777777778,\"#fb9f3a\"],[0.8888888888888888,\"#fdca26\"],[1.0,\"#f0f921\"]],\"diverging\":[[0,\"#8e0152\"],[0.1,\"#c51b7d\"],[0.2,\"#de77ae\"],[0.3,\"#f1b6da\"],[0.4,\"#fde0ef\"],[0.5,\"#f7f7f7\"],[0.6,\"#e6f5d0\"],[0.7,\"#b8e186\"],[0.8,\"#7fbc41\"],[0.9,\"#4d9221\"],[1,\"#276419\"]],\"sequentialminus\":[[0.0,\"#0d0887\"],[0.1111111111111111,\"#46039f\"],[0.2222222222222222,\"#7201a8\"],[0.3333333333333333,\"#9c179e\"],[0.4444444444444444,\"#bd3786\"],[0.5555555555555556,\"#d8576b\"],[0.6666666666666666,\"#ed7953\"],[0.7777777777777778,\"#fb9f3a\"],[0.8888888888888888,\"#fdca26\"],[1.0,\"#f0f921\"]]},\"yaxis\":{\"gridcolor\":\"white\",\"zerolinewidth\":2,\"title\":{\"standoff\":15},\"ticks\":\"\",\"zerolinecolor\":\"white\",\"automargin\":true,\"linecolor\":\"white\"},\"shapedefaults\":{\"line\":{\"color\":\"#2a3f5f\"}},\"font\":{\"color\":\"#2a3f5f\"},\"annotationdefaults\":{\"arrowhead\":0,\"arrowwidth\":1,\"arrowcolor\":\"#2a3f5f\"},\"plot_bgcolor\":\"#E5ECF6\",\"title\":{\"x\":0.05},\"coloraxis\":{\"colorbar\":{\"ticks\":\"\",\"outlinewidth\":0}},\"hoverlabel\":{\"align\":\"left\"},\"mapbox\":{\"style\":\"light\"},\"polar\":{\"angularaxis\":{\"gridcolor\":\"white\",\"ticks\":\"\",\"linecolor\":\"white\"},\"bgcolor\":\"#E5ECF6\",\"radialaxis\":{\"gridcolor\":\"white\",\"ticks\":\"\",\"linecolor\":\"white\"}},\"autotypenumbers\":\"strict\",\"ternary\":{\"aaxis\":{\"gridcolor\":\"white\",\"ticks\":\"\",\"linecolor\":\"white\"},\"bgcolor\":\"#E5ECF6\",\"caxis\":{\"gridcolor\":\"white\",\"ticks\":\"\",\"linecolor\":\"white\"},\"baxis\":{\"gridcolor\":\"white\",\"ticks\":\"\",\"linecolor\":\"white\"}},\"scene\":{\"xaxis\":{\"gridcolor\":\"white\",\"gridwidth\":2,\"backgroundcolor\":\"#E5ECF6\",\"ticks\":\"\",\"showbackground\":true,\"zerolinecolor\":\"white\",\"linecolor\":\"white\"},\"zaxis\":{\"gridcolor\":\"white\",\"gridwidth\":2,\"backgroundcolor\":\"#E5ECF6\",\"ticks\":\"\",\"showbackground\":true,\"zerolinecolor\":\"white\",\"linecolor\":\"white\"},\"yaxis\":{\"gridcolor\":\"white\",\"gridwidth\":2,\"backgroundcolor\":\"#E5ECF6\",\"ticks\":\"\",\"showbackground\":true,\"zerolinecolor\":\"white\",\"linecolor\":\"white\"}},\"colorway\":[\"#636efa\",\"#EF553B\",\"#00cc96\",\"#ab63fa\",\"#FFA15A\",\"#19d3f3\",\"#FF6692\",\"#B6E880\",\"#FF97FF\",\"#FECB52\"]}},\"xaxis2\":{\"title\":{\"text\":\"hour\"},\"domain\":[0.55,1.0],\"anchor\":\"y2\"},\"margin\":{\"l\":50,\"b\":50,\"r\":50,\"t\":60},\"yaxis2\":{\"title\":{\"text\":\"reserve MW\"},\"domain\":[0.0,1.0],\"anchor\":\"x2\"},\"annotations\":[{\"yanchor\":\"bottom\",\"xanchor\":\"center\",\"y\":1.0,\"font\":{\"size\":16},\"showarrow\":false,\"yref\":\"paper\",\"text\":\"Reserve up\",\"xref\":\"paper\",\"x\":0.225},{\"yanchor\":\"bottom\",\"xanchor\":\"center\",\"y\":1.0,\"font\":{\"size\":16},\"showarrow\":false,\"yref\":\"paper\",\"text\":\"Reserve up\",\"xref\":\"paper\",\"x\":0.775}]}]}}},\"children\":[{\"props\":{\"id\":\"plot-704c759b-6f68-42db-b960-ffc886b4410d\"},\"nodeType\":\"DOM\",\"type\":\"node\",\"instanceArgs\":{\"namespace\":\"html\",\"tag\":\"div\"},\"children\":[]}]},\n",
       "        window,\n",
       "    );\n",
       "    })()\n",
       "    </script>\n",
       "</div>\n"
      ],
      "text/plain": [
       "data: [\n",
       "  \"scatter with fields line, mode, name, stackgroup, type, x, xaxis, y, and yaxis\",\n",
       "  \"scatter with fields line, mode, name, stackgroup, type, x, xaxis, y, and yaxis\",\n",
       "  \"scatter with fields line, mode, name, stackgroup, type, x, xaxis, y, and yaxis\",\n",
       "  \"scatter with fields line, mode, name, stackgroup, type, x, xaxis, y, and yaxis\",\n",
       "  \"scatter with fields line, mode, name, stackgroup, type, x, xaxis, y, and yaxis\",\n",
       "  \"scatter with fields line, mode, name, stackgroup, type, x, xaxis, y, and yaxis\",\n",
       "  \"scatter with fields line, mode, name, stackgroup, type, x, xaxis, y, and yaxis\",\n",
       "  \"scatter with fields line, mode, name, stackgroup, type, x, xaxis, y, and yaxis\",\n",
       "  \"scatter with fields line, mode, name, stackgroup, type, x, xaxis, y, and yaxis\",\n",
       "  \"scatter with fields line, mode, name, stackgroup, type, x, xaxis, y, and yaxis\",\n",
       "  \"scatter with fields line, mode, name, stackgroup, type, x, xaxis, y, and yaxis\",\n",
       "  \"scatter with fields line, mode, name, stackgroup, type, x, xaxis, y, and yaxis\",\n",
       "  \"scatter with fields line, mode, name, stackgroup, type, x, xaxis, y, and yaxis\",\n",
       "  \"scatter with fields line, mode, name, stackgroup, type, x, xaxis, y, and yaxis\",\n",
       "  \"scatter with fields line, mode, name, stackgroup, type, x, xaxis, y, and yaxis\",\n",
       "  \"scatter with fields line, mode, name, stackgroup, type, x, xaxis, y, and yaxis\"\n",
       "]\n",
       "\n",
       "layout: \"layout with fields annotations, margin, template, xaxis1, xaxis2, yaxis1, and yaxis2\"\n",
       "\n"
      ]
     },
     "metadata": {},
     "output_type": "display_data"
    }
   ],
   "source": [
    "\n",
    "map_stack_group = (x, exclude) -> 1*(x != exclude) + 2*(x == exclude)\n",
    "p3 = plot([\n",
    "    scatter(\n",
    "        x= reserve_[reserve_.resource .== r,:].hour, y=reserve_[reserve_.resource .== r,:].reserve_up_MW,\n",
    "        stackgroup=map_stack_group(r,\"required\"), mode=\"lines\", name = r,\n",
    "        line=attr(width=1, color=color_discrete_map(r), shape = \"line\")\n",
    "    ) for r in unique(reserve_.resource)\n",
    "    ],\n",
    "    Layout(yaxis_title=\"reserve MW\", xaxis_title=\"hour\", title = \"Reserve up\")\n",
    ")\n",
    "\n",
    "\n",
    "p4 = plot([\n",
    "    scatter(\n",
    "        x= reserve_[reserve_.resource .== r,:].hour, y=reserve_[reserve_.resource .== r,:].reserve_down_MW,\n",
    "        stackgroup=map_stack_group(r,\"required\"), mode=\"lines\", name = r,\n",
    "        line=attr(width=1, color=color_discrete_map(r), shape = \"line\")\n",
    "    ) for r in unique(reserve_.resource)\n",
    "    ],\n",
    "    Layout(yaxis_title=\"reserve MW\", xaxis_title=\"hour\", title = \"Reserve down\")\n",
    ")\n",
    "p = [p3 p3]\n",
    "relayout!(p)\n",
    "p\n",
    "\n",
    "# plot(reserve, x = :hour, y = :value, facet_col = :reserve_type, color = :resource)"
   ]
  },
  {
   "cell_type": "code",
   "execution_count": 167,
   "metadata": {},
   "outputs": [],
   "source": []
  },
  {
   "cell_type": "code",
   "execution_count": 168,
   "metadata": {},
   "outputs": [],
   "source": []
  }
 ],
 "metadata": {
  "@webio": {
   "lastCommId": null,
   "lastKernelId": null
  },
  "kernelspec": {
   "display_name": "Julia 1.10.1",
   "language": "julia",
   "name": "julia-1.10"
  },
  "language_info": {
   "file_extension": ".jl",
   "mimetype": "application/julia",
   "name": "julia",
   "version": "1.10.1"
  }
 },
 "nbformat": 4,
 "nbformat_minor": 4
}
