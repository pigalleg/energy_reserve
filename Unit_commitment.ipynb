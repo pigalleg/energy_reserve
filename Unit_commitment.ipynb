{
 "cells": [
  {
   "cell_type": "code",
   "execution_count": 55,
   "metadata": {},
   "outputs": [
    {
     "data": {
      "text/plain": [
       "120"
      ]
     },
     "metadata": {},
     "output_type": "display_data"
    }
   ],
   "source": [
    "using VegaLite\n",
    "using PlotlyJS\n",
    "include(\"./utils.jl\")\n",
    "include(\"./unit_commitment.jl\")\n",
    "ENV[\"COLUMNS\"]=120 # Set so all columns of DataFrames and Matrices are displayed"
   ]
  },
  {
   "cell_type": "code",
   "execution_count": 56,
   "metadata": {},
   "outputs": [],
   "source": [
    "\n",
    "gen_info, fuels, loads, gen_variable_info, storage_info = read_data()\n",
    "gen_df = pre_process_generators_data(gen_info, fuels)\n",
    "storage_df = pre_process_storage_data(storage_info)\n",
    "\n",
    "# A spring day\n",
    "n=100\n",
    "T_period = (n*24+1):((n+1)*24)\n",
    "\n",
    "# High solar case: 3,500 MW\n",
    "gen_df_sens = copy(gen_df)\n",
    "gen_df_sens[gen_df_sens.resource .== \"solar_photovoltaic\",\n",
    "    :existing_cap_mw] .= 3500\n",
    "gen_variable = pre_process_gen_variable(gen_df_sens, gen_variable_info)\n",
    "\n",
    "# Filtering data with timeseries according to T_period\n",
    "gen_variable_multi = gen_variable[in.(gen_variable.hour,Ref(T_period)),:];\n",
    "loads_multi = loads[in.(loads.hour,Ref(T_period)),:];\n",
    "\n",
    "reserve = DataFrame(\n",
    "    hour = loads[in.(loads.hour, Ref(T_period)), :hour],\n",
    "    up = 300 .+ loads[in.(loads.hour,Ref(T_period)), :demand].*0.05,\n",
    "    down = loads[in.(loads.hour, Ref(T_period)), :demand].*0.05)\n",
    "\n",
    "\n",
    "energy_reserve = [(row_1.hour, row_2.hour, row_1.up*(row_1.hour == row_2.hour), row_1.down*(row_1.hour == row_2.hour)) for row_1 in eachrow(reserve), row_2 in eachrow(reserve) if row_1.hour <= row_2.hour]\n",
    "energy_reserve = DataFrame(energy_reserve)\n",
    "energy_reserve = rename(energy_reserve, :1 => :i_hour, :2 => :t_hour, :3 => :up, :4 => :down,)\n",
    ";"
   ]
  },
  {
   "cell_type": "markdown",
   "metadata": {},
   "source": [
    "### Simple Unit Commitment"
   ]
  },
  {
   "cell_type": "code",
   "execution_count": 57,
   "metadata": {},
   "outputs": [
    {
     "name": "stdout",
     "output_type": "stream",
     "text": [
      "Set parameter WLSAccessID\n",
      "Set parameter WLSSecret\n",
      "Set parameter LicenseID to value 2475843\n",
      "Academic license 2475843 - for non-commercial use only - registered to pa___@imperial.ac.uk\n",
      "Set parameter MIPGap to value 0.01\n",
      "Set parameter MIPGap to value 0.01\n",
      "Gurobi Optimizer version 11.0.0 build v11.0.0rc2 (linux64 - \"Ubuntu 22.04.3 LTS\")\n",
      "\n",
      "CPU model: 11th Gen Intel(R) Core(TM) i7-11370H @ 3.30GHz, instruction set [SSE2|AVX|AVX2|AVX512]\n",
      "Thread count: 4 physical cores, 8 logical processors, using up to 8 threads\n",
      "\n",
      "Academic license 2475843 - for non-commercial use only - registered to pa___@imperial.ac.uk\n",
      "Optimize a model with 2762 rows, 2232 columns and 9228 nonzeros\n",
      "Model fingerprint: 0x92c3bc8b\n",
      "Variable types: 648 continuous, 1584 integer (1584 binary)\n",
      "Coefficient statistics:\n",
      "  Matrix range     [1e+00, 6e+02]\n",
      "  Objective range  [5e+00, 5e+04]\n",
      "  Bounds range     [0e+00, 0e+00]\n",
      "  RHS range        [1e+00, 3e+03]\n",
      "Presolve removed 164 rows and 116 columns\n",
      "Presolve time: 0.04s\n",
      "Presolved: 2598 rows, 2116 columns, 9142 nonzeros\n",
      "Variable types: 576 continuous, 1540 integer (1540 binary)\n",
      "Found heuristic solution: objective 1074849.7304\n",
      "Found heuristic solution: objective 1009769.4508\n",
      "\n",
      "Root relaxation: objective 8.538323e+05, 1058 iterations, 0.02 seconds (0.02 work units)\n",
      "\n",
      "    Nodes    |    Current Node    |     Objective Bounds      |     Work\n",
      " Expl Unexpl |  Obj  Depth IntInf | Incumbent    BestBd   Gap | It/Node Time\n",
      "\n",
      "     0     0 853832.318    0   29 1009769.45 853832.318  15.4%     -    0s\n",
      "H    0     0                    862839.77043 853832.318  1.04%     -    0s\n",
      "H    0     0                    862393.05957 853832.318  0.99%     -    0s\n",
      "H    0     0                    862261.31997 853834.702  0.98%     -    0s\n",
      "\n",
      "Cutting planes:\n",
      "  Gomory: 5\n",
      "  Cover: 3\n",
      "  MIR: 7\n",
      "  Flow cover: 9\n",
      "  Relax-and-lift: 2\n",
      "\n",
      "Explored 1 nodes (1136 simplex iterations) in 0.11 seconds (0.06 work units)\n",
      "Thread count was 8 (of 8 available processors)\n",
      "\n",
      "Solution count 5: 862261 862393 862840 ... 1.07485e+06\n",
      "\n",
      "Optimal solution found (tolerance 1.00e-02)\n",
      "Best objective 8.622613199740e+05, best bound 8.538347019964e+05, gap 0.9773%\n",
      "\n",
      "User-callback calls 356, time in user-callback 0.00 sec\n"
     ]
    },
    {
     "data": {
      "application/vnd.vegalite.v5+json": {
       "data": {
        "values": [
         {
          "hour": 0,
          "resource": "biomass",
          "value_sum": 21.4
         },
         {
          "hour": 0,
          "resource": "hydroelectric_pumped_storage",
          "value_sum": 42
         },
         {
          "hour": 0,
          "resource": "natural_gas_fired_combined_cycle",
          "value_sum": 1385.106268
         },
         {
          "hour": 0,
          "resource": "natural_gas_fired_combustion_turbine",
          "value_sum": 0
         },
         {
          "hour": 0,
          "resource": "_onshore_wind_turbine",
          "value_sum": 163.3088
         },
         {
          "hour": 0,
          "resource": "_small_hydroelectric",
          "value_sum": 3.184932
         },
         {
          "hour": 0,
          "resource": "_solar_photovoltaic",
          "value_sum": 0
         },
         {
          "hour": 1,
          "resource": "biomass",
          "value_sum": 21.4
         },
         {
          "hour": 1,
          "resource": "hydroelectric_pumped_storage",
          "value_sum": 42
         },
         {
          "hour": 1,
          "resource": "natural_gas_fired_combined_cycle",
          "value_sum": 1316.621788
         },
         {
          "hour": 1,
          "resource": "natural_gas_fired_combustion_turbine",
          "value_sum": 0
         },
         {
          "hour": 1,
          "resource": "_onshore_wind_turbine",
          "value_sum": 169.79327999999998
         },
         {
          "hour": 1,
          "resource": "_small_hydroelectric",
          "value_sum": 3.184932
         },
         {
          "hour": 1,
          "resource": "_solar_photovoltaic",
          "value_sum": 0
         },
         {
          "hour": 2,
          "resource": "biomass",
          "value_sum": 21.4
         },
         {
          "hour": 2,
          "resource": "hydroelectric_pumped_storage",
          "value_sum": 42
         },
         {
          "hour": 2,
          "resource": "natural_gas_fired_combined_cycle",
          "value_sum": 1336.3046679999998
         },
         {
          "hour": 2,
          "resource": "natural_gas_fired_combustion_turbine",
          "value_sum": 0
         },
         {
          "hour": 2,
          "resource": "_onshore_wind_turbine",
          "value_sum": 115.1104
         },
         {
          "hour": 2,
          "resource": "_small_hydroelectric",
          "value_sum": 3.184932
         },
         {
          "hour": 2,
          "resource": "_solar_photovoltaic",
          "value_sum": 0
         },
         {
          "hour": 3,
          "resource": "biomass",
          "value_sum": 21.4
         },
         {
          "hour": 3,
          "resource": "hydroelectric_pumped_storage",
          "value_sum": 42
         },
         {
          "hour": 3,
          "resource": "natural_gas_fired_combined_cycle",
          "value_sum": 1394.8621079999998
         },
         {
          "hour": 3,
          "resource": "natural_gas_fired_combustion_turbine",
          "value_sum": 0
         },
         {
          "hour": 3,
          "resource": "_onshore_wind_turbine",
          "value_sum": 100.55296
         },
         {
          "hour": 3,
          "resource": "_small_hydroelectric",
          "value_sum": 3.184931999999989
         },
         {
          "hour": 3,
          "resource": "_solar_photovoltaic",
          "value_sum": 0
         },
         {
          "hour": 4,
          "resource": "biomass",
          "value_sum": 21.4
         },
         {
          "hour": 4,
          "resource": "hydroelectric_pumped_storage",
          "value_sum": 42
         },
         {
          "hour": 4,
          "resource": "natural_gas_fired_combined_cycle",
          "value_sum": 1585.837788
         },
         {
          "hour": 4,
          "resource": "natural_gas_fired_combustion_turbine",
          "value_sum": 0
         },
         {
          "hour": 4,
          "resource": "_onshore_wind_turbine",
          "value_sum": 80.57728
         },
         {
          "hour": 4,
          "resource": "_small_hydroelectric",
          "value_sum": 3.184932
         },
         {
          "hour": 4,
          "resource": "_solar_photovoltaic",
          "value_sum": 0
         },
         {
          "hour": 5,
          "resource": "biomass",
          "value_sum": 21.4
         },
         {
          "hour": 5,
          "resource": "hydroelectric_pumped_storage",
          "value_sum": 42
         },
         {
          "hour": 5,
          "resource": "natural_gas_fired_combined_cycle",
          "value_sum": 1749.218408
         },
         {
          "hour": 5,
          "resource": "natural_gas_fired_combustion_turbine",
          "value_sum": 21.0197
         },
         {
          "hour": 5,
          "resource": "_onshore_wind_turbine",
          "value_sum": 139.17695999999998
         },
         {
          "hour": 5,
          "resource": "_small_hydroelectric",
          "value_sum": 3.184932
         },
         {
          "hour": 5,
          "resource": "_solar_photovoltaic",
          "value_sum": 0
         },
         {
          "hour": 6,
          "resource": "biomass",
          "value_sum": 21.4
         },
         {
          "hour": 6,
          "resource": "hydroelectric_pumped_storage",
          "value_sum": 42
         },
         {
          "hour": 6,
          "resource": "natural_gas_fired_combined_cycle",
          "value_sum": 1918.6655279999998
         },
         {
          "hour": 6,
          "resource": "natural_gas_fired_combustion_turbine",
          "value_sum": 21.01969999999998
         },
         {
          "hour": 6,
          "resource": "_onshore_wind_turbine",
          "value_sum": 74.17984
         },
         {
          "hour": 6,
          "resource": "_small_hydroelectric",
          "value_sum": 3.184932
         },
         {
          "hour": 6,
          "resource": "_solar_photovoltaic",
          "value_sum": 193.55
         },
         {
          "hour": 7,
          "resource": "biomass",
          "value_sum": 21.4
         },
         {
          "hour": 7,
          "resource": "hydroelectric_pumped_storage",
          "value_sum": 42
         },
         {
          "hour": 7,
          "resource": "natural_gas_fired_combined_cycle",
          "value_sum": 1707.1916279999998
         },
         {
          "hour": 7,
          "resource": "natural_gas_fired_combustion_turbine",
          "value_sum": 0
         },
         {
          "hour": 7,
          "resource": "_onshore_wind_turbine",
          "value_sum": 49.373439999999995
         },
         {
          "hour": 7,
          "resource": "_small_hydroelectric",
          "value_sum": 3.184932
         },
         {
          "hour": 7,
          "resource": "_solar_photovoltaic",
          "value_sum": 773.85
         },
         {
          "hour": 8,
          "resource": "biomass",
          "value_sum": 21.4
         },
         {
          "hour": 8,
          "resource": "hydroelectric_pumped_storage",
          "value_sum": 42
         },
         {
          "hour": 8,
          "resource": "natural_gas_fired_combined_cycle",
          "value_sum": 932.4589080000001
         },
         {
          "hour": 8,
          "resource": "natural_gas_fired_combustion_turbine",
          "value_sum": 0
         },
         {
          "hour": 8,
          "resource": "_onshore_wind_turbine",
          "value_sum": 167.35616
         },
         {
          "hour": 8,
          "resource": "_small_hydroelectric",
          "value_sum": 3.184932
         },
         {
          "hour": 8,
          "resource": "_solar_photovoltaic",
          "value_sum": 1671.6
         },
         {
          "hour": 9,
          "resource": "biomass",
          "value_sum": 21.399999999999544
         },
         {
          "hour": 9,
          "resource": "hydroelectric_pumped_storage",
          "value_sum": 42
         },
         {
          "hour": 9,
          "resource": "natural_gas_fired_combined_cycle",
          "value_sum": 809.9041080000004
         },
         {
          "hour": 9,
          "resource": "natural_gas_fired_combustion_turbine",
          "value_sum": 0
         },
         {
          "hour": 9,
          "resource": "_onshore_wind_turbine",
          "value_sum": 131.56096
         },
         {
          "hour": 9,
          "resource": "_small_hydroelectric",
          "value_sum": 3.1849319999998897
         },
         {
          "hour": 9,
          "resource": "_solar_photovoltaic",
          "value_sum": 2014.95
         },
         {
          "hour": 10,
          "resource": "biomass",
          "value_sum": 21.4
         },
         {
          "hour": 10,
          "resource": "hydroelectric_pumped_storage",
          "value_sum": 42
         },
         {
          "hour": 10,
          "resource": "natural_gas_fired_combined_cycle",
          "value_sum": 833.5714679999999
         },
         {
          "hour": 10,
          "resource": "natural_gas_fired_combustion_turbine",
          "value_sum": 0
         },
         {
          "hour": 10,
          "resource": "_onshore_wind_turbine",
          "value_sum": 111.1936
         },
         {
          "hour": 10,
          "resource": "_small_hydroelectric",
          "value_sum": 3.184932
         },
         {
          "hour": 10,
          "resource": "_solar_photovoltaic",
          "value_sum": 2113.65
         },
         {
          "hour": 11,
          "resource": "biomass",
          "value_sum": 21.4
         },
         {
          "hour": 11,
          "resource": "hydroelectric_pumped_storage",
          "value_sum": 42
         },
         {
          "hour": 11,
          "resource": "natural_gas_fired_combined_cycle",
          "value_sum": 655.6549879999998
         },
         {
          "hour": 11,
          "resource": "natural_gas_fired_combustion_turbine",
          "value_sum": 0
         },
         {
          "hour": 11,
          "resource": "_onshore_wind_turbine",
          "value_sum": 92.11008
         },
         {
          "hour": 11,
          "resource": "_small_hydroelectric",
          "value_sum": 3.184932
         },
         {
          "hour": 11,
          "resource": "_solar_photovoltaic",
          "value_sum": 2148.65
         },
         {
          "hour": 12,
          "resource": "biomass",
          "value_sum": 0
         },
         {
          "hour": 12,
          "resource": "hydroelectric_pumped_storage",
          "value_sum": 0
         },
         {
          "hour": 12,
          "resource": "natural_gas_fired_combined_cycle",
          "value_sum": 461.04019999999997
         },
         {
          "hour": 12,
          "resource": "natural_gas_fired_combustion_turbine",
          "value_sum": 0
         },
         {
          "hour": 12,
          "resource": "_onshore_wind_turbine",
          "value_sum": 25.859800000000178
         },
         {
          "hour": 12,
          "resource": "_small_hydroelectric",
          "value_sum": 0
         },
         {
          "hour": 12,
          "resource": "_solar_photovoltaic",
          "value_sum": 2256.1
         },
         {
          "hour": 13,
          "resource": "biomass",
          "value_sum": 0
         },
         {
          "hour": 13,
          "resource": "hydroelectric_pumped_storage",
          "value_sum": 0
         },
         {
          "hour": 13,
          "resource": "natural_gas_fired_combined_cycle",
          "value_sum": 461.04019999999997
         },
         {
          "hour": 13,
          "resource": "natural_gas_fired_combustion_turbine",
          "value_sum": 0
         },
         {
          "hour": 13,
          "resource": "_onshore_wind_turbine",
          "value_sum": 0
         },
         {
          "hour": 13,
          "resource": "_small_hydroelectric",
          "value_sum": 0
         },
         {
          "hour": 13,
          "resource": "_solar_photovoltaic",
          "value_sum": 2204.9598
         },
         {
          "hour": 14,
          "resource": "biomass",
          "value_sum": 0
         },
         {
          "hour": 14,
          "resource": "hydroelectric_pumped_storage",
          "value_sum": 0
         },
         {
          "hour": 14,
          "resource": "natural_gas_fired_combined_cycle",
          "value_sum": 461.04019999999997
         },
         {
          "hour": 14,
          "resource": "natural_gas_fired_combustion_turbine",
          "value_sum": 0
         },
         {
          "hour": 14,
          "resource": "_onshore_wind_turbine",
          "value_sum": 0
         },
         {
          "hour": 14,
          "resource": "_small_hydroelectric",
          "value_sum": 0
         },
         {
          "hour": 14,
          "resource": "_solar_photovoltaic",
          "value_sum": 2116.9598
         },
         {
          "hour": 15,
          "resource": "biomass",
          "value_sum": 0
         },
         {
          "hour": 15,
          "resource": "hydroelectric_pumped_storage",
          "value_sum": 0
         },
         {
          "hour": 15,
          "resource": "natural_gas_fired_combined_cycle",
          "value_sum": 461.04019999999997
         },
         {
          "hour": 15,
          "resource": "natural_gas_fired_combustion_turbine",
          "value_sum": 0
         },
         {
          "hour": 15,
          "resource": "_onshore_wind_turbine",
          "value_sum": 27.70980000000236
         },
         {
          "hour": 15,
          "resource": "_small_hydroelectric",
          "value_sum": 0
         },
         {
          "hour": 15,
          "resource": "_solar_photovoltaic",
          "value_sum": 1993.25
         },
         {
          "hour": 16,
          "resource": "biomass",
          "value_sum": 21.4
         },
         {
          "hour": 16,
          "resource": "hydroelectric_pumped_storage",
          "value_sum": 42
         },
         {
          "hour": 16,
          "resource": "natural_gas_fired_combined_cycle",
          "value_sum": 660.9297880000001
         },
         {
          "hour": 16,
          "resource": "natural_gas_fired_combustion_turbine",
          "value_sum": 0
         },
         {
          "hour": 16,
          "resource": "_onshore_wind_turbine",
          "value_sum": 57.18527999999999
         },
         {
          "hour": 16,
          "resource": "_small_hydroelectric",
          "value_sum": 3.184932
         },
         {
          "hour": 16,
          "resource": "_solar_photovoltaic",
          "value_sum": 1637.3
         },
         {
          "hour": 17,
          "resource": "biomass",
          "value_sum": 21.4
         },
         {
          "hour": 17,
          "resource": "hydroelectric_pumped_storage",
          "value_sum": 42
         },
         {
          "hour": 17,
          "resource": "natural_gas_fired_combined_cycle",
          "value_sum": 1096.1961880000001
         },
         {
          "hour": 17,
          "resource": "natural_gas_fired_combustion_turbine",
          "value_sum": 0
         },
         {
          "hour": 17,
          "resource": "_onshore_wind_turbine",
          "value_sum": 78.61888
         },
         {
          "hour": 17,
          "resource": "_small_hydroelectric",
          "value_sum": 3.184932
         },
         {
          "hour": 17,
          "resource": "_solar_photovoltaic",
          "value_sum": 1132.6
         },
         {
          "hour": 18,
          "resource": "biomass",
          "value_sum": 21.4
         },
         {
          "hour": 18,
          "resource": "hydroelectric_pumped_storage",
          "value_sum": 42
         },
         {
          "hour": 18,
          "resource": "natural_gas_fired_combined_cycle",
          "value_sum": 1592.5
         },
         {
          "hour": 18,
          "resource": "natural_gas_fired_combustion_turbine",
          "value_sum": 499.34938800000015
         },
         {
          "hour": 18,
          "resource": "_onshore_wind_turbine",
          "value_sum": 52.61568
         },
         {
          "hour": 18,
          "resource": "_small_hydroelectric",
          "value_sum": 3.184932
         },
         {
          "hour": 18,
          "resource": "_solar_photovoltaic",
          "value_sum": 166.95
         },
         {
          "hour": 19,
          "resource": "biomass",
          "value_sum": 21.4
         },
         {
          "hour": 19,
          "resource": "hydroelectric_pumped_storage",
          "value_sum": 42
         },
         {
          "hour": 19,
          "resource": "natural_gas_fired_combined_cycle",
          "value_sum": 1592.5
         },
         {
          "hour": 19,
          "resource": "natural_gas_fired_combustion_turbine",
          "value_sum": 780.4865880000001
         },
         {
          "hour": 19,
          "resource": "_onshore_wind_turbine",
          "value_sum": 61.42848
         },
         {
          "hour": 19,
          "resource": "_small_hydroelectric",
          "value_sum": 3.1849320000000105
         },
         {
          "hour": 19,
          "resource": "_solar_photovoltaic",
          "value_sum": 0
         },
         {
          "hour": 20,
          "resource": "biomass",
          "value_sum": 21.4
         },
         {
          "hour": 20,
          "resource": "hydroelectric_pumped_storage",
          "value_sum": 42
         },
         {
          "hour": 20,
          "resource": "natural_gas_fired_combined_cycle",
          "value_sum": 1592.5
         },
         {
          "hour": 20,
          "resource": "natural_gas_fired_combustion_turbine",
          "value_sum": 774.9982680000003
         },
         {
          "hour": 20,
          "resource": "_onshore_wind_turbine",
          "value_sum": 71.9168
         },
         {
          "hour": 20,
          "resource": "_small_hydroelectric",
          "value_sum": 3.184932
         },
         {
          "hour": 20,
          "resource": "_solar_photovoltaic",
          "value_sum": 0
         },
         {
          "hour": 21,
          "resource": "biomass",
          "value_sum": 21.4
         },
         {
          "hour": 21,
          "resource": "hydroelectric_pumped_storage",
          "value_sum": 42
         },
         {
          "hour": 21,
          "resource": "natural_gas_fired_combined_cycle",
          "value_sum": 1592.5
         },
         {
          "hour": 21,
          "resource": "natural_gas_fired_combustion_turbine",
          "value_sum": 502.8664279999999
         },
         {
          "hour": 21,
          "resource": "_onshore_wind_turbine",
          "value_sum": 96.04864
         },
         {
          "hour": 21,
          "resource": "_small_hydroelectric",
          "value_sum": 3.184932
         },
         {
          "hour": 21,
          "resource": "_solar_photovoltaic",
          "value_sum": 0
         },
         {
          "hour": 22,
          "resource": "biomass",
          "value_sum": 21.4
         },
         {
          "hour": 22,
          "resource": "hydroelectric_pumped_storage",
          "value_sum": 42
         },
         {
          "hour": 22,
          "resource": "natural_gas_fired_combined_cycle",
          "value_sum": 1592.5
         },
         {
          "hour": 22,
          "resource": "natural_gas_fired_combustion_turbine",
          "value_sum": 202.4459479999999
         },
         {
          "hour": 22,
          "resource": "_onshore_wind_turbine",
          "value_sum": 126.46912
         },
         {
          "hour": 22,
          "resource": "_small_hydroelectric",
          "value_sum": 3.184932
         },
         {
          "hour": 22,
          "resource": "_solar_photovoltaic",
          "value_sum": 0
         },
         {
          "hour": 23,
          "resource": "biomass",
          "value_sum": 21.4
         },
         {
          "hour": 23,
          "resource": "hydroelectric_pumped_storage",
          "value_sum": 42
         },
         {
          "hour": 23,
          "resource": "natural_gas_fired_combined_cycle",
          "value_sum": 1524.692648
         },
         {
          "hour": 23,
          "resource": "natural_gas_fired_combustion_turbine",
          "value_sum": 24.301299999999998
         },
         {
          "hour": 23,
          "resource": "_onshore_wind_turbine",
          "value_sum": 144.42111999999997
         },
         {
          "hour": 23,
          "resource": "_small_hydroelectric",
          "value_sum": 3.184932
         },
         {
          "hour": 23,
          "resource": "_solar_photovoltaic",
          "value_sum": 0
         },
         {
          "hour": 0,
          "resource": "_solar_photovoltaic_btm",
          "value_sum": 0
         },
         {
          "hour": 1,
          "resource": "_solar_photovoltaic_btm",
          "value_sum": 0
         },
         {
          "hour": 2,
          "resource": "_solar_photovoltaic_btm",
          "value_sum": 0
         },
         {
          "hour": 3,
          "resource": "_solar_photovoltaic_btm",
          "value_sum": 0
         },
         {
          "hour": 4,
          "resource": "_solar_photovoltaic_btm",
          "value_sum": 0
         },
         {
          "hour": 5,
          "resource": "_solar_photovoltaic_btm",
          "value_sum": 0
         },
         {
          "hour": 6,
          "resource": "_solar_photovoltaic_btm",
          "value_sum": 33.18
         },
         {
          "hour": 7,
          "resource": "_solar_photovoltaic_btm",
          "value_sum": 132.66
         },
         {
          "hour": 8,
          "resource": "_solar_photovoltaic_btm",
          "value_sum": 286.56
         },
         {
          "hour": 9,
          "resource": "_solar_photovoltaic_btm",
          "value_sum": 345.42
         },
         {
          "hour": 10,
          "resource": "_solar_photovoltaic_btm",
          "value_sum": 362.34
         },
         {
          "hour": 11,
          "resource": "_solar_photovoltaic_btm",
          "value_sum": 368.34
         },
         {
          "hour": 12,
          "resource": "_solar_photovoltaic_btm",
          "value_sum": 386.76
         },
         {
          "hour": 13,
          "resource": "_solar_photovoltaic_btm",
          "value_sum": 387.29999999999995
         },
         {
          "hour": 14,
          "resource": "_solar_photovoltaic_btm",
          "value_sum": 374.46
         },
         {
          "hour": 15,
          "resource": "_solar_photovoltaic_btm",
          "value_sum": 341.7
         },
         {
          "hour": 16,
          "resource": "_solar_photovoltaic_btm",
          "value_sum": 280.68
         },
         {
          "hour": 17,
          "resource": "_solar_photovoltaic_btm",
          "value_sum": 194.16
         },
         {
          "hour": 18,
          "resource": "_solar_photovoltaic_btm",
          "value_sum": 28.62
         },
         {
          "hour": 19,
          "resource": "_solar_photovoltaic_btm",
          "value_sum": 0
         },
         {
          "hour": 20,
          "resource": "_solar_photovoltaic_btm",
          "value_sum": 0
         },
         {
          "hour": 21,
          "resource": "_solar_photovoltaic_btm",
          "value_sum": 0
         },
         {
          "hour": 22,
          "resource": "_solar_photovoltaic_btm",
          "value_sum": 0
         },
         {
          "hour": 23,
          "resource": "_solar_photovoltaic_btm",
          "value_sum": 0
         },
         {
          "hour": 0,
          "resource": "_curtailment",
          "value_sum": 0
         },
         {
          "hour": 1,
          "resource": "_curtailment",
          "value_sum": 0
         },
         {
          "hour": 2,
          "resource": "_curtailment",
          "value_sum": 0
         },
         {
          "hour": 3,
          "resource": "_curtailment",
          "value_sum": 1.0658141036401503e-14
         },
         {
          "hour": 4,
          "resource": "_curtailment",
          "value_sum": 0
         },
         {
          "hour": 5,
          "resource": "_curtailment",
          "value_sum": 0
         },
         {
          "hour": 6,
          "resource": "_curtailment",
          "value_sum": 0
         },
         {
          "hour": 7,
          "resource": "_curtailment",
          "value_sum": 0
         },
         {
          "hour": 8,
          "resource": "_curtailment",
          "value_sum": 2.2737367544323206e-13
         },
         {
          "hour": 9,
          "resource": "_curtailment",
          "value_sum": 1.1013412404281553e-13
         },
         {
          "hour": 10,
          "resource": "_curtailment",
          "value_sum": 0
         },
         {
          "hour": 11,
          "resource": "_curtailment",
          "value_sum": 0
         },
         {
          "hour": 12,
          "resource": "_curtailment",
          "value_sum": 29.418571999999823
         },
         {
          "hour": 13,
          "resource": "_curtailment",
          "value_sum": 122.16761199999992
         },
         {
          "hour": 14,
          "resource": "_curtailment",
          "value_sum": 119.79625199999982
         },
         {
          "hour": 15,
          "resource": "_curtailment",
          "value_sum": 40.88569199999763
         },
         {
          "hour": 16,
          "resource": "_curtailment",
          "value_sum": 0
         },
         {
          "hour": 17,
          "resource": "_curtailment",
          "value_sum": 0
         },
         {
          "hour": 18,
          "resource": "_curtailment",
          "value_sum": 0
         },
         {
          "hour": 19,
          "resource": "_curtailment",
          "value_sum": -1.0658141036401503e-14
         },
         {
          "hour": 20,
          "resource": "_curtailment",
          "value_sum": 0
         },
         {
          "hour": 21,
          "resource": "_curtailment",
          "value_sum": 0
         },
         {
          "hour": 22,
          "resource": "_curtailment",
          "value_sum": 0
         },
         {
          "hour": 23,
          "resource": "_curtailment",
          "value_sum": 0
         }
        ]
       },
       "encoding": {
        "color": {
         "field": "resource",
         "scale": {
          "scheme": "category10"
         },
         "type": "nominal"
        },
        "x": {
         "field": "hour",
         "type": "quantitative"
        },
        "y": {
         "field": "value_sum",
         "stack": "zero",
         "type": "quantitative"
        }
       },
       "mark": "area"
      },
      "image/png": "[encoded data removed]",
      "image/svg+xml": [
       "<svg xmlns=\"http://www.w3.org/2000/svg\" xmlns:xlink=\"http://www.w3.org/1999/xlink\" version=\"1.1\" class=\"marks\" width=\"455\" height=\"242\" viewBox=\"0 0 455 242\"><rect width=\"455\" height=\"242\" fill=\"white\"/><g fill=\"none\" stroke-miterlimit=\"10\" transform=\"translate(56,5)\"><g class=\"mark-group role-frame root\" role=\"graphics-object\" aria-roledescription=\"group mark container\"><g transform=\"translate(0,0)\"><path class=\"background\" aria-hidden=\"true\" d=\"M0.5,0.5h200v200h-200Z\" stroke=\"#ddd\"/><g><g class=\"mark-group role-axis\" aria-hidden=\"true\"><g transform=\"translate(0.5,200.5)\"><path class=\"background\" aria-hidden=\"true\" d=\"M0,0h0v0h0Z\" pointer-events=\"none\"/><g><g class=\"mark-rule role-axis-grid\" pointer-events=\"none\"><line transform=\"translate(0,-200)\" x2=\"0\" y2=\"200\" stroke=\"#ddd\" stroke-width=\"1\" opacity=\"1\"/><line transform=\"translate(42,-200)\" x2=\"0\" y2=\"200\" stroke=\"#ddd\" stroke-width=\"1\" opacity=\"1\"/><line transform=\"translate(83,-200)\" x2=\"0\" y2=\"200\" stroke=\"#ddd\" stroke-width=\"1\" opacity=\"1\"/><line transform=\"translate(125,-200)\" x2=\"0\" y2=\"200\" stroke=\"#ddd\" stroke-width=\"1\" opacity=\"1\"/><line transform=\"translate(167,-200)\" x2=\"0\" y2=\"200\" stroke=\"#ddd\" stroke-width=\"1\" opacity=\"1\"/></g></g><path class=\"foreground\" aria-hidden=\"true\" d=\"\" pointer-events=\"none\" display=\"none\"/></g></g><g class=\"mark-group role-axis\" aria-hidden=\"true\"><g transform=\"translate(0.5,0.5)\"><path class=\"background\" aria-hidden=\"true\" d=\"M0,0h0v0h0Z\" pointer-events=\"none\"/><g><g class=\"mark-rule role-axis-grid\" pointer-events=\"none\"><line transform=\"translate(0,175)\" x2=\"200\" y2=\"0\" stroke=\"#ddd\" stroke-width=\"1\" opacity=\"1\"/><line transform=\"translate(0,125)\" x2=\"200\" y2=\"0\" stroke=\"#ddd\" stroke-width=\"1\" opacity=\"1\"/><line transform=\"translate(0,75)\" x2=\"200\" y2=\"0\" stroke=\"#ddd\" stroke-width=\"1\" opacity=\"1\"/><line transform=\"translate(0,25)\" x2=\"200\" y2=\"0\" stroke=\"#ddd\" stroke-width=\"1\" opacity=\"1\"/></g></g><path class=\"foreground\" aria-hidden=\"true\" d=\"\" pointer-events=\"none\" display=\"none\"/></g></g><g class=\"mark-group role-axis\" role=\"graphics-symbol\" aria-roledescription=\"axis\" aria-label=\"X-axis titled 'hour' for a linear scale with values from 0 to 24\"><g transform=\"translate(0.5,200.5)\"><path class=\"background\" aria-hidden=\"true\" d=\"M0,0h0v0h0Z\" pointer-events=\"none\"/><g><g class=\"mark-rule role-axis-tick\" pointer-events=\"none\"><line transform=\"translate(0,0)\" x2=\"0\" y2=\"5\" stroke=\"#888\" stroke-width=\"1\" opacity=\"1\"/><line transform=\"translate(42,0)\" x2=\"0\" y2=\"5\" stroke=\"#888\" stroke-width=\"1\" opacity=\"1\"/><line transform=\"translate(83,0)\" x2=\"0\" y2=\"5\" stroke=\"#888\" stroke-width=\"1\" opacity=\"1\"/><line transform=\"translate(125,0)\" x2=\"0\" y2=\"5\" stroke=\"#888\" stroke-width=\"1\" opacity=\"1\"/><line transform=\"translate(167,0)\" x2=\"0\" y2=\"5\" stroke=\"#888\" stroke-width=\"1\" opacity=\"1\"/></g><g class=\"mark-text role-axis-label\" pointer-events=\"none\"><text text-anchor=\"start\" transform=\"translate(0,15)\" font-family=\"sans-serif\" font-size=\"10px\" fill=\"#000\" opacity=\"1\">0</text><text text-anchor=\"middle\" transform=\"translate(41.66666666666667,15)\" font-family=\"sans-serif\" font-size=\"10px\" fill=\"#000\" opacity=\"1\">5</text><text text-anchor=\"middle\" transform=\"translate(83.33333333333334,15)\" font-family=\"sans-serif\" font-size=\"10px\" fill=\"#000\" opacity=\"1\">10</text><text text-anchor=\"middle\" transform=\"translate(125,15)\" font-family=\"sans-serif\" font-size=\"10px\" fill=\"#000\" opacity=\"1\">15</text><text text-anchor=\"middle\" transform=\"translate(166.66666666666669,15)\" font-family=\"sans-serif\" font-size=\"10px\" fill=\"#000\" opacity=\"1\">20</text></g><g class=\"mark-rule role-axis-domain\" pointer-events=\"none\"><line transform=\"translate(0,0)\" x2=\"200\" y2=\"0\" stroke=\"#888\" stroke-width=\"1\" opacity=\"1\"/></g><g class=\"mark-text role-axis-title\" pointer-events=\"none\"><text text-anchor=\"middle\" transform=\"translate(100,30)\" font-family=\"sans-serif\" font-size=\"11px\" font-weight=\"bold\" fill=\"#000\" opacity=\"1\">hour</text></g></g><path class=\"foreground\" aria-hidden=\"true\" d=\"\" pointer-events=\"none\" display=\"none\"/></g></g><g class=\"mark-group role-axis\" role=\"graphics-symbol\" aria-roledescription=\"axis\" aria-label=\"Y-axis titled 'value_sum' for a linear scale with values from −500 to 3,500\"><g transform=\"translate(0.5,0.5)\"><path class=\"background\" aria-hidden=\"true\" d=\"M0,0h0v0h0Z\" pointer-events=\"none\"/><g><g class=\"mark-rule role-axis-tick\" pointer-events=\"none\"><line transform=\"translate(0,175)\" x2=\"-5\" y2=\"0\" stroke=\"#888\" stroke-width=\"1\" opacity=\"1\"/><line transform=\"translate(0,125)\" x2=\"-5\" y2=\"0\" stroke=\"#888\" stroke-width=\"1\" opacity=\"1\"/><line transform=\"translate(0,75)\" x2=\"-5\" y2=\"0\" stroke=\"#888\" stroke-width=\"1\" opacity=\"1\"/><line transform=\"translate(0,25)\" x2=\"-5\" y2=\"0\" stroke=\"#888\" stroke-width=\"1\" opacity=\"1\"/></g><g class=\"mark-text role-axis-label\" pointer-events=\"none\"><text text-anchor=\"end\" transform=\"translate(-7,178)\" font-family=\"sans-serif\" font-size=\"10px\" fill=\"#000\" opacity=\"1\">0</text><text text-anchor=\"end\" transform=\"translate(-7,128)\" font-family=\"sans-serif\" font-size=\"10px\" fill=\"#000\" opacity=\"1\">1,000</text><text text-anchor=\"end\" transform=\"translate(-7,78)\" font-family=\"sans-serif\" font-size=\"10px\" fill=\"#000\" opacity=\"1\">2,000</text><text text-anchor=\"end\" transform=\"translate(-7,28)\" font-family=\"sans-serif\" font-size=\"10px\" fill=\"#000\" opacity=\"1\">3,000</text></g><g class=\"mark-rule role-axis-domain\" pointer-events=\"none\"><line transform=\"translate(0,200)\" x2=\"0\" y2=\"-200\" stroke=\"#888\" stroke-width=\"1\" opacity=\"1\"/></g><g class=\"mark-text role-axis-title\" pointer-events=\"none\"><text text-anchor=\"middle\" transform=\"translate(-39.6279296875,100) rotate(-90) translate(0,-2)\" font-family=\"sans-serif\" font-size=\"11px\" font-weight=\"bold\" fill=\"#000\" opacity=\"1\">value_sum</text></g></g><path class=\"foreground\" aria-hidden=\"true\" d=\"\" pointer-events=\"none\" display=\"none\"/></g></g><g class=\"mark-group role-scope pathgroup\" role=\"graphics-object\" aria-roledescription=\"group mark container\"><g transform=\"translate(0,0)\"><path class=\"background\" aria-hidden=\"true\" d=\"M0,0h200v200h-200Z\"/><g><g class=\"mark-area role-mark marks\" role=\"graphics-object\" aria-roledescription=\"area mark container\"><path aria-label=\"hour: 0; value_sum: 21.4; resource: biomass\" role=\"graphics-symbol\" aria-roledescription=\"area mark\" d=\"M0,102.575L8.333,105.999L16.667,105.015L25,102.087L33.333,92.538L41.667,83.318L50,74.846L58.333,86.47L66.667,125.207L75,131.335L83.333,130.151L91.667,139.047L100,151.948L108.333,151.948L116.667,151.948L125,151.948L133.333,138.784L141.667,117.02L150,67.238L158.333,53.181L166.667,53.455L175,67.062L183.333,82.083L191.667,94.38L191.667,95.45L183.333,83.153L175,68.132L166.667,54.525L158.333,54.251L150,68.308L141.667,118.09L133.333,139.854L125,151.948L116.667,151.948L108.333,151.948L100,151.948L91.667,140.117L83.333,131.221L75,132.405L66.667,126.277L58.333,87.54L50,75.916L41.667,84.388L33.333,93.608L25,103.157L16.667,106.085L8.333,107.069L0,103.645Z\" fill=\"#8c564b\"/></g></g><path class=\"foreground\" aria-hidden=\"true\" d=\"\" display=\"none\"/></g><g transform=\"translate(0,0)\"><path class=\"background\" aria-hidden=\"true\" d=\"M0,0h200v200h-200Z\"/><g><g class=\"mark-area role-mark marks\" role=\"graphics-object\" aria-roledescription=\"area mark container\"><path aria-label=\"hour: 0; value_sum: 42; resource: hydroelectric_pumped_storage\" role=\"graphics-symbol\" aria-roledescription=\"area mark\" d=\"M0,103.645L8.333,107.069L16.667,106.085L25,103.157L33.333,93.608L41.667,84.388L50,75.916L58.333,87.54L66.667,126.277L75,132.405L83.333,131.221L91.667,140.117L100,151.948L108.333,151.948L116.667,151.948L125,151.948L133.333,139.854L141.667,118.09L150,68.308L158.333,54.251L166.667,54.525L175,68.132L183.333,83.153L191.667,95.45L191.667,97.55L183.333,85.253L175,70.232L166.667,56.625L158.333,56.351L150,70.408L141.667,120.19L133.333,141.954L125,151.948L116.667,151.948L108.333,151.948L100,151.948L91.667,142.217L83.333,133.321L75,134.505L66.667,128.377L58.333,89.64L50,78.016L41.667,86.488L33.333,95.708L25,105.257L16.667,108.185L8.333,109.169L0,105.745Z\" fill=\"#e377c2\"/></g></g><path class=\"foreground\" aria-hidden=\"true\" d=\"\" display=\"none\"/></g><g transform=\"translate(0,0)\"><path class=\"background\" aria-hidden=\"true\" d=\"M0,0h200v200h-200Z\"/><g><g class=\"mark-area role-mark marks\" role=\"graphics-object\" aria-roledescription=\"area mark container\"><path aria-label=\"hour: 0; value_sum: 1385.106268; resource: natural_gas_fired_combined_cycle\" role=\"graphics-symbol\" aria-roledescription=\"area mark\" d=\"M0,105.745L8.333,109.169L16.667,108.185L25,105.257L33.333,95.708L41.667,86.488L50,78.016L58.333,89.64L66.667,128.377L75,134.505L83.333,133.321L91.667,142.217L100,151.948L108.333,151.948L116.667,151.948L125,151.948L133.333,141.954L141.667,120.19L150,70.408L158.333,56.351L166.667,56.625L175,70.232L183.333,85.253L191.667,97.55L191.667,173.785L183.333,164.878L175,149.857L166.667,136.25L158.333,135.976L150,150.033L141.667,175L133.333,175L125,175L116.667,175L108.333,175L100,175L91.667,175L83.333,175L75,175L66.667,175L58.333,175L50,173.949L41.667,173.949L33.333,175L25,175L16.667,175L8.333,175L0,175Z\" fill=\"#7f7f7f\"/></g></g><path class=\"foreground\" aria-hidden=\"true\" d=\"\" display=\"none\"/></g><g transform=\"translate(0,0)\"><path class=\"background\" aria-hidden=\"true\" d=\"M0,0h200v200h-200Z\"/><g><g class=\"mark-area role-mark marks\" role=\"graphics-object\" aria-roledescription=\"area mark container\"><path aria-label=\"hour: 0; value_sum: 0; resource: natural_gas_fired_combustion_turbine\" role=\"graphics-symbol\" aria-roledescription=\"area mark\" d=\"M0,175L8.333,175L16.667,175L25,175L33.333,175L41.667,173.949L50,173.949L58.333,175L66.667,175L75,175L83.333,175L91.667,175L100,175L108.333,175L116.667,175L125,175L133.333,175L141.667,175L150,150.033L158.333,135.976L166.667,136.25L175,149.857L183.333,164.878L191.667,173.785L191.667,175L183.333,175L175,175L166.667,175L158.333,175L150,175L141.667,175L133.333,175L125,175L116.667,175L108.333,175L100,175L91.667,175L83.333,175L75,175L66.667,175L58.333,175L50,175L41.667,175L33.333,175L25,175L16.667,175L8.333,175L0,175Z\" fill=\"#bcbd22\"/></g></g><path class=\"foreground\" aria-hidden=\"true\" d=\"\" display=\"none\"/></g><g transform=\"translate(0,0)\"><path class=\"background\" aria-hidden=\"true\" d=\"M0,0h200v200h-200Z\"/><g><g class=\"mark-area role-mark marks\" role=\"graphics-object\" aria-roledescription=\"area mark container\"><path aria-label=\"hour: 0; value_sum: 163.3088; resource: _onshore_wind_turbine\" role=\"graphics-symbol\" aria-roledescription=\"area mark\" d=\"M0,94.25L8.333,97.35L16.667,99.1L25,96.9L33.333,88.35L41.667,76.2L50,59.641L58.333,38.517L66.667,18.772L75,6.579L83.333,0.633L91.667,8.433L100,18.512L108.333,22.335L116.667,27.377L125,33.815L133.333,39.866L141.667,46.592L150,54.669L158.333,49.95L166.667,49.7L175,62.1L183.333,75.6L191.667,87L191.667,94.221L183.333,81.923L175,66.902L166.667,53.296L158.333,53.021L150,57.3L141.667,50.523L133.333,42.725L125,35.2L116.667,27.377L108.333,22.335L100,19.805L91.667,13.039L83.333,6.193L75,13.157L66.667,27.14L58.333,40.986L50,63.35L41.667,83.159L33.333,92.379L25,101.928L16.667,104.856L8.333,105.84L0,102.415Z\" fill=\"#ff7f0e\"/></g></g><path class=\"foreground\" aria-hidden=\"true\" d=\"\" display=\"none\"/></g><g transform=\"translate(0,0)\"><path class=\"background\" aria-hidden=\"true\" d=\"M0,0h200v200h-200Z\"/><g><g class=\"mark-area role-mark marks\" role=\"graphics-object\" aria-roledescription=\"area mark container\"><path aria-label=\"hour: 0; value_sum: 3.184932; resource: _small_hydroelectric\" role=\"graphics-symbol\" aria-roledescription=\"area mark\" d=\"M0,102.415L8.333,105.84L16.667,104.856L25,101.928L33.333,92.379L41.667,83.159L50,63.35L58.333,40.986L66.667,27.14L75,13.157L83.333,6.193L91.667,13.039L100,19.805L108.333,22.335L116.667,27.377L125,35.2L133.333,42.725L141.667,50.523L150,57.3L158.333,53.021L166.667,53.296L175,66.902L183.333,81.923L191.667,94.221L191.667,94.38L183.333,82.083L175,67.062L166.667,53.455L158.333,53.181L150,57.459L141.667,50.682L133.333,42.885L125,35.2L116.667,27.377L108.333,22.335L100,19.805L91.667,13.198L83.333,6.352L75,13.316L66.667,27.299L58.333,41.145L50,63.509L41.667,83.318L33.333,92.538L25,102.087L16.667,105.015L8.333,105.999L0,102.575Z\" fill=\"#2ca02c\"/></g></g><path class=\"foreground\" aria-hidden=\"true\" d=\"\" display=\"none\"/></g><g transform=\"translate(0,0)\"><path class=\"background\" aria-hidden=\"true\" d=\"M0,0h200v200h-200Z\"/><g><g class=\"mark-area role-mark marks\" role=\"graphics-object\" aria-roledescription=\"area mark container\"><path aria-label=\"hour: 0; value_sum: 0; resource: _solar_photovoltaic\" role=\"graphics-symbol\" aria-roledescription=\"area mark\" d=\"M0,102.575L8.333,105.999L16.667,105.015L25,102.087L33.333,92.538L41.667,83.318L50,63.509L58.333,41.145L66.667,27.299L75,13.316L83.333,6.352L91.667,13.198L100,19.805L108.333,22.335L116.667,27.377L125,35.2L133.333,42.885L141.667,50.682L150,57.459L158.333,53.181L166.667,53.455L175,67.062L183.333,82.083L191.667,94.38L191.667,94.38L183.333,82.083L175,67.062L166.667,53.455L158.333,53.181L150,65.807L141.667,107.312L133.333,124.75L125,134.863L116.667,133.225L108.333,132.583L100,132.61L91.667,120.63L83.333,112.034L75,114.064L66.667,110.879L58.333,79.837L50,73.187L41.667,83.318L33.333,92.538L25,102.087L16.667,105.015L8.333,105.999L0,102.575Z\" fill=\"#d62728\"/></g></g><path class=\"foreground\" aria-hidden=\"true\" d=\"\" display=\"none\"/></g><g transform=\"translate(0,0)\"><path class=\"background\" aria-hidden=\"true\" d=\"M0,0h200v200h-200Z\"/><g><g class=\"mark-area role-mark marks\" role=\"graphics-object\" aria-roledescription=\"area mark container\"><path aria-label=\"hour: 0; value_sum: 0; resource: _solar_photovoltaic_btm\" role=\"graphics-symbol\" aria-roledescription=\"area mark\" d=\"M0,102.575L8.333,105.999L16.667,105.015L25,102.087L33.333,92.538L41.667,83.318L50,73.187L58.333,79.837L66.667,110.879L75,114.064L83.333,112.034L91.667,120.63L100,132.61L108.333,132.583L116.667,133.225L125,134.863L133.333,124.75L141.667,107.312L150,65.807L158.333,53.181L166.667,53.455L175,67.062L183.333,82.083L191.667,94.38L191.667,94.38L183.333,82.083L175,67.062L166.667,53.455L158.333,53.181L150,67.238L141.667,117.02L133.333,138.784L125,151.948L116.667,151.948L108.333,151.948L100,151.948L91.667,139.047L83.333,130.151L75,131.335L66.667,125.207L58.333,86.47L50,74.846L41.667,83.318L33.333,92.538L25,102.087L16.667,105.015L8.333,105.999L0,102.575Z\" fill=\"#9467bd\"/></g></g><path class=\"foreground\" aria-hidden=\"true\" d=\"\" display=\"none\"/></g><g transform=\"translate(0,0)\"><path class=\"background\" aria-hidden=\"true\" d=\"M0,0h200v200h-200Z\"/><g><g class=\"mark-area role-mark marks\" role=\"graphics-object\" aria-roledescription=\"area mark container\"><path aria-label=\"hour: 0; value_sum: 0; resource: _curtailment\" role=\"graphics-symbol\" aria-roledescription=\"area mark\" d=\"M0,94.25L8.333,97.35L16.667,99.1L25,96.9L33.333,88.35L41.667,76.2L50,59.641L58.333,38.517L66.667,18.772L75,6.579L83.333,0.633L91.667,8.433L100,17.041L108.333,16.227L116.667,21.387L125,31.771L133.333,39.866L141.667,46.592L150,54.669L158.333,175L166.667,49.7L175,62.1L183.333,75.6L191.667,87L191.667,87L183.333,75.6L175,62.1L166.667,49.7L158.333,175L150,54.669L141.667,46.592L133.333,39.866L125,33.815L116.667,27.377L108.333,22.335L100,18.512L91.667,8.433L83.333,0.633L75,6.579L66.667,18.772L58.333,38.517L50,59.641L41.667,76.2L33.333,88.35L25,96.9L16.667,99.1L8.333,97.35L0,94.25Z\" fill=\"#1f77b4\"/></g></g><path class=\"foreground\" aria-hidden=\"true\" d=\"\" display=\"none\"/></g></g><g class=\"mark-group role-legend\" role=\"graphics-symbol\" aria-roledescription=\"legend\" aria-label=\"Symbol legend titled 'resource' for fill color with 9 values: _curtailment, _onshore_wind_turbine, _small_hydroelectric, _solar_photovoltaic, _solar_photovoltaic_btm, ending with natural_gas_fired_combustion_turbine\"><g transform=\"translate(218,0)\"><path class=\"background\" aria-hidden=\"true\" d=\"M0,0h176v131h-176Z\" pointer-events=\"none\"/><g><g class=\"mark-group role-legend-entry\"><g transform=\"translate(0,16)\"><path class=\"background\" aria-hidden=\"true\" d=\"M0,0h0v0h0Z\" pointer-events=\"none\"/><g><g class=\"mark-group role-scope\" role=\"graphics-object\" aria-roledescription=\"group mark container\"><g transform=\"translate(0,0)\"><path class=\"background\" aria-hidden=\"true\" d=\"M0,0h175.5263671875v11h-175.5263671875Z\" pointer-events=\"none\" opacity=\"1\"/><g><g class=\"mark-symbol role-legend-symbol\" pointer-events=\"none\"><path transform=\"translate(6,6)\" d=\"M5,0A5,5,0,1,1,-5,0A5,5,0,1,1,5,0\" fill=\"#1f77b4\" stroke-width=\"1.5\" opacity=\"1\"/></g><g class=\"mark-text role-legend-label\" pointer-events=\"none\"><text text-anchor=\"start\" transform=\"translate(16,9)\" font-family=\"sans-serif\" font-size=\"10px\" fill=\"#000\" opacity=\"1\">_curtailment</text></g></g><path class=\"foreground\" aria-hidden=\"true\" d=\"\" pointer-events=\"none\" display=\"none\"/></g><g transform=\"translate(0,13)\"><path class=\"background\" aria-hidden=\"true\" d=\"M0,0h175.5263671875v11h-175.5263671875Z\" pointer-events=\"none\" opacity=\"1\"/><g><g class=\"mark-symbol role-legend-symbol\" pointer-events=\"none\"><path transform=\"translate(6,6)\" d=\"M5,0A5,5,0,1,1,-5,0A5,5,0,1,1,5,0\" fill=\"#ff7f0e\" stroke-width=\"1.5\" opacity=\"1\"/></g><g class=\"mark-text role-legend-label\" pointer-events=\"none\"><text text-anchor=\"start\" transform=\"translate(16,9)\" font-family=\"sans-serif\" font-size=\"10px\" fill=\"#000\" opacity=\"1\">_onshore_wind_turbine</text></g></g><path class=\"foreground\" aria-hidden=\"true\" d=\"\" pointer-events=\"none\" display=\"none\"/></g><g transform=\"translate(0,26)\"><path class=\"background\" aria-hidden=\"true\" d=\"M0,0h175.5263671875v11h-175.5263671875Z\" pointer-events=\"none\" opacity=\"1\"/><g><g class=\"mark-symbol role-legend-symbol\" pointer-events=\"none\"><path transform=\"translate(6,6)\" d=\"M5,0A5,5,0,1,1,-5,0A5,5,0,1,1,5,0\" fill=\"#2ca02c\" stroke-width=\"1.5\" opacity=\"1\"/></g><g class=\"mark-text role-legend-label\" pointer-events=\"none\"><text text-anchor=\"start\" transform=\"translate(16,9)\" font-family=\"sans-serif\" font-size=\"10px\" fill=\"#000\" opacity=\"1\">_small_hydroelectric</text></g></g><path class=\"foreground\" aria-hidden=\"true\" d=\"\" pointer-events=\"none\" display=\"none\"/></g><g transform=\"translate(0,39)\"><path class=\"background\" aria-hidden=\"true\" d=\"M0,0h175.5263671875v11h-175.5263671875Z\" pointer-events=\"none\" opacity=\"1\"/><g><g class=\"mark-symbol role-legend-symbol\" pointer-events=\"none\"><path transform=\"translate(6,6)\" d=\"M5,0A5,5,0,1,1,-5,0A5,5,0,1,1,5,0\" fill=\"#d62728\" stroke-width=\"1.5\" opacity=\"1\"/></g><g class=\"mark-text role-legend-label\" pointer-events=\"none\"><text text-anchor=\"start\" transform=\"translate(16,9)\" font-family=\"sans-serif\" font-size=\"10px\" fill=\"#000\" opacity=\"1\">_solar_photovoltaic</text></g></g><path class=\"foreground\" aria-hidden=\"true\" d=\"\" pointer-events=\"none\" display=\"none\"/></g><g transform=\"translate(0,52)\"><path class=\"background\" aria-hidden=\"true\" d=\"M0,0h175.5263671875v11h-175.5263671875Z\" pointer-events=\"none\" opacity=\"1\"/><g><g class=\"mark-symbol role-legend-symbol\" pointer-events=\"none\"><path transform=\"translate(6,6)\" d=\"M5,0A5,5,0,1,1,-5,0A5,5,0,1,1,5,0\" fill=\"#9467bd\" stroke-width=\"1.5\" opacity=\"1\"/></g><g class=\"mark-text role-legend-label\" pointer-events=\"none\"><text text-anchor=\"start\" transform=\"translate(16,9)\" font-family=\"sans-serif\" font-size=\"10px\" fill=\"#000\" opacity=\"1\">_solar_photovoltaic_btm</text></g></g><path class=\"foreground\" aria-hidden=\"true\" d=\"\" pointer-events=\"none\" display=\"none\"/></g><g transform=\"translate(0,65)\"><path class=\"background\" aria-hidden=\"true\" d=\"M0,0h175.5263671875v11h-175.5263671875Z\" pointer-events=\"none\" opacity=\"1\"/><g><g class=\"mark-symbol role-legend-symbol\" pointer-events=\"none\"><path transform=\"translate(6,6)\" d=\"M5,0A5,5,0,1,1,-5,0A5,5,0,1,1,5,0\" fill=\"#8c564b\" stroke-width=\"1.5\" opacity=\"1\"/></g><g class=\"mark-text role-legend-label\" pointer-events=\"none\"><text text-anchor=\"start\" transform=\"translate(16,9)\" font-family=\"sans-serif\" font-size=\"10px\" fill=\"#000\" opacity=\"1\">biomass</text></g></g><path class=\"foreground\" aria-hidden=\"true\" d=\"\" pointer-events=\"none\" display=\"none\"/></g><g transform=\"translate(0,78)\"><path class=\"background\" aria-hidden=\"true\" d=\"M0,0h175.5263671875v11h-175.5263671875Z\" pointer-events=\"none\" opacity=\"1\"/><g><g class=\"mark-symbol role-legend-symbol\" pointer-events=\"none\"><path transform=\"translate(6,6)\" d=\"M5,0A5,5,0,1,1,-5,0A5,5,0,1,1,5,0\" fill=\"#e377c2\" stroke-width=\"1.5\" opacity=\"1\"/></g><g class=\"mark-text role-legend-label\" pointer-events=\"none\"><text text-anchor=\"start\" transform=\"translate(16,9)\" font-family=\"sans-serif\" font-size=\"10px\" fill=\"#000\" opacity=\"1\">hydroelectric_pumped_storage</text></g></g><path class=\"foreground\" aria-hidden=\"true\" d=\"\" pointer-events=\"none\" display=\"none\"/></g><g transform=\"translate(0,91)\"><path class=\"background\" aria-hidden=\"true\" d=\"M0,0h175.5263671875v11h-175.5263671875Z\" pointer-events=\"none\" opacity=\"1\"/><g><g class=\"mark-symbol role-legend-symbol\" pointer-events=\"none\"><path transform=\"translate(6,6)\" d=\"M5,0A5,5,0,1,1,-5,0A5,5,0,1,1,5,0\" fill=\"#7f7f7f\" stroke-width=\"1.5\" opacity=\"1\"/></g><g class=\"mark-text role-legend-label\" pointer-events=\"none\"><text text-anchor=\"start\" transform=\"translate(16,9)\" font-family=\"sans-serif\" font-size=\"10px\" fill=\"#000\" opacity=\"1\">natural_gas_fired_combined_…</text></g></g><path class=\"foreground\" aria-hidden=\"true\" d=\"\" pointer-events=\"none\" display=\"none\"/></g><g transform=\"translate(0,104)\"><path class=\"background\" aria-hidden=\"true\" d=\"M0,0h175.5263671875v11h-175.5263671875Z\" pointer-events=\"none\" opacity=\"1\"/><g><g class=\"mark-symbol role-legend-symbol\" pointer-events=\"none\"><path transform=\"translate(6,6)\" d=\"M5,0A5,5,0,1,1,-5,0A5,5,0,1,1,5,0\" fill=\"#bcbd22\" stroke-width=\"1.5\" opacity=\"1\"/></g><g class=\"mark-text role-legend-label\" pointer-events=\"none\"><text text-anchor=\"start\" transform=\"translate(16,9)\" font-family=\"sans-serif\" font-size=\"10px\" fill=\"#000\" opacity=\"1\">natural_gas_fired_combustion…</text></g></g><path class=\"foreground\" aria-hidden=\"true\" d=\"\" pointer-events=\"none\" display=\"none\"/></g></g></g><path class=\"foreground\" aria-hidden=\"true\" d=\"\" pointer-events=\"none\" display=\"none\"/></g></g><g class=\"mark-text role-legend-title\" pointer-events=\"none\"><text text-anchor=\"start\" transform=\"translate(0,9)\" font-family=\"sans-serif\" font-size=\"11px\" font-weight=\"bold\" fill=\"#000\" opacity=\"1\">resource</text></g></g><path class=\"foreground\" aria-hidden=\"true\" d=\"\" pointer-events=\"none\" display=\"none\"/></g></g></g><path class=\"foreground\" aria-hidden=\"true\" d=\"\" display=\"none\"/></g></g></g></svg>"
      ],
      "text/plain": [
       "@vlplot(\n",
       "    mark=\"area\",\n",
       "    encoding={\n",
       "        x={\n",
       "            field=\"hour\"\n",
       "        },\n",
       "        y={\n",
       "            stack=\"zero\",\n",
       "            field=\"value_sum\"\n",
       "        },\n",
       "        color={\n",
       "            scale={\n",
       "                scheme=\"category10\"\n",
       "            },\n",
       "            field=\"resource\",\n",
       "            type=\"nominal\"\n",
       "        }\n",
       "    },\n",
       "    data={\n",
       "        values=...\n",
       "    }\n",
       ")"
      ]
     },
     "metadata": {},
     "output_type": "display_data"
    }
   ],
   "source": [
    "solution = solve_unit_commitment(\n",
    "    gen_df_sens,\n",
    "    loads_multi,\n",
    "    gen_variable_multi,\n",
    "    0.01,\n",
    "    ramp_constraints = false)\n",
    "    sol_gen = innerjoin(solution.gen, \n",
    "                    gen_df[!, [:r_id, :resource]], \n",
    "                    on = :r_id)\n",
    "sol_gen = combine(groupby(sol_gen, [:resource, :hour]), \n",
    "            :value => sum)\n",
    "\n",
    "# Rename generators (for plotting purposes)\n",
    "sol_gen[sol_gen.resource .== \"solar_photovoltaic\", :resource] .= \"_solar_photovoltaic\"\n",
    "sol_gen[sol_gen.resource .== \"onshore_wind_turbine\", :resource] .= \"_onshore_wind_turbine\"\n",
    "sol_gen[sol_gen.resource .== \"small_hydroelectric\", :resource] .= \"_small_hydroelectric\"\n",
    "\n",
    "# BTM solar\n",
    "btm = DataFrame(resource = repeat([\"_solar_photovoltaic_btm\"]; outer=length(T_period)), \n",
    "    hour = T_period,\n",
    "    value_sum = gen_variable_multi[gen_variable_multi.gen_full .== \"wec_sdge_solar_photovoltaic_1.0\",:cf] * 600)\n",
    "append!(sol_gen, btm)\n",
    "\n",
    "# Curtailment\n",
    "curtail = combine(groupby(solution.curtail, [:hour]),\n",
    "            :value => sum)\n",
    "curtail[!, :resource] .= \"_curtailment\"\n",
    "# rename!(curtail, :curt_sum => :value_sum)\n",
    "append!(sol_gen, curtail[:,[:resource, :hour, :value_sum]])\n",
    "\n",
    "# Rescale hours\n",
    "sol_gen.hour = sol_gen.hour .- T_period[1]\n",
    "\n",
    "sol_gen |>\n",
    "@vlplot(:area, \n",
    "    x=:hour, y={:value_sum, stack=:zero}, \n",
    "    color={\"resource:n\", scale={scheme=\"category10\"}})"
   ]
  },
  {
   "cell_type": "markdown",
   "metadata": {},
   "source": [
    "### Unit Commitment with ramp"
   ]
  },
  {
   "cell_type": "code",
   "execution_count": 58,
   "metadata": {},
   "outputs": [
    {
     "name": "stdout",
     "output_type": "stream",
     "text": [
      "Set parameter WLSAccessID\n",
      "Set parameter WLSSecret\n",
      "Set parameter LicenseID to value 2475843\n",
      "Academic license 2475843 - for non-commercial use only - registered to pa___@imperial.ac.uk\n",
      "Set parameter MIPGap to value 0.01\n",
      "Adding ramp constraints...\n"
     ]
    },
    {
     "name": "stdout",
     "output_type": "stream",
     "text": [
      "Set parameter MIPGap to value 0.01\n",
      "Gurobi Optimizer version 11.0.0 build v11.0.0rc2 (linux64 - \"Ubuntu 22.04.3 LTS\")\n",
      "\n",
      "CPU model: 11th Gen Intel(R) Core(TM) i7-11370H @ 3.30GHz, instruction set [SSE2|AVX|AVX2|AVX512]\n",
      "Thread count: 4 physical cores, 8 logical processors, using up to 8 threads\n",
      "\n",
      "Academic license 2475843 - for non-commercial use only - registered to pa___@imperial.ac.uk\n",
      "Optimize a model with 4532 rows, 2760 columns and 13296 nonzeros\n",
      "Model fingerprint: 0x00f527e7\n",
      "Variable types: 1176 continuous, 1584 integer (1584 binary)\n",
      "Coefficient statistics:\n",
      "  Matrix range     [1e+00, 6e+02]\n",
      "  Objective range  [5e+00, 5e+04]\n",
      "  Bounds range     [0e+00, 0e+00]\n",
      "  RHS range        [1e+00, 4e+03]\n",
      "Presolve removed 1846 rows and 644 columns\n",
      "Presolve time: 0.02s\n",
      "Presolved: 2686 rows, 2116 columns, 10736 nonzeros\n",
      "Variable types: 576 continuous, 1540 integer (1540 binary)\n",
      "Found heuristic solution: objective 898512.70762\n",
      "\n",
      "Root relaxation: objective 8.539093e+05, 959 iterations, 0.01 seconds (0.02 work units)\n",
      "\n",
      "    Nodes    |    Current Node    |     Objective Bounds      |     Work\n",
      " Expl Unexpl |  Obj  Depth IntInf | Incumbent    BestBd   Gap | It/Node Time\n",
      "\n",
      "     0     0 853909.258    0   26 898512.708 853909.258  4.96%     -    0s\n",
      "H    0     0                    863053.38924 853909.258  1.06%     -    0s\n",
      "     0     0          -    0      863053.389 854462.164  1.00%     -    0s\n",
      "\n",
      "Cutting planes:\n",
      "  Gomory: 6\n",
      "  Cover: 5\n",
      "  MIR: 7\n",
      "  Flow cover: 10\n",
      "  Network: 1\n",
      "\n",
      "Explored 1 nodes (1033 simplex iterations) in 0.08 seconds (0.07 work units)\n",
      "Thread count was 8 (of 8 available processors)\n",
      "\n",
      "Solution count 2: 863053 898513 \n",
      "\n",
      "Optimal solution found (tolerance 1.00e-02)\n",
      "Best objective 8.630533892417e+05, best bound 8.544621636922e+05, gap 0.9954%\n",
      "\n",
      "User-callback calls 404, time in user-callback 0.00 sec\n"
     ]
    },
    {
     "data": {
      "application/vnd.vegalite.v5+json": {
       "data": {
        "values": [
         {
          "hour": 0,
          "resource": "biomass",
          "value_sum": 21.4
         },
         {
          "hour": 0,
          "resource": "hydroelectric_pumped_storage",
          "value_sum": 42
         },
         {
          "hour": 0,
          "resource": "natural_gas_fired_combined_cycle",
          "value_sum": 1385.106268
         },
         {
          "hour": 0,
          "resource": "natural_gas_fired_combustion_turbine",
          "value_sum": 0
         },
         {
          "hour": 0,
          "resource": "_onshore_wind_turbine",
          "value_sum": 163.3088
         },
         {
          "hour": 0,
          "resource": "_small_hydroelectric",
          "value_sum": 3.184932
         },
         {
          "hour": 0,
          "resource": "_solar_photovoltaic",
          "value_sum": 0
         },
         {
          "hour": 1,
          "resource": "biomass",
          "value_sum": 21.4
         },
         {
          "hour": 1,
          "resource": "hydroelectric_pumped_storage",
          "value_sum": 42
         },
         {
          "hour": 1,
          "resource": "natural_gas_fired_combined_cycle",
          "value_sum": 1316.621788
         },
         {
          "hour": 1,
          "resource": "natural_gas_fired_combustion_turbine",
          "value_sum": 0
         },
         {
          "hour": 1,
          "resource": "_onshore_wind_turbine",
          "value_sum": 169.79327999999998
         },
         {
          "hour": 1,
          "resource": "_small_hydroelectric",
          "value_sum": 3.184932
         },
         {
          "hour": 1,
          "resource": "_solar_photovoltaic",
          "value_sum": 0
         },
         {
          "hour": 2,
          "resource": "biomass",
          "value_sum": 21.4
         },
         {
          "hour": 2,
          "resource": "hydroelectric_pumped_storage",
          "value_sum": 42
         },
         {
          "hour": 2,
          "resource": "natural_gas_fired_combined_cycle",
          "value_sum": 1336.304668
         },
         {
          "hour": 2,
          "resource": "natural_gas_fired_combustion_turbine",
          "value_sum": 0
         },
         {
          "hour": 2,
          "resource": "_onshore_wind_turbine",
          "value_sum": 115.1104
         },
         {
          "hour": 2,
          "resource": "_small_hydroelectric",
          "value_sum": 3.184932
         },
         {
          "hour": 2,
          "resource": "_solar_photovoltaic",
          "value_sum": 0
         },
         {
          "hour": 3,
          "resource": "biomass",
          "value_sum": 21.4
         },
         {
          "hour": 3,
          "resource": "hydroelectric_pumped_storage",
          "value_sum": 42
         },
         {
          "hour": 3,
          "resource": "natural_gas_fired_combined_cycle",
          "value_sum": 1394.8621079999998
         },
         {
          "hour": 3,
          "resource": "natural_gas_fired_combustion_turbine",
          "value_sum": 0
         },
         {
          "hour": 3,
          "resource": "_onshore_wind_turbine",
          "value_sum": 100.55296
         },
         {
          "hour": 3,
          "resource": "_small_hydroelectric",
          "value_sum": 3.184931999999989
         },
         {
          "hour": 3,
          "resource": "_solar_photovoltaic",
          "value_sum": 0
         },
         {
          "hour": 4,
          "resource": "biomass",
          "value_sum": 21.4
         },
         {
          "hour": 4,
          "resource": "hydroelectric_pumped_storage",
          "value_sum": 42
         },
         {
          "hour": 4,
          "resource": "natural_gas_fired_combined_cycle",
          "value_sum": 1585.8377879999998
         },
         {
          "hour": 4,
          "resource": "natural_gas_fired_combustion_turbine",
          "value_sum": 0
         },
         {
          "hour": 4,
          "resource": "_onshore_wind_turbine",
          "value_sum": 80.57728
         },
         {
          "hour": 4,
          "resource": "_small_hydroelectric",
          "value_sum": 3.184932
         },
         {
          "hour": 4,
          "resource": "_solar_photovoltaic",
          "value_sum": 0
         },
         {
          "hour": 5,
          "resource": "biomass",
          "value_sum": 21.4
         },
         {
          "hour": 5,
          "resource": "hydroelectric_pumped_storage",
          "value_sum": 42
         },
         {
          "hour": 5,
          "resource": "natural_gas_fired_combined_cycle",
          "value_sum": 1749.256408
         },
         {
          "hour": 5,
          "resource": "natural_gas_fired_combustion_turbine",
          "value_sum": 20.981699999999996
         },
         {
          "hour": 5,
          "resource": "_onshore_wind_turbine",
          "value_sum": 139.17695999999998
         },
         {
          "hour": 5,
          "resource": "_small_hydroelectric",
          "value_sum": 3.184932
         },
         {
          "hour": 5,
          "resource": "_solar_photovoltaic",
          "value_sum": 0
         },
         {
          "hour": 6,
          "resource": "biomass",
          "value_sum": 21.4
         },
         {
          "hour": 6,
          "resource": "hydroelectric_pumped_storage",
          "value_sum": 42
         },
         {
          "hour": 6,
          "resource": "natural_gas_fired_combined_cycle",
          "value_sum": 1918.7035279999998
         },
         {
          "hour": 6,
          "resource": "natural_gas_fired_combustion_turbine",
          "value_sum": 20.981699999999996
         },
         {
          "hour": 6,
          "resource": "_onshore_wind_turbine",
          "value_sum": 74.17984
         },
         {
          "hour": 6,
          "resource": "_small_hydroelectric",
          "value_sum": 3.184932
         },
         {
          "hour": 6,
          "resource": "_solar_photovoltaic",
          "value_sum": 193.55
         },
         {
          "hour": 7,
          "resource": "biomass",
          "value_sum": 21.4
         },
         {
          "hour": 7,
          "resource": "hydroelectric_pumped_storage",
          "value_sum": 42
         },
         {
          "hour": 7,
          "resource": "natural_gas_fired_combined_cycle",
          "value_sum": 1707.191628
         },
         {
          "hour": 7,
          "resource": "natural_gas_fired_combustion_turbine",
          "value_sum": 0
         },
         {
          "hour": 7,
          "resource": "_onshore_wind_turbine",
          "value_sum": 49.373439999999995
         },
         {
          "hour": 7,
          "resource": "_small_hydroelectric",
          "value_sum": 3.184932
         },
         {
          "hour": 7,
          "resource": "_solar_photovoltaic",
          "value_sum": 773.85
         },
         {
          "hour": 8,
          "resource": "biomass",
          "value_sum": 21.4
         },
         {
          "hour": 8,
          "resource": "hydroelectric_pumped_storage",
          "value_sum": 42
         },
         {
          "hour": 8,
          "resource": "natural_gas_fired_combined_cycle",
          "value_sum": 932.4589079999998
         },
         {
          "hour": 8,
          "resource": "natural_gas_fired_combustion_turbine",
          "value_sum": 0
         },
         {
          "hour": 8,
          "resource": "_onshore_wind_turbine",
          "value_sum": 167.35616
         },
         {
          "hour": 8,
          "resource": "_small_hydroelectric",
          "value_sum": 3.184932
         },
         {
          "hour": 8,
          "resource": "_solar_photovoltaic",
          "value_sum": 1671.6
         },
         {
          "hour": 9,
          "resource": "biomass",
          "value_sum": 21.4
         },
         {
          "hour": 9,
          "resource": "hydroelectric_pumped_storage",
          "value_sum": 42
         },
         {
          "hour": 9,
          "resource": "natural_gas_fired_combined_cycle",
          "value_sum": 809.9041080000002
         },
         {
          "hour": 9,
          "resource": "natural_gas_fired_combustion_turbine",
          "value_sum": 0
         },
         {
          "hour": 9,
          "resource": "_onshore_wind_turbine",
          "value_sum": 131.56096
         },
         {
          "hour": 9,
          "resource": "_small_hydroelectric",
          "value_sum": 3.184932
         },
         {
          "hour": 9,
          "resource": "_solar_photovoltaic",
          "value_sum": 2014.95
         },
         {
          "hour": 10,
          "resource": "biomass",
          "value_sum": 21.4
         },
         {
          "hour": 10,
          "resource": "hydroelectric_pumped_storage",
          "value_sum": 42
         },
         {
          "hour": 10,
          "resource": "natural_gas_fired_combined_cycle",
          "value_sum": 833.5714679999996
         },
         {
          "hour": 10,
          "resource": "natural_gas_fired_combustion_turbine",
          "value_sum": 0
         },
         {
          "hour": 10,
          "resource": "_onshore_wind_turbine",
          "value_sum": 111.1936
         },
         {
          "hour": 10,
          "resource": "_small_hydroelectric",
          "value_sum": 3.184932
         },
         {
          "hour": 10,
          "resource": "_solar_photovoltaic",
          "value_sum": 2113.65
         },
         {
          "hour": 11,
          "resource": "biomass",
          "value_sum": 21.4
         },
         {
          "hour": 11,
          "resource": "hydroelectric_pumped_storage",
          "value_sum": 42
         },
         {
          "hour": 11,
          "resource": "natural_gas_fired_combined_cycle",
          "value_sum": 655.6549879999998
         },
         {
          "hour": 11,
          "resource": "natural_gas_fired_combustion_turbine",
          "value_sum": 0
         },
         {
          "hour": 11,
          "resource": "_onshore_wind_turbine",
          "value_sum": 92.11008
         },
         {
          "hour": 11,
          "resource": "_small_hydroelectric",
          "value_sum": 3.184932
         },
         {
          "hour": 11,
          "resource": "_solar_photovoltaic",
          "value_sum": 2148.65
         },
         {
          "hour": 12,
          "resource": "biomass",
          "value_sum": 0
         },
         {
          "hour": 12,
          "resource": "hydroelectric_pumped_storage",
          "value_sum": 0
         },
         {
          "hour": 12,
          "resource": "natural_gas_fired_combined_cycle",
          "value_sum": 461.04019999999997
         },
         {
          "hour": 12,
          "resource": "natural_gas_fired_combustion_turbine",
          "value_sum": 0
         },
         {
          "hour": 12,
          "resource": "_onshore_wind_turbine",
          "value_sum": 25.859800000000178
         },
         {
          "hour": 12,
          "resource": "_small_hydroelectric",
          "value_sum": 0
         },
         {
          "hour": 12,
          "resource": "_solar_photovoltaic",
          "value_sum": 2256.1
         },
         {
          "hour": 13,
          "resource": "biomass",
          "value_sum": 0
         },
         {
          "hour": 13,
          "resource": "hydroelectric_pumped_storage",
          "value_sum": 0
         },
         {
          "hour": 13,
          "resource": "natural_gas_fired_combined_cycle",
          "value_sum": 461.04019999999997
         },
         {
          "hour": 13,
          "resource": "natural_gas_fired_combustion_turbine",
          "value_sum": 0
         },
         {
          "hour": 13,
          "resource": "_onshore_wind_turbine",
          "value_sum": 0
         },
         {
          "hour": 13,
          "resource": "_small_hydroelectric",
          "value_sum": 0
         },
         {
          "hour": 13,
          "resource": "_solar_photovoltaic",
          "value_sum": 2204.9598
         },
         {
          "hour": 14,
          "resource": "biomass",
          "value_sum": 0
         },
         {
          "hour": 14,
          "resource": "hydroelectric_pumped_storage",
          "value_sum": 0
         },
         {
          "hour": 14,
          "resource": "natural_gas_fired_combined_cycle",
          "value_sum": 461.04019999999997
         },
         {
          "hour": 14,
          "resource": "natural_gas_fired_combustion_turbine",
          "value_sum": 0
         },
         {
          "hour": 14,
          "resource": "_onshore_wind_turbine",
          "value_sum": 0
         },
         {
          "hour": 14,
          "resource": "_small_hydroelectric",
          "value_sum": 0
         },
         {
          "hour": 14,
          "resource": "_solar_photovoltaic",
          "value_sum": 2116.9598
         },
         {
          "hour": 15,
          "resource": "biomass",
          "value_sum": 0
         },
         {
          "hour": 15,
          "resource": "hydroelectric_pumped_storage",
          "value_sum": 0
         },
         {
          "hour": 15,
          "resource": "natural_gas_fired_combined_cycle",
          "value_sum": 461.04019999999997
         },
         {
          "hour": 15,
          "resource": "natural_gas_fired_combustion_turbine",
          "value_sum": 0
         },
         {
          "hour": 15,
          "resource": "_onshore_wind_turbine",
          "value_sum": 27.70979999999986
         },
         {
          "hour": 15,
          "resource": "_small_hydroelectric",
          "value_sum": 0
         },
         {
          "hour": 15,
          "resource": "_solar_photovoltaic",
          "value_sum": 1993.25
         },
         {
          "hour": 16,
          "resource": "biomass",
          "value_sum": 21.4
         },
         {
          "hour": 16,
          "resource": "hydroelectric_pumped_storage",
          "value_sum": 42
         },
         {
          "hour": 16,
          "resource": "natural_gas_fired_combined_cycle",
          "value_sum": 660.9297880000001
         },
         {
          "hour": 16,
          "resource": "natural_gas_fired_combustion_turbine",
          "value_sum": 0
         },
         {
          "hour": 16,
          "resource": "_onshore_wind_turbine",
          "value_sum": 57.18527999999999
         },
         {
          "hour": 16,
          "resource": "_small_hydroelectric",
          "value_sum": 3.184932
         },
         {
          "hour": 16,
          "resource": "_solar_photovoltaic",
          "value_sum": 1637.3
         },
         {
          "hour": 17,
          "resource": "biomass",
          "value_sum": 21.4
         },
         {
          "hour": 17,
          "resource": "hydroelectric_pumped_storage",
          "value_sum": 42
         },
         {
          "hour": 17,
          "resource": "natural_gas_fired_combined_cycle",
          "value_sum": 1096.196188
         },
         {
          "hour": 17,
          "resource": "natural_gas_fired_combustion_turbine",
          "value_sum": 0
         },
         {
          "hour": 17,
          "resource": "_onshore_wind_turbine",
          "value_sum": 78.61888
         },
         {
          "hour": 17,
          "resource": "_small_hydroelectric",
          "value_sum": 3.184932
         },
         {
          "hour": 17,
          "resource": "_solar_photovoltaic",
          "value_sum": 1132.6
         },
         {
          "hour": 18,
          "resource": "biomass",
          "value_sum": 21.4
         },
         {
          "hour": 18,
          "resource": "hydroelectric_pumped_storage",
          "value_sum": 42
         },
         {
          "hour": 18,
          "resource": "natural_gas_fired_combined_cycle",
          "value_sum": 1592.5
         },
         {
          "hour": 18,
          "resource": "natural_gas_fired_combustion_turbine",
          "value_sum": 499.3493879999997
         },
         {
          "hour": 18,
          "resource": "_onshore_wind_turbine",
          "value_sum": 52.61568
         },
         {
          "hour": 18,
          "resource": "_small_hydroelectric",
          "value_sum": 3.184932
         },
         {
          "hour": 18,
          "resource": "_solar_photovoltaic",
          "value_sum": 166.95
         },
         {
          "hour": 19,
          "resource": "biomass",
          "value_sum": 21.4
         },
         {
          "hour": 19,
          "resource": "hydroelectric_pumped_storage",
          "value_sum": 42
         },
         {
          "hour": 19,
          "resource": "natural_gas_fired_combined_cycle",
          "value_sum": 1592.5
         },
         {
          "hour": 19,
          "resource": "natural_gas_fired_combustion_turbine",
          "value_sum": 780.4865879999996
         },
         {
          "hour": 19,
          "resource": "_onshore_wind_turbine",
          "value_sum": 61.42848
         },
         {
          "hour": 19,
          "resource": "_small_hydroelectric",
          "value_sum": 3.1849319999999963
         },
         {
          "hour": 19,
          "resource": "_solar_photovoltaic",
          "value_sum": 0
         },
         {
          "hour": 20,
          "resource": "biomass",
          "value_sum": 21.4
         },
         {
          "hour": 20,
          "resource": "hydroelectric_pumped_storage",
          "value_sum": 42
         },
         {
          "hour": 20,
          "resource": "natural_gas_fired_combined_cycle",
          "value_sum": 1592.5
         },
         {
          "hour": 20,
          "resource": "natural_gas_fired_combustion_turbine",
          "value_sum": 774.9982679999996
         },
         {
          "hour": 20,
          "resource": "_onshore_wind_turbine",
          "value_sum": 71.9168
         },
         {
          "hour": 20,
          "resource": "_small_hydroelectric",
          "value_sum": 3.184932
         },
         {
          "hour": 20,
          "resource": "_solar_photovoltaic",
          "value_sum": 0
         },
         {
          "hour": 21,
          "resource": "biomass",
          "value_sum": 21.4
         },
         {
          "hour": 21,
          "resource": "hydroelectric_pumped_storage",
          "value_sum": 42
         },
         {
          "hour": 21,
          "resource": "natural_gas_fired_combined_cycle",
          "value_sum": 1592.5
         },
         {
          "hour": 21,
          "resource": "natural_gas_fired_combustion_turbine",
          "value_sum": 502.86642799999964
         },
         {
          "hour": 21,
          "resource": "_onshore_wind_turbine",
          "value_sum": 96.04864
         },
         {
          "hour": 21,
          "resource": "_small_hydroelectric",
          "value_sum": 3.184932
         },
         {
          "hour": 21,
          "resource": "_solar_photovoltaic",
          "value_sum": 0
         },
         {
          "hour": 22,
          "resource": "biomass",
          "value_sum": 21.4
         },
         {
          "hour": 22,
          "resource": "hydroelectric_pumped_storage",
          "value_sum": 42
         },
         {
          "hour": 22,
          "resource": "natural_gas_fired_combined_cycle",
          "value_sum": 1592.5
         },
         {
          "hour": 22,
          "resource": "natural_gas_fired_combustion_turbine",
          "value_sum": 202.4459479999998
         },
         {
          "hour": 22,
          "resource": "_onshore_wind_turbine",
          "value_sum": 126.46912
         },
         {
          "hour": 22,
          "resource": "_small_hydroelectric",
          "value_sum": 3.184932
         },
         {
          "hour": 22,
          "resource": "_solar_photovoltaic",
          "value_sum": 0
         },
         {
          "hour": 23,
          "resource": "biomass",
          "value_sum": 21.4
         },
         {
          "hour": 23,
          "resource": "hydroelectric_pumped_storage",
          "value_sum": 42
         },
         {
          "hour": 23,
          "resource": "natural_gas_fired_combined_cycle",
          "value_sum": 1434.6614479999998
         },
         {
          "hour": 23,
          "resource": "natural_gas_fired_combustion_turbine",
          "value_sum": 114.3325
         },
         {
          "hour": 23,
          "resource": "_onshore_wind_turbine",
          "value_sum": 144.42111999999997
         },
         {
          "hour": 23,
          "resource": "_small_hydroelectric",
          "value_sum": 3.184932
         },
         {
          "hour": 23,
          "resource": "_solar_photovoltaic",
          "value_sum": 0
         },
         {
          "hour": 0,
          "resource": "_solar_photovoltaic_btm",
          "value_sum": 0
         },
         {
          "hour": 1,
          "resource": "_solar_photovoltaic_btm",
          "value_sum": 0
         },
         {
          "hour": 2,
          "resource": "_solar_photovoltaic_btm",
          "value_sum": 0
         },
         {
          "hour": 3,
          "resource": "_solar_photovoltaic_btm",
          "value_sum": 0
         },
         {
          "hour": 4,
          "resource": "_solar_photovoltaic_btm",
          "value_sum": 0
         },
         {
          "hour": 5,
          "resource": "_solar_photovoltaic_btm",
          "value_sum": 0
         },
         {
          "hour": 6,
          "resource": "_solar_photovoltaic_btm",
          "value_sum": 33.18
         },
         {
          "hour": 7,
          "resource": "_solar_photovoltaic_btm",
          "value_sum": 132.66
         },
         {
          "hour": 8,
          "resource": "_solar_photovoltaic_btm",
          "value_sum": 286.56
         },
         {
          "hour": 9,
          "resource": "_solar_photovoltaic_btm",
          "value_sum": 345.42
         },
         {
          "hour": 10,
          "resource": "_solar_photovoltaic_btm",
          "value_sum": 362.34
         },
         {
          "hour": 11,
          "resource": "_solar_photovoltaic_btm",
          "value_sum": 368.34
         },
         {
          "hour": 12,
          "resource": "_solar_photovoltaic_btm",
          "value_sum": 386.76
         },
         {
          "hour": 13,
          "resource": "_solar_photovoltaic_btm",
          "value_sum": 387.29999999999995
         },
         {
          "hour": 14,
          "resource": "_solar_photovoltaic_btm",
          "value_sum": 374.46
         },
         {
          "hour": 15,
          "resource": "_solar_photovoltaic_btm",
          "value_sum": 341.7
         },
         {
          "hour": 16,
          "resource": "_solar_photovoltaic_btm",
          "value_sum": 280.68
         },
         {
          "hour": 17,
          "resource": "_solar_photovoltaic_btm",
          "value_sum": 194.16
         },
         {
          "hour": 18,
          "resource": "_solar_photovoltaic_btm",
          "value_sum": 28.62
         },
         {
          "hour": 19,
          "resource": "_solar_photovoltaic_btm",
          "value_sum": 0
         },
         {
          "hour": 20,
          "resource": "_solar_photovoltaic_btm",
          "value_sum": 0
         },
         {
          "hour": 21,
          "resource": "_solar_photovoltaic_btm",
          "value_sum": 0
         },
         {
          "hour": 22,
          "resource": "_solar_photovoltaic_btm",
          "value_sum": 0
         },
         {
          "hour": 23,
          "resource": "_solar_photovoltaic_btm",
          "value_sum": 0
         },
         {
          "hour": 0,
          "resource": "_curtailment",
          "value_sum": 0
         },
         {
          "hour": 1,
          "resource": "_curtailment",
          "value_sum": 0
         },
         {
          "hour": 2,
          "resource": "_curtailment",
          "value_sum": 0
         },
         {
          "hour": 3,
          "resource": "_curtailment",
          "value_sum": 1.0658141036401503e-14
         },
         {
          "hour": 4,
          "resource": "_curtailment",
          "value_sum": 0
         },
         {
          "hour": 5,
          "resource": "_curtailment",
          "value_sum": 0
         },
         {
          "hour": 6,
          "resource": "_curtailment",
          "value_sum": 0
         },
         {
          "hour": 7,
          "resource": "_curtailment",
          "value_sum": 0
         },
         {
          "hour": 8,
          "resource": "_curtailment",
          "value_sum": 2.2737367544323206e-13
         },
         {
          "hour": 9,
          "resource": "_curtailment",
          "value_sum": 0
         },
         {
          "hour": 10,
          "resource": "_curtailment",
          "value_sum": 0
         },
         {
          "hour": 11,
          "resource": "_curtailment",
          "value_sum": 0
         },
         {
          "hour": 12,
          "resource": "_curtailment",
          "value_sum": 29.418571999999823
         },
         {
          "hour": 13,
          "resource": "_curtailment",
          "value_sum": 122.16761199999992
         },
         {
          "hour": 14,
          "resource": "_curtailment",
          "value_sum": 119.79625199999982
         },
         {
          "hour": 15,
          "resource": "_curtailment",
          "value_sum": 40.885692000000134
         },
         {
          "hour": 16,
          "resource": "_curtailment",
          "value_sum": 0
         },
         {
          "hour": 17,
          "resource": "_curtailment",
          "value_sum": 0
         },
         {
          "hour": 18,
          "resource": "_curtailment",
          "value_sum": 0
         },
         {
          "hour": 19,
          "resource": "_curtailment",
          "value_sum": 3.552713678800501e-15
         },
         {
          "hour": 20,
          "resource": "_curtailment",
          "value_sum": 0
         },
         {
          "hour": 21,
          "resource": "_curtailment",
          "value_sum": 0
         },
         {
          "hour": 22,
          "resource": "_curtailment",
          "value_sum": 0
         },
         {
          "hour": 23,
          "resource": "_curtailment",
          "value_sum": 0
         }
        ]
       },
       "encoding": {
        "color": {
         "field": "resource",
         "scale": {
          "scheme": "category10"
         },
         "type": "nominal"
        },
        "x": {
         "field": "hour",
         "type": "quantitative"
        },
        "y": {
         "field": "value_sum",
         "stack": "zero",
         "type": "quantitative"
        }
       },
       "mark": "area"
      },
      "image/png": "[encoded data removed]",
      "image/svg+xml": [
       "<svg xmlns=\"http://www.w3.org/2000/svg\" xmlns:xlink=\"http://www.w3.org/1999/xlink\" version=\"1.1\" class=\"marks\" width=\"455\" height=\"247\" viewBox=\"0 0 455 247\"><rect width=\"455\" height=\"247\" fill=\"white\"/><g fill=\"none\" stroke-miterlimit=\"10\" transform=\"translate(56,10)\"><g class=\"mark-group role-frame root\" role=\"graphics-object\" aria-roledescription=\"group mark container\"><g transform=\"translate(0,0)\"><path class=\"background\" aria-hidden=\"true\" d=\"M0.5,0.5h200v200h-200Z\" stroke=\"#ddd\"/><g><g class=\"mark-group role-axis\" aria-hidden=\"true\"><g transform=\"translate(0.5,200.5)\"><path class=\"background\" aria-hidden=\"true\" d=\"M0,0h0v0h0Z\" pointer-events=\"none\"/><g><g class=\"mark-rule role-axis-grid\" pointer-events=\"none\"><line transform=\"translate(0,-200)\" x2=\"0\" y2=\"200\" stroke=\"#ddd\" stroke-width=\"1\" opacity=\"1\"/><line transform=\"translate(42,-200)\" x2=\"0\" y2=\"200\" stroke=\"#ddd\" stroke-width=\"1\" opacity=\"1\"/><line transform=\"translate(83,-200)\" x2=\"0\" y2=\"200\" stroke=\"#ddd\" stroke-width=\"1\" opacity=\"1\"/><line transform=\"translate(125,-200)\" x2=\"0\" y2=\"200\" stroke=\"#ddd\" stroke-width=\"1\" opacity=\"1\"/><line transform=\"translate(167,-200)\" x2=\"0\" y2=\"200\" stroke=\"#ddd\" stroke-width=\"1\" opacity=\"1\"/></g></g><path class=\"foreground\" aria-hidden=\"true\" d=\"\" pointer-events=\"none\" display=\"none\"/></g></g><g class=\"mark-group role-axis\" aria-hidden=\"true\"><g transform=\"translate(0.5,0.5)\"><path class=\"background\" aria-hidden=\"true\" d=\"M0,0h0v0h0Z\" pointer-events=\"none\"/><g><g class=\"mark-rule role-axis-grid\" pointer-events=\"none\"><line transform=\"translate(0,200)\" x2=\"200\" y2=\"0\" stroke=\"#ddd\" stroke-width=\"1\" opacity=\"1\"/><line transform=\"translate(0,171)\" x2=\"200\" y2=\"0\" stroke=\"#ddd\" stroke-width=\"1\" opacity=\"1\"/><line transform=\"translate(0,143)\" x2=\"200\" y2=\"0\" stroke=\"#ddd\" stroke-width=\"1\" opacity=\"1\"/><line transform=\"translate(0,114)\" x2=\"200\" y2=\"0\" stroke=\"#ddd\" stroke-width=\"1\" opacity=\"1\"/><line transform=\"translate(0,86)\" x2=\"200\" y2=\"0\" stroke=\"#ddd\" stroke-width=\"1\" opacity=\"1\"/><line transform=\"translate(0,57)\" x2=\"200\" y2=\"0\" stroke=\"#ddd\" stroke-width=\"1\" opacity=\"1\"/><line transform=\"translate(0,29)\" x2=\"200\" y2=\"0\" stroke=\"#ddd\" stroke-width=\"1\" opacity=\"1\"/><line transform=\"translate(0,0)\" x2=\"200\" y2=\"0\" stroke=\"#ddd\" stroke-width=\"1\" opacity=\"1\"/></g></g><path class=\"foreground\" aria-hidden=\"true\" d=\"\" pointer-events=\"none\" display=\"none\"/></g></g><g class=\"mark-group role-axis\" role=\"graphics-symbol\" aria-roledescription=\"axis\" aria-label=\"X-axis titled 'hour' for a linear scale with values from 0 to 24\"><g transform=\"translate(0.5,200.5)\"><path class=\"background\" aria-hidden=\"true\" d=\"M0,0h0v0h0Z\" pointer-events=\"none\"/><g><g class=\"mark-rule role-axis-tick\" pointer-events=\"none\"><line transform=\"translate(0,0)\" x2=\"0\" y2=\"5\" stroke=\"#888\" stroke-width=\"1\" opacity=\"1\"/><line transform=\"translate(42,0)\" x2=\"0\" y2=\"5\" stroke=\"#888\" stroke-width=\"1\" opacity=\"1\"/><line transform=\"translate(83,0)\" x2=\"0\" y2=\"5\" stroke=\"#888\" stroke-width=\"1\" opacity=\"1\"/><line transform=\"translate(125,0)\" x2=\"0\" y2=\"5\" stroke=\"#888\" stroke-width=\"1\" opacity=\"1\"/><line transform=\"translate(167,0)\" x2=\"0\" y2=\"5\" stroke=\"#888\" stroke-width=\"1\" opacity=\"1\"/></g><g class=\"mark-text role-axis-label\" pointer-events=\"none\"><text text-anchor=\"start\" transform=\"translate(0,15)\" font-family=\"sans-serif\" font-size=\"10px\" fill=\"#000\" opacity=\"1\">0</text><text text-anchor=\"middle\" transform=\"translate(41.66666666666667,15)\" font-family=\"sans-serif\" font-size=\"10px\" fill=\"#000\" opacity=\"1\">5</text><text text-anchor=\"middle\" transform=\"translate(83.33333333333334,15)\" font-family=\"sans-serif\" font-size=\"10px\" fill=\"#000\" opacity=\"1\">10</text><text text-anchor=\"middle\" transform=\"translate(125,15)\" font-family=\"sans-serif\" font-size=\"10px\" fill=\"#000\" opacity=\"1\">15</text><text text-anchor=\"middle\" transform=\"translate(166.66666666666669,15)\" font-family=\"sans-serif\" font-size=\"10px\" fill=\"#000\" opacity=\"1\">20</text></g><g class=\"mark-rule role-axis-domain\" pointer-events=\"none\"><line transform=\"translate(0,0)\" x2=\"200\" y2=\"0\" stroke=\"#888\" stroke-width=\"1\" opacity=\"1\"/></g><g class=\"mark-text role-axis-title\" pointer-events=\"none\"><text text-anchor=\"middle\" transform=\"translate(100,30)\" font-family=\"sans-serif\" font-size=\"11px\" font-weight=\"bold\" fill=\"#000\" opacity=\"1\">hour</text></g></g><path class=\"foreground\" aria-hidden=\"true\" d=\"\" pointer-events=\"none\" display=\"none\"/></g></g><g class=\"mark-group role-axis\" role=\"graphics-symbol\" aria-roledescription=\"axis\" aria-label=\"Y-axis titled 'value_sum' for a linear scale with values from 0 to 3,500\"><g transform=\"translate(0.5,0.5)\"><path class=\"background\" aria-hidden=\"true\" d=\"M0,0h0v0h0Z\" pointer-events=\"none\"/><g><g class=\"mark-rule role-axis-tick\" pointer-events=\"none\"><line transform=\"translate(0,200)\" x2=\"-5\" y2=\"0\" stroke=\"#888\" stroke-width=\"1\" opacity=\"1\"/><line transform=\"translate(0,171)\" x2=\"-5\" y2=\"0\" stroke=\"#888\" stroke-width=\"1\" opacity=\"1\"/><line transform=\"translate(0,143)\" x2=\"-5\" y2=\"0\" stroke=\"#888\" stroke-width=\"1\" opacity=\"1\"/><line transform=\"translate(0,114)\" x2=\"-5\" y2=\"0\" stroke=\"#888\" stroke-width=\"1\" opacity=\"1\"/><line transform=\"translate(0,86)\" x2=\"-5\" y2=\"0\" stroke=\"#888\" stroke-width=\"1\" opacity=\"1\"/><line transform=\"translate(0,57)\" x2=\"-5\" y2=\"0\" stroke=\"#888\" stroke-width=\"1\" opacity=\"1\"/><line transform=\"translate(0,29)\" x2=\"-5\" y2=\"0\" stroke=\"#888\" stroke-width=\"1\" opacity=\"1\"/><line transform=\"translate(0,0)\" x2=\"-5\" y2=\"0\" stroke=\"#888\" stroke-width=\"1\" opacity=\"1\"/></g><g class=\"mark-text role-axis-label\" pointer-events=\"none\"><text text-anchor=\"end\" transform=\"translate(-7,203)\" font-family=\"sans-serif\" font-size=\"10px\" fill=\"#000\" opacity=\"1\">0</text><text text-anchor=\"end\" transform=\"translate(-7,174.42857142857144)\" font-family=\"sans-serif\" font-size=\"10px\" fill=\"#000\" opacity=\"1\">500</text><text text-anchor=\"end\" transform=\"translate(-7,145.85714285714286)\" font-family=\"sans-serif\" font-size=\"10px\" fill=\"#000\" opacity=\"1\">1,000</text><text text-anchor=\"end\" transform=\"translate(-7,117.28571428571428)\" font-family=\"sans-serif\" font-size=\"10px\" fill=\"#000\" opacity=\"1\">1,500</text><text text-anchor=\"end\" transform=\"translate(-7,88.71428571428572)\" font-family=\"sans-serif\" font-size=\"10px\" fill=\"#000\" opacity=\"1\">2,000</text><text text-anchor=\"end\" transform=\"translate(-7,60.14285714285714)\" font-family=\"sans-serif\" font-size=\"10px\" fill=\"#000\" opacity=\"1\">2,500</text><text text-anchor=\"end\" transform=\"translate(-7,31.57142857142858)\" font-family=\"sans-serif\" font-size=\"10px\" fill=\"#000\" opacity=\"1\">3,000</text><text text-anchor=\"end\" transform=\"translate(-7,3)\" font-family=\"sans-serif\" font-size=\"10px\" fill=\"#000\" opacity=\"1\">3,500</text></g><g class=\"mark-rule role-axis-domain\" pointer-events=\"none\"><line transform=\"translate(0,200)\" x2=\"0\" y2=\"-200\" stroke=\"#888\" stroke-width=\"1\" opacity=\"1\"/></g><g class=\"mark-text role-axis-title\" pointer-events=\"none\"><text text-anchor=\"middle\" transform=\"translate(-39.6279296875,100) rotate(-90) translate(0,-2)\" font-family=\"sans-serif\" font-size=\"11px\" font-weight=\"bold\" fill=\"#000\" opacity=\"1\">value_sum</text></g></g><path class=\"foreground\" aria-hidden=\"true\" d=\"\" pointer-events=\"none\" display=\"none\"/></g></g><g class=\"mark-group role-scope pathgroup\" role=\"graphics-object\" aria-roledescription=\"group mark container\"><g transform=\"translate(0,0)\"><path class=\"background\" aria-hidden=\"true\" d=\"M0,0h200v200h-200Z\"/><g><g class=\"mark-area role-mark marks\" role=\"graphics-object\" aria-roledescription=\"area mark container\"><path aria-label=\"hour: 0; value_sum: 21.4; resource: biomass\" role=\"graphics-symbol\" aria-roledescription=\"area mark\" d=\"M0,117.228L8.333,121.142L16.667,120.017L25,116.671L33.333,105.758L41.667,95.221L50,85.538L58.333,98.823L66.667,143.094L75,150.097L83.333,148.744L91.667,158.911L100,173.655L108.333,173.655L116.667,173.655L125,173.655L133.333,158.61L141.667,133.737L150,76.843L158.333,60.778L166.667,61.092L175,76.642L183.333,93.809L191.667,107.863L191.667,109.086L183.333,95.032L175,77.865L166.667,62.314L158.333,62.001L150,78.066L141.667,134.96L133.333,159.833L125,173.655L116.667,173.655L108.333,173.655L100,173.655L91.667,160.134L83.333,149.967L75,151.32L66.667,144.317L58.333,100.046L50,86.761L41.667,96.444L33.333,106.981L25,117.894L16.667,121.24L8.333,122.364L0,118.451Z\" fill=\"#8c564b\"/></g></g><path class=\"foreground\" aria-hidden=\"true\" d=\"\" display=\"none\"/></g><g transform=\"translate(0,0)\"><path class=\"background\" aria-hidden=\"true\" d=\"M0,0h200v200h-200Z\"/><g><g class=\"mark-area role-mark marks\" role=\"graphics-object\" aria-roledescription=\"area mark container\"><path aria-label=\"hour: 0; value_sum: 42; resource: hydroelectric_pumped_storage\" role=\"graphics-symbol\" aria-roledescription=\"area mark\" d=\"M0,118.451L8.333,122.364L16.667,121.24L25,117.894L33.333,106.981L41.667,96.444L50,86.761L58.333,100.046L66.667,144.317L75,151.32L83.333,149.967L91.667,160.134L100,173.655L108.333,173.655L116.667,173.655L125,173.655L133.333,159.833L141.667,134.96L150,78.066L158.333,62.001L166.667,62.314L175,77.865L183.333,95.032L191.667,109.086L191.667,111.486L183.333,97.432L175,80.265L166.667,64.714L158.333,64.401L150,80.466L141.667,137.36L133.333,162.233L125,173.655L116.667,173.655L108.333,173.655L100,173.655L91.667,162.534L83.333,152.367L75,153.72L66.667,146.717L58.333,102.446L50,89.161L41.667,98.844L33.333,109.381L25,120.294L16.667,123.64L8.333,124.764L0,120.851Z\" fill=\"#e377c2\"/></g></g><path class=\"foreground\" aria-hidden=\"true\" d=\"\" display=\"none\"/></g><g transform=\"translate(0,0)\"><path class=\"background\" aria-hidden=\"true\" d=\"M0,0h200v200h-200Z\"/><g><g class=\"mark-area role-mark marks\" role=\"graphics-object\" aria-roledescription=\"area mark container\"><path aria-label=\"hour: 0; value_sum: 1385.106268; resource: natural_gas_fired_combined_cycle\" role=\"graphics-symbol\" aria-roledescription=\"area mark\" d=\"M0,120.851L8.333,124.764L16.667,123.64L25,120.294L33.333,109.381L41.667,98.844L50,89.161L58.333,102.446L66.667,146.717L75,153.72L83.333,152.367L91.667,162.534L100,173.655L108.333,173.655L116.667,173.655L125,173.655L133.333,162.233L141.667,137.36L150,80.466L158.333,64.401L166.667,64.714L175,80.265L183.333,97.432L191.667,111.486L191.667,193.467L183.333,188.432L175,171.265L166.667,155.714L158.333,155.401L150,171.466L141.667,200L133.333,200L125,200L116.667,200L108.333,200L100,200L91.667,200L83.333,200L75,200L66.667,200L58.333,200L50,198.801L41.667,198.801L33.333,200L25,200L16.667,200L8.333,200L0,200Z\" fill=\"#7f7f7f\"/></g></g><path class=\"foreground\" aria-hidden=\"true\" d=\"\" display=\"none\"/></g><g transform=\"translate(0,0)\"><path class=\"background\" aria-hidden=\"true\" d=\"M0,0h200v200h-200Z\"/><g><g class=\"mark-area role-mark marks\" role=\"graphics-object\" aria-roledescription=\"area mark container\"><path aria-label=\"hour: 0; value_sum: 0; resource: natural_gas_fired_combustion_turbine\" role=\"graphics-symbol\" aria-roledescription=\"area mark\" d=\"M0,200L8.333,200L16.667,200L25,200L33.333,200L41.667,198.801L50,198.801L58.333,200L66.667,200L75,200L83.333,200L91.667,200L100,200L108.333,200L116.667,200L125,200L133.333,200L141.667,200L150,171.466L158.333,155.401L166.667,155.714L175,171.265L183.333,188.432L191.667,193.467L191.667,200L183.333,200L175,200L166.667,200L158.333,200L150,200L141.667,200L133.333,200L125,200L116.667,200L108.333,200L100,200L91.667,200L83.333,200L75,200L66.667,200L58.333,200L50,200L41.667,200L33.333,200L25,200L16.667,200L8.333,200L0,200Z\" fill=\"#bcbd22\"/></g></g><path class=\"foreground\" aria-hidden=\"true\" d=\"\" display=\"none\"/></g><g transform=\"translate(0,0)\"><path class=\"background\" aria-hidden=\"true\" d=\"M0,0h200v200h-200Z\"/><g><g class=\"mark-area role-mark marks\" role=\"graphics-object\" aria-roledescription=\"area mark container\"><path aria-label=\"hour: 0; value_sum: 163.3088; resource: _onshore_wind_turbine\" role=\"graphics-symbol\" aria-roledescription=\"area mark\" d=\"M0,107.714L8.333,111.257L16.667,113.257L25,110.743L33.333,100.971L41.667,87.086L50,68.161L58.333,44.019L66.667,21.454L75,7.519L83.333,0.723L91.667,9.638L100,21.157L108.333,25.526L116.667,31.288L125,38.646L133.333,45.561L141.667,53.248L150,62.479L158.333,57.086L166.667,56.8L175,70.971L183.333,86.4L191.667,99.429L191.667,107.681L183.333,93.627L175,76.46L166.667,60.91L158.333,60.596L150,65.485L141.667,57.741L133.333,48.829L125,40.229L116.667,31.288L108.333,25.526L100,22.634L91.667,14.901L83.333,7.077L75,15.037L66.667,31.017L58.333,46.841L50,72.4L41.667,95.039L33.333,105.576L25,116.489L16.667,119.835L8.333,120.96L0,117.046Z\" fill=\"#ff7f0e\"/></g></g><path class=\"foreground\" aria-hidden=\"true\" d=\"\" display=\"none\"/></g><g transform=\"translate(0,0)\"><path class=\"background\" aria-hidden=\"true\" d=\"M0,0h200v200h-200Z\"/><g><g class=\"mark-area role-mark marks\" role=\"graphics-object\" aria-roledescription=\"area mark container\"><path aria-label=\"hour: 0; value_sum: 3.184932; resource: _small_hydroelectric\" role=\"graphics-symbol\" aria-roledescription=\"area mark\" d=\"M0,117.046L8.333,120.96L16.667,119.835L25,116.489L33.333,105.576L41.667,95.039L50,72.4L58.333,46.841L66.667,31.017L75,15.037L83.333,7.077L91.667,14.901L100,22.634L108.333,25.526L116.667,31.288L125,40.229L133.333,48.829L141.667,57.741L150,65.485L158.333,60.596L166.667,60.91L175,76.46L183.333,93.627L191.667,107.681L191.667,107.863L183.333,93.809L175,76.642L166.667,61.092L158.333,60.778L150,65.667L141.667,57.923L133.333,49.011L125,40.229L116.667,31.288L108.333,25.526L100,22.634L91.667,15.083L83.333,7.259L75,15.219L66.667,31.199L58.333,47.023L50,72.582L41.667,95.221L33.333,105.758L25,116.671L16.667,120.017L8.333,121.142L0,117.228Z\" fill=\"#2ca02c\"/></g></g><path class=\"foreground\" aria-hidden=\"true\" d=\"\" display=\"none\"/></g><g transform=\"translate(0,0)\"><path class=\"background\" aria-hidden=\"true\" d=\"M0,0h200v200h-200Z\"/><g><g class=\"mark-area role-mark marks\" role=\"graphics-object\" aria-roledescription=\"area mark container\"><path aria-label=\"hour: 0; value_sum: 0; resource: _solar_photovoltaic\" role=\"graphics-symbol\" aria-roledescription=\"area mark\" d=\"M0,117.228L8.333,121.142L16.667,120.017L25,116.671L33.333,105.758L41.667,95.221L50,72.582L58.333,47.023L66.667,31.199L75,15.219L83.333,7.259L91.667,15.083L100,22.634L108.333,25.526L116.667,31.288L125,40.229L133.333,49.011L141.667,57.923L150,65.667L158.333,60.778L166.667,61.092L175,76.642L183.333,93.809L191.667,107.863L191.667,107.863L183.333,93.809L175,76.642L166.667,61.092L158.333,60.778L150,75.207L141.667,122.643L133.333,142.571L125,154.129L116.667,152.257L108.333,151.523L100,151.554L91.667,137.863L83.333,128.039L75,130.359L66.667,126.719L58.333,91.243L50,83.642L41.667,95.221L33.333,105.758L25,116.671L16.667,120.017L8.333,121.142L0,117.228Z\" fill=\"#d62728\"/></g></g><path class=\"foreground\" aria-hidden=\"true\" d=\"\" display=\"none\"/></g><g transform=\"translate(0,0)\"><path class=\"background\" aria-hidden=\"true\" d=\"M0,0h200v200h-200Z\"/><g><g class=\"mark-area role-mark marks\" role=\"graphics-object\" aria-roledescription=\"area mark container\"><path aria-label=\"hour: 0; value_sum: 0; resource: _solar_photovoltaic_btm\" role=\"graphics-symbol\" aria-roledescription=\"area mark\" d=\"M0,117.228L8.333,121.142L16.667,120.017L25,116.671L33.333,105.758L41.667,95.221L50,83.642L58.333,91.243L66.667,126.719L75,130.359L83.333,128.039L91.667,137.863L100,151.554L108.333,151.523L116.667,152.257L125,154.129L133.333,142.571L141.667,122.643L150,75.207L158.333,60.778L166.667,61.092L175,76.642L183.333,93.809L191.667,107.863L191.667,107.863L183.333,93.809L175,76.642L166.667,61.092L158.333,60.778L150,76.843L141.667,133.737L133.333,158.61L125,173.655L116.667,173.655L108.333,173.655L100,173.655L91.667,158.911L83.333,148.744L75,150.097L66.667,143.094L58.333,98.823L50,85.538L41.667,95.221L33.333,105.758L25,116.671L16.667,120.017L8.333,121.142L0,117.228Z\" fill=\"#9467bd\"/></g></g><path class=\"foreground\" aria-hidden=\"true\" d=\"\" display=\"none\"/></g><g transform=\"translate(0,0)\"><path class=\"background\" aria-hidden=\"true\" d=\"M0,0h200v200h-200Z\"/><g><g class=\"mark-area role-mark marks\" role=\"graphics-object\" aria-roledescription=\"area mark container\"><path aria-label=\"hour: 0; value_sum: 0; resource: _curtailment\" role=\"graphics-symbol\" aria-roledescription=\"area mark\" d=\"M0,107.714L8.333,111.257L16.667,113.257L25,110.743L33.333,100.971L41.667,87.086L50,68.161L58.333,44.019L66.667,21.454L75,7.519L83.333,0.723L91.667,9.638L100,19.476L108.333,18.545L116.667,24.442L125,36.309L133.333,45.561L141.667,53.248L150,62.479L158.333,57.086L166.667,56.8L175,70.971L183.333,86.4L191.667,99.429L191.667,99.429L183.333,86.4L175,70.971L166.667,56.8L158.333,57.086L150,62.479L141.667,53.248L133.333,45.561L125,38.646L116.667,31.288L108.333,25.526L100,21.157L91.667,9.638L83.333,0.723L75,7.519L66.667,21.454L58.333,44.019L50,68.161L41.667,87.086L33.333,100.971L25,110.743L16.667,113.257L8.333,111.257L0,107.714Z\" fill=\"#1f77b4\"/></g></g><path class=\"foreground\" aria-hidden=\"true\" d=\"\" display=\"none\"/></g></g><g class=\"mark-group role-legend\" role=\"graphics-symbol\" aria-roledescription=\"legend\" aria-label=\"Symbol legend titled 'resource' for fill color with 9 values: _curtailment, _onshore_wind_turbine, _small_hydroelectric, _solar_photovoltaic, _solar_photovoltaic_btm, ending with natural_gas_fired_combustion_turbine\"><g transform=\"translate(218,0)\"><path class=\"background\" aria-hidden=\"true\" d=\"M0,0h176v131h-176Z\" pointer-events=\"none\"/><g><g class=\"mark-group role-legend-entry\"><g transform=\"translate(0,16)\"><path class=\"background\" aria-hidden=\"true\" d=\"M0,0h0v0h0Z\" pointer-events=\"none\"/><g><g class=\"mark-group role-scope\" role=\"graphics-object\" aria-roledescription=\"group mark container\"><g transform=\"translate(0,0)\"><path class=\"background\" aria-hidden=\"true\" d=\"M0,0h175.5263671875v11h-175.5263671875Z\" pointer-events=\"none\" opacity=\"1\"/><g><g class=\"mark-symbol role-legend-symbol\" pointer-events=\"none\"><path transform=\"translate(6,6)\" d=\"M5,0A5,5,0,1,1,-5,0A5,5,0,1,1,5,0\" fill=\"#1f77b4\" stroke-width=\"1.5\" opacity=\"1\"/></g><g class=\"mark-text role-legend-label\" pointer-events=\"none\"><text text-anchor=\"start\" transform=\"translate(16,9)\" font-family=\"sans-serif\" font-size=\"10px\" fill=\"#000\" opacity=\"1\">_curtailment</text></g></g><path class=\"foreground\" aria-hidden=\"true\" d=\"\" pointer-events=\"none\" display=\"none\"/></g><g transform=\"translate(0,13)\"><path class=\"background\" aria-hidden=\"true\" d=\"M0,0h175.5263671875v11h-175.5263671875Z\" pointer-events=\"none\" opacity=\"1\"/><g><g class=\"mark-symbol role-legend-symbol\" pointer-events=\"none\"><path transform=\"translate(6,6)\" d=\"M5,0A5,5,0,1,1,-5,0A5,5,0,1,1,5,0\" fill=\"#ff7f0e\" stroke-width=\"1.5\" opacity=\"1\"/></g><g class=\"mark-text role-legend-label\" pointer-events=\"none\"><text text-anchor=\"start\" transform=\"translate(16,9)\" font-family=\"sans-serif\" font-size=\"10px\" fill=\"#000\" opacity=\"1\">_onshore_wind_turbine</text></g></g><path class=\"foreground\" aria-hidden=\"true\" d=\"\" pointer-events=\"none\" display=\"none\"/></g><g transform=\"translate(0,26)\"><path class=\"background\" aria-hidden=\"true\" d=\"M0,0h175.5263671875v11h-175.5263671875Z\" pointer-events=\"none\" opacity=\"1\"/><g><g class=\"mark-symbol role-legend-symbol\" pointer-events=\"none\"><path transform=\"translate(6,6)\" d=\"M5,0A5,5,0,1,1,-5,0A5,5,0,1,1,5,0\" fill=\"#2ca02c\" stroke-width=\"1.5\" opacity=\"1\"/></g><g class=\"mark-text role-legend-label\" pointer-events=\"none\"><text text-anchor=\"start\" transform=\"translate(16,9)\" font-family=\"sans-serif\" font-size=\"10px\" fill=\"#000\" opacity=\"1\">_small_hydroelectric</text></g></g><path class=\"foreground\" aria-hidden=\"true\" d=\"\" pointer-events=\"none\" display=\"none\"/></g><g transform=\"translate(0,39)\"><path class=\"background\" aria-hidden=\"true\" d=\"M0,0h175.5263671875v11h-175.5263671875Z\" pointer-events=\"none\" opacity=\"1\"/><g><g class=\"mark-symbol role-legend-symbol\" pointer-events=\"none\"><path transform=\"translate(6,6)\" d=\"M5,0A5,5,0,1,1,-5,0A5,5,0,1,1,5,0\" fill=\"#d62728\" stroke-width=\"1.5\" opacity=\"1\"/></g><g class=\"mark-text role-legend-label\" pointer-events=\"none\"><text text-anchor=\"start\" transform=\"translate(16,9)\" font-family=\"sans-serif\" font-size=\"10px\" fill=\"#000\" opacity=\"1\">_solar_photovoltaic</text></g></g><path class=\"foreground\" aria-hidden=\"true\" d=\"\" pointer-events=\"none\" display=\"none\"/></g><g transform=\"translate(0,52)\"><path class=\"background\" aria-hidden=\"true\" d=\"M0,0h175.5263671875v11h-175.5263671875Z\" pointer-events=\"none\" opacity=\"1\"/><g><g class=\"mark-symbol role-legend-symbol\" pointer-events=\"none\"><path transform=\"translate(6,6)\" d=\"M5,0A5,5,0,1,1,-5,0A5,5,0,1,1,5,0\" fill=\"#9467bd\" stroke-width=\"1.5\" opacity=\"1\"/></g><g class=\"mark-text role-legend-label\" pointer-events=\"none\"><text text-anchor=\"start\" transform=\"translate(16,9)\" font-family=\"sans-serif\" font-size=\"10px\" fill=\"#000\" opacity=\"1\">_solar_photovoltaic_btm</text></g></g><path class=\"foreground\" aria-hidden=\"true\" d=\"\" pointer-events=\"none\" display=\"none\"/></g><g transform=\"translate(0,65)\"><path class=\"background\" aria-hidden=\"true\" d=\"M0,0h175.5263671875v11h-175.5263671875Z\" pointer-events=\"none\" opacity=\"1\"/><g><g class=\"mark-symbol role-legend-symbol\" pointer-events=\"none\"><path transform=\"translate(6,6)\" d=\"M5,0A5,5,0,1,1,-5,0A5,5,0,1,1,5,0\" fill=\"#8c564b\" stroke-width=\"1.5\" opacity=\"1\"/></g><g class=\"mark-text role-legend-label\" pointer-events=\"none\"><text text-anchor=\"start\" transform=\"translate(16,9)\" font-family=\"sans-serif\" font-size=\"10px\" fill=\"#000\" opacity=\"1\">biomass</text></g></g><path class=\"foreground\" aria-hidden=\"true\" d=\"\" pointer-events=\"none\" display=\"none\"/></g><g transform=\"translate(0,78)\"><path class=\"background\" aria-hidden=\"true\" d=\"M0,0h175.5263671875v11h-175.5263671875Z\" pointer-events=\"none\" opacity=\"1\"/><g><g class=\"mark-symbol role-legend-symbol\" pointer-events=\"none\"><path transform=\"translate(6,6)\" d=\"M5,0A5,5,0,1,1,-5,0A5,5,0,1,1,5,0\" fill=\"#e377c2\" stroke-width=\"1.5\" opacity=\"1\"/></g><g class=\"mark-text role-legend-label\" pointer-events=\"none\"><text text-anchor=\"start\" transform=\"translate(16,9)\" font-family=\"sans-serif\" font-size=\"10px\" fill=\"#000\" opacity=\"1\">hydroelectric_pumped_storage</text></g></g><path class=\"foreground\" aria-hidden=\"true\" d=\"\" pointer-events=\"none\" display=\"none\"/></g><g transform=\"translate(0,91)\"><path class=\"background\" aria-hidden=\"true\" d=\"M0,0h175.5263671875v11h-175.5263671875Z\" pointer-events=\"none\" opacity=\"1\"/><g><g class=\"mark-symbol role-legend-symbol\" pointer-events=\"none\"><path transform=\"translate(6,6)\" d=\"M5,0A5,5,0,1,1,-5,0A5,5,0,1,1,5,0\" fill=\"#7f7f7f\" stroke-width=\"1.5\" opacity=\"1\"/></g><g class=\"mark-text role-legend-label\" pointer-events=\"none\"><text text-anchor=\"start\" transform=\"translate(16,9)\" font-family=\"sans-serif\" font-size=\"10px\" fill=\"#000\" opacity=\"1\">natural_gas_fired_combined_…</text></g></g><path class=\"foreground\" aria-hidden=\"true\" d=\"\" pointer-events=\"none\" display=\"none\"/></g><g transform=\"translate(0,104)\"><path class=\"background\" aria-hidden=\"true\" d=\"M0,0h175.5263671875v11h-175.5263671875Z\" pointer-events=\"none\" opacity=\"1\"/><g><g class=\"mark-symbol role-legend-symbol\" pointer-events=\"none\"><path transform=\"translate(6,6)\" d=\"M5,0A5,5,0,1,1,-5,0A5,5,0,1,1,5,0\" fill=\"#bcbd22\" stroke-width=\"1.5\" opacity=\"1\"/></g><g class=\"mark-text role-legend-label\" pointer-events=\"none\"><text text-anchor=\"start\" transform=\"translate(16,9)\" font-family=\"sans-serif\" font-size=\"10px\" fill=\"#000\" opacity=\"1\">natural_gas_fired_combustion…</text></g></g><path class=\"foreground\" aria-hidden=\"true\" d=\"\" pointer-events=\"none\" display=\"none\"/></g></g></g><path class=\"foreground\" aria-hidden=\"true\" d=\"\" pointer-events=\"none\" display=\"none\"/></g></g><g class=\"mark-text role-legend-title\" pointer-events=\"none\"><text text-anchor=\"start\" transform=\"translate(0,9)\" font-family=\"sans-serif\" font-size=\"11px\" font-weight=\"bold\" fill=\"#000\" opacity=\"1\">resource</text></g></g><path class=\"foreground\" aria-hidden=\"true\" d=\"\" pointer-events=\"none\" display=\"none\"/></g></g></g><path class=\"foreground\" aria-hidden=\"true\" d=\"\" display=\"none\"/></g></g></g></svg>"
      ],
      "text/plain": [
       "@vlplot(\n",
       "    mark=\"area\",\n",
       "    encoding={\n",
       "        x={\n",
       "            field=\"hour\"\n",
       "        },\n",
       "        y={\n",
       "            stack=\"zero\",\n",
       "            field=\"value_sum\"\n",
       "        },\n",
       "        color={\n",
       "            scale={\n",
       "                scheme=\"category10\"\n",
       "            },\n",
       "            field=\"resource\",\n",
       "            type=\"nominal\"\n",
       "        }\n",
       "    },\n",
       "    data={\n",
       "        values=...\n",
       "    }\n",
       ")"
      ]
     },
     "metadata": {},
     "output_type": "display_data"
    }
   ],
   "source": [
    "solution = solve_unit_commitment(\n",
    "    gen_df_sens,\n",
    "    loads_multi,\n",
    "    gen_variable_multi,\n",
    "    0.01,\n",
    "    ramp_constraints = true)\n",
    "    sol_gen = innerjoin(solution.gen, \n",
    "                    gen_df[!, [:r_id, :resource]], \n",
    "                    on = :r_id)\n",
    "sol_gen = combine(groupby(sol_gen, [:resource, :hour]), \n",
    "            :value => sum)\n",
    "\n",
    "# Rename generators (for plotting purposes)\n",
    "sol_gen[sol_gen.resource .== \"solar_photovoltaic\", :resource] .= \"_solar_photovoltaic\"\n",
    "sol_gen[sol_gen.resource .== \"onshore_wind_turbine\", :resource] .= \"_onshore_wind_turbine\"\n",
    "sol_gen[sol_gen.resource .== \"small_hydroelectric\", :resource] .= \"_small_hydroelectric\"\n",
    "\n",
    "# BTM solar\n",
    "btm = DataFrame(resource = repeat([\"_solar_photovoltaic_btm\"]; outer=length(T_period)), \n",
    "    hour = T_period,\n",
    "    value_sum = gen_variable_multi[gen_variable_multi.gen_full .== \"wec_sdge_solar_photovoltaic_1.0\",:cf] * 600)\n",
    "append!(sol_gen, btm)\n",
    "\n",
    "# Curtailment\n",
    "curtail = combine(groupby(solution.curtail, [:hour]),\n",
    "            :value => sum)\n",
    "curtail[!, :resource] .= \"_curtailment\"\n",
    "# rename!(curtail, :curt_sum => :value_sum)\n",
    "append!(sol_gen, curtail[:,[:resource, :hour, :value_sum]])\n",
    "\n",
    "# Rescale hours\n",
    "sol_gen.hour = sol_gen.hour .- T_period[1]\n",
    "\n",
    "sol_gen |>\n",
    "@vlplot(:area, \n",
    "    x=:hour, y={:value_sum, stack=:zero}, \n",
    "    color={\"resource:n\", scale={scheme=\"category10\"}})"
   ]
  },
  {
   "cell_type": "markdown",
   "metadata": {},
   "source": [
    "### Unit commitment ramp and reserve"
   ]
  },
  {
   "cell_type": "code",
   "execution_count": 59,
   "metadata": {},
   "outputs": [
    {
     "name": "stdout",
     "output_type": "stream",
     "text": [
      "Set parameter WLSAccessID\n",
      "Set parameter WLSSecret\n",
      "Set parameter LicenseID to value 2475843\n",
      "Academic license 2475843 - for non-commercial use only - registered to pa___@imperial.ac.uk\n",
      "Set parameter MIPGap to value 0.001\n",
      "Adding ramp constraints...\n",
      "Adding reserve constraints...\n"
     ]
    },
    {
     "name": "stdout",
     "output_type": "stream",
     "text": [
      "Set parameter MIPGap to value 0.001\n",
      "Gurobi Optimizer version 11.0.0 build v11.0.0rc2 (linux64 - \"Ubuntu 22.04.3 LTS\")\n",
      "\n",
      "CPU model: 11th Gen Intel(R) Core(TM) i7-11370H @ 3.30GHz, instruction set [SSE2|AVX|AVX2|AVX512]\n",
      "Thread count: 4 physical cores, 8 logical processors, using up to 8 threads\n",
      "\n",
      "Academic license 2475843 - for non-commercial use only - registered to pa___@imperial.ac.uk\n",
      "Optimize a model with 6692 rows, 3816 columns and 18576 nonzeros\n",
      "Model fingerprint: 0x89b245e1\n",
      "Variable types: 2232 continuous, 1584 integer (1584 binary)\n",
      "Coefficient statistics:\n",
      "  Matrix range     [1e+00, 6e+02]\n",
      "  Objective range  [5e+00, 5e+04]\n",
      "  Bounds range     [0e+00, 0e+00]\n",
      "  RHS range        [1e+00, 4e+03]\n",
      "Presolve removed 2950 rows and 692 columns\n",
      "Presolve time: 0.03s\n",
      "Presolved: 3742 rows, 3124 columns, 14768 nonzeros\n",
      "Variable types: 1584 continuous, 1540 integer (1540 binary)\n",
      "\n",
      "Root relaxation: objective 8.971854e+05, 3137 iterations, 0.04 seconds (0.04 work units)\n",
      "\n",
      "    Nodes    |    Current Node    |     Objective Bounds      |     Work\n",
      " Expl Unexpl |  Obj  Depth IntInf | Incumbent    BestBd   Gap | It/Node Time\n",
      "\n",
      "     0     0 897185.424    0   50          - 897185.424      -     -    0s\n",
      "H    0     0                    916706.33102 897185.424  2.13%     -    0s\n",
      "H    0     0                    911718.70211 897298.779  1.58%     -    0s\n",
      "     0     0 897605.106    0   87 911718.702 897605.106  1.55%     -    0s\n",
      "     0     0 897769.190    0   87 911718.702 897769.190  1.53%     -    0s\n",
      "     0     0 897855.997    0   87 911718.702 897855.997  1.52%     -    0s\n",
      "     0     0 898576.270    0   86 911718.702 898576.270  1.44%     -    0s\n",
      "     0     0 898711.001    0   94 911718.702 898711.001  1.43%     -    0s\n",
      "     0     0 898759.679    0   98 911718.702 898759.679  1.42%     -    0s\n",
      "     0     0 898802.807    0  142 911718.702 898802.807  1.42%     -    0s\n",
      "     0     0 898846.233    0  124 911718.702 898846.233  1.41%     -    0s\n",
      "     0     0 898846.233    0  123 911718.702 898846.233  1.41%     -    0s\n",
      "H    0     0                    902842.10237 898846.233  0.44%     -    0s\n",
      "     0     0 898846.233    0  138 902842.102 898846.233  0.44%     -    0s\n",
      "     0     0 898922.713    0  138 902842.102 898922.713  0.43%     -    0s\n",
      "     0     2 898974.783    0  138 902842.102 898974.783  0.43%     -    0s\n",
      "H  212   189                    902829.68927 899728.889  0.34%   9.5    0s\n",
      "H  343   246                    902630.50310 899826.917  0.31%   8.4    0s\n",
      "H  360   255                    902483.78311 899826.917  0.29%   8.2    0s\n",
      "H  376   254                    902422.15562 899826.917  0.29%   7.9    0s\n",
      "H  471   312                    902225.98613 899964.354  0.25%   7.6    0s\n",
      "H  588   293                    901795.06920 899964.354  0.20%   7.4    1s\n",
      "H  688   342                    901788.50748 900085.620  0.19%   7.6    1s\n",
      "H 1278   588                    901777.15065 900319.034  0.16%   8.5    1s\n",
      "H 1280   563                    901709.29443 900319.034  0.15%   8.5    1s\n",
      "\n",
      "Cutting planes:\n",
      "  Gomory: 13\n",
      "  Cover: 3\n",
      "  MIR: 11\n",
      "  StrongCG: 4\n",
      "  Flow cover: 23\n",
      "  GUB cover: 1\n",
      "  Inf proof: 3\n",
      "  RLT: 1\n",
      "\n",
      "Explored 1893 nodes (23517 simplex iterations) in 2.39 seconds (2.32 work units)\n",
      "Thread count was 8 (of 8 available processors)\n",
      "\n",
      "Solution count 10: 901709 901777 901789 ... 902842\n",
      "\n",
      "Optimal solution found (tolerance 1.00e-03)\n",
      "Best objective 9.017092944345e+05, best bound 9.008387198088e+05, gap 0.0965%\n",
      "\n",
      "User-callback calls 4887, time in user-callback 0.00 sec\n"
     ]
    },
    {
     "data": {
      "application/vnd.vegalite.v5+json": {
       "data": {
        "values": [
         {
          "hour": 0,
          "resource": "biomass",
          "value_sum": 21.4
         },
         {
          "hour": 0,
          "resource": "hydroelectric_pumped_storage",
          "value_sum": 42
         },
         {
          "hour": 0,
          "resource": "natural_gas_fired_combined_cycle",
          "value_sum": 1231.652768
         },
         {
          "hour": 0,
          "resource": "natural_gas_fired_combustion_turbine",
          "value_sum": 153.45350000000002
         },
         {
          "hour": 0,
          "resource": "_onshore_wind_turbine",
          "value_sum": 163.3088
         },
         {
          "hour": 0,
          "resource": "_small_hydroelectric",
          "value_sum": 3.184932
         },
         {
          "hour": 0,
          "resource": "_solar_photovoltaic",
          "value_sum": 0
         },
         {
          "hour": 1,
          "resource": "biomass",
          "value_sum": 21.4
         },
         {
          "hour": 1,
          "resource": "hydroelectric_pumped_storage",
          "value_sum": 42
         },
         {
          "hour": 1,
          "resource": "natural_gas_fired_combined_cycle",
          "value_sum": 1163.168288
         },
         {
          "hour": 1,
          "resource": "natural_gas_fired_combustion_turbine",
          "value_sum": 153.45350000000002
         },
         {
          "hour": 1,
          "resource": "_onshore_wind_turbine",
          "value_sum": 169.79327999999998
         },
         {
          "hour": 1,
          "resource": "_small_hydroelectric",
          "value_sum": 3.184932
         },
         {
          "hour": 1,
          "resource": "_solar_photovoltaic",
          "value_sum": 0
         },
         {
          "hour": 2,
          "resource": "biomass",
          "value_sum": 21.4
         },
         {
          "hour": 2,
          "resource": "hydroelectric_pumped_storage",
          "value_sum": 42
         },
         {
          "hour": 2,
          "resource": "natural_gas_fired_combined_cycle",
          "value_sum": 1182.851168
         },
         {
          "hour": 2,
          "resource": "natural_gas_fired_combustion_turbine",
          "value_sum": 153.45350000000002
         },
         {
          "hour": 2,
          "resource": "_onshore_wind_turbine",
          "value_sum": 115.1104
         },
         {
          "hour": 2,
          "resource": "_small_hydroelectric",
          "value_sum": 3.184932
         },
         {
          "hour": 2,
          "resource": "_solar_photovoltaic",
          "value_sum": 0
         },
         {
          "hour": 3,
          "resource": "biomass",
          "value_sum": 21.4
         },
         {
          "hour": 3,
          "resource": "hydroelectric_pumped_storage",
          "value_sum": 42
         },
         {
          "hour": 3,
          "resource": "natural_gas_fired_combined_cycle",
          "value_sum": 1241.408608
         },
         {
          "hour": 3,
          "resource": "natural_gas_fired_combustion_turbine",
          "value_sum": 153.45350000000002
         },
         {
          "hour": 3,
          "resource": "_onshore_wind_turbine",
          "value_sum": 100.55296
         },
         {
          "hour": 3,
          "resource": "_small_hydroelectric",
          "value_sum": 3.184931999999989
         },
         {
          "hour": 3,
          "resource": "_solar_photovoltaic",
          "value_sum": 0
         },
         {
          "hour": 4,
          "resource": "biomass",
          "value_sum": 21.4
         },
         {
          "hour": 4,
          "resource": "hydroelectric_pumped_storage",
          "value_sum": 42
         },
         {
          "hour": 4,
          "resource": "natural_gas_fired_combined_cycle",
          "value_sum": 1432.384288
         },
         {
          "hour": 4,
          "resource": "natural_gas_fired_combustion_turbine",
          "value_sum": 153.45350000000002
         },
         {
          "hour": 4,
          "resource": "_onshore_wind_turbine",
          "value_sum": 80.57728
         },
         {
          "hour": 4,
          "resource": "_small_hydroelectric",
          "value_sum": 3.184932
         },
         {
          "hour": 4,
          "resource": "_solar_photovoltaic",
          "value_sum": 0
         },
         {
          "hour": 5,
          "resource": "biomass",
          "value_sum": 21.4
         },
         {
          "hour": 5,
          "resource": "hydroelectric_pumped_storage",
          "value_sum": 42
         },
         {
          "hour": 5,
          "resource": "natural_gas_fired_combined_cycle",
          "value_sum": 1616.7846080000002
         },
         {
          "hour": 5,
          "resource": "natural_gas_fired_combustion_turbine",
          "value_sum": 153.45350000000002
         },
         {
          "hour": 5,
          "resource": "_onshore_wind_turbine",
          "value_sum": 139.17695999999998
         },
         {
          "hour": 5,
          "resource": "_small_hydroelectric",
          "value_sum": 3.184932
         },
         {
          "hour": 5,
          "resource": "_solar_photovoltaic",
          "value_sum": 0
         },
         {
          "hour": 6,
          "resource": "biomass",
          "value_sum": 21.4
         },
         {
          "hour": 6,
          "resource": "hydroelectric_pumped_storage",
          "value_sum": 42
         },
         {
          "hour": 6,
          "resource": "natural_gas_fired_combined_cycle",
          "value_sum": 1786.231728
         },
         {
          "hour": 6,
          "resource": "natural_gas_fired_combustion_turbine",
          "value_sum": 153.45350000000002
         },
         {
          "hour": 6,
          "resource": "_onshore_wind_turbine",
          "value_sum": 74.17984
         },
         {
          "hour": 6,
          "resource": "_small_hydroelectric",
          "value_sum": 3.184932
         },
         {
          "hour": 6,
          "resource": "_solar_photovoltaic",
          "value_sum": 193.55
         },
         {
          "hour": 7,
          "resource": "biomass",
          "value_sum": 21.4
         },
         {
          "hour": 7,
          "resource": "hydroelectric_pumped_storage",
          "value_sum": 42
         },
         {
          "hour": 7,
          "resource": "natural_gas_fired_combined_cycle",
          "value_sum": 1621.4961279999998
         },
         {
          "hour": 7,
          "resource": "natural_gas_fired_combustion_turbine",
          "value_sum": 85.69550000000001
         },
         {
          "hour": 7,
          "resource": "_onshore_wind_turbine",
          "value_sum": 49.373439999999995
         },
         {
          "hour": 7,
          "resource": "_small_hydroelectric",
          "value_sum": 3.184932
         },
         {
          "hour": 7,
          "resource": "_solar_photovoltaic",
          "value_sum": 773.85
         },
         {
          "hour": 8,
          "resource": "biomass",
          "value_sum": 21.4
         },
         {
          "hour": 8,
          "resource": "hydroelectric_pumped_storage",
          "value_sum": 42
         },
         {
          "hour": 8,
          "resource": "natural_gas_fired_combined_cycle",
          "value_sum": 879.169408
         },
         {
          "hour": 8,
          "resource": "natural_gas_fired_combustion_turbine",
          "value_sum": 53.289500000000004
         },
         {
          "hour": 8,
          "resource": "_onshore_wind_turbine",
          "value_sum": 167.35616
         },
         {
          "hour": 8,
          "resource": "_small_hydroelectric",
          "value_sum": 3.184932
         },
         {
          "hour": 8,
          "resource": "_solar_photovoltaic",
          "value_sum": 1671.6
         },
         {
          "hour": 9,
          "resource": "biomass",
          "value_sum": 21.399999999999544
         },
         {
          "hour": 9,
          "resource": "hydroelectric_pumped_storage",
          "value_sum": 42
         },
         {
          "hour": 9,
          "resource": "natural_gas_fired_combined_cycle",
          "value_sum": 788.9224080000004
         },
         {
          "hour": 9,
          "resource": "natural_gas_fired_combustion_turbine",
          "value_sum": 20.981699999999996
         },
         {
          "hour": 9,
          "resource": "_onshore_wind_turbine",
          "value_sum": 131.56096
         },
         {
          "hour": 9,
          "resource": "_small_hydroelectric",
          "value_sum": 3.184932
         },
         {
          "hour": 9,
          "resource": "_solar_photovoltaic",
          "value_sum": 2014.95
         },
         {
          "hour": 10,
          "resource": "biomass",
          "value_sum": 21.4
         },
         {
          "hour": 10,
          "resource": "hydroelectric_pumped_storage",
          "value_sum": 42
         },
         {
          "hour": 10,
          "resource": "natural_gas_fired_combined_cycle",
          "value_sum": 812.5897679999997
         },
         {
          "hour": 10,
          "resource": "natural_gas_fired_combustion_turbine",
          "value_sum": 20.981699999999996
         },
         {
          "hour": 10,
          "resource": "_onshore_wind_turbine",
          "value_sum": 111.1936
         },
         {
          "hour": 10,
          "resource": "_small_hydroelectric",
          "value_sum": 3.184932
         },
         {
          "hour": 10,
          "resource": "_solar_photovoltaic",
          "value_sum": 2113.65
         },
         {
          "hour": 11,
          "resource": "biomass",
          "value_sum": 21.4
         },
         {
          "hour": 11,
          "resource": "hydroelectric_pumped_storage",
          "value_sum": 42
         },
         {
          "hour": 11,
          "resource": "natural_gas_fired_combined_cycle",
          "value_sum": 655.6549879999999
         },
         {
          "hour": 11,
          "resource": "natural_gas_fired_combustion_turbine",
          "value_sum": 0
         },
         {
          "hour": 11,
          "resource": "_onshore_wind_turbine",
          "value_sum": 92.11008
         },
         {
          "hour": 11,
          "resource": "_small_hydroelectric",
          "value_sum": 3.184932
         },
         {
          "hour": 11,
          "resource": "_solar_photovoltaic",
          "value_sum": 2148.65
         },
         {
          "hour": 12,
          "resource": "biomass",
          "value_sum": 0
         },
         {
          "hour": 12,
          "resource": "hydroelectric_pumped_storage",
          "value_sum": 0
         },
         {
          "hour": 12,
          "resource": "natural_gas_fired_combined_cycle",
          "value_sum": 598.1902
         },
         {
          "hour": 12,
          "resource": "natural_gas_fired_combustion_turbine",
          "value_sum": 0
         },
         {
          "hour": 12,
          "resource": "_onshore_wind_turbine",
          "value_sum": 0
         },
         {
          "hour": 12,
          "resource": "_small_hydroelectric",
          "value_sum": 0
         },
         {
          "hour": 12,
          "resource": "_solar_photovoltaic",
          "value_sum": 2144.809800000001
         },
         {
          "hour": 13,
          "resource": "biomass",
          "value_sum": 0
         },
         {
          "hour": 13,
          "resource": "hydroelectric_pumped_storage",
          "value_sum": 0
         },
         {
          "hour": 13,
          "resource": "natural_gas_fired_combined_cycle",
          "value_sum": 594.3402
         },
         {
          "hour": 13,
          "resource": "natural_gas_fired_combustion_turbine",
          "value_sum": 0
         },
         {
          "hour": 13,
          "resource": "_onshore_wind_turbine",
          "value_sum": 0
         },
         {
          "hour": 13,
          "resource": "_small_hydroelectric",
          "value_sum": 0
         },
         {
          "hour": 13,
          "resource": "_solar_photovoltaic",
          "value_sum": 2071.6598000000013
         },
         {
          "hour": 14,
          "resource": "biomass",
          "value_sum": 0
         },
         {
          "hour": 14,
          "resource": "hydroelectric_pumped_storage",
          "value_sum": 0
         },
         {
          "hour": 14,
          "resource": "natural_gas_fired_combined_cycle",
          "value_sum": 589.9402
         },
         {
          "hour": 14,
          "resource": "natural_gas_fired_combustion_turbine",
          "value_sum": 0
         },
         {
          "hour": 14,
          "resource": "_onshore_wind_turbine",
          "value_sum": 0
         },
         {
          "hour": 14,
          "resource": "_small_hydroelectric",
          "value_sum": 0
         },
         {
          "hour": 14,
          "resource": "_solar_photovoltaic",
          "value_sum": 1988.0598000000002
         },
         {
          "hour": 15,
          "resource": "biomass",
          "value_sum": 0
         },
         {
          "hour": 15,
          "resource": "hydroelectric_pumped_storage",
          "value_sum": 0
         },
         {
          "hour": 15,
          "resource": "natural_gas_fired_combined_cycle",
          "value_sum": 585.1401999999999
         },
         {
          "hour": 15,
          "resource": "natural_gas_fired_combustion_turbine",
          "value_sum": 0
         },
         {
          "hour": 15,
          "resource": "_onshore_wind_turbine",
          "value_sum": 0
         },
         {
          "hour": 15,
          "resource": "_small_hydroelectric",
          "value_sum": 0
         },
         {
          "hour": 15,
          "resource": "_solar_photovoltaic",
          "value_sum": 1896.8598000000002
         },
         {
          "hour": 16,
          "resource": "biomass",
          "value_sum": 21.4
         },
         {
          "hour": 16,
          "resource": "hydroelectric_pumped_storage",
          "value_sum": 42
         },
         {
          "hour": 16,
          "resource": "natural_gas_fired_combined_cycle",
          "value_sum": 660.9297880000001
         },
         {
          "hour": 16,
          "resource": "natural_gas_fired_combustion_turbine",
          "value_sum": 0
         },
         {
          "hour": 16,
          "resource": "_onshore_wind_turbine",
          "value_sum": 57.18527999999999
         },
         {
          "hour": 16,
          "resource": "_small_hydroelectric",
          "value_sum": 3.184932
         },
         {
          "hour": 16,
          "resource": "_solar_photovoltaic",
          "value_sum": 1637.3
         },
         {
          "hour": 17,
          "resource": "biomass",
          "value_sum": 21.4
         },
         {
          "hour": 17,
          "resource": "hydroelectric_pumped_storage",
          "value_sum": 42
         },
         {
          "hour": 17,
          "resource": "natural_gas_fired_combined_cycle",
          "value_sum": 1096.1961880000003
         },
         {
          "hour": 17,
          "resource": "natural_gas_fired_combustion_turbine",
          "value_sum": 0
         },
         {
          "hour": 17,
          "resource": "_onshore_wind_turbine",
          "value_sum": 78.61887999999999
         },
         {
          "hour": 17,
          "resource": "_small_hydroelectric",
          "value_sum": 3.184932
         },
         {
          "hour": 17,
          "resource": "_solar_photovoltaic",
          "value_sum": 1132.6
         },
         {
          "hour": 18,
          "resource": "biomass",
          "value_sum": 21.4
         },
         {
          "hour": 18,
          "resource": "hydroelectric_pumped_storage",
          "value_sum": 42
         },
         {
          "hour": 18,
          "resource": "natural_gas_fired_combined_cycle",
          "value_sum": 1592.5
         },
         {
          "hour": 18,
          "resource": "natural_gas_fired_combustion_turbine",
          "value_sum": 499.349388
         },
         {
          "hour": 18,
          "resource": "_onshore_wind_turbine",
          "value_sum": 52.61568
         },
         {
          "hour": 18,
          "resource": "_small_hydroelectric",
          "value_sum": 3.184932
         },
         {
          "hour": 18,
          "resource": "_solar_photovoltaic",
          "value_sum": 166.95
         },
         {
          "hour": 19,
          "resource": "biomass",
          "value_sum": 21.4
         },
         {
          "hour": 19,
          "resource": "hydroelectric_pumped_storage",
          "value_sum": 42
         },
         {
          "hour": 19,
          "resource": "natural_gas_fired_combined_cycle",
          "value_sum": 1592.5
         },
         {
          "hour": 19,
          "resource": "natural_gas_fired_combustion_turbine",
          "value_sum": 780.4865879999999
         },
         {
          "hour": 19,
          "resource": "_onshore_wind_turbine",
          "value_sum": 61.42848
         },
         {
          "hour": 19,
          "resource": "_small_hydroelectric",
          "value_sum": 3.1849320000000105
         },
         {
          "hour": 19,
          "resource": "_solar_photovoltaic",
          "value_sum": 0
         },
         {
          "hour": 20,
          "resource": "biomass",
          "value_sum": 21.4
         },
         {
          "hour": 20,
          "resource": "hydroelectric_pumped_storage",
          "value_sum": 42
         },
         {
          "hour": 20,
          "resource": "natural_gas_fired_combined_cycle",
          "value_sum": 1592.5
         },
         {
          "hour": 20,
          "resource": "natural_gas_fired_combustion_turbine",
          "value_sum": 774.9982679999998
         },
         {
          "hour": 20,
          "resource": "_onshore_wind_turbine",
          "value_sum": 71.9168
         },
         {
          "hour": 20,
          "resource": "_small_hydroelectric",
          "value_sum": 3.184932
         },
         {
          "hour": 20,
          "resource": "_solar_photovoltaic",
          "value_sum": 0
         },
         {
          "hour": 21,
          "resource": "biomass",
          "value_sum": 21.4
         },
         {
          "hour": 21,
          "resource": "hydroelectric_pumped_storage",
          "value_sum": 42
         },
         {
          "hour": 21,
          "resource": "natural_gas_fired_combined_cycle",
          "value_sum": 1592.5
         },
         {
          "hour": 21,
          "resource": "natural_gas_fired_combustion_turbine",
          "value_sum": 502.8664279999998
         },
         {
          "hour": 21,
          "resource": "_onshore_wind_turbine",
          "value_sum": 96.04864
         },
         {
          "hour": 21,
          "resource": "_small_hydroelectric",
          "value_sum": 3.184932
         },
         {
          "hour": 21,
          "resource": "_solar_photovoltaic",
          "value_sum": 0
         },
         {
          "hour": 22,
          "resource": "biomass",
          "value_sum": 21.4
         },
         {
          "hour": 22,
          "resource": "hydroelectric_pumped_storage",
          "value_sum": 42
         },
         {
          "hour": 22,
          "resource": "natural_gas_fired_combined_cycle",
          "value_sum": 1569.806448
         },
         {
          "hour": 22,
          "resource": "natural_gas_fired_combustion_turbine",
          "value_sum": 225.1395
         },
         {
          "hour": 22,
          "resource": "_onshore_wind_turbine",
          "value_sum": 126.46912
         },
         {
          "hour": 22,
          "resource": "_small_hydroelectric",
          "value_sum": 3.184932
         },
         {
          "hour": 22,
          "resource": "_solar_photovoltaic",
          "value_sum": 0
         },
         {
          "hour": 23,
          "resource": "biomass",
          "value_sum": 21.4
         },
         {
          "hour": 23,
          "resource": "hydroelectric_pumped_storage",
          "value_sum": 42
         },
         {
          "hour": 23,
          "resource": "natural_gas_fired_combined_cycle",
          "value_sum": 1429.910448
         },
         {
          "hour": 23,
          "resource": "natural_gas_fired_combustion_turbine",
          "value_sum": 119.08350000000002
         },
         {
          "hour": 23,
          "resource": "_onshore_wind_turbine",
          "value_sum": 144.42111999999997
         },
         {
          "hour": 23,
          "resource": "_small_hydroelectric",
          "value_sum": 3.184932
         },
         {
          "hour": 23,
          "resource": "_solar_photovoltaic",
          "value_sum": 0
         },
         {
          "hour": 0,
          "resource": "_solar_photovoltaic_btm",
          "value_sum": 0
         },
         {
          "hour": 1,
          "resource": "_solar_photovoltaic_btm",
          "value_sum": 0
         },
         {
          "hour": 2,
          "resource": "_solar_photovoltaic_btm",
          "value_sum": 0
         },
         {
          "hour": 3,
          "resource": "_solar_photovoltaic_btm",
          "value_sum": 0
         },
         {
          "hour": 4,
          "resource": "_solar_photovoltaic_btm",
          "value_sum": 0
         },
         {
          "hour": 5,
          "resource": "_solar_photovoltaic_btm",
          "value_sum": 0
         },
         {
          "hour": 6,
          "resource": "_solar_photovoltaic_btm",
          "value_sum": 33.18
         },
         {
          "hour": 7,
          "resource": "_solar_photovoltaic_btm",
          "value_sum": 132.66
         },
         {
          "hour": 8,
          "resource": "_solar_photovoltaic_btm",
          "value_sum": 286.56
         },
         {
          "hour": 9,
          "resource": "_solar_photovoltaic_btm",
          "value_sum": 345.42
         },
         {
          "hour": 10,
          "resource": "_solar_photovoltaic_btm",
          "value_sum": 362.34
         },
         {
          "hour": 11,
          "resource": "_solar_photovoltaic_btm",
          "value_sum": 368.34
         },
         {
          "hour": 12,
          "resource": "_solar_photovoltaic_btm",
          "value_sum": 386.76
         },
         {
          "hour": 13,
          "resource": "_solar_photovoltaic_btm",
          "value_sum": 387.29999999999995
         },
         {
          "hour": 14,
          "resource": "_solar_photovoltaic_btm",
          "value_sum": 374.46
         },
         {
          "hour": 15,
          "resource": "_solar_photovoltaic_btm",
          "value_sum": 341.7
         },
         {
          "hour": 16,
          "resource": "_solar_photovoltaic_btm",
          "value_sum": 280.68
         },
         {
          "hour": 17,
          "resource": "_solar_photovoltaic_btm",
          "value_sum": 194.16
         },
         {
          "hour": 18,
          "resource": "_solar_photovoltaic_btm",
          "value_sum": 28.62
         },
         {
          "hour": 19,
          "resource": "_solar_photovoltaic_btm",
          "value_sum": 0
         },
         {
          "hour": 20,
          "resource": "_solar_photovoltaic_btm",
          "value_sum": 0
         },
         {
          "hour": 21,
          "resource": "_solar_photovoltaic_btm",
          "value_sum": 0
         },
         {
          "hour": 22,
          "resource": "_solar_photovoltaic_btm",
          "value_sum": 0
         },
         {
          "hour": 23,
          "resource": "_solar_photovoltaic_btm",
          "value_sum": 0
         },
         {
          "hour": 0,
          "resource": "_curtailment",
          "value_sum": 0
         },
         {
          "hour": 1,
          "resource": "_curtailment",
          "value_sum": 0
         },
         {
          "hour": 2,
          "resource": "_curtailment",
          "value_sum": 0
         },
         {
          "hour": 3,
          "resource": "_curtailment",
          "value_sum": 1.0658141036401503e-14
         },
         {
          "hour": 4,
          "resource": "_curtailment",
          "value_sum": 0
         },
         {
          "hour": 5,
          "resource": "_curtailment",
          "value_sum": 0
         },
         {
          "hour": 6,
          "resource": "_curtailment",
          "value_sum": 0
         },
         {
          "hour": 7,
          "resource": "_curtailment",
          "value_sum": 0
         },
         {
          "hour": 8,
          "resource": "_curtailment",
          "value_sum": 2.2737367544323206e-13
         },
         {
          "hour": 9,
          "resource": "_curtailment",
          "value_sum": 0
         },
         {
          "hour": 10,
          "resource": "_curtailment",
          "value_sum": 0
         },
         {
          "hour": 11,
          "resource": "_curtailment",
          "value_sum": 0
         },
         {
          "hour": 12,
          "resource": "_curtailment",
          "value_sum": 166.568571999999
         },
         {
          "hour": 13,
          "resource": "_curtailment",
          "value_sum": 255.46761199999872
         },
         {
          "hour": 14,
          "resource": "_curtailment",
          "value_sum": 248.69625199999967
         },
         {
          "hour": 15,
          "resource": "_curtailment",
          "value_sum": 164.9856919999998
         },
         {
          "hour": 16,
          "resource": "_curtailment",
          "value_sum": 0
         },
         {
          "hour": 17,
          "resource": "_curtailment",
          "value_sum": 1.4210854715202004e-14
         },
         {
          "hour": 18,
          "resource": "_curtailment",
          "value_sum": 0
         },
         {
          "hour": 19,
          "resource": "_curtailment",
          "value_sum": -1.0658141036401503e-14
         },
         {
          "hour": 20,
          "resource": "_curtailment",
          "value_sum": 0
         },
         {
          "hour": 21,
          "resource": "_curtailment",
          "value_sum": 0
         },
         {
          "hour": 22,
          "resource": "_curtailment",
          "value_sum": 0
         },
         {
          "hour": 23,
          "resource": "_curtailment",
          "value_sum": 0
         }
        ]
       },
       "encoding": {
        "color": {
         "field": "resource",
         "scale": {
          "scheme": "category10"
         },
         "type": "nominal"
        },
        "x": {
         "field": "hour",
         "type": "quantitative"
        },
        "y": {
         "field": "value_sum",
         "stack": "zero",
         "type": "quantitative"
        }
       },
       "mark": "area"
      },
      "image/png": "[encoded data removed]",
      "image/svg+xml": [
       "<svg xmlns=\"http://www.w3.org/2000/svg\" xmlns:xlink=\"http://www.w3.org/1999/xlink\" version=\"1.1\" class=\"marks\" width=\"455\" height=\"242\" viewBox=\"0 0 455 242\"><rect width=\"455\" height=\"242\" fill=\"white\"/><g fill=\"none\" stroke-miterlimit=\"10\" transform=\"translate(56,5)\"><g class=\"mark-group role-frame root\" role=\"graphics-object\" aria-roledescription=\"group mark container\"><g transform=\"translate(0,0)\"><path class=\"background\" aria-hidden=\"true\" d=\"M0.5,0.5h200v200h-200Z\" stroke=\"#ddd\"/><g><g class=\"mark-group role-axis\" aria-hidden=\"true\"><g transform=\"translate(0.5,200.5)\"><path class=\"background\" aria-hidden=\"true\" d=\"M0,0h0v0h0Z\" pointer-events=\"none\"/><g><g class=\"mark-rule role-axis-grid\" pointer-events=\"none\"><line transform=\"translate(0,-200)\" x2=\"0\" y2=\"200\" stroke=\"#ddd\" stroke-width=\"1\" opacity=\"1\"/><line transform=\"translate(42,-200)\" x2=\"0\" y2=\"200\" stroke=\"#ddd\" stroke-width=\"1\" opacity=\"1\"/><line transform=\"translate(83,-200)\" x2=\"0\" y2=\"200\" stroke=\"#ddd\" stroke-width=\"1\" opacity=\"1\"/><line transform=\"translate(125,-200)\" x2=\"0\" y2=\"200\" stroke=\"#ddd\" stroke-width=\"1\" opacity=\"1\"/><line transform=\"translate(167,-200)\" x2=\"0\" y2=\"200\" stroke=\"#ddd\" stroke-width=\"1\" opacity=\"1\"/></g></g><path class=\"foreground\" aria-hidden=\"true\" d=\"\" pointer-events=\"none\" display=\"none\"/></g></g><g class=\"mark-group role-axis\" aria-hidden=\"true\"><g transform=\"translate(0.5,0.5)\"><path class=\"background\" aria-hidden=\"true\" d=\"M0,0h0v0h0Z\" pointer-events=\"none\"/><g><g class=\"mark-rule role-axis-grid\" pointer-events=\"none\"><line transform=\"translate(0,175)\" x2=\"200\" y2=\"0\" stroke=\"#ddd\" stroke-width=\"1\" opacity=\"1\"/><line transform=\"translate(0,125)\" x2=\"200\" y2=\"0\" stroke=\"#ddd\" stroke-width=\"1\" opacity=\"1\"/><line transform=\"translate(0,75)\" x2=\"200\" y2=\"0\" stroke=\"#ddd\" stroke-width=\"1\" opacity=\"1\"/><line transform=\"translate(0,25)\" x2=\"200\" y2=\"0\" stroke=\"#ddd\" stroke-width=\"1\" opacity=\"1\"/></g></g><path class=\"foreground\" aria-hidden=\"true\" d=\"\" pointer-events=\"none\" display=\"none\"/></g></g><g class=\"mark-group role-axis\" role=\"graphics-symbol\" aria-roledescription=\"axis\" aria-label=\"X-axis titled 'hour' for a linear scale with values from 0 to 24\"><g transform=\"translate(0.5,200.5)\"><path class=\"background\" aria-hidden=\"true\" d=\"M0,0h0v0h0Z\" pointer-events=\"none\"/><g><g class=\"mark-rule role-axis-tick\" pointer-events=\"none\"><line transform=\"translate(0,0)\" x2=\"0\" y2=\"5\" stroke=\"#888\" stroke-width=\"1\" opacity=\"1\"/><line transform=\"translate(42,0)\" x2=\"0\" y2=\"5\" stroke=\"#888\" stroke-width=\"1\" opacity=\"1\"/><line transform=\"translate(83,0)\" x2=\"0\" y2=\"5\" stroke=\"#888\" stroke-width=\"1\" opacity=\"1\"/><line transform=\"translate(125,0)\" x2=\"0\" y2=\"5\" stroke=\"#888\" stroke-width=\"1\" opacity=\"1\"/><line transform=\"translate(167,0)\" x2=\"0\" y2=\"5\" stroke=\"#888\" stroke-width=\"1\" opacity=\"1\"/></g><g class=\"mark-text role-axis-label\" pointer-events=\"none\"><text text-anchor=\"start\" transform=\"translate(0,15)\" font-family=\"sans-serif\" font-size=\"10px\" fill=\"#000\" opacity=\"1\">0</text><text text-anchor=\"middle\" transform=\"translate(41.66666666666667,15)\" font-family=\"sans-serif\" font-size=\"10px\" fill=\"#000\" opacity=\"1\">5</text><text text-anchor=\"middle\" transform=\"translate(83.33333333333334,15)\" font-family=\"sans-serif\" font-size=\"10px\" fill=\"#000\" opacity=\"1\">10</text><text text-anchor=\"middle\" transform=\"translate(125,15)\" font-family=\"sans-serif\" font-size=\"10px\" fill=\"#000\" opacity=\"1\">15</text><text text-anchor=\"middle\" transform=\"translate(166.66666666666669,15)\" font-family=\"sans-serif\" font-size=\"10px\" fill=\"#000\" opacity=\"1\">20</text></g><g class=\"mark-rule role-axis-domain\" pointer-events=\"none\"><line transform=\"translate(0,0)\" x2=\"200\" y2=\"0\" stroke=\"#888\" stroke-width=\"1\" opacity=\"1\"/></g><g class=\"mark-text role-axis-title\" pointer-events=\"none\"><text text-anchor=\"middle\" transform=\"translate(100,30)\" font-family=\"sans-serif\" font-size=\"11px\" font-weight=\"bold\" fill=\"#000\" opacity=\"1\">hour</text></g></g><path class=\"foreground\" aria-hidden=\"true\" d=\"\" pointer-events=\"none\" display=\"none\"/></g></g><g class=\"mark-group role-axis\" role=\"graphics-symbol\" aria-roledescription=\"axis\" aria-label=\"Y-axis titled 'value_sum' for a linear scale with values from −500 to 3,500\"><g transform=\"translate(0.5,0.5)\"><path class=\"background\" aria-hidden=\"true\" d=\"M0,0h0v0h0Z\" pointer-events=\"none\"/><g><g class=\"mark-rule role-axis-tick\" pointer-events=\"none\"><line transform=\"translate(0,175)\" x2=\"-5\" y2=\"0\" stroke=\"#888\" stroke-width=\"1\" opacity=\"1\"/><line transform=\"translate(0,125)\" x2=\"-5\" y2=\"0\" stroke=\"#888\" stroke-width=\"1\" opacity=\"1\"/><line transform=\"translate(0,75)\" x2=\"-5\" y2=\"0\" stroke=\"#888\" stroke-width=\"1\" opacity=\"1\"/><line transform=\"translate(0,25)\" x2=\"-5\" y2=\"0\" stroke=\"#888\" stroke-width=\"1\" opacity=\"1\"/></g><g class=\"mark-text role-axis-label\" pointer-events=\"none\"><text text-anchor=\"end\" transform=\"translate(-7,178)\" font-family=\"sans-serif\" font-size=\"10px\" fill=\"#000\" opacity=\"1\">0</text><text text-anchor=\"end\" transform=\"translate(-7,128)\" font-family=\"sans-serif\" font-size=\"10px\" fill=\"#000\" opacity=\"1\">1,000</text><text text-anchor=\"end\" transform=\"translate(-7,78)\" font-family=\"sans-serif\" font-size=\"10px\" fill=\"#000\" opacity=\"1\">2,000</text><text text-anchor=\"end\" transform=\"translate(-7,28)\" font-family=\"sans-serif\" font-size=\"10px\" fill=\"#000\" opacity=\"1\">3,000</text></g><g class=\"mark-rule role-axis-domain\" pointer-events=\"none\"><line transform=\"translate(0,200)\" x2=\"0\" y2=\"-200\" stroke=\"#888\" stroke-width=\"1\" opacity=\"1\"/></g><g class=\"mark-text role-axis-title\" pointer-events=\"none\"><text text-anchor=\"middle\" transform=\"translate(-39.6279296875,100) rotate(-90) translate(0,-2)\" font-family=\"sans-serif\" font-size=\"11px\" font-weight=\"bold\" fill=\"#000\" opacity=\"1\">value_sum</text></g></g><path class=\"foreground\" aria-hidden=\"true\" d=\"\" pointer-events=\"none\" display=\"none\"/></g></g><g class=\"mark-group role-scope pathgroup\" role=\"graphics-object\" aria-roledescription=\"group mark container\"><g transform=\"translate(0,0)\"><path class=\"background\" aria-hidden=\"true\" d=\"M0,0h200v200h-200Z\"/><g><g class=\"mark-area role-mark marks\" role=\"graphics-object\" aria-roledescription=\"area mark container\"><path aria-label=\"hour: 0; value_sum: 21.4; resource: biomass\" role=\"graphics-symbol\" aria-roledescription=\"area mark\" d=\"M0,102.575L8.333,105.999L16.667,105.015L25,102.087L33.333,92.538L41.667,83.318L50,74.846L58.333,86.47L66.667,125.207L75,131.335L83.333,130.151L91.667,139.047L100,145.09L108.333,145.283L116.667,145.503L125,145.743L133.333,138.784L141.667,117.02L150,67.238L158.333,53.181L166.667,53.455L175,67.062L183.333,82.083L191.667,94.38L191.667,95.45L183.333,83.153L175,68.132L166.667,54.525L158.333,54.251L150,68.308L141.667,118.09L133.333,139.854L125,145.743L116.667,145.503L108.333,145.283L100,145.09L91.667,140.117L83.333,131.221L75,132.405L66.667,126.277L58.333,87.54L50,75.916L41.667,84.388L33.333,93.608L25,103.157L16.667,106.085L8.333,107.069L0,103.645Z\" fill=\"#8c564b\"/></g></g><path class=\"foreground\" aria-hidden=\"true\" d=\"\" display=\"none\"/></g><g transform=\"translate(0,0)\"><path class=\"background\" aria-hidden=\"true\" d=\"M0,0h200v200h-200Z\"/><g><g class=\"mark-area role-mark marks\" role=\"graphics-object\" aria-roledescription=\"area mark container\"><path aria-label=\"hour: 0; value_sum: 42; resource: hydroelectric_pumped_storage\" role=\"graphics-symbol\" aria-roledescription=\"area mark\" d=\"M0,103.645L8.333,107.069L16.667,106.085L25,103.157L33.333,93.608L41.667,84.388L50,75.916L58.333,87.54L66.667,126.277L75,132.405L83.333,131.221L91.667,140.117L100,145.09L108.333,145.283L116.667,145.503L125,145.743L133.333,139.854L141.667,118.09L150,68.308L158.333,54.251L166.667,54.525L175,68.132L183.333,83.153L191.667,95.45L191.667,97.55L183.333,85.253L175,70.232L166.667,56.625L158.333,56.351L150,70.408L141.667,120.19L133.333,141.954L125,145.743L116.667,145.503L108.333,145.283L100,145.09L91.667,142.217L83.333,133.321L75,134.505L66.667,128.377L58.333,89.64L50,78.016L41.667,86.488L33.333,95.708L25,105.257L16.667,108.185L8.333,109.169L0,105.745Z\" fill=\"#e377c2\"/></g></g><path class=\"foreground\" aria-hidden=\"true\" d=\"\" display=\"none\"/></g><g transform=\"translate(0,0)\"><path class=\"background\" aria-hidden=\"true\" d=\"M0,0h200v200h-200Z\"/><g><g class=\"mark-area role-mark marks\" role=\"graphics-object\" aria-roledescription=\"area mark container\"><path aria-label=\"hour: 0; value_sum: 1231.652768; resource: natural_gas_fired_combined_cycle\" role=\"graphics-symbol\" aria-roledescription=\"area mark\" d=\"M0,105.745L8.333,109.169L16.667,108.185L25,105.257L33.333,95.708L41.667,86.488L50,78.016L58.333,89.64L66.667,128.377L75,134.505L83.333,133.321L91.667,142.217L100,145.09L108.333,145.283L116.667,145.503L125,145.743L133.333,141.954L141.667,120.19L150,70.408L158.333,56.351L166.667,56.625L175,70.232L183.333,85.253L191.667,97.55L191.667,169.046L183.333,163.743L175,149.857L166.667,136.25L158.333,135.976L150,150.033L141.667,175L133.333,175L125,175L116.667,175L108.333,175L100,175L91.667,175L83.333,173.951L75,173.951L66.667,172.336L58.333,170.715L50,167.327L41.667,167.327L33.333,167.327L25,167.327L16.667,167.327L8.333,167.327L0,167.327Z\" fill=\"#7f7f7f\"/></g></g><path class=\"foreground\" aria-hidden=\"true\" d=\"\" display=\"none\"/></g><g transform=\"translate(0,0)\"><path class=\"background\" aria-hidden=\"true\" d=\"M0,0h200v200h-200Z\"/><g><g class=\"mark-area role-mark marks\" role=\"graphics-object\" aria-roledescription=\"area mark container\"><path aria-label=\"hour: 0; value_sum: 153.4535; resource: natural_gas_fired_combustion_turbine\" role=\"graphics-symbol\" aria-roledescription=\"area mark\" d=\"M0,167.327L8.333,167.327L16.667,167.327L25,167.327L33.333,167.327L41.667,167.327L50,167.327L58.333,170.715L66.667,172.336L75,173.951L83.333,173.951L91.667,175L100,175L108.333,175L116.667,175L125,175L133.333,175L141.667,175L150,150.033L158.333,135.976L166.667,136.25L175,149.857L183.333,163.743L191.667,169.046L191.667,175L183.333,175L175,175L166.667,175L158.333,175L150,175L141.667,175L133.333,175L125,175L116.667,175L108.333,175L100,175L91.667,175L83.333,175L75,175L66.667,175L58.333,175L50,175L41.667,175L33.333,175L25,175L16.667,175L8.333,175L0,175Z\" fill=\"#bcbd22\"/></g></g><path class=\"foreground\" aria-hidden=\"true\" d=\"\" display=\"none\"/></g><g transform=\"translate(0,0)\"><path class=\"background\" aria-hidden=\"true\" d=\"M0,0h200v200h-200Z\"/><g><g class=\"mark-area role-mark marks\" role=\"graphics-object\" aria-roledescription=\"area mark container\"><path aria-label=\"hour: 0; value_sum: 163.3088; resource: _onshore_wind_turbine\" role=\"graphics-symbol\" aria-roledescription=\"area mark\" d=\"M0,94.25L8.333,97.35L16.667,99.1L25,96.9L33.333,88.35L41.667,76.2L50,59.641L58.333,38.517L66.667,18.772L75,6.579L83.333,0.633L91.667,8.433L100,18.512L108.333,22.335L116.667,27.377L125,33.815L133.333,39.866L141.667,46.592L150,54.669L158.333,49.95L166.667,49.7L175,62.1L183.333,75.6L191.667,87L191.667,94.221L183.333,81.923L175,66.902L166.667,53.296L158.333,53.021L150,57.3L141.667,50.523L133.333,42.725L125,33.815L116.667,27.377L108.333,22.335L100,18.512L91.667,13.039L83.333,6.193L75,13.157L66.667,27.14L58.333,40.986L50,63.35L41.667,83.159L33.333,92.379L25,101.928L16.667,104.856L8.333,105.84L0,102.415Z\" fill=\"#ff7f0e\"/></g></g><path class=\"foreground\" aria-hidden=\"true\" d=\"\" display=\"none\"/></g><g transform=\"translate(0,0)\"><path class=\"background\" aria-hidden=\"true\" d=\"M0,0h200v200h-200Z\"/><g><g class=\"mark-area role-mark marks\" role=\"graphics-object\" aria-roledescription=\"area mark container\"><path aria-label=\"hour: 0; value_sum: 3.184932; resource: _small_hydroelectric\" role=\"graphics-symbol\" aria-roledescription=\"area mark\" d=\"M0,102.415L8.333,105.84L16.667,104.856L25,101.928L33.333,92.379L41.667,83.159L50,63.35L58.333,40.986L66.667,27.14L75,13.157L83.333,6.193L91.667,13.039L100,18.512L108.333,22.335L116.667,27.377L125,33.815L133.333,42.725L141.667,50.523L150,57.3L158.333,53.021L166.667,53.296L175,66.902L183.333,81.923L191.667,94.221L191.667,94.38L183.333,82.083L175,67.062L166.667,53.455L158.333,53.181L150,57.459L141.667,50.682L133.333,42.885L125,33.815L116.667,27.377L108.333,22.335L100,18.512L91.667,13.198L83.333,6.352L75,13.316L66.667,27.299L58.333,41.145L50,63.509L41.667,83.318L33.333,92.538L25,102.087L16.667,105.015L8.333,105.999L0,102.575Z\" fill=\"#2ca02c\"/></g></g><path class=\"foreground\" aria-hidden=\"true\" d=\"\" display=\"none\"/></g><g transform=\"translate(0,0)\"><path class=\"background\" aria-hidden=\"true\" d=\"M0,0h200v200h-200Z\"/><g><g class=\"mark-area role-mark marks\" role=\"graphics-object\" aria-roledescription=\"area mark container\"><path aria-label=\"hour: 0; value_sum: 0; resource: _solar_photovoltaic\" role=\"graphics-symbol\" aria-roledescription=\"area mark\" d=\"M0,102.575L8.333,105.999L16.667,105.015L25,102.087L33.333,92.538L41.667,83.318L50,63.509L58.333,41.145L66.667,27.299L75,13.316L83.333,6.352L91.667,13.198L100,18.512L108.333,22.335L116.667,27.377L125,33.815L133.333,42.885L141.667,50.682L150,57.459L158.333,53.181L166.667,53.455L175,67.062L183.333,82.083L191.667,94.38L191.667,94.38L183.333,82.083L175,67.062L166.667,53.455L158.333,53.181L150,65.807L141.667,107.312L133.333,124.75L125,128.658L116.667,126.78L108.333,125.918L100,125.752L91.667,120.63L83.333,112.034L75,114.064L66.667,110.879L58.333,79.837L50,73.187L41.667,83.318L33.333,92.538L25,102.087L16.667,105.015L8.333,105.999L0,102.575Z\" fill=\"#d62728\"/></g></g><path class=\"foreground\" aria-hidden=\"true\" d=\"\" display=\"none\"/></g><g transform=\"translate(0,0)\"><path class=\"background\" aria-hidden=\"true\" d=\"M0,0h200v200h-200Z\"/><g><g class=\"mark-area role-mark marks\" role=\"graphics-object\" aria-roledescription=\"area mark container\"><path aria-label=\"hour: 0; value_sum: 0; resource: _solar_photovoltaic_btm\" role=\"graphics-symbol\" aria-roledescription=\"area mark\" d=\"M0,102.575L8.333,105.999L16.667,105.015L25,102.087L33.333,92.538L41.667,83.318L50,73.187L58.333,79.837L66.667,110.879L75,114.064L83.333,112.034L91.667,120.63L100,125.752L108.333,125.918L116.667,126.78L125,128.658L133.333,124.75L141.667,107.312L150,65.807L158.333,53.181L166.667,53.455L175,67.062L183.333,82.083L191.667,94.38L191.667,94.38L183.333,82.083L175,67.062L166.667,53.455L158.333,53.181L150,67.238L141.667,117.02L133.333,138.784L125,145.743L116.667,145.503L108.333,145.283L100,145.09L91.667,139.047L83.333,130.151L75,131.335L66.667,125.207L58.333,86.47L50,74.846L41.667,83.318L33.333,92.538L25,102.087L16.667,105.015L8.333,105.999L0,102.575Z\" fill=\"#9467bd\"/></g></g><path class=\"foreground\" aria-hidden=\"true\" d=\"\" display=\"none\"/></g><g transform=\"translate(0,0)\"><path class=\"background\" aria-hidden=\"true\" d=\"M0,0h200v200h-200Z\"/><g><g class=\"mark-area role-mark marks\" role=\"graphics-object\" aria-roledescription=\"area mark container\"><path aria-label=\"hour: 0; value_sum: 0; resource: _curtailment\" role=\"graphics-symbol\" aria-roledescription=\"area mark\" d=\"M0,94.25L8.333,97.35L16.667,99.1L25,96.9L33.333,88.35L41.667,76.2L50,59.641L58.333,38.517L66.667,18.772L75,6.579L83.333,0.633L91.667,8.433L100,10.184L108.333,9.562L116.667,14.942L125,25.566L133.333,39.866L141.667,46.592L150,54.669L158.333,175L166.667,49.7L175,62.1L183.333,75.6L191.667,87L191.667,87L183.333,75.6L175,62.1L166.667,49.7L158.333,175L150,54.669L141.667,46.592L133.333,39.866L125,33.815L116.667,27.377L108.333,22.335L100,18.512L91.667,8.433L83.333,0.633L75,6.579L66.667,18.772L58.333,38.517L50,59.641L41.667,76.2L33.333,88.35L25,96.9L16.667,99.1L8.333,97.35L0,94.25Z\" fill=\"#1f77b4\"/></g></g><path class=\"foreground\" aria-hidden=\"true\" d=\"\" display=\"none\"/></g></g><g class=\"mark-group role-legend\" role=\"graphics-symbol\" aria-roledescription=\"legend\" aria-label=\"Symbol legend titled 'resource' for fill color with 9 values: _curtailment, _onshore_wind_turbine, _small_hydroelectric, _solar_photovoltaic, _solar_photovoltaic_btm, ending with natural_gas_fired_combustion_turbine\"><g transform=\"translate(218,0)\"><path class=\"background\" aria-hidden=\"true\" d=\"M0,0h176v131h-176Z\" pointer-events=\"none\"/><g><g class=\"mark-group role-legend-entry\"><g transform=\"translate(0,16)\"><path class=\"background\" aria-hidden=\"true\" d=\"M0,0h0v0h0Z\" pointer-events=\"none\"/><g><g class=\"mark-group role-scope\" role=\"graphics-object\" aria-roledescription=\"group mark container\"><g transform=\"translate(0,0)\"><path class=\"background\" aria-hidden=\"true\" d=\"M0,0h175.5263671875v11h-175.5263671875Z\" pointer-events=\"none\" opacity=\"1\"/><g><g class=\"mark-symbol role-legend-symbol\" pointer-events=\"none\"><path transform=\"translate(6,6)\" d=\"M5,0A5,5,0,1,1,-5,0A5,5,0,1,1,5,0\" fill=\"#1f77b4\" stroke-width=\"1.5\" opacity=\"1\"/></g><g class=\"mark-text role-legend-label\" pointer-events=\"none\"><text text-anchor=\"start\" transform=\"translate(16,9)\" font-family=\"sans-serif\" font-size=\"10px\" fill=\"#000\" opacity=\"1\">_curtailment</text></g></g><path class=\"foreground\" aria-hidden=\"true\" d=\"\" pointer-events=\"none\" display=\"none\"/></g><g transform=\"translate(0,13)\"><path class=\"background\" aria-hidden=\"true\" d=\"M0,0h175.5263671875v11h-175.5263671875Z\" pointer-events=\"none\" opacity=\"1\"/><g><g class=\"mark-symbol role-legend-symbol\" pointer-events=\"none\"><path transform=\"translate(6,6)\" d=\"M5,0A5,5,0,1,1,-5,0A5,5,0,1,1,5,0\" fill=\"#ff7f0e\" stroke-width=\"1.5\" opacity=\"1\"/></g><g class=\"mark-text role-legend-label\" pointer-events=\"none\"><text text-anchor=\"start\" transform=\"translate(16,9)\" font-family=\"sans-serif\" font-size=\"10px\" fill=\"#000\" opacity=\"1\">_onshore_wind_turbine</text></g></g><path class=\"foreground\" aria-hidden=\"true\" d=\"\" pointer-events=\"none\" display=\"none\"/></g><g transform=\"translate(0,26)\"><path class=\"background\" aria-hidden=\"true\" d=\"M0,0h175.5263671875v11h-175.5263671875Z\" pointer-events=\"none\" opacity=\"1\"/><g><g class=\"mark-symbol role-legend-symbol\" pointer-events=\"none\"><path transform=\"translate(6,6)\" d=\"M5,0A5,5,0,1,1,-5,0A5,5,0,1,1,5,0\" fill=\"#2ca02c\" stroke-width=\"1.5\" opacity=\"1\"/></g><g class=\"mark-text role-legend-label\" pointer-events=\"none\"><text text-anchor=\"start\" transform=\"translate(16,9)\" font-family=\"sans-serif\" font-size=\"10px\" fill=\"#000\" opacity=\"1\">_small_hydroelectric</text></g></g><path class=\"foreground\" aria-hidden=\"true\" d=\"\" pointer-events=\"none\" display=\"none\"/></g><g transform=\"translate(0,39)\"><path class=\"background\" aria-hidden=\"true\" d=\"M0,0h175.5263671875v11h-175.5263671875Z\" pointer-events=\"none\" opacity=\"1\"/><g><g class=\"mark-symbol role-legend-symbol\" pointer-events=\"none\"><path transform=\"translate(6,6)\" d=\"M5,0A5,5,0,1,1,-5,0A5,5,0,1,1,5,0\" fill=\"#d62728\" stroke-width=\"1.5\" opacity=\"1\"/></g><g class=\"mark-text role-legend-label\" pointer-events=\"none\"><text text-anchor=\"start\" transform=\"translate(16,9)\" font-family=\"sans-serif\" font-size=\"10px\" fill=\"#000\" opacity=\"1\">_solar_photovoltaic</text></g></g><path class=\"foreground\" aria-hidden=\"true\" d=\"\" pointer-events=\"none\" display=\"none\"/></g><g transform=\"translate(0,52)\"><path class=\"background\" aria-hidden=\"true\" d=\"M0,0h175.5263671875v11h-175.5263671875Z\" pointer-events=\"none\" opacity=\"1\"/><g><g class=\"mark-symbol role-legend-symbol\" pointer-events=\"none\"><path transform=\"translate(6,6)\" d=\"M5,0A5,5,0,1,1,-5,0A5,5,0,1,1,5,0\" fill=\"#9467bd\" stroke-width=\"1.5\" opacity=\"1\"/></g><g class=\"mark-text role-legend-label\" pointer-events=\"none\"><text text-anchor=\"start\" transform=\"translate(16,9)\" font-family=\"sans-serif\" font-size=\"10px\" fill=\"#000\" opacity=\"1\">_solar_photovoltaic_btm</text></g></g><path class=\"foreground\" aria-hidden=\"true\" d=\"\" pointer-events=\"none\" display=\"none\"/></g><g transform=\"translate(0,65)\"><path class=\"background\" aria-hidden=\"true\" d=\"M0,0h175.5263671875v11h-175.5263671875Z\" pointer-events=\"none\" opacity=\"1\"/><g><g class=\"mark-symbol role-legend-symbol\" pointer-events=\"none\"><path transform=\"translate(6,6)\" d=\"M5,0A5,5,0,1,1,-5,0A5,5,0,1,1,5,0\" fill=\"#8c564b\" stroke-width=\"1.5\" opacity=\"1\"/></g><g class=\"mark-text role-legend-label\" pointer-events=\"none\"><text text-anchor=\"start\" transform=\"translate(16,9)\" font-family=\"sans-serif\" font-size=\"10px\" fill=\"#000\" opacity=\"1\">biomass</text></g></g><path class=\"foreground\" aria-hidden=\"true\" d=\"\" pointer-events=\"none\" display=\"none\"/></g><g transform=\"translate(0,78)\"><path class=\"background\" aria-hidden=\"true\" d=\"M0,0h175.5263671875v11h-175.5263671875Z\" pointer-events=\"none\" opacity=\"1\"/><g><g class=\"mark-symbol role-legend-symbol\" pointer-events=\"none\"><path transform=\"translate(6,6)\" d=\"M5,0A5,5,0,1,1,-5,0A5,5,0,1,1,5,0\" fill=\"#e377c2\" stroke-width=\"1.5\" opacity=\"1\"/></g><g class=\"mark-text role-legend-label\" pointer-events=\"none\"><text text-anchor=\"start\" transform=\"translate(16,9)\" font-family=\"sans-serif\" font-size=\"10px\" fill=\"#000\" opacity=\"1\">hydroelectric_pumped_storage</text></g></g><path class=\"foreground\" aria-hidden=\"true\" d=\"\" pointer-events=\"none\" display=\"none\"/></g><g transform=\"translate(0,91)\"><path class=\"background\" aria-hidden=\"true\" d=\"M0,0h175.5263671875v11h-175.5263671875Z\" pointer-events=\"none\" opacity=\"1\"/><g><g class=\"mark-symbol role-legend-symbol\" pointer-events=\"none\"><path transform=\"translate(6,6)\" d=\"M5,0A5,5,0,1,1,-5,0A5,5,0,1,1,5,0\" fill=\"#7f7f7f\" stroke-width=\"1.5\" opacity=\"1\"/></g><g class=\"mark-text role-legend-label\" pointer-events=\"none\"><text text-anchor=\"start\" transform=\"translate(16,9)\" font-family=\"sans-serif\" font-size=\"10px\" fill=\"#000\" opacity=\"1\">natural_gas_fired_combined_…</text></g></g><path class=\"foreground\" aria-hidden=\"true\" d=\"\" pointer-events=\"none\" display=\"none\"/></g><g transform=\"translate(0,104)\"><path class=\"background\" aria-hidden=\"true\" d=\"M0,0h175.5263671875v11h-175.5263671875Z\" pointer-events=\"none\" opacity=\"1\"/><g><g class=\"mark-symbol role-legend-symbol\" pointer-events=\"none\"><path transform=\"translate(6,6)\" d=\"M5,0A5,5,0,1,1,-5,0A5,5,0,1,1,5,0\" fill=\"#bcbd22\" stroke-width=\"1.5\" opacity=\"1\"/></g><g class=\"mark-text role-legend-label\" pointer-events=\"none\"><text text-anchor=\"start\" transform=\"translate(16,9)\" font-family=\"sans-serif\" font-size=\"10px\" fill=\"#000\" opacity=\"1\">natural_gas_fired_combustion…</text></g></g><path class=\"foreground\" aria-hidden=\"true\" d=\"\" pointer-events=\"none\" display=\"none\"/></g></g></g><path class=\"foreground\" aria-hidden=\"true\" d=\"\" pointer-events=\"none\" display=\"none\"/></g></g><g class=\"mark-text role-legend-title\" pointer-events=\"none\"><text text-anchor=\"start\" transform=\"translate(0,9)\" font-family=\"sans-serif\" font-size=\"11px\" font-weight=\"bold\" fill=\"#000\" opacity=\"1\">resource</text></g></g><path class=\"foreground\" aria-hidden=\"true\" d=\"\" pointer-events=\"none\" display=\"none\"/></g></g></g><path class=\"foreground\" aria-hidden=\"true\" d=\"\" display=\"none\"/></g></g></g></svg>"
      ],
      "text/plain": [
       "@vlplot(\n",
       "    mark=\"area\",\n",
       "    encoding={\n",
       "        x={\n",
       "            field=\"hour\"\n",
       "        },\n",
       "        y={\n",
       "            stack=\"zero\",\n",
       "            field=\"value_sum\"\n",
       "        },\n",
       "        color={\n",
       "            scale={\n",
       "                scheme=\"category10\"\n",
       "            },\n",
       "            field=\"resource\",\n",
       "            type=\"nominal\"\n",
       "        }\n",
       "    },\n",
       "    data={\n",
       "        values=...\n",
       "    }\n",
       ")"
      ]
     },
     "metadata": {},
     "output_type": "display_data"
    }
   ],
   "source": [
    "solution = solve_unit_commitment(\n",
    "    gen_df_sens,\n",
    "    loads_multi,\n",
    "    gen_variable_multi,\n",
    "    0.001,\n",
    "    ramp_constraints = true,\n",
    "    reserve = reserve)\n",
    "sol_gen = innerjoin(solution.gen, \n",
    "                    gen_df[!, [:r_id, :resource]], \n",
    "                    on = :r_id)\n",
    "sol_gen = combine(groupby(sol_gen, [:resource, :hour]), \n",
    "            :value => sum)\n",
    "\n",
    "# Rename generators (for plotting purposes)\n",
    "sol_gen[sol_gen.resource .== \"solar_photovoltaic\", :resource] .= \"_solar_photovoltaic\"\n",
    "sol_gen[sol_gen.resource .== \"onshore_wind_turbine\", :resource] .= \"_onshore_wind_turbine\"\n",
    "sol_gen[sol_gen.resource .== \"small_hydroelectric\", :resource] .= \"_small_hydroelectric\"\n",
    "\n",
    "# BTM solar\n",
    "btm = DataFrame(resource = repeat([\"_solar_photovoltaic_btm\"]; outer=length(T_period)), \n",
    "    hour = T_period,\n",
    "    value_sum = gen_variable_multi[gen_variable_multi.gen_full .== \"wec_sdge_solar_photovoltaic_1.0\",:cf] * 600)\n",
    "append!(sol_gen, btm)\n",
    "\n",
    "# Curtailment\n",
    "curtail = combine(groupby(solution.curtail, [:hour]),\n",
    "            :value => sum)\n",
    "curtail[!, :resource] .= \"_curtailment\"\n",
    "# rename!(curtail, :curt_sum => :value_sum)\n",
    "append!(sol_gen, curtail[:,[:resource, :hour, :value_sum]])\n",
    "\n",
    "# Rescale hours\n",
    "sol_gen.hour = sol_gen.hour .- T_period[1]\n",
    "\n",
    "sol_gen |>\n",
    "@vlplot(:area, \n",
    "    x=:hour, y={:value_sum, stack=:zero}, \n",
    "    color={\"resource:n\", scale={scheme=\"category10\"}})"
   ]
  },
  {
   "cell_type": "code",
   "execution_count": 60,
   "metadata": {},
   "outputs": [
    {
     "data": {
      "application/vnd.vegalite.v5+json": {
       "data": {
        "values": [
         {
          "hour": 0,
          "resource": "natural_gas_fired_combined_cycle",
          "value_sum": 6
         },
         {
          "hour": 0,
          "resource": "natural_gas_fired_combustion_turbine",
          "value_sum": 5
         },
         {
          "hour": 1,
          "resource": "natural_gas_fired_combined_cycle",
          "value_sum": 6
         },
         {
          "hour": 1,
          "resource": "natural_gas_fired_combustion_turbine",
          "value_sum": 5
         },
         {
          "hour": 2,
          "resource": "natural_gas_fired_combined_cycle",
          "value_sum": 6
         },
         {
          "hour": 2,
          "resource": "natural_gas_fired_combustion_turbine",
          "value_sum": 5
         },
         {
          "hour": 3,
          "resource": "natural_gas_fired_combined_cycle",
          "value_sum": 6
         },
         {
          "hour": 3,
          "resource": "natural_gas_fired_combustion_turbine",
          "value_sum": 5
         },
         {
          "hour": 4,
          "resource": "natural_gas_fired_combined_cycle",
          "value_sum": 6
         },
         {
          "hour": 4,
          "resource": "natural_gas_fired_combustion_turbine",
          "value_sum": 5
         },
         {
          "hour": 5,
          "resource": "natural_gas_fired_combined_cycle",
          "value_sum": 6
         },
         {
          "hour": 5,
          "resource": "natural_gas_fired_combustion_turbine",
          "value_sum": 5
         },
         {
          "hour": 6,
          "resource": "natural_gas_fired_combined_cycle",
          "value_sum": 6
         },
         {
          "hour": 6,
          "resource": "natural_gas_fired_combustion_turbine",
          "value_sum": 5
         },
         {
          "hour": 7,
          "resource": "natural_gas_fired_combined_cycle",
          "value_sum": 6
         },
         {
          "hour": 7,
          "resource": "natural_gas_fired_combustion_turbine",
          "value_sum": 3
         },
         {
          "hour": 8,
          "resource": "natural_gas_fired_combined_cycle",
          "value_sum": 4
         },
         {
          "hour": 8,
          "resource": "natural_gas_fired_combustion_turbine",
          "value_sum": 2
         },
         {
          "hour": 9,
          "resource": "natural_gas_fired_combined_cycle",
          "value_sum": 4
         },
         {
          "hour": 9,
          "resource": "natural_gas_fired_combustion_turbine",
          "value_sum": 1
         },
         {
          "hour": 10,
          "resource": "natural_gas_fired_combined_cycle",
          "value_sum": 4
         },
         {
          "hour": 10,
          "resource": "natural_gas_fired_combustion_turbine",
          "value_sum": 1
         },
         {
          "hour": 11,
          "resource": "natural_gas_fired_combined_cycle",
          "value_sum": 4
         },
         {
          "hour": 11,
          "resource": "natural_gas_fired_combustion_turbine",
          "value_sum": 0
         },
         {
          "hour": 12,
          "resource": "natural_gas_fired_combined_cycle",
          "value_sum": 4
         },
         {
          "hour": 12,
          "resource": "natural_gas_fired_combustion_turbine",
          "value_sum": 0
         },
         {
          "hour": 13,
          "resource": "natural_gas_fired_combined_cycle",
          "value_sum": 4
         },
         {
          "hour": 13,
          "resource": "natural_gas_fired_combustion_turbine",
          "value_sum": 0
         },
         {
          "hour": 14,
          "resource": "natural_gas_fired_combined_cycle",
          "value_sum": 4
         },
         {
          "hour": 14,
          "resource": "natural_gas_fired_combustion_turbine",
          "value_sum": 0
         },
         {
          "hour": 15,
          "resource": "natural_gas_fired_combined_cycle",
          "value_sum": 4
         },
         {
          "hour": 15,
          "resource": "natural_gas_fired_combustion_turbine",
          "value_sum": 0
         },
         {
          "hour": 16,
          "resource": "natural_gas_fired_combined_cycle",
          "value_sum": 4
         },
         {
          "hour": 16,
          "resource": "natural_gas_fired_combustion_turbine",
          "value_sum": 0
         },
         {
          "hour": 17,
          "resource": "natural_gas_fired_combined_cycle",
          "value_sum": 5
         },
         {
          "hour": 17,
          "resource": "natural_gas_fired_combustion_turbine",
          "value_sum": 0
         },
         {
          "hour": 18,
          "resource": "natural_gas_fired_combined_cycle",
          "value_sum": 5
         },
         {
          "hour": 18,
          "resource": "natural_gas_fired_combustion_turbine",
          "value_sum": 10
         },
         {
          "hour": 19,
          "resource": "natural_gas_fired_combined_cycle",
          "value_sum": 5
         },
         {
          "hour": 19,
          "resource": "natural_gas_fired_combustion_turbine",
          "value_sum": 15
         },
         {
          "hour": 20,
          "resource": "natural_gas_fired_combined_cycle",
          "value_sum": 5
         },
         {
          "hour": 20,
          "resource": "natural_gas_fired_combustion_turbine",
          "value_sum": 15
         },
         {
          "hour": 21,
          "resource": "natural_gas_fired_combined_cycle",
          "value_sum": 5
         },
         {
          "hour": 21,
          "resource": "natural_gas_fired_combustion_turbine",
          "value_sum": 11
         },
         {
          "hour": 22,
          "resource": "natural_gas_fired_combined_cycle",
          "value_sum": 5
         },
         {
          "hour": 22,
          "resource": "natural_gas_fired_combustion_turbine",
          "value_sum": 7
         },
         {
          "hour": 23,
          "resource": "natural_gas_fired_combined_cycle",
          "value_sum": 5
         },
         {
          "hour": 23,
          "resource": "natural_gas_fired_combustion_turbine",
          "value_sum": 4
         }
        ]
       },
       "encoding": {
        "color": {
         "field": "resource",
         "scale": {
          "scheme": "category10"
         },
         "type": "nominal"
        },
        "x": {
         "field": "hour",
         "type": "quantitative"
        },
        "y": {
         "field": "value_sum",
         "stack": "zero",
         "type": "quantitative"
        }
       },
       "mark": "area"
      },
      "image/png": "[encoded data removed]",
      "image/svg+xml": [
       "<svg xmlns=\"http://www.w3.org/2000/svg\" xmlns:xlink=\"http://www.w3.org/1999/xlink\" version=\"1.1\" class=\"marks\" width=\"439\" height=\"247\" viewBox=\"0 0 439 247\"><rect width=\"439\" height=\"247\" fill=\"white\"/><g fill=\"none\" stroke-miterlimit=\"10\" transform=\"translate(40,10)\"><g class=\"mark-group role-frame root\" role=\"graphics-object\" aria-roledescription=\"group mark container\"><g transform=\"translate(0,0)\"><path class=\"background\" aria-hidden=\"true\" d=\"M0.5,0.5h200v200h-200Z\" stroke=\"#ddd\"/><g><g class=\"mark-group role-axis\" aria-hidden=\"true\"><g transform=\"translate(0.5,200.5)\"><path class=\"background\" aria-hidden=\"true\" d=\"M0,0h0v0h0Z\" pointer-events=\"none\"/><g><g class=\"mark-rule role-axis-grid\" pointer-events=\"none\"><line transform=\"translate(0,-200)\" x2=\"0\" y2=\"200\" stroke=\"#ddd\" stroke-width=\"1\" opacity=\"1\"/><line transform=\"translate(42,-200)\" x2=\"0\" y2=\"200\" stroke=\"#ddd\" stroke-width=\"1\" opacity=\"1\"/><line transform=\"translate(83,-200)\" x2=\"0\" y2=\"200\" stroke=\"#ddd\" stroke-width=\"1\" opacity=\"1\"/><line transform=\"translate(125,-200)\" x2=\"0\" y2=\"200\" stroke=\"#ddd\" stroke-width=\"1\" opacity=\"1\"/><line transform=\"translate(167,-200)\" x2=\"0\" y2=\"200\" stroke=\"#ddd\" stroke-width=\"1\" opacity=\"1\"/></g></g><path class=\"foreground\" aria-hidden=\"true\" d=\"\" pointer-events=\"none\" display=\"none\"/></g></g><g class=\"mark-group role-axis\" aria-hidden=\"true\"><g transform=\"translate(0.5,0.5)\"><path class=\"background\" aria-hidden=\"true\" d=\"M0,0h0v0h0Z\" pointer-events=\"none\"/><g><g class=\"mark-rule role-axis-grid\" pointer-events=\"none\"><line transform=\"translate(0,200)\" x2=\"200\" y2=\"0\" stroke=\"#ddd\" stroke-width=\"1\" opacity=\"1\"/><line transform=\"translate(0,150)\" x2=\"200\" y2=\"0\" stroke=\"#ddd\" stroke-width=\"1\" opacity=\"1\"/><line transform=\"translate(0,100)\" x2=\"200\" y2=\"0\" stroke=\"#ddd\" stroke-width=\"1\" opacity=\"1\"/><line transform=\"translate(0,50)\" x2=\"200\" y2=\"0\" stroke=\"#ddd\" stroke-width=\"1\" opacity=\"1\"/><line transform=\"translate(0,0)\" x2=\"200\" y2=\"0\" stroke=\"#ddd\" stroke-width=\"1\" opacity=\"1\"/></g></g><path class=\"foreground\" aria-hidden=\"true\" d=\"\" pointer-events=\"none\" display=\"none\"/></g></g><g class=\"mark-group role-axis\" role=\"graphics-symbol\" aria-roledescription=\"axis\" aria-label=\"X-axis titled 'hour' for a linear scale with values from 0 to 24\"><g transform=\"translate(0.5,200.5)\"><path class=\"background\" aria-hidden=\"true\" d=\"M0,0h0v0h0Z\" pointer-events=\"none\"/><g><g class=\"mark-rule role-axis-tick\" pointer-events=\"none\"><line transform=\"translate(0,0)\" x2=\"0\" y2=\"5\" stroke=\"#888\" stroke-width=\"1\" opacity=\"1\"/><line transform=\"translate(42,0)\" x2=\"0\" y2=\"5\" stroke=\"#888\" stroke-width=\"1\" opacity=\"1\"/><line transform=\"translate(83,0)\" x2=\"0\" y2=\"5\" stroke=\"#888\" stroke-width=\"1\" opacity=\"1\"/><line transform=\"translate(125,0)\" x2=\"0\" y2=\"5\" stroke=\"#888\" stroke-width=\"1\" opacity=\"1\"/><line transform=\"translate(167,0)\" x2=\"0\" y2=\"5\" stroke=\"#888\" stroke-width=\"1\" opacity=\"1\"/></g><g class=\"mark-text role-axis-label\" pointer-events=\"none\"><text text-anchor=\"start\" transform=\"translate(0,15)\" font-family=\"sans-serif\" font-size=\"10px\" fill=\"#000\" opacity=\"1\">0</text><text text-anchor=\"middle\" transform=\"translate(41.66666666666667,15)\" font-family=\"sans-serif\" font-size=\"10px\" fill=\"#000\" opacity=\"1\">5</text><text text-anchor=\"middle\" transform=\"translate(83.33333333333334,15)\" font-family=\"sans-serif\" font-size=\"10px\" fill=\"#000\" opacity=\"1\">10</text><text text-anchor=\"middle\" transform=\"translate(125,15)\" font-family=\"sans-serif\" font-size=\"10px\" fill=\"#000\" opacity=\"1\">15</text><text text-anchor=\"middle\" transform=\"translate(166.66666666666669,15)\" font-family=\"sans-serif\" font-size=\"10px\" fill=\"#000\" opacity=\"1\">20</text></g><g class=\"mark-rule role-axis-domain\" pointer-events=\"none\"><line transform=\"translate(0,0)\" x2=\"200\" y2=\"0\" stroke=\"#888\" stroke-width=\"1\" opacity=\"1\"/></g><g class=\"mark-text role-axis-title\" pointer-events=\"none\"><text text-anchor=\"middle\" transform=\"translate(100,30)\" font-family=\"sans-serif\" font-size=\"11px\" font-weight=\"bold\" fill=\"#000\" opacity=\"1\">hour</text></g></g><path class=\"foreground\" aria-hidden=\"true\" d=\"\" pointer-events=\"none\" display=\"none\"/></g></g><g class=\"mark-group role-axis\" role=\"graphics-symbol\" aria-roledescription=\"axis\" aria-label=\"Y-axis titled 'value_sum' for a linear scale with values from 0 to 20\"><g transform=\"translate(0.5,0.5)\"><path class=\"background\" aria-hidden=\"true\" d=\"M0,0h0v0h0Z\" pointer-events=\"none\"/><g><g class=\"mark-rule role-axis-tick\" pointer-events=\"none\"><line transform=\"translate(0,200)\" x2=\"-5\" y2=\"0\" stroke=\"#888\" stroke-width=\"1\" opacity=\"1\"/><line transform=\"translate(0,150)\" x2=\"-5\" y2=\"0\" stroke=\"#888\" stroke-width=\"1\" opacity=\"1\"/><line transform=\"translate(0,100)\" x2=\"-5\" y2=\"0\" stroke=\"#888\" stroke-width=\"1\" opacity=\"1\"/><line transform=\"translate(0,50)\" x2=\"-5\" y2=\"0\" stroke=\"#888\" stroke-width=\"1\" opacity=\"1\"/><line transform=\"translate(0,0)\" x2=\"-5\" y2=\"0\" stroke=\"#888\" stroke-width=\"1\" opacity=\"1\"/></g><g class=\"mark-text role-axis-label\" pointer-events=\"none\"><text text-anchor=\"end\" transform=\"translate(-7,203)\" font-family=\"sans-serif\" font-size=\"10px\" fill=\"#000\" opacity=\"1\">0</text><text text-anchor=\"end\" transform=\"translate(-7,153)\" font-family=\"sans-serif\" font-size=\"10px\" fill=\"#000\" opacity=\"1\">5</text><text text-anchor=\"end\" transform=\"translate(-7,103)\" font-family=\"sans-serif\" font-size=\"10px\" fill=\"#000\" opacity=\"1\">10</text><text text-anchor=\"end\" transform=\"translate(-7,53)\" font-family=\"sans-serif\" font-size=\"10px\" fill=\"#000\" opacity=\"1\">15</text><text text-anchor=\"end\" transform=\"translate(-7,3)\" font-family=\"sans-serif\" font-size=\"10px\" fill=\"#000\" opacity=\"1\">20</text></g><g class=\"mark-rule role-axis-domain\" pointer-events=\"none\"><line transform=\"translate(0,200)\" x2=\"0\" y2=\"-200\" stroke=\"#888\" stroke-width=\"1\" opacity=\"1\"/></g><g class=\"mark-text role-axis-title\" pointer-events=\"none\"><text text-anchor=\"middle\" transform=\"translate(-23.724609375,100) rotate(-90) translate(0,-2)\" font-family=\"sans-serif\" font-size=\"11px\" font-weight=\"bold\" fill=\"#000\" opacity=\"1\">value_sum</text></g></g><path class=\"foreground\" aria-hidden=\"true\" d=\"\" pointer-events=\"none\" display=\"none\"/></g></g><g class=\"mark-group role-scope pathgroup\" role=\"graphics-object\" aria-roledescription=\"group mark container\"><g transform=\"translate(0,0)\"><path class=\"background\" aria-hidden=\"true\" d=\"M0,0h200v200h-200Z\"/><g><g class=\"mark-area role-mark marks\" role=\"graphics-object\" aria-roledescription=\"area mark container\"><path aria-label=\"hour: 0; value_sum: 6; resource: natural_gas_fired_combined_cycle\" role=\"graphics-symbol\" aria-roledescription=\"area mark\" d=\"M0,90L8.333,90L16.667,90L25,90L33.333,90L41.667,90L50,90L58.333,110L66.667,140L75,150L83.333,150L91.667,160L100,160L108.333,160L116.667,160L125,160L133.333,160L141.667,150L150,50L158.333,0L166.667,0L175,40L183.333,80L191.667,110L191.667,160L183.333,130L175,90L166.667,50L158.333,50L150,100L141.667,200L133.333,200L125,200L116.667,200L108.333,200L100,200L91.667,200L83.333,190L75,190L66.667,180L58.333,170L50,150L41.667,150L33.333,150L25,150L16.667,150L8.333,150L0,150Z\" fill=\"#1f77b4\"/></g></g><path class=\"foreground\" aria-hidden=\"true\" d=\"\" display=\"none\"/></g><g transform=\"translate(0,0)\"><path class=\"background\" aria-hidden=\"true\" d=\"M0,0h200v200h-200Z\"/><g><g class=\"mark-area role-mark marks\" role=\"graphics-object\" aria-roledescription=\"area mark container\"><path aria-label=\"hour: 0; value_sum: 5; resource: natural_gas_fired_combustion_turbine\" role=\"graphics-symbol\" aria-roledescription=\"area mark\" d=\"M0,150L8.333,150L16.667,150L25,150L33.333,150L41.667,150L50,150L58.333,170L66.667,180L75,190L83.333,190L91.667,200L100,200L108.333,200L116.667,200L125,200L133.333,200L141.667,200L150,100L158.333,50L166.667,50L175,90L183.333,130L191.667,160L191.667,200L183.333,200L175,200L166.667,200L158.333,200L150,200L141.667,200L133.333,200L125,200L116.667,200L108.333,200L100,200L91.667,200L83.333,200L75,200L66.667,200L58.333,200L50,200L41.667,200L33.333,200L25,200L16.667,200L8.333,200L0,200Z\" fill=\"#ff7f0e\"/></g></g><path class=\"foreground\" aria-hidden=\"true\" d=\"\" display=\"none\"/></g></g><g class=\"mark-group role-legend\" role=\"graphics-symbol\" aria-roledescription=\"legend\" aria-label=\"Symbol legend titled 'resource' for fill color with 2 values: natural_gas_fired_combined_cycle, natural_gas_fired_combustion_turbine\"><g transform=\"translate(218,0)\"><path class=\"background\" aria-hidden=\"true\" d=\"M0,0h176v40h-176Z\" pointer-events=\"none\"/><g><g class=\"mark-group role-legend-entry\"><g transform=\"translate(0,16)\"><path class=\"background\" aria-hidden=\"true\" d=\"M0,0h0v0h0Z\" pointer-events=\"none\"/><g><g class=\"mark-group role-scope\" role=\"graphics-object\" aria-roledescription=\"group mark container\"><g transform=\"translate(0,0)\"><path class=\"background\" aria-hidden=\"true\" d=\"M0,0h175.5263671875v11h-175.5263671875Z\" pointer-events=\"none\" opacity=\"1\"/><g><g class=\"mark-symbol role-legend-symbol\" pointer-events=\"none\"><path transform=\"translate(6,6)\" d=\"M5,0A5,5,0,1,1,-5,0A5,5,0,1,1,5,0\" fill=\"#1f77b4\" stroke-width=\"1.5\" opacity=\"1\"/></g><g class=\"mark-text role-legend-label\" pointer-events=\"none\"><text text-anchor=\"start\" transform=\"translate(16,9)\" font-family=\"sans-serif\" font-size=\"10px\" fill=\"#000\" opacity=\"1\">natural_gas_fired_combined_…</text></g></g><path class=\"foreground\" aria-hidden=\"true\" d=\"\" pointer-events=\"none\" display=\"none\"/></g><g transform=\"translate(0,13)\"><path class=\"background\" aria-hidden=\"true\" d=\"M0,0h175.5263671875v11h-175.5263671875Z\" pointer-events=\"none\" opacity=\"1\"/><g><g class=\"mark-symbol role-legend-symbol\" pointer-events=\"none\"><path transform=\"translate(6,6)\" d=\"M5,0A5,5,0,1,1,-5,0A5,5,0,1,1,5,0\" fill=\"#ff7f0e\" stroke-width=\"1.5\" opacity=\"1\"/></g><g class=\"mark-text role-legend-label\" pointer-events=\"none\"><text text-anchor=\"start\" transform=\"translate(16,9)\" font-family=\"sans-serif\" font-size=\"10px\" fill=\"#000\" opacity=\"1\">natural_gas_fired_combustion…</text></g></g><path class=\"foreground\" aria-hidden=\"true\" d=\"\" pointer-events=\"none\" display=\"none\"/></g></g></g><path class=\"foreground\" aria-hidden=\"true\" d=\"\" pointer-events=\"none\" display=\"none\"/></g></g><g class=\"mark-text role-legend-title\" pointer-events=\"none\"><text text-anchor=\"start\" transform=\"translate(0,9)\" font-family=\"sans-serif\" font-size=\"11px\" font-weight=\"bold\" fill=\"#000\" opacity=\"1\">resource</text></g></g><path class=\"foreground\" aria-hidden=\"true\" d=\"\" pointer-events=\"none\" display=\"none\"/></g></g></g><path class=\"foreground\" aria-hidden=\"true\" d=\"\" display=\"none\"/></g></g></g></svg>"
      ],
      "text/plain": [
       "@vlplot(\n",
       "    mark=\"area\",\n",
       "    encoding={\n",
       "        x={\n",
       "            field=\"hour\"\n",
       "        },\n",
       "        y={\n",
       "            stack=\"zero\",\n",
       "            field=\"value_sum\"\n",
       "        },\n",
       "        color={\n",
       "            scale={\n",
       "                scheme=\"category10\"\n",
       "            },\n",
       "            field=\"resource\",\n",
       "            type=\"nominal\"\n",
       "        }\n",
       "    },\n",
       "    data={\n",
       "        values=...\n",
       "    }\n",
       ")"
      ]
     },
     "metadata": {},
     "output_type": "display_data"
    }
   ],
   "source": [
    "sol_commit = innerjoin(solution.commit, \n",
    "                    gen_df[!, [:r_id, :resource]], \n",
    "                    on = :r_id)\n",
    "sol_commit = combine(groupby(sol_commit, [:resource, :hour]), \n",
    "            :value => sum)\n",
    "sol_commit.hour = sol_commit.hour .- T_period[1]\n",
    "\n",
    "sol_commit |>\n",
    "@vlplot(:area, \n",
    "    x=:hour, y={:value_sum, stack=:zero}, \n",
    "    color={\"resource:n\", scale={scheme=\"category10\"}})"
   ]
  },
  {
   "cell_type": "markdown",
   "metadata": {},
   "source": [
    "### Unit commitment ramp and energy reserve"
   ]
  },
  {
   "cell_type": "code",
   "execution_count": 61,
   "metadata": {},
   "outputs": [
    {
     "name": "stdout",
     "output_type": "stream",
     "text": [
      "Set parameter WLSAccessID\n",
      "Set parameter WLSSecret\n",
      "Set parameter LicenseID to value 2475843\n",
      "Academic license 2475843 - for non-commercial use only - registered to pa___@imperial.ac.uk\n",
      "Set parameter MIPGap to value 0.001\n",
      "Adding ramp constraints...\n",
      "Adding energy reserve constraints...\n"
     ]
    },
    {
     "name": "stdout",
     "output_type": "stream",
     "text": [
      "Set parameter MIPGap to value 0.001\n",
      "Gurobi Optimizer version 11.0.0 build v11.0.0rc2 (linux64 - \"Ubuntu 22.04.3 LTS\")\n",
      "\n",
      "CPU model: 11th Gen Intel(R) Core(TM) i7-11370H @ 3.30GHz, instruction set [SSE2|AVX|AVX2|AVX512]\n",
      "Thread count: 4 physical cores, 8 logical processors, using up to 8 threads\n",
      "\n",
      "Academic license 2475843 - for non-commercial use only - registered to pa___@imperial.ac.uk\n",
      "Optimize a model with 31532 rows, 15960 columns and 281696 nonzeros\n",
      "Model fingerprint: 0x0230378f\n",
      "Variable types: 14376 continuous, 1584 integer (1584 binary)\n",
      "Coefficient statistics:\n",
      "  Matrix range     [1e+00, 6e+02]\n",
      "  Objective range  [5e+00, 5e+04]\n",
      "  Bounds range     [0e+00, 0e+00]\n",
      "  RHS range        [1e+00, 3e+04]\n",
      "Presolve removed 20242 rows and 5840 columns\n",
      "Presolve time: 0.76s\n",
      "Presolved: 11290 rows, 10120 columns, 255445 nonzeros\n",
      "Variable types: 8580 continuous, 1540 integer (1540 binary)\n",
      "Deterministic concurrent LP optimizer: primal and dual simplex\n",
      "Showing primal log only...\n",
      "\n",
      "Concurrent spin time: 0.12s (can be avoided by choosing Method=3)\n",
      "\n",
      "Solved with dual simplex\n",
      "\n",
      "Root relaxation: objective 8.971854e+05, 8347 iterations, 0.88 seconds (1.03 work units)\n",
      "\n",
      "    Nodes    |    Current Node    |     Objective Bounds      |     Work\n",
      " Expl Unexpl |  Obj  Depth IntInf | Incumbent    BestBd   Gap | It/Node Time\n",
      "\n",
      "     0     0 897185.424    0   50          - 897185.424      -     -    1s\n",
      "H    0     0                    1375322.6441 897893.458  34.7%     -    2s\n",
      "     0     0 897893.458    0   68 1375322.64 897893.458  34.7%     -    2s\n",
      "H    0     0                    927462.88479 898252.997  3.15%     -    2s\n",
      "     0     0 898368.851    0   68 927462.885 898368.851  3.14%     -    2s\n",
      "     0     0 898710.439    0   69 927462.885 898710.439  3.10%     -    3s\n",
      "     0     0 899458.568    0   69 927462.885 899458.568  3.02%     -    3s\n",
      "     0     0 899495.565    0   72 927462.885 899495.565  3.02%     -    3s\n",
      "H    0     0                    902897.95552 899495.565  0.38%     -    3s\n",
      "     0     0 899664.501    0   65 902897.956 899664.501  0.36%     -    3s\n",
      "     0     0 899664.501    0   65 902897.956 899664.501  0.36%     -    3s\n",
      "     0     0 899805.108    0   59 902897.956 899805.108  0.34%     -    4s\n",
      "     0     0 899805.108    0   59 902897.956 899805.108  0.34%     -    4s\n",
      "     0     0 899806.692    0   67 902897.956 899806.692  0.34%     -    4s\n",
      "     0     0 899814.452    0   67 902897.956 899814.452  0.34%     -    4s\n",
      "H    0     0                    902791.85115 899814.452  0.33%     -    4s\n",
      "     0     0 899962.741    0   62 902791.851 899962.741  0.31%     -    4s\n",
      "     0     0 899962.741    0   62 902791.851 899962.741  0.31%     -    4s\n",
      "     0     0 900066.680    0   67 902791.851 900066.680  0.30%     -    4s\n",
      "     0     0 900066.680    0   70 902791.851 900066.680  0.30%     -    4s\n",
      "H    0     0                    902483.50828 900066.680  0.27%     -    4s\n",
      "     0     0 900066.680    0   74 902483.508 900066.680  0.27%     -    4s\n",
      "     0     0 900069.199    0   74 902483.508 900069.199  0.27%     -    4s\n",
      "     0     0 900069.199    0   79 902483.508 900069.199  0.27%     -    5s\n",
      "     0     0 900069.199    0   79 902483.508 900069.199  0.27%     -    5s\n",
      "     0     0 900110.159    0   81 902483.508 900110.159  0.26%     -    5s\n",
      "H    0     0                    902092.10760 900110.159  0.22%     -    5s\n",
      "     0     0 900110.159    0   88 902092.108 900110.159  0.22%     -    5s\n",
      "     0     0 900110.159    0   88 902092.108 900110.159  0.22%     -    5s\n",
      "     0     0 900110.159    0  131 902092.108 900110.159  0.22%     -    5s\n",
      "H    0     0                    902027.51398 900110.159  0.21%     -    6s\n",
      "     0     0 900110.159    0   92 902027.514 900110.159  0.21%     -    6s\n",
      "     0     0 900110.159    0   92 902027.514 900110.159  0.21%     -    6s\n",
      "     0     0 900110.159    0   92 902027.514 900110.159  0.21%     -    6s\n",
      "     0     0 900110.159    0   92 902027.514 900110.159  0.21%     -    6s\n",
      "     0     0 900110.159    0   92 902027.514 900110.159  0.21%     -    6s\n",
      "     0     2 900232.735    0   92 902027.514 900232.735  0.20%     -    7s\n",
      "H   29    26                    902002.91188 900520.892  0.16%  19.0    7s\n",
      "H  344   207                    901651.85255 900673.909  0.11%  11.7    9s\n",
      "   389   222 901375.652   15   80 901651.853 900673.909  0.11%  12.9   10s\n",
      "\n",
      "Cutting planes:\n",
      "  Gomory: 5\n",
      "  Cover: 7\n",
      "  MIR: 22\n",
      "  StrongCG: 4\n",
      "  Flow cover: 15\n",
      "  GUB cover: 1\n",
      "  Inf proof: 9\n",
      "  RLT: 1\n",
      "\n",
      "Explored 442 nodes (15955 simplex iterations) in 10.41 seconds (12.99 work units)\n",
      "Thread count was 8 (of 8 available processors)\n",
      "\n",
      "Solution count 9: 901652 902003 902028 ... 1.37532e+06\n",
      "\n",
      "Optimal solution found (tolerance 1.00e-03)\n",
      "Best objective 9.016518525470e+05, best bound 9.007785656872e+05, gap 0.0969%\n",
      "\n",
      "User-callback calls 3850, time in user-callback 0.01 sec\n"
     ]
    },
    {
     "data": {
      "application/vnd.vegalite.v5+json": {
       "data": {
        "values": [
         {
          "hour": 0,
          "resource": "biomass",
          "value_sum": 21.4
         },
         {
          "hour": 0,
          "resource": "hydroelectric_pumped_storage",
          "value_sum": 42
         },
         {
          "hour": 0,
          "resource": "natural_gas_fired_combined_cycle",
          "value_sum": 1231.6527679999997
         },
         {
          "hour": 0,
          "resource": "natural_gas_fired_combustion_turbine",
          "value_sum": 153.45350000000002
         },
         {
          "hour": 0,
          "resource": "_onshore_wind_turbine",
          "value_sum": 163.3088
         },
         {
          "hour": 0,
          "resource": "_small_hydroelectric",
          "value_sum": 3.184932
         },
         {
          "hour": 0,
          "resource": "_solar_photovoltaic",
          "value_sum": 0
         },
         {
          "hour": 1,
          "resource": "biomass",
          "value_sum": 21.4
         },
         {
          "hour": 1,
          "resource": "hydroelectric_pumped_storage",
          "value_sum": 42
         },
         {
          "hour": 1,
          "resource": "natural_gas_fired_combined_cycle",
          "value_sum": 1163.1682879999996
         },
         {
          "hour": 1,
          "resource": "natural_gas_fired_combustion_turbine",
          "value_sum": 153.45350000000002
         },
         {
          "hour": 1,
          "resource": "_onshore_wind_turbine",
          "value_sum": 169.79327999999998
         },
         {
          "hour": 1,
          "resource": "_small_hydroelectric",
          "value_sum": 3.184932
         },
         {
          "hour": 1,
          "resource": "_solar_photovoltaic",
          "value_sum": 0
         },
         {
          "hour": 2,
          "resource": "biomass",
          "value_sum": 21.4
         },
         {
          "hour": 2,
          "resource": "hydroelectric_pumped_storage",
          "value_sum": 42
         },
         {
          "hour": 2,
          "resource": "natural_gas_fired_combined_cycle",
          "value_sum": 1182.8511679999997
         },
         {
          "hour": 2,
          "resource": "natural_gas_fired_combustion_turbine",
          "value_sum": 153.45350000000002
         },
         {
          "hour": 2,
          "resource": "_onshore_wind_turbine",
          "value_sum": 115.1104
         },
         {
          "hour": 2,
          "resource": "_small_hydroelectric",
          "value_sum": 3.184932
         },
         {
          "hour": 2,
          "resource": "_solar_photovoltaic",
          "value_sum": 0
         },
         {
          "hour": 3,
          "resource": "biomass",
          "value_sum": 21.4
         },
         {
          "hour": 3,
          "resource": "hydroelectric_pumped_storage",
          "value_sum": 42
         },
         {
          "hour": 3,
          "resource": "natural_gas_fired_combined_cycle",
          "value_sum": 1241.408608
         },
         {
          "hour": 3,
          "resource": "natural_gas_fired_combustion_turbine",
          "value_sum": 153.45350000000002
         },
         {
          "hour": 3,
          "resource": "_onshore_wind_turbine",
          "value_sum": 100.55296
         },
         {
          "hour": 3,
          "resource": "_small_hydroelectric",
          "value_sum": 3.184931999999989
         },
         {
          "hour": 3,
          "resource": "_solar_photovoltaic",
          "value_sum": 0
         },
         {
          "hour": 4,
          "resource": "biomass",
          "value_sum": 21.4
         },
         {
          "hour": 4,
          "resource": "hydroelectric_pumped_storage",
          "value_sum": 42
         },
         {
          "hour": 4,
          "resource": "natural_gas_fired_combined_cycle",
          "value_sum": 1432.3842879999997
         },
         {
          "hour": 4,
          "resource": "natural_gas_fired_combustion_turbine",
          "value_sum": 153.45350000000002
         },
         {
          "hour": 4,
          "resource": "_onshore_wind_turbine",
          "value_sum": 80.57728
         },
         {
          "hour": 4,
          "resource": "_small_hydroelectric",
          "value_sum": 3.184932
         },
         {
          "hour": 4,
          "resource": "_solar_photovoltaic",
          "value_sum": 0
         },
         {
          "hour": 5,
          "resource": "biomass",
          "value_sum": 21.4
         },
         {
          "hour": 5,
          "resource": "hydroelectric_pumped_storage",
          "value_sum": 42
         },
         {
          "hour": 5,
          "resource": "natural_gas_fired_combined_cycle",
          "value_sum": 1616.784608
         },
         {
          "hour": 5,
          "resource": "natural_gas_fired_combustion_turbine",
          "value_sum": 153.45350000000002
         },
         {
          "hour": 5,
          "resource": "_onshore_wind_turbine",
          "value_sum": 139.17695999999998
         },
         {
          "hour": 5,
          "resource": "_small_hydroelectric",
          "value_sum": 3.184932
         },
         {
          "hour": 5,
          "resource": "_solar_photovoltaic",
          "value_sum": 0
         },
         {
          "hour": 6,
          "resource": "biomass",
          "value_sum": 21.4
         },
         {
          "hour": 6,
          "resource": "hydroelectric_pumped_storage",
          "value_sum": 42
         },
         {
          "hour": 6,
          "resource": "natural_gas_fired_combined_cycle",
          "value_sum": 1786.231728
         },
         {
          "hour": 6,
          "resource": "natural_gas_fired_combustion_turbine",
          "value_sum": 153.45350000000002
         },
         {
          "hour": 6,
          "resource": "_onshore_wind_turbine",
          "value_sum": 74.17984
         },
         {
          "hour": 6,
          "resource": "_small_hydroelectric",
          "value_sum": 3.184932
         },
         {
          "hour": 6,
          "resource": "_solar_photovoltaic",
          "value_sum": 193.55
         },
         {
          "hour": 7,
          "resource": "biomass",
          "value_sum": 21.4
         },
         {
          "hour": 7,
          "resource": "hydroelectric_pumped_storage",
          "value_sum": 42
         },
         {
          "hour": 7,
          "resource": "natural_gas_fired_combined_cycle",
          "value_sum": 1621.496128
         },
         {
          "hour": 7,
          "resource": "natural_gas_fired_combustion_turbine",
          "value_sum": 85.69550000000001
         },
         {
          "hour": 7,
          "resource": "_onshore_wind_turbine",
          "value_sum": 49.373439999999995
         },
         {
          "hour": 7,
          "resource": "_small_hydroelectric",
          "value_sum": 3.184932
         },
         {
          "hour": 7,
          "resource": "_solar_photovoltaic",
          "value_sum": 773.85
         },
         {
          "hour": 8,
          "resource": "biomass",
          "value_sum": 21.4
         },
         {
          "hour": 8,
          "resource": "hydroelectric_pumped_storage",
          "value_sum": 42
         },
         {
          "hour": 8,
          "resource": "natural_gas_fired_combined_cycle",
          "value_sum": 879.1694079999997
         },
         {
          "hour": 8,
          "resource": "natural_gas_fired_combustion_turbine",
          "value_sum": 53.2895
         },
         {
          "hour": 8,
          "resource": "_onshore_wind_turbine",
          "value_sum": 167.35616
         },
         {
          "hour": 8,
          "resource": "_small_hydroelectric",
          "value_sum": 3.184932
         },
         {
          "hour": 8,
          "resource": "_solar_photovoltaic",
          "value_sum": 1671.6
         },
         {
          "hour": 9,
          "resource": "biomass",
          "value_sum": 21.4
         },
         {
          "hour": 9,
          "resource": "hydroelectric_pumped_storage",
          "value_sum": 42
         },
         {
          "hour": 9,
          "resource": "natural_gas_fired_combined_cycle",
          "value_sum": 788.9224080000001
         },
         {
          "hour": 9,
          "resource": "natural_gas_fired_combustion_turbine",
          "value_sum": 20.981699999999996
         },
         {
          "hour": 9,
          "resource": "_onshore_wind_turbine",
          "value_sum": 131.56096
         },
         {
          "hour": 9,
          "resource": "_small_hydroelectric",
          "value_sum": 3.1849319999998897
         },
         {
          "hour": 9,
          "resource": "_solar_photovoltaic",
          "value_sum": 2014.95
         },
         {
          "hour": 10,
          "resource": "biomass",
          "value_sum": 21.4
         },
         {
          "hour": 10,
          "resource": "hydroelectric_pumped_storage",
          "value_sum": 42
         },
         {
          "hour": 10,
          "resource": "natural_gas_fired_combined_cycle",
          "value_sum": 812.5897679999996
         },
         {
          "hour": 10,
          "resource": "natural_gas_fired_combustion_turbine",
          "value_sum": 20.981699999999996
         },
         {
          "hour": 10,
          "resource": "_onshore_wind_turbine",
          "value_sum": 111.1936
         },
         {
          "hour": 10,
          "resource": "_small_hydroelectric",
          "value_sum": 3.184932
         },
         {
          "hour": 10,
          "resource": "_solar_photovoltaic",
          "value_sum": 2113.65
         },
         {
          "hour": 11,
          "resource": "biomass",
          "value_sum": 21.4
         },
         {
          "hour": 11,
          "resource": "hydroelectric_pumped_storage",
          "value_sum": 42
         },
         {
          "hour": 11,
          "resource": "natural_gas_fired_combined_cycle",
          "value_sum": 655.6549879999997
         },
         {
          "hour": 11,
          "resource": "natural_gas_fired_combustion_turbine",
          "value_sum": 0
         },
         {
          "hour": 11,
          "resource": "_onshore_wind_turbine",
          "value_sum": 92.11007999999958
         },
         {
          "hour": 11,
          "resource": "_small_hydroelectric",
          "value_sum": 3.184932
         },
         {
          "hour": 11,
          "resource": "_solar_photovoltaic",
          "value_sum": 2148.65
         },
         {
          "hour": 12,
          "resource": "biomass",
          "value_sum": 0
         },
         {
          "hour": 12,
          "resource": "hydroelectric_pumped_storage",
          "value_sum": 0
         },
         {
          "hour": 12,
          "resource": "natural_gas_fired_combined_cycle",
          "value_sum": 598.1902
         },
         {
          "hour": 12,
          "resource": "natural_gas_fired_combustion_turbine",
          "value_sum": 0
         },
         {
          "hour": 12,
          "resource": "_onshore_wind_turbine",
          "value_sum": 0
         },
         {
          "hour": 12,
          "resource": "_small_hydroelectric",
          "value_sum": 0
         },
         {
          "hour": 12,
          "resource": "_solar_photovoltaic",
          "value_sum": 2144.8098
         },
         {
          "hour": 13,
          "resource": "biomass",
          "value_sum": 0
         },
         {
          "hour": 13,
          "resource": "hydroelectric_pumped_storage",
          "value_sum": 0
         },
         {
          "hour": 13,
          "resource": "natural_gas_fired_combined_cycle",
          "value_sum": 594.3402
         },
         {
          "hour": 13,
          "resource": "natural_gas_fired_combustion_turbine",
          "value_sum": 0
         },
         {
          "hour": 13,
          "resource": "_onshore_wind_turbine",
          "value_sum": 0
         },
         {
          "hour": 13,
          "resource": "_small_hydroelectric",
          "value_sum": 0
         },
         {
          "hour": 13,
          "resource": "_solar_photovoltaic",
          "value_sum": 2071.6598000000004
         },
         {
          "hour": 14,
          "resource": "biomass",
          "value_sum": 0
         },
         {
          "hour": 14,
          "resource": "hydroelectric_pumped_storage",
          "value_sum": 0
         },
         {
          "hour": 14,
          "resource": "natural_gas_fired_combined_cycle",
          "value_sum": 589.9402
         },
         {
          "hour": 14,
          "resource": "natural_gas_fired_combustion_turbine",
          "value_sum": 0
         },
         {
          "hour": 14,
          "resource": "_onshore_wind_turbine",
          "value_sum": 0
         },
         {
          "hour": 14,
          "resource": "_small_hydroelectric",
          "value_sum": 0
         },
         {
          "hour": 14,
          "resource": "_solar_photovoltaic",
          "value_sum": 1988.0598000000002
         },
         {
          "hour": 15,
          "resource": "biomass",
          "value_sum": 0
         },
         {
          "hour": 15,
          "resource": "hydroelectric_pumped_storage",
          "value_sum": 0
         },
         {
          "hour": 15,
          "resource": "natural_gas_fired_combined_cycle",
          "value_sum": 585.1402
         },
         {
          "hour": 15,
          "resource": "natural_gas_fired_combustion_turbine",
          "value_sum": 0
         },
         {
          "hour": 15,
          "resource": "_onshore_wind_turbine",
          "value_sum": 0
         },
         {
          "hour": 15,
          "resource": "_small_hydroelectric",
          "value_sum": 0
         },
         {
          "hour": 15,
          "resource": "_solar_photovoltaic",
          "value_sum": 1896.8598000000002
         },
         {
          "hour": 16,
          "resource": "biomass",
          "value_sum": 21.4
         },
         {
          "hour": 16,
          "resource": "hydroelectric_pumped_storage",
          "value_sum": 42
         },
         {
          "hour": 16,
          "resource": "natural_gas_fired_combined_cycle",
          "value_sum": 660.9297880000001
         },
         {
          "hour": 16,
          "resource": "natural_gas_fired_combustion_turbine",
          "value_sum": 0
         },
         {
          "hour": 16,
          "resource": "_onshore_wind_turbine",
          "value_sum": 57.18527999999999
         },
         {
          "hour": 16,
          "resource": "_small_hydroelectric",
          "value_sum": 3.184932
         },
         {
          "hour": 16,
          "resource": "_solar_photovoltaic",
          "value_sum": 1637.3
         },
         {
          "hour": 17,
          "resource": "biomass",
          "value_sum": 21.4
         },
         {
          "hour": 17,
          "resource": "hydroelectric_pumped_storage",
          "value_sum": 42
         },
         {
          "hour": 17,
          "resource": "natural_gas_fired_combined_cycle",
          "value_sum": 1096.196188
         },
         {
          "hour": 17,
          "resource": "natural_gas_fired_combustion_turbine",
          "value_sum": 0
         },
         {
          "hour": 17,
          "resource": "_onshore_wind_turbine",
          "value_sum": 78.61888
         },
         {
          "hour": 17,
          "resource": "_small_hydroelectric",
          "value_sum": 3.184932
         },
         {
          "hour": 17,
          "resource": "_solar_photovoltaic",
          "value_sum": 1132.6
         },
         {
          "hour": 18,
          "resource": "biomass",
          "value_sum": 21.4
         },
         {
          "hour": 18,
          "resource": "hydroelectric_pumped_storage",
          "value_sum": 42
         },
         {
          "hour": 18,
          "resource": "natural_gas_fired_combined_cycle",
          "value_sum": 1592.5
         },
         {
          "hour": 18,
          "resource": "natural_gas_fired_combustion_turbine",
          "value_sum": 499.34938799999884
         },
         {
          "hour": 18,
          "resource": "_onshore_wind_turbine",
          "value_sum": 52.61568
         },
         {
          "hour": 18,
          "resource": "_small_hydroelectric",
          "value_sum": 3.184932
         },
         {
          "hour": 18,
          "resource": "_solar_photovoltaic",
          "value_sum": 166.95
         },
         {
          "hour": 19,
          "resource": "biomass",
          "value_sum": 21.4
         },
         {
          "hour": 19,
          "resource": "hydroelectric_pumped_storage",
          "value_sum": 42
         },
         {
          "hour": 19,
          "resource": "natural_gas_fired_combined_cycle",
          "value_sum": 1592.5
         },
         {
          "hour": 19,
          "resource": "natural_gas_fired_combustion_turbine",
          "value_sum": 780.4865879999995
         },
         {
          "hour": 19,
          "resource": "_onshore_wind_turbine",
          "value_sum": 61.42848000000001
         },
         {
          "hour": 19,
          "resource": "_small_hydroelectric",
          "value_sum": 3.184932
         },
         {
          "hour": 19,
          "resource": "_solar_photovoltaic",
          "value_sum": 0
         },
         {
          "hour": 20,
          "resource": "biomass",
          "value_sum": 21.4
         },
         {
          "hour": 20,
          "resource": "hydroelectric_pumped_storage",
          "value_sum": 42
         },
         {
          "hour": 20,
          "resource": "natural_gas_fired_combined_cycle",
          "value_sum": 1592.5
         },
         {
          "hour": 20,
          "resource": "natural_gas_fired_combustion_turbine",
          "value_sum": 774.9982679999998
         },
         {
          "hour": 20,
          "resource": "_onshore_wind_turbine",
          "value_sum": 71.9168
         },
         {
          "hour": 20,
          "resource": "_small_hydroelectric",
          "value_sum": 3.184932
         },
         {
          "hour": 20,
          "resource": "_solar_photovoltaic",
          "value_sum": 0
         },
         {
          "hour": 21,
          "resource": "biomass",
          "value_sum": 21.4
         },
         {
          "hour": 21,
          "resource": "hydroelectric_pumped_storage",
          "value_sum": 42
         },
         {
          "hour": 21,
          "resource": "natural_gas_fired_combined_cycle",
          "value_sum": 1592.5
         },
         {
          "hour": 21,
          "resource": "natural_gas_fired_combustion_turbine",
          "value_sum": 502.86642800000016
         },
         {
          "hour": 21,
          "resource": "_onshore_wind_turbine",
          "value_sum": 96.04864
         },
         {
          "hour": 21,
          "resource": "_small_hydroelectric",
          "value_sum": 3.184932
         },
         {
          "hour": 21,
          "resource": "_solar_photovoltaic",
          "value_sum": 0
         },
         {
          "hour": 22,
          "resource": "biomass",
          "value_sum": 21.399999999999544
         },
         {
          "hour": 22,
          "resource": "hydroelectric_pumped_storage",
          "value_sum": 42
         },
         {
          "hour": 22,
          "resource": "natural_gas_fired_combined_cycle",
          "value_sum": 1566.4868480000005
         },
         {
          "hour": 22,
          "resource": "natural_gas_fired_combustion_turbine",
          "value_sum": 228.4591
         },
         {
          "hour": 22,
          "resource": "_onshore_wind_turbine",
          "value_sum": 126.46912
         },
         {
          "hour": 22,
          "resource": "_small_hydroelectric",
          "value_sum": 3.184932
         },
         {
          "hour": 22,
          "resource": "_solar_photovoltaic",
          "value_sum": 0
         },
         {
          "hour": 23,
          "resource": "biomass",
          "value_sum": 21.4
         },
         {
          "hour": 23,
          "resource": "hydroelectric_pumped_storage",
          "value_sum": 42
         },
         {
          "hour": 23,
          "resource": "natural_gas_fired_combined_cycle",
          "value_sum": 1426.5908480000003
         },
         {
          "hour": 23,
          "resource": "natural_gas_fired_combustion_turbine",
          "value_sum": 122.40309999999975
         },
         {
          "hour": 23,
          "resource": "_onshore_wind_turbine",
          "value_sum": 144.42111999999997
         },
         {
          "hour": 23,
          "resource": "_small_hydroelectric",
          "value_sum": 3.184932
         },
         {
          "hour": 23,
          "resource": "_solar_photovoltaic",
          "value_sum": 0
         },
         {
          "hour": 0,
          "resource": "_solar_photovoltaic_btm",
          "value_sum": 0
         },
         {
          "hour": 1,
          "resource": "_solar_photovoltaic_btm",
          "value_sum": 0
         },
         {
          "hour": 2,
          "resource": "_solar_photovoltaic_btm",
          "value_sum": 0
         },
         {
          "hour": 3,
          "resource": "_solar_photovoltaic_btm",
          "value_sum": 0
         },
         {
          "hour": 4,
          "resource": "_solar_photovoltaic_btm",
          "value_sum": 0
         },
         {
          "hour": 5,
          "resource": "_solar_photovoltaic_btm",
          "value_sum": 0
         },
         {
          "hour": 6,
          "resource": "_solar_photovoltaic_btm",
          "value_sum": 33.18
         },
         {
          "hour": 7,
          "resource": "_solar_photovoltaic_btm",
          "value_sum": 132.66
         },
         {
          "hour": 8,
          "resource": "_solar_photovoltaic_btm",
          "value_sum": 286.56
         },
         {
          "hour": 9,
          "resource": "_solar_photovoltaic_btm",
          "value_sum": 345.42
         },
         {
          "hour": 10,
          "resource": "_solar_photovoltaic_btm",
          "value_sum": 362.34
         },
         {
          "hour": 11,
          "resource": "_solar_photovoltaic_btm",
          "value_sum": 368.34
         },
         {
          "hour": 12,
          "resource": "_solar_photovoltaic_btm",
          "value_sum": 386.76
         },
         {
          "hour": 13,
          "resource": "_solar_photovoltaic_btm",
          "value_sum": 387.29999999999995
         },
         {
          "hour": 14,
          "resource": "_solar_photovoltaic_btm",
          "value_sum": 374.46
         },
         {
          "hour": 15,
          "resource": "_solar_photovoltaic_btm",
          "value_sum": 341.7
         },
         {
          "hour": 16,
          "resource": "_solar_photovoltaic_btm",
          "value_sum": 280.68
         },
         {
          "hour": 17,
          "resource": "_solar_photovoltaic_btm",
          "value_sum": 194.16
         },
         {
          "hour": 18,
          "resource": "_solar_photovoltaic_btm",
          "value_sum": 28.62
         },
         {
          "hour": 19,
          "resource": "_solar_photovoltaic_btm",
          "value_sum": 0
         },
         {
          "hour": 20,
          "resource": "_solar_photovoltaic_btm",
          "value_sum": 0
         },
         {
          "hour": 21,
          "resource": "_solar_photovoltaic_btm",
          "value_sum": 0
         },
         {
          "hour": 22,
          "resource": "_solar_photovoltaic_btm",
          "value_sum": 0
         },
         {
          "hour": 23,
          "resource": "_solar_photovoltaic_btm",
          "value_sum": 0
         },
         {
          "hour": 0,
          "resource": "_curtailment",
          "value_sum": 0
         },
         {
          "hour": 1,
          "resource": "_curtailment",
          "value_sum": 0
         },
         {
          "hour": 2,
          "resource": "_curtailment",
          "value_sum": 0
         },
         {
          "hour": 3,
          "resource": "_curtailment",
          "value_sum": 1.0658141036401503e-14
         },
         {
          "hour": 4,
          "resource": "_curtailment",
          "value_sum": 0
         },
         {
          "hour": 5,
          "resource": "_curtailment",
          "value_sum": 0
         },
         {
          "hour": 6,
          "resource": "_curtailment",
          "value_sum": 0
         },
         {
          "hour": 7,
          "resource": "_curtailment",
          "value_sum": 0
         },
         {
          "hour": 8,
          "resource": "_curtailment",
          "value_sum": 2.2737367544323206e-13
         },
         {
          "hour": 9,
          "resource": "_curtailment",
          "value_sum": 1.1013412404281553e-13
         },
         {
          "hour": 10,
          "resource": "_curtailment",
          "value_sum": 0
         },
         {
          "hour": 11,
          "resource": "_curtailment",
          "value_sum": 4.121147867408581e-13
         },
         {
          "hour": 12,
          "resource": "_curtailment",
          "value_sum": 166.5685719999999
         },
         {
          "hour": 13,
          "resource": "_curtailment",
          "value_sum": 255.46761199999963
         },
         {
          "hour": 14,
          "resource": "_curtailment",
          "value_sum": 248.69625199999967
         },
         {
          "hour": 15,
          "resource": "_curtailment",
          "value_sum": 164.9856919999998
         },
         {
          "hour": 16,
          "resource": "_curtailment",
          "value_sum": 0
         },
         {
          "hour": 17,
          "resource": "_curtailment",
          "value_sum": 0
         },
         {
          "hour": 18,
          "resource": "_curtailment",
          "value_sum": 0
         },
         {
          "hour": 19,
          "resource": "_curtailment",
          "value_sum": -7.105427357601002e-15
         },
         {
          "hour": 20,
          "resource": "_curtailment",
          "value_sum": 0
         },
         {
          "hour": 21,
          "resource": "_curtailment",
          "value_sum": 0
         },
         {
          "hour": 22,
          "resource": "_curtailment",
          "value_sum": 0
         },
         {
          "hour": 23,
          "resource": "_curtailment",
          "value_sum": 0
         }
        ]
       },
       "encoding": {
        "color": {
         "field": "resource",
         "scale": {
          "scheme": "category10"
         },
         "type": "nominal"
        },
        "x": {
         "field": "hour",
         "type": "quantitative"
        },
        "y": {
         "field": "value_sum",
         "stack": "zero",
         "type": "quantitative"
        }
       },
       "mark": "area"
      },
      "image/png": "[encoded data removed]",
      "image/svg+xml": [
       "<svg xmlns=\"http://www.w3.org/2000/svg\" xmlns:xlink=\"http://www.w3.org/1999/xlink\" version=\"1.1\" class=\"marks\" width=\"455\" height=\"242\" viewBox=\"0 0 455 242\"><rect width=\"455\" height=\"242\" fill=\"white\"/><g fill=\"none\" stroke-miterlimit=\"10\" transform=\"translate(56,5)\"><g class=\"mark-group role-frame root\" role=\"graphics-object\" aria-roledescription=\"group mark container\"><g transform=\"translate(0,0)\"><path class=\"background\" aria-hidden=\"true\" d=\"M0.5,0.5h200v200h-200Z\" stroke=\"#ddd\"/><g><g class=\"mark-group role-axis\" aria-hidden=\"true\"><g transform=\"translate(0.5,200.5)\"><path class=\"background\" aria-hidden=\"true\" d=\"M0,0h0v0h0Z\" pointer-events=\"none\"/><g><g class=\"mark-rule role-axis-grid\" pointer-events=\"none\"><line transform=\"translate(0,-200)\" x2=\"0\" y2=\"200\" stroke=\"#ddd\" stroke-width=\"1\" opacity=\"1\"/><line transform=\"translate(42,-200)\" x2=\"0\" y2=\"200\" stroke=\"#ddd\" stroke-width=\"1\" opacity=\"1\"/><line transform=\"translate(83,-200)\" x2=\"0\" y2=\"200\" stroke=\"#ddd\" stroke-width=\"1\" opacity=\"1\"/><line transform=\"translate(125,-200)\" x2=\"0\" y2=\"200\" stroke=\"#ddd\" stroke-width=\"1\" opacity=\"1\"/><line transform=\"translate(167,-200)\" x2=\"0\" y2=\"200\" stroke=\"#ddd\" stroke-width=\"1\" opacity=\"1\"/></g></g><path class=\"foreground\" aria-hidden=\"true\" d=\"\" pointer-events=\"none\" display=\"none\"/></g></g><g class=\"mark-group role-axis\" aria-hidden=\"true\"><g transform=\"translate(0.5,0.5)\"><path class=\"background\" aria-hidden=\"true\" d=\"M0,0h0v0h0Z\" pointer-events=\"none\"/><g><g class=\"mark-rule role-axis-grid\" pointer-events=\"none\"><line transform=\"translate(0,175)\" x2=\"200\" y2=\"0\" stroke=\"#ddd\" stroke-width=\"1\" opacity=\"1\"/><line transform=\"translate(0,125)\" x2=\"200\" y2=\"0\" stroke=\"#ddd\" stroke-width=\"1\" opacity=\"1\"/><line transform=\"translate(0,75)\" x2=\"200\" y2=\"0\" stroke=\"#ddd\" stroke-width=\"1\" opacity=\"1\"/><line transform=\"translate(0,25)\" x2=\"200\" y2=\"0\" stroke=\"#ddd\" stroke-width=\"1\" opacity=\"1\"/></g></g><path class=\"foreground\" aria-hidden=\"true\" d=\"\" pointer-events=\"none\" display=\"none\"/></g></g><g class=\"mark-group role-axis\" role=\"graphics-symbol\" aria-roledescription=\"axis\" aria-label=\"X-axis titled 'hour' for a linear scale with values from 0 to 24\"><g transform=\"translate(0.5,200.5)\"><path class=\"background\" aria-hidden=\"true\" d=\"M0,0h0v0h0Z\" pointer-events=\"none\"/><g><g class=\"mark-rule role-axis-tick\" pointer-events=\"none\"><line transform=\"translate(0,0)\" x2=\"0\" y2=\"5\" stroke=\"#888\" stroke-width=\"1\" opacity=\"1\"/><line transform=\"translate(42,0)\" x2=\"0\" y2=\"5\" stroke=\"#888\" stroke-width=\"1\" opacity=\"1\"/><line transform=\"translate(83,0)\" x2=\"0\" y2=\"5\" stroke=\"#888\" stroke-width=\"1\" opacity=\"1\"/><line transform=\"translate(125,0)\" x2=\"0\" y2=\"5\" stroke=\"#888\" stroke-width=\"1\" opacity=\"1\"/><line transform=\"translate(167,0)\" x2=\"0\" y2=\"5\" stroke=\"#888\" stroke-width=\"1\" opacity=\"1\"/></g><g class=\"mark-text role-axis-label\" pointer-events=\"none\"><text text-anchor=\"start\" transform=\"translate(0,15)\" font-family=\"sans-serif\" font-size=\"10px\" fill=\"#000\" opacity=\"1\">0</text><text text-anchor=\"middle\" transform=\"translate(41.66666666666667,15)\" font-family=\"sans-serif\" font-size=\"10px\" fill=\"#000\" opacity=\"1\">5</text><text text-anchor=\"middle\" transform=\"translate(83.33333333333334,15)\" font-family=\"sans-serif\" font-size=\"10px\" fill=\"#000\" opacity=\"1\">10</text><text text-anchor=\"middle\" transform=\"translate(125,15)\" font-family=\"sans-serif\" font-size=\"10px\" fill=\"#000\" opacity=\"1\">15</text><text text-anchor=\"middle\" transform=\"translate(166.66666666666669,15)\" font-family=\"sans-serif\" font-size=\"10px\" fill=\"#000\" opacity=\"1\">20</text></g><g class=\"mark-rule role-axis-domain\" pointer-events=\"none\"><line transform=\"translate(0,0)\" x2=\"200\" y2=\"0\" stroke=\"#888\" stroke-width=\"1\" opacity=\"1\"/></g><g class=\"mark-text role-axis-title\" pointer-events=\"none\"><text text-anchor=\"middle\" transform=\"translate(100,30)\" font-family=\"sans-serif\" font-size=\"11px\" font-weight=\"bold\" fill=\"#000\" opacity=\"1\">hour</text></g></g><path class=\"foreground\" aria-hidden=\"true\" d=\"\" pointer-events=\"none\" display=\"none\"/></g></g><g class=\"mark-group role-axis\" role=\"graphics-symbol\" aria-roledescription=\"axis\" aria-label=\"Y-axis titled 'value_sum' for a linear scale with values from −500 to 3,500\"><g transform=\"translate(0.5,0.5)\"><path class=\"background\" aria-hidden=\"true\" d=\"M0,0h0v0h0Z\" pointer-events=\"none\"/><g><g class=\"mark-rule role-axis-tick\" pointer-events=\"none\"><line transform=\"translate(0,175)\" x2=\"-5\" y2=\"0\" stroke=\"#888\" stroke-width=\"1\" opacity=\"1\"/><line transform=\"translate(0,125)\" x2=\"-5\" y2=\"0\" stroke=\"#888\" stroke-width=\"1\" opacity=\"1\"/><line transform=\"translate(0,75)\" x2=\"-5\" y2=\"0\" stroke=\"#888\" stroke-width=\"1\" opacity=\"1\"/><line transform=\"translate(0,25)\" x2=\"-5\" y2=\"0\" stroke=\"#888\" stroke-width=\"1\" opacity=\"1\"/></g><g class=\"mark-text role-axis-label\" pointer-events=\"none\"><text text-anchor=\"end\" transform=\"translate(-7,178)\" font-family=\"sans-serif\" font-size=\"10px\" fill=\"#000\" opacity=\"1\">0</text><text text-anchor=\"end\" transform=\"translate(-7,128)\" font-family=\"sans-serif\" font-size=\"10px\" fill=\"#000\" opacity=\"1\">1,000</text><text text-anchor=\"end\" transform=\"translate(-7,78)\" font-family=\"sans-serif\" font-size=\"10px\" fill=\"#000\" opacity=\"1\">2,000</text><text text-anchor=\"end\" transform=\"translate(-7,28)\" font-family=\"sans-serif\" font-size=\"10px\" fill=\"#000\" opacity=\"1\">3,000</text></g><g class=\"mark-rule role-axis-domain\" pointer-events=\"none\"><line transform=\"translate(0,200)\" x2=\"0\" y2=\"-200\" stroke=\"#888\" stroke-width=\"1\" opacity=\"1\"/></g><g class=\"mark-text role-axis-title\" pointer-events=\"none\"><text text-anchor=\"middle\" transform=\"translate(-39.6279296875,100) rotate(-90) translate(0,-2)\" font-family=\"sans-serif\" font-size=\"11px\" font-weight=\"bold\" fill=\"#000\" opacity=\"1\">value_sum</text></g></g><path class=\"foreground\" aria-hidden=\"true\" d=\"\" pointer-events=\"none\" display=\"none\"/></g></g><g class=\"mark-group role-scope pathgroup\" role=\"graphics-object\" aria-roledescription=\"group mark container\"><g transform=\"translate(0,0)\"><path class=\"background\" aria-hidden=\"true\" d=\"M0,0h200v200h-200Z\"/><g><g class=\"mark-area role-mark marks\" role=\"graphics-object\" aria-roledescription=\"area mark container\"><path aria-label=\"hour: 0; value_sum: 21.4; resource: biomass\" role=\"graphics-symbol\" aria-roledescription=\"area mark\" d=\"M0,102.575L8.333,105.999L16.667,105.015L25,102.087L33.333,92.538L41.667,83.318L50,74.846L58.333,86.47L66.667,125.207L75,131.335L83.333,130.151L91.667,139.047L100,145.09L108.333,145.283L116.667,145.503L125,145.743L133.333,138.784L141.667,117.02L150,67.238L158.333,53.181L166.667,53.455L175,67.062L183.333,82.083L191.667,94.38L191.667,95.45L183.333,83.153L175,68.132L166.667,54.525L158.333,54.251L150,68.308L141.667,118.09L133.333,139.854L125,145.743L116.667,145.503L108.333,145.283L100,145.09L91.667,140.117L83.333,131.221L75,132.405L66.667,126.277L58.333,87.54L50,75.916L41.667,84.388L33.333,93.608L25,103.157L16.667,106.085L8.333,107.069L0,103.645Z\" fill=\"#8c564b\"/></g></g><path class=\"foreground\" aria-hidden=\"true\" d=\"\" display=\"none\"/></g><g transform=\"translate(0,0)\"><path class=\"background\" aria-hidden=\"true\" d=\"M0,0h200v200h-200Z\"/><g><g class=\"mark-area role-mark marks\" role=\"graphics-object\" aria-roledescription=\"area mark container\"><path aria-label=\"hour: 0; value_sum: 42; resource: hydroelectric_pumped_storage\" role=\"graphics-symbol\" aria-roledescription=\"area mark\" d=\"M0,103.645L8.333,107.069L16.667,106.085L25,103.157L33.333,93.608L41.667,84.388L50,75.916L58.333,87.54L66.667,126.277L75,132.405L83.333,131.221L91.667,140.117L100,145.09L108.333,145.283L116.667,145.503L125,145.743L133.333,139.854L141.667,118.09L150,68.308L158.333,54.251L166.667,54.525L175,68.132L183.333,83.153L191.667,95.45L191.667,97.55L183.333,85.253L175,70.232L166.667,56.625L158.333,56.351L150,70.408L141.667,120.19L133.333,141.954L125,145.743L116.667,145.503L108.333,145.283L100,145.09L91.667,142.217L83.333,133.321L75,134.505L66.667,128.377L58.333,89.64L50,78.016L41.667,86.488L33.333,95.708L25,105.257L16.667,108.185L8.333,109.169L0,105.745Z\" fill=\"#e377c2\"/></g></g><path class=\"foreground\" aria-hidden=\"true\" d=\"\" display=\"none\"/></g><g transform=\"translate(0,0)\"><path class=\"background\" aria-hidden=\"true\" d=\"M0,0h200v200h-200Z\"/><g><g class=\"mark-area role-mark marks\" role=\"graphics-object\" aria-roledescription=\"area mark container\"><path aria-label=\"hour: 0; value_sum: 1231.652768; resource: natural_gas_fired_combined_cycle\" role=\"graphics-symbol\" aria-roledescription=\"area mark\" d=\"M0,105.745L8.333,109.169L16.667,108.185L25,105.257L33.333,95.708L41.667,86.488L50,78.016L58.333,89.64L66.667,128.377L75,134.505L83.333,133.321L91.667,142.217L100,145.09L108.333,145.283L116.667,145.503L125,145.743L133.333,141.954L141.667,120.19L150,70.408L158.333,56.351L166.667,56.625L175,70.232L183.333,85.253L191.667,97.55L191.667,168.88L183.333,163.577L175,149.857L166.667,136.25L158.333,135.976L150,150.033L141.667,175L133.333,175L125,175L116.667,175L108.333,175L100,175L91.667,175L83.333,173.951L75,173.951L66.667,172.336L58.333,170.715L50,167.327L41.667,167.327L33.333,167.327L25,167.327L16.667,167.327L8.333,167.327L0,167.327Z\" fill=\"#7f7f7f\"/></g></g><path class=\"foreground\" aria-hidden=\"true\" d=\"\" display=\"none\"/></g><g transform=\"translate(0,0)\"><path class=\"background\" aria-hidden=\"true\" d=\"M0,0h200v200h-200Z\"/><g><g class=\"mark-area role-mark marks\" role=\"graphics-object\" aria-roledescription=\"area mark container\"><path aria-label=\"hour: 0; value_sum: 153.4535; resource: natural_gas_fired_combustion_turbine\" role=\"graphics-symbol\" aria-roledescription=\"area mark\" d=\"M0,167.327L8.333,167.327L16.667,167.327L25,167.327L33.333,167.327L41.667,167.327L50,167.327L58.333,170.715L66.667,172.336L75,173.951L83.333,173.951L91.667,175L100,175L108.333,175L116.667,175L125,175L133.333,175L141.667,175L150,150.033L158.333,135.976L166.667,136.25L175,149.857L183.333,163.577L191.667,168.88L191.667,175L183.333,175L175,175L166.667,175L158.333,175L150,175L141.667,175L133.333,175L125,175L116.667,175L108.333,175L100,175L91.667,175L83.333,175L75,175L66.667,175L58.333,175L50,175L41.667,175L33.333,175L25,175L16.667,175L8.333,175L0,175Z\" fill=\"#bcbd22\"/></g></g><path class=\"foreground\" aria-hidden=\"true\" d=\"\" display=\"none\"/></g><g transform=\"translate(0,0)\"><path class=\"background\" aria-hidden=\"true\" d=\"M0,0h200v200h-200Z\"/><g><g class=\"mark-area role-mark marks\" role=\"graphics-object\" aria-roledescription=\"area mark container\"><path aria-label=\"hour: 0; value_sum: 163.3088; resource: _onshore_wind_turbine\" role=\"graphics-symbol\" aria-roledescription=\"area mark\" d=\"M0,94.25L8.333,97.35L16.667,99.1L25,96.9L33.333,88.35L41.667,76.2L50,59.641L58.333,38.517L66.667,18.772L75,6.579L83.333,0.633L91.667,8.433L100,18.512L108.333,22.335L116.667,27.377L125,33.815L133.333,39.866L141.667,46.592L150,54.669L158.333,49.95L166.667,49.7L175,62.1L183.333,75.6L191.667,87L191.667,94.221L183.333,81.923L175,66.902L166.667,53.296L158.333,53.021L150,57.3L141.667,50.523L133.333,42.725L125,33.815L116.667,27.377L108.333,22.335L100,18.512L91.667,13.039L83.333,6.193L75,13.157L66.667,27.14L58.333,40.986L50,63.35L41.667,83.159L33.333,92.379L25,101.928L16.667,104.856L8.333,105.84L0,102.415Z\" fill=\"#ff7f0e\"/></g></g><path class=\"foreground\" aria-hidden=\"true\" d=\"\" display=\"none\"/></g><g transform=\"translate(0,0)\"><path class=\"background\" aria-hidden=\"true\" d=\"M0,0h200v200h-200Z\"/><g><g class=\"mark-area role-mark marks\" role=\"graphics-object\" aria-roledescription=\"area mark container\"><path aria-label=\"hour: 0; value_sum: 3.184932; resource: _small_hydroelectric\" role=\"graphics-symbol\" aria-roledescription=\"area mark\" d=\"M0,102.415L8.333,105.84L16.667,104.856L25,101.928L33.333,92.379L41.667,83.159L50,63.35L58.333,40.986L66.667,27.14L75,13.157L83.333,6.193L91.667,13.039L100,18.512L108.333,22.335L116.667,27.377L125,33.815L133.333,42.725L141.667,50.523L150,57.3L158.333,53.021L166.667,53.296L175,66.902L183.333,81.923L191.667,94.221L191.667,94.38L183.333,82.083L175,67.062L166.667,53.455L158.333,53.181L150,57.459L141.667,50.682L133.333,42.885L125,33.815L116.667,27.377L108.333,22.335L100,18.512L91.667,13.198L83.333,6.352L75,13.316L66.667,27.299L58.333,41.145L50,63.509L41.667,83.318L33.333,92.538L25,102.087L16.667,105.015L8.333,105.999L0,102.575Z\" fill=\"#2ca02c\"/></g></g><path class=\"foreground\" aria-hidden=\"true\" d=\"\" display=\"none\"/></g><g transform=\"translate(0,0)\"><path class=\"background\" aria-hidden=\"true\" d=\"M0,0h200v200h-200Z\"/><g><g class=\"mark-area role-mark marks\" role=\"graphics-object\" aria-roledescription=\"area mark container\"><path aria-label=\"hour: 0; value_sum: 0; resource: _solar_photovoltaic\" role=\"graphics-symbol\" aria-roledescription=\"area mark\" d=\"M0,102.575L8.333,105.999L16.667,105.015L25,102.087L33.333,92.538L41.667,83.318L50,63.509L58.333,41.145L66.667,27.299L75,13.316L83.333,6.352L91.667,13.198L100,18.512L108.333,22.335L116.667,27.377L125,33.815L133.333,42.885L141.667,50.682L150,57.459L158.333,53.181L166.667,53.455L175,67.062L183.333,82.083L191.667,94.38L191.667,94.38L183.333,82.083L175,67.062L166.667,53.455L158.333,53.181L150,65.807L141.667,107.312L133.333,124.75L125,128.658L116.667,126.78L108.333,125.918L100,125.752L91.667,120.63L83.333,112.034L75,114.064L66.667,110.879L58.333,79.837L50,73.187L41.667,83.318L33.333,92.538L25,102.087L16.667,105.015L8.333,105.999L0,102.575Z\" fill=\"#d62728\"/></g></g><path class=\"foreground\" aria-hidden=\"true\" d=\"\" display=\"none\"/></g><g transform=\"translate(0,0)\"><path class=\"background\" aria-hidden=\"true\" d=\"M0,0h200v200h-200Z\"/><g><g class=\"mark-area role-mark marks\" role=\"graphics-object\" aria-roledescription=\"area mark container\"><path aria-label=\"hour: 0; value_sum: 0; resource: _solar_photovoltaic_btm\" role=\"graphics-symbol\" aria-roledescription=\"area mark\" d=\"M0,102.575L8.333,105.999L16.667,105.015L25,102.087L33.333,92.538L41.667,83.318L50,73.187L58.333,79.837L66.667,110.879L75,114.064L83.333,112.034L91.667,120.63L100,125.752L108.333,125.918L116.667,126.78L125,128.658L133.333,124.75L141.667,107.312L150,65.807L158.333,53.181L166.667,53.455L175,67.062L183.333,82.083L191.667,94.38L191.667,94.38L183.333,82.083L175,67.062L166.667,53.455L158.333,53.181L150,67.238L141.667,117.02L133.333,138.784L125,145.743L116.667,145.503L108.333,145.283L100,145.09L91.667,139.047L83.333,130.151L75,131.335L66.667,125.207L58.333,86.47L50,74.846L41.667,83.318L33.333,92.538L25,102.087L16.667,105.015L8.333,105.999L0,102.575Z\" fill=\"#9467bd\"/></g></g><path class=\"foreground\" aria-hidden=\"true\" d=\"\" display=\"none\"/></g><g transform=\"translate(0,0)\"><path class=\"background\" aria-hidden=\"true\" d=\"M0,0h200v200h-200Z\"/><g><g class=\"mark-area role-mark marks\" role=\"graphics-object\" aria-roledescription=\"area mark container\"><path aria-label=\"hour: 0; value_sum: 0; resource: _curtailment\" role=\"graphics-symbol\" aria-roledescription=\"area mark\" d=\"M0,94.25L8.333,97.35L16.667,99.1L25,96.9L33.333,88.35L41.667,76.2L50,59.641L58.333,38.517L66.667,18.772L75,6.579L83.333,0.633L91.667,8.433L100,10.184L108.333,9.562L116.667,14.942L125,25.566L133.333,39.866L141.667,46.592L150,54.669L158.333,175L166.667,49.7L175,62.1L183.333,75.6L191.667,87L191.667,87L183.333,75.6L175,62.1L166.667,49.7L158.333,175L150,54.669L141.667,46.592L133.333,39.866L125,33.815L116.667,27.377L108.333,22.335L100,18.512L91.667,8.433L83.333,0.633L75,6.579L66.667,18.772L58.333,38.517L50,59.641L41.667,76.2L33.333,88.35L25,96.9L16.667,99.1L8.333,97.35L0,94.25Z\" fill=\"#1f77b4\"/></g></g><path class=\"foreground\" aria-hidden=\"true\" d=\"\" display=\"none\"/></g></g><g class=\"mark-group role-legend\" role=\"graphics-symbol\" aria-roledescription=\"legend\" aria-label=\"Symbol legend titled 'resource' for fill color with 9 values: _curtailment, _onshore_wind_turbine, _small_hydroelectric, _solar_photovoltaic, _solar_photovoltaic_btm, ending with natural_gas_fired_combustion_turbine\"><g transform=\"translate(218,0)\"><path class=\"background\" aria-hidden=\"true\" d=\"M0,0h176v131h-176Z\" pointer-events=\"none\"/><g><g class=\"mark-group role-legend-entry\"><g transform=\"translate(0,16)\"><path class=\"background\" aria-hidden=\"true\" d=\"M0,0h0v0h0Z\" pointer-events=\"none\"/><g><g class=\"mark-group role-scope\" role=\"graphics-object\" aria-roledescription=\"group mark container\"><g transform=\"translate(0,0)\"><path class=\"background\" aria-hidden=\"true\" d=\"M0,0h175.5263671875v11h-175.5263671875Z\" pointer-events=\"none\" opacity=\"1\"/><g><g class=\"mark-symbol role-legend-symbol\" pointer-events=\"none\"><path transform=\"translate(6,6)\" d=\"M5,0A5,5,0,1,1,-5,0A5,5,0,1,1,5,0\" fill=\"#1f77b4\" stroke-width=\"1.5\" opacity=\"1\"/></g><g class=\"mark-text role-legend-label\" pointer-events=\"none\"><text text-anchor=\"start\" transform=\"translate(16,9)\" font-family=\"sans-serif\" font-size=\"10px\" fill=\"#000\" opacity=\"1\">_curtailment</text></g></g><path class=\"foreground\" aria-hidden=\"true\" d=\"\" pointer-events=\"none\" display=\"none\"/></g><g transform=\"translate(0,13)\"><path class=\"background\" aria-hidden=\"true\" d=\"M0,0h175.5263671875v11h-175.5263671875Z\" pointer-events=\"none\" opacity=\"1\"/><g><g class=\"mark-symbol role-legend-symbol\" pointer-events=\"none\"><path transform=\"translate(6,6)\" d=\"M5,0A5,5,0,1,1,-5,0A5,5,0,1,1,5,0\" fill=\"#ff7f0e\" stroke-width=\"1.5\" opacity=\"1\"/></g><g class=\"mark-text role-legend-label\" pointer-events=\"none\"><text text-anchor=\"start\" transform=\"translate(16,9)\" font-family=\"sans-serif\" font-size=\"10px\" fill=\"#000\" opacity=\"1\">_onshore_wind_turbine</text></g></g><path class=\"foreground\" aria-hidden=\"true\" d=\"\" pointer-events=\"none\" display=\"none\"/></g><g transform=\"translate(0,26)\"><path class=\"background\" aria-hidden=\"true\" d=\"M0,0h175.5263671875v11h-175.5263671875Z\" pointer-events=\"none\" opacity=\"1\"/><g><g class=\"mark-symbol role-legend-symbol\" pointer-events=\"none\"><path transform=\"translate(6,6)\" d=\"M5,0A5,5,0,1,1,-5,0A5,5,0,1,1,5,0\" fill=\"#2ca02c\" stroke-width=\"1.5\" opacity=\"1\"/></g><g class=\"mark-text role-legend-label\" pointer-events=\"none\"><text text-anchor=\"start\" transform=\"translate(16,9)\" font-family=\"sans-serif\" font-size=\"10px\" fill=\"#000\" opacity=\"1\">_small_hydroelectric</text></g></g><path class=\"foreground\" aria-hidden=\"true\" d=\"\" pointer-events=\"none\" display=\"none\"/></g><g transform=\"translate(0,39)\"><path class=\"background\" aria-hidden=\"true\" d=\"M0,0h175.5263671875v11h-175.5263671875Z\" pointer-events=\"none\" opacity=\"1\"/><g><g class=\"mark-symbol role-legend-symbol\" pointer-events=\"none\"><path transform=\"translate(6,6)\" d=\"M5,0A5,5,0,1,1,-5,0A5,5,0,1,1,5,0\" fill=\"#d62728\" stroke-width=\"1.5\" opacity=\"1\"/></g><g class=\"mark-text role-legend-label\" pointer-events=\"none\"><text text-anchor=\"start\" transform=\"translate(16,9)\" font-family=\"sans-serif\" font-size=\"10px\" fill=\"#000\" opacity=\"1\">_solar_photovoltaic</text></g></g><path class=\"foreground\" aria-hidden=\"true\" d=\"\" pointer-events=\"none\" display=\"none\"/></g><g transform=\"translate(0,52)\"><path class=\"background\" aria-hidden=\"true\" d=\"M0,0h175.5263671875v11h-175.5263671875Z\" pointer-events=\"none\" opacity=\"1\"/><g><g class=\"mark-symbol role-legend-symbol\" pointer-events=\"none\"><path transform=\"translate(6,6)\" d=\"M5,0A5,5,0,1,1,-5,0A5,5,0,1,1,5,0\" fill=\"#9467bd\" stroke-width=\"1.5\" opacity=\"1\"/></g><g class=\"mark-text role-legend-label\" pointer-events=\"none\"><text text-anchor=\"start\" transform=\"translate(16,9)\" font-family=\"sans-serif\" font-size=\"10px\" fill=\"#000\" opacity=\"1\">_solar_photovoltaic_btm</text></g></g><path class=\"foreground\" aria-hidden=\"true\" d=\"\" pointer-events=\"none\" display=\"none\"/></g><g transform=\"translate(0,65)\"><path class=\"background\" aria-hidden=\"true\" d=\"M0,0h175.5263671875v11h-175.5263671875Z\" pointer-events=\"none\" opacity=\"1\"/><g><g class=\"mark-symbol role-legend-symbol\" pointer-events=\"none\"><path transform=\"translate(6,6)\" d=\"M5,0A5,5,0,1,1,-5,0A5,5,0,1,1,5,0\" fill=\"#8c564b\" stroke-width=\"1.5\" opacity=\"1\"/></g><g class=\"mark-text role-legend-label\" pointer-events=\"none\"><text text-anchor=\"start\" transform=\"translate(16,9)\" font-family=\"sans-serif\" font-size=\"10px\" fill=\"#000\" opacity=\"1\">biomass</text></g></g><path class=\"foreground\" aria-hidden=\"true\" d=\"\" pointer-events=\"none\" display=\"none\"/></g><g transform=\"translate(0,78)\"><path class=\"background\" aria-hidden=\"true\" d=\"M0,0h175.5263671875v11h-175.5263671875Z\" pointer-events=\"none\" opacity=\"1\"/><g><g class=\"mark-symbol role-legend-symbol\" pointer-events=\"none\"><path transform=\"translate(6,6)\" d=\"M5,0A5,5,0,1,1,-5,0A5,5,0,1,1,5,0\" fill=\"#e377c2\" stroke-width=\"1.5\" opacity=\"1\"/></g><g class=\"mark-text role-legend-label\" pointer-events=\"none\"><text text-anchor=\"start\" transform=\"translate(16,9)\" font-family=\"sans-serif\" font-size=\"10px\" fill=\"#000\" opacity=\"1\">hydroelectric_pumped_storage</text></g></g><path class=\"foreground\" aria-hidden=\"true\" d=\"\" pointer-events=\"none\" display=\"none\"/></g><g transform=\"translate(0,91)\"><path class=\"background\" aria-hidden=\"true\" d=\"M0,0h175.5263671875v11h-175.5263671875Z\" pointer-events=\"none\" opacity=\"1\"/><g><g class=\"mark-symbol role-legend-symbol\" pointer-events=\"none\"><path transform=\"translate(6,6)\" d=\"M5,0A5,5,0,1,1,-5,0A5,5,0,1,1,5,0\" fill=\"#7f7f7f\" stroke-width=\"1.5\" opacity=\"1\"/></g><g class=\"mark-text role-legend-label\" pointer-events=\"none\"><text text-anchor=\"start\" transform=\"translate(16,9)\" font-family=\"sans-serif\" font-size=\"10px\" fill=\"#000\" opacity=\"1\">natural_gas_fired_combined_…</text></g></g><path class=\"foreground\" aria-hidden=\"true\" d=\"\" pointer-events=\"none\" display=\"none\"/></g><g transform=\"translate(0,104)\"><path class=\"background\" aria-hidden=\"true\" d=\"M0,0h175.5263671875v11h-175.5263671875Z\" pointer-events=\"none\" opacity=\"1\"/><g><g class=\"mark-symbol role-legend-symbol\" pointer-events=\"none\"><path transform=\"translate(6,6)\" d=\"M5,0A5,5,0,1,1,-5,0A5,5,0,1,1,5,0\" fill=\"#bcbd22\" stroke-width=\"1.5\" opacity=\"1\"/></g><g class=\"mark-text role-legend-label\" pointer-events=\"none\"><text text-anchor=\"start\" transform=\"translate(16,9)\" font-family=\"sans-serif\" font-size=\"10px\" fill=\"#000\" opacity=\"1\">natural_gas_fired_combustion…</text></g></g><path class=\"foreground\" aria-hidden=\"true\" d=\"\" pointer-events=\"none\" display=\"none\"/></g></g></g><path class=\"foreground\" aria-hidden=\"true\" d=\"\" pointer-events=\"none\" display=\"none\"/></g></g><g class=\"mark-text role-legend-title\" pointer-events=\"none\"><text text-anchor=\"start\" transform=\"translate(0,9)\" font-family=\"sans-serif\" font-size=\"11px\" font-weight=\"bold\" fill=\"#000\" opacity=\"1\">resource</text></g></g><path class=\"foreground\" aria-hidden=\"true\" d=\"\" pointer-events=\"none\" display=\"none\"/></g></g></g><path class=\"foreground\" aria-hidden=\"true\" d=\"\" display=\"none\"/></g></g></g></svg>"
      ],
      "text/plain": [
       "@vlplot(\n",
       "    mark=\"area\",\n",
       "    encoding={\n",
       "        x={\n",
       "            field=\"hour\"\n",
       "        },\n",
       "        y={\n",
       "            stack=\"zero\",\n",
       "            field=\"value_sum\"\n",
       "        },\n",
       "        color={\n",
       "            scale={\n",
       "                scheme=\"category10\"\n",
       "            },\n",
       "            field=\"resource\",\n",
       "            type=\"nominal\"\n",
       "        }\n",
       "    },\n",
       "    data={\n",
       "        values=...\n",
       "    }\n",
       ")"
      ]
     },
     "metadata": {},
     "output_type": "display_data"
    }
   ],
   "source": [
    "solution = solve_unit_commitment(\n",
    "    gen_df_sens,\n",
    "    loads_multi,\n",
    "    gen_variable_multi,\n",
    "    0.001,\n",
    "    ramp_constraints = true,\n",
    "    energy_reserve = energy_reserve)\n",
    "    sol_gen = innerjoin(solution.gen, \n",
    "                    gen_df[!, [:r_id, :resource]], \n",
    "                    on = :r_id)\n",
    "sol_gen = combine(groupby(sol_gen, [:resource, :hour]), \n",
    "            :value => sum)\n",
    "\n",
    "# Rename generators (for plotting purposes)\n",
    "sol_gen[sol_gen.resource .== \"solar_photovoltaic\", :resource] .= \"_solar_photovoltaic\"\n",
    "sol_gen[sol_gen.resource .== \"onshore_wind_turbine\", :resource] .= \"_onshore_wind_turbine\"\n",
    "sol_gen[sol_gen.resource .== \"small_hydroelectric\", :resource] .= \"_small_hydroelectric\"\n",
    "\n",
    "# BTM solar\n",
    "btm = DataFrame(resource = repeat([\"_solar_photovoltaic_btm\"]; outer=length(T_period)), \n",
    "    hour = T_period,\n",
    "    value_sum = gen_variable_multi[gen_variable_multi.gen_full .== \"wec_sdge_solar_photovoltaic_1.0\",:cf] * 600)\n",
    "append!(sol_gen, btm)\n",
    "\n",
    "# Curtailment\n",
    "curtail = combine(groupby(solution.curtail, [:hour]),\n",
    "            :value => sum)\n",
    "curtail[!, :resource] .= \"_curtailment\"\n",
    "# rename!(curtail, :curt_sum => :value_sum)\n",
    "append!(sol_gen, curtail[:,[:resource, :hour, :value_sum]])\n",
    "\n",
    "# Rescale hours\n",
    "sol_gen.hour = sol_gen.hour .- T_period[1]\n",
    "\n",
    "sol_gen |>\n",
    "@vlplot(:area, \n",
    "    x=:hour, y={:value_sum, stack=:zero}, \n",
    "    color={\"resource:n\", scale={scheme=\"category10\"}})"
   ]
  },
  {
   "cell_type": "code",
   "execution_count": 62,
   "metadata": {},
   "outputs": [
    {
     "data": {
      "application/vnd.vegalite.v5+json": {
       "data": {
        "values": [
         {
          "hour": 0,
          "resource": "natural_gas_fired_combined_cycle",
          "value_sum": 6
         },
         {
          "hour": 0,
          "resource": "natural_gas_fired_combustion_turbine",
          "value_sum": 5
         },
         {
          "hour": 1,
          "resource": "natural_gas_fired_combined_cycle",
          "value_sum": 6
         },
         {
          "hour": 1,
          "resource": "natural_gas_fired_combustion_turbine",
          "value_sum": 5
         },
         {
          "hour": 2,
          "resource": "natural_gas_fired_combined_cycle",
          "value_sum": 6
         },
         {
          "hour": 2,
          "resource": "natural_gas_fired_combustion_turbine",
          "value_sum": 5
         },
         {
          "hour": 3,
          "resource": "natural_gas_fired_combined_cycle",
          "value_sum": 6
         },
         {
          "hour": 3,
          "resource": "natural_gas_fired_combustion_turbine",
          "value_sum": 5
         },
         {
          "hour": 4,
          "resource": "natural_gas_fired_combined_cycle",
          "value_sum": 6
         },
         {
          "hour": 4,
          "resource": "natural_gas_fired_combustion_turbine",
          "value_sum": 5
         },
         {
          "hour": 5,
          "resource": "natural_gas_fired_combined_cycle",
          "value_sum": 6
         },
         {
          "hour": 5,
          "resource": "natural_gas_fired_combustion_turbine",
          "value_sum": 5
         },
         {
          "hour": 6,
          "resource": "natural_gas_fired_combined_cycle",
          "value_sum": 6
         },
         {
          "hour": 6,
          "resource": "natural_gas_fired_combustion_turbine",
          "value_sum": 5
         },
         {
          "hour": 7,
          "resource": "natural_gas_fired_combined_cycle",
          "value_sum": 6
         },
         {
          "hour": 7,
          "resource": "natural_gas_fired_combustion_turbine",
          "value_sum": 3
         },
         {
          "hour": 8,
          "resource": "natural_gas_fired_combined_cycle",
          "value_sum": 4
         },
         {
          "hour": 8,
          "resource": "natural_gas_fired_combustion_turbine",
          "value_sum": 2
         },
         {
          "hour": 9,
          "resource": "natural_gas_fired_combined_cycle",
          "value_sum": 4
         },
         {
          "hour": 9,
          "resource": "natural_gas_fired_combustion_turbine",
          "value_sum": 1
         },
         {
          "hour": 10,
          "resource": "natural_gas_fired_combined_cycle",
          "value_sum": 4
         },
         {
          "hour": 10,
          "resource": "natural_gas_fired_combustion_turbine",
          "value_sum": 1
         },
         {
          "hour": 11,
          "resource": "natural_gas_fired_combined_cycle",
          "value_sum": 4
         },
         {
          "hour": 11,
          "resource": "natural_gas_fired_combustion_turbine",
          "value_sum": 0
         },
         {
          "hour": 12,
          "resource": "natural_gas_fired_combined_cycle",
          "value_sum": 4
         },
         {
          "hour": 12,
          "resource": "natural_gas_fired_combustion_turbine",
          "value_sum": 0
         },
         {
          "hour": 13,
          "resource": "natural_gas_fired_combined_cycle",
          "value_sum": 4
         },
         {
          "hour": 13,
          "resource": "natural_gas_fired_combustion_turbine",
          "value_sum": 0
         },
         {
          "hour": 14,
          "resource": "natural_gas_fired_combined_cycle",
          "value_sum": 4
         },
         {
          "hour": 14,
          "resource": "natural_gas_fired_combustion_turbine",
          "value_sum": 0
         },
         {
          "hour": 15,
          "resource": "natural_gas_fired_combined_cycle",
          "value_sum": 4
         },
         {
          "hour": 15,
          "resource": "natural_gas_fired_combustion_turbine",
          "value_sum": 0
         },
         {
          "hour": 16,
          "resource": "natural_gas_fired_combined_cycle",
          "value_sum": 4
         },
         {
          "hour": 16,
          "resource": "natural_gas_fired_combustion_turbine",
          "value_sum": 0
         },
         {
          "hour": 17,
          "resource": "natural_gas_fired_combined_cycle",
          "value_sum": 5
         },
         {
          "hour": 17,
          "resource": "natural_gas_fired_combustion_turbine",
          "value_sum": 0
         },
         {
          "hour": 18,
          "resource": "natural_gas_fired_combined_cycle",
          "value_sum": 5
         },
         {
          "hour": 18,
          "resource": "natural_gas_fired_combustion_turbine",
          "value_sum": 10
         },
         {
          "hour": 19,
          "resource": "natural_gas_fired_combined_cycle",
          "value_sum": 5
         },
         {
          "hour": 19,
          "resource": "natural_gas_fired_combustion_turbine",
          "value_sum": 15
         },
         {
          "hour": 20,
          "resource": "natural_gas_fired_combined_cycle",
          "value_sum": 5
         },
         {
          "hour": 20,
          "resource": "natural_gas_fired_combustion_turbine",
          "value_sum": 15
         },
         {
          "hour": 21,
          "resource": "natural_gas_fired_combined_cycle",
          "value_sum": 5
         },
         {
          "hour": 21,
          "resource": "natural_gas_fired_combustion_turbine",
          "value_sum": 10
         },
         {
          "hour": 22,
          "resource": "natural_gas_fired_combined_cycle",
          "value_sum": 5
         },
         {
          "hour": 22,
          "resource": "natural_gas_fired_combustion_turbine",
          "value_sum": 7
         },
         {
          "hour": 23,
          "resource": "natural_gas_fired_combined_cycle",
          "value_sum": 5
         },
         {
          "hour": 23,
          "resource": "natural_gas_fired_combustion_turbine",
          "value_sum": 4
         }
        ]
       },
       "encoding": {
        "color": {
         "field": "resource",
         "scale": {
          "scheme": "category10"
         },
         "type": "nominal"
        },
        "x": {
         "field": "hour",
         "type": "quantitative"
        },
        "y": {
         "field": "value_sum",
         "stack": "zero",
         "type": "quantitative"
        }
       },
       "mark": "area"
      },
      "image/png": "[encoded data removed]",
      "image/svg+xml": [
       "<svg xmlns=\"http://www.w3.org/2000/svg\" xmlns:xlink=\"http://www.w3.org/1999/xlink\" version=\"1.1\" class=\"marks\" width=\"439\" height=\"247\" viewBox=\"0 0 439 247\"><rect width=\"439\" height=\"247\" fill=\"white\"/><g fill=\"none\" stroke-miterlimit=\"10\" transform=\"translate(40,10)\"><g class=\"mark-group role-frame root\" role=\"graphics-object\" aria-roledescription=\"group mark container\"><g transform=\"translate(0,0)\"><path class=\"background\" aria-hidden=\"true\" d=\"M0.5,0.5h200v200h-200Z\" stroke=\"#ddd\"/><g><g class=\"mark-group role-axis\" aria-hidden=\"true\"><g transform=\"translate(0.5,200.5)\"><path class=\"background\" aria-hidden=\"true\" d=\"M0,0h0v0h0Z\" pointer-events=\"none\"/><g><g class=\"mark-rule role-axis-grid\" pointer-events=\"none\"><line transform=\"translate(0,-200)\" x2=\"0\" y2=\"200\" stroke=\"#ddd\" stroke-width=\"1\" opacity=\"1\"/><line transform=\"translate(42,-200)\" x2=\"0\" y2=\"200\" stroke=\"#ddd\" stroke-width=\"1\" opacity=\"1\"/><line transform=\"translate(83,-200)\" x2=\"0\" y2=\"200\" stroke=\"#ddd\" stroke-width=\"1\" opacity=\"1\"/><line transform=\"translate(125,-200)\" x2=\"0\" y2=\"200\" stroke=\"#ddd\" stroke-width=\"1\" opacity=\"1\"/><line transform=\"translate(167,-200)\" x2=\"0\" y2=\"200\" stroke=\"#ddd\" stroke-width=\"1\" opacity=\"1\"/></g></g><path class=\"foreground\" aria-hidden=\"true\" d=\"\" pointer-events=\"none\" display=\"none\"/></g></g><g class=\"mark-group role-axis\" aria-hidden=\"true\"><g transform=\"translate(0.5,0.5)\"><path class=\"background\" aria-hidden=\"true\" d=\"M0,0h0v0h0Z\" pointer-events=\"none\"/><g><g class=\"mark-rule role-axis-grid\" pointer-events=\"none\"><line transform=\"translate(0,200)\" x2=\"200\" y2=\"0\" stroke=\"#ddd\" stroke-width=\"1\" opacity=\"1\"/><line transform=\"translate(0,150)\" x2=\"200\" y2=\"0\" stroke=\"#ddd\" stroke-width=\"1\" opacity=\"1\"/><line transform=\"translate(0,100)\" x2=\"200\" y2=\"0\" stroke=\"#ddd\" stroke-width=\"1\" opacity=\"1\"/><line transform=\"translate(0,50)\" x2=\"200\" y2=\"0\" stroke=\"#ddd\" stroke-width=\"1\" opacity=\"1\"/><line transform=\"translate(0,0)\" x2=\"200\" y2=\"0\" stroke=\"#ddd\" stroke-width=\"1\" opacity=\"1\"/></g></g><path class=\"foreground\" aria-hidden=\"true\" d=\"\" pointer-events=\"none\" display=\"none\"/></g></g><g class=\"mark-group role-axis\" role=\"graphics-symbol\" aria-roledescription=\"axis\" aria-label=\"X-axis titled 'hour' for a linear scale with values from 0 to 24\"><g transform=\"translate(0.5,200.5)\"><path class=\"background\" aria-hidden=\"true\" d=\"M0,0h0v0h0Z\" pointer-events=\"none\"/><g><g class=\"mark-rule role-axis-tick\" pointer-events=\"none\"><line transform=\"translate(0,0)\" x2=\"0\" y2=\"5\" stroke=\"#888\" stroke-width=\"1\" opacity=\"1\"/><line transform=\"translate(42,0)\" x2=\"0\" y2=\"5\" stroke=\"#888\" stroke-width=\"1\" opacity=\"1\"/><line transform=\"translate(83,0)\" x2=\"0\" y2=\"5\" stroke=\"#888\" stroke-width=\"1\" opacity=\"1\"/><line transform=\"translate(125,0)\" x2=\"0\" y2=\"5\" stroke=\"#888\" stroke-width=\"1\" opacity=\"1\"/><line transform=\"translate(167,0)\" x2=\"0\" y2=\"5\" stroke=\"#888\" stroke-width=\"1\" opacity=\"1\"/></g><g class=\"mark-text role-axis-label\" pointer-events=\"none\"><text text-anchor=\"start\" transform=\"translate(0,15)\" font-family=\"sans-serif\" font-size=\"10px\" fill=\"#000\" opacity=\"1\">0</text><text text-anchor=\"middle\" transform=\"translate(41.66666666666667,15)\" font-family=\"sans-serif\" font-size=\"10px\" fill=\"#000\" opacity=\"1\">5</text><text text-anchor=\"middle\" transform=\"translate(83.33333333333334,15)\" font-family=\"sans-serif\" font-size=\"10px\" fill=\"#000\" opacity=\"1\">10</text><text text-anchor=\"middle\" transform=\"translate(125,15)\" font-family=\"sans-serif\" font-size=\"10px\" fill=\"#000\" opacity=\"1\">15</text><text text-anchor=\"middle\" transform=\"translate(166.66666666666669,15)\" font-family=\"sans-serif\" font-size=\"10px\" fill=\"#000\" opacity=\"1\">20</text></g><g class=\"mark-rule role-axis-domain\" pointer-events=\"none\"><line transform=\"translate(0,0)\" x2=\"200\" y2=\"0\" stroke=\"#888\" stroke-width=\"1\" opacity=\"1\"/></g><g class=\"mark-text role-axis-title\" pointer-events=\"none\"><text text-anchor=\"middle\" transform=\"translate(100,30)\" font-family=\"sans-serif\" font-size=\"11px\" font-weight=\"bold\" fill=\"#000\" opacity=\"1\">hour</text></g></g><path class=\"foreground\" aria-hidden=\"true\" d=\"\" pointer-events=\"none\" display=\"none\"/></g></g><g class=\"mark-group role-axis\" role=\"graphics-symbol\" aria-roledescription=\"axis\" aria-label=\"Y-axis titled 'value_sum' for a linear scale with values from 0 to 20\"><g transform=\"translate(0.5,0.5)\"><path class=\"background\" aria-hidden=\"true\" d=\"M0,0h0v0h0Z\" pointer-events=\"none\"/><g><g class=\"mark-rule role-axis-tick\" pointer-events=\"none\"><line transform=\"translate(0,200)\" x2=\"-5\" y2=\"0\" stroke=\"#888\" stroke-width=\"1\" opacity=\"1\"/><line transform=\"translate(0,150)\" x2=\"-5\" y2=\"0\" stroke=\"#888\" stroke-width=\"1\" opacity=\"1\"/><line transform=\"translate(0,100)\" x2=\"-5\" y2=\"0\" stroke=\"#888\" stroke-width=\"1\" opacity=\"1\"/><line transform=\"translate(0,50)\" x2=\"-5\" y2=\"0\" stroke=\"#888\" stroke-width=\"1\" opacity=\"1\"/><line transform=\"translate(0,0)\" x2=\"-5\" y2=\"0\" stroke=\"#888\" stroke-width=\"1\" opacity=\"1\"/></g><g class=\"mark-text role-axis-label\" pointer-events=\"none\"><text text-anchor=\"end\" transform=\"translate(-7,203)\" font-family=\"sans-serif\" font-size=\"10px\" fill=\"#000\" opacity=\"1\">0</text><text text-anchor=\"end\" transform=\"translate(-7,153)\" font-family=\"sans-serif\" font-size=\"10px\" fill=\"#000\" opacity=\"1\">5</text><text text-anchor=\"end\" transform=\"translate(-7,103)\" font-family=\"sans-serif\" font-size=\"10px\" fill=\"#000\" opacity=\"1\">10</text><text text-anchor=\"end\" transform=\"translate(-7,53)\" font-family=\"sans-serif\" font-size=\"10px\" fill=\"#000\" opacity=\"1\">15</text><text text-anchor=\"end\" transform=\"translate(-7,3)\" font-family=\"sans-serif\" font-size=\"10px\" fill=\"#000\" opacity=\"1\">20</text></g><g class=\"mark-rule role-axis-domain\" pointer-events=\"none\"><line transform=\"translate(0,200)\" x2=\"0\" y2=\"-200\" stroke=\"#888\" stroke-width=\"1\" opacity=\"1\"/></g><g class=\"mark-text role-axis-title\" pointer-events=\"none\"><text text-anchor=\"middle\" transform=\"translate(-23.724609375,100) rotate(-90) translate(0,-2)\" font-family=\"sans-serif\" font-size=\"11px\" font-weight=\"bold\" fill=\"#000\" opacity=\"1\">value_sum</text></g></g><path class=\"foreground\" aria-hidden=\"true\" d=\"\" pointer-events=\"none\" display=\"none\"/></g></g><g class=\"mark-group role-scope pathgroup\" role=\"graphics-object\" aria-roledescription=\"group mark container\"><g transform=\"translate(0,0)\"><path class=\"background\" aria-hidden=\"true\" d=\"M0,0h200v200h-200Z\"/><g><g class=\"mark-area role-mark marks\" role=\"graphics-object\" aria-roledescription=\"area mark container\"><path aria-label=\"hour: 0; value_sum: 6; resource: natural_gas_fired_combined_cycle\" role=\"graphics-symbol\" aria-roledescription=\"area mark\" d=\"M0,90L8.333,90L16.667,90L25,90L33.333,90L41.667,90L50,90L58.333,110L66.667,140L75,150L83.333,150L91.667,160L100,160L108.333,160L116.667,160L125,160L133.333,160L141.667,150L150,50L158.333,0L166.667,0L175,50L183.333,80L191.667,110L191.667,160L183.333,130L175,100L166.667,50L158.333,50L150,100L141.667,200L133.333,200L125,200L116.667,200L108.333,200L100,200L91.667,200L83.333,190L75,190L66.667,180L58.333,170L50,150L41.667,150L33.333,150L25,150L16.667,150L8.333,150L0,150Z\" fill=\"#1f77b4\"/></g></g><path class=\"foreground\" aria-hidden=\"true\" d=\"\" display=\"none\"/></g><g transform=\"translate(0,0)\"><path class=\"background\" aria-hidden=\"true\" d=\"M0,0h200v200h-200Z\"/><g><g class=\"mark-area role-mark marks\" role=\"graphics-object\" aria-roledescription=\"area mark container\"><path aria-label=\"hour: 0; value_sum: 5; resource: natural_gas_fired_combustion_turbine\" role=\"graphics-symbol\" aria-roledescription=\"area mark\" d=\"M0,150L8.333,150L16.667,150L25,150L33.333,150L41.667,150L50,150L58.333,170L66.667,180L75,190L83.333,190L91.667,200L100,200L108.333,200L116.667,200L125,200L133.333,200L141.667,200L150,100L158.333,50L166.667,50L175,100L183.333,130L191.667,160L191.667,200L183.333,200L175,200L166.667,200L158.333,200L150,200L141.667,200L133.333,200L125,200L116.667,200L108.333,200L100,200L91.667,200L83.333,200L75,200L66.667,200L58.333,200L50,200L41.667,200L33.333,200L25,200L16.667,200L8.333,200L0,200Z\" fill=\"#ff7f0e\"/></g></g><path class=\"foreground\" aria-hidden=\"true\" d=\"\" display=\"none\"/></g></g><g class=\"mark-group role-legend\" role=\"graphics-symbol\" aria-roledescription=\"legend\" aria-label=\"Symbol legend titled 'resource' for fill color with 2 values: natural_gas_fired_combined_cycle, natural_gas_fired_combustion_turbine\"><g transform=\"translate(218,0)\"><path class=\"background\" aria-hidden=\"true\" d=\"M0,0h176v40h-176Z\" pointer-events=\"none\"/><g><g class=\"mark-group role-legend-entry\"><g transform=\"translate(0,16)\"><path class=\"background\" aria-hidden=\"true\" d=\"M0,0h0v0h0Z\" pointer-events=\"none\"/><g><g class=\"mark-group role-scope\" role=\"graphics-object\" aria-roledescription=\"group mark container\"><g transform=\"translate(0,0)\"><path class=\"background\" aria-hidden=\"true\" d=\"M0,0h175.5263671875v11h-175.5263671875Z\" pointer-events=\"none\" opacity=\"1\"/><g><g class=\"mark-symbol role-legend-symbol\" pointer-events=\"none\"><path transform=\"translate(6,6)\" d=\"M5,0A5,5,0,1,1,-5,0A5,5,0,1,1,5,0\" fill=\"#1f77b4\" stroke-width=\"1.5\" opacity=\"1\"/></g><g class=\"mark-text role-legend-label\" pointer-events=\"none\"><text text-anchor=\"start\" transform=\"translate(16,9)\" font-family=\"sans-serif\" font-size=\"10px\" fill=\"#000\" opacity=\"1\">natural_gas_fired_combined_…</text></g></g><path class=\"foreground\" aria-hidden=\"true\" d=\"\" pointer-events=\"none\" display=\"none\"/></g><g transform=\"translate(0,13)\"><path class=\"background\" aria-hidden=\"true\" d=\"M0,0h175.5263671875v11h-175.5263671875Z\" pointer-events=\"none\" opacity=\"1\"/><g><g class=\"mark-symbol role-legend-symbol\" pointer-events=\"none\"><path transform=\"translate(6,6)\" d=\"M5,0A5,5,0,1,1,-5,0A5,5,0,1,1,5,0\" fill=\"#ff7f0e\" stroke-width=\"1.5\" opacity=\"1\"/></g><g class=\"mark-text role-legend-label\" pointer-events=\"none\"><text text-anchor=\"start\" transform=\"translate(16,9)\" font-family=\"sans-serif\" font-size=\"10px\" fill=\"#000\" opacity=\"1\">natural_gas_fired_combustion…</text></g></g><path class=\"foreground\" aria-hidden=\"true\" d=\"\" pointer-events=\"none\" display=\"none\"/></g></g></g><path class=\"foreground\" aria-hidden=\"true\" d=\"\" pointer-events=\"none\" display=\"none\"/></g></g><g class=\"mark-text role-legend-title\" pointer-events=\"none\"><text text-anchor=\"start\" transform=\"translate(0,9)\" font-family=\"sans-serif\" font-size=\"11px\" font-weight=\"bold\" fill=\"#000\" opacity=\"1\">resource</text></g></g><path class=\"foreground\" aria-hidden=\"true\" d=\"\" pointer-events=\"none\" display=\"none\"/></g></g></g><path class=\"foreground\" aria-hidden=\"true\" d=\"\" display=\"none\"/></g></g></g></svg>"
      ],
      "text/plain": [
       "@vlplot(\n",
       "    mark=\"area\",\n",
       "    encoding={\n",
       "        x={\n",
       "            field=\"hour\"\n",
       "        },\n",
       "        y={\n",
       "            stack=\"zero\",\n",
       "            field=\"value_sum\"\n",
       "        },\n",
       "        color={\n",
       "            scale={\n",
       "                scheme=\"category10\"\n",
       "            },\n",
       "            field=\"resource\",\n",
       "            type=\"nominal\"\n",
       "        }\n",
       "    },\n",
       "    data={\n",
       "        values=...\n",
       "    }\n",
       ")"
      ]
     },
     "metadata": {},
     "output_type": "display_data"
    }
   ],
   "source": [
    "sol_commit = innerjoin(solution.commit, \n",
    "                    gen_df[!, [:r_id, :resource]], \n",
    "                    on = :r_id)\n",
    "sol_commit = combine(groupby(sol_commit, [:resource, :hour]), \n",
    "            :value => sum)\n",
    "sol_commit.hour = sol_commit.hour .- T_period[1]\n",
    "\n",
    "sol_commit |>\n",
    "@vlplot(:area, \n",
    "    x=:hour, y={:value_sum, stack=:zero}, \n",
    "    color={\"resource:n\", scale={scheme=\"category10\"}})"
   ]
  },
  {
   "cell_type": "markdown",
   "metadata": {},
   "source": [
    "### Unit commitment ramp and electrical storage"
   ]
  },
  {
   "cell_type": "code",
   "execution_count": 63,
   "metadata": {},
   "outputs": [
    {
     "name": "stdout",
     "output_type": "stream",
     "text": [
      "Set parameter WLSAccessID\n",
      "Set parameter WLSSecret\n",
      "Set parameter LicenseID to value 2475843\n",
      "Academic license 2475843 - for non-commercial use only - registered to pa___@imperial.ac.uk\n",
      "Set parameter MIPGap to value 0.001\n",
      "Adding ramp constraints...\n",
      "Adding storage...\n"
     ]
    },
    {
     "name": "stdout",
     "output_type": "stream",
     "text": [
      "Set parameter MIPGap to value 0.001\n",
      "Gurobi Optimizer version 11.0.0 build v11.0.0rc2 (linux64 - \"Ubuntu 22.04.3 LTS\")\n",
      "\n",
      "CPU model: 11th Gen Intel(R) Core(TM) i7-11370H @ 3.30GHz, instruction set [SSE2|AVX|AVX2|AVX512]\n",
      "Thread count: 4 physical cores, 8 logical processors, using up to 8 threads\n",
      "\n",
      "Academic license 2475843 - for non-commercial use only - registered to pa___@imperial.ac.uk\n",
      "Optimize a model with 6692 rows, 3720 columns and 17076 nonzeros\n",
      "Model fingerprint: 0x6ec01c60\n",
      "Variable types: 1896 continuous, 1824 integer (1824 binary)\n",
      "Coefficient statistics:\n",
      "  Matrix range     [9e-01, 1e+03]\n",
      "  Objective range  [1e-01, 5e+04]\n",
      "  Bounds range     [0e+00, 0e+00]\n",
      "  RHS range        [1e+00, 4e+03]\n",
      "Presolve removed 3316 rows and 674 columns\n",
      "Presolve time: 0.03s\n",
      "Presolved: 3376 rows, 3046 columns, 13026 nonzeros\n",
      "Variable types: 1266 continuous, 1780 integer (1780 binary)\n",
      "\n",
      "Root relaxation: objective 6.032806e+05, 566 iterations, 0.01 seconds (0.01 work units)\n",
      "\n",
      "    Nodes    |    Current Node    |     Objective Bounds      |     Work\n",
      " Expl Unexpl |  Obj  Depth IntInf | Incumbent    BestBd   Gap | It/Node Time\n",
      "\n",
      "     0     0 603280.602    0    9          - 603280.602      -     -    0s\n",
      "H    0     0                    603457.66965 603280.602  0.03%     -    0s\n",
      "\n",
      "Explored 1 nodes (566 simplex iterations) in 0.08 seconds (0.07 work units)\n",
      "Thread count was 8 (of 8 available processors)\n",
      "\n",
      "Solution count 1: 603458 \n",
      "\n",
      "Optimal solution found (tolerance 1.00e-03)\n",
      "Best objective 6.034576696459e+05, best bound 6.032806020334e+05, gap 0.0293%\n",
      "\n",
      "User-callback calls 462, time in user-callback 0.00 sec\n"
     ]
    },
    {
     "data": {
      "application/vnd.vegalite.v5+json": {
       "data": {
        "values": [
         {
          "hour": 0,
          "resource": "biomass",
          "value_sum": 0
         },
         {
          "hour": 0,
          "resource": "hydroelectric_pumped_storage",
          "value_sum": 42
         },
         {
          "hour": 0,
          "resource": "natural_gas_fired_combined_cycle",
          "value_sum": 478.57287679599926
         },
         {
          "hour": 0,
          "resource": "natural_gas_fired_combustion_turbine",
          "value_sum": 0
         },
         {
          "hour": 0,
          "resource": "_onshore_wind_turbine",
          "value_sum": 163.3088
         },
         {
          "hour": 0,
          "resource": "_small_hydroelectric",
          "value_sum": 3.184932
         },
         {
          "hour": 0,
          "resource": "_solar_photovoltaic",
          "value_sum": 0
         },
         {
          "hour": 1,
          "resource": "biomass",
          "value_sum": 21.4
         },
         {
          "hour": 1,
          "resource": "hydroelectric_pumped_storage",
          "value_sum": 42
         },
         {
          "hour": 1,
          "resource": "natural_gas_fired_combined_cycle",
          "value_sum": 981.1728767959993
         },
         {
          "hour": 1,
          "resource": "natural_gas_fired_combustion_turbine",
          "value_sum": 0
         },
         {
          "hour": 1,
          "resource": "_onshore_wind_turbine",
          "value_sum": 169.79327999999998
         },
         {
          "hour": 1,
          "resource": "_small_hydroelectric",
          "value_sum": 3.184932
         },
         {
          "hour": 1,
          "resource": "_solar_photovoltaic",
          "value_sum": 0
         },
         {
          "hour": 2,
          "resource": "biomass",
          "value_sum": 21.4
         },
         {
          "hour": 2,
          "resource": "hydroelectric_pumped_storage",
          "value_sum": 42
         },
         {
          "hour": 2,
          "resource": "natural_gas_fired_combined_cycle",
          "value_sum": 1256.5
         },
         {
          "hour": 2,
          "resource": "natural_gas_fired_combustion_turbine",
          "value_sum": 0
         },
         {
          "hour": 2,
          "resource": "_onshore_wind_turbine",
          "value_sum": 115.1104
         },
         {
          "hour": 2,
          "resource": "_small_hydroelectric",
          "value_sum": 3.184932
         },
         {
          "hour": 2,
          "resource": "_solar_photovoltaic",
          "value_sum": 0
         },
         {
          "hour": 3,
          "resource": "biomass",
          "value_sum": 21.4
         },
         {
          "hour": 3,
          "resource": "hydroelectric_pumped_storage",
          "value_sum": 42
         },
         {
          "hour": 3,
          "resource": "natural_gas_fired_combined_cycle",
          "value_sum": 1256.5
         },
         {
          "hour": 3,
          "resource": "natural_gas_fired_combustion_turbine",
          "value_sum": 0
         },
         {
          "hour": 3,
          "resource": "_onshore_wind_turbine",
          "value_sum": 100.55296
         },
         {
          "hour": 3,
          "resource": "_small_hydroelectric",
          "value_sum": 3.184931999999989
         },
         {
          "hour": 3,
          "resource": "_solar_photovoltaic",
          "value_sum": 0
         },
         {
          "hour": 4,
          "resource": "biomass",
          "value_sum": 21.4
         },
         {
          "hour": 4,
          "resource": "hydroelectric_pumped_storage",
          "value_sum": 42
         },
         {
          "hour": 4,
          "resource": "natural_gas_fired_combined_cycle",
          "value_sum": 1256.5
         },
         {
          "hour": 4,
          "resource": "natural_gas_fired_combustion_turbine",
          "value_sum": 0
         },
         {
          "hour": 4,
          "resource": "_onshore_wind_turbine",
          "value_sum": 80.57728
         },
         {
          "hour": 4,
          "resource": "_small_hydroelectric",
          "value_sum": 3.184932
         },
         {
          "hour": 4,
          "resource": "_solar_photovoltaic",
          "value_sum": 0
         },
         {
          "hour": 5,
          "resource": "biomass",
          "value_sum": 21.4
         },
         {
          "hour": 5,
          "resource": "hydroelectric_pumped_storage",
          "value_sum": 42
         },
         {
          "hour": 5,
          "resource": "natural_gas_fired_combined_cycle",
          "value_sum": 1256.5
         },
         {
          "hour": 5,
          "resource": "natural_gas_fired_combustion_turbine",
          "value_sum": 0
         },
         {
          "hour": 5,
          "resource": "_onshore_wind_turbine",
          "value_sum": 139.17695999999998
         },
         {
          "hour": 5,
          "resource": "_small_hydroelectric",
          "value_sum": 3.184932
         },
         {
          "hour": 5,
          "resource": "_solar_photovoltaic",
          "value_sum": 0
         },
         {
          "hour": 6,
          "resource": "biomass",
          "value_sum": 21.4
         },
         {
          "hour": 6,
          "resource": "hydroelectric_pumped_storage",
          "value_sum": 42
         },
         {
          "hour": 6,
          "resource": "natural_gas_fired_combined_cycle",
          "value_sum": 1256.5
         },
         {
          "hour": 6,
          "resource": "natural_gas_fired_combustion_turbine",
          "value_sum": 0
         },
         {
          "hour": 6,
          "resource": "_onshore_wind_turbine",
          "value_sum": 74.17984
         },
         {
          "hour": 6,
          "resource": "_small_hydroelectric",
          "value_sum": 3.184932
         },
         {
          "hour": 6,
          "resource": "_solar_photovoltaic",
          "value_sum": 193.55
         },
         {
          "hour": 7,
          "resource": "biomass",
          "value_sum": 21.4
         },
         {
          "hour": 7,
          "resource": "hydroelectric_pumped_storage",
          "value_sum": 42
         },
         {
          "hour": 7,
          "resource": "natural_gas_fired_combined_cycle",
          "value_sum": 1256.5
         },
         {
          "hour": 7,
          "resource": "natural_gas_fired_combustion_turbine",
          "value_sum": 0
         },
         {
          "hour": 7,
          "resource": "_onshore_wind_turbine",
          "value_sum": 49.373439999999995
         },
         {
          "hour": 7,
          "resource": "_small_hydroelectric",
          "value_sum": 3.184932
         },
         {
          "hour": 7,
          "resource": "_solar_photovoltaic",
          "value_sum": 773.85
         },
         {
          "hour": 8,
          "resource": "biomass",
          "value_sum": 21.4
         },
         {
          "hour": 8,
          "resource": "hydroelectric_pumped_storage",
          "value_sum": 42
         },
         {
          "hour": 8,
          "resource": "natural_gas_fired_combined_cycle",
          "value_sum": 1224.74
         },
         {
          "hour": 8,
          "resource": "natural_gas_fired_combustion_turbine",
          "value_sum": 0
         },
         {
          "hour": 8,
          "resource": "_onshore_wind_turbine",
          "value_sum": 167.35616
         },
         {
          "hour": 8,
          "resource": "_small_hydroelectric",
          "value_sum": 3.184932
         },
         {
          "hour": 8,
          "resource": "_solar_photovoltaic",
          "value_sum": 1671.6
         },
         {
          "hour": 9,
          "resource": "biomass",
          "value_sum": 21.4
         },
         {
          "hour": 9,
          "resource": "hydroelectric_pumped_storage",
          "value_sum": 42
         },
         {
          "hour": 9,
          "resource": "natural_gas_fired_combined_cycle",
          "value_sum": 1189.6699276999998
         },
         {
          "hour": 9,
          "resource": "natural_gas_fired_combustion_turbine",
          "value_sum": 0
         },
         {
          "hour": 9,
          "resource": "_onshore_wind_turbine",
          "value_sum": 131.56096000000014
         },
         {
          "hour": 9,
          "resource": "_small_hydroelectric",
          "value_sum": 3.184932
         },
         {
          "hour": 9,
          "resource": "_solar_photovoltaic",
          "value_sum": 2014.95
         },
         {
          "hour": 10,
          "resource": "biomass",
          "value_sum": 21.4
         },
         {
          "hour": 10,
          "resource": "hydroelectric_pumped_storage",
          "value_sum": 42
         },
         {
          "hour": 10,
          "resource": "natural_gas_fired_combined_cycle",
          "value_sum": 1218.3000000000002
         },
         {
          "hour": 10,
          "resource": "natural_gas_fired_combustion_turbine",
          "value_sum": 0
         },
         {
          "hour": 10,
          "resource": "_onshore_wind_turbine",
          "value_sum": 111.1936
         },
         {
          "hour": 10,
          "resource": "_small_hydroelectric",
          "value_sum": 3.184932
         },
         {
          "hour": 10,
          "resource": "_solar_photovoltaic",
          "value_sum": 2113.65
         },
         {
          "hour": 11,
          "resource": "biomass",
          "value_sum": 21.4
         },
         {
          "hour": 11,
          "resource": "hydroelectric_pumped_storage",
          "value_sum": 42
         },
         {
          "hour": 11,
          "resource": "natural_gas_fired_combined_cycle",
          "value_sum": 1083.4057475521736
         },
         {
          "hour": 11,
          "resource": "natural_gas_fired_combustion_turbine",
          "value_sum": 0
         },
         {
          "hour": 11,
          "resource": "_onshore_wind_turbine",
          "value_sum": 92.11008
         },
         {
          "hour": 11,
          "resource": "_small_hydroelectric",
          "value_sum": 3.184932
         },
         {
          "hour": 11,
          "resource": "_solar_photovoltaic",
          "value_sum": 2148.65
         },
         {
          "hour": 12,
          "resource": "biomass",
          "value_sum": 21.4
         },
         {
          "hour": 12,
          "resource": "hydroelectric_pumped_storage",
          "value_sum": 42
         },
         {
          "hour": 12,
          "resource": "natural_gas_fired_combined_cycle",
          "value_sum": 1218.3000000000002
         },
         {
          "hour": 12,
          "resource": "natural_gas_fired_combustion_turbine",
          "value_sum": 0
         },
         {
          "hour": 12,
          "resource": "_onshore_wind_turbine",
          "value_sum": 52.09344
         },
         {
          "hour": 12,
          "resource": "_small_hydroelectric",
          "value_sum": 3.184932
         },
         {
          "hour": 12,
          "resource": "_solar_photovoltaic",
          "value_sum": 2256.1
         },
         {
          "hour": 13,
          "resource": "biomass",
          "value_sum": 21.4
         },
         {
          "hour": 13,
          "resource": "hydroelectric_pumped_storage",
          "value_sum": 42
         },
         {
          "hour": 13,
          "resource": "natural_gas_fired_combined_cycle",
          "value_sum": 1218.3000000000002
         },
         {
          "hour": 13,
          "resource": "natural_gas_fired_combustion_turbine",
          "value_sum": 0
         },
         {
          "hour": 13,
          "resource": "_onshore_wind_turbine",
          "value_sum": 64.69248
         },
         {
          "hour": 13,
          "resource": "_small_hydroelectric",
          "value_sum": 3.184932
         },
         {
          "hour": 13,
          "resource": "_solar_photovoltaic",
          "value_sum": 2259.25
         },
         {
          "hour": 14,
          "resource": "biomass",
          "value_sum": 21.4
         },
         {
          "hour": 14,
          "resource": "hydroelectric_pumped_storage",
          "value_sum": 42
         },
         {
          "hour": 14,
          "resource": "natural_gas_fired_combined_cycle",
          "value_sum": 1205.3943987999999
         },
         {
          "hour": 14,
          "resource": "natural_gas_fired_combustion_turbine",
          "value_sum": 0
         },
         {
          "hour": 14,
          "resource": "_onshore_wind_turbine",
          "value_sum": 49.22112
         },
         {
          "hour": 14,
          "resource": "_small_hydroelectric",
          "value_sum": 3.184932
         },
         {
          "hour": 14,
          "resource": "_solar_photovoltaic",
          "value_sum": 2184.35
         },
         {
          "hour": 15,
          "resource": "biomass",
          "value_sum": 21.4
         },
         {
          "hour": 15,
          "resource": "hydroelectric_pumped_storage",
          "value_sum": 42
         },
         {
          "hour": 15,
          "resource": "natural_gas_fired_combined_cycle",
          "value_sum": 1145.7894363
         },
         {
          "hour": 15,
          "resource": "natural_gas_fired_combustion_turbine",
          "value_sum": 0
         },
         {
          "hour": 15,
          "resource": "_onshore_wind_turbine",
          "value_sum": 65.41055999999999
         },
         {
          "hour": 15,
          "resource": "_small_hydroelectric",
          "value_sum": 3.184932
         },
         {
          "hour": 15,
          "resource": "_solar_photovoltaic",
          "value_sum": 1993.25
         },
         {
          "hour": 16,
          "resource": "biomass",
          "value_sum": 21.4
         },
         {
          "hour": 16,
          "resource": "hydroelectric_pumped_storage",
          "value_sum": 42
         },
         {
          "hour": 16,
          "resource": "natural_gas_fired_combined_cycle",
          "value_sum": 1130.294909269751
         },
         {
          "hour": 16,
          "resource": "natural_gas_fired_combustion_turbine",
          "value_sum": 0
         },
         {
          "hour": 16,
          "resource": "_onshore_wind_turbine",
          "value_sum": 57.18527999999999
         },
         {
          "hour": 16,
          "resource": "_small_hydroelectric",
          "value_sum": 3.184932
         },
         {
          "hour": 16,
          "resource": "_solar_photovoltaic",
          "value_sum": 1637.3
         },
         {
          "hour": 17,
          "resource": "biomass",
          "value_sum": 21.4
         },
         {
          "hour": 17,
          "resource": "hydroelectric_pumped_storage",
          "value_sum": 42
         },
         {
          "hour": 17,
          "resource": "natural_gas_fired_combined_cycle",
          "value_sum": 1224.74
         },
         {
          "hour": 17,
          "resource": "natural_gas_fired_combustion_turbine",
          "value_sum": 0
         },
         {
          "hour": 17,
          "resource": "_onshore_wind_turbine",
          "value_sum": 78.61888
         },
         {
          "hour": 17,
          "resource": "_small_hydroelectric",
          "value_sum": 3.184932
         },
         {
          "hour": 17,
          "resource": "_solar_photovoltaic",
          "value_sum": 1132.6
         },
         {
          "hour": 18,
          "resource": "biomass",
          "value_sum": 21.4
         },
         {
          "hour": 18,
          "resource": "hydroelectric_pumped_storage",
          "value_sum": 42
         },
         {
          "hour": 18,
          "resource": "natural_gas_fired_combined_cycle",
          "value_sum": 1256.5
         },
         {
          "hour": 18,
          "resource": "natural_gas_fired_combustion_turbine",
          "value_sum": 0
         },
         {
          "hour": 18,
          "resource": "_onshore_wind_turbine",
          "value_sum": 52.61568
         },
         {
          "hour": 18,
          "resource": "_small_hydroelectric",
          "value_sum": 3.184932
         },
         {
          "hour": 18,
          "resource": "_solar_photovoltaic",
          "value_sum": 166.95
         },
         {
          "hour": 19,
          "resource": "biomass",
          "value_sum": 21.4
         },
         {
          "hour": 19,
          "resource": "hydroelectric_pumped_storage",
          "value_sum": 42
         },
         {
          "hour": 19,
          "resource": "natural_gas_fired_combined_cycle",
          "value_sum": 1256.5
         },
         {
          "hour": 19,
          "resource": "natural_gas_fired_combustion_turbine",
          "value_sum": 0
         },
         {
          "hour": 19,
          "resource": "_onshore_wind_turbine",
          "value_sum": 61.42848
         },
         {
          "hour": 19,
          "resource": "_small_hydroelectric",
          "value_sum": 3.1849320000000105
         },
         {
          "hour": 19,
          "resource": "_solar_photovoltaic",
          "value_sum": 0
         },
         {
          "hour": 20,
          "resource": "biomass",
          "value_sum": 21.4
         },
         {
          "hour": 20,
          "resource": "hydroelectric_pumped_storage",
          "value_sum": 42
         },
         {
          "hour": 20,
          "resource": "natural_gas_fired_combined_cycle",
          "value_sum": 1256.5
         },
         {
          "hour": 20,
          "resource": "natural_gas_fired_combustion_turbine",
          "value_sum": 0
         },
         {
          "hour": 20,
          "resource": "_onshore_wind_turbine",
          "value_sum": 71.9168
         },
         {
          "hour": 20,
          "resource": "_small_hydroelectric",
          "value_sum": 3.184932
         },
         {
          "hour": 20,
          "resource": "_solar_photovoltaic",
          "value_sum": 0
         },
         {
          "hour": 21,
          "resource": "biomass",
          "value_sum": 21.4
         },
         {
          "hour": 21,
          "resource": "hydroelectric_pumped_storage",
          "value_sum": 42
         },
         {
          "hour": 21,
          "resource": "natural_gas_fired_combined_cycle",
          "value_sum": 1256.5
         },
         {
          "hour": 21,
          "resource": "natural_gas_fired_combustion_turbine",
          "value_sum": 0
         },
         {
          "hour": 21,
          "resource": "_onshore_wind_turbine",
          "value_sum": 96.04864
         },
         {
          "hour": 21,
          "resource": "_small_hydroelectric",
          "value_sum": 3.184932
         },
         {
          "hour": 21,
          "resource": "_solar_photovoltaic",
          "value_sum": 0
         },
         {
          "hour": 22,
          "resource": "biomass",
          "value_sum": 21.4
         },
         {
          "hour": 22,
          "resource": "hydroelectric_pumped_storage",
          "value_sum": 42
         },
         {
          "hour": 22,
          "resource": "natural_gas_fired_combined_cycle",
          "value_sum": 963.6402000000006
         },
         {
          "hour": 22,
          "resource": "natural_gas_fired_combustion_turbine",
          "value_sum": 0
         },
         {
          "hour": 22,
          "resource": "_onshore_wind_turbine",
          "value_sum": 126.46912
         },
         {
          "hour": 22,
          "resource": "_small_hydroelectric",
          "value_sum": 3.184932
         },
         {
          "hour": 22,
          "resource": "_solar_photovoltaic",
          "value_sum": 0
         },
         {
          "hour": 23,
          "resource": "biomass",
          "value_sum": 0
         },
         {
          "hour": 23,
          "resource": "hydroelectric_pumped_storage",
          "value_sum": 42
         },
         {
          "hour": 23,
          "resource": "natural_gas_fired_combined_cycle",
          "value_sum": 0
         },
         {
          "hour": 23,
          "resource": "natural_gas_fired_combustion_turbine",
          "value_sum": 0
         },
         {
          "hour": 23,
          "resource": "_onshore_wind_turbine",
          "value_sum": 144.42111999999997
         },
         {
          "hour": 23,
          "resource": "_small_hydroelectric",
          "value_sum": 3.184932
         },
         {
          "hour": 23,
          "resource": "_solar_photovoltaic",
          "value_sum": 0
         },
         {
          "hour": 0,
          "resource": "_solar_photovoltaic_btm",
          "value_sum": 0
         },
         {
          "hour": 1,
          "resource": "_solar_photovoltaic_btm",
          "value_sum": 0
         },
         {
          "hour": 2,
          "resource": "_solar_photovoltaic_btm",
          "value_sum": 0
         },
         {
          "hour": 3,
          "resource": "_solar_photovoltaic_btm",
          "value_sum": 0
         },
         {
          "hour": 4,
          "resource": "_solar_photovoltaic_btm",
          "value_sum": 0
         },
         {
          "hour": 5,
          "resource": "_solar_photovoltaic_btm",
          "value_sum": 0
         },
         {
          "hour": 6,
          "resource": "_solar_photovoltaic_btm",
          "value_sum": 33.18
         },
         {
          "hour": 7,
          "resource": "_solar_photovoltaic_btm",
          "value_sum": 132.66
         },
         {
          "hour": 8,
          "resource": "_solar_photovoltaic_btm",
          "value_sum": 286.56
         },
         {
          "hour": 9,
          "resource": "_solar_photovoltaic_btm",
          "value_sum": 345.42
         },
         {
          "hour": 10,
          "resource": "_solar_photovoltaic_btm",
          "value_sum": 362.34
         },
         {
          "hour": 11,
          "resource": "_solar_photovoltaic_btm",
          "value_sum": 368.34
         },
         {
          "hour": 12,
          "resource": "_solar_photovoltaic_btm",
          "value_sum": 386.76
         },
         {
          "hour": 13,
          "resource": "_solar_photovoltaic_btm",
          "value_sum": 387.29999999999995
         },
         {
          "hour": 14,
          "resource": "_solar_photovoltaic_btm",
          "value_sum": 374.46
         },
         {
          "hour": 15,
          "resource": "_solar_photovoltaic_btm",
          "value_sum": 341.7
         },
         {
          "hour": 16,
          "resource": "_solar_photovoltaic_btm",
          "value_sum": 280.68
         },
         {
          "hour": 17,
          "resource": "_solar_photovoltaic_btm",
          "value_sum": 194.16
         },
         {
          "hour": 18,
          "resource": "_solar_photovoltaic_btm",
          "value_sum": 28.62
         },
         {
          "hour": 19,
          "resource": "_solar_photovoltaic_btm",
          "value_sum": 0
         },
         {
          "hour": 20,
          "resource": "_solar_photovoltaic_btm",
          "value_sum": 0
         },
         {
          "hour": 21,
          "resource": "_solar_photovoltaic_btm",
          "value_sum": 0
         },
         {
          "hour": 22,
          "resource": "_solar_photovoltaic_btm",
          "value_sum": 0
         },
         {
          "hour": 23,
          "resource": "_solar_photovoltaic_btm",
          "value_sum": 0
         },
         {
          "hour": 0,
          "resource": "_curtailment",
          "value_sum": 0
         },
         {
          "hour": 1,
          "resource": "_curtailment",
          "value_sum": 0
         },
         {
          "hour": 2,
          "resource": "_curtailment",
          "value_sum": 0
         },
         {
          "hour": 3,
          "resource": "_curtailment",
          "value_sum": 1.0658141036401503e-14
         },
         {
          "hour": 4,
          "resource": "_curtailment",
          "value_sum": 0
         },
         {
          "hour": 5,
          "resource": "_curtailment",
          "value_sum": 0
         },
         {
          "hour": 6,
          "resource": "_curtailment",
          "value_sum": 0
         },
         {
          "hour": 7,
          "resource": "_curtailment",
          "value_sum": 0
         },
         {
          "hour": 8,
          "resource": "_curtailment",
          "value_sum": 2.2737367544323206e-13
         },
         {
          "hour": 9,
          "resource": "_curtailment",
          "value_sum": -1.4210854715202004e-13
         },
         {
          "hour": 10,
          "resource": "_curtailment",
          "value_sum": 0
         },
         {
          "hour": 11,
          "resource": "_curtailment",
          "value_sum": 0
         },
         {
          "hour": 12,
          "resource": "_curtailment",
          "value_sum": 0
         },
         {
          "hour": 13,
          "resource": "_curtailment",
          "value_sum": 0
         },
         {
          "hour": 14,
          "resource": "_curtailment",
          "value_sum": 0
         },
         {
          "hour": 15,
          "resource": "_curtailment",
          "value_sum": 0
         },
         {
          "hour": 16,
          "resource": "_curtailment",
          "value_sum": 0
         },
         {
          "hour": 17,
          "resource": "_curtailment",
          "value_sum": 0
         },
         {
          "hour": 18,
          "resource": "_curtailment",
          "value_sum": 0
         },
         {
          "hour": 19,
          "resource": "_curtailment",
          "value_sum": -1.0658141036401503e-14
         },
         {
          "hour": 20,
          "resource": "_curtailment",
          "value_sum": 0
         },
         {
          "hour": 21,
          "resource": "_curtailment",
          "value_sum": 0
         },
         {
          "hour": 22,
          "resource": "_curtailment",
          "value_sum": 0
         },
         {
          "hour": 23,
          "resource": "_curtailment",
          "value_sum": 0
         },
         {
          "hour": 0,
          "resource": "battery",
          "value_sum": 927.9333912040006
         },
         {
          "hour": 1,
          "resource": "battery",
          "value_sum": 335.4489112040008
         },
         {
          "hour": 2,
          "resource": "battery",
          "value_sum": 79.80466799999994
         },
         {
          "hour": 3,
          "resource": "battery",
          "value_sum": 138.36210799999975
         },
         {
          "hour": 4,
          "resource": "battery",
          "value_sum": 329.33778799999976
         },
         {
          "hour": 5,
          "resource": "battery",
          "value_sum": 513.738108
         },
         {
          "hour": 6,
          "resource": "battery",
          "value_sum": 683.1852279999998
         },
         {
          "hour": 7,
          "resource": "battery",
          "value_sum": 450.69162800000004
         },
         {
          "hour": 8,
          "resource": "battery",
          "value_sum": 0
         },
         {
          "hour": 9,
          "resource": "battery",
          "value_sum": 0
         },
         {
          "hour": 10,
          "resource": "battery",
          "value_sum": 0
         },
         {
          "hour": 11,
          "resource": "battery",
          "value_sum": 0
         },
         {
          "hour": 12,
          "resource": "battery",
          "value_sum": 0
         },
         {
          "hour": 13,
          "resource": "battery",
          "value_sum": 0
         },
         {
          "hour": 14,
          "resource": "battery",
          "value_sum": 0
         },
         {
          "hour": 15,
          "resource": "battery",
          "value_sum": 0
         },
         {
          "hour": 16,
          "resource": "battery",
          "value_sum": 0
         },
         {
          "hour": 17,
          "resource": "battery",
          "value_sum": 0
         },
         {
          "hour": 18,
          "resource": "battery",
          "value_sum": 835.3493879999999
         },
         {
          "hour": 19,
          "resource": "battery",
          "value_sum": 1116.4865879999998
         },
         {
          "hour": 20,
          "resource": "battery",
          "value_sum": 1110.9982679999998
         },
         {
          "hour": 21,
          "resource": "battery",
          "value_sum": 838.8664279999998
         },
         {
          "hour": 22,
          "resource": "battery",
          "value_sum": 831.3057479999991
         },
         {
          "hour": 23,
          "resource": "battery",
          "value_sum": 1570.3939479999997
         }
        ]
       },
       "encoding": {
        "color": {
         "field": "resource",
         "scale": {
          "scheme": "category10"
         },
         "type": "nominal"
        },
        "x": {
         "field": "hour",
         "type": "quantitative"
        },
        "y": {
         "field": "value_sum",
         "stack": "zero",
         "type": "quantitative"
        }
       },
       "mark": "area"
      },
      "image/png": "[encoded data removed]",
      "image/svg+xml": [
       "<svg xmlns=\"http://www.w3.org/2000/svg\" xmlns:xlink=\"http://www.w3.org/1999/xlink\" version=\"1.1\" class=\"marks\" width=\"455\" height=\"247\" viewBox=\"0 0 455 247\"><rect width=\"455\" height=\"247\" fill=\"white\"/><g fill=\"none\" stroke-miterlimit=\"10\" transform=\"translate(56,10)\"><g class=\"mark-group role-frame root\" role=\"graphics-object\" aria-roledescription=\"group mark container\"><g transform=\"translate(0,0)\"><path class=\"background\" aria-hidden=\"true\" d=\"M0.5,0.5h200v200h-200Z\" stroke=\"#ddd\"/><g><g class=\"mark-group role-axis\" aria-hidden=\"true\"><g transform=\"translate(0.5,200.5)\"><path class=\"background\" aria-hidden=\"true\" d=\"M0,0h0v0h0Z\" pointer-events=\"none\"/><g><g class=\"mark-rule role-axis-grid\" pointer-events=\"none\"><line transform=\"translate(0,-200)\" x2=\"0\" y2=\"200\" stroke=\"#ddd\" stroke-width=\"1\" opacity=\"1\"/><line transform=\"translate(42,-200)\" x2=\"0\" y2=\"200\" stroke=\"#ddd\" stroke-width=\"1\" opacity=\"1\"/><line transform=\"translate(83,-200)\" x2=\"0\" y2=\"200\" stroke=\"#ddd\" stroke-width=\"1\" opacity=\"1\"/><line transform=\"translate(125,-200)\" x2=\"0\" y2=\"200\" stroke=\"#ddd\" stroke-width=\"1\" opacity=\"1\"/><line transform=\"translate(167,-200)\" x2=\"0\" y2=\"200\" stroke=\"#ddd\" stroke-width=\"1\" opacity=\"1\"/></g></g><path class=\"foreground\" aria-hidden=\"true\" d=\"\" pointer-events=\"none\" display=\"none\"/></g></g><g class=\"mark-group role-axis\" aria-hidden=\"true\"><g transform=\"translate(0.5,0.5)\"><path class=\"background\" aria-hidden=\"true\" d=\"M0,0h0v0h0Z\" pointer-events=\"none\"/><g><g class=\"mark-rule role-axis-grid\" pointer-events=\"none\"><line transform=\"translate(0,178)\" x2=\"200\" y2=\"0\" stroke=\"#ddd\" stroke-width=\"1\" opacity=\"1\"/><line transform=\"translate(0,133)\" x2=\"200\" y2=\"0\" stroke=\"#ddd\" stroke-width=\"1\" opacity=\"1\"/><line transform=\"translate(0,89)\" x2=\"200\" y2=\"0\" stroke=\"#ddd\" stroke-width=\"1\" opacity=\"1\"/><line transform=\"translate(0,44)\" x2=\"200\" y2=\"0\" stroke=\"#ddd\" stroke-width=\"1\" opacity=\"1\"/><line transform=\"translate(0,0)\" x2=\"200\" y2=\"0\" stroke=\"#ddd\" stroke-width=\"1\" opacity=\"1\"/></g></g><path class=\"foreground\" aria-hidden=\"true\" d=\"\" pointer-events=\"none\" display=\"none\"/></g></g><g class=\"mark-group role-axis\" role=\"graphics-symbol\" aria-roledescription=\"axis\" aria-label=\"X-axis titled 'hour' for a linear scale with values from 0 to 24\"><g transform=\"translate(0.5,200.5)\"><path class=\"background\" aria-hidden=\"true\" d=\"M0,0h0v0h0Z\" pointer-events=\"none\"/><g><g class=\"mark-rule role-axis-tick\" pointer-events=\"none\"><line transform=\"translate(0,0)\" x2=\"0\" y2=\"5\" stroke=\"#888\" stroke-width=\"1\" opacity=\"1\"/><line transform=\"translate(42,0)\" x2=\"0\" y2=\"5\" stroke=\"#888\" stroke-width=\"1\" opacity=\"1\"/><line transform=\"translate(83,0)\" x2=\"0\" y2=\"5\" stroke=\"#888\" stroke-width=\"1\" opacity=\"1\"/><line transform=\"translate(125,0)\" x2=\"0\" y2=\"5\" stroke=\"#888\" stroke-width=\"1\" opacity=\"1\"/><line transform=\"translate(167,0)\" x2=\"0\" y2=\"5\" stroke=\"#888\" stroke-width=\"1\" opacity=\"1\"/></g><g class=\"mark-text role-axis-label\" pointer-events=\"none\"><text text-anchor=\"start\" transform=\"translate(0,15)\" font-family=\"sans-serif\" font-size=\"10px\" fill=\"#000\" opacity=\"1\">0</text><text text-anchor=\"middle\" transform=\"translate(41.66666666666667,15)\" font-family=\"sans-serif\" font-size=\"10px\" fill=\"#000\" opacity=\"1\">5</text><text text-anchor=\"middle\" transform=\"translate(83.33333333333334,15)\" font-family=\"sans-serif\" font-size=\"10px\" fill=\"#000\" opacity=\"1\">10</text><text text-anchor=\"middle\" transform=\"translate(125,15)\" font-family=\"sans-serif\" font-size=\"10px\" fill=\"#000\" opacity=\"1\">15</text><text text-anchor=\"middle\" transform=\"translate(166.66666666666669,15)\" font-family=\"sans-serif\" font-size=\"10px\" fill=\"#000\" opacity=\"1\">20</text></g><g class=\"mark-rule role-axis-domain\" pointer-events=\"none\"><line transform=\"translate(0,0)\" x2=\"200\" y2=\"0\" stroke=\"#888\" stroke-width=\"1\" opacity=\"1\"/></g><g class=\"mark-text role-axis-title\" pointer-events=\"none\"><text text-anchor=\"middle\" transform=\"translate(100,30)\" font-family=\"sans-serif\" font-size=\"11px\" font-weight=\"bold\" fill=\"#000\" opacity=\"1\">hour</text></g></g><path class=\"foreground\" aria-hidden=\"true\" d=\"\" pointer-events=\"none\" display=\"none\"/></g></g><g class=\"mark-group role-axis\" role=\"graphics-symbol\" aria-roledescription=\"axis\" aria-label=\"Y-axis titled 'value_sum' for a linear scale with values from −500 to 4,000\"><g transform=\"translate(0.5,0.5)\"><path class=\"background\" aria-hidden=\"true\" d=\"M0,0h0v0h0Z\" pointer-events=\"none\"/><g><g class=\"mark-rule role-axis-tick\" pointer-events=\"none\"><line transform=\"translate(0,178)\" x2=\"-5\" y2=\"0\" stroke=\"#888\" stroke-width=\"1\" opacity=\"1\"/><line transform=\"translate(0,133)\" x2=\"-5\" y2=\"0\" stroke=\"#888\" stroke-width=\"1\" opacity=\"1\"/><line transform=\"translate(0,89)\" x2=\"-5\" y2=\"0\" stroke=\"#888\" stroke-width=\"1\" opacity=\"1\"/><line transform=\"translate(0,44)\" x2=\"-5\" y2=\"0\" stroke=\"#888\" stroke-width=\"1\" opacity=\"1\"/><line transform=\"translate(0,0)\" x2=\"-5\" y2=\"0\" stroke=\"#888\" stroke-width=\"1\" opacity=\"1\"/></g><g class=\"mark-text role-axis-label\" pointer-events=\"none\"><text text-anchor=\"end\" transform=\"translate(-7,180.77777777777777)\" font-family=\"sans-serif\" font-size=\"10px\" fill=\"#000\" opacity=\"1\">0</text><text text-anchor=\"end\" transform=\"translate(-7,136.33333333333334)\" font-family=\"sans-serif\" font-size=\"10px\" fill=\"#000\" opacity=\"1\">1,000</text><text text-anchor=\"end\" transform=\"translate(-7,91.88888888888889)\" font-family=\"sans-serif\" font-size=\"10px\" fill=\"#000\" opacity=\"1\">2,000</text><text text-anchor=\"end\" transform=\"translate(-7,47.44444444444444)\" font-family=\"sans-serif\" font-size=\"10px\" fill=\"#000\" opacity=\"1\">3,000</text><text text-anchor=\"end\" transform=\"translate(-7,3)\" font-family=\"sans-serif\" font-size=\"10px\" fill=\"#000\" opacity=\"1\">4,000</text></g><g class=\"mark-rule role-axis-domain\" pointer-events=\"none\"><line transform=\"translate(0,200)\" x2=\"0\" y2=\"-200\" stroke=\"#888\" stroke-width=\"1\" opacity=\"1\"/></g><g class=\"mark-text role-axis-title\" pointer-events=\"none\"><text text-anchor=\"middle\" transform=\"translate(-39.6279296875,100) rotate(-90) translate(0,-2)\" font-family=\"sans-serif\" font-size=\"11px\" font-weight=\"bold\" fill=\"#000\" opacity=\"1\">value_sum</text></g></g><path class=\"foreground\" aria-hidden=\"true\" d=\"\" pointer-events=\"none\" display=\"none\"/></g></g><g class=\"mark-group role-scope pathgroup\" role=\"graphics-object\" aria-roledescription=\"group mark container\"><g transform=\"translate(0,0)\"><path class=\"background\" aria-hidden=\"true\" d=\"M0,0h200v200h-200Z\"/><g><g class=\"mark-area role-mark marks\" role=\"graphics-object\" aria-roledescription=\"area mark container\"><path aria-label=\"hour: 0; value_sum: 0; resource: biomass\" role=\"graphics-symbol\" aria-roledescription=\"area mark\" d=\"M0,154.641L8.333,131.352L16.667,119.116L25,119.116L33.333,119.116L41.667,119.116L50,119.116L58.333,119.116L66.667,120.527L75,122.086L83.333,120.813L91.667,126.809L100,120.813L108.333,120.813L116.667,121.387L125,124.036L133.333,124.725L141.667,120.527L150,119.116L158.333,119.116L166.667,119.116L175,119.116L183.333,132.132L191.667,175.911L191.667,175.911L183.333,133.083L175,120.067L166.667,120.067L158.333,120.067L150,120.067L141.667,121.478L133.333,125.676L125,124.987L116.667,122.338L108.333,121.764L100,121.764L91.667,127.76L83.333,121.764L75,123.037L66.667,121.478L58.333,120.067L50,120.067L41.667,120.067L33.333,120.067L25,120.067L16.667,120.067L8.333,132.303L0,154.641Z\" fill=\"#e377c2\"/></g></g><path class=\"foreground\" aria-hidden=\"true\" d=\"\" display=\"none\"/></g><g transform=\"translate(0,0)\"><path class=\"background\" aria-hidden=\"true\" d=\"M0,0h200v200h-200Z\"/><g><g class=\"mark-area role-mark marks\" role=\"graphics-object\" aria-roledescription=\"area mark container\"><path aria-label=\"hour: 0; value_sum: 42; resource: hydroelectric_pumped_storage\" role=\"graphics-symbol\" aria-roledescription=\"area mark\" d=\"M0,154.641L8.333,132.303L16.667,120.067L25,120.067L33.333,120.067L41.667,120.067L50,120.067L58.333,120.067L66.667,121.478L75,123.037L83.333,121.764L91.667,127.76L100,121.764L108.333,121.764L116.667,122.338L125,124.987L133.333,125.676L141.667,121.478L150,120.067L158.333,120.067L166.667,120.067L175,120.067L183.333,133.083L191.667,175.911L191.667,177.778L183.333,134.949L175,121.933L166.667,121.933L158.333,121.933L150,121.933L141.667,123.345L133.333,127.542L125,126.854L116.667,124.205L108.333,123.631L100,123.631L91.667,129.626L83.333,123.631L75,124.904L66.667,123.345L58.333,121.933L50,121.933L41.667,121.933L33.333,121.933L25,121.933L16.667,121.933L8.333,134.17L0,156.508Z\" fill=\"#7f7f7f\"/></g></g><path class=\"foreground\" aria-hidden=\"true\" d=\"\" display=\"none\"/></g><g transform=\"translate(0,0)\"><path class=\"background\" aria-hidden=\"true\" d=\"M0,0h200v200h-200Z\"/><g><g class=\"mark-area role-mark marks\" role=\"graphics-object\" aria-roledescription=\"area mark container\"><path aria-label=\"hour: 0; value_sum: 478.572876796; resource: natural_gas_fired_combined_cycle\" role=\"graphics-symbol\" aria-roledescription=\"area mark\" d=\"M0,156.508L8.333,134.17L16.667,121.933L25,121.933L33.333,121.933L41.667,121.933L50,121.933L58.333,121.933L66.667,123.345L75,124.904L83.333,123.631L91.667,129.626L100,123.631L108.333,123.631L116.667,124.205L125,126.854L133.333,127.542L141.667,123.345L150,121.933L158.333,121.933L166.667,121.933L175,121.933L183.333,134.949L191.667,177.778L191.667,177.778L183.333,177.778L175,177.778L166.667,177.778L158.333,177.778L150,177.778L141.667,177.778L133.333,177.778L125,177.778L116.667,177.778L108.333,177.778L100,177.778L91.667,177.778L83.333,177.778L75,177.778L66.667,177.778L58.333,177.778L50,177.778L41.667,177.778L33.333,177.778L25,177.778L16.667,177.778L8.333,177.778L0,177.778Z\" fill=\"#bcbd22\"/></g></g><path class=\"foreground\" aria-hidden=\"true\" d=\"\" display=\"none\"/></g><g transform=\"translate(0,0)\"><path class=\"background\" aria-hidden=\"true\" d=\"M0,0h200v200h-200Z\"/><g><g class=\"mark-area role-mark marks\" role=\"graphics-object\" aria-roledescription=\"area mark container\"><path aria-label=\"hour: 0; value_sum: 0; resource: natural_gas_fired_combustion_turbine\" role=\"graphics-symbol\" aria-roledescription=\"area mark\" d=\"M0,177.778L8.333,177.778L16.667,177.778L25,177.778L33.333,177.778L41.667,177.778L50,177.778L58.333,177.778L66.667,177.778L75,177.778L83.333,177.778L91.667,177.778L100,177.778L108.333,177.778L116.667,177.778L125,177.778L133.333,177.778L141.667,177.778L150,177.778L158.333,177.778L166.667,177.778L175,177.778L183.333,177.778L191.667,177.778L191.667,177.778L183.333,177.778L175,177.778L166.667,177.778L158.333,177.778L150,177.778L141.667,177.778L133.333,177.778L125,177.778L116.667,177.778L108.333,177.778L100,177.778L91.667,177.778L83.333,177.778L75,177.778L66.667,177.778L58.333,177.778L50,177.778L41.667,177.778L33.333,177.778L25,177.778L16.667,177.778L8.333,177.778L0,177.778Z\" fill=\"#17becf\"/></g></g><path class=\"foreground\" aria-hidden=\"true\" d=\"\" display=\"none\"/></g><g transform=\"translate(0,0)\"><path class=\"background\" aria-hidden=\"true\" d=\"M0,0h200v200h-200Z\"/><g><g class=\"mark-area role-mark marks\" role=\"graphics-object\" aria-roledescription=\"area mark container\"><path aria-label=\"hour: 0; value_sum: 163.3088; resource: _onshore_wind_turbine\" role=\"graphics-symbol\" aria-roledescription=\"area mark\" d=\"M0,106L8.333,108.756L16.667,110.311L25,108.356L33.333,100.756L41.667,89.956L50,75.236L58.333,56.46L66.667,25.918L75,11.192L83.333,5.686L91.667,10.707L100,0.896L108.333,0.172L116.667,5.333L125,17.212L133.333,36.798L141.667,57.924L150,70.817L158.333,66.622L166.667,66.4L175,77.422L183.333,89.422L191.667,99.556L191.667,105.974L183.333,95.043L175,81.691L166.667,69.596L158.333,69.352L150,73.155L141.667,61.418L133.333,39.34L125,20.119L116.667,7.52L108.333,3.047L100,3.211L91.667,14.801L83.333,10.628L75,17.039L66.667,33.356L58.333,58.654L50,78.533L41.667,96.141L33.333,104.337L25,112.825L16.667,115.427L8.333,116.302L0,113.258Z\" fill=\"#ff7f0e\"/></g></g><path class=\"foreground\" aria-hidden=\"true\" d=\"\" display=\"none\"/></g><g transform=\"translate(0,0)\"><path class=\"background\" aria-hidden=\"true\" d=\"M0,0h200v200h-200Z\"/><g><g class=\"mark-area role-mark marks\" role=\"graphics-object\" aria-roledescription=\"area mark container\"><path aria-label=\"hour: 0; value_sum: 3.184932; resource: _small_hydroelectric\" role=\"graphics-symbol\" aria-roledescription=\"area mark\" d=\"M0,113.258L8.333,116.302L16.667,115.427L25,112.825L33.333,104.337L41.667,96.141L50,78.533L58.333,58.654L66.667,33.356L75,17.039L83.333,10.628L91.667,14.801L100,3.211L108.333,3.047L116.667,7.52L125,20.119L133.333,39.34L141.667,61.418L150,73.155L158.333,69.352L166.667,69.596L175,81.691L183.333,95.043L191.667,105.974L191.667,106.116L183.333,95.185L175,81.833L166.667,69.738L158.333,69.494L150,73.297L141.667,61.56L133.333,39.481L125,20.26L116.667,7.662L108.333,3.189L100,3.353L91.667,14.942L83.333,10.769L75,17.18L66.667,33.498L58.333,58.795L50,78.675L41.667,96.283L33.333,104.478L25,112.966L16.667,115.569L8.333,116.443L0,113.4Z\" fill=\"#2ca02c\"/></g></g><path class=\"foreground\" aria-hidden=\"true\" d=\"\" display=\"none\"/></g><g transform=\"translate(0,0)\"><path class=\"background\" aria-hidden=\"true\" d=\"M0,0h200v200h-200Z\"/><g><g class=\"mark-area role-mark marks\" role=\"graphics-object\" aria-roledescription=\"area mark container\"><path aria-label=\"hour: 0; value_sum: 0; resource: _solar_photovoltaic\" role=\"graphics-symbol\" aria-roledescription=\"area mark\" d=\"M0,113.4L8.333,116.443L16.667,115.569L25,112.966L33.333,104.478L41.667,96.283L50,78.675L58.333,58.795L66.667,33.498L75,17.18L83.333,10.769L91.667,14.942L100,3.353L108.333,3.189L116.667,7.662L125,20.26L133.333,39.481L141.667,61.56L150,73.297L158.333,69.494L166.667,69.738L175,81.833L183.333,95.185L191.667,106.116L191.667,106.116L183.333,95.185L175,81.833L166.667,69.738L158.333,69.494L150,80.717L141.667,111.898L133.333,112.25L125,108.849L116.667,104.744L108.333,103.6L100,103.624L91.667,110.438L83.333,104.709L75,106.734L66.667,107.791L58.333,93.189L50,87.277L41.667,96.283L33.333,104.478L25,112.966L16.667,115.569L8.333,116.443L0,113.4Z\" fill=\"#d62728\"/></g></g><path class=\"foreground\" aria-hidden=\"true\" d=\"\" display=\"none\"/></g><g transform=\"translate(0,0)\"><path class=\"background\" aria-hidden=\"true\" d=\"M0,0h200v200h-200Z\"/><g><g class=\"mark-area role-mark marks\" role=\"graphics-object\" aria-roledescription=\"area mark container\"><path aria-label=\"hour: 0; value_sum: 0; resource: _solar_photovoltaic_btm\" role=\"graphics-symbol\" aria-roledescription=\"area mark\" d=\"M0,113.4L8.333,116.443L16.667,115.569L25,112.966L33.333,104.478L41.667,96.283L50,87.277L58.333,93.189L66.667,107.791L75,106.734L83.333,104.709L91.667,110.438L100,103.624L108.333,103.6L116.667,104.744L125,108.849L133.333,112.25L141.667,111.898L150,80.717L158.333,69.494L166.667,69.738L175,81.833L183.333,95.185L191.667,106.116L191.667,106.116L183.333,95.185L175,81.833L166.667,69.738L158.333,69.494L150,81.989L141.667,120.527L133.333,124.725L125,124.036L116.667,121.387L108.333,120.813L100,120.813L91.667,126.809L83.333,120.813L75,122.086L66.667,120.527L58.333,99.085L50,88.752L41.667,96.283L33.333,104.478L25,112.966L16.667,115.569L8.333,116.443L0,113.4Z\" fill=\"#9467bd\"/></g></g><path class=\"foreground\" aria-hidden=\"true\" d=\"\" display=\"none\"/></g><g transform=\"translate(0,0)\"><path class=\"background\" aria-hidden=\"true\" d=\"M0,0h200v200h-200Z\"/><g><g class=\"mark-area role-mark marks\" role=\"graphics-object\" aria-roledescription=\"area mark container\"><path aria-label=\"hour: 0; value_sum: 0; resource: _curtailment\" role=\"graphics-symbol\" aria-roledescription=\"area mark\" d=\"M0,106L8.333,108.756L16.667,110.311L25,108.356L33.333,100.756L41.667,89.956L50,75.236L58.333,56.46L66.667,25.918L75,177.778L83.333,5.686L91.667,10.707L100,0.896L108.333,0.172L116.667,5.333L125,17.212L133.333,36.798L141.667,57.924L150,70.817L158.333,177.778L166.667,66.4L175,77.422L183.333,89.422L191.667,99.556L191.667,99.556L183.333,89.422L175,77.422L166.667,66.4L158.333,177.778L150,70.817L141.667,57.924L133.333,36.798L125,17.212L116.667,5.333L108.333,0.172L100,0.896L91.667,10.707L83.333,5.686L75,177.778L66.667,25.918L58.333,56.46L50,75.236L41.667,89.956L33.333,100.756L25,108.356L16.667,110.311L8.333,108.756L0,106Z\" fill=\"#1f77b4\"/></g></g><path class=\"foreground\" aria-hidden=\"true\" d=\"\" display=\"none\"/></g><g transform=\"translate(0,0)\"><path class=\"background\" aria-hidden=\"true\" d=\"M0,0h200v200h-200Z\"/><g><g class=\"mark-area role-mark marks\" role=\"graphics-object\" aria-roledescription=\"area mark container\"><path aria-label=\"hour: 0; value_sum: 927.933391204; resource: battery\" role=\"graphics-symbol\" aria-roledescription=\"area mark\" d=\"M0,113.4L8.333,116.443L16.667,115.569L25,112.966L33.333,104.478L41.667,96.283L50,88.752L58.333,99.085L66.667,120.527L75,122.086L83.333,120.813L91.667,126.809L100,120.813L108.333,120.813L116.667,121.387L125,124.036L133.333,124.725L141.667,120.527L150,81.989L158.333,69.494L166.667,69.738L175,81.833L183.333,95.185L191.667,106.116L191.667,175.911L183.333,132.132L175,119.116L166.667,119.116L158.333,119.116L150,119.116L141.667,120.527L133.333,124.725L125,124.036L116.667,121.387L108.333,120.813L100,120.813L91.667,126.809L83.333,120.813L75,122.086L66.667,120.527L58.333,119.116L50,119.116L41.667,119.116L33.333,119.116L25,119.116L16.667,119.116L8.333,131.352L0,154.641Z\" fill=\"#8c564b\"/></g></g><path class=\"foreground\" aria-hidden=\"true\" d=\"\" display=\"none\"/></g></g><g class=\"mark-group role-legend\" role=\"graphics-symbol\" aria-roledescription=\"legend\" aria-label=\"Symbol legend titled 'resource' for fill color with 10 values: _curtailment, _onshore_wind_turbine, _small_hydroelectric, _solar_photovoltaic, _solar_photovoltaic_btm, ending with natural_gas_fired_combustion_turbine\"><g transform=\"translate(218,0)\"><path class=\"background\" aria-hidden=\"true\" d=\"M0,0h176v144h-176Z\" pointer-events=\"none\"/><g><g class=\"mark-group role-legend-entry\"><g transform=\"translate(0,16)\"><path class=\"background\" aria-hidden=\"true\" d=\"M0,0h0v0h0Z\" pointer-events=\"none\"/><g><g class=\"mark-group role-scope\" role=\"graphics-object\" aria-roledescription=\"group mark container\"><g transform=\"translate(0,0)\"><path class=\"background\" aria-hidden=\"true\" d=\"M0,0h175.5263671875v11h-175.5263671875Z\" pointer-events=\"none\" opacity=\"1\"/><g><g class=\"mark-symbol role-legend-symbol\" pointer-events=\"none\"><path transform=\"translate(6,6)\" d=\"M5,0A5,5,0,1,1,-5,0A5,5,0,1,1,5,0\" fill=\"#1f77b4\" stroke-width=\"1.5\" opacity=\"1\"/></g><g class=\"mark-text role-legend-label\" pointer-events=\"none\"><text text-anchor=\"start\" transform=\"translate(16,9)\" font-family=\"sans-serif\" font-size=\"10px\" fill=\"#000\" opacity=\"1\">_curtailment</text></g></g><path class=\"foreground\" aria-hidden=\"true\" d=\"\" pointer-events=\"none\" display=\"none\"/></g><g transform=\"translate(0,13)\"><path class=\"background\" aria-hidden=\"true\" d=\"M0,0h175.5263671875v11h-175.5263671875Z\" pointer-events=\"none\" opacity=\"1\"/><g><g class=\"mark-symbol role-legend-symbol\" pointer-events=\"none\"><path transform=\"translate(6,6)\" d=\"M5,0A5,5,0,1,1,-5,0A5,5,0,1,1,5,0\" fill=\"#ff7f0e\" stroke-width=\"1.5\" opacity=\"1\"/></g><g class=\"mark-text role-legend-label\" pointer-events=\"none\"><text text-anchor=\"start\" transform=\"translate(16,9)\" font-family=\"sans-serif\" font-size=\"10px\" fill=\"#000\" opacity=\"1\">_onshore_wind_turbine</text></g></g><path class=\"foreground\" aria-hidden=\"true\" d=\"\" pointer-events=\"none\" display=\"none\"/></g><g transform=\"translate(0,26)\"><path class=\"background\" aria-hidden=\"true\" d=\"M0,0h175.5263671875v11h-175.5263671875Z\" pointer-events=\"none\" opacity=\"1\"/><g><g class=\"mark-symbol role-legend-symbol\" pointer-events=\"none\"><path transform=\"translate(6,6)\" d=\"M5,0A5,5,0,1,1,-5,0A5,5,0,1,1,5,0\" fill=\"#2ca02c\" stroke-width=\"1.5\" opacity=\"1\"/></g><g class=\"mark-text role-legend-label\" pointer-events=\"none\"><text text-anchor=\"start\" transform=\"translate(16,9)\" font-family=\"sans-serif\" font-size=\"10px\" fill=\"#000\" opacity=\"1\">_small_hydroelectric</text></g></g><path class=\"foreground\" aria-hidden=\"true\" d=\"\" pointer-events=\"none\" display=\"none\"/></g><g transform=\"translate(0,39)\"><path class=\"background\" aria-hidden=\"true\" d=\"M0,0h175.5263671875v11h-175.5263671875Z\" pointer-events=\"none\" opacity=\"1\"/><g><g class=\"mark-symbol role-legend-symbol\" pointer-events=\"none\"><path transform=\"translate(6,6)\" d=\"M5,0A5,5,0,1,1,-5,0A5,5,0,1,1,5,0\" fill=\"#d62728\" stroke-width=\"1.5\" opacity=\"1\"/></g><g class=\"mark-text role-legend-label\" pointer-events=\"none\"><text text-anchor=\"start\" transform=\"translate(16,9)\" font-family=\"sans-serif\" font-size=\"10px\" fill=\"#000\" opacity=\"1\">_solar_photovoltaic</text></g></g><path class=\"foreground\" aria-hidden=\"true\" d=\"\" pointer-events=\"none\" display=\"none\"/></g><g transform=\"translate(0,52)\"><path class=\"background\" aria-hidden=\"true\" d=\"M0,0h175.5263671875v11h-175.5263671875Z\" pointer-events=\"none\" opacity=\"1\"/><g><g class=\"mark-symbol role-legend-symbol\" pointer-events=\"none\"><path transform=\"translate(6,6)\" d=\"M5,0A5,5,0,1,1,-5,0A5,5,0,1,1,5,0\" fill=\"#9467bd\" stroke-width=\"1.5\" opacity=\"1\"/></g><g class=\"mark-text role-legend-label\" pointer-events=\"none\"><text text-anchor=\"start\" transform=\"translate(16,9)\" font-family=\"sans-serif\" font-size=\"10px\" fill=\"#000\" opacity=\"1\">_solar_photovoltaic_btm</text></g></g><path class=\"foreground\" aria-hidden=\"true\" d=\"\" pointer-events=\"none\" display=\"none\"/></g><g transform=\"translate(0,65)\"><path class=\"background\" aria-hidden=\"true\" d=\"M0,0h175.5263671875v11h-175.5263671875Z\" pointer-events=\"none\" opacity=\"1\"/><g><g class=\"mark-symbol role-legend-symbol\" pointer-events=\"none\"><path transform=\"translate(6,6)\" d=\"M5,0A5,5,0,1,1,-5,0A5,5,0,1,1,5,0\" fill=\"#8c564b\" stroke-width=\"1.5\" opacity=\"1\"/></g><g class=\"mark-text role-legend-label\" pointer-events=\"none\"><text text-anchor=\"start\" transform=\"translate(16,9)\" font-family=\"sans-serif\" font-size=\"10px\" fill=\"#000\" opacity=\"1\">battery</text></g></g><path class=\"foreground\" aria-hidden=\"true\" d=\"\" pointer-events=\"none\" display=\"none\"/></g><g transform=\"translate(0,78)\"><path class=\"background\" aria-hidden=\"true\" d=\"M0,0h175.5263671875v11h-175.5263671875Z\" pointer-events=\"none\" opacity=\"1\"/><g><g class=\"mark-symbol role-legend-symbol\" pointer-events=\"none\"><path transform=\"translate(6,6)\" d=\"M5,0A5,5,0,1,1,-5,0A5,5,0,1,1,5,0\" fill=\"#e377c2\" stroke-width=\"1.5\" opacity=\"1\"/></g><g class=\"mark-text role-legend-label\" pointer-events=\"none\"><text text-anchor=\"start\" transform=\"translate(16,9)\" font-family=\"sans-serif\" font-size=\"10px\" fill=\"#000\" opacity=\"1\">biomass</text></g></g><path class=\"foreground\" aria-hidden=\"true\" d=\"\" pointer-events=\"none\" display=\"none\"/></g><g transform=\"translate(0,91)\"><path class=\"background\" aria-hidden=\"true\" d=\"M0,0h175.5263671875v11h-175.5263671875Z\" pointer-events=\"none\" opacity=\"1\"/><g><g class=\"mark-symbol role-legend-symbol\" pointer-events=\"none\"><path transform=\"translate(6,6)\" d=\"M5,0A5,5,0,1,1,-5,0A5,5,0,1,1,5,0\" fill=\"#7f7f7f\" stroke-width=\"1.5\" opacity=\"1\"/></g><g class=\"mark-text role-legend-label\" pointer-events=\"none\"><text text-anchor=\"start\" transform=\"translate(16,9)\" font-family=\"sans-serif\" font-size=\"10px\" fill=\"#000\" opacity=\"1\">hydroelectric_pumped_storage</text></g></g><path class=\"foreground\" aria-hidden=\"true\" d=\"\" pointer-events=\"none\" display=\"none\"/></g><g transform=\"translate(0,104)\"><path class=\"background\" aria-hidden=\"true\" d=\"M0,0h175.5263671875v11h-175.5263671875Z\" pointer-events=\"none\" opacity=\"1\"/><g><g class=\"mark-symbol role-legend-symbol\" pointer-events=\"none\"><path transform=\"translate(6,6)\" d=\"M5,0A5,5,0,1,1,-5,0A5,5,0,1,1,5,0\" fill=\"#bcbd22\" stroke-width=\"1.5\" opacity=\"1\"/></g><g class=\"mark-text role-legend-label\" pointer-events=\"none\"><text text-anchor=\"start\" transform=\"translate(16,9)\" font-family=\"sans-serif\" font-size=\"10px\" fill=\"#000\" opacity=\"1\">natural_gas_fired_combined_…</text></g></g><path class=\"foreground\" aria-hidden=\"true\" d=\"\" pointer-events=\"none\" display=\"none\"/></g><g transform=\"translate(0,117)\"><path class=\"background\" aria-hidden=\"true\" d=\"M0,0h175.5263671875v11h-175.5263671875Z\" pointer-events=\"none\" opacity=\"1\"/><g><g class=\"mark-symbol role-legend-symbol\" pointer-events=\"none\"><path transform=\"translate(6,6)\" d=\"M5,0A5,5,0,1,1,-5,0A5,5,0,1,1,5,0\" fill=\"#17becf\" stroke-width=\"1.5\" opacity=\"1\"/></g><g class=\"mark-text role-legend-label\" pointer-events=\"none\"><text text-anchor=\"start\" transform=\"translate(16,9)\" font-family=\"sans-serif\" font-size=\"10px\" fill=\"#000\" opacity=\"1\">natural_gas_fired_combustion…</text></g></g><path class=\"foreground\" aria-hidden=\"true\" d=\"\" pointer-events=\"none\" display=\"none\"/></g></g></g><path class=\"foreground\" aria-hidden=\"true\" d=\"\" pointer-events=\"none\" display=\"none\"/></g></g><g class=\"mark-text role-legend-title\" pointer-events=\"none\"><text text-anchor=\"start\" transform=\"translate(0,9)\" font-family=\"sans-serif\" font-size=\"11px\" font-weight=\"bold\" fill=\"#000\" opacity=\"1\">resource</text></g></g><path class=\"foreground\" aria-hidden=\"true\" d=\"\" pointer-events=\"none\" display=\"none\"/></g></g></g><path class=\"foreground\" aria-hidden=\"true\" d=\"\" display=\"none\"/></g></g></g></svg>"
      ],
      "text/plain": [
       "@vlplot(\n",
       "    mark=\"area\",\n",
       "    encoding={\n",
       "        x={\n",
       "            field=\"hour\"\n",
       "        },\n",
       "        y={\n",
       "            stack=\"zero\",\n",
       "            field=\"value_sum\"\n",
       "        },\n",
       "        color={\n",
       "            scale={\n",
       "                scheme=\"category10\"\n",
       "            },\n",
       "            field=\"resource\",\n",
       "            type=\"nominal\"\n",
       "        }\n",
       "    },\n",
       "    data={\n",
       "        values=...\n",
       "    }\n",
       ")"
      ]
     },
     "metadata": {},
     "output_type": "display_data"
    }
   ],
   "source": [
    "solution = solve_unit_commitment(\n",
    "    gen_df_sens,\n",
    "    loads_multi,\n",
    "    gen_variable_multi,\n",
    "    0.001,\n",
    "    ramp_constraints = true,\n",
    "    storage = storage_df\n",
    "    );\n",
    "\n",
    "sol_gen = innerjoin(solution.gen, \n",
    "                    gen_df[!, [:r_id, :resource]], \n",
    "                    on = :r_id)\n",
    "sol_gen = combine(groupby(sol_gen, [:resource, :hour]), \n",
    "            :value => sum)\n",
    "\n",
    "# Rename generators (for plotting purposes)\n",
    "sol_gen[sol_gen.resource .== \"solar_photovoltaic\", :resource] .= \"_solar_photovoltaic\"\n",
    "sol_gen[sol_gen.resource .== \"onshore_wind_turbine\", :resource] .= \"_onshore_wind_turbine\"\n",
    "sol_gen[sol_gen.resource .== \"small_hydroelectric\", :resource] .= \"_small_hydroelectric\"\n",
    "\n",
    "# BTM solar\n",
    "btm = DataFrame(resource = repeat([\"_solar_photovoltaic_btm\"]; outer=length(T_period)), \n",
    "    hour = T_period,\n",
    "    value_sum = gen_variable_multi[gen_variable_multi.gen_full .== \"wec_sdge_solar_photovoltaic_1.0\",:cf] * 600)\n",
    "append!(sol_gen, btm)\n",
    "\n",
    "# Curtailment\n",
    "curtail = combine(groupby(solution.curtail, [:hour]),\n",
    "            :value => sum)\n",
    "curtail[!, :resource] .= \"_curtailment\"\n",
    "# rename!(curtail, :curt_sum => :value_sum)\n",
    "append!(sol_gen, curtail[:,[:resource, :hour, :value_sum]])\n",
    "\n",
    "# Storage\n",
    "if haskey(solution, :dis)\n",
    "    storage_ch = innerjoin(\n",
    "        solution.dis, \n",
    "        storage_df[!, [:r_id, :resource]], \n",
    "        on = :r_id)\n",
    "    storage_ch = combine(groupby(storage_ch, [:resource, :hour]), :value => sum)\n",
    "    append!(sol_gen, storage_ch)\n",
    "end\n",
    "# Rescale hours\n",
    "sol_gen.hour = sol_gen.hour .- T_period[1]\n",
    "\n",
    "sol_gen |>\n",
    "@vlplot(:area, \n",
    "    x=:hour, y={:value_sum, stack=:zero}, \n",
    "    color={\"resource:n\", scale={scheme=\"category10\"}})"
   ]
  },
  {
   "cell_type": "code",
   "execution_count": 64,
   "metadata": {},
   "outputs": [
    {
     "name": "stdout",
     "output_type": "stream",
     "text": [
      "Set parameter WLSAccessID\n",
      "Set parameter WLSSecret\n",
      "Set parameter LicenseID to value 2475843\n",
      "Academic license 2475843 - for non-commercial use only - registered to pa___@imperial.ac.uk\n",
      "Set parameter MIPGap to value 0.001\n",
      "Adding ramp constraints...\n",
      "Adding storage...\n"
     ]
    },
    {
     "name": "stdout",
     "output_type": "stream",
     "text": [
      "Set parameter MIPGap to value 0.001\n",
      "Gurobi Optimizer version 11.0.0 build v11.0.0rc2 (linux64 - \"Ubuntu 22.04.3 LTS\")\n",
      "\n",
      "CPU model: 11th Gen Intel(R) Core(TM) i7-11370H @ 3.30GHz, instruction set [SSE2|AVX|AVX2|AVX512]\n",
      "Thread count: 4 physical cores, 8 logical processors, using up to 8 threads\n",
      "\n",
      "Academic license 2475843 - for non-commercial use only - registered to pa___@imperial.ac.uk\n",
      "Optimize a model with 6692 rows, 3720 columns and 17076 nonzeros\n",
      "Model fingerprint: 0x6ec01c60\n",
      "Variable types: 1896 continuous, 1824 integer (1824 binary)\n",
      "Coefficient statistics:\n",
      "  Matrix range     [9e-01, 1e+03]\n",
      "  Objective range  [1e-01, 5e+04]\n",
      "  Bounds range     [0e+00, 0e+00]\n",
      "  RHS range        [1e+00, 4e+03]\n",
      "Presolve removed 3316 rows and 674 columns\n",
      "Presolve time: 0.03s\n",
      "Presolved: 3376 rows, 3046 columns, 13026 nonzeros\n",
      "Variable types: 1266 continuous, 1780 integer (1780 binary)\n",
      "\n",
      "Root relaxation: objective 6.032806e+05, 566 iterations, 0.02 seconds (0.01 work units)\n",
      "\n",
      "    Nodes    |    Current Node    |     Objective Bounds      |     Work\n",
      " Expl Unexpl |  Obj  Depth IntInf | Incumbent    BestBd   Gap | It/Node Time\n",
      "\n",
      "     0     0 603280.602    0    9          - 603280.602      -     -    0s\n",
      "H    0     0                    603457.66965 603280.602  0.03%     -    0s\n",
      "\n",
      "Explored 1 nodes (566 simplex iterations) in 0.08 seconds (0.07 work units)\n",
      "Thread count was 8 (of 8 available processors)\n",
      "\n",
      "Solution count 1: 603458 \n",
      "\n",
      "Optimal solution found (tolerance 1.00e-03)\n",
      "Best objective 6.034576696459e+05, best bound 6.032806020334e+05, gap 0.0293%\n",
      "\n",
      "User-callback calls 466, time in user-callback 0.00 sec\n"
     ]
    }
   ],
   "source": [
    "solution = solve_unit_commitment(\n",
    "    gen_df_sens,\n",
    "    loads_multi,\n",
    "    gen_variable_multi,\n",
    "    0.001,\n",
    "    ramp_constraints = true,\n",
    "    storage = storage_df,\n",
    "    enriched_solution = true);"
   ]
  },
  {
   "cell_type": "code",
   "execution_count": 65,
   "metadata": {},
   "outputs": [
    {
     "data": {
      "application/vnd.vegalite.v5+json": {
       "data": {
        "values": [
         {
          "hour": 2401,
          "production_MW": 163.3088,
          "resource": "onshore_wind_turbine"
         },
         {
          "hour": 2401,
          "production_MW": 3.184932,
          "resource": "small_hydroelectric"
         },
         {
          "hour": 2401,
          "production_MW": 0,
          "resource": "solar_photovoltaic"
         },
         {
          "hour": 2402,
          "production_MW": 169.79327999999998,
          "resource": "onshore_wind_turbine"
         },
         {
          "hour": 2402,
          "production_MW": 3.184932,
          "resource": "small_hydroelectric"
         },
         {
          "hour": 2402,
          "production_MW": 0,
          "resource": "solar_photovoltaic"
         },
         {
          "hour": 2403,
          "production_MW": 115.1104,
          "resource": "onshore_wind_turbine"
         },
         {
          "hour": 2403,
          "production_MW": 3.184932,
          "resource": "small_hydroelectric"
         },
         {
          "hour": 2403,
          "production_MW": 0,
          "resource": "solar_photovoltaic"
         },
         {
          "hour": 2404,
          "production_MW": 100.55296,
          "resource": "onshore_wind_turbine"
         },
         {
          "hour": 2404,
          "production_MW": 3.184931999999989,
          "resource": "small_hydroelectric"
         },
         {
          "hour": 2404,
          "production_MW": 0,
          "resource": "solar_photovoltaic"
         },
         {
          "hour": 2405,
          "production_MW": 80.57728,
          "resource": "onshore_wind_turbine"
         },
         {
          "hour": 2405,
          "production_MW": 3.184932,
          "resource": "small_hydroelectric"
         },
         {
          "hour": 2405,
          "production_MW": 0,
          "resource": "solar_photovoltaic"
         },
         {
          "hour": 2406,
          "production_MW": 139.17695999999998,
          "resource": "onshore_wind_turbine"
         },
         {
          "hour": 2406,
          "production_MW": 3.184932,
          "resource": "small_hydroelectric"
         },
         {
          "hour": 2406,
          "production_MW": 0,
          "resource": "solar_photovoltaic"
         },
         {
          "hour": 2407,
          "production_MW": 74.17984,
          "resource": "onshore_wind_turbine"
         },
         {
          "hour": 2407,
          "production_MW": 3.184932,
          "resource": "small_hydroelectric"
         },
         {
          "hour": 2407,
          "production_MW": 193.55,
          "resource": "solar_photovoltaic"
         },
         {
          "hour": 2408,
          "production_MW": 49.373439999999995,
          "resource": "onshore_wind_turbine"
         },
         {
          "hour": 2408,
          "production_MW": 3.184932,
          "resource": "small_hydroelectric"
         },
         {
          "hour": 2408,
          "production_MW": 773.85,
          "resource": "solar_photovoltaic"
         },
         {
          "hour": 2409,
          "production_MW": 167.35616,
          "resource": "onshore_wind_turbine"
         },
         {
          "hour": 2409,
          "production_MW": 3.184932,
          "resource": "small_hydroelectric"
         },
         {
          "hour": 2409,
          "production_MW": 1671.6,
          "resource": "solar_photovoltaic"
         },
         {
          "hour": 2410,
          "production_MW": 131.56096000000014,
          "resource": "onshore_wind_turbine"
         },
         {
          "hour": 2410,
          "production_MW": 3.184932,
          "resource": "small_hydroelectric"
         },
         {
          "hour": 2410,
          "production_MW": 2014.95,
          "resource": "solar_photovoltaic"
         },
         {
          "hour": 2411,
          "production_MW": 111.1936,
          "resource": "onshore_wind_turbine"
         },
         {
          "hour": 2411,
          "production_MW": 3.184932,
          "resource": "small_hydroelectric"
         },
         {
          "hour": 2411,
          "production_MW": 2113.65,
          "resource": "solar_photovoltaic"
         },
         {
          "hour": 2412,
          "production_MW": 92.11008,
          "resource": "onshore_wind_turbine"
         },
         {
          "hour": 2412,
          "production_MW": 3.184932,
          "resource": "small_hydroelectric"
         },
         {
          "hour": 2412,
          "production_MW": 2148.65,
          "resource": "solar_photovoltaic"
         },
         {
          "hour": 2413,
          "production_MW": 52.09344,
          "resource": "onshore_wind_turbine"
         },
         {
          "hour": 2413,
          "production_MW": 3.184932,
          "resource": "small_hydroelectric"
         },
         {
          "hour": 2413,
          "production_MW": 2256.1,
          "resource": "solar_photovoltaic"
         },
         {
          "hour": 2414,
          "production_MW": 64.69248,
          "resource": "onshore_wind_turbine"
         },
         {
          "hour": 2414,
          "production_MW": 3.184932,
          "resource": "small_hydroelectric"
         },
         {
          "hour": 2414,
          "production_MW": 2259.25,
          "resource": "solar_photovoltaic"
         },
         {
          "hour": 2415,
          "production_MW": 49.22112,
          "resource": "onshore_wind_turbine"
         },
         {
          "hour": 2415,
          "production_MW": 3.184932,
          "resource": "small_hydroelectric"
         },
         {
          "hour": 2415,
          "production_MW": 2184.35,
          "resource": "solar_photovoltaic"
         },
         {
          "hour": 2416,
          "production_MW": 65.41055999999999,
          "resource": "onshore_wind_turbine"
         },
         {
          "hour": 2416,
          "production_MW": 3.184932,
          "resource": "small_hydroelectric"
         },
         {
          "hour": 2416,
          "production_MW": 1993.25,
          "resource": "solar_photovoltaic"
         },
         {
          "hour": 2417,
          "production_MW": 57.18527999999999,
          "resource": "onshore_wind_turbine"
         },
         {
          "hour": 2417,
          "production_MW": 3.184932,
          "resource": "small_hydroelectric"
         },
         {
          "hour": 2417,
          "production_MW": 1637.3,
          "resource": "solar_photovoltaic"
         },
         {
          "hour": 2418,
          "production_MW": 78.61888,
          "resource": "onshore_wind_turbine"
         },
         {
          "hour": 2418,
          "production_MW": 3.184932,
          "resource": "small_hydroelectric"
         },
         {
          "hour": 2418,
          "production_MW": 1132.6,
          "resource": "solar_photovoltaic"
         },
         {
          "hour": 2419,
          "production_MW": 52.61568,
          "resource": "onshore_wind_turbine"
         },
         {
          "hour": 2419,
          "production_MW": 3.184932,
          "resource": "small_hydroelectric"
         },
         {
          "hour": 2419,
          "production_MW": 166.95,
          "resource": "solar_photovoltaic"
         },
         {
          "hour": 2420,
          "production_MW": 61.42848,
          "resource": "onshore_wind_turbine"
         },
         {
          "hour": 2420,
          "production_MW": 3.1849320000000105,
          "resource": "small_hydroelectric"
         },
         {
          "hour": 2420,
          "production_MW": 0,
          "resource": "solar_photovoltaic"
         },
         {
          "hour": 2421,
          "production_MW": 71.9168,
          "resource": "onshore_wind_turbine"
         },
         {
          "hour": 2421,
          "production_MW": 3.184932,
          "resource": "small_hydroelectric"
         },
         {
          "hour": 2421,
          "production_MW": 0,
          "resource": "solar_photovoltaic"
         },
         {
          "hour": 2422,
          "production_MW": 96.04864,
          "resource": "onshore_wind_turbine"
         },
         {
          "hour": 2422,
          "production_MW": 3.184932,
          "resource": "small_hydroelectric"
         },
         {
          "hour": 2422,
          "production_MW": 0,
          "resource": "solar_photovoltaic"
         },
         {
          "hour": 2423,
          "production_MW": 126.46912,
          "resource": "onshore_wind_turbine"
         },
         {
          "hour": 2423,
          "production_MW": 3.184932,
          "resource": "small_hydroelectric"
         },
         {
          "hour": 2423,
          "production_MW": 0,
          "resource": "solar_photovoltaic"
         },
         {
          "hour": 2424,
          "production_MW": 144.42111999999997,
          "resource": "onshore_wind_turbine"
         },
         {
          "hour": 2424,
          "production_MW": 3.184932,
          "resource": "small_hydroelectric"
         },
         {
          "hour": 2424,
          "production_MW": 0,
          "resource": "solar_photovoltaic"
         },
         {
          "hour": 2401,
          "production_MW": 0,
          "resource": "biomass"
         },
         {
          "hour": 2401,
          "production_MW": 42,
          "resource": "hydroelectric_pumped_storage"
         },
         {
          "hour": 2401,
          "production_MW": 478.57287679599926,
          "resource": "natural_gas_fired_combined_cycle"
         },
         {
          "hour": 2401,
          "production_MW": 0,
          "resource": "natural_gas_fired_combustion_turbine"
         },
         {
          "hour": 2402,
          "production_MW": 21.4,
          "resource": "biomass"
         },
         {
          "hour": 2402,
          "production_MW": 42,
          "resource": "hydroelectric_pumped_storage"
         },
         {
          "hour": 2402,
          "production_MW": 981.1728767959993,
          "resource": "natural_gas_fired_combined_cycle"
         },
         {
          "hour": 2402,
          "production_MW": 0,
          "resource": "natural_gas_fired_combustion_turbine"
         },
         {
          "hour": 2403,
          "production_MW": 21.4,
          "resource": "biomass"
         },
         {
          "hour": 2403,
          "production_MW": 42,
          "resource": "hydroelectric_pumped_storage"
         },
         {
          "hour": 2403,
          "production_MW": 1256.5,
          "resource": "natural_gas_fired_combined_cycle"
         },
         {
          "hour": 2403,
          "production_MW": 0,
          "resource": "natural_gas_fired_combustion_turbine"
         },
         {
          "hour": 2404,
          "production_MW": 21.4,
          "resource": "biomass"
         },
         {
          "hour": 2404,
          "production_MW": 42,
          "resource": "hydroelectric_pumped_storage"
         },
         {
          "hour": 2404,
          "production_MW": 1256.5,
          "resource": "natural_gas_fired_combined_cycle"
         },
         {
          "hour": 2404,
          "production_MW": 0,
          "resource": "natural_gas_fired_combustion_turbine"
         },
         {
          "hour": 2405,
          "production_MW": 21.4,
          "resource": "biomass"
         },
         {
          "hour": 2405,
          "production_MW": 42,
          "resource": "hydroelectric_pumped_storage"
         },
         {
          "hour": 2405,
          "production_MW": 1256.5,
          "resource": "natural_gas_fired_combined_cycle"
         },
         {
          "hour": 2405,
          "production_MW": 0,
          "resource": "natural_gas_fired_combustion_turbine"
         },
         {
          "hour": 2406,
          "production_MW": 21.4,
          "resource": "biomass"
         },
         {
          "hour": 2406,
          "production_MW": 42,
          "resource": "hydroelectric_pumped_storage"
         },
         {
          "hour": 2406,
          "production_MW": 1256.5,
          "resource": "natural_gas_fired_combined_cycle"
         },
         {
          "hour": 2406,
          "production_MW": 0,
          "resource": "natural_gas_fired_combustion_turbine"
         },
         {
          "hour": 2407,
          "production_MW": 21.4,
          "resource": "biomass"
         },
         {
          "hour": 2407,
          "production_MW": 42,
          "resource": "hydroelectric_pumped_storage"
         },
         {
          "hour": 2407,
          "production_MW": 1256.5,
          "resource": "natural_gas_fired_combined_cycle"
         },
         {
          "hour": 2407,
          "production_MW": 0,
          "resource": "natural_gas_fired_combustion_turbine"
         },
         {
          "hour": 2408,
          "production_MW": 21.4,
          "resource": "biomass"
         },
         {
          "hour": 2408,
          "production_MW": 42,
          "resource": "hydroelectric_pumped_storage"
         },
         {
          "hour": 2408,
          "production_MW": 1256.5,
          "resource": "natural_gas_fired_combined_cycle"
         },
         {
          "hour": 2408,
          "production_MW": 0,
          "resource": "natural_gas_fired_combustion_turbine"
         },
         {
          "hour": 2409,
          "production_MW": 21.4,
          "resource": "biomass"
         },
         {
          "hour": 2409,
          "production_MW": 42,
          "resource": "hydroelectric_pumped_storage"
         },
         {
          "hour": 2409,
          "production_MW": 1224.74,
          "resource": "natural_gas_fired_combined_cycle"
         },
         {
          "hour": 2409,
          "production_MW": 0,
          "resource": "natural_gas_fired_combustion_turbine"
         },
         {
          "hour": 2410,
          "production_MW": 21.4,
          "resource": "biomass"
         },
         {
          "hour": 2410,
          "production_MW": 42,
          "resource": "hydroelectric_pumped_storage"
         },
         {
          "hour": 2410,
          "production_MW": 1189.6699276999998,
          "resource": "natural_gas_fired_combined_cycle"
         },
         {
          "hour": 2410,
          "production_MW": 0,
          "resource": "natural_gas_fired_combustion_turbine"
         },
         {
          "hour": 2411,
          "production_MW": 21.4,
          "resource": "biomass"
         },
         {
          "hour": 2411,
          "production_MW": 42,
          "resource": "hydroelectric_pumped_storage"
         },
         {
          "hour": 2411,
          "production_MW": 1218.3000000000002,
          "resource": "natural_gas_fired_combined_cycle"
         },
         {
          "hour": 2411,
          "production_MW": 0,
          "resource": "natural_gas_fired_combustion_turbine"
         },
         {
          "hour": 2412,
          "production_MW": 21.4,
          "resource": "biomass"
         },
         {
          "hour": 2412,
          "production_MW": 42,
          "resource": "hydroelectric_pumped_storage"
         },
         {
          "hour": 2412,
          "production_MW": 1083.4057475521736,
          "resource": "natural_gas_fired_combined_cycle"
         },
         {
          "hour": 2412,
          "production_MW": 0,
          "resource": "natural_gas_fired_combustion_turbine"
         },
         {
          "hour": 2413,
          "production_MW": 21.4,
          "resource": "biomass"
         },
         {
          "hour": 2413,
          "production_MW": 42,
          "resource": "hydroelectric_pumped_storage"
         },
         {
          "hour": 2413,
          "production_MW": 1218.3000000000002,
          "resource": "natural_gas_fired_combined_cycle"
         },
         {
          "hour": 2413,
          "production_MW": 0,
          "resource": "natural_gas_fired_combustion_turbine"
         },
         {
          "hour": 2414,
          "production_MW": 21.4,
          "resource": "biomass"
         },
         {
          "hour": 2414,
          "production_MW": 42,
          "resource": "hydroelectric_pumped_storage"
         },
         {
          "hour": 2414,
          "production_MW": 1218.3000000000002,
          "resource": "natural_gas_fired_combined_cycle"
         },
         {
          "hour": 2414,
          "production_MW": 0,
          "resource": "natural_gas_fired_combustion_turbine"
         },
         {
          "hour": 2415,
          "production_MW": 21.4,
          "resource": "biomass"
         },
         {
          "hour": 2415,
          "production_MW": 42,
          "resource": "hydroelectric_pumped_storage"
         },
         {
          "hour": 2415,
          "production_MW": 1205.3943987999999,
          "resource": "natural_gas_fired_combined_cycle"
         },
         {
          "hour": 2415,
          "production_MW": 0,
          "resource": "natural_gas_fired_combustion_turbine"
         },
         {
          "hour": 2416,
          "production_MW": 21.4,
          "resource": "biomass"
         },
         {
          "hour": 2416,
          "production_MW": 42,
          "resource": "hydroelectric_pumped_storage"
         },
         {
          "hour": 2416,
          "production_MW": 1145.7894363,
          "resource": "natural_gas_fired_combined_cycle"
         },
         {
          "hour": 2416,
          "production_MW": 0,
          "resource": "natural_gas_fired_combustion_turbine"
         },
         {
          "hour": 2417,
          "production_MW": 21.4,
          "resource": "biomass"
         },
         {
          "hour": 2417,
          "production_MW": 42,
          "resource": "hydroelectric_pumped_storage"
         },
         {
          "hour": 2417,
          "production_MW": 1130.294909269751,
          "resource": "natural_gas_fired_combined_cycle"
         },
         {
          "hour": 2417,
          "production_MW": 0,
          "resource": "natural_gas_fired_combustion_turbine"
         },
         {
          "hour": 2418,
          "production_MW": 21.4,
          "resource": "biomass"
         },
         {
          "hour": 2418,
          "production_MW": 42,
          "resource": "hydroelectric_pumped_storage"
         },
         {
          "hour": 2418,
          "production_MW": 1224.74,
          "resource": "natural_gas_fired_combined_cycle"
         },
         {
          "hour": 2418,
          "production_MW": 0,
          "resource": "natural_gas_fired_combustion_turbine"
         },
         {
          "hour": 2419,
          "production_MW": 21.4,
          "resource": "biomass"
         },
         {
          "hour": 2419,
          "production_MW": 42,
          "resource": "hydroelectric_pumped_storage"
         },
         {
          "hour": 2419,
          "production_MW": 1256.5,
          "resource": "natural_gas_fired_combined_cycle"
         },
         {
          "hour": 2419,
          "production_MW": 0,
          "resource": "natural_gas_fired_combustion_turbine"
         },
         {
          "hour": 2420,
          "production_MW": 21.4,
          "resource": "biomass"
         },
         {
          "hour": 2420,
          "production_MW": 42,
          "resource": "hydroelectric_pumped_storage"
         },
         {
          "hour": 2420,
          "production_MW": 1256.5,
          "resource": "natural_gas_fired_combined_cycle"
         },
         {
          "hour": 2420,
          "production_MW": 0,
          "resource": "natural_gas_fired_combustion_turbine"
         },
         {
          "hour": 2421,
          "production_MW": 21.4,
          "resource": "biomass"
         },
         {
          "hour": 2421,
          "production_MW": 42,
          "resource": "hydroelectric_pumped_storage"
         },
         {
          "hour": 2421,
          "production_MW": 1256.5,
          "resource": "natural_gas_fired_combined_cycle"
         },
         {
          "hour": 2421,
          "production_MW": 0,
          "resource": "natural_gas_fired_combustion_turbine"
         },
         {
          "hour": 2422,
          "production_MW": 21.4,
          "resource": "biomass"
         },
         {
          "hour": 2422,
          "production_MW": 42,
          "resource": "hydroelectric_pumped_storage"
         },
         {
          "hour": 2422,
          "production_MW": 1256.5,
          "resource": "natural_gas_fired_combined_cycle"
         },
         {
          "hour": 2422,
          "production_MW": 0,
          "resource": "natural_gas_fired_combustion_turbine"
         },
         {
          "hour": 2423,
          "production_MW": 21.4,
          "resource": "biomass"
         },
         {
          "hour": 2423,
          "production_MW": 42,
          "resource": "hydroelectric_pumped_storage"
         },
         {
          "hour": 2423,
          "production_MW": 963.6402000000006,
          "resource": "natural_gas_fired_combined_cycle"
         },
         {
          "hour": 2423,
          "production_MW": 0,
          "resource": "natural_gas_fired_combustion_turbine"
         },
         {
          "hour": 2424,
          "production_MW": 0,
          "resource": "biomass"
         },
         {
          "hour": 2424,
          "production_MW": 42,
          "resource": "hydroelectric_pumped_storage"
         },
         {
          "hour": 2424,
          "production_MW": 0,
          "resource": "natural_gas_fired_combined_cycle"
         },
         {
          "hour": 2424,
          "production_MW": 0,
          "resource": "natural_gas_fired_combustion_turbine"
         },
         {
          "hour": 2401,
          "production_MW": 927.9333912040006,
          "resource": "battery"
         },
         {
          "hour": 2402,
          "production_MW": 335.4489112040008,
          "resource": "battery"
         },
         {
          "hour": 2403,
          "production_MW": 79.80466799999994,
          "resource": "battery"
         },
         {
          "hour": 2404,
          "production_MW": 138.36210799999975,
          "resource": "battery"
         },
         {
          "hour": 2405,
          "production_MW": 329.33778799999976,
          "resource": "battery"
         },
         {
          "hour": 2406,
          "production_MW": 513.738108,
          "resource": "battery"
         },
         {
          "hour": 2407,
          "production_MW": 683.1852279999998,
          "resource": "battery"
         },
         {
          "hour": 2408,
          "production_MW": 450.69162800000004,
          "resource": "battery"
         },
         {
          "hour": 2409,
          "production_MW": 0,
          "resource": "battery"
         },
         {
          "hour": 2410,
          "production_MW": 0,
          "resource": "battery"
         },
         {
          "hour": 2411,
          "production_MW": 0,
          "resource": "battery"
         },
         {
          "hour": 2412,
          "production_MW": 0,
          "resource": "battery"
         },
         {
          "hour": 2413,
          "production_MW": 0,
          "resource": "battery"
         },
         {
          "hour": 2414,
          "production_MW": 0,
          "resource": "battery"
         },
         {
          "hour": 2415,
          "production_MW": 0,
          "resource": "battery"
         },
         {
          "hour": 2416,
          "production_MW": 0,
          "resource": "battery"
         },
         {
          "hour": 2417,
          "production_MW": 0,
          "resource": "battery"
         },
         {
          "hour": 2418,
          "production_MW": 0,
          "resource": "battery"
         },
         {
          "hour": 2419,
          "production_MW": 835.3493879999999,
          "resource": "battery"
         },
         {
          "hour": 2420,
          "production_MW": 1116.4865879999998,
          "resource": "battery"
         },
         {
          "hour": 2421,
          "production_MW": 1110.9982679999998,
          "resource": "battery"
         },
         {
          "hour": 2422,
          "production_MW": 838.8664279999998,
          "resource": "battery"
         },
         {
          "hour": 2423,
          "production_MW": 831.3057479999991,
          "resource": "battery"
         },
         {
          "hour": 2424,
          "production_MW": 1570.3939479999997,
          "resource": "battery"
         }
        ]
       },
       "encoding": {
        "color": {
         "field": "resource",
         "scale": {
          "scheme": "category10"
         },
         "type": "nominal"
        },
        "x": {
         "field": "hour",
         "type": "quantitative"
        },
        "y": {
         "field": "production_MW",
         "stack": "zero",
         "type": "quantitative"
        }
       },
       "mark": "area"
      },
      "image/png": "[encoded data removed]",
      "image/svg+xml": [
       "<svg xmlns=\"http://www.w3.org/2000/svg\" xmlns:xlink=\"http://www.w3.org/1999/xlink\" version=\"1.1\" class=\"marks\" width=\"455\" height=\"247\" viewBox=\"0 0 455 247\"><rect width=\"455\" height=\"247\" fill=\"white\"/><g fill=\"none\" stroke-miterlimit=\"10\" transform=\"translate(56,10)\"><g class=\"mark-group role-frame root\" role=\"graphics-object\" aria-roledescription=\"group mark container\"><g transform=\"translate(0,0)\"><path class=\"background\" aria-hidden=\"true\" d=\"M0.5,0.5h200v200h-200Z\" stroke=\"#ddd\"/><g><g class=\"mark-group role-axis\" aria-hidden=\"true\"><g transform=\"translate(0.5,200.5)\"><path class=\"background\" aria-hidden=\"true\" d=\"M0,0h0v0h0Z\" pointer-events=\"none\"/><g><g class=\"mark-rule role-axis-grid\" pointer-events=\"none\"><line transform=\"translate(0,-200)\" x2=\"0\" y2=\"200\" stroke=\"#ddd\" stroke-width=\"1\" opacity=\"1\"/><line transform=\"translate(42,-200)\" x2=\"0\" y2=\"200\" stroke=\"#ddd\" stroke-width=\"1\" opacity=\"1\"/><line transform=\"translate(83,-200)\" x2=\"0\" y2=\"200\" stroke=\"#ddd\" stroke-width=\"1\" opacity=\"1\"/><line transform=\"translate(125,-200)\" x2=\"0\" y2=\"200\" stroke=\"#ddd\" stroke-width=\"1\" opacity=\"1\"/><line transform=\"translate(167,-200)\" x2=\"0\" y2=\"200\" stroke=\"#ddd\" stroke-width=\"1\" opacity=\"1\"/></g></g><path class=\"foreground\" aria-hidden=\"true\" d=\"\" pointer-events=\"none\" display=\"none\"/></g></g><g class=\"mark-group role-axis\" aria-hidden=\"true\"><g transform=\"translate(0.5,0.5)\"><path class=\"background\" aria-hidden=\"true\" d=\"M0,0h0v0h0Z\" pointer-events=\"none\"/><g><g class=\"mark-rule role-axis-grid\" pointer-events=\"none\"><line transform=\"translate(0,200)\" x2=\"200\" y2=\"0\" stroke=\"#ddd\" stroke-width=\"1\" opacity=\"1\"/><line transform=\"translate(0,150)\" x2=\"200\" y2=\"0\" stroke=\"#ddd\" stroke-width=\"1\" opacity=\"1\"/><line transform=\"translate(0,100)\" x2=\"200\" y2=\"0\" stroke=\"#ddd\" stroke-width=\"1\" opacity=\"1\"/><line transform=\"translate(0,50)\" x2=\"200\" y2=\"0\" stroke=\"#ddd\" stroke-width=\"1\" opacity=\"1\"/><line transform=\"translate(0,0)\" x2=\"200\" y2=\"0\" stroke=\"#ddd\" stroke-width=\"1\" opacity=\"1\"/></g></g><path class=\"foreground\" aria-hidden=\"true\" d=\"\" pointer-events=\"none\" display=\"none\"/></g></g><g class=\"mark-group role-axis\" role=\"graphics-symbol\" aria-roledescription=\"axis\" aria-label=\"X-axis titled 'hour' for a linear scale with values from 2,400 to 2,424\"><g transform=\"translate(0.5,200.5)\"><path class=\"background\" aria-hidden=\"true\" d=\"M0,0h0v0h0Z\" pointer-events=\"none\"/><g><g class=\"mark-rule role-axis-tick\" pointer-events=\"none\"><line transform=\"translate(0,0)\" x2=\"0\" y2=\"5\" stroke=\"#888\" stroke-width=\"1\" opacity=\"1\"/><line transform=\"translate(42,0)\" x2=\"0\" y2=\"5\" stroke=\"#888\" stroke-width=\"1\" opacity=\"1\"/><line transform=\"translate(83,0)\" x2=\"0\" y2=\"5\" stroke=\"#888\" stroke-width=\"1\" opacity=\"1\"/><line transform=\"translate(125,0)\" x2=\"0\" y2=\"5\" stroke=\"#888\" stroke-width=\"1\" opacity=\"1\"/><line transform=\"translate(167,0)\" x2=\"0\" y2=\"5\" stroke=\"#888\" stroke-width=\"1\" opacity=\"1\"/></g><g class=\"mark-text role-axis-label\" pointer-events=\"none\"><text text-anchor=\"start\" transform=\"translate(0,15)\" font-family=\"sans-serif\" font-size=\"10px\" fill=\"#000\" opacity=\"1\">2,400</text><text text-anchor=\"middle\" transform=\"translate(41.66666666666667,15)\" font-family=\"sans-serif\" font-size=\"10px\" fill=\"#000\" opacity=\"0\">2,405</text><text text-anchor=\"middle\" transform=\"translate(83.33333333333334,15)\" font-family=\"sans-serif\" font-size=\"10px\" fill=\"#000\" opacity=\"1\">2,410</text><text text-anchor=\"middle\" transform=\"translate(125,15)\" font-family=\"sans-serif\" font-size=\"10px\" fill=\"#000\" opacity=\"0\">2,415</text><text text-anchor=\"middle\" transform=\"translate(166.66666666666669,15)\" font-family=\"sans-serif\" font-size=\"10px\" fill=\"#000\" opacity=\"1\">2,420</text></g><g class=\"mark-rule role-axis-domain\" pointer-events=\"none\"><line transform=\"translate(0,0)\" x2=\"200\" y2=\"0\" stroke=\"#888\" stroke-width=\"1\" opacity=\"1\"/></g><g class=\"mark-text role-axis-title\" pointer-events=\"none\"><text text-anchor=\"middle\" transform=\"translate(100,30)\" font-family=\"sans-serif\" font-size=\"11px\" font-weight=\"bold\" fill=\"#000\" opacity=\"1\">hour</text></g></g><path class=\"foreground\" aria-hidden=\"true\" d=\"\" pointer-events=\"none\" display=\"none\"/></g></g><g class=\"mark-group role-axis\" role=\"graphics-symbol\" aria-roledescription=\"axis\" aria-label=\"Y-axis titled 'production_MW' for a linear scale with values from 0 to 4,000\"><g transform=\"translate(0.5,0.5)\"><path class=\"background\" aria-hidden=\"true\" d=\"M0,0h0v0h0Z\" pointer-events=\"none\"/><g><g class=\"mark-rule role-axis-tick\" pointer-events=\"none\"><line transform=\"translate(0,200)\" x2=\"-5\" y2=\"0\" stroke=\"#888\" stroke-width=\"1\" opacity=\"1\"/><line transform=\"translate(0,150)\" x2=\"-5\" y2=\"0\" stroke=\"#888\" stroke-width=\"1\" opacity=\"1\"/><line transform=\"translate(0,100)\" x2=\"-5\" y2=\"0\" stroke=\"#888\" stroke-width=\"1\" opacity=\"1\"/><line transform=\"translate(0,50)\" x2=\"-5\" y2=\"0\" stroke=\"#888\" stroke-width=\"1\" opacity=\"1\"/><line transform=\"translate(0,0)\" x2=\"-5\" y2=\"0\" stroke=\"#888\" stroke-width=\"1\" opacity=\"1\"/></g><g class=\"mark-text role-axis-label\" pointer-events=\"none\"><text text-anchor=\"end\" transform=\"translate(-7,203)\" font-family=\"sans-serif\" font-size=\"10px\" fill=\"#000\" opacity=\"1\">0</text><text text-anchor=\"end\" transform=\"translate(-7,153)\" font-family=\"sans-serif\" font-size=\"10px\" fill=\"#000\" opacity=\"1\">1,000</text><text text-anchor=\"end\" transform=\"translate(-7,103)\" font-family=\"sans-serif\" font-size=\"10px\" fill=\"#000\" opacity=\"1\">2,000</text><text text-anchor=\"end\" transform=\"translate(-7,53)\" font-family=\"sans-serif\" font-size=\"10px\" fill=\"#000\" opacity=\"1\">3,000</text><text text-anchor=\"end\" transform=\"translate(-7,3)\" font-family=\"sans-serif\" font-size=\"10px\" fill=\"#000\" opacity=\"1\">4,000</text></g><g class=\"mark-rule role-axis-domain\" pointer-events=\"none\"><line transform=\"translate(0,200)\" x2=\"0\" y2=\"-200\" stroke=\"#888\" stroke-width=\"1\" opacity=\"1\"/></g><g class=\"mark-text role-axis-title\" pointer-events=\"none\"><text text-anchor=\"middle\" transform=\"translate(-39.6279296875,100) rotate(-90) translate(0,-2)\" font-family=\"sans-serif\" font-size=\"11px\" font-weight=\"bold\" fill=\"#000\" opacity=\"1\">production_MW</text></g></g><path class=\"foreground\" aria-hidden=\"true\" d=\"\" pointer-events=\"none\" display=\"none\"/></g></g><g class=\"mark-group role-scope pathgroup\" role=\"graphics-object\" aria-roledescription=\"group mark container\"><g transform=\"translate(0,0)\"><path class=\"background\" aria-hidden=\"true\" d=\"M0,0h200v200h-200Z\"/><g><g class=\"mark-area role-mark marks\" role=\"graphics-object\" aria-roledescription=\"area mark container\"><path aria-label=\"hour: 2401; production_MW: 163.3088; resource: onshore_wind_turbine\" role=\"graphics-symbol\" aria-roledescription=\"area mark\" d=\"M8.333,191.675L16.667,191.351L25,194.085L33.333,194.813L41.667,195.812L50,192.882L58.333,186.454L66.667,158.68L75,107.893L83.333,92.515L91.667,88.599L100,87.803L108.333,84.431L116.667,83.644L125,88.162L133.333,96.908L141.667,115.116L150,139.28L158.333,188.862L166.667,196.769L175,196.245L183.333,195.038L191.667,193.517L200,192.62L200,199.841L191.667,199.841L183.333,199.841L175,199.841L166.667,199.841L158.333,191.493L150,143.211L141.667,117.976L133.333,100.178L125,90.623L116.667,86.878L108.333,87.036L100,92.408L91.667,94.158L83.333,99.093L75,116.261L66.667,161.148L58.333,190.163L50,199.841L41.667,199.841L33.333,199.841L25,199.841L16.667,199.841L8.333,199.841Z\" fill=\"#8c564b\"/></g></g><path class=\"foreground\" aria-hidden=\"true\" d=\"\" display=\"none\"/></g><g transform=\"translate(0,0)\"><path class=\"background\" aria-hidden=\"true\" d=\"M0,0h200v200h-200Z\"/><g><g class=\"mark-area role-mark marks\" role=\"graphics-object\" aria-roledescription=\"area mark container\"><path aria-label=\"hour: 2401; production_MW: 3.184932; resource: small_hydroelectric\" role=\"graphics-symbol\" aria-roledescription=\"area mark\" d=\"M8.333,199.841L16.667,199.841L25,199.841L33.333,199.841L41.667,199.841L50,199.841L58.333,190.163L66.667,161.148L75,116.261L83.333,99.093L91.667,94.158L100,92.408L108.333,87.036L116.667,86.878L125,90.623L133.333,100.178L141.667,117.976L150,143.211L158.333,191.493L166.667,199.841L175,199.841L183.333,199.841L191.667,199.841L200,199.841L200,200L191.667,200L183.333,200L175,200L166.667,200L158.333,191.653L150,143.37L141.667,118.135L133.333,100.338L125,90.783L116.667,87.038L108.333,87.195L100,92.568L91.667,94.317L83.333,99.252L75,116.42L66.667,161.308L58.333,190.323L50,200L41.667,200L33.333,200L25,200L16.667,200L8.333,200Z\" fill=\"#e377c2\"/></g></g><path class=\"foreground\" aria-hidden=\"true\" d=\"\" display=\"none\"/></g><g transform=\"translate(0,0)\"><path class=\"background\" aria-hidden=\"true\" d=\"M0,0h200v200h-200Z\"/><g><g class=\"mark-area role-mark marks\" role=\"graphics-object\" aria-roledescription=\"area mark container\"><path aria-label=\"hour: 2401; production_MW: 0; resource: solar_photovoltaic\" role=\"graphics-symbol\" aria-roledescription=\"area mark\" d=\"M8.333,200L16.667,200L25,200L33.333,200L41.667,200L50,200L58.333,190.323L66.667,161.308L75,116.42L83.333,99.252L91.667,94.317L100,92.568L108.333,87.195L116.667,87.038L125,90.783L133.333,100.338L141.667,118.135L150,143.37L158.333,191.653L166.667,200L175,200L183.333,200L191.667,200L200,200L200,200L191.667,200L183.333,200L175,200L166.667,200L158.333,200L150,200L141.667,200L133.333,200L125,200L116.667,200L108.333,200L100,200L91.667,200L83.333,200L75,200L66.667,200L58.333,200L50,200L41.667,200L33.333,200L25,200L16.667,200L8.333,200Z\" fill=\"#7f7f7f\"/></g></g><path class=\"foreground\" aria-hidden=\"true\" d=\"\" display=\"none\"/></g><g transform=\"translate(0,0)\"><path class=\"background\" aria-hidden=\"true\" d=\"M0,0h200v200h-200Z\"/><g><g class=\"mark-area role-mark marks\" role=\"graphics-object\" aria-roledescription=\"area mark container\"><path aria-label=\"hour: 2401; production_MW: 0; resource: biomass\" role=\"graphics-symbol\" aria-roledescription=\"area mark\" d=\"M8.333,165.647L16.667,139.122L25,128.09L33.333,128.818L41.667,129.817L50,126.887L58.333,120.459L66.667,92.685L75,43.486L83.333,29.862L91.667,24.514L100,30.462L108.333,20.346L116.667,19.559L125,24.722L133.333,36.448L141.667,55.432L150,74.873L158.333,122.867L166.667,130.774L175,130.25L183.333,129.043L191.667,142.165L200,190.52L200,190.52L191.667,143.235L183.333,130.113L175,131.32L166.667,131.844L158.333,123.937L150,75.943L141.667,56.502L133.333,37.518L125,25.792L116.667,20.629L108.333,21.416L100,31.532L91.667,25.584L83.333,30.932L75,44.556L66.667,93.755L58.333,121.529L50,127.957L41.667,130.887L33.333,129.888L25,129.16L16.667,140.192L8.333,165.647Z\" fill=\"#ff7f0e\"/></g></g><path class=\"foreground\" aria-hidden=\"true\" d=\"\" display=\"none\"/></g><g transform=\"translate(0,0)\"><path class=\"background\" aria-hidden=\"true\" d=\"M0,0h200v200h-200Z\"/><g><g class=\"mark-area role-mark marks\" role=\"graphics-object\" aria-roledescription=\"area mark container\"><path aria-label=\"hour: 2401; production_MW: 42; resource: hydroelectric_pumped_storage\" role=\"graphics-symbol\" aria-roledescription=\"area mark\" d=\"M8.333,165.647L16.667,140.192L25,129.16L33.333,129.888L41.667,130.887L50,127.957L58.333,121.529L66.667,93.755L75,44.556L83.333,30.932L91.667,25.584L100,31.532L108.333,21.416L116.667,20.629L125,25.792L133.333,37.518L141.667,56.502L150,75.943L158.333,123.937L166.667,131.844L175,131.32L183.333,130.113L191.667,143.235L200,190.52L200,192.62L191.667,145.335L183.333,132.213L175,133.42L166.667,133.944L158.333,126.037L150,78.043L141.667,58.602L133.333,39.618L125,27.892L116.667,22.729L108.333,23.516L100,33.632L91.667,27.684L83.333,33.032L75,46.656L66.667,95.855L58.333,123.629L50,130.057L41.667,132.987L33.333,131.988L25,131.26L16.667,142.292L8.333,167.747Z\" fill=\"#2ca02c\"/></g></g><path class=\"foreground\" aria-hidden=\"true\" d=\"\" display=\"none\"/></g><g transform=\"translate(0,0)\"><path class=\"background\" aria-hidden=\"true\" d=\"M0,0h200v200h-200Z\"/><g><g class=\"mark-area role-mark marks\" role=\"graphics-object\" aria-roledescription=\"area mark container\"><path aria-label=\"hour: 2401; production_MW: 478.572876796; resource: natural_gas_fired_combined_cycle\" role=\"graphics-symbol\" aria-roledescription=\"area mark\" d=\"M8.333,167.747L16.667,142.292L25,131.26L33.333,131.988L41.667,132.987L50,130.057L58.333,123.629L66.667,95.855L75,46.656L83.333,33.032L91.667,27.684L100,33.632L108.333,23.516L116.667,22.729L125,27.892L133.333,39.618L141.667,58.602L150,78.043L158.333,126.037L166.667,133.944L175,133.42L183.333,132.213L191.667,145.335L200,192.62L200,192.62L191.667,193.517L183.333,195.038L175,196.245L166.667,196.769L158.333,188.862L150,139.28L141.667,115.116L133.333,96.908L125,88.162L116.667,83.644L108.333,84.431L100,87.803L91.667,88.599L83.333,92.515L75,107.893L66.667,158.68L58.333,186.454L50,192.882L41.667,195.812L33.333,194.813L25,194.085L16.667,191.351L8.333,191.675Z\" fill=\"#d62728\"/></g></g><path class=\"foreground\" aria-hidden=\"true\" d=\"\" display=\"none\"/></g><g transform=\"translate(0,0)\"><path class=\"background\" aria-hidden=\"true\" d=\"M0,0h200v200h-200Z\"/><g><g class=\"mark-area role-mark marks\" role=\"graphics-object\" aria-roledescription=\"area mark container\"><path aria-label=\"hour: 2401; production_MW: 0; resource: natural_gas_fired_combustion_turbine\" role=\"graphics-symbol\" aria-roledescription=\"area mark\" d=\"M8.333,191.675L16.667,191.351L25,194.085L33.333,194.813L41.667,195.812L50,192.882L58.333,186.454L66.667,158.68L75,107.893L83.333,92.515L91.667,88.599L100,87.803L108.333,84.431L116.667,83.644L125,88.162L133.333,96.908L141.667,115.116L150,139.28L158.333,188.862L166.667,196.769L175,196.245L183.333,195.038L191.667,193.517L200,192.62L200,192.62L191.667,193.517L183.333,195.038L175,196.245L166.667,196.769L158.333,188.862L150,139.28L141.667,115.116L133.333,96.908L125,88.162L116.667,83.644L108.333,84.431L100,87.803L91.667,88.599L83.333,92.515L75,107.893L66.667,158.68L58.333,186.454L50,192.882L41.667,195.812L33.333,194.813L25,194.085L16.667,191.351L8.333,191.675Z\" fill=\"#9467bd\"/></g></g><path class=\"foreground\" aria-hidden=\"true\" d=\"\" display=\"none\"/></g><g transform=\"translate(0,0)\"><path class=\"background\" aria-hidden=\"true\" d=\"M0,0h200v200h-200Z\"/><g><g class=\"mark-area role-mark marks\" role=\"graphics-object\" aria-roledescription=\"area mark container\"><path aria-label=\"hour: 2401; production_MW: 927.933391204; resource: battery\" role=\"graphics-symbol\" aria-roledescription=\"area mark\" d=\"M8.333,119.25L16.667,122.35L25,124.1L33.333,121.9L41.667,113.35L50,101.2L58.333,86.3L66.667,70.15L75,43.486L83.333,29.862L91.667,24.514L100,30.462L108.333,20.346L116.667,19.559L125,24.722L133.333,36.448L141.667,55.432L150,74.873L158.333,81.1L166.667,74.95L175,74.7L183.333,87.1L191.667,100.6L200,112L200,190.52L191.667,142.165L183.333,129.043L175,130.25L166.667,130.774L158.333,122.867L150,74.873L141.667,55.432L133.333,36.448L125,24.722L116.667,19.559L108.333,20.346L100,30.462L91.667,24.514L83.333,29.862L75,43.486L66.667,92.685L58.333,120.459L50,126.887L41.667,129.817L33.333,128.818L25,128.09L16.667,139.122L8.333,165.647Z\" fill=\"#1f77b4\"/></g></g><path class=\"foreground\" aria-hidden=\"true\" d=\"\" display=\"none\"/></g></g><g class=\"mark-group role-legend\" role=\"graphics-symbol\" aria-roledescription=\"legend\" aria-label=\"Symbol legend titled 'resource' for fill color with 8 values: battery, biomass, hydroelectric_pumped_storage, natural_gas_fired_combined_cycle, natural_gas_fired_combustion_turbine, ending with solar_photovoltaic\"><g transform=\"translate(218,0)\"><path class=\"background\" aria-hidden=\"true\" d=\"M0,0h176v118h-176Z\" pointer-events=\"none\"/><g><g class=\"mark-group role-legend-entry\"><g transform=\"translate(0,16)\"><path class=\"background\" aria-hidden=\"true\" d=\"M0,0h0v0h0Z\" pointer-events=\"none\"/><g><g class=\"mark-group role-scope\" role=\"graphics-object\" aria-roledescription=\"group mark container\"><g transform=\"translate(0,0)\"><path class=\"background\" aria-hidden=\"true\" d=\"M0,0h175.5263671875v11h-175.5263671875Z\" pointer-events=\"none\" opacity=\"1\"/><g><g class=\"mark-symbol role-legend-symbol\" pointer-events=\"none\"><path transform=\"translate(6,6)\" d=\"M5,0A5,5,0,1,1,-5,0A5,5,0,1,1,5,0\" fill=\"#1f77b4\" stroke-width=\"1.5\" opacity=\"1\"/></g><g class=\"mark-text role-legend-label\" pointer-events=\"none\"><text text-anchor=\"start\" transform=\"translate(16,9)\" font-family=\"sans-serif\" font-size=\"10px\" fill=\"#000\" opacity=\"1\">battery</text></g></g><path class=\"foreground\" aria-hidden=\"true\" d=\"\" pointer-events=\"none\" display=\"none\"/></g><g transform=\"translate(0,13)\"><path class=\"background\" aria-hidden=\"true\" d=\"M0,0h175.5263671875v11h-175.5263671875Z\" pointer-events=\"none\" opacity=\"1\"/><g><g class=\"mark-symbol role-legend-symbol\" pointer-events=\"none\"><path transform=\"translate(6,6)\" d=\"M5,0A5,5,0,1,1,-5,0A5,5,0,1,1,5,0\" fill=\"#ff7f0e\" stroke-width=\"1.5\" opacity=\"1\"/></g><g class=\"mark-text role-legend-label\" pointer-events=\"none\"><text text-anchor=\"start\" transform=\"translate(16,9)\" font-family=\"sans-serif\" font-size=\"10px\" fill=\"#000\" opacity=\"1\">biomass</text></g></g><path class=\"foreground\" aria-hidden=\"true\" d=\"\" pointer-events=\"none\" display=\"none\"/></g><g transform=\"translate(0,26)\"><path class=\"background\" aria-hidden=\"true\" d=\"M0,0h175.5263671875v11h-175.5263671875Z\" pointer-events=\"none\" opacity=\"1\"/><g><g class=\"mark-symbol role-legend-symbol\" pointer-events=\"none\"><path transform=\"translate(6,6)\" d=\"M5,0A5,5,0,1,1,-5,0A5,5,0,1,1,5,0\" fill=\"#2ca02c\" stroke-width=\"1.5\" opacity=\"1\"/></g><g class=\"mark-text role-legend-label\" pointer-events=\"none\"><text text-anchor=\"start\" transform=\"translate(16,9)\" font-family=\"sans-serif\" font-size=\"10px\" fill=\"#000\" opacity=\"1\">hydroelectric_pumped_storage</text></g></g><path class=\"foreground\" aria-hidden=\"true\" d=\"\" pointer-events=\"none\" display=\"none\"/></g><g transform=\"translate(0,39)\"><path class=\"background\" aria-hidden=\"true\" d=\"M0,0h175.5263671875v11h-175.5263671875Z\" pointer-events=\"none\" opacity=\"1\"/><g><g class=\"mark-symbol role-legend-symbol\" pointer-events=\"none\"><path transform=\"translate(6,6)\" d=\"M5,0A5,5,0,1,1,-5,0A5,5,0,1,1,5,0\" fill=\"#d62728\" stroke-width=\"1.5\" opacity=\"1\"/></g><g class=\"mark-text role-legend-label\" pointer-events=\"none\"><text text-anchor=\"start\" transform=\"translate(16,9)\" font-family=\"sans-serif\" font-size=\"10px\" fill=\"#000\" opacity=\"1\">natural_gas_fired_combined_…</text></g></g><path class=\"foreground\" aria-hidden=\"true\" d=\"\" pointer-events=\"none\" display=\"none\"/></g><g transform=\"translate(0,52)\"><path class=\"background\" aria-hidden=\"true\" d=\"M0,0h175.5263671875v11h-175.5263671875Z\" pointer-events=\"none\" opacity=\"1\"/><g><g class=\"mark-symbol role-legend-symbol\" pointer-events=\"none\"><path transform=\"translate(6,6)\" d=\"M5,0A5,5,0,1,1,-5,0A5,5,0,1,1,5,0\" fill=\"#9467bd\" stroke-width=\"1.5\" opacity=\"1\"/></g><g class=\"mark-text role-legend-label\" pointer-events=\"none\"><text text-anchor=\"start\" transform=\"translate(16,9)\" font-family=\"sans-serif\" font-size=\"10px\" fill=\"#000\" opacity=\"1\">natural_gas_fired_combustion…</text></g></g><path class=\"foreground\" aria-hidden=\"true\" d=\"\" pointer-events=\"none\" display=\"none\"/></g><g transform=\"translate(0,65)\"><path class=\"background\" aria-hidden=\"true\" d=\"M0,0h175.5263671875v11h-175.5263671875Z\" pointer-events=\"none\" opacity=\"1\"/><g><g class=\"mark-symbol role-legend-symbol\" pointer-events=\"none\"><path transform=\"translate(6,6)\" d=\"M5,0A5,5,0,1,1,-5,0A5,5,0,1,1,5,0\" fill=\"#8c564b\" stroke-width=\"1.5\" opacity=\"1\"/></g><g class=\"mark-text role-legend-label\" pointer-events=\"none\"><text text-anchor=\"start\" transform=\"translate(16,9)\" font-family=\"sans-serif\" font-size=\"10px\" fill=\"#000\" opacity=\"1\">onshore_wind_turbine</text></g></g><path class=\"foreground\" aria-hidden=\"true\" d=\"\" pointer-events=\"none\" display=\"none\"/></g><g transform=\"translate(0,78)\"><path class=\"background\" aria-hidden=\"true\" d=\"M0,0h175.5263671875v11h-175.5263671875Z\" pointer-events=\"none\" opacity=\"1\"/><g><g class=\"mark-symbol role-legend-symbol\" pointer-events=\"none\"><path transform=\"translate(6,6)\" d=\"M5,0A5,5,0,1,1,-5,0A5,5,0,1,1,5,0\" fill=\"#e377c2\" stroke-width=\"1.5\" opacity=\"1\"/></g><g class=\"mark-text role-legend-label\" pointer-events=\"none\"><text text-anchor=\"start\" transform=\"translate(16,9)\" font-family=\"sans-serif\" font-size=\"10px\" fill=\"#000\" opacity=\"1\">small_hydroelectric</text></g></g><path class=\"foreground\" aria-hidden=\"true\" d=\"\" pointer-events=\"none\" display=\"none\"/></g><g transform=\"translate(0,91)\"><path class=\"background\" aria-hidden=\"true\" d=\"M0,0h175.5263671875v11h-175.5263671875Z\" pointer-events=\"none\" opacity=\"1\"/><g><g class=\"mark-symbol role-legend-symbol\" pointer-events=\"none\"><path transform=\"translate(6,6)\" d=\"M5,0A5,5,0,1,1,-5,0A5,5,0,1,1,5,0\" fill=\"#7f7f7f\" stroke-width=\"1.5\" opacity=\"1\"/></g><g class=\"mark-text role-legend-label\" pointer-events=\"none\"><text text-anchor=\"start\" transform=\"translate(16,9)\" font-family=\"sans-serif\" font-size=\"10px\" fill=\"#000\" opacity=\"1\">solar_photovoltaic</text></g></g><path class=\"foreground\" aria-hidden=\"true\" d=\"\" pointer-events=\"none\" display=\"none\"/></g></g></g><path class=\"foreground\" aria-hidden=\"true\" d=\"\" pointer-events=\"none\" display=\"none\"/></g></g><g class=\"mark-text role-legend-title\" pointer-events=\"none\"><text text-anchor=\"start\" transform=\"translate(0,9)\" font-family=\"sans-serif\" font-size=\"11px\" font-weight=\"bold\" fill=\"#000\" opacity=\"1\">resource</text></g></g><path class=\"foreground\" aria-hidden=\"true\" d=\"\" pointer-events=\"none\" display=\"none\"/></g></g></g><path class=\"foreground\" aria-hidden=\"true\" d=\"\" display=\"none\"/></g></g></g></svg>"
      ],
      "text/plain": [
       "@vlplot(\n",
       "    mark=\"area\",\n",
       "    encoding={\n",
       "        x={\n",
       "            field=\"hour\"\n",
       "        },\n",
       "        y={\n",
       "            stack=\"zero\",\n",
       "            field=\"production_MW\"\n",
       "        },\n",
       "        color={\n",
       "            scale={\n",
       "                scheme=\"category10\"\n",
       "            },\n",
       "            field=\"resource\",\n",
       "            type=\"nominal\"\n",
       "        }\n",
       "    },\n",
       "    data={\n",
       "        values=...\n",
       "    }\n",
       ")"
      ]
     },
     "metadata": {},
     "output_type": "display_data"
    }
   ],
   "source": [
    "supply = combine(groupby(solution.generation, [:hour, :resource]), :production_MW => sum, renamecols=false)\n",
    "supply_ch = combine(groupby(solution.storage, [:hour, :resource]), :discharge_MW => sum, renamecols=false)\n",
    "rename!(supply_ch, :discharge_MW => :production_MW)\n",
    "append!(supply, supply_ch)\n",
    "supply |>\n",
    "@vlplot(:area, \n",
    "    x=:hour, y={:production_MW, stack=:zero}, \n",
    "    color={\"resource:n\", scale={scheme=\"category10\"}})"
   ]
  },
  {
   "cell_type": "code",
   "execution_count": 66,
   "metadata": {},
   "outputs": [],
   "source": [
    "# sol_commit = innerjoin(solution.commit, \n",
    "#                     gen_df[!, [:r_id, :resource]], \n",
    "#                     on = :r_id)\n",
    "# sol_commit = combine(groupby(sol_commit, [:resource, :hour]), \n",
    "#             :value => sum)\n",
    "# sol_commit.hour = sol_commit.hour .- T_period[1]\n",
    "\n",
    "# sol_commit |>\n",
    "# @vlplot(:area, \n",
    "#     x=:hour, y={:value_sum, stack=:zero}, \n",
    "#     color={\"resource:n\", scale={scheme=\"category10\"}})"
   ]
  },
  {
   "cell_type": "code",
   "execution_count": 67,
   "metadata": {},
   "outputs": [],
   "source": [
    "# to_plot = copy(solution.SOE)\n",
    "# to_plot.hour = to_plot.hour .- T_period[1]\n",
    "# plot(to_plot, x = :hour, y = :value, group = :r_id)"
   ]
  },
  {
   "cell_type": "code",
   "execution_count": 68,
   "metadata": {},
   "outputs": [],
   "source": [
    "# to_plot = copy(solution.dis)\n",
    "# to_plot.hour = to_plot.hour .- T_period[1]\n",
    "# plot(to_plot, x = :hour, y = :value, group = :r_id)"
   ]
  },
  {
   "cell_type": "code",
   "execution_count": 69,
   "metadata": {},
   "outputs": [],
   "source": [
    "# to_plot = copy(solution.ch)\n",
    "# to_plot.hour = to_plot.hour .- T_period[1]\n",
    "# plot(to_plot, x = :hour, y = :value, group = :r_id)"
   ]
  },
  {
   "cell_type": "code",
   "execution_count": 70,
   "metadata": {},
   "outputs": [],
   "source": []
  }
 ],
 "metadata": {
  "@webio": {
   "lastCommId": null,
   "lastKernelId": null
  },
  "kernelspec": {
   "display_name": "Julia 1.10.1",
   "language": "julia",
   "name": "julia-1.10"
  },
  "language_info": {
   "file_extension": ".jl",
   "mimetype": "application/julia",
   "name": "julia",
   "version": "1.10.1"
  }
 },
 "nbformat": 4,
 "nbformat_minor": 4
}
