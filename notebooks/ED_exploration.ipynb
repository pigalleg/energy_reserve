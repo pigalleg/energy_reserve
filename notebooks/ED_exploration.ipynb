{
 "cells": [
  {
   "cell_type": "code",
   "execution_count": null,
   "metadata": {},
   "outputs": [],
   "source": [
    "using PlotlyJS\n",
    "# using XLSX\n",
    "include(\"../model/utils.jl\")\n",
    "# include(\"../model/unit_commitment.jl\")\n",
    "# include(\"../model/economic_dispatch.jl\")\n",
    "include(\"./plotting.jl\")\n",
    "include(\"./processing.jl\")\n",
    "# XLSX.writetable(joinpath(folder_path,\"LOL_CUR.xlsx\"), \"LOL_CUR\" => change_type(LOL_CUR, Symbol, string))"
   ]
  },
  {
   "cell_type": "code",
   "execution_count": null,
   "metadata": {},
   "outputs": [],
   "source": [
    "folder_path = joinpath(\"..\",\"output\", \"solutions_v33.0z\")\n",
    "gcdi_KPI_adequacy = read_parquet_and_convert(joinpath(folder_path,\"all_gcdi_KPI_adequacy.parquet\"))\n",
    "gcd_KPI_adequacy = read_parquet_and_convert(joinpath(folder_path,\"all_gcd_KPI_adequacy.parquet\"))\n",
    "KPI_reserve = read_parquet_and_convert(joinpath(folder_path,\"all_KPI_reserve.parquet\"))\n",
    "gcdi_KPI_reserve = read_parquet_and_convert(joinpath(folder_path,\"all_gcdi_KPI_reserve.parquet\"))\n",
    "gcd_KPI_reserve = read_parquet_and_convert(joinpath(folder_path,\"all_gcd_KPI_reserve.parquet\"))\n",
    ";"
   ]
  },
  {
   "cell_type": "code",
   "execution_count": null,
   "metadata": {},
   "outputs": [],
   "source": [
    "p1 = plot(gcd_KPI_adequacy, x = :mu, y = :EOV, color = :day, kind = \"bar\")\n",
    "p2 = plot(gcd_KPI_adequacy, x = :mu, y = :EENS, color = :day, kind = \"bar\")\n",
    "p3 = plot(gcd_KPI_adequacy, x = :mu, y = :ECUR, color = :day, kind = \"bar\")\n",
    "p4 = plot(gcd_KPI_adequacy, x = :mu, y = :ELGEN, color = :day, kind = \"bar\")\n",
    "# p4 = plot(gcd_KPI_adequacy, x = :mu, y = :ELGEN, color = :day)\n",
    "# p3 = plot(KPI, x = :mu, y = :LOLE, color = :day)\n",
    "[p1 p2 p4]\n",
    "# savefig([p1 p2 p3 p4], \"adecuacy KPIs v1.png\", width=12*scale, height=6*scale)"
   ]
  },
  {
   "cell_type": "code",
   "execution_count": null,
   "metadata": {},
   "outputs": [],
   "source": [
    "iteration_ = :demand_52\n",
    "day_ = 3\n",
    "s1 = bar(filter(:day =>x -> x == day_, gcd_KPI_adequacy), x = :mu, y = :objective_value_uc,  name = \"Day-ahead - Objective function\") # Layout(yaxis_title =\"cost [US]\")\n",
    "s2 = bar(filter(:day =>x -> x == day_, gcd_KPI_adequacy), x = :mu, y = :EΔOV, name = \"Real-time - Expected redispatch + ENS penalties cost\")\n",
    "plot([s1,s2], Layout(barmode=\"stack\",title = attr(text = \"Production cost + penalties for ENS\", xanchor = \"center\", x=0.5), xaxis_title = \"μ\", yaxis_title =\"24-hours total cost \\$\", \n",
    "legend=attr(\n",
    "        x=0,\n",
    "        y=-0.3,\n",
    "        yanchor=\"bottom\",\n",
    "        xanchor=\"left\",\n",
    "        orientation=\"h\"\n",
    "    ))\n",
    ")"
   ]
  },
  {
   "cell_type": "markdown",
   "metadata": {},
   "source": [
    "### Undelivered reserve"
   ]
  },
  {
   "cell_type": "code",
   "execution_count": null,
   "metadata": {},
   "outputs": [],
   "source": [
    "mu_ = 0.1\n",
    "to_plot = filter([:iteration, :day, :mu] => (x,y,z) -> (x.==iteration_).&(y.==day_).&(z.== mu_), KPI_reserve)\n",
    "to_plot = stack(to_plot,[:SOE_MWh, :envelope_up_MWh, :envelope_down_MWh])\n",
    "plot(to_plot, x =:hour, y = :value, group = :variable, facet_col = :configuration, mode=\"markers+lines\")"
   ]
  },
  {
   "cell_type": "code",
   "execution_count": null,
   "metadata": {},
   "outputs": [],
   "source": [
    "# to_plot = KPI_reserve[(KPI_reserve.iteration .== iteration_),:]\n",
    "to_plot = filter(:iteration => ==(iteration_), KPI_reserve)\n",
    "p1 = plot(to_plot, x = :hour, y = :Δenergy_reserve_up_MWh, color = :mu, group = :day)\n",
    "p2 = plot(to_plot, x = :hour, y = :LOL_MW, color = :mu, group = :day)\n",
    "# mu_ = 0.5\n",
    "# to_plot = KPI_reserve[(KPI_reserve.iteration .== iteration_),:]\n",
    "# to_plot = filter([:iteration, :day, :mu] => (x,y,z) -> (x.==iteration_).&(y.==day_).&(z.== mu_), KPI_reserve)\n",
    "# s1 = scatter(to_plot, x = :hour, y = :Δenergy_reserve_up_MWh, group = :day, name = \"Δenergy_reserve_up_MWh - mu = $(mu_)\")\n",
    "# s2 = scatter(to_plot, x = :hour, y = :LOL_MW, group = :day,name = \"LOL_MW - mu = $(mu_)\")\n",
    "# union!(s1,s2)\n",
    "# p2= plot(s1)\n",
    "[p1 p2]"
   ]
  },
  {
   "cell_type": "code",
   "execution_count": null,
   "metadata": {},
   "outputs": [],
   "source": []
  },
  {
   "cell_type": "code",
   "execution_count": null,
   "metadata": {},
   "outputs": [],
   "source": [
    "to_plot = gcd_KPI_reserve[gcd_KPI_reserve.day .== day_,:]\n",
    "s1 = scatter(to_plot, x = :mu, y = :E_final_Δenergy_reserve_up_MWh, group = :day, name = \"Expected energy trapped (∆r_up_t_end)\")\n",
    "s3 = scatter(to_plot, x = :mu, y = :E_final_SOE_MWh, group = :day, name = \"Expected  SOE_t_end\")\n",
    "to_plot = gcd_KPI_adequacy[gcd_KPI_adequacy.day .== day_,:]\n",
    "s2 = scatter(to_plot, x = :mu, y = :EENS, group = :day, name = \"EENS\")\n",
    "\n",
    "union!(s1,s2,s3)\n",
    "plot(s1, Layout(yaxis_title= \"Energy MWh\", xaxis_title=\"μ\",\n",
    "    legend=attr(\n",
    "        x=0.95,\n",
    "        y=0.75,\n",
    "        yanchor=\"bottom\",\n",
    "        xanchor=\"right\",\n",
    "        orientation=\"h\"\n",
    "    ))\n",
    ")"
   ]
  },
  {
   "cell_type": "code",
   "execution_count": null,
   "metadata": {},
   "outputs": [],
   "source": [
    "\n",
    "\n",
    "to_plot = filter([:day,:iteration] => (x,y) -> (x.==day_) .& (y.==iteration_), gcdi_KPI_reserve)\n",
    "s1 = scatter(to_plot, x = :mu, y = :final_Δenergy_reserve_up_MWh, group = :day, name = \"Energy trapped (∆r_t_end)\")\n",
    "s3 = scatter(to_plot, x = :mu, y = :final_SOE_MWh, group = :day, name = \"SOE_t_end\")\n",
    "to_plot = filter([:day,:iteration] => (x,y) -> (x.==day_) .& (y.==iteration_), gcdi_KPI_adequacy)\n",
    "s2 = scatter(to_plot, x = :mu, y = :ENS_MWh, group = :day, name = \"ENS\")\n",
    "\n",
    "union!(s1,s2,s3)\n",
    "plot(s1, Layout(yaxis_title= \"Energy MWh\", xaxis_title=\"μ\",\n",
    "    legend=attr(\n",
    "        x=0.95,\n",
    "        y=0.75,\n",
    "        yanchor=\"bottom\",\n",
    "        xanchor=\"right\",\n",
    "        orientation=\"h\"\n",
    "    ))\n",
    ")"
   ]
  },
  {
   "cell_type": "code",
   "execution_count": null,
   "metadata": {},
   "outputs": [],
   "source": [
    "# to_plot = gcdi_KPI_reserve[gcdi_KPI_reserve.day .== day_,:]\n",
    "# p1 = plot(scatter(to_plot, x = :mu, y = :final_stored_energy_reserve_up_MWh, group = :iteration))\n",
    "# to_plot  = gcdi_KPI_adequacy[gcdi_KPI_adequacy.day .== day_,:]\n",
    "# p2 = plot(scatter(to_plot, x = :mu, y = :ENS_MWh, group = :iteration))\n",
    "# [p1 p2]\n",
    "\n",
    "to_plot = gcdi_KPI_reserve[gcdi_KPI_reserve.day .== day_,:]\n",
    "s1 = scatter(to_plot, x = :mu, y = :final_stored_energy_reserve_up_MWh, group = :iteration, color =\"red\")\n",
    "# s3 = scatter(to_plot, x = :mu, y = :E_final_SOE_MWh, group = :day, name = \"Expected  SOE_t_end\")\n",
    "to_plot = gcdi_KPI_adequacy[gcdi_KPI_adequacy.day .== day_,:]\n",
    "s2 = scatter(to_plot, x = :mu, y = :ENS_MWh, group = :iteration, color =\"blue\")\n",
    "\n",
    "union!(s1,s2)\n",
    "plot(s1,\n",
    "    # Layout(yaxis_title= \"Energy MWh\", xaxis_title=\"μ\",\n",
    "    # legend=attr(\n",
    "    #     x=0.95,\n",
    "    #     y=0.75,\n",
    "    #     yanchor=\"bottom\",\n",
    "    #     xanchor=\"right\",\n",
    "    #     orientation=\"h\"\n",
    "    # ))\n",
    ")"
   ]
  },
  {
   "cell_type": "markdown",
   "metadata": {},
   "source": [
    "### Redispatch probability\n",
    "Redispatch = LOL - LGEN\n",
    "Redispatch is considered to be needed when sign(redispatch*reserve_needed)>0. Cases when reserve_needed>0 but redispatch<0 (i.e., LGEN>0) are considered economic deviations of the RT problem"
   ]
  },
  {
   "cell_type": "code",
   "execution_count": 26,
   "metadata": {},
   "outputs": [],
   "source": [
    "function redispatch_prob(r_relative_min, r_relative_max, required_reserve, number_key)\n",
    "    out =  combine(groupby(required_reserve, [:configuration, :mu]), [:required_r_relative, :redispatch_needed] => ((x,y) -> 100*sum((x.>=r_relative_min).*(x.<=r_relative_max).*y)/sum((x.>=r_relative_min).*(x.<=r_relative_max))) => :redispatch_probability)\n",
    "    out.r_max_relative .= number_key\n",
    "    return out\n",
    "end\n",
    "combine(groupby(KPI_reserve, [:configuration, :mu]), [:required_r_relative, :redispatch_needed] => ((x,y) -> sum((x.>=0).*(x.<=0.1))) => :redispatch_probability)\n",
    ";"
   ]
  },
  {
   "cell_type": "markdown",
   "metadata": {},
   "source": [
    "KPI_reserve"
   ]
  },
  {
   "cell_type": "code",
   "execution_count": null,
   "metadata": {},
   "outputs": [],
   "source": [
    "redispatch_probability = vcat(\n",
    "    vcat([redispatch_prob(0, r_max, KPI_reserve, r_max) for r_max in 0.0:0.01:0.15]...),\n",
    "    vcat([redispatch_prob(-r_max, 0, KPI_reserve, -r_max) for r_max in 0.0:0.01:0.15]...)\n",
    ")\n",
    "sort!(redispatch_probability, :r_max_relative)\n",
    "# redispatch_probability = vcat([redispatch_prob(-r_max, r_max, required_reserve, r_max) for r_max in 0.0:0.01:0.2]...)\n",
    "p1 = plot(redispatch_probability, x = :r_max_relative, y = :redispatch_probability, color = :mu, Layout(title = \"Redispatch probability\", yaxis_title = \"probability  [%]\", xaxis_title = \"required reserve [%]\"), mode=\"markers+lines\")\n",
    "p2 = plot(filter(:mu => x -> ismissing(x) ? false : x == 1, redispatch_probability), x = :r_max_relative, y = :redispatch_probability, Layout(title = \"Redispatch probability mu = 1 \", yaxis_title = \"probability  [%]\", xaxis_title = \"required reserve [%]\"), name = \"1.0\", mode=\"markers+lines\", marker=attr(color=\"black\"))\n",
    "p3 = plot(filter(:day => x -> x in [day_], KPI_reserve), x = :required_r_relative, y = :redispatch_MW, color = :mu, mode = \"markers\")\n",
    "[p1 p2 p3]"
   ]
  },
  {
   "cell_type": "markdown",
   "metadata": {},
   "source": [
    "Sanity check: Figue 2 should exhibit 0 redispatch probability when required reserve >0 for mu = 1\n",
    "Points of quadrant IV in Figure 3 are not considered as redispatching actions\n"
   ]
  },
  {
   "cell_type": "code",
   "execution_count": null,
   "metadata": {},
   "outputs": [],
   "source": [
    "p2 = plot(filter(:day => x -> x in [day_], KPI_reserve), x = :required_r_relative, y = :mu, facet_col = :redispatch_needed, facet_row = :day, mode = \"markers\", Layout(height=800))\n",
    "# p2 = plot(filter(:mu => x -> ismissing(x) ? false : x == 1, KPI_reserve), x = :required_r_relative, y = :mu, facet_col = :redispatch_needed, mode = \"markers\", Layout(height=800))"
   ]
  },
  {
   "cell_type": "code",
   "execution_count": null,
   "metadata": {},
   "outputs": [],
   "source": [
    "p1 = plot(gcdi_KPI_adequacy, y = :Δobjective_value_relative_ref_conf, x = :mu, color = :iteration)\n",
    "p2 = plot(gcdi_KPI_adequacy, y = :ENS_MWh, x = :mu, color = :iteration)\n",
    "p3 = plot(gcdi_KPI_adequacy, y = :LGEN_MWh, x = :mu, color = :iteration)\n",
    "p4 = plot(gcdi_KPI_adequacy, y = :CUR_MWh, x = :mu, color = :iteration)\n",
    "[p1 p2; p3 p4]"
   ]
  },
  {
   "cell_type": "code",
   "execution_count": null,
   "metadata": {},
   "outputs": [],
   "source": [
    "p1 = plot(gcdi_KPI_adequacy, y = :Δobjective_value_relative_ref_conf, x = :mu, facet_col = :day, color = :iteration)\n",
    "[p1;]"
   ]
  },
  {
   "cell_type": "markdown",
   "metadata": {},
   "source": [
    "## Revise code"
   ]
  },
  {
   "cell_type": "code",
   "execution_count": null,
   "metadata": {},
   "outputs": [],
   "source": [
    "p1 = plot(gcd_KPI_reserve, x = :mu, y = :delivered_r_up_ratio, color = :day)\n",
    "p2 = plot(gcd_KPI_reserve, x = :mu, y = :delivered_r_dn_ratio, color = :day)\n",
    "p3 = plot(gcd_KPI_reserve, x = :mu, y = :E_delivered_r_up_MWh, color = :day)\n",
    "p4 = plot(gcd_KPI_reserve, x = :mu, y = :E_deliverered_dn_MWh, color = :day)\n",
    "# [p1 p2; p3 p4]\n",
    "[p1 p2]"
   ]
  },
  {
   "cell_type": "markdown",
   "metadata": {},
   "source": [
    "## Deprecated"
   ]
  },
  {
   "cell_type": "code",
   "execution_count": null,
   "metadata": {},
   "outputs": [],
   "source": [
    "reserve_thrs = 0.1+0.0001\n",
    "group_by = [:configuration, :day, :iteration]\n",
    "\n",
    "ov = leftjoin(\n",
    "    gcdi_KPI_adequacy[:,union(group_by,[:objective_value, :OPEX, :ENS_MWh])],\n",
    "    combine(groupby(KPI_reserve, group_by), :required_r_relative => (x-> all(abs.(x) .<= reserve_thrs))  => :required_reserve_within_margins),\n",
    "    on = group_by\n",
    ")\n",
    "\n",
    "eov = combine(groupby(ov, [:configuration, :day, :required_reserve_within_margins]), [:objective_value, :OPEX, :ENS_MWh] .=> mean .=> [:EOV, :EOPEX, :EENS])\n",
    "sort!(transform!(eov, :configuration .=> ByRow(x -> parse_configuration_to_mu(x)) .=> :mu), :mu)\n",
    "\n",
    "[plot(eov, x = :mu, y = :EOV, color = :day, facet_col = :required_reserve_within_margins) plot(eov, x = :mu, y = :EENS, color = :day, facet_col = :required_reserve_within_margins)]"
   ]
  }
 ],
 "metadata": {
  "@webio": {
   "lastCommId": null,
   "lastKernelId": null
  },
  "kernelspec": {
   "display_name": "Julia 1.10.5",
   "language": "julia",
   "name": "julia-1.10"
  },
  "language_info": {
   "file_extension": ".jl",
   "mimetype": "application/julia",
   "name": "julia",
   "version": "1.10.5"
  }
 },
 "nbformat": 4,
 "nbformat_minor": 4
}
