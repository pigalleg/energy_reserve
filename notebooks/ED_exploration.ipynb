{
 "cells": [
  {
   "cell_type": "code",
   "execution_count": 1,
   "metadata": {},
   "outputs": [
    {
     "data": {
      "text/plain": [
       "parquet_to_solution (generic function with 1 method)"
      ]
     },
     "metadata": {},
     "output_type": "display_data"
    }
   ],
   "source": [
    "using PlotlyJS\n",
    "include(\"../model/utils.jl\")\n",
    "include(\"../model/unit_commitment.jl\")\n",
    "include(\"../model/economic_dispatch.jl\")\n",
    "include(\"./plotting.jl\")\n",
    "include(\"./processing.jl\")"
   ]
  },
  {
   "cell_type": "code",
   "execution_count": 2,
   "metadata": {},
   "outputs": [
    {
     "name": "stdout",
     "output_type": "stream",
     "text": [
      "reading...\n",
      "../output/solutions_v1.2/n_15/s_uc_demand.parquet\n",
      "../output/solutions_v1.2/n_15/s_uc_generation.parquet\n",
      "../output/solutions_v1.2/n_15/s_uc_storage.parquet\n",
      "../output/solutions_v1.2/n_15/s_uc_reserve.parquet\n",
      "../output/solutions_v1.2/n_15/s_uc_energy_reserve.parquet\n",
      "../output/solutions_v1.2/n_15/s_uc_scalar.parquet\n",
      "...done\n",
      "reading...\n",
      "../output/solutions_v1.2/n_45/s_uc_demand.parquet\n",
      "../output/solutions_v1.2/n_45/s_uc_generation.parquet\n",
      "../output/solutions_v1.2/n_45/s_uc_storage.parquet\n",
      "../output/solutions_v1.2/n_45/s_uc_reserve.parquet\n",
      "../output/solutions_v1.2/n_45/s_uc_energy_reserve.parquet\n",
      "../output/solutions_v1.2/n_45/s_uc_scalar.parquet\n",
      "...done\n",
      "reading...\n",
      "../output/solutions_v1.2/n_75/s_uc_demand.parquet\n",
      "../output/solutions_v1.2/n_75/s_uc_generation.parquet\n",
      "../output/solutions_v1.2/n_75/s_uc_storage.parquet\n",
      "../output/solutions_v1.2/n_75/s_uc_reserve.parquet\n",
      "../output/solutions_v1.2/n_75/s_uc_energy_reserve.parquet\n",
      "../output/solutions_v1.2/n_75/s_uc_scalar.parquet\n",
      "...done\n",
      "reading...\n",
      "../output/solutions_v1.2/n_106/s_uc_demand.parquet\n",
      "../output/solutions_v1.2/n_106/s_uc_generation.parquet\n",
      "../output/solutions_v1.2/n_106/s_uc_storage.parquet\n",
      "../output/solutions_v1.2/n_106/s_uc_reserve.parquet\n",
      "../output/solutions_v1.2/n_106/s_uc_energy_reserve.parquet\n",
      "../output/solutions_v1.2/n_106/s_uc_scalar.parquet\n",
      "...done\n",
      "reading...\n",
      "../output/solutions_v1.2/n_136/s_uc_demand.parquet\n",
      "../output/solutions_v1.2/n_136/s_uc_generation.parquet\n",
      "../output/solutions_v1.2/n_136/s_uc_storage.parquet\n",
      "../output/solutions_v1.2/n_136/s_uc_reserve.parquet\n",
      "../output/solutions_v1.2/n_136/s_uc_energy_reserve.parquet\n",
      "../output/solutions_v1.2/n_136/s_uc_scalar.parquet\n",
      "...done\n",
      "reading...\n",
      "../output/solutions_v1.2/n_167/s_uc_demand.parquet\n",
      "../output/solutions_v1.2/n_167/s_uc_generation.parquet\n",
      "../output/solutions_v1.2/n_167/s_uc_storage.parquet\n",
      "../output/solutions_v1.2/n_167/s_uc_reserve.parquet\n",
      "../output/solutions_v1.2/n_167/s_uc_energy_reserve.parquet\n",
      "../output/solutions_v1.2/n_167/s_uc_scalar.parquet\n",
      "...done\n",
      "reading...\n",
      "../output/solutions_v1.2/n_197/s_uc_demand.parquet\n",
      "../output/solutions_v1.2/n_197/s_uc_generation.parquet\n",
      "../output/solutions_v1.2/n_197/s_uc_storage.parquet\n",
      "../output/solutions_v1.2/n_197/s_uc_reserve.parquet\n",
      "../output/solutions_v1.2/n_197/s_uc_energy_reserve.parquet\n",
      "../output/solutions_v1.2/n_197/s_uc_scalar.parquet\n",
      "...done\n",
      "reading...\n",
      "../output/solutions_v1.2/n_228/s_uc_demand.parquet\n",
      "../output/solutions_v1.2/n_228/s_uc_generation.parquet\n",
      "../output/solutions_v1.2/n_228/s_uc_storage.parquet\n",
      "../output/solutions_v1.2/n_228/s_uc_reserve.parquet\n",
      "../output/solutions_v1.2/n_228/s_uc_energy_reserve.parquet\n",
      "../output/solutions_v1.2/n_228/s_uc_scalar.parquet\n",
      "...done\n",
      "reading...\n",
      "../output/solutions_v1.2/n_259/s_uc_demand.parquet\n",
      "../output/solutions_v1.2/n_259/s_uc_generation.parquet\n",
      "../output/solutions_v1.2/n_259/s_uc_storage.parquet\n",
      "../output/solutions_v1.2/n_259/s_uc_reserve.parquet\n",
      "../output/solutions_v1.2/n_259/s_uc_energy_reserve.parquet\n",
      "../output/solutions_v1.2/n_259/s_uc_scalar.parquet\n",
      "...done\n",
      "reading...\n",
      "../output/solutions_v1.2/n_289/s_uc_demand.parquet\n",
      "../output/solutions_v1.2/n_289/s_uc_generation.parquet\n",
      "../output/solutions_v1.2/n_289/s_uc_storage.parquet\n",
      "../output/solutions_v1.2/n_289/s_uc_reserve.parquet\n",
      "../output/solutions_v1.2/n_289/s_uc_energy_reserve.parquet\n",
      "../output/solutions_v1.2/n_289/s_uc_scalar.parquet\n",
      "...done\n",
      "reading...\n",
      "../output/solutions_v1.2/n_320/s_uc_demand.parquet\n",
      "../output/solutions_v1.2/n_320/s_uc_generation.parquet\n",
      "../output/solutions_v1.2/n_320/s_uc_storage.parquet\n",
      "../output/solutions_v1.2/n_320/s_uc_reserve.parquet\n",
      "../output/solutions_v1.2/n_320/s_uc_energy_reserve.parquet\n",
      "../output/solutions_v1.2/n_320/s_uc_scalar.parquet\n",
      "...done\n",
      "reading...\n",
      "../output/solutions_v1.2/n_350/s_uc_demand.parquet\n",
      "../output/solutions_v1.2/n_350/s_uc_generation.parquet\n",
      "../output/solutions_v1.2/n_350/s_uc_storage.parquet\n",
      "../output/solutions_v1.2/n_350/s_uc_reserve.parquet\n",
      "../output/solutions_v1.2/n_350/s_uc_energy_reserve.parquet\n",
      "../output/solutions_v1.2/n_350/s_uc_scalar.parquet\n",
      "...done\n",
      "reading...\n",
      "../output/solutions_v1.2/n_15/s_ed_demand.parquet\n",
      "../output/solutions_v1.2/n_15/s_ed_generation.parquet\n",
      "../output/solutions_v1.2/n_15/s_ed_storage.parquet\n",
      "../output/solutions_v1.2/n_15/s_ed_reserve.parquet\n",
      "../output/solutions_v1.2/n_15/s_ed_energy_reserve.parquet\n",
      "../output/solutions_v1.2/n_15/s_ed_scalar.parquet\n",
      "...done\n",
      "reading...\n",
      "../output/solutions_v1.2/n_45/s_ed_demand.parquet\n",
      "../output/solutions_v1.2/n_45/s_ed_generation.parquet\n",
      "../output/solutions_v1.2/n_45/s_ed_storage.parquet\n",
      "../output/solutions_v1.2/n_45/s_ed_reserve.parquet\n",
      "../output/solutions_v1.2/n_45/s_ed_energy_reserve.parquet\n",
      "../output/solutions_v1.2/n_45/s_ed_scalar.parquet\n",
      "...done\n",
      "reading...\n",
      "../output/solutions_v1.2/n_75/s_ed_demand.parquet\n",
      "../output/solutions_v1.2/n_75/s_ed_generation.parquet\n",
      "../output/solutions_v1.2/n_75/s_ed_storage.parquet\n",
      "../output/solutions_v1.2/n_75/s_ed_reserve.parquet\n",
      "../output/solutions_v1.2/n_75/s_ed_energy_reserve.parquet\n",
      "../output/solutions_v1.2/n_75/s_ed_scalar.parquet\n",
      "...done\n",
      "reading...\n",
      "../output/solutions_v1.2/n_106/s_ed_demand.parquet\n",
      "../output/solutions_v1.2/n_106/s_ed_generation.parquet\n",
      "../output/solutions_v1.2/n_106/s_ed_storage.parquet\n",
      "../output/solutions_v1.2/n_106/s_ed_reserve.parquet\n",
      "../output/solutions_v1.2/n_106/s_ed_energy_reserve.parquet\n",
      "../output/solutions_v1.2/n_106/s_ed_scalar.parquet\n",
      "...done\n",
      "reading...\n",
      "../output/solutions_v1.2/n_136/s_ed_demand.parquet\n",
      "../output/solutions_v1.2/n_136/s_ed_generation.parquet\n",
      "../output/solutions_v1.2/n_136/s_ed_storage.parquet\n",
      "../output/solutions_v1.2/n_136/s_ed_reserve.parquet\n",
      "../output/solutions_v1.2/n_136/s_ed_energy_reserve.parquet\n",
      "../output/solutions_v1.2/n_136/s_ed_scalar.parquet\n",
      "...done\n",
      "reading...\n",
      "../output/solutions_v1.2/n_167/s_ed_demand.parquet\n",
      "../output/solutions_v1.2/n_167/s_ed_generation.parquet\n",
      "../output/solutions_v1.2/n_167/s_ed_storage.parquet\n",
      "../output/solutions_v1.2/n_167/s_ed_reserve.parquet\n",
      "../output/solutions_v1.2/n_167/s_ed_energy_reserve.parquet\n",
      "../output/solutions_v1.2/n_167/s_ed_scalar.parquet\n",
      "...done\n",
      "reading...\n",
      "../output/solutions_v1.2/n_197/s_ed_demand.parquet\n",
      "../output/solutions_v1.2/n_197/s_ed_generation.parquet\n",
      "../output/solutions_v1.2/n_197/s_ed_storage.parquet\n",
      "../output/solutions_v1.2/n_197/s_ed_reserve.parquet\n",
      "../output/solutions_v1.2/n_197/s_ed_energy_reserve.parquet\n",
      "../output/solutions_v1.2/n_197/s_ed_scalar.parquet\n",
      "...done\n",
      "reading...\n",
      "../output/solutions_v1.2/n_228/s_ed_demand.parquet\n",
      "../output/solutions_v1.2/n_228/s_ed_generation.parquet\n",
      "../output/solutions_v1.2/n_228/s_ed_storage.parquet\n",
      "../output/solutions_v1.2/n_228/s_ed_reserve.parquet\n",
      "../output/solutions_v1.2/n_228/s_ed_energy_reserve.parquet\n",
      "../output/solutions_v1.2/n_228/s_ed_scalar.parquet\n",
      "...done\n",
      "reading...\n",
      "../output/solutions_v1.2/n_259/s_ed_demand.parquet\n",
      "../output/solutions_v1.2/n_259/s_ed_generation.parquet\n",
      "../output/solutions_v1.2/n_259/s_ed_storage.parquet\n",
      "../output/solutions_v1.2/n_259/s_ed_reserve.parquet\n",
      "../output/solutions_v1.2/n_259/s_ed_energy_reserve.parquet\n",
      "../output/solutions_v1.2/n_259/s_ed_scalar.parquet\n",
      "...done\n",
      "reading...\n",
      "../output/solutions_v1.2/n_289/s_ed_demand.parquet\n",
      "../output/solutions_v1.2/n_289/s_ed_generation.parquet\n",
      "../output/solutions_v1.2/n_289/s_ed_storage.parquet\n",
      "../output/solutions_v1.2/n_289/s_ed_reserve.parquet\n",
      "../output/solutions_v1.2/n_289/s_ed_energy_reserve.parquet\n",
      "../output/solutions_v1.2/n_289/s_ed_scalar.parquet\n",
      "...done\n",
      "reading...\n",
      "../output/solutions_v1.2/n_320/s_ed_demand.parquet\n",
      "../output/solutions_v1.2/n_320/s_ed_generation.parquet\n",
      "../output/solutions_v1.2/n_320/s_ed_storage.parquet\n",
      "../output/solutions_v1.2/n_320/s_ed_reserve.parquet\n",
      "../output/solutions_v1.2/n_320/s_ed_energy_reserve.parquet\n",
      "../output/solutions_v1.2/n_320/s_ed_scalar.parquet\n",
      "...done\n",
      "reading...\n",
      "../output/solutions_v1.2/n_350/s_ed_demand.parquet\n",
      "../output/solutions_v1.2/n_350/s_ed_generation.parquet\n",
      "../output/solutions_v1.2/n_350/s_ed_storage.parquet\n",
      "../output/solutions_v1.2/n_350/s_ed_reserve.parquet\n"
     ]
    }
   ],
   "source": [
    "folder_path = joinpath(\"..\",\"output\", \"solutions_v1.2\")\n",
    "solution_folders = [\"n_15\", \"n_45\", \"n_75\", \"n_106\", \"n_136\", \"n_167\", \"n_197\", \"n_228\", \"n_259\", \"n_289\", \"n_320\", \"n_350\"] \n",
    "# solution_folders = [\"n_15\", \"n_45\", \"n_75\", \"n_106\", \"n_136\", \"n_167\", \"n_197\", \"n_228\", \"n_259\", \"n_289\", \"n_320\", \"n_350\"] \n",
    "# solution_folders = [\"n_15\", \"n_45\", \"n_75\", \"n_106\", \"n_136\", \"n_167\",\"n_197\", \"n_228\", \"n_259\"]\n",
    "read = true\n",
    "if read\n",
    "    keys = [:demand, :generation, :storage, :reserve, :energy_reserve, :scalar]\n",
    "    s_uc = [parquet_to_solution(\"s_uc\", joinpath(folder_path, s)) for s in solution_folders]\n",
    "    s_ed = [parquet_to_solution(\"s_ed\", joinpath(folder_path, s)) for s in solution_folders]\n",
    "    s_uc = NamedTuple(k => vcat([s[k] for s in s_uc]...) for k in keys)\n",
    "    s_ed = NamedTuple(k => vcat([s[k] for s in s_ed]...) for k in keys)\n",
    "end"
   ]
  },
  {
   "cell_type": "code",
   "execution_count": null,
   "metadata": {},
   "outputs": [],
   "source": [
    "thres =.001 # 1 Watt\n",
    "f_LOL(x,y) = \n",
    "    (LLD_h=count(x.>thres),\n",
    "    # LOLP=count(x.>thres)/length(y)*100,\n",
    "    ENS_MWh = sum(x),\n",
    "    # LOL_percentage = sum(x)/(sum(y) + sum(x))*100,\n",
    "    Demand_MWh = (sum(y) + sum(x)),\n",
    "    )\n",
    "f_CUR(x,y) =     \n",
    "    (CURD_h=count(x.>thres),\n",
    "    # CURP=count(x.>thres)/length(y)*100,\n",
    "    CUR_MWh = sum(x),\n",
    "    # CUR_percentage = sum(x)/(sum(y) + sum(x))*100,\n",
    "    RES_production_MWh = (sum(y) + sum(x)),\n",
    "    )"
   ]
  },
  {
   "cell_type": "code",
   "execution_count": null,
   "metadata": {},
   "outputs": [],
   "source": [
    "group_by = [:configuration, :day]\n",
    "filter = in([\"onshore_wind_turbine\",\"small_hydroelectric\",\"solar_photovoltaic\", \"net_generation\"]).(s_ed.generation.resource)\n",
    "\n",
    "gdf_LOL = combine(groupby(s_ed.demand, union([:iteration], group_by)), [:LOL_MW, :demand_MW] => ((x,y)->f_LOL(x,y)) => AsTable)\n",
    "gdf_CUR = combine(groupby(s_ed.generation[filter,:], union([:iteration], group_by)), [:curtailment_MW, :production_MW] =>((x,y) -> f_CUR(x,y))=> AsTable)\n",
    "# gdf_SCALAR = combine(groupby(s_ed.scalar, union([:iteration], group_by)), [:objective_value] => (x -> (objective_value = sum(x))) => AsTable)\n",
    "gdf_LOL_CUR = outerjoin(gdf_LOL, gdf_CUR, on = union([:iteration], group_by))\n",
    "\n",
    "LOL = combine(groupby(gdf_LOL, group_by), [:LLD_h, :ENS_MWh] => ((x,y)->(LOLE = mean(x), EENS = mean(y))) => AsTable)\n",
    "CUR = combine(groupby(gdf_CUR, group_by), [:CURD_h, :CUR_MWh] => ((x,y)->(CURE = mean(x), ECUR = mean(y))) => AsTable)\n",
    "SCALAR = combine(groupby(s_ed.scalar, group_by), :objective_value => mean => :EOV)\n",
    "LOL_CUR = outerjoin(LOL, CUR, SCALAR, on=[:configuration, :day])\n",
    "LOL_CUR\n"
   ]
  },
  {
   "cell_type": "code",
   "execution_count": null,
   "metadata": {},
   "outputs": [],
   "source": [
    "# CSV.write(\"LOL_CUR.csv\",LOL_CUR)\n",
    "CSV.write(\"s_ed_scalar.csv\",s_ed.scalar)"
   ]
  },
  {
   "cell_type": "code",
   "execution_count": null,
   "metadata": {},
   "outputs": [],
   "source": [
    "plot(gdf_LOL_CUR, x = :CUR_MWh, y = :ENS_MWh, facet_col = :configuration, text = :iteration, color= :day, mode=\"markers\")"
   ]
  },
  {
   "cell_type": "code",
   "execution_count": null,
   "metadata": {},
   "outputs": [],
   "source": [
    "# plot(LOL_CUR, x = :LOLE, y = :EENS, facet_col = :day, group = :configuration, marker_color = :EOV_M, mode = \"markers\", marker=attr(showscale=true))\n",
    "# configs\n",
    "plot(LOL_CUR, x = :ECUR, y = :EENS, facet_col = :day, mode = \"markers\", text = :day, color=:day) # marker=attr(showscale=true, coloraxis=\"coloraxis\", color=:day"
   ]
  },
  {
   "cell_type": "code",
   "execution_count": null,
   "metadata": {},
   "outputs": [],
   "source": [
    "LOL_CUR[LOL_CUR.day .== 28, :]"
   ]
  },
  {
   "cell_type": "code",
   "execution_count": null,
   "metadata": {},
   "outputs": [],
   "source": [
    "# plot(LOL_CUR, x = :EOV, y = :EENS, text = :configuration, color = :configuration, mode = \"markers\")\n",
    "plot(LOL_CUR[LOL_CUR.day .== 228, :], x = :EOV, y = :EENS, color = :configuration, mode = \"markers\")\n"
   ]
  },
  {
   "cell_type": "code",
   "execution_count": null,
   "metadata": {},
   "outputs": [],
   "source": [
    "# plot(gdf_CUR, y = :CURP, x = :CUR_MWh, facet_col = :configuration, facet_row = :day, color= :iteration, mode=\"markers\")"
   ]
  },
  {
   "cell_type": "code",
   "execution_count": null,
   "metadata": {},
   "outputs": [],
   "source": [
    "# plot(gdf_LOL, x = :LOL_percentage, kind=\"histogram\", facet_col = :configuration, facet_row = :day, histonorm = \"percent\")"
   ]
  },
  {
   "cell_type": "code",
   "execution_count": null,
   "metadata": {},
   "outputs": [],
   "source": [
    "# filter = in([\"onshore_wind_turbine\",\"small_hydroelectric\",\"solar_photovoltaic\"]).(s_ed.generation.resource) # probably not needed if we discard the CUR_percentage KPI\n",
    "# plot(gdf_CUR, x = :CUR_percentage, kind=\"histogram\", facet_col = :configuration, facet_row = :day, histonorm = \"percent\")"
   ]
  },
  {
   "cell_type": "code",
   "execution_count": null,
   "metadata": {},
   "outputs": [],
   "source": [
    "supply_uc, demand_uc = calculate_supply_demand(s_uc, union([:hour, :resource], group_by))\n",
    "supply_ed, demand_ed = calculate_supply_demand(s_ed, union([:hour, :resource, :iteration], group_by))\n",
    ";"
   ]
  },
  {
   "cell_type": "code",
   "execution_count": null,
   "metadata": {},
   "outputs": [],
   "source": [
    "# day_ = first(s_ed.generation.day)\n",
    "# day_ = 197\n",
    "day_ = 228\n",
    "# iteration_ = first(s_ed.generation.iteration)\n",
    "# iteration_ = :demand_39\n",
    "iteration_ = :demand_97\n",
    "\n"
   ]
  },
  {
   "cell_type": "code",
   "execution_count": null,
   "metadata": {},
   "outputs": [],
   "source": [
    "config_ = :base_ramp_storage_energy_reserve_cumulated\n",
    "supply_uc_ = supply_uc[(supply_uc.configuration .== config_) .& (supply_uc.day .== day_), :]\n",
    "demand_uc_ = demand_uc[(demand_uc.configuration .== config_) .& (demand_uc.day .== day_), :]\n",
    "plot_supply_demand(supply_uc_, demand_uc_, string(config_))"
   ]
  },
  {
   "cell_type": "markdown",
   "metadata": {},
   "source": []
  },
  {
   "cell_type": "code",
   "execution_count": null,
   "metadata": {},
   "outputs": [],
   "source": [
    "config_ = :base_ramp_storage_energy_reserve_cumulated\n",
    "supply_ed_ = supply_ed[(supply_ed.configuration .== config_) .& (supply_ed.day .== day_) .& (supply_ed.iteration .== iteration_), :]\n",
    "demand_ed_ = demand_ed[(demand_ed.configuration .== config_) .& (demand_ed.day .== day_) .& (demand_ed.iteration .== iteration_), :]\n",
    "plot_supply_demand(supply_ed_, demand_ed_, string(config_))\n"
   ]
  },
  {
   "cell_type": "code",
   "execution_count": null,
   "metadata": {},
   "outputs": [],
   "source": [
    "config_ = :base_ramp_storage_reserve\n",
    "supply_ed_ = supply_ed[(supply_ed.configuration .== config_) .& (supply_ed.day .== day_) .& (supply_ed.iteration .== iteration_), :]\n",
    "demand_ed_ = demand_ed[(demand_ed.configuration .== config_) .& (demand_ed.day .== day_) .& (demand_ed.iteration .== iteration_), :]\n",
    "plot_supply_demand(supply_ed_, demand_ed_, string(config_))\n"
   ]
  },
  {
   "cell_type": "code",
   "execution_count": null,
   "metadata": {},
   "outputs": [],
   "source": [
    "config_ = :base_ramp_storage_envelopes\n",
    "supply_ed_ = supply_ed[(supply_ed.configuration .== config_) .& (supply_ed.day .== day_) .& (supply_ed.iteration .== iteration_), :]\n",
    "demand_ed_ = demand_ed[(demand_ed.configuration .== config_) .& (demand_ed.day .== day_) .& (demand_ed.iteration .== iteration_), :]\n",
    "plot_supply_demand(supply_ed_, demand_ed_, string(config_))"
   ]
  },
  {
   "cell_type": "markdown",
   "metadata": {},
   "source": [
    "### Other"
   ]
  },
  {
   "cell_type": "code",
   "execution_count": null,
   "metadata": {},
   "outputs": [],
   "source": [
    "plot_reserve(reserve_, \"Storage + SOC Imprudent\")"
   ]
  },
  {
   "cell_type": "code",
   "execution_count": null,
   "metadata": {},
   "outputs": [],
   "source": [
    "supply_ = supply_uc[supply_uc.configuration .== :base_ramp_storage_envelopes, :]\n",
    "demand_ = demand_uc[demand_uc.configuration .== :base_ramp_storage_envelopes, :]\n",
    "solution_reserve_ = s_uc.reserve[s_uc.reserve.configuration .== :base_ramp_storage_envelopes, :]\n",
    "reserve_ = calculate_reserve(solution_reserve_, required_reserve)\n",
    "plot_supply_demand(supply_, demand_,\"Storage + SOC Envelopes\")"
   ]
  },
  {
   "cell_type": "code",
   "execution_count": null,
   "metadata": {},
   "outputs": [],
   "source": [
    "plot_reserve(reserve_, \"Storage + SOC Envelopes\")"
   ]
  },
  {
   "cell_type": "code",
   "execution_count": null,
   "metadata": {},
   "outputs": [],
   "source": [
    "supply_ = supply_uc[supply_uc.configuration .== :base_ramp_storage_energy_reserve_cumulated, :]\n",
    "demand_ = demand_uc[demand_uc.configuration .== :base_ramp_storage_energy_reserve_cumulated, :]\n",
    "solution_reserve_ = s_uc.reserve[s_uc.reserve.configuration .== :base_ramp_storage_energy_reserve_cumulated, :]\n",
    "reserve_ = calculate_reserve(solution_reserve_, required_reserve)\n",
    "plot_supply_demand(supply_, demand_,\"Storage + Energy Reserve\")"
   ]
  },
  {
   "cell_type": "code",
   "execution_count": null,
   "metadata": {},
   "outputs": [],
   "source": [
    "plot_reserve(reserve_, \"Storage + Energy Reserve\")"
   ]
  },
  {
   "cell_type": "markdown",
   "metadata": {},
   "source": [
    "## Other"
   ]
  },
  {
   "cell_type": "code",
   "execution_count": null,
   "metadata": {},
   "outputs": [],
   "source": [
    "demand_ = :demand_28\n",
    "supply_ed_ = supply_ed[(supply_ed.configuration .== :base_ramp_storage_envelopes).&(supply_ed.iteration .== demand_), :]\n",
    "demand_ed_ = demand_ed[(demand_ed.configuration .== :base_ramp_storage_envelopes).&(demand_ed.iteration .== demand_), :]\n",
    "# solution_reserve_ = s_uc.reserve[s_uc.reserve.configuration .== :base_ramp_storage_envelopes, :]\n",
    "# reserve_ = calculate_reserve(solution_reserve_, required_reserve)\n",
    "plot_supply_demand(supply_ed_, demand_ed_,\"Storage + Envelopes\")\n",
    "# p1 = plot_fieldx_by_fieldy(supply_ed_, :production_MW, :resource, \"ED - Storage + SOC Envelopes\")\n",
    "\n",
    "# p2 = plot_fieldx_by_fieldy(supply_ed_, :production_MW, :resource, \"ED - Storage + Energy Reserve\")\n",
    "\n",
    "# [p1 p2]"
   ]
  },
  {
   "cell_type": "code",
   "execution_count": null,
   "metadata": {},
   "outputs": [],
   "source": [
    "supply_ed_ = supply_ed[(supply_ed.configuration .== :base_ramp_storage_energy_reserve_cumulated).&(supply_ed.iteration .== demand_), :]\n",
    "demand_ed_ = demand_ed[(demand_ed.configuration .== :base_ramp_storage_energy_reserve_cumulated).&(demand_ed.iteration .== demand_), :]\n",
    "plot_supply_demand(supply_ed_, demand_ed_,\"ED - Storage + Energy Reserve\")"
   ]
  },
  {
   "cell_type": "code",
   "execution_count": null,
   "metadata": {},
   "outputs": [],
   "source": [
    "get_day = 1\n",
    "days = unique(s_ed.generation.day)\n",
    "gen_df, loads_multi_df, gen_variable_multi_df, storage_df, random_loads_multi_df = generate_input_data(days[get_day], \"../input/base_case\")\n",
    "required_reserve, required_energy_reserve, required_energy_reserve_cumulated = generate_reserves(loads_multi_df, gen_variable_multi_df, 0.1)\n",
    ";"
   ]
  },
  {
   "cell_type": "code",
   "execution_count": null,
   "metadata": {},
   "outputs": [],
   "source": [
    "select_first = 100\n",
    "to_plot_demand = stack(random_loads_multi_df[!,1:(select_first+1)], Not(:hour))\n",
    "to_plot_reserve = copy(required_reserve)\n",
    "to_plot_reserve.reserve_up_MW = required_reserve.reserve_up_MW .+ random_loads_multi_df[!,:demand]\n",
    "to_plot_reserve.reserve_down_MW = -required_reserve.reserve_down_MW .+ random_loads_multi_df[!,:demand]\n",
    "to_plot_reserve.demand_MW = random_loads_multi_df[!,:demand]\n",
    "to_plot_reserve = stack(to_plot_reserve, Not(:hour))\n",
    "s= scatter(to_plot_demand, x = :hour, y = :value, group = :variable)\n",
    "s1 = scatter(to_plot_reserve, x = :hour, y = :value, group = :variable, line=attr(color=\"purple\", width=1.5, dash=\"dot\"))\n",
    "union!(s,s1)\n",
    "p1 = plot(s, Layout(yaxis_title=\"power MW\", xaxis_title=\"hour\"))\n",
    "\n",
    "t_ = loads_multi_df[loads_multi_df.demand .== maximum(loads_multi_df.demand),:hour]\n",
    "to_plot_histogram = stack(random_loads_multi_df[random_loads_multi_df.hour .== t_, :])\n",
    "p2 = plot(to_plot_histogram, x = :value, kind=\"histogram\", histonorm = \"percent\", Layout(xaxis_title_text=\"demand at t = $t_\"))\n",
    "\n",
    "[p1 p2]"
   ]
  }
 ],
 "metadata": {
  "@webio": {
   "lastCommId": null,
   "lastKernelId": null
  },
  "kernelspec": {
   "display_name": "Julia 1.10.1",
   "language": "julia",
   "name": "julia-1.10"
  },
  "language_info": {
   "file_extension": ".jl",
   "mimetype": "application/julia",
   "name": "julia",
   "version": "1.10.1"
  }
 },
 "nbformat": 4,
 "nbformat_minor": 4
}
