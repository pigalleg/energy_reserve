{
 "cells": [
  {
   "cell_type": "markdown",
   "metadata": {},
   "source": [
    "# Unit Commitment\n",
    "\n",
    "_**[Power Systems Optimization](https://github.com/east-winds/power-systems-optimization)**_\n",
    "\n",
    "_by Michael R. Davidson and Jesse D. Jenkins (last updated: October 11, 2022)_\n",
    "\n",
    "This notebook will build on the economic dispatch (ED) model by introducing binary startup (called \"commitment\") decisions, constraints, and costs of thermal generators. Similar to ED, it minimizes the short-run production costs of meeting electricity demand, but these additions are necessary for operating systems with large amounts of (inflexible) thermal generation. They also entail significant computational trade-offs.\n",
    "\n",
    "****\n",
    "\n",
    "We build up the model in several stages. We first start with the simplest model that incorporates unit commitment decisions in order to understand the logic of three-variable commitment formulations.\n",
    "\n",
    "Next, we introduce moderate complexity through the addition of ramp constraints&mdash;which we need to be modified from the ED to account for startups and shutdowns.\n",
    "\n",
    "Finally, we model a more realistic unit commitment that includes reserves&mdash;an important feature of day-ahead scheduling in power systems."
   ]
  },
  {
   "cell_type": "markdown",
   "metadata": {},
   "source": [
    "## Introduction to unit commitment\n",
    "\n",
    "Engineering considerations severely limit the possible output ranges of power plants. System operators need to be aware of these limitations when scheduling generation to meet demand. Thermal power plants, in particular, due to their complex designs, thermodynamic cycles, and material properties, can be particularly challenging. In practice, due to the times involved in bringing these power plants online, much of this scheduling is done day-ahead, which gives rise to the need for a day-ahead market.\n",
    "\n",
    "**Unit commitment** (UC) is the problem of minimizing short-run costs of production inclusive of production and startup costs, in order to meet a given demand and considering relevant engineering constraints of the generators. It is built on the ED model in that it typically considers all of the same variables in addition to the new startup-related variables and constraints&mdash;hence, it is also sometimes called unit commitment and economic dispatch (UCED). This notebook, for simplicity, only considers a single-bus case, while typical formulations usually include a simplified network representation."
   ]
  },
  {
   "cell_type": "markdown",
   "metadata": {},
   "source": [
    "## Simple unit commitment\n",
    "\n",
    "We start with the simplest case that incorporates unit commitment, building on the `economic_dispatch_multi` problem of the [Economic Dispatch notebook](04-Economic-Dispatch.ipynb).\n",
    "\n",
    "\n",
    "$$\n",
    "\\begin{align}\n",
    "\\min \\ & \\sum_{g \\in G, t \\in T} VarCost_g \\times GEN_{g,t} + \\sum_{g \\in G_{thermal}, t \\in T} StartUpCost_g \\times START_{g,t} \\\\\n",
    "\\end{align}\n",
    "$$\n",
    "$$\n",
    "\\begin{align}\n",
    "\\text{s.t.} & \\\\\n",
    " & \\sum_{g} GEN_{g,t} = Demand_t & \\forall \\quad t \\in T \\\\\n",
    " & GEN_{g,t} \\leq Pmax_{g,t} & \\forall \\quad g \\notin G_{thermal} , t \\in T \\\\\n",
    " & GEN_{g,t} \\geq Pmin_{g,t} & \\forall \\quad g \\notin G_{thermal} , t \\in T \\\\\n",
    " & GEN_{g,t} \\leq Pmax_{g,t} \\times COMMIT_{g,t} & \\forall \\quad g \\in G_{thermal} , t \\in T \\\\\n",
    " & GEN_{g,t} \\geq Pmin_{g,t} \\times COMMIT_{g,t} & \\forall \\quad g \\in G_{thermal} , t \\in T \\\\\n",
    " & COMMIT_{g,t} \\geq \\sum_{t'≥t-MinUp_g}^{t} START_{g,t} & \\forall \\quad g \\in G_{thermal} , t \\in T \\\\\n",
    " & 1-COMMIT_{g,t} \\geq \\sum_{t'≥t-MinDown_g}^{t} SHUT_{g,t} &\\forall \\quad g \\in G_{thermal} , t \\in T \\\\\n",
    "  & COMMIT_{g,t+1} - COMMIT_{g,t} =&\\\\\n",
    " & \\quad START_{g,t+1} - SHUT_{g,t+1} &\\forall \\quad G_{thermal} \\in G , t = 1..T-1 \n",
    "\\end{align}\n",
    "$$\n",
    "\n",
    "\n",
    "The **decision variables** in the above problem:\n",
    "\n",
    "- $GEN_{g}$, generation (in MW) produced by each generator, $g$\n",
    "- $START_{g,t}$, startup decision (binary) of thermal generator $g$ at time $t$\n",
    "- $SHUT_{g,t}$, shutdown decision (binary) of thermal generator $g$ at time $t$\n",
    "- $COMMIT_{g,t}$, commitment status (binary) of generator $g$ at time $t$\n",
    "\n",
    "The **parameters** are:\n",
    "\n",
    "- $Pmin_g$, the minimum operating bounds for generator $g$ (based on engineering or natural resource constraints)\n",
    "- $Pmax_g$, the maximum operating bounds for generator $g$ (based on engineering or natural resource constraints)\n",
    "- $Demand$, the demand (in MW)\n",
    "- $VarCost_g = VarOM_g + HeatRate_g \\times FuelCost_g$, the variable cost of generator $g$ \n",
    "- $StartUpCost_g$, the startup cost of generator $g$\n",
    "- $MinUp_g$, the minimum up time of generator $g$, or the minimum time after start-up before a unit can shut down\n",
    "- $MinDown_g$, the minimum down time of generator $g$, or the minimum time after shut-down before a unit can start again\n",
    "\n",
    "In addition, we introduce a few different sets:\n",
    "\n",
    "- $G$, the set of all generators\n",
    "- $G_{thermal} \\subset G$, the subset of thermal generators for which commitment is necessary\n",
    "- $T$, the set of all time periods over which we are optimizing commitment and dispatch decisions\n",
    "\n",
    "Finally, the **three-variable commitment equations** capture the basic logic of commitment:\n",
    "\n",
    "- Units incur costs when they startup (not when they shutdown)\n",
    "- Units must stay on (and off) for a minimum period of time&mdash;in lieu of explicitly enforcing a startup trajectory\n",
    "- Some summations (simplified here) will need to be modified near the beginning of the time period\n",
    "\n",
    "There are some further resources at the bottom for alternative and/or more complex formulations of the UC.\n",
    "\n",
    "Now, let's implement UC."
   ]
  },
  {
   "cell_type": "markdown",
   "metadata": {},
   "source": [
    "### 1. Load packages"
   ]
  },
  {
   "cell_type": "code",
   "execution_count": 1,
   "metadata": {},
   "outputs": [],
   "source": [
    "# using Plots\n",
    "using VegaLite  # to make some nice plots\n",
    "# using DataFrames, CSV, PrettyTables\n",
    "include(\"./utils.jl\")\n",
    "include(\"./unit_commitment.jl\")\n",
    "ENV[\"COLUMNS\"]=120; # Set so all columns of DataFrames and Matrices are displayed"
   ]
  },
  {
   "cell_type": "markdown",
   "metadata": {},
   "source": [
    "### 2. Load and format data\n",
    "\n",
    "We will use data loosely based on San Diego Gas and Electric (SDG&E, via the [PowerGenome](https://github.com/gschivley/PowerGenome) data platform) including a few neighboring generators and adjustments to make the problem easy to solve, consisting of:\n",
    "\n",
    "- 33 generators (we added a few more to ensure we can provide enough reserves)\n",
    "- estimated hourly demand for 2020 (net load at the transmission substation level after subtracting 600MW of behind-the-meter solar from original demand)\n",
    "- variable generation capacity factors\n",
    "- estimated natural gas fuel costs\n",
    "\n",
    "In order to demonstrate the impacts of unit commitment, we will keep our high solar sensitivity case from the [Economic Dispatch notebook](04-Economic-Dispatch.ipynb) (with 3,500 MW of solar PV) to produce large variations in net load (demand less available renewable supply) required to meet demand (similar to [California's infamous \"Duck Curve\"](https://www.caiso.com/Documents/FlexibleResourcesHelpRenewables_FastFacts.pdf)). "
   ]
  },
  {
   "cell_type": "code",
   "execution_count": 2,
   "metadata": {},
   "outputs": [],
   "source": [
    "gen_info, fuels, loads, gen_variable_info, _ = read_data()\n",
    "gen_df = pre_process_generators_data(gen_info, fuels);"
   ]
  },
  {
   "cell_type": "markdown",
   "metadata": {},
   "source": [
    "### 4. Solve a day's unit commitment"
   ]
  },
  {
   "cell_type": "code",
   "execution_count": 3,
   "metadata": {},
   "outputs": [],
   "source": [
    "# A spring day\n",
    "n=100\n",
    "T_period = (n*24+1):((n+1)*24)\n",
    "\n",
    "# High solar case: 3500 MW\n",
    "gen_df_sens = copy(gen_df)\n",
    "gen_df_sens[gen_df_sens.resource .== \"solar_photovoltaic\",\n",
    "    :existing_cap_mw] .= 3500\n",
    "gen_variable = pre_process_gen_variable(gen_df_sens, gen_variable_info)\n",
    "\n",
    "# Filtering for period\n",
    "gen_variable_multi = gen_variable[in.(gen_variable.hour,Ref(T_period)),:];\n",
    "loads_multi = loads[in.(loads.hour,Ref(T_period)),:];\n"
   ]
  },
  {
   "cell_type": "code",
   "execution_count": 4,
   "metadata": {},
   "outputs": [
    {
     "name": "stdout",
     "output_type": "stream",
     "text": [
      "Set parameter WLSAccessID\n",
      "Set parameter WLSSecret\n",
      "Set parameter LicenseID to value 2475843\n",
      "Academic license 2475843 - for non-commercial use only - registered to pa___@imperial.ac.uk\n",
      "Set parameter MIPGap to value 0.01\n",
      "Set parameter MIPGap to value 0.01\n",
      "Gurobi Optimizer version 11.0.0 build v11.0.0rc2 (linux64 - \"Ubuntu 22.04.3 LTS\")\n",
      "\n",
      "CPU model: 11th Gen Intel(R) Core(TM) i7-11370H @ 3.30GHz, instruction set [SSE2|AVX|AVX2|AVX512]\n",
      "Thread count: 4 physical cores, 8 logical processors, using up to 8 threads\n",
      "\n",
      "Academic license 2475843 - for non-commercial use only - registered to pa___@imperial.ac.uk\n",
      "Optimize a model with 2762 rows, 2232 columns and 9228 nonzeros\n",
      "Model fingerprint: 0x92c3bc8b\n",
      "Variable types: 648 continuous, 1584 integer (1584 binary)\n",
      "Coefficient statistics:\n",
      "  Matrix range     [1e+00, 6e+02]\n",
      "  Objective range  [5e+00, 5e+04]\n",
      "  Bounds range     [0e+00, 0e+00]\n",
      "  RHS range        [1e+00, 3e+03]\n",
      "Presolve removed 164 rows and 116 columns\n",
      "Presolve time: 0.01s\n",
      "Presolved: 2598 rows, 2116 columns, 9142 nonzeros\n",
      "Variable types: 576 continuous, 1540 integer (1540 binary)\n",
      "Found heuristic solution: objective 1074849.7304\n",
      "Found heuristic solution: objective 1009769.4508\n",
      "\n",
      "Root relaxation: objective 8.538323e+05, 1058 iterations, 0.01 seconds (0.02 work units)\n",
      "\n",
      "    Nodes    |    Current Node    |     Objective Bounds      |     Work\n",
      " Expl Unexpl |  Obj  Depth IntInf | Incumbent    BestBd   Gap | It/Node Time\n",
      "\n",
      "     0     0 853832.318    0   29 1009769.45 853832.318  15.4%     -    0s\n",
      "H    0     0                    862839.77043 853832.318  1.04%     -    0s\n",
      "H    0     0                    862393.05957 853832.318  0.99%     -    0s\n",
      "H    0     0                    862261.31997 853834.702  0.98%     -    0s\n",
      "\n",
      "Cutting planes:\n",
      "  Gomory: 5\n",
      "  Cover: 3\n",
      "  MIR: 7\n",
      "  Flow cover: 9\n",
      "  Relax-and-lift: 2\n",
      "\n",
      "Explored 1 nodes (1136 simplex iterations) in 0.06 seconds (0.06 work units)\n",
      "Thread count was 8 (of 8 available processors)\n",
      "\n",
      "Solution count 5: 862261 862393 862840 ... 1.07485e+06\n",
      "\n",
      "Optimal solution found (tolerance 1.00e-02)\n",
      "Best objective 8.622613199740e+05, best bound 8.538347019964e+05, gap 0.9773%\n",
      "\n",
      "User-callback calls 344, time in user-callback 0.00 sec\n"
     ]
    }
   ],
   "source": [
    "solution = solve_unit_commitment(gen_df_sens, loads_multi, gen_variable_multi, 0.01); #1% MIP Gap"
   ]
  },
  {
   "cell_type": "code",
   "execution_count": 5,
   "metadata": {},
   "outputs": [
    {
     "data": {
      "application/vnd.vegalite.v5+json": {
       "data": {
        "values": [
         {
          "hour": 0,
          "resource": "biomass",
          "value_sum": 21.4
         },
         {
          "hour": 0,
          "resource": "hydroelectric_pumped_storage",
          "value_sum": 42
         },
         {
          "hour": 0,
          "resource": "natural_gas_fired_combined_cycle",
          "value_sum": 1385.106268
         },
         {
          "hour": 0,
          "resource": "natural_gas_fired_combustion_turbine",
          "value_sum": 0
         },
         {
          "hour": 0,
          "resource": "_onshore_wind_turbine",
          "value_sum": 163.3088
         },
         {
          "hour": 0,
          "resource": "_small_hydroelectric",
          "value_sum": 3.184932
         },
         {
          "hour": 0,
          "resource": "_solar_photovoltaic",
          "value_sum": 0
         },
         {
          "hour": 1,
          "resource": "biomass",
          "value_sum": 21.4
         },
         {
          "hour": 1,
          "resource": "hydroelectric_pumped_storage",
          "value_sum": 42
         },
         {
          "hour": 1,
          "resource": "natural_gas_fired_combined_cycle",
          "value_sum": 1316.621788
         },
         {
          "hour": 1,
          "resource": "natural_gas_fired_combustion_turbine",
          "value_sum": 0
         },
         {
          "hour": 1,
          "resource": "_onshore_wind_turbine",
          "value_sum": 169.79327999999998
         },
         {
          "hour": 1,
          "resource": "_small_hydroelectric",
          "value_sum": 3.184932
         },
         {
          "hour": 1,
          "resource": "_solar_photovoltaic",
          "value_sum": 0
         },
         {
          "hour": 2,
          "resource": "biomass",
          "value_sum": 21.4
         },
         {
          "hour": 2,
          "resource": "hydroelectric_pumped_storage",
          "value_sum": 42
         },
         {
          "hour": 2,
          "resource": "natural_gas_fired_combined_cycle",
          "value_sum": 1336.3046679999998
         },
         {
          "hour": 2,
          "resource": "natural_gas_fired_combustion_turbine",
          "value_sum": 0
         },
         {
          "hour": 2,
          "resource": "_onshore_wind_turbine",
          "value_sum": 115.1104
         },
         {
          "hour": 2,
          "resource": "_small_hydroelectric",
          "value_sum": 3.184932
         },
         {
          "hour": 2,
          "resource": "_solar_photovoltaic",
          "value_sum": 0
         },
         {
          "hour": 3,
          "resource": "biomass",
          "value_sum": 21.4
         },
         {
          "hour": 3,
          "resource": "hydroelectric_pumped_storage",
          "value_sum": 42
         },
         {
          "hour": 3,
          "resource": "natural_gas_fired_combined_cycle",
          "value_sum": 1394.8621079999998
         },
         {
          "hour": 3,
          "resource": "natural_gas_fired_combustion_turbine",
          "value_sum": 0
         },
         {
          "hour": 3,
          "resource": "_onshore_wind_turbine",
          "value_sum": 100.55296
         },
         {
          "hour": 3,
          "resource": "_small_hydroelectric",
          "value_sum": 3.184931999999989
         },
         {
          "hour": 3,
          "resource": "_solar_photovoltaic",
          "value_sum": 0
         },
         {
          "hour": 4,
          "resource": "biomass",
          "value_sum": 21.4
         },
         {
          "hour": 4,
          "resource": "hydroelectric_pumped_storage",
          "value_sum": 42
         },
         {
          "hour": 4,
          "resource": "natural_gas_fired_combined_cycle",
          "value_sum": 1585.837788
         },
         {
          "hour": 4,
          "resource": "natural_gas_fired_combustion_turbine",
          "value_sum": 0
         },
         {
          "hour": 4,
          "resource": "_onshore_wind_turbine",
          "value_sum": 80.57728
         },
         {
          "hour": 4,
          "resource": "_small_hydroelectric",
          "value_sum": 3.184932
         },
         {
          "hour": 4,
          "resource": "_solar_photovoltaic",
          "value_sum": 0
         },
         {
          "hour": 5,
          "resource": "biomass",
          "value_sum": 21.4
         },
         {
          "hour": 5,
          "resource": "hydroelectric_pumped_storage",
          "value_sum": 42
         },
         {
          "hour": 5,
          "resource": "natural_gas_fired_combined_cycle",
          "value_sum": 1749.218408
         },
         {
          "hour": 5,
          "resource": "natural_gas_fired_combustion_turbine",
          "value_sum": 21.0197
         },
         {
          "hour": 5,
          "resource": "_onshore_wind_turbine",
          "value_sum": 139.17695999999998
         },
         {
          "hour": 5,
          "resource": "_small_hydroelectric",
          "value_sum": 3.184932
         },
         {
          "hour": 5,
          "resource": "_solar_photovoltaic",
          "value_sum": 0
         },
         {
          "hour": 6,
          "resource": "biomass",
          "value_sum": 21.4
         },
         {
          "hour": 6,
          "resource": "hydroelectric_pumped_storage",
          "value_sum": 42
         },
         {
          "hour": 6,
          "resource": "natural_gas_fired_combined_cycle",
          "value_sum": 1918.6655279999998
         },
         {
          "hour": 6,
          "resource": "natural_gas_fired_combustion_turbine",
          "value_sum": 21.01969999999998
         },
         {
          "hour": 6,
          "resource": "_onshore_wind_turbine",
          "value_sum": 74.17984
         },
         {
          "hour": 6,
          "resource": "_small_hydroelectric",
          "value_sum": 3.184932
         },
         {
          "hour": 6,
          "resource": "_solar_photovoltaic",
          "value_sum": 193.55
         },
         {
          "hour": 7,
          "resource": "biomass",
          "value_sum": 21.4
         },
         {
          "hour": 7,
          "resource": "hydroelectric_pumped_storage",
          "value_sum": 42
         },
         {
          "hour": 7,
          "resource": "natural_gas_fired_combined_cycle",
          "value_sum": 1707.1916279999998
         },
         {
          "hour": 7,
          "resource": "natural_gas_fired_combustion_turbine",
          "value_sum": 0
         },
         {
          "hour": 7,
          "resource": "_onshore_wind_turbine",
          "value_sum": 49.373439999999995
         },
         {
          "hour": 7,
          "resource": "_small_hydroelectric",
          "value_sum": 3.184932
         },
         {
          "hour": 7,
          "resource": "_solar_photovoltaic",
          "value_sum": 773.85
         },
         {
          "hour": 8,
          "resource": "biomass",
          "value_sum": 21.4
         },
         {
          "hour": 8,
          "resource": "hydroelectric_pumped_storage",
          "value_sum": 42
         },
         {
          "hour": 8,
          "resource": "natural_gas_fired_combined_cycle",
          "value_sum": 932.4589080000001
         },
         {
          "hour": 8,
          "resource": "natural_gas_fired_combustion_turbine",
          "value_sum": 0
         },
         {
          "hour": 8,
          "resource": "_onshore_wind_turbine",
          "value_sum": 167.35616
         },
         {
          "hour": 8,
          "resource": "_small_hydroelectric",
          "value_sum": 3.184932
         },
         {
          "hour": 8,
          "resource": "_solar_photovoltaic",
          "value_sum": 1671.6
         },
         {
          "hour": 9,
          "resource": "biomass",
          "value_sum": 21.399999999999544
         },
         {
          "hour": 9,
          "resource": "hydroelectric_pumped_storage",
          "value_sum": 42
         },
         {
          "hour": 9,
          "resource": "natural_gas_fired_combined_cycle",
          "value_sum": 809.9041080000004
         },
         {
          "hour": 9,
          "resource": "natural_gas_fired_combustion_turbine",
          "value_sum": 0
         },
         {
          "hour": 9,
          "resource": "_onshore_wind_turbine",
          "value_sum": 131.56096
         },
         {
          "hour": 9,
          "resource": "_small_hydroelectric",
          "value_sum": 3.1849319999998897
         },
         {
          "hour": 9,
          "resource": "_solar_photovoltaic",
          "value_sum": 2014.95
         },
         {
          "hour": 10,
          "resource": "biomass",
          "value_sum": 21.4
         },
         {
          "hour": 10,
          "resource": "hydroelectric_pumped_storage",
          "value_sum": 42
         },
         {
          "hour": 10,
          "resource": "natural_gas_fired_combined_cycle",
          "value_sum": 833.5714679999999
         },
         {
          "hour": 10,
          "resource": "natural_gas_fired_combustion_turbine",
          "value_sum": 0
         },
         {
          "hour": 10,
          "resource": "_onshore_wind_turbine",
          "value_sum": 111.1936
         },
         {
          "hour": 10,
          "resource": "_small_hydroelectric",
          "value_sum": 3.184932
         },
         {
          "hour": 10,
          "resource": "_solar_photovoltaic",
          "value_sum": 2113.65
         },
         {
          "hour": 11,
          "resource": "biomass",
          "value_sum": 21.4
         },
         {
          "hour": 11,
          "resource": "hydroelectric_pumped_storage",
          "value_sum": 42
         },
         {
          "hour": 11,
          "resource": "natural_gas_fired_combined_cycle",
          "value_sum": 655.6549879999998
         },
         {
          "hour": 11,
          "resource": "natural_gas_fired_combustion_turbine",
          "value_sum": 0
         },
         {
          "hour": 11,
          "resource": "_onshore_wind_turbine",
          "value_sum": 92.11008
         },
         {
          "hour": 11,
          "resource": "_small_hydroelectric",
          "value_sum": 3.184932
         },
         {
          "hour": 11,
          "resource": "_solar_photovoltaic",
          "value_sum": 2148.65
         },
         {
          "hour": 12,
          "resource": "biomass",
          "value_sum": 0
         },
         {
          "hour": 12,
          "resource": "hydroelectric_pumped_storage",
          "value_sum": 0
         },
         {
          "hour": 12,
          "resource": "natural_gas_fired_combined_cycle",
          "value_sum": 461.04019999999997
         },
         {
          "hour": 12,
          "resource": "natural_gas_fired_combustion_turbine",
          "value_sum": 0
         },
         {
          "hour": 12,
          "resource": "_onshore_wind_turbine",
          "value_sum": 25.859800000000178
         },
         {
          "hour": 12,
          "resource": "_small_hydroelectric",
          "value_sum": 0
         },
         {
          "hour": 12,
          "resource": "_solar_photovoltaic",
          "value_sum": 2256.1
         },
         {
          "hour": 13,
          "resource": "biomass",
          "value_sum": 0
         },
         {
          "hour": 13,
          "resource": "hydroelectric_pumped_storage",
          "value_sum": 0
         },
         {
          "hour": 13,
          "resource": "natural_gas_fired_combined_cycle",
          "value_sum": 461.04019999999997
         },
         {
          "hour": 13,
          "resource": "natural_gas_fired_combustion_turbine",
          "value_sum": 0
         },
         {
          "hour": 13,
          "resource": "_onshore_wind_turbine",
          "value_sum": 0
         },
         {
          "hour": 13,
          "resource": "_small_hydroelectric",
          "value_sum": 0
         },
         {
          "hour": 13,
          "resource": "_solar_photovoltaic",
          "value_sum": 2204.9598
         },
         {
          "hour": 14,
          "resource": "biomass",
          "value_sum": 0
         },
         {
          "hour": 14,
          "resource": "hydroelectric_pumped_storage",
          "value_sum": 0
         },
         {
          "hour": 14,
          "resource": "natural_gas_fired_combined_cycle",
          "value_sum": 461.04019999999997
         },
         {
          "hour": 14,
          "resource": "natural_gas_fired_combustion_turbine",
          "value_sum": 0
         },
         {
          "hour": 14,
          "resource": "_onshore_wind_turbine",
          "value_sum": 0
         },
         {
          "hour": 14,
          "resource": "_small_hydroelectric",
          "value_sum": 0
         },
         {
          "hour": 14,
          "resource": "_solar_photovoltaic",
          "value_sum": 2116.9598
         },
         {
          "hour": 15,
          "resource": "biomass",
          "value_sum": 0
         },
         {
          "hour": 15,
          "resource": "hydroelectric_pumped_storage",
          "value_sum": 0
         },
         {
          "hour": 15,
          "resource": "natural_gas_fired_combined_cycle",
          "value_sum": 461.04019999999997
         },
         {
          "hour": 15,
          "resource": "natural_gas_fired_combustion_turbine",
          "value_sum": 0
         },
         {
          "hour": 15,
          "resource": "_onshore_wind_turbine",
          "value_sum": 27.70980000000236
         },
         {
          "hour": 15,
          "resource": "_small_hydroelectric",
          "value_sum": 0
         },
         {
          "hour": 15,
          "resource": "_solar_photovoltaic",
          "value_sum": 1993.25
         },
         {
          "hour": 16,
          "resource": "biomass",
          "value_sum": 21.4
         },
         {
          "hour": 16,
          "resource": "hydroelectric_pumped_storage",
          "value_sum": 42
         },
         {
          "hour": 16,
          "resource": "natural_gas_fired_combined_cycle",
          "value_sum": 660.9297880000001
         },
         {
          "hour": 16,
          "resource": "natural_gas_fired_combustion_turbine",
          "value_sum": 0
         },
         {
          "hour": 16,
          "resource": "_onshore_wind_turbine",
          "value_sum": 57.18527999999999
         },
         {
          "hour": 16,
          "resource": "_small_hydroelectric",
          "value_sum": 3.184932
         },
         {
          "hour": 16,
          "resource": "_solar_photovoltaic",
          "value_sum": 1637.3
         },
         {
          "hour": 17,
          "resource": "biomass",
          "value_sum": 21.4
         },
         {
          "hour": 17,
          "resource": "hydroelectric_pumped_storage",
          "value_sum": 42
         },
         {
          "hour": 17,
          "resource": "natural_gas_fired_combined_cycle",
          "value_sum": 1096.1961880000001
         },
         {
          "hour": 17,
          "resource": "natural_gas_fired_combustion_turbine",
          "value_sum": 0
         },
         {
          "hour": 17,
          "resource": "_onshore_wind_turbine",
          "value_sum": 78.61888
         },
         {
          "hour": 17,
          "resource": "_small_hydroelectric",
          "value_sum": 3.184932
         },
         {
          "hour": 17,
          "resource": "_solar_photovoltaic",
          "value_sum": 1132.6
         },
         {
          "hour": 18,
          "resource": "biomass",
          "value_sum": 21.4
         },
         {
          "hour": 18,
          "resource": "hydroelectric_pumped_storage",
          "value_sum": 42
         },
         {
          "hour": 18,
          "resource": "natural_gas_fired_combined_cycle",
          "value_sum": 1592.5
         },
         {
          "hour": 18,
          "resource": "natural_gas_fired_combustion_turbine",
          "value_sum": 499.34938800000015
         },
         {
          "hour": 18,
          "resource": "_onshore_wind_turbine",
          "value_sum": 52.61568
         },
         {
          "hour": 18,
          "resource": "_small_hydroelectric",
          "value_sum": 3.184932
         },
         {
          "hour": 18,
          "resource": "_solar_photovoltaic",
          "value_sum": 166.95
         },
         {
          "hour": 19,
          "resource": "biomass",
          "value_sum": 21.4
         },
         {
          "hour": 19,
          "resource": "hydroelectric_pumped_storage",
          "value_sum": 42
         },
         {
          "hour": 19,
          "resource": "natural_gas_fired_combined_cycle",
          "value_sum": 1592.5
         },
         {
          "hour": 19,
          "resource": "natural_gas_fired_combustion_turbine",
          "value_sum": 780.4865880000001
         },
         {
          "hour": 19,
          "resource": "_onshore_wind_turbine",
          "value_sum": 61.42848
         },
         {
          "hour": 19,
          "resource": "_small_hydroelectric",
          "value_sum": 3.1849320000000105
         },
         {
          "hour": 19,
          "resource": "_solar_photovoltaic",
          "value_sum": 0
         },
         {
          "hour": 20,
          "resource": "biomass",
          "value_sum": 21.4
         },
         {
          "hour": 20,
          "resource": "hydroelectric_pumped_storage",
          "value_sum": 42
         },
         {
          "hour": 20,
          "resource": "natural_gas_fired_combined_cycle",
          "value_sum": 1592.5
         },
         {
          "hour": 20,
          "resource": "natural_gas_fired_combustion_turbine",
          "value_sum": 774.9982680000003
         },
         {
          "hour": 20,
          "resource": "_onshore_wind_turbine",
          "value_sum": 71.9168
         },
         {
          "hour": 20,
          "resource": "_small_hydroelectric",
          "value_sum": 3.184932
         },
         {
          "hour": 20,
          "resource": "_solar_photovoltaic",
          "value_sum": 0
         },
         {
          "hour": 21,
          "resource": "biomass",
          "value_sum": 21.4
         },
         {
          "hour": 21,
          "resource": "hydroelectric_pumped_storage",
          "value_sum": 42
         },
         {
          "hour": 21,
          "resource": "natural_gas_fired_combined_cycle",
          "value_sum": 1592.5
         },
         {
          "hour": 21,
          "resource": "natural_gas_fired_combustion_turbine",
          "value_sum": 502.8664279999999
         },
         {
          "hour": 21,
          "resource": "_onshore_wind_turbine",
          "value_sum": 96.04864
         },
         {
          "hour": 21,
          "resource": "_small_hydroelectric",
          "value_sum": 3.184932
         },
         {
          "hour": 21,
          "resource": "_solar_photovoltaic",
          "value_sum": 0
         },
         {
          "hour": 22,
          "resource": "biomass",
          "value_sum": 21.4
         },
         {
          "hour": 22,
          "resource": "hydroelectric_pumped_storage",
          "value_sum": 42
         },
         {
          "hour": 22,
          "resource": "natural_gas_fired_combined_cycle",
          "value_sum": 1592.5
         },
         {
          "hour": 22,
          "resource": "natural_gas_fired_combustion_turbine",
          "value_sum": 202.4459479999999
         },
         {
          "hour": 22,
          "resource": "_onshore_wind_turbine",
          "value_sum": 126.46912
         },
         {
          "hour": 22,
          "resource": "_small_hydroelectric",
          "value_sum": 3.184932
         },
         {
          "hour": 22,
          "resource": "_solar_photovoltaic",
          "value_sum": 0
         },
         {
          "hour": 23,
          "resource": "biomass",
          "value_sum": 21.4
         },
         {
          "hour": 23,
          "resource": "hydroelectric_pumped_storage",
          "value_sum": 42
         },
         {
          "hour": 23,
          "resource": "natural_gas_fired_combined_cycle",
          "value_sum": 1524.692648
         },
         {
          "hour": 23,
          "resource": "natural_gas_fired_combustion_turbine",
          "value_sum": 24.301299999999998
         },
         {
          "hour": 23,
          "resource": "_onshore_wind_turbine",
          "value_sum": 144.42111999999997
         },
         {
          "hour": 23,
          "resource": "_small_hydroelectric",
          "value_sum": 3.184932
         },
         {
          "hour": 23,
          "resource": "_solar_photovoltaic",
          "value_sum": 0
         },
         {
          "hour": 0,
          "resource": "_solar_photovoltaic_btm",
          "value_sum": 0
         },
         {
          "hour": 1,
          "resource": "_solar_photovoltaic_btm",
          "value_sum": 0
         },
         {
          "hour": 2,
          "resource": "_solar_photovoltaic_btm",
          "value_sum": 0
         },
         {
          "hour": 3,
          "resource": "_solar_photovoltaic_btm",
          "value_sum": 0
         },
         {
          "hour": 4,
          "resource": "_solar_photovoltaic_btm",
          "value_sum": 0
         },
         {
          "hour": 5,
          "resource": "_solar_photovoltaic_btm",
          "value_sum": 0
         },
         {
          "hour": 6,
          "resource": "_solar_photovoltaic_btm",
          "value_sum": 33.18
         },
         {
          "hour": 7,
          "resource": "_solar_photovoltaic_btm",
          "value_sum": 132.66
         },
         {
          "hour": 8,
          "resource": "_solar_photovoltaic_btm",
          "value_sum": 286.56
         },
         {
          "hour": 9,
          "resource": "_solar_photovoltaic_btm",
          "value_sum": 345.42
         },
         {
          "hour": 10,
          "resource": "_solar_photovoltaic_btm",
          "value_sum": 362.34
         },
         {
          "hour": 11,
          "resource": "_solar_photovoltaic_btm",
          "value_sum": 368.34
         },
         {
          "hour": 12,
          "resource": "_solar_photovoltaic_btm",
          "value_sum": 386.76
         },
         {
          "hour": 13,
          "resource": "_solar_photovoltaic_btm",
          "value_sum": 387.29999999999995
         },
         {
          "hour": 14,
          "resource": "_solar_photovoltaic_btm",
          "value_sum": 374.46
         },
         {
          "hour": 15,
          "resource": "_solar_photovoltaic_btm",
          "value_sum": 341.7
         },
         {
          "hour": 16,
          "resource": "_solar_photovoltaic_btm",
          "value_sum": 280.68
         },
         {
          "hour": 17,
          "resource": "_solar_photovoltaic_btm",
          "value_sum": 194.16
         },
         {
          "hour": 18,
          "resource": "_solar_photovoltaic_btm",
          "value_sum": 28.62
         },
         {
          "hour": 19,
          "resource": "_solar_photovoltaic_btm",
          "value_sum": 0
         },
         {
          "hour": 20,
          "resource": "_solar_photovoltaic_btm",
          "value_sum": 0
         },
         {
          "hour": 21,
          "resource": "_solar_photovoltaic_btm",
          "value_sum": 0
         },
         {
          "hour": 22,
          "resource": "_solar_photovoltaic_btm",
          "value_sum": 0
         },
         {
          "hour": 23,
          "resource": "_solar_photovoltaic_btm",
          "value_sum": 0
         },
         {
          "hour": 0,
          "resource": "_curtailment",
          "value_sum": 0
         },
         {
          "hour": 1,
          "resource": "_curtailment",
          "value_sum": 0
         },
         {
          "hour": 2,
          "resource": "_curtailment",
          "value_sum": 0
         },
         {
          "hour": 3,
          "resource": "_curtailment",
          "value_sum": 1.0658141036401503e-14
         },
         {
          "hour": 4,
          "resource": "_curtailment",
          "value_sum": 0
         },
         {
          "hour": 5,
          "resource": "_curtailment",
          "value_sum": 0
         },
         {
          "hour": 6,
          "resource": "_curtailment",
          "value_sum": 0
         },
         {
          "hour": 7,
          "resource": "_curtailment",
          "value_sum": 0
         },
         {
          "hour": 8,
          "resource": "_curtailment",
          "value_sum": 2.2737367544323206e-13
         },
         {
          "hour": 9,
          "resource": "_curtailment",
          "value_sum": 1.1013412404281553e-13
         },
         {
          "hour": 10,
          "resource": "_curtailment",
          "value_sum": 0
         },
         {
          "hour": 11,
          "resource": "_curtailment",
          "value_sum": 0
         },
         {
          "hour": 12,
          "resource": "_curtailment",
          "value_sum": 29.418571999999823
         },
         {
          "hour": 13,
          "resource": "_curtailment",
          "value_sum": 122.16761199999992
         },
         {
          "hour": 14,
          "resource": "_curtailment",
          "value_sum": 119.79625199999982
         },
         {
          "hour": 15,
          "resource": "_curtailment",
          "value_sum": 40.88569199999763
         },
         {
          "hour": 16,
          "resource": "_curtailment",
          "value_sum": 0
         },
         {
          "hour": 17,
          "resource": "_curtailment",
          "value_sum": 0
         },
         {
          "hour": 18,
          "resource": "_curtailment",
          "value_sum": 0
         },
         {
          "hour": 19,
          "resource": "_curtailment",
          "value_sum": -1.0658141036401503e-14
         },
         {
          "hour": 20,
          "resource": "_curtailment",
          "value_sum": 0
         },
         {
          "hour": 21,
          "resource": "_curtailment",
          "value_sum": 0
         },
         {
          "hour": 22,
          "resource": "_curtailment",
          "value_sum": 0
         },
         {
          "hour": 23,
          "resource": "_curtailment",
          "value_sum": 0
         }
        ]
       },
       "encoding": {
        "color": {
         "field": "resource",
         "scale": {
          "scheme": "category10"
         },
         "type": "nominal"
        },
        "x": {
         "field": "hour",
         "type": "quantitative"
        },
        "y": {
         "field": "value_sum",
         "stack": "zero",
         "type": "quantitative"
        }
       },
       "mark": "area"
      },
      "image/png": "[encoded data removed]",
      "image/svg+xml": [
       "<svg xmlns=\"http://www.w3.org/2000/svg\" xmlns:xlink=\"http://www.w3.org/1999/xlink\" version=\"1.1\" class=\"marks\" width=\"455\" height=\"242\" viewBox=\"0 0 455 242\"><rect width=\"455\" height=\"242\" fill=\"white\"/><g fill=\"none\" stroke-miterlimit=\"10\" transform=\"translate(56,5)\"><g class=\"mark-group role-frame root\" role=\"graphics-object\" aria-roledescription=\"group mark container\"><g transform=\"translate(0,0)\"><path class=\"background\" aria-hidden=\"true\" d=\"M0.5,0.5h200v200h-200Z\" stroke=\"#ddd\"/><g><g class=\"mark-group role-axis\" aria-hidden=\"true\"><g transform=\"translate(0.5,200.5)\"><path class=\"background\" aria-hidden=\"true\" d=\"M0,0h0v0h0Z\" pointer-events=\"none\"/><g><g class=\"mark-rule role-axis-grid\" pointer-events=\"none\"><line transform=\"translate(0,-200)\" x2=\"0\" y2=\"200\" stroke=\"#ddd\" stroke-width=\"1\" opacity=\"1\"/><line transform=\"translate(42,-200)\" x2=\"0\" y2=\"200\" stroke=\"#ddd\" stroke-width=\"1\" opacity=\"1\"/><line transform=\"translate(83,-200)\" x2=\"0\" y2=\"200\" stroke=\"#ddd\" stroke-width=\"1\" opacity=\"1\"/><line transform=\"translate(125,-200)\" x2=\"0\" y2=\"200\" stroke=\"#ddd\" stroke-width=\"1\" opacity=\"1\"/><line transform=\"translate(167,-200)\" x2=\"0\" y2=\"200\" stroke=\"#ddd\" stroke-width=\"1\" opacity=\"1\"/></g></g><path class=\"foreground\" aria-hidden=\"true\" d=\"\" pointer-events=\"none\" display=\"none\"/></g></g><g class=\"mark-group role-axis\" aria-hidden=\"true\"><g transform=\"translate(0.5,0.5)\"><path class=\"background\" aria-hidden=\"true\" d=\"M0,0h0v0h0Z\" pointer-events=\"none\"/><g><g class=\"mark-rule role-axis-grid\" pointer-events=\"none\"><line transform=\"translate(0,175)\" x2=\"200\" y2=\"0\" stroke=\"#ddd\" stroke-width=\"1\" opacity=\"1\"/><line transform=\"translate(0,125)\" x2=\"200\" y2=\"0\" stroke=\"#ddd\" stroke-width=\"1\" opacity=\"1\"/><line transform=\"translate(0,75)\" x2=\"200\" y2=\"0\" stroke=\"#ddd\" stroke-width=\"1\" opacity=\"1\"/><line transform=\"translate(0,25)\" x2=\"200\" y2=\"0\" stroke=\"#ddd\" stroke-width=\"1\" opacity=\"1\"/></g></g><path class=\"foreground\" aria-hidden=\"true\" d=\"\" pointer-events=\"none\" display=\"none\"/></g></g><g class=\"mark-group role-axis\" role=\"graphics-symbol\" aria-roledescription=\"axis\" aria-label=\"X-axis titled 'hour' for a linear scale with values from 0 to 24\"><g transform=\"translate(0.5,200.5)\"><path class=\"background\" aria-hidden=\"true\" d=\"M0,0h0v0h0Z\" pointer-events=\"none\"/><g><g class=\"mark-rule role-axis-tick\" pointer-events=\"none\"><line transform=\"translate(0,0)\" x2=\"0\" y2=\"5\" stroke=\"#888\" stroke-width=\"1\" opacity=\"1\"/><line transform=\"translate(42,0)\" x2=\"0\" y2=\"5\" stroke=\"#888\" stroke-width=\"1\" opacity=\"1\"/><line transform=\"translate(83,0)\" x2=\"0\" y2=\"5\" stroke=\"#888\" stroke-width=\"1\" opacity=\"1\"/><line transform=\"translate(125,0)\" x2=\"0\" y2=\"5\" stroke=\"#888\" stroke-width=\"1\" opacity=\"1\"/><line transform=\"translate(167,0)\" x2=\"0\" y2=\"5\" stroke=\"#888\" stroke-width=\"1\" opacity=\"1\"/></g><g class=\"mark-text role-axis-label\" pointer-events=\"none\"><text text-anchor=\"start\" transform=\"translate(0,15)\" font-family=\"sans-serif\" font-size=\"10px\" fill=\"#000\" opacity=\"1\">0</text><text text-anchor=\"middle\" transform=\"translate(41.66666666666667,15)\" font-family=\"sans-serif\" font-size=\"10px\" fill=\"#000\" opacity=\"1\">5</text><text text-anchor=\"middle\" transform=\"translate(83.33333333333334,15)\" font-family=\"sans-serif\" font-size=\"10px\" fill=\"#000\" opacity=\"1\">10</text><text text-anchor=\"middle\" transform=\"translate(125,15)\" font-family=\"sans-serif\" font-size=\"10px\" fill=\"#000\" opacity=\"1\">15</text><text text-anchor=\"middle\" transform=\"translate(166.66666666666669,15)\" font-family=\"sans-serif\" font-size=\"10px\" fill=\"#000\" opacity=\"1\">20</text></g><g class=\"mark-rule role-axis-domain\" pointer-events=\"none\"><line transform=\"translate(0,0)\" x2=\"200\" y2=\"0\" stroke=\"#888\" stroke-width=\"1\" opacity=\"1\"/></g><g class=\"mark-text role-axis-title\" pointer-events=\"none\"><text text-anchor=\"middle\" transform=\"translate(100,30)\" font-family=\"sans-serif\" font-size=\"11px\" font-weight=\"bold\" fill=\"#000\" opacity=\"1\">hour</text></g></g><path class=\"foreground\" aria-hidden=\"true\" d=\"\" pointer-events=\"none\" display=\"none\"/></g></g><g class=\"mark-group role-axis\" role=\"graphics-symbol\" aria-roledescription=\"axis\" aria-label=\"Y-axis titled 'value_sum' for a linear scale with values from −500 to 3,500\"><g transform=\"translate(0.5,0.5)\"><path class=\"background\" aria-hidden=\"true\" d=\"M0,0h0v0h0Z\" pointer-events=\"none\"/><g><g class=\"mark-rule role-axis-tick\" pointer-events=\"none\"><line transform=\"translate(0,175)\" x2=\"-5\" y2=\"0\" stroke=\"#888\" stroke-width=\"1\" opacity=\"1\"/><line transform=\"translate(0,125)\" x2=\"-5\" y2=\"0\" stroke=\"#888\" stroke-width=\"1\" opacity=\"1\"/><line transform=\"translate(0,75)\" x2=\"-5\" y2=\"0\" stroke=\"#888\" stroke-width=\"1\" opacity=\"1\"/><line transform=\"translate(0,25)\" x2=\"-5\" y2=\"0\" stroke=\"#888\" stroke-width=\"1\" opacity=\"1\"/></g><g class=\"mark-text role-axis-label\" pointer-events=\"none\"><text text-anchor=\"end\" transform=\"translate(-7,178)\" font-family=\"sans-serif\" font-size=\"10px\" fill=\"#000\" opacity=\"1\">0</text><text text-anchor=\"end\" transform=\"translate(-7,128)\" font-family=\"sans-serif\" font-size=\"10px\" fill=\"#000\" opacity=\"1\">1,000</text><text text-anchor=\"end\" transform=\"translate(-7,78)\" font-family=\"sans-serif\" font-size=\"10px\" fill=\"#000\" opacity=\"1\">2,000</text><text text-anchor=\"end\" transform=\"translate(-7,28)\" font-family=\"sans-serif\" font-size=\"10px\" fill=\"#000\" opacity=\"1\">3,000</text></g><g class=\"mark-rule role-axis-domain\" pointer-events=\"none\"><line transform=\"translate(0,200)\" x2=\"0\" y2=\"-200\" stroke=\"#888\" stroke-width=\"1\" opacity=\"1\"/></g><g class=\"mark-text role-axis-title\" pointer-events=\"none\"><text text-anchor=\"middle\" transform=\"translate(-39.6279296875,100) rotate(-90) translate(0,-2)\" font-family=\"sans-serif\" font-size=\"11px\" font-weight=\"bold\" fill=\"#000\" opacity=\"1\">value_sum</text></g></g><path class=\"foreground\" aria-hidden=\"true\" d=\"\" pointer-events=\"none\" display=\"none\"/></g></g><g class=\"mark-group role-scope pathgroup\" role=\"graphics-object\" aria-roledescription=\"group mark container\"><g transform=\"translate(0,0)\"><path class=\"background\" aria-hidden=\"true\" d=\"M0,0h200v200h-200Z\"/><g><g class=\"mark-area role-mark marks\" role=\"graphics-object\" aria-roledescription=\"area mark container\"><path aria-label=\"hour: 0; value_sum: 21.4; resource: biomass\" role=\"graphics-symbol\" aria-roledescription=\"area mark\" d=\"M0,102.575L8.333,105.999L16.667,105.015L25,102.087L33.333,92.538L41.667,83.318L50,74.846L58.333,86.47L66.667,125.207L75,131.335L83.333,130.151L91.667,139.047L100,151.948L108.333,151.948L116.667,151.948L125,151.948L133.333,138.784L141.667,117.02L150,67.238L158.333,53.181L166.667,53.455L175,67.062L183.333,82.083L191.667,94.38L191.667,95.45L183.333,83.153L175,68.132L166.667,54.525L158.333,54.251L150,68.308L141.667,118.09L133.333,139.854L125,151.948L116.667,151.948L108.333,151.948L100,151.948L91.667,140.117L83.333,131.221L75,132.405L66.667,126.277L58.333,87.54L50,75.916L41.667,84.388L33.333,93.608L25,103.157L16.667,106.085L8.333,107.069L0,103.645Z\" fill=\"#8c564b\"/></g></g><path class=\"foreground\" aria-hidden=\"true\" d=\"\" display=\"none\"/></g><g transform=\"translate(0,0)\"><path class=\"background\" aria-hidden=\"true\" d=\"M0,0h200v200h-200Z\"/><g><g class=\"mark-area role-mark marks\" role=\"graphics-object\" aria-roledescription=\"area mark container\"><path aria-label=\"hour: 0; value_sum: 42; resource: hydroelectric_pumped_storage\" role=\"graphics-symbol\" aria-roledescription=\"area mark\" d=\"M0,103.645L8.333,107.069L16.667,106.085L25,103.157L33.333,93.608L41.667,84.388L50,75.916L58.333,87.54L66.667,126.277L75,132.405L83.333,131.221L91.667,140.117L100,151.948L108.333,151.948L116.667,151.948L125,151.948L133.333,139.854L141.667,118.09L150,68.308L158.333,54.251L166.667,54.525L175,68.132L183.333,83.153L191.667,95.45L191.667,97.55L183.333,85.253L175,70.232L166.667,56.625L158.333,56.351L150,70.408L141.667,120.19L133.333,141.954L125,151.948L116.667,151.948L108.333,151.948L100,151.948L91.667,142.217L83.333,133.321L75,134.505L66.667,128.377L58.333,89.64L50,78.016L41.667,86.488L33.333,95.708L25,105.257L16.667,108.185L8.333,109.169L0,105.745Z\" fill=\"#e377c2\"/></g></g><path class=\"foreground\" aria-hidden=\"true\" d=\"\" display=\"none\"/></g><g transform=\"translate(0,0)\"><path class=\"background\" aria-hidden=\"true\" d=\"M0,0h200v200h-200Z\"/><g><g class=\"mark-area role-mark marks\" role=\"graphics-object\" aria-roledescription=\"area mark container\"><path aria-label=\"hour: 0; value_sum: 1385.106268; resource: natural_gas_fired_combined_cycle\" role=\"graphics-symbol\" aria-roledescription=\"area mark\" d=\"M0,105.745L8.333,109.169L16.667,108.185L25,105.257L33.333,95.708L41.667,86.488L50,78.016L58.333,89.64L66.667,128.377L75,134.505L83.333,133.321L91.667,142.217L100,151.948L108.333,151.948L116.667,151.948L125,151.948L133.333,141.954L141.667,120.19L150,70.408L158.333,56.351L166.667,56.625L175,70.232L183.333,85.253L191.667,97.55L191.667,173.785L183.333,164.878L175,149.857L166.667,136.25L158.333,135.976L150,150.033L141.667,175L133.333,175L125,175L116.667,175L108.333,175L100,175L91.667,175L83.333,175L75,175L66.667,175L58.333,175L50,173.949L41.667,173.949L33.333,175L25,175L16.667,175L8.333,175L0,175Z\" fill=\"#7f7f7f\"/></g></g><path class=\"foreground\" aria-hidden=\"true\" d=\"\" display=\"none\"/></g><g transform=\"translate(0,0)\"><path class=\"background\" aria-hidden=\"true\" d=\"M0,0h200v200h-200Z\"/><g><g class=\"mark-area role-mark marks\" role=\"graphics-object\" aria-roledescription=\"area mark container\"><path aria-label=\"hour: 0; value_sum: 0; resource: natural_gas_fired_combustion_turbine\" role=\"graphics-symbol\" aria-roledescription=\"area mark\" d=\"M0,175L8.333,175L16.667,175L25,175L33.333,175L41.667,173.949L50,173.949L58.333,175L66.667,175L75,175L83.333,175L91.667,175L100,175L108.333,175L116.667,175L125,175L133.333,175L141.667,175L150,150.033L158.333,135.976L166.667,136.25L175,149.857L183.333,164.878L191.667,173.785L191.667,175L183.333,175L175,175L166.667,175L158.333,175L150,175L141.667,175L133.333,175L125,175L116.667,175L108.333,175L100,175L91.667,175L83.333,175L75,175L66.667,175L58.333,175L50,175L41.667,175L33.333,175L25,175L16.667,175L8.333,175L0,175Z\" fill=\"#bcbd22\"/></g></g><path class=\"foreground\" aria-hidden=\"true\" d=\"\" display=\"none\"/></g><g transform=\"translate(0,0)\"><path class=\"background\" aria-hidden=\"true\" d=\"M0,0h200v200h-200Z\"/><g><g class=\"mark-area role-mark marks\" role=\"graphics-object\" aria-roledescription=\"area mark container\"><path aria-label=\"hour: 0; value_sum: 163.3088; resource: _onshore_wind_turbine\" role=\"graphics-symbol\" aria-roledescription=\"area mark\" d=\"M0,94.25L8.333,97.35L16.667,99.1L25,96.9L33.333,88.35L41.667,76.2L50,59.641L58.333,38.517L66.667,18.772L75,6.579L83.333,0.633L91.667,8.433L100,18.512L108.333,22.335L116.667,27.377L125,33.815L133.333,39.866L141.667,46.592L150,54.669L158.333,49.95L166.667,49.7L175,62.1L183.333,75.6L191.667,87L191.667,94.221L183.333,81.923L175,66.902L166.667,53.296L158.333,53.021L150,57.3L141.667,50.523L133.333,42.725L125,35.2L116.667,27.377L108.333,22.335L100,19.805L91.667,13.039L83.333,6.193L75,13.157L66.667,27.14L58.333,40.986L50,63.35L41.667,83.159L33.333,92.379L25,101.928L16.667,104.856L8.333,105.84L0,102.415Z\" fill=\"#ff7f0e\"/></g></g><path class=\"foreground\" aria-hidden=\"true\" d=\"\" display=\"none\"/></g><g transform=\"translate(0,0)\"><path class=\"background\" aria-hidden=\"true\" d=\"M0,0h200v200h-200Z\"/><g><g class=\"mark-area role-mark marks\" role=\"graphics-object\" aria-roledescription=\"area mark container\"><path aria-label=\"hour: 0; value_sum: 3.184932; resource: _small_hydroelectric\" role=\"graphics-symbol\" aria-roledescription=\"area mark\" d=\"M0,102.415L8.333,105.84L16.667,104.856L25,101.928L33.333,92.379L41.667,83.159L50,63.35L58.333,40.986L66.667,27.14L75,13.157L83.333,6.193L91.667,13.039L100,19.805L108.333,22.335L116.667,27.377L125,35.2L133.333,42.725L141.667,50.523L150,57.3L158.333,53.021L166.667,53.296L175,66.902L183.333,81.923L191.667,94.221L191.667,94.38L183.333,82.083L175,67.062L166.667,53.455L158.333,53.181L150,57.459L141.667,50.682L133.333,42.885L125,35.2L116.667,27.377L108.333,22.335L100,19.805L91.667,13.198L83.333,6.352L75,13.316L66.667,27.299L58.333,41.145L50,63.509L41.667,83.318L33.333,92.538L25,102.087L16.667,105.015L8.333,105.999L0,102.575Z\" fill=\"#2ca02c\"/></g></g><path class=\"foreground\" aria-hidden=\"true\" d=\"\" display=\"none\"/></g><g transform=\"translate(0,0)\"><path class=\"background\" aria-hidden=\"true\" d=\"M0,0h200v200h-200Z\"/><g><g class=\"mark-area role-mark marks\" role=\"graphics-object\" aria-roledescription=\"area mark container\"><path aria-label=\"hour: 0; value_sum: 0; resource: _solar_photovoltaic\" role=\"graphics-symbol\" aria-roledescription=\"area mark\" d=\"M0,102.575L8.333,105.999L16.667,105.015L25,102.087L33.333,92.538L41.667,83.318L50,63.509L58.333,41.145L66.667,27.299L75,13.316L83.333,6.352L91.667,13.198L100,19.805L108.333,22.335L116.667,27.377L125,35.2L133.333,42.885L141.667,50.682L150,57.459L158.333,53.181L166.667,53.455L175,67.062L183.333,82.083L191.667,94.38L191.667,94.38L183.333,82.083L175,67.062L166.667,53.455L158.333,53.181L150,65.807L141.667,107.312L133.333,124.75L125,134.863L116.667,133.225L108.333,132.583L100,132.61L91.667,120.63L83.333,112.034L75,114.064L66.667,110.879L58.333,79.837L50,73.187L41.667,83.318L33.333,92.538L25,102.087L16.667,105.015L8.333,105.999L0,102.575Z\" fill=\"#d62728\"/></g></g><path class=\"foreground\" aria-hidden=\"true\" d=\"\" display=\"none\"/></g><g transform=\"translate(0,0)\"><path class=\"background\" aria-hidden=\"true\" d=\"M0,0h200v200h-200Z\"/><g><g class=\"mark-area role-mark marks\" role=\"graphics-object\" aria-roledescription=\"area mark container\"><path aria-label=\"hour: 0; value_sum: 0; resource: _solar_photovoltaic_btm\" role=\"graphics-symbol\" aria-roledescription=\"area mark\" d=\"M0,102.575L8.333,105.999L16.667,105.015L25,102.087L33.333,92.538L41.667,83.318L50,73.187L58.333,79.837L66.667,110.879L75,114.064L83.333,112.034L91.667,120.63L100,132.61L108.333,132.583L116.667,133.225L125,134.863L133.333,124.75L141.667,107.312L150,65.807L158.333,53.181L166.667,53.455L175,67.062L183.333,82.083L191.667,94.38L191.667,94.38L183.333,82.083L175,67.062L166.667,53.455L158.333,53.181L150,67.238L141.667,117.02L133.333,138.784L125,151.948L116.667,151.948L108.333,151.948L100,151.948L91.667,139.047L83.333,130.151L75,131.335L66.667,125.207L58.333,86.47L50,74.846L41.667,83.318L33.333,92.538L25,102.087L16.667,105.015L8.333,105.999L0,102.575Z\" fill=\"#9467bd\"/></g></g><path class=\"foreground\" aria-hidden=\"true\" d=\"\" display=\"none\"/></g><g transform=\"translate(0,0)\"><path class=\"background\" aria-hidden=\"true\" d=\"M0,0h200v200h-200Z\"/><g><g class=\"mark-area role-mark marks\" role=\"graphics-object\" aria-roledescription=\"area mark container\"><path aria-label=\"hour: 0; value_sum: 0; resource: _curtailment\" role=\"graphics-symbol\" aria-roledescription=\"area mark\" d=\"M0,94.25L8.333,97.35L16.667,99.1L25,96.9L33.333,88.35L41.667,76.2L50,59.641L58.333,38.517L66.667,18.772L75,6.579L83.333,0.633L91.667,8.433L100,17.041L108.333,16.227L116.667,21.387L125,31.771L133.333,39.866L141.667,46.592L150,54.669L158.333,175L166.667,49.7L175,62.1L183.333,75.6L191.667,87L191.667,87L183.333,75.6L175,62.1L166.667,49.7L158.333,175L150,54.669L141.667,46.592L133.333,39.866L125,33.815L116.667,27.377L108.333,22.335L100,18.512L91.667,8.433L83.333,0.633L75,6.579L66.667,18.772L58.333,38.517L50,59.641L41.667,76.2L33.333,88.35L25,96.9L16.667,99.1L8.333,97.35L0,94.25Z\" fill=\"#1f77b4\"/></g></g><path class=\"foreground\" aria-hidden=\"true\" d=\"\" display=\"none\"/></g></g><g class=\"mark-group role-legend\" role=\"graphics-symbol\" aria-roledescription=\"legend\" aria-label=\"Symbol legend titled 'resource' for fill color with 9 values: _curtailment, _onshore_wind_turbine, _small_hydroelectric, _solar_photovoltaic, _solar_photovoltaic_btm, ending with natural_gas_fired_combustion_turbine\"><g transform=\"translate(218,0)\"><path class=\"background\" aria-hidden=\"true\" d=\"M0,0h176v131h-176Z\" pointer-events=\"none\"/><g><g class=\"mark-group role-legend-entry\"><g transform=\"translate(0,16)\"><path class=\"background\" aria-hidden=\"true\" d=\"M0,0h0v0h0Z\" pointer-events=\"none\"/><g><g class=\"mark-group role-scope\" role=\"graphics-object\" aria-roledescription=\"group mark container\"><g transform=\"translate(0,0)\"><path class=\"background\" aria-hidden=\"true\" d=\"M0,0h175.5263671875v11h-175.5263671875Z\" pointer-events=\"none\" opacity=\"1\"/><g><g class=\"mark-symbol role-legend-symbol\" pointer-events=\"none\"><path transform=\"translate(6,6)\" d=\"M5,0A5,5,0,1,1,-5,0A5,5,0,1,1,5,0\" fill=\"#1f77b4\" stroke-width=\"1.5\" opacity=\"1\"/></g><g class=\"mark-text role-legend-label\" pointer-events=\"none\"><text text-anchor=\"start\" transform=\"translate(16,9)\" font-family=\"sans-serif\" font-size=\"10px\" fill=\"#000\" opacity=\"1\">_curtailment</text></g></g><path class=\"foreground\" aria-hidden=\"true\" d=\"\" pointer-events=\"none\" display=\"none\"/></g><g transform=\"translate(0,13)\"><path class=\"background\" aria-hidden=\"true\" d=\"M0,0h175.5263671875v11h-175.5263671875Z\" pointer-events=\"none\" opacity=\"1\"/><g><g class=\"mark-symbol role-legend-symbol\" pointer-events=\"none\"><path transform=\"translate(6,6)\" d=\"M5,0A5,5,0,1,1,-5,0A5,5,0,1,1,5,0\" fill=\"#ff7f0e\" stroke-width=\"1.5\" opacity=\"1\"/></g><g class=\"mark-text role-legend-label\" pointer-events=\"none\"><text text-anchor=\"start\" transform=\"translate(16,9)\" font-family=\"sans-serif\" font-size=\"10px\" fill=\"#000\" opacity=\"1\">_onshore_wind_turbine</text></g></g><path class=\"foreground\" aria-hidden=\"true\" d=\"\" pointer-events=\"none\" display=\"none\"/></g><g transform=\"translate(0,26)\"><path class=\"background\" aria-hidden=\"true\" d=\"M0,0h175.5263671875v11h-175.5263671875Z\" pointer-events=\"none\" opacity=\"1\"/><g><g class=\"mark-symbol role-legend-symbol\" pointer-events=\"none\"><path transform=\"translate(6,6)\" d=\"M5,0A5,5,0,1,1,-5,0A5,5,0,1,1,5,0\" fill=\"#2ca02c\" stroke-width=\"1.5\" opacity=\"1\"/></g><g class=\"mark-text role-legend-label\" pointer-events=\"none\"><text text-anchor=\"start\" transform=\"translate(16,9)\" font-family=\"sans-serif\" font-size=\"10px\" fill=\"#000\" opacity=\"1\">_small_hydroelectric</text></g></g><path class=\"foreground\" aria-hidden=\"true\" d=\"\" pointer-events=\"none\" display=\"none\"/></g><g transform=\"translate(0,39)\"><path class=\"background\" aria-hidden=\"true\" d=\"M0,0h175.5263671875v11h-175.5263671875Z\" pointer-events=\"none\" opacity=\"1\"/><g><g class=\"mark-symbol role-legend-symbol\" pointer-events=\"none\"><path transform=\"translate(6,6)\" d=\"M5,0A5,5,0,1,1,-5,0A5,5,0,1,1,5,0\" fill=\"#d62728\" stroke-width=\"1.5\" opacity=\"1\"/></g><g class=\"mark-text role-legend-label\" pointer-events=\"none\"><text text-anchor=\"start\" transform=\"translate(16,9)\" font-family=\"sans-serif\" font-size=\"10px\" fill=\"#000\" opacity=\"1\">_solar_photovoltaic</text></g></g><path class=\"foreground\" aria-hidden=\"true\" d=\"\" pointer-events=\"none\" display=\"none\"/></g><g transform=\"translate(0,52)\"><path class=\"background\" aria-hidden=\"true\" d=\"M0,0h175.5263671875v11h-175.5263671875Z\" pointer-events=\"none\" opacity=\"1\"/><g><g class=\"mark-symbol role-legend-symbol\" pointer-events=\"none\"><path transform=\"translate(6,6)\" d=\"M5,0A5,5,0,1,1,-5,0A5,5,0,1,1,5,0\" fill=\"#9467bd\" stroke-width=\"1.5\" opacity=\"1\"/></g><g class=\"mark-text role-legend-label\" pointer-events=\"none\"><text text-anchor=\"start\" transform=\"translate(16,9)\" font-family=\"sans-serif\" font-size=\"10px\" fill=\"#000\" opacity=\"1\">_solar_photovoltaic_btm</text></g></g><path class=\"foreground\" aria-hidden=\"true\" d=\"\" pointer-events=\"none\" display=\"none\"/></g><g transform=\"translate(0,65)\"><path class=\"background\" aria-hidden=\"true\" d=\"M0,0h175.5263671875v11h-175.5263671875Z\" pointer-events=\"none\" opacity=\"1\"/><g><g class=\"mark-symbol role-legend-symbol\" pointer-events=\"none\"><path transform=\"translate(6,6)\" d=\"M5,0A5,5,0,1,1,-5,0A5,5,0,1,1,5,0\" fill=\"#8c564b\" stroke-width=\"1.5\" opacity=\"1\"/></g><g class=\"mark-text role-legend-label\" pointer-events=\"none\"><text text-anchor=\"start\" transform=\"translate(16,9)\" font-family=\"sans-serif\" font-size=\"10px\" fill=\"#000\" opacity=\"1\">biomass</text></g></g><path class=\"foreground\" aria-hidden=\"true\" d=\"\" pointer-events=\"none\" display=\"none\"/></g><g transform=\"translate(0,78)\"><path class=\"background\" aria-hidden=\"true\" d=\"M0,0h175.5263671875v11h-175.5263671875Z\" pointer-events=\"none\" opacity=\"1\"/><g><g class=\"mark-symbol role-legend-symbol\" pointer-events=\"none\"><path transform=\"translate(6,6)\" d=\"M5,0A5,5,0,1,1,-5,0A5,5,0,1,1,5,0\" fill=\"#e377c2\" stroke-width=\"1.5\" opacity=\"1\"/></g><g class=\"mark-text role-legend-label\" pointer-events=\"none\"><text text-anchor=\"start\" transform=\"translate(16,9)\" font-family=\"sans-serif\" font-size=\"10px\" fill=\"#000\" opacity=\"1\">hydroelectric_pumped_storage</text></g></g><path class=\"foreground\" aria-hidden=\"true\" d=\"\" pointer-events=\"none\" display=\"none\"/></g><g transform=\"translate(0,91)\"><path class=\"background\" aria-hidden=\"true\" d=\"M0,0h175.5263671875v11h-175.5263671875Z\" pointer-events=\"none\" opacity=\"1\"/><g><g class=\"mark-symbol role-legend-symbol\" pointer-events=\"none\"><path transform=\"translate(6,6)\" d=\"M5,0A5,5,0,1,1,-5,0A5,5,0,1,1,5,0\" fill=\"#7f7f7f\" stroke-width=\"1.5\" opacity=\"1\"/></g><g class=\"mark-text role-legend-label\" pointer-events=\"none\"><text text-anchor=\"start\" transform=\"translate(16,9)\" font-family=\"sans-serif\" font-size=\"10px\" fill=\"#000\" opacity=\"1\">natural_gas_fired_combined_…</text></g></g><path class=\"foreground\" aria-hidden=\"true\" d=\"\" pointer-events=\"none\" display=\"none\"/></g><g transform=\"translate(0,104)\"><path class=\"background\" aria-hidden=\"true\" d=\"M0,0h175.5263671875v11h-175.5263671875Z\" pointer-events=\"none\" opacity=\"1\"/><g><g class=\"mark-symbol role-legend-symbol\" pointer-events=\"none\"><path transform=\"translate(6,6)\" d=\"M5,0A5,5,0,1,1,-5,0A5,5,0,1,1,5,0\" fill=\"#bcbd22\" stroke-width=\"1.5\" opacity=\"1\"/></g><g class=\"mark-text role-legend-label\" pointer-events=\"none\"><text text-anchor=\"start\" transform=\"translate(16,9)\" font-family=\"sans-serif\" font-size=\"10px\" fill=\"#000\" opacity=\"1\">natural_gas_fired_combustion…</text></g></g><path class=\"foreground\" aria-hidden=\"true\" d=\"\" pointer-events=\"none\" display=\"none\"/></g></g></g><path class=\"foreground\" aria-hidden=\"true\" d=\"\" pointer-events=\"none\" display=\"none\"/></g></g><g class=\"mark-text role-legend-title\" pointer-events=\"none\"><text text-anchor=\"start\" transform=\"translate(0,9)\" font-family=\"sans-serif\" font-size=\"11px\" font-weight=\"bold\" fill=\"#000\" opacity=\"1\">resource</text></g></g><path class=\"foreground\" aria-hidden=\"true\" d=\"\" pointer-events=\"none\" display=\"none\"/></g></g></g><path class=\"foreground\" aria-hidden=\"true\" d=\"\" display=\"none\"/></g></g></g></svg>"
      ],
      "text/plain": [
       "@vlplot(\n",
       "    mark=\"area\",\n",
       "    encoding={\n",
       "        x={\n",
       "            field=\"hour\"\n",
       "        },\n",
       "        y={\n",
       "            stack=\"zero\",\n",
       "            field=\"value_sum\"\n",
       "        },\n",
       "        color={\n",
       "            scale={\n",
       "                scheme=\"category10\"\n",
       "            },\n",
       "            field=\"resource\",\n",
       "            type=\"nominal\"\n",
       "        }\n",
       "    },\n",
       "    data={\n",
       "        values=...\n",
       "    }\n",
       ")"
      ]
     },
     "metadata": {},
     "output_type": "display_data"
    }
   ],
   "source": [
    "# Add in BTM solar and curtailment and plot results\n",
    "\n",
    "sol_gen = innerjoin(solution.gen, \n",
    "                    gen_df[!, [:r_id, :resource]], \n",
    "                    on = :r_id)\n",
    "sol_gen = combine(groupby(sol_gen, [:resource, :hour]), \n",
    "            :value => sum)\n",
    "\n",
    "# Rename generators (for plotting purposes)\n",
    "sol_gen[sol_gen.resource .== \"solar_photovoltaic\", :resource] .= \"_solar_photovoltaic\"\n",
    "sol_gen[sol_gen.resource .== \"onshore_wind_turbine\", :resource] .= \"_onshore_wind_turbine\"\n",
    "sol_gen[sol_gen.resource .== \"small_hydroelectric\", :resource] .= \"_small_hydroelectric\"\n",
    "\n",
    "# BTM solar\n",
    "btm = DataFrame(resource = repeat([\"_solar_photovoltaic_btm\"]; outer=length(T_period)), \n",
    "    hour = T_period,\n",
    "    value_sum = gen_variable_multi[gen_variable_multi.gen_full .== \"wec_sdge_solar_photovoltaic_1.0\",:cf] * 600)\n",
    "append!(sol_gen, btm)\n",
    "\n",
    "# Curtailment\n",
    "curtail = combine(groupby(solution.curtail, [:hour]),\n",
    "            :value => sum)\n",
    "curtail[!, :resource] .= \"_curtailment\"\n",
    "# rename!(curtail, :curt_sum => :value_sum)\n",
    "append!(sol_gen, curtail[:,[:resource, :hour, :value_sum]])\n",
    "\n",
    "# Rescale hours\n",
    "sol_gen.hour = sol_gen.hour .- T_period[1]\n",
    "\n",
    "sol_gen |>\n",
    "@vlplot(:area, \n",
    "    x=:hour, y={:value_sum, stack=:zero}, \n",
    "    color={\"resource:n\", scale={scheme=\"category10\"}})"
   ]
  },
  {
   "cell_type": "markdown",
   "metadata": {},
   "source": [
    "Notice that the combined cycle plants flatten out during the day, but don't shut down due to the need for ramping capabilities in the late afternoon/evening, when solar output falls off and evening demand remains strong. This leads to some curtailment of solar from 11:00 - 16:00, which was not present in the Economic Dispatch model. All curtailment is lumped together as the model does not accurately distinguish between whether wind, solar or hydro is curtailed, which in practice is up to the system operator and depends on a variety of factors such as location, interconnection voltage, etc."
   ]
  },
  {
   "cell_type": "markdown",
   "metadata": {},
   "source": [
    "We can examine the commitment status of various units by examining the results in `solution.commit`. "
   ]
  },
  {
   "cell_type": "code",
   "execution_count": 6,
   "metadata": {},
   "outputs": [
    {
     "data": {
      "application/vnd.vegalite.v5+json": {
       "data": {
        "values": [
         {
          "hour": 0,
          "resource": "natural_gas_fired_combined_cycle",
          "value_sum": 6
         },
         {
          "hour": 0,
          "resource": "natural_gas_fired_combustion_turbine",
          "value_sum": 0
         },
         {
          "hour": 1,
          "resource": "natural_gas_fired_combined_cycle",
          "value_sum": 6
         },
         {
          "hour": 1,
          "resource": "natural_gas_fired_combustion_turbine",
          "value_sum": 0
         },
         {
          "hour": 2,
          "resource": "natural_gas_fired_combined_cycle",
          "value_sum": 6
         },
         {
          "hour": 2,
          "resource": "natural_gas_fired_combustion_turbine",
          "value_sum": 0
         },
         {
          "hour": 3,
          "resource": "natural_gas_fired_combined_cycle",
          "value_sum": 6
         },
         {
          "hour": 3,
          "resource": "natural_gas_fired_combustion_turbine",
          "value_sum": 0
         },
         {
          "hour": 4,
          "resource": "natural_gas_fired_combined_cycle",
          "value_sum": 6
         },
         {
          "hour": 4,
          "resource": "natural_gas_fired_combustion_turbine",
          "value_sum": 0
         },
         {
          "hour": 5,
          "resource": "natural_gas_fired_combined_cycle",
          "value_sum": 6
         },
         {
          "hour": 5,
          "resource": "natural_gas_fired_combustion_turbine",
          "value_sum": 1
         },
         {
          "hour": 6,
          "resource": "natural_gas_fired_combined_cycle",
          "value_sum": 6
         },
         {
          "hour": 6,
          "resource": "natural_gas_fired_combustion_turbine",
          "value_sum": 1
         },
         {
          "hour": 7,
          "resource": "natural_gas_fired_combined_cycle",
          "value_sum": 6
         },
         {
          "hour": 7,
          "resource": "natural_gas_fired_combustion_turbine",
          "value_sum": 0
         },
         {
          "hour": 8,
          "resource": "natural_gas_fired_combined_cycle",
          "value_sum": 4
         },
         {
          "hour": 8,
          "resource": "natural_gas_fired_combustion_turbine",
          "value_sum": 0
         },
         {
          "hour": 9,
          "resource": "natural_gas_fired_combined_cycle",
          "value_sum": 4
         },
         {
          "hour": 9,
          "resource": "natural_gas_fired_combustion_turbine",
          "value_sum": 0
         },
         {
          "hour": 10,
          "resource": "natural_gas_fired_combined_cycle",
          "value_sum": 4
         },
         {
          "hour": 10,
          "resource": "natural_gas_fired_combustion_turbine",
          "value_sum": 0
         },
         {
          "hour": 11,
          "resource": "natural_gas_fired_combined_cycle",
          "value_sum": 4
         },
         {
          "hour": 11,
          "resource": "natural_gas_fired_combustion_turbine",
          "value_sum": 0
         },
         {
          "hour": 12,
          "resource": "natural_gas_fired_combined_cycle",
          "value_sum": 4
         },
         {
          "hour": 12,
          "resource": "natural_gas_fired_combustion_turbine",
          "value_sum": 0
         },
         {
          "hour": 13,
          "resource": "natural_gas_fired_combined_cycle",
          "value_sum": 4
         },
         {
          "hour": 13,
          "resource": "natural_gas_fired_combustion_turbine",
          "value_sum": 0
         },
         {
          "hour": 14,
          "resource": "natural_gas_fired_combined_cycle",
          "value_sum": 4
         },
         {
          "hour": 14,
          "resource": "natural_gas_fired_combustion_turbine",
          "value_sum": 0
         },
         {
          "hour": 15,
          "resource": "natural_gas_fired_combined_cycle",
          "value_sum": 4
         },
         {
          "hour": 15,
          "resource": "natural_gas_fired_combustion_turbine",
          "value_sum": 0
         },
         {
          "hour": 16,
          "resource": "natural_gas_fired_combined_cycle",
          "value_sum": 4
         },
         {
          "hour": 16,
          "resource": "natural_gas_fired_combustion_turbine",
          "value_sum": 0
         },
         {
          "hour": 17,
          "resource": "natural_gas_fired_combined_cycle",
          "value_sum": 4
         },
         {
          "hour": 17,
          "resource": "natural_gas_fired_combustion_turbine",
          "value_sum": 0
         },
         {
          "hour": 18,
          "resource": "natural_gas_fired_combined_cycle",
          "value_sum": 5
         },
         {
          "hour": 18,
          "resource": "natural_gas_fired_combustion_turbine",
          "value_sum": 7
         },
         {
          "hour": 19,
          "resource": "natural_gas_fired_combined_cycle",
          "value_sum": 5
         },
         {
          "hour": 19,
          "resource": "natural_gas_fired_combustion_turbine",
          "value_sum": 10
         },
         {
          "hour": 20,
          "resource": "natural_gas_fired_combined_cycle",
          "value_sum": 5
         },
         {
          "hour": 20,
          "resource": "natural_gas_fired_combustion_turbine",
          "value_sum": 10
         },
         {
          "hour": 21,
          "resource": "natural_gas_fired_combined_cycle",
          "value_sum": 5
         },
         {
          "hour": 21,
          "resource": "natural_gas_fired_combustion_turbine",
          "value_sum": 7
         },
         {
          "hour": 22,
          "resource": "natural_gas_fired_combined_cycle",
          "value_sum": 5
         },
         {
          "hour": 22,
          "resource": "natural_gas_fired_combustion_turbine",
          "value_sum": 4
         },
         {
          "hour": 23,
          "resource": "natural_gas_fired_combined_cycle",
          "value_sum": 5
         },
         {
          "hour": 23,
          "resource": "natural_gas_fired_combustion_turbine",
          "value_sum": 1
         }
        ]
       },
       "encoding": {
        "color": {
         "field": "resource",
         "scale": {
          "scheme": "category10"
         },
         "type": "nominal"
        },
        "x": {
         "field": "hour",
         "type": "quantitative"
        },
        "y": {
         "field": "value_sum",
         "stack": "zero",
         "type": "quantitative"
        }
       },
       "mark": "area"
      },
      "image/png": "[encoded data removed]",
      "image/svg+xml": [
       "<svg xmlns=\"http://www.w3.org/2000/svg\" xmlns:xlink=\"http://www.w3.org/1999/xlink\" version=\"1.1\" class=\"marks\" width=\"439\" height=\"242\" viewBox=\"0 0 439 242\"><rect width=\"439\" height=\"242\" fill=\"white\"/><g fill=\"none\" stroke-miterlimit=\"10\" transform=\"translate(40,5)\"><g class=\"mark-group role-frame root\" role=\"graphics-object\" aria-roledescription=\"group mark container\"><g transform=\"translate(0,0)\"><path class=\"background\" aria-hidden=\"true\" d=\"M0.5,0.5h200v200h-200Z\" stroke=\"#ddd\"/><g><g class=\"mark-group role-axis\" aria-hidden=\"true\"><g transform=\"translate(0.5,200.5)\"><path class=\"background\" aria-hidden=\"true\" d=\"M0,0h0v0h0Z\" pointer-events=\"none\"/><g><g class=\"mark-rule role-axis-grid\" pointer-events=\"none\"><line transform=\"translate(0,-200)\" x2=\"0\" y2=\"200\" stroke=\"#ddd\" stroke-width=\"1\" opacity=\"1\"/><line transform=\"translate(42,-200)\" x2=\"0\" y2=\"200\" stroke=\"#ddd\" stroke-width=\"1\" opacity=\"1\"/><line transform=\"translate(83,-200)\" x2=\"0\" y2=\"200\" stroke=\"#ddd\" stroke-width=\"1\" opacity=\"1\"/><line transform=\"translate(125,-200)\" x2=\"0\" y2=\"200\" stroke=\"#ddd\" stroke-width=\"1\" opacity=\"1\"/><line transform=\"translate(167,-200)\" x2=\"0\" y2=\"200\" stroke=\"#ddd\" stroke-width=\"1\" opacity=\"1\"/></g></g><path class=\"foreground\" aria-hidden=\"true\" d=\"\" pointer-events=\"none\" display=\"none\"/></g></g><g class=\"mark-group role-axis\" aria-hidden=\"true\"><g transform=\"translate(0.5,0.5)\"><path class=\"background\" aria-hidden=\"true\" d=\"M0,0h0v0h0Z\" pointer-events=\"none\"/><g><g class=\"mark-rule role-axis-grid\" pointer-events=\"none\"><line transform=\"translate(0,200)\" x2=\"200\" y2=\"0\" stroke=\"#ddd\" stroke-width=\"1\" opacity=\"1\"/><line transform=\"translate(0,138)\" x2=\"200\" y2=\"0\" stroke=\"#ddd\" stroke-width=\"1\" opacity=\"1\"/><line transform=\"translate(0,75)\" x2=\"200\" y2=\"0\" stroke=\"#ddd\" stroke-width=\"1\" opacity=\"1\"/><line transform=\"translate(0,13)\" x2=\"200\" y2=\"0\" stroke=\"#ddd\" stroke-width=\"1\" opacity=\"1\"/></g></g><path class=\"foreground\" aria-hidden=\"true\" d=\"\" pointer-events=\"none\" display=\"none\"/></g></g><g class=\"mark-group role-axis\" role=\"graphics-symbol\" aria-roledescription=\"axis\" aria-label=\"X-axis titled 'hour' for a linear scale with values from 0 to 24\"><g transform=\"translate(0.5,200.5)\"><path class=\"background\" aria-hidden=\"true\" d=\"M0,0h0v0h0Z\" pointer-events=\"none\"/><g><g class=\"mark-rule role-axis-tick\" pointer-events=\"none\"><line transform=\"translate(0,0)\" x2=\"0\" y2=\"5\" stroke=\"#888\" stroke-width=\"1\" opacity=\"1\"/><line transform=\"translate(42,0)\" x2=\"0\" y2=\"5\" stroke=\"#888\" stroke-width=\"1\" opacity=\"1\"/><line transform=\"translate(83,0)\" x2=\"0\" y2=\"5\" stroke=\"#888\" stroke-width=\"1\" opacity=\"1\"/><line transform=\"translate(125,0)\" x2=\"0\" y2=\"5\" stroke=\"#888\" stroke-width=\"1\" opacity=\"1\"/><line transform=\"translate(167,0)\" x2=\"0\" y2=\"5\" stroke=\"#888\" stroke-width=\"1\" opacity=\"1\"/></g><g class=\"mark-text role-axis-label\" pointer-events=\"none\"><text text-anchor=\"start\" transform=\"translate(0,15)\" font-family=\"sans-serif\" font-size=\"10px\" fill=\"#000\" opacity=\"1\">0</text><text text-anchor=\"middle\" transform=\"translate(41.66666666666667,15)\" font-family=\"sans-serif\" font-size=\"10px\" fill=\"#000\" opacity=\"1\">5</text><text text-anchor=\"middle\" transform=\"translate(83.33333333333334,15)\" font-family=\"sans-serif\" font-size=\"10px\" fill=\"#000\" opacity=\"1\">10</text><text text-anchor=\"middle\" transform=\"translate(125,15)\" font-family=\"sans-serif\" font-size=\"10px\" fill=\"#000\" opacity=\"1\">15</text><text text-anchor=\"middle\" transform=\"translate(166.66666666666669,15)\" font-family=\"sans-serif\" font-size=\"10px\" fill=\"#000\" opacity=\"1\">20</text></g><g class=\"mark-rule role-axis-domain\" pointer-events=\"none\"><line transform=\"translate(0,0)\" x2=\"200\" y2=\"0\" stroke=\"#888\" stroke-width=\"1\" opacity=\"1\"/></g><g class=\"mark-text role-axis-title\" pointer-events=\"none\"><text text-anchor=\"middle\" transform=\"translate(100,30)\" font-family=\"sans-serif\" font-size=\"11px\" font-weight=\"bold\" fill=\"#000\" opacity=\"1\">hour</text></g></g><path class=\"foreground\" aria-hidden=\"true\" d=\"\" pointer-events=\"none\" display=\"none\"/></g></g><g class=\"mark-group role-axis\" role=\"graphics-symbol\" aria-roledescription=\"axis\" aria-label=\"Y-axis titled 'value_sum' for a linear scale with values from 0 to 16\"><g transform=\"translate(0.5,0.5)\"><path class=\"background\" aria-hidden=\"true\" d=\"M0,0h0v0h0Z\" pointer-events=\"none\"/><g><g class=\"mark-rule role-axis-tick\" pointer-events=\"none\"><line transform=\"translate(0,200)\" x2=\"-5\" y2=\"0\" stroke=\"#888\" stroke-width=\"1\" opacity=\"1\"/><line transform=\"translate(0,138)\" x2=\"-5\" y2=\"0\" stroke=\"#888\" stroke-width=\"1\" opacity=\"1\"/><line transform=\"translate(0,75)\" x2=\"-5\" y2=\"0\" stroke=\"#888\" stroke-width=\"1\" opacity=\"1\"/><line transform=\"translate(0,13)\" x2=\"-5\" y2=\"0\" stroke=\"#888\" stroke-width=\"1\" opacity=\"1\"/></g><g class=\"mark-text role-axis-label\" pointer-events=\"none\"><text text-anchor=\"end\" transform=\"translate(-7,203)\" font-family=\"sans-serif\" font-size=\"10px\" fill=\"#000\" opacity=\"1\">0</text><text text-anchor=\"end\" transform=\"translate(-7,140.5)\" font-family=\"sans-serif\" font-size=\"10px\" fill=\"#000\" opacity=\"1\">5</text><text text-anchor=\"end\" transform=\"translate(-7,78)\" font-family=\"sans-serif\" font-size=\"10px\" fill=\"#000\" opacity=\"1\">10</text><text text-anchor=\"end\" transform=\"translate(-7,15.5)\" font-family=\"sans-serif\" font-size=\"10px\" fill=\"#000\" opacity=\"1\">15</text></g><g class=\"mark-rule role-axis-domain\" pointer-events=\"none\"><line transform=\"translate(0,200)\" x2=\"0\" y2=\"-200\" stroke=\"#888\" stroke-width=\"1\" opacity=\"1\"/></g><g class=\"mark-text role-axis-title\" pointer-events=\"none\"><text text-anchor=\"middle\" transform=\"translate(-23.724609375,100) rotate(-90) translate(0,-2)\" font-family=\"sans-serif\" font-size=\"11px\" font-weight=\"bold\" fill=\"#000\" opacity=\"1\">value_sum</text></g></g><path class=\"foreground\" aria-hidden=\"true\" d=\"\" pointer-events=\"none\" display=\"none\"/></g></g><g class=\"mark-group role-scope pathgroup\" role=\"graphics-object\" aria-roledescription=\"group mark container\"><g transform=\"translate(0,0)\"><path class=\"background\" aria-hidden=\"true\" d=\"M0,0h200v200h-200Z\"/><g><g class=\"mark-area role-mark marks\" role=\"graphics-object\" aria-roledescription=\"area mark container\"><path aria-label=\"hour: 0; value_sum: 6; resource: natural_gas_fired_combined_cycle\" role=\"graphics-symbol\" aria-roledescription=\"area mark\" d=\"M0,125L8.333,125L16.667,125L25,125L33.333,125L41.667,112.5L50,112.5L58.333,125L66.667,150L75,150L83.333,150L91.667,150L100,150L108.333,150L116.667,150L125,150L133.333,150L141.667,150L150,50L158.333,12.5L166.667,12.5L175,50L183.333,87.5L191.667,125L191.667,187.5L183.333,150L175,112.5L166.667,75L158.333,75L150,112.5L141.667,200L133.333,200L125,200L116.667,200L108.333,200L100,200L91.667,200L83.333,200L75,200L66.667,200L58.333,200L50,187.5L41.667,187.5L33.333,200L25,200L16.667,200L8.333,200L0,200Z\" fill=\"#1f77b4\"/></g></g><path class=\"foreground\" aria-hidden=\"true\" d=\"\" display=\"none\"/></g><g transform=\"translate(0,0)\"><path class=\"background\" aria-hidden=\"true\" d=\"M0,0h200v200h-200Z\"/><g><g class=\"mark-area role-mark marks\" role=\"graphics-object\" aria-roledescription=\"area mark container\"><path aria-label=\"hour: 0; value_sum: 0; resource: natural_gas_fired_combustion_turbine\" role=\"graphics-symbol\" aria-roledescription=\"area mark\" d=\"M0,200L8.333,200L16.667,200L25,200L33.333,200L41.667,187.5L50,187.5L58.333,200L66.667,200L75,200L83.333,200L91.667,200L100,200L108.333,200L116.667,200L125,200L133.333,200L141.667,200L150,112.5L158.333,75L166.667,75L175,112.5L183.333,150L191.667,187.5L191.667,200L183.333,200L175,200L166.667,200L158.333,200L150,200L141.667,200L133.333,200L125,200L116.667,200L108.333,200L100,200L91.667,200L83.333,200L75,200L66.667,200L58.333,200L50,200L41.667,200L33.333,200L25,200L16.667,200L8.333,200L0,200Z\" fill=\"#ff7f0e\"/></g></g><path class=\"foreground\" aria-hidden=\"true\" d=\"\" display=\"none\"/></g></g><g class=\"mark-group role-legend\" role=\"graphics-symbol\" aria-roledescription=\"legend\" aria-label=\"Symbol legend titled 'resource' for fill color with 2 values: natural_gas_fired_combined_cycle, natural_gas_fired_combustion_turbine\"><g transform=\"translate(218,0)\"><path class=\"background\" aria-hidden=\"true\" d=\"M0,0h176v40h-176Z\" pointer-events=\"none\"/><g><g class=\"mark-group role-legend-entry\"><g transform=\"translate(0,16)\"><path class=\"background\" aria-hidden=\"true\" d=\"M0,0h0v0h0Z\" pointer-events=\"none\"/><g><g class=\"mark-group role-scope\" role=\"graphics-object\" aria-roledescription=\"group mark container\"><g transform=\"translate(0,0)\"><path class=\"background\" aria-hidden=\"true\" d=\"M0,0h175.5263671875v11h-175.5263671875Z\" pointer-events=\"none\" opacity=\"1\"/><g><g class=\"mark-symbol role-legend-symbol\" pointer-events=\"none\"><path transform=\"translate(6,6)\" d=\"M5,0A5,5,0,1,1,-5,0A5,5,0,1,1,5,0\" fill=\"#1f77b4\" stroke-width=\"1.5\" opacity=\"1\"/></g><g class=\"mark-text role-legend-label\" pointer-events=\"none\"><text text-anchor=\"start\" transform=\"translate(16,9)\" font-family=\"sans-serif\" font-size=\"10px\" fill=\"#000\" opacity=\"1\">natural_gas_fired_combined_…</text></g></g><path class=\"foreground\" aria-hidden=\"true\" d=\"\" pointer-events=\"none\" display=\"none\"/></g><g transform=\"translate(0,13)\"><path class=\"background\" aria-hidden=\"true\" d=\"M0,0h175.5263671875v11h-175.5263671875Z\" pointer-events=\"none\" opacity=\"1\"/><g><g class=\"mark-symbol role-legend-symbol\" pointer-events=\"none\"><path transform=\"translate(6,6)\" d=\"M5,0A5,5,0,1,1,-5,0A5,5,0,1,1,5,0\" fill=\"#ff7f0e\" stroke-width=\"1.5\" opacity=\"1\"/></g><g class=\"mark-text role-legend-label\" pointer-events=\"none\"><text text-anchor=\"start\" transform=\"translate(16,9)\" font-family=\"sans-serif\" font-size=\"10px\" fill=\"#000\" opacity=\"1\">natural_gas_fired_combustion…</text></g></g><path class=\"foreground\" aria-hidden=\"true\" d=\"\" pointer-events=\"none\" display=\"none\"/></g></g></g><path class=\"foreground\" aria-hidden=\"true\" d=\"\" pointer-events=\"none\" display=\"none\"/></g></g><g class=\"mark-text role-legend-title\" pointer-events=\"none\"><text text-anchor=\"start\" transform=\"translate(0,9)\" font-family=\"sans-serif\" font-size=\"11px\" font-weight=\"bold\" fill=\"#000\" opacity=\"1\">resource</text></g></g><path class=\"foreground\" aria-hidden=\"true\" d=\"\" pointer-events=\"none\" display=\"none\"/></g></g></g><path class=\"foreground\" aria-hidden=\"true\" d=\"\" display=\"none\"/></g></g></g></svg>"
      ],
      "text/plain": [
       "@vlplot(\n",
       "    mark=\"area\",\n",
       "    encoding={\n",
       "        x={\n",
       "            field=\"hour\"\n",
       "        },\n",
       "        y={\n",
       "            stack=\"zero\",\n",
       "            field=\"value_sum\"\n",
       "        },\n",
       "        color={\n",
       "            scale={\n",
       "                scheme=\"category10\"\n",
       "            },\n",
       "            field=\"resource\",\n",
       "            type=\"nominal\"\n",
       "        }\n",
       "    },\n",
       "    data={\n",
       "        values=...\n",
       "    }\n",
       ")"
      ]
     },
     "metadata": {},
     "output_type": "display_data"
    }
   ],
   "source": [
    "sol_commit = innerjoin(solution.commit, \n",
    "                    gen_df[!, [:r_id, :resource]], \n",
    "                    on = :r_id)\n",
    "sol_commit = combine(groupby(sol_commit, [:resource, :hour]), \n",
    "            :value => sum)\n",
    "sol_commit.hour = sol_commit.hour .- T_period[1]\n",
    "\n",
    "sol_commit |>\n",
    "@vlplot(:area, \n",
    "    x=:hour, y={:value_sum, stack=:zero}, \n",
    "    color={\"resource:n\", scale={scheme=\"category10\"}})"
   ]
  },
  {
   "cell_type": "markdown",
   "metadata": {},
   "source": [
    "Note that units shutdown during the solar period and startup for the evening peak. However, due to the commitment constraints, not all natural gas plants can be decommitted, resulting in the observed curtailment. A large number of combustion turbines turn on to meet the evening peak."
   ]
  },
  {
   "cell_type": "markdown",
   "metadata": {},
   "source": [
    "## Moderate complexity unit commitment\n",
    "\n",
    "We expand the above unit commitment with ramp equations. These must be modified to prevent ramp violations during the startup process. In order to accommodate this, we introduce an **auxiliary variable** $GENAUX_{g,t}$ defined as the generation above the minimum output (if committed). $GENAUX_{g,t} = GEN_{g,t} = 0$ if the unit is not committed. Auxiliary variables are for convenience (we could always write the whole problem in terms of the original decision variables), but they help de-clutter the model and in general won't add too much computational penalty. The following constraints are added:\n",
    "\n",
    "$$\n",
    "\\begin{align}\n",
    " & GENAUX_{g,t} = GEN_{g,t} - Pmin_{g,t}COMMIT_{g,t} & \\forall \\quad g \\in G_{thermal} , t \\in T \\\\\n",
    " & GENAUX_{g,t+1} - GENAUX_{g,t} \\leq RampUp_{g} & \\forall \\quad g \\in G_{thermal} , t = 1..T-1 \\\\\n",
    "  & GENAUX_{g,t} - GENAUX_{g,t+1} \\leq RampDn_{g} & \\forall \\quad g \\in G_{thermal} , t = 1..T-1 \\\\\n",
    " & GEN_{g,t+1} - GEN_{g,t} \\leq RampUp_{g} & \\forall \\quad g \\notin G_{thermal} , t = 1..T-1 \\\\\n",
    "  & GEN_{g,t} - GEN_{g,t+1} \\leq RampDn_{g} & \\forall \\quad g \\notin G_{thermal} , t = 1..T-1  \n",
    "\\end{align}\n",
    "$$\n",
    "\n",
    "The creation of this auxiliary variable $GENAUX$ helps us avoid violating ramping constraints when we start up our units and their generation immediately jumps up to their minium output level or during shut-down when a unit drops from minimum output (or above) to zero. \n",
    "\n",
    "Note you may encounter alternative formulations in the literature to address this start-up and shut-down that modify the right-hand side of the traditional ramping constraint on total generation to account for the additional step change in output during start-up or shut-down periods. The above formulation is conceptually simple and works well."
   ]
  },
  {
   "cell_type": "markdown",
   "metadata": {},
   "source": [
    "### 4. Solve a day's unit commitment"
   ]
  },
  {
   "cell_type": "markdown",
   "metadata": {},
   "source": []
  },
  {
   "cell_type": "code",
   "execution_count": 7,
   "metadata": {},
   "outputs": [
    {
     "name": "stdout",
     "output_type": "stream",
     "text": [
      "Set parameter WLSAccessID\n",
      "Set parameter WLSSecret\n",
      "Set parameter LicenseID to value 2475843\n",
      "Academic license 2475843 - for non-commercial use only - registered to pa___@imperial.ac.uk\n",
      "Set parameter MIPGap to value 0.01\n",
      "Adding ramp constraints...\n"
     ]
    },
    {
     "name": "stdout",
     "output_type": "stream",
     "text": [
      "Set parameter MIPGap to value 0.01\n",
      "Gurobi Optimizer version 11.0.0 build v11.0.0rc2 (linux64 - \"Ubuntu 22.04.3 LTS\")\n",
      "\n",
      "CPU model: 11th Gen Intel(R) Core(TM) i7-11370H @ 3.30GHz, instruction set [SSE2|AVX|AVX2|AVX512]\n",
      "Thread count: 4 physical cores, 8 logical processors, using up to 8 threads\n",
      "\n",
      "Academic license 2475843 - for non-commercial use only - registered to pa___@imperial.ac.uk\n",
      "Optimize a model with 4532 rows, 2760 columns and 13296 nonzeros\n",
      "Model fingerprint: 0x00f527e7\n",
      "Variable types: 1176 continuous, 1584 integer (1584 binary)\n",
      "Coefficient statistics:\n",
      "  Matrix range     [1e+00, 6e+02]\n",
      "  Objective range  [5e+00, 5e+04]\n",
      "  Bounds range     [0e+00, 0e+00]\n",
      "  RHS range        [1e+00, 4e+03]\n",
      "Presolve removed 1846 rows and 644 columns\n",
      "Presolve time: 0.02s\n",
      "Presolved: 2686 rows, 2116 columns, 10736 nonzeros\n",
      "Variable types: 576 continuous, 1540 integer (1540 binary)\n",
      "Found heuristic solution: objective 898512.70762\n",
      "\n",
      "Root relaxation: objective 8.539093e+05, 959 iterations, 0.01 seconds (0.02 work units)\n",
      "\n",
      "    Nodes    |    Current Node    |     Objective Bounds      |     Work\n",
      " Expl Unexpl |  Obj  Depth IntInf | Incumbent    BestBd   Gap | It/Node Time\n",
      "\n",
      "     0     0 853909.258    0   26 898512.708 853909.258  4.96%     -    0s\n",
      "H    0     0                    863053.38924 853909.258  1.06%     -    0s\n",
      "     0     0          -    0      863053.389 854462.164  1.00%     -    0s\n",
      "\n",
      "Cutting planes:\n",
      "  Gomory: 6\n",
      "  Cover: 5\n",
      "  MIR: 7\n",
      "  Flow cover: 10\n",
      "  Network: 1\n",
      "\n",
      "Explored 1 nodes (1033 simplex iterations) in 0.07 seconds (0.07 work units)\n",
      "Thread count was 8 (of 8 available processors)\n",
      "\n",
      "Solution count 2: 863053 898513 \n",
      "\n",
      "Optimal solution found (tolerance 1.00e-02)\n",
      "Best objective 8.630533892417e+05, best bound 8.544621636922e+05, gap 0.9954%\n",
      "\n",
      "User-callback calls 399, time in user-callback 0.00 sec\n"
     ]
    }
   ],
   "source": [
    "solution = solve_unit_commitment(\n",
    "    gen_df_sens,\n",
    "    loads_multi,\n",
    "    gen_variable_multi,\n",
    "    0.01,\n",
    "    ramp_constraints = true); #1% MIP Gap"
   ]
  },
  {
   "cell_type": "code",
   "execution_count": 8,
   "metadata": {},
   "outputs": [
    {
     "data": {
      "application/vnd.vegalite.v5+json": {
       "data": {
        "values": [
         {
          "hour": 0,
          "resource": "biomass",
          "value_sum": 21.4
         },
         {
          "hour": 0,
          "resource": "hydroelectric_pumped_storage",
          "value_sum": 42
         },
         {
          "hour": 0,
          "resource": "natural_gas_fired_combined_cycle",
          "value_sum": 1385.106268
         },
         {
          "hour": 0,
          "resource": "natural_gas_fired_combustion_turbine",
          "value_sum": 0
         },
         {
          "hour": 0,
          "resource": "_onshore_wind_turbine",
          "value_sum": 163.3088
         },
         {
          "hour": 0,
          "resource": "_small_hydroelectric",
          "value_sum": 3.184932
         },
         {
          "hour": 0,
          "resource": "_solar_photovoltaic",
          "value_sum": 0
         },
         {
          "hour": 1,
          "resource": "biomass",
          "value_sum": 21.4
         },
         {
          "hour": 1,
          "resource": "hydroelectric_pumped_storage",
          "value_sum": 42
         },
         {
          "hour": 1,
          "resource": "natural_gas_fired_combined_cycle",
          "value_sum": 1316.621788
         },
         {
          "hour": 1,
          "resource": "natural_gas_fired_combustion_turbine",
          "value_sum": 0
         },
         {
          "hour": 1,
          "resource": "_onshore_wind_turbine",
          "value_sum": 169.79327999999998
         },
         {
          "hour": 1,
          "resource": "_small_hydroelectric",
          "value_sum": 3.184932
         },
         {
          "hour": 1,
          "resource": "_solar_photovoltaic",
          "value_sum": 0
         },
         {
          "hour": 2,
          "resource": "biomass",
          "value_sum": 21.4
         },
         {
          "hour": 2,
          "resource": "hydroelectric_pumped_storage",
          "value_sum": 42
         },
         {
          "hour": 2,
          "resource": "natural_gas_fired_combined_cycle",
          "value_sum": 1336.304668
         },
         {
          "hour": 2,
          "resource": "natural_gas_fired_combustion_turbine",
          "value_sum": 0
         },
         {
          "hour": 2,
          "resource": "_onshore_wind_turbine",
          "value_sum": 115.1104
         },
         {
          "hour": 2,
          "resource": "_small_hydroelectric",
          "value_sum": 3.184932
         },
         {
          "hour": 2,
          "resource": "_solar_photovoltaic",
          "value_sum": 0
         },
         {
          "hour": 3,
          "resource": "biomass",
          "value_sum": 21.4
         },
         {
          "hour": 3,
          "resource": "hydroelectric_pumped_storage",
          "value_sum": 42
         },
         {
          "hour": 3,
          "resource": "natural_gas_fired_combined_cycle",
          "value_sum": 1394.8621079999998
         },
         {
          "hour": 3,
          "resource": "natural_gas_fired_combustion_turbine",
          "value_sum": 0
         },
         {
          "hour": 3,
          "resource": "_onshore_wind_turbine",
          "value_sum": 100.55296
         },
         {
          "hour": 3,
          "resource": "_small_hydroelectric",
          "value_sum": 3.184931999999989
         },
         {
          "hour": 3,
          "resource": "_solar_photovoltaic",
          "value_sum": 0
         },
         {
          "hour": 4,
          "resource": "biomass",
          "value_sum": 21.4
         },
         {
          "hour": 4,
          "resource": "hydroelectric_pumped_storage",
          "value_sum": 42
         },
         {
          "hour": 4,
          "resource": "natural_gas_fired_combined_cycle",
          "value_sum": 1585.8377879999998
         },
         {
          "hour": 4,
          "resource": "natural_gas_fired_combustion_turbine",
          "value_sum": 0
         },
         {
          "hour": 4,
          "resource": "_onshore_wind_turbine",
          "value_sum": 80.57728
         },
         {
          "hour": 4,
          "resource": "_small_hydroelectric",
          "value_sum": 3.184932
         },
         {
          "hour": 4,
          "resource": "_solar_photovoltaic",
          "value_sum": 0
         },
         {
          "hour": 5,
          "resource": "biomass",
          "value_sum": 21.4
         },
         {
          "hour": 5,
          "resource": "hydroelectric_pumped_storage",
          "value_sum": 42
         },
         {
          "hour": 5,
          "resource": "natural_gas_fired_combined_cycle",
          "value_sum": 1749.256408
         },
         {
          "hour": 5,
          "resource": "natural_gas_fired_combustion_turbine",
          "value_sum": 20.981699999999996
         },
         {
          "hour": 5,
          "resource": "_onshore_wind_turbine",
          "value_sum": 139.17695999999998
         },
         {
          "hour": 5,
          "resource": "_small_hydroelectric",
          "value_sum": 3.184932
         },
         {
          "hour": 5,
          "resource": "_solar_photovoltaic",
          "value_sum": 0
         },
         {
          "hour": 6,
          "resource": "biomass",
          "value_sum": 21.4
         },
         {
          "hour": 6,
          "resource": "hydroelectric_pumped_storage",
          "value_sum": 42
         },
         {
          "hour": 6,
          "resource": "natural_gas_fired_combined_cycle",
          "value_sum": 1918.7035279999998
         },
         {
          "hour": 6,
          "resource": "natural_gas_fired_combustion_turbine",
          "value_sum": 20.981699999999996
         },
         {
          "hour": 6,
          "resource": "_onshore_wind_turbine",
          "value_sum": 74.17984
         },
         {
          "hour": 6,
          "resource": "_small_hydroelectric",
          "value_sum": 3.184932
         },
         {
          "hour": 6,
          "resource": "_solar_photovoltaic",
          "value_sum": 193.55
         },
         {
          "hour": 7,
          "resource": "biomass",
          "value_sum": 21.4
         },
         {
          "hour": 7,
          "resource": "hydroelectric_pumped_storage",
          "value_sum": 42
         },
         {
          "hour": 7,
          "resource": "natural_gas_fired_combined_cycle",
          "value_sum": 1707.191628
         },
         {
          "hour": 7,
          "resource": "natural_gas_fired_combustion_turbine",
          "value_sum": 0
         },
         {
          "hour": 7,
          "resource": "_onshore_wind_turbine",
          "value_sum": 49.373439999999995
         },
         {
          "hour": 7,
          "resource": "_small_hydroelectric",
          "value_sum": 3.184932
         },
         {
          "hour": 7,
          "resource": "_solar_photovoltaic",
          "value_sum": 773.85
         },
         {
          "hour": 8,
          "resource": "biomass",
          "value_sum": 21.4
         },
         {
          "hour": 8,
          "resource": "hydroelectric_pumped_storage",
          "value_sum": 42
         },
         {
          "hour": 8,
          "resource": "natural_gas_fired_combined_cycle",
          "value_sum": 932.4589079999998
         },
         {
          "hour": 8,
          "resource": "natural_gas_fired_combustion_turbine",
          "value_sum": 0
         },
         {
          "hour": 8,
          "resource": "_onshore_wind_turbine",
          "value_sum": 167.35616
         },
         {
          "hour": 8,
          "resource": "_small_hydroelectric",
          "value_sum": 3.184932
         },
         {
          "hour": 8,
          "resource": "_solar_photovoltaic",
          "value_sum": 1671.6
         },
         {
          "hour": 9,
          "resource": "biomass",
          "value_sum": 21.4
         },
         {
          "hour": 9,
          "resource": "hydroelectric_pumped_storage",
          "value_sum": 42
         },
         {
          "hour": 9,
          "resource": "natural_gas_fired_combined_cycle",
          "value_sum": 809.9041080000002
         },
         {
          "hour": 9,
          "resource": "natural_gas_fired_combustion_turbine",
          "value_sum": 0
         },
         {
          "hour": 9,
          "resource": "_onshore_wind_turbine",
          "value_sum": 131.56096
         },
         {
          "hour": 9,
          "resource": "_small_hydroelectric",
          "value_sum": 3.184932
         },
         {
          "hour": 9,
          "resource": "_solar_photovoltaic",
          "value_sum": 2014.95
         },
         {
          "hour": 10,
          "resource": "biomass",
          "value_sum": 21.4
         },
         {
          "hour": 10,
          "resource": "hydroelectric_pumped_storage",
          "value_sum": 42
         },
         {
          "hour": 10,
          "resource": "natural_gas_fired_combined_cycle",
          "value_sum": 833.5714679999996
         },
         {
          "hour": 10,
          "resource": "natural_gas_fired_combustion_turbine",
          "value_sum": 0
         },
         {
          "hour": 10,
          "resource": "_onshore_wind_turbine",
          "value_sum": 111.1936
         },
         {
          "hour": 10,
          "resource": "_small_hydroelectric",
          "value_sum": 3.184932
         },
         {
          "hour": 10,
          "resource": "_solar_photovoltaic",
          "value_sum": 2113.65
         },
         {
          "hour": 11,
          "resource": "biomass",
          "value_sum": 21.4
         },
         {
          "hour": 11,
          "resource": "hydroelectric_pumped_storage",
          "value_sum": 42
         },
         {
          "hour": 11,
          "resource": "natural_gas_fired_combined_cycle",
          "value_sum": 655.6549879999998
         },
         {
          "hour": 11,
          "resource": "natural_gas_fired_combustion_turbine",
          "value_sum": 0
         },
         {
          "hour": 11,
          "resource": "_onshore_wind_turbine",
          "value_sum": 92.11008
         },
         {
          "hour": 11,
          "resource": "_small_hydroelectric",
          "value_sum": 3.184932
         },
         {
          "hour": 11,
          "resource": "_solar_photovoltaic",
          "value_sum": 2148.65
         },
         {
          "hour": 12,
          "resource": "biomass",
          "value_sum": 0
         },
         {
          "hour": 12,
          "resource": "hydroelectric_pumped_storage",
          "value_sum": 0
         },
         {
          "hour": 12,
          "resource": "natural_gas_fired_combined_cycle",
          "value_sum": 461.04019999999997
         },
         {
          "hour": 12,
          "resource": "natural_gas_fired_combustion_turbine",
          "value_sum": 0
         },
         {
          "hour": 12,
          "resource": "_onshore_wind_turbine",
          "value_sum": 25.859800000000178
         },
         {
          "hour": 12,
          "resource": "_small_hydroelectric",
          "value_sum": 0
         },
         {
          "hour": 12,
          "resource": "_solar_photovoltaic",
          "value_sum": 2256.1
         },
         {
          "hour": 13,
          "resource": "biomass",
          "value_sum": 0
         },
         {
          "hour": 13,
          "resource": "hydroelectric_pumped_storage",
          "value_sum": 0
         },
         {
          "hour": 13,
          "resource": "natural_gas_fired_combined_cycle",
          "value_sum": 461.04019999999997
         },
         {
          "hour": 13,
          "resource": "natural_gas_fired_combustion_turbine",
          "value_sum": 0
         },
         {
          "hour": 13,
          "resource": "_onshore_wind_turbine",
          "value_sum": 0
         },
         {
          "hour": 13,
          "resource": "_small_hydroelectric",
          "value_sum": 0
         },
         {
          "hour": 13,
          "resource": "_solar_photovoltaic",
          "value_sum": 2204.9598
         },
         {
          "hour": 14,
          "resource": "biomass",
          "value_sum": 0
         },
         {
          "hour": 14,
          "resource": "hydroelectric_pumped_storage",
          "value_sum": 0
         },
         {
          "hour": 14,
          "resource": "natural_gas_fired_combined_cycle",
          "value_sum": 461.04019999999997
         },
         {
          "hour": 14,
          "resource": "natural_gas_fired_combustion_turbine",
          "value_sum": 0
         },
         {
          "hour": 14,
          "resource": "_onshore_wind_turbine",
          "value_sum": 0
         },
         {
          "hour": 14,
          "resource": "_small_hydroelectric",
          "value_sum": 0
         },
         {
          "hour": 14,
          "resource": "_solar_photovoltaic",
          "value_sum": 2116.9598
         },
         {
          "hour": 15,
          "resource": "biomass",
          "value_sum": 0
         },
         {
          "hour": 15,
          "resource": "hydroelectric_pumped_storage",
          "value_sum": 0
         },
         {
          "hour": 15,
          "resource": "natural_gas_fired_combined_cycle",
          "value_sum": 461.04019999999997
         },
         {
          "hour": 15,
          "resource": "natural_gas_fired_combustion_turbine",
          "value_sum": 0
         },
         {
          "hour": 15,
          "resource": "_onshore_wind_turbine",
          "value_sum": 27.70979999999986
         },
         {
          "hour": 15,
          "resource": "_small_hydroelectric",
          "value_sum": 0
         },
         {
          "hour": 15,
          "resource": "_solar_photovoltaic",
          "value_sum": 1993.25
         },
         {
          "hour": 16,
          "resource": "biomass",
          "value_sum": 21.4
         },
         {
          "hour": 16,
          "resource": "hydroelectric_pumped_storage",
          "value_sum": 42
         },
         {
          "hour": 16,
          "resource": "natural_gas_fired_combined_cycle",
          "value_sum": 660.9297880000001
         },
         {
          "hour": 16,
          "resource": "natural_gas_fired_combustion_turbine",
          "value_sum": 0
         },
         {
          "hour": 16,
          "resource": "_onshore_wind_turbine",
          "value_sum": 57.18527999999999
         },
         {
          "hour": 16,
          "resource": "_small_hydroelectric",
          "value_sum": 3.184932
         },
         {
          "hour": 16,
          "resource": "_solar_photovoltaic",
          "value_sum": 1637.3
         },
         {
          "hour": 17,
          "resource": "biomass",
          "value_sum": 21.4
         },
         {
          "hour": 17,
          "resource": "hydroelectric_pumped_storage",
          "value_sum": 42
         },
         {
          "hour": 17,
          "resource": "natural_gas_fired_combined_cycle",
          "value_sum": 1096.196188
         },
         {
          "hour": 17,
          "resource": "natural_gas_fired_combustion_turbine",
          "value_sum": 0
         },
         {
          "hour": 17,
          "resource": "_onshore_wind_turbine",
          "value_sum": 78.61888
         },
         {
          "hour": 17,
          "resource": "_small_hydroelectric",
          "value_sum": 3.184932
         },
         {
          "hour": 17,
          "resource": "_solar_photovoltaic",
          "value_sum": 1132.6
         },
         {
          "hour": 18,
          "resource": "biomass",
          "value_sum": 21.4
         },
         {
          "hour": 18,
          "resource": "hydroelectric_pumped_storage",
          "value_sum": 42
         },
         {
          "hour": 18,
          "resource": "natural_gas_fired_combined_cycle",
          "value_sum": 1592.5
         },
         {
          "hour": 18,
          "resource": "natural_gas_fired_combustion_turbine",
          "value_sum": 499.3493879999997
         },
         {
          "hour": 18,
          "resource": "_onshore_wind_turbine",
          "value_sum": 52.61568
         },
         {
          "hour": 18,
          "resource": "_small_hydroelectric",
          "value_sum": 3.184932
         },
         {
          "hour": 18,
          "resource": "_solar_photovoltaic",
          "value_sum": 166.95
         },
         {
          "hour": 19,
          "resource": "biomass",
          "value_sum": 21.4
         },
         {
          "hour": 19,
          "resource": "hydroelectric_pumped_storage",
          "value_sum": 42
         },
         {
          "hour": 19,
          "resource": "natural_gas_fired_combined_cycle",
          "value_sum": 1592.5
         },
         {
          "hour": 19,
          "resource": "natural_gas_fired_combustion_turbine",
          "value_sum": 780.4865879999996
         },
         {
          "hour": 19,
          "resource": "_onshore_wind_turbine",
          "value_sum": 61.42848
         },
         {
          "hour": 19,
          "resource": "_small_hydroelectric",
          "value_sum": 3.1849319999999963
         },
         {
          "hour": 19,
          "resource": "_solar_photovoltaic",
          "value_sum": 0
         },
         {
          "hour": 20,
          "resource": "biomass",
          "value_sum": 21.4
         },
         {
          "hour": 20,
          "resource": "hydroelectric_pumped_storage",
          "value_sum": 42
         },
         {
          "hour": 20,
          "resource": "natural_gas_fired_combined_cycle",
          "value_sum": 1592.5
         },
         {
          "hour": 20,
          "resource": "natural_gas_fired_combustion_turbine",
          "value_sum": 774.9982679999996
         },
         {
          "hour": 20,
          "resource": "_onshore_wind_turbine",
          "value_sum": 71.9168
         },
         {
          "hour": 20,
          "resource": "_small_hydroelectric",
          "value_sum": 3.184932
         },
         {
          "hour": 20,
          "resource": "_solar_photovoltaic",
          "value_sum": 0
         },
         {
          "hour": 21,
          "resource": "biomass",
          "value_sum": 21.4
         },
         {
          "hour": 21,
          "resource": "hydroelectric_pumped_storage",
          "value_sum": 42
         },
         {
          "hour": 21,
          "resource": "natural_gas_fired_combined_cycle",
          "value_sum": 1592.5
         },
         {
          "hour": 21,
          "resource": "natural_gas_fired_combustion_turbine",
          "value_sum": 502.86642799999964
         },
         {
          "hour": 21,
          "resource": "_onshore_wind_turbine",
          "value_sum": 96.04864
         },
         {
          "hour": 21,
          "resource": "_small_hydroelectric",
          "value_sum": 3.184932
         },
         {
          "hour": 21,
          "resource": "_solar_photovoltaic",
          "value_sum": 0
         },
         {
          "hour": 22,
          "resource": "biomass",
          "value_sum": 21.4
         },
         {
          "hour": 22,
          "resource": "hydroelectric_pumped_storage",
          "value_sum": 42
         },
         {
          "hour": 22,
          "resource": "natural_gas_fired_combined_cycle",
          "value_sum": 1592.5
         },
         {
          "hour": 22,
          "resource": "natural_gas_fired_combustion_turbine",
          "value_sum": 202.4459479999998
         },
         {
          "hour": 22,
          "resource": "_onshore_wind_turbine",
          "value_sum": 126.46912
         },
         {
          "hour": 22,
          "resource": "_small_hydroelectric",
          "value_sum": 3.184932
         },
         {
          "hour": 22,
          "resource": "_solar_photovoltaic",
          "value_sum": 0
         },
         {
          "hour": 23,
          "resource": "biomass",
          "value_sum": 21.4
         },
         {
          "hour": 23,
          "resource": "hydroelectric_pumped_storage",
          "value_sum": 42
         },
         {
          "hour": 23,
          "resource": "natural_gas_fired_combined_cycle",
          "value_sum": 1434.6614479999998
         },
         {
          "hour": 23,
          "resource": "natural_gas_fired_combustion_turbine",
          "value_sum": 114.3325
         },
         {
          "hour": 23,
          "resource": "_onshore_wind_turbine",
          "value_sum": 144.42111999999997
         },
         {
          "hour": 23,
          "resource": "_small_hydroelectric",
          "value_sum": 3.184932
         },
         {
          "hour": 23,
          "resource": "_solar_photovoltaic",
          "value_sum": 0
         },
         {
          "hour": 0,
          "resource": "_solar_photovoltaic_btm",
          "value_sum": 0
         },
         {
          "hour": 1,
          "resource": "_solar_photovoltaic_btm",
          "value_sum": 0
         },
         {
          "hour": 2,
          "resource": "_solar_photovoltaic_btm",
          "value_sum": 0
         },
         {
          "hour": 3,
          "resource": "_solar_photovoltaic_btm",
          "value_sum": 0
         },
         {
          "hour": 4,
          "resource": "_solar_photovoltaic_btm",
          "value_sum": 0
         },
         {
          "hour": 5,
          "resource": "_solar_photovoltaic_btm",
          "value_sum": 0
         },
         {
          "hour": 6,
          "resource": "_solar_photovoltaic_btm",
          "value_sum": 33.18
         },
         {
          "hour": 7,
          "resource": "_solar_photovoltaic_btm",
          "value_sum": 132.66
         },
         {
          "hour": 8,
          "resource": "_solar_photovoltaic_btm",
          "value_sum": 286.56
         },
         {
          "hour": 9,
          "resource": "_solar_photovoltaic_btm",
          "value_sum": 345.42
         },
         {
          "hour": 10,
          "resource": "_solar_photovoltaic_btm",
          "value_sum": 362.34
         },
         {
          "hour": 11,
          "resource": "_solar_photovoltaic_btm",
          "value_sum": 368.34
         },
         {
          "hour": 12,
          "resource": "_solar_photovoltaic_btm",
          "value_sum": 386.76
         },
         {
          "hour": 13,
          "resource": "_solar_photovoltaic_btm",
          "value_sum": 387.29999999999995
         },
         {
          "hour": 14,
          "resource": "_solar_photovoltaic_btm",
          "value_sum": 374.46
         },
         {
          "hour": 15,
          "resource": "_solar_photovoltaic_btm",
          "value_sum": 341.7
         },
         {
          "hour": 16,
          "resource": "_solar_photovoltaic_btm",
          "value_sum": 280.68
         },
         {
          "hour": 17,
          "resource": "_solar_photovoltaic_btm",
          "value_sum": 194.16
         },
         {
          "hour": 18,
          "resource": "_solar_photovoltaic_btm",
          "value_sum": 28.62
         },
         {
          "hour": 19,
          "resource": "_solar_photovoltaic_btm",
          "value_sum": 0
         },
         {
          "hour": 20,
          "resource": "_solar_photovoltaic_btm",
          "value_sum": 0
         },
         {
          "hour": 21,
          "resource": "_solar_photovoltaic_btm",
          "value_sum": 0
         },
         {
          "hour": 22,
          "resource": "_solar_photovoltaic_btm",
          "value_sum": 0
         },
         {
          "hour": 23,
          "resource": "_solar_photovoltaic_btm",
          "value_sum": 0
         },
         {
          "hour": 0,
          "resource": "_curtailment",
          "value_sum": 0
         },
         {
          "hour": 1,
          "resource": "_curtailment",
          "value_sum": 0
         },
         {
          "hour": 2,
          "resource": "_curtailment",
          "value_sum": 0
         },
         {
          "hour": 3,
          "resource": "_curtailment",
          "value_sum": 1.0658141036401503e-14
         },
         {
          "hour": 4,
          "resource": "_curtailment",
          "value_sum": 0
         },
         {
          "hour": 5,
          "resource": "_curtailment",
          "value_sum": 0
         },
         {
          "hour": 6,
          "resource": "_curtailment",
          "value_sum": 0
         },
         {
          "hour": 7,
          "resource": "_curtailment",
          "value_sum": 0
         },
         {
          "hour": 8,
          "resource": "_curtailment",
          "value_sum": 2.2737367544323206e-13
         },
         {
          "hour": 9,
          "resource": "_curtailment",
          "value_sum": 0
         },
         {
          "hour": 10,
          "resource": "_curtailment",
          "value_sum": 0
         },
         {
          "hour": 11,
          "resource": "_curtailment",
          "value_sum": 0
         },
         {
          "hour": 12,
          "resource": "_curtailment",
          "value_sum": 29.418571999999823
         },
         {
          "hour": 13,
          "resource": "_curtailment",
          "value_sum": 122.16761199999992
         },
         {
          "hour": 14,
          "resource": "_curtailment",
          "value_sum": 119.79625199999982
         },
         {
          "hour": 15,
          "resource": "_curtailment",
          "value_sum": 40.885692000000134
         },
         {
          "hour": 16,
          "resource": "_curtailment",
          "value_sum": 0
         },
         {
          "hour": 17,
          "resource": "_curtailment",
          "value_sum": 0
         },
         {
          "hour": 18,
          "resource": "_curtailment",
          "value_sum": 0
         },
         {
          "hour": 19,
          "resource": "_curtailment",
          "value_sum": 3.552713678800501e-15
         },
         {
          "hour": 20,
          "resource": "_curtailment",
          "value_sum": 0
         },
         {
          "hour": 21,
          "resource": "_curtailment",
          "value_sum": 0
         },
         {
          "hour": 22,
          "resource": "_curtailment",
          "value_sum": 0
         },
         {
          "hour": 23,
          "resource": "_curtailment",
          "value_sum": 0
         }
        ]
       },
       "encoding": {
        "color": {
         "field": "resource",
         "scale": {
          "scheme": "category10"
         },
         "type": "nominal"
        },
        "x": {
         "field": "hour",
         "type": "quantitative"
        },
        "y": {
         "field": "value_sum",
         "stack": "zero",
         "type": "quantitative"
        }
       },
       "mark": "area"
      },
      "image/png": "[encoded data removed]",
      "image/svg+xml": [
       "<svg xmlns=\"http://www.w3.org/2000/svg\" xmlns:xlink=\"http://www.w3.org/1999/xlink\" version=\"1.1\" class=\"marks\" width=\"455\" height=\"247\" viewBox=\"0 0 455 247\"><rect width=\"455\" height=\"247\" fill=\"white\"/><g fill=\"none\" stroke-miterlimit=\"10\" transform=\"translate(56,10)\"><g class=\"mark-group role-frame root\" role=\"graphics-object\" aria-roledescription=\"group mark container\"><g transform=\"translate(0,0)\"><path class=\"background\" aria-hidden=\"true\" d=\"M0.5,0.5h200v200h-200Z\" stroke=\"#ddd\"/><g><g class=\"mark-group role-axis\" aria-hidden=\"true\"><g transform=\"translate(0.5,200.5)\"><path class=\"background\" aria-hidden=\"true\" d=\"M0,0h0v0h0Z\" pointer-events=\"none\"/><g><g class=\"mark-rule role-axis-grid\" pointer-events=\"none\"><line transform=\"translate(0,-200)\" x2=\"0\" y2=\"200\" stroke=\"#ddd\" stroke-width=\"1\" opacity=\"1\"/><line transform=\"translate(42,-200)\" x2=\"0\" y2=\"200\" stroke=\"#ddd\" stroke-width=\"1\" opacity=\"1\"/><line transform=\"translate(83,-200)\" x2=\"0\" y2=\"200\" stroke=\"#ddd\" stroke-width=\"1\" opacity=\"1\"/><line transform=\"translate(125,-200)\" x2=\"0\" y2=\"200\" stroke=\"#ddd\" stroke-width=\"1\" opacity=\"1\"/><line transform=\"translate(167,-200)\" x2=\"0\" y2=\"200\" stroke=\"#ddd\" stroke-width=\"1\" opacity=\"1\"/></g></g><path class=\"foreground\" aria-hidden=\"true\" d=\"\" pointer-events=\"none\" display=\"none\"/></g></g><g class=\"mark-group role-axis\" aria-hidden=\"true\"><g transform=\"translate(0.5,0.5)\"><path class=\"background\" aria-hidden=\"true\" d=\"M0,0h0v0h0Z\" pointer-events=\"none\"/><g><g class=\"mark-rule role-axis-grid\" pointer-events=\"none\"><line transform=\"translate(0,200)\" x2=\"200\" y2=\"0\" stroke=\"#ddd\" stroke-width=\"1\" opacity=\"1\"/><line transform=\"translate(0,171)\" x2=\"200\" y2=\"0\" stroke=\"#ddd\" stroke-width=\"1\" opacity=\"1\"/><line transform=\"translate(0,143)\" x2=\"200\" y2=\"0\" stroke=\"#ddd\" stroke-width=\"1\" opacity=\"1\"/><line transform=\"translate(0,114)\" x2=\"200\" y2=\"0\" stroke=\"#ddd\" stroke-width=\"1\" opacity=\"1\"/><line transform=\"translate(0,86)\" x2=\"200\" y2=\"0\" stroke=\"#ddd\" stroke-width=\"1\" opacity=\"1\"/><line transform=\"translate(0,57)\" x2=\"200\" y2=\"0\" stroke=\"#ddd\" stroke-width=\"1\" opacity=\"1\"/><line transform=\"translate(0,29)\" x2=\"200\" y2=\"0\" stroke=\"#ddd\" stroke-width=\"1\" opacity=\"1\"/><line transform=\"translate(0,0)\" x2=\"200\" y2=\"0\" stroke=\"#ddd\" stroke-width=\"1\" opacity=\"1\"/></g></g><path class=\"foreground\" aria-hidden=\"true\" d=\"\" pointer-events=\"none\" display=\"none\"/></g></g><g class=\"mark-group role-axis\" role=\"graphics-symbol\" aria-roledescription=\"axis\" aria-label=\"X-axis titled 'hour' for a linear scale with values from 0 to 24\"><g transform=\"translate(0.5,200.5)\"><path class=\"background\" aria-hidden=\"true\" d=\"M0,0h0v0h0Z\" pointer-events=\"none\"/><g><g class=\"mark-rule role-axis-tick\" pointer-events=\"none\"><line transform=\"translate(0,0)\" x2=\"0\" y2=\"5\" stroke=\"#888\" stroke-width=\"1\" opacity=\"1\"/><line transform=\"translate(42,0)\" x2=\"0\" y2=\"5\" stroke=\"#888\" stroke-width=\"1\" opacity=\"1\"/><line transform=\"translate(83,0)\" x2=\"0\" y2=\"5\" stroke=\"#888\" stroke-width=\"1\" opacity=\"1\"/><line transform=\"translate(125,0)\" x2=\"0\" y2=\"5\" stroke=\"#888\" stroke-width=\"1\" opacity=\"1\"/><line transform=\"translate(167,0)\" x2=\"0\" y2=\"5\" stroke=\"#888\" stroke-width=\"1\" opacity=\"1\"/></g><g class=\"mark-text role-axis-label\" pointer-events=\"none\"><text text-anchor=\"start\" transform=\"translate(0,15)\" font-family=\"sans-serif\" font-size=\"10px\" fill=\"#000\" opacity=\"1\">0</text><text text-anchor=\"middle\" transform=\"translate(41.66666666666667,15)\" font-family=\"sans-serif\" font-size=\"10px\" fill=\"#000\" opacity=\"1\">5</text><text text-anchor=\"middle\" transform=\"translate(83.33333333333334,15)\" font-family=\"sans-serif\" font-size=\"10px\" fill=\"#000\" opacity=\"1\">10</text><text text-anchor=\"middle\" transform=\"translate(125,15)\" font-family=\"sans-serif\" font-size=\"10px\" fill=\"#000\" opacity=\"1\">15</text><text text-anchor=\"middle\" transform=\"translate(166.66666666666669,15)\" font-family=\"sans-serif\" font-size=\"10px\" fill=\"#000\" opacity=\"1\">20</text></g><g class=\"mark-rule role-axis-domain\" pointer-events=\"none\"><line transform=\"translate(0,0)\" x2=\"200\" y2=\"0\" stroke=\"#888\" stroke-width=\"1\" opacity=\"1\"/></g><g class=\"mark-text role-axis-title\" pointer-events=\"none\"><text text-anchor=\"middle\" transform=\"translate(100,30)\" font-family=\"sans-serif\" font-size=\"11px\" font-weight=\"bold\" fill=\"#000\" opacity=\"1\">hour</text></g></g><path class=\"foreground\" aria-hidden=\"true\" d=\"\" pointer-events=\"none\" display=\"none\"/></g></g><g class=\"mark-group role-axis\" role=\"graphics-symbol\" aria-roledescription=\"axis\" aria-label=\"Y-axis titled 'value_sum' for a linear scale with values from 0 to 3,500\"><g transform=\"translate(0.5,0.5)\"><path class=\"background\" aria-hidden=\"true\" d=\"M0,0h0v0h0Z\" pointer-events=\"none\"/><g><g class=\"mark-rule role-axis-tick\" pointer-events=\"none\"><line transform=\"translate(0,200)\" x2=\"-5\" y2=\"0\" stroke=\"#888\" stroke-width=\"1\" opacity=\"1\"/><line transform=\"translate(0,171)\" x2=\"-5\" y2=\"0\" stroke=\"#888\" stroke-width=\"1\" opacity=\"1\"/><line transform=\"translate(0,143)\" x2=\"-5\" y2=\"0\" stroke=\"#888\" stroke-width=\"1\" opacity=\"1\"/><line transform=\"translate(0,114)\" x2=\"-5\" y2=\"0\" stroke=\"#888\" stroke-width=\"1\" opacity=\"1\"/><line transform=\"translate(0,86)\" x2=\"-5\" y2=\"0\" stroke=\"#888\" stroke-width=\"1\" opacity=\"1\"/><line transform=\"translate(0,57)\" x2=\"-5\" y2=\"0\" stroke=\"#888\" stroke-width=\"1\" opacity=\"1\"/><line transform=\"translate(0,29)\" x2=\"-5\" y2=\"0\" stroke=\"#888\" stroke-width=\"1\" opacity=\"1\"/><line transform=\"translate(0,0)\" x2=\"-5\" y2=\"0\" stroke=\"#888\" stroke-width=\"1\" opacity=\"1\"/></g><g class=\"mark-text role-axis-label\" pointer-events=\"none\"><text text-anchor=\"end\" transform=\"translate(-7,203)\" font-family=\"sans-serif\" font-size=\"10px\" fill=\"#000\" opacity=\"1\">0</text><text text-anchor=\"end\" transform=\"translate(-7,174.42857142857144)\" font-family=\"sans-serif\" font-size=\"10px\" fill=\"#000\" opacity=\"1\">500</text><text text-anchor=\"end\" transform=\"translate(-7,145.85714285714286)\" font-family=\"sans-serif\" font-size=\"10px\" fill=\"#000\" opacity=\"1\">1,000</text><text text-anchor=\"end\" transform=\"translate(-7,117.28571428571428)\" font-family=\"sans-serif\" font-size=\"10px\" fill=\"#000\" opacity=\"1\">1,500</text><text text-anchor=\"end\" transform=\"translate(-7,88.71428571428572)\" font-family=\"sans-serif\" font-size=\"10px\" fill=\"#000\" opacity=\"1\">2,000</text><text text-anchor=\"end\" transform=\"translate(-7,60.14285714285714)\" font-family=\"sans-serif\" font-size=\"10px\" fill=\"#000\" opacity=\"1\">2,500</text><text text-anchor=\"end\" transform=\"translate(-7,31.57142857142858)\" font-family=\"sans-serif\" font-size=\"10px\" fill=\"#000\" opacity=\"1\">3,000</text><text text-anchor=\"end\" transform=\"translate(-7,3)\" font-family=\"sans-serif\" font-size=\"10px\" fill=\"#000\" opacity=\"1\">3,500</text></g><g class=\"mark-rule role-axis-domain\" pointer-events=\"none\"><line transform=\"translate(0,200)\" x2=\"0\" y2=\"-200\" stroke=\"#888\" stroke-width=\"1\" opacity=\"1\"/></g><g class=\"mark-text role-axis-title\" pointer-events=\"none\"><text text-anchor=\"middle\" transform=\"translate(-39.6279296875,100) rotate(-90) translate(0,-2)\" font-family=\"sans-serif\" font-size=\"11px\" font-weight=\"bold\" fill=\"#000\" opacity=\"1\">value_sum</text></g></g><path class=\"foreground\" aria-hidden=\"true\" d=\"\" pointer-events=\"none\" display=\"none\"/></g></g><g class=\"mark-group role-scope pathgroup\" role=\"graphics-object\" aria-roledescription=\"group mark container\"><g transform=\"translate(0,0)\"><path class=\"background\" aria-hidden=\"true\" d=\"M0,0h200v200h-200Z\"/><g><g class=\"mark-area role-mark marks\" role=\"graphics-object\" aria-roledescription=\"area mark container\"><path aria-label=\"hour: 0; value_sum: 21.4; resource: biomass\" role=\"graphics-symbol\" aria-roledescription=\"area mark\" d=\"M0,117.228L8.333,121.142L16.667,120.017L25,116.671L33.333,105.758L41.667,95.221L50,85.538L58.333,98.823L66.667,143.094L75,150.097L83.333,148.744L91.667,158.911L100,173.655L108.333,173.655L116.667,173.655L125,173.655L133.333,158.61L141.667,133.737L150,76.843L158.333,60.778L166.667,61.092L175,76.642L183.333,93.809L191.667,107.863L191.667,109.086L183.333,95.032L175,77.865L166.667,62.314L158.333,62.001L150,78.066L141.667,134.96L133.333,159.833L125,173.655L116.667,173.655L108.333,173.655L100,173.655L91.667,160.134L83.333,149.967L75,151.32L66.667,144.317L58.333,100.046L50,86.761L41.667,96.444L33.333,106.981L25,117.894L16.667,121.24L8.333,122.364L0,118.451Z\" fill=\"#8c564b\"/></g></g><path class=\"foreground\" aria-hidden=\"true\" d=\"\" display=\"none\"/></g><g transform=\"translate(0,0)\"><path class=\"background\" aria-hidden=\"true\" d=\"M0,0h200v200h-200Z\"/><g><g class=\"mark-area role-mark marks\" role=\"graphics-object\" aria-roledescription=\"area mark container\"><path aria-label=\"hour: 0; value_sum: 42; resource: hydroelectric_pumped_storage\" role=\"graphics-symbol\" aria-roledescription=\"area mark\" d=\"M0,118.451L8.333,122.364L16.667,121.24L25,117.894L33.333,106.981L41.667,96.444L50,86.761L58.333,100.046L66.667,144.317L75,151.32L83.333,149.967L91.667,160.134L100,173.655L108.333,173.655L116.667,173.655L125,173.655L133.333,159.833L141.667,134.96L150,78.066L158.333,62.001L166.667,62.314L175,77.865L183.333,95.032L191.667,109.086L191.667,111.486L183.333,97.432L175,80.265L166.667,64.714L158.333,64.401L150,80.466L141.667,137.36L133.333,162.233L125,173.655L116.667,173.655L108.333,173.655L100,173.655L91.667,162.534L83.333,152.367L75,153.72L66.667,146.717L58.333,102.446L50,89.161L41.667,98.844L33.333,109.381L25,120.294L16.667,123.64L8.333,124.764L0,120.851Z\" fill=\"#e377c2\"/></g></g><path class=\"foreground\" aria-hidden=\"true\" d=\"\" display=\"none\"/></g><g transform=\"translate(0,0)\"><path class=\"background\" aria-hidden=\"true\" d=\"M0,0h200v200h-200Z\"/><g><g class=\"mark-area role-mark marks\" role=\"graphics-object\" aria-roledescription=\"area mark container\"><path aria-label=\"hour: 0; value_sum: 1385.106268; resource: natural_gas_fired_combined_cycle\" role=\"graphics-symbol\" aria-roledescription=\"area mark\" d=\"M0,120.851L8.333,124.764L16.667,123.64L25,120.294L33.333,109.381L41.667,98.844L50,89.161L58.333,102.446L66.667,146.717L75,153.72L83.333,152.367L91.667,162.534L100,173.655L108.333,173.655L116.667,173.655L125,173.655L133.333,162.233L141.667,137.36L150,80.466L158.333,64.401L166.667,64.714L175,80.265L183.333,97.432L191.667,111.486L191.667,193.467L183.333,188.432L175,171.265L166.667,155.714L158.333,155.401L150,171.466L141.667,200L133.333,200L125,200L116.667,200L108.333,200L100,200L91.667,200L83.333,200L75,200L66.667,200L58.333,200L50,198.801L41.667,198.801L33.333,200L25,200L16.667,200L8.333,200L0,200Z\" fill=\"#7f7f7f\"/></g></g><path class=\"foreground\" aria-hidden=\"true\" d=\"\" display=\"none\"/></g><g transform=\"translate(0,0)\"><path class=\"background\" aria-hidden=\"true\" d=\"M0,0h200v200h-200Z\"/><g><g class=\"mark-area role-mark marks\" role=\"graphics-object\" aria-roledescription=\"area mark container\"><path aria-label=\"hour: 0; value_sum: 0; resource: natural_gas_fired_combustion_turbine\" role=\"graphics-symbol\" aria-roledescription=\"area mark\" d=\"M0,200L8.333,200L16.667,200L25,200L33.333,200L41.667,198.801L50,198.801L58.333,200L66.667,200L75,200L83.333,200L91.667,200L100,200L108.333,200L116.667,200L125,200L133.333,200L141.667,200L150,171.466L158.333,155.401L166.667,155.714L175,171.265L183.333,188.432L191.667,193.467L191.667,200L183.333,200L175,200L166.667,200L158.333,200L150,200L141.667,200L133.333,200L125,200L116.667,200L108.333,200L100,200L91.667,200L83.333,200L75,200L66.667,200L58.333,200L50,200L41.667,200L33.333,200L25,200L16.667,200L8.333,200L0,200Z\" fill=\"#bcbd22\"/></g></g><path class=\"foreground\" aria-hidden=\"true\" d=\"\" display=\"none\"/></g><g transform=\"translate(0,0)\"><path class=\"background\" aria-hidden=\"true\" d=\"M0,0h200v200h-200Z\"/><g><g class=\"mark-area role-mark marks\" role=\"graphics-object\" aria-roledescription=\"area mark container\"><path aria-label=\"hour: 0; value_sum: 163.3088; resource: _onshore_wind_turbine\" role=\"graphics-symbol\" aria-roledescription=\"area mark\" d=\"M0,107.714L8.333,111.257L16.667,113.257L25,110.743L33.333,100.971L41.667,87.086L50,68.161L58.333,44.019L66.667,21.454L75,7.519L83.333,0.723L91.667,9.638L100,21.157L108.333,25.526L116.667,31.288L125,38.646L133.333,45.561L141.667,53.248L150,62.479L158.333,57.086L166.667,56.8L175,70.971L183.333,86.4L191.667,99.429L191.667,107.681L183.333,93.627L175,76.46L166.667,60.91L158.333,60.596L150,65.485L141.667,57.741L133.333,48.829L125,40.229L116.667,31.288L108.333,25.526L100,22.634L91.667,14.901L83.333,7.077L75,15.037L66.667,31.017L58.333,46.841L50,72.4L41.667,95.039L33.333,105.576L25,116.489L16.667,119.835L8.333,120.96L0,117.046Z\" fill=\"#ff7f0e\"/></g></g><path class=\"foreground\" aria-hidden=\"true\" d=\"\" display=\"none\"/></g><g transform=\"translate(0,0)\"><path class=\"background\" aria-hidden=\"true\" d=\"M0,0h200v200h-200Z\"/><g><g class=\"mark-area role-mark marks\" role=\"graphics-object\" aria-roledescription=\"area mark container\"><path aria-label=\"hour: 0; value_sum: 3.184932; resource: _small_hydroelectric\" role=\"graphics-symbol\" aria-roledescription=\"area mark\" d=\"M0,117.046L8.333,120.96L16.667,119.835L25,116.489L33.333,105.576L41.667,95.039L50,72.4L58.333,46.841L66.667,31.017L75,15.037L83.333,7.077L91.667,14.901L100,22.634L108.333,25.526L116.667,31.288L125,40.229L133.333,48.829L141.667,57.741L150,65.485L158.333,60.596L166.667,60.91L175,76.46L183.333,93.627L191.667,107.681L191.667,107.863L183.333,93.809L175,76.642L166.667,61.092L158.333,60.778L150,65.667L141.667,57.923L133.333,49.011L125,40.229L116.667,31.288L108.333,25.526L100,22.634L91.667,15.083L83.333,7.259L75,15.219L66.667,31.199L58.333,47.023L50,72.582L41.667,95.221L33.333,105.758L25,116.671L16.667,120.017L8.333,121.142L0,117.228Z\" fill=\"#2ca02c\"/></g></g><path class=\"foreground\" aria-hidden=\"true\" d=\"\" display=\"none\"/></g><g transform=\"translate(0,0)\"><path class=\"background\" aria-hidden=\"true\" d=\"M0,0h200v200h-200Z\"/><g><g class=\"mark-area role-mark marks\" role=\"graphics-object\" aria-roledescription=\"area mark container\"><path aria-label=\"hour: 0; value_sum: 0; resource: _solar_photovoltaic\" role=\"graphics-symbol\" aria-roledescription=\"area mark\" d=\"M0,117.228L8.333,121.142L16.667,120.017L25,116.671L33.333,105.758L41.667,95.221L50,72.582L58.333,47.023L66.667,31.199L75,15.219L83.333,7.259L91.667,15.083L100,22.634L108.333,25.526L116.667,31.288L125,40.229L133.333,49.011L141.667,57.923L150,65.667L158.333,60.778L166.667,61.092L175,76.642L183.333,93.809L191.667,107.863L191.667,107.863L183.333,93.809L175,76.642L166.667,61.092L158.333,60.778L150,75.207L141.667,122.643L133.333,142.571L125,154.129L116.667,152.257L108.333,151.523L100,151.554L91.667,137.863L83.333,128.039L75,130.359L66.667,126.719L58.333,91.243L50,83.642L41.667,95.221L33.333,105.758L25,116.671L16.667,120.017L8.333,121.142L0,117.228Z\" fill=\"#d62728\"/></g></g><path class=\"foreground\" aria-hidden=\"true\" d=\"\" display=\"none\"/></g><g transform=\"translate(0,0)\"><path class=\"background\" aria-hidden=\"true\" d=\"M0,0h200v200h-200Z\"/><g><g class=\"mark-area role-mark marks\" role=\"graphics-object\" aria-roledescription=\"area mark container\"><path aria-label=\"hour: 0; value_sum: 0; resource: _solar_photovoltaic_btm\" role=\"graphics-symbol\" aria-roledescription=\"area mark\" d=\"M0,117.228L8.333,121.142L16.667,120.017L25,116.671L33.333,105.758L41.667,95.221L50,83.642L58.333,91.243L66.667,126.719L75,130.359L83.333,128.039L91.667,137.863L100,151.554L108.333,151.523L116.667,152.257L125,154.129L133.333,142.571L141.667,122.643L150,75.207L158.333,60.778L166.667,61.092L175,76.642L183.333,93.809L191.667,107.863L191.667,107.863L183.333,93.809L175,76.642L166.667,61.092L158.333,60.778L150,76.843L141.667,133.737L133.333,158.61L125,173.655L116.667,173.655L108.333,173.655L100,173.655L91.667,158.911L83.333,148.744L75,150.097L66.667,143.094L58.333,98.823L50,85.538L41.667,95.221L33.333,105.758L25,116.671L16.667,120.017L8.333,121.142L0,117.228Z\" fill=\"#9467bd\"/></g></g><path class=\"foreground\" aria-hidden=\"true\" d=\"\" display=\"none\"/></g><g transform=\"translate(0,0)\"><path class=\"background\" aria-hidden=\"true\" d=\"M0,0h200v200h-200Z\"/><g><g class=\"mark-area role-mark marks\" role=\"graphics-object\" aria-roledescription=\"area mark container\"><path aria-label=\"hour: 0; value_sum: 0; resource: _curtailment\" role=\"graphics-symbol\" aria-roledescription=\"area mark\" d=\"M0,107.714L8.333,111.257L16.667,113.257L25,110.743L33.333,100.971L41.667,87.086L50,68.161L58.333,44.019L66.667,21.454L75,7.519L83.333,0.723L91.667,9.638L100,19.476L108.333,18.545L116.667,24.442L125,36.309L133.333,45.561L141.667,53.248L150,62.479L158.333,57.086L166.667,56.8L175,70.971L183.333,86.4L191.667,99.429L191.667,99.429L183.333,86.4L175,70.971L166.667,56.8L158.333,57.086L150,62.479L141.667,53.248L133.333,45.561L125,38.646L116.667,31.288L108.333,25.526L100,21.157L91.667,9.638L83.333,0.723L75,7.519L66.667,21.454L58.333,44.019L50,68.161L41.667,87.086L33.333,100.971L25,110.743L16.667,113.257L8.333,111.257L0,107.714Z\" fill=\"#1f77b4\"/></g></g><path class=\"foreground\" aria-hidden=\"true\" d=\"\" display=\"none\"/></g></g><g class=\"mark-group role-legend\" role=\"graphics-symbol\" aria-roledescription=\"legend\" aria-label=\"Symbol legend titled 'resource' for fill color with 9 values: _curtailment, _onshore_wind_turbine, _small_hydroelectric, _solar_photovoltaic, _solar_photovoltaic_btm, ending with natural_gas_fired_combustion_turbine\"><g transform=\"translate(218,0)\"><path class=\"background\" aria-hidden=\"true\" d=\"M0,0h176v131h-176Z\" pointer-events=\"none\"/><g><g class=\"mark-group role-legend-entry\"><g transform=\"translate(0,16)\"><path class=\"background\" aria-hidden=\"true\" d=\"M0,0h0v0h0Z\" pointer-events=\"none\"/><g><g class=\"mark-group role-scope\" role=\"graphics-object\" aria-roledescription=\"group mark container\"><g transform=\"translate(0,0)\"><path class=\"background\" aria-hidden=\"true\" d=\"M0,0h175.5263671875v11h-175.5263671875Z\" pointer-events=\"none\" opacity=\"1\"/><g><g class=\"mark-symbol role-legend-symbol\" pointer-events=\"none\"><path transform=\"translate(6,6)\" d=\"M5,0A5,5,0,1,1,-5,0A5,5,0,1,1,5,0\" fill=\"#1f77b4\" stroke-width=\"1.5\" opacity=\"1\"/></g><g class=\"mark-text role-legend-label\" pointer-events=\"none\"><text text-anchor=\"start\" transform=\"translate(16,9)\" font-family=\"sans-serif\" font-size=\"10px\" fill=\"#000\" opacity=\"1\">_curtailment</text></g></g><path class=\"foreground\" aria-hidden=\"true\" d=\"\" pointer-events=\"none\" display=\"none\"/></g><g transform=\"translate(0,13)\"><path class=\"background\" aria-hidden=\"true\" d=\"M0,0h175.5263671875v11h-175.5263671875Z\" pointer-events=\"none\" opacity=\"1\"/><g><g class=\"mark-symbol role-legend-symbol\" pointer-events=\"none\"><path transform=\"translate(6,6)\" d=\"M5,0A5,5,0,1,1,-5,0A5,5,0,1,1,5,0\" fill=\"#ff7f0e\" stroke-width=\"1.5\" opacity=\"1\"/></g><g class=\"mark-text role-legend-label\" pointer-events=\"none\"><text text-anchor=\"start\" transform=\"translate(16,9)\" font-family=\"sans-serif\" font-size=\"10px\" fill=\"#000\" opacity=\"1\">_onshore_wind_turbine</text></g></g><path class=\"foreground\" aria-hidden=\"true\" d=\"\" pointer-events=\"none\" display=\"none\"/></g><g transform=\"translate(0,26)\"><path class=\"background\" aria-hidden=\"true\" d=\"M0,0h175.5263671875v11h-175.5263671875Z\" pointer-events=\"none\" opacity=\"1\"/><g><g class=\"mark-symbol role-legend-symbol\" pointer-events=\"none\"><path transform=\"translate(6,6)\" d=\"M5,0A5,5,0,1,1,-5,0A5,5,0,1,1,5,0\" fill=\"#2ca02c\" stroke-width=\"1.5\" opacity=\"1\"/></g><g class=\"mark-text role-legend-label\" pointer-events=\"none\"><text text-anchor=\"start\" transform=\"translate(16,9)\" font-family=\"sans-serif\" font-size=\"10px\" fill=\"#000\" opacity=\"1\">_small_hydroelectric</text></g></g><path class=\"foreground\" aria-hidden=\"true\" d=\"\" pointer-events=\"none\" display=\"none\"/></g><g transform=\"translate(0,39)\"><path class=\"background\" aria-hidden=\"true\" d=\"M0,0h175.5263671875v11h-175.5263671875Z\" pointer-events=\"none\" opacity=\"1\"/><g><g class=\"mark-symbol role-legend-symbol\" pointer-events=\"none\"><path transform=\"translate(6,6)\" d=\"M5,0A5,5,0,1,1,-5,0A5,5,0,1,1,5,0\" fill=\"#d62728\" stroke-width=\"1.5\" opacity=\"1\"/></g><g class=\"mark-text role-legend-label\" pointer-events=\"none\"><text text-anchor=\"start\" transform=\"translate(16,9)\" font-family=\"sans-serif\" font-size=\"10px\" fill=\"#000\" opacity=\"1\">_solar_photovoltaic</text></g></g><path class=\"foreground\" aria-hidden=\"true\" d=\"\" pointer-events=\"none\" display=\"none\"/></g><g transform=\"translate(0,52)\"><path class=\"background\" aria-hidden=\"true\" d=\"M0,0h175.5263671875v11h-175.5263671875Z\" pointer-events=\"none\" opacity=\"1\"/><g><g class=\"mark-symbol role-legend-symbol\" pointer-events=\"none\"><path transform=\"translate(6,6)\" d=\"M5,0A5,5,0,1,1,-5,0A5,5,0,1,1,5,0\" fill=\"#9467bd\" stroke-width=\"1.5\" opacity=\"1\"/></g><g class=\"mark-text role-legend-label\" pointer-events=\"none\"><text text-anchor=\"start\" transform=\"translate(16,9)\" font-family=\"sans-serif\" font-size=\"10px\" fill=\"#000\" opacity=\"1\">_solar_photovoltaic_btm</text></g></g><path class=\"foreground\" aria-hidden=\"true\" d=\"\" pointer-events=\"none\" display=\"none\"/></g><g transform=\"translate(0,65)\"><path class=\"background\" aria-hidden=\"true\" d=\"M0,0h175.5263671875v11h-175.5263671875Z\" pointer-events=\"none\" opacity=\"1\"/><g><g class=\"mark-symbol role-legend-symbol\" pointer-events=\"none\"><path transform=\"translate(6,6)\" d=\"M5,0A5,5,0,1,1,-5,0A5,5,0,1,1,5,0\" fill=\"#8c564b\" stroke-width=\"1.5\" opacity=\"1\"/></g><g class=\"mark-text role-legend-label\" pointer-events=\"none\"><text text-anchor=\"start\" transform=\"translate(16,9)\" font-family=\"sans-serif\" font-size=\"10px\" fill=\"#000\" opacity=\"1\">biomass</text></g></g><path class=\"foreground\" aria-hidden=\"true\" d=\"\" pointer-events=\"none\" display=\"none\"/></g><g transform=\"translate(0,78)\"><path class=\"background\" aria-hidden=\"true\" d=\"M0,0h175.5263671875v11h-175.5263671875Z\" pointer-events=\"none\" opacity=\"1\"/><g><g class=\"mark-symbol role-legend-symbol\" pointer-events=\"none\"><path transform=\"translate(6,6)\" d=\"M5,0A5,5,0,1,1,-5,0A5,5,0,1,1,5,0\" fill=\"#e377c2\" stroke-width=\"1.5\" opacity=\"1\"/></g><g class=\"mark-text role-legend-label\" pointer-events=\"none\"><text text-anchor=\"start\" transform=\"translate(16,9)\" font-family=\"sans-serif\" font-size=\"10px\" fill=\"#000\" opacity=\"1\">hydroelectric_pumped_storage</text></g></g><path class=\"foreground\" aria-hidden=\"true\" d=\"\" pointer-events=\"none\" display=\"none\"/></g><g transform=\"translate(0,91)\"><path class=\"background\" aria-hidden=\"true\" d=\"M0,0h175.5263671875v11h-175.5263671875Z\" pointer-events=\"none\" opacity=\"1\"/><g><g class=\"mark-symbol role-legend-symbol\" pointer-events=\"none\"><path transform=\"translate(6,6)\" d=\"M5,0A5,5,0,1,1,-5,0A5,5,0,1,1,5,0\" fill=\"#7f7f7f\" stroke-width=\"1.5\" opacity=\"1\"/></g><g class=\"mark-text role-legend-label\" pointer-events=\"none\"><text text-anchor=\"start\" transform=\"translate(16,9)\" font-family=\"sans-serif\" font-size=\"10px\" fill=\"#000\" opacity=\"1\">natural_gas_fired_combined_…</text></g></g><path class=\"foreground\" aria-hidden=\"true\" d=\"\" pointer-events=\"none\" display=\"none\"/></g><g transform=\"translate(0,104)\"><path class=\"background\" aria-hidden=\"true\" d=\"M0,0h175.5263671875v11h-175.5263671875Z\" pointer-events=\"none\" opacity=\"1\"/><g><g class=\"mark-symbol role-legend-symbol\" pointer-events=\"none\"><path transform=\"translate(6,6)\" d=\"M5,0A5,5,0,1,1,-5,0A5,5,0,1,1,5,0\" fill=\"#bcbd22\" stroke-width=\"1.5\" opacity=\"1\"/></g><g class=\"mark-text role-legend-label\" pointer-events=\"none\"><text text-anchor=\"start\" transform=\"translate(16,9)\" font-family=\"sans-serif\" font-size=\"10px\" fill=\"#000\" opacity=\"1\">natural_gas_fired_combustion…</text></g></g><path class=\"foreground\" aria-hidden=\"true\" d=\"\" pointer-events=\"none\" display=\"none\"/></g></g></g><path class=\"foreground\" aria-hidden=\"true\" d=\"\" pointer-events=\"none\" display=\"none\"/></g></g><g class=\"mark-text role-legend-title\" pointer-events=\"none\"><text text-anchor=\"start\" transform=\"translate(0,9)\" font-family=\"sans-serif\" font-size=\"11px\" font-weight=\"bold\" fill=\"#000\" opacity=\"1\">resource</text></g></g><path class=\"foreground\" aria-hidden=\"true\" d=\"\" pointer-events=\"none\" display=\"none\"/></g></g></g><path class=\"foreground\" aria-hidden=\"true\" d=\"\" display=\"none\"/></g></g></g></svg>"
      ],
      "text/plain": [
       "@vlplot(\n",
       "    mark=\"area\",\n",
       "    encoding={\n",
       "        x={\n",
       "            field=\"hour\"\n",
       "        },\n",
       "        y={\n",
       "            stack=\"zero\",\n",
       "            field=\"value_sum\"\n",
       "        },\n",
       "        color={\n",
       "            scale={\n",
       "                scheme=\"category10\"\n",
       "            },\n",
       "            field=\"resource\",\n",
       "            type=\"nominal\"\n",
       "        }\n",
       "    },\n",
       "    data={\n",
       "        values=...\n",
       "    }\n",
       ")"
      ]
     },
     "metadata": {},
     "output_type": "display_data"
    }
   ],
   "source": [
    "# Add in BTM solar and curtailment and plot results\n",
    "\n",
    "sol_gen = innerjoin(solution.gen, \n",
    "                    gen_df[!, [:r_id, :resource]], \n",
    "                    on = :r_id)\n",
    "sol_gen = combine(groupby(sol_gen, [:resource, :hour]), \n",
    "            :value => sum)\n",
    "\n",
    "# Rename generators (for plotting purposes)\n",
    "sol_gen[sol_gen.resource .== \"solar_photovoltaic\", :resource] .= \"_solar_photovoltaic\"\n",
    "sol_gen[sol_gen.resource .== \"onshore_wind_turbine\", :resource] .= \"_onshore_wind_turbine\"\n",
    "sol_gen[sol_gen.resource .== \"small_hydroelectric\", :resource] .= \"_small_hydroelectric\"\n",
    "\n",
    "# BTM solar\n",
    "btm = DataFrame(resource = repeat([\"_solar_photovoltaic_btm\"]; outer=length(T_period)), \n",
    "    hour = T_period,\n",
    "    value_sum = gen_variable_multi[gen_variable_multi.gen_full .== \"wec_sdge_solar_photovoltaic_1.0\",:cf] * 600)\n",
    "append!(sol_gen, btm)\n",
    "\n",
    "# Curtailment\n",
    "curtail = combine(groupby(solution.curtail, [:hour]),\n",
    "            :value => sum)\n",
    "curtail[!, :resource] .= \"_curtailment\"\n",
    "# rename!(curtail, :curt_sum => :value_sum)\n",
    "append!(sol_gen, curtail[:,[:resource, :hour, :value_sum]])\n",
    "\n",
    "# Rescale hours\n",
    "sol_gen.hour = sol_gen.hour .- T_period[1]\n",
    "\n",
    "sol_gen |>\n",
    "@vlplot(:area, \n",
    "    x=:hour, y={:value_sum, stack=:zero}, \n",
    "    color={\"resource:n\", scale={scheme=\"category10\"}})"
   ]
  },
  {
   "cell_type": "markdown",
   "metadata": {},
   "source": [
    "In contrast to when we added ramp constraints to the Economic Dispatch problem, adding ramp constraints to our Unit Commitment formulation does not change the solution as much (at least in this case). Much of the inflexibility here arises from the unit commitment constraints, and once committed, there is ample ramping capability. We do however get relatively more combustion turbines running to meet the evening ramp, given their faster ramp rates."
   ]
  },
  {
   "cell_type": "code",
   "execution_count": 9,
   "metadata": {},
   "outputs": [
    {
     "data": {
      "application/vnd.vegalite.v5+json": {
       "data": {
        "values": [
         {
          "hour": 0,
          "resource": "natural_gas_fired_combined_cycle",
          "value_sum": 6
         },
         {
          "hour": 0,
          "resource": "natural_gas_fired_combustion_turbine",
          "value_sum": 0
         },
         {
          "hour": 1,
          "resource": "natural_gas_fired_combined_cycle",
          "value_sum": 6
         },
         {
          "hour": 1,
          "resource": "natural_gas_fired_combustion_turbine",
          "value_sum": 0
         },
         {
          "hour": 2,
          "resource": "natural_gas_fired_combined_cycle",
          "value_sum": 6
         },
         {
          "hour": 2,
          "resource": "natural_gas_fired_combustion_turbine",
          "value_sum": 0
         },
         {
          "hour": 3,
          "resource": "natural_gas_fired_combined_cycle",
          "value_sum": 6
         },
         {
          "hour": 3,
          "resource": "natural_gas_fired_combustion_turbine",
          "value_sum": 0
         },
         {
          "hour": 4,
          "resource": "natural_gas_fired_combined_cycle",
          "value_sum": 6
         },
         {
          "hour": 4,
          "resource": "natural_gas_fired_combustion_turbine",
          "value_sum": 0
         },
         {
          "hour": 5,
          "resource": "natural_gas_fired_combined_cycle",
          "value_sum": 6
         },
         {
          "hour": 5,
          "resource": "natural_gas_fired_combustion_turbine",
          "value_sum": 1
         },
         {
          "hour": 6,
          "resource": "natural_gas_fired_combined_cycle",
          "value_sum": 6
         },
         {
          "hour": 6,
          "resource": "natural_gas_fired_combustion_turbine",
          "value_sum": 1
         },
         {
          "hour": 7,
          "resource": "natural_gas_fired_combined_cycle",
          "value_sum": 6
         },
         {
          "hour": 7,
          "resource": "natural_gas_fired_combustion_turbine",
          "value_sum": 0
         },
         {
          "hour": 8,
          "resource": "natural_gas_fired_combined_cycle",
          "value_sum": 4
         },
         {
          "hour": 8,
          "resource": "natural_gas_fired_combustion_turbine",
          "value_sum": 0
         },
         {
          "hour": 9,
          "resource": "natural_gas_fired_combined_cycle",
          "value_sum": 4
         },
         {
          "hour": 9,
          "resource": "natural_gas_fired_combustion_turbine",
          "value_sum": 0
         },
         {
          "hour": 10,
          "resource": "natural_gas_fired_combined_cycle",
          "value_sum": 4
         },
         {
          "hour": 10,
          "resource": "natural_gas_fired_combustion_turbine",
          "value_sum": 0
         },
         {
          "hour": 11,
          "resource": "natural_gas_fired_combined_cycle",
          "value_sum": 4
         },
         {
          "hour": 11,
          "resource": "natural_gas_fired_combustion_turbine",
          "value_sum": 0
         },
         {
          "hour": 12,
          "resource": "natural_gas_fired_combined_cycle",
          "value_sum": 4
         },
         {
          "hour": 12,
          "resource": "natural_gas_fired_combustion_turbine",
          "value_sum": 0
         },
         {
          "hour": 13,
          "resource": "natural_gas_fired_combined_cycle",
          "value_sum": 4
         },
         {
          "hour": 13,
          "resource": "natural_gas_fired_combustion_turbine",
          "value_sum": 0
         },
         {
          "hour": 14,
          "resource": "natural_gas_fired_combined_cycle",
          "value_sum": 4
         },
         {
          "hour": 14,
          "resource": "natural_gas_fired_combustion_turbine",
          "value_sum": 0
         },
         {
          "hour": 15,
          "resource": "natural_gas_fired_combined_cycle",
          "value_sum": 4
         },
         {
          "hour": 15,
          "resource": "natural_gas_fired_combustion_turbine",
          "value_sum": 0
         },
         {
          "hour": 16,
          "resource": "natural_gas_fired_combined_cycle",
          "value_sum": 4
         },
         {
          "hour": 16,
          "resource": "natural_gas_fired_combustion_turbine",
          "value_sum": 0
         },
         {
          "hour": 17,
          "resource": "natural_gas_fired_combined_cycle",
          "value_sum": 4
         },
         {
          "hour": 17,
          "resource": "natural_gas_fired_combustion_turbine",
          "value_sum": 0
         },
         {
          "hour": 18,
          "resource": "natural_gas_fired_combined_cycle",
          "value_sum": 5
         },
         {
          "hour": 18,
          "resource": "natural_gas_fired_combustion_turbine",
          "value_sum": 7
         },
         {
          "hour": 19,
          "resource": "natural_gas_fired_combined_cycle",
          "value_sum": 5
         },
         {
          "hour": 19,
          "resource": "natural_gas_fired_combustion_turbine",
          "value_sum": 10
         },
         {
          "hour": 20,
          "resource": "natural_gas_fired_combined_cycle",
          "value_sum": 5
         },
         {
          "hour": 20,
          "resource": "natural_gas_fired_combustion_turbine",
          "value_sum": 10
         },
         {
          "hour": 21,
          "resource": "natural_gas_fired_combined_cycle",
          "value_sum": 5
         },
         {
          "hour": 21,
          "resource": "natural_gas_fired_combustion_turbine",
          "value_sum": 8
         },
         {
          "hour": 22,
          "resource": "natural_gas_fired_combined_cycle",
          "value_sum": 5
         },
         {
          "hour": 22,
          "resource": "natural_gas_fired_combustion_turbine",
          "value_sum": 4
         },
         {
          "hour": 23,
          "resource": "natural_gas_fired_combined_cycle",
          "value_sum": 5
         },
         {
          "hour": 23,
          "resource": "natural_gas_fired_combustion_turbine",
          "value_sum": 2
         }
        ]
       },
       "encoding": {
        "color": {
         "field": "resource",
         "scale": {
          "scheme": "category10"
         },
         "type": "nominal"
        },
        "x": {
         "field": "hour",
         "type": "quantitative"
        },
        "y": {
         "field": "value_sum",
         "stack": "zero",
         "type": "quantitative"
        }
       },
       "mark": "area"
      },
      "image/png": "[encoded data removed]",
      "image/svg+xml": [
       "<svg xmlns=\"http://www.w3.org/2000/svg\" xmlns:xlink=\"http://www.w3.org/1999/xlink\" version=\"1.1\" class=\"marks\" width=\"439\" height=\"242\" viewBox=\"0 0 439 242\"><rect width=\"439\" height=\"242\" fill=\"white\"/><g fill=\"none\" stroke-miterlimit=\"10\" transform=\"translate(40,5)\"><g class=\"mark-group role-frame root\" role=\"graphics-object\" aria-roledescription=\"group mark container\"><g transform=\"translate(0,0)\"><path class=\"background\" aria-hidden=\"true\" d=\"M0.5,0.5h200v200h-200Z\" stroke=\"#ddd\"/><g><g class=\"mark-group role-axis\" aria-hidden=\"true\"><g transform=\"translate(0.5,200.5)\"><path class=\"background\" aria-hidden=\"true\" d=\"M0,0h0v0h0Z\" pointer-events=\"none\"/><g><g class=\"mark-rule role-axis-grid\" pointer-events=\"none\"><line transform=\"translate(0,-200)\" x2=\"0\" y2=\"200\" stroke=\"#ddd\" stroke-width=\"1\" opacity=\"1\"/><line transform=\"translate(42,-200)\" x2=\"0\" y2=\"200\" stroke=\"#ddd\" stroke-width=\"1\" opacity=\"1\"/><line transform=\"translate(83,-200)\" x2=\"0\" y2=\"200\" stroke=\"#ddd\" stroke-width=\"1\" opacity=\"1\"/><line transform=\"translate(125,-200)\" x2=\"0\" y2=\"200\" stroke=\"#ddd\" stroke-width=\"1\" opacity=\"1\"/><line transform=\"translate(167,-200)\" x2=\"0\" y2=\"200\" stroke=\"#ddd\" stroke-width=\"1\" opacity=\"1\"/></g></g><path class=\"foreground\" aria-hidden=\"true\" d=\"\" pointer-events=\"none\" display=\"none\"/></g></g><g class=\"mark-group role-axis\" aria-hidden=\"true\"><g transform=\"translate(0.5,0.5)\"><path class=\"background\" aria-hidden=\"true\" d=\"M0,0h0v0h0Z\" pointer-events=\"none\"/><g><g class=\"mark-rule role-axis-grid\" pointer-events=\"none\"><line transform=\"translate(0,200)\" x2=\"200\" y2=\"0\" stroke=\"#ddd\" stroke-width=\"1\" opacity=\"1\"/><line transform=\"translate(0,138)\" x2=\"200\" y2=\"0\" stroke=\"#ddd\" stroke-width=\"1\" opacity=\"1\"/><line transform=\"translate(0,75)\" x2=\"200\" y2=\"0\" stroke=\"#ddd\" stroke-width=\"1\" opacity=\"1\"/><line transform=\"translate(0,13)\" x2=\"200\" y2=\"0\" stroke=\"#ddd\" stroke-width=\"1\" opacity=\"1\"/></g></g><path class=\"foreground\" aria-hidden=\"true\" d=\"\" pointer-events=\"none\" display=\"none\"/></g></g><g class=\"mark-group role-axis\" role=\"graphics-symbol\" aria-roledescription=\"axis\" aria-label=\"X-axis titled 'hour' for a linear scale with values from 0 to 24\"><g transform=\"translate(0.5,200.5)\"><path class=\"background\" aria-hidden=\"true\" d=\"M0,0h0v0h0Z\" pointer-events=\"none\"/><g><g class=\"mark-rule role-axis-tick\" pointer-events=\"none\"><line transform=\"translate(0,0)\" x2=\"0\" y2=\"5\" stroke=\"#888\" stroke-width=\"1\" opacity=\"1\"/><line transform=\"translate(42,0)\" x2=\"0\" y2=\"5\" stroke=\"#888\" stroke-width=\"1\" opacity=\"1\"/><line transform=\"translate(83,0)\" x2=\"0\" y2=\"5\" stroke=\"#888\" stroke-width=\"1\" opacity=\"1\"/><line transform=\"translate(125,0)\" x2=\"0\" y2=\"5\" stroke=\"#888\" stroke-width=\"1\" opacity=\"1\"/><line transform=\"translate(167,0)\" x2=\"0\" y2=\"5\" stroke=\"#888\" stroke-width=\"1\" opacity=\"1\"/></g><g class=\"mark-text role-axis-label\" pointer-events=\"none\"><text text-anchor=\"start\" transform=\"translate(0,15)\" font-family=\"sans-serif\" font-size=\"10px\" fill=\"#000\" opacity=\"1\">0</text><text text-anchor=\"middle\" transform=\"translate(41.66666666666667,15)\" font-family=\"sans-serif\" font-size=\"10px\" fill=\"#000\" opacity=\"1\">5</text><text text-anchor=\"middle\" transform=\"translate(83.33333333333334,15)\" font-family=\"sans-serif\" font-size=\"10px\" fill=\"#000\" opacity=\"1\">10</text><text text-anchor=\"middle\" transform=\"translate(125,15)\" font-family=\"sans-serif\" font-size=\"10px\" fill=\"#000\" opacity=\"1\">15</text><text text-anchor=\"middle\" transform=\"translate(166.66666666666669,15)\" font-family=\"sans-serif\" font-size=\"10px\" fill=\"#000\" opacity=\"1\">20</text></g><g class=\"mark-rule role-axis-domain\" pointer-events=\"none\"><line transform=\"translate(0,0)\" x2=\"200\" y2=\"0\" stroke=\"#888\" stroke-width=\"1\" opacity=\"1\"/></g><g class=\"mark-text role-axis-title\" pointer-events=\"none\"><text text-anchor=\"middle\" transform=\"translate(100,30)\" font-family=\"sans-serif\" font-size=\"11px\" font-weight=\"bold\" fill=\"#000\" opacity=\"1\">hour</text></g></g><path class=\"foreground\" aria-hidden=\"true\" d=\"\" pointer-events=\"none\" display=\"none\"/></g></g><g class=\"mark-group role-axis\" role=\"graphics-symbol\" aria-roledescription=\"axis\" aria-label=\"Y-axis titled 'value_sum' for a linear scale with values from 0 to 16\"><g transform=\"translate(0.5,0.5)\"><path class=\"background\" aria-hidden=\"true\" d=\"M0,0h0v0h0Z\" pointer-events=\"none\"/><g><g class=\"mark-rule role-axis-tick\" pointer-events=\"none\"><line transform=\"translate(0,200)\" x2=\"-5\" y2=\"0\" stroke=\"#888\" stroke-width=\"1\" opacity=\"1\"/><line transform=\"translate(0,138)\" x2=\"-5\" y2=\"0\" stroke=\"#888\" stroke-width=\"1\" opacity=\"1\"/><line transform=\"translate(0,75)\" x2=\"-5\" y2=\"0\" stroke=\"#888\" stroke-width=\"1\" opacity=\"1\"/><line transform=\"translate(0,13)\" x2=\"-5\" y2=\"0\" stroke=\"#888\" stroke-width=\"1\" opacity=\"1\"/></g><g class=\"mark-text role-axis-label\" pointer-events=\"none\"><text text-anchor=\"end\" transform=\"translate(-7,203)\" font-family=\"sans-serif\" font-size=\"10px\" fill=\"#000\" opacity=\"1\">0</text><text text-anchor=\"end\" transform=\"translate(-7,140.5)\" font-family=\"sans-serif\" font-size=\"10px\" fill=\"#000\" opacity=\"1\">5</text><text text-anchor=\"end\" transform=\"translate(-7,78)\" font-family=\"sans-serif\" font-size=\"10px\" fill=\"#000\" opacity=\"1\">10</text><text text-anchor=\"end\" transform=\"translate(-7,15.5)\" font-family=\"sans-serif\" font-size=\"10px\" fill=\"#000\" opacity=\"1\">15</text></g><g class=\"mark-rule role-axis-domain\" pointer-events=\"none\"><line transform=\"translate(0,200)\" x2=\"0\" y2=\"-200\" stroke=\"#888\" stroke-width=\"1\" opacity=\"1\"/></g><g class=\"mark-text role-axis-title\" pointer-events=\"none\"><text text-anchor=\"middle\" transform=\"translate(-23.724609375,100) rotate(-90) translate(0,-2)\" font-family=\"sans-serif\" font-size=\"11px\" font-weight=\"bold\" fill=\"#000\" opacity=\"1\">value_sum</text></g></g><path class=\"foreground\" aria-hidden=\"true\" d=\"\" pointer-events=\"none\" display=\"none\"/></g></g><g class=\"mark-group role-scope pathgroup\" role=\"graphics-object\" aria-roledescription=\"group mark container\"><g transform=\"translate(0,0)\"><path class=\"background\" aria-hidden=\"true\" d=\"M0,0h200v200h-200Z\"/><g><g class=\"mark-area role-mark marks\" role=\"graphics-object\" aria-roledescription=\"area mark container\"><path aria-label=\"hour: 0; value_sum: 6; resource: natural_gas_fired_combined_cycle\" role=\"graphics-symbol\" aria-roledescription=\"area mark\" d=\"M0,125L8.333,125L16.667,125L25,125L33.333,125L41.667,112.5L50,112.5L58.333,125L66.667,150L75,150L83.333,150L91.667,150L100,150L108.333,150L116.667,150L125,150L133.333,150L141.667,150L150,50L158.333,12.5L166.667,12.5L175,37.5L183.333,87.5L191.667,112.5L191.667,175L183.333,150L175,100L166.667,75L158.333,75L150,112.5L141.667,200L133.333,200L125,200L116.667,200L108.333,200L100,200L91.667,200L83.333,200L75,200L66.667,200L58.333,200L50,187.5L41.667,187.5L33.333,200L25,200L16.667,200L8.333,200L0,200Z\" fill=\"#1f77b4\"/></g></g><path class=\"foreground\" aria-hidden=\"true\" d=\"\" display=\"none\"/></g><g transform=\"translate(0,0)\"><path class=\"background\" aria-hidden=\"true\" d=\"M0,0h200v200h-200Z\"/><g><g class=\"mark-area role-mark marks\" role=\"graphics-object\" aria-roledescription=\"area mark container\"><path aria-label=\"hour: 0; value_sum: 0; resource: natural_gas_fired_combustion_turbine\" role=\"graphics-symbol\" aria-roledescription=\"area mark\" d=\"M0,200L8.333,200L16.667,200L25,200L33.333,200L41.667,187.5L50,187.5L58.333,200L66.667,200L75,200L83.333,200L91.667,200L100,200L108.333,200L116.667,200L125,200L133.333,200L141.667,200L150,112.5L158.333,75L166.667,75L175,100L183.333,150L191.667,175L191.667,200L183.333,200L175,200L166.667,200L158.333,200L150,200L141.667,200L133.333,200L125,200L116.667,200L108.333,200L100,200L91.667,200L83.333,200L75,200L66.667,200L58.333,200L50,200L41.667,200L33.333,200L25,200L16.667,200L8.333,200L0,200Z\" fill=\"#ff7f0e\"/></g></g><path class=\"foreground\" aria-hidden=\"true\" d=\"\" display=\"none\"/></g></g><g class=\"mark-group role-legend\" role=\"graphics-symbol\" aria-roledescription=\"legend\" aria-label=\"Symbol legend titled 'resource' for fill color with 2 values: natural_gas_fired_combined_cycle, natural_gas_fired_combustion_turbine\"><g transform=\"translate(218,0)\"><path class=\"background\" aria-hidden=\"true\" d=\"M0,0h176v40h-176Z\" pointer-events=\"none\"/><g><g class=\"mark-group role-legend-entry\"><g transform=\"translate(0,16)\"><path class=\"background\" aria-hidden=\"true\" d=\"M0,0h0v0h0Z\" pointer-events=\"none\"/><g><g class=\"mark-group role-scope\" role=\"graphics-object\" aria-roledescription=\"group mark container\"><g transform=\"translate(0,0)\"><path class=\"background\" aria-hidden=\"true\" d=\"M0,0h175.5263671875v11h-175.5263671875Z\" pointer-events=\"none\" opacity=\"1\"/><g><g class=\"mark-symbol role-legend-symbol\" pointer-events=\"none\"><path transform=\"translate(6,6)\" d=\"M5,0A5,5,0,1,1,-5,0A5,5,0,1,1,5,0\" fill=\"#1f77b4\" stroke-width=\"1.5\" opacity=\"1\"/></g><g class=\"mark-text role-legend-label\" pointer-events=\"none\"><text text-anchor=\"start\" transform=\"translate(16,9)\" font-family=\"sans-serif\" font-size=\"10px\" fill=\"#000\" opacity=\"1\">natural_gas_fired_combined_…</text></g></g><path class=\"foreground\" aria-hidden=\"true\" d=\"\" pointer-events=\"none\" display=\"none\"/></g><g transform=\"translate(0,13)\"><path class=\"background\" aria-hidden=\"true\" d=\"M0,0h175.5263671875v11h-175.5263671875Z\" pointer-events=\"none\" opacity=\"1\"/><g><g class=\"mark-symbol role-legend-symbol\" pointer-events=\"none\"><path transform=\"translate(6,6)\" d=\"M5,0A5,5,0,1,1,-5,0A5,5,0,1,1,5,0\" fill=\"#ff7f0e\" stroke-width=\"1.5\" opacity=\"1\"/></g><g class=\"mark-text role-legend-label\" pointer-events=\"none\"><text text-anchor=\"start\" transform=\"translate(16,9)\" font-family=\"sans-serif\" font-size=\"10px\" fill=\"#000\" opacity=\"1\">natural_gas_fired_combustion…</text></g></g><path class=\"foreground\" aria-hidden=\"true\" d=\"\" pointer-events=\"none\" display=\"none\"/></g></g></g><path class=\"foreground\" aria-hidden=\"true\" d=\"\" pointer-events=\"none\" display=\"none\"/></g></g><g class=\"mark-text role-legend-title\" pointer-events=\"none\"><text text-anchor=\"start\" transform=\"translate(0,9)\" font-family=\"sans-serif\" font-size=\"11px\" font-weight=\"bold\" fill=\"#000\" opacity=\"1\">resource</text></g></g><path class=\"foreground\" aria-hidden=\"true\" d=\"\" pointer-events=\"none\" display=\"none\"/></g></g></g><path class=\"foreground\" aria-hidden=\"true\" d=\"\" display=\"none\"/></g></g></g></svg>"
      ],
      "text/plain": [
       "@vlplot(\n",
       "    mark=\"area\",\n",
       "    encoding={\n",
       "        x={\n",
       "            field=\"hour\"\n",
       "        },\n",
       "        y={\n",
       "            stack=\"zero\",\n",
       "            field=\"value_sum\"\n",
       "        },\n",
       "        color={\n",
       "            scale={\n",
       "                scheme=\"category10\"\n",
       "            },\n",
       "            field=\"resource\",\n",
       "            type=\"nominal\"\n",
       "        }\n",
       "    },\n",
       "    data={\n",
       "        values=...\n",
       "    }\n",
       ")"
      ]
     },
     "metadata": {},
     "output_type": "display_data"
    }
   ],
   "source": [
    "sol_commit = innerjoin(solution.commit, \n",
    "                    gen_df[!, [:r_id, :resource]], \n",
    "                    on = :r_id)\n",
    "sol_commit = combine(groupby(sol_commit, [:resource, :hour]), \n",
    "            :value => sum)\n",
    "sol_commit.hour = sol_commit.hour .- T_period[1]\n",
    "\n",
    "sol_commit |>\n",
    "@vlplot(:area, \n",
    "    x=:hour, y={:value_sum, stack=:zero}, \n",
    "    color={\"resource:n\", scale={scheme=\"category10\"}})"
   ]
  },
  {
   "cell_type": "markdown",
   "metadata": {},
   "source": [
    "A case involving more large coal or nuclear units with slower ramping limits than gas turbines or combined cycle plants might find ramp constraints more limiting. As in many cases, the impact of constraints is case dependent, and modelers must exercise some judicious application of domain knowledge (and experimentation with alternative formulations) to decide how complex your model should be to reflect important *binding* constraints that actually shape your outcomes of interest. Where constraints are non-binding or second order, it may be more practical to omit them entirely, reducing the computational intensity (solve time) of your model..."
   ]
  },
  {
   "cell_type": "markdown",
   "metadata": {},
   "source": [
    "## Unit commitment with ramping and reserves\n",
    "\n",
    "We now add spinning reserve requirements to the model. Spinning reserves refer to generation capacity that is online and able to generate (e.g., within 10-30 minutes) if needed by the system operator. (Note: in Europe, these are referred to as 'replacement reserves' or formerly 'tertiary reserves.') The SO will establish reserve requirements to maintain sufficient capacity to respond to demand or supply forecast errors or in case of \"contingencies,\" such as the unplanned and sudden loss of a generating station or a transmission line. The SO then typically operates a reserve market to competitively procure this available capacity. Most SO's actually define several classes of reserve products defined by their response time and period over which they may be activated. \n",
    "\n",
    "Here we will focus on spinning reserve requirements and establish a simple set of reserve requirements for reserves up (ability to quickly increase output) and reserves down (ability to quickly reduce output):\n",
    "\n",
    "$$\n",
    "\\begin{align}\n",
    " & ResReqUp_t = 300 MW + 5\\% \\times Demand_t  &\\forall \\quad t \\in T \\\\\n",
    " & ResReqDn_t = 5\\% \\times Demand_t & \\forall \\quad t \\in T\n",
    "\\end{align}\n",
    "$$\n",
    "\n",
    "Here, $300 MW$ is our contigency reserves, meant to ensure we have sufficient upwards ramping capability online and available to cover the unexpected loss of 300 MW worth of generation. \n",
    "\n",
    "The 5% of demand term in the constraints above is meant to provide sufficient reserves in either upwards or downwards direction to cover errors in the demand forecast. For simplicity, we ignore solar PV and wind production in our reserve calculation, though in practice, we would want to consider solar and wind forecast errors in calculating up reserve requirements as well.\n",
    "\n",
    "In our simple system, only thermal generators provide reserves. (This can be easily adjusted by changing the sets and defining the potential reserve contributions for different sets of resources differently, such as storage or hydro resources). The contribution of each generators to meeting reserves and the overall reserve constraint are thus given by:\n",
    "\n",
    "$$\n",
    "\\begin{align}\n",
    " & RESUP_{g,t} \\leq Pmax_{g,t}COMMIT_{g,t} - GEN_{g,t} & \\forall \\quad g \\in G_{thermal} , t \\in T \\\\\n",
    " & RESDN_{g,t} \\leq GEN_{g,t} - Pmin_{g,t}COMMIT_{g,t} & \\forall \\quad g \\in G_{thermal} , t \\in T \\\\\n",
    " & RESUP_{g,t} \\leq RampUp_{g} & \\forall \\quad g \\in G_{thermal}, t \\in T\\\\ \n",
    " & RESDN_{g,t} \\leq RampDn_{g} & \\forall \\quad g \\in G_{thermal}, t \\in T \\\\\n",
    " & \\sum_{g \\in G_{thermal}} RESUP_{g,t} \\geq ResReqUp_t & \\forall \\quad t \\in T \\\\\n",
    " & \\sum_{g \\in G_{thermal}} RESDN_{g,t} \\geq ResReqDn_t & \\forall \\quad t \\in T\n",
    "\\end{align}\n",
    "$$\n",
    "\n",
    "We have added two new **decision variables**:\n",
    "\n",
    "- $RESUP_{g,t}$, up-reserve capacity (in MW) of generator $g$ at time $t$\n",
    "- $RESDN_{g,t}$, down-reserve capacity (in MW) of generator $g$ at time $t$\n",
    "\n",
    "Note that in this case, we constrain the reserve contribution for each thermal generator to be the same as their hourly ramp rates, $RampUp_{g}, RampDown_{g}$. In practice, reserve products typically require a faster response time, on the order of 10-30 minutes for \"tertiary\" reserves (aka spinning reserves or contingency reserves), and 5-15 minutes for \"secondary\" reserves (regulation reserves). Thus, depending on the reserve requirements being modeled, one might specify a distinct maximum reserve contribution for each unit that reflects their ramping capabilities over shorter time periods."
   ]
  },
  {
   "cell_type": "markdown",
   "metadata": {},
   "source": [
    "<img src=\"img/reserves.png\" style=\"width: 450px; height: auto\" align=\"left\">\n",
    "\n",
    "<img src=\"img/reserves_taxonomy.png\" style=\"width: 450px; height: auto\" align=\"left\">"
   ]
  },
  {
   "cell_type": "markdown",
   "metadata": {},
   "source": [
    "### 4. Solve the model and plot results\n",
    "\n",
    "**Note: this might take a little while depending on your machine.**"
   ]
  },
  {
   "cell_type": "code",
   "execution_count": 10,
   "metadata": {},
   "outputs": [
    {
     "name": "stdout",
     "output_type": "stream",
     "text": [
      "Set parameter WLSAccessID\n",
      "Set parameter WLSSecret\n",
      "Set parameter LicenseID to value 2475843\n",
      "Academic license 2475843 - for non-commercial use only - registered to pa___@imperial.ac.uk\n",
      "Set parameter MIPGap to value 0.001\n",
      "Adding ramp constraints...\n",
      "Adding reserve constraints...\n"
     ]
    },
    {
     "name": "stdout",
     "output_type": "stream",
     "text": [
      "Set parameter MIPGap to value 0.001\n",
      "Gurobi Optimizer version 11.0.0 build v11.0.0rc2 (linux64 - \"Ubuntu 22.04.3 LTS\")\n",
      "\n",
      "CPU model: 11th Gen Intel(R) Core(TM) i7-11370H @ 3.30GHz, instruction set [SSE2|AVX|AVX2|AVX512]\n",
      "Thread count: 4 physical cores, 8 logical processors, using up to 8 threads\n",
      "\n",
      "Academic license 2475843 - for non-commercial use only - registered to pa___@imperial.ac.uk\n",
      "Optimize a model with 6692 rows, 3816 columns and 18576 nonzeros\n",
      "Model fingerprint: 0x89b245e1\n",
      "Variable types: 2232 continuous, 1584 integer (1584 binary)\n",
      "Coefficient statistics:\n",
      "  Matrix range     [1e+00, 6e+02]\n",
      "  Objective range  [5e+00, 5e+04]\n",
      "  Bounds range     [0e+00, 0e+00]\n",
      "  RHS range        [1e+00, 4e+03]\n",
      "Presolve removed 2950 rows and 692 columns\n",
      "Presolve time: 0.02s\n",
      "Presolved: 3742 rows, 3124 columns, 14768 nonzeros\n",
      "Variable types: 1584 continuous, 1540 integer (1540 binary)\n",
      "\n",
      "Root relaxation: objective 8.971854e+05, 3137 iterations, 0.03 seconds (0.04 work units)\n",
      "\n",
      "    Nodes    |    Current Node    |     Objective Bounds      |     Work\n",
      " Expl Unexpl |  Obj  Depth IntInf | Incumbent    BestBd   Gap | It/Node Time\n",
      "\n",
      "     0     0 897185.424    0   50          - 897185.424      -     -    0s\n",
      "H    0     0                    916706.33102 897185.424  2.13%     -    0s\n",
      "H    0     0                    911718.70211 897298.779  1.58%     -    0s\n",
      "     0     0 897605.106    0   87 911718.702 897605.106  1.55%     -    0s\n",
      "     0     0 897769.190    0   87 911718.702 897769.190  1.53%     -    0s\n",
      "     0     0 897855.997    0   87 911718.702 897855.997  1.52%     -    0s\n",
      "     0     0 898576.270    0   86 911718.702 898576.270  1.44%     -    0s\n",
      "     0     0 898711.001    0   94 911718.702 898711.001  1.43%     -    0s\n",
      "     0     0 898759.679    0   98 911718.702 898759.679  1.42%     -    0s\n",
      "     0     0 898802.807    0  142 911718.702 898802.807  1.42%     -    0s\n",
      "     0     0 898846.233    0  124 911718.702 898846.233  1.41%     -    0s\n",
      "     0     0 898846.233    0  123 911718.702 898846.233  1.41%     -    0s\n",
      "H    0     0                    902842.10237 898846.233  0.44%     -    0s\n",
      "     0     0 898846.233    0  138 902842.102 898846.233  0.44%     -    0s\n",
      "     0     0 898922.713    0  138 902842.102 898922.713  0.43%     -    0s\n",
      "     0     2 898974.783    0  138 902842.102 898974.783  0.43%     -    0s\n",
      "H  212   189                    902829.68927 899728.889  0.34%   9.5    0s\n",
      "H  343   246                    902630.50310 899826.917  0.31%   8.4    0s\n",
      "H  360   255                    902483.78311 899826.917  0.29%   8.2    0s\n",
      "H  376   254                    902422.15562 899826.917  0.29%   7.9    0s\n",
      "H  471   312                    902225.98613 899964.354  0.25%   7.6    0s\n",
      "H  588   293                    901795.06920 899964.354  0.20%   7.4    0s\n",
      "H  688   342                    901788.50748 900085.620  0.19%   7.6    1s\n",
      "H 1278   588                    901777.15065 900319.034  0.16%   8.5    1s\n",
      "H 1280   563                    901709.29443 900319.034  0.15%   8.5    1s\n",
      "\n",
      "Cutting planes:\n",
      "  Gomory: 13\n",
      "  Cover: 3\n",
      "  MIR: 11\n",
      "  StrongCG: 4\n",
      "  Flow cover: 23\n",
      "  GUB cover: 1\n",
      "  Inf proof: 3\n",
      "  RLT: 1\n",
      "\n",
      "Explored 1893 nodes (23517 simplex iterations) in 2.14 seconds (2.32 work units)\n",
      "Thread count was 8 (of 8 available processors)\n",
      "\n",
      "Solution count 10: 901709 901777 901789 ... 902842\n",
      "\n",
      "Optimal solution found (tolerance 1.00e-03)\n",
      "Best objective 9.017092944345e+05, best bound 9.008387198088e+05, gap 0.0965%\n",
      "\n",
      "User-callback calls 4845, time in user-callback 0.00 sec\n"
     ]
    },
    {
     "data": {
      "text/plain": [
       "(gen = \u001b[1m648×3 DataFrame\u001b[0m\n",
       "\u001b[1m Row \u001b[0m│\u001b[1m r_id   \u001b[0m\u001b[1m hour  \u001b[0m\u001b[1m value     \u001b[0m\n",
       "     │\u001b[90m Int64? \u001b[0m\u001b[90m Int64 \u001b[0m\u001b[90m Float64   \u001b[0m\n",
       "─────┼──────────────────────────\n",
       "   1 │      1   2401   21.4\n",
       "   2 │      2   2401   42.0\n",
       "   3 │      3   2401  320.741\n",
       "   4 │      4   2401   16.5\n",
       "   5 │      5   2401   24.7\n",
       "   6 │      6   2401  570.0\n",
       "   7 │      7   2401  149.856\n",
       "   8 │      8   2401  149.856\n",
       "  ⋮  │   ⋮       ⋮        ⋮\n",
       " 642 │     27   2424    0.0\n",
       " 643 │     28   2424    0.0\n",
       " 644 │     29   2424    0.0\n",
       " 645 │     30   2424    0.0\n",
       " 646 │     31   2424  144.421\n",
       " 647 │     32   2424    3.18493\n",
       " 648 │     33   2424    0.0\n",
       "\u001b[36m                633 rows omitted\u001b[0m, commit = \u001b[1m528×3 DataFrame\u001b[0m\n",
       "\u001b[1m Row \u001b[0m│\u001b[1m r_id   \u001b[0m\u001b[1m hour  \u001b[0m\u001b[1m value   \u001b[0m\n",
       "     │\u001b[90m Int64? \u001b[0m\u001b[90m Int64 \u001b[0m\u001b[90m Float64 \u001b[0m\n",
       "─────┼────────────────────────\n",
       "   1 │      3   2401      1.0\n",
       "   2 │      4   2401      1.0\n",
       "   3 │      5   2401      1.0\n",
       "   4 │      6   2401      1.0\n",
       "   5 │      7   2401      1.0\n",
       "   6 │      8   2401      1.0\n",
       "   7 │      9   2401      0.0\n",
       "   8 │     10   2401      0.0\n",
       "  ⋮  │   ⋮       ⋮       ⋮\n",
       " 522 │     24   2424      1.0\n",
       " 523 │     25   2424      1.0\n",
       " 524 │     26   2424      0.0\n",
       " 525 │     27   2424      0.0\n",
       " 526 │     28   2424      0.0\n",
       " 527 │     29   2424      0.0\n",
       " 528 │     30   2424      0.0\n",
       "\u001b[36m              513 rows omitted\u001b[0m, curtail = \u001b[1m72×3 DataFrame\u001b[0m\n",
       "\u001b[1m Row \u001b[0m│\u001b[1m r_id   \u001b[0m\u001b[1m hour  \u001b[0m\u001b[1m value       \u001b[0m\n",
       "     │\u001b[90m Int64? \u001b[0m\u001b[90m Int64 \u001b[0m\u001b[90m Float64     \u001b[0m\n",
       "─────┼────────────────────────────\n",
       "   1 │     31   2401  0.0\n",
       "   2 │     32   2401  0.0\n",
       "   3 │     33   2401  0.0\n",
       "   4 │     31   2402  0.0\n",
       "   5 │     32   2402  0.0\n",
       "   6 │     33   2402  0.0\n",
       "   7 │     31   2403  0.0\n",
       "   8 │     32   2403  0.0\n",
       "  ⋮  │   ⋮       ⋮         ⋮\n",
       "  66 │     33   2422  0.0\n",
       "  67 │     31   2423  0.0\n",
       "  68 │     32   2423  0.0\n",
       "  69 │     33   2423  0.0\n",
       "  70 │     31   2424  0.0\n",
       "  71 │     32   2424  0.0\n",
       "  72 │     33   2424  0.0\n",
       "\u001b[36m                   57 rows omitted\u001b[0m, _ = 901709.2944345383, __ = MathOptInterface.OPTIMAL)"
      ]
     },
     "metadata": {},
     "output_type": "display_data"
    }
   ],
   "source": [
    "reserve = DataFrame(\n",
    "    hour = loads[in.(loads.hour,Ref(T_period)),:hour],\n",
    "    up = 300 .+ loads[in.(loads.hour,Ref(T_period)),:demand].*0.05,\n",
    "    down = loads[in.(loads.hour,Ref(T_period)),:demand].*0.05)\n",
    "solution = solve_unit_commitment(\n",
    "    gen_df_sens,\n",
    "    loads_multi,\n",
    "    gen_variable_multi,\n",
    "    0.001,\n",
    "    ramp_constraints = true,\n",
    "    reserve = reserve)"
   ]
  },
  {
   "cell_type": "code",
   "execution_count": 11,
   "metadata": {},
   "outputs": [
    {
     "data": {
      "application/vnd.vegalite.v5+json": {
       "data": {
        "values": [
         {
          "hour": 0,
          "resource": "biomass",
          "value_sum": 21.4
         },
         {
          "hour": 0,
          "resource": "hydroelectric_pumped_storage",
          "value_sum": 42
         },
         {
          "hour": 0,
          "resource": "natural_gas_fired_combined_cycle",
          "value_sum": 1231.652768
         },
         {
          "hour": 0,
          "resource": "natural_gas_fired_combustion_turbine",
          "value_sum": 153.45350000000002
         },
         {
          "hour": 0,
          "resource": "_onshore_wind_turbine",
          "value_sum": 163.3088
         },
         {
          "hour": 0,
          "resource": "_small_hydroelectric",
          "value_sum": 3.184932
         },
         {
          "hour": 0,
          "resource": "_solar_photovoltaic",
          "value_sum": 0
         },
         {
          "hour": 1,
          "resource": "biomass",
          "value_sum": 21.4
         },
         {
          "hour": 1,
          "resource": "hydroelectric_pumped_storage",
          "value_sum": 42
         },
         {
          "hour": 1,
          "resource": "natural_gas_fired_combined_cycle",
          "value_sum": 1163.168288
         },
         {
          "hour": 1,
          "resource": "natural_gas_fired_combustion_turbine",
          "value_sum": 153.45350000000002
         },
         {
          "hour": 1,
          "resource": "_onshore_wind_turbine",
          "value_sum": 169.79327999999998
         },
         {
          "hour": 1,
          "resource": "_small_hydroelectric",
          "value_sum": 3.184932
         },
         {
          "hour": 1,
          "resource": "_solar_photovoltaic",
          "value_sum": 0
         },
         {
          "hour": 2,
          "resource": "biomass",
          "value_sum": 21.4
         },
         {
          "hour": 2,
          "resource": "hydroelectric_pumped_storage",
          "value_sum": 42
         },
         {
          "hour": 2,
          "resource": "natural_gas_fired_combined_cycle",
          "value_sum": 1182.851168
         },
         {
          "hour": 2,
          "resource": "natural_gas_fired_combustion_turbine",
          "value_sum": 153.45350000000002
         },
         {
          "hour": 2,
          "resource": "_onshore_wind_turbine",
          "value_sum": 115.1104
         },
         {
          "hour": 2,
          "resource": "_small_hydroelectric",
          "value_sum": 3.184932
         },
         {
          "hour": 2,
          "resource": "_solar_photovoltaic",
          "value_sum": 0
         },
         {
          "hour": 3,
          "resource": "biomass",
          "value_sum": 21.4
         },
         {
          "hour": 3,
          "resource": "hydroelectric_pumped_storage",
          "value_sum": 42
         },
         {
          "hour": 3,
          "resource": "natural_gas_fired_combined_cycle",
          "value_sum": 1241.408608
         },
         {
          "hour": 3,
          "resource": "natural_gas_fired_combustion_turbine",
          "value_sum": 153.45350000000002
         },
         {
          "hour": 3,
          "resource": "_onshore_wind_turbine",
          "value_sum": 100.55296
         },
         {
          "hour": 3,
          "resource": "_small_hydroelectric",
          "value_sum": 3.184931999999989
         },
         {
          "hour": 3,
          "resource": "_solar_photovoltaic",
          "value_sum": 0
         },
         {
          "hour": 4,
          "resource": "biomass",
          "value_sum": 21.4
         },
         {
          "hour": 4,
          "resource": "hydroelectric_pumped_storage",
          "value_sum": 42
         },
         {
          "hour": 4,
          "resource": "natural_gas_fired_combined_cycle",
          "value_sum": 1432.384288
         },
         {
          "hour": 4,
          "resource": "natural_gas_fired_combustion_turbine",
          "value_sum": 153.45350000000002
         },
         {
          "hour": 4,
          "resource": "_onshore_wind_turbine",
          "value_sum": 80.57728
         },
         {
          "hour": 4,
          "resource": "_small_hydroelectric",
          "value_sum": 3.184932
         },
         {
          "hour": 4,
          "resource": "_solar_photovoltaic",
          "value_sum": 0
         },
         {
          "hour": 5,
          "resource": "biomass",
          "value_sum": 21.4
         },
         {
          "hour": 5,
          "resource": "hydroelectric_pumped_storage",
          "value_sum": 42
         },
         {
          "hour": 5,
          "resource": "natural_gas_fired_combined_cycle",
          "value_sum": 1616.7846080000002
         },
         {
          "hour": 5,
          "resource": "natural_gas_fired_combustion_turbine",
          "value_sum": 153.45350000000002
         },
         {
          "hour": 5,
          "resource": "_onshore_wind_turbine",
          "value_sum": 139.17695999999998
         },
         {
          "hour": 5,
          "resource": "_small_hydroelectric",
          "value_sum": 3.184932
         },
         {
          "hour": 5,
          "resource": "_solar_photovoltaic",
          "value_sum": 0
         },
         {
          "hour": 6,
          "resource": "biomass",
          "value_sum": 21.4
         },
         {
          "hour": 6,
          "resource": "hydroelectric_pumped_storage",
          "value_sum": 42
         },
         {
          "hour": 6,
          "resource": "natural_gas_fired_combined_cycle",
          "value_sum": 1786.231728
         },
         {
          "hour": 6,
          "resource": "natural_gas_fired_combustion_turbine",
          "value_sum": 153.45350000000002
         },
         {
          "hour": 6,
          "resource": "_onshore_wind_turbine",
          "value_sum": 74.17984
         },
         {
          "hour": 6,
          "resource": "_small_hydroelectric",
          "value_sum": 3.184932
         },
         {
          "hour": 6,
          "resource": "_solar_photovoltaic",
          "value_sum": 193.55
         },
         {
          "hour": 7,
          "resource": "biomass",
          "value_sum": 21.4
         },
         {
          "hour": 7,
          "resource": "hydroelectric_pumped_storage",
          "value_sum": 42
         },
         {
          "hour": 7,
          "resource": "natural_gas_fired_combined_cycle",
          "value_sum": 1621.4961279999998
         },
         {
          "hour": 7,
          "resource": "natural_gas_fired_combustion_turbine",
          "value_sum": 85.69550000000001
         },
         {
          "hour": 7,
          "resource": "_onshore_wind_turbine",
          "value_sum": 49.373439999999995
         },
         {
          "hour": 7,
          "resource": "_small_hydroelectric",
          "value_sum": 3.184932
         },
         {
          "hour": 7,
          "resource": "_solar_photovoltaic",
          "value_sum": 773.85
         },
         {
          "hour": 8,
          "resource": "biomass",
          "value_sum": 21.4
         },
         {
          "hour": 8,
          "resource": "hydroelectric_pumped_storage",
          "value_sum": 42
         },
         {
          "hour": 8,
          "resource": "natural_gas_fired_combined_cycle",
          "value_sum": 879.169408
         },
         {
          "hour": 8,
          "resource": "natural_gas_fired_combustion_turbine",
          "value_sum": 53.289500000000004
         },
         {
          "hour": 8,
          "resource": "_onshore_wind_turbine",
          "value_sum": 167.35616
         },
         {
          "hour": 8,
          "resource": "_small_hydroelectric",
          "value_sum": 3.184932
         },
         {
          "hour": 8,
          "resource": "_solar_photovoltaic",
          "value_sum": 1671.6
         },
         {
          "hour": 9,
          "resource": "biomass",
          "value_sum": 21.399999999999544
         },
         {
          "hour": 9,
          "resource": "hydroelectric_pumped_storage",
          "value_sum": 42
         },
         {
          "hour": 9,
          "resource": "natural_gas_fired_combined_cycle",
          "value_sum": 788.9224080000004
         },
         {
          "hour": 9,
          "resource": "natural_gas_fired_combustion_turbine",
          "value_sum": 20.981699999999996
         },
         {
          "hour": 9,
          "resource": "_onshore_wind_turbine",
          "value_sum": 131.56096
         },
         {
          "hour": 9,
          "resource": "_small_hydroelectric",
          "value_sum": 3.184932
         },
         {
          "hour": 9,
          "resource": "_solar_photovoltaic",
          "value_sum": 2014.95
         },
         {
          "hour": 10,
          "resource": "biomass",
          "value_sum": 21.4
         },
         {
          "hour": 10,
          "resource": "hydroelectric_pumped_storage",
          "value_sum": 42
         },
         {
          "hour": 10,
          "resource": "natural_gas_fired_combined_cycle",
          "value_sum": 812.5897679999997
         },
         {
          "hour": 10,
          "resource": "natural_gas_fired_combustion_turbine",
          "value_sum": 20.981699999999996
         },
         {
          "hour": 10,
          "resource": "_onshore_wind_turbine",
          "value_sum": 111.1936
         },
         {
          "hour": 10,
          "resource": "_small_hydroelectric",
          "value_sum": 3.184932
         },
         {
          "hour": 10,
          "resource": "_solar_photovoltaic",
          "value_sum": 2113.65
         },
         {
          "hour": 11,
          "resource": "biomass",
          "value_sum": 21.4
         },
         {
          "hour": 11,
          "resource": "hydroelectric_pumped_storage",
          "value_sum": 42
         },
         {
          "hour": 11,
          "resource": "natural_gas_fired_combined_cycle",
          "value_sum": 655.6549879999999
         },
         {
          "hour": 11,
          "resource": "natural_gas_fired_combustion_turbine",
          "value_sum": 0
         },
         {
          "hour": 11,
          "resource": "_onshore_wind_turbine",
          "value_sum": 92.11008
         },
         {
          "hour": 11,
          "resource": "_small_hydroelectric",
          "value_sum": 3.184932
         },
         {
          "hour": 11,
          "resource": "_solar_photovoltaic",
          "value_sum": 2148.65
         },
         {
          "hour": 12,
          "resource": "biomass",
          "value_sum": 0
         },
         {
          "hour": 12,
          "resource": "hydroelectric_pumped_storage",
          "value_sum": 0
         },
         {
          "hour": 12,
          "resource": "natural_gas_fired_combined_cycle",
          "value_sum": 598.1902
         },
         {
          "hour": 12,
          "resource": "natural_gas_fired_combustion_turbine",
          "value_sum": 0
         },
         {
          "hour": 12,
          "resource": "_onshore_wind_turbine",
          "value_sum": 0
         },
         {
          "hour": 12,
          "resource": "_small_hydroelectric",
          "value_sum": 0
         },
         {
          "hour": 12,
          "resource": "_solar_photovoltaic",
          "value_sum": 2144.809800000001
         },
         {
          "hour": 13,
          "resource": "biomass",
          "value_sum": 0
         },
         {
          "hour": 13,
          "resource": "hydroelectric_pumped_storage",
          "value_sum": 0
         },
         {
          "hour": 13,
          "resource": "natural_gas_fired_combined_cycle",
          "value_sum": 594.3402
         },
         {
          "hour": 13,
          "resource": "natural_gas_fired_combustion_turbine",
          "value_sum": 0
         },
         {
          "hour": 13,
          "resource": "_onshore_wind_turbine",
          "value_sum": 0
         },
         {
          "hour": 13,
          "resource": "_small_hydroelectric",
          "value_sum": 0
         },
         {
          "hour": 13,
          "resource": "_solar_photovoltaic",
          "value_sum": 2071.6598000000013
         },
         {
          "hour": 14,
          "resource": "biomass",
          "value_sum": 0
         },
         {
          "hour": 14,
          "resource": "hydroelectric_pumped_storage",
          "value_sum": 0
         },
         {
          "hour": 14,
          "resource": "natural_gas_fired_combined_cycle",
          "value_sum": 589.9402
         },
         {
          "hour": 14,
          "resource": "natural_gas_fired_combustion_turbine",
          "value_sum": 0
         },
         {
          "hour": 14,
          "resource": "_onshore_wind_turbine",
          "value_sum": 0
         },
         {
          "hour": 14,
          "resource": "_small_hydroelectric",
          "value_sum": 0
         },
         {
          "hour": 14,
          "resource": "_solar_photovoltaic",
          "value_sum": 1988.0598000000002
         },
         {
          "hour": 15,
          "resource": "biomass",
          "value_sum": 0
         },
         {
          "hour": 15,
          "resource": "hydroelectric_pumped_storage",
          "value_sum": 0
         },
         {
          "hour": 15,
          "resource": "natural_gas_fired_combined_cycle",
          "value_sum": 585.1401999999999
         },
         {
          "hour": 15,
          "resource": "natural_gas_fired_combustion_turbine",
          "value_sum": 0
         },
         {
          "hour": 15,
          "resource": "_onshore_wind_turbine",
          "value_sum": 0
         },
         {
          "hour": 15,
          "resource": "_small_hydroelectric",
          "value_sum": 0
         },
         {
          "hour": 15,
          "resource": "_solar_photovoltaic",
          "value_sum": 1896.8598000000002
         },
         {
          "hour": 16,
          "resource": "biomass",
          "value_sum": 21.4
         },
         {
          "hour": 16,
          "resource": "hydroelectric_pumped_storage",
          "value_sum": 42
         },
         {
          "hour": 16,
          "resource": "natural_gas_fired_combined_cycle",
          "value_sum": 660.9297880000001
         },
         {
          "hour": 16,
          "resource": "natural_gas_fired_combustion_turbine",
          "value_sum": 0
         },
         {
          "hour": 16,
          "resource": "_onshore_wind_turbine",
          "value_sum": 57.18527999999999
         },
         {
          "hour": 16,
          "resource": "_small_hydroelectric",
          "value_sum": 3.184932
         },
         {
          "hour": 16,
          "resource": "_solar_photovoltaic",
          "value_sum": 1637.3
         },
         {
          "hour": 17,
          "resource": "biomass",
          "value_sum": 21.4
         },
         {
          "hour": 17,
          "resource": "hydroelectric_pumped_storage",
          "value_sum": 42
         },
         {
          "hour": 17,
          "resource": "natural_gas_fired_combined_cycle",
          "value_sum": 1096.1961880000003
         },
         {
          "hour": 17,
          "resource": "natural_gas_fired_combustion_turbine",
          "value_sum": 0
         },
         {
          "hour": 17,
          "resource": "_onshore_wind_turbine",
          "value_sum": 78.61887999999999
         },
         {
          "hour": 17,
          "resource": "_small_hydroelectric",
          "value_sum": 3.184932
         },
         {
          "hour": 17,
          "resource": "_solar_photovoltaic",
          "value_sum": 1132.6
         },
         {
          "hour": 18,
          "resource": "biomass",
          "value_sum": 21.4
         },
         {
          "hour": 18,
          "resource": "hydroelectric_pumped_storage",
          "value_sum": 42
         },
         {
          "hour": 18,
          "resource": "natural_gas_fired_combined_cycle",
          "value_sum": 1592.5
         },
         {
          "hour": 18,
          "resource": "natural_gas_fired_combustion_turbine",
          "value_sum": 499.349388
         },
         {
          "hour": 18,
          "resource": "_onshore_wind_turbine",
          "value_sum": 52.61568
         },
         {
          "hour": 18,
          "resource": "_small_hydroelectric",
          "value_sum": 3.184932
         },
         {
          "hour": 18,
          "resource": "_solar_photovoltaic",
          "value_sum": 166.95
         },
         {
          "hour": 19,
          "resource": "biomass",
          "value_sum": 21.4
         },
         {
          "hour": 19,
          "resource": "hydroelectric_pumped_storage",
          "value_sum": 42
         },
         {
          "hour": 19,
          "resource": "natural_gas_fired_combined_cycle",
          "value_sum": 1592.5
         },
         {
          "hour": 19,
          "resource": "natural_gas_fired_combustion_turbine",
          "value_sum": 780.4865879999999
         },
         {
          "hour": 19,
          "resource": "_onshore_wind_turbine",
          "value_sum": 61.42848
         },
         {
          "hour": 19,
          "resource": "_small_hydroelectric",
          "value_sum": 3.1849320000000105
         },
         {
          "hour": 19,
          "resource": "_solar_photovoltaic",
          "value_sum": 0
         },
         {
          "hour": 20,
          "resource": "biomass",
          "value_sum": 21.4
         },
         {
          "hour": 20,
          "resource": "hydroelectric_pumped_storage",
          "value_sum": 42
         },
         {
          "hour": 20,
          "resource": "natural_gas_fired_combined_cycle",
          "value_sum": 1592.5
         },
         {
          "hour": 20,
          "resource": "natural_gas_fired_combustion_turbine",
          "value_sum": 774.9982679999998
         },
         {
          "hour": 20,
          "resource": "_onshore_wind_turbine",
          "value_sum": 71.9168
         },
         {
          "hour": 20,
          "resource": "_small_hydroelectric",
          "value_sum": 3.184932
         },
         {
          "hour": 20,
          "resource": "_solar_photovoltaic",
          "value_sum": 0
         },
         {
          "hour": 21,
          "resource": "biomass",
          "value_sum": 21.4
         },
         {
          "hour": 21,
          "resource": "hydroelectric_pumped_storage",
          "value_sum": 42
         },
         {
          "hour": 21,
          "resource": "natural_gas_fired_combined_cycle",
          "value_sum": 1592.5
         },
         {
          "hour": 21,
          "resource": "natural_gas_fired_combustion_turbine",
          "value_sum": 502.8664279999998
         },
         {
          "hour": 21,
          "resource": "_onshore_wind_turbine",
          "value_sum": 96.04864
         },
         {
          "hour": 21,
          "resource": "_small_hydroelectric",
          "value_sum": 3.184932
         },
         {
          "hour": 21,
          "resource": "_solar_photovoltaic",
          "value_sum": 0
         },
         {
          "hour": 22,
          "resource": "biomass",
          "value_sum": 21.4
         },
         {
          "hour": 22,
          "resource": "hydroelectric_pumped_storage",
          "value_sum": 42
         },
         {
          "hour": 22,
          "resource": "natural_gas_fired_combined_cycle",
          "value_sum": 1569.806448
         },
         {
          "hour": 22,
          "resource": "natural_gas_fired_combustion_turbine",
          "value_sum": 225.1395
         },
         {
          "hour": 22,
          "resource": "_onshore_wind_turbine",
          "value_sum": 126.46912
         },
         {
          "hour": 22,
          "resource": "_small_hydroelectric",
          "value_sum": 3.184932
         },
         {
          "hour": 22,
          "resource": "_solar_photovoltaic",
          "value_sum": 0
         },
         {
          "hour": 23,
          "resource": "biomass",
          "value_sum": 21.4
         },
         {
          "hour": 23,
          "resource": "hydroelectric_pumped_storage",
          "value_sum": 42
         },
         {
          "hour": 23,
          "resource": "natural_gas_fired_combined_cycle",
          "value_sum": 1429.910448
         },
         {
          "hour": 23,
          "resource": "natural_gas_fired_combustion_turbine",
          "value_sum": 119.08350000000002
         },
         {
          "hour": 23,
          "resource": "_onshore_wind_turbine",
          "value_sum": 144.42111999999997
         },
         {
          "hour": 23,
          "resource": "_small_hydroelectric",
          "value_sum": 3.184932
         },
         {
          "hour": 23,
          "resource": "_solar_photovoltaic",
          "value_sum": 0
         },
         {
          "hour": 0,
          "resource": "_solar_photovoltaic_btm",
          "value_sum": 0
         },
         {
          "hour": 1,
          "resource": "_solar_photovoltaic_btm",
          "value_sum": 0
         },
         {
          "hour": 2,
          "resource": "_solar_photovoltaic_btm",
          "value_sum": 0
         },
         {
          "hour": 3,
          "resource": "_solar_photovoltaic_btm",
          "value_sum": 0
         },
         {
          "hour": 4,
          "resource": "_solar_photovoltaic_btm",
          "value_sum": 0
         },
         {
          "hour": 5,
          "resource": "_solar_photovoltaic_btm",
          "value_sum": 0
         },
         {
          "hour": 6,
          "resource": "_solar_photovoltaic_btm",
          "value_sum": 33.18
         },
         {
          "hour": 7,
          "resource": "_solar_photovoltaic_btm",
          "value_sum": 132.66
         },
         {
          "hour": 8,
          "resource": "_solar_photovoltaic_btm",
          "value_sum": 286.56
         },
         {
          "hour": 9,
          "resource": "_solar_photovoltaic_btm",
          "value_sum": 345.42
         },
         {
          "hour": 10,
          "resource": "_solar_photovoltaic_btm",
          "value_sum": 362.34
         },
         {
          "hour": 11,
          "resource": "_solar_photovoltaic_btm",
          "value_sum": 368.34
         },
         {
          "hour": 12,
          "resource": "_solar_photovoltaic_btm",
          "value_sum": 386.76
         },
         {
          "hour": 13,
          "resource": "_solar_photovoltaic_btm",
          "value_sum": 387.29999999999995
         },
         {
          "hour": 14,
          "resource": "_solar_photovoltaic_btm",
          "value_sum": 374.46
         },
         {
          "hour": 15,
          "resource": "_solar_photovoltaic_btm",
          "value_sum": 341.7
         },
         {
          "hour": 16,
          "resource": "_solar_photovoltaic_btm",
          "value_sum": 280.68
         },
         {
          "hour": 17,
          "resource": "_solar_photovoltaic_btm",
          "value_sum": 194.16
         },
         {
          "hour": 18,
          "resource": "_solar_photovoltaic_btm",
          "value_sum": 28.62
         },
         {
          "hour": 19,
          "resource": "_solar_photovoltaic_btm",
          "value_sum": 0
         },
         {
          "hour": 20,
          "resource": "_solar_photovoltaic_btm",
          "value_sum": 0
         },
         {
          "hour": 21,
          "resource": "_solar_photovoltaic_btm",
          "value_sum": 0
         },
         {
          "hour": 22,
          "resource": "_solar_photovoltaic_btm",
          "value_sum": 0
         },
         {
          "hour": 23,
          "resource": "_solar_photovoltaic_btm",
          "value_sum": 0
         },
         {
          "hour": 0,
          "resource": "_curtailment",
          "value_sum": 0
         },
         {
          "hour": 1,
          "resource": "_curtailment",
          "value_sum": 0
         },
         {
          "hour": 2,
          "resource": "_curtailment",
          "value_sum": 0
         },
         {
          "hour": 3,
          "resource": "_curtailment",
          "value_sum": 1.0658141036401503e-14
         },
         {
          "hour": 4,
          "resource": "_curtailment",
          "value_sum": 0
         },
         {
          "hour": 5,
          "resource": "_curtailment",
          "value_sum": 0
         },
         {
          "hour": 6,
          "resource": "_curtailment",
          "value_sum": 0
         },
         {
          "hour": 7,
          "resource": "_curtailment",
          "value_sum": 0
         },
         {
          "hour": 8,
          "resource": "_curtailment",
          "value_sum": 2.2737367544323206e-13
         },
         {
          "hour": 9,
          "resource": "_curtailment",
          "value_sum": 0
         },
         {
          "hour": 10,
          "resource": "_curtailment",
          "value_sum": 0
         },
         {
          "hour": 11,
          "resource": "_curtailment",
          "value_sum": 0
         },
         {
          "hour": 12,
          "resource": "_curtailment",
          "value_sum": 166.568571999999
         },
         {
          "hour": 13,
          "resource": "_curtailment",
          "value_sum": 255.46761199999872
         },
         {
          "hour": 14,
          "resource": "_curtailment",
          "value_sum": 248.69625199999967
         },
         {
          "hour": 15,
          "resource": "_curtailment",
          "value_sum": 164.9856919999998
         },
         {
          "hour": 16,
          "resource": "_curtailment",
          "value_sum": 0
         },
         {
          "hour": 17,
          "resource": "_curtailment",
          "value_sum": 1.4210854715202004e-14
         },
         {
          "hour": 18,
          "resource": "_curtailment",
          "value_sum": 0
         },
         {
          "hour": 19,
          "resource": "_curtailment",
          "value_sum": -1.0658141036401503e-14
         },
         {
          "hour": 20,
          "resource": "_curtailment",
          "value_sum": 0
         },
         {
          "hour": 21,
          "resource": "_curtailment",
          "value_sum": 0
         },
         {
          "hour": 22,
          "resource": "_curtailment",
          "value_sum": 0
         },
         {
          "hour": 23,
          "resource": "_curtailment",
          "value_sum": 0
         }
        ]
       },
       "encoding": {
        "color": {
         "field": "resource",
         "scale": {
          "scheme": "category10"
         },
         "type": "nominal"
        },
        "x": {
         "field": "hour",
         "type": "quantitative"
        },
        "y": {
         "field": "value_sum",
         "stack": "zero",
         "type": "quantitative"
        }
       },
       "mark": "area"
      },
      "image/png": "[encoded data removed]",
      "image/svg+xml": [
       "<svg xmlns=\"http://www.w3.org/2000/svg\" xmlns:xlink=\"http://www.w3.org/1999/xlink\" version=\"1.1\" class=\"marks\" width=\"455\" height=\"242\" viewBox=\"0 0 455 242\"><rect width=\"455\" height=\"242\" fill=\"white\"/><g fill=\"none\" stroke-miterlimit=\"10\" transform=\"translate(56,5)\"><g class=\"mark-group role-frame root\" role=\"graphics-object\" aria-roledescription=\"group mark container\"><g transform=\"translate(0,0)\"><path class=\"background\" aria-hidden=\"true\" d=\"M0.5,0.5h200v200h-200Z\" stroke=\"#ddd\"/><g><g class=\"mark-group role-axis\" aria-hidden=\"true\"><g transform=\"translate(0.5,200.5)\"><path class=\"background\" aria-hidden=\"true\" d=\"M0,0h0v0h0Z\" pointer-events=\"none\"/><g><g class=\"mark-rule role-axis-grid\" pointer-events=\"none\"><line transform=\"translate(0,-200)\" x2=\"0\" y2=\"200\" stroke=\"#ddd\" stroke-width=\"1\" opacity=\"1\"/><line transform=\"translate(42,-200)\" x2=\"0\" y2=\"200\" stroke=\"#ddd\" stroke-width=\"1\" opacity=\"1\"/><line transform=\"translate(83,-200)\" x2=\"0\" y2=\"200\" stroke=\"#ddd\" stroke-width=\"1\" opacity=\"1\"/><line transform=\"translate(125,-200)\" x2=\"0\" y2=\"200\" stroke=\"#ddd\" stroke-width=\"1\" opacity=\"1\"/><line transform=\"translate(167,-200)\" x2=\"0\" y2=\"200\" stroke=\"#ddd\" stroke-width=\"1\" opacity=\"1\"/></g></g><path class=\"foreground\" aria-hidden=\"true\" d=\"\" pointer-events=\"none\" display=\"none\"/></g></g><g class=\"mark-group role-axis\" aria-hidden=\"true\"><g transform=\"translate(0.5,0.5)\"><path class=\"background\" aria-hidden=\"true\" d=\"M0,0h0v0h0Z\" pointer-events=\"none\"/><g><g class=\"mark-rule role-axis-grid\" pointer-events=\"none\"><line transform=\"translate(0,175)\" x2=\"200\" y2=\"0\" stroke=\"#ddd\" stroke-width=\"1\" opacity=\"1\"/><line transform=\"translate(0,125)\" x2=\"200\" y2=\"0\" stroke=\"#ddd\" stroke-width=\"1\" opacity=\"1\"/><line transform=\"translate(0,75)\" x2=\"200\" y2=\"0\" stroke=\"#ddd\" stroke-width=\"1\" opacity=\"1\"/><line transform=\"translate(0,25)\" x2=\"200\" y2=\"0\" stroke=\"#ddd\" stroke-width=\"1\" opacity=\"1\"/></g></g><path class=\"foreground\" aria-hidden=\"true\" d=\"\" pointer-events=\"none\" display=\"none\"/></g></g><g class=\"mark-group role-axis\" role=\"graphics-symbol\" aria-roledescription=\"axis\" aria-label=\"X-axis titled 'hour' for a linear scale with values from 0 to 24\"><g transform=\"translate(0.5,200.5)\"><path class=\"background\" aria-hidden=\"true\" d=\"M0,0h0v0h0Z\" pointer-events=\"none\"/><g><g class=\"mark-rule role-axis-tick\" pointer-events=\"none\"><line transform=\"translate(0,0)\" x2=\"0\" y2=\"5\" stroke=\"#888\" stroke-width=\"1\" opacity=\"1\"/><line transform=\"translate(42,0)\" x2=\"0\" y2=\"5\" stroke=\"#888\" stroke-width=\"1\" opacity=\"1\"/><line transform=\"translate(83,0)\" x2=\"0\" y2=\"5\" stroke=\"#888\" stroke-width=\"1\" opacity=\"1\"/><line transform=\"translate(125,0)\" x2=\"0\" y2=\"5\" stroke=\"#888\" stroke-width=\"1\" opacity=\"1\"/><line transform=\"translate(167,0)\" x2=\"0\" y2=\"5\" stroke=\"#888\" stroke-width=\"1\" opacity=\"1\"/></g><g class=\"mark-text role-axis-label\" pointer-events=\"none\"><text text-anchor=\"start\" transform=\"translate(0,15)\" font-family=\"sans-serif\" font-size=\"10px\" fill=\"#000\" opacity=\"1\">0</text><text text-anchor=\"middle\" transform=\"translate(41.66666666666667,15)\" font-family=\"sans-serif\" font-size=\"10px\" fill=\"#000\" opacity=\"1\">5</text><text text-anchor=\"middle\" transform=\"translate(83.33333333333334,15)\" font-family=\"sans-serif\" font-size=\"10px\" fill=\"#000\" opacity=\"1\">10</text><text text-anchor=\"middle\" transform=\"translate(125,15)\" font-family=\"sans-serif\" font-size=\"10px\" fill=\"#000\" opacity=\"1\">15</text><text text-anchor=\"middle\" transform=\"translate(166.66666666666669,15)\" font-family=\"sans-serif\" font-size=\"10px\" fill=\"#000\" opacity=\"1\">20</text></g><g class=\"mark-rule role-axis-domain\" pointer-events=\"none\"><line transform=\"translate(0,0)\" x2=\"200\" y2=\"0\" stroke=\"#888\" stroke-width=\"1\" opacity=\"1\"/></g><g class=\"mark-text role-axis-title\" pointer-events=\"none\"><text text-anchor=\"middle\" transform=\"translate(100,30)\" font-family=\"sans-serif\" font-size=\"11px\" font-weight=\"bold\" fill=\"#000\" opacity=\"1\">hour</text></g></g><path class=\"foreground\" aria-hidden=\"true\" d=\"\" pointer-events=\"none\" display=\"none\"/></g></g><g class=\"mark-group role-axis\" role=\"graphics-symbol\" aria-roledescription=\"axis\" aria-label=\"Y-axis titled 'value_sum' for a linear scale with values from −500 to 3,500\"><g transform=\"translate(0.5,0.5)\"><path class=\"background\" aria-hidden=\"true\" d=\"M0,0h0v0h0Z\" pointer-events=\"none\"/><g><g class=\"mark-rule role-axis-tick\" pointer-events=\"none\"><line transform=\"translate(0,175)\" x2=\"-5\" y2=\"0\" stroke=\"#888\" stroke-width=\"1\" opacity=\"1\"/><line transform=\"translate(0,125)\" x2=\"-5\" y2=\"0\" stroke=\"#888\" stroke-width=\"1\" opacity=\"1\"/><line transform=\"translate(0,75)\" x2=\"-5\" y2=\"0\" stroke=\"#888\" stroke-width=\"1\" opacity=\"1\"/><line transform=\"translate(0,25)\" x2=\"-5\" y2=\"0\" stroke=\"#888\" stroke-width=\"1\" opacity=\"1\"/></g><g class=\"mark-text role-axis-label\" pointer-events=\"none\"><text text-anchor=\"end\" transform=\"translate(-7,178)\" font-family=\"sans-serif\" font-size=\"10px\" fill=\"#000\" opacity=\"1\">0</text><text text-anchor=\"end\" transform=\"translate(-7,128)\" font-family=\"sans-serif\" font-size=\"10px\" fill=\"#000\" opacity=\"1\">1,000</text><text text-anchor=\"end\" transform=\"translate(-7,78)\" font-family=\"sans-serif\" font-size=\"10px\" fill=\"#000\" opacity=\"1\">2,000</text><text text-anchor=\"end\" transform=\"translate(-7,28)\" font-family=\"sans-serif\" font-size=\"10px\" fill=\"#000\" opacity=\"1\">3,000</text></g><g class=\"mark-rule role-axis-domain\" pointer-events=\"none\"><line transform=\"translate(0,200)\" x2=\"0\" y2=\"-200\" stroke=\"#888\" stroke-width=\"1\" opacity=\"1\"/></g><g class=\"mark-text role-axis-title\" pointer-events=\"none\"><text text-anchor=\"middle\" transform=\"translate(-39.6279296875,100) rotate(-90) translate(0,-2)\" font-family=\"sans-serif\" font-size=\"11px\" font-weight=\"bold\" fill=\"#000\" opacity=\"1\">value_sum</text></g></g><path class=\"foreground\" aria-hidden=\"true\" d=\"\" pointer-events=\"none\" display=\"none\"/></g></g><g class=\"mark-group role-scope pathgroup\" role=\"graphics-object\" aria-roledescription=\"group mark container\"><g transform=\"translate(0,0)\"><path class=\"background\" aria-hidden=\"true\" d=\"M0,0h200v200h-200Z\"/><g><g class=\"mark-area role-mark marks\" role=\"graphics-object\" aria-roledescription=\"area mark container\"><path aria-label=\"hour: 0; value_sum: 21.4; resource: biomass\" role=\"graphics-symbol\" aria-roledescription=\"area mark\" d=\"M0,102.575L8.333,105.999L16.667,105.015L25,102.087L33.333,92.538L41.667,83.318L50,74.846L58.333,86.47L66.667,125.207L75,131.335L83.333,130.151L91.667,139.047L100,145.09L108.333,145.283L116.667,145.503L125,145.743L133.333,138.784L141.667,117.02L150,67.238L158.333,53.181L166.667,53.455L175,67.062L183.333,82.083L191.667,94.38L191.667,95.45L183.333,83.153L175,68.132L166.667,54.525L158.333,54.251L150,68.308L141.667,118.09L133.333,139.854L125,145.743L116.667,145.503L108.333,145.283L100,145.09L91.667,140.117L83.333,131.221L75,132.405L66.667,126.277L58.333,87.54L50,75.916L41.667,84.388L33.333,93.608L25,103.157L16.667,106.085L8.333,107.069L0,103.645Z\" fill=\"#8c564b\"/></g></g><path class=\"foreground\" aria-hidden=\"true\" d=\"\" display=\"none\"/></g><g transform=\"translate(0,0)\"><path class=\"background\" aria-hidden=\"true\" d=\"M0,0h200v200h-200Z\"/><g><g class=\"mark-area role-mark marks\" role=\"graphics-object\" aria-roledescription=\"area mark container\"><path aria-label=\"hour: 0; value_sum: 42; resource: hydroelectric_pumped_storage\" role=\"graphics-symbol\" aria-roledescription=\"area mark\" d=\"M0,103.645L8.333,107.069L16.667,106.085L25,103.157L33.333,93.608L41.667,84.388L50,75.916L58.333,87.54L66.667,126.277L75,132.405L83.333,131.221L91.667,140.117L100,145.09L108.333,145.283L116.667,145.503L125,145.743L133.333,139.854L141.667,118.09L150,68.308L158.333,54.251L166.667,54.525L175,68.132L183.333,83.153L191.667,95.45L191.667,97.55L183.333,85.253L175,70.232L166.667,56.625L158.333,56.351L150,70.408L141.667,120.19L133.333,141.954L125,145.743L116.667,145.503L108.333,145.283L100,145.09L91.667,142.217L83.333,133.321L75,134.505L66.667,128.377L58.333,89.64L50,78.016L41.667,86.488L33.333,95.708L25,105.257L16.667,108.185L8.333,109.169L0,105.745Z\" fill=\"#e377c2\"/></g></g><path class=\"foreground\" aria-hidden=\"true\" d=\"\" display=\"none\"/></g><g transform=\"translate(0,0)\"><path class=\"background\" aria-hidden=\"true\" d=\"M0,0h200v200h-200Z\"/><g><g class=\"mark-area role-mark marks\" role=\"graphics-object\" aria-roledescription=\"area mark container\"><path aria-label=\"hour: 0; value_sum: 1231.652768; resource: natural_gas_fired_combined_cycle\" role=\"graphics-symbol\" aria-roledescription=\"area mark\" d=\"M0,105.745L8.333,109.169L16.667,108.185L25,105.257L33.333,95.708L41.667,86.488L50,78.016L58.333,89.64L66.667,128.377L75,134.505L83.333,133.321L91.667,142.217L100,145.09L108.333,145.283L116.667,145.503L125,145.743L133.333,141.954L141.667,120.19L150,70.408L158.333,56.351L166.667,56.625L175,70.232L183.333,85.253L191.667,97.55L191.667,169.046L183.333,163.743L175,149.857L166.667,136.25L158.333,135.976L150,150.033L141.667,175L133.333,175L125,175L116.667,175L108.333,175L100,175L91.667,175L83.333,173.951L75,173.951L66.667,172.336L58.333,170.715L50,167.327L41.667,167.327L33.333,167.327L25,167.327L16.667,167.327L8.333,167.327L0,167.327Z\" fill=\"#7f7f7f\"/></g></g><path class=\"foreground\" aria-hidden=\"true\" d=\"\" display=\"none\"/></g><g transform=\"translate(0,0)\"><path class=\"background\" aria-hidden=\"true\" d=\"M0,0h200v200h-200Z\"/><g><g class=\"mark-area role-mark marks\" role=\"graphics-object\" aria-roledescription=\"area mark container\"><path aria-label=\"hour: 0; value_sum: 153.4535; resource: natural_gas_fired_combustion_turbine\" role=\"graphics-symbol\" aria-roledescription=\"area mark\" d=\"M0,167.327L8.333,167.327L16.667,167.327L25,167.327L33.333,167.327L41.667,167.327L50,167.327L58.333,170.715L66.667,172.336L75,173.951L83.333,173.951L91.667,175L100,175L108.333,175L116.667,175L125,175L133.333,175L141.667,175L150,150.033L158.333,135.976L166.667,136.25L175,149.857L183.333,163.743L191.667,169.046L191.667,175L183.333,175L175,175L166.667,175L158.333,175L150,175L141.667,175L133.333,175L125,175L116.667,175L108.333,175L100,175L91.667,175L83.333,175L75,175L66.667,175L58.333,175L50,175L41.667,175L33.333,175L25,175L16.667,175L8.333,175L0,175Z\" fill=\"#bcbd22\"/></g></g><path class=\"foreground\" aria-hidden=\"true\" d=\"\" display=\"none\"/></g><g transform=\"translate(0,0)\"><path class=\"background\" aria-hidden=\"true\" d=\"M0,0h200v200h-200Z\"/><g><g class=\"mark-area role-mark marks\" role=\"graphics-object\" aria-roledescription=\"area mark container\"><path aria-label=\"hour: 0; value_sum: 163.3088; resource: _onshore_wind_turbine\" role=\"graphics-symbol\" aria-roledescription=\"area mark\" d=\"M0,94.25L8.333,97.35L16.667,99.1L25,96.9L33.333,88.35L41.667,76.2L50,59.641L58.333,38.517L66.667,18.772L75,6.579L83.333,0.633L91.667,8.433L100,18.512L108.333,22.335L116.667,27.377L125,33.815L133.333,39.866L141.667,46.592L150,54.669L158.333,49.95L166.667,49.7L175,62.1L183.333,75.6L191.667,87L191.667,94.221L183.333,81.923L175,66.902L166.667,53.296L158.333,53.021L150,57.3L141.667,50.523L133.333,42.725L125,33.815L116.667,27.377L108.333,22.335L100,18.512L91.667,13.039L83.333,6.193L75,13.157L66.667,27.14L58.333,40.986L50,63.35L41.667,83.159L33.333,92.379L25,101.928L16.667,104.856L8.333,105.84L0,102.415Z\" fill=\"#ff7f0e\"/></g></g><path class=\"foreground\" aria-hidden=\"true\" d=\"\" display=\"none\"/></g><g transform=\"translate(0,0)\"><path class=\"background\" aria-hidden=\"true\" d=\"M0,0h200v200h-200Z\"/><g><g class=\"mark-area role-mark marks\" role=\"graphics-object\" aria-roledescription=\"area mark container\"><path aria-label=\"hour: 0; value_sum: 3.184932; resource: _small_hydroelectric\" role=\"graphics-symbol\" aria-roledescription=\"area mark\" d=\"M0,102.415L8.333,105.84L16.667,104.856L25,101.928L33.333,92.379L41.667,83.159L50,63.35L58.333,40.986L66.667,27.14L75,13.157L83.333,6.193L91.667,13.039L100,18.512L108.333,22.335L116.667,27.377L125,33.815L133.333,42.725L141.667,50.523L150,57.3L158.333,53.021L166.667,53.296L175,66.902L183.333,81.923L191.667,94.221L191.667,94.38L183.333,82.083L175,67.062L166.667,53.455L158.333,53.181L150,57.459L141.667,50.682L133.333,42.885L125,33.815L116.667,27.377L108.333,22.335L100,18.512L91.667,13.198L83.333,6.352L75,13.316L66.667,27.299L58.333,41.145L50,63.509L41.667,83.318L33.333,92.538L25,102.087L16.667,105.015L8.333,105.999L0,102.575Z\" fill=\"#2ca02c\"/></g></g><path class=\"foreground\" aria-hidden=\"true\" d=\"\" display=\"none\"/></g><g transform=\"translate(0,0)\"><path class=\"background\" aria-hidden=\"true\" d=\"M0,0h200v200h-200Z\"/><g><g class=\"mark-area role-mark marks\" role=\"graphics-object\" aria-roledescription=\"area mark container\"><path aria-label=\"hour: 0; value_sum: 0; resource: _solar_photovoltaic\" role=\"graphics-symbol\" aria-roledescription=\"area mark\" d=\"M0,102.575L8.333,105.999L16.667,105.015L25,102.087L33.333,92.538L41.667,83.318L50,63.509L58.333,41.145L66.667,27.299L75,13.316L83.333,6.352L91.667,13.198L100,18.512L108.333,22.335L116.667,27.377L125,33.815L133.333,42.885L141.667,50.682L150,57.459L158.333,53.181L166.667,53.455L175,67.062L183.333,82.083L191.667,94.38L191.667,94.38L183.333,82.083L175,67.062L166.667,53.455L158.333,53.181L150,65.807L141.667,107.312L133.333,124.75L125,128.658L116.667,126.78L108.333,125.918L100,125.752L91.667,120.63L83.333,112.034L75,114.064L66.667,110.879L58.333,79.837L50,73.187L41.667,83.318L33.333,92.538L25,102.087L16.667,105.015L8.333,105.999L0,102.575Z\" fill=\"#d62728\"/></g></g><path class=\"foreground\" aria-hidden=\"true\" d=\"\" display=\"none\"/></g><g transform=\"translate(0,0)\"><path class=\"background\" aria-hidden=\"true\" d=\"M0,0h200v200h-200Z\"/><g><g class=\"mark-area role-mark marks\" role=\"graphics-object\" aria-roledescription=\"area mark container\"><path aria-label=\"hour: 0; value_sum: 0; resource: _solar_photovoltaic_btm\" role=\"graphics-symbol\" aria-roledescription=\"area mark\" d=\"M0,102.575L8.333,105.999L16.667,105.015L25,102.087L33.333,92.538L41.667,83.318L50,73.187L58.333,79.837L66.667,110.879L75,114.064L83.333,112.034L91.667,120.63L100,125.752L108.333,125.918L116.667,126.78L125,128.658L133.333,124.75L141.667,107.312L150,65.807L158.333,53.181L166.667,53.455L175,67.062L183.333,82.083L191.667,94.38L191.667,94.38L183.333,82.083L175,67.062L166.667,53.455L158.333,53.181L150,67.238L141.667,117.02L133.333,138.784L125,145.743L116.667,145.503L108.333,145.283L100,145.09L91.667,139.047L83.333,130.151L75,131.335L66.667,125.207L58.333,86.47L50,74.846L41.667,83.318L33.333,92.538L25,102.087L16.667,105.015L8.333,105.999L0,102.575Z\" fill=\"#9467bd\"/></g></g><path class=\"foreground\" aria-hidden=\"true\" d=\"\" display=\"none\"/></g><g transform=\"translate(0,0)\"><path class=\"background\" aria-hidden=\"true\" d=\"M0,0h200v200h-200Z\"/><g><g class=\"mark-area role-mark marks\" role=\"graphics-object\" aria-roledescription=\"area mark container\"><path aria-label=\"hour: 0; value_sum: 0; resource: _curtailment\" role=\"graphics-symbol\" aria-roledescription=\"area mark\" d=\"M0,94.25L8.333,97.35L16.667,99.1L25,96.9L33.333,88.35L41.667,76.2L50,59.641L58.333,38.517L66.667,18.772L75,6.579L83.333,0.633L91.667,8.433L100,10.184L108.333,9.562L116.667,14.942L125,25.566L133.333,39.866L141.667,46.592L150,54.669L158.333,175L166.667,49.7L175,62.1L183.333,75.6L191.667,87L191.667,87L183.333,75.6L175,62.1L166.667,49.7L158.333,175L150,54.669L141.667,46.592L133.333,39.866L125,33.815L116.667,27.377L108.333,22.335L100,18.512L91.667,8.433L83.333,0.633L75,6.579L66.667,18.772L58.333,38.517L50,59.641L41.667,76.2L33.333,88.35L25,96.9L16.667,99.1L8.333,97.35L0,94.25Z\" fill=\"#1f77b4\"/></g></g><path class=\"foreground\" aria-hidden=\"true\" d=\"\" display=\"none\"/></g></g><g class=\"mark-group role-legend\" role=\"graphics-symbol\" aria-roledescription=\"legend\" aria-label=\"Symbol legend titled 'resource' for fill color with 9 values: _curtailment, _onshore_wind_turbine, _small_hydroelectric, _solar_photovoltaic, _solar_photovoltaic_btm, ending with natural_gas_fired_combustion_turbine\"><g transform=\"translate(218,0)\"><path class=\"background\" aria-hidden=\"true\" d=\"M0,0h176v131h-176Z\" pointer-events=\"none\"/><g><g class=\"mark-group role-legend-entry\"><g transform=\"translate(0,16)\"><path class=\"background\" aria-hidden=\"true\" d=\"M0,0h0v0h0Z\" pointer-events=\"none\"/><g><g class=\"mark-group role-scope\" role=\"graphics-object\" aria-roledescription=\"group mark container\"><g transform=\"translate(0,0)\"><path class=\"background\" aria-hidden=\"true\" d=\"M0,0h175.5263671875v11h-175.5263671875Z\" pointer-events=\"none\" opacity=\"1\"/><g><g class=\"mark-symbol role-legend-symbol\" pointer-events=\"none\"><path transform=\"translate(6,6)\" d=\"M5,0A5,5,0,1,1,-5,0A5,5,0,1,1,5,0\" fill=\"#1f77b4\" stroke-width=\"1.5\" opacity=\"1\"/></g><g class=\"mark-text role-legend-label\" pointer-events=\"none\"><text text-anchor=\"start\" transform=\"translate(16,9)\" font-family=\"sans-serif\" font-size=\"10px\" fill=\"#000\" opacity=\"1\">_curtailment</text></g></g><path class=\"foreground\" aria-hidden=\"true\" d=\"\" pointer-events=\"none\" display=\"none\"/></g><g transform=\"translate(0,13)\"><path class=\"background\" aria-hidden=\"true\" d=\"M0,0h175.5263671875v11h-175.5263671875Z\" pointer-events=\"none\" opacity=\"1\"/><g><g class=\"mark-symbol role-legend-symbol\" pointer-events=\"none\"><path transform=\"translate(6,6)\" d=\"M5,0A5,5,0,1,1,-5,0A5,5,0,1,1,5,0\" fill=\"#ff7f0e\" stroke-width=\"1.5\" opacity=\"1\"/></g><g class=\"mark-text role-legend-label\" pointer-events=\"none\"><text text-anchor=\"start\" transform=\"translate(16,9)\" font-family=\"sans-serif\" font-size=\"10px\" fill=\"#000\" opacity=\"1\">_onshore_wind_turbine</text></g></g><path class=\"foreground\" aria-hidden=\"true\" d=\"\" pointer-events=\"none\" display=\"none\"/></g><g transform=\"translate(0,26)\"><path class=\"background\" aria-hidden=\"true\" d=\"M0,0h175.5263671875v11h-175.5263671875Z\" pointer-events=\"none\" opacity=\"1\"/><g><g class=\"mark-symbol role-legend-symbol\" pointer-events=\"none\"><path transform=\"translate(6,6)\" d=\"M5,0A5,5,0,1,1,-5,0A5,5,0,1,1,5,0\" fill=\"#2ca02c\" stroke-width=\"1.5\" opacity=\"1\"/></g><g class=\"mark-text role-legend-label\" pointer-events=\"none\"><text text-anchor=\"start\" transform=\"translate(16,9)\" font-family=\"sans-serif\" font-size=\"10px\" fill=\"#000\" opacity=\"1\">_small_hydroelectric</text></g></g><path class=\"foreground\" aria-hidden=\"true\" d=\"\" pointer-events=\"none\" display=\"none\"/></g><g transform=\"translate(0,39)\"><path class=\"background\" aria-hidden=\"true\" d=\"M0,0h175.5263671875v11h-175.5263671875Z\" pointer-events=\"none\" opacity=\"1\"/><g><g class=\"mark-symbol role-legend-symbol\" pointer-events=\"none\"><path transform=\"translate(6,6)\" d=\"M5,0A5,5,0,1,1,-5,0A5,5,0,1,1,5,0\" fill=\"#d62728\" stroke-width=\"1.5\" opacity=\"1\"/></g><g class=\"mark-text role-legend-label\" pointer-events=\"none\"><text text-anchor=\"start\" transform=\"translate(16,9)\" font-family=\"sans-serif\" font-size=\"10px\" fill=\"#000\" opacity=\"1\">_solar_photovoltaic</text></g></g><path class=\"foreground\" aria-hidden=\"true\" d=\"\" pointer-events=\"none\" display=\"none\"/></g><g transform=\"translate(0,52)\"><path class=\"background\" aria-hidden=\"true\" d=\"M0,0h175.5263671875v11h-175.5263671875Z\" pointer-events=\"none\" opacity=\"1\"/><g><g class=\"mark-symbol role-legend-symbol\" pointer-events=\"none\"><path transform=\"translate(6,6)\" d=\"M5,0A5,5,0,1,1,-5,0A5,5,0,1,1,5,0\" fill=\"#9467bd\" stroke-width=\"1.5\" opacity=\"1\"/></g><g class=\"mark-text role-legend-label\" pointer-events=\"none\"><text text-anchor=\"start\" transform=\"translate(16,9)\" font-family=\"sans-serif\" font-size=\"10px\" fill=\"#000\" opacity=\"1\">_solar_photovoltaic_btm</text></g></g><path class=\"foreground\" aria-hidden=\"true\" d=\"\" pointer-events=\"none\" display=\"none\"/></g><g transform=\"translate(0,65)\"><path class=\"background\" aria-hidden=\"true\" d=\"M0,0h175.5263671875v11h-175.5263671875Z\" pointer-events=\"none\" opacity=\"1\"/><g><g class=\"mark-symbol role-legend-symbol\" pointer-events=\"none\"><path transform=\"translate(6,6)\" d=\"M5,0A5,5,0,1,1,-5,0A5,5,0,1,1,5,0\" fill=\"#8c564b\" stroke-width=\"1.5\" opacity=\"1\"/></g><g class=\"mark-text role-legend-label\" pointer-events=\"none\"><text text-anchor=\"start\" transform=\"translate(16,9)\" font-family=\"sans-serif\" font-size=\"10px\" fill=\"#000\" opacity=\"1\">biomass</text></g></g><path class=\"foreground\" aria-hidden=\"true\" d=\"\" pointer-events=\"none\" display=\"none\"/></g><g transform=\"translate(0,78)\"><path class=\"background\" aria-hidden=\"true\" d=\"M0,0h175.5263671875v11h-175.5263671875Z\" pointer-events=\"none\" opacity=\"1\"/><g><g class=\"mark-symbol role-legend-symbol\" pointer-events=\"none\"><path transform=\"translate(6,6)\" d=\"M5,0A5,5,0,1,1,-5,0A5,5,0,1,1,5,0\" fill=\"#e377c2\" stroke-width=\"1.5\" opacity=\"1\"/></g><g class=\"mark-text role-legend-label\" pointer-events=\"none\"><text text-anchor=\"start\" transform=\"translate(16,9)\" font-family=\"sans-serif\" font-size=\"10px\" fill=\"#000\" opacity=\"1\">hydroelectric_pumped_storage</text></g></g><path class=\"foreground\" aria-hidden=\"true\" d=\"\" pointer-events=\"none\" display=\"none\"/></g><g transform=\"translate(0,91)\"><path class=\"background\" aria-hidden=\"true\" d=\"M0,0h175.5263671875v11h-175.5263671875Z\" pointer-events=\"none\" opacity=\"1\"/><g><g class=\"mark-symbol role-legend-symbol\" pointer-events=\"none\"><path transform=\"translate(6,6)\" d=\"M5,0A5,5,0,1,1,-5,0A5,5,0,1,1,5,0\" fill=\"#7f7f7f\" stroke-width=\"1.5\" opacity=\"1\"/></g><g class=\"mark-text role-legend-label\" pointer-events=\"none\"><text text-anchor=\"start\" transform=\"translate(16,9)\" font-family=\"sans-serif\" font-size=\"10px\" fill=\"#000\" opacity=\"1\">natural_gas_fired_combined_…</text></g></g><path class=\"foreground\" aria-hidden=\"true\" d=\"\" pointer-events=\"none\" display=\"none\"/></g><g transform=\"translate(0,104)\"><path class=\"background\" aria-hidden=\"true\" d=\"M0,0h175.5263671875v11h-175.5263671875Z\" pointer-events=\"none\" opacity=\"1\"/><g><g class=\"mark-symbol role-legend-symbol\" pointer-events=\"none\"><path transform=\"translate(6,6)\" d=\"M5,0A5,5,0,1,1,-5,0A5,5,0,1,1,5,0\" fill=\"#bcbd22\" stroke-width=\"1.5\" opacity=\"1\"/></g><g class=\"mark-text role-legend-label\" pointer-events=\"none\"><text text-anchor=\"start\" transform=\"translate(16,9)\" font-family=\"sans-serif\" font-size=\"10px\" fill=\"#000\" opacity=\"1\">natural_gas_fired_combustion…</text></g></g><path class=\"foreground\" aria-hidden=\"true\" d=\"\" pointer-events=\"none\" display=\"none\"/></g></g></g><path class=\"foreground\" aria-hidden=\"true\" d=\"\" pointer-events=\"none\" display=\"none\"/></g></g><g class=\"mark-text role-legend-title\" pointer-events=\"none\"><text text-anchor=\"start\" transform=\"translate(0,9)\" font-family=\"sans-serif\" font-size=\"11px\" font-weight=\"bold\" fill=\"#000\" opacity=\"1\">resource</text></g></g><path class=\"foreground\" aria-hidden=\"true\" d=\"\" pointer-events=\"none\" display=\"none\"/></g></g></g><path class=\"foreground\" aria-hidden=\"true\" d=\"\" display=\"none\"/></g></g></g></svg>"
      ],
      "text/plain": [
       "@vlplot(\n",
       "    mark=\"area\",\n",
       "    encoding={\n",
       "        x={\n",
       "            field=\"hour\"\n",
       "        },\n",
       "        y={\n",
       "            stack=\"zero\",\n",
       "            field=\"value_sum\"\n",
       "        },\n",
       "        color={\n",
       "            scale={\n",
       "                scheme=\"category10\"\n",
       "            },\n",
       "            field=\"resource\",\n",
       "            type=\"nominal\"\n",
       "        }\n",
       "    },\n",
       "    data={\n",
       "        values=...\n",
       "    }\n",
       ")"
      ]
     },
     "metadata": {},
     "output_type": "display_data"
    }
   ],
   "source": [
    "\n",
    " # To keep solve times to a few minutes, we increase the MIP gap tolerance\n",
    " # in this more complex case to 2% (mip_gap=0.02). You can play with this setting to see \n",
    " # how the MIP gap affects solve times on your computer.\n",
    "   \n",
    "\n",
    "# Add in BTM solar and curtailment and plot results\n",
    "\n",
    "sol_gen = innerjoin(solution.gen, \n",
    "                    gen_df[!, [:r_id, :resource]], \n",
    "                    on = :r_id)\n",
    "sol_gen = combine(groupby(sol_gen, [:resource, :hour]), \n",
    "            :value => sum)\n",
    "\n",
    "# Rename generators (for plotting purposes)\n",
    "sol_gen[sol_gen.resource .== \"solar_photovoltaic\", :resource] .= \"_solar_photovoltaic\"\n",
    "sol_gen[sol_gen.resource .== \"onshore_wind_turbine\", :resource] .= \"_onshore_wind_turbine\"\n",
    "sol_gen[sol_gen.resource .== \"small_hydroelectric\", :resource] .= \"_small_hydroelectric\"\n",
    "\n",
    "# BTM solar\n",
    "btm = DataFrame(resource = repeat([\"_solar_photovoltaic_btm\"]; outer=length(T_period)), \n",
    "    hour = T_period,\n",
    "    value_sum = gen_variable_multi[gen_variable_multi.gen_full .== \"wec_sdge_solar_photovoltaic_1.0\",:cf] * 600)\n",
    "append!(sol_gen, btm)\n",
    "\n",
    "# Curtailment\n",
    "curtail = combine(groupby(solution.curtail, [:hour]),\n",
    "            :value => sum)\n",
    "curtail[!, :resource] .= \"_curtailment\"\n",
    "# rename!(curtail, :curt_sum => :value_sum)\n",
    "append!(sol_gen, curtail[:,[:resource, :hour, :value_sum]])\n",
    "\n",
    "# Rescale hours\n",
    "sol_gen.hour = sol_gen.hour .- T_period[1]\n",
    "\n",
    "sol_gen |>\n",
    "@vlplot(:area, \n",
    "    x=:hour, y={:value_sum, stack=:zero}, \n",
    "    color={\"resource:n\", scale={scheme=\"category10\"}})"
   ]
  },
  {
   "cell_type": "markdown",
   "metadata": {},
   "source": [
    "We can now see that the need to maintain reserve requirements leads to greater commitment of natural gas units throughout the day. The addition of CCGTs and GTs to meet reserve requirements leads to greater curtailment of wind and solar in the afternoon hours. We also see more CT units committed during the morning ramp as well as the afternoon hours to help provide reserves."
   ]
  },
  {
   "cell_type": "code",
   "execution_count": 12,
   "metadata": {},
   "outputs": [
    {
     "data": {
      "application/vnd.vegalite.v5+json": {
       "data": {
        "values": [
         {
          "hour": 0,
          "resource": "natural_gas_fired_combined_cycle",
          "value_sum": 6
         },
         {
          "hour": 0,
          "resource": "natural_gas_fired_combustion_turbine",
          "value_sum": 5
         },
         {
          "hour": 1,
          "resource": "natural_gas_fired_combined_cycle",
          "value_sum": 6
         },
         {
          "hour": 1,
          "resource": "natural_gas_fired_combustion_turbine",
          "value_sum": 5
         },
         {
          "hour": 2,
          "resource": "natural_gas_fired_combined_cycle",
          "value_sum": 6
         },
         {
          "hour": 2,
          "resource": "natural_gas_fired_combustion_turbine",
          "value_sum": 5
         },
         {
          "hour": 3,
          "resource": "natural_gas_fired_combined_cycle",
          "value_sum": 6
         },
         {
          "hour": 3,
          "resource": "natural_gas_fired_combustion_turbine",
          "value_sum": 5
         },
         {
          "hour": 4,
          "resource": "natural_gas_fired_combined_cycle",
          "value_sum": 6
         },
         {
          "hour": 4,
          "resource": "natural_gas_fired_combustion_turbine",
          "value_sum": 5
         },
         {
          "hour": 5,
          "resource": "natural_gas_fired_combined_cycle",
          "value_sum": 6
         },
         {
          "hour": 5,
          "resource": "natural_gas_fired_combustion_turbine",
          "value_sum": 5
         },
         {
          "hour": 6,
          "resource": "natural_gas_fired_combined_cycle",
          "value_sum": 6
         },
         {
          "hour": 6,
          "resource": "natural_gas_fired_combustion_turbine",
          "value_sum": 5
         },
         {
          "hour": 7,
          "resource": "natural_gas_fired_combined_cycle",
          "value_sum": 6
         },
         {
          "hour": 7,
          "resource": "natural_gas_fired_combustion_turbine",
          "value_sum": 3
         },
         {
          "hour": 8,
          "resource": "natural_gas_fired_combined_cycle",
          "value_sum": 4
         },
         {
          "hour": 8,
          "resource": "natural_gas_fired_combustion_turbine",
          "value_sum": 2
         },
         {
          "hour": 9,
          "resource": "natural_gas_fired_combined_cycle",
          "value_sum": 4
         },
         {
          "hour": 9,
          "resource": "natural_gas_fired_combustion_turbine",
          "value_sum": 1
         },
         {
          "hour": 10,
          "resource": "natural_gas_fired_combined_cycle",
          "value_sum": 4
         },
         {
          "hour": 10,
          "resource": "natural_gas_fired_combustion_turbine",
          "value_sum": 1
         },
         {
          "hour": 11,
          "resource": "natural_gas_fired_combined_cycle",
          "value_sum": 4
         },
         {
          "hour": 11,
          "resource": "natural_gas_fired_combustion_turbine",
          "value_sum": 0
         },
         {
          "hour": 12,
          "resource": "natural_gas_fired_combined_cycle",
          "value_sum": 4
         },
         {
          "hour": 12,
          "resource": "natural_gas_fired_combustion_turbine",
          "value_sum": 0
         },
         {
          "hour": 13,
          "resource": "natural_gas_fired_combined_cycle",
          "value_sum": 4
         },
         {
          "hour": 13,
          "resource": "natural_gas_fired_combustion_turbine",
          "value_sum": 0
         },
         {
          "hour": 14,
          "resource": "natural_gas_fired_combined_cycle",
          "value_sum": 4
         },
         {
          "hour": 14,
          "resource": "natural_gas_fired_combustion_turbine",
          "value_sum": 0
         },
         {
          "hour": 15,
          "resource": "natural_gas_fired_combined_cycle",
          "value_sum": 4
         },
         {
          "hour": 15,
          "resource": "natural_gas_fired_combustion_turbine",
          "value_sum": 0
         },
         {
          "hour": 16,
          "resource": "natural_gas_fired_combined_cycle",
          "value_sum": 4
         },
         {
          "hour": 16,
          "resource": "natural_gas_fired_combustion_turbine",
          "value_sum": 0
         },
         {
          "hour": 17,
          "resource": "natural_gas_fired_combined_cycle",
          "value_sum": 5
         },
         {
          "hour": 17,
          "resource": "natural_gas_fired_combustion_turbine",
          "value_sum": 0
         },
         {
          "hour": 18,
          "resource": "natural_gas_fired_combined_cycle",
          "value_sum": 5
         },
         {
          "hour": 18,
          "resource": "natural_gas_fired_combustion_turbine",
          "value_sum": 10
         },
         {
          "hour": 19,
          "resource": "natural_gas_fired_combined_cycle",
          "value_sum": 5
         },
         {
          "hour": 19,
          "resource": "natural_gas_fired_combustion_turbine",
          "value_sum": 15
         },
         {
          "hour": 20,
          "resource": "natural_gas_fired_combined_cycle",
          "value_sum": 5
         },
         {
          "hour": 20,
          "resource": "natural_gas_fired_combustion_turbine",
          "value_sum": 15
         },
         {
          "hour": 21,
          "resource": "natural_gas_fired_combined_cycle",
          "value_sum": 5
         },
         {
          "hour": 21,
          "resource": "natural_gas_fired_combustion_turbine",
          "value_sum": 11
         },
         {
          "hour": 22,
          "resource": "natural_gas_fired_combined_cycle",
          "value_sum": 5
         },
         {
          "hour": 22,
          "resource": "natural_gas_fired_combustion_turbine",
          "value_sum": 7
         },
         {
          "hour": 23,
          "resource": "natural_gas_fired_combined_cycle",
          "value_sum": 5
         },
         {
          "hour": 23,
          "resource": "natural_gas_fired_combustion_turbine",
          "value_sum": 4
         }
        ]
       },
       "encoding": {
        "color": {
         "field": "resource",
         "scale": {
          "scheme": "category10"
         },
         "type": "nominal"
        },
        "x": {
         "field": "hour",
         "type": "quantitative"
        },
        "y": {
         "field": "value_sum",
         "stack": "zero",
         "type": "quantitative"
        }
       },
       "mark": "area"
      },
      "image/png": "[encoded data removed]",
      "image/svg+xml": [
       "<svg xmlns=\"http://www.w3.org/2000/svg\" xmlns:xlink=\"http://www.w3.org/1999/xlink\" version=\"1.1\" class=\"marks\" width=\"439\" height=\"247\" viewBox=\"0 0 439 247\"><rect width=\"439\" height=\"247\" fill=\"white\"/><g fill=\"none\" stroke-miterlimit=\"10\" transform=\"translate(40,10)\"><g class=\"mark-group role-frame root\" role=\"graphics-object\" aria-roledescription=\"group mark container\"><g transform=\"translate(0,0)\"><path class=\"background\" aria-hidden=\"true\" d=\"M0.5,0.5h200v200h-200Z\" stroke=\"#ddd\"/><g><g class=\"mark-group role-axis\" aria-hidden=\"true\"><g transform=\"translate(0.5,200.5)\"><path class=\"background\" aria-hidden=\"true\" d=\"M0,0h0v0h0Z\" pointer-events=\"none\"/><g><g class=\"mark-rule role-axis-grid\" pointer-events=\"none\"><line transform=\"translate(0,-200)\" x2=\"0\" y2=\"200\" stroke=\"#ddd\" stroke-width=\"1\" opacity=\"1\"/><line transform=\"translate(42,-200)\" x2=\"0\" y2=\"200\" stroke=\"#ddd\" stroke-width=\"1\" opacity=\"1\"/><line transform=\"translate(83,-200)\" x2=\"0\" y2=\"200\" stroke=\"#ddd\" stroke-width=\"1\" opacity=\"1\"/><line transform=\"translate(125,-200)\" x2=\"0\" y2=\"200\" stroke=\"#ddd\" stroke-width=\"1\" opacity=\"1\"/><line transform=\"translate(167,-200)\" x2=\"0\" y2=\"200\" stroke=\"#ddd\" stroke-width=\"1\" opacity=\"1\"/></g></g><path class=\"foreground\" aria-hidden=\"true\" d=\"\" pointer-events=\"none\" display=\"none\"/></g></g><g class=\"mark-group role-axis\" aria-hidden=\"true\"><g transform=\"translate(0.5,0.5)\"><path class=\"background\" aria-hidden=\"true\" d=\"M0,0h0v0h0Z\" pointer-events=\"none\"/><g><g class=\"mark-rule role-axis-grid\" pointer-events=\"none\"><line transform=\"translate(0,200)\" x2=\"200\" y2=\"0\" stroke=\"#ddd\" stroke-width=\"1\" opacity=\"1\"/><line transform=\"translate(0,150)\" x2=\"200\" y2=\"0\" stroke=\"#ddd\" stroke-width=\"1\" opacity=\"1\"/><line transform=\"translate(0,100)\" x2=\"200\" y2=\"0\" stroke=\"#ddd\" stroke-width=\"1\" opacity=\"1\"/><line transform=\"translate(0,50)\" x2=\"200\" y2=\"0\" stroke=\"#ddd\" stroke-width=\"1\" opacity=\"1\"/><line transform=\"translate(0,0)\" x2=\"200\" y2=\"0\" stroke=\"#ddd\" stroke-width=\"1\" opacity=\"1\"/></g></g><path class=\"foreground\" aria-hidden=\"true\" d=\"\" pointer-events=\"none\" display=\"none\"/></g></g><g class=\"mark-group role-axis\" role=\"graphics-symbol\" aria-roledescription=\"axis\" aria-label=\"X-axis titled 'hour' for a linear scale with values from 0 to 24\"><g transform=\"translate(0.5,200.5)\"><path class=\"background\" aria-hidden=\"true\" d=\"M0,0h0v0h0Z\" pointer-events=\"none\"/><g><g class=\"mark-rule role-axis-tick\" pointer-events=\"none\"><line transform=\"translate(0,0)\" x2=\"0\" y2=\"5\" stroke=\"#888\" stroke-width=\"1\" opacity=\"1\"/><line transform=\"translate(42,0)\" x2=\"0\" y2=\"5\" stroke=\"#888\" stroke-width=\"1\" opacity=\"1\"/><line transform=\"translate(83,0)\" x2=\"0\" y2=\"5\" stroke=\"#888\" stroke-width=\"1\" opacity=\"1\"/><line transform=\"translate(125,0)\" x2=\"0\" y2=\"5\" stroke=\"#888\" stroke-width=\"1\" opacity=\"1\"/><line transform=\"translate(167,0)\" x2=\"0\" y2=\"5\" stroke=\"#888\" stroke-width=\"1\" opacity=\"1\"/></g><g class=\"mark-text role-axis-label\" pointer-events=\"none\"><text text-anchor=\"start\" transform=\"translate(0,15)\" font-family=\"sans-serif\" font-size=\"10px\" fill=\"#000\" opacity=\"1\">0</text><text text-anchor=\"middle\" transform=\"translate(41.66666666666667,15)\" font-family=\"sans-serif\" font-size=\"10px\" fill=\"#000\" opacity=\"1\">5</text><text text-anchor=\"middle\" transform=\"translate(83.33333333333334,15)\" font-family=\"sans-serif\" font-size=\"10px\" fill=\"#000\" opacity=\"1\">10</text><text text-anchor=\"middle\" transform=\"translate(125,15)\" font-family=\"sans-serif\" font-size=\"10px\" fill=\"#000\" opacity=\"1\">15</text><text text-anchor=\"middle\" transform=\"translate(166.66666666666669,15)\" font-family=\"sans-serif\" font-size=\"10px\" fill=\"#000\" opacity=\"1\">20</text></g><g class=\"mark-rule role-axis-domain\" pointer-events=\"none\"><line transform=\"translate(0,0)\" x2=\"200\" y2=\"0\" stroke=\"#888\" stroke-width=\"1\" opacity=\"1\"/></g><g class=\"mark-text role-axis-title\" pointer-events=\"none\"><text text-anchor=\"middle\" transform=\"translate(100,30)\" font-family=\"sans-serif\" font-size=\"11px\" font-weight=\"bold\" fill=\"#000\" opacity=\"1\">hour</text></g></g><path class=\"foreground\" aria-hidden=\"true\" d=\"\" pointer-events=\"none\" display=\"none\"/></g></g><g class=\"mark-group role-axis\" role=\"graphics-symbol\" aria-roledescription=\"axis\" aria-label=\"Y-axis titled 'value_sum' for a linear scale with values from 0 to 20\"><g transform=\"translate(0.5,0.5)\"><path class=\"background\" aria-hidden=\"true\" d=\"M0,0h0v0h0Z\" pointer-events=\"none\"/><g><g class=\"mark-rule role-axis-tick\" pointer-events=\"none\"><line transform=\"translate(0,200)\" x2=\"-5\" y2=\"0\" stroke=\"#888\" stroke-width=\"1\" opacity=\"1\"/><line transform=\"translate(0,150)\" x2=\"-5\" y2=\"0\" stroke=\"#888\" stroke-width=\"1\" opacity=\"1\"/><line transform=\"translate(0,100)\" x2=\"-5\" y2=\"0\" stroke=\"#888\" stroke-width=\"1\" opacity=\"1\"/><line transform=\"translate(0,50)\" x2=\"-5\" y2=\"0\" stroke=\"#888\" stroke-width=\"1\" opacity=\"1\"/><line transform=\"translate(0,0)\" x2=\"-5\" y2=\"0\" stroke=\"#888\" stroke-width=\"1\" opacity=\"1\"/></g><g class=\"mark-text role-axis-label\" pointer-events=\"none\"><text text-anchor=\"end\" transform=\"translate(-7,203)\" font-family=\"sans-serif\" font-size=\"10px\" fill=\"#000\" opacity=\"1\">0</text><text text-anchor=\"end\" transform=\"translate(-7,153)\" font-family=\"sans-serif\" font-size=\"10px\" fill=\"#000\" opacity=\"1\">5</text><text text-anchor=\"end\" transform=\"translate(-7,103)\" font-family=\"sans-serif\" font-size=\"10px\" fill=\"#000\" opacity=\"1\">10</text><text text-anchor=\"end\" transform=\"translate(-7,53)\" font-family=\"sans-serif\" font-size=\"10px\" fill=\"#000\" opacity=\"1\">15</text><text text-anchor=\"end\" transform=\"translate(-7,3)\" font-family=\"sans-serif\" font-size=\"10px\" fill=\"#000\" opacity=\"1\">20</text></g><g class=\"mark-rule role-axis-domain\" pointer-events=\"none\"><line transform=\"translate(0,200)\" x2=\"0\" y2=\"-200\" stroke=\"#888\" stroke-width=\"1\" opacity=\"1\"/></g><g class=\"mark-text role-axis-title\" pointer-events=\"none\"><text text-anchor=\"middle\" transform=\"translate(-23.724609375,100) rotate(-90) translate(0,-2)\" font-family=\"sans-serif\" font-size=\"11px\" font-weight=\"bold\" fill=\"#000\" opacity=\"1\">value_sum</text></g></g><path class=\"foreground\" aria-hidden=\"true\" d=\"\" pointer-events=\"none\" display=\"none\"/></g></g><g class=\"mark-group role-scope pathgroup\" role=\"graphics-object\" aria-roledescription=\"group mark container\"><g transform=\"translate(0,0)\"><path class=\"background\" aria-hidden=\"true\" d=\"M0,0h200v200h-200Z\"/><g><g class=\"mark-area role-mark marks\" role=\"graphics-object\" aria-roledescription=\"area mark container\"><path aria-label=\"hour: 0; value_sum: 6; resource: natural_gas_fired_combined_cycle\" role=\"graphics-symbol\" aria-roledescription=\"area mark\" d=\"M0,90L8.333,90L16.667,90L25,90L33.333,90L41.667,90L50,90L58.333,110L66.667,140L75,150L83.333,150L91.667,160L100,160L108.333,160L116.667,160L125,160L133.333,160L141.667,150L150,50L158.333,0L166.667,0L175,40L183.333,80L191.667,110L191.667,160L183.333,130L175,90L166.667,50L158.333,50L150,100L141.667,200L133.333,200L125,200L116.667,200L108.333,200L100,200L91.667,200L83.333,190L75,190L66.667,180L58.333,170L50,150L41.667,150L33.333,150L25,150L16.667,150L8.333,150L0,150Z\" fill=\"#1f77b4\"/></g></g><path class=\"foreground\" aria-hidden=\"true\" d=\"\" display=\"none\"/></g><g transform=\"translate(0,0)\"><path class=\"background\" aria-hidden=\"true\" d=\"M0,0h200v200h-200Z\"/><g><g class=\"mark-area role-mark marks\" role=\"graphics-object\" aria-roledescription=\"area mark container\"><path aria-label=\"hour: 0; value_sum: 5; resource: natural_gas_fired_combustion_turbine\" role=\"graphics-symbol\" aria-roledescription=\"area mark\" d=\"M0,150L8.333,150L16.667,150L25,150L33.333,150L41.667,150L50,150L58.333,170L66.667,180L75,190L83.333,190L91.667,200L100,200L108.333,200L116.667,200L125,200L133.333,200L141.667,200L150,100L158.333,50L166.667,50L175,90L183.333,130L191.667,160L191.667,200L183.333,200L175,200L166.667,200L158.333,200L150,200L141.667,200L133.333,200L125,200L116.667,200L108.333,200L100,200L91.667,200L83.333,200L75,200L66.667,200L58.333,200L50,200L41.667,200L33.333,200L25,200L16.667,200L8.333,200L0,200Z\" fill=\"#ff7f0e\"/></g></g><path class=\"foreground\" aria-hidden=\"true\" d=\"\" display=\"none\"/></g></g><g class=\"mark-group role-legend\" role=\"graphics-symbol\" aria-roledescription=\"legend\" aria-label=\"Symbol legend titled 'resource' for fill color with 2 values: natural_gas_fired_combined_cycle, natural_gas_fired_combustion_turbine\"><g transform=\"translate(218,0)\"><path class=\"background\" aria-hidden=\"true\" d=\"M0,0h176v40h-176Z\" pointer-events=\"none\"/><g><g class=\"mark-group role-legend-entry\"><g transform=\"translate(0,16)\"><path class=\"background\" aria-hidden=\"true\" d=\"M0,0h0v0h0Z\" pointer-events=\"none\"/><g><g class=\"mark-group role-scope\" role=\"graphics-object\" aria-roledescription=\"group mark container\"><g transform=\"translate(0,0)\"><path class=\"background\" aria-hidden=\"true\" d=\"M0,0h175.5263671875v11h-175.5263671875Z\" pointer-events=\"none\" opacity=\"1\"/><g><g class=\"mark-symbol role-legend-symbol\" pointer-events=\"none\"><path transform=\"translate(6,6)\" d=\"M5,0A5,5,0,1,1,-5,0A5,5,0,1,1,5,0\" fill=\"#1f77b4\" stroke-width=\"1.5\" opacity=\"1\"/></g><g class=\"mark-text role-legend-label\" pointer-events=\"none\"><text text-anchor=\"start\" transform=\"translate(16,9)\" font-family=\"sans-serif\" font-size=\"10px\" fill=\"#000\" opacity=\"1\">natural_gas_fired_combined_…</text></g></g><path class=\"foreground\" aria-hidden=\"true\" d=\"\" pointer-events=\"none\" display=\"none\"/></g><g transform=\"translate(0,13)\"><path class=\"background\" aria-hidden=\"true\" d=\"M0,0h175.5263671875v11h-175.5263671875Z\" pointer-events=\"none\" opacity=\"1\"/><g><g class=\"mark-symbol role-legend-symbol\" pointer-events=\"none\"><path transform=\"translate(6,6)\" d=\"M5,0A5,5,0,1,1,-5,0A5,5,0,1,1,5,0\" fill=\"#ff7f0e\" stroke-width=\"1.5\" opacity=\"1\"/></g><g class=\"mark-text role-legend-label\" pointer-events=\"none\"><text text-anchor=\"start\" transform=\"translate(16,9)\" font-family=\"sans-serif\" font-size=\"10px\" fill=\"#000\" opacity=\"1\">natural_gas_fired_combustion…</text></g></g><path class=\"foreground\" aria-hidden=\"true\" d=\"\" pointer-events=\"none\" display=\"none\"/></g></g></g><path class=\"foreground\" aria-hidden=\"true\" d=\"\" pointer-events=\"none\" display=\"none\"/></g></g><g class=\"mark-text role-legend-title\" pointer-events=\"none\"><text text-anchor=\"start\" transform=\"translate(0,9)\" font-family=\"sans-serif\" font-size=\"11px\" font-weight=\"bold\" fill=\"#000\" opacity=\"1\">resource</text></g></g><path class=\"foreground\" aria-hidden=\"true\" d=\"\" pointer-events=\"none\" display=\"none\"/></g></g></g><path class=\"foreground\" aria-hidden=\"true\" d=\"\" display=\"none\"/></g></g></g></svg>"
      ],
      "text/plain": [
       "@vlplot(\n",
       "    mark=\"area\",\n",
       "    encoding={\n",
       "        x={\n",
       "            field=\"hour\"\n",
       "        },\n",
       "        y={\n",
       "            stack=\"zero\",\n",
       "            field=\"value_sum\"\n",
       "        },\n",
       "        color={\n",
       "            scale={\n",
       "                scheme=\"category10\"\n",
       "            },\n",
       "            field=\"resource\",\n",
       "            type=\"nominal\"\n",
       "        }\n",
       "    },\n",
       "    data={\n",
       "        values=...\n",
       "    }\n",
       ")"
      ]
     },
     "metadata": {},
     "output_type": "display_data"
    }
   ],
   "source": [
    "sol_commit = innerjoin(solution.commit, \n",
    "                    gen_df[!, [:r_id, :resource]], \n",
    "                    on = :r_id)\n",
    "sol_commit = combine(groupby(sol_commit, [:resource, :hour]), \n",
    "            :value => sum)\n",
    "sol_commit.hour = sol_commit.hour .- T_period[1]\n",
    "\n",
    "sol_commit |>\n",
    "@vlplot(:area, \n",
    "    x=:hour, y={:value_sum, stack=:zero}, \n",
    "    color={\"resource:n\", scale={scheme=\"category10\"}})"
   ]
  },
  {
   "cell_type": "markdown",
   "metadata": {},
   "source": [
    "### Further resources\n",
    "\n",
    "Knueven, B., Ostrowski, J., & Watson, J.-P. (2019). On Mixed Integer Programming Formulations for the Unit Commitment Problem. Optimization Online, 91. http://www.optimization-online.org/DB_FILE/2018/11/6930.pdf\n",
    "\n",
    "Morales-Espana, G., Latorre, J. M., & Ramos, A. (2013). Tight and Compact MILP Formulation of Start-Up and Shut-Down Ramping in Unit Commitment. IEEE Transactions on Power Systems, 28(2), 1288–1296. https://doi.org/10.1109/TPWRS.2012.2222938\n",
    "\n",
    "Morales-España, G., Ramírez-Elizondo, L., & Hobbs, B. F. (2017). Hidden power system inflexibilities imposed by traditional unit commitment formulations. Applied Energy, 191, 223–238. https://doi.org/10.1016/j.apenergy.2017.01.089\n",
    "\n",
    "Ostrowski, J., Anjos, M. F., & Vannelli, A. (2012). Tight Mixed Integer Linear Programming Formulations for the Unit Commitment Problem. IEEE Transactions on Power Systems, 27(1), 39–46. https://doi.org/10.1109/TPWRS.2011.2162008"
   ]
  }
 ],
 "metadata": {
  "@webio": {
   "lastCommId": null,
   "lastKernelId": null
  },
  "kernelspec": {
   "display_name": "Julia 1.10.1",
   "language": "julia",
   "name": "julia-1.10"
  },
  "language_info": {
   "file_extension": ".jl",
   "mimetype": "application/julia",
   "name": "julia",
   "version": "1.10.1"
  }
 },
 "nbformat": 4,
 "nbformat_minor": 4
}
