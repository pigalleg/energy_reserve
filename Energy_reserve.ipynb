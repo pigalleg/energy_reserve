{
 "cells": [
  {
   "cell_type": "code",
   "execution_count": 23,
   "metadata": {},
   "outputs": [
    {
     "data": {
      "text/plain": [
       "120"
      ]
     },
     "metadata": {},
     "output_type": "display_data"
    }
   ],
   "source": [
    "using VegaLite\n",
    "using PlotlyJS\n",
    "include(\"./utils.jl\")\n",
    "include(\"./unit_commitment.jl\")\n",
    "ENV[\"COLUMNS\"]=120 # Set so all columns of DataFrames and Matrices are displayed"
   ]
  },
  {
   "cell_type": "code",
   "execution_count": 24,
   "metadata": {},
   "outputs": [
    {
     "data": {
      "text/html": [
       "<div><div style = \"float: left;\"><span>300×4 DataFrame</span></div><div style = \"float: right;\"><span style = \"font-style: italic;\">275 rows omitted</span></div><div style = \"clear: both;\"></div></div><div class = \"data-frame\" style = \"overflow-x: scroll;\"><table class = \"data-frame\" style = \"margin-bottom: 6px;\"><thead><tr class = \"header\"><th class = \"rowNumber\" style = \"font-weight: bold; text-align: right;\">Row</th><th style = \"text-align: left;\">i_hour</th><th style = \"text-align: left;\">t_hour</th><th style = \"text-align: left;\">up</th><th style = \"text-align: left;\">down</th></tr><tr class = \"subheader headerLastRow\"><th class = \"rowNumber\" style = \"font-weight: bold; text-align: right;\"></th><th title = \"Int64\" style = \"text-align: left;\">Int64</th><th title = \"Int64\" style = \"text-align: left;\">Int64</th><th title = \"Float64\" style = \"text-align: left;\">Float64</th><th title = \"Float64\" style = \"text-align: left;\">Float64</th></tr></thead><tbody><tr><td class = \"rowNumber\" style = \"font-weight: bold; text-align: right;\">1</td><td style = \"text-align: right;\">2401</td><td style = \"text-align: right;\">2401</td><td style = \"text-align: right;\">380.75</td><td style = \"text-align: right;\">80.75</td></tr><tr><td class = \"rowNumber\" style = \"font-weight: bold; text-align: right;\">2</td><td style = \"text-align: right;\">2401</td><td style = \"text-align: right;\">2402</td><td style = \"text-align: right;\">0.0</td><td style = \"text-align: right;\">0.0</td></tr><tr><td class = \"rowNumber\" style = \"font-weight: bold; text-align: right;\">3</td><td style = \"text-align: right;\">2402</td><td style = \"text-align: right;\">2402</td><td style = \"text-align: right;\">377.65</td><td style = \"text-align: right;\">77.65</td></tr><tr><td class = \"rowNumber\" style = \"font-weight: bold; text-align: right;\">4</td><td style = \"text-align: right;\">2401</td><td style = \"text-align: right;\">2403</td><td style = \"text-align: right;\">0.0</td><td style = \"text-align: right;\">0.0</td></tr><tr><td class = \"rowNumber\" style = \"font-weight: bold; text-align: right;\">5</td><td style = \"text-align: right;\">2402</td><td style = \"text-align: right;\">2403</td><td style = \"text-align: right;\">0.0</td><td style = \"text-align: right;\">0.0</td></tr><tr><td class = \"rowNumber\" style = \"font-weight: bold; text-align: right;\">6</td><td style = \"text-align: right;\">2403</td><td style = \"text-align: right;\">2403</td><td style = \"text-align: right;\">375.9</td><td style = \"text-align: right;\">75.9</td></tr><tr><td class = \"rowNumber\" style = \"font-weight: bold; text-align: right;\">7</td><td style = \"text-align: right;\">2401</td><td style = \"text-align: right;\">2404</td><td style = \"text-align: right;\">0.0</td><td style = \"text-align: right;\">0.0</td></tr><tr><td class = \"rowNumber\" style = \"font-weight: bold; text-align: right;\">8</td><td style = \"text-align: right;\">2402</td><td style = \"text-align: right;\">2404</td><td style = \"text-align: right;\">0.0</td><td style = \"text-align: right;\">0.0</td></tr><tr><td class = \"rowNumber\" style = \"font-weight: bold; text-align: right;\">9</td><td style = \"text-align: right;\">2403</td><td style = \"text-align: right;\">2404</td><td style = \"text-align: right;\">0.0</td><td style = \"text-align: right;\">0.0</td></tr><tr><td class = \"rowNumber\" style = \"font-weight: bold; text-align: right;\">10</td><td style = \"text-align: right;\">2404</td><td style = \"text-align: right;\">2404</td><td style = \"text-align: right;\">378.1</td><td style = \"text-align: right;\">78.1</td></tr><tr><td class = \"rowNumber\" style = \"font-weight: bold; text-align: right;\">11</td><td style = \"text-align: right;\">2401</td><td style = \"text-align: right;\">2405</td><td style = \"text-align: right;\">0.0</td><td style = \"text-align: right;\">0.0</td></tr><tr><td class = \"rowNumber\" style = \"font-weight: bold; text-align: right;\">12</td><td style = \"text-align: right;\">2402</td><td style = \"text-align: right;\">2405</td><td style = \"text-align: right;\">0.0</td><td style = \"text-align: right;\">0.0</td></tr><tr><td class = \"rowNumber\" style = \"font-weight: bold; text-align: right;\">13</td><td style = \"text-align: right;\">2403</td><td style = \"text-align: right;\">2405</td><td style = \"text-align: right;\">0.0</td><td style = \"text-align: right;\">0.0</td></tr><tr><td style = \"text-align: right;\">&vellip;</td><td style = \"text-align: right;\">&vellip;</td><td style = \"text-align: right;\">&vellip;</td><td style = \"text-align: right;\">&vellip;</td><td style = \"text-align: right;\">&vellip;</td></tr><tr><td class = \"rowNumber\" style = \"font-weight: bold; text-align: right;\">289</td><td style = \"text-align: right;\">2413</td><td style = \"text-align: right;\">2424</td><td style = \"text-align: right;\">0.0</td><td style = \"text-align: right;\">0.0</td></tr><tr><td class = \"rowNumber\" style = \"font-weight: bold; text-align: right;\">290</td><td style = \"text-align: right;\">2414</td><td style = \"text-align: right;\">2424</td><td style = \"text-align: right;\">0.0</td><td style = \"text-align: right;\">0.0</td></tr><tr><td class = \"rowNumber\" style = \"font-weight: bold; text-align: right;\">291</td><td style = \"text-align: right;\">2415</td><td style = \"text-align: right;\">2424</td><td style = \"text-align: right;\">0.0</td><td style = \"text-align: right;\">0.0</td></tr><tr><td class = \"rowNumber\" style = \"font-weight: bold; text-align: right;\">292</td><td style = \"text-align: right;\">2416</td><td style = \"text-align: right;\">2424</td><td style = \"text-align: right;\">0.0</td><td style = \"text-align: right;\">0.0</td></tr><tr><td class = \"rowNumber\" style = \"font-weight: bold; text-align: right;\">293</td><td style = \"text-align: right;\">2417</td><td style = \"text-align: right;\">2424</td><td style = \"text-align: right;\">0.0</td><td style = \"text-align: right;\">0.0</td></tr><tr><td class = \"rowNumber\" style = \"font-weight: bold; text-align: right;\">294</td><td style = \"text-align: right;\">2418</td><td style = \"text-align: right;\">2424</td><td style = \"text-align: right;\">0.0</td><td style = \"text-align: right;\">0.0</td></tr><tr><td class = \"rowNumber\" style = \"font-weight: bold; text-align: right;\">295</td><td style = \"text-align: right;\">2419</td><td style = \"text-align: right;\">2424</td><td style = \"text-align: right;\">0.0</td><td style = \"text-align: right;\">0.0</td></tr><tr><td class = \"rowNumber\" style = \"font-weight: bold; text-align: right;\">296</td><td style = \"text-align: right;\">2420</td><td style = \"text-align: right;\">2424</td><td style = \"text-align: right;\">0.0</td><td style = \"text-align: right;\">0.0</td></tr><tr><td class = \"rowNumber\" style = \"font-weight: bold; text-align: right;\">297</td><td style = \"text-align: right;\">2421</td><td style = \"text-align: right;\">2424</td><td style = \"text-align: right;\">0.0</td><td style = \"text-align: right;\">0.0</td></tr><tr><td class = \"rowNumber\" style = \"font-weight: bold; text-align: right;\">298</td><td style = \"text-align: right;\">2422</td><td style = \"text-align: right;\">2424</td><td style = \"text-align: right;\">0.0</td><td style = \"text-align: right;\">0.0</td></tr><tr><td class = \"rowNumber\" style = \"font-weight: bold; text-align: right;\">299</td><td style = \"text-align: right;\">2423</td><td style = \"text-align: right;\">2424</td><td style = \"text-align: right;\">0.0</td><td style = \"text-align: right;\">0.0</td></tr><tr><td class = \"rowNumber\" style = \"font-weight: bold; text-align: right;\">300</td><td style = \"text-align: right;\">2424</td><td style = \"text-align: right;\">2424</td><td style = \"text-align: right;\">388.0</td><td style = \"text-align: right;\">88.0</td></tr></tbody></table></div>"
      ],
      "text/latex": [
       "\\begin{tabular}{r|cccc}\n",
       "\t& i\\_hour & t\\_hour & up & down\\\\\n",
       "\t\\hline\n",
       "\t& Int64 & Int64 & Float64 & Float64\\\\\n",
       "\t\\hline\n",
       "\t1 & 2401 & 2401 & 380.75 & 80.75 \\\\\n",
       "\t2 & 2401 & 2402 & 0.0 & 0.0 \\\\\n",
       "\t3 & 2402 & 2402 & 377.65 & 77.65 \\\\\n",
       "\t4 & 2401 & 2403 & 0.0 & 0.0 \\\\\n",
       "\t5 & 2402 & 2403 & 0.0 & 0.0 \\\\\n",
       "\t6 & 2403 & 2403 & 375.9 & 75.9 \\\\\n",
       "\t7 & 2401 & 2404 & 0.0 & 0.0 \\\\\n",
       "\t8 & 2402 & 2404 & 0.0 & 0.0 \\\\\n",
       "\t9 & 2403 & 2404 & 0.0 & 0.0 \\\\\n",
       "\t10 & 2404 & 2404 & 378.1 & 78.1 \\\\\n",
       "\t11 & 2401 & 2405 & 0.0 & 0.0 \\\\\n",
       "\t12 & 2402 & 2405 & 0.0 & 0.0 \\\\\n",
       "\t13 & 2403 & 2405 & 0.0 & 0.0 \\\\\n",
       "\t14 & 2404 & 2405 & 0.0 & 0.0 \\\\\n",
       "\t15 & 2405 & 2405 & 386.65 & 86.65 \\\\\n",
       "\t16 & 2401 & 2406 & 0.0 & 0.0 \\\\\n",
       "\t17 & 2402 & 2406 & 0.0 & 0.0 \\\\\n",
       "\t18 & 2403 & 2406 & 0.0 & 0.0 \\\\\n",
       "\t19 & 2404 & 2406 & 0.0 & 0.0 \\\\\n",
       "\t20 & 2405 & 2406 & 0.0 & 0.0 \\\\\n",
       "\t21 & 2406 & 2406 & 398.8 & 98.8 \\\\\n",
       "\t22 & 2401 & 2407 & 0.0 & 0.0 \\\\\n",
       "\t23 & 2402 & 2407 & 0.0 & 0.0 \\\\\n",
       "\t24 & 2403 & 2407 & 0.0 & 0.0 \\\\\n",
       "\t$\\dots$ & $\\dots$ & $\\dots$ & $\\dots$ & $\\dots$ \\\\\n",
       "\\end{tabular}\n"
      ],
      "text/plain": [
       "\u001b[1m300×4 DataFrame\u001b[0m\n",
       "\u001b[1m Row \u001b[0m│\u001b[1m i_hour \u001b[0m\u001b[1m t_hour \u001b[0m\u001b[1m up      \u001b[0m\u001b[1m down    \u001b[0m\n",
       "     │\u001b[90m Int64  \u001b[0m\u001b[90m Int64  \u001b[0m\u001b[90m Float64 \u001b[0m\u001b[90m Float64 \u001b[0m\n",
       "─────┼──────────────────────────────────\n",
       "   1 │   2401    2401   380.75    80.75\n",
       "   2 │   2401    2402     0.0      0.0\n",
       "   3 │   2402    2402   377.65    77.65\n",
       "   4 │   2401    2403     0.0      0.0\n",
       "   5 │   2402    2403     0.0      0.0\n",
       "   6 │   2403    2403   375.9     75.9\n",
       "   7 │   2401    2404     0.0      0.0\n",
       "   8 │   2402    2404     0.0      0.0\n",
       "  ⋮  │   ⋮       ⋮        ⋮        ⋮\n",
       " 294 │   2418    2424     0.0      0.0\n",
       " 295 │   2419    2424     0.0      0.0\n",
       " 296 │   2420    2424     0.0      0.0\n",
       " 297 │   2421    2424     0.0      0.0\n",
       " 298 │   2422    2424     0.0      0.0\n",
       " 299 │   2423    2424     0.0      0.0\n",
       " 300 │   2424    2424   388.0     88.0\n",
       "\u001b[36m                        285 rows omitted\u001b[0m"
      ]
     },
     "metadata": {},
     "output_type": "display_data"
    }
   ],
   "source": [
    "\n",
    "gen_info, fuels, loads, gen_variable_info, storage_info = read_data()\n",
    "gen_df = pre_process_generators_data(gen_info, fuels)\n",
    "storage_df = pre_process_storage_data(storage_info)\n",
    "\n",
    "# A spring day\n",
    "n=100\n",
    "T_period = (n*24+1):((n+1)*24)\n",
    "\n",
    "# High solar case: 3,500 MW\n",
    "gen_df_sens = copy(gen_df)\n",
    "gen_df_sens[gen_df_sens.resource .== \"solar_photovoltaic\",\n",
    "    :existing_cap_mw] .= 3500\n",
    "gen_variable = pre_process_gen_variable(gen_df_sens, gen_variable_info)\n",
    "\n",
    "# Filtering data with timeseries according to T_period\n",
    "gen_variable_multi = gen_variable[in.(gen_variable.hour,Ref(T_period)),:];\n",
    "loads_multi = loads[in.(loads.hour,Ref(T_period)),:];\n",
    "\n",
    "reserve = DataFrame(\n",
    "    hour = loads[in.(loads.hour, Ref(T_period)), :hour],\n",
    "    up = 300 .+ loads[in.(loads.hour,Ref(T_period)), :demand].*0.05,\n",
    "    down = loads[in.(loads.hour, Ref(T_period)), :demand].*0.05)\n",
    "\n",
    "\n",
    "energy_reserve = [(row_1.hour, row_2.hour, row_1.up*(row_1.hour == row_2.hour), row_1.down*(row_1.hour == row_2.hour)) for row_1 in eachrow(reserve), row_2 in eachrow(reserve) if row_1.hour <= row_2.hour]\n",
    "energy_reserve = DataFrame(energy_reserve)\n",
    "energy_reserve = rename(energy_reserve, :1 => :i_hour, :2 => :t_hour, :3 => :up, :4 => :down,)\n",
    ";"
   ]
  },
  {
   "cell_type": "code",
   "execution_count": 40,
   "metadata": {},
   "outputs": [
    {
     "name": "stdout",
     "output_type": "stream",
     "text": [
      "Set parameter WLSAccessID\n",
      "Set parameter WLSSecret\n",
      "Set parameter LicenseID to value 2475843\n",
      "Academic license 2475843 - for non-commercial use only - registered to pa___@imperial.ac.uk\n",
      "Set parameter MIPGap to value 0.001\n",
      "Adding ramp constraints...\n",
      "Adding storage...\n"
     ]
    },
    {
     "name": "stdout",
     "output_type": "stream",
     "text": [
      "Set parameter MIPGap to value 0.001\n",
      "Gurobi Optimizer version 11.0.0 build v11.0.0rc2 (linux64 - \"Ubuntu 22.04.3 LTS\")\n",
      "\n",
      "CPU model: 11th Gen Intel(R) Core(TM) i7-11370H @ 3.30GHz, instruction set [SSE2|AVX|AVX2|AVX512]\n",
      "Thread count: 4 physical cores, 8 logical processors, using up to 8 threads\n",
      "\n",
      "Academic license 2475843 - for non-commercial use only - registered to pa___@imperial.ac.uk\n",
      "Optimize a model with 6692 rows, 3720 columns and 17076 nonzeros\n",
      "Model fingerprint: 0x6ec01c60\n",
      "Variable types: 1896 continuous, 1824 integer (1824 binary)\n",
      "Coefficient statistics:\n",
      "  Matrix range     [9e-01, 1e+03]\n",
      "  Objective range  [1e-01, 5e+04]\n",
      "  Bounds range     [0e+00, 0e+00]\n",
      "  RHS range        [1e+00, 4e+03]\n",
      "Presolve removed 3316 rows and 674 columns\n",
      "Presolve time: 0.03s\n",
      "Presolved: 3376 rows, 3046 columns, 13026 nonzeros\n",
      "Variable types: 1266 continuous, 1780 integer (1780 binary)\n",
      "\n",
      "Root relaxation: objective 6.032806e+05, 566 iterations, 0.02 seconds (0.01 work units)\n",
      "\n",
      "    Nodes    |    Current Node    |     Objective Bounds      |     Work\n",
      " Expl Unexpl |  Obj  Depth IntInf | Incumbent    BestBd   Gap | It/Node Time\n",
      "\n",
      "     0     0 603280.602    0    9          - 603280.602      -     -    0s\n",
      "H    0     0                    603457.66965 603280.602  0.03%     -    0s\n",
      "\n",
      "Explored 1 nodes (566 simplex iterations) in 0.14 seconds (0.07 work units)\n",
      "Thread count was 8 (of 8 available processors)\n",
      "\n",
      "Solution count 1: 603458 \n",
      "\n",
      "Optimal solution found (tolerance 1.00e-03)\n",
      "Best objective 6.034576696459e+05, best bound 6.032806020334e+05, gap 0.0293%\n",
      "\n",
      "User-callback calls 469, time in user-callback 0.00 sec\n"
     ]
    }
   ],
   "source": [
    "solution = solve_unit_commitment(\n",
    "    gen_df_sens,\n",
    "    loads_multi,\n",
    "    gen_variable_multi,\n",
    "    0.001,\n",
    "    ramp_constraints = true,\n",
    "    storage = storage_df,\n",
    "    enriched_solution = true);"
   ]
  },
  {
   "cell_type": "code",
   "execution_count": 41,
   "metadata": {},
   "outputs": [
    {
     "data": {
      "application/vnd.vegalite.v5+json": {
       "data": {
        "values": [
         {
          "hour": 2401,
          "production_MW": 163.3088,
          "resource": "onshore_wind_turbine"
         },
         {
          "hour": 2401,
          "production_MW": 3.184932,
          "resource": "small_hydroelectric"
         },
         {
          "hour": 2401,
          "production_MW": 0,
          "resource": "solar_photovoltaic"
         },
         {
          "hour": 2402,
          "production_MW": 169.79327999999998,
          "resource": "onshore_wind_turbine"
         },
         {
          "hour": 2402,
          "production_MW": 3.184932,
          "resource": "small_hydroelectric"
         },
         {
          "hour": 2402,
          "production_MW": 0,
          "resource": "solar_photovoltaic"
         },
         {
          "hour": 2403,
          "production_MW": 115.1104,
          "resource": "onshore_wind_turbine"
         },
         {
          "hour": 2403,
          "production_MW": 3.184932,
          "resource": "small_hydroelectric"
         },
         {
          "hour": 2403,
          "production_MW": 0,
          "resource": "solar_photovoltaic"
         },
         {
          "hour": 2404,
          "production_MW": 100.55296,
          "resource": "onshore_wind_turbine"
         },
         {
          "hour": 2404,
          "production_MW": 3.184931999999989,
          "resource": "small_hydroelectric"
         },
         {
          "hour": 2404,
          "production_MW": 0,
          "resource": "solar_photovoltaic"
         },
         {
          "hour": 2405,
          "production_MW": 80.57728,
          "resource": "onshore_wind_turbine"
         },
         {
          "hour": 2405,
          "production_MW": 3.184932,
          "resource": "small_hydroelectric"
         },
         {
          "hour": 2405,
          "production_MW": 0,
          "resource": "solar_photovoltaic"
         },
         {
          "hour": 2406,
          "production_MW": 139.17695999999998,
          "resource": "onshore_wind_turbine"
         },
         {
          "hour": 2406,
          "production_MW": 3.184932,
          "resource": "small_hydroelectric"
         },
         {
          "hour": 2406,
          "production_MW": 0,
          "resource": "solar_photovoltaic"
         },
         {
          "hour": 2407,
          "production_MW": 74.17984,
          "resource": "onshore_wind_turbine"
         },
         {
          "hour": 2407,
          "production_MW": 3.184932,
          "resource": "small_hydroelectric"
         },
         {
          "hour": 2407,
          "production_MW": 193.55,
          "resource": "solar_photovoltaic"
         },
         {
          "hour": 2408,
          "production_MW": 49.373439999999995,
          "resource": "onshore_wind_turbine"
         },
         {
          "hour": 2408,
          "production_MW": 3.184932,
          "resource": "small_hydroelectric"
         },
         {
          "hour": 2408,
          "production_MW": 773.85,
          "resource": "solar_photovoltaic"
         },
         {
          "hour": 2409,
          "production_MW": 167.35616,
          "resource": "onshore_wind_turbine"
         },
         {
          "hour": 2409,
          "production_MW": 3.184932,
          "resource": "small_hydroelectric"
         },
         {
          "hour": 2409,
          "production_MW": 1671.6,
          "resource": "solar_photovoltaic"
         },
         {
          "hour": 2410,
          "production_MW": 131.56096000000014,
          "resource": "onshore_wind_turbine"
         },
         {
          "hour": 2410,
          "production_MW": 3.184932,
          "resource": "small_hydroelectric"
         },
         {
          "hour": 2410,
          "production_MW": 2014.95,
          "resource": "solar_photovoltaic"
         },
         {
          "hour": 2411,
          "production_MW": 111.1936,
          "resource": "onshore_wind_turbine"
         },
         {
          "hour": 2411,
          "production_MW": 3.184932,
          "resource": "small_hydroelectric"
         },
         {
          "hour": 2411,
          "production_MW": 2113.65,
          "resource": "solar_photovoltaic"
         },
         {
          "hour": 2412,
          "production_MW": 92.11008,
          "resource": "onshore_wind_turbine"
         },
         {
          "hour": 2412,
          "production_MW": 3.184932,
          "resource": "small_hydroelectric"
         },
         {
          "hour": 2412,
          "production_MW": 2148.65,
          "resource": "solar_photovoltaic"
         },
         {
          "hour": 2413,
          "production_MW": 52.09344,
          "resource": "onshore_wind_turbine"
         },
         {
          "hour": 2413,
          "production_MW": 3.184932,
          "resource": "small_hydroelectric"
         },
         {
          "hour": 2413,
          "production_MW": 2256.1,
          "resource": "solar_photovoltaic"
         },
         {
          "hour": 2414,
          "production_MW": 64.69248,
          "resource": "onshore_wind_turbine"
         },
         {
          "hour": 2414,
          "production_MW": 3.184932,
          "resource": "small_hydroelectric"
         },
         {
          "hour": 2414,
          "production_MW": 2259.25,
          "resource": "solar_photovoltaic"
         },
         {
          "hour": 2415,
          "production_MW": 49.22112,
          "resource": "onshore_wind_turbine"
         },
         {
          "hour": 2415,
          "production_MW": 3.184932,
          "resource": "small_hydroelectric"
         },
         {
          "hour": 2415,
          "production_MW": 2184.35,
          "resource": "solar_photovoltaic"
         },
         {
          "hour": 2416,
          "production_MW": 65.41055999999999,
          "resource": "onshore_wind_turbine"
         },
         {
          "hour": 2416,
          "production_MW": 3.184932,
          "resource": "small_hydroelectric"
         },
         {
          "hour": 2416,
          "production_MW": 1993.25,
          "resource": "solar_photovoltaic"
         },
         {
          "hour": 2417,
          "production_MW": 57.18527999999999,
          "resource": "onshore_wind_turbine"
         },
         {
          "hour": 2417,
          "production_MW": 3.184932,
          "resource": "small_hydroelectric"
         },
         {
          "hour": 2417,
          "production_MW": 1637.3,
          "resource": "solar_photovoltaic"
         },
         {
          "hour": 2418,
          "production_MW": 78.61888,
          "resource": "onshore_wind_turbine"
         },
         {
          "hour": 2418,
          "production_MW": 3.184932,
          "resource": "small_hydroelectric"
         },
         {
          "hour": 2418,
          "production_MW": 1132.6,
          "resource": "solar_photovoltaic"
         },
         {
          "hour": 2419,
          "production_MW": 52.61568,
          "resource": "onshore_wind_turbine"
         },
         {
          "hour": 2419,
          "production_MW": 3.184932,
          "resource": "small_hydroelectric"
         },
         {
          "hour": 2419,
          "production_MW": 166.95,
          "resource": "solar_photovoltaic"
         },
         {
          "hour": 2420,
          "production_MW": 61.42848,
          "resource": "onshore_wind_turbine"
         },
         {
          "hour": 2420,
          "production_MW": 3.1849320000000105,
          "resource": "small_hydroelectric"
         },
         {
          "hour": 2420,
          "production_MW": 0,
          "resource": "solar_photovoltaic"
         },
         {
          "hour": 2421,
          "production_MW": 71.9168,
          "resource": "onshore_wind_turbine"
         },
         {
          "hour": 2421,
          "production_MW": 3.184932,
          "resource": "small_hydroelectric"
         },
         {
          "hour": 2421,
          "production_MW": 0,
          "resource": "solar_photovoltaic"
         },
         {
          "hour": 2422,
          "production_MW": 96.04864,
          "resource": "onshore_wind_turbine"
         },
         {
          "hour": 2422,
          "production_MW": 3.184932,
          "resource": "small_hydroelectric"
         },
         {
          "hour": 2422,
          "production_MW": 0,
          "resource": "solar_photovoltaic"
         },
         {
          "hour": 2423,
          "production_MW": 126.46912,
          "resource": "onshore_wind_turbine"
         },
         {
          "hour": 2423,
          "production_MW": 3.184932,
          "resource": "small_hydroelectric"
         },
         {
          "hour": 2423,
          "production_MW": 0,
          "resource": "solar_photovoltaic"
         },
         {
          "hour": 2424,
          "production_MW": 144.42111999999997,
          "resource": "onshore_wind_turbine"
         },
         {
          "hour": 2424,
          "production_MW": 3.184932,
          "resource": "small_hydroelectric"
         },
         {
          "hour": 2424,
          "production_MW": 0,
          "resource": "solar_photovoltaic"
         },
         {
          "hour": 2401,
          "production_MW": 0,
          "resource": "biomass"
         },
         {
          "hour": 2401,
          "production_MW": 42,
          "resource": "hydroelectric_pumped_storage"
         },
         {
          "hour": 2401,
          "production_MW": 478.57287679599926,
          "resource": "natural_gas_fired_combined_cycle"
         },
         {
          "hour": 2401,
          "production_MW": 0,
          "resource": "natural_gas_fired_combustion_turbine"
         },
         {
          "hour": 2402,
          "production_MW": 21.4,
          "resource": "biomass"
         },
         {
          "hour": 2402,
          "production_MW": 42,
          "resource": "hydroelectric_pumped_storage"
         },
         {
          "hour": 2402,
          "production_MW": 981.1728767959993,
          "resource": "natural_gas_fired_combined_cycle"
         },
         {
          "hour": 2402,
          "production_MW": 0,
          "resource": "natural_gas_fired_combustion_turbine"
         },
         {
          "hour": 2403,
          "production_MW": 21.4,
          "resource": "biomass"
         },
         {
          "hour": 2403,
          "production_MW": 42,
          "resource": "hydroelectric_pumped_storage"
         },
         {
          "hour": 2403,
          "production_MW": 1256.5,
          "resource": "natural_gas_fired_combined_cycle"
         },
         {
          "hour": 2403,
          "production_MW": 0,
          "resource": "natural_gas_fired_combustion_turbine"
         },
         {
          "hour": 2404,
          "production_MW": 21.4,
          "resource": "biomass"
         },
         {
          "hour": 2404,
          "production_MW": 42,
          "resource": "hydroelectric_pumped_storage"
         },
         {
          "hour": 2404,
          "production_MW": 1256.5,
          "resource": "natural_gas_fired_combined_cycle"
         },
         {
          "hour": 2404,
          "production_MW": 0,
          "resource": "natural_gas_fired_combustion_turbine"
         },
         {
          "hour": 2405,
          "production_MW": 21.4,
          "resource": "biomass"
         },
         {
          "hour": 2405,
          "production_MW": 42,
          "resource": "hydroelectric_pumped_storage"
         },
         {
          "hour": 2405,
          "production_MW": 1256.5,
          "resource": "natural_gas_fired_combined_cycle"
         },
         {
          "hour": 2405,
          "production_MW": 0,
          "resource": "natural_gas_fired_combustion_turbine"
         },
         {
          "hour": 2406,
          "production_MW": 21.4,
          "resource": "biomass"
         },
         {
          "hour": 2406,
          "production_MW": 42,
          "resource": "hydroelectric_pumped_storage"
         },
         {
          "hour": 2406,
          "production_MW": 1256.5,
          "resource": "natural_gas_fired_combined_cycle"
         },
         {
          "hour": 2406,
          "production_MW": 0,
          "resource": "natural_gas_fired_combustion_turbine"
         },
         {
          "hour": 2407,
          "production_MW": 21.4,
          "resource": "biomass"
         },
         {
          "hour": 2407,
          "production_MW": 42,
          "resource": "hydroelectric_pumped_storage"
         },
         {
          "hour": 2407,
          "production_MW": 1256.5,
          "resource": "natural_gas_fired_combined_cycle"
         },
         {
          "hour": 2407,
          "production_MW": 0,
          "resource": "natural_gas_fired_combustion_turbine"
         },
         {
          "hour": 2408,
          "production_MW": 21.4,
          "resource": "biomass"
         },
         {
          "hour": 2408,
          "production_MW": 42,
          "resource": "hydroelectric_pumped_storage"
         },
         {
          "hour": 2408,
          "production_MW": 1256.5,
          "resource": "natural_gas_fired_combined_cycle"
         },
         {
          "hour": 2408,
          "production_MW": 0,
          "resource": "natural_gas_fired_combustion_turbine"
         },
         {
          "hour": 2409,
          "production_MW": 21.4,
          "resource": "biomass"
         },
         {
          "hour": 2409,
          "production_MW": 42,
          "resource": "hydroelectric_pumped_storage"
         },
         {
          "hour": 2409,
          "production_MW": 1224.74,
          "resource": "natural_gas_fired_combined_cycle"
         },
         {
          "hour": 2409,
          "production_MW": 0,
          "resource": "natural_gas_fired_combustion_turbine"
         },
         {
          "hour": 2410,
          "production_MW": 21.4,
          "resource": "biomass"
         },
         {
          "hour": 2410,
          "production_MW": 42,
          "resource": "hydroelectric_pumped_storage"
         },
         {
          "hour": 2410,
          "production_MW": 1189.6699276999998,
          "resource": "natural_gas_fired_combined_cycle"
         },
         {
          "hour": 2410,
          "production_MW": 0,
          "resource": "natural_gas_fired_combustion_turbine"
         },
         {
          "hour": 2411,
          "production_MW": 21.4,
          "resource": "biomass"
         },
         {
          "hour": 2411,
          "production_MW": 42,
          "resource": "hydroelectric_pumped_storage"
         },
         {
          "hour": 2411,
          "production_MW": 1218.3000000000002,
          "resource": "natural_gas_fired_combined_cycle"
         },
         {
          "hour": 2411,
          "production_MW": 0,
          "resource": "natural_gas_fired_combustion_turbine"
         },
         {
          "hour": 2412,
          "production_MW": 21.4,
          "resource": "biomass"
         },
         {
          "hour": 2412,
          "production_MW": 42,
          "resource": "hydroelectric_pumped_storage"
         },
         {
          "hour": 2412,
          "production_MW": 1083.4057475521736,
          "resource": "natural_gas_fired_combined_cycle"
         },
         {
          "hour": 2412,
          "production_MW": 0,
          "resource": "natural_gas_fired_combustion_turbine"
         },
         {
          "hour": 2413,
          "production_MW": 21.4,
          "resource": "biomass"
         },
         {
          "hour": 2413,
          "production_MW": 42,
          "resource": "hydroelectric_pumped_storage"
         },
         {
          "hour": 2413,
          "production_MW": 1218.3000000000002,
          "resource": "natural_gas_fired_combined_cycle"
         },
         {
          "hour": 2413,
          "production_MW": 0,
          "resource": "natural_gas_fired_combustion_turbine"
         },
         {
          "hour": 2414,
          "production_MW": 21.4,
          "resource": "biomass"
         },
         {
          "hour": 2414,
          "production_MW": 42,
          "resource": "hydroelectric_pumped_storage"
         },
         {
          "hour": 2414,
          "production_MW": 1218.3000000000002,
          "resource": "natural_gas_fired_combined_cycle"
         },
         {
          "hour": 2414,
          "production_MW": 0,
          "resource": "natural_gas_fired_combustion_turbine"
         },
         {
          "hour": 2415,
          "production_MW": 21.4,
          "resource": "biomass"
         },
         {
          "hour": 2415,
          "production_MW": 42,
          "resource": "hydroelectric_pumped_storage"
         },
         {
          "hour": 2415,
          "production_MW": 1205.3943987999999,
          "resource": "natural_gas_fired_combined_cycle"
         },
         {
          "hour": 2415,
          "production_MW": 0,
          "resource": "natural_gas_fired_combustion_turbine"
         },
         {
          "hour": 2416,
          "production_MW": 21.4,
          "resource": "biomass"
         },
         {
          "hour": 2416,
          "production_MW": 42,
          "resource": "hydroelectric_pumped_storage"
         },
         {
          "hour": 2416,
          "production_MW": 1145.7894363,
          "resource": "natural_gas_fired_combined_cycle"
         },
         {
          "hour": 2416,
          "production_MW": 0,
          "resource": "natural_gas_fired_combustion_turbine"
         },
         {
          "hour": 2417,
          "production_MW": 21.4,
          "resource": "biomass"
         },
         {
          "hour": 2417,
          "production_MW": 42,
          "resource": "hydroelectric_pumped_storage"
         },
         {
          "hour": 2417,
          "production_MW": 1130.294909269751,
          "resource": "natural_gas_fired_combined_cycle"
         },
         {
          "hour": 2417,
          "production_MW": 0,
          "resource": "natural_gas_fired_combustion_turbine"
         },
         {
          "hour": 2418,
          "production_MW": 21.4,
          "resource": "biomass"
         },
         {
          "hour": 2418,
          "production_MW": 42,
          "resource": "hydroelectric_pumped_storage"
         },
         {
          "hour": 2418,
          "production_MW": 1224.74,
          "resource": "natural_gas_fired_combined_cycle"
         },
         {
          "hour": 2418,
          "production_MW": 0,
          "resource": "natural_gas_fired_combustion_turbine"
         },
         {
          "hour": 2419,
          "production_MW": 21.4,
          "resource": "biomass"
         },
         {
          "hour": 2419,
          "production_MW": 42,
          "resource": "hydroelectric_pumped_storage"
         },
         {
          "hour": 2419,
          "production_MW": 1256.5,
          "resource": "natural_gas_fired_combined_cycle"
         },
         {
          "hour": 2419,
          "production_MW": 0,
          "resource": "natural_gas_fired_combustion_turbine"
         },
         {
          "hour": 2420,
          "production_MW": 21.4,
          "resource": "biomass"
         },
         {
          "hour": 2420,
          "production_MW": 42,
          "resource": "hydroelectric_pumped_storage"
         },
         {
          "hour": 2420,
          "production_MW": 1256.5,
          "resource": "natural_gas_fired_combined_cycle"
         },
         {
          "hour": 2420,
          "production_MW": 0,
          "resource": "natural_gas_fired_combustion_turbine"
         },
         {
          "hour": 2421,
          "production_MW": 21.4,
          "resource": "biomass"
         },
         {
          "hour": 2421,
          "production_MW": 42,
          "resource": "hydroelectric_pumped_storage"
         },
         {
          "hour": 2421,
          "production_MW": 1256.5,
          "resource": "natural_gas_fired_combined_cycle"
         },
         {
          "hour": 2421,
          "production_MW": 0,
          "resource": "natural_gas_fired_combustion_turbine"
         },
         {
          "hour": 2422,
          "production_MW": 21.4,
          "resource": "biomass"
         },
         {
          "hour": 2422,
          "production_MW": 42,
          "resource": "hydroelectric_pumped_storage"
         },
         {
          "hour": 2422,
          "production_MW": 1256.5,
          "resource": "natural_gas_fired_combined_cycle"
         },
         {
          "hour": 2422,
          "production_MW": 0,
          "resource": "natural_gas_fired_combustion_turbine"
         },
         {
          "hour": 2423,
          "production_MW": 21.4,
          "resource": "biomass"
         },
         {
          "hour": 2423,
          "production_MW": 42,
          "resource": "hydroelectric_pumped_storage"
         },
         {
          "hour": 2423,
          "production_MW": 963.6402000000006,
          "resource": "natural_gas_fired_combined_cycle"
         },
         {
          "hour": 2423,
          "production_MW": 0,
          "resource": "natural_gas_fired_combustion_turbine"
         },
         {
          "hour": 2424,
          "production_MW": 0,
          "resource": "biomass"
         },
         {
          "hour": 2424,
          "production_MW": 42,
          "resource": "hydroelectric_pumped_storage"
         },
         {
          "hour": 2424,
          "production_MW": 0,
          "resource": "natural_gas_fired_combined_cycle"
         },
         {
          "hour": 2424,
          "production_MW": 0,
          "resource": "natural_gas_fired_combustion_turbine"
         },
         {
          "hour": 2401,
          "production_MW": 927.9333912040006,
          "resource": "battery"
         },
         {
          "hour": 2402,
          "production_MW": 335.4489112040008,
          "resource": "battery"
         },
         {
          "hour": 2403,
          "production_MW": 79.80466799999994,
          "resource": "battery"
         },
         {
          "hour": 2404,
          "production_MW": 138.36210799999975,
          "resource": "battery"
         },
         {
          "hour": 2405,
          "production_MW": 329.33778799999976,
          "resource": "battery"
         },
         {
          "hour": 2406,
          "production_MW": 513.738108,
          "resource": "battery"
         },
         {
          "hour": 2407,
          "production_MW": 683.1852279999998,
          "resource": "battery"
         },
         {
          "hour": 2408,
          "production_MW": 450.69162800000004,
          "resource": "battery"
         },
         {
          "hour": 2409,
          "production_MW": 0,
          "resource": "battery"
         },
         {
          "hour": 2410,
          "production_MW": 0,
          "resource": "battery"
         },
         {
          "hour": 2411,
          "production_MW": 0,
          "resource": "battery"
         },
         {
          "hour": 2412,
          "production_MW": 0,
          "resource": "battery"
         },
         {
          "hour": 2413,
          "production_MW": 0,
          "resource": "battery"
         },
         {
          "hour": 2414,
          "production_MW": 0,
          "resource": "battery"
         },
         {
          "hour": 2415,
          "production_MW": 0,
          "resource": "battery"
         },
         {
          "hour": 2416,
          "production_MW": 0,
          "resource": "battery"
         },
         {
          "hour": 2417,
          "production_MW": 0,
          "resource": "battery"
         },
         {
          "hour": 2418,
          "production_MW": 0,
          "resource": "battery"
         },
         {
          "hour": 2419,
          "production_MW": 835.3493879999999,
          "resource": "battery"
         },
         {
          "hour": 2420,
          "production_MW": 1116.4865879999998,
          "resource": "battery"
         },
         {
          "hour": 2421,
          "production_MW": 1110.9982679999998,
          "resource": "battery"
         },
         {
          "hour": 2422,
          "production_MW": 838.8664279999998,
          "resource": "battery"
         },
         {
          "hour": 2423,
          "production_MW": 831.3057479999991,
          "resource": "battery"
         },
         {
          "hour": 2424,
          "production_MW": 1570.3939479999997,
          "resource": "battery"
         }
        ]
       },
       "encoding": {
        "color": {
         "field": "resource",
         "scale": {
          "scheme": "category10"
         },
         "type": "nominal"
        },
        "x": {
         "field": "hour",
         "type": "quantitative"
        },
        "y": {
         "field": "production_MW",
         "stack": "zero",
         "type": "quantitative"
        }
       },
       "mark": "area"
      },
      "image/png": "[encoded data removed]",
      "image/svg+xml": [
       "<svg xmlns=\"http://www.w3.org/2000/svg\" xmlns:xlink=\"http://www.w3.org/1999/xlink\" version=\"1.1\" class=\"marks\" width=\"455\" height=\"247\" viewBox=\"0 0 455 247\"><rect width=\"455\" height=\"247\" fill=\"white\"/><g fill=\"none\" stroke-miterlimit=\"10\" transform=\"translate(56,10)\"><g class=\"mark-group role-frame root\" role=\"graphics-object\" aria-roledescription=\"group mark container\"><g transform=\"translate(0,0)\"><path class=\"background\" aria-hidden=\"true\" d=\"M0.5,0.5h200v200h-200Z\" stroke=\"#ddd\"/><g><g class=\"mark-group role-axis\" aria-hidden=\"true\"><g transform=\"translate(0.5,200.5)\"><path class=\"background\" aria-hidden=\"true\" d=\"M0,0h0v0h0Z\" pointer-events=\"none\"/><g><g class=\"mark-rule role-axis-grid\" pointer-events=\"none\"><line transform=\"translate(0,-200)\" x2=\"0\" y2=\"200\" stroke=\"#ddd\" stroke-width=\"1\" opacity=\"1\"/><line transform=\"translate(42,-200)\" x2=\"0\" y2=\"200\" stroke=\"#ddd\" stroke-width=\"1\" opacity=\"1\"/><line transform=\"translate(83,-200)\" x2=\"0\" y2=\"200\" stroke=\"#ddd\" stroke-width=\"1\" opacity=\"1\"/><line transform=\"translate(125,-200)\" x2=\"0\" y2=\"200\" stroke=\"#ddd\" stroke-width=\"1\" opacity=\"1\"/><line transform=\"translate(167,-200)\" x2=\"0\" y2=\"200\" stroke=\"#ddd\" stroke-width=\"1\" opacity=\"1\"/></g></g><path class=\"foreground\" aria-hidden=\"true\" d=\"\" pointer-events=\"none\" display=\"none\"/></g></g><g class=\"mark-group role-axis\" aria-hidden=\"true\"><g transform=\"translate(0.5,0.5)\"><path class=\"background\" aria-hidden=\"true\" d=\"M0,0h0v0h0Z\" pointer-events=\"none\"/><g><g class=\"mark-rule role-axis-grid\" pointer-events=\"none\"><line transform=\"translate(0,200)\" x2=\"200\" y2=\"0\" stroke=\"#ddd\" stroke-width=\"1\" opacity=\"1\"/><line transform=\"translate(0,150)\" x2=\"200\" y2=\"0\" stroke=\"#ddd\" stroke-width=\"1\" opacity=\"1\"/><line transform=\"translate(0,100)\" x2=\"200\" y2=\"0\" stroke=\"#ddd\" stroke-width=\"1\" opacity=\"1\"/><line transform=\"translate(0,50)\" x2=\"200\" y2=\"0\" stroke=\"#ddd\" stroke-width=\"1\" opacity=\"1\"/><line transform=\"translate(0,0)\" x2=\"200\" y2=\"0\" stroke=\"#ddd\" stroke-width=\"1\" opacity=\"1\"/></g></g><path class=\"foreground\" aria-hidden=\"true\" d=\"\" pointer-events=\"none\" display=\"none\"/></g></g><g class=\"mark-group role-axis\" role=\"graphics-symbol\" aria-roledescription=\"axis\" aria-label=\"X-axis titled 'hour' for a linear scale with values from 2,400 to 2,424\"><g transform=\"translate(0.5,200.5)\"><path class=\"background\" aria-hidden=\"true\" d=\"M0,0h0v0h0Z\" pointer-events=\"none\"/><g><g class=\"mark-rule role-axis-tick\" pointer-events=\"none\"><line transform=\"translate(0,0)\" x2=\"0\" y2=\"5\" stroke=\"#888\" stroke-width=\"1\" opacity=\"1\"/><line transform=\"translate(42,0)\" x2=\"0\" y2=\"5\" stroke=\"#888\" stroke-width=\"1\" opacity=\"1\"/><line transform=\"translate(83,0)\" x2=\"0\" y2=\"5\" stroke=\"#888\" stroke-width=\"1\" opacity=\"1\"/><line transform=\"translate(125,0)\" x2=\"0\" y2=\"5\" stroke=\"#888\" stroke-width=\"1\" opacity=\"1\"/><line transform=\"translate(167,0)\" x2=\"0\" y2=\"5\" stroke=\"#888\" stroke-width=\"1\" opacity=\"1\"/></g><g class=\"mark-text role-axis-label\" pointer-events=\"none\"><text text-anchor=\"start\" transform=\"translate(0,15)\" font-family=\"sans-serif\" font-size=\"10px\" fill=\"#000\" opacity=\"1\">2,400</text><text text-anchor=\"middle\" transform=\"translate(41.66666666666667,15)\" font-family=\"sans-serif\" font-size=\"10px\" fill=\"#000\" opacity=\"0\">2,405</text><text text-anchor=\"middle\" transform=\"translate(83.33333333333334,15)\" font-family=\"sans-serif\" font-size=\"10px\" fill=\"#000\" opacity=\"1\">2,410</text><text text-anchor=\"middle\" transform=\"translate(125,15)\" font-family=\"sans-serif\" font-size=\"10px\" fill=\"#000\" opacity=\"0\">2,415</text><text text-anchor=\"middle\" transform=\"translate(166.66666666666669,15)\" font-family=\"sans-serif\" font-size=\"10px\" fill=\"#000\" opacity=\"1\">2,420</text></g><g class=\"mark-rule role-axis-domain\" pointer-events=\"none\"><line transform=\"translate(0,0)\" x2=\"200\" y2=\"0\" stroke=\"#888\" stroke-width=\"1\" opacity=\"1\"/></g><g class=\"mark-text role-axis-title\" pointer-events=\"none\"><text text-anchor=\"middle\" transform=\"translate(100,30)\" font-family=\"sans-serif\" font-size=\"11px\" font-weight=\"bold\" fill=\"#000\" opacity=\"1\">hour</text></g></g><path class=\"foreground\" aria-hidden=\"true\" d=\"\" pointer-events=\"none\" display=\"none\"/></g></g><g class=\"mark-group role-axis\" role=\"graphics-symbol\" aria-roledescription=\"axis\" aria-label=\"Y-axis titled 'production_MW' for a linear scale with values from 0 to 4,000\"><g transform=\"translate(0.5,0.5)\"><path class=\"background\" aria-hidden=\"true\" d=\"M0,0h0v0h0Z\" pointer-events=\"none\"/><g><g class=\"mark-rule role-axis-tick\" pointer-events=\"none\"><line transform=\"translate(0,200)\" x2=\"-5\" y2=\"0\" stroke=\"#888\" stroke-width=\"1\" opacity=\"1\"/><line transform=\"translate(0,150)\" x2=\"-5\" y2=\"0\" stroke=\"#888\" stroke-width=\"1\" opacity=\"1\"/><line transform=\"translate(0,100)\" x2=\"-5\" y2=\"0\" stroke=\"#888\" stroke-width=\"1\" opacity=\"1\"/><line transform=\"translate(0,50)\" x2=\"-5\" y2=\"0\" stroke=\"#888\" stroke-width=\"1\" opacity=\"1\"/><line transform=\"translate(0,0)\" x2=\"-5\" y2=\"0\" stroke=\"#888\" stroke-width=\"1\" opacity=\"1\"/></g><g class=\"mark-text role-axis-label\" pointer-events=\"none\"><text text-anchor=\"end\" transform=\"translate(-7,203)\" font-family=\"sans-serif\" font-size=\"10px\" fill=\"#000\" opacity=\"1\">0</text><text text-anchor=\"end\" transform=\"translate(-7,153)\" font-family=\"sans-serif\" font-size=\"10px\" fill=\"#000\" opacity=\"1\">1,000</text><text text-anchor=\"end\" transform=\"translate(-7,103)\" font-family=\"sans-serif\" font-size=\"10px\" fill=\"#000\" opacity=\"1\">2,000</text><text text-anchor=\"end\" transform=\"translate(-7,53)\" font-family=\"sans-serif\" font-size=\"10px\" fill=\"#000\" opacity=\"1\">3,000</text><text text-anchor=\"end\" transform=\"translate(-7,3)\" font-family=\"sans-serif\" font-size=\"10px\" fill=\"#000\" opacity=\"1\">4,000</text></g><g class=\"mark-rule role-axis-domain\" pointer-events=\"none\"><line transform=\"translate(0,200)\" x2=\"0\" y2=\"-200\" stroke=\"#888\" stroke-width=\"1\" opacity=\"1\"/></g><g class=\"mark-text role-axis-title\" pointer-events=\"none\"><text text-anchor=\"middle\" transform=\"translate(-39.6279296875,100) rotate(-90) translate(0,-2)\" font-family=\"sans-serif\" font-size=\"11px\" font-weight=\"bold\" fill=\"#000\" opacity=\"1\">production_MW</text></g></g><path class=\"foreground\" aria-hidden=\"true\" d=\"\" pointer-events=\"none\" display=\"none\"/></g></g><g class=\"mark-group role-scope pathgroup\" role=\"graphics-object\" aria-roledescription=\"group mark container\"><g transform=\"translate(0,0)\"><path class=\"background\" aria-hidden=\"true\" d=\"M0,0h200v200h-200Z\"/><g><g class=\"mark-area role-mark marks\" role=\"graphics-object\" aria-roledescription=\"area mark container\"><path aria-label=\"hour: 2401; production_MW: 163.3088; resource: onshore_wind_turbine\" role=\"graphics-symbol\" aria-roledescription=\"area mark\" d=\"M8.333,191.675L16.667,191.351L25,194.085L33.333,194.813L41.667,195.812L50,192.882L58.333,186.454L66.667,158.68L75,107.893L83.333,92.515L91.667,88.599L100,87.803L108.333,84.431L116.667,83.644L125,88.162L133.333,96.908L141.667,115.116L150,139.28L158.333,188.862L166.667,196.769L175,196.245L183.333,195.038L191.667,193.517L200,192.62L200,199.841L191.667,199.841L183.333,199.841L175,199.841L166.667,199.841L158.333,191.493L150,143.211L141.667,117.976L133.333,100.178L125,90.623L116.667,86.878L108.333,87.036L100,92.408L91.667,94.158L83.333,99.093L75,116.261L66.667,161.148L58.333,190.163L50,199.841L41.667,199.841L33.333,199.841L25,199.841L16.667,199.841L8.333,199.841Z\" fill=\"#8c564b\"/></g></g><path class=\"foreground\" aria-hidden=\"true\" d=\"\" display=\"none\"/></g><g transform=\"translate(0,0)\"><path class=\"background\" aria-hidden=\"true\" d=\"M0,0h200v200h-200Z\"/><g><g class=\"mark-area role-mark marks\" role=\"graphics-object\" aria-roledescription=\"area mark container\"><path aria-label=\"hour: 2401; production_MW: 3.184932; resource: small_hydroelectric\" role=\"graphics-symbol\" aria-roledescription=\"area mark\" d=\"M8.333,199.841L16.667,199.841L25,199.841L33.333,199.841L41.667,199.841L50,199.841L58.333,190.163L66.667,161.148L75,116.261L83.333,99.093L91.667,94.158L100,92.408L108.333,87.036L116.667,86.878L125,90.623L133.333,100.178L141.667,117.976L150,143.211L158.333,191.493L166.667,199.841L175,199.841L183.333,199.841L191.667,199.841L200,199.841L200,200L191.667,200L183.333,200L175,200L166.667,200L158.333,191.653L150,143.37L141.667,118.135L133.333,100.338L125,90.783L116.667,87.038L108.333,87.195L100,92.568L91.667,94.317L83.333,99.252L75,116.42L66.667,161.308L58.333,190.323L50,200L41.667,200L33.333,200L25,200L16.667,200L8.333,200Z\" fill=\"#e377c2\"/></g></g><path class=\"foreground\" aria-hidden=\"true\" d=\"\" display=\"none\"/></g><g transform=\"translate(0,0)\"><path class=\"background\" aria-hidden=\"true\" d=\"M0,0h200v200h-200Z\"/><g><g class=\"mark-area role-mark marks\" role=\"graphics-object\" aria-roledescription=\"area mark container\"><path aria-label=\"hour: 2401; production_MW: 0; resource: solar_photovoltaic\" role=\"graphics-symbol\" aria-roledescription=\"area mark\" d=\"M8.333,200L16.667,200L25,200L33.333,200L41.667,200L50,200L58.333,190.323L66.667,161.308L75,116.42L83.333,99.252L91.667,94.317L100,92.568L108.333,87.195L116.667,87.038L125,90.783L133.333,100.338L141.667,118.135L150,143.37L158.333,191.653L166.667,200L175,200L183.333,200L191.667,200L200,200L200,200L191.667,200L183.333,200L175,200L166.667,200L158.333,200L150,200L141.667,200L133.333,200L125,200L116.667,200L108.333,200L100,200L91.667,200L83.333,200L75,200L66.667,200L58.333,200L50,200L41.667,200L33.333,200L25,200L16.667,200L8.333,200Z\" fill=\"#7f7f7f\"/></g></g><path class=\"foreground\" aria-hidden=\"true\" d=\"\" display=\"none\"/></g><g transform=\"translate(0,0)\"><path class=\"background\" aria-hidden=\"true\" d=\"M0,0h200v200h-200Z\"/><g><g class=\"mark-area role-mark marks\" role=\"graphics-object\" aria-roledescription=\"area mark container\"><path aria-label=\"hour: 2401; production_MW: 0; resource: biomass\" role=\"graphics-symbol\" aria-roledescription=\"area mark\" d=\"M8.333,165.647L16.667,139.122L25,128.09L33.333,128.818L41.667,129.817L50,126.887L58.333,120.459L66.667,92.685L75,43.486L83.333,29.862L91.667,24.514L100,30.462L108.333,20.346L116.667,19.559L125,24.722L133.333,36.448L141.667,55.432L150,74.873L158.333,122.867L166.667,130.774L175,130.25L183.333,129.043L191.667,142.165L200,190.52L200,190.52L191.667,143.235L183.333,130.113L175,131.32L166.667,131.844L158.333,123.937L150,75.943L141.667,56.502L133.333,37.518L125,25.792L116.667,20.629L108.333,21.416L100,31.532L91.667,25.584L83.333,30.932L75,44.556L66.667,93.755L58.333,121.529L50,127.957L41.667,130.887L33.333,129.888L25,129.16L16.667,140.192L8.333,165.647Z\" fill=\"#ff7f0e\"/></g></g><path class=\"foreground\" aria-hidden=\"true\" d=\"\" display=\"none\"/></g><g transform=\"translate(0,0)\"><path class=\"background\" aria-hidden=\"true\" d=\"M0,0h200v200h-200Z\"/><g><g class=\"mark-area role-mark marks\" role=\"graphics-object\" aria-roledescription=\"area mark container\"><path aria-label=\"hour: 2401; production_MW: 42; resource: hydroelectric_pumped_storage\" role=\"graphics-symbol\" aria-roledescription=\"area mark\" d=\"M8.333,165.647L16.667,140.192L25,129.16L33.333,129.888L41.667,130.887L50,127.957L58.333,121.529L66.667,93.755L75,44.556L83.333,30.932L91.667,25.584L100,31.532L108.333,21.416L116.667,20.629L125,25.792L133.333,37.518L141.667,56.502L150,75.943L158.333,123.937L166.667,131.844L175,131.32L183.333,130.113L191.667,143.235L200,190.52L200,192.62L191.667,145.335L183.333,132.213L175,133.42L166.667,133.944L158.333,126.037L150,78.043L141.667,58.602L133.333,39.618L125,27.892L116.667,22.729L108.333,23.516L100,33.632L91.667,27.684L83.333,33.032L75,46.656L66.667,95.855L58.333,123.629L50,130.057L41.667,132.987L33.333,131.988L25,131.26L16.667,142.292L8.333,167.747Z\" fill=\"#2ca02c\"/></g></g><path class=\"foreground\" aria-hidden=\"true\" d=\"\" display=\"none\"/></g><g transform=\"translate(0,0)\"><path class=\"background\" aria-hidden=\"true\" d=\"M0,0h200v200h-200Z\"/><g><g class=\"mark-area role-mark marks\" role=\"graphics-object\" aria-roledescription=\"area mark container\"><path aria-label=\"hour: 2401; production_MW: 478.572876796; resource: natural_gas_fired_combined_cycle\" role=\"graphics-symbol\" aria-roledescription=\"area mark\" d=\"M8.333,167.747L16.667,142.292L25,131.26L33.333,131.988L41.667,132.987L50,130.057L58.333,123.629L66.667,95.855L75,46.656L83.333,33.032L91.667,27.684L100,33.632L108.333,23.516L116.667,22.729L125,27.892L133.333,39.618L141.667,58.602L150,78.043L158.333,126.037L166.667,133.944L175,133.42L183.333,132.213L191.667,145.335L200,192.62L200,192.62L191.667,193.517L183.333,195.038L175,196.245L166.667,196.769L158.333,188.862L150,139.28L141.667,115.116L133.333,96.908L125,88.162L116.667,83.644L108.333,84.431L100,87.803L91.667,88.599L83.333,92.515L75,107.893L66.667,158.68L58.333,186.454L50,192.882L41.667,195.812L33.333,194.813L25,194.085L16.667,191.351L8.333,191.675Z\" fill=\"#d62728\"/></g></g><path class=\"foreground\" aria-hidden=\"true\" d=\"\" display=\"none\"/></g><g transform=\"translate(0,0)\"><path class=\"background\" aria-hidden=\"true\" d=\"M0,0h200v200h-200Z\"/><g><g class=\"mark-area role-mark marks\" role=\"graphics-object\" aria-roledescription=\"area mark container\"><path aria-label=\"hour: 2401; production_MW: 0; resource: natural_gas_fired_combustion_turbine\" role=\"graphics-symbol\" aria-roledescription=\"area mark\" d=\"M8.333,191.675L16.667,191.351L25,194.085L33.333,194.813L41.667,195.812L50,192.882L58.333,186.454L66.667,158.68L75,107.893L83.333,92.515L91.667,88.599L100,87.803L108.333,84.431L116.667,83.644L125,88.162L133.333,96.908L141.667,115.116L150,139.28L158.333,188.862L166.667,196.769L175,196.245L183.333,195.038L191.667,193.517L200,192.62L200,192.62L191.667,193.517L183.333,195.038L175,196.245L166.667,196.769L158.333,188.862L150,139.28L141.667,115.116L133.333,96.908L125,88.162L116.667,83.644L108.333,84.431L100,87.803L91.667,88.599L83.333,92.515L75,107.893L66.667,158.68L58.333,186.454L50,192.882L41.667,195.812L33.333,194.813L25,194.085L16.667,191.351L8.333,191.675Z\" fill=\"#9467bd\"/></g></g><path class=\"foreground\" aria-hidden=\"true\" d=\"\" display=\"none\"/></g><g transform=\"translate(0,0)\"><path class=\"background\" aria-hidden=\"true\" d=\"M0,0h200v200h-200Z\"/><g><g class=\"mark-area role-mark marks\" role=\"graphics-object\" aria-roledescription=\"area mark container\"><path aria-label=\"hour: 2401; production_MW: 927.933391204; resource: battery\" role=\"graphics-symbol\" aria-roledescription=\"area mark\" d=\"M8.333,119.25L16.667,122.35L25,124.1L33.333,121.9L41.667,113.35L50,101.2L58.333,86.3L66.667,70.15L75,43.486L83.333,29.862L91.667,24.514L100,30.462L108.333,20.346L116.667,19.559L125,24.722L133.333,36.448L141.667,55.432L150,74.873L158.333,81.1L166.667,74.95L175,74.7L183.333,87.1L191.667,100.6L200,112L200,190.52L191.667,142.165L183.333,129.043L175,130.25L166.667,130.774L158.333,122.867L150,74.873L141.667,55.432L133.333,36.448L125,24.722L116.667,19.559L108.333,20.346L100,30.462L91.667,24.514L83.333,29.862L75,43.486L66.667,92.685L58.333,120.459L50,126.887L41.667,129.817L33.333,128.818L25,128.09L16.667,139.122L8.333,165.647Z\" fill=\"#1f77b4\"/></g></g><path class=\"foreground\" aria-hidden=\"true\" d=\"\" display=\"none\"/></g></g><g class=\"mark-group role-legend\" role=\"graphics-symbol\" aria-roledescription=\"legend\" aria-label=\"Symbol legend titled 'resource' for fill color with 8 values: battery, biomass, hydroelectric_pumped_storage, natural_gas_fired_combined_cycle, natural_gas_fired_combustion_turbine, ending with solar_photovoltaic\"><g transform=\"translate(218,0)\"><path class=\"background\" aria-hidden=\"true\" d=\"M0,0h176v118h-176Z\" pointer-events=\"none\"/><g><g class=\"mark-group role-legend-entry\"><g transform=\"translate(0,16)\"><path class=\"background\" aria-hidden=\"true\" d=\"M0,0h0v0h0Z\" pointer-events=\"none\"/><g><g class=\"mark-group role-scope\" role=\"graphics-object\" aria-roledescription=\"group mark container\"><g transform=\"translate(0,0)\"><path class=\"background\" aria-hidden=\"true\" d=\"M0,0h175.5263671875v11h-175.5263671875Z\" pointer-events=\"none\" opacity=\"1\"/><g><g class=\"mark-symbol role-legend-symbol\" pointer-events=\"none\"><path transform=\"translate(6,6)\" d=\"M5,0A5,5,0,1,1,-5,0A5,5,0,1,1,5,0\" fill=\"#1f77b4\" stroke-width=\"1.5\" opacity=\"1\"/></g><g class=\"mark-text role-legend-label\" pointer-events=\"none\"><text text-anchor=\"start\" transform=\"translate(16,9)\" font-family=\"sans-serif\" font-size=\"10px\" fill=\"#000\" opacity=\"1\">battery</text></g></g><path class=\"foreground\" aria-hidden=\"true\" d=\"\" pointer-events=\"none\" display=\"none\"/></g><g transform=\"translate(0,13)\"><path class=\"background\" aria-hidden=\"true\" d=\"M0,0h175.5263671875v11h-175.5263671875Z\" pointer-events=\"none\" opacity=\"1\"/><g><g class=\"mark-symbol role-legend-symbol\" pointer-events=\"none\"><path transform=\"translate(6,6)\" d=\"M5,0A5,5,0,1,1,-5,0A5,5,0,1,1,5,0\" fill=\"#ff7f0e\" stroke-width=\"1.5\" opacity=\"1\"/></g><g class=\"mark-text role-legend-label\" pointer-events=\"none\"><text text-anchor=\"start\" transform=\"translate(16,9)\" font-family=\"sans-serif\" font-size=\"10px\" fill=\"#000\" opacity=\"1\">biomass</text></g></g><path class=\"foreground\" aria-hidden=\"true\" d=\"\" pointer-events=\"none\" display=\"none\"/></g><g transform=\"translate(0,26)\"><path class=\"background\" aria-hidden=\"true\" d=\"M0,0h175.5263671875v11h-175.5263671875Z\" pointer-events=\"none\" opacity=\"1\"/><g><g class=\"mark-symbol role-legend-symbol\" pointer-events=\"none\"><path transform=\"translate(6,6)\" d=\"M5,0A5,5,0,1,1,-5,0A5,5,0,1,1,5,0\" fill=\"#2ca02c\" stroke-width=\"1.5\" opacity=\"1\"/></g><g class=\"mark-text role-legend-label\" pointer-events=\"none\"><text text-anchor=\"start\" transform=\"translate(16,9)\" font-family=\"sans-serif\" font-size=\"10px\" fill=\"#000\" opacity=\"1\">hydroelectric_pumped_storage</text></g></g><path class=\"foreground\" aria-hidden=\"true\" d=\"\" pointer-events=\"none\" display=\"none\"/></g><g transform=\"translate(0,39)\"><path class=\"background\" aria-hidden=\"true\" d=\"M0,0h175.5263671875v11h-175.5263671875Z\" pointer-events=\"none\" opacity=\"1\"/><g><g class=\"mark-symbol role-legend-symbol\" pointer-events=\"none\"><path transform=\"translate(6,6)\" d=\"M5,0A5,5,0,1,1,-5,0A5,5,0,1,1,5,0\" fill=\"#d62728\" stroke-width=\"1.5\" opacity=\"1\"/></g><g class=\"mark-text role-legend-label\" pointer-events=\"none\"><text text-anchor=\"start\" transform=\"translate(16,9)\" font-family=\"sans-serif\" font-size=\"10px\" fill=\"#000\" opacity=\"1\">natural_gas_fired_combined_…</text></g></g><path class=\"foreground\" aria-hidden=\"true\" d=\"\" pointer-events=\"none\" display=\"none\"/></g><g transform=\"translate(0,52)\"><path class=\"background\" aria-hidden=\"true\" d=\"M0,0h175.5263671875v11h-175.5263671875Z\" pointer-events=\"none\" opacity=\"1\"/><g><g class=\"mark-symbol role-legend-symbol\" pointer-events=\"none\"><path transform=\"translate(6,6)\" d=\"M5,0A5,5,0,1,1,-5,0A5,5,0,1,1,5,0\" fill=\"#9467bd\" stroke-width=\"1.5\" opacity=\"1\"/></g><g class=\"mark-text role-legend-label\" pointer-events=\"none\"><text text-anchor=\"start\" transform=\"translate(16,9)\" font-family=\"sans-serif\" font-size=\"10px\" fill=\"#000\" opacity=\"1\">natural_gas_fired_combustion…</text></g></g><path class=\"foreground\" aria-hidden=\"true\" d=\"\" pointer-events=\"none\" display=\"none\"/></g><g transform=\"translate(0,65)\"><path class=\"background\" aria-hidden=\"true\" d=\"M0,0h175.5263671875v11h-175.5263671875Z\" pointer-events=\"none\" opacity=\"1\"/><g><g class=\"mark-symbol role-legend-symbol\" pointer-events=\"none\"><path transform=\"translate(6,6)\" d=\"M5,0A5,5,0,1,1,-5,0A5,5,0,1,1,5,0\" fill=\"#8c564b\" stroke-width=\"1.5\" opacity=\"1\"/></g><g class=\"mark-text role-legend-label\" pointer-events=\"none\"><text text-anchor=\"start\" transform=\"translate(16,9)\" font-family=\"sans-serif\" font-size=\"10px\" fill=\"#000\" opacity=\"1\">onshore_wind_turbine</text></g></g><path class=\"foreground\" aria-hidden=\"true\" d=\"\" pointer-events=\"none\" display=\"none\"/></g><g transform=\"translate(0,78)\"><path class=\"background\" aria-hidden=\"true\" d=\"M0,0h175.5263671875v11h-175.5263671875Z\" pointer-events=\"none\" opacity=\"1\"/><g><g class=\"mark-symbol role-legend-symbol\" pointer-events=\"none\"><path transform=\"translate(6,6)\" d=\"M5,0A5,5,0,1,1,-5,0A5,5,0,1,1,5,0\" fill=\"#e377c2\" stroke-width=\"1.5\" opacity=\"1\"/></g><g class=\"mark-text role-legend-label\" pointer-events=\"none\"><text text-anchor=\"start\" transform=\"translate(16,9)\" font-family=\"sans-serif\" font-size=\"10px\" fill=\"#000\" opacity=\"1\">small_hydroelectric</text></g></g><path class=\"foreground\" aria-hidden=\"true\" d=\"\" pointer-events=\"none\" display=\"none\"/></g><g transform=\"translate(0,91)\"><path class=\"background\" aria-hidden=\"true\" d=\"M0,0h175.5263671875v11h-175.5263671875Z\" pointer-events=\"none\" opacity=\"1\"/><g><g class=\"mark-symbol role-legend-symbol\" pointer-events=\"none\"><path transform=\"translate(6,6)\" d=\"M5,0A5,5,0,1,1,-5,0A5,5,0,1,1,5,0\" fill=\"#7f7f7f\" stroke-width=\"1.5\" opacity=\"1\"/></g><g class=\"mark-text role-legend-label\" pointer-events=\"none\"><text text-anchor=\"start\" transform=\"translate(16,9)\" font-family=\"sans-serif\" font-size=\"10px\" fill=\"#000\" opacity=\"1\">solar_photovoltaic</text></g></g><path class=\"foreground\" aria-hidden=\"true\" d=\"\" pointer-events=\"none\" display=\"none\"/></g></g></g><path class=\"foreground\" aria-hidden=\"true\" d=\"\" pointer-events=\"none\" display=\"none\"/></g></g><g class=\"mark-text role-legend-title\" pointer-events=\"none\"><text text-anchor=\"start\" transform=\"translate(0,9)\" font-family=\"sans-serif\" font-size=\"11px\" font-weight=\"bold\" fill=\"#000\" opacity=\"1\">resource</text></g></g><path class=\"foreground\" aria-hidden=\"true\" d=\"\" pointer-events=\"none\" display=\"none\"/></g></g></g><path class=\"foreground\" aria-hidden=\"true\" d=\"\" display=\"none\"/></g></g></g></svg>"
      ],
      "text/plain": [
       "@vlplot(\n",
       "    mark=\"area\",\n",
       "    encoding={\n",
       "        x={\n",
       "            field=\"hour\"\n",
       "        },\n",
       "        y={\n",
       "            stack=\"zero\",\n",
       "            field=\"production_MW\"\n",
       "        },\n",
       "        color={\n",
       "            scale={\n",
       "                scheme=\"category10\"\n",
       "            },\n",
       "            field=\"resource\",\n",
       "            type=\"nominal\"\n",
       "        }\n",
       "    },\n",
       "    data={\n",
       "        values=...\n",
       "    }\n",
       ")"
      ]
     },
     "metadata": {},
     "output_type": "display_data"
    }
   ],
   "source": [
    "supply = combine(groupby(solution.generation, [:hour, :resource]), :production_MW => sum, renamecols=false)\n",
    "supply_ch = combine(groupby(solution.storage, [:hour, :resource]), :discharge_MW => sum, renamecols=false)\n",
    "rename!(supply_ch, :discharge_MW => :production_MW)\n",
    "append!(supply, supply_ch)\n",
    "supply |>\n",
    "@vlplot(:area, \n",
    "    x=:hour, y={:production_MW, stack=:zero}, \n",
    "    color={\"resource:n\", scale={scheme=\"category10\"}})"
   ]
  },
  {
   "cell_type": "code",
   "execution_count": null,
   "metadata": {},
   "outputs": [],
   "source": [
    "demand = combine(groupby(solution.generation, [:hour, :resource]), :production_MW => sum, renamecols=false)\n",
    "supply_ch = combine(groupby(solution.storage, [:hour, :resource]), :discharge_MW => sum, renamecols=false)\n",
    "rename!(supply_ch, :discharge_MW => :production_MW)\n",
    "append!(supply, supply_ch)\n",
    "supply |>\n",
    "@vlplot(:area, \n",
    "    x=:hour, y={:production_MW, stack=:zero}, \n",
    "    color={\"resource:n\", scale={scheme=\"category10\"}})"
   ]
  },
  {
   "cell_type": "code",
   "execution_count": 36,
   "metadata": {},
   "outputs": [
    {
     "name": "stdout",
     "output_type": "stream",
     "text": [
      "Set parameter WLSAccessID\n",
      "Set parameter WLSSecret\n",
      "Set parameter LicenseID to value 2475843\n",
      "Academic license 2475843 - for non-commercial use only - registered to pa___@imperial.ac.uk\n",
      "Set parameter MIPGap to value 0.001\n",
      "Adding ramp constraints...\n",
      "Adding storage...\n"
     ]
    },
    {
     "name": "stdout",
     "output_type": "stream",
     "text": [
      "Set parameter MIPGap to value 0.001\n",
      "Gurobi Optimizer version 11.0.0 build v11.0.0rc2 (linux64 - \"Ubuntu 22.04.3 LTS\")\n",
      "\n",
      "CPU model: 11th Gen Intel(R) Core(TM) i7-11370H @ 3.30GHz, instruction set [SSE2|AVX|AVX2|AVX512]\n",
      "Thread count: 4 physical cores, 8 logical processors, using up to 8 threads\n",
      "\n",
      "Academic license 2475843 - for non-commercial use only - registered to pa___@imperial.ac.uk\n",
      "Optimize a model with 6692 rows, 3720 columns and 17076 nonzeros\n",
      "Model fingerprint: 0x6ec01c60\n",
      "Variable types: 1896 continuous, 1824 integer (1824 binary)\n",
      "Coefficient statistics:\n",
      "  Matrix range     [9e-01, 1e+03]\n",
      "  Objective range  [1e-01, 5e+04]\n",
      "  Bounds range     [0e+00, 0e+00]\n",
      "  RHS range        [1e+00, 4e+03]\n",
      "Presolve removed 3316 rows and 674 columns\n",
      "Presolve time: 0.07s\n",
      "Presolved: 3376 rows, 3046 columns, 13026 nonzeros\n",
      "Variable types: 1266 continuous, 1780 integer (1780 binary)\n",
      "\n",
      "Root relaxation: objective 6.032806e+05, 566 iterations, 0.01 seconds (0.01 work units)\n",
      "\n",
      "    Nodes    |    Current Node    |     Objective Bounds      |     Work\n",
      " Expl Unexpl |  Obj  Depth IntInf | Incumbent    BestBd   Gap | It/Node Time\n",
      "\n",
      "     0     0 603280.602    0    9          - 603280.602      -     -    0s\n",
      "H    0     0                    603457.66965 603280.602  0.03%     -    0s\n",
      "\n",
      "Explored 1 nodes (566 simplex iterations) in 0.13 seconds (0.07 work units)\n",
      "Thread count was 8 (of 8 available processors)\n",
      "\n",
      "Solution count 1: 603458 \n",
      "\n",
      "Optimal solution found (tolerance 1.00e-03)\n",
      "Best objective 6.034576696459e+05, best bound 6.032806020334e+05, gap 0.0293%\n",
      "\n",
      "User-callback calls 474, time in user-callback 0.00 sec\n"
     ]
    },
    {
     "data": {
      "application/vnd.vegalite.v5+json": {
       "data": {
        "values": [
         {
          "hour": 0,
          "resource": "biomass",
          "value_sum": 0
         },
         {
          "hour": 0,
          "resource": "hydroelectric_pumped_storage",
          "value_sum": 42
         },
         {
          "hour": 0,
          "resource": "natural_gas_fired_combined_cycle",
          "value_sum": 478.57287679599926
         },
         {
          "hour": 0,
          "resource": "natural_gas_fired_combustion_turbine",
          "value_sum": 0
         },
         {
          "hour": 0,
          "resource": "_onshore_wind_turbine",
          "value_sum": 163.3088
         },
         {
          "hour": 0,
          "resource": "_small_hydroelectric",
          "value_sum": 3.184932
         },
         {
          "hour": 0,
          "resource": "_solar_photovoltaic",
          "value_sum": 0
         },
         {
          "hour": 1,
          "resource": "biomass",
          "value_sum": 21.4
         },
         {
          "hour": 1,
          "resource": "hydroelectric_pumped_storage",
          "value_sum": 42
         },
         {
          "hour": 1,
          "resource": "natural_gas_fired_combined_cycle",
          "value_sum": 981.1728767959993
         },
         {
          "hour": 1,
          "resource": "natural_gas_fired_combustion_turbine",
          "value_sum": 0
         },
         {
          "hour": 1,
          "resource": "_onshore_wind_turbine",
          "value_sum": 169.79327999999998
         },
         {
          "hour": 1,
          "resource": "_small_hydroelectric",
          "value_sum": 3.184932
         },
         {
          "hour": 1,
          "resource": "_solar_photovoltaic",
          "value_sum": 0
         },
         {
          "hour": 2,
          "resource": "biomass",
          "value_sum": 21.4
         },
         {
          "hour": 2,
          "resource": "hydroelectric_pumped_storage",
          "value_sum": 42
         },
         {
          "hour": 2,
          "resource": "natural_gas_fired_combined_cycle",
          "value_sum": 1256.5
         },
         {
          "hour": 2,
          "resource": "natural_gas_fired_combustion_turbine",
          "value_sum": 0
         },
         {
          "hour": 2,
          "resource": "_onshore_wind_turbine",
          "value_sum": 115.1104
         },
         {
          "hour": 2,
          "resource": "_small_hydroelectric",
          "value_sum": 3.184932
         },
         {
          "hour": 2,
          "resource": "_solar_photovoltaic",
          "value_sum": 0
         },
         {
          "hour": 3,
          "resource": "biomass",
          "value_sum": 21.4
         },
         {
          "hour": 3,
          "resource": "hydroelectric_pumped_storage",
          "value_sum": 42
         },
         {
          "hour": 3,
          "resource": "natural_gas_fired_combined_cycle",
          "value_sum": 1256.5
         },
         {
          "hour": 3,
          "resource": "natural_gas_fired_combustion_turbine",
          "value_sum": 0
         },
         {
          "hour": 3,
          "resource": "_onshore_wind_turbine",
          "value_sum": 100.55296
         },
         {
          "hour": 3,
          "resource": "_small_hydroelectric",
          "value_sum": 3.184931999999989
         },
         {
          "hour": 3,
          "resource": "_solar_photovoltaic",
          "value_sum": 0
         },
         {
          "hour": 4,
          "resource": "biomass",
          "value_sum": 21.4
         },
         {
          "hour": 4,
          "resource": "hydroelectric_pumped_storage",
          "value_sum": 42
         },
         {
          "hour": 4,
          "resource": "natural_gas_fired_combined_cycle",
          "value_sum": 1256.5
         },
         {
          "hour": 4,
          "resource": "natural_gas_fired_combustion_turbine",
          "value_sum": 0
         },
         {
          "hour": 4,
          "resource": "_onshore_wind_turbine",
          "value_sum": 80.57728
         },
         {
          "hour": 4,
          "resource": "_small_hydroelectric",
          "value_sum": 3.184932
         },
         {
          "hour": 4,
          "resource": "_solar_photovoltaic",
          "value_sum": 0
         },
         {
          "hour": 5,
          "resource": "biomass",
          "value_sum": 21.4
         },
         {
          "hour": 5,
          "resource": "hydroelectric_pumped_storage",
          "value_sum": 42
         },
         {
          "hour": 5,
          "resource": "natural_gas_fired_combined_cycle",
          "value_sum": 1256.5
         },
         {
          "hour": 5,
          "resource": "natural_gas_fired_combustion_turbine",
          "value_sum": 0
         },
         {
          "hour": 5,
          "resource": "_onshore_wind_turbine",
          "value_sum": 139.17695999999998
         },
         {
          "hour": 5,
          "resource": "_small_hydroelectric",
          "value_sum": 3.184932
         },
         {
          "hour": 5,
          "resource": "_solar_photovoltaic",
          "value_sum": 0
         },
         {
          "hour": 6,
          "resource": "biomass",
          "value_sum": 21.4
         },
         {
          "hour": 6,
          "resource": "hydroelectric_pumped_storage",
          "value_sum": 42
         },
         {
          "hour": 6,
          "resource": "natural_gas_fired_combined_cycle",
          "value_sum": 1256.5
         },
         {
          "hour": 6,
          "resource": "natural_gas_fired_combustion_turbine",
          "value_sum": 0
         },
         {
          "hour": 6,
          "resource": "_onshore_wind_turbine",
          "value_sum": 74.17984
         },
         {
          "hour": 6,
          "resource": "_small_hydroelectric",
          "value_sum": 3.184932
         },
         {
          "hour": 6,
          "resource": "_solar_photovoltaic",
          "value_sum": 193.55
         },
         {
          "hour": 7,
          "resource": "biomass",
          "value_sum": 21.4
         },
         {
          "hour": 7,
          "resource": "hydroelectric_pumped_storage",
          "value_sum": 42
         },
         {
          "hour": 7,
          "resource": "natural_gas_fired_combined_cycle",
          "value_sum": 1256.5
         },
         {
          "hour": 7,
          "resource": "natural_gas_fired_combustion_turbine",
          "value_sum": 0
         },
         {
          "hour": 7,
          "resource": "_onshore_wind_turbine",
          "value_sum": 49.373439999999995
         },
         {
          "hour": 7,
          "resource": "_small_hydroelectric",
          "value_sum": 3.184932
         },
         {
          "hour": 7,
          "resource": "_solar_photovoltaic",
          "value_sum": 773.85
         },
         {
          "hour": 8,
          "resource": "biomass",
          "value_sum": 21.4
         },
         {
          "hour": 8,
          "resource": "hydroelectric_pumped_storage",
          "value_sum": 42
         },
         {
          "hour": 8,
          "resource": "natural_gas_fired_combined_cycle",
          "value_sum": 1224.74
         },
         {
          "hour": 8,
          "resource": "natural_gas_fired_combustion_turbine",
          "value_sum": 0
         },
         {
          "hour": 8,
          "resource": "_onshore_wind_turbine",
          "value_sum": 167.35616
         },
         {
          "hour": 8,
          "resource": "_small_hydroelectric",
          "value_sum": 3.184932
         },
         {
          "hour": 8,
          "resource": "_solar_photovoltaic",
          "value_sum": 1671.6
         },
         {
          "hour": 9,
          "resource": "biomass",
          "value_sum": 21.4
         },
         {
          "hour": 9,
          "resource": "hydroelectric_pumped_storage",
          "value_sum": 42
         },
         {
          "hour": 9,
          "resource": "natural_gas_fired_combined_cycle",
          "value_sum": 1189.6699276999998
         },
         {
          "hour": 9,
          "resource": "natural_gas_fired_combustion_turbine",
          "value_sum": 0
         },
         {
          "hour": 9,
          "resource": "_onshore_wind_turbine",
          "value_sum": 131.56096000000014
         },
         {
          "hour": 9,
          "resource": "_small_hydroelectric",
          "value_sum": 3.184932
         },
         {
          "hour": 9,
          "resource": "_solar_photovoltaic",
          "value_sum": 2014.95
         },
         {
          "hour": 10,
          "resource": "biomass",
          "value_sum": 21.4
         },
         {
          "hour": 10,
          "resource": "hydroelectric_pumped_storage",
          "value_sum": 42
         },
         {
          "hour": 10,
          "resource": "natural_gas_fired_combined_cycle",
          "value_sum": 1218.3000000000002
         },
         {
          "hour": 10,
          "resource": "natural_gas_fired_combustion_turbine",
          "value_sum": 0
         },
         {
          "hour": 10,
          "resource": "_onshore_wind_turbine",
          "value_sum": 111.1936
         },
         {
          "hour": 10,
          "resource": "_small_hydroelectric",
          "value_sum": 3.184932
         },
         {
          "hour": 10,
          "resource": "_solar_photovoltaic",
          "value_sum": 2113.65
         },
         {
          "hour": 11,
          "resource": "biomass",
          "value_sum": 21.4
         },
         {
          "hour": 11,
          "resource": "hydroelectric_pumped_storage",
          "value_sum": 42
         },
         {
          "hour": 11,
          "resource": "natural_gas_fired_combined_cycle",
          "value_sum": 1083.4057475521736
         },
         {
          "hour": 11,
          "resource": "natural_gas_fired_combustion_turbine",
          "value_sum": 0
         },
         {
          "hour": 11,
          "resource": "_onshore_wind_turbine",
          "value_sum": 92.11008
         },
         {
          "hour": 11,
          "resource": "_small_hydroelectric",
          "value_sum": 3.184932
         },
         {
          "hour": 11,
          "resource": "_solar_photovoltaic",
          "value_sum": 2148.65
         },
         {
          "hour": 12,
          "resource": "biomass",
          "value_sum": 21.4
         },
         {
          "hour": 12,
          "resource": "hydroelectric_pumped_storage",
          "value_sum": 42
         },
         {
          "hour": 12,
          "resource": "natural_gas_fired_combined_cycle",
          "value_sum": 1218.3000000000002
         },
         {
          "hour": 12,
          "resource": "natural_gas_fired_combustion_turbine",
          "value_sum": 0
         },
         {
          "hour": 12,
          "resource": "_onshore_wind_turbine",
          "value_sum": 52.09344
         },
         {
          "hour": 12,
          "resource": "_small_hydroelectric",
          "value_sum": 3.184932
         },
         {
          "hour": 12,
          "resource": "_solar_photovoltaic",
          "value_sum": 2256.1
         },
         {
          "hour": 13,
          "resource": "biomass",
          "value_sum": 21.4
         },
         {
          "hour": 13,
          "resource": "hydroelectric_pumped_storage",
          "value_sum": 42
         },
         {
          "hour": 13,
          "resource": "natural_gas_fired_combined_cycle",
          "value_sum": 1218.3000000000002
         },
         {
          "hour": 13,
          "resource": "natural_gas_fired_combustion_turbine",
          "value_sum": 0
         },
         {
          "hour": 13,
          "resource": "_onshore_wind_turbine",
          "value_sum": 64.69248
         },
         {
          "hour": 13,
          "resource": "_small_hydroelectric",
          "value_sum": 3.184932
         },
         {
          "hour": 13,
          "resource": "_solar_photovoltaic",
          "value_sum": 2259.25
         },
         {
          "hour": 14,
          "resource": "biomass",
          "value_sum": 21.4
         },
         {
          "hour": 14,
          "resource": "hydroelectric_pumped_storage",
          "value_sum": 42
         },
         {
          "hour": 14,
          "resource": "natural_gas_fired_combined_cycle",
          "value_sum": 1205.3943987999999
         },
         {
          "hour": 14,
          "resource": "natural_gas_fired_combustion_turbine",
          "value_sum": 0
         },
         {
          "hour": 14,
          "resource": "_onshore_wind_turbine",
          "value_sum": 49.22112
         },
         {
          "hour": 14,
          "resource": "_small_hydroelectric",
          "value_sum": 3.184932
         },
         {
          "hour": 14,
          "resource": "_solar_photovoltaic",
          "value_sum": 2184.35
         },
         {
          "hour": 15,
          "resource": "biomass",
          "value_sum": 21.4
         },
         {
          "hour": 15,
          "resource": "hydroelectric_pumped_storage",
          "value_sum": 42
         },
         {
          "hour": 15,
          "resource": "natural_gas_fired_combined_cycle",
          "value_sum": 1145.7894363
         },
         {
          "hour": 15,
          "resource": "natural_gas_fired_combustion_turbine",
          "value_sum": 0
         },
         {
          "hour": 15,
          "resource": "_onshore_wind_turbine",
          "value_sum": 65.41055999999999
         },
         {
          "hour": 15,
          "resource": "_small_hydroelectric",
          "value_sum": 3.184932
         },
         {
          "hour": 15,
          "resource": "_solar_photovoltaic",
          "value_sum": 1993.25
         },
         {
          "hour": 16,
          "resource": "biomass",
          "value_sum": 21.4
         },
         {
          "hour": 16,
          "resource": "hydroelectric_pumped_storage",
          "value_sum": 42
         },
         {
          "hour": 16,
          "resource": "natural_gas_fired_combined_cycle",
          "value_sum": 1130.294909269751
         },
         {
          "hour": 16,
          "resource": "natural_gas_fired_combustion_turbine",
          "value_sum": 0
         },
         {
          "hour": 16,
          "resource": "_onshore_wind_turbine",
          "value_sum": 57.18527999999999
         },
         {
          "hour": 16,
          "resource": "_small_hydroelectric",
          "value_sum": 3.184932
         },
         {
          "hour": 16,
          "resource": "_solar_photovoltaic",
          "value_sum": 1637.3
         },
         {
          "hour": 17,
          "resource": "biomass",
          "value_sum": 21.4
         },
         {
          "hour": 17,
          "resource": "hydroelectric_pumped_storage",
          "value_sum": 42
         },
         {
          "hour": 17,
          "resource": "natural_gas_fired_combined_cycle",
          "value_sum": 1224.74
         },
         {
          "hour": 17,
          "resource": "natural_gas_fired_combustion_turbine",
          "value_sum": 0
         },
         {
          "hour": 17,
          "resource": "_onshore_wind_turbine",
          "value_sum": 78.61888
         },
         {
          "hour": 17,
          "resource": "_small_hydroelectric",
          "value_sum": 3.184932
         },
         {
          "hour": 17,
          "resource": "_solar_photovoltaic",
          "value_sum": 1132.6
         },
         {
          "hour": 18,
          "resource": "biomass",
          "value_sum": 21.4
         },
         {
          "hour": 18,
          "resource": "hydroelectric_pumped_storage",
          "value_sum": 42
         },
         {
          "hour": 18,
          "resource": "natural_gas_fired_combined_cycle",
          "value_sum": 1256.5
         },
         {
          "hour": 18,
          "resource": "natural_gas_fired_combustion_turbine",
          "value_sum": 0
         },
         {
          "hour": 18,
          "resource": "_onshore_wind_turbine",
          "value_sum": 52.61568
         },
         {
          "hour": 18,
          "resource": "_small_hydroelectric",
          "value_sum": 3.184932
         },
         {
          "hour": 18,
          "resource": "_solar_photovoltaic",
          "value_sum": 166.95
         },
         {
          "hour": 19,
          "resource": "biomass",
          "value_sum": 21.4
         },
         {
          "hour": 19,
          "resource": "hydroelectric_pumped_storage",
          "value_sum": 42
         },
         {
          "hour": 19,
          "resource": "natural_gas_fired_combined_cycle",
          "value_sum": 1256.5
         },
         {
          "hour": 19,
          "resource": "natural_gas_fired_combustion_turbine",
          "value_sum": 0
         },
         {
          "hour": 19,
          "resource": "_onshore_wind_turbine",
          "value_sum": 61.42848
         },
         {
          "hour": 19,
          "resource": "_small_hydroelectric",
          "value_sum": 3.1849320000000105
         },
         {
          "hour": 19,
          "resource": "_solar_photovoltaic",
          "value_sum": 0
         },
         {
          "hour": 20,
          "resource": "biomass",
          "value_sum": 21.4
         },
         {
          "hour": 20,
          "resource": "hydroelectric_pumped_storage",
          "value_sum": 42
         },
         {
          "hour": 20,
          "resource": "natural_gas_fired_combined_cycle",
          "value_sum": 1256.5
         },
         {
          "hour": 20,
          "resource": "natural_gas_fired_combustion_turbine",
          "value_sum": 0
         },
         {
          "hour": 20,
          "resource": "_onshore_wind_turbine",
          "value_sum": 71.9168
         },
         {
          "hour": 20,
          "resource": "_small_hydroelectric",
          "value_sum": 3.184932
         },
         {
          "hour": 20,
          "resource": "_solar_photovoltaic",
          "value_sum": 0
         },
         {
          "hour": 21,
          "resource": "biomass",
          "value_sum": 21.4
         },
         {
          "hour": 21,
          "resource": "hydroelectric_pumped_storage",
          "value_sum": 42
         },
         {
          "hour": 21,
          "resource": "natural_gas_fired_combined_cycle",
          "value_sum": 1256.5
         },
         {
          "hour": 21,
          "resource": "natural_gas_fired_combustion_turbine",
          "value_sum": 0
         },
         {
          "hour": 21,
          "resource": "_onshore_wind_turbine",
          "value_sum": 96.04864
         },
         {
          "hour": 21,
          "resource": "_small_hydroelectric",
          "value_sum": 3.184932
         },
         {
          "hour": 21,
          "resource": "_solar_photovoltaic",
          "value_sum": 0
         },
         {
          "hour": 22,
          "resource": "biomass",
          "value_sum": 21.4
         },
         {
          "hour": 22,
          "resource": "hydroelectric_pumped_storage",
          "value_sum": 42
         },
         {
          "hour": 22,
          "resource": "natural_gas_fired_combined_cycle",
          "value_sum": 963.6402000000006
         },
         {
          "hour": 22,
          "resource": "natural_gas_fired_combustion_turbine",
          "value_sum": 0
         },
         {
          "hour": 22,
          "resource": "_onshore_wind_turbine",
          "value_sum": 126.46912
         },
         {
          "hour": 22,
          "resource": "_small_hydroelectric",
          "value_sum": 3.184932
         },
         {
          "hour": 22,
          "resource": "_solar_photovoltaic",
          "value_sum": 0
         },
         {
          "hour": 23,
          "resource": "biomass",
          "value_sum": 0
         },
         {
          "hour": 23,
          "resource": "hydroelectric_pumped_storage",
          "value_sum": 42
         },
         {
          "hour": 23,
          "resource": "natural_gas_fired_combined_cycle",
          "value_sum": 0
         },
         {
          "hour": 23,
          "resource": "natural_gas_fired_combustion_turbine",
          "value_sum": 0
         },
         {
          "hour": 23,
          "resource": "_onshore_wind_turbine",
          "value_sum": 144.42111999999997
         },
         {
          "hour": 23,
          "resource": "_small_hydroelectric",
          "value_sum": 3.184932
         },
         {
          "hour": 23,
          "resource": "_solar_photovoltaic",
          "value_sum": 0
         },
         {
          "hour": 0,
          "resource": "_solar_photovoltaic_btm",
          "value_sum": 0
         },
         {
          "hour": 1,
          "resource": "_solar_photovoltaic_btm",
          "value_sum": 0
         },
         {
          "hour": 2,
          "resource": "_solar_photovoltaic_btm",
          "value_sum": 0
         },
         {
          "hour": 3,
          "resource": "_solar_photovoltaic_btm",
          "value_sum": 0
         },
         {
          "hour": 4,
          "resource": "_solar_photovoltaic_btm",
          "value_sum": 0
         },
         {
          "hour": 5,
          "resource": "_solar_photovoltaic_btm",
          "value_sum": 0
         },
         {
          "hour": 6,
          "resource": "_solar_photovoltaic_btm",
          "value_sum": 33.18
         },
         {
          "hour": 7,
          "resource": "_solar_photovoltaic_btm",
          "value_sum": 132.66
         },
         {
          "hour": 8,
          "resource": "_solar_photovoltaic_btm",
          "value_sum": 286.56
         },
         {
          "hour": 9,
          "resource": "_solar_photovoltaic_btm",
          "value_sum": 345.42
         },
         {
          "hour": 10,
          "resource": "_solar_photovoltaic_btm",
          "value_sum": 362.34
         },
         {
          "hour": 11,
          "resource": "_solar_photovoltaic_btm",
          "value_sum": 368.34
         },
         {
          "hour": 12,
          "resource": "_solar_photovoltaic_btm",
          "value_sum": 386.76
         },
         {
          "hour": 13,
          "resource": "_solar_photovoltaic_btm",
          "value_sum": 387.29999999999995
         },
         {
          "hour": 14,
          "resource": "_solar_photovoltaic_btm",
          "value_sum": 374.46
         },
         {
          "hour": 15,
          "resource": "_solar_photovoltaic_btm",
          "value_sum": 341.7
         },
         {
          "hour": 16,
          "resource": "_solar_photovoltaic_btm",
          "value_sum": 280.68
         },
         {
          "hour": 17,
          "resource": "_solar_photovoltaic_btm",
          "value_sum": 194.16
         },
         {
          "hour": 18,
          "resource": "_solar_photovoltaic_btm",
          "value_sum": 28.62
         },
         {
          "hour": 19,
          "resource": "_solar_photovoltaic_btm",
          "value_sum": 0
         },
         {
          "hour": 20,
          "resource": "_solar_photovoltaic_btm",
          "value_sum": 0
         },
         {
          "hour": 21,
          "resource": "_solar_photovoltaic_btm",
          "value_sum": 0
         },
         {
          "hour": 22,
          "resource": "_solar_photovoltaic_btm",
          "value_sum": 0
         },
         {
          "hour": 23,
          "resource": "_solar_photovoltaic_btm",
          "value_sum": 0
         },
         {
          "hour": 0,
          "resource": "_curtailment",
          "value_sum": 0
         },
         {
          "hour": 1,
          "resource": "_curtailment",
          "value_sum": 0
         },
         {
          "hour": 2,
          "resource": "_curtailment",
          "value_sum": 0
         },
         {
          "hour": 3,
          "resource": "_curtailment",
          "value_sum": 1.0658141036401503e-14
         },
         {
          "hour": 4,
          "resource": "_curtailment",
          "value_sum": 0
         },
         {
          "hour": 5,
          "resource": "_curtailment",
          "value_sum": 0
         },
         {
          "hour": 6,
          "resource": "_curtailment",
          "value_sum": 0
         },
         {
          "hour": 7,
          "resource": "_curtailment",
          "value_sum": 0
         },
         {
          "hour": 8,
          "resource": "_curtailment",
          "value_sum": 2.2737367544323206e-13
         },
         {
          "hour": 9,
          "resource": "_curtailment",
          "value_sum": -1.4210854715202004e-13
         },
         {
          "hour": 10,
          "resource": "_curtailment",
          "value_sum": 0
         },
         {
          "hour": 11,
          "resource": "_curtailment",
          "value_sum": 0
         },
         {
          "hour": 12,
          "resource": "_curtailment",
          "value_sum": 0
         },
         {
          "hour": 13,
          "resource": "_curtailment",
          "value_sum": 0
         },
         {
          "hour": 14,
          "resource": "_curtailment",
          "value_sum": 0
         },
         {
          "hour": 15,
          "resource": "_curtailment",
          "value_sum": 0
         },
         {
          "hour": 16,
          "resource": "_curtailment",
          "value_sum": 0
         },
         {
          "hour": 17,
          "resource": "_curtailment",
          "value_sum": 0
         },
         {
          "hour": 18,
          "resource": "_curtailment",
          "value_sum": 0
         },
         {
          "hour": 19,
          "resource": "_curtailment",
          "value_sum": -1.0658141036401503e-14
         },
         {
          "hour": 20,
          "resource": "_curtailment",
          "value_sum": 0
         },
         {
          "hour": 21,
          "resource": "_curtailment",
          "value_sum": 0
         },
         {
          "hour": 22,
          "resource": "_curtailment",
          "value_sum": 0
         },
         {
          "hour": 23,
          "resource": "_curtailment",
          "value_sum": 0
         },
         {
          "hour": 0,
          "resource": "battery",
          "value_sum": 927.9333912040006
         },
         {
          "hour": 1,
          "resource": "battery",
          "value_sum": 335.4489112040008
         },
         {
          "hour": 2,
          "resource": "battery",
          "value_sum": 79.80466799999994
         },
         {
          "hour": 3,
          "resource": "battery",
          "value_sum": 138.36210799999975
         },
         {
          "hour": 4,
          "resource": "battery",
          "value_sum": 329.33778799999976
         },
         {
          "hour": 5,
          "resource": "battery",
          "value_sum": 513.738108
         },
         {
          "hour": 6,
          "resource": "battery",
          "value_sum": 683.1852279999998
         },
         {
          "hour": 7,
          "resource": "battery",
          "value_sum": 450.69162800000004
         },
         {
          "hour": 8,
          "resource": "battery",
          "value_sum": 0
         },
         {
          "hour": 9,
          "resource": "battery",
          "value_sum": 0
         },
         {
          "hour": 10,
          "resource": "battery",
          "value_sum": 0
         },
         {
          "hour": 11,
          "resource": "battery",
          "value_sum": 0
         },
         {
          "hour": 12,
          "resource": "battery",
          "value_sum": 0
         },
         {
          "hour": 13,
          "resource": "battery",
          "value_sum": 0
         },
         {
          "hour": 14,
          "resource": "battery",
          "value_sum": 0
         },
         {
          "hour": 15,
          "resource": "battery",
          "value_sum": 0
         },
         {
          "hour": 16,
          "resource": "battery",
          "value_sum": 0
         },
         {
          "hour": 17,
          "resource": "battery",
          "value_sum": 0
         },
         {
          "hour": 18,
          "resource": "battery",
          "value_sum": 835.3493879999999
         },
         {
          "hour": 19,
          "resource": "battery",
          "value_sum": 1116.4865879999998
         },
         {
          "hour": 20,
          "resource": "battery",
          "value_sum": 1110.9982679999998
         },
         {
          "hour": 21,
          "resource": "battery",
          "value_sum": 838.8664279999998
         },
         {
          "hour": 22,
          "resource": "battery",
          "value_sum": 831.3057479999991
         },
         {
          "hour": 23,
          "resource": "battery",
          "value_sum": 1570.3939479999997
         }
        ]
       },
       "encoding": {
        "color": {
         "field": "resource",
         "scale": {
          "scheme": "category10"
         },
         "type": "nominal"
        },
        "x": {
         "field": "hour",
         "type": "quantitative"
        },
        "y": {
         "field": "value_sum",
         "stack": "zero",
         "type": "quantitative"
        }
       },
       "mark": "area"
      },
      "image/png": "[encoded data removed]",
      "image/svg+xml": [
       "<svg xmlns=\"http://www.w3.org/2000/svg\" xmlns:xlink=\"http://www.w3.org/1999/xlink\" version=\"1.1\" class=\"marks\" width=\"455\" height=\"247\" viewBox=\"0 0 455 247\"><rect width=\"455\" height=\"247\" fill=\"white\"/><g fill=\"none\" stroke-miterlimit=\"10\" transform=\"translate(56,10)\"><g class=\"mark-group role-frame root\" role=\"graphics-object\" aria-roledescription=\"group mark container\"><g transform=\"translate(0,0)\"><path class=\"background\" aria-hidden=\"true\" d=\"M0.5,0.5h200v200h-200Z\" stroke=\"#ddd\"/><g><g class=\"mark-group role-axis\" aria-hidden=\"true\"><g transform=\"translate(0.5,200.5)\"><path class=\"background\" aria-hidden=\"true\" d=\"M0,0h0v0h0Z\" pointer-events=\"none\"/><g><g class=\"mark-rule role-axis-grid\" pointer-events=\"none\"><line transform=\"translate(0,-200)\" x2=\"0\" y2=\"200\" stroke=\"#ddd\" stroke-width=\"1\" opacity=\"1\"/><line transform=\"translate(42,-200)\" x2=\"0\" y2=\"200\" stroke=\"#ddd\" stroke-width=\"1\" opacity=\"1\"/><line transform=\"translate(83,-200)\" x2=\"0\" y2=\"200\" stroke=\"#ddd\" stroke-width=\"1\" opacity=\"1\"/><line transform=\"translate(125,-200)\" x2=\"0\" y2=\"200\" stroke=\"#ddd\" stroke-width=\"1\" opacity=\"1\"/><line transform=\"translate(167,-200)\" x2=\"0\" y2=\"200\" stroke=\"#ddd\" stroke-width=\"1\" opacity=\"1\"/></g></g><path class=\"foreground\" aria-hidden=\"true\" d=\"\" pointer-events=\"none\" display=\"none\"/></g></g><g class=\"mark-group role-axis\" aria-hidden=\"true\"><g transform=\"translate(0.5,0.5)\"><path class=\"background\" aria-hidden=\"true\" d=\"M0,0h0v0h0Z\" pointer-events=\"none\"/><g><g class=\"mark-rule role-axis-grid\" pointer-events=\"none\"><line transform=\"translate(0,178)\" x2=\"200\" y2=\"0\" stroke=\"#ddd\" stroke-width=\"1\" opacity=\"1\"/><line transform=\"translate(0,133)\" x2=\"200\" y2=\"0\" stroke=\"#ddd\" stroke-width=\"1\" opacity=\"1\"/><line transform=\"translate(0,89)\" x2=\"200\" y2=\"0\" stroke=\"#ddd\" stroke-width=\"1\" opacity=\"1\"/><line transform=\"translate(0,44)\" x2=\"200\" y2=\"0\" stroke=\"#ddd\" stroke-width=\"1\" opacity=\"1\"/><line transform=\"translate(0,0)\" x2=\"200\" y2=\"0\" stroke=\"#ddd\" stroke-width=\"1\" opacity=\"1\"/></g></g><path class=\"foreground\" aria-hidden=\"true\" d=\"\" pointer-events=\"none\" display=\"none\"/></g></g><g class=\"mark-group role-axis\" role=\"graphics-symbol\" aria-roledescription=\"axis\" aria-label=\"X-axis titled 'hour' for a linear scale with values from 0 to 24\"><g transform=\"translate(0.5,200.5)\"><path class=\"background\" aria-hidden=\"true\" d=\"M0,0h0v0h0Z\" pointer-events=\"none\"/><g><g class=\"mark-rule role-axis-tick\" pointer-events=\"none\"><line transform=\"translate(0,0)\" x2=\"0\" y2=\"5\" stroke=\"#888\" stroke-width=\"1\" opacity=\"1\"/><line transform=\"translate(42,0)\" x2=\"0\" y2=\"5\" stroke=\"#888\" stroke-width=\"1\" opacity=\"1\"/><line transform=\"translate(83,0)\" x2=\"0\" y2=\"5\" stroke=\"#888\" stroke-width=\"1\" opacity=\"1\"/><line transform=\"translate(125,0)\" x2=\"0\" y2=\"5\" stroke=\"#888\" stroke-width=\"1\" opacity=\"1\"/><line transform=\"translate(167,0)\" x2=\"0\" y2=\"5\" stroke=\"#888\" stroke-width=\"1\" opacity=\"1\"/></g><g class=\"mark-text role-axis-label\" pointer-events=\"none\"><text text-anchor=\"start\" transform=\"translate(0,15)\" font-family=\"sans-serif\" font-size=\"10px\" fill=\"#000\" opacity=\"1\">0</text><text text-anchor=\"middle\" transform=\"translate(41.66666666666667,15)\" font-family=\"sans-serif\" font-size=\"10px\" fill=\"#000\" opacity=\"1\">5</text><text text-anchor=\"middle\" transform=\"translate(83.33333333333334,15)\" font-family=\"sans-serif\" font-size=\"10px\" fill=\"#000\" opacity=\"1\">10</text><text text-anchor=\"middle\" transform=\"translate(125,15)\" font-family=\"sans-serif\" font-size=\"10px\" fill=\"#000\" opacity=\"1\">15</text><text text-anchor=\"middle\" transform=\"translate(166.66666666666669,15)\" font-family=\"sans-serif\" font-size=\"10px\" fill=\"#000\" opacity=\"1\">20</text></g><g class=\"mark-rule role-axis-domain\" pointer-events=\"none\"><line transform=\"translate(0,0)\" x2=\"200\" y2=\"0\" stroke=\"#888\" stroke-width=\"1\" opacity=\"1\"/></g><g class=\"mark-text role-axis-title\" pointer-events=\"none\"><text text-anchor=\"middle\" transform=\"translate(100,30)\" font-family=\"sans-serif\" font-size=\"11px\" font-weight=\"bold\" fill=\"#000\" opacity=\"1\">hour</text></g></g><path class=\"foreground\" aria-hidden=\"true\" d=\"\" pointer-events=\"none\" display=\"none\"/></g></g><g class=\"mark-group role-axis\" role=\"graphics-symbol\" aria-roledescription=\"axis\" aria-label=\"Y-axis titled 'value_sum' for a linear scale with values from −500 to 4,000\"><g transform=\"translate(0.5,0.5)\"><path class=\"background\" aria-hidden=\"true\" d=\"M0,0h0v0h0Z\" pointer-events=\"none\"/><g><g class=\"mark-rule role-axis-tick\" pointer-events=\"none\"><line transform=\"translate(0,178)\" x2=\"-5\" y2=\"0\" stroke=\"#888\" stroke-width=\"1\" opacity=\"1\"/><line transform=\"translate(0,133)\" x2=\"-5\" y2=\"0\" stroke=\"#888\" stroke-width=\"1\" opacity=\"1\"/><line transform=\"translate(0,89)\" x2=\"-5\" y2=\"0\" stroke=\"#888\" stroke-width=\"1\" opacity=\"1\"/><line transform=\"translate(0,44)\" x2=\"-5\" y2=\"0\" stroke=\"#888\" stroke-width=\"1\" opacity=\"1\"/><line transform=\"translate(0,0)\" x2=\"-5\" y2=\"0\" stroke=\"#888\" stroke-width=\"1\" opacity=\"1\"/></g><g class=\"mark-text role-axis-label\" pointer-events=\"none\"><text text-anchor=\"end\" transform=\"translate(-7,180.77777777777777)\" font-family=\"sans-serif\" font-size=\"10px\" fill=\"#000\" opacity=\"1\">0</text><text text-anchor=\"end\" transform=\"translate(-7,136.33333333333334)\" font-family=\"sans-serif\" font-size=\"10px\" fill=\"#000\" opacity=\"1\">1,000</text><text text-anchor=\"end\" transform=\"translate(-7,91.88888888888889)\" font-family=\"sans-serif\" font-size=\"10px\" fill=\"#000\" opacity=\"1\">2,000</text><text text-anchor=\"end\" transform=\"translate(-7,47.44444444444444)\" font-family=\"sans-serif\" font-size=\"10px\" fill=\"#000\" opacity=\"1\">3,000</text><text text-anchor=\"end\" transform=\"translate(-7,3)\" font-family=\"sans-serif\" font-size=\"10px\" fill=\"#000\" opacity=\"1\">4,000</text></g><g class=\"mark-rule role-axis-domain\" pointer-events=\"none\"><line transform=\"translate(0,200)\" x2=\"0\" y2=\"-200\" stroke=\"#888\" stroke-width=\"1\" opacity=\"1\"/></g><g class=\"mark-text role-axis-title\" pointer-events=\"none\"><text text-anchor=\"middle\" transform=\"translate(-39.6279296875,100) rotate(-90) translate(0,-2)\" font-family=\"sans-serif\" font-size=\"11px\" font-weight=\"bold\" fill=\"#000\" opacity=\"1\">value_sum</text></g></g><path class=\"foreground\" aria-hidden=\"true\" d=\"\" pointer-events=\"none\" display=\"none\"/></g></g><g class=\"mark-group role-scope pathgroup\" role=\"graphics-object\" aria-roledescription=\"group mark container\"><g transform=\"translate(0,0)\"><path class=\"background\" aria-hidden=\"true\" d=\"M0,0h200v200h-200Z\"/><g><g class=\"mark-area role-mark marks\" role=\"graphics-object\" aria-roledescription=\"area mark container\"><path aria-label=\"hour: 0; value_sum: 0; resource: biomass\" role=\"graphics-symbol\" aria-roledescription=\"area mark\" d=\"M0,154.641L8.333,131.352L16.667,119.116L25,119.116L33.333,119.116L41.667,119.116L50,119.116L58.333,119.116L66.667,120.527L75,122.086L83.333,120.813L91.667,126.809L100,120.813L108.333,120.813L116.667,121.387L125,124.036L133.333,124.725L141.667,120.527L150,119.116L158.333,119.116L166.667,119.116L175,119.116L183.333,132.132L191.667,175.911L191.667,175.911L183.333,133.083L175,120.067L166.667,120.067L158.333,120.067L150,120.067L141.667,121.478L133.333,125.676L125,124.987L116.667,122.338L108.333,121.764L100,121.764L91.667,127.76L83.333,121.764L75,123.037L66.667,121.478L58.333,120.067L50,120.067L41.667,120.067L33.333,120.067L25,120.067L16.667,120.067L8.333,132.303L0,154.641Z\" fill=\"#e377c2\"/></g></g><path class=\"foreground\" aria-hidden=\"true\" d=\"\" display=\"none\"/></g><g transform=\"translate(0,0)\"><path class=\"background\" aria-hidden=\"true\" d=\"M0,0h200v200h-200Z\"/><g><g class=\"mark-area role-mark marks\" role=\"graphics-object\" aria-roledescription=\"area mark container\"><path aria-label=\"hour: 0; value_sum: 42; resource: hydroelectric_pumped_storage\" role=\"graphics-symbol\" aria-roledescription=\"area mark\" d=\"M0,154.641L8.333,132.303L16.667,120.067L25,120.067L33.333,120.067L41.667,120.067L50,120.067L58.333,120.067L66.667,121.478L75,123.037L83.333,121.764L91.667,127.76L100,121.764L108.333,121.764L116.667,122.338L125,124.987L133.333,125.676L141.667,121.478L150,120.067L158.333,120.067L166.667,120.067L175,120.067L183.333,133.083L191.667,175.911L191.667,177.778L183.333,134.949L175,121.933L166.667,121.933L158.333,121.933L150,121.933L141.667,123.345L133.333,127.542L125,126.854L116.667,124.205L108.333,123.631L100,123.631L91.667,129.626L83.333,123.631L75,124.904L66.667,123.345L58.333,121.933L50,121.933L41.667,121.933L33.333,121.933L25,121.933L16.667,121.933L8.333,134.17L0,156.508Z\" fill=\"#7f7f7f\"/></g></g><path class=\"foreground\" aria-hidden=\"true\" d=\"\" display=\"none\"/></g><g transform=\"translate(0,0)\"><path class=\"background\" aria-hidden=\"true\" d=\"M0,0h200v200h-200Z\"/><g><g class=\"mark-area role-mark marks\" role=\"graphics-object\" aria-roledescription=\"area mark container\"><path aria-label=\"hour: 0; value_sum: 478.572876796; resource: natural_gas_fired_combined_cycle\" role=\"graphics-symbol\" aria-roledescription=\"area mark\" d=\"M0,156.508L8.333,134.17L16.667,121.933L25,121.933L33.333,121.933L41.667,121.933L50,121.933L58.333,121.933L66.667,123.345L75,124.904L83.333,123.631L91.667,129.626L100,123.631L108.333,123.631L116.667,124.205L125,126.854L133.333,127.542L141.667,123.345L150,121.933L158.333,121.933L166.667,121.933L175,121.933L183.333,134.949L191.667,177.778L191.667,177.778L183.333,177.778L175,177.778L166.667,177.778L158.333,177.778L150,177.778L141.667,177.778L133.333,177.778L125,177.778L116.667,177.778L108.333,177.778L100,177.778L91.667,177.778L83.333,177.778L75,177.778L66.667,177.778L58.333,177.778L50,177.778L41.667,177.778L33.333,177.778L25,177.778L16.667,177.778L8.333,177.778L0,177.778Z\" fill=\"#bcbd22\"/></g></g><path class=\"foreground\" aria-hidden=\"true\" d=\"\" display=\"none\"/></g><g transform=\"translate(0,0)\"><path class=\"background\" aria-hidden=\"true\" d=\"M0,0h200v200h-200Z\"/><g><g class=\"mark-area role-mark marks\" role=\"graphics-object\" aria-roledescription=\"area mark container\"><path aria-label=\"hour: 0; value_sum: 0; resource: natural_gas_fired_combustion_turbine\" role=\"graphics-symbol\" aria-roledescription=\"area mark\" d=\"M0,177.778L8.333,177.778L16.667,177.778L25,177.778L33.333,177.778L41.667,177.778L50,177.778L58.333,177.778L66.667,177.778L75,177.778L83.333,177.778L91.667,177.778L100,177.778L108.333,177.778L116.667,177.778L125,177.778L133.333,177.778L141.667,177.778L150,177.778L158.333,177.778L166.667,177.778L175,177.778L183.333,177.778L191.667,177.778L191.667,177.778L183.333,177.778L175,177.778L166.667,177.778L158.333,177.778L150,177.778L141.667,177.778L133.333,177.778L125,177.778L116.667,177.778L108.333,177.778L100,177.778L91.667,177.778L83.333,177.778L75,177.778L66.667,177.778L58.333,177.778L50,177.778L41.667,177.778L33.333,177.778L25,177.778L16.667,177.778L8.333,177.778L0,177.778Z\" fill=\"#17becf\"/></g></g><path class=\"foreground\" aria-hidden=\"true\" d=\"\" display=\"none\"/></g><g transform=\"translate(0,0)\"><path class=\"background\" aria-hidden=\"true\" d=\"M0,0h200v200h-200Z\"/><g><g class=\"mark-area role-mark marks\" role=\"graphics-object\" aria-roledescription=\"area mark container\"><path aria-label=\"hour: 0; value_sum: 163.3088; resource: _onshore_wind_turbine\" role=\"graphics-symbol\" aria-roledescription=\"area mark\" d=\"M0,106L8.333,108.756L16.667,110.311L25,108.356L33.333,100.756L41.667,89.956L50,75.236L58.333,56.46L66.667,25.918L75,11.192L83.333,5.686L91.667,10.707L100,0.896L108.333,0.172L116.667,5.333L125,17.212L133.333,36.798L141.667,57.924L150,70.817L158.333,66.622L166.667,66.4L175,77.422L183.333,89.422L191.667,99.556L191.667,105.974L183.333,95.043L175,81.691L166.667,69.596L158.333,69.352L150,73.155L141.667,61.418L133.333,39.34L125,20.119L116.667,7.52L108.333,3.047L100,3.211L91.667,14.801L83.333,10.628L75,17.039L66.667,33.356L58.333,58.654L50,78.533L41.667,96.141L33.333,104.337L25,112.825L16.667,115.427L8.333,116.302L0,113.258Z\" fill=\"#ff7f0e\"/></g></g><path class=\"foreground\" aria-hidden=\"true\" d=\"\" display=\"none\"/></g><g transform=\"translate(0,0)\"><path class=\"background\" aria-hidden=\"true\" d=\"M0,0h200v200h-200Z\"/><g><g class=\"mark-area role-mark marks\" role=\"graphics-object\" aria-roledescription=\"area mark container\"><path aria-label=\"hour: 0; value_sum: 3.184932; resource: _small_hydroelectric\" role=\"graphics-symbol\" aria-roledescription=\"area mark\" d=\"M0,113.258L8.333,116.302L16.667,115.427L25,112.825L33.333,104.337L41.667,96.141L50,78.533L58.333,58.654L66.667,33.356L75,17.039L83.333,10.628L91.667,14.801L100,3.211L108.333,3.047L116.667,7.52L125,20.119L133.333,39.34L141.667,61.418L150,73.155L158.333,69.352L166.667,69.596L175,81.691L183.333,95.043L191.667,105.974L191.667,106.116L183.333,95.185L175,81.833L166.667,69.738L158.333,69.494L150,73.297L141.667,61.56L133.333,39.481L125,20.26L116.667,7.662L108.333,3.189L100,3.353L91.667,14.942L83.333,10.769L75,17.18L66.667,33.498L58.333,58.795L50,78.675L41.667,96.283L33.333,104.478L25,112.966L16.667,115.569L8.333,116.443L0,113.4Z\" fill=\"#2ca02c\"/></g></g><path class=\"foreground\" aria-hidden=\"true\" d=\"\" display=\"none\"/></g><g transform=\"translate(0,0)\"><path class=\"background\" aria-hidden=\"true\" d=\"M0,0h200v200h-200Z\"/><g><g class=\"mark-area role-mark marks\" role=\"graphics-object\" aria-roledescription=\"area mark container\"><path aria-label=\"hour: 0; value_sum: 0; resource: _solar_photovoltaic\" role=\"graphics-symbol\" aria-roledescription=\"area mark\" d=\"M0,113.4L8.333,116.443L16.667,115.569L25,112.966L33.333,104.478L41.667,96.283L50,78.675L58.333,58.795L66.667,33.498L75,17.18L83.333,10.769L91.667,14.942L100,3.353L108.333,3.189L116.667,7.662L125,20.26L133.333,39.481L141.667,61.56L150,73.297L158.333,69.494L166.667,69.738L175,81.833L183.333,95.185L191.667,106.116L191.667,106.116L183.333,95.185L175,81.833L166.667,69.738L158.333,69.494L150,80.717L141.667,111.898L133.333,112.25L125,108.849L116.667,104.744L108.333,103.6L100,103.624L91.667,110.438L83.333,104.709L75,106.734L66.667,107.791L58.333,93.189L50,87.277L41.667,96.283L33.333,104.478L25,112.966L16.667,115.569L8.333,116.443L0,113.4Z\" fill=\"#d62728\"/></g></g><path class=\"foreground\" aria-hidden=\"true\" d=\"\" display=\"none\"/></g><g transform=\"translate(0,0)\"><path class=\"background\" aria-hidden=\"true\" d=\"M0,0h200v200h-200Z\"/><g><g class=\"mark-area role-mark marks\" role=\"graphics-object\" aria-roledescription=\"area mark container\"><path aria-label=\"hour: 0; value_sum: 0; resource: _solar_photovoltaic_btm\" role=\"graphics-symbol\" aria-roledescription=\"area mark\" d=\"M0,113.4L8.333,116.443L16.667,115.569L25,112.966L33.333,104.478L41.667,96.283L50,87.277L58.333,93.189L66.667,107.791L75,106.734L83.333,104.709L91.667,110.438L100,103.624L108.333,103.6L116.667,104.744L125,108.849L133.333,112.25L141.667,111.898L150,80.717L158.333,69.494L166.667,69.738L175,81.833L183.333,95.185L191.667,106.116L191.667,106.116L183.333,95.185L175,81.833L166.667,69.738L158.333,69.494L150,81.989L141.667,120.527L133.333,124.725L125,124.036L116.667,121.387L108.333,120.813L100,120.813L91.667,126.809L83.333,120.813L75,122.086L66.667,120.527L58.333,99.085L50,88.752L41.667,96.283L33.333,104.478L25,112.966L16.667,115.569L8.333,116.443L0,113.4Z\" fill=\"#9467bd\"/></g></g><path class=\"foreground\" aria-hidden=\"true\" d=\"\" display=\"none\"/></g><g transform=\"translate(0,0)\"><path class=\"background\" aria-hidden=\"true\" d=\"M0,0h200v200h-200Z\"/><g><g class=\"mark-area role-mark marks\" role=\"graphics-object\" aria-roledescription=\"area mark container\"><path aria-label=\"hour: 0; value_sum: 0; resource: _curtailment\" role=\"graphics-symbol\" aria-roledescription=\"area mark\" d=\"M0,106L8.333,108.756L16.667,110.311L25,108.356L33.333,100.756L41.667,89.956L50,75.236L58.333,56.46L66.667,25.918L75,177.778L83.333,5.686L91.667,10.707L100,0.896L108.333,0.172L116.667,5.333L125,17.212L133.333,36.798L141.667,57.924L150,70.817L158.333,177.778L166.667,66.4L175,77.422L183.333,89.422L191.667,99.556L191.667,99.556L183.333,89.422L175,77.422L166.667,66.4L158.333,177.778L150,70.817L141.667,57.924L133.333,36.798L125,17.212L116.667,5.333L108.333,0.172L100,0.896L91.667,10.707L83.333,5.686L75,177.778L66.667,25.918L58.333,56.46L50,75.236L41.667,89.956L33.333,100.756L25,108.356L16.667,110.311L8.333,108.756L0,106Z\" fill=\"#1f77b4\"/></g></g><path class=\"foreground\" aria-hidden=\"true\" d=\"\" display=\"none\"/></g><g transform=\"translate(0,0)\"><path class=\"background\" aria-hidden=\"true\" d=\"M0,0h200v200h-200Z\"/><g><g class=\"mark-area role-mark marks\" role=\"graphics-object\" aria-roledescription=\"area mark container\"><path aria-label=\"hour: 0; value_sum: 927.933391204; resource: battery\" role=\"graphics-symbol\" aria-roledescription=\"area mark\" d=\"M0,113.4L8.333,116.443L16.667,115.569L25,112.966L33.333,104.478L41.667,96.283L50,88.752L58.333,99.085L66.667,120.527L75,122.086L83.333,120.813L91.667,126.809L100,120.813L108.333,120.813L116.667,121.387L125,124.036L133.333,124.725L141.667,120.527L150,81.989L158.333,69.494L166.667,69.738L175,81.833L183.333,95.185L191.667,106.116L191.667,175.911L183.333,132.132L175,119.116L166.667,119.116L158.333,119.116L150,119.116L141.667,120.527L133.333,124.725L125,124.036L116.667,121.387L108.333,120.813L100,120.813L91.667,126.809L83.333,120.813L75,122.086L66.667,120.527L58.333,119.116L50,119.116L41.667,119.116L33.333,119.116L25,119.116L16.667,119.116L8.333,131.352L0,154.641Z\" fill=\"#8c564b\"/></g></g><path class=\"foreground\" aria-hidden=\"true\" d=\"\" display=\"none\"/></g></g><g class=\"mark-group role-legend\" role=\"graphics-symbol\" aria-roledescription=\"legend\" aria-label=\"Symbol legend titled 'resource' for fill color with 10 values: _curtailment, _onshore_wind_turbine, _small_hydroelectric, _solar_photovoltaic, _solar_photovoltaic_btm, ending with natural_gas_fired_combustion_turbine\"><g transform=\"translate(218,0)\"><path class=\"background\" aria-hidden=\"true\" d=\"M0,0h176v144h-176Z\" pointer-events=\"none\"/><g><g class=\"mark-group role-legend-entry\"><g transform=\"translate(0,16)\"><path class=\"background\" aria-hidden=\"true\" d=\"M0,0h0v0h0Z\" pointer-events=\"none\"/><g><g class=\"mark-group role-scope\" role=\"graphics-object\" aria-roledescription=\"group mark container\"><g transform=\"translate(0,0)\"><path class=\"background\" aria-hidden=\"true\" d=\"M0,0h175.5263671875v11h-175.5263671875Z\" pointer-events=\"none\" opacity=\"1\"/><g><g class=\"mark-symbol role-legend-symbol\" pointer-events=\"none\"><path transform=\"translate(6,6)\" d=\"M5,0A5,5,0,1,1,-5,0A5,5,0,1,1,5,0\" fill=\"#1f77b4\" stroke-width=\"1.5\" opacity=\"1\"/></g><g class=\"mark-text role-legend-label\" pointer-events=\"none\"><text text-anchor=\"start\" transform=\"translate(16,9)\" font-family=\"sans-serif\" font-size=\"10px\" fill=\"#000\" opacity=\"1\">_curtailment</text></g></g><path class=\"foreground\" aria-hidden=\"true\" d=\"\" pointer-events=\"none\" display=\"none\"/></g><g transform=\"translate(0,13)\"><path class=\"background\" aria-hidden=\"true\" d=\"M0,0h175.5263671875v11h-175.5263671875Z\" pointer-events=\"none\" opacity=\"1\"/><g><g class=\"mark-symbol role-legend-symbol\" pointer-events=\"none\"><path transform=\"translate(6,6)\" d=\"M5,0A5,5,0,1,1,-5,0A5,5,0,1,1,5,0\" fill=\"#ff7f0e\" stroke-width=\"1.5\" opacity=\"1\"/></g><g class=\"mark-text role-legend-label\" pointer-events=\"none\"><text text-anchor=\"start\" transform=\"translate(16,9)\" font-family=\"sans-serif\" font-size=\"10px\" fill=\"#000\" opacity=\"1\">_onshore_wind_turbine</text></g></g><path class=\"foreground\" aria-hidden=\"true\" d=\"\" pointer-events=\"none\" display=\"none\"/></g><g transform=\"translate(0,26)\"><path class=\"background\" aria-hidden=\"true\" d=\"M0,0h175.5263671875v11h-175.5263671875Z\" pointer-events=\"none\" opacity=\"1\"/><g><g class=\"mark-symbol role-legend-symbol\" pointer-events=\"none\"><path transform=\"translate(6,6)\" d=\"M5,0A5,5,0,1,1,-5,0A5,5,0,1,1,5,0\" fill=\"#2ca02c\" stroke-width=\"1.5\" opacity=\"1\"/></g><g class=\"mark-text role-legend-label\" pointer-events=\"none\"><text text-anchor=\"start\" transform=\"translate(16,9)\" font-family=\"sans-serif\" font-size=\"10px\" fill=\"#000\" opacity=\"1\">_small_hydroelectric</text></g></g><path class=\"foreground\" aria-hidden=\"true\" d=\"\" pointer-events=\"none\" display=\"none\"/></g><g transform=\"translate(0,39)\"><path class=\"background\" aria-hidden=\"true\" d=\"M0,0h175.5263671875v11h-175.5263671875Z\" pointer-events=\"none\" opacity=\"1\"/><g><g class=\"mark-symbol role-legend-symbol\" pointer-events=\"none\"><path transform=\"translate(6,6)\" d=\"M5,0A5,5,0,1,1,-5,0A5,5,0,1,1,5,0\" fill=\"#d62728\" stroke-width=\"1.5\" opacity=\"1\"/></g><g class=\"mark-text role-legend-label\" pointer-events=\"none\"><text text-anchor=\"start\" transform=\"translate(16,9)\" font-family=\"sans-serif\" font-size=\"10px\" fill=\"#000\" opacity=\"1\">_solar_photovoltaic</text></g></g><path class=\"foreground\" aria-hidden=\"true\" d=\"\" pointer-events=\"none\" display=\"none\"/></g><g transform=\"translate(0,52)\"><path class=\"background\" aria-hidden=\"true\" d=\"M0,0h175.5263671875v11h-175.5263671875Z\" pointer-events=\"none\" opacity=\"1\"/><g><g class=\"mark-symbol role-legend-symbol\" pointer-events=\"none\"><path transform=\"translate(6,6)\" d=\"M5,0A5,5,0,1,1,-5,0A5,5,0,1,1,5,0\" fill=\"#9467bd\" stroke-width=\"1.5\" opacity=\"1\"/></g><g class=\"mark-text role-legend-label\" pointer-events=\"none\"><text text-anchor=\"start\" transform=\"translate(16,9)\" font-family=\"sans-serif\" font-size=\"10px\" fill=\"#000\" opacity=\"1\">_solar_photovoltaic_btm</text></g></g><path class=\"foreground\" aria-hidden=\"true\" d=\"\" pointer-events=\"none\" display=\"none\"/></g><g transform=\"translate(0,65)\"><path class=\"background\" aria-hidden=\"true\" d=\"M0,0h175.5263671875v11h-175.5263671875Z\" pointer-events=\"none\" opacity=\"1\"/><g><g class=\"mark-symbol role-legend-symbol\" pointer-events=\"none\"><path transform=\"translate(6,6)\" d=\"M5,0A5,5,0,1,1,-5,0A5,5,0,1,1,5,0\" fill=\"#8c564b\" stroke-width=\"1.5\" opacity=\"1\"/></g><g class=\"mark-text role-legend-label\" pointer-events=\"none\"><text text-anchor=\"start\" transform=\"translate(16,9)\" font-family=\"sans-serif\" font-size=\"10px\" fill=\"#000\" opacity=\"1\">battery</text></g></g><path class=\"foreground\" aria-hidden=\"true\" d=\"\" pointer-events=\"none\" display=\"none\"/></g><g transform=\"translate(0,78)\"><path class=\"background\" aria-hidden=\"true\" d=\"M0,0h175.5263671875v11h-175.5263671875Z\" pointer-events=\"none\" opacity=\"1\"/><g><g class=\"mark-symbol role-legend-symbol\" pointer-events=\"none\"><path transform=\"translate(6,6)\" d=\"M5,0A5,5,0,1,1,-5,0A5,5,0,1,1,5,0\" fill=\"#e377c2\" stroke-width=\"1.5\" opacity=\"1\"/></g><g class=\"mark-text role-legend-label\" pointer-events=\"none\"><text text-anchor=\"start\" transform=\"translate(16,9)\" font-family=\"sans-serif\" font-size=\"10px\" fill=\"#000\" opacity=\"1\">biomass</text></g></g><path class=\"foreground\" aria-hidden=\"true\" d=\"\" pointer-events=\"none\" display=\"none\"/></g><g transform=\"translate(0,91)\"><path class=\"background\" aria-hidden=\"true\" d=\"M0,0h175.5263671875v11h-175.5263671875Z\" pointer-events=\"none\" opacity=\"1\"/><g><g class=\"mark-symbol role-legend-symbol\" pointer-events=\"none\"><path transform=\"translate(6,6)\" d=\"M5,0A5,5,0,1,1,-5,0A5,5,0,1,1,5,0\" fill=\"#7f7f7f\" stroke-width=\"1.5\" opacity=\"1\"/></g><g class=\"mark-text role-legend-label\" pointer-events=\"none\"><text text-anchor=\"start\" transform=\"translate(16,9)\" font-family=\"sans-serif\" font-size=\"10px\" fill=\"#000\" opacity=\"1\">hydroelectric_pumped_storage</text></g></g><path class=\"foreground\" aria-hidden=\"true\" d=\"\" pointer-events=\"none\" display=\"none\"/></g><g transform=\"translate(0,104)\"><path class=\"background\" aria-hidden=\"true\" d=\"M0,0h175.5263671875v11h-175.5263671875Z\" pointer-events=\"none\" opacity=\"1\"/><g><g class=\"mark-symbol role-legend-symbol\" pointer-events=\"none\"><path transform=\"translate(6,6)\" d=\"M5,0A5,5,0,1,1,-5,0A5,5,0,1,1,5,0\" fill=\"#bcbd22\" stroke-width=\"1.5\" opacity=\"1\"/></g><g class=\"mark-text role-legend-label\" pointer-events=\"none\"><text text-anchor=\"start\" transform=\"translate(16,9)\" font-family=\"sans-serif\" font-size=\"10px\" fill=\"#000\" opacity=\"1\">natural_gas_fired_combined_…</text></g></g><path class=\"foreground\" aria-hidden=\"true\" d=\"\" pointer-events=\"none\" display=\"none\"/></g><g transform=\"translate(0,117)\"><path class=\"background\" aria-hidden=\"true\" d=\"M0,0h175.5263671875v11h-175.5263671875Z\" pointer-events=\"none\" opacity=\"1\"/><g><g class=\"mark-symbol role-legend-symbol\" pointer-events=\"none\"><path transform=\"translate(6,6)\" d=\"M5,0A5,5,0,1,1,-5,0A5,5,0,1,1,5,0\" fill=\"#17becf\" stroke-width=\"1.5\" opacity=\"1\"/></g><g class=\"mark-text role-legend-label\" pointer-events=\"none\"><text text-anchor=\"start\" transform=\"translate(16,9)\" font-family=\"sans-serif\" font-size=\"10px\" fill=\"#000\" opacity=\"1\">natural_gas_fired_combustion…</text></g></g><path class=\"foreground\" aria-hidden=\"true\" d=\"\" pointer-events=\"none\" display=\"none\"/></g></g></g><path class=\"foreground\" aria-hidden=\"true\" d=\"\" pointer-events=\"none\" display=\"none\"/></g></g><g class=\"mark-text role-legend-title\" pointer-events=\"none\"><text text-anchor=\"start\" transform=\"translate(0,9)\" font-family=\"sans-serif\" font-size=\"11px\" font-weight=\"bold\" fill=\"#000\" opacity=\"1\">resource</text></g></g><path class=\"foreground\" aria-hidden=\"true\" d=\"\" pointer-events=\"none\" display=\"none\"/></g></g></g><path class=\"foreground\" aria-hidden=\"true\" d=\"\" display=\"none\"/></g></g></g></svg>"
      ],
      "text/plain": [
       "@vlplot(\n",
       "    mark=\"area\",\n",
       "    encoding={\n",
       "        x={\n",
       "            field=\"hour\"\n",
       "        },\n",
       "        y={\n",
       "            stack=\"zero\",\n",
       "            field=\"value_sum\"\n",
       "        },\n",
       "        color={\n",
       "            scale={\n",
       "                scheme=\"category10\"\n",
       "            },\n",
       "            field=\"resource\",\n",
       "            type=\"nominal\"\n",
       "        }\n",
       "    },\n",
       "    data={\n",
       "        values=...\n",
       "    }\n",
       ")"
      ]
     },
     "metadata": {},
     "output_type": "display_data"
    }
   ],
   "source": [
    "solution = solve_unit_commitment(\n",
    "    gen_df_sens,\n",
    "    loads_multi,\n",
    "    gen_variable_multi,\n",
    "    0.001,\n",
    "    ramp_constraints = true,\n",
    "    storage = storage_df\n",
    "    );\n",
    "\n",
    "sol_gen = innerjoin(solution.gen, \n",
    "                    gen_df[!, [:r_id, :resource]], \n",
    "                    on = :r_id)\n",
    "sol_gen = combine(groupby(sol_gen, [:resource, :hour]), \n",
    "            :value => sum)\n",
    "\n",
    "# Rename generators (for plotting purposes)\n",
    "sol_gen[sol_gen.resource .== \"solar_photovoltaic\", :resource] .= \"_solar_photovoltaic\"\n",
    "sol_gen[sol_gen.resource .== \"onshore_wind_turbine\", :resource] .= \"_onshore_wind_turbine\"\n",
    "sol_gen[sol_gen.resource .== \"small_hydroelectric\", :resource] .= \"_small_hydroelectric\"\n",
    "\n",
    "# BTM solar\n",
    "btm = DataFrame(resource = repeat([\"_solar_photovoltaic_btm\"]; outer=length(T_period)), \n",
    "    hour = T_period,\n",
    "    value_sum = gen_variable_multi[gen_variable_multi.gen_full .== \"wec_sdge_solar_photovoltaic_1.0\",:cf] * 600)\n",
    "append!(sol_gen, btm)\n",
    "\n",
    "# Curtailment\n",
    "curtail = combine(groupby(solution.curtail, [:hour]),\n",
    "            :value => sum)\n",
    "curtail[!, :resource] .= \"_curtailment\"\n",
    "# rename!(curtail, :curt_sum => :value_sum)\n",
    "append!(sol_gen, curtail[:,[:resource, :hour, :value_sum]])\n",
    "\n",
    "# Storage\n",
    "if haskey(solution, :dis)\n",
    "    storage_ch = innerjoin(\n",
    "        solution.dis, \n",
    "        storage_df[!, [:r_id, :resource]], \n",
    "        on = :r_id)\n",
    "    storage_ch = combine(groupby(storage_ch, [:resource, :hour]), :value => sum)\n",
    "    append!(sol_gen, storage_ch)\n",
    "end\n",
    "# Rescale hours\n",
    "sol_gen.hour = sol_gen.hour .- T_period[1]\n",
    "\n",
    "sol_gen |>\n",
    "@vlplot(:area, \n",
    "    x=:hour, y={:value_sum, stack=:zero}, \n",
    "    color={\"resource:n\", scale={scheme=\"category10\"}})"
   ]
  },
  {
   "cell_type": "code",
   "execution_count": 37,
   "metadata": {},
   "outputs": [
    {
     "data": {
      "application/vnd.vegalite.v5+json": {
       "data": {
        "values": [
         {
          "hour": 0,
          "resource": "natural_gas_fired_combined_cycle",
          "value_sum": 4
         },
         {
          "hour": 0,
          "resource": "natural_gas_fired_combustion_turbine",
          "value_sum": 0
         },
         {
          "hour": 1,
          "resource": "natural_gas_fired_combined_cycle",
          "value_sum": 4
         },
         {
          "hour": 1,
          "resource": "natural_gas_fired_combustion_turbine",
          "value_sum": 0
         },
         {
          "hour": 2,
          "resource": "natural_gas_fired_combined_cycle",
          "value_sum": 4
         },
         {
          "hour": 2,
          "resource": "natural_gas_fired_combustion_turbine",
          "value_sum": 0
         },
         {
          "hour": 3,
          "resource": "natural_gas_fired_combined_cycle",
          "value_sum": 4
         },
         {
          "hour": 3,
          "resource": "natural_gas_fired_combustion_turbine",
          "value_sum": 0
         },
         {
          "hour": 4,
          "resource": "natural_gas_fired_combined_cycle",
          "value_sum": 4
         },
         {
          "hour": 4,
          "resource": "natural_gas_fired_combustion_turbine",
          "value_sum": 0
         },
         {
          "hour": 5,
          "resource": "natural_gas_fired_combined_cycle",
          "value_sum": 4
         },
         {
          "hour": 5,
          "resource": "natural_gas_fired_combustion_turbine",
          "value_sum": 0
         },
         {
          "hour": 6,
          "resource": "natural_gas_fired_combined_cycle",
          "value_sum": 4
         },
         {
          "hour": 6,
          "resource": "natural_gas_fired_combustion_turbine",
          "value_sum": 0
         },
         {
          "hour": 7,
          "resource": "natural_gas_fired_combined_cycle",
          "value_sum": 4
         },
         {
          "hour": 7,
          "resource": "natural_gas_fired_combustion_turbine",
          "value_sum": 0
         },
         {
          "hour": 8,
          "resource": "natural_gas_fired_combined_cycle",
          "value_sum": 4
         },
         {
          "hour": 8,
          "resource": "natural_gas_fired_combustion_turbine",
          "value_sum": 0
         },
         {
          "hour": 9,
          "resource": "natural_gas_fired_combined_cycle",
          "value_sum": 4
         },
         {
          "hour": 9,
          "resource": "natural_gas_fired_combustion_turbine",
          "value_sum": 0
         },
         {
          "hour": 10,
          "resource": "natural_gas_fired_combined_cycle",
          "value_sum": 4
         },
         {
          "hour": 10,
          "resource": "natural_gas_fired_combustion_turbine",
          "value_sum": 0
         },
         {
          "hour": 11,
          "resource": "natural_gas_fired_combined_cycle",
          "value_sum": 4
         },
         {
          "hour": 11,
          "resource": "natural_gas_fired_combustion_turbine",
          "value_sum": 0
         },
         {
          "hour": 12,
          "resource": "natural_gas_fired_combined_cycle",
          "value_sum": 4
         },
         {
          "hour": 12,
          "resource": "natural_gas_fired_combustion_turbine",
          "value_sum": 0
         },
         {
          "hour": 13,
          "resource": "natural_gas_fired_combined_cycle",
          "value_sum": 4
         },
         {
          "hour": 13,
          "resource": "natural_gas_fired_combustion_turbine",
          "value_sum": 0
         },
         {
          "hour": 14,
          "resource": "natural_gas_fired_combined_cycle",
          "value_sum": 4
         },
         {
          "hour": 14,
          "resource": "natural_gas_fired_combustion_turbine",
          "value_sum": 0
         },
         {
          "hour": 15,
          "resource": "natural_gas_fired_combined_cycle",
          "value_sum": 4
         },
         {
          "hour": 15,
          "resource": "natural_gas_fired_combustion_turbine",
          "value_sum": 0
         },
         {
          "hour": 16,
          "resource": "natural_gas_fired_combined_cycle",
          "value_sum": 4
         },
         {
          "hour": 16,
          "resource": "natural_gas_fired_combustion_turbine",
          "value_sum": 0
         },
         {
          "hour": 17,
          "resource": "natural_gas_fired_combined_cycle",
          "value_sum": 4
         },
         {
          "hour": 17,
          "resource": "natural_gas_fired_combustion_turbine",
          "value_sum": 0
         },
         {
          "hour": 18,
          "resource": "natural_gas_fired_combined_cycle",
          "value_sum": 4
         },
         {
          "hour": 18,
          "resource": "natural_gas_fired_combustion_turbine",
          "value_sum": 0
         },
         {
          "hour": 19,
          "resource": "natural_gas_fired_combined_cycle",
          "value_sum": 4
         },
         {
          "hour": 19,
          "resource": "natural_gas_fired_combustion_turbine",
          "value_sum": 0
         },
         {
          "hour": 20,
          "resource": "natural_gas_fired_combined_cycle",
          "value_sum": 4
         },
         {
          "hour": 20,
          "resource": "natural_gas_fired_combustion_turbine",
          "value_sum": 0
         },
         {
          "hour": 21,
          "resource": "natural_gas_fired_combined_cycle",
          "value_sum": 4
         },
         {
          "hour": 21,
          "resource": "natural_gas_fired_combustion_turbine",
          "value_sum": 0
         },
         {
          "hour": 22,
          "resource": "natural_gas_fired_combined_cycle",
          "value_sum": 4
         },
         {
          "hour": 22,
          "resource": "natural_gas_fired_combustion_turbine",
          "value_sum": 0
         },
         {
          "hour": 23,
          "resource": "natural_gas_fired_combined_cycle",
          "value_sum": 0
         },
         {
          "hour": 23,
          "resource": "natural_gas_fired_combustion_turbine",
          "value_sum": 0
         }
        ]
       },
       "encoding": {
        "color": {
         "field": "resource",
         "scale": {
          "scheme": "category10"
         },
         "type": "nominal"
        },
        "x": {
         "field": "hour",
         "type": "quantitative"
        },
        "y": {
         "field": "value_sum",
         "stack": "zero",
         "type": "quantitative"
        }
       },
       "mark": "area"
      },
      "image/png": "[encoded data removed]",
      "image/svg+xml": [
       "<svg xmlns=\"http://www.w3.org/2000/svg\" xmlns:xlink=\"http://www.w3.org/1999/xlink\" version=\"1.1\" class=\"marks\" width=\"433\" height=\"247\" viewBox=\"0 0 433 247\"><rect width=\"433\" height=\"247\" fill=\"white\"/><g fill=\"none\" stroke-miterlimit=\"10\" transform=\"translate(34,10)\"><g class=\"mark-group role-frame root\" role=\"graphics-object\" aria-roledescription=\"group mark container\"><g transform=\"translate(0,0)\"><path class=\"background\" aria-hidden=\"true\" d=\"M0.5,0.5h200v200h-200Z\" stroke=\"#ddd\"/><g><g class=\"mark-group role-axis\" aria-hidden=\"true\"><g transform=\"translate(0.5,200.5)\"><path class=\"background\" aria-hidden=\"true\" d=\"M0,0h0v0h0Z\" pointer-events=\"none\"/><g><g class=\"mark-rule role-axis-grid\" pointer-events=\"none\"><line transform=\"translate(0,-200)\" x2=\"0\" y2=\"200\" stroke=\"#ddd\" stroke-width=\"1\" opacity=\"1\"/><line transform=\"translate(42,-200)\" x2=\"0\" y2=\"200\" stroke=\"#ddd\" stroke-width=\"1\" opacity=\"1\"/><line transform=\"translate(83,-200)\" x2=\"0\" y2=\"200\" stroke=\"#ddd\" stroke-width=\"1\" opacity=\"1\"/><line transform=\"translate(125,-200)\" x2=\"0\" y2=\"200\" stroke=\"#ddd\" stroke-width=\"1\" opacity=\"1\"/><line transform=\"translate(167,-200)\" x2=\"0\" y2=\"200\" stroke=\"#ddd\" stroke-width=\"1\" opacity=\"1\"/></g></g><path class=\"foreground\" aria-hidden=\"true\" d=\"\" pointer-events=\"none\" display=\"none\"/></g></g><g class=\"mark-group role-axis\" aria-hidden=\"true\"><g transform=\"translate(0.5,0.5)\"><path class=\"background\" aria-hidden=\"true\" d=\"M0,0h0v0h0Z\" pointer-events=\"none\"/><g><g class=\"mark-rule role-axis-grid\" pointer-events=\"none\"><line transform=\"translate(0,200)\" x2=\"200\" y2=\"0\" stroke=\"#ddd\" stroke-width=\"1\" opacity=\"1\"/><line transform=\"translate(0,150)\" x2=\"200\" y2=\"0\" stroke=\"#ddd\" stroke-width=\"1\" opacity=\"1\"/><line transform=\"translate(0,100)\" x2=\"200\" y2=\"0\" stroke=\"#ddd\" stroke-width=\"1\" opacity=\"1\"/><line transform=\"translate(0,50)\" x2=\"200\" y2=\"0\" stroke=\"#ddd\" stroke-width=\"1\" opacity=\"1\"/><line transform=\"translate(0,0)\" x2=\"200\" y2=\"0\" stroke=\"#ddd\" stroke-width=\"1\" opacity=\"1\"/></g></g><path class=\"foreground\" aria-hidden=\"true\" d=\"\" pointer-events=\"none\" display=\"none\"/></g></g><g class=\"mark-group role-axis\" role=\"graphics-symbol\" aria-roledescription=\"axis\" aria-label=\"X-axis titled 'hour' for a linear scale with values from 0 to 24\"><g transform=\"translate(0.5,200.5)\"><path class=\"background\" aria-hidden=\"true\" d=\"M0,0h0v0h0Z\" pointer-events=\"none\"/><g><g class=\"mark-rule role-axis-tick\" pointer-events=\"none\"><line transform=\"translate(0,0)\" x2=\"0\" y2=\"5\" stroke=\"#888\" stroke-width=\"1\" opacity=\"1\"/><line transform=\"translate(42,0)\" x2=\"0\" y2=\"5\" stroke=\"#888\" stroke-width=\"1\" opacity=\"1\"/><line transform=\"translate(83,0)\" x2=\"0\" y2=\"5\" stroke=\"#888\" stroke-width=\"1\" opacity=\"1\"/><line transform=\"translate(125,0)\" x2=\"0\" y2=\"5\" stroke=\"#888\" stroke-width=\"1\" opacity=\"1\"/><line transform=\"translate(167,0)\" x2=\"0\" y2=\"5\" stroke=\"#888\" stroke-width=\"1\" opacity=\"1\"/></g><g class=\"mark-text role-axis-label\" pointer-events=\"none\"><text text-anchor=\"start\" transform=\"translate(0,15)\" font-family=\"sans-serif\" font-size=\"10px\" fill=\"#000\" opacity=\"1\">0</text><text text-anchor=\"middle\" transform=\"translate(41.66666666666667,15)\" font-family=\"sans-serif\" font-size=\"10px\" fill=\"#000\" opacity=\"1\">5</text><text text-anchor=\"middle\" transform=\"translate(83.33333333333334,15)\" font-family=\"sans-serif\" font-size=\"10px\" fill=\"#000\" opacity=\"1\">10</text><text text-anchor=\"middle\" transform=\"translate(125,15)\" font-family=\"sans-serif\" font-size=\"10px\" fill=\"#000\" opacity=\"1\">15</text><text text-anchor=\"middle\" transform=\"translate(166.66666666666669,15)\" font-family=\"sans-serif\" font-size=\"10px\" fill=\"#000\" opacity=\"1\">20</text></g><g class=\"mark-rule role-axis-domain\" pointer-events=\"none\"><line transform=\"translate(0,0)\" x2=\"200\" y2=\"0\" stroke=\"#888\" stroke-width=\"1\" opacity=\"1\"/></g><g class=\"mark-text role-axis-title\" pointer-events=\"none\"><text text-anchor=\"middle\" transform=\"translate(100,30)\" font-family=\"sans-serif\" font-size=\"11px\" font-weight=\"bold\" fill=\"#000\" opacity=\"1\">hour</text></g></g><path class=\"foreground\" aria-hidden=\"true\" d=\"\" pointer-events=\"none\" display=\"none\"/></g></g><g class=\"mark-group role-axis\" role=\"graphics-symbol\" aria-roledescription=\"axis\" aria-label=\"Y-axis titled 'value_sum' for a linear scale with values from 0 to 4\"><g transform=\"translate(0.5,0.5)\"><path class=\"background\" aria-hidden=\"true\" d=\"M0,0h0v0h0Z\" pointer-events=\"none\"/><g><g class=\"mark-rule role-axis-tick\" pointer-events=\"none\"><line transform=\"translate(0,200)\" x2=\"-5\" y2=\"0\" stroke=\"#888\" stroke-width=\"1\" opacity=\"1\"/><line transform=\"translate(0,150)\" x2=\"-5\" y2=\"0\" stroke=\"#888\" stroke-width=\"1\" opacity=\"1\"/><line transform=\"translate(0,100)\" x2=\"-5\" y2=\"0\" stroke=\"#888\" stroke-width=\"1\" opacity=\"1\"/><line transform=\"translate(0,50)\" x2=\"-5\" y2=\"0\" stroke=\"#888\" stroke-width=\"1\" opacity=\"1\"/><line transform=\"translate(0,0)\" x2=\"-5\" y2=\"0\" stroke=\"#888\" stroke-width=\"1\" opacity=\"1\"/></g><g class=\"mark-text role-axis-label\" pointer-events=\"none\"><text text-anchor=\"end\" transform=\"translate(-7,203)\" font-family=\"sans-serif\" font-size=\"10px\" fill=\"#000\" opacity=\"1\">0</text><text text-anchor=\"end\" transform=\"translate(-7,153)\" font-family=\"sans-serif\" font-size=\"10px\" fill=\"#000\" opacity=\"1\">1</text><text text-anchor=\"end\" transform=\"translate(-7,103)\" font-family=\"sans-serif\" font-size=\"10px\" fill=\"#000\" opacity=\"1\">2</text><text text-anchor=\"end\" transform=\"translate(-7,53)\" font-family=\"sans-serif\" font-size=\"10px\" fill=\"#000\" opacity=\"1\">3</text><text text-anchor=\"end\" transform=\"translate(-7,3)\" font-family=\"sans-serif\" font-size=\"10px\" fill=\"#000\" opacity=\"1\">4</text></g><g class=\"mark-rule role-axis-domain\" pointer-events=\"none\"><line transform=\"translate(0,200)\" x2=\"0\" y2=\"-200\" stroke=\"#888\" stroke-width=\"1\" opacity=\"1\"/></g><g class=\"mark-text role-axis-title\" pointer-events=\"none\"><text text-anchor=\"middle\" transform=\"translate(-17.3623046875,100) rotate(-90) translate(0,-2)\" font-family=\"sans-serif\" font-size=\"11px\" font-weight=\"bold\" fill=\"#000\" opacity=\"1\">value_sum</text></g></g><path class=\"foreground\" aria-hidden=\"true\" d=\"\" pointer-events=\"none\" display=\"none\"/></g></g><g class=\"mark-group role-scope pathgroup\" role=\"graphics-object\" aria-roledescription=\"group mark container\"><g transform=\"translate(0,0)\"><path class=\"background\" aria-hidden=\"true\" d=\"M0,0h200v200h-200Z\"/><g><g class=\"mark-area role-mark marks\" role=\"graphics-object\" aria-roledescription=\"area mark container\"><path aria-label=\"hour: 0; value_sum: 4; resource: natural_gas_fired_combined_cycle\" role=\"graphics-symbol\" aria-roledescription=\"area mark\" d=\"M0,0L8.333,0L16.667,0L25,0L33.333,0L41.667,0L50,0L58.333,0L66.667,0L75,0L83.333,0L91.667,0L100,0L108.333,0L116.667,0L125,0L133.333,0L141.667,0L150,0L158.333,0L166.667,0L175,0L183.333,0L191.667,200L191.667,200L183.333,200L175,200L166.667,200L158.333,200L150,200L141.667,200L133.333,200L125,200L116.667,200L108.333,200L100,200L91.667,200L83.333,200L75,200L66.667,200L58.333,200L50,200L41.667,200L33.333,200L25,200L16.667,200L8.333,200L0,200Z\" fill=\"#1f77b4\"/></g></g><path class=\"foreground\" aria-hidden=\"true\" d=\"\" display=\"none\"/></g><g transform=\"translate(0,0)\"><path class=\"background\" aria-hidden=\"true\" d=\"M0,0h200v200h-200Z\"/><g><g class=\"mark-area role-mark marks\" role=\"graphics-object\" aria-roledescription=\"area mark container\"><path aria-label=\"hour: 0; value_sum: 0; resource: natural_gas_fired_combustion_turbine\" role=\"graphics-symbol\" aria-roledescription=\"area mark\" d=\"M0,200L8.333,200L16.667,200L25,200L33.333,200L41.667,200L50,200L58.333,200L66.667,200L75,200L83.333,200L91.667,200L100,200L108.333,200L116.667,200L125,200L133.333,200L141.667,200L150,200L158.333,200L166.667,200L175,200L183.333,200L191.667,200L191.667,200L183.333,200L175,200L166.667,200L158.333,200L150,200L141.667,200L133.333,200L125,200L116.667,200L108.333,200L100,200L91.667,200L83.333,200L75,200L66.667,200L58.333,200L50,200L41.667,200L33.333,200L25,200L16.667,200L8.333,200L0,200Z\" fill=\"#ff7f0e\"/></g></g><path class=\"foreground\" aria-hidden=\"true\" d=\"\" display=\"none\"/></g></g><g class=\"mark-group role-legend\" role=\"graphics-symbol\" aria-roledescription=\"legend\" aria-label=\"Symbol legend titled 'resource' for fill color with 2 values: natural_gas_fired_combined_cycle, natural_gas_fired_combustion_turbine\"><g transform=\"translate(218,0)\"><path class=\"background\" aria-hidden=\"true\" d=\"M0,0h176v40h-176Z\" pointer-events=\"none\"/><g><g class=\"mark-group role-legend-entry\"><g transform=\"translate(0,16)\"><path class=\"background\" aria-hidden=\"true\" d=\"M0,0h0v0h0Z\" pointer-events=\"none\"/><g><g class=\"mark-group role-scope\" role=\"graphics-object\" aria-roledescription=\"group mark container\"><g transform=\"translate(0,0)\"><path class=\"background\" aria-hidden=\"true\" d=\"M0,0h175.5263671875v11h-175.5263671875Z\" pointer-events=\"none\" opacity=\"1\"/><g><g class=\"mark-symbol role-legend-symbol\" pointer-events=\"none\"><path transform=\"translate(6,6)\" d=\"M5,0A5,5,0,1,1,-5,0A5,5,0,1,1,5,0\" fill=\"#1f77b4\" stroke-width=\"1.5\" opacity=\"1\"/></g><g class=\"mark-text role-legend-label\" pointer-events=\"none\"><text text-anchor=\"start\" transform=\"translate(16,9)\" font-family=\"sans-serif\" font-size=\"10px\" fill=\"#000\" opacity=\"1\">natural_gas_fired_combined_…</text></g></g><path class=\"foreground\" aria-hidden=\"true\" d=\"\" pointer-events=\"none\" display=\"none\"/></g><g transform=\"translate(0,13)\"><path class=\"background\" aria-hidden=\"true\" d=\"M0,0h175.5263671875v11h-175.5263671875Z\" pointer-events=\"none\" opacity=\"1\"/><g><g class=\"mark-symbol role-legend-symbol\" pointer-events=\"none\"><path transform=\"translate(6,6)\" d=\"M5,0A5,5,0,1,1,-5,0A5,5,0,1,1,5,0\" fill=\"#ff7f0e\" stroke-width=\"1.5\" opacity=\"1\"/></g><g class=\"mark-text role-legend-label\" pointer-events=\"none\"><text text-anchor=\"start\" transform=\"translate(16,9)\" font-family=\"sans-serif\" font-size=\"10px\" fill=\"#000\" opacity=\"1\">natural_gas_fired_combustion…</text></g></g><path class=\"foreground\" aria-hidden=\"true\" d=\"\" pointer-events=\"none\" display=\"none\"/></g></g></g><path class=\"foreground\" aria-hidden=\"true\" d=\"\" pointer-events=\"none\" display=\"none\"/></g></g><g class=\"mark-text role-legend-title\" pointer-events=\"none\"><text text-anchor=\"start\" transform=\"translate(0,9)\" font-family=\"sans-serif\" font-size=\"11px\" font-weight=\"bold\" fill=\"#000\" opacity=\"1\">resource</text></g></g><path class=\"foreground\" aria-hidden=\"true\" d=\"\" pointer-events=\"none\" display=\"none\"/></g></g></g><path class=\"foreground\" aria-hidden=\"true\" d=\"\" display=\"none\"/></g></g></g></svg>"
      ],
      "text/plain": [
       "@vlplot(\n",
       "    mark=\"area\",\n",
       "    encoding={\n",
       "        x={\n",
       "            field=\"hour\"\n",
       "        },\n",
       "        y={\n",
       "            stack=\"zero\",\n",
       "            field=\"value_sum\"\n",
       "        },\n",
       "        color={\n",
       "            scale={\n",
       "                scheme=\"category10\"\n",
       "            },\n",
       "            field=\"resource\",\n",
       "            type=\"nominal\"\n",
       "        }\n",
       "    },\n",
       "    data={\n",
       "        values=...\n",
       "    }\n",
       ")"
      ]
     },
     "metadata": {},
     "output_type": "display_data"
    }
   ],
   "source": [
    "sol_commit = innerjoin(solution.commit, \n",
    "                    gen_df[!, [:r_id, :resource]], \n",
    "                    on = :r_id)\n",
    "sol_commit = combine(groupby(sol_commit, [:resource, :hour]), \n",
    "            :value => sum)\n",
    "sol_commit.hour = sol_commit.hour .- T_period[1]\n",
    "\n",
    "sol_commit |>\n",
    "@vlplot(:area, \n",
    "    x=:hour, y={:value_sum, stack=:zero}, \n",
    "    color={\"resource:n\", scale={scheme=\"category10\"}})"
   ]
  },
  {
   "cell_type": "code",
   "execution_count": 35,
   "metadata": {},
   "outputs": [
    {
     "ename": "ErrorException",
     "evalue": "type NamedTuple has no field SOE",
     "output_type": "error",
     "traceback": [
      "type NamedTuple has no field SOE\n",
      "\n",
      "Stacktrace:\n",
      " [1] getproperty(x::@NamedTuple{gen::DataFrame, commit::DataFrame, curtail::DataFrame, _::Float64, __::MathOptInterface.TerminationStatusCode}, f::Symbol)\n",
      "   @ Base ./Base.jl:37\n",
      " [2] top-level scope\n",
      "   @ /mnt/c/Users/pgallego/OneDrive - Imperial College London/PhD/Repositories/energy_reserve/Energy_reserve.ipynb:2"
     ]
    }
   ],
   "source": [
    "using PlotlyJS\n",
    "to_plot = copy(solution.SOE)\n",
    "to_plot.hour = to_plot.hour .- T_period[1]\n",
    "plot(to_plot, x = :hour, y = :value, group = :r_id)"
   ]
  },
  {
   "cell_type": "code",
   "execution_count": 30,
   "metadata": {},
   "outputs": [
    {
     "ename": "ErrorException",
     "evalue": "type NamedTuple has no field dis",
     "output_type": "error",
     "traceback": [
      "type NamedTuple has no field dis\n",
      "\n",
      "Stacktrace:\n",
      " [1] getproperty(x::@NamedTuple{gen::DataFrame, commit::DataFrame, curtail::DataFrame, _::Float64, __::MathOptInterface.TerminationStatusCode}, f::Symbol)\n",
      "   @ Base ./Base.jl:37\n",
      " [2] top-level scope\n",
      "   @ /mnt/c/Users/pgallego/OneDrive - Imperial College London/PhD/Repositories/energy_reserve/Energy_reserve.ipynb:1"
     ]
    }
   ],
   "source": [
    "to_plot = copy(solution.dis)\n",
    "to_plot.hour = to_plot.hour .- T_period[1]\n",
    "plot(to_plot, x = :hour, y = :value, group = :r_id)"
   ]
  },
  {
   "cell_type": "code",
   "execution_count": 31,
   "metadata": {},
   "outputs": [
    {
     "ename": "ErrorException",
     "evalue": "type NamedTuple has no field ch",
     "output_type": "error",
     "traceback": [
      "type NamedTuple has no field ch\n",
      "\n",
      "Stacktrace:\n",
      " [1] getproperty(x::@NamedTuple{gen::DataFrame, commit::DataFrame, curtail::DataFrame, _::Float64, __::MathOptInterface.TerminationStatusCode}, f::Symbol)\n",
      "   @ Base ./Base.jl:37\n",
      " [2] top-level scope\n",
      "   @ /mnt/c/Users/pgallego/OneDrive - Imperial College London/PhD/Repositories/energy_reserve/Energy_reserve.ipynb:1"
     ]
    }
   ],
   "source": [
    "to_plot = copy(solution.ch)\n",
    "to_plot.hour = to_plot.hour .- T_period[1]\n",
    "plot(to_plot, x = :hour, y = :value, group = :r_id)"
   ]
  },
  {
   "cell_type": "code",
   "execution_count": 32,
   "metadata": {},
   "outputs": [],
   "source": []
  }
 ],
 "metadata": {
  "@webio": {
   "lastCommId": null,
   "lastKernelId": null
  },
  "kernelspec": {
   "display_name": "Julia 1.10.1",
   "language": "julia",
   "name": "julia-1.10"
  },
  "language_info": {
   "file_extension": ".jl",
   "mimetype": "application/julia",
   "name": "julia",
   "version": "1.10.1"
  }
 },
 "nbformat": 4,
 "nbformat_minor": 4
}
