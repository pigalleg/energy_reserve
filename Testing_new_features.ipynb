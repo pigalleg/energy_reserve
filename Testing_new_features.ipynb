{
 "cells": [
  {
   "cell_type": "code",
   "execution_count": 8,
   "metadata": {},
   "outputs": [
    {
     "data": {
      "text/plain": [
       "120"
      ]
     },
     "metadata": {},
     "output_type": "display_data"
    }
   ],
   "source": [
    "using VegaLite\n",
    "using PlotlyJS\n",
    "include(\"./utils.jl\")\n",
    "include(\"./unit_commitment.jl\")\n",
    "ENV[\"COLUMNS\"]=120 # Set so all columns of DataFrames and Matrices are displayed"
   ]
  },
  {
   "cell_type": "code",
   "execution_count": 9,
   "metadata": {},
   "outputs": [],
   "source": [
    "\n",
    "gen_info, fuels, loads, gen_variable_info, storage_info = read_data()\n",
    "gen_df = pre_process_generators_data(gen_info, fuels)\n",
    "storage_df = pre_process_storage_data(storage_info)\n",
    "\n",
    "# A spring day\n",
    "n=100\n",
    "T_period = (n*24+1):((n+1)*24)\n",
    "\n",
    "# High solar case: 3,500 MW\n",
    "gen_df_sens = copy(gen_df)\n",
    "gen_df_sens[gen_df_sens.resource .== \"solar_photovoltaic\",\n",
    "    :existing_cap_mw] .= 3500\n",
    "gen_variable = pre_process_gen_variable(gen_df_sens, gen_variable_info)\n",
    "\n",
    "# Filtering data with timeseries according to T_period\n",
    "gen_variable_multi = gen_variable[in.(gen_variable.hour,Ref(T_period)),:];\n",
    "loads_multi = loads[in.(loads.hour,Ref(T_period)),:];\n",
    "\n",
    "reserve = DataFrame(\n",
    "    hour = loads[in.(loads.hour, Ref(T_period)), :hour],\n",
    "    up = 300 .+ loads[in.(loads.hour,Ref(T_period)), :demand].*0.05,\n",
    "    down = loads[in.(loads.hour, Ref(T_period)), :demand].*0.05)\n",
    "\n",
    "\n",
    "energy_reserve = [(row_1.hour, row_2.hour, row_1.up*(row_1.hour == row_2.hour), row_1.down*(row_1.hour == row_2.hour)) for row_1 in eachrow(reserve), row_2 in eachrow(reserve) if row_1.hour <= row_2.hour]\n",
    "energy_reserve = DataFrame(energy_reserve)\n",
    "energy_reserve = rename(energy_reserve, :1 => :i_hour, :2 => :t_hour, :3 => :up, :4 => :down,)\n",
    ";"
   ]
  },
  {
   "cell_type": "markdown",
   "metadata": {},
   "source": [
    "### Enriched solution"
   ]
  },
  {
   "cell_type": "code",
   "execution_count": 10,
   "metadata": {},
   "outputs": [
    {
     "name": "stdout",
     "output_type": "stream",
     "text": [
      "Set parameter WLSAccessID\n",
      "Set parameter WLSSecret\n",
      "Set parameter LicenseID to value 2475843\n",
      "Academic license 2475843 - for non-commercial use only - registered to pa___@imperial.ac.uk\n",
      "Set parameter MIPGap to value 0.001\n",
      "Adding ramp constraints...\n"
     ]
    },
    {
     "name": "stdout",
     "output_type": "stream",
     "text": [
      "Adding storage...\n"
     ]
    },
    {
     "name": "stdout",
     "output_type": "stream",
     "text": [
      "Set parameter MIPGap to value 0.001\n",
      "Gurobi Optimizer version 11.0.0 build v11.0.0rc2 (linux64 - \"Ubuntu 22.04.3 LTS\")\n",
      "\n",
      "CPU model: 11th Gen Intel(R) Core(TM) i7-11370H @ 3.30GHz, instruction set [SSE2|AVX|AVX2|AVX512]\n",
      "Thread count: 4 physical cores, 8 logical processors, using up to 8 threads\n",
      "\n",
      "Academic license 2475843 - for non-commercial use only - registered to pa___@imperial.ac.uk\n",
      "Optimize a model with 6692 rows, 3720 columns and 17076 nonzeros\n",
      "Model fingerprint: 0x6ec01c60\n",
      "Variable types: 1896 continuous, 1824 integer (1824 binary)\n",
      "Coefficient statistics:\n",
      "  Matrix range     [9e-01, 1e+03]\n",
      "  Objective range  [1e-01, 5e+04]\n",
      "  Bounds range     [0e+00, 0e+00]\n",
      "  RHS range        [1e+00, 4e+03]\n",
      "Presolve removed 3316 rows and 674 columns\n",
      "Presolve time: 0.04s\n",
      "Presolved: 3376 rows, 3046 columns, 13026 nonzeros\n",
      "Variable types: 1266 continuous, 1780 integer (1780 binary)\n",
      "\n",
      "Root relaxation: objective 6.032806e+05, 566 iterations, 0.01 seconds (0.01 work units)\n",
      "\n",
      "    Nodes    |    Current Node    |     Objective Bounds      |     Work\n",
      " Expl Unexpl |  Obj  Depth IntInf | Incumbent    BestBd   Gap | It/Node Time\n",
      "\n",
      "     0     0 603280.602    0    9          - 603280.602      -     -    0s\n",
      "H    0     0                    603457.66965 603280.602  0.03%     -    0s\n",
      "\n",
      "Explored 1 nodes (566 simplex iterations) in 0.09 seconds (0.07 work units)\n",
      "Thread count was 8 (of 8 available processors)\n",
      "\n",
      "Solution count 1: 603458 \n",
      "\n",
      "Optimal solution found (tolerance 1.00e-03)\n",
      "Best objective 6.034576696459e+05, best bound 6.032806020334e+05, gap 0.0293%\n",
      "\n",
      "User-callback calls 460, time in user-callback 0.00 sec\n"
     ]
    },
    {
     "data": {
      "application/vnd.vegalite.v5+json": {
       "data": {
        "values": [
         {
          "hour": 2401,
          "production_MW": 163.3088,
          "resource": "onshore_wind_turbine"
         },
         {
          "hour": 2401,
          "production_MW": 3.184932,
          "resource": "small_hydroelectric"
         },
         {
          "hour": 2401,
          "production_MW": 0,
          "resource": "solar_photovoltaic"
         },
         {
          "hour": 2402,
          "production_MW": 169.79327999999998,
          "resource": "onshore_wind_turbine"
         },
         {
          "hour": 2402,
          "production_MW": 3.184932,
          "resource": "small_hydroelectric"
         },
         {
          "hour": 2402,
          "production_MW": 0,
          "resource": "solar_photovoltaic"
         },
         {
          "hour": 2403,
          "production_MW": 115.1104,
          "resource": "onshore_wind_turbine"
         },
         {
          "hour": 2403,
          "production_MW": 3.184932,
          "resource": "small_hydroelectric"
         },
         {
          "hour": 2403,
          "production_MW": 0,
          "resource": "solar_photovoltaic"
         },
         {
          "hour": 2404,
          "production_MW": 100.55296,
          "resource": "onshore_wind_turbine"
         },
         {
          "hour": 2404,
          "production_MW": 3.184931999999989,
          "resource": "small_hydroelectric"
         },
         {
          "hour": 2404,
          "production_MW": 0,
          "resource": "solar_photovoltaic"
         },
         {
          "hour": 2405,
          "production_MW": 80.57728,
          "resource": "onshore_wind_turbine"
         },
         {
          "hour": 2405,
          "production_MW": 3.184932,
          "resource": "small_hydroelectric"
         },
         {
          "hour": 2405,
          "production_MW": 0,
          "resource": "solar_photovoltaic"
         },
         {
          "hour": 2406,
          "production_MW": 139.17695999999998,
          "resource": "onshore_wind_turbine"
         },
         {
          "hour": 2406,
          "production_MW": 3.184932,
          "resource": "small_hydroelectric"
         },
         {
          "hour": 2406,
          "production_MW": 0,
          "resource": "solar_photovoltaic"
         },
         {
          "hour": 2407,
          "production_MW": 74.17984,
          "resource": "onshore_wind_turbine"
         },
         {
          "hour": 2407,
          "production_MW": 3.184932,
          "resource": "small_hydroelectric"
         },
         {
          "hour": 2407,
          "production_MW": 193.55,
          "resource": "solar_photovoltaic"
         },
         {
          "hour": 2408,
          "production_MW": 49.373439999999995,
          "resource": "onshore_wind_turbine"
         },
         {
          "hour": 2408,
          "production_MW": 3.184932,
          "resource": "small_hydroelectric"
         },
         {
          "hour": 2408,
          "production_MW": 773.85,
          "resource": "solar_photovoltaic"
         },
         {
          "hour": 2409,
          "production_MW": 167.35616,
          "resource": "onshore_wind_turbine"
         },
         {
          "hour": 2409,
          "production_MW": 3.184932,
          "resource": "small_hydroelectric"
         },
         {
          "hour": 2409,
          "production_MW": 1671.6,
          "resource": "solar_photovoltaic"
         },
         {
          "hour": 2410,
          "production_MW": 131.56096000000014,
          "resource": "onshore_wind_turbine"
         },
         {
          "hour": 2410,
          "production_MW": 3.184932,
          "resource": "small_hydroelectric"
         },
         {
          "hour": 2410,
          "production_MW": 2014.95,
          "resource": "solar_photovoltaic"
         },
         {
          "hour": 2411,
          "production_MW": 111.1936,
          "resource": "onshore_wind_turbine"
         },
         {
          "hour": 2411,
          "production_MW": 3.184932,
          "resource": "small_hydroelectric"
         },
         {
          "hour": 2411,
          "production_MW": 2113.65,
          "resource": "solar_photovoltaic"
         },
         {
          "hour": 2412,
          "production_MW": 92.11008,
          "resource": "onshore_wind_turbine"
         },
         {
          "hour": 2412,
          "production_MW": 3.184932,
          "resource": "small_hydroelectric"
         },
         {
          "hour": 2412,
          "production_MW": 2148.65,
          "resource": "solar_photovoltaic"
         },
         {
          "hour": 2413,
          "production_MW": 52.09344,
          "resource": "onshore_wind_turbine"
         },
         {
          "hour": 2413,
          "production_MW": 3.184932,
          "resource": "small_hydroelectric"
         },
         {
          "hour": 2413,
          "production_MW": 2256.1,
          "resource": "solar_photovoltaic"
         },
         {
          "hour": 2414,
          "production_MW": 64.69248,
          "resource": "onshore_wind_turbine"
         },
         {
          "hour": 2414,
          "production_MW": 3.184932,
          "resource": "small_hydroelectric"
         },
         {
          "hour": 2414,
          "production_MW": 2259.25,
          "resource": "solar_photovoltaic"
         },
         {
          "hour": 2415,
          "production_MW": 49.22112,
          "resource": "onshore_wind_turbine"
         },
         {
          "hour": 2415,
          "production_MW": 3.184932,
          "resource": "small_hydroelectric"
         },
         {
          "hour": 2415,
          "production_MW": 2184.35,
          "resource": "solar_photovoltaic"
         },
         {
          "hour": 2416,
          "production_MW": 65.41055999999999,
          "resource": "onshore_wind_turbine"
         },
         {
          "hour": 2416,
          "production_MW": 3.184932,
          "resource": "small_hydroelectric"
         },
         {
          "hour": 2416,
          "production_MW": 1993.25,
          "resource": "solar_photovoltaic"
         },
         {
          "hour": 2417,
          "production_MW": 57.18527999999999,
          "resource": "onshore_wind_turbine"
         },
         {
          "hour": 2417,
          "production_MW": 3.184932,
          "resource": "small_hydroelectric"
         },
         {
          "hour": 2417,
          "production_MW": 1637.3,
          "resource": "solar_photovoltaic"
         },
         {
          "hour": 2418,
          "production_MW": 78.61888,
          "resource": "onshore_wind_turbine"
         },
         {
          "hour": 2418,
          "production_MW": 3.184932,
          "resource": "small_hydroelectric"
         },
         {
          "hour": 2418,
          "production_MW": 1132.6,
          "resource": "solar_photovoltaic"
         },
         {
          "hour": 2419,
          "production_MW": 52.61568,
          "resource": "onshore_wind_turbine"
         },
         {
          "hour": 2419,
          "production_MW": 3.184932,
          "resource": "small_hydroelectric"
         },
         {
          "hour": 2419,
          "production_MW": 166.95,
          "resource": "solar_photovoltaic"
         },
         {
          "hour": 2420,
          "production_MW": 61.42848,
          "resource": "onshore_wind_turbine"
         },
         {
          "hour": 2420,
          "production_MW": 3.1849320000000105,
          "resource": "small_hydroelectric"
         },
         {
          "hour": 2420,
          "production_MW": 0,
          "resource": "solar_photovoltaic"
         },
         {
          "hour": 2421,
          "production_MW": 71.9168,
          "resource": "onshore_wind_turbine"
         },
         {
          "hour": 2421,
          "production_MW": 3.184932,
          "resource": "small_hydroelectric"
         },
         {
          "hour": 2421,
          "production_MW": 0,
          "resource": "solar_photovoltaic"
         },
         {
          "hour": 2422,
          "production_MW": 96.04864,
          "resource": "onshore_wind_turbine"
         },
         {
          "hour": 2422,
          "production_MW": 3.184932,
          "resource": "small_hydroelectric"
         },
         {
          "hour": 2422,
          "production_MW": 0,
          "resource": "solar_photovoltaic"
         },
         {
          "hour": 2423,
          "production_MW": 126.46912,
          "resource": "onshore_wind_turbine"
         },
         {
          "hour": 2423,
          "production_MW": 3.184932,
          "resource": "small_hydroelectric"
         },
         {
          "hour": 2423,
          "production_MW": 0,
          "resource": "solar_photovoltaic"
         },
         {
          "hour": 2424,
          "production_MW": 144.42111999999997,
          "resource": "onshore_wind_turbine"
         },
         {
          "hour": 2424,
          "production_MW": 3.184932,
          "resource": "small_hydroelectric"
         },
         {
          "hour": 2424,
          "production_MW": 0,
          "resource": "solar_photovoltaic"
         },
         {
          "hour": 2401,
          "production_MW": 0,
          "resource": "biomass"
         },
         {
          "hour": 2401,
          "production_MW": 42,
          "resource": "hydroelectric_pumped_storage"
         },
         {
          "hour": 2401,
          "production_MW": 478.57287679599926,
          "resource": "natural_gas_fired_combined_cycle"
         },
         {
          "hour": 2401,
          "production_MW": 0,
          "resource": "natural_gas_fired_combustion_turbine"
         },
         {
          "hour": 2402,
          "production_MW": 21.4,
          "resource": "biomass"
         },
         {
          "hour": 2402,
          "production_MW": 42,
          "resource": "hydroelectric_pumped_storage"
         },
         {
          "hour": 2402,
          "production_MW": 981.1728767959993,
          "resource": "natural_gas_fired_combined_cycle"
         },
         {
          "hour": 2402,
          "production_MW": 0,
          "resource": "natural_gas_fired_combustion_turbine"
         },
         {
          "hour": 2403,
          "production_MW": 21.4,
          "resource": "biomass"
         },
         {
          "hour": 2403,
          "production_MW": 42,
          "resource": "hydroelectric_pumped_storage"
         },
         {
          "hour": 2403,
          "production_MW": 1256.5,
          "resource": "natural_gas_fired_combined_cycle"
         },
         {
          "hour": 2403,
          "production_MW": 0,
          "resource": "natural_gas_fired_combustion_turbine"
         },
         {
          "hour": 2404,
          "production_MW": 21.4,
          "resource": "biomass"
         },
         {
          "hour": 2404,
          "production_MW": 42,
          "resource": "hydroelectric_pumped_storage"
         },
         {
          "hour": 2404,
          "production_MW": 1256.5,
          "resource": "natural_gas_fired_combined_cycle"
         },
         {
          "hour": 2404,
          "production_MW": 0,
          "resource": "natural_gas_fired_combustion_turbine"
         },
         {
          "hour": 2405,
          "production_MW": 21.4,
          "resource": "biomass"
         },
         {
          "hour": 2405,
          "production_MW": 42,
          "resource": "hydroelectric_pumped_storage"
         },
         {
          "hour": 2405,
          "production_MW": 1256.5,
          "resource": "natural_gas_fired_combined_cycle"
         },
         {
          "hour": 2405,
          "production_MW": 0,
          "resource": "natural_gas_fired_combustion_turbine"
         },
         {
          "hour": 2406,
          "production_MW": 21.4,
          "resource": "biomass"
         },
         {
          "hour": 2406,
          "production_MW": 42,
          "resource": "hydroelectric_pumped_storage"
         },
         {
          "hour": 2406,
          "production_MW": 1256.5,
          "resource": "natural_gas_fired_combined_cycle"
         },
         {
          "hour": 2406,
          "production_MW": 0,
          "resource": "natural_gas_fired_combustion_turbine"
         },
         {
          "hour": 2407,
          "production_MW": 21.4,
          "resource": "biomass"
         },
         {
          "hour": 2407,
          "production_MW": 42,
          "resource": "hydroelectric_pumped_storage"
         },
         {
          "hour": 2407,
          "production_MW": 1256.5,
          "resource": "natural_gas_fired_combined_cycle"
         },
         {
          "hour": 2407,
          "production_MW": 0,
          "resource": "natural_gas_fired_combustion_turbine"
         },
         {
          "hour": 2408,
          "production_MW": 21.4,
          "resource": "biomass"
         },
         {
          "hour": 2408,
          "production_MW": 42,
          "resource": "hydroelectric_pumped_storage"
         },
         {
          "hour": 2408,
          "production_MW": 1256.5,
          "resource": "natural_gas_fired_combined_cycle"
         },
         {
          "hour": 2408,
          "production_MW": 0,
          "resource": "natural_gas_fired_combustion_turbine"
         },
         {
          "hour": 2409,
          "production_MW": 21.4,
          "resource": "biomass"
         },
         {
          "hour": 2409,
          "production_MW": 42,
          "resource": "hydroelectric_pumped_storage"
         },
         {
          "hour": 2409,
          "production_MW": 1224.74,
          "resource": "natural_gas_fired_combined_cycle"
         },
         {
          "hour": 2409,
          "production_MW": 0,
          "resource": "natural_gas_fired_combustion_turbine"
         },
         {
          "hour": 2410,
          "production_MW": 21.4,
          "resource": "biomass"
         },
         {
          "hour": 2410,
          "production_MW": 42,
          "resource": "hydroelectric_pumped_storage"
         },
         {
          "hour": 2410,
          "production_MW": 1189.6699276999998,
          "resource": "natural_gas_fired_combined_cycle"
         },
         {
          "hour": 2410,
          "production_MW": 0,
          "resource": "natural_gas_fired_combustion_turbine"
         },
         {
          "hour": 2411,
          "production_MW": 21.4,
          "resource": "biomass"
         },
         {
          "hour": 2411,
          "production_MW": 42,
          "resource": "hydroelectric_pumped_storage"
         },
         {
          "hour": 2411,
          "production_MW": 1218.3000000000002,
          "resource": "natural_gas_fired_combined_cycle"
         },
         {
          "hour": 2411,
          "production_MW": 0,
          "resource": "natural_gas_fired_combustion_turbine"
         },
         {
          "hour": 2412,
          "production_MW": 21.4,
          "resource": "biomass"
         },
         {
          "hour": 2412,
          "production_MW": 42,
          "resource": "hydroelectric_pumped_storage"
         },
         {
          "hour": 2412,
          "production_MW": 1083.4057475521736,
          "resource": "natural_gas_fired_combined_cycle"
         },
         {
          "hour": 2412,
          "production_MW": 0,
          "resource": "natural_gas_fired_combustion_turbine"
         },
         {
          "hour": 2413,
          "production_MW": 21.4,
          "resource": "biomass"
         },
         {
          "hour": 2413,
          "production_MW": 42,
          "resource": "hydroelectric_pumped_storage"
         },
         {
          "hour": 2413,
          "production_MW": 1218.3000000000002,
          "resource": "natural_gas_fired_combined_cycle"
         },
         {
          "hour": 2413,
          "production_MW": 0,
          "resource": "natural_gas_fired_combustion_turbine"
         },
         {
          "hour": 2414,
          "production_MW": 21.4,
          "resource": "biomass"
         },
         {
          "hour": 2414,
          "production_MW": 42,
          "resource": "hydroelectric_pumped_storage"
         },
         {
          "hour": 2414,
          "production_MW": 1218.3000000000002,
          "resource": "natural_gas_fired_combined_cycle"
         },
         {
          "hour": 2414,
          "production_MW": 0,
          "resource": "natural_gas_fired_combustion_turbine"
         },
         {
          "hour": 2415,
          "production_MW": 21.4,
          "resource": "biomass"
         },
         {
          "hour": 2415,
          "production_MW": 42,
          "resource": "hydroelectric_pumped_storage"
         },
         {
          "hour": 2415,
          "production_MW": 1205.3943987999999,
          "resource": "natural_gas_fired_combined_cycle"
         },
         {
          "hour": 2415,
          "production_MW": 0,
          "resource": "natural_gas_fired_combustion_turbine"
         },
         {
          "hour": 2416,
          "production_MW": 21.4,
          "resource": "biomass"
         },
         {
          "hour": 2416,
          "production_MW": 42,
          "resource": "hydroelectric_pumped_storage"
         },
         {
          "hour": 2416,
          "production_MW": 1145.7894363,
          "resource": "natural_gas_fired_combined_cycle"
         },
         {
          "hour": 2416,
          "production_MW": 0,
          "resource": "natural_gas_fired_combustion_turbine"
         },
         {
          "hour": 2417,
          "production_MW": 21.4,
          "resource": "biomass"
         },
         {
          "hour": 2417,
          "production_MW": 42,
          "resource": "hydroelectric_pumped_storage"
         },
         {
          "hour": 2417,
          "production_MW": 1130.294909269751,
          "resource": "natural_gas_fired_combined_cycle"
         },
         {
          "hour": 2417,
          "production_MW": 0,
          "resource": "natural_gas_fired_combustion_turbine"
         },
         {
          "hour": 2418,
          "production_MW": 21.4,
          "resource": "biomass"
         },
         {
          "hour": 2418,
          "production_MW": 42,
          "resource": "hydroelectric_pumped_storage"
         },
         {
          "hour": 2418,
          "production_MW": 1224.74,
          "resource": "natural_gas_fired_combined_cycle"
         },
         {
          "hour": 2418,
          "production_MW": 0,
          "resource": "natural_gas_fired_combustion_turbine"
         },
         {
          "hour": 2419,
          "production_MW": 21.4,
          "resource": "biomass"
         },
         {
          "hour": 2419,
          "production_MW": 42,
          "resource": "hydroelectric_pumped_storage"
         },
         {
          "hour": 2419,
          "production_MW": 1256.5,
          "resource": "natural_gas_fired_combined_cycle"
         },
         {
          "hour": 2419,
          "production_MW": 0,
          "resource": "natural_gas_fired_combustion_turbine"
         },
         {
          "hour": 2420,
          "production_MW": 21.4,
          "resource": "biomass"
         },
         {
          "hour": 2420,
          "production_MW": 42,
          "resource": "hydroelectric_pumped_storage"
         },
         {
          "hour": 2420,
          "production_MW": 1256.5,
          "resource": "natural_gas_fired_combined_cycle"
         },
         {
          "hour": 2420,
          "production_MW": 0,
          "resource": "natural_gas_fired_combustion_turbine"
         },
         {
          "hour": 2421,
          "production_MW": 21.4,
          "resource": "biomass"
         },
         {
          "hour": 2421,
          "production_MW": 42,
          "resource": "hydroelectric_pumped_storage"
         },
         {
          "hour": 2421,
          "production_MW": 1256.5,
          "resource": "natural_gas_fired_combined_cycle"
         },
         {
          "hour": 2421,
          "production_MW": 0,
          "resource": "natural_gas_fired_combustion_turbine"
         },
         {
          "hour": 2422,
          "production_MW": 21.4,
          "resource": "biomass"
         },
         {
          "hour": 2422,
          "production_MW": 42,
          "resource": "hydroelectric_pumped_storage"
         },
         {
          "hour": 2422,
          "production_MW": 1256.5,
          "resource": "natural_gas_fired_combined_cycle"
         },
         {
          "hour": 2422,
          "production_MW": 0,
          "resource": "natural_gas_fired_combustion_turbine"
         },
         {
          "hour": 2423,
          "production_MW": 21.4,
          "resource": "biomass"
         },
         {
          "hour": 2423,
          "production_MW": 42,
          "resource": "hydroelectric_pumped_storage"
         },
         {
          "hour": 2423,
          "production_MW": 963.6402000000006,
          "resource": "natural_gas_fired_combined_cycle"
         },
         {
          "hour": 2423,
          "production_MW": 0,
          "resource": "natural_gas_fired_combustion_turbine"
         },
         {
          "hour": 2424,
          "production_MW": 0,
          "resource": "biomass"
         },
         {
          "hour": 2424,
          "production_MW": 42,
          "resource": "hydroelectric_pumped_storage"
         },
         {
          "hour": 2424,
          "production_MW": 0,
          "resource": "natural_gas_fired_combined_cycle"
         },
         {
          "hour": 2424,
          "production_MW": 0,
          "resource": "natural_gas_fired_combustion_turbine"
         },
         {
          "hour": 2401,
          "production_MW": 927.9333912040006,
          "resource": "battery"
         },
         {
          "hour": 2402,
          "production_MW": 335.4489112040008,
          "resource": "battery"
         },
         {
          "hour": 2403,
          "production_MW": 79.80466799999994,
          "resource": "battery"
         },
         {
          "hour": 2404,
          "production_MW": 138.36210799999975,
          "resource": "battery"
         },
         {
          "hour": 2405,
          "production_MW": 329.33778799999976,
          "resource": "battery"
         },
         {
          "hour": 2406,
          "production_MW": 513.738108,
          "resource": "battery"
         },
         {
          "hour": 2407,
          "production_MW": 683.1852279999998,
          "resource": "battery"
         },
         {
          "hour": 2408,
          "production_MW": 450.69162800000004,
          "resource": "battery"
         },
         {
          "hour": 2409,
          "production_MW": 0,
          "resource": "battery"
         },
         {
          "hour": 2410,
          "production_MW": 0,
          "resource": "battery"
         },
         {
          "hour": 2411,
          "production_MW": 0,
          "resource": "battery"
         },
         {
          "hour": 2412,
          "production_MW": 0,
          "resource": "battery"
         },
         {
          "hour": 2413,
          "production_MW": 0,
          "resource": "battery"
         },
         {
          "hour": 2414,
          "production_MW": 0,
          "resource": "battery"
         },
         {
          "hour": 2415,
          "production_MW": 0,
          "resource": "battery"
         },
         {
          "hour": 2416,
          "production_MW": 0,
          "resource": "battery"
         },
         {
          "hour": 2417,
          "production_MW": 0,
          "resource": "battery"
         },
         {
          "hour": 2418,
          "production_MW": 0,
          "resource": "battery"
         },
         {
          "hour": 2419,
          "production_MW": 835.3493879999999,
          "resource": "battery"
         },
         {
          "hour": 2420,
          "production_MW": 1116.4865879999998,
          "resource": "battery"
         },
         {
          "hour": 2421,
          "production_MW": 1110.9982679999998,
          "resource": "battery"
         },
         {
          "hour": 2422,
          "production_MW": 838.8664279999998,
          "resource": "battery"
         },
         {
          "hour": 2423,
          "production_MW": 831.3057479999991,
          "resource": "battery"
         },
         {
          "hour": 2424,
          "production_MW": 1570.3939479999997,
          "resource": "battery"
         }
        ]
       },
       "encoding": {
        "color": {
         "field": "resource",
         "scale": {
          "scheme": "category10"
         },
         "type": "nominal"
        },
        "x": {
         "field": "hour",
         "type": "quantitative"
        },
        "y": {
         "field": "production_MW",
         "stack": "zero",
         "type": "quantitative"
        }
       },
       "mark": "area"
      },
      "image/png": "[encoded data removed]",
      "image/svg+xml": [
       "<svg xmlns=\"http://www.w3.org/2000/svg\" xmlns:xlink=\"http://www.w3.org/1999/xlink\" version=\"1.1\" class=\"marks\" width=\"455\" height=\"247\" viewBox=\"0 0 455 247\"><rect width=\"455\" height=\"247\" fill=\"white\"/><g fill=\"none\" stroke-miterlimit=\"10\" transform=\"translate(56,10)\"><g class=\"mark-group role-frame root\" role=\"graphics-object\" aria-roledescription=\"group mark container\"><g transform=\"translate(0,0)\"><path class=\"background\" aria-hidden=\"true\" d=\"M0.5,0.5h200v200h-200Z\" stroke=\"#ddd\"/><g><g class=\"mark-group role-axis\" aria-hidden=\"true\"><g transform=\"translate(0.5,200.5)\"><path class=\"background\" aria-hidden=\"true\" d=\"M0,0h0v0h0Z\" pointer-events=\"none\"/><g><g class=\"mark-rule role-axis-grid\" pointer-events=\"none\"><line transform=\"translate(0,-200)\" x2=\"0\" y2=\"200\" stroke=\"#ddd\" stroke-width=\"1\" opacity=\"1\"/><line transform=\"translate(42,-200)\" x2=\"0\" y2=\"200\" stroke=\"#ddd\" stroke-width=\"1\" opacity=\"1\"/><line transform=\"translate(83,-200)\" x2=\"0\" y2=\"200\" stroke=\"#ddd\" stroke-width=\"1\" opacity=\"1\"/><line transform=\"translate(125,-200)\" x2=\"0\" y2=\"200\" stroke=\"#ddd\" stroke-width=\"1\" opacity=\"1\"/><line transform=\"translate(167,-200)\" x2=\"0\" y2=\"200\" stroke=\"#ddd\" stroke-width=\"1\" opacity=\"1\"/></g></g><path class=\"foreground\" aria-hidden=\"true\" d=\"\" pointer-events=\"none\" display=\"none\"/></g></g><g class=\"mark-group role-axis\" aria-hidden=\"true\"><g transform=\"translate(0.5,0.5)\"><path class=\"background\" aria-hidden=\"true\" d=\"M0,0h0v0h0Z\" pointer-events=\"none\"/><g><g class=\"mark-rule role-axis-grid\" pointer-events=\"none\"><line transform=\"translate(0,200)\" x2=\"200\" y2=\"0\" stroke=\"#ddd\" stroke-width=\"1\" opacity=\"1\"/><line transform=\"translate(0,150)\" x2=\"200\" y2=\"0\" stroke=\"#ddd\" stroke-width=\"1\" opacity=\"1\"/><line transform=\"translate(0,100)\" x2=\"200\" y2=\"0\" stroke=\"#ddd\" stroke-width=\"1\" opacity=\"1\"/><line transform=\"translate(0,50)\" x2=\"200\" y2=\"0\" stroke=\"#ddd\" stroke-width=\"1\" opacity=\"1\"/><line transform=\"translate(0,0)\" x2=\"200\" y2=\"0\" stroke=\"#ddd\" stroke-width=\"1\" opacity=\"1\"/></g></g><path class=\"foreground\" aria-hidden=\"true\" d=\"\" pointer-events=\"none\" display=\"none\"/></g></g><g class=\"mark-group role-axis\" role=\"graphics-symbol\" aria-roledescription=\"axis\" aria-label=\"X-axis titled 'hour' for a linear scale with values from 2,400 to 2,424\"><g transform=\"translate(0.5,200.5)\"><path class=\"background\" aria-hidden=\"true\" d=\"M0,0h0v0h0Z\" pointer-events=\"none\"/><g><g class=\"mark-rule role-axis-tick\" pointer-events=\"none\"><line transform=\"translate(0,0)\" x2=\"0\" y2=\"5\" stroke=\"#888\" stroke-width=\"1\" opacity=\"1\"/><line transform=\"translate(42,0)\" x2=\"0\" y2=\"5\" stroke=\"#888\" stroke-width=\"1\" opacity=\"1\"/><line transform=\"translate(83,0)\" x2=\"0\" y2=\"5\" stroke=\"#888\" stroke-width=\"1\" opacity=\"1\"/><line transform=\"translate(125,0)\" x2=\"0\" y2=\"5\" stroke=\"#888\" stroke-width=\"1\" opacity=\"1\"/><line transform=\"translate(167,0)\" x2=\"0\" y2=\"5\" stroke=\"#888\" stroke-width=\"1\" opacity=\"1\"/></g><g class=\"mark-text role-axis-label\" pointer-events=\"none\"><text text-anchor=\"start\" transform=\"translate(0,15)\" font-family=\"sans-serif\" font-size=\"10px\" fill=\"#000\" opacity=\"1\">2,400</text><text text-anchor=\"middle\" transform=\"translate(41.66666666666667,15)\" font-family=\"sans-serif\" font-size=\"10px\" fill=\"#000\" opacity=\"0\">2,405</text><text text-anchor=\"middle\" transform=\"translate(83.33333333333334,15)\" font-family=\"sans-serif\" font-size=\"10px\" fill=\"#000\" opacity=\"1\">2,410</text><text text-anchor=\"middle\" transform=\"translate(125,15)\" font-family=\"sans-serif\" font-size=\"10px\" fill=\"#000\" opacity=\"0\">2,415</text><text text-anchor=\"middle\" transform=\"translate(166.66666666666669,15)\" font-family=\"sans-serif\" font-size=\"10px\" fill=\"#000\" opacity=\"1\">2,420</text></g><g class=\"mark-rule role-axis-domain\" pointer-events=\"none\"><line transform=\"translate(0,0)\" x2=\"200\" y2=\"0\" stroke=\"#888\" stroke-width=\"1\" opacity=\"1\"/></g><g class=\"mark-text role-axis-title\" pointer-events=\"none\"><text text-anchor=\"middle\" transform=\"translate(100,30)\" font-family=\"sans-serif\" font-size=\"11px\" font-weight=\"bold\" fill=\"#000\" opacity=\"1\">hour</text></g></g><path class=\"foreground\" aria-hidden=\"true\" d=\"\" pointer-events=\"none\" display=\"none\"/></g></g><g class=\"mark-group role-axis\" role=\"graphics-symbol\" aria-roledescription=\"axis\" aria-label=\"Y-axis titled 'production_MW' for a linear scale with values from 0 to 4,000\"><g transform=\"translate(0.5,0.5)\"><path class=\"background\" aria-hidden=\"true\" d=\"M0,0h0v0h0Z\" pointer-events=\"none\"/><g><g class=\"mark-rule role-axis-tick\" pointer-events=\"none\"><line transform=\"translate(0,200)\" x2=\"-5\" y2=\"0\" stroke=\"#888\" stroke-width=\"1\" opacity=\"1\"/><line transform=\"translate(0,150)\" x2=\"-5\" y2=\"0\" stroke=\"#888\" stroke-width=\"1\" opacity=\"1\"/><line transform=\"translate(0,100)\" x2=\"-5\" y2=\"0\" stroke=\"#888\" stroke-width=\"1\" opacity=\"1\"/><line transform=\"translate(0,50)\" x2=\"-5\" y2=\"0\" stroke=\"#888\" stroke-width=\"1\" opacity=\"1\"/><line transform=\"translate(0,0)\" x2=\"-5\" y2=\"0\" stroke=\"#888\" stroke-width=\"1\" opacity=\"1\"/></g><g class=\"mark-text role-axis-label\" pointer-events=\"none\"><text text-anchor=\"end\" transform=\"translate(-7,203)\" font-family=\"sans-serif\" font-size=\"10px\" fill=\"#000\" opacity=\"1\">0</text><text text-anchor=\"end\" transform=\"translate(-7,153)\" font-family=\"sans-serif\" font-size=\"10px\" fill=\"#000\" opacity=\"1\">1,000</text><text text-anchor=\"end\" transform=\"translate(-7,103)\" font-family=\"sans-serif\" font-size=\"10px\" fill=\"#000\" opacity=\"1\">2,000</text><text text-anchor=\"end\" transform=\"translate(-7,53)\" font-family=\"sans-serif\" font-size=\"10px\" fill=\"#000\" opacity=\"1\">3,000</text><text text-anchor=\"end\" transform=\"translate(-7,3)\" font-family=\"sans-serif\" font-size=\"10px\" fill=\"#000\" opacity=\"1\">4,000</text></g><g class=\"mark-rule role-axis-domain\" pointer-events=\"none\"><line transform=\"translate(0,200)\" x2=\"0\" y2=\"-200\" stroke=\"#888\" stroke-width=\"1\" opacity=\"1\"/></g><g class=\"mark-text role-axis-title\" pointer-events=\"none\"><text text-anchor=\"middle\" transform=\"translate(-39.6279296875,100) rotate(-90) translate(0,-2)\" font-family=\"sans-serif\" font-size=\"11px\" font-weight=\"bold\" fill=\"#000\" opacity=\"1\">production_MW</text></g></g><path class=\"foreground\" aria-hidden=\"true\" d=\"\" pointer-events=\"none\" display=\"none\"/></g></g><g class=\"mark-group role-scope pathgroup\" role=\"graphics-object\" aria-roledescription=\"group mark container\"><g transform=\"translate(0,0)\"><path class=\"background\" aria-hidden=\"true\" d=\"M0,0h200v200h-200Z\"/><g><g class=\"mark-area role-mark marks\" role=\"graphics-object\" aria-roledescription=\"area mark container\"><path aria-label=\"hour: 2401; production_MW: 163.3088; resource: onshore_wind_turbine\" role=\"graphics-symbol\" aria-roledescription=\"area mark\" d=\"M8.333,191.675L16.667,191.351L25,194.085L33.333,194.813L41.667,195.812L50,192.882L58.333,186.454L66.667,158.68L75,107.893L83.333,92.515L91.667,88.599L100,87.803L108.333,84.431L116.667,83.644L125,88.162L133.333,96.908L141.667,115.116L150,139.28L158.333,188.862L166.667,196.769L175,196.245L183.333,195.038L191.667,193.517L200,192.62L200,199.841L191.667,199.841L183.333,199.841L175,199.841L166.667,199.841L158.333,191.493L150,143.211L141.667,117.976L133.333,100.178L125,90.623L116.667,86.878L108.333,87.036L100,92.408L91.667,94.158L83.333,99.093L75,116.261L66.667,161.148L58.333,190.163L50,199.841L41.667,199.841L33.333,199.841L25,199.841L16.667,199.841L8.333,199.841Z\" fill=\"#8c564b\"/></g></g><path class=\"foreground\" aria-hidden=\"true\" d=\"\" display=\"none\"/></g><g transform=\"translate(0,0)\"><path class=\"background\" aria-hidden=\"true\" d=\"M0,0h200v200h-200Z\"/><g><g class=\"mark-area role-mark marks\" role=\"graphics-object\" aria-roledescription=\"area mark container\"><path aria-label=\"hour: 2401; production_MW: 3.184932; resource: small_hydroelectric\" role=\"graphics-symbol\" aria-roledescription=\"area mark\" d=\"M8.333,199.841L16.667,199.841L25,199.841L33.333,199.841L41.667,199.841L50,199.841L58.333,190.163L66.667,161.148L75,116.261L83.333,99.093L91.667,94.158L100,92.408L108.333,87.036L116.667,86.878L125,90.623L133.333,100.178L141.667,117.976L150,143.211L158.333,191.493L166.667,199.841L175,199.841L183.333,199.841L191.667,199.841L200,199.841L200,200L191.667,200L183.333,200L175,200L166.667,200L158.333,191.653L150,143.37L141.667,118.135L133.333,100.338L125,90.783L116.667,87.038L108.333,87.195L100,92.568L91.667,94.317L83.333,99.252L75,116.42L66.667,161.308L58.333,190.323L50,200L41.667,200L33.333,200L25,200L16.667,200L8.333,200Z\" fill=\"#e377c2\"/></g></g><path class=\"foreground\" aria-hidden=\"true\" d=\"\" display=\"none\"/></g><g transform=\"translate(0,0)\"><path class=\"background\" aria-hidden=\"true\" d=\"M0,0h200v200h-200Z\"/><g><g class=\"mark-area role-mark marks\" role=\"graphics-object\" aria-roledescription=\"area mark container\"><path aria-label=\"hour: 2401; production_MW: 0; resource: solar_photovoltaic\" role=\"graphics-symbol\" aria-roledescription=\"area mark\" d=\"M8.333,200L16.667,200L25,200L33.333,200L41.667,200L50,200L58.333,190.323L66.667,161.308L75,116.42L83.333,99.252L91.667,94.317L100,92.568L108.333,87.195L116.667,87.038L125,90.783L133.333,100.338L141.667,118.135L150,143.37L158.333,191.653L166.667,200L175,200L183.333,200L191.667,200L200,200L200,200L191.667,200L183.333,200L175,200L166.667,200L158.333,200L150,200L141.667,200L133.333,200L125,200L116.667,200L108.333,200L100,200L91.667,200L83.333,200L75,200L66.667,200L58.333,200L50,200L41.667,200L33.333,200L25,200L16.667,200L8.333,200Z\" fill=\"#7f7f7f\"/></g></g><path class=\"foreground\" aria-hidden=\"true\" d=\"\" display=\"none\"/></g><g transform=\"translate(0,0)\"><path class=\"background\" aria-hidden=\"true\" d=\"M0,0h200v200h-200Z\"/><g><g class=\"mark-area role-mark marks\" role=\"graphics-object\" aria-roledescription=\"area mark container\"><path aria-label=\"hour: 2401; production_MW: 0; resource: biomass\" role=\"graphics-symbol\" aria-roledescription=\"area mark\" d=\"M8.333,165.647L16.667,139.122L25,128.09L33.333,128.818L41.667,129.817L50,126.887L58.333,120.459L66.667,92.685L75,43.486L83.333,29.862L91.667,24.514L100,30.462L108.333,20.346L116.667,19.559L125,24.722L133.333,36.448L141.667,55.432L150,74.873L158.333,122.867L166.667,130.774L175,130.25L183.333,129.043L191.667,142.165L200,190.52L200,190.52L191.667,143.235L183.333,130.113L175,131.32L166.667,131.844L158.333,123.937L150,75.943L141.667,56.502L133.333,37.518L125,25.792L116.667,20.629L108.333,21.416L100,31.532L91.667,25.584L83.333,30.932L75,44.556L66.667,93.755L58.333,121.529L50,127.957L41.667,130.887L33.333,129.888L25,129.16L16.667,140.192L8.333,165.647Z\" fill=\"#ff7f0e\"/></g></g><path class=\"foreground\" aria-hidden=\"true\" d=\"\" display=\"none\"/></g><g transform=\"translate(0,0)\"><path class=\"background\" aria-hidden=\"true\" d=\"M0,0h200v200h-200Z\"/><g><g class=\"mark-area role-mark marks\" role=\"graphics-object\" aria-roledescription=\"area mark container\"><path aria-label=\"hour: 2401; production_MW: 42; resource: hydroelectric_pumped_storage\" role=\"graphics-symbol\" aria-roledescription=\"area mark\" d=\"M8.333,165.647L16.667,140.192L25,129.16L33.333,129.888L41.667,130.887L50,127.957L58.333,121.529L66.667,93.755L75,44.556L83.333,30.932L91.667,25.584L100,31.532L108.333,21.416L116.667,20.629L125,25.792L133.333,37.518L141.667,56.502L150,75.943L158.333,123.937L166.667,131.844L175,131.32L183.333,130.113L191.667,143.235L200,190.52L200,192.62L191.667,145.335L183.333,132.213L175,133.42L166.667,133.944L158.333,126.037L150,78.043L141.667,58.602L133.333,39.618L125,27.892L116.667,22.729L108.333,23.516L100,33.632L91.667,27.684L83.333,33.032L75,46.656L66.667,95.855L58.333,123.629L50,130.057L41.667,132.987L33.333,131.988L25,131.26L16.667,142.292L8.333,167.747Z\" fill=\"#2ca02c\"/></g></g><path class=\"foreground\" aria-hidden=\"true\" d=\"\" display=\"none\"/></g><g transform=\"translate(0,0)\"><path class=\"background\" aria-hidden=\"true\" d=\"M0,0h200v200h-200Z\"/><g><g class=\"mark-area role-mark marks\" role=\"graphics-object\" aria-roledescription=\"area mark container\"><path aria-label=\"hour: 2401; production_MW: 478.572876796; resource: natural_gas_fired_combined_cycle\" role=\"graphics-symbol\" aria-roledescription=\"area mark\" d=\"M8.333,167.747L16.667,142.292L25,131.26L33.333,131.988L41.667,132.987L50,130.057L58.333,123.629L66.667,95.855L75,46.656L83.333,33.032L91.667,27.684L100,33.632L108.333,23.516L116.667,22.729L125,27.892L133.333,39.618L141.667,58.602L150,78.043L158.333,126.037L166.667,133.944L175,133.42L183.333,132.213L191.667,145.335L200,192.62L200,192.62L191.667,193.517L183.333,195.038L175,196.245L166.667,196.769L158.333,188.862L150,139.28L141.667,115.116L133.333,96.908L125,88.162L116.667,83.644L108.333,84.431L100,87.803L91.667,88.599L83.333,92.515L75,107.893L66.667,158.68L58.333,186.454L50,192.882L41.667,195.812L33.333,194.813L25,194.085L16.667,191.351L8.333,191.675Z\" fill=\"#d62728\"/></g></g><path class=\"foreground\" aria-hidden=\"true\" d=\"\" display=\"none\"/></g><g transform=\"translate(0,0)\"><path class=\"background\" aria-hidden=\"true\" d=\"M0,0h200v200h-200Z\"/><g><g class=\"mark-area role-mark marks\" role=\"graphics-object\" aria-roledescription=\"area mark container\"><path aria-label=\"hour: 2401; production_MW: 0; resource: natural_gas_fired_combustion_turbine\" role=\"graphics-symbol\" aria-roledescription=\"area mark\" d=\"M8.333,191.675L16.667,191.351L25,194.085L33.333,194.813L41.667,195.812L50,192.882L58.333,186.454L66.667,158.68L75,107.893L83.333,92.515L91.667,88.599L100,87.803L108.333,84.431L116.667,83.644L125,88.162L133.333,96.908L141.667,115.116L150,139.28L158.333,188.862L166.667,196.769L175,196.245L183.333,195.038L191.667,193.517L200,192.62L200,192.62L191.667,193.517L183.333,195.038L175,196.245L166.667,196.769L158.333,188.862L150,139.28L141.667,115.116L133.333,96.908L125,88.162L116.667,83.644L108.333,84.431L100,87.803L91.667,88.599L83.333,92.515L75,107.893L66.667,158.68L58.333,186.454L50,192.882L41.667,195.812L33.333,194.813L25,194.085L16.667,191.351L8.333,191.675Z\" fill=\"#9467bd\"/></g></g><path class=\"foreground\" aria-hidden=\"true\" d=\"\" display=\"none\"/></g><g transform=\"translate(0,0)\"><path class=\"background\" aria-hidden=\"true\" d=\"M0,0h200v200h-200Z\"/><g><g class=\"mark-area role-mark marks\" role=\"graphics-object\" aria-roledescription=\"area mark container\"><path aria-label=\"hour: 2401; production_MW: 927.933391204; resource: battery\" role=\"graphics-symbol\" aria-roledescription=\"area mark\" d=\"M8.333,119.25L16.667,122.35L25,124.1L33.333,121.9L41.667,113.35L50,101.2L58.333,86.3L66.667,70.15L75,43.486L83.333,29.862L91.667,24.514L100,30.462L108.333,20.346L116.667,19.559L125,24.722L133.333,36.448L141.667,55.432L150,74.873L158.333,81.1L166.667,74.95L175,74.7L183.333,87.1L191.667,100.6L200,112L200,190.52L191.667,142.165L183.333,129.043L175,130.25L166.667,130.774L158.333,122.867L150,74.873L141.667,55.432L133.333,36.448L125,24.722L116.667,19.559L108.333,20.346L100,30.462L91.667,24.514L83.333,29.862L75,43.486L66.667,92.685L58.333,120.459L50,126.887L41.667,129.817L33.333,128.818L25,128.09L16.667,139.122L8.333,165.647Z\" fill=\"#1f77b4\"/></g></g><path class=\"foreground\" aria-hidden=\"true\" d=\"\" display=\"none\"/></g></g><g class=\"mark-group role-legend\" role=\"graphics-symbol\" aria-roledescription=\"legend\" aria-label=\"Symbol legend titled 'resource' for fill color with 8 values: battery, biomass, hydroelectric_pumped_storage, natural_gas_fired_combined_cycle, natural_gas_fired_combustion_turbine, ending with solar_photovoltaic\"><g transform=\"translate(218,0)\"><path class=\"background\" aria-hidden=\"true\" d=\"M0,0h176v118h-176Z\" pointer-events=\"none\"/><g><g class=\"mark-group role-legend-entry\"><g transform=\"translate(0,16)\"><path class=\"background\" aria-hidden=\"true\" d=\"M0,0h0v0h0Z\" pointer-events=\"none\"/><g><g class=\"mark-group role-scope\" role=\"graphics-object\" aria-roledescription=\"group mark container\"><g transform=\"translate(0,0)\"><path class=\"background\" aria-hidden=\"true\" d=\"M0,0h175.5263671875v11h-175.5263671875Z\" pointer-events=\"none\" opacity=\"1\"/><g><g class=\"mark-symbol role-legend-symbol\" pointer-events=\"none\"><path transform=\"translate(6,6)\" d=\"M5,0A5,5,0,1,1,-5,0A5,5,0,1,1,5,0\" fill=\"#1f77b4\" stroke-width=\"1.5\" opacity=\"1\"/></g><g class=\"mark-text role-legend-label\" pointer-events=\"none\"><text text-anchor=\"start\" transform=\"translate(16,9)\" font-family=\"sans-serif\" font-size=\"10px\" fill=\"#000\" opacity=\"1\">battery</text></g></g><path class=\"foreground\" aria-hidden=\"true\" d=\"\" pointer-events=\"none\" display=\"none\"/></g><g transform=\"translate(0,13)\"><path class=\"background\" aria-hidden=\"true\" d=\"M0,0h175.5263671875v11h-175.5263671875Z\" pointer-events=\"none\" opacity=\"1\"/><g><g class=\"mark-symbol role-legend-symbol\" pointer-events=\"none\"><path transform=\"translate(6,6)\" d=\"M5,0A5,5,0,1,1,-5,0A5,5,0,1,1,5,0\" fill=\"#ff7f0e\" stroke-width=\"1.5\" opacity=\"1\"/></g><g class=\"mark-text role-legend-label\" pointer-events=\"none\"><text text-anchor=\"start\" transform=\"translate(16,9)\" font-family=\"sans-serif\" font-size=\"10px\" fill=\"#000\" opacity=\"1\">biomass</text></g></g><path class=\"foreground\" aria-hidden=\"true\" d=\"\" pointer-events=\"none\" display=\"none\"/></g><g transform=\"translate(0,26)\"><path class=\"background\" aria-hidden=\"true\" d=\"M0,0h175.5263671875v11h-175.5263671875Z\" pointer-events=\"none\" opacity=\"1\"/><g><g class=\"mark-symbol role-legend-symbol\" pointer-events=\"none\"><path transform=\"translate(6,6)\" d=\"M5,0A5,5,0,1,1,-5,0A5,5,0,1,1,5,0\" fill=\"#2ca02c\" stroke-width=\"1.5\" opacity=\"1\"/></g><g class=\"mark-text role-legend-label\" pointer-events=\"none\"><text text-anchor=\"start\" transform=\"translate(16,9)\" font-family=\"sans-serif\" font-size=\"10px\" fill=\"#000\" opacity=\"1\">hydroelectric_pumped_storage</text></g></g><path class=\"foreground\" aria-hidden=\"true\" d=\"\" pointer-events=\"none\" display=\"none\"/></g><g transform=\"translate(0,39)\"><path class=\"background\" aria-hidden=\"true\" d=\"M0,0h175.5263671875v11h-175.5263671875Z\" pointer-events=\"none\" opacity=\"1\"/><g><g class=\"mark-symbol role-legend-symbol\" pointer-events=\"none\"><path transform=\"translate(6,6)\" d=\"M5,0A5,5,0,1,1,-5,0A5,5,0,1,1,5,0\" fill=\"#d62728\" stroke-width=\"1.5\" opacity=\"1\"/></g><g class=\"mark-text role-legend-label\" pointer-events=\"none\"><text text-anchor=\"start\" transform=\"translate(16,9)\" font-family=\"sans-serif\" font-size=\"10px\" fill=\"#000\" opacity=\"1\">natural_gas_fired_combined_…</text></g></g><path class=\"foreground\" aria-hidden=\"true\" d=\"\" pointer-events=\"none\" display=\"none\"/></g><g transform=\"translate(0,52)\"><path class=\"background\" aria-hidden=\"true\" d=\"M0,0h175.5263671875v11h-175.5263671875Z\" pointer-events=\"none\" opacity=\"1\"/><g><g class=\"mark-symbol role-legend-symbol\" pointer-events=\"none\"><path transform=\"translate(6,6)\" d=\"M5,0A5,5,0,1,1,-5,0A5,5,0,1,1,5,0\" fill=\"#9467bd\" stroke-width=\"1.5\" opacity=\"1\"/></g><g class=\"mark-text role-legend-label\" pointer-events=\"none\"><text text-anchor=\"start\" transform=\"translate(16,9)\" font-family=\"sans-serif\" font-size=\"10px\" fill=\"#000\" opacity=\"1\">natural_gas_fired_combustion…</text></g></g><path class=\"foreground\" aria-hidden=\"true\" d=\"\" pointer-events=\"none\" display=\"none\"/></g><g transform=\"translate(0,65)\"><path class=\"background\" aria-hidden=\"true\" d=\"M0,0h175.5263671875v11h-175.5263671875Z\" pointer-events=\"none\" opacity=\"1\"/><g><g class=\"mark-symbol role-legend-symbol\" pointer-events=\"none\"><path transform=\"translate(6,6)\" d=\"M5,0A5,5,0,1,1,-5,0A5,5,0,1,1,5,0\" fill=\"#8c564b\" stroke-width=\"1.5\" opacity=\"1\"/></g><g class=\"mark-text role-legend-label\" pointer-events=\"none\"><text text-anchor=\"start\" transform=\"translate(16,9)\" font-family=\"sans-serif\" font-size=\"10px\" fill=\"#000\" opacity=\"1\">onshore_wind_turbine</text></g></g><path class=\"foreground\" aria-hidden=\"true\" d=\"\" pointer-events=\"none\" display=\"none\"/></g><g transform=\"translate(0,78)\"><path class=\"background\" aria-hidden=\"true\" d=\"M0,0h175.5263671875v11h-175.5263671875Z\" pointer-events=\"none\" opacity=\"1\"/><g><g class=\"mark-symbol role-legend-symbol\" pointer-events=\"none\"><path transform=\"translate(6,6)\" d=\"M5,0A5,5,0,1,1,-5,0A5,5,0,1,1,5,0\" fill=\"#e377c2\" stroke-width=\"1.5\" opacity=\"1\"/></g><g class=\"mark-text role-legend-label\" pointer-events=\"none\"><text text-anchor=\"start\" transform=\"translate(16,9)\" font-family=\"sans-serif\" font-size=\"10px\" fill=\"#000\" opacity=\"1\">small_hydroelectric</text></g></g><path class=\"foreground\" aria-hidden=\"true\" d=\"\" pointer-events=\"none\" display=\"none\"/></g><g transform=\"translate(0,91)\"><path class=\"background\" aria-hidden=\"true\" d=\"M0,0h175.5263671875v11h-175.5263671875Z\" pointer-events=\"none\" opacity=\"1\"/><g><g class=\"mark-symbol role-legend-symbol\" pointer-events=\"none\"><path transform=\"translate(6,6)\" d=\"M5,0A5,5,0,1,1,-5,0A5,5,0,1,1,5,0\" fill=\"#7f7f7f\" stroke-width=\"1.5\" opacity=\"1\"/></g><g class=\"mark-text role-legend-label\" pointer-events=\"none\"><text text-anchor=\"start\" transform=\"translate(16,9)\" font-family=\"sans-serif\" font-size=\"10px\" fill=\"#000\" opacity=\"1\">solar_photovoltaic</text></g></g><path class=\"foreground\" aria-hidden=\"true\" d=\"\" pointer-events=\"none\" display=\"none\"/></g></g></g><path class=\"foreground\" aria-hidden=\"true\" d=\"\" pointer-events=\"none\" display=\"none\"/></g></g><g class=\"mark-text role-legend-title\" pointer-events=\"none\"><text text-anchor=\"start\" transform=\"translate(0,9)\" font-family=\"sans-serif\" font-size=\"11px\" font-weight=\"bold\" fill=\"#000\" opacity=\"1\">resource</text></g></g><path class=\"foreground\" aria-hidden=\"true\" d=\"\" pointer-events=\"none\" display=\"none\"/></g></g></g><path class=\"foreground\" aria-hidden=\"true\" d=\"\" display=\"none\"/></g></g></g></svg>"
      ],
      "text/plain": [
       "@vlplot(\n",
       "    mark=\"area\",\n",
       "    encoding={\n",
       "        x={\n",
       "            field=\"hour\"\n",
       "        },\n",
       "        y={\n",
       "            stack=\"zero\",\n",
       "            field=\"production_MW\"\n",
       "        },\n",
       "        color={\n",
       "            scale={\n",
       "                scheme=\"category10\"\n",
       "            },\n",
       "            field=\"resource\",\n",
       "            type=\"nominal\"\n",
       "        }\n",
       "    },\n",
       "    data={\n",
       "        values=...\n",
       "    }\n",
       ")"
      ]
     },
     "metadata": {},
     "output_type": "display_data"
    }
   ],
   "source": [
    "solution = solve_unit_commitment(\n",
    "    gen_df_sens,\n",
    "    loads_multi,\n",
    "    gen_variable_multi,\n",
    "    0.001,\n",
    "    ramp_constraints = true,\n",
    "    storage = storage_df,\n",
    "    enriched_solution = true);\n",
    "\n",
    "supply = combine(groupby(solution.generation, [:hour, :resource]), :production_MW => sum, renamecols=false)\n",
    "supply_ch = combine(groupby(solution.storage, [:hour, :resource]), :discharge_MW => sum, renamecols=false)\n",
    "rename!(supply_ch, :discharge_MW => :production_MW)\n",
    "append!(supply, supply_ch)\n",
    "supply |>\n",
    "@vlplot(:area, \n",
    "    x=:hour, y={:production_MW, stack=:zero}, \n",
    "    color={\"resource:n\", scale={scheme=\"category10\"}})"
   ]
  },
  {
   "cell_type": "code",
   "execution_count": 11,
   "metadata": {},
   "outputs": [
    {
     "ename": "ErrorException",
     "evalue": "type NamedTuple has no field dis",
     "output_type": "error",
     "traceback": [
      "type NamedTuple has no field dis\n",
      "\n",
      "Stacktrace:\n",
      " [1] getproperty(x::@NamedTuple{generation::DataFrame, storage::DataFrame}, f::Symbol)\n",
      "   @ Base ./Base.jl:37\n",
      " [2] top-level scope\n",
      "   @ /mnt/c/Users/pgallego/OneDrive - Imperial College London/PhD/Repositories/energy_reserve/Testing.ipynb:1"
     ]
    }
   ],
   "source": [
    "to_plot = copy(solution.dis)\n",
    "to_plot.hour = to_plot.hour .- T_period[1]\n",
    "plot(to_plot, x = :hour, y = :value, group = :r_id)"
   ]
  },
  {
   "cell_type": "code",
   "execution_count": 12,
   "metadata": {},
   "outputs": [
    {
     "ename": "ErrorException",
     "evalue": "type NamedTuple has no field ch",
     "output_type": "error",
     "traceback": [
      "type NamedTuple has no field ch\n",
      "\n",
      "Stacktrace:\n",
      " [1] getproperty(x::@NamedTuple{generation::DataFrame, storage::DataFrame}, f::Symbol)\n",
      "   @ Base ./Base.jl:37\n",
      " [2] top-level scope\n",
      "   @ /mnt/c/Users/pgallego/OneDrive - Imperial College London/PhD/Repositories/energy_reserve/Testing.ipynb:1"
     ]
    }
   ],
   "source": [
    "to_plot = copy(solution.ch)\n",
    "to_plot.hour = to_plot.hour .- T_period[1]\n",
    "plot(to_plot, x = :hour, y = :value, group = :r_id)"
   ]
  },
  {
   "cell_type": "code",
   "execution_count": 13,
   "metadata": {},
   "outputs": [],
   "source": []
  }
 ],
 "metadata": {
  "@webio": {
   "lastCommId": null,
   "lastKernelId": null
  },
  "kernelspec": {
   "display_name": "Julia 1.10.1",
   "language": "julia",
   "name": "julia-1.10"
  },
  "language_info": {
   "file_extension": ".jl",
   "mimetype": "application/julia",
   "name": "julia",
   "version": "1.10.1"
  }
 },
 "nbformat": 4,
 "nbformat_minor": 4
}
