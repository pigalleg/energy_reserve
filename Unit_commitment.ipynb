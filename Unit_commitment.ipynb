{
 "cells": [
  {
   "cell_type": "code",
   "execution_count": 1,
   "metadata": {},
   "outputs": [
    {
     "data": {
      "text/plain": [
       "120"
      ]
     },
     "metadata": {},
     "output_type": "display_data"
    }
   ],
   "source": [
    "using VegaLite\n",
    "using PlotlyJS\n",
    "include(\"./utils.jl\")\n",
    "include(\"./unit_commitment.jl\")\n",
    "ENV[\"COLUMNS\"]=120 # Set so all columns of DataFrames and Matrices are displayed"
   ]
  },
  {
   "cell_type": "code",
   "execution_count": 2,
   "metadata": {},
   "outputs": [],
   "source": [
    "\n",
    "gen_info, fuels, loads, gen_variable_info, storage_info = read_data()\n",
    "gen_df = pre_process_generators_data(gen_info, fuels)\n",
    "storage_df = pre_process_storage_data(storage_info)\n",
    "\n",
    "# A spring day\n",
    "n=100\n",
    "T_period = (n*24+1):((n+1)*24)\n",
    "\n",
    "# High solar case: 3,500 MW\n",
    "gen_df_sens = copy(gen_df)\n",
    "gen_df_sens[gen_df_sens.resource .== \"solar_photovoltaic\",\n",
    "    :existing_cap_mw] .= 3500\n",
    "gen_variable = pre_process_gen_variable(gen_df_sens, gen_variable_info)\n",
    "\n",
    "# Filtering data with timeseries according to T_period\n",
    "gen_variable_multi = gen_variable[in.(gen_variable.hour,Ref(T_period)),:];\n",
    "loads_multi = loads[in.(loads.hour,Ref(T_period)),:];\n",
    "\n",
    "required_reserve = DataFrame(\n",
    "    hour = loads[in.(loads.hour, Ref(T_period)), :hour],\n",
    "    reserve_up_MW = 300 .+ loads[in.(loads.hour,Ref(T_period)), :demand].*0.05,\n",
    "    reserve_down_MW = loads[in.(loads.hour, Ref(T_period)), :demand].*0.05)\n",
    "\n",
    "\n",
    "required_energy_reserve = [(row_1.hour, row_2.hour, row_1.reserve_up_MW*(row_1.hour == row_2.hour), row_1.reserve_down_MW*(row_1.hour == row_2.hour)) for row_1 in eachrow(required_reserve), row_2 in eachrow(required_reserve) if row_1.hour <= row_2.hour]\n",
    "required_energy_reserve = DataFrame(required_energy_reserve)\n",
    "required_energy_reserve = rename(required_energy_reserve, :1 => :i_hour, :2 => :t_hour, :3 => :reserve_up_MW, :4 => :reserve_down_MW,)\n",
    ";"
   ]
  },
  {
   "cell_type": "markdown",
   "metadata": {},
   "source": [
    "### Simple Unit Commitment"
   ]
  },
  {
   "cell_type": "code",
   "execution_count": 3,
   "metadata": {},
   "outputs": [
    {
     "name": "stdout",
     "output_type": "stream",
     "text": [
      "Set parameter WLSAccessID\n",
      "Set parameter WLSSecret\n",
      "Set parameter LicenseID to value 2475843\n",
      "Academic license 2475843 - for non-commercial use only - registered to pa___@imperial.ac.uk\n",
      "Set parameter MIPGap to value 0.01\n",
      "Set parameter MIPGap to value 0.01\n",
      "Gurobi Optimizer version 11.0.0 build v11.0.0rc2 (linux64 - \"Ubuntu 22.04.3 LTS\")\n",
      "\n",
      "CPU model: 11th Gen Intel(R) Core(TM) i7-11370H @ 3.30GHz, instruction set [SSE2|AVX|AVX2|AVX512]\n",
      "Thread count: 4 physical cores, 8 logical processors, using up to 8 threads\n",
      "\n",
      "Academic license 2475843 - for non-commercial use only - registered to pa___@imperial.ac.uk\n",
      "Optimize a model with 2762 rows, 2232 columns and 9228 nonzeros\n",
      "Model fingerprint: 0x92c3bc8b\n",
      "Variable types: 648 continuous, 1584 integer (1584 binary)\n",
      "Coefficient statistics:\n",
      "  Matrix range     [1e+00, 6e+02]\n",
      "  Objective range  [5e+00, 5e+04]\n",
      "  Bounds range     [0e+00, 0e+00]\n",
      "  RHS range        [1e+00, 3e+03]\n",
      "Presolve removed 164 rows and 116 columns\n",
      "Presolve time: 0.02s\n",
      "Presolved: 2598 rows, 2116 columns, 9142 nonzeros\n",
      "Variable types: 576 continuous, 1540 integer (1540 binary)\n",
      "Found heuristic solution: objective 1074849.7304\n",
      "Found heuristic solution: objective 1009769.4508\n",
      "\n",
      "Root relaxation: objective 8.538323e+05, 1058 iterations, 0.01 seconds (0.02 work units)\n",
      "\n",
      "    Nodes    |    Current Node    |     Objective Bounds      |     Work\n",
      " Expl Unexpl |  Obj  Depth IntInf | Incumbent    BestBd   Gap | It/Node Time\n",
      "\n",
      "     0     0 853832.318    0   29 1009769.45 853832.318  15.4%     -    0s\n",
      "H    0     0                    862839.77043 853832.318  1.04%     -    0s\n",
      "H    0     0                    862393.05957 853832.318  0.99%     -    0s\n",
      "H    0     0                    862261.31997 853834.702  0.98%     -    0s\n",
      "\n",
      "Cutting planes:\n",
      "  Gomory: 5\n",
      "  Cover: 3\n",
      "  MIR: 7\n",
      "  Flow cover: 9\n",
      "  Relax-and-lift: 2\n",
      "\n",
      "Explored 1 nodes (1136 simplex iterations) in 0.08 seconds (0.06 work units)\n",
      "Thread count was 8 (of 8 available processors)\n",
      "\n",
      "Solution count 5: 862261 862393 862840 ... 1.07485e+06\n",
      "\n",
      "Optimal solution found (tolerance 1.00e-02)\n",
      "Best objective 8.622613199740e+05, best bound 8.538347019964e+05, gap 0.9773%\n",
      "\n",
      "User-callback calls 352, time in user-callback 0.01 sec\n"
     ]
    },
    {
     "data": {
      "application/vnd.vegalite.v5+json": {
       "data": {
        "values": [
         {
          "hour": 0,
          "resource": "biomass",
          "value_sum": 21.4
         },
         {
          "hour": 0,
          "resource": "hydroelectric_pumped_storage",
          "value_sum": 42
         },
         {
          "hour": 0,
          "resource": "natural_gas_fired_combined_cycle",
          "value_sum": 1385.106268
         },
         {
          "hour": 0,
          "resource": "natural_gas_fired_combustion_turbine",
          "value_sum": 0
         },
         {
          "hour": 0,
          "resource": "_onshore_wind_turbine",
          "value_sum": 163.3088
         },
         {
          "hour": 0,
          "resource": "_small_hydroelectric",
          "value_sum": 3.184932
         },
         {
          "hour": 0,
          "resource": "_solar_photovoltaic",
          "value_sum": 0
         },
         {
          "hour": 1,
          "resource": "biomass",
          "value_sum": 21.4
         },
         {
          "hour": 1,
          "resource": "hydroelectric_pumped_storage",
          "value_sum": 42
         },
         {
          "hour": 1,
          "resource": "natural_gas_fired_combined_cycle",
          "value_sum": 1316.621788
         },
         {
          "hour": 1,
          "resource": "natural_gas_fired_combustion_turbine",
          "value_sum": 0
         },
         {
          "hour": 1,
          "resource": "_onshore_wind_turbine",
          "value_sum": 169.79327999999998
         },
         {
          "hour": 1,
          "resource": "_small_hydroelectric",
          "value_sum": 3.184932
         },
         {
          "hour": 1,
          "resource": "_solar_photovoltaic",
          "value_sum": 0
         },
         {
          "hour": 2,
          "resource": "biomass",
          "value_sum": 21.4
         },
         {
          "hour": 2,
          "resource": "hydroelectric_pumped_storage",
          "value_sum": 42
         },
         {
          "hour": 2,
          "resource": "natural_gas_fired_combined_cycle",
          "value_sum": 1336.3046679999998
         },
         {
          "hour": 2,
          "resource": "natural_gas_fired_combustion_turbine",
          "value_sum": 0
         },
         {
          "hour": 2,
          "resource": "_onshore_wind_turbine",
          "value_sum": 115.1104
         },
         {
          "hour": 2,
          "resource": "_small_hydroelectric",
          "value_sum": 3.184932
         },
         {
          "hour": 2,
          "resource": "_solar_photovoltaic",
          "value_sum": 0
         },
         {
          "hour": 3,
          "resource": "biomass",
          "value_sum": 21.4
         },
         {
          "hour": 3,
          "resource": "hydroelectric_pumped_storage",
          "value_sum": 42
         },
         {
          "hour": 3,
          "resource": "natural_gas_fired_combined_cycle",
          "value_sum": 1394.8621079999998
         },
         {
          "hour": 3,
          "resource": "natural_gas_fired_combustion_turbine",
          "value_sum": 0
         },
         {
          "hour": 3,
          "resource": "_onshore_wind_turbine",
          "value_sum": 100.55296
         },
         {
          "hour": 3,
          "resource": "_small_hydroelectric",
          "value_sum": 3.184931999999989
         },
         {
          "hour": 3,
          "resource": "_solar_photovoltaic",
          "value_sum": 0
         },
         {
          "hour": 4,
          "resource": "biomass",
          "value_sum": 21.4
         },
         {
          "hour": 4,
          "resource": "hydroelectric_pumped_storage",
          "value_sum": 42
         },
         {
          "hour": 4,
          "resource": "natural_gas_fired_combined_cycle",
          "value_sum": 1585.837788
         },
         {
          "hour": 4,
          "resource": "natural_gas_fired_combustion_turbine",
          "value_sum": 0
         },
         {
          "hour": 4,
          "resource": "_onshore_wind_turbine",
          "value_sum": 80.57728
         },
         {
          "hour": 4,
          "resource": "_small_hydroelectric",
          "value_sum": 3.184932
         },
         {
          "hour": 4,
          "resource": "_solar_photovoltaic",
          "value_sum": 0
         },
         {
          "hour": 5,
          "resource": "biomass",
          "value_sum": 21.4
         },
         {
          "hour": 5,
          "resource": "hydroelectric_pumped_storage",
          "value_sum": 42
         },
         {
          "hour": 5,
          "resource": "natural_gas_fired_combined_cycle",
          "value_sum": 1749.218408
         },
         {
          "hour": 5,
          "resource": "natural_gas_fired_combustion_turbine",
          "value_sum": 21.0197
         },
         {
          "hour": 5,
          "resource": "_onshore_wind_turbine",
          "value_sum": 139.17695999999998
         },
         {
          "hour": 5,
          "resource": "_small_hydroelectric",
          "value_sum": 3.184932
         },
         {
          "hour": 5,
          "resource": "_solar_photovoltaic",
          "value_sum": 0
         },
         {
          "hour": 6,
          "resource": "biomass",
          "value_sum": 21.4
         },
         {
          "hour": 6,
          "resource": "hydroelectric_pumped_storage",
          "value_sum": 42
         },
         {
          "hour": 6,
          "resource": "natural_gas_fired_combined_cycle",
          "value_sum": 1918.6655279999998
         },
         {
          "hour": 6,
          "resource": "natural_gas_fired_combustion_turbine",
          "value_sum": 21.01969999999998
         },
         {
          "hour": 6,
          "resource": "_onshore_wind_turbine",
          "value_sum": 74.17984
         },
         {
          "hour": 6,
          "resource": "_small_hydroelectric",
          "value_sum": 3.184932
         },
         {
          "hour": 6,
          "resource": "_solar_photovoltaic",
          "value_sum": 193.55
         },
         {
          "hour": 7,
          "resource": "biomass",
          "value_sum": 21.4
         },
         {
          "hour": 7,
          "resource": "hydroelectric_pumped_storage",
          "value_sum": 42
         },
         {
          "hour": 7,
          "resource": "natural_gas_fired_combined_cycle",
          "value_sum": 1707.1916279999998
         },
         {
          "hour": 7,
          "resource": "natural_gas_fired_combustion_turbine",
          "value_sum": 0
         },
         {
          "hour": 7,
          "resource": "_onshore_wind_turbine",
          "value_sum": 49.373439999999995
         },
         {
          "hour": 7,
          "resource": "_small_hydroelectric",
          "value_sum": 3.184932
         },
         {
          "hour": 7,
          "resource": "_solar_photovoltaic",
          "value_sum": 773.85
         },
         {
          "hour": 8,
          "resource": "biomass",
          "value_sum": 21.4
         },
         {
          "hour": 8,
          "resource": "hydroelectric_pumped_storage",
          "value_sum": 42
         },
         {
          "hour": 8,
          "resource": "natural_gas_fired_combined_cycle",
          "value_sum": 932.4589080000001
         },
         {
          "hour": 8,
          "resource": "natural_gas_fired_combustion_turbine",
          "value_sum": 0
         },
         {
          "hour": 8,
          "resource": "_onshore_wind_turbine",
          "value_sum": 167.35616
         },
         {
          "hour": 8,
          "resource": "_small_hydroelectric",
          "value_sum": 3.184932
         },
         {
          "hour": 8,
          "resource": "_solar_photovoltaic",
          "value_sum": 1671.6
         },
         {
          "hour": 9,
          "resource": "biomass",
          "value_sum": 21.399999999999544
         },
         {
          "hour": 9,
          "resource": "hydroelectric_pumped_storage",
          "value_sum": 42
         },
         {
          "hour": 9,
          "resource": "natural_gas_fired_combined_cycle",
          "value_sum": 809.9041080000004
         },
         {
          "hour": 9,
          "resource": "natural_gas_fired_combustion_turbine",
          "value_sum": 0
         },
         {
          "hour": 9,
          "resource": "_onshore_wind_turbine",
          "value_sum": 131.56096
         },
         {
          "hour": 9,
          "resource": "_small_hydroelectric",
          "value_sum": 3.1849319999998897
         },
         {
          "hour": 9,
          "resource": "_solar_photovoltaic",
          "value_sum": 2014.95
         },
         {
          "hour": 10,
          "resource": "biomass",
          "value_sum": 21.4
         },
         {
          "hour": 10,
          "resource": "hydroelectric_pumped_storage",
          "value_sum": 42
         },
         {
          "hour": 10,
          "resource": "natural_gas_fired_combined_cycle",
          "value_sum": 833.5714679999999
         },
         {
          "hour": 10,
          "resource": "natural_gas_fired_combustion_turbine",
          "value_sum": 0
         },
         {
          "hour": 10,
          "resource": "_onshore_wind_turbine",
          "value_sum": 111.1936
         },
         {
          "hour": 10,
          "resource": "_small_hydroelectric",
          "value_sum": 3.184932
         },
         {
          "hour": 10,
          "resource": "_solar_photovoltaic",
          "value_sum": 2113.65
         },
         {
          "hour": 11,
          "resource": "biomass",
          "value_sum": 21.4
         },
         {
          "hour": 11,
          "resource": "hydroelectric_pumped_storage",
          "value_sum": 42
         },
         {
          "hour": 11,
          "resource": "natural_gas_fired_combined_cycle",
          "value_sum": 655.6549879999998
         },
         {
          "hour": 11,
          "resource": "natural_gas_fired_combustion_turbine",
          "value_sum": 0
         },
         {
          "hour": 11,
          "resource": "_onshore_wind_turbine",
          "value_sum": 92.11008
         },
         {
          "hour": 11,
          "resource": "_small_hydroelectric",
          "value_sum": 3.184932
         },
         {
          "hour": 11,
          "resource": "_solar_photovoltaic",
          "value_sum": 2148.65
         },
         {
          "hour": 12,
          "resource": "biomass",
          "value_sum": 0
         },
         {
          "hour": 12,
          "resource": "hydroelectric_pumped_storage",
          "value_sum": 0
         },
         {
          "hour": 12,
          "resource": "natural_gas_fired_combined_cycle",
          "value_sum": 461.04019999999997
         },
         {
          "hour": 12,
          "resource": "natural_gas_fired_combustion_turbine",
          "value_sum": 0
         },
         {
          "hour": 12,
          "resource": "_onshore_wind_turbine",
          "value_sum": 25.859800000000178
         },
         {
          "hour": 12,
          "resource": "_small_hydroelectric",
          "value_sum": 0
         },
         {
          "hour": 12,
          "resource": "_solar_photovoltaic",
          "value_sum": 2256.1
         },
         {
          "hour": 13,
          "resource": "biomass",
          "value_sum": 0
         },
         {
          "hour": 13,
          "resource": "hydroelectric_pumped_storage",
          "value_sum": 0
         },
         {
          "hour": 13,
          "resource": "natural_gas_fired_combined_cycle",
          "value_sum": 461.04019999999997
         },
         {
          "hour": 13,
          "resource": "natural_gas_fired_combustion_turbine",
          "value_sum": 0
         },
         {
          "hour": 13,
          "resource": "_onshore_wind_turbine",
          "value_sum": 0
         },
         {
          "hour": 13,
          "resource": "_small_hydroelectric",
          "value_sum": 0
         },
         {
          "hour": 13,
          "resource": "_solar_photovoltaic",
          "value_sum": 2204.9598
         },
         {
          "hour": 14,
          "resource": "biomass",
          "value_sum": 0
         },
         {
          "hour": 14,
          "resource": "hydroelectric_pumped_storage",
          "value_sum": 0
         },
         {
          "hour": 14,
          "resource": "natural_gas_fired_combined_cycle",
          "value_sum": 461.04019999999997
         },
         {
          "hour": 14,
          "resource": "natural_gas_fired_combustion_turbine",
          "value_sum": 0
         },
         {
          "hour": 14,
          "resource": "_onshore_wind_turbine",
          "value_sum": 0
         },
         {
          "hour": 14,
          "resource": "_small_hydroelectric",
          "value_sum": 0
         },
         {
          "hour": 14,
          "resource": "_solar_photovoltaic",
          "value_sum": 2116.9598
         },
         {
          "hour": 15,
          "resource": "biomass",
          "value_sum": 0
         },
         {
          "hour": 15,
          "resource": "hydroelectric_pumped_storage",
          "value_sum": 0
         },
         {
          "hour": 15,
          "resource": "natural_gas_fired_combined_cycle",
          "value_sum": 461.04019999999997
         },
         {
          "hour": 15,
          "resource": "natural_gas_fired_combustion_turbine",
          "value_sum": 0
         },
         {
          "hour": 15,
          "resource": "_onshore_wind_turbine",
          "value_sum": 27.70980000000236
         },
         {
          "hour": 15,
          "resource": "_small_hydroelectric",
          "value_sum": 0
         },
         {
          "hour": 15,
          "resource": "_solar_photovoltaic",
          "value_sum": 1993.25
         },
         {
          "hour": 16,
          "resource": "biomass",
          "value_sum": 21.4
         },
         {
          "hour": 16,
          "resource": "hydroelectric_pumped_storage",
          "value_sum": 42
         },
         {
          "hour": 16,
          "resource": "natural_gas_fired_combined_cycle",
          "value_sum": 660.9297880000001
         },
         {
          "hour": 16,
          "resource": "natural_gas_fired_combustion_turbine",
          "value_sum": 0
         },
         {
          "hour": 16,
          "resource": "_onshore_wind_turbine",
          "value_sum": 57.18527999999999
         },
         {
          "hour": 16,
          "resource": "_small_hydroelectric",
          "value_sum": 3.184932
         },
         {
          "hour": 16,
          "resource": "_solar_photovoltaic",
          "value_sum": 1637.3
         },
         {
          "hour": 17,
          "resource": "biomass",
          "value_sum": 21.4
         },
         {
          "hour": 17,
          "resource": "hydroelectric_pumped_storage",
          "value_sum": 42
         },
         {
          "hour": 17,
          "resource": "natural_gas_fired_combined_cycle",
          "value_sum": 1096.1961880000001
         },
         {
          "hour": 17,
          "resource": "natural_gas_fired_combustion_turbine",
          "value_sum": 0
         },
         {
          "hour": 17,
          "resource": "_onshore_wind_turbine",
          "value_sum": 78.61888
         },
         {
          "hour": 17,
          "resource": "_small_hydroelectric",
          "value_sum": 3.184932
         },
         {
          "hour": 17,
          "resource": "_solar_photovoltaic",
          "value_sum": 1132.6
         },
         {
          "hour": 18,
          "resource": "biomass",
          "value_sum": 21.4
         },
         {
          "hour": 18,
          "resource": "hydroelectric_pumped_storage",
          "value_sum": 42
         },
         {
          "hour": 18,
          "resource": "natural_gas_fired_combined_cycle",
          "value_sum": 1592.5
         },
         {
          "hour": 18,
          "resource": "natural_gas_fired_combustion_turbine",
          "value_sum": 499.34938800000015
         },
         {
          "hour": 18,
          "resource": "_onshore_wind_turbine",
          "value_sum": 52.61568
         },
         {
          "hour": 18,
          "resource": "_small_hydroelectric",
          "value_sum": 3.184932
         },
         {
          "hour": 18,
          "resource": "_solar_photovoltaic",
          "value_sum": 166.95
         },
         {
          "hour": 19,
          "resource": "biomass",
          "value_sum": 21.4
         },
         {
          "hour": 19,
          "resource": "hydroelectric_pumped_storage",
          "value_sum": 42
         },
         {
          "hour": 19,
          "resource": "natural_gas_fired_combined_cycle",
          "value_sum": 1592.5
         },
         {
          "hour": 19,
          "resource": "natural_gas_fired_combustion_turbine",
          "value_sum": 780.4865880000001
         },
         {
          "hour": 19,
          "resource": "_onshore_wind_turbine",
          "value_sum": 61.42848
         },
         {
          "hour": 19,
          "resource": "_small_hydroelectric",
          "value_sum": 3.1849320000000105
         },
         {
          "hour": 19,
          "resource": "_solar_photovoltaic",
          "value_sum": 0
         },
         {
          "hour": 20,
          "resource": "biomass",
          "value_sum": 21.4
         },
         {
          "hour": 20,
          "resource": "hydroelectric_pumped_storage",
          "value_sum": 42
         },
         {
          "hour": 20,
          "resource": "natural_gas_fired_combined_cycle",
          "value_sum": 1592.5
         },
         {
          "hour": 20,
          "resource": "natural_gas_fired_combustion_turbine",
          "value_sum": 774.9982680000003
         },
         {
          "hour": 20,
          "resource": "_onshore_wind_turbine",
          "value_sum": 71.9168
         },
         {
          "hour": 20,
          "resource": "_small_hydroelectric",
          "value_sum": 3.184932
         },
         {
          "hour": 20,
          "resource": "_solar_photovoltaic",
          "value_sum": 0
         },
         {
          "hour": 21,
          "resource": "biomass",
          "value_sum": 21.4
         },
         {
          "hour": 21,
          "resource": "hydroelectric_pumped_storage",
          "value_sum": 42
         },
         {
          "hour": 21,
          "resource": "natural_gas_fired_combined_cycle",
          "value_sum": 1592.5
         },
         {
          "hour": 21,
          "resource": "natural_gas_fired_combustion_turbine",
          "value_sum": 502.8664279999999
         },
         {
          "hour": 21,
          "resource": "_onshore_wind_turbine",
          "value_sum": 96.04864
         },
         {
          "hour": 21,
          "resource": "_small_hydroelectric",
          "value_sum": 3.184932
         },
         {
          "hour": 21,
          "resource": "_solar_photovoltaic",
          "value_sum": 0
         },
         {
          "hour": 22,
          "resource": "biomass",
          "value_sum": 21.4
         },
         {
          "hour": 22,
          "resource": "hydroelectric_pumped_storage",
          "value_sum": 42
         },
         {
          "hour": 22,
          "resource": "natural_gas_fired_combined_cycle",
          "value_sum": 1592.5
         },
         {
          "hour": 22,
          "resource": "natural_gas_fired_combustion_turbine",
          "value_sum": 202.4459479999999
         },
         {
          "hour": 22,
          "resource": "_onshore_wind_turbine",
          "value_sum": 126.46912
         },
         {
          "hour": 22,
          "resource": "_small_hydroelectric",
          "value_sum": 3.184932
         },
         {
          "hour": 22,
          "resource": "_solar_photovoltaic",
          "value_sum": 0
         },
         {
          "hour": 23,
          "resource": "biomass",
          "value_sum": 21.4
         },
         {
          "hour": 23,
          "resource": "hydroelectric_pumped_storage",
          "value_sum": 42
         },
         {
          "hour": 23,
          "resource": "natural_gas_fired_combined_cycle",
          "value_sum": 1524.692648
         },
         {
          "hour": 23,
          "resource": "natural_gas_fired_combustion_turbine",
          "value_sum": 24.301299999999998
         },
         {
          "hour": 23,
          "resource": "_onshore_wind_turbine",
          "value_sum": 144.42111999999997
         },
         {
          "hour": 23,
          "resource": "_small_hydroelectric",
          "value_sum": 3.184932
         },
         {
          "hour": 23,
          "resource": "_solar_photovoltaic",
          "value_sum": 0
         },
         {
          "hour": 0,
          "resource": "_solar_photovoltaic_btm",
          "value_sum": 0
         },
         {
          "hour": 1,
          "resource": "_solar_photovoltaic_btm",
          "value_sum": 0
         },
         {
          "hour": 2,
          "resource": "_solar_photovoltaic_btm",
          "value_sum": 0
         },
         {
          "hour": 3,
          "resource": "_solar_photovoltaic_btm",
          "value_sum": 0
         },
         {
          "hour": 4,
          "resource": "_solar_photovoltaic_btm",
          "value_sum": 0
         },
         {
          "hour": 5,
          "resource": "_solar_photovoltaic_btm",
          "value_sum": 0
         },
         {
          "hour": 6,
          "resource": "_solar_photovoltaic_btm",
          "value_sum": 33.18
         },
         {
          "hour": 7,
          "resource": "_solar_photovoltaic_btm",
          "value_sum": 132.66
         },
         {
          "hour": 8,
          "resource": "_solar_photovoltaic_btm",
          "value_sum": 286.56
         },
         {
          "hour": 9,
          "resource": "_solar_photovoltaic_btm",
          "value_sum": 345.42
         },
         {
          "hour": 10,
          "resource": "_solar_photovoltaic_btm",
          "value_sum": 362.34
         },
         {
          "hour": 11,
          "resource": "_solar_photovoltaic_btm",
          "value_sum": 368.34
         },
         {
          "hour": 12,
          "resource": "_solar_photovoltaic_btm",
          "value_sum": 386.76
         },
         {
          "hour": 13,
          "resource": "_solar_photovoltaic_btm",
          "value_sum": 387.29999999999995
         },
         {
          "hour": 14,
          "resource": "_solar_photovoltaic_btm",
          "value_sum": 374.46
         },
         {
          "hour": 15,
          "resource": "_solar_photovoltaic_btm",
          "value_sum": 341.7
         },
         {
          "hour": 16,
          "resource": "_solar_photovoltaic_btm",
          "value_sum": 280.68
         },
         {
          "hour": 17,
          "resource": "_solar_photovoltaic_btm",
          "value_sum": 194.16
         },
         {
          "hour": 18,
          "resource": "_solar_photovoltaic_btm",
          "value_sum": 28.62
         },
         {
          "hour": 19,
          "resource": "_solar_photovoltaic_btm",
          "value_sum": 0
         },
         {
          "hour": 20,
          "resource": "_solar_photovoltaic_btm",
          "value_sum": 0
         },
         {
          "hour": 21,
          "resource": "_solar_photovoltaic_btm",
          "value_sum": 0
         },
         {
          "hour": 22,
          "resource": "_solar_photovoltaic_btm",
          "value_sum": 0
         },
         {
          "hour": 23,
          "resource": "_solar_photovoltaic_btm",
          "value_sum": 0
         }
        ]
       },
       "encoding": {
        "color": {
         "field": "resource",
         "scale": {
          "scheme": "category10"
         },
         "type": "nominal"
        },
        "x": {
         "field": "hour",
         "type": "quantitative"
        },
        "y": {
         "field": "value_sum",
         "stack": "zero",
         "type": "quantitative"
        }
       },
       "mark": "area"
      },
      "image/png": "[encoded data removed]",
      "image/svg+xml": [
       "<svg xmlns=\"http://www.w3.org/2000/svg\" xmlns:xlink=\"http://www.w3.org/1999/xlink\" version=\"1.1\" class=\"marks\" width=\"455\" height=\"247\" viewBox=\"0 0 455 247\"><rect width=\"455\" height=\"247\" fill=\"white\"/><g fill=\"none\" stroke-miterlimit=\"10\" transform=\"translate(56,10)\"><g class=\"mark-group role-frame root\" role=\"graphics-object\" aria-roledescription=\"group mark container\"><g transform=\"translate(0,0)\"><path class=\"background\" aria-hidden=\"true\" d=\"M0.5,0.5h200v200h-200Z\" stroke=\"#ddd\"/><g><g class=\"mark-group role-axis\" aria-hidden=\"true\"><g transform=\"translate(0.5,200.5)\"><path class=\"background\" aria-hidden=\"true\" d=\"M0,0h0v0h0Z\" pointer-events=\"none\"/><g><g class=\"mark-rule role-axis-grid\" pointer-events=\"none\"><line transform=\"translate(0,-200)\" x2=\"0\" y2=\"200\" stroke=\"#ddd\" stroke-width=\"1\" opacity=\"1\"/><line transform=\"translate(42,-200)\" x2=\"0\" y2=\"200\" stroke=\"#ddd\" stroke-width=\"1\" opacity=\"1\"/><line transform=\"translate(83,-200)\" x2=\"0\" y2=\"200\" stroke=\"#ddd\" stroke-width=\"1\" opacity=\"1\"/><line transform=\"translate(125,-200)\" x2=\"0\" y2=\"200\" stroke=\"#ddd\" stroke-width=\"1\" opacity=\"1\"/><line transform=\"translate(167,-200)\" x2=\"0\" y2=\"200\" stroke=\"#ddd\" stroke-width=\"1\" opacity=\"1\"/></g></g><path class=\"foreground\" aria-hidden=\"true\" d=\"\" pointer-events=\"none\" display=\"none\"/></g></g><g class=\"mark-group role-axis\" aria-hidden=\"true\"><g transform=\"translate(0.5,0.5)\"><path class=\"background\" aria-hidden=\"true\" d=\"M0,0h0v0h0Z\" pointer-events=\"none\"/><g><g class=\"mark-rule role-axis-grid\" pointer-events=\"none\"><line transform=\"translate(0,200)\" x2=\"200\" y2=\"0\" stroke=\"#ddd\" stroke-width=\"1\" opacity=\"1\"/><line transform=\"translate(0,171)\" x2=\"200\" y2=\"0\" stroke=\"#ddd\" stroke-width=\"1\" opacity=\"1\"/><line transform=\"translate(0,143)\" x2=\"200\" y2=\"0\" stroke=\"#ddd\" stroke-width=\"1\" opacity=\"1\"/><line transform=\"translate(0,114)\" x2=\"200\" y2=\"0\" stroke=\"#ddd\" stroke-width=\"1\" opacity=\"1\"/><line transform=\"translate(0,86)\" x2=\"200\" y2=\"0\" stroke=\"#ddd\" stroke-width=\"1\" opacity=\"1\"/><line transform=\"translate(0,57)\" x2=\"200\" y2=\"0\" stroke=\"#ddd\" stroke-width=\"1\" opacity=\"1\"/><line transform=\"translate(0,29)\" x2=\"200\" y2=\"0\" stroke=\"#ddd\" stroke-width=\"1\" opacity=\"1\"/><line transform=\"translate(0,0)\" x2=\"200\" y2=\"0\" stroke=\"#ddd\" stroke-width=\"1\" opacity=\"1\"/></g></g><path class=\"foreground\" aria-hidden=\"true\" d=\"\" pointer-events=\"none\" display=\"none\"/></g></g><g class=\"mark-group role-axis\" role=\"graphics-symbol\" aria-roledescription=\"axis\" aria-label=\"X-axis titled 'hour' for a linear scale with values from 0 to 24\"><g transform=\"translate(0.5,200.5)\"><path class=\"background\" aria-hidden=\"true\" d=\"M0,0h0v0h0Z\" pointer-events=\"none\"/><g><g class=\"mark-rule role-axis-tick\" pointer-events=\"none\"><line transform=\"translate(0,0)\" x2=\"0\" y2=\"5\" stroke=\"#888\" stroke-width=\"1\" opacity=\"1\"/><line transform=\"translate(42,0)\" x2=\"0\" y2=\"5\" stroke=\"#888\" stroke-width=\"1\" opacity=\"1\"/><line transform=\"translate(83,0)\" x2=\"0\" y2=\"5\" stroke=\"#888\" stroke-width=\"1\" opacity=\"1\"/><line transform=\"translate(125,0)\" x2=\"0\" y2=\"5\" stroke=\"#888\" stroke-width=\"1\" opacity=\"1\"/><line transform=\"translate(167,0)\" x2=\"0\" y2=\"5\" stroke=\"#888\" stroke-width=\"1\" opacity=\"1\"/></g><g class=\"mark-text role-axis-label\" pointer-events=\"none\"><text text-anchor=\"start\" transform=\"translate(0,15)\" font-family=\"sans-serif\" font-size=\"10px\" fill=\"#000\" opacity=\"1\">0</text><text text-anchor=\"middle\" transform=\"translate(41.66666666666667,15)\" font-family=\"sans-serif\" font-size=\"10px\" fill=\"#000\" opacity=\"1\">5</text><text text-anchor=\"middle\" transform=\"translate(83.33333333333334,15)\" font-family=\"sans-serif\" font-size=\"10px\" fill=\"#000\" opacity=\"1\">10</text><text text-anchor=\"middle\" transform=\"translate(125,15)\" font-family=\"sans-serif\" font-size=\"10px\" fill=\"#000\" opacity=\"1\">15</text><text text-anchor=\"middle\" transform=\"translate(166.66666666666669,15)\" font-family=\"sans-serif\" font-size=\"10px\" fill=\"#000\" opacity=\"1\">20</text></g><g class=\"mark-rule role-axis-domain\" pointer-events=\"none\"><line transform=\"translate(0,0)\" x2=\"200\" y2=\"0\" stroke=\"#888\" stroke-width=\"1\" opacity=\"1\"/></g><g class=\"mark-text role-axis-title\" pointer-events=\"none\"><text text-anchor=\"middle\" transform=\"translate(100,30)\" font-family=\"sans-serif\" font-size=\"11px\" font-weight=\"bold\" fill=\"#000\" opacity=\"1\">hour</text></g></g><path class=\"foreground\" aria-hidden=\"true\" d=\"\" pointer-events=\"none\" display=\"none\"/></g></g><g class=\"mark-group role-axis\" role=\"graphics-symbol\" aria-roledescription=\"axis\" aria-label=\"Y-axis titled 'value_sum' for a linear scale with values from 0 to 3,500\"><g transform=\"translate(0.5,0.5)\"><path class=\"background\" aria-hidden=\"true\" d=\"M0,0h0v0h0Z\" pointer-events=\"none\"/><g><g class=\"mark-rule role-axis-tick\" pointer-events=\"none\"><line transform=\"translate(0,200)\" x2=\"-5\" y2=\"0\" stroke=\"#888\" stroke-width=\"1\" opacity=\"1\"/><line transform=\"translate(0,171)\" x2=\"-5\" y2=\"0\" stroke=\"#888\" stroke-width=\"1\" opacity=\"1\"/><line transform=\"translate(0,143)\" x2=\"-5\" y2=\"0\" stroke=\"#888\" stroke-width=\"1\" opacity=\"1\"/><line transform=\"translate(0,114)\" x2=\"-5\" y2=\"0\" stroke=\"#888\" stroke-width=\"1\" opacity=\"1\"/><line transform=\"translate(0,86)\" x2=\"-5\" y2=\"0\" stroke=\"#888\" stroke-width=\"1\" opacity=\"1\"/><line transform=\"translate(0,57)\" x2=\"-5\" y2=\"0\" stroke=\"#888\" stroke-width=\"1\" opacity=\"1\"/><line transform=\"translate(0,29)\" x2=\"-5\" y2=\"0\" stroke=\"#888\" stroke-width=\"1\" opacity=\"1\"/><line transform=\"translate(0,0)\" x2=\"-5\" y2=\"0\" stroke=\"#888\" stroke-width=\"1\" opacity=\"1\"/></g><g class=\"mark-text role-axis-label\" pointer-events=\"none\"><text text-anchor=\"end\" transform=\"translate(-7,203)\" font-family=\"sans-serif\" font-size=\"10px\" fill=\"#000\" opacity=\"1\">0</text><text text-anchor=\"end\" transform=\"translate(-7,174.42857142857144)\" font-family=\"sans-serif\" font-size=\"10px\" fill=\"#000\" opacity=\"1\">500</text><text text-anchor=\"end\" transform=\"translate(-7,145.85714285714286)\" font-family=\"sans-serif\" font-size=\"10px\" fill=\"#000\" opacity=\"1\">1,000</text><text text-anchor=\"end\" transform=\"translate(-7,117.28571428571428)\" font-family=\"sans-serif\" font-size=\"10px\" fill=\"#000\" opacity=\"1\">1,500</text><text text-anchor=\"end\" transform=\"translate(-7,88.71428571428572)\" font-family=\"sans-serif\" font-size=\"10px\" fill=\"#000\" opacity=\"1\">2,000</text><text text-anchor=\"end\" transform=\"translate(-7,60.14285714285714)\" font-family=\"sans-serif\" font-size=\"10px\" fill=\"#000\" opacity=\"1\">2,500</text><text text-anchor=\"end\" transform=\"translate(-7,31.57142857142858)\" font-family=\"sans-serif\" font-size=\"10px\" fill=\"#000\" opacity=\"1\">3,000</text><text text-anchor=\"end\" transform=\"translate(-7,3)\" font-family=\"sans-serif\" font-size=\"10px\" fill=\"#000\" opacity=\"1\">3,500</text></g><g class=\"mark-rule role-axis-domain\" pointer-events=\"none\"><line transform=\"translate(0,200)\" x2=\"0\" y2=\"-200\" stroke=\"#888\" stroke-width=\"1\" opacity=\"1\"/></g><g class=\"mark-text role-axis-title\" pointer-events=\"none\"><text text-anchor=\"middle\" transform=\"translate(-39.6279296875,100) rotate(-90) translate(0,-2)\" font-family=\"sans-serif\" font-size=\"11px\" font-weight=\"bold\" fill=\"#000\" opacity=\"1\">value_sum</text></g></g><path class=\"foreground\" aria-hidden=\"true\" d=\"\" pointer-events=\"none\" display=\"none\"/></g></g><g class=\"mark-group role-scope pathgroup\" role=\"graphics-object\" aria-roledescription=\"group mark container\"><g transform=\"translate(0,0)\"><path class=\"background\" aria-hidden=\"true\" d=\"M0,0h200v200h-200Z\"/><g><g class=\"mark-area role-mark marks\" role=\"graphics-object\" aria-roledescription=\"area mark container\"><path aria-label=\"hour: 0; value_sum: 21.4; resource: biomass\" role=\"graphics-symbol\" aria-roledescription=\"area mark\" d=\"M0,117.228L8.333,121.142L16.667,120.017L25,116.671L33.333,105.758L41.667,95.221L50,85.538L58.333,98.823L66.667,143.094L75,150.097L83.333,148.744L91.667,158.911L100,173.655L108.333,173.655L116.667,173.655L125,173.655L133.333,158.61L141.667,133.737L150,76.843L158.333,60.778L166.667,61.092L175,76.642L183.333,93.809L191.667,107.863L191.667,109.086L183.333,95.032L175,77.865L166.667,62.314L158.333,62.001L150,78.066L141.667,134.96L133.333,159.833L125,173.655L116.667,173.655L108.333,173.655L100,173.655L91.667,160.134L83.333,149.967L75,151.32L66.667,144.317L58.333,100.046L50,86.761L41.667,96.444L33.333,106.981L25,117.894L16.667,121.24L8.333,122.364L0,118.451Z\" fill=\"#9467bd\"/></g></g><path class=\"foreground\" aria-hidden=\"true\" d=\"\" display=\"none\"/></g><g transform=\"translate(0,0)\"><path class=\"background\" aria-hidden=\"true\" d=\"M0,0h200v200h-200Z\"/><g><g class=\"mark-area role-mark marks\" role=\"graphics-object\" aria-roledescription=\"area mark container\"><path aria-label=\"hour: 0; value_sum: 42; resource: hydroelectric_pumped_storage\" role=\"graphics-symbol\" aria-roledescription=\"area mark\" d=\"M0,118.451L8.333,122.364L16.667,121.24L25,117.894L33.333,106.981L41.667,96.444L50,86.761L58.333,100.046L66.667,144.317L75,151.32L83.333,149.967L91.667,160.134L100,173.655L108.333,173.655L116.667,173.655L125,173.655L133.333,159.833L141.667,134.96L150,78.066L158.333,62.001L166.667,62.314L175,77.865L183.333,95.032L191.667,109.086L191.667,111.486L183.333,97.432L175,80.265L166.667,64.714L158.333,64.401L150,80.466L141.667,137.36L133.333,162.233L125,173.655L116.667,173.655L108.333,173.655L100,173.655L91.667,162.534L83.333,152.367L75,153.72L66.667,146.717L58.333,102.446L50,89.161L41.667,98.844L33.333,109.381L25,120.294L16.667,123.64L8.333,124.764L0,120.851Z\" fill=\"#8c564b\"/></g></g><path class=\"foreground\" aria-hidden=\"true\" d=\"\" display=\"none\"/></g><g transform=\"translate(0,0)\"><path class=\"background\" aria-hidden=\"true\" d=\"M0,0h200v200h-200Z\"/><g><g class=\"mark-area role-mark marks\" role=\"graphics-object\" aria-roledescription=\"area mark container\"><path aria-label=\"hour: 0; value_sum: 1385.106268; resource: natural_gas_fired_combined_cycle\" role=\"graphics-symbol\" aria-roledescription=\"area mark\" d=\"M0,120.851L8.333,124.764L16.667,123.64L25,120.294L33.333,109.381L41.667,98.844L50,89.161L58.333,102.446L66.667,146.717L75,153.72L83.333,152.367L91.667,162.534L100,173.655L108.333,173.655L116.667,173.655L125,173.655L133.333,162.233L141.667,137.36L150,80.466L158.333,64.401L166.667,64.714L175,80.265L183.333,97.432L191.667,111.486L191.667,198.611L183.333,188.432L175,171.265L166.667,155.714L158.333,155.401L150,171.466L141.667,200L133.333,200L125,200L116.667,200L108.333,200L100,200L91.667,200L83.333,200L75,200L66.667,200L58.333,200L50,198.799L41.667,198.799L33.333,200L25,200L16.667,200L8.333,200L0,200Z\" fill=\"#e377c2\"/></g></g><path class=\"foreground\" aria-hidden=\"true\" d=\"\" display=\"none\"/></g><g transform=\"translate(0,0)\"><path class=\"background\" aria-hidden=\"true\" d=\"M0,0h200v200h-200Z\"/><g><g class=\"mark-area role-mark marks\" role=\"graphics-object\" aria-roledescription=\"area mark container\"><path aria-label=\"hour: 0; value_sum: 0; resource: natural_gas_fired_combustion_turbine\" role=\"graphics-symbol\" aria-roledescription=\"area mark\" d=\"M0,200L8.333,200L16.667,200L25,200L33.333,200L41.667,198.799L50,198.799L58.333,200L66.667,200L75,200L83.333,200L91.667,200L100,200L108.333,200L116.667,200L125,200L133.333,200L141.667,200L150,171.466L158.333,155.401L166.667,155.714L175,171.265L183.333,188.432L191.667,198.611L191.667,200L183.333,200L175,200L166.667,200L158.333,200L150,200L141.667,200L133.333,200L125,200L116.667,200L108.333,200L100,200L91.667,200L83.333,200L75,200L66.667,200L58.333,200L50,200L41.667,200L33.333,200L25,200L16.667,200L8.333,200L0,200Z\" fill=\"#7f7f7f\"/></g></g><path class=\"foreground\" aria-hidden=\"true\" d=\"\" display=\"none\"/></g><g transform=\"translate(0,0)\"><path class=\"background\" aria-hidden=\"true\" d=\"M0,0h200v200h-200Z\"/><g><g class=\"mark-area role-mark marks\" role=\"graphics-object\" aria-roledescription=\"area mark container\"><path aria-label=\"hour: 0; value_sum: 163.3088; resource: _onshore_wind_turbine\" role=\"graphics-symbol\" aria-roledescription=\"area mark\" d=\"M0,107.714L8.333,111.257L16.667,113.257L25,110.743L33.333,100.971L41.667,87.086L50,68.161L58.333,44.019L66.667,21.454L75,7.519L83.333,0.723L91.667,9.638L100,21.157L108.333,25.526L116.667,31.288L125,38.646L133.333,45.561L141.667,53.248L150,62.479L158.333,57.086L166.667,56.8L175,70.971L183.333,86.4L191.667,99.429L191.667,107.681L183.333,93.627L175,76.46L166.667,60.91L158.333,60.596L150,65.485L141.667,57.741L133.333,48.829L125,40.229L116.667,31.288L108.333,25.526L100,22.634L91.667,14.901L83.333,7.077L75,15.037L66.667,31.017L58.333,46.841L50,72.4L41.667,95.039L33.333,105.576L25,116.489L16.667,119.835L8.333,120.96L0,117.046Z\" fill=\"#1f77b4\"/></g></g><path class=\"foreground\" aria-hidden=\"true\" d=\"\" display=\"none\"/></g><g transform=\"translate(0,0)\"><path class=\"background\" aria-hidden=\"true\" d=\"M0,0h200v200h-200Z\"/><g><g class=\"mark-area role-mark marks\" role=\"graphics-object\" aria-roledescription=\"area mark container\"><path aria-label=\"hour: 0; value_sum: 3.184932; resource: _small_hydroelectric\" role=\"graphics-symbol\" aria-roledescription=\"area mark\" d=\"M0,117.046L8.333,120.96L16.667,119.835L25,116.489L33.333,105.576L41.667,95.039L50,72.4L58.333,46.841L66.667,31.017L75,15.037L83.333,7.077L91.667,14.901L100,22.634L108.333,25.526L116.667,31.288L125,40.229L133.333,48.829L141.667,57.741L150,65.485L158.333,60.596L166.667,60.91L175,76.46L183.333,93.627L191.667,107.681L191.667,107.863L183.333,93.809L175,76.642L166.667,61.092L158.333,60.778L150,65.667L141.667,57.923L133.333,49.011L125,40.229L116.667,31.288L108.333,25.526L100,22.634L91.667,15.083L83.333,7.259L75,15.219L66.667,31.199L58.333,47.023L50,72.582L41.667,95.221L33.333,105.758L25,116.671L16.667,120.017L8.333,121.142L0,117.228Z\" fill=\"#ff7f0e\"/></g></g><path class=\"foreground\" aria-hidden=\"true\" d=\"\" display=\"none\"/></g><g transform=\"translate(0,0)\"><path class=\"background\" aria-hidden=\"true\" d=\"M0,0h200v200h-200Z\"/><g><g class=\"mark-area role-mark marks\" role=\"graphics-object\" aria-roledescription=\"area mark container\"><path aria-label=\"hour: 0; value_sum: 0; resource: _solar_photovoltaic\" role=\"graphics-symbol\" aria-roledescription=\"area mark\" d=\"M0,117.228L8.333,121.142L16.667,120.017L25,116.671L33.333,105.758L41.667,95.221L50,72.582L58.333,47.023L66.667,31.199L75,15.219L83.333,7.259L91.667,15.083L100,22.634L108.333,25.526L116.667,31.288L125,40.229L133.333,49.011L141.667,57.923L150,65.667L158.333,60.778L166.667,61.092L175,76.642L183.333,93.809L191.667,107.863L191.667,107.863L183.333,93.809L175,76.642L166.667,61.092L158.333,60.778L150,75.207L141.667,122.643L133.333,142.571L125,154.129L116.667,152.257L108.333,151.523L100,151.554L91.667,137.863L83.333,128.039L75,130.359L66.667,126.719L58.333,91.243L50,83.642L41.667,95.221L33.333,105.758L25,116.671L16.667,120.017L8.333,121.142L0,117.228Z\" fill=\"#2ca02c\"/></g></g><path class=\"foreground\" aria-hidden=\"true\" d=\"\" display=\"none\"/></g><g transform=\"translate(0,0)\"><path class=\"background\" aria-hidden=\"true\" d=\"M0,0h200v200h-200Z\"/><g><g class=\"mark-area role-mark marks\" role=\"graphics-object\" aria-roledescription=\"area mark container\"><path aria-label=\"hour: 0; value_sum: 0; resource: _solar_photovoltaic_btm\" role=\"graphics-symbol\" aria-roledescription=\"area mark\" d=\"M0,117.228L8.333,121.142L16.667,120.017L25,116.671L33.333,105.758L41.667,95.221L50,83.642L58.333,91.243L66.667,126.719L75,130.359L83.333,128.039L91.667,137.863L100,151.554L108.333,151.523L116.667,152.257L125,154.129L133.333,142.571L141.667,122.643L150,75.207L158.333,60.778L166.667,61.092L175,76.642L183.333,93.809L191.667,107.863L191.667,107.863L183.333,93.809L175,76.642L166.667,61.092L158.333,60.778L150,76.843L141.667,133.737L133.333,158.61L125,173.655L116.667,173.655L108.333,173.655L100,173.655L91.667,158.911L83.333,148.744L75,150.097L66.667,143.094L58.333,98.823L50,85.538L41.667,95.221L33.333,105.758L25,116.671L16.667,120.017L8.333,121.142L0,117.228Z\" fill=\"#d62728\"/></g></g><path class=\"foreground\" aria-hidden=\"true\" d=\"\" display=\"none\"/></g></g><g class=\"mark-group role-legend\" role=\"graphics-symbol\" aria-roledescription=\"legend\" aria-label=\"Symbol legend titled 'resource' for fill color with 8 values: _onshore_wind_turbine, _small_hydroelectric, _solar_photovoltaic, _solar_photovoltaic_btm, biomass, ending with natural_gas_fired_combustion_turbine\"><g transform=\"translate(218,0)\"><path class=\"background\" aria-hidden=\"true\" d=\"M0,0h176v118h-176Z\" pointer-events=\"none\"/><g><g class=\"mark-group role-legend-entry\"><g transform=\"translate(0,16)\"><path class=\"background\" aria-hidden=\"true\" d=\"M0,0h0v0h0Z\" pointer-events=\"none\"/><g><g class=\"mark-group role-scope\" role=\"graphics-object\" aria-roledescription=\"group mark container\"><g transform=\"translate(0,0)\"><path class=\"background\" aria-hidden=\"true\" d=\"M0,0h175.5263671875v11h-175.5263671875Z\" pointer-events=\"none\" opacity=\"1\"/><g><g class=\"mark-symbol role-legend-symbol\" pointer-events=\"none\"><path transform=\"translate(6,6)\" d=\"M5,0A5,5,0,1,1,-5,0A5,5,0,1,1,5,0\" fill=\"#1f77b4\" stroke-width=\"1.5\" opacity=\"1\"/></g><g class=\"mark-text role-legend-label\" pointer-events=\"none\"><text text-anchor=\"start\" transform=\"translate(16,9)\" font-family=\"sans-serif\" font-size=\"10px\" fill=\"#000\" opacity=\"1\">_onshore_wind_turbine</text></g></g><path class=\"foreground\" aria-hidden=\"true\" d=\"\" pointer-events=\"none\" display=\"none\"/></g><g transform=\"translate(0,13)\"><path class=\"background\" aria-hidden=\"true\" d=\"M0,0h175.5263671875v11h-175.5263671875Z\" pointer-events=\"none\" opacity=\"1\"/><g><g class=\"mark-symbol role-legend-symbol\" pointer-events=\"none\"><path transform=\"translate(6,6)\" d=\"M5,0A5,5,0,1,1,-5,0A5,5,0,1,1,5,0\" fill=\"#ff7f0e\" stroke-width=\"1.5\" opacity=\"1\"/></g><g class=\"mark-text role-legend-label\" pointer-events=\"none\"><text text-anchor=\"start\" transform=\"translate(16,9)\" font-family=\"sans-serif\" font-size=\"10px\" fill=\"#000\" opacity=\"1\">_small_hydroelectric</text></g></g><path class=\"foreground\" aria-hidden=\"true\" d=\"\" pointer-events=\"none\" display=\"none\"/></g><g transform=\"translate(0,26)\"><path class=\"background\" aria-hidden=\"true\" d=\"M0,0h175.5263671875v11h-175.5263671875Z\" pointer-events=\"none\" opacity=\"1\"/><g><g class=\"mark-symbol role-legend-symbol\" pointer-events=\"none\"><path transform=\"translate(6,6)\" d=\"M5,0A5,5,0,1,1,-5,0A5,5,0,1,1,5,0\" fill=\"#2ca02c\" stroke-width=\"1.5\" opacity=\"1\"/></g><g class=\"mark-text role-legend-label\" pointer-events=\"none\"><text text-anchor=\"start\" transform=\"translate(16,9)\" font-family=\"sans-serif\" font-size=\"10px\" fill=\"#000\" opacity=\"1\">_solar_photovoltaic</text></g></g><path class=\"foreground\" aria-hidden=\"true\" d=\"\" pointer-events=\"none\" display=\"none\"/></g><g transform=\"translate(0,39)\"><path class=\"background\" aria-hidden=\"true\" d=\"M0,0h175.5263671875v11h-175.5263671875Z\" pointer-events=\"none\" opacity=\"1\"/><g><g class=\"mark-symbol role-legend-symbol\" pointer-events=\"none\"><path transform=\"translate(6,6)\" d=\"M5,0A5,5,0,1,1,-5,0A5,5,0,1,1,5,0\" fill=\"#d62728\" stroke-width=\"1.5\" opacity=\"1\"/></g><g class=\"mark-text role-legend-label\" pointer-events=\"none\"><text text-anchor=\"start\" transform=\"translate(16,9)\" font-family=\"sans-serif\" font-size=\"10px\" fill=\"#000\" opacity=\"1\">_solar_photovoltaic_btm</text></g></g><path class=\"foreground\" aria-hidden=\"true\" d=\"\" pointer-events=\"none\" display=\"none\"/></g><g transform=\"translate(0,52)\"><path class=\"background\" aria-hidden=\"true\" d=\"M0,0h175.5263671875v11h-175.5263671875Z\" pointer-events=\"none\" opacity=\"1\"/><g><g class=\"mark-symbol role-legend-symbol\" pointer-events=\"none\"><path transform=\"translate(6,6)\" d=\"M5,0A5,5,0,1,1,-5,0A5,5,0,1,1,5,0\" fill=\"#9467bd\" stroke-width=\"1.5\" opacity=\"1\"/></g><g class=\"mark-text role-legend-label\" pointer-events=\"none\"><text text-anchor=\"start\" transform=\"translate(16,9)\" font-family=\"sans-serif\" font-size=\"10px\" fill=\"#000\" opacity=\"1\">biomass</text></g></g><path class=\"foreground\" aria-hidden=\"true\" d=\"\" pointer-events=\"none\" display=\"none\"/></g><g transform=\"translate(0,65)\"><path class=\"background\" aria-hidden=\"true\" d=\"M0,0h175.5263671875v11h-175.5263671875Z\" pointer-events=\"none\" opacity=\"1\"/><g><g class=\"mark-symbol role-legend-symbol\" pointer-events=\"none\"><path transform=\"translate(6,6)\" d=\"M5,0A5,5,0,1,1,-5,0A5,5,0,1,1,5,0\" fill=\"#8c564b\" stroke-width=\"1.5\" opacity=\"1\"/></g><g class=\"mark-text role-legend-label\" pointer-events=\"none\"><text text-anchor=\"start\" transform=\"translate(16,9)\" font-family=\"sans-serif\" font-size=\"10px\" fill=\"#000\" opacity=\"1\">hydroelectric_pumped_storage</text></g></g><path class=\"foreground\" aria-hidden=\"true\" d=\"\" pointer-events=\"none\" display=\"none\"/></g><g transform=\"translate(0,78)\"><path class=\"background\" aria-hidden=\"true\" d=\"M0,0h175.5263671875v11h-175.5263671875Z\" pointer-events=\"none\" opacity=\"1\"/><g><g class=\"mark-symbol role-legend-symbol\" pointer-events=\"none\"><path transform=\"translate(6,6)\" d=\"M5,0A5,5,0,1,1,-5,0A5,5,0,1,1,5,0\" fill=\"#e377c2\" stroke-width=\"1.5\" opacity=\"1\"/></g><g class=\"mark-text role-legend-label\" pointer-events=\"none\"><text text-anchor=\"start\" transform=\"translate(16,9)\" font-family=\"sans-serif\" font-size=\"10px\" fill=\"#000\" opacity=\"1\">natural_gas_fired_combined_…</text></g></g><path class=\"foreground\" aria-hidden=\"true\" d=\"\" pointer-events=\"none\" display=\"none\"/></g><g transform=\"translate(0,91)\"><path class=\"background\" aria-hidden=\"true\" d=\"M0,0h175.5263671875v11h-175.5263671875Z\" pointer-events=\"none\" opacity=\"1\"/><g><g class=\"mark-symbol role-legend-symbol\" pointer-events=\"none\"><path transform=\"translate(6,6)\" d=\"M5,0A5,5,0,1,1,-5,0A5,5,0,1,1,5,0\" fill=\"#7f7f7f\" stroke-width=\"1.5\" opacity=\"1\"/></g><g class=\"mark-text role-legend-label\" pointer-events=\"none\"><text text-anchor=\"start\" transform=\"translate(16,9)\" font-family=\"sans-serif\" font-size=\"10px\" fill=\"#000\" opacity=\"1\">natural_gas_fired_combustion…</text></g></g><path class=\"foreground\" aria-hidden=\"true\" d=\"\" pointer-events=\"none\" display=\"none\"/></g></g></g><path class=\"foreground\" aria-hidden=\"true\" d=\"\" pointer-events=\"none\" display=\"none\"/></g></g><g class=\"mark-text role-legend-title\" pointer-events=\"none\"><text text-anchor=\"start\" transform=\"translate(0,9)\" font-family=\"sans-serif\" font-size=\"11px\" font-weight=\"bold\" fill=\"#000\" opacity=\"1\">resource</text></g></g><path class=\"foreground\" aria-hidden=\"true\" d=\"\" pointer-events=\"none\" display=\"none\"/></g></g></g><path class=\"foreground\" aria-hidden=\"true\" d=\"\" display=\"none\"/></g></g></g></svg>"
      ],
      "text/plain": [
       "@vlplot(\n",
       "    mark=\"area\",\n",
       "    encoding={\n",
       "        x={\n",
       "            field=\"hour\"\n",
       "        },\n",
       "        y={\n",
       "            stack=\"zero\",\n",
       "            field=\"value_sum\"\n",
       "        },\n",
       "        color={\n",
       "            scale={\n",
       "                scheme=\"category10\"\n",
       "            },\n",
       "            field=\"resource\",\n",
       "            type=\"nominal\"\n",
       "        }\n",
       "    },\n",
       "    data={\n",
       "        values=...\n",
       "    }\n",
       ")"
      ]
     },
     "metadata": {},
     "output_type": "display_data"
    }
   ],
   "source": [
    "solution = solve_unit_commitment(\n",
    "    gen_df_sens,\n",
    "    loads_multi,\n",
    "    gen_variable_multi,\n",
    "    0.01,\n",
    "    ramp_constraints = false)\n",
    "sol_gen = innerjoin(solution.GEN, \n",
    "                    gen_df[!, [:r_id, :resource]], \n",
    "                    on = :r_id)\n",
    "sol_gen = combine(groupby(sol_gen, [:resource, :hour]), \n",
    "            :value => sum)\n",
    "\n",
    "# Rename generators (for plotting purposes)\n",
    "sol_gen[sol_gen.resource .== \"solar_photovoltaic\", :resource] .= \"_solar_photovoltaic\"\n",
    "sol_gen[sol_gen.resource .== \"onshore_wind_turbine\", :resource] .= \"_onshore_wind_turbine\"\n",
    "sol_gen[sol_gen.resource .== \"small_hydroelectric\", :resource] .= \"_small_hydroelectric\"\n",
    "\n",
    "# BTM solar\n",
    "btm = DataFrame(resource = repeat([\"_solar_photovoltaic_btm\"]; outer=length(T_period)), \n",
    "    hour = T_period,\n",
    "    value_sum = gen_variable_multi[gen_variable_multi.gen_full .== \"wec_sdge_solar_photovoltaic_1.0\",:cf] * 600)\n",
    "append!(sol_gen, btm)\n",
    "\n",
    "# Curtailment\n",
    "if haskey(solution, :curtail)\n",
    "    curtail = combine(groupby(solution.curtail, [:hour]),\n",
    "                :value => sum)\n",
    "    curtail[!, :resource] .= \"_curtailment\"\n",
    "    # rename!(curtail, :curt_sum => :value_sum)\n",
    "    append!(sol_gen, curtail[:,[:resource, :hour, :value_sum]])\n",
    "end\n",
    "\n",
    "# Rescale hours\n",
    "sol_gen.hour = sol_gen.hour .- T_period[1]\n",
    "\n",
    "sol_gen |>\n",
    "@vlplot(:area, \n",
    "    x=:hour, y={:value_sum, stack=:zero}, \n",
    "    color={\"resource:n\", scale={scheme=\"category10\"}})"
   ]
  },
  {
   "cell_type": "markdown",
   "metadata": {},
   "source": [
    "### Unit Commitment with ramp"
   ]
  },
  {
   "cell_type": "code",
   "execution_count": 4,
   "metadata": {},
   "outputs": [
    {
     "name": "stdout",
     "output_type": "stream",
     "text": [
      "Set parameter WLSAccessID\n",
      "Set parameter WLSSecret\n",
      "Set parameter LicenseID to value 2475843\n",
      "Academic license 2475843 - for non-commercial use only - registered to pa___@imperial.ac.uk\n",
      "Set parameter MIPGap to value 0.01\n",
      "Adding ramp constraints...\n"
     ]
    },
    {
     "name": "stdout",
     "output_type": "stream",
     "text": [
      "Set parameter MIPGap to value 0.01\n",
      "Gurobi Optimizer version 11.0.0 build v11.0.0rc2 (linux64 - \"Ubuntu 22.04.3 LTS\")\n",
      "\n",
      "CPU model: 11th Gen Intel(R) Core(TM) i7-11370H @ 3.30GHz, instruction set [SSE2|AVX|AVX2|AVX512]\n",
      "Thread count: 4 physical cores, 8 logical processors, using up to 8 threads\n",
      "\n",
      "Academic license 2475843 - for non-commercial use only - registered to pa___@imperial.ac.uk\n",
      "Optimize a model with 4532 rows, 2760 columns and 13296 nonzeros\n",
      "Model fingerprint: 0x00f527e7\n",
      "Variable types: 1176 continuous, 1584 integer (1584 binary)\n",
      "Coefficient statistics:\n",
      "  Matrix range     [1e+00, 6e+02]\n",
      "  Objective range  [5e+00, 5e+04]\n",
      "  Bounds range     [0e+00, 0e+00]\n",
      "  RHS range        [1e+00, 4e+03]\n",
      "Presolve removed 1846 rows and 644 columns\n",
      "Presolve time: 0.04s\n",
      "Presolved: 2686 rows, 2116 columns, 10736 nonzeros\n",
      "Variable types: 576 continuous, 1540 integer (1540 binary)\n",
      "Found heuristic solution: objective 898512.70762\n",
      "\n",
      "Root relaxation: objective 8.539093e+05, 959 iterations, 0.02 seconds (0.02 work units)\n",
      "\n",
      "    Nodes    |    Current Node    |     Objective Bounds      |     Work\n",
      " Expl Unexpl |  Obj  Depth IntInf | Incumbent    BestBd   Gap | It/Node Time\n",
      "\n",
      "     0     0 853909.258    0   26 898512.708 853909.258  4.96%     -    0s\n",
      "H    0     0                    863053.38924 853909.258  1.06%     -    0s\n",
      "     0     0          -    0      863053.389 854462.164  1.00%     -    0s\n",
      "\n",
      "Cutting planes:\n",
      "  Gomory: 6\n",
      "  Cover: 5\n",
      "  MIR: 7\n",
      "  Flow cover: 10\n",
      "  Network: 1\n",
      "\n",
      "Explored 1 nodes (1033 simplex iterations) in 0.13 seconds (0.07 work units)\n",
      "Thread count was 8 (of 8 available processors)\n",
      "\n",
      "Solution count 2: 863053 898513 \n",
      "\n",
      "Optimal solution found (tolerance 1.00e-02)\n",
      "Best objective 8.630533892417e+05, best bound 8.544621636922e+05, gap 0.9954%\n",
      "\n",
      "User-callback calls 414, time in user-callback 0.00 sec\n"
     ]
    },
    {
     "data": {
      "application/vnd.vegalite.v5+json": {
       "data": {
        "values": [
         {
          "hour": 0,
          "resource": "biomass",
          "value_sum": 21.4
         },
         {
          "hour": 0,
          "resource": "hydroelectric_pumped_storage",
          "value_sum": 42
         },
         {
          "hour": 0,
          "resource": "natural_gas_fired_combined_cycle",
          "value_sum": 1385.106268
         },
         {
          "hour": 0,
          "resource": "natural_gas_fired_combustion_turbine",
          "value_sum": 0
         },
         {
          "hour": 0,
          "resource": "_onshore_wind_turbine",
          "value_sum": 163.3088
         },
         {
          "hour": 0,
          "resource": "_small_hydroelectric",
          "value_sum": 3.184932
         },
         {
          "hour": 0,
          "resource": "_solar_photovoltaic",
          "value_sum": 0
         },
         {
          "hour": 1,
          "resource": "biomass",
          "value_sum": 21.4
         },
         {
          "hour": 1,
          "resource": "hydroelectric_pumped_storage",
          "value_sum": 42
         },
         {
          "hour": 1,
          "resource": "natural_gas_fired_combined_cycle",
          "value_sum": 1316.621788
         },
         {
          "hour": 1,
          "resource": "natural_gas_fired_combustion_turbine",
          "value_sum": 0
         },
         {
          "hour": 1,
          "resource": "_onshore_wind_turbine",
          "value_sum": 169.79327999999998
         },
         {
          "hour": 1,
          "resource": "_small_hydroelectric",
          "value_sum": 3.184932
         },
         {
          "hour": 1,
          "resource": "_solar_photovoltaic",
          "value_sum": 0
         },
         {
          "hour": 2,
          "resource": "biomass",
          "value_sum": 21.4
         },
         {
          "hour": 2,
          "resource": "hydroelectric_pumped_storage",
          "value_sum": 42
         },
         {
          "hour": 2,
          "resource": "natural_gas_fired_combined_cycle",
          "value_sum": 1336.304668
         },
         {
          "hour": 2,
          "resource": "natural_gas_fired_combustion_turbine",
          "value_sum": 0
         },
         {
          "hour": 2,
          "resource": "_onshore_wind_turbine",
          "value_sum": 115.1104
         },
         {
          "hour": 2,
          "resource": "_small_hydroelectric",
          "value_sum": 3.184932
         },
         {
          "hour": 2,
          "resource": "_solar_photovoltaic",
          "value_sum": 0
         },
         {
          "hour": 3,
          "resource": "biomass",
          "value_sum": 21.4
         },
         {
          "hour": 3,
          "resource": "hydroelectric_pumped_storage",
          "value_sum": 42
         },
         {
          "hour": 3,
          "resource": "natural_gas_fired_combined_cycle",
          "value_sum": 1394.8621079999998
         },
         {
          "hour": 3,
          "resource": "natural_gas_fired_combustion_turbine",
          "value_sum": 0
         },
         {
          "hour": 3,
          "resource": "_onshore_wind_turbine",
          "value_sum": 100.55296
         },
         {
          "hour": 3,
          "resource": "_small_hydroelectric",
          "value_sum": 3.184931999999989
         },
         {
          "hour": 3,
          "resource": "_solar_photovoltaic",
          "value_sum": 0
         },
         {
          "hour": 4,
          "resource": "biomass",
          "value_sum": 21.4
         },
         {
          "hour": 4,
          "resource": "hydroelectric_pumped_storage",
          "value_sum": 42
         },
         {
          "hour": 4,
          "resource": "natural_gas_fired_combined_cycle",
          "value_sum": 1585.8377879999998
         },
         {
          "hour": 4,
          "resource": "natural_gas_fired_combustion_turbine",
          "value_sum": 0
         },
         {
          "hour": 4,
          "resource": "_onshore_wind_turbine",
          "value_sum": 80.57728
         },
         {
          "hour": 4,
          "resource": "_small_hydroelectric",
          "value_sum": 3.184932
         },
         {
          "hour": 4,
          "resource": "_solar_photovoltaic",
          "value_sum": 0
         },
         {
          "hour": 5,
          "resource": "biomass",
          "value_sum": 21.4
         },
         {
          "hour": 5,
          "resource": "hydroelectric_pumped_storage",
          "value_sum": 42
         },
         {
          "hour": 5,
          "resource": "natural_gas_fired_combined_cycle",
          "value_sum": 1749.256408
         },
         {
          "hour": 5,
          "resource": "natural_gas_fired_combustion_turbine",
          "value_sum": 20.981699999999996
         },
         {
          "hour": 5,
          "resource": "_onshore_wind_turbine",
          "value_sum": 139.17695999999998
         },
         {
          "hour": 5,
          "resource": "_small_hydroelectric",
          "value_sum": 3.184932
         },
         {
          "hour": 5,
          "resource": "_solar_photovoltaic",
          "value_sum": 0
         },
         {
          "hour": 6,
          "resource": "biomass",
          "value_sum": 21.4
         },
         {
          "hour": 6,
          "resource": "hydroelectric_pumped_storage",
          "value_sum": 42
         },
         {
          "hour": 6,
          "resource": "natural_gas_fired_combined_cycle",
          "value_sum": 1918.7035279999998
         },
         {
          "hour": 6,
          "resource": "natural_gas_fired_combustion_turbine",
          "value_sum": 20.981699999999996
         },
         {
          "hour": 6,
          "resource": "_onshore_wind_turbine",
          "value_sum": 74.17984
         },
         {
          "hour": 6,
          "resource": "_small_hydroelectric",
          "value_sum": 3.184932
         },
         {
          "hour": 6,
          "resource": "_solar_photovoltaic",
          "value_sum": 193.55
         },
         {
          "hour": 7,
          "resource": "biomass",
          "value_sum": 21.4
         },
         {
          "hour": 7,
          "resource": "hydroelectric_pumped_storage",
          "value_sum": 42
         },
         {
          "hour": 7,
          "resource": "natural_gas_fired_combined_cycle",
          "value_sum": 1707.191628
         },
         {
          "hour": 7,
          "resource": "natural_gas_fired_combustion_turbine",
          "value_sum": 0
         },
         {
          "hour": 7,
          "resource": "_onshore_wind_turbine",
          "value_sum": 49.373439999999995
         },
         {
          "hour": 7,
          "resource": "_small_hydroelectric",
          "value_sum": 3.184932
         },
         {
          "hour": 7,
          "resource": "_solar_photovoltaic",
          "value_sum": 773.85
         },
         {
          "hour": 8,
          "resource": "biomass",
          "value_sum": 21.4
         },
         {
          "hour": 8,
          "resource": "hydroelectric_pumped_storage",
          "value_sum": 42
         },
         {
          "hour": 8,
          "resource": "natural_gas_fired_combined_cycle",
          "value_sum": 932.4589079999998
         },
         {
          "hour": 8,
          "resource": "natural_gas_fired_combustion_turbine",
          "value_sum": 0
         },
         {
          "hour": 8,
          "resource": "_onshore_wind_turbine",
          "value_sum": 167.35616
         },
         {
          "hour": 8,
          "resource": "_small_hydroelectric",
          "value_sum": 3.184932
         },
         {
          "hour": 8,
          "resource": "_solar_photovoltaic",
          "value_sum": 1671.6
         },
         {
          "hour": 9,
          "resource": "biomass",
          "value_sum": 21.4
         },
         {
          "hour": 9,
          "resource": "hydroelectric_pumped_storage",
          "value_sum": 42
         },
         {
          "hour": 9,
          "resource": "natural_gas_fired_combined_cycle",
          "value_sum": 809.9041080000002
         },
         {
          "hour": 9,
          "resource": "natural_gas_fired_combustion_turbine",
          "value_sum": 0
         },
         {
          "hour": 9,
          "resource": "_onshore_wind_turbine",
          "value_sum": 131.56096
         },
         {
          "hour": 9,
          "resource": "_small_hydroelectric",
          "value_sum": 3.184932
         },
         {
          "hour": 9,
          "resource": "_solar_photovoltaic",
          "value_sum": 2014.95
         },
         {
          "hour": 10,
          "resource": "biomass",
          "value_sum": 21.4
         },
         {
          "hour": 10,
          "resource": "hydroelectric_pumped_storage",
          "value_sum": 42
         },
         {
          "hour": 10,
          "resource": "natural_gas_fired_combined_cycle",
          "value_sum": 833.5714679999996
         },
         {
          "hour": 10,
          "resource": "natural_gas_fired_combustion_turbine",
          "value_sum": 0
         },
         {
          "hour": 10,
          "resource": "_onshore_wind_turbine",
          "value_sum": 111.1936
         },
         {
          "hour": 10,
          "resource": "_small_hydroelectric",
          "value_sum": 3.184932
         },
         {
          "hour": 10,
          "resource": "_solar_photovoltaic",
          "value_sum": 2113.65
         },
         {
          "hour": 11,
          "resource": "biomass",
          "value_sum": 21.4
         },
         {
          "hour": 11,
          "resource": "hydroelectric_pumped_storage",
          "value_sum": 42
         },
         {
          "hour": 11,
          "resource": "natural_gas_fired_combined_cycle",
          "value_sum": 655.6549879999998
         },
         {
          "hour": 11,
          "resource": "natural_gas_fired_combustion_turbine",
          "value_sum": 0
         },
         {
          "hour": 11,
          "resource": "_onshore_wind_turbine",
          "value_sum": 92.11008
         },
         {
          "hour": 11,
          "resource": "_small_hydroelectric",
          "value_sum": 3.184932
         },
         {
          "hour": 11,
          "resource": "_solar_photovoltaic",
          "value_sum": 2148.65
         },
         {
          "hour": 12,
          "resource": "biomass",
          "value_sum": 0
         },
         {
          "hour": 12,
          "resource": "hydroelectric_pumped_storage",
          "value_sum": 0
         },
         {
          "hour": 12,
          "resource": "natural_gas_fired_combined_cycle",
          "value_sum": 461.04019999999997
         },
         {
          "hour": 12,
          "resource": "natural_gas_fired_combustion_turbine",
          "value_sum": 0
         },
         {
          "hour": 12,
          "resource": "_onshore_wind_turbine",
          "value_sum": 25.859800000000178
         },
         {
          "hour": 12,
          "resource": "_small_hydroelectric",
          "value_sum": 0
         },
         {
          "hour": 12,
          "resource": "_solar_photovoltaic",
          "value_sum": 2256.1
         },
         {
          "hour": 13,
          "resource": "biomass",
          "value_sum": 0
         },
         {
          "hour": 13,
          "resource": "hydroelectric_pumped_storage",
          "value_sum": 0
         },
         {
          "hour": 13,
          "resource": "natural_gas_fired_combined_cycle",
          "value_sum": 461.04019999999997
         },
         {
          "hour": 13,
          "resource": "natural_gas_fired_combustion_turbine",
          "value_sum": 0
         },
         {
          "hour": 13,
          "resource": "_onshore_wind_turbine",
          "value_sum": 0
         },
         {
          "hour": 13,
          "resource": "_small_hydroelectric",
          "value_sum": 0
         },
         {
          "hour": 13,
          "resource": "_solar_photovoltaic",
          "value_sum": 2204.9598
         },
         {
          "hour": 14,
          "resource": "biomass",
          "value_sum": 0
         },
         {
          "hour": 14,
          "resource": "hydroelectric_pumped_storage",
          "value_sum": 0
         },
         {
          "hour": 14,
          "resource": "natural_gas_fired_combined_cycle",
          "value_sum": 461.04019999999997
         },
         {
          "hour": 14,
          "resource": "natural_gas_fired_combustion_turbine",
          "value_sum": 0
         },
         {
          "hour": 14,
          "resource": "_onshore_wind_turbine",
          "value_sum": 0
         },
         {
          "hour": 14,
          "resource": "_small_hydroelectric",
          "value_sum": 0
         },
         {
          "hour": 14,
          "resource": "_solar_photovoltaic",
          "value_sum": 2116.9598
         },
         {
          "hour": 15,
          "resource": "biomass",
          "value_sum": 0
         },
         {
          "hour": 15,
          "resource": "hydroelectric_pumped_storage",
          "value_sum": 0
         },
         {
          "hour": 15,
          "resource": "natural_gas_fired_combined_cycle",
          "value_sum": 461.04019999999997
         },
         {
          "hour": 15,
          "resource": "natural_gas_fired_combustion_turbine",
          "value_sum": 0
         },
         {
          "hour": 15,
          "resource": "_onshore_wind_turbine",
          "value_sum": 27.70979999999986
         },
         {
          "hour": 15,
          "resource": "_small_hydroelectric",
          "value_sum": 0
         },
         {
          "hour": 15,
          "resource": "_solar_photovoltaic",
          "value_sum": 1993.25
         },
         {
          "hour": 16,
          "resource": "biomass",
          "value_sum": 21.4
         },
         {
          "hour": 16,
          "resource": "hydroelectric_pumped_storage",
          "value_sum": 42
         },
         {
          "hour": 16,
          "resource": "natural_gas_fired_combined_cycle",
          "value_sum": 660.9297880000001
         },
         {
          "hour": 16,
          "resource": "natural_gas_fired_combustion_turbine",
          "value_sum": 0
         },
         {
          "hour": 16,
          "resource": "_onshore_wind_turbine",
          "value_sum": 57.18527999999999
         },
         {
          "hour": 16,
          "resource": "_small_hydroelectric",
          "value_sum": 3.184932
         },
         {
          "hour": 16,
          "resource": "_solar_photovoltaic",
          "value_sum": 1637.3
         },
         {
          "hour": 17,
          "resource": "biomass",
          "value_sum": 21.4
         },
         {
          "hour": 17,
          "resource": "hydroelectric_pumped_storage",
          "value_sum": 42
         },
         {
          "hour": 17,
          "resource": "natural_gas_fired_combined_cycle",
          "value_sum": 1096.196188
         },
         {
          "hour": 17,
          "resource": "natural_gas_fired_combustion_turbine",
          "value_sum": 0
         },
         {
          "hour": 17,
          "resource": "_onshore_wind_turbine",
          "value_sum": 78.61888
         },
         {
          "hour": 17,
          "resource": "_small_hydroelectric",
          "value_sum": 3.184932
         },
         {
          "hour": 17,
          "resource": "_solar_photovoltaic",
          "value_sum": 1132.6
         },
         {
          "hour": 18,
          "resource": "biomass",
          "value_sum": 21.4
         },
         {
          "hour": 18,
          "resource": "hydroelectric_pumped_storage",
          "value_sum": 42
         },
         {
          "hour": 18,
          "resource": "natural_gas_fired_combined_cycle",
          "value_sum": 1592.5
         },
         {
          "hour": 18,
          "resource": "natural_gas_fired_combustion_turbine",
          "value_sum": 499.3493879999997
         },
         {
          "hour": 18,
          "resource": "_onshore_wind_turbine",
          "value_sum": 52.61568
         },
         {
          "hour": 18,
          "resource": "_small_hydroelectric",
          "value_sum": 3.184932
         },
         {
          "hour": 18,
          "resource": "_solar_photovoltaic",
          "value_sum": 166.95
         },
         {
          "hour": 19,
          "resource": "biomass",
          "value_sum": 21.4
         },
         {
          "hour": 19,
          "resource": "hydroelectric_pumped_storage",
          "value_sum": 42
         },
         {
          "hour": 19,
          "resource": "natural_gas_fired_combined_cycle",
          "value_sum": 1592.5
         },
         {
          "hour": 19,
          "resource": "natural_gas_fired_combustion_turbine",
          "value_sum": 780.4865879999996
         },
         {
          "hour": 19,
          "resource": "_onshore_wind_turbine",
          "value_sum": 61.42848
         },
         {
          "hour": 19,
          "resource": "_small_hydroelectric",
          "value_sum": 3.1849319999999963
         },
         {
          "hour": 19,
          "resource": "_solar_photovoltaic",
          "value_sum": 0
         },
         {
          "hour": 20,
          "resource": "biomass",
          "value_sum": 21.4
         },
         {
          "hour": 20,
          "resource": "hydroelectric_pumped_storage",
          "value_sum": 42
         },
         {
          "hour": 20,
          "resource": "natural_gas_fired_combined_cycle",
          "value_sum": 1592.5
         },
         {
          "hour": 20,
          "resource": "natural_gas_fired_combustion_turbine",
          "value_sum": 774.9982679999996
         },
         {
          "hour": 20,
          "resource": "_onshore_wind_turbine",
          "value_sum": 71.9168
         },
         {
          "hour": 20,
          "resource": "_small_hydroelectric",
          "value_sum": 3.184932
         },
         {
          "hour": 20,
          "resource": "_solar_photovoltaic",
          "value_sum": 0
         },
         {
          "hour": 21,
          "resource": "biomass",
          "value_sum": 21.4
         },
         {
          "hour": 21,
          "resource": "hydroelectric_pumped_storage",
          "value_sum": 42
         },
         {
          "hour": 21,
          "resource": "natural_gas_fired_combined_cycle",
          "value_sum": 1592.5
         },
         {
          "hour": 21,
          "resource": "natural_gas_fired_combustion_turbine",
          "value_sum": 502.86642799999964
         },
         {
          "hour": 21,
          "resource": "_onshore_wind_turbine",
          "value_sum": 96.04864
         },
         {
          "hour": 21,
          "resource": "_small_hydroelectric",
          "value_sum": 3.184932
         },
         {
          "hour": 21,
          "resource": "_solar_photovoltaic",
          "value_sum": 0
         },
         {
          "hour": 22,
          "resource": "biomass",
          "value_sum": 21.4
         },
         {
          "hour": 22,
          "resource": "hydroelectric_pumped_storage",
          "value_sum": 42
         },
         {
          "hour": 22,
          "resource": "natural_gas_fired_combined_cycle",
          "value_sum": 1592.5
         },
         {
          "hour": 22,
          "resource": "natural_gas_fired_combustion_turbine",
          "value_sum": 202.4459479999998
         },
         {
          "hour": 22,
          "resource": "_onshore_wind_turbine",
          "value_sum": 126.46912
         },
         {
          "hour": 22,
          "resource": "_small_hydroelectric",
          "value_sum": 3.184932
         },
         {
          "hour": 22,
          "resource": "_solar_photovoltaic",
          "value_sum": 0
         },
         {
          "hour": 23,
          "resource": "biomass",
          "value_sum": 21.4
         },
         {
          "hour": 23,
          "resource": "hydroelectric_pumped_storage",
          "value_sum": 42
         },
         {
          "hour": 23,
          "resource": "natural_gas_fired_combined_cycle",
          "value_sum": 1434.6614479999998
         },
         {
          "hour": 23,
          "resource": "natural_gas_fired_combustion_turbine",
          "value_sum": 114.3325
         },
         {
          "hour": 23,
          "resource": "_onshore_wind_turbine",
          "value_sum": 144.42111999999997
         },
         {
          "hour": 23,
          "resource": "_small_hydroelectric",
          "value_sum": 3.184932
         },
         {
          "hour": 23,
          "resource": "_solar_photovoltaic",
          "value_sum": 0
         },
         {
          "hour": 0,
          "resource": "_solar_photovoltaic_btm",
          "value_sum": 0
         },
         {
          "hour": 1,
          "resource": "_solar_photovoltaic_btm",
          "value_sum": 0
         },
         {
          "hour": 2,
          "resource": "_solar_photovoltaic_btm",
          "value_sum": 0
         },
         {
          "hour": 3,
          "resource": "_solar_photovoltaic_btm",
          "value_sum": 0
         },
         {
          "hour": 4,
          "resource": "_solar_photovoltaic_btm",
          "value_sum": 0
         },
         {
          "hour": 5,
          "resource": "_solar_photovoltaic_btm",
          "value_sum": 0
         },
         {
          "hour": 6,
          "resource": "_solar_photovoltaic_btm",
          "value_sum": 33.18
         },
         {
          "hour": 7,
          "resource": "_solar_photovoltaic_btm",
          "value_sum": 132.66
         },
         {
          "hour": 8,
          "resource": "_solar_photovoltaic_btm",
          "value_sum": 286.56
         },
         {
          "hour": 9,
          "resource": "_solar_photovoltaic_btm",
          "value_sum": 345.42
         },
         {
          "hour": 10,
          "resource": "_solar_photovoltaic_btm",
          "value_sum": 362.34
         },
         {
          "hour": 11,
          "resource": "_solar_photovoltaic_btm",
          "value_sum": 368.34
         },
         {
          "hour": 12,
          "resource": "_solar_photovoltaic_btm",
          "value_sum": 386.76
         },
         {
          "hour": 13,
          "resource": "_solar_photovoltaic_btm",
          "value_sum": 387.29999999999995
         },
         {
          "hour": 14,
          "resource": "_solar_photovoltaic_btm",
          "value_sum": 374.46
         },
         {
          "hour": 15,
          "resource": "_solar_photovoltaic_btm",
          "value_sum": 341.7
         },
         {
          "hour": 16,
          "resource": "_solar_photovoltaic_btm",
          "value_sum": 280.68
         },
         {
          "hour": 17,
          "resource": "_solar_photovoltaic_btm",
          "value_sum": 194.16
         },
         {
          "hour": 18,
          "resource": "_solar_photovoltaic_btm",
          "value_sum": 28.62
         },
         {
          "hour": 19,
          "resource": "_solar_photovoltaic_btm",
          "value_sum": 0
         },
         {
          "hour": 20,
          "resource": "_solar_photovoltaic_btm",
          "value_sum": 0
         },
         {
          "hour": 21,
          "resource": "_solar_photovoltaic_btm",
          "value_sum": 0
         },
         {
          "hour": 22,
          "resource": "_solar_photovoltaic_btm",
          "value_sum": 0
         },
         {
          "hour": 23,
          "resource": "_solar_photovoltaic_btm",
          "value_sum": 0
         }
        ]
       },
       "encoding": {
        "color": {
         "field": "resource",
         "scale": {
          "scheme": "category10"
         },
         "type": "nominal"
        },
        "x": {
         "field": "hour",
         "type": "quantitative"
        },
        "y": {
         "field": "value_sum",
         "stack": "zero",
         "type": "quantitative"
        }
       },
       "mark": "area"
      },
      "image/png": "[encoded data removed]",
      "image/svg+xml": [
       "<svg xmlns=\"http://www.w3.org/2000/svg\" xmlns:xlink=\"http://www.w3.org/1999/xlink\" version=\"1.1\" class=\"marks\" width=\"455\" height=\"247\" viewBox=\"0 0 455 247\"><rect width=\"455\" height=\"247\" fill=\"white\"/><g fill=\"none\" stroke-miterlimit=\"10\" transform=\"translate(56,10)\"><g class=\"mark-group role-frame root\" role=\"graphics-object\" aria-roledescription=\"group mark container\"><g transform=\"translate(0,0)\"><path class=\"background\" aria-hidden=\"true\" d=\"M0.5,0.5h200v200h-200Z\" stroke=\"#ddd\"/><g><g class=\"mark-group role-axis\" aria-hidden=\"true\"><g transform=\"translate(0.5,200.5)\"><path class=\"background\" aria-hidden=\"true\" d=\"M0,0h0v0h0Z\" pointer-events=\"none\"/><g><g class=\"mark-rule role-axis-grid\" pointer-events=\"none\"><line transform=\"translate(0,-200)\" x2=\"0\" y2=\"200\" stroke=\"#ddd\" stroke-width=\"1\" opacity=\"1\"/><line transform=\"translate(42,-200)\" x2=\"0\" y2=\"200\" stroke=\"#ddd\" stroke-width=\"1\" opacity=\"1\"/><line transform=\"translate(83,-200)\" x2=\"0\" y2=\"200\" stroke=\"#ddd\" stroke-width=\"1\" opacity=\"1\"/><line transform=\"translate(125,-200)\" x2=\"0\" y2=\"200\" stroke=\"#ddd\" stroke-width=\"1\" opacity=\"1\"/><line transform=\"translate(167,-200)\" x2=\"0\" y2=\"200\" stroke=\"#ddd\" stroke-width=\"1\" opacity=\"1\"/></g></g><path class=\"foreground\" aria-hidden=\"true\" d=\"\" pointer-events=\"none\" display=\"none\"/></g></g><g class=\"mark-group role-axis\" aria-hidden=\"true\"><g transform=\"translate(0.5,0.5)\"><path class=\"background\" aria-hidden=\"true\" d=\"M0,0h0v0h0Z\" pointer-events=\"none\"/><g><g class=\"mark-rule role-axis-grid\" pointer-events=\"none\"><line transform=\"translate(0,200)\" x2=\"200\" y2=\"0\" stroke=\"#ddd\" stroke-width=\"1\" opacity=\"1\"/><line transform=\"translate(0,171)\" x2=\"200\" y2=\"0\" stroke=\"#ddd\" stroke-width=\"1\" opacity=\"1\"/><line transform=\"translate(0,143)\" x2=\"200\" y2=\"0\" stroke=\"#ddd\" stroke-width=\"1\" opacity=\"1\"/><line transform=\"translate(0,114)\" x2=\"200\" y2=\"0\" stroke=\"#ddd\" stroke-width=\"1\" opacity=\"1\"/><line transform=\"translate(0,86)\" x2=\"200\" y2=\"0\" stroke=\"#ddd\" stroke-width=\"1\" opacity=\"1\"/><line transform=\"translate(0,57)\" x2=\"200\" y2=\"0\" stroke=\"#ddd\" stroke-width=\"1\" opacity=\"1\"/><line transform=\"translate(0,29)\" x2=\"200\" y2=\"0\" stroke=\"#ddd\" stroke-width=\"1\" opacity=\"1\"/><line transform=\"translate(0,0)\" x2=\"200\" y2=\"0\" stroke=\"#ddd\" stroke-width=\"1\" opacity=\"1\"/></g></g><path class=\"foreground\" aria-hidden=\"true\" d=\"\" pointer-events=\"none\" display=\"none\"/></g></g><g class=\"mark-group role-axis\" role=\"graphics-symbol\" aria-roledescription=\"axis\" aria-label=\"X-axis titled 'hour' for a linear scale with values from 0 to 24\"><g transform=\"translate(0.5,200.5)\"><path class=\"background\" aria-hidden=\"true\" d=\"M0,0h0v0h0Z\" pointer-events=\"none\"/><g><g class=\"mark-rule role-axis-tick\" pointer-events=\"none\"><line transform=\"translate(0,0)\" x2=\"0\" y2=\"5\" stroke=\"#888\" stroke-width=\"1\" opacity=\"1\"/><line transform=\"translate(42,0)\" x2=\"0\" y2=\"5\" stroke=\"#888\" stroke-width=\"1\" opacity=\"1\"/><line transform=\"translate(83,0)\" x2=\"0\" y2=\"5\" stroke=\"#888\" stroke-width=\"1\" opacity=\"1\"/><line transform=\"translate(125,0)\" x2=\"0\" y2=\"5\" stroke=\"#888\" stroke-width=\"1\" opacity=\"1\"/><line transform=\"translate(167,0)\" x2=\"0\" y2=\"5\" stroke=\"#888\" stroke-width=\"1\" opacity=\"1\"/></g><g class=\"mark-text role-axis-label\" pointer-events=\"none\"><text text-anchor=\"start\" transform=\"translate(0,15)\" font-family=\"sans-serif\" font-size=\"10px\" fill=\"#000\" opacity=\"1\">0</text><text text-anchor=\"middle\" transform=\"translate(41.66666666666667,15)\" font-family=\"sans-serif\" font-size=\"10px\" fill=\"#000\" opacity=\"1\">5</text><text text-anchor=\"middle\" transform=\"translate(83.33333333333334,15)\" font-family=\"sans-serif\" font-size=\"10px\" fill=\"#000\" opacity=\"1\">10</text><text text-anchor=\"middle\" transform=\"translate(125,15)\" font-family=\"sans-serif\" font-size=\"10px\" fill=\"#000\" opacity=\"1\">15</text><text text-anchor=\"middle\" transform=\"translate(166.66666666666669,15)\" font-family=\"sans-serif\" font-size=\"10px\" fill=\"#000\" opacity=\"1\">20</text></g><g class=\"mark-rule role-axis-domain\" pointer-events=\"none\"><line transform=\"translate(0,0)\" x2=\"200\" y2=\"0\" stroke=\"#888\" stroke-width=\"1\" opacity=\"1\"/></g><g class=\"mark-text role-axis-title\" pointer-events=\"none\"><text text-anchor=\"middle\" transform=\"translate(100,30)\" font-family=\"sans-serif\" font-size=\"11px\" font-weight=\"bold\" fill=\"#000\" opacity=\"1\">hour</text></g></g><path class=\"foreground\" aria-hidden=\"true\" d=\"\" pointer-events=\"none\" display=\"none\"/></g></g><g class=\"mark-group role-axis\" role=\"graphics-symbol\" aria-roledescription=\"axis\" aria-label=\"Y-axis titled 'value_sum' for a linear scale with values from 0 to 3,500\"><g transform=\"translate(0.5,0.5)\"><path class=\"background\" aria-hidden=\"true\" d=\"M0,0h0v0h0Z\" pointer-events=\"none\"/><g><g class=\"mark-rule role-axis-tick\" pointer-events=\"none\"><line transform=\"translate(0,200)\" x2=\"-5\" y2=\"0\" stroke=\"#888\" stroke-width=\"1\" opacity=\"1\"/><line transform=\"translate(0,171)\" x2=\"-5\" y2=\"0\" stroke=\"#888\" stroke-width=\"1\" opacity=\"1\"/><line transform=\"translate(0,143)\" x2=\"-5\" y2=\"0\" stroke=\"#888\" stroke-width=\"1\" opacity=\"1\"/><line transform=\"translate(0,114)\" x2=\"-5\" y2=\"0\" stroke=\"#888\" stroke-width=\"1\" opacity=\"1\"/><line transform=\"translate(0,86)\" x2=\"-5\" y2=\"0\" stroke=\"#888\" stroke-width=\"1\" opacity=\"1\"/><line transform=\"translate(0,57)\" x2=\"-5\" y2=\"0\" stroke=\"#888\" stroke-width=\"1\" opacity=\"1\"/><line transform=\"translate(0,29)\" x2=\"-5\" y2=\"0\" stroke=\"#888\" stroke-width=\"1\" opacity=\"1\"/><line transform=\"translate(0,0)\" x2=\"-5\" y2=\"0\" stroke=\"#888\" stroke-width=\"1\" opacity=\"1\"/></g><g class=\"mark-text role-axis-label\" pointer-events=\"none\"><text text-anchor=\"end\" transform=\"translate(-7,203)\" font-family=\"sans-serif\" font-size=\"10px\" fill=\"#000\" opacity=\"1\">0</text><text text-anchor=\"end\" transform=\"translate(-7,174.42857142857144)\" font-family=\"sans-serif\" font-size=\"10px\" fill=\"#000\" opacity=\"1\">500</text><text text-anchor=\"end\" transform=\"translate(-7,145.85714285714286)\" font-family=\"sans-serif\" font-size=\"10px\" fill=\"#000\" opacity=\"1\">1,000</text><text text-anchor=\"end\" transform=\"translate(-7,117.28571428571428)\" font-family=\"sans-serif\" font-size=\"10px\" fill=\"#000\" opacity=\"1\">1,500</text><text text-anchor=\"end\" transform=\"translate(-7,88.71428571428572)\" font-family=\"sans-serif\" font-size=\"10px\" fill=\"#000\" opacity=\"1\">2,000</text><text text-anchor=\"end\" transform=\"translate(-7,60.14285714285714)\" font-family=\"sans-serif\" font-size=\"10px\" fill=\"#000\" opacity=\"1\">2,500</text><text text-anchor=\"end\" transform=\"translate(-7,31.57142857142858)\" font-family=\"sans-serif\" font-size=\"10px\" fill=\"#000\" opacity=\"1\">3,000</text><text text-anchor=\"end\" transform=\"translate(-7,3)\" font-family=\"sans-serif\" font-size=\"10px\" fill=\"#000\" opacity=\"1\">3,500</text></g><g class=\"mark-rule role-axis-domain\" pointer-events=\"none\"><line transform=\"translate(0,200)\" x2=\"0\" y2=\"-200\" stroke=\"#888\" stroke-width=\"1\" opacity=\"1\"/></g><g class=\"mark-text role-axis-title\" pointer-events=\"none\"><text text-anchor=\"middle\" transform=\"translate(-39.6279296875,100) rotate(-90) translate(0,-2)\" font-family=\"sans-serif\" font-size=\"11px\" font-weight=\"bold\" fill=\"#000\" opacity=\"1\">value_sum</text></g></g><path class=\"foreground\" aria-hidden=\"true\" d=\"\" pointer-events=\"none\" display=\"none\"/></g></g><g class=\"mark-group role-scope pathgroup\" role=\"graphics-object\" aria-roledescription=\"group mark container\"><g transform=\"translate(0,0)\"><path class=\"background\" aria-hidden=\"true\" d=\"M0,0h200v200h-200Z\"/><g><g class=\"mark-area role-mark marks\" role=\"graphics-object\" aria-roledescription=\"area mark container\"><path aria-label=\"hour: 0; value_sum: 21.4; resource: biomass\" role=\"graphics-symbol\" aria-roledescription=\"area mark\" d=\"M0,117.228L8.333,121.142L16.667,120.017L25,116.671L33.333,105.758L41.667,95.221L50,85.538L58.333,98.823L66.667,143.094L75,150.097L83.333,148.744L91.667,158.911L100,173.655L108.333,173.655L116.667,173.655L125,173.655L133.333,158.61L141.667,133.737L150,76.843L158.333,60.778L166.667,61.092L175,76.642L183.333,93.809L191.667,107.863L191.667,109.086L183.333,95.032L175,77.865L166.667,62.314L158.333,62.001L150,78.066L141.667,134.96L133.333,159.833L125,173.655L116.667,173.655L108.333,173.655L100,173.655L91.667,160.134L83.333,149.967L75,151.32L66.667,144.317L58.333,100.046L50,86.761L41.667,96.444L33.333,106.981L25,117.894L16.667,121.24L8.333,122.364L0,118.451Z\" fill=\"#9467bd\"/></g></g><path class=\"foreground\" aria-hidden=\"true\" d=\"\" display=\"none\"/></g><g transform=\"translate(0,0)\"><path class=\"background\" aria-hidden=\"true\" d=\"M0,0h200v200h-200Z\"/><g><g class=\"mark-area role-mark marks\" role=\"graphics-object\" aria-roledescription=\"area mark container\"><path aria-label=\"hour: 0; value_sum: 42; resource: hydroelectric_pumped_storage\" role=\"graphics-symbol\" aria-roledescription=\"area mark\" d=\"M0,118.451L8.333,122.364L16.667,121.24L25,117.894L33.333,106.981L41.667,96.444L50,86.761L58.333,100.046L66.667,144.317L75,151.32L83.333,149.967L91.667,160.134L100,173.655L108.333,173.655L116.667,173.655L125,173.655L133.333,159.833L141.667,134.96L150,78.066L158.333,62.001L166.667,62.314L175,77.865L183.333,95.032L191.667,109.086L191.667,111.486L183.333,97.432L175,80.265L166.667,64.714L158.333,64.401L150,80.466L141.667,137.36L133.333,162.233L125,173.655L116.667,173.655L108.333,173.655L100,173.655L91.667,162.534L83.333,152.367L75,153.72L66.667,146.717L58.333,102.446L50,89.161L41.667,98.844L33.333,109.381L25,120.294L16.667,123.64L8.333,124.764L0,120.851Z\" fill=\"#8c564b\"/></g></g><path class=\"foreground\" aria-hidden=\"true\" d=\"\" display=\"none\"/></g><g transform=\"translate(0,0)\"><path class=\"background\" aria-hidden=\"true\" d=\"M0,0h200v200h-200Z\"/><g><g class=\"mark-area role-mark marks\" role=\"graphics-object\" aria-roledescription=\"area mark container\"><path aria-label=\"hour: 0; value_sum: 1385.106268; resource: natural_gas_fired_combined_cycle\" role=\"graphics-symbol\" aria-roledescription=\"area mark\" d=\"M0,120.851L8.333,124.764L16.667,123.64L25,120.294L33.333,109.381L41.667,98.844L50,89.161L58.333,102.446L66.667,146.717L75,153.72L83.333,152.367L91.667,162.534L100,173.655L108.333,173.655L116.667,173.655L125,173.655L133.333,162.233L141.667,137.36L150,80.466L158.333,64.401L166.667,64.714L175,80.265L183.333,97.432L191.667,111.486L191.667,193.467L183.333,188.432L175,171.265L166.667,155.714L158.333,155.401L150,171.466L141.667,200L133.333,200L125,200L116.667,200L108.333,200L100,200L91.667,200L83.333,200L75,200L66.667,200L58.333,200L50,198.801L41.667,198.801L33.333,200L25,200L16.667,200L8.333,200L0,200Z\" fill=\"#e377c2\"/></g></g><path class=\"foreground\" aria-hidden=\"true\" d=\"\" display=\"none\"/></g><g transform=\"translate(0,0)\"><path class=\"background\" aria-hidden=\"true\" d=\"M0,0h200v200h-200Z\"/><g><g class=\"mark-area role-mark marks\" role=\"graphics-object\" aria-roledescription=\"area mark container\"><path aria-label=\"hour: 0; value_sum: 0; resource: natural_gas_fired_combustion_turbine\" role=\"graphics-symbol\" aria-roledescription=\"area mark\" d=\"M0,200L8.333,200L16.667,200L25,200L33.333,200L41.667,198.801L50,198.801L58.333,200L66.667,200L75,200L83.333,200L91.667,200L100,200L108.333,200L116.667,200L125,200L133.333,200L141.667,200L150,171.466L158.333,155.401L166.667,155.714L175,171.265L183.333,188.432L191.667,193.467L191.667,200L183.333,200L175,200L166.667,200L158.333,200L150,200L141.667,200L133.333,200L125,200L116.667,200L108.333,200L100,200L91.667,200L83.333,200L75,200L66.667,200L58.333,200L50,200L41.667,200L33.333,200L25,200L16.667,200L8.333,200L0,200Z\" fill=\"#7f7f7f\"/></g></g><path class=\"foreground\" aria-hidden=\"true\" d=\"\" display=\"none\"/></g><g transform=\"translate(0,0)\"><path class=\"background\" aria-hidden=\"true\" d=\"M0,0h200v200h-200Z\"/><g><g class=\"mark-area role-mark marks\" role=\"graphics-object\" aria-roledescription=\"area mark container\"><path aria-label=\"hour: 0; value_sum: 163.3088; resource: _onshore_wind_turbine\" role=\"graphics-symbol\" aria-roledescription=\"area mark\" d=\"M0,107.714L8.333,111.257L16.667,113.257L25,110.743L33.333,100.971L41.667,87.086L50,68.161L58.333,44.019L66.667,21.454L75,7.519L83.333,0.723L91.667,9.638L100,21.157L108.333,25.526L116.667,31.288L125,38.646L133.333,45.561L141.667,53.248L150,62.479L158.333,57.086L166.667,56.8L175,70.971L183.333,86.4L191.667,99.429L191.667,107.681L183.333,93.627L175,76.46L166.667,60.91L158.333,60.596L150,65.485L141.667,57.741L133.333,48.829L125,40.229L116.667,31.288L108.333,25.526L100,22.634L91.667,14.901L83.333,7.077L75,15.037L66.667,31.017L58.333,46.841L50,72.4L41.667,95.039L33.333,105.576L25,116.489L16.667,119.835L8.333,120.96L0,117.046Z\" fill=\"#1f77b4\"/></g></g><path class=\"foreground\" aria-hidden=\"true\" d=\"\" display=\"none\"/></g><g transform=\"translate(0,0)\"><path class=\"background\" aria-hidden=\"true\" d=\"M0,0h200v200h-200Z\"/><g><g class=\"mark-area role-mark marks\" role=\"graphics-object\" aria-roledescription=\"area mark container\"><path aria-label=\"hour: 0; value_sum: 3.184932; resource: _small_hydroelectric\" role=\"graphics-symbol\" aria-roledescription=\"area mark\" d=\"M0,117.046L8.333,120.96L16.667,119.835L25,116.489L33.333,105.576L41.667,95.039L50,72.4L58.333,46.841L66.667,31.017L75,15.037L83.333,7.077L91.667,14.901L100,22.634L108.333,25.526L116.667,31.288L125,40.229L133.333,48.829L141.667,57.741L150,65.485L158.333,60.596L166.667,60.91L175,76.46L183.333,93.627L191.667,107.681L191.667,107.863L183.333,93.809L175,76.642L166.667,61.092L158.333,60.778L150,65.667L141.667,57.923L133.333,49.011L125,40.229L116.667,31.288L108.333,25.526L100,22.634L91.667,15.083L83.333,7.259L75,15.219L66.667,31.199L58.333,47.023L50,72.582L41.667,95.221L33.333,105.758L25,116.671L16.667,120.017L8.333,121.142L0,117.228Z\" fill=\"#ff7f0e\"/></g></g><path class=\"foreground\" aria-hidden=\"true\" d=\"\" display=\"none\"/></g><g transform=\"translate(0,0)\"><path class=\"background\" aria-hidden=\"true\" d=\"M0,0h200v200h-200Z\"/><g><g class=\"mark-area role-mark marks\" role=\"graphics-object\" aria-roledescription=\"area mark container\"><path aria-label=\"hour: 0; value_sum: 0; resource: _solar_photovoltaic\" role=\"graphics-symbol\" aria-roledescription=\"area mark\" d=\"M0,117.228L8.333,121.142L16.667,120.017L25,116.671L33.333,105.758L41.667,95.221L50,72.582L58.333,47.023L66.667,31.199L75,15.219L83.333,7.259L91.667,15.083L100,22.634L108.333,25.526L116.667,31.288L125,40.229L133.333,49.011L141.667,57.923L150,65.667L158.333,60.778L166.667,61.092L175,76.642L183.333,93.809L191.667,107.863L191.667,107.863L183.333,93.809L175,76.642L166.667,61.092L158.333,60.778L150,75.207L141.667,122.643L133.333,142.571L125,154.129L116.667,152.257L108.333,151.523L100,151.554L91.667,137.863L83.333,128.039L75,130.359L66.667,126.719L58.333,91.243L50,83.642L41.667,95.221L33.333,105.758L25,116.671L16.667,120.017L8.333,121.142L0,117.228Z\" fill=\"#2ca02c\"/></g></g><path class=\"foreground\" aria-hidden=\"true\" d=\"\" display=\"none\"/></g><g transform=\"translate(0,0)\"><path class=\"background\" aria-hidden=\"true\" d=\"M0,0h200v200h-200Z\"/><g><g class=\"mark-area role-mark marks\" role=\"graphics-object\" aria-roledescription=\"area mark container\"><path aria-label=\"hour: 0; value_sum: 0; resource: _solar_photovoltaic_btm\" role=\"graphics-symbol\" aria-roledescription=\"area mark\" d=\"M0,117.228L8.333,121.142L16.667,120.017L25,116.671L33.333,105.758L41.667,95.221L50,83.642L58.333,91.243L66.667,126.719L75,130.359L83.333,128.039L91.667,137.863L100,151.554L108.333,151.523L116.667,152.257L125,154.129L133.333,142.571L141.667,122.643L150,75.207L158.333,60.778L166.667,61.092L175,76.642L183.333,93.809L191.667,107.863L191.667,107.863L183.333,93.809L175,76.642L166.667,61.092L158.333,60.778L150,76.843L141.667,133.737L133.333,158.61L125,173.655L116.667,173.655L108.333,173.655L100,173.655L91.667,158.911L83.333,148.744L75,150.097L66.667,143.094L58.333,98.823L50,85.538L41.667,95.221L33.333,105.758L25,116.671L16.667,120.017L8.333,121.142L0,117.228Z\" fill=\"#d62728\"/></g></g><path class=\"foreground\" aria-hidden=\"true\" d=\"\" display=\"none\"/></g></g><g class=\"mark-group role-legend\" role=\"graphics-symbol\" aria-roledescription=\"legend\" aria-label=\"Symbol legend titled 'resource' for fill color with 8 values: _onshore_wind_turbine, _small_hydroelectric, _solar_photovoltaic, _solar_photovoltaic_btm, biomass, ending with natural_gas_fired_combustion_turbine\"><g transform=\"translate(218,0)\"><path class=\"background\" aria-hidden=\"true\" d=\"M0,0h176v118h-176Z\" pointer-events=\"none\"/><g><g class=\"mark-group role-legend-entry\"><g transform=\"translate(0,16)\"><path class=\"background\" aria-hidden=\"true\" d=\"M0,0h0v0h0Z\" pointer-events=\"none\"/><g><g class=\"mark-group role-scope\" role=\"graphics-object\" aria-roledescription=\"group mark container\"><g transform=\"translate(0,0)\"><path class=\"background\" aria-hidden=\"true\" d=\"M0,0h175.5263671875v11h-175.5263671875Z\" pointer-events=\"none\" opacity=\"1\"/><g><g class=\"mark-symbol role-legend-symbol\" pointer-events=\"none\"><path transform=\"translate(6,6)\" d=\"M5,0A5,5,0,1,1,-5,0A5,5,0,1,1,5,0\" fill=\"#1f77b4\" stroke-width=\"1.5\" opacity=\"1\"/></g><g class=\"mark-text role-legend-label\" pointer-events=\"none\"><text text-anchor=\"start\" transform=\"translate(16,9)\" font-family=\"sans-serif\" font-size=\"10px\" fill=\"#000\" opacity=\"1\">_onshore_wind_turbine</text></g></g><path class=\"foreground\" aria-hidden=\"true\" d=\"\" pointer-events=\"none\" display=\"none\"/></g><g transform=\"translate(0,13)\"><path class=\"background\" aria-hidden=\"true\" d=\"M0,0h175.5263671875v11h-175.5263671875Z\" pointer-events=\"none\" opacity=\"1\"/><g><g class=\"mark-symbol role-legend-symbol\" pointer-events=\"none\"><path transform=\"translate(6,6)\" d=\"M5,0A5,5,0,1,1,-5,0A5,5,0,1,1,5,0\" fill=\"#ff7f0e\" stroke-width=\"1.5\" opacity=\"1\"/></g><g class=\"mark-text role-legend-label\" pointer-events=\"none\"><text text-anchor=\"start\" transform=\"translate(16,9)\" font-family=\"sans-serif\" font-size=\"10px\" fill=\"#000\" opacity=\"1\">_small_hydroelectric</text></g></g><path class=\"foreground\" aria-hidden=\"true\" d=\"\" pointer-events=\"none\" display=\"none\"/></g><g transform=\"translate(0,26)\"><path class=\"background\" aria-hidden=\"true\" d=\"M0,0h175.5263671875v11h-175.5263671875Z\" pointer-events=\"none\" opacity=\"1\"/><g><g class=\"mark-symbol role-legend-symbol\" pointer-events=\"none\"><path transform=\"translate(6,6)\" d=\"M5,0A5,5,0,1,1,-5,0A5,5,0,1,1,5,0\" fill=\"#2ca02c\" stroke-width=\"1.5\" opacity=\"1\"/></g><g class=\"mark-text role-legend-label\" pointer-events=\"none\"><text text-anchor=\"start\" transform=\"translate(16,9)\" font-family=\"sans-serif\" font-size=\"10px\" fill=\"#000\" opacity=\"1\">_solar_photovoltaic</text></g></g><path class=\"foreground\" aria-hidden=\"true\" d=\"\" pointer-events=\"none\" display=\"none\"/></g><g transform=\"translate(0,39)\"><path class=\"background\" aria-hidden=\"true\" d=\"M0,0h175.5263671875v11h-175.5263671875Z\" pointer-events=\"none\" opacity=\"1\"/><g><g class=\"mark-symbol role-legend-symbol\" pointer-events=\"none\"><path transform=\"translate(6,6)\" d=\"M5,0A5,5,0,1,1,-5,0A5,5,0,1,1,5,0\" fill=\"#d62728\" stroke-width=\"1.5\" opacity=\"1\"/></g><g class=\"mark-text role-legend-label\" pointer-events=\"none\"><text text-anchor=\"start\" transform=\"translate(16,9)\" font-family=\"sans-serif\" font-size=\"10px\" fill=\"#000\" opacity=\"1\">_solar_photovoltaic_btm</text></g></g><path class=\"foreground\" aria-hidden=\"true\" d=\"\" pointer-events=\"none\" display=\"none\"/></g><g transform=\"translate(0,52)\"><path class=\"background\" aria-hidden=\"true\" d=\"M0,0h175.5263671875v11h-175.5263671875Z\" pointer-events=\"none\" opacity=\"1\"/><g><g class=\"mark-symbol role-legend-symbol\" pointer-events=\"none\"><path transform=\"translate(6,6)\" d=\"M5,0A5,5,0,1,1,-5,0A5,5,0,1,1,5,0\" fill=\"#9467bd\" stroke-width=\"1.5\" opacity=\"1\"/></g><g class=\"mark-text role-legend-label\" pointer-events=\"none\"><text text-anchor=\"start\" transform=\"translate(16,9)\" font-family=\"sans-serif\" font-size=\"10px\" fill=\"#000\" opacity=\"1\">biomass</text></g></g><path class=\"foreground\" aria-hidden=\"true\" d=\"\" pointer-events=\"none\" display=\"none\"/></g><g transform=\"translate(0,65)\"><path class=\"background\" aria-hidden=\"true\" d=\"M0,0h175.5263671875v11h-175.5263671875Z\" pointer-events=\"none\" opacity=\"1\"/><g><g class=\"mark-symbol role-legend-symbol\" pointer-events=\"none\"><path transform=\"translate(6,6)\" d=\"M5,0A5,5,0,1,1,-5,0A5,5,0,1,1,5,0\" fill=\"#8c564b\" stroke-width=\"1.5\" opacity=\"1\"/></g><g class=\"mark-text role-legend-label\" pointer-events=\"none\"><text text-anchor=\"start\" transform=\"translate(16,9)\" font-family=\"sans-serif\" font-size=\"10px\" fill=\"#000\" opacity=\"1\">hydroelectric_pumped_storage</text></g></g><path class=\"foreground\" aria-hidden=\"true\" d=\"\" pointer-events=\"none\" display=\"none\"/></g><g transform=\"translate(0,78)\"><path class=\"background\" aria-hidden=\"true\" d=\"M0,0h175.5263671875v11h-175.5263671875Z\" pointer-events=\"none\" opacity=\"1\"/><g><g class=\"mark-symbol role-legend-symbol\" pointer-events=\"none\"><path transform=\"translate(6,6)\" d=\"M5,0A5,5,0,1,1,-5,0A5,5,0,1,1,5,0\" fill=\"#e377c2\" stroke-width=\"1.5\" opacity=\"1\"/></g><g class=\"mark-text role-legend-label\" pointer-events=\"none\"><text text-anchor=\"start\" transform=\"translate(16,9)\" font-family=\"sans-serif\" font-size=\"10px\" fill=\"#000\" opacity=\"1\">natural_gas_fired_combined_…</text></g></g><path class=\"foreground\" aria-hidden=\"true\" d=\"\" pointer-events=\"none\" display=\"none\"/></g><g transform=\"translate(0,91)\"><path class=\"background\" aria-hidden=\"true\" d=\"M0,0h175.5263671875v11h-175.5263671875Z\" pointer-events=\"none\" opacity=\"1\"/><g><g class=\"mark-symbol role-legend-symbol\" pointer-events=\"none\"><path transform=\"translate(6,6)\" d=\"M5,0A5,5,0,1,1,-5,0A5,5,0,1,1,5,0\" fill=\"#7f7f7f\" stroke-width=\"1.5\" opacity=\"1\"/></g><g class=\"mark-text role-legend-label\" pointer-events=\"none\"><text text-anchor=\"start\" transform=\"translate(16,9)\" font-family=\"sans-serif\" font-size=\"10px\" fill=\"#000\" opacity=\"1\">natural_gas_fired_combustion…</text></g></g><path class=\"foreground\" aria-hidden=\"true\" d=\"\" pointer-events=\"none\" display=\"none\"/></g></g></g><path class=\"foreground\" aria-hidden=\"true\" d=\"\" pointer-events=\"none\" display=\"none\"/></g></g><g class=\"mark-text role-legend-title\" pointer-events=\"none\"><text text-anchor=\"start\" transform=\"translate(0,9)\" font-family=\"sans-serif\" font-size=\"11px\" font-weight=\"bold\" fill=\"#000\" opacity=\"1\">resource</text></g></g><path class=\"foreground\" aria-hidden=\"true\" d=\"\" pointer-events=\"none\" display=\"none\"/></g></g></g><path class=\"foreground\" aria-hidden=\"true\" d=\"\" display=\"none\"/></g></g></g></svg>"
      ],
      "text/plain": [
       "@vlplot(\n",
       "    mark=\"area\",\n",
       "    encoding={\n",
       "        x={\n",
       "            field=\"hour\"\n",
       "        },\n",
       "        y={\n",
       "            stack=\"zero\",\n",
       "            field=\"value_sum\"\n",
       "        },\n",
       "        color={\n",
       "            scale={\n",
       "                scheme=\"category10\"\n",
       "            },\n",
       "            field=\"resource\",\n",
       "            type=\"nominal\"\n",
       "        }\n",
       "    },\n",
       "    data={\n",
       "        values=...\n",
       "    }\n",
       ")"
      ]
     },
     "metadata": {},
     "output_type": "display_data"
    }
   ],
   "source": [
    "solution = solve_unit_commitment(\n",
    "    gen_df_sens,\n",
    "    loads_multi,\n",
    "    gen_variable_multi,\n",
    "    0.01,\n",
    "    ramp_constraints = true)\n",
    "    sol_gen = innerjoin(solution.GEN, \n",
    "                    gen_df[!, [:r_id, :resource]], \n",
    "                    on = :r_id)\n",
    "sol_gen = combine(groupby(sol_gen, [:resource, :hour]), \n",
    "            :value => sum)\n",
    "\n",
    "# Rename generators (for plotting purposes)\n",
    "sol_gen[sol_gen.resource .== \"solar_photovoltaic\", :resource] .= \"_solar_photovoltaic\"\n",
    "sol_gen[sol_gen.resource .== \"onshore_wind_turbine\", :resource] .= \"_onshore_wind_turbine\"\n",
    "sol_gen[sol_gen.resource .== \"small_hydroelectric\", :resource] .= \"_small_hydroelectric\"\n",
    "\n",
    "# BTM solar\n",
    "btm = DataFrame(resource = repeat([\"_solar_photovoltaic_btm\"]; outer=length(T_period)), \n",
    "    hour = T_period,\n",
    "    value_sum = gen_variable_multi[gen_variable_multi.gen_full .== \"wec_sdge_solar_photovoltaic_1.0\",:cf] * 600)\n",
    "append!(sol_gen, btm)\n",
    "\n",
    "# Curtailment\n",
    "if haskey(solution, :curtail)\n",
    "    curtail = combine(groupby(solution.curtail, [:hour]),\n",
    "                :value => sum)\n",
    "    curtail[!, :resource] .= \"_curtailment\"\n",
    "    # rename!(curtail, :curt_sum => :value_sum)\n",
    "    append!(sol_gen, curtail[:,[:resource, :hour, :value_sum]])\n",
    "end\n",
    "\n",
    "# Rescale hours\n",
    "sol_gen.hour = sol_gen.hour .- T_period[1]\n",
    "\n",
    "sol_gen |>\n",
    "@vlplot(:area, \n",
    "    x=:hour, y={:value_sum, stack=:zero}, \n",
    "    color={\"resource:n\", scale={scheme=\"category10\"}})"
   ]
  },
  {
   "cell_type": "markdown",
   "metadata": {},
   "source": [
    "### Unit commitment ramp and reserve"
   ]
  },
  {
   "cell_type": "code",
   "execution_count": 5,
   "metadata": {},
   "outputs": [
    {
     "name": "stdout",
     "output_type": "stream",
     "text": [
      "Set parameter WLSAccessID\n",
      "Set parameter WLSSecret\n",
      "Set parameter LicenseID to value 2475843\n",
      "Academic license 2475843 - for non-commercial use only - registered to pa___@imperial.ac.uk\n",
      "Set parameter MIPGap to value 0.001\n",
      "Adding ramp constraints...\n",
      "Adding reserve constraints...\n"
     ]
    },
    {
     "name": "stdout",
     "output_type": "stream",
     "text": [
      "Set parameter MIPGap to value 0.001\n",
      "Gurobi Optimizer version 11.0.0 build v11.0.0rc2 (linux64 - \"Ubuntu 22.04.3 LTS\")\n",
      "\n",
      "CPU model: 11th Gen Intel(R) Core(TM) i7-11370H @ 3.30GHz, instruction set [SSE2|AVX|AVX2|AVX512]\n",
      "Thread count: 4 physical cores, 8 logical processors, using up to 8 threads\n",
      "\n",
      "Academic license 2475843 - for non-commercial use only - registered to pa___@imperial.ac.uk\n",
      "Optimize a model with 6692 rows, 3816 columns and 18576 nonzeros\n",
      "Model fingerprint: 0x0f714205\n",
      "Variable types: 2232 continuous, 1584 integer (1584 binary)\n",
      "Coefficient statistics:\n",
      "  Matrix range     [1e+00, 6e+02]\n",
      "  Objective range  [5e+00, 5e+04]\n",
      "  Bounds range     [0e+00, 0e+00]\n",
      "  RHS range        [1e+00, 4e+03]\n",
      "Presolve removed 4294 rows and 1076 columns\n",
      "Presolve time: 0.04s\n",
      "Presolved: 2398 rows, 2740 columns, 12012 nonzeros\n",
      "Variable types: 1200 continuous, 1540 integer (1540 binary)\n",
      "\n",
      "Root relaxation: objective 8.971854e+05, 1079 iterations, 0.02 seconds (0.02 work units)\n",
      "\n",
      "    Nodes    |    Current Node    |     Objective Bounds      |     Work\n",
      " Expl Unexpl |  Obj  Depth IntInf | Incumbent    BestBd   Gap | It/Node Time\n",
      "\n",
      "     0     0 897185.424    0   50          - 897185.424      -     -    0s\n",
      "H    0     0                    905347.20798 897185.424  0.90%     -    0s\n",
      "H    0     0                    901714.97478 897185.424  0.50%     -    0s\n",
      "     0     0 899349.674    0   46 901714.975 899349.674  0.26%     -    0s\n",
      "     0     0 899541.222    0   65 901714.975 899541.222  0.24%     -    0s\n",
      "     0     0 899561.961    0   62 901714.975 899561.961  0.24%     -    0s\n",
      "     0     0 900652.015    0   65 901714.975 900652.015  0.12%     -    0s\n",
      "     0     0 900652.015    0   18 901714.975 900652.015  0.12%     -    0s\n",
      "     0     0 900652.015    0   25 901714.975 900652.015  0.12%     -    0s\n",
      "     0     0 900779.718    0   19 901714.975 900779.718  0.10%     -    0s\n",
      "     0     0          -    0      901714.975 900828.835  0.10%     -    0s\n",
      "\n",
      "Cutting planes:\n",
      "  Gomory: 13\n",
      "  MIR: 9\n",
      "  Flow cover: 5\n",
      "\n",
      "Explored 1 nodes (1810 simplex iterations) in 0.28 seconds (0.16 work units)\n",
      "Thread count was 8 (of 8 available processors)\n",
      "\n",
      "Solution count 2: 901715 905347 \n",
      "\n",
      "Optimal solution found (tolerance 1.00e-03)\n",
      "Best objective 9.017149747764e+05, best bound 9.008288354573e+05, gap 0.0983%\n",
      "\n",
      "User-callback calls 566, time in user-callback 0.00 sec\n"
     ]
    },
    {
     "data": {
      "application/vnd.vegalite.v5+json": {
       "data": {
        "values": [
         {
          "hour": 0,
          "resource": "biomass",
          "value_sum": 21.4
         },
         {
          "hour": 0,
          "resource": "hydroelectric_pumped_storage",
          "value_sum": 42
         },
         {
          "hour": 0,
          "resource": "natural_gas_fired_combined_cycle",
          "value_sum": 1231.614768
         },
         {
          "hour": 0,
          "resource": "natural_gas_fired_combustion_turbine",
          "value_sum": 153.4915
         },
         {
          "hour": 0,
          "resource": "_onshore_wind_turbine",
          "value_sum": 163.3088
         },
         {
          "hour": 0,
          "resource": "_small_hydroelectric",
          "value_sum": 3.184932
         },
         {
          "hour": 0,
          "resource": "_solar_photovoltaic",
          "value_sum": 0
         },
         {
          "hour": 1,
          "resource": "biomass",
          "value_sum": 21.4
         },
         {
          "hour": 1,
          "resource": "hydroelectric_pumped_storage",
          "value_sum": 42
         },
         {
          "hour": 1,
          "resource": "natural_gas_fired_combined_cycle",
          "value_sum": 1163.1302879999998
         },
         {
          "hour": 1,
          "resource": "natural_gas_fired_combustion_turbine",
          "value_sum": 153.4915
         },
         {
          "hour": 1,
          "resource": "_onshore_wind_turbine",
          "value_sum": 169.79327999999998
         },
         {
          "hour": 1,
          "resource": "_small_hydroelectric",
          "value_sum": 3.184932
         },
         {
          "hour": 1,
          "resource": "_solar_photovoltaic",
          "value_sum": 0
         },
         {
          "hour": 2,
          "resource": "biomass",
          "value_sum": 21.4
         },
         {
          "hour": 2,
          "resource": "hydroelectric_pumped_storage",
          "value_sum": 42
         },
         {
          "hour": 2,
          "resource": "natural_gas_fired_combined_cycle",
          "value_sum": 1182.813168
         },
         {
          "hour": 2,
          "resource": "natural_gas_fired_combustion_turbine",
          "value_sum": 153.4915
         },
         {
          "hour": 2,
          "resource": "_onshore_wind_turbine",
          "value_sum": 115.1104
         },
         {
          "hour": 2,
          "resource": "_small_hydroelectric",
          "value_sum": 3.184932
         },
         {
          "hour": 2,
          "resource": "_solar_photovoltaic",
          "value_sum": 0
         },
         {
          "hour": 3,
          "resource": "biomass",
          "value_sum": 21.4
         },
         {
          "hour": 3,
          "resource": "hydroelectric_pumped_storage",
          "value_sum": 42
         },
         {
          "hour": 3,
          "resource": "natural_gas_fired_combined_cycle",
          "value_sum": 1241.3706079999997
         },
         {
          "hour": 3,
          "resource": "natural_gas_fired_combustion_turbine",
          "value_sum": 153.4915
         },
         {
          "hour": 3,
          "resource": "_onshore_wind_turbine",
          "value_sum": 100.55296
         },
         {
          "hour": 3,
          "resource": "_small_hydroelectric",
          "value_sum": 3.184931999999989
         },
         {
          "hour": 3,
          "resource": "_solar_photovoltaic",
          "value_sum": 0
         },
         {
          "hour": 4,
          "resource": "biomass",
          "value_sum": 21.4
         },
         {
          "hour": 4,
          "resource": "hydroelectric_pumped_storage",
          "value_sum": 42
         },
         {
          "hour": 4,
          "resource": "natural_gas_fired_combined_cycle",
          "value_sum": 1432.3462879999997
         },
         {
          "hour": 4,
          "resource": "natural_gas_fired_combustion_turbine",
          "value_sum": 153.4915
         },
         {
          "hour": 4,
          "resource": "_onshore_wind_turbine",
          "value_sum": 80.57728
         },
         {
          "hour": 4,
          "resource": "_small_hydroelectric",
          "value_sum": 3.184932
         },
         {
          "hour": 4,
          "resource": "_solar_photovoltaic",
          "value_sum": 0
         },
         {
          "hour": 5,
          "resource": "biomass",
          "value_sum": 21.4
         },
         {
          "hour": 5,
          "resource": "hydroelectric_pumped_storage",
          "value_sum": 42
         },
         {
          "hour": 5,
          "resource": "natural_gas_fired_combined_cycle",
          "value_sum": 1616.746608
         },
         {
          "hour": 5,
          "resource": "natural_gas_fired_combustion_turbine",
          "value_sum": 153.4915
         },
         {
          "hour": 5,
          "resource": "_onshore_wind_turbine",
          "value_sum": 139.17695999999998
         },
         {
          "hour": 5,
          "resource": "_small_hydroelectric",
          "value_sum": 3.184932
         },
         {
          "hour": 5,
          "resource": "_solar_photovoltaic",
          "value_sum": 0
         },
         {
          "hour": 6,
          "resource": "biomass",
          "value_sum": 21.4
         },
         {
          "hour": 6,
          "resource": "hydroelectric_pumped_storage",
          "value_sum": 42
         },
         {
          "hour": 6,
          "resource": "natural_gas_fired_combined_cycle",
          "value_sum": 1786.1937279999997
         },
         {
          "hour": 6,
          "resource": "natural_gas_fired_combustion_turbine",
          "value_sum": 153.4915
         },
         {
          "hour": 6,
          "resource": "_onshore_wind_turbine",
          "value_sum": 74.17984
         },
         {
          "hour": 6,
          "resource": "_small_hydroelectric",
          "value_sum": 3.184932
         },
         {
          "hour": 6,
          "resource": "_solar_photovoltaic",
          "value_sum": 193.55
         },
         {
          "hour": 7,
          "resource": "biomass",
          "value_sum": 21.4
         },
         {
          "hour": 7,
          "resource": "hydroelectric_pumped_storage",
          "value_sum": 42
         },
         {
          "hour": 7,
          "resource": "natural_gas_fired_combined_cycle",
          "value_sum": 1621.458128
         },
         {
          "hour": 7,
          "resource": "natural_gas_fired_combustion_turbine",
          "value_sum": 85.7335
         },
         {
          "hour": 7,
          "resource": "_onshore_wind_turbine",
          "value_sum": 49.373439999999995
         },
         {
          "hour": 7,
          "resource": "_small_hydroelectric",
          "value_sum": 3.184931999999968
         },
         {
          "hour": 7,
          "resource": "_solar_photovoltaic",
          "value_sum": 773.85
         },
         {
          "hour": 8,
          "resource": "biomass",
          "value_sum": 21.4
         },
         {
          "hour": 8,
          "resource": "hydroelectric_pumped_storage",
          "value_sum": 42
         },
         {
          "hour": 8,
          "resource": "natural_gas_fired_combined_cycle",
          "value_sum": 879.1314079999999
         },
         {
          "hour": 8,
          "resource": "natural_gas_fired_combustion_turbine",
          "value_sum": 53.3275
         },
         {
          "hour": 8,
          "resource": "_onshore_wind_turbine",
          "value_sum": 167.35616
         },
         {
          "hour": 8,
          "resource": "_small_hydroelectric",
          "value_sum": 3.1849319999998897
         },
         {
          "hour": 8,
          "resource": "_solar_photovoltaic",
          "value_sum": 1671.6
         },
         {
          "hour": 9,
          "resource": "biomass",
          "value_sum": 21.4
         },
         {
          "hour": 9,
          "resource": "hydroelectric_pumped_storage",
          "value_sum": 42
         },
         {
          "hour": 9,
          "resource": "natural_gas_fired_combined_cycle",
          "value_sum": 788.8844079999997
         },
         {
          "hour": 9,
          "resource": "natural_gas_fired_combustion_turbine",
          "value_sum": 21.0197
         },
         {
          "hour": 9,
          "resource": "_onshore_wind_turbine",
          "value_sum": 131.56096
         },
         {
          "hour": 9,
          "resource": "_small_hydroelectric",
          "value_sum": 3.184932
         },
         {
          "hour": 9,
          "resource": "_solar_photovoltaic",
          "value_sum": 2014.95
         },
         {
          "hour": 10,
          "resource": "biomass",
          "value_sum": 21.4
         },
         {
          "hour": 10,
          "resource": "hydroelectric_pumped_storage",
          "value_sum": 42
         },
         {
          "hour": 10,
          "resource": "natural_gas_fired_combined_cycle",
          "value_sum": 812.5517679999996
         },
         {
          "hour": 10,
          "resource": "natural_gas_fired_combustion_turbine",
          "value_sum": 21.0197
         },
         {
          "hour": 10,
          "resource": "_onshore_wind_turbine",
          "value_sum": 111.1936
         },
         {
          "hour": 10,
          "resource": "_small_hydroelectric",
          "value_sum": 3.184932
         },
         {
          "hour": 10,
          "resource": "_solar_photovoltaic",
          "value_sum": 2113.65
         },
         {
          "hour": 11,
          "resource": "biomass",
          "value_sum": 21.4
         },
         {
          "hour": 11,
          "resource": "hydroelectric_pumped_storage",
          "value_sum": 42
         },
         {
          "hour": 11,
          "resource": "natural_gas_fired_combined_cycle",
          "value_sum": 655.6549879999998
         },
         {
          "hour": 11,
          "resource": "natural_gas_fired_combustion_turbine",
          "value_sum": 0
         },
         {
          "hour": 11,
          "resource": "_onshore_wind_turbine",
          "value_sum": 92.11008
         },
         {
          "hour": 11,
          "resource": "_small_hydroelectric",
          "value_sum": 3.184932
         },
         {
          "hour": 11,
          "resource": "_solar_photovoltaic",
          "value_sum": 2148.65
         },
         {
          "hour": 12,
          "resource": "biomass",
          "value_sum": 0
         },
         {
          "hour": 12,
          "resource": "hydroelectric_pumped_storage",
          "value_sum": 0
         },
         {
          "hour": 12,
          "resource": "natural_gas_fired_combined_cycle",
          "value_sum": 598.1902
         },
         {
          "hour": 12,
          "resource": "natural_gas_fired_combustion_turbine",
          "value_sum": 0
         },
         {
          "hour": 12,
          "resource": "_onshore_wind_turbine",
          "value_sum": 0
         },
         {
          "hour": 12,
          "resource": "_small_hydroelectric",
          "value_sum": 0
         },
         {
          "hour": 12,
          "resource": "_solar_photovoltaic",
          "value_sum": 2144.8098
         },
         {
          "hour": 13,
          "resource": "biomass",
          "value_sum": 0
         },
         {
          "hour": 13,
          "resource": "hydroelectric_pumped_storage",
          "value_sum": 0
         },
         {
          "hour": 13,
          "resource": "natural_gas_fired_combined_cycle",
          "value_sum": 594.3402
         },
         {
          "hour": 13,
          "resource": "natural_gas_fired_combustion_turbine",
          "value_sum": 0
         },
         {
          "hour": 13,
          "resource": "_onshore_wind_turbine",
          "value_sum": 0
         },
         {
          "hour": 13,
          "resource": "_small_hydroelectric",
          "value_sum": 0
         },
         {
          "hour": 13,
          "resource": "_solar_photovoltaic",
          "value_sum": 2071.6598
         },
         {
          "hour": 14,
          "resource": "biomass",
          "value_sum": 0
         },
         {
          "hour": 14,
          "resource": "hydroelectric_pumped_storage",
          "value_sum": 0
         },
         {
          "hour": 14,
          "resource": "natural_gas_fired_combined_cycle",
          "value_sum": 589.9402
         },
         {
          "hour": 14,
          "resource": "natural_gas_fired_combustion_turbine",
          "value_sum": 0
         },
         {
          "hour": 14,
          "resource": "_onshore_wind_turbine",
          "value_sum": 0
         },
         {
          "hour": 14,
          "resource": "_small_hydroelectric",
          "value_sum": 0
         },
         {
          "hour": 14,
          "resource": "_solar_photovoltaic",
          "value_sum": 1988.0598
         },
         {
          "hour": 15,
          "resource": "biomass",
          "value_sum": 0
         },
         {
          "hour": 15,
          "resource": "hydroelectric_pumped_storage",
          "value_sum": 0
         },
         {
          "hour": 15,
          "resource": "natural_gas_fired_combined_cycle",
          "value_sum": 585.1401999999999
         },
         {
          "hour": 15,
          "resource": "natural_gas_fired_combustion_turbine",
          "value_sum": 0
         },
         {
          "hour": 15,
          "resource": "_onshore_wind_turbine",
          "value_sum": 0
         },
         {
          "hour": 15,
          "resource": "_small_hydroelectric",
          "value_sum": 0
         },
         {
          "hour": 15,
          "resource": "_solar_photovoltaic",
          "value_sum": 1896.8598000000004
         },
         {
          "hour": 16,
          "resource": "biomass",
          "value_sum": 21.4
         },
         {
          "hour": 16,
          "resource": "hydroelectric_pumped_storage",
          "value_sum": 42
         },
         {
          "hour": 16,
          "resource": "natural_gas_fired_combined_cycle",
          "value_sum": 660.9297879999999
         },
         {
          "hour": 16,
          "resource": "natural_gas_fired_combustion_turbine",
          "value_sum": 0
         },
         {
          "hour": 16,
          "resource": "_onshore_wind_turbine",
          "value_sum": 57.18527999999999
         },
         {
          "hour": 16,
          "resource": "_small_hydroelectric",
          "value_sum": 3.184932
         },
         {
          "hour": 16,
          "resource": "_solar_photovoltaic",
          "value_sum": 1637.3
         },
         {
          "hour": 17,
          "resource": "biomass",
          "value_sum": 21.4
         },
         {
          "hour": 17,
          "resource": "hydroelectric_pumped_storage",
          "value_sum": 42
         },
         {
          "hour": 17,
          "resource": "natural_gas_fired_combined_cycle",
          "value_sum": 1096.1961880000003
         },
         {
          "hour": 17,
          "resource": "natural_gas_fired_combustion_turbine",
          "value_sum": 0
         },
         {
          "hour": 17,
          "resource": "_onshore_wind_turbine",
          "value_sum": 78.61888
         },
         {
          "hour": 17,
          "resource": "_small_hydroelectric",
          "value_sum": 3.184932
         },
         {
          "hour": 17,
          "resource": "_solar_photovoltaic",
          "value_sum": 1132.6
         },
         {
          "hour": 18,
          "resource": "biomass",
          "value_sum": 21.4
         },
         {
          "hour": 18,
          "resource": "hydroelectric_pumped_storage",
          "value_sum": 42
         },
         {
          "hour": 18,
          "resource": "natural_gas_fired_combined_cycle",
          "value_sum": 1592.5
         },
         {
          "hour": 18,
          "resource": "natural_gas_fired_combustion_turbine",
          "value_sum": 499.3493880000002
         },
         {
          "hour": 18,
          "resource": "_onshore_wind_turbine",
          "value_sum": 52.61568
         },
         {
          "hour": 18,
          "resource": "_small_hydroelectric",
          "value_sum": 3.184932
         },
         {
          "hour": 18,
          "resource": "_solar_photovoltaic",
          "value_sum": 166.95
         },
         {
          "hour": 19,
          "resource": "biomass",
          "value_sum": 21.4
         },
         {
          "hour": 19,
          "resource": "hydroelectric_pumped_storage",
          "value_sum": 42
         },
         {
          "hour": 19,
          "resource": "natural_gas_fired_combined_cycle",
          "value_sum": 1592.5
         },
         {
          "hour": 19,
          "resource": "natural_gas_fired_combustion_turbine",
          "value_sum": 780.4865879999995
         },
         {
          "hour": 19,
          "resource": "_onshore_wind_turbine",
          "value_sum": 61.42848
         },
         {
          "hour": 19,
          "resource": "_small_hydroelectric",
          "value_sum": 3.1849320000000105
         },
         {
          "hour": 19,
          "resource": "_solar_photovoltaic",
          "value_sum": 0
         },
         {
          "hour": 20,
          "resource": "biomass",
          "value_sum": 21.4
         },
         {
          "hour": 20,
          "resource": "hydroelectric_pumped_storage",
          "value_sum": 42
         },
         {
          "hour": 20,
          "resource": "natural_gas_fired_combined_cycle",
          "value_sum": 1592.5
         },
         {
          "hour": 20,
          "resource": "natural_gas_fired_combustion_turbine",
          "value_sum": 774.998268
         },
         {
          "hour": 20,
          "resource": "_onshore_wind_turbine",
          "value_sum": 71.9168
         },
         {
          "hour": 20,
          "resource": "_small_hydroelectric",
          "value_sum": 3.184932
         },
         {
          "hour": 20,
          "resource": "_solar_photovoltaic",
          "value_sum": 0
         },
         {
          "hour": 21,
          "resource": "biomass",
          "value_sum": 21.4
         },
         {
          "hour": 21,
          "resource": "hydroelectric_pumped_storage",
          "value_sum": 42
         },
         {
          "hour": 21,
          "resource": "natural_gas_fired_combined_cycle",
          "value_sum": 1592.5
         },
         {
          "hour": 21,
          "resource": "natural_gas_fired_combustion_turbine",
          "value_sum": 502.8664279999999
         },
         {
          "hour": 21,
          "resource": "_onshore_wind_turbine",
          "value_sum": 96.04864
         },
         {
          "hour": 21,
          "resource": "_small_hydroelectric",
          "value_sum": 3.184932
         },
         {
          "hour": 21,
          "resource": "_solar_photovoltaic",
          "value_sum": 0
         },
         {
          "hour": 22,
          "resource": "biomass",
          "value_sum": 21.4
         },
         {
          "hour": 22,
          "resource": "hydroelectric_pumped_storage",
          "value_sum": 42
         },
         {
          "hour": 22,
          "resource": "natural_gas_fired_combined_cycle",
          "value_sum": 1566.486848
         },
         {
          "hour": 22,
          "resource": "natural_gas_fired_combustion_turbine",
          "value_sum": 228.4591
         },
         {
          "hour": 22,
          "resource": "_onshore_wind_turbine",
          "value_sum": 126.46912
         },
         {
          "hour": 22,
          "resource": "_small_hydroelectric",
          "value_sum": 3.184932
         },
         {
          "hour": 22,
          "resource": "_solar_photovoltaic",
          "value_sum": 0
         },
         {
          "hour": 23,
          "resource": "biomass",
          "value_sum": 21.4
         },
         {
          "hour": 23,
          "resource": "hydroelectric_pumped_storage",
          "value_sum": 42
         },
         {
          "hour": 23,
          "resource": "natural_gas_fired_combined_cycle",
          "value_sum": 1416.5221479999998
         },
         {
          "hour": 23,
          "resource": "natural_gas_fired_combustion_turbine",
          "value_sum": 132.4718
         },
         {
          "hour": 23,
          "resource": "_onshore_wind_turbine",
          "value_sum": 144.42111999999997
         },
         {
          "hour": 23,
          "resource": "_small_hydroelectric",
          "value_sum": 3.184932
         },
         {
          "hour": 23,
          "resource": "_solar_photovoltaic",
          "value_sum": 0
         },
         {
          "hour": 0,
          "resource": "_solar_photovoltaic_btm",
          "value_sum": 0
         },
         {
          "hour": 1,
          "resource": "_solar_photovoltaic_btm",
          "value_sum": 0
         },
         {
          "hour": 2,
          "resource": "_solar_photovoltaic_btm",
          "value_sum": 0
         },
         {
          "hour": 3,
          "resource": "_solar_photovoltaic_btm",
          "value_sum": 0
         },
         {
          "hour": 4,
          "resource": "_solar_photovoltaic_btm",
          "value_sum": 0
         },
         {
          "hour": 5,
          "resource": "_solar_photovoltaic_btm",
          "value_sum": 0
         },
         {
          "hour": 6,
          "resource": "_solar_photovoltaic_btm",
          "value_sum": 33.18
         },
         {
          "hour": 7,
          "resource": "_solar_photovoltaic_btm",
          "value_sum": 132.66
         },
         {
          "hour": 8,
          "resource": "_solar_photovoltaic_btm",
          "value_sum": 286.56
         },
         {
          "hour": 9,
          "resource": "_solar_photovoltaic_btm",
          "value_sum": 345.42
         },
         {
          "hour": 10,
          "resource": "_solar_photovoltaic_btm",
          "value_sum": 362.34
         },
         {
          "hour": 11,
          "resource": "_solar_photovoltaic_btm",
          "value_sum": 368.34
         },
         {
          "hour": 12,
          "resource": "_solar_photovoltaic_btm",
          "value_sum": 386.76
         },
         {
          "hour": 13,
          "resource": "_solar_photovoltaic_btm",
          "value_sum": 387.29999999999995
         },
         {
          "hour": 14,
          "resource": "_solar_photovoltaic_btm",
          "value_sum": 374.46
         },
         {
          "hour": 15,
          "resource": "_solar_photovoltaic_btm",
          "value_sum": 341.7
         },
         {
          "hour": 16,
          "resource": "_solar_photovoltaic_btm",
          "value_sum": 280.68
         },
         {
          "hour": 17,
          "resource": "_solar_photovoltaic_btm",
          "value_sum": 194.16
         },
         {
          "hour": 18,
          "resource": "_solar_photovoltaic_btm",
          "value_sum": 28.62
         },
         {
          "hour": 19,
          "resource": "_solar_photovoltaic_btm",
          "value_sum": 0
         },
         {
          "hour": 20,
          "resource": "_solar_photovoltaic_btm",
          "value_sum": 0
         },
         {
          "hour": 21,
          "resource": "_solar_photovoltaic_btm",
          "value_sum": 0
         },
         {
          "hour": 22,
          "resource": "_solar_photovoltaic_btm",
          "value_sum": 0
         },
         {
          "hour": 23,
          "resource": "_solar_photovoltaic_btm",
          "value_sum": 0
         }
        ]
       },
       "encoding": {
        "color": {
         "field": "resource",
         "scale": {
          "scheme": "category10"
         },
         "type": "nominal"
        },
        "x": {
         "field": "hour",
         "type": "quantitative"
        },
        "y": {
         "field": "value_sum",
         "stack": "zero",
         "type": "quantitative"
        }
       },
       "mark": "area"
      },
      "image/png": "[encoded data removed]",
      "image/svg+xml": [
       "<svg xmlns=\"http://www.w3.org/2000/svg\" xmlns:xlink=\"http://www.w3.org/1999/xlink\" version=\"1.1\" class=\"marks\" width=\"455\" height=\"247\" viewBox=\"0 0 455 247\"><rect width=\"455\" height=\"247\" fill=\"white\"/><g fill=\"none\" stroke-miterlimit=\"10\" transform=\"translate(56,10)\"><g class=\"mark-group role-frame root\" role=\"graphics-object\" aria-roledescription=\"group mark container\"><g transform=\"translate(0,0)\"><path class=\"background\" aria-hidden=\"true\" d=\"M0.5,0.5h200v200h-200Z\" stroke=\"#ddd\"/><g><g class=\"mark-group role-axis\" aria-hidden=\"true\"><g transform=\"translate(0.5,200.5)\"><path class=\"background\" aria-hidden=\"true\" d=\"M0,0h0v0h0Z\" pointer-events=\"none\"/><g><g class=\"mark-rule role-axis-grid\" pointer-events=\"none\"><line transform=\"translate(0,-200)\" x2=\"0\" y2=\"200\" stroke=\"#ddd\" stroke-width=\"1\" opacity=\"1\"/><line transform=\"translate(42,-200)\" x2=\"0\" y2=\"200\" stroke=\"#ddd\" stroke-width=\"1\" opacity=\"1\"/><line transform=\"translate(83,-200)\" x2=\"0\" y2=\"200\" stroke=\"#ddd\" stroke-width=\"1\" opacity=\"1\"/><line transform=\"translate(125,-200)\" x2=\"0\" y2=\"200\" stroke=\"#ddd\" stroke-width=\"1\" opacity=\"1\"/><line transform=\"translate(167,-200)\" x2=\"0\" y2=\"200\" stroke=\"#ddd\" stroke-width=\"1\" opacity=\"1\"/></g></g><path class=\"foreground\" aria-hidden=\"true\" d=\"\" pointer-events=\"none\" display=\"none\"/></g></g><g class=\"mark-group role-axis\" aria-hidden=\"true\"><g transform=\"translate(0.5,0.5)\"><path class=\"background\" aria-hidden=\"true\" d=\"M0,0h0v0h0Z\" pointer-events=\"none\"/><g><g class=\"mark-rule role-axis-grid\" pointer-events=\"none\"><line transform=\"translate(0,200)\" x2=\"200\" y2=\"0\" stroke=\"#ddd\" stroke-width=\"1\" opacity=\"1\"/><line transform=\"translate(0,171)\" x2=\"200\" y2=\"0\" stroke=\"#ddd\" stroke-width=\"1\" opacity=\"1\"/><line transform=\"translate(0,143)\" x2=\"200\" y2=\"0\" stroke=\"#ddd\" stroke-width=\"1\" opacity=\"1\"/><line transform=\"translate(0,114)\" x2=\"200\" y2=\"0\" stroke=\"#ddd\" stroke-width=\"1\" opacity=\"1\"/><line transform=\"translate(0,86)\" x2=\"200\" y2=\"0\" stroke=\"#ddd\" stroke-width=\"1\" opacity=\"1\"/><line transform=\"translate(0,57)\" x2=\"200\" y2=\"0\" stroke=\"#ddd\" stroke-width=\"1\" opacity=\"1\"/><line transform=\"translate(0,29)\" x2=\"200\" y2=\"0\" stroke=\"#ddd\" stroke-width=\"1\" opacity=\"1\"/><line transform=\"translate(0,0)\" x2=\"200\" y2=\"0\" stroke=\"#ddd\" stroke-width=\"1\" opacity=\"1\"/></g></g><path class=\"foreground\" aria-hidden=\"true\" d=\"\" pointer-events=\"none\" display=\"none\"/></g></g><g class=\"mark-group role-axis\" role=\"graphics-symbol\" aria-roledescription=\"axis\" aria-label=\"X-axis titled 'hour' for a linear scale with values from 0 to 24\"><g transform=\"translate(0.5,200.5)\"><path class=\"background\" aria-hidden=\"true\" d=\"M0,0h0v0h0Z\" pointer-events=\"none\"/><g><g class=\"mark-rule role-axis-tick\" pointer-events=\"none\"><line transform=\"translate(0,0)\" x2=\"0\" y2=\"5\" stroke=\"#888\" stroke-width=\"1\" opacity=\"1\"/><line transform=\"translate(42,0)\" x2=\"0\" y2=\"5\" stroke=\"#888\" stroke-width=\"1\" opacity=\"1\"/><line transform=\"translate(83,0)\" x2=\"0\" y2=\"5\" stroke=\"#888\" stroke-width=\"1\" opacity=\"1\"/><line transform=\"translate(125,0)\" x2=\"0\" y2=\"5\" stroke=\"#888\" stroke-width=\"1\" opacity=\"1\"/><line transform=\"translate(167,0)\" x2=\"0\" y2=\"5\" stroke=\"#888\" stroke-width=\"1\" opacity=\"1\"/></g><g class=\"mark-text role-axis-label\" pointer-events=\"none\"><text text-anchor=\"start\" transform=\"translate(0,15)\" font-family=\"sans-serif\" font-size=\"10px\" fill=\"#000\" opacity=\"1\">0</text><text text-anchor=\"middle\" transform=\"translate(41.66666666666667,15)\" font-family=\"sans-serif\" font-size=\"10px\" fill=\"#000\" opacity=\"1\">5</text><text text-anchor=\"middle\" transform=\"translate(83.33333333333334,15)\" font-family=\"sans-serif\" font-size=\"10px\" fill=\"#000\" opacity=\"1\">10</text><text text-anchor=\"middle\" transform=\"translate(125,15)\" font-family=\"sans-serif\" font-size=\"10px\" fill=\"#000\" opacity=\"1\">15</text><text text-anchor=\"middle\" transform=\"translate(166.66666666666669,15)\" font-family=\"sans-serif\" font-size=\"10px\" fill=\"#000\" opacity=\"1\">20</text></g><g class=\"mark-rule role-axis-domain\" pointer-events=\"none\"><line transform=\"translate(0,0)\" x2=\"200\" y2=\"0\" stroke=\"#888\" stroke-width=\"1\" opacity=\"1\"/></g><g class=\"mark-text role-axis-title\" pointer-events=\"none\"><text text-anchor=\"middle\" transform=\"translate(100,30)\" font-family=\"sans-serif\" font-size=\"11px\" font-weight=\"bold\" fill=\"#000\" opacity=\"1\">hour</text></g></g><path class=\"foreground\" aria-hidden=\"true\" d=\"\" pointer-events=\"none\" display=\"none\"/></g></g><g class=\"mark-group role-axis\" role=\"graphics-symbol\" aria-roledescription=\"axis\" aria-label=\"Y-axis titled 'value_sum' for a linear scale with values from 0 to 3,500\"><g transform=\"translate(0.5,0.5)\"><path class=\"background\" aria-hidden=\"true\" d=\"M0,0h0v0h0Z\" pointer-events=\"none\"/><g><g class=\"mark-rule role-axis-tick\" pointer-events=\"none\"><line transform=\"translate(0,200)\" x2=\"-5\" y2=\"0\" stroke=\"#888\" stroke-width=\"1\" opacity=\"1\"/><line transform=\"translate(0,171)\" x2=\"-5\" y2=\"0\" stroke=\"#888\" stroke-width=\"1\" opacity=\"1\"/><line transform=\"translate(0,143)\" x2=\"-5\" y2=\"0\" stroke=\"#888\" stroke-width=\"1\" opacity=\"1\"/><line transform=\"translate(0,114)\" x2=\"-5\" y2=\"0\" stroke=\"#888\" stroke-width=\"1\" opacity=\"1\"/><line transform=\"translate(0,86)\" x2=\"-5\" y2=\"0\" stroke=\"#888\" stroke-width=\"1\" opacity=\"1\"/><line transform=\"translate(0,57)\" x2=\"-5\" y2=\"0\" stroke=\"#888\" stroke-width=\"1\" opacity=\"1\"/><line transform=\"translate(0,29)\" x2=\"-5\" y2=\"0\" stroke=\"#888\" stroke-width=\"1\" opacity=\"1\"/><line transform=\"translate(0,0)\" x2=\"-5\" y2=\"0\" stroke=\"#888\" stroke-width=\"1\" opacity=\"1\"/></g><g class=\"mark-text role-axis-label\" pointer-events=\"none\"><text text-anchor=\"end\" transform=\"translate(-7,203)\" font-family=\"sans-serif\" font-size=\"10px\" fill=\"#000\" opacity=\"1\">0</text><text text-anchor=\"end\" transform=\"translate(-7,174.42857142857144)\" font-family=\"sans-serif\" font-size=\"10px\" fill=\"#000\" opacity=\"1\">500</text><text text-anchor=\"end\" transform=\"translate(-7,145.85714285714286)\" font-family=\"sans-serif\" font-size=\"10px\" fill=\"#000\" opacity=\"1\">1,000</text><text text-anchor=\"end\" transform=\"translate(-7,117.28571428571428)\" font-family=\"sans-serif\" font-size=\"10px\" fill=\"#000\" opacity=\"1\">1,500</text><text text-anchor=\"end\" transform=\"translate(-7,88.71428571428572)\" font-family=\"sans-serif\" font-size=\"10px\" fill=\"#000\" opacity=\"1\">2,000</text><text text-anchor=\"end\" transform=\"translate(-7,60.14285714285714)\" font-family=\"sans-serif\" font-size=\"10px\" fill=\"#000\" opacity=\"1\">2,500</text><text text-anchor=\"end\" transform=\"translate(-7,31.57142857142858)\" font-family=\"sans-serif\" font-size=\"10px\" fill=\"#000\" opacity=\"1\">3,000</text><text text-anchor=\"end\" transform=\"translate(-7,3)\" font-family=\"sans-serif\" font-size=\"10px\" fill=\"#000\" opacity=\"1\">3,500</text></g><g class=\"mark-rule role-axis-domain\" pointer-events=\"none\"><line transform=\"translate(0,200)\" x2=\"0\" y2=\"-200\" stroke=\"#888\" stroke-width=\"1\" opacity=\"1\"/></g><g class=\"mark-text role-axis-title\" pointer-events=\"none\"><text text-anchor=\"middle\" transform=\"translate(-39.6279296875,100) rotate(-90) translate(0,-2)\" font-family=\"sans-serif\" font-size=\"11px\" font-weight=\"bold\" fill=\"#000\" opacity=\"1\">value_sum</text></g></g><path class=\"foreground\" aria-hidden=\"true\" d=\"\" pointer-events=\"none\" display=\"none\"/></g></g><g class=\"mark-group role-scope pathgroup\" role=\"graphics-object\" aria-roledescription=\"group mark container\"><g transform=\"translate(0,0)\"><path class=\"background\" aria-hidden=\"true\" d=\"M0,0h200v200h-200Z\"/><g><g class=\"mark-area role-mark marks\" role=\"graphics-object\" aria-roledescription=\"area mark container\"><path aria-label=\"hour: 0; value_sum: 21.4; resource: biomass\" role=\"graphics-symbol\" aria-roledescription=\"area mark\" d=\"M0,117.228L8.333,121.142L16.667,120.017L25,116.671L33.333,105.758L41.667,95.221L50,85.538L58.333,98.823L66.667,143.094L75,150.097L83.333,148.744L91.667,158.911L100,165.818L108.333,166.038L116.667,166.289L125,166.563L133.333,158.61L141.667,133.737L150,76.843L158.333,60.778L166.667,61.092L175,76.642L183.333,93.809L191.667,107.863L191.667,109.086L183.333,95.032L175,77.865L166.667,62.314L158.333,62.001L150,78.066L141.667,134.96L133.333,159.833L125,166.563L116.667,166.289L108.333,166.038L100,165.818L91.667,160.134L83.333,149.967L75,151.32L66.667,144.317L58.333,100.046L50,86.761L41.667,96.444L33.333,106.981L25,117.894L16.667,121.24L8.333,122.364L0,118.451Z\" fill=\"#9467bd\"/></g></g><path class=\"foreground\" aria-hidden=\"true\" d=\"\" display=\"none\"/></g><g transform=\"translate(0,0)\"><path class=\"background\" aria-hidden=\"true\" d=\"M0,0h200v200h-200Z\"/><g><g class=\"mark-area role-mark marks\" role=\"graphics-object\" aria-roledescription=\"area mark container\"><path aria-label=\"hour: 0; value_sum: 42; resource: hydroelectric_pumped_storage\" role=\"graphics-symbol\" aria-roledescription=\"area mark\" d=\"M0,118.451L8.333,122.364L16.667,121.24L25,117.894L33.333,106.981L41.667,96.444L50,86.761L58.333,100.046L66.667,144.317L75,151.32L83.333,149.967L91.667,160.134L100,165.818L108.333,166.038L116.667,166.289L125,166.563L133.333,159.833L141.667,134.96L150,78.066L158.333,62.001L166.667,62.314L175,77.865L183.333,95.032L191.667,109.086L191.667,111.486L183.333,97.432L175,80.265L166.667,64.714L158.333,64.401L150,80.466L141.667,137.36L133.333,162.233L125,166.563L116.667,166.289L108.333,166.038L100,165.818L91.667,162.534L83.333,152.367L75,153.72L66.667,146.717L58.333,102.446L50,89.161L41.667,98.844L33.333,109.381L25,120.294L16.667,123.64L8.333,124.764L0,120.851Z\" fill=\"#8c564b\"/></g></g><path class=\"foreground\" aria-hidden=\"true\" d=\"\" display=\"none\"/></g><g transform=\"translate(0,0)\"><path class=\"background\" aria-hidden=\"true\" d=\"M0,0h200v200h-200Z\"/><g><g class=\"mark-area role-mark marks\" role=\"graphics-object\" aria-roledescription=\"area mark container\"><path aria-label=\"hour: 0; value_sum: 1231.614768; resource: natural_gas_fired_combined_cycle\" role=\"graphics-symbol\" aria-roledescription=\"area mark\" d=\"M0,120.851L8.333,124.764L16.667,123.64L25,120.294L33.333,109.381L41.667,98.844L50,89.161L58.333,102.446L66.667,146.717L75,153.72L83.333,152.367L91.667,162.534L100,165.818L108.333,166.038L116.667,166.289L125,166.563L133.333,162.233L141.667,137.36L150,80.466L158.333,64.401L166.667,64.714L175,80.265L183.333,97.432L191.667,111.486L191.667,192.43L183.333,186.945L175,171.265L166.667,155.714L158.333,155.401L150,171.466L141.667,200L133.333,200L125,200L116.667,200L108.333,200L100,200L91.667,200L83.333,198.799L75,198.799L66.667,196.953L58.333,195.101L50,191.229L41.667,191.229L33.333,191.229L25,191.229L16.667,191.229L8.333,191.229L0,191.229Z\" fill=\"#e377c2\"/></g></g><path class=\"foreground\" aria-hidden=\"true\" d=\"\" display=\"none\"/></g><g transform=\"translate(0,0)\"><path class=\"background\" aria-hidden=\"true\" d=\"M0,0h200v200h-200Z\"/><g><g class=\"mark-area role-mark marks\" role=\"graphics-object\" aria-roledescription=\"area mark container\"><path aria-label=\"hour: 0; value_sum: 153.4915; resource: natural_gas_fired_combustion_turbine\" role=\"graphics-symbol\" aria-roledescription=\"area mark\" d=\"M0,191.229L8.333,191.229L16.667,191.229L25,191.229L33.333,191.229L41.667,191.229L50,191.229L58.333,195.101L66.667,196.953L75,198.799L83.333,198.799L91.667,200L100,200L108.333,200L116.667,200L125,200L133.333,200L141.667,200L150,171.466L158.333,155.401L166.667,155.714L175,171.265L183.333,186.945L191.667,192.43L191.667,200L183.333,200L175,200L166.667,200L158.333,200L150,200L141.667,200L133.333,200L125,200L116.667,200L108.333,200L100,200L91.667,200L83.333,200L75,200L66.667,200L58.333,200L50,200L41.667,200L33.333,200L25,200L16.667,200L8.333,200L0,200Z\" fill=\"#7f7f7f\"/></g></g><path class=\"foreground\" aria-hidden=\"true\" d=\"\" display=\"none\"/></g><g transform=\"translate(0,0)\"><path class=\"background\" aria-hidden=\"true\" d=\"M0,0h200v200h-200Z\"/><g><g class=\"mark-area role-mark marks\" role=\"graphics-object\" aria-roledescription=\"area mark container\"><path aria-label=\"hour: 0; value_sum: 163.3088; resource: _onshore_wind_turbine\" role=\"graphics-symbol\" aria-roledescription=\"area mark\" d=\"M0,107.714L8.333,111.257L16.667,113.257L25,110.743L33.333,100.971L41.667,87.086L50,68.161L58.333,44.019L66.667,21.454L75,7.519L83.333,0.723L91.667,9.638L100,21.157L108.333,25.526L116.667,31.288L125,38.646L133.333,45.561L141.667,53.248L150,62.479L158.333,57.086L166.667,56.8L175,70.971L183.333,86.4L191.667,99.429L191.667,107.681L183.333,93.627L175,76.46L166.667,60.91L158.333,60.596L150,65.485L141.667,57.741L133.333,48.829L125,38.646L116.667,31.288L108.333,25.526L100,21.157L91.667,14.901L83.333,7.077L75,15.037L66.667,31.017L58.333,46.841L50,72.4L41.667,95.039L33.333,105.576L25,116.489L16.667,119.835L8.333,120.96L0,117.046Z\" fill=\"#1f77b4\"/></g></g><path class=\"foreground\" aria-hidden=\"true\" d=\"\" display=\"none\"/></g><g transform=\"translate(0,0)\"><path class=\"background\" aria-hidden=\"true\" d=\"M0,0h200v200h-200Z\"/><g><g class=\"mark-area role-mark marks\" role=\"graphics-object\" aria-roledescription=\"area mark container\"><path aria-label=\"hour: 0; value_sum: 3.184932; resource: _small_hydroelectric\" role=\"graphics-symbol\" aria-roledescription=\"area mark\" d=\"M0,117.046L8.333,120.96L16.667,119.835L25,116.489L33.333,105.576L41.667,95.039L50,72.4L58.333,46.841L66.667,31.017L75,15.037L83.333,7.077L91.667,14.901L100,21.157L108.333,25.526L116.667,31.288L125,38.646L133.333,48.829L141.667,57.741L150,65.485L158.333,60.596L166.667,60.91L175,76.46L183.333,93.627L191.667,107.681L191.667,107.863L183.333,93.809L175,76.642L166.667,61.092L158.333,60.778L150,65.667L141.667,57.923L133.333,49.011L125,38.646L116.667,31.288L108.333,25.526L100,21.157L91.667,15.083L83.333,7.259L75,15.219L66.667,31.199L58.333,47.023L50,72.582L41.667,95.221L33.333,105.758L25,116.671L16.667,120.017L8.333,121.142L0,117.228Z\" fill=\"#ff7f0e\"/></g></g><path class=\"foreground\" aria-hidden=\"true\" d=\"\" display=\"none\"/></g><g transform=\"translate(0,0)\"><path class=\"background\" aria-hidden=\"true\" d=\"M0,0h200v200h-200Z\"/><g><g class=\"mark-area role-mark marks\" role=\"graphics-object\" aria-roledescription=\"area mark container\"><path aria-label=\"hour: 0; value_sum: 0; resource: _solar_photovoltaic\" role=\"graphics-symbol\" aria-roledescription=\"area mark\" d=\"M0,117.228L8.333,121.142L16.667,120.017L25,116.671L33.333,105.758L41.667,95.221L50,72.582L58.333,47.023L66.667,31.199L75,15.219L83.333,7.259L91.667,15.083L100,21.157L108.333,25.526L116.667,31.288L125,38.646L133.333,49.011L141.667,57.923L150,65.667L158.333,60.778L166.667,61.092L175,76.642L183.333,93.809L191.667,107.863L191.667,107.863L183.333,93.809L175,76.642L166.667,61.092L158.333,60.778L150,75.207L141.667,122.643L133.333,142.571L125,147.038L116.667,144.891L108.333,143.906L100,143.717L91.667,137.863L83.333,128.039L75,130.359L66.667,126.719L58.333,91.243L50,83.642L41.667,95.221L33.333,105.758L25,116.671L16.667,120.017L8.333,121.142L0,117.228Z\" fill=\"#2ca02c\"/></g></g><path class=\"foreground\" aria-hidden=\"true\" d=\"\" display=\"none\"/></g><g transform=\"translate(0,0)\"><path class=\"background\" aria-hidden=\"true\" d=\"M0,0h200v200h-200Z\"/><g><g class=\"mark-area role-mark marks\" role=\"graphics-object\" aria-roledescription=\"area mark container\"><path aria-label=\"hour: 0; value_sum: 0; resource: _solar_photovoltaic_btm\" role=\"graphics-symbol\" aria-roledescription=\"area mark\" d=\"M0,117.228L8.333,121.142L16.667,120.017L25,116.671L33.333,105.758L41.667,95.221L50,83.642L58.333,91.243L66.667,126.719L75,130.359L83.333,128.039L91.667,137.863L100,143.717L108.333,143.906L116.667,144.891L125,147.038L133.333,142.571L141.667,122.643L150,75.207L158.333,60.778L166.667,61.092L175,76.642L183.333,93.809L191.667,107.863L191.667,107.863L183.333,93.809L175,76.642L166.667,61.092L158.333,60.778L150,76.843L141.667,133.737L133.333,158.61L125,166.563L116.667,166.289L108.333,166.038L100,165.818L91.667,158.911L83.333,148.744L75,150.097L66.667,143.094L58.333,98.823L50,85.538L41.667,95.221L33.333,105.758L25,116.671L16.667,120.017L8.333,121.142L0,117.228Z\" fill=\"#d62728\"/></g></g><path class=\"foreground\" aria-hidden=\"true\" d=\"\" display=\"none\"/></g></g><g class=\"mark-group role-legend\" role=\"graphics-symbol\" aria-roledescription=\"legend\" aria-label=\"Symbol legend titled 'resource' for fill color with 8 values: _onshore_wind_turbine, _small_hydroelectric, _solar_photovoltaic, _solar_photovoltaic_btm, biomass, ending with natural_gas_fired_combustion_turbine\"><g transform=\"translate(218,0)\"><path class=\"background\" aria-hidden=\"true\" d=\"M0,0h176v118h-176Z\" pointer-events=\"none\"/><g><g class=\"mark-group role-legend-entry\"><g transform=\"translate(0,16)\"><path class=\"background\" aria-hidden=\"true\" d=\"M0,0h0v0h0Z\" pointer-events=\"none\"/><g><g class=\"mark-group role-scope\" role=\"graphics-object\" aria-roledescription=\"group mark container\"><g transform=\"translate(0,0)\"><path class=\"background\" aria-hidden=\"true\" d=\"M0,0h175.5263671875v11h-175.5263671875Z\" pointer-events=\"none\" opacity=\"1\"/><g><g class=\"mark-symbol role-legend-symbol\" pointer-events=\"none\"><path transform=\"translate(6,6)\" d=\"M5,0A5,5,0,1,1,-5,0A5,5,0,1,1,5,0\" fill=\"#1f77b4\" stroke-width=\"1.5\" opacity=\"1\"/></g><g class=\"mark-text role-legend-label\" pointer-events=\"none\"><text text-anchor=\"start\" transform=\"translate(16,9)\" font-family=\"sans-serif\" font-size=\"10px\" fill=\"#000\" opacity=\"1\">_onshore_wind_turbine</text></g></g><path class=\"foreground\" aria-hidden=\"true\" d=\"\" pointer-events=\"none\" display=\"none\"/></g><g transform=\"translate(0,13)\"><path class=\"background\" aria-hidden=\"true\" d=\"M0,0h175.5263671875v11h-175.5263671875Z\" pointer-events=\"none\" opacity=\"1\"/><g><g class=\"mark-symbol role-legend-symbol\" pointer-events=\"none\"><path transform=\"translate(6,6)\" d=\"M5,0A5,5,0,1,1,-5,0A5,5,0,1,1,5,0\" fill=\"#ff7f0e\" stroke-width=\"1.5\" opacity=\"1\"/></g><g class=\"mark-text role-legend-label\" pointer-events=\"none\"><text text-anchor=\"start\" transform=\"translate(16,9)\" font-family=\"sans-serif\" font-size=\"10px\" fill=\"#000\" opacity=\"1\">_small_hydroelectric</text></g></g><path class=\"foreground\" aria-hidden=\"true\" d=\"\" pointer-events=\"none\" display=\"none\"/></g><g transform=\"translate(0,26)\"><path class=\"background\" aria-hidden=\"true\" d=\"M0,0h175.5263671875v11h-175.5263671875Z\" pointer-events=\"none\" opacity=\"1\"/><g><g class=\"mark-symbol role-legend-symbol\" pointer-events=\"none\"><path transform=\"translate(6,6)\" d=\"M5,0A5,5,0,1,1,-5,0A5,5,0,1,1,5,0\" fill=\"#2ca02c\" stroke-width=\"1.5\" opacity=\"1\"/></g><g class=\"mark-text role-legend-label\" pointer-events=\"none\"><text text-anchor=\"start\" transform=\"translate(16,9)\" font-family=\"sans-serif\" font-size=\"10px\" fill=\"#000\" opacity=\"1\">_solar_photovoltaic</text></g></g><path class=\"foreground\" aria-hidden=\"true\" d=\"\" pointer-events=\"none\" display=\"none\"/></g><g transform=\"translate(0,39)\"><path class=\"background\" aria-hidden=\"true\" d=\"M0,0h175.5263671875v11h-175.5263671875Z\" pointer-events=\"none\" opacity=\"1\"/><g><g class=\"mark-symbol role-legend-symbol\" pointer-events=\"none\"><path transform=\"translate(6,6)\" d=\"M5,0A5,5,0,1,1,-5,0A5,5,0,1,1,5,0\" fill=\"#d62728\" stroke-width=\"1.5\" opacity=\"1\"/></g><g class=\"mark-text role-legend-label\" pointer-events=\"none\"><text text-anchor=\"start\" transform=\"translate(16,9)\" font-family=\"sans-serif\" font-size=\"10px\" fill=\"#000\" opacity=\"1\">_solar_photovoltaic_btm</text></g></g><path class=\"foreground\" aria-hidden=\"true\" d=\"\" pointer-events=\"none\" display=\"none\"/></g><g transform=\"translate(0,52)\"><path class=\"background\" aria-hidden=\"true\" d=\"M0,0h175.5263671875v11h-175.5263671875Z\" pointer-events=\"none\" opacity=\"1\"/><g><g class=\"mark-symbol role-legend-symbol\" pointer-events=\"none\"><path transform=\"translate(6,6)\" d=\"M5,0A5,5,0,1,1,-5,0A5,5,0,1,1,5,0\" fill=\"#9467bd\" stroke-width=\"1.5\" opacity=\"1\"/></g><g class=\"mark-text role-legend-label\" pointer-events=\"none\"><text text-anchor=\"start\" transform=\"translate(16,9)\" font-family=\"sans-serif\" font-size=\"10px\" fill=\"#000\" opacity=\"1\">biomass</text></g></g><path class=\"foreground\" aria-hidden=\"true\" d=\"\" pointer-events=\"none\" display=\"none\"/></g><g transform=\"translate(0,65)\"><path class=\"background\" aria-hidden=\"true\" d=\"M0,0h175.5263671875v11h-175.5263671875Z\" pointer-events=\"none\" opacity=\"1\"/><g><g class=\"mark-symbol role-legend-symbol\" pointer-events=\"none\"><path transform=\"translate(6,6)\" d=\"M5,0A5,5,0,1,1,-5,0A5,5,0,1,1,5,0\" fill=\"#8c564b\" stroke-width=\"1.5\" opacity=\"1\"/></g><g class=\"mark-text role-legend-label\" pointer-events=\"none\"><text text-anchor=\"start\" transform=\"translate(16,9)\" font-family=\"sans-serif\" font-size=\"10px\" fill=\"#000\" opacity=\"1\">hydroelectric_pumped_storage</text></g></g><path class=\"foreground\" aria-hidden=\"true\" d=\"\" pointer-events=\"none\" display=\"none\"/></g><g transform=\"translate(0,78)\"><path class=\"background\" aria-hidden=\"true\" d=\"M0,0h175.5263671875v11h-175.5263671875Z\" pointer-events=\"none\" opacity=\"1\"/><g><g class=\"mark-symbol role-legend-symbol\" pointer-events=\"none\"><path transform=\"translate(6,6)\" d=\"M5,0A5,5,0,1,1,-5,0A5,5,0,1,1,5,0\" fill=\"#e377c2\" stroke-width=\"1.5\" opacity=\"1\"/></g><g class=\"mark-text role-legend-label\" pointer-events=\"none\"><text text-anchor=\"start\" transform=\"translate(16,9)\" font-family=\"sans-serif\" font-size=\"10px\" fill=\"#000\" opacity=\"1\">natural_gas_fired_combined_…</text></g></g><path class=\"foreground\" aria-hidden=\"true\" d=\"\" pointer-events=\"none\" display=\"none\"/></g><g transform=\"translate(0,91)\"><path class=\"background\" aria-hidden=\"true\" d=\"M0,0h175.5263671875v11h-175.5263671875Z\" pointer-events=\"none\" opacity=\"1\"/><g><g class=\"mark-symbol role-legend-symbol\" pointer-events=\"none\"><path transform=\"translate(6,6)\" d=\"M5,0A5,5,0,1,1,-5,0A5,5,0,1,1,5,0\" fill=\"#7f7f7f\" stroke-width=\"1.5\" opacity=\"1\"/></g><g class=\"mark-text role-legend-label\" pointer-events=\"none\"><text text-anchor=\"start\" transform=\"translate(16,9)\" font-family=\"sans-serif\" font-size=\"10px\" fill=\"#000\" opacity=\"1\">natural_gas_fired_combustion…</text></g></g><path class=\"foreground\" aria-hidden=\"true\" d=\"\" pointer-events=\"none\" display=\"none\"/></g></g></g><path class=\"foreground\" aria-hidden=\"true\" d=\"\" pointer-events=\"none\" display=\"none\"/></g></g><g class=\"mark-text role-legend-title\" pointer-events=\"none\"><text text-anchor=\"start\" transform=\"translate(0,9)\" font-family=\"sans-serif\" font-size=\"11px\" font-weight=\"bold\" fill=\"#000\" opacity=\"1\">resource</text></g></g><path class=\"foreground\" aria-hidden=\"true\" d=\"\" pointer-events=\"none\" display=\"none\"/></g></g></g><path class=\"foreground\" aria-hidden=\"true\" d=\"\" display=\"none\"/></g></g></g></svg>"
      ],
      "text/plain": [
       "@vlplot(\n",
       "    mark=\"area\",\n",
       "    encoding={\n",
       "        x={\n",
       "            field=\"hour\"\n",
       "        },\n",
       "        y={\n",
       "            stack=\"zero\",\n",
       "            field=\"value_sum\"\n",
       "        },\n",
       "        color={\n",
       "            scale={\n",
       "                scheme=\"category10\"\n",
       "            },\n",
       "            field=\"resource\",\n",
       "            type=\"nominal\"\n",
       "        }\n",
       "    },\n",
       "    data={\n",
       "        values=...\n",
       "    }\n",
       ")"
      ]
     },
     "metadata": {},
     "output_type": "display_data"
    }
   ],
   "source": [
    "solution = solve_unit_commitment(\n",
    "    gen_df_sens,\n",
    "    loads_multi,\n",
    "    gen_variable_multi,\n",
    "    0.001,\n",
    "    ramp_constraints = true,\n",
    "    reserve = required_reserve)\n",
    "sol_gen = innerjoin(solution.GEN, \n",
    "                    gen_df[!, [:r_id, :resource]], \n",
    "                    on = :r_id)\n",
    "sol_gen = combine(groupby(sol_gen, [:resource, :hour]), \n",
    "            :value => sum)\n",
    "\n",
    "# Rename generators (for plotting purposes)\n",
    "sol_gen[sol_gen.resource .== \"solar_photovoltaic\", :resource] .= \"_solar_photovoltaic\"\n",
    "sol_gen[sol_gen.resource .== \"onshore_wind_turbine\", :resource] .= \"_onshore_wind_turbine\"\n",
    "sol_gen[sol_gen.resource .== \"small_hydroelectric\", :resource] .= \"_small_hydroelectric\"\n",
    "\n",
    "# BTM solar\n",
    "btm = DataFrame(resource = repeat([\"_solar_photovoltaic_btm\"]; outer=length(T_period)), \n",
    "    hour = T_period,\n",
    "    value_sum = gen_variable_multi[gen_variable_multi.gen_full .== \"wec_sdge_solar_photovoltaic_1.0\",:cf] * 600)\n",
    "append!(sol_gen, btm)\n",
    "\n",
    "# Curtailment\n",
    "if haskey(solution, :curtail)\n",
    "    curtail = combine(groupby(solution.curtail, [:hour]),\n",
    "                :value => sum)\n",
    "    curtail[!, :resource] .= \"_curtailment\"\n",
    "    # rename!(curtail, :curt_sum => :value_sum)\n",
    "    append!(sol_gen, curtail[:,[:resource, :hour, :value_sum]])\n",
    "end\n",
    "\n",
    "# Rescale hours\n",
    "sol_gen.hour = sol_gen.hour .- T_period[1]\n",
    "\n",
    "sol_gen |>\n",
    "@vlplot(:area, \n",
    "    x=:hour, y={:value_sum, stack=:zero}, \n",
    "    color={\"resource:n\", scale={scheme=\"category10\"}})"
   ]
  },
  {
   "cell_type": "code",
   "execution_count": 6,
   "metadata": {},
   "outputs": [
    {
     "data": {
      "application/vnd.vegalite.v5+json": {
       "data": {
        "values": [
         {
          "hour": 0,
          "resource": "natural_gas_fired_combined_cycle",
          "value_sum": 6
         },
         {
          "hour": 0,
          "resource": "natural_gas_fired_combustion_turbine",
          "value_sum": 5
         },
         {
          "hour": 1,
          "resource": "natural_gas_fired_combined_cycle",
          "value_sum": 6
         },
         {
          "hour": 1,
          "resource": "natural_gas_fired_combustion_turbine",
          "value_sum": 5
         },
         {
          "hour": 2,
          "resource": "natural_gas_fired_combined_cycle",
          "value_sum": 6
         },
         {
          "hour": 2,
          "resource": "natural_gas_fired_combustion_turbine",
          "value_sum": 5
         },
         {
          "hour": 3,
          "resource": "natural_gas_fired_combined_cycle",
          "value_sum": 6
         },
         {
          "hour": 3,
          "resource": "natural_gas_fired_combustion_turbine",
          "value_sum": 5
         },
         {
          "hour": 4,
          "resource": "natural_gas_fired_combined_cycle",
          "value_sum": 6
         },
         {
          "hour": 4,
          "resource": "natural_gas_fired_combustion_turbine",
          "value_sum": 5
         },
         {
          "hour": 5,
          "resource": "natural_gas_fired_combined_cycle",
          "value_sum": 6
         },
         {
          "hour": 5,
          "resource": "natural_gas_fired_combustion_turbine",
          "value_sum": 5
         },
         {
          "hour": 6,
          "resource": "natural_gas_fired_combined_cycle",
          "value_sum": 6
         },
         {
          "hour": 6,
          "resource": "natural_gas_fired_combustion_turbine",
          "value_sum": 5
         },
         {
          "hour": 7,
          "resource": "natural_gas_fired_combined_cycle",
          "value_sum": 6
         },
         {
          "hour": 7,
          "resource": "natural_gas_fired_combustion_turbine",
          "value_sum": 3
         },
         {
          "hour": 8,
          "resource": "natural_gas_fired_combined_cycle",
          "value_sum": 4
         },
         {
          "hour": 8,
          "resource": "natural_gas_fired_combustion_turbine",
          "value_sum": 2
         },
         {
          "hour": 9,
          "resource": "natural_gas_fired_combined_cycle",
          "value_sum": 4
         },
         {
          "hour": 9,
          "resource": "natural_gas_fired_combustion_turbine",
          "value_sum": 1
         },
         {
          "hour": 10,
          "resource": "natural_gas_fired_combined_cycle",
          "value_sum": 4
         },
         {
          "hour": 10,
          "resource": "natural_gas_fired_combustion_turbine",
          "value_sum": 1
         },
         {
          "hour": 11,
          "resource": "natural_gas_fired_combined_cycle",
          "value_sum": 4
         },
         {
          "hour": 11,
          "resource": "natural_gas_fired_combustion_turbine",
          "value_sum": 0
         },
         {
          "hour": 12,
          "resource": "natural_gas_fired_combined_cycle",
          "value_sum": 4
         },
         {
          "hour": 12,
          "resource": "natural_gas_fired_combustion_turbine",
          "value_sum": 0
         },
         {
          "hour": 13,
          "resource": "natural_gas_fired_combined_cycle",
          "value_sum": 4
         },
         {
          "hour": 13,
          "resource": "natural_gas_fired_combustion_turbine",
          "value_sum": 0
         },
         {
          "hour": 14,
          "resource": "natural_gas_fired_combined_cycle",
          "value_sum": 4
         },
         {
          "hour": 14,
          "resource": "natural_gas_fired_combustion_turbine",
          "value_sum": 0
         },
         {
          "hour": 15,
          "resource": "natural_gas_fired_combined_cycle",
          "value_sum": 4
         },
         {
          "hour": 15,
          "resource": "natural_gas_fired_combustion_turbine",
          "value_sum": 0
         },
         {
          "hour": 16,
          "resource": "natural_gas_fired_combined_cycle",
          "value_sum": 4
         },
         {
          "hour": 16,
          "resource": "natural_gas_fired_combustion_turbine",
          "value_sum": 0
         },
         {
          "hour": 17,
          "resource": "natural_gas_fired_combined_cycle",
          "value_sum": 5
         },
         {
          "hour": 17,
          "resource": "natural_gas_fired_combustion_turbine",
          "value_sum": 0
         },
         {
          "hour": 18,
          "resource": "natural_gas_fired_combined_cycle",
          "value_sum": 5
         },
         {
          "hour": 18,
          "resource": "natural_gas_fired_combustion_turbine",
          "value_sum": 10
         },
         {
          "hour": 19,
          "resource": "natural_gas_fired_combined_cycle",
          "value_sum": 5
         },
         {
          "hour": 19,
          "resource": "natural_gas_fired_combustion_turbine",
          "value_sum": 15
         },
         {
          "hour": 20,
          "resource": "natural_gas_fired_combined_cycle",
          "value_sum": 5
         },
         {
          "hour": 20,
          "resource": "natural_gas_fired_combustion_turbine",
          "value_sum": 15
         },
         {
          "hour": 21,
          "resource": "natural_gas_fired_combined_cycle",
          "value_sum": 5
         },
         {
          "hour": 21,
          "resource": "natural_gas_fired_combustion_turbine",
          "value_sum": 10
         },
         {
          "hour": 22,
          "resource": "natural_gas_fired_combined_cycle",
          "value_sum": 5
         },
         {
          "hour": 22,
          "resource": "natural_gas_fired_combustion_turbine",
          "value_sum": 7
         },
         {
          "hour": 23,
          "resource": "natural_gas_fired_combined_cycle",
          "value_sum": 5
         },
         {
          "hour": 23,
          "resource": "natural_gas_fired_combustion_turbine",
          "value_sum": 4
         }
        ]
       },
       "encoding": {
        "color": {
         "field": "resource",
         "scale": {
          "scheme": "category10"
         },
         "type": "nominal"
        },
        "x": {
         "field": "hour",
         "type": "quantitative"
        },
        "y": {
         "field": "value_sum",
         "stack": "zero",
         "type": "quantitative"
        }
       },
       "mark": "area"
      },
      "image/png": "[encoded data removed]",
      "image/svg+xml": [
       "<svg xmlns=\"http://www.w3.org/2000/svg\" xmlns:xlink=\"http://www.w3.org/1999/xlink\" version=\"1.1\" class=\"marks\" width=\"439\" height=\"247\" viewBox=\"0 0 439 247\"><rect width=\"439\" height=\"247\" fill=\"white\"/><g fill=\"none\" stroke-miterlimit=\"10\" transform=\"translate(40,10)\"><g class=\"mark-group role-frame root\" role=\"graphics-object\" aria-roledescription=\"group mark container\"><g transform=\"translate(0,0)\"><path class=\"background\" aria-hidden=\"true\" d=\"M0.5,0.5h200v200h-200Z\" stroke=\"#ddd\"/><g><g class=\"mark-group role-axis\" aria-hidden=\"true\"><g transform=\"translate(0.5,200.5)\"><path class=\"background\" aria-hidden=\"true\" d=\"M0,0h0v0h0Z\" pointer-events=\"none\"/><g><g class=\"mark-rule role-axis-grid\" pointer-events=\"none\"><line transform=\"translate(0,-200)\" x2=\"0\" y2=\"200\" stroke=\"#ddd\" stroke-width=\"1\" opacity=\"1\"/><line transform=\"translate(42,-200)\" x2=\"0\" y2=\"200\" stroke=\"#ddd\" stroke-width=\"1\" opacity=\"1\"/><line transform=\"translate(83,-200)\" x2=\"0\" y2=\"200\" stroke=\"#ddd\" stroke-width=\"1\" opacity=\"1\"/><line transform=\"translate(125,-200)\" x2=\"0\" y2=\"200\" stroke=\"#ddd\" stroke-width=\"1\" opacity=\"1\"/><line transform=\"translate(167,-200)\" x2=\"0\" y2=\"200\" stroke=\"#ddd\" stroke-width=\"1\" opacity=\"1\"/></g></g><path class=\"foreground\" aria-hidden=\"true\" d=\"\" pointer-events=\"none\" display=\"none\"/></g></g><g class=\"mark-group role-axis\" aria-hidden=\"true\"><g transform=\"translate(0.5,0.5)\"><path class=\"background\" aria-hidden=\"true\" d=\"M0,0h0v0h0Z\" pointer-events=\"none\"/><g><g class=\"mark-rule role-axis-grid\" pointer-events=\"none\"><line transform=\"translate(0,200)\" x2=\"200\" y2=\"0\" stroke=\"#ddd\" stroke-width=\"1\" opacity=\"1\"/><line transform=\"translate(0,150)\" x2=\"200\" y2=\"0\" stroke=\"#ddd\" stroke-width=\"1\" opacity=\"1\"/><line transform=\"translate(0,100)\" x2=\"200\" y2=\"0\" stroke=\"#ddd\" stroke-width=\"1\" opacity=\"1\"/><line transform=\"translate(0,50)\" x2=\"200\" y2=\"0\" stroke=\"#ddd\" stroke-width=\"1\" opacity=\"1\"/><line transform=\"translate(0,0)\" x2=\"200\" y2=\"0\" stroke=\"#ddd\" stroke-width=\"1\" opacity=\"1\"/></g></g><path class=\"foreground\" aria-hidden=\"true\" d=\"\" pointer-events=\"none\" display=\"none\"/></g></g><g class=\"mark-group role-axis\" role=\"graphics-symbol\" aria-roledescription=\"axis\" aria-label=\"X-axis titled 'hour' for a linear scale with values from 0 to 24\"><g transform=\"translate(0.5,200.5)\"><path class=\"background\" aria-hidden=\"true\" d=\"M0,0h0v0h0Z\" pointer-events=\"none\"/><g><g class=\"mark-rule role-axis-tick\" pointer-events=\"none\"><line transform=\"translate(0,0)\" x2=\"0\" y2=\"5\" stroke=\"#888\" stroke-width=\"1\" opacity=\"1\"/><line transform=\"translate(42,0)\" x2=\"0\" y2=\"5\" stroke=\"#888\" stroke-width=\"1\" opacity=\"1\"/><line transform=\"translate(83,0)\" x2=\"0\" y2=\"5\" stroke=\"#888\" stroke-width=\"1\" opacity=\"1\"/><line transform=\"translate(125,0)\" x2=\"0\" y2=\"5\" stroke=\"#888\" stroke-width=\"1\" opacity=\"1\"/><line transform=\"translate(167,0)\" x2=\"0\" y2=\"5\" stroke=\"#888\" stroke-width=\"1\" opacity=\"1\"/></g><g class=\"mark-text role-axis-label\" pointer-events=\"none\"><text text-anchor=\"start\" transform=\"translate(0,15)\" font-family=\"sans-serif\" font-size=\"10px\" fill=\"#000\" opacity=\"1\">0</text><text text-anchor=\"middle\" transform=\"translate(41.66666666666667,15)\" font-family=\"sans-serif\" font-size=\"10px\" fill=\"#000\" opacity=\"1\">5</text><text text-anchor=\"middle\" transform=\"translate(83.33333333333334,15)\" font-family=\"sans-serif\" font-size=\"10px\" fill=\"#000\" opacity=\"1\">10</text><text text-anchor=\"middle\" transform=\"translate(125,15)\" font-family=\"sans-serif\" font-size=\"10px\" fill=\"#000\" opacity=\"1\">15</text><text text-anchor=\"middle\" transform=\"translate(166.66666666666669,15)\" font-family=\"sans-serif\" font-size=\"10px\" fill=\"#000\" opacity=\"1\">20</text></g><g class=\"mark-rule role-axis-domain\" pointer-events=\"none\"><line transform=\"translate(0,0)\" x2=\"200\" y2=\"0\" stroke=\"#888\" stroke-width=\"1\" opacity=\"1\"/></g><g class=\"mark-text role-axis-title\" pointer-events=\"none\"><text text-anchor=\"middle\" transform=\"translate(100,30)\" font-family=\"sans-serif\" font-size=\"11px\" font-weight=\"bold\" fill=\"#000\" opacity=\"1\">hour</text></g></g><path class=\"foreground\" aria-hidden=\"true\" d=\"\" pointer-events=\"none\" display=\"none\"/></g></g><g class=\"mark-group role-axis\" role=\"graphics-symbol\" aria-roledescription=\"axis\" aria-label=\"Y-axis titled 'value_sum' for a linear scale with values from 0 to 20\"><g transform=\"translate(0.5,0.5)\"><path class=\"background\" aria-hidden=\"true\" d=\"M0,0h0v0h0Z\" pointer-events=\"none\"/><g><g class=\"mark-rule role-axis-tick\" pointer-events=\"none\"><line transform=\"translate(0,200)\" x2=\"-5\" y2=\"0\" stroke=\"#888\" stroke-width=\"1\" opacity=\"1\"/><line transform=\"translate(0,150)\" x2=\"-5\" y2=\"0\" stroke=\"#888\" stroke-width=\"1\" opacity=\"1\"/><line transform=\"translate(0,100)\" x2=\"-5\" y2=\"0\" stroke=\"#888\" stroke-width=\"1\" opacity=\"1\"/><line transform=\"translate(0,50)\" x2=\"-5\" y2=\"0\" stroke=\"#888\" stroke-width=\"1\" opacity=\"1\"/><line transform=\"translate(0,0)\" x2=\"-5\" y2=\"0\" stroke=\"#888\" stroke-width=\"1\" opacity=\"1\"/></g><g class=\"mark-text role-axis-label\" pointer-events=\"none\"><text text-anchor=\"end\" transform=\"translate(-7,203)\" font-family=\"sans-serif\" font-size=\"10px\" fill=\"#000\" opacity=\"1\">0</text><text text-anchor=\"end\" transform=\"translate(-7,153)\" font-family=\"sans-serif\" font-size=\"10px\" fill=\"#000\" opacity=\"1\">5</text><text text-anchor=\"end\" transform=\"translate(-7,103)\" font-family=\"sans-serif\" font-size=\"10px\" fill=\"#000\" opacity=\"1\">10</text><text text-anchor=\"end\" transform=\"translate(-7,53)\" font-family=\"sans-serif\" font-size=\"10px\" fill=\"#000\" opacity=\"1\">15</text><text text-anchor=\"end\" transform=\"translate(-7,3)\" font-family=\"sans-serif\" font-size=\"10px\" fill=\"#000\" opacity=\"1\">20</text></g><g class=\"mark-rule role-axis-domain\" pointer-events=\"none\"><line transform=\"translate(0,200)\" x2=\"0\" y2=\"-200\" stroke=\"#888\" stroke-width=\"1\" opacity=\"1\"/></g><g class=\"mark-text role-axis-title\" pointer-events=\"none\"><text text-anchor=\"middle\" transform=\"translate(-23.724609375,100) rotate(-90) translate(0,-2)\" font-family=\"sans-serif\" font-size=\"11px\" font-weight=\"bold\" fill=\"#000\" opacity=\"1\">value_sum</text></g></g><path class=\"foreground\" aria-hidden=\"true\" d=\"\" pointer-events=\"none\" display=\"none\"/></g></g><g class=\"mark-group role-scope pathgroup\" role=\"graphics-object\" aria-roledescription=\"group mark container\"><g transform=\"translate(0,0)\"><path class=\"background\" aria-hidden=\"true\" d=\"M0,0h200v200h-200Z\"/><g><g class=\"mark-area role-mark marks\" role=\"graphics-object\" aria-roledescription=\"area mark container\"><path aria-label=\"hour: 0; value_sum: 6; resource: natural_gas_fired_combined_cycle\" role=\"graphics-symbol\" aria-roledescription=\"area mark\" d=\"M0,90L8.333,90L16.667,90L25,90L33.333,90L41.667,90L50,90L58.333,110L66.667,140L75,150L83.333,150L91.667,160L100,160L108.333,160L116.667,160L125,160L133.333,160L141.667,150L150,50L158.333,0L166.667,0L175,50L183.333,80L191.667,110L191.667,160L183.333,130L175,100L166.667,50L158.333,50L150,100L141.667,200L133.333,200L125,200L116.667,200L108.333,200L100,200L91.667,200L83.333,190L75,190L66.667,180L58.333,170L50,150L41.667,150L33.333,150L25,150L16.667,150L8.333,150L0,150Z\" fill=\"#1f77b4\"/></g></g><path class=\"foreground\" aria-hidden=\"true\" d=\"\" display=\"none\"/></g><g transform=\"translate(0,0)\"><path class=\"background\" aria-hidden=\"true\" d=\"M0,0h200v200h-200Z\"/><g><g class=\"mark-area role-mark marks\" role=\"graphics-object\" aria-roledescription=\"area mark container\"><path aria-label=\"hour: 0; value_sum: 5; resource: natural_gas_fired_combustion_turbine\" role=\"graphics-symbol\" aria-roledescription=\"area mark\" d=\"M0,150L8.333,150L16.667,150L25,150L33.333,150L41.667,150L50,150L58.333,170L66.667,180L75,190L83.333,190L91.667,200L100,200L108.333,200L116.667,200L125,200L133.333,200L141.667,200L150,100L158.333,50L166.667,50L175,100L183.333,130L191.667,160L191.667,200L183.333,200L175,200L166.667,200L158.333,200L150,200L141.667,200L133.333,200L125,200L116.667,200L108.333,200L100,200L91.667,200L83.333,200L75,200L66.667,200L58.333,200L50,200L41.667,200L33.333,200L25,200L16.667,200L8.333,200L0,200Z\" fill=\"#ff7f0e\"/></g></g><path class=\"foreground\" aria-hidden=\"true\" d=\"\" display=\"none\"/></g></g><g class=\"mark-group role-legend\" role=\"graphics-symbol\" aria-roledescription=\"legend\" aria-label=\"Symbol legend titled 'resource' for fill color with 2 values: natural_gas_fired_combined_cycle, natural_gas_fired_combustion_turbine\"><g transform=\"translate(218,0)\"><path class=\"background\" aria-hidden=\"true\" d=\"M0,0h176v40h-176Z\" pointer-events=\"none\"/><g><g class=\"mark-group role-legend-entry\"><g transform=\"translate(0,16)\"><path class=\"background\" aria-hidden=\"true\" d=\"M0,0h0v0h0Z\" pointer-events=\"none\"/><g><g class=\"mark-group role-scope\" role=\"graphics-object\" aria-roledescription=\"group mark container\"><g transform=\"translate(0,0)\"><path class=\"background\" aria-hidden=\"true\" d=\"M0,0h175.5263671875v11h-175.5263671875Z\" pointer-events=\"none\" opacity=\"1\"/><g><g class=\"mark-symbol role-legend-symbol\" pointer-events=\"none\"><path transform=\"translate(6,6)\" d=\"M5,0A5,5,0,1,1,-5,0A5,5,0,1,1,5,0\" fill=\"#1f77b4\" stroke-width=\"1.5\" opacity=\"1\"/></g><g class=\"mark-text role-legend-label\" pointer-events=\"none\"><text text-anchor=\"start\" transform=\"translate(16,9)\" font-family=\"sans-serif\" font-size=\"10px\" fill=\"#000\" opacity=\"1\">natural_gas_fired_combined_…</text></g></g><path class=\"foreground\" aria-hidden=\"true\" d=\"\" pointer-events=\"none\" display=\"none\"/></g><g transform=\"translate(0,13)\"><path class=\"background\" aria-hidden=\"true\" d=\"M0,0h175.5263671875v11h-175.5263671875Z\" pointer-events=\"none\" opacity=\"1\"/><g><g class=\"mark-symbol role-legend-symbol\" pointer-events=\"none\"><path transform=\"translate(6,6)\" d=\"M5,0A5,5,0,1,1,-5,0A5,5,0,1,1,5,0\" fill=\"#ff7f0e\" stroke-width=\"1.5\" opacity=\"1\"/></g><g class=\"mark-text role-legend-label\" pointer-events=\"none\"><text text-anchor=\"start\" transform=\"translate(16,9)\" font-family=\"sans-serif\" font-size=\"10px\" fill=\"#000\" opacity=\"1\">natural_gas_fired_combustion…</text></g></g><path class=\"foreground\" aria-hidden=\"true\" d=\"\" pointer-events=\"none\" display=\"none\"/></g></g></g><path class=\"foreground\" aria-hidden=\"true\" d=\"\" pointer-events=\"none\" display=\"none\"/></g></g><g class=\"mark-text role-legend-title\" pointer-events=\"none\"><text text-anchor=\"start\" transform=\"translate(0,9)\" font-family=\"sans-serif\" font-size=\"11px\" font-weight=\"bold\" fill=\"#000\" opacity=\"1\">resource</text></g></g><path class=\"foreground\" aria-hidden=\"true\" d=\"\" pointer-events=\"none\" display=\"none\"/></g></g></g><path class=\"foreground\" aria-hidden=\"true\" d=\"\" display=\"none\"/></g></g></g></svg>"
      ],
      "text/plain": [
       "@vlplot(\n",
       "    mark=\"area\",\n",
       "    encoding={\n",
       "        x={\n",
       "            field=\"hour\"\n",
       "        },\n",
       "        y={\n",
       "            stack=\"zero\",\n",
       "            field=\"value_sum\"\n",
       "        },\n",
       "        color={\n",
       "            scale={\n",
       "                scheme=\"category10\"\n",
       "            },\n",
       "            field=\"resource\",\n",
       "            type=\"nominal\"\n",
       "        }\n",
       "    },\n",
       "    data={\n",
       "        values=...\n",
       "    }\n",
       ")"
      ]
     },
     "metadata": {},
     "output_type": "display_data"
    }
   ],
   "source": [
    "sol_commit = innerjoin(solution.COMMIT, \n",
    "                    gen_df[!, [:r_id, :resource]], \n",
    "                    on = :r_id)\n",
    "sol_commit = combine(groupby(sol_commit, [:resource, :hour]), \n",
    "            :value => sum)\n",
    "sol_commit.hour = sol_commit.hour .- T_period[1]\n",
    "\n",
    "sol_commit |>\n",
    "@vlplot(:area, \n",
    "    x=:hour, y={:value_sum, stack=:zero}, \n",
    "    color={\"resource:n\", scale={scheme=\"category10\"}})"
   ]
  },
  {
   "cell_type": "markdown",
   "metadata": {},
   "source": [
    "### Unit commitment ramp and energy reserve"
   ]
  },
  {
   "cell_type": "code",
   "execution_count": 12,
   "metadata": {},
   "outputs": [
    {
     "name": "stdout",
     "output_type": "stream",
     "text": [
      "Set parameter WLSAccessID\n",
      "Set parameter WLSSecret\n",
      "Set parameter LicenseID to value 2475843\n",
      "Academic license 2475843 - for non-commercial use only - registered to pa___@imperial.ac.uk\n",
      "Set parameter MIPGap to value 0.001\n",
      "Adding ramp constraints...\n",
      "Adding energy reserve constraints...\n"
     ]
    },
    {
     "name": "stdout",
     "output_type": "stream",
     "text": [
      "Set parameter MIPGap to value 0.001\n",
      "Gurobi Optimizer version 11.0.0 build v11.0.0rc2 (linux64 - \"Ubuntu 22.04.3 LTS\")\n",
      "\n",
      "CPU model: 11th Gen Intel(R) Core(TM) i7-11370H @ 3.30GHz, instruction set [SSE2|AVX|AVX2|AVX512]\n",
      "Thread count: 4 physical cores, 8 logical processors, using up to 8 threads\n",
      "\n",
      "Academic license 2475843 - for non-commercial use only - registered to pa___@imperial.ac.uk\n",
      "Optimize a model with 31532 rows, 15960 columns and 281696 nonzeros\n",
      "Model fingerprint: 0xeac0adb5\n",
      "Variable types: 14376 continuous, 1584 integer (1584 binary)\n",
      "Coefficient statistics:\n",
      "  Matrix range     [1e+00, 6e+02]\n",
      "  Objective range  [5e+00, 5e+04]\n",
      "  Bounds range     [0e+00, 0e+00]\n",
      "  RHS range        [1e+00, 3e+04]\n",
      "Presolve removed 22534 rows and 12692 columns\n",
      "Presolve time: 0.60s\n",
      "Presolved: 8998 rows, 3268 columns, 126488 nonzeros\n",
      "Variable types: 1728 continuous, 1540 integer (1540 binary)\n",
      "\n",
      "Root relaxation: objective 8.971854e+05, 2576 iterations, 0.15 seconds (0.20 work units)\n",
      "\n",
      "    Nodes    |    Current Node    |     Objective Bounds      |     Work\n",
      " Expl Unexpl |  Obj  Depth IntInf | Incumbent    BestBd   Gap | It/Node Time\n",
      "\n",
      "     0     0 897185.424    0   50          - 897185.424      -     -    0s\n",
      "H    0     0                    902797.45490 897185.424  0.62%     -    1s\n",
      "     0     0 897881.430    0   84 902797.455 897881.430  0.54%     -    1s\n",
      "     0     0 897881.430    0   84 902797.455 897881.430  0.54%     -    1s\n",
      "     0     0 898707.497    0   77 902797.455 898707.497  0.45%     -    1s\n",
      "     0     0 898707.497    0   77 902797.455 898707.497  0.45%     -    1s\n",
      "     0     0 898778.705    0  110 902797.455 898778.705  0.45%     -    1s\n",
      "     0     0 898821.949    0  121 902797.455 898821.949  0.44%     -    1s\n",
      "     0     0 898821.949    0  115 902797.455 898821.949  0.44%     -    1s\n",
      "     0     0 898898.857    0  108 902797.455 898898.857  0.43%     -    2s\n",
      "     0     0 899025.723    0  111 902797.455 899025.723  0.42%     -    2s\n",
      "     0     0 899090.557    0  120 902797.455 899090.557  0.41%     -    2s\n",
      "     0     0 899090.557    0  121 902797.455 899090.557  0.41%     -    2s\n",
      "H    0     0                    902786.85519 899090.557  0.41%     -    2s\n",
      "H    0     0                    901733.18785 899090.557  0.29%     -    2s\n",
      "     0     0 899090.557    0  122 901733.188 899090.557  0.29%     -    2s\n",
      "     0     0 899269.097    0  127 901733.188 899269.097  0.27%     -    2s\n",
      "     0     0 899269.097    0  136 901733.188 899269.097  0.27%     -    2s\n",
      "     0     0 899269.097    0  136 901733.188 899269.097  0.27%     -    2s\n",
      "H    0     0                    901693.63306 899269.097  0.27%     -    2s\n",
      "     0     0 899269.097    0  106 901693.633 899269.097  0.27%     -    2s\n",
      "     0     0 899269.224    0  126 901693.633 899269.224  0.27%     -    2s\n",
      "     0     0 899269.224    0  129 901693.633 899269.224  0.27%     -    2s\n",
      "H    0     0                    901662.70463 899269.224  0.27%     -    3s\n",
      "     0     0 899269.224    0  131 901662.705 899269.224  0.27%     -    3s\n",
      "     0     0 899269.350    0  131 901662.705 899269.350  0.27%     -    3s\n",
      "     0     0 899269.350    0  131 901662.705 899269.350  0.27%     -    3s\n",
      "     0     0 899269.350    0  133 901662.705 899269.350  0.27%     -    3s\n",
      "     0     0 899269.350    0  118 901662.705 899269.350  0.27%     -    3s\n",
      "     0     0 899270.226    0  117 901662.705 899270.226  0.27%     -    3s\n",
      "     0     0 899270.226    0  123 901662.705 899270.226  0.27%     -    3s\n",
      "     0     0 899270.226    0  137 901662.705 899270.226  0.27%     -    3s\n",
      "     0     0 899270.479    0  138 901662.705 899270.479  0.27%     -    3s\n",
      "     0     0 899270.479    0  129 901662.705 899270.479  0.27%     -    3s\n",
      "     0     0 899283.389    0  141 901662.705 899283.389  0.26%     -    3s\n",
      "     0     0 899283.389    0  129 901662.705 899283.389  0.26%     -    4s\n",
      "     0     0 899283.389    0  129 901662.705 899283.389  0.26%     -    4s\n",
      "     0     0 899288.821    0   34 901662.705 899288.821  0.26%     -    5s\n",
      "     0     0 899288.821    0   88 901662.705 899288.821  0.26%     -    5s\n",
      "     0     0 899288.821    0   94 901662.705 899288.821  0.26%     -    5s\n",
      "     0     0 899288.821    0   91 901662.705 899288.821  0.26%     -    5s\n",
      "     0     0 899288.821    0   80 901662.705 899288.821  0.26%     -    5s\n",
      "     0     0 899288.821    0   97 901662.705 899288.821  0.26%     -    5s\n",
      "     0     0 899288.821    0   96 901662.705 899288.821  0.26%     -    5s\n",
      "     0     0 899288.821    0   96 901662.705 899288.821  0.26%     -    5s\n",
      "H    0     0                    901658.28808 899288.821  0.26%     -    5s\n",
      "     0     0 899288.821    0   85 901658.288 899288.821  0.26%     -    5s\n",
      "     0     0 899288.821    0   98 901658.288 899288.821  0.26%     -    5s\n",
      "     0     0 899288.821    0   98 901658.288 899288.821  0.26%     -    5s\n",
      "     0     0 899288.821    0  113 901658.288 899288.821  0.26%     -    6s\n",
      "     0     0 899393.658    0  102 901658.288 899393.658  0.25%     -    6s\n",
      "     0     0 899393.658    0  107 901658.288 899393.658  0.25%     -    6s\n",
      "     0     0 899393.658    0  108 901658.288 899393.658  0.25%     -    6s\n",
      "H    0     0                    901658.11142 899393.658  0.25%     -    6s\n",
      "     0     0 899393.658    0  103 901658.111 899393.658  0.25%     -    6s\n",
      "     0     0 899393.658    0  107 901658.111 899393.658  0.25%     -    6s\n",
      "     0     0 899393.658    0  104 901658.111 899393.658  0.25%     -    6s\n",
      "     0     0 899393.658    0  105 901658.111 899393.658  0.25%     -    6s\n",
      "     0     0 899393.658    0  102 901658.111 899393.658  0.25%     -    6s\n",
      "     0     0 899393.658    0  107 901658.111 899393.658  0.25%     -    6s\n",
      "     0     0 899393.658    0  101 901658.111 899393.658  0.25%     -    6s\n",
      "     0     0 899393.658    0  102 901658.111 899393.658  0.25%     -    6s\n",
      "     0     0 899393.658    0  109 901658.111 899393.658  0.25%     -    7s\n",
      "     0     0 899393.658    0  109 901658.111 899393.658  0.25%     -    7s\n",
      "     0     2 899627.055    0  109 901658.111 899627.055  0.23%     -    7s\n",
      "H   85    76                    901651.85255 899835.791  0.20%  22.1    8s\n",
      "  1163   492     cutoff   17      901651.853 900392.438  0.14%  15.3   10s\n",
      "H 1677   550                    901640.20120 900533.891  0.12%  15.6   10s\n",
      "\n",
      "Cutting planes:\n",
      "  Gomory: 14\n",
      "  Cover: 2\n",
      "  Implied bound: 6\n",
      "  MIR: 54\n",
      "  StrongCG: 1\n",
      "  Flow cover: 25\n",
      "  Inf proof: 10\n",
      "  RLT: 1\n",
      "\n",
      "Explored 2134 nodes (42160 simplex iterations) in 11.45 seconds (13.25 work units)\n",
      "Thread count was 8 (of 8 available processors)\n",
      "\n",
      "Solution count 7: 901640 901652 901663 ... 902797\n",
      "\n",
      "Optimal solution found (tolerance 1.00e-03)\n",
      "Best objective 9.016402012020e+05, best bound 9.007499076570e+05, gap 0.0987%\n",
      "\n",
      "User-callback calls 7040, time in user-callback 0.01 sec\n"
     ]
    },
    {
     "ename": "MethodError",
     "evalue": "MethodError: no method matching DataFrame(::Dict{Tuple{Int64, Int64, Int64}, Float64}, ::Symbol)\n\nClosest candidates are:\n  DataFrame(::AbstractDict; copycols)\n   @ DataFrames ~/.julia/packages/DataFrames/58MUJ/src/dataframe/dataframe.jl:289\n  DataFrame(!Matched::AbstractVector, ::Symbol; copycols)\n   @ DataFrames ~/.julia/packages/DataFrames/58MUJ/src/dataframe/dataframe.jl:367\n  DataFrame(!Matched::AbstractMatrix, ::Symbol; copycols)\n   @ DataFrames ~/.julia/packages/DataFrames/58MUJ/src/dataframe/dataframe.jl:388\n  ...\n",
     "output_type": "error",
     "traceback": [
      "MethodError: no method matching DataFrame(::Dict{Tuple{Int64, Int64, Int64}, Float64}, ::Symbol)\n",
      "\n",
      "Closest candidates are:\n",
      "  DataFrame(::AbstractDict; copycols)\n",
      "   @ DataFrames ~/.julia/packages/DataFrames/58MUJ/src/dataframe/dataframe.jl:289\n",
      "  DataFrame(!Matched::AbstractVector, ::Symbol; copycols)\n",
      "   @ DataFrames ~/.julia/packages/DataFrames/58MUJ/src/dataframe/dataframe.jl:367\n",
      "  DataFrame(!Matched::AbstractMatrix, ::Symbol; copycols)\n",
      "   @ DataFrames ~/.julia/packages/DataFrames/58MUJ/src/dataframe/dataframe.jl:388\n",
      "  ...\n",
      "\n",
      "\n",
      "Stacktrace:\n",
      " [1] value_to_df_2dim(var::JuMP.Containers.SparseAxisArray{Float64, 3, Tuple{Int64, Int64, Int64}})\n",
      "   @ Main /mnt/c/Users/pgallego/OneDrive - Imperial College London/PhD/Repositories/energy_reserve/unit_commitment.jl:9\n",
      " [2] (::var\"#169#170\"{Model})(k::Symbol)\n",
      "   @ Main ./none:0\n",
      " [3] iterate\n",
      "   @ ./generator.jl:47 [inlined]\n",
      " [4] merge(a::@NamedTuple{}, itr::Base.Generator{Set{Symbol}, var\"#169#170\"{Model}})\n",
      "   @ Base ./namedtuple.jl:364\n",
      " [5] NamedTuple\n",
      "   @ ./namedtuple.jl:151 [inlined]\n",
      " [6] get_solution_variables(model::Model)\n",
      "   @ Main /mnt/c/Users/pgallego/OneDrive - Imperial College London/PhD/Repositories/energy_reserve/unit_commitment.jl:312\n",
      " [7] solve_unit_commitment(gen_df::DataFrame, loads::DataFrame, gen_variable::DataFrame, mip_gap::Float64; kwargs::@Kwargs{ramp_constraints::Bool, energy_reserve::DataFrame})\n",
      "   @ Main /mnt/c/Users/pgallego/OneDrive - Imperial College London/PhD/Repositories/energy_reserve/unit_commitment.jl:411\n",
      " [8] top-level scope\n",
      "   @ /mnt/c/Users/pgallego/OneDrive - Imperial College London/PhD/Repositories/energy_reserve/Unit_commitment.ipynb:1"
     ]
    }
   ],
   "source": [
    "solution = solve_unit_commitment(\n",
    "    gen_df_sens,\n",
    "    loads_multi,\n",
    "    gen_variable_multi,\n",
    "    0.001,\n",
    "    ramp_constraints = true,\n",
    "    energy_reserve = required_energy_reserve)\n",
    "    sol_gen = innerjoin(solution.GEN, \n",
    "                    gen_df[!, [:r_id, :resource]], \n",
    "                    on = :r_id)\n",
    "sol_gen = combine(groupby(sol_gen, [:resource, :hour]), \n",
    "            :value => sum)\n",
    "\n",
    "# Rename generators (for plotting purposes)\n",
    "sol_gen[sol_gen.resource .== \"solar_photovoltaic\", :resource] .= \"_solar_photovoltaic\"\n",
    "sol_gen[sol_gen.resource .== \"onshore_wind_turbine\", :resource] .= \"_onshore_wind_turbine\"\n",
    "sol_gen[sol_gen.resource .== \"small_hydroelectric\", :resource] .= \"_small_hydroelectric\"\n",
    "\n",
    "# BTM solar\n",
    "btm = DataFrame(resource = repeat([\"_solar_photovoltaic_btm\"]; outer=length(T_period)), \n",
    "    hour = T_period,\n",
    "    value_sum = gen_variable_multi[gen_variable_multi.gen_full .== \"wec_sdge_solar_photovoltaic_1.0\",:cf] * 600)\n",
    "append!(sol_gen, btm)\n",
    "\n",
    "# Curtailment\n",
    "if haskey(solution, :curtail)\n",
    "    curtail = combine(groupby(solution.curtail, [:hour]),\n",
    "                :value => sum)\n",
    "    curtail[!, :resource] .= \"_curtailment\"\n",
    "    # rename!(curtail, :curt_sum => :value_sum)\n",
    "    append!(sol_gen, curtail[:,[:resource, :hour, :value_sum]])\n",
    "end\n",
    "\n",
    "# Rescale hours\n",
    "sol_gen.hour = sol_gen.hour .- T_period[1]\n",
    "\n",
    "sol_gen |>\n",
    "@vlplot(:area, \n",
    "    x=:hour, y={:value_sum, stack=:zero}, \n",
    "    color={\"resource:n\", scale={scheme=\"category10\"}})"
   ]
  },
  {
   "cell_type": "code",
   "execution_count": 8,
   "metadata": {},
   "outputs": [
    {
     "data": {
      "application/vnd.vegalite.v5+json": {
       "data": {
        "values": [
         {
          "hour": 0,
          "resource": "natural_gas_fired_combined_cycle",
          "value_sum": 6
         },
         {
          "hour": 0,
          "resource": "natural_gas_fired_combustion_turbine",
          "value_sum": 5
         },
         {
          "hour": 1,
          "resource": "natural_gas_fired_combined_cycle",
          "value_sum": 6
         },
         {
          "hour": 1,
          "resource": "natural_gas_fired_combustion_turbine",
          "value_sum": 5
         },
         {
          "hour": 2,
          "resource": "natural_gas_fired_combined_cycle",
          "value_sum": 6
         },
         {
          "hour": 2,
          "resource": "natural_gas_fired_combustion_turbine",
          "value_sum": 5
         },
         {
          "hour": 3,
          "resource": "natural_gas_fired_combined_cycle",
          "value_sum": 6
         },
         {
          "hour": 3,
          "resource": "natural_gas_fired_combustion_turbine",
          "value_sum": 5
         },
         {
          "hour": 4,
          "resource": "natural_gas_fired_combined_cycle",
          "value_sum": 6
         },
         {
          "hour": 4,
          "resource": "natural_gas_fired_combustion_turbine",
          "value_sum": 5
         },
         {
          "hour": 5,
          "resource": "natural_gas_fired_combined_cycle",
          "value_sum": 6
         },
         {
          "hour": 5,
          "resource": "natural_gas_fired_combustion_turbine",
          "value_sum": 5
         },
         {
          "hour": 6,
          "resource": "natural_gas_fired_combined_cycle",
          "value_sum": 6
         },
         {
          "hour": 6,
          "resource": "natural_gas_fired_combustion_turbine",
          "value_sum": 5
         },
         {
          "hour": 7,
          "resource": "natural_gas_fired_combined_cycle",
          "value_sum": 6
         },
         {
          "hour": 7,
          "resource": "natural_gas_fired_combustion_turbine",
          "value_sum": 3
         },
         {
          "hour": 8,
          "resource": "natural_gas_fired_combined_cycle",
          "value_sum": 4
         },
         {
          "hour": 8,
          "resource": "natural_gas_fired_combustion_turbine",
          "value_sum": 2
         },
         {
          "hour": 9,
          "resource": "natural_gas_fired_combined_cycle",
          "value_sum": 4
         },
         {
          "hour": 9,
          "resource": "natural_gas_fired_combustion_turbine",
          "value_sum": 1
         },
         {
          "hour": 10,
          "resource": "natural_gas_fired_combined_cycle",
          "value_sum": 4
         },
         {
          "hour": 10,
          "resource": "natural_gas_fired_combustion_turbine",
          "value_sum": 1
         },
         {
          "hour": 11,
          "resource": "natural_gas_fired_combined_cycle",
          "value_sum": 4
         },
         {
          "hour": 11,
          "resource": "natural_gas_fired_combustion_turbine",
          "value_sum": 0
         },
         {
          "hour": 12,
          "resource": "natural_gas_fired_combined_cycle",
          "value_sum": 4
         },
         {
          "hour": 12,
          "resource": "natural_gas_fired_combustion_turbine",
          "value_sum": 0
         },
         {
          "hour": 13,
          "resource": "natural_gas_fired_combined_cycle",
          "value_sum": 4
         },
         {
          "hour": 13,
          "resource": "natural_gas_fired_combustion_turbine",
          "value_sum": 0
         },
         {
          "hour": 14,
          "resource": "natural_gas_fired_combined_cycle",
          "value_sum": 4
         },
         {
          "hour": 14,
          "resource": "natural_gas_fired_combustion_turbine",
          "value_sum": 0
         },
         {
          "hour": 15,
          "resource": "natural_gas_fired_combined_cycle",
          "value_sum": 4
         },
         {
          "hour": 15,
          "resource": "natural_gas_fired_combustion_turbine",
          "value_sum": 0
         },
         {
          "hour": 16,
          "resource": "natural_gas_fired_combined_cycle",
          "value_sum": 4
         },
         {
          "hour": 16,
          "resource": "natural_gas_fired_combustion_turbine",
          "value_sum": 0
         },
         {
          "hour": 17,
          "resource": "natural_gas_fired_combined_cycle",
          "value_sum": 5
         },
         {
          "hour": 17,
          "resource": "natural_gas_fired_combustion_turbine",
          "value_sum": 0
         },
         {
          "hour": 18,
          "resource": "natural_gas_fired_combined_cycle",
          "value_sum": 5
         },
         {
          "hour": 18,
          "resource": "natural_gas_fired_combustion_turbine",
          "value_sum": 10
         },
         {
          "hour": 19,
          "resource": "natural_gas_fired_combined_cycle",
          "value_sum": 5
         },
         {
          "hour": 19,
          "resource": "natural_gas_fired_combustion_turbine",
          "value_sum": 15
         },
         {
          "hour": 20,
          "resource": "natural_gas_fired_combined_cycle",
          "value_sum": 5
         },
         {
          "hour": 20,
          "resource": "natural_gas_fired_combustion_turbine",
          "value_sum": 15
         },
         {
          "hour": 21,
          "resource": "natural_gas_fired_combined_cycle",
          "value_sum": 5
         },
         {
          "hour": 21,
          "resource": "natural_gas_fired_combustion_turbine",
          "value_sum": 10
         },
         {
          "hour": 22,
          "resource": "natural_gas_fired_combined_cycle",
          "value_sum": 5
         },
         {
          "hour": 22,
          "resource": "natural_gas_fired_combustion_turbine",
          "value_sum": 7
         },
         {
          "hour": 23,
          "resource": "natural_gas_fired_combined_cycle",
          "value_sum": 5
         },
         {
          "hour": 23,
          "resource": "natural_gas_fired_combustion_turbine",
          "value_sum": 4
         }
        ]
       },
       "encoding": {
        "color": {
         "field": "resource",
         "scale": {
          "scheme": "category10"
         },
         "type": "nominal"
        },
        "x": {
         "field": "hour",
         "type": "quantitative"
        },
        "y": {
         "field": "value_sum",
         "stack": "zero",
         "type": "quantitative"
        }
       },
       "mark": "area"
      },
      "image/png": "[encoded data removed]",
      "image/svg+xml": [
       "<svg xmlns=\"http://www.w3.org/2000/svg\" xmlns:xlink=\"http://www.w3.org/1999/xlink\" version=\"1.1\" class=\"marks\" width=\"439\" height=\"247\" viewBox=\"0 0 439 247\"><rect width=\"439\" height=\"247\" fill=\"white\"/><g fill=\"none\" stroke-miterlimit=\"10\" transform=\"translate(40,10)\"><g class=\"mark-group role-frame root\" role=\"graphics-object\" aria-roledescription=\"group mark container\"><g transform=\"translate(0,0)\"><path class=\"background\" aria-hidden=\"true\" d=\"M0.5,0.5h200v200h-200Z\" stroke=\"#ddd\"/><g><g class=\"mark-group role-axis\" aria-hidden=\"true\"><g transform=\"translate(0.5,200.5)\"><path class=\"background\" aria-hidden=\"true\" d=\"M0,0h0v0h0Z\" pointer-events=\"none\"/><g><g class=\"mark-rule role-axis-grid\" pointer-events=\"none\"><line transform=\"translate(0,-200)\" x2=\"0\" y2=\"200\" stroke=\"#ddd\" stroke-width=\"1\" opacity=\"1\"/><line transform=\"translate(42,-200)\" x2=\"0\" y2=\"200\" stroke=\"#ddd\" stroke-width=\"1\" opacity=\"1\"/><line transform=\"translate(83,-200)\" x2=\"0\" y2=\"200\" stroke=\"#ddd\" stroke-width=\"1\" opacity=\"1\"/><line transform=\"translate(125,-200)\" x2=\"0\" y2=\"200\" stroke=\"#ddd\" stroke-width=\"1\" opacity=\"1\"/><line transform=\"translate(167,-200)\" x2=\"0\" y2=\"200\" stroke=\"#ddd\" stroke-width=\"1\" opacity=\"1\"/></g></g><path class=\"foreground\" aria-hidden=\"true\" d=\"\" pointer-events=\"none\" display=\"none\"/></g></g><g class=\"mark-group role-axis\" aria-hidden=\"true\"><g transform=\"translate(0.5,0.5)\"><path class=\"background\" aria-hidden=\"true\" d=\"M0,0h0v0h0Z\" pointer-events=\"none\"/><g><g class=\"mark-rule role-axis-grid\" pointer-events=\"none\"><line transform=\"translate(0,200)\" x2=\"200\" y2=\"0\" stroke=\"#ddd\" stroke-width=\"1\" opacity=\"1\"/><line transform=\"translate(0,150)\" x2=\"200\" y2=\"0\" stroke=\"#ddd\" stroke-width=\"1\" opacity=\"1\"/><line transform=\"translate(0,100)\" x2=\"200\" y2=\"0\" stroke=\"#ddd\" stroke-width=\"1\" opacity=\"1\"/><line transform=\"translate(0,50)\" x2=\"200\" y2=\"0\" stroke=\"#ddd\" stroke-width=\"1\" opacity=\"1\"/><line transform=\"translate(0,0)\" x2=\"200\" y2=\"0\" stroke=\"#ddd\" stroke-width=\"1\" opacity=\"1\"/></g></g><path class=\"foreground\" aria-hidden=\"true\" d=\"\" pointer-events=\"none\" display=\"none\"/></g></g><g class=\"mark-group role-axis\" role=\"graphics-symbol\" aria-roledescription=\"axis\" aria-label=\"X-axis titled 'hour' for a linear scale with values from 0 to 24\"><g transform=\"translate(0.5,200.5)\"><path class=\"background\" aria-hidden=\"true\" d=\"M0,0h0v0h0Z\" pointer-events=\"none\"/><g><g class=\"mark-rule role-axis-tick\" pointer-events=\"none\"><line transform=\"translate(0,0)\" x2=\"0\" y2=\"5\" stroke=\"#888\" stroke-width=\"1\" opacity=\"1\"/><line transform=\"translate(42,0)\" x2=\"0\" y2=\"5\" stroke=\"#888\" stroke-width=\"1\" opacity=\"1\"/><line transform=\"translate(83,0)\" x2=\"0\" y2=\"5\" stroke=\"#888\" stroke-width=\"1\" opacity=\"1\"/><line transform=\"translate(125,0)\" x2=\"0\" y2=\"5\" stroke=\"#888\" stroke-width=\"1\" opacity=\"1\"/><line transform=\"translate(167,0)\" x2=\"0\" y2=\"5\" stroke=\"#888\" stroke-width=\"1\" opacity=\"1\"/></g><g class=\"mark-text role-axis-label\" pointer-events=\"none\"><text text-anchor=\"start\" transform=\"translate(0,15)\" font-family=\"sans-serif\" font-size=\"10px\" fill=\"#000\" opacity=\"1\">0</text><text text-anchor=\"middle\" transform=\"translate(41.66666666666667,15)\" font-family=\"sans-serif\" font-size=\"10px\" fill=\"#000\" opacity=\"1\">5</text><text text-anchor=\"middle\" transform=\"translate(83.33333333333334,15)\" font-family=\"sans-serif\" font-size=\"10px\" fill=\"#000\" opacity=\"1\">10</text><text text-anchor=\"middle\" transform=\"translate(125,15)\" font-family=\"sans-serif\" font-size=\"10px\" fill=\"#000\" opacity=\"1\">15</text><text text-anchor=\"middle\" transform=\"translate(166.66666666666669,15)\" font-family=\"sans-serif\" font-size=\"10px\" fill=\"#000\" opacity=\"1\">20</text></g><g class=\"mark-rule role-axis-domain\" pointer-events=\"none\"><line transform=\"translate(0,0)\" x2=\"200\" y2=\"0\" stroke=\"#888\" stroke-width=\"1\" opacity=\"1\"/></g><g class=\"mark-text role-axis-title\" pointer-events=\"none\"><text text-anchor=\"middle\" transform=\"translate(100,30)\" font-family=\"sans-serif\" font-size=\"11px\" font-weight=\"bold\" fill=\"#000\" opacity=\"1\">hour</text></g></g><path class=\"foreground\" aria-hidden=\"true\" d=\"\" pointer-events=\"none\" display=\"none\"/></g></g><g class=\"mark-group role-axis\" role=\"graphics-symbol\" aria-roledescription=\"axis\" aria-label=\"Y-axis titled 'value_sum' for a linear scale with values from 0 to 20\"><g transform=\"translate(0.5,0.5)\"><path class=\"background\" aria-hidden=\"true\" d=\"M0,0h0v0h0Z\" pointer-events=\"none\"/><g><g class=\"mark-rule role-axis-tick\" pointer-events=\"none\"><line transform=\"translate(0,200)\" x2=\"-5\" y2=\"0\" stroke=\"#888\" stroke-width=\"1\" opacity=\"1\"/><line transform=\"translate(0,150)\" x2=\"-5\" y2=\"0\" stroke=\"#888\" stroke-width=\"1\" opacity=\"1\"/><line transform=\"translate(0,100)\" x2=\"-5\" y2=\"0\" stroke=\"#888\" stroke-width=\"1\" opacity=\"1\"/><line transform=\"translate(0,50)\" x2=\"-5\" y2=\"0\" stroke=\"#888\" stroke-width=\"1\" opacity=\"1\"/><line transform=\"translate(0,0)\" x2=\"-5\" y2=\"0\" stroke=\"#888\" stroke-width=\"1\" opacity=\"1\"/></g><g class=\"mark-text role-axis-label\" pointer-events=\"none\"><text text-anchor=\"end\" transform=\"translate(-7,203)\" font-family=\"sans-serif\" font-size=\"10px\" fill=\"#000\" opacity=\"1\">0</text><text text-anchor=\"end\" transform=\"translate(-7,153)\" font-family=\"sans-serif\" font-size=\"10px\" fill=\"#000\" opacity=\"1\">5</text><text text-anchor=\"end\" transform=\"translate(-7,103)\" font-family=\"sans-serif\" font-size=\"10px\" fill=\"#000\" opacity=\"1\">10</text><text text-anchor=\"end\" transform=\"translate(-7,53)\" font-family=\"sans-serif\" font-size=\"10px\" fill=\"#000\" opacity=\"1\">15</text><text text-anchor=\"end\" transform=\"translate(-7,3)\" font-family=\"sans-serif\" font-size=\"10px\" fill=\"#000\" opacity=\"1\">20</text></g><g class=\"mark-rule role-axis-domain\" pointer-events=\"none\"><line transform=\"translate(0,200)\" x2=\"0\" y2=\"-200\" stroke=\"#888\" stroke-width=\"1\" opacity=\"1\"/></g><g class=\"mark-text role-axis-title\" pointer-events=\"none\"><text text-anchor=\"middle\" transform=\"translate(-23.724609375,100) rotate(-90) translate(0,-2)\" font-family=\"sans-serif\" font-size=\"11px\" font-weight=\"bold\" fill=\"#000\" opacity=\"1\">value_sum</text></g></g><path class=\"foreground\" aria-hidden=\"true\" d=\"\" pointer-events=\"none\" display=\"none\"/></g></g><g class=\"mark-group role-scope pathgroup\" role=\"graphics-object\" aria-roledescription=\"group mark container\"><g transform=\"translate(0,0)\"><path class=\"background\" aria-hidden=\"true\" d=\"M0,0h200v200h-200Z\"/><g><g class=\"mark-area role-mark marks\" role=\"graphics-object\" aria-roledescription=\"area mark container\"><path aria-label=\"hour: 0; value_sum: 6; resource: natural_gas_fired_combined_cycle\" role=\"graphics-symbol\" aria-roledescription=\"area mark\" d=\"M0,90L8.333,90L16.667,90L25,90L33.333,90L41.667,90L50,90L58.333,110L66.667,140L75,150L83.333,150L91.667,160L100,160L108.333,160L116.667,160L125,160L133.333,160L141.667,150L150,50L158.333,0L166.667,0L175,50L183.333,80L191.667,110L191.667,160L183.333,130L175,100L166.667,50L158.333,50L150,100L141.667,200L133.333,200L125,200L116.667,200L108.333,200L100,200L91.667,200L83.333,190L75,190L66.667,180L58.333,170L50,150L41.667,150L33.333,150L25,150L16.667,150L8.333,150L0,150Z\" fill=\"#1f77b4\"/></g></g><path class=\"foreground\" aria-hidden=\"true\" d=\"\" display=\"none\"/></g><g transform=\"translate(0,0)\"><path class=\"background\" aria-hidden=\"true\" d=\"M0,0h200v200h-200Z\"/><g><g class=\"mark-area role-mark marks\" role=\"graphics-object\" aria-roledescription=\"area mark container\"><path aria-label=\"hour: 0; value_sum: 5; resource: natural_gas_fired_combustion_turbine\" role=\"graphics-symbol\" aria-roledescription=\"area mark\" d=\"M0,150L8.333,150L16.667,150L25,150L33.333,150L41.667,150L50,150L58.333,170L66.667,180L75,190L83.333,190L91.667,200L100,200L108.333,200L116.667,200L125,200L133.333,200L141.667,200L150,100L158.333,50L166.667,50L175,100L183.333,130L191.667,160L191.667,200L183.333,200L175,200L166.667,200L158.333,200L150,200L141.667,200L133.333,200L125,200L116.667,200L108.333,200L100,200L91.667,200L83.333,200L75,200L66.667,200L58.333,200L50,200L41.667,200L33.333,200L25,200L16.667,200L8.333,200L0,200Z\" fill=\"#ff7f0e\"/></g></g><path class=\"foreground\" aria-hidden=\"true\" d=\"\" display=\"none\"/></g></g><g class=\"mark-group role-legend\" role=\"graphics-symbol\" aria-roledescription=\"legend\" aria-label=\"Symbol legend titled 'resource' for fill color with 2 values: natural_gas_fired_combined_cycle, natural_gas_fired_combustion_turbine\"><g transform=\"translate(218,0)\"><path class=\"background\" aria-hidden=\"true\" d=\"M0,0h176v40h-176Z\" pointer-events=\"none\"/><g><g class=\"mark-group role-legend-entry\"><g transform=\"translate(0,16)\"><path class=\"background\" aria-hidden=\"true\" d=\"M0,0h0v0h0Z\" pointer-events=\"none\"/><g><g class=\"mark-group role-scope\" role=\"graphics-object\" aria-roledescription=\"group mark container\"><g transform=\"translate(0,0)\"><path class=\"background\" aria-hidden=\"true\" d=\"M0,0h175.5263671875v11h-175.5263671875Z\" pointer-events=\"none\" opacity=\"1\"/><g><g class=\"mark-symbol role-legend-symbol\" pointer-events=\"none\"><path transform=\"translate(6,6)\" d=\"M5,0A5,5,0,1,1,-5,0A5,5,0,1,1,5,0\" fill=\"#1f77b4\" stroke-width=\"1.5\" opacity=\"1\"/></g><g class=\"mark-text role-legend-label\" pointer-events=\"none\"><text text-anchor=\"start\" transform=\"translate(16,9)\" font-family=\"sans-serif\" font-size=\"10px\" fill=\"#000\" opacity=\"1\">natural_gas_fired_combined_…</text></g></g><path class=\"foreground\" aria-hidden=\"true\" d=\"\" pointer-events=\"none\" display=\"none\"/></g><g transform=\"translate(0,13)\"><path class=\"background\" aria-hidden=\"true\" d=\"M0,0h175.5263671875v11h-175.5263671875Z\" pointer-events=\"none\" opacity=\"1\"/><g><g class=\"mark-symbol role-legend-symbol\" pointer-events=\"none\"><path transform=\"translate(6,6)\" d=\"M5,0A5,5,0,1,1,-5,0A5,5,0,1,1,5,0\" fill=\"#ff7f0e\" stroke-width=\"1.5\" opacity=\"1\"/></g><g class=\"mark-text role-legend-label\" pointer-events=\"none\"><text text-anchor=\"start\" transform=\"translate(16,9)\" font-family=\"sans-serif\" font-size=\"10px\" fill=\"#000\" opacity=\"1\">natural_gas_fired_combustion…</text></g></g><path class=\"foreground\" aria-hidden=\"true\" d=\"\" pointer-events=\"none\" display=\"none\"/></g></g></g><path class=\"foreground\" aria-hidden=\"true\" d=\"\" pointer-events=\"none\" display=\"none\"/></g></g><g class=\"mark-text role-legend-title\" pointer-events=\"none\"><text text-anchor=\"start\" transform=\"translate(0,9)\" font-family=\"sans-serif\" font-size=\"11px\" font-weight=\"bold\" fill=\"#000\" opacity=\"1\">resource</text></g></g><path class=\"foreground\" aria-hidden=\"true\" d=\"\" pointer-events=\"none\" display=\"none\"/></g></g></g><path class=\"foreground\" aria-hidden=\"true\" d=\"\" display=\"none\"/></g></g></g></svg>"
      ],
      "text/plain": [
       "@vlplot(\n",
       "    mark=\"area\",\n",
       "    encoding={\n",
       "        x={\n",
       "            field=\"hour\"\n",
       "        },\n",
       "        y={\n",
       "            stack=\"zero\",\n",
       "            field=\"value_sum\"\n",
       "        },\n",
       "        color={\n",
       "            scale={\n",
       "                scheme=\"category10\"\n",
       "            },\n",
       "            field=\"resource\",\n",
       "            type=\"nominal\"\n",
       "        }\n",
       "    },\n",
       "    data={\n",
       "        values=...\n",
       "    }\n",
       ")"
      ]
     },
     "metadata": {},
     "output_type": "display_data"
    }
   ],
   "source": [
    "sol_commit = innerjoin(solution.COMMIT, \n",
    "                    gen_df[!, [:r_id, :resource]], \n",
    "                    on = :r_id)\n",
    "sol_commit = combine(groupby(sol_commit, [:resource, :hour]), \n",
    "            :value => sum)\n",
    "sol_commit.hour = sol_commit.hour .- T_period[1]\n",
    "\n",
    "sol_commit |>\n",
    "@vlplot(:area, \n",
    "    x=:hour, y={:value_sum, stack=:zero}, \n",
    "    color={\"resource:n\", scale={scheme=\"category10\"}})"
   ]
  },
  {
   "cell_type": "markdown",
   "metadata": {},
   "source": [
    "### Unit commitment ramp and electrical storage"
   ]
  },
  {
   "cell_type": "code",
   "execution_count": 9,
   "metadata": {},
   "outputs": [
    {
     "name": "stdout",
     "output_type": "stream",
     "text": [
      "Set parameter WLSAccessID\n",
      "Set parameter WLSSecret\n",
      "Set parameter LicenseID to value 2475843\n",
      "Academic license 2475843 - for non-commercial use only - registered to pa___@imperial.ac.uk\n",
      "Set parameter MIPGap to value 0.001\n",
      "Adding ramp constraints...\n",
      "Adding storage...\n"
     ]
    },
    {
     "name": "stdout",
     "output_type": "stream",
     "text": [
      "Set parameter MIPGap to value 0.001\n",
      "Gurobi Optimizer version 11.0.0 build v11.0.0rc2 (linux64 - \"Ubuntu 22.04.3 LTS\")\n",
      "\n",
      "CPU model: 11th Gen Intel(R) Core(TM) i7-11370H @ 3.30GHz, instruction set [SSE2|AVX|AVX2|AVX512]\n",
      "Thread count: 4 physical cores, 8 logical processors, using up to 8 threads\n",
      "\n",
      "Academic license 2475843 - for non-commercial use only - registered to pa___@imperial.ac.uk\n",
      "Optimize a model with 6692 rows, 3720 columns and 17076 nonzeros\n",
      "Model fingerprint: 0x6ec01c60\n",
      "Variable types: 1896 continuous, 1824 integer (1824 binary)\n",
      "Coefficient statistics:\n",
      "  Matrix range     [9e-01, 1e+03]\n",
      "  Objective range  [1e-01, 5e+04]\n",
      "  Bounds range     [0e+00, 0e+00]\n",
      "  RHS range        [1e+00, 4e+03]\n",
      "Presolve removed 3316 rows and 674 columns\n",
      "Presolve time: 0.03s\n",
      "Presolved: 3376 rows, 3046 columns, 13026 nonzeros\n",
      "Variable types: 1266 continuous, 1780 integer (1780 binary)\n",
      "\n",
      "Root relaxation: objective 6.032806e+05, 566 iterations, 0.01 seconds (0.01 work units)\n",
      "\n",
      "    Nodes    |    Current Node    |     Objective Bounds      |     Work\n",
      " Expl Unexpl |  Obj  Depth IntInf | Incumbent    BestBd   Gap | It/Node Time\n",
      "\n",
      "     0     0 603280.602    0    9          - 603280.602      -     -    0s\n",
      "H    0     0                    603457.66965 603280.602  0.03%     -    0s\n",
      "\n",
      "Explored 1 nodes (566 simplex iterations) in 0.08 seconds (0.07 work units)\n",
      "Thread count was 8 (of 8 available processors)\n",
      "\n",
      "Solution count 1: 603458 \n",
      "\n",
      "Optimal solution found (tolerance 1.00e-03)\n",
      "Best objective 6.034576696459e+05, best bound 6.032806020334e+05, gap 0.0293%\n",
      "\n",
      "User-callback calls 464, time in user-callback 0.00 sec\n"
     ]
    },
    {
     "data": {
      "application/vnd.vegalite.v5+json": {
       "data": {
        "values": [
         {
          "hour": 0,
          "resource": "biomass",
          "value_sum": 0
         },
         {
          "hour": 0,
          "resource": "hydroelectric_pumped_storage",
          "value_sum": 42
         },
         {
          "hour": 0,
          "resource": "natural_gas_fired_combined_cycle",
          "value_sum": 478.57287679599926
         },
         {
          "hour": 0,
          "resource": "natural_gas_fired_combustion_turbine",
          "value_sum": 0
         },
         {
          "hour": 0,
          "resource": "_onshore_wind_turbine",
          "value_sum": 163.3088
         },
         {
          "hour": 0,
          "resource": "_small_hydroelectric",
          "value_sum": 3.184932
         },
         {
          "hour": 0,
          "resource": "_solar_photovoltaic",
          "value_sum": 0
         },
         {
          "hour": 1,
          "resource": "biomass",
          "value_sum": 21.4
         },
         {
          "hour": 1,
          "resource": "hydroelectric_pumped_storage",
          "value_sum": 42
         },
         {
          "hour": 1,
          "resource": "natural_gas_fired_combined_cycle",
          "value_sum": 981.1728767959993
         },
         {
          "hour": 1,
          "resource": "natural_gas_fired_combustion_turbine",
          "value_sum": 0
         },
         {
          "hour": 1,
          "resource": "_onshore_wind_turbine",
          "value_sum": 169.79327999999998
         },
         {
          "hour": 1,
          "resource": "_small_hydroelectric",
          "value_sum": 3.184932
         },
         {
          "hour": 1,
          "resource": "_solar_photovoltaic",
          "value_sum": 0
         },
         {
          "hour": 2,
          "resource": "biomass",
          "value_sum": 21.4
         },
         {
          "hour": 2,
          "resource": "hydroelectric_pumped_storage",
          "value_sum": 42
         },
         {
          "hour": 2,
          "resource": "natural_gas_fired_combined_cycle",
          "value_sum": 1256.5
         },
         {
          "hour": 2,
          "resource": "natural_gas_fired_combustion_turbine",
          "value_sum": 0
         },
         {
          "hour": 2,
          "resource": "_onshore_wind_turbine",
          "value_sum": 115.1104
         },
         {
          "hour": 2,
          "resource": "_small_hydroelectric",
          "value_sum": 3.184932
         },
         {
          "hour": 2,
          "resource": "_solar_photovoltaic",
          "value_sum": 0
         },
         {
          "hour": 3,
          "resource": "biomass",
          "value_sum": 21.4
         },
         {
          "hour": 3,
          "resource": "hydroelectric_pumped_storage",
          "value_sum": 42
         },
         {
          "hour": 3,
          "resource": "natural_gas_fired_combined_cycle",
          "value_sum": 1256.5
         },
         {
          "hour": 3,
          "resource": "natural_gas_fired_combustion_turbine",
          "value_sum": 0
         },
         {
          "hour": 3,
          "resource": "_onshore_wind_turbine",
          "value_sum": 100.55296
         },
         {
          "hour": 3,
          "resource": "_small_hydroelectric",
          "value_sum": 3.184931999999989
         },
         {
          "hour": 3,
          "resource": "_solar_photovoltaic",
          "value_sum": 0
         },
         {
          "hour": 4,
          "resource": "biomass",
          "value_sum": 21.4
         },
         {
          "hour": 4,
          "resource": "hydroelectric_pumped_storage",
          "value_sum": 42
         },
         {
          "hour": 4,
          "resource": "natural_gas_fired_combined_cycle",
          "value_sum": 1256.5
         },
         {
          "hour": 4,
          "resource": "natural_gas_fired_combustion_turbine",
          "value_sum": 0
         },
         {
          "hour": 4,
          "resource": "_onshore_wind_turbine",
          "value_sum": 80.57728
         },
         {
          "hour": 4,
          "resource": "_small_hydroelectric",
          "value_sum": 3.184932
         },
         {
          "hour": 4,
          "resource": "_solar_photovoltaic",
          "value_sum": 0
         },
         {
          "hour": 5,
          "resource": "biomass",
          "value_sum": 21.4
         },
         {
          "hour": 5,
          "resource": "hydroelectric_pumped_storage",
          "value_sum": 42
         },
         {
          "hour": 5,
          "resource": "natural_gas_fired_combined_cycle",
          "value_sum": 1256.5
         },
         {
          "hour": 5,
          "resource": "natural_gas_fired_combustion_turbine",
          "value_sum": 0
         },
         {
          "hour": 5,
          "resource": "_onshore_wind_turbine",
          "value_sum": 139.17695999999998
         },
         {
          "hour": 5,
          "resource": "_small_hydroelectric",
          "value_sum": 3.184932
         },
         {
          "hour": 5,
          "resource": "_solar_photovoltaic",
          "value_sum": 0
         },
         {
          "hour": 6,
          "resource": "biomass",
          "value_sum": 21.4
         },
         {
          "hour": 6,
          "resource": "hydroelectric_pumped_storage",
          "value_sum": 42
         },
         {
          "hour": 6,
          "resource": "natural_gas_fired_combined_cycle",
          "value_sum": 1256.5
         },
         {
          "hour": 6,
          "resource": "natural_gas_fired_combustion_turbine",
          "value_sum": 0
         },
         {
          "hour": 6,
          "resource": "_onshore_wind_turbine",
          "value_sum": 74.17984
         },
         {
          "hour": 6,
          "resource": "_small_hydroelectric",
          "value_sum": 3.184932
         },
         {
          "hour": 6,
          "resource": "_solar_photovoltaic",
          "value_sum": 193.55
         },
         {
          "hour": 7,
          "resource": "biomass",
          "value_sum": 21.4
         },
         {
          "hour": 7,
          "resource": "hydroelectric_pumped_storage",
          "value_sum": 42
         },
         {
          "hour": 7,
          "resource": "natural_gas_fired_combined_cycle",
          "value_sum": 1256.5
         },
         {
          "hour": 7,
          "resource": "natural_gas_fired_combustion_turbine",
          "value_sum": 0
         },
         {
          "hour": 7,
          "resource": "_onshore_wind_turbine",
          "value_sum": 49.373439999999995
         },
         {
          "hour": 7,
          "resource": "_small_hydroelectric",
          "value_sum": 3.184932
         },
         {
          "hour": 7,
          "resource": "_solar_photovoltaic",
          "value_sum": 773.85
         },
         {
          "hour": 8,
          "resource": "biomass",
          "value_sum": 21.4
         },
         {
          "hour": 8,
          "resource": "hydroelectric_pumped_storage",
          "value_sum": 42
         },
         {
          "hour": 8,
          "resource": "natural_gas_fired_combined_cycle",
          "value_sum": 1224.74
         },
         {
          "hour": 8,
          "resource": "natural_gas_fired_combustion_turbine",
          "value_sum": 0
         },
         {
          "hour": 8,
          "resource": "_onshore_wind_turbine",
          "value_sum": 167.35616
         },
         {
          "hour": 8,
          "resource": "_small_hydroelectric",
          "value_sum": 3.184932
         },
         {
          "hour": 8,
          "resource": "_solar_photovoltaic",
          "value_sum": 1671.6
         },
         {
          "hour": 9,
          "resource": "biomass",
          "value_sum": 21.4
         },
         {
          "hour": 9,
          "resource": "hydroelectric_pumped_storage",
          "value_sum": 42
         },
         {
          "hour": 9,
          "resource": "natural_gas_fired_combined_cycle",
          "value_sum": 1189.6699276999998
         },
         {
          "hour": 9,
          "resource": "natural_gas_fired_combustion_turbine",
          "value_sum": 0
         },
         {
          "hour": 9,
          "resource": "_onshore_wind_turbine",
          "value_sum": 131.56096000000014
         },
         {
          "hour": 9,
          "resource": "_small_hydroelectric",
          "value_sum": 3.184932
         },
         {
          "hour": 9,
          "resource": "_solar_photovoltaic",
          "value_sum": 2014.95
         },
         {
          "hour": 10,
          "resource": "biomass",
          "value_sum": 21.4
         },
         {
          "hour": 10,
          "resource": "hydroelectric_pumped_storage",
          "value_sum": 42
         },
         {
          "hour": 10,
          "resource": "natural_gas_fired_combined_cycle",
          "value_sum": 1218.3000000000002
         },
         {
          "hour": 10,
          "resource": "natural_gas_fired_combustion_turbine",
          "value_sum": 0
         },
         {
          "hour": 10,
          "resource": "_onshore_wind_turbine",
          "value_sum": 111.1936
         },
         {
          "hour": 10,
          "resource": "_small_hydroelectric",
          "value_sum": 3.184932
         },
         {
          "hour": 10,
          "resource": "_solar_photovoltaic",
          "value_sum": 2113.65
         },
         {
          "hour": 11,
          "resource": "biomass",
          "value_sum": 21.4
         },
         {
          "hour": 11,
          "resource": "hydroelectric_pumped_storage",
          "value_sum": 42
         },
         {
          "hour": 11,
          "resource": "natural_gas_fired_combined_cycle",
          "value_sum": 1083.4057475521736
         },
         {
          "hour": 11,
          "resource": "natural_gas_fired_combustion_turbine",
          "value_sum": 0
         },
         {
          "hour": 11,
          "resource": "_onshore_wind_turbine",
          "value_sum": 92.11008
         },
         {
          "hour": 11,
          "resource": "_small_hydroelectric",
          "value_sum": 3.184932
         },
         {
          "hour": 11,
          "resource": "_solar_photovoltaic",
          "value_sum": 2148.65
         },
         {
          "hour": 12,
          "resource": "biomass",
          "value_sum": 21.4
         },
         {
          "hour": 12,
          "resource": "hydroelectric_pumped_storage",
          "value_sum": 42
         },
         {
          "hour": 12,
          "resource": "natural_gas_fired_combined_cycle",
          "value_sum": 1218.3000000000002
         },
         {
          "hour": 12,
          "resource": "natural_gas_fired_combustion_turbine",
          "value_sum": 0
         },
         {
          "hour": 12,
          "resource": "_onshore_wind_turbine",
          "value_sum": 52.09344
         },
         {
          "hour": 12,
          "resource": "_small_hydroelectric",
          "value_sum": 3.184932
         },
         {
          "hour": 12,
          "resource": "_solar_photovoltaic",
          "value_sum": 2256.1
         },
         {
          "hour": 13,
          "resource": "biomass",
          "value_sum": 21.4
         },
         {
          "hour": 13,
          "resource": "hydroelectric_pumped_storage",
          "value_sum": 42
         },
         {
          "hour": 13,
          "resource": "natural_gas_fired_combined_cycle",
          "value_sum": 1218.3000000000002
         },
         {
          "hour": 13,
          "resource": "natural_gas_fired_combustion_turbine",
          "value_sum": 0
         },
         {
          "hour": 13,
          "resource": "_onshore_wind_turbine",
          "value_sum": 64.69248
         },
         {
          "hour": 13,
          "resource": "_small_hydroelectric",
          "value_sum": 3.184932
         },
         {
          "hour": 13,
          "resource": "_solar_photovoltaic",
          "value_sum": 2259.25
         },
         {
          "hour": 14,
          "resource": "biomass",
          "value_sum": 21.4
         },
         {
          "hour": 14,
          "resource": "hydroelectric_pumped_storage",
          "value_sum": 42
         },
         {
          "hour": 14,
          "resource": "natural_gas_fired_combined_cycle",
          "value_sum": 1205.3943987999999
         },
         {
          "hour": 14,
          "resource": "natural_gas_fired_combustion_turbine",
          "value_sum": 0
         },
         {
          "hour": 14,
          "resource": "_onshore_wind_turbine",
          "value_sum": 49.22112
         },
         {
          "hour": 14,
          "resource": "_small_hydroelectric",
          "value_sum": 3.184932
         },
         {
          "hour": 14,
          "resource": "_solar_photovoltaic",
          "value_sum": 2184.35
         },
         {
          "hour": 15,
          "resource": "biomass",
          "value_sum": 21.4
         },
         {
          "hour": 15,
          "resource": "hydroelectric_pumped_storage",
          "value_sum": 42
         },
         {
          "hour": 15,
          "resource": "natural_gas_fired_combined_cycle",
          "value_sum": 1145.7894363
         },
         {
          "hour": 15,
          "resource": "natural_gas_fired_combustion_turbine",
          "value_sum": 0
         },
         {
          "hour": 15,
          "resource": "_onshore_wind_turbine",
          "value_sum": 65.41055999999999
         },
         {
          "hour": 15,
          "resource": "_small_hydroelectric",
          "value_sum": 3.184932
         },
         {
          "hour": 15,
          "resource": "_solar_photovoltaic",
          "value_sum": 1993.25
         },
         {
          "hour": 16,
          "resource": "biomass",
          "value_sum": 21.4
         },
         {
          "hour": 16,
          "resource": "hydroelectric_pumped_storage",
          "value_sum": 42
         },
         {
          "hour": 16,
          "resource": "natural_gas_fired_combined_cycle",
          "value_sum": 1130.294909269751
         },
         {
          "hour": 16,
          "resource": "natural_gas_fired_combustion_turbine",
          "value_sum": 0
         },
         {
          "hour": 16,
          "resource": "_onshore_wind_turbine",
          "value_sum": 57.18527999999999
         },
         {
          "hour": 16,
          "resource": "_small_hydroelectric",
          "value_sum": 3.184932
         },
         {
          "hour": 16,
          "resource": "_solar_photovoltaic",
          "value_sum": 1637.3
         },
         {
          "hour": 17,
          "resource": "biomass",
          "value_sum": 21.4
         },
         {
          "hour": 17,
          "resource": "hydroelectric_pumped_storage",
          "value_sum": 42
         },
         {
          "hour": 17,
          "resource": "natural_gas_fired_combined_cycle",
          "value_sum": 1224.74
         },
         {
          "hour": 17,
          "resource": "natural_gas_fired_combustion_turbine",
          "value_sum": 0
         },
         {
          "hour": 17,
          "resource": "_onshore_wind_turbine",
          "value_sum": 78.61888
         },
         {
          "hour": 17,
          "resource": "_small_hydroelectric",
          "value_sum": 3.184932
         },
         {
          "hour": 17,
          "resource": "_solar_photovoltaic",
          "value_sum": 1132.6
         },
         {
          "hour": 18,
          "resource": "biomass",
          "value_sum": 21.4
         },
         {
          "hour": 18,
          "resource": "hydroelectric_pumped_storage",
          "value_sum": 42
         },
         {
          "hour": 18,
          "resource": "natural_gas_fired_combined_cycle",
          "value_sum": 1256.5
         },
         {
          "hour": 18,
          "resource": "natural_gas_fired_combustion_turbine",
          "value_sum": 0
         },
         {
          "hour": 18,
          "resource": "_onshore_wind_turbine",
          "value_sum": 52.61568
         },
         {
          "hour": 18,
          "resource": "_small_hydroelectric",
          "value_sum": 3.184932
         },
         {
          "hour": 18,
          "resource": "_solar_photovoltaic",
          "value_sum": 166.95
         },
         {
          "hour": 19,
          "resource": "biomass",
          "value_sum": 21.4
         },
         {
          "hour": 19,
          "resource": "hydroelectric_pumped_storage",
          "value_sum": 42
         },
         {
          "hour": 19,
          "resource": "natural_gas_fired_combined_cycle",
          "value_sum": 1256.5
         },
         {
          "hour": 19,
          "resource": "natural_gas_fired_combustion_turbine",
          "value_sum": 0
         },
         {
          "hour": 19,
          "resource": "_onshore_wind_turbine",
          "value_sum": 61.42848
         },
         {
          "hour": 19,
          "resource": "_small_hydroelectric",
          "value_sum": 3.1849320000000105
         },
         {
          "hour": 19,
          "resource": "_solar_photovoltaic",
          "value_sum": 0
         },
         {
          "hour": 20,
          "resource": "biomass",
          "value_sum": 21.4
         },
         {
          "hour": 20,
          "resource": "hydroelectric_pumped_storage",
          "value_sum": 42
         },
         {
          "hour": 20,
          "resource": "natural_gas_fired_combined_cycle",
          "value_sum": 1256.5
         },
         {
          "hour": 20,
          "resource": "natural_gas_fired_combustion_turbine",
          "value_sum": 0
         },
         {
          "hour": 20,
          "resource": "_onshore_wind_turbine",
          "value_sum": 71.9168
         },
         {
          "hour": 20,
          "resource": "_small_hydroelectric",
          "value_sum": 3.184932
         },
         {
          "hour": 20,
          "resource": "_solar_photovoltaic",
          "value_sum": 0
         },
         {
          "hour": 21,
          "resource": "biomass",
          "value_sum": 21.4
         },
         {
          "hour": 21,
          "resource": "hydroelectric_pumped_storage",
          "value_sum": 42
         },
         {
          "hour": 21,
          "resource": "natural_gas_fired_combined_cycle",
          "value_sum": 1256.5
         },
         {
          "hour": 21,
          "resource": "natural_gas_fired_combustion_turbine",
          "value_sum": 0
         },
         {
          "hour": 21,
          "resource": "_onshore_wind_turbine",
          "value_sum": 96.04864
         },
         {
          "hour": 21,
          "resource": "_small_hydroelectric",
          "value_sum": 3.184932
         },
         {
          "hour": 21,
          "resource": "_solar_photovoltaic",
          "value_sum": 0
         },
         {
          "hour": 22,
          "resource": "biomass",
          "value_sum": 21.4
         },
         {
          "hour": 22,
          "resource": "hydroelectric_pumped_storage",
          "value_sum": 42
         },
         {
          "hour": 22,
          "resource": "natural_gas_fired_combined_cycle",
          "value_sum": 963.6402000000006
         },
         {
          "hour": 22,
          "resource": "natural_gas_fired_combustion_turbine",
          "value_sum": 0
         },
         {
          "hour": 22,
          "resource": "_onshore_wind_turbine",
          "value_sum": 126.46912
         },
         {
          "hour": 22,
          "resource": "_small_hydroelectric",
          "value_sum": 3.184932
         },
         {
          "hour": 22,
          "resource": "_solar_photovoltaic",
          "value_sum": 0
         },
         {
          "hour": 23,
          "resource": "biomass",
          "value_sum": 0
         },
         {
          "hour": 23,
          "resource": "hydroelectric_pumped_storage",
          "value_sum": 42
         },
         {
          "hour": 23,
          "resource": "natural_gas_fired_combined_cycle",
          "value_sum": 0
         },
         {
          "hour": 23,
          "resource": "natural_gas_fired_combustion_turbine",
          "value_sum": 0
         },
         {
          "hour": 23,
          "resource": "_onshore_wind_turbine",
          "value_sum": 144.42111999999997
         },
         {
          "hour": 23,
          "resource": "_small_hydroelectric",
          "value_sum": 3.184932
         },
         {
          "hour": 23,
          "resource": "_solar_photovoltaic",
          "value_sum": 0
         },
         {
          "hour": 0,
          "resource": "_solar_photovoltaic_btm",
          "value_sum": 0
         },
         {
          "hour": 1,
          "resource": "_solar_photovoltaic_btm",
          "value_sum": 0
         },
         {
          "hour": 2,
          "resource": "_solar_photovoltaic_btm",
          "value_sum": 0
         },
         {
          "hour": 3,
          "resource": "_solar_photovoltaic_btm",
          "value_sum": 0
         },
         {
          "hour": 4,
          "resource": "_solar_photovoltaic_btm",
          "value_sum": 0
         },
         {
          "hour": 5,
          "resource": "_solar_photovoltaic_btm",
          "value_sum": 0
         },
         {
          "hour": 6,
          "resource": "_solar_photovoltaic_btm",
          "value_sum": 33.18
         },
         {
          "hour": 7,
          "resource": "_solar_photovoltaic_btm",
          "value_sum": 132.66
         },
         {
          "hour": 8,
          "resource": "_solar_photovoltaic_btm",
          "value_sum": 286.56
         },
         {
          "hour": 9,
          "resource": "_solar_photovoltaic_btm",
          "value_sum": 345.42
         },
         {
          "hour": 10,
          "resource": "_solar_photovoltaic_btm",
          "value_sum": 362.34
         },
         {
          "hour": 11,
          "resource": "_solar_photovoltaic_btm",
          "value_sum": 368.34
         },
         {
          "hour": 12,
          "resource": "_solar_photovoltaic_btm",
          "value_sum": 386.76
         },
         {
          "hour": 13,
          "resource": "_solar_photovoltaic_btm",
          "value_sum": 387.29999999999995
         },
         {
          "hour": 14,
          "resource": "_solar_photovoltaic_btm",
          "value_sum": 374.46
         },
         {
          "hour": 15,
          "resource": "_solar_photovoltaic_btm",
          "value_sum": 341.7
         },
         {
          "hour": 16,
          "resource": "_solar_photovoltaic_btm",
          "value_sum": 280.68
         },
         {
          "hour": 17,
          "resource": "_solar_photovoltaic_btm",
          "value_sum": 194.16
         },
         {
          "hour": 18,
          "resource": "_solar_photovoltaic_btm",
          "value_sum": 28.62
         },
         {
          "hour": 19,
          "resource": "_solar_photovoltaic_btm",
          "value_sum": 0
         },
         {
          "hour": 20,
          "resource": "_solar_photovoltaic_btm",
          "value_sum": 0
         },
         {
          "hour": 21,
          "resource": "_solar_photovoltaic_btm",
          "value_sum": 0
         },
         {
          "hour": 22,
          "resource": "_solar_photovoltaic_btm",
          "value_sum": 0
         },
         {
          "hour": 23,
          "resource": "_solar_photovoltaic_btm",
          "value_sum": 0
         }
        ]
       },
       "encoding": {
        "color": {
         "field": "resource",
         "scale": {
          "scheme": "category10"
         },
         "type": "nominal"
        },
        "x": {
         "field": "hour",
         "type": "quantitative"
        },
        "y": {
         "field": "value_sum",
         "stack": "zero",
         "type": "quantitative"
        }
       },
       "mark": "area"
      },
      "image/png": "[encoded data removed]",
      "image/svg+xml": [
       "<svg xmlns=\"http://www.w3.org/2000/svg\" xmlns:xlink=\"http://www.w3.org/1999/xlink\" version=\"1.1\" class=\"marks\" width=\"455\" height=\"247\" viewBox=\"0 0 455 247\"><rect width=\"455\" height=\"247\" fill=\"white\"/><g fill=\"none\" stroke-miterlimit=\"10\" transform=\"translate(56,10)\"><g class=\"mark-group role-frame root\" role=\"graphics-object\" aria-roledescription=\"group mark container\"><g transform=\"translate(0,0)\"><path class=\"background\" aria-hidden=\"true\" d=\"M0.5,0.5h200v200h-200Z\" stroke=\"#ddd\"/><g><g class=\"mark-group role-axis\" aria-hidden=\"true\"><g transform=\"translate(0.5,200.5)\"><path class=\"background\" aria-hidden=\"true\" d=\"M0,0h0v0h0Z\" pointer-events=\"none\"/><g><g class=\"mark-rule role-axis-grid\" pointer-events=\"none\"><line transform=\"translate(0,-200)\" x2=\"0\" y2=\"200\" stroke=\"#ddd\" stroke-width=\"1\" opacity=\"1\"/><line transform=\"translate(42,-200)\" x2=\"0\" y2=\"200\" stroke=\"#ddd\" stroke-width=\"1\" opacity=\"1\"/><line transform=\"translate(83,-200)\" x2=\"0\" y2=\"200\" stroke=\"#ddd\" stroke-width=\"1\" opacity=\"1\"/><line transform=\"translate(125,-200)\" x2=\"0\" y2=\"200\" stroke=\"#ddd\" stroke-width=\"1\" opacity=\"1\"/><line transform=\"translate(167,-200)\" x2=\"0\" y2=\"200\" stroke=\"#ddd\" stroke-width=\"1\" opacity=\"1\"/></g></g><path class=\"foreground\" aria-hidden=\"true\" d=\"\" pointer-events=\"none\" display=\"none\"/></g></g><g class=\"mark-group role-axis\" aria-hidden=\"true\"><g transform=\"translate(0.5,0.5)\"><path class=\"background\" aria-hidden=\"true\" d=\"M0,0h0v0h0Z\" pointer-events=\"none\"/><g><g class=\"mark-rule role-axis-grid\" pointer-events=\"none\"><line transform=\"translate(0,200)\" x2=\"200\" y2=\"0\" stroke=\"#ddd\" stroke-width=\"1\" opacity=\"1\"/><line transform=\"translate(0,150)\" x2=\"200\" y2=\"0\" stroke=\"#ddd\" stroke-width=\"1\" opacity=\"1\"/><line transform=\"translate(0,100)\" x2=\"200\" y2=\"0\" stroke=\"#ddd\" stroke-width=\"1\" opacity=\"1\"/><line transform=\"translate(0,50)\" x2=\"200\" y2=\"0\" stroke=\"#ddd\" stroke-width=\"1\" opacity=\"1\"/><line transform=\"translate(0,0)\" x2=\"200\" y2=\"0\" stroke=\"#ddd\" stroke-width=\"1\" opacity=\"1\"/></g></g><path class=\"foreground\" aria-hidden=\"true\" d=\"\" pointer-events=\"none\" display=\"none\"/></g></g><g class=\"mark-group role-axis\" role=\"graphics-symbol\" aria-roledescription=\"axis\" aria-label=\"X-axis titled 'hour' for a linear scale with values from 0 to 24\"><g transform=\"translate(0.5,200.5)\"><path class=\"background\" aria-hidden=\"true\" d=\"M0,0h0v0h0Z\" pointer-events=\"none\"/><g><g class=\"mark-rule role-axis-tick\" pointer-events=\"none\"><line transform=\"translate(0,0)\" x2=\"0\" y2=\"5\" stroke=\"#888\" stroke-width=\"1\" opacity=\"1\"/><line transform=\"translate(42,0)\" x2=\"0\" y2=\"5\" stroke=\"#888\" stroke-width=\"1\" opacity=\"1\"/><line transform=\"translate(83,0)\" x2=\"0\" y2=\"5\" stroke=\"#888\" stroke-width=\"1\" opacity=\"1\"/><line transform=\"translate(125,0)\" x2=\"0\" y2=\"5\" stroke=\"#888\" stroke-width=\"1\" opacity=\"1\"/><line transform=\"translate(167,0)\" x2=\"0\" y2=\"5\" stroke=\"#888\" stroke-width=\"1\" opacity=\"1\"/></g><g class=\"mark-text role-axis-label\" pointer-events=\"none\"><text text-anchor=\"start\" transform=\"translate(0,15)\" font-family=\"sans-serif\" font-size=\"10px\" fill=\"#000\" opacity=\"1\">0</text><text text-anchor=\"middle\" transform=\"translate(41.66666666666667,15)\" font-family=\"sans-serif\" font-size=\"10px\" fill=\"#000\" opacity=\"1\">5</text><text text-anchor=\"middle\" transform=\"translate(83.33333333333334,15)\" font-family=\"sans-serif\" font-size=\"10px\" fill=\"#000\" opacity=\"1\">10</text><text text-anchor=\"middle\" transform=\"translate(125,15)\" font-family=\"sans-serif\" font-size=\"10px\" fill=\"#000\" opacity=\"1\">15</text><text text-anchor=\"middle\" transform=\"translate(166.66666666666669,15)\" font-family=\"sans-serif\" font-size=\"10px\" fill=\"#000\" opacity=\"1\">20</text></g><g class=\"mark-rule role-axis-domain\" pointer-events=\"none\"><line transform=\"translate(0,0)\" x2=\"200\" y2=\"0\" stroke=\"#888\" stroke-width=\"1\" opacity=\"1\"/></g><g class=\"mark-text role-axis-title\" pointer-events=\"none\"><text text-anchor=\"middle\" transform=\"translate(100,30)\" font-family=\"sans-serif\" font-size=\"11px\" font-weight=\"bold\" fill=\"#000\" opacity=\"1\">hour</text></g></g><path class=\"foreground\" aria-hidden=\"true\" d=\"\" pointer-events=\"none\" display=\"none\"/></g></g><g class=\"mark-group role-axis\" role=\"graphics-symbol\" aria-roledescription=\"axis\" aria-label=\"Y-axis titled 'value_sum' for a linear scale with values from 0 to 4,000\"><g transform=\"translate(0.5,0.5)\"><path class=\"background\" aria-hidden=\"true\" d=\"M0,0h0v0h0Z\" pointer-events=\"none\"/><g><g class=\"mark-rule role-axis-tick\" pointer-events=\"none\"><line transform=\"translate(0,200)\" x2=\"-5\" y2=\"0\" stroke=\"#888\" stroke-width=\"1\" opacity=\"1\"/><line transform=\"translate(0,150)\" x2=\"-5\" y2=\"0\" stroke=\"#888\" stroke-width=\"1\" opacity=\"1\"/><line transform=\"translate(0,100)\" x2=\"-5\" y2=\"0\" stroke=\"#888\" stroke-width=\"1\" opacity=\"1\"/><line transform=\"translate(0,50)\" x2=\"-5\" y2=\"0\" stroke=\"#888\" stroke-width=\"1\" opacity=\"1\"/><line transform=\"translate(0,0)\" x2=\"-5\" y2=\"0\" stroke=\"#888\" stroke-width=\"1\" opacity=\"1\"/></g><g class=\"mark-text role-axis-label\" pointer-events=\"none\"><text text-anchor=\"end\" transform=\"translate(-7,203)\" font-family=\"sans-serif\" font-size=\"10px\" fill=\"#000\" opacity=\"1\">0</text><text text-anchor=\"end\" transform=\"translate(-7,153)\" font-family=\"sans-serif\" font-size=\"10px\" fill=\"#000\" opacity=\"1\">1,000</text><text text-anchor=\"end\" transform=\"translate(-7,103)\" font-family=\"sans-serif\" font-size=\"10px\" fill=\"#000\" opacity=\"1\">2,000</text><text text-anchor=\"end\" transform=\"translate(-7,53)\" font-family=\"sans-serif\" font-size=\"10px\" fill=\"#000\" opacity=\"1\">3,000</text><text text-anchor=\"end\" transform=\"translate(-7,3)\" font-family=\"sans-serif\" font-size=\"10px\" fill=\"#000\" opacity=\"1\">4,000</text></g><g class=\"mark-rule role-axis-domain\" pointer-events=\"none\"><line transform=\"translate(0,200)\" x2=\"0\" y2=\"-200\" stroke=\"#888\" stroke-width=\"1\" opacity=\"1\"/></g><g class=\"mark-text role-axis-title\" pointer-events=\"none\"><text text-anchor=\"middle\" transform=\"translate(-39.6279296875,100) rotate(-90) translate(0,-2)\" font-family=\"sans-serif\" font-size=\"11px\" font-weight=\"bold\" fill=\"#000\" opacity=\"1\">value_sum</text></g></g><path class=\"foreground\" aria-hidden=\"true\" d=\"\" pointer-events=\"none\" display=\"none\"/></g></g><g class=\"mark-group role-scope pathgroup\" role=\"graphics-object\" aria-roledescription=\"group mark container\"><g transform=\"translate(0,0)\"><path class=\"background\" aria-hidden=\"true\" d=\"M0,0h200v200h-200Z\"/><g><g class=\"mark-area role-mark marks\" role=\"graphics-object\" aria-roledescription=\"area mark container\"><path aria-label=\"hour: 0; value_sum: 0; resource: biomass\" role=\"graphics-symbol\" aria-roledescription=\"area mark\" d=\"M0,173.971L8.333,147.771L16.667,134.005L25,134.005L33.333,134.005L41.667,134.005L50,134.005L58.333,134.005L66.667,135.593L75,137.347L83.333,135.915L91.667,142.66L100,135.915L108.333,135.915L116.667,136.56L125,139.541L133.333,140.315L141.667,135.593L150,134.005L158.333,134.005L166.667,134.005L175,134.005L183.333,148.648L191.667,197.9L191.667,197.9L183.333,149.718L175,135.075L166.667,135.075L158.333,135.075L150,135.075L141.667,136.663L133.333,141.385L125,140.611L116.667,137.63L108.333,136.985L100,136.985L91.667,143.73L83.333,136.985L75,138.417L66.667,136.663L58.333,135.075L50,135.075L41.667,135.075L33.333,135.075L25,135.075L16.667,135.075L8.333,148.841L0,173.971Z\" fill=\"#9467bd\"/></g></g><path class=\"foreground\" aria-hidden=\"true\" d=\"\" display=\"none\"/></g><g transform=\"translate(0,0)\"><path class=\"background\" aria-hidden=\"true\" d=\"M0,0h200v200h-200Z\"/><g><g class=\"mark-area role-mark marks\" role=\"graphics-object\" aria-roledescription=\"area mark container\"><path aria-label=\"hour: 0; value_sum: 42; resource: hydroelectric_pumped_storage\" role=\"graphics-symbol\" aria-roledescription=\"area mark\" d=\"M0,173.971L8.333,148.841L16.667,135.075L25,135.075L33.333,135.075L41.667,135.075L50,135.075L58.333,135.075L66.667,136.663L75,138.417L83.333,136.985L91.667,143.73L100,136.985L108.333,136.985L116.667,137.63L125,140.611L133.333,141.385L141.667,136.663L150,135.075L158.333,135.075L166.667,135.075L175,135.075L183.333,149.718L191.667,197.9L191.667,200L183.333,151.818L175,137.175L166.667,137.175L158.333,137.175L150,137.175L141.667,138.763L133.333,143.485L125,142.711L116.667,139.73L108.333,139.085L100,139.085L91.667,145.83L83.333,139.085L75,140.517L66.667,138.763L58.333,137.175L50,137.175L41.667,137.175L33.333,137.175L25,137.175L16.667,137.175L8.333,150.941L0,176.071Z\" fill=\"#8c564b\"/></g></g><path class=\"foreground\" aria-hidden=\"true\" d=\"\" display=\"none\"/></g><g transform=\"translate(0,0)\"><path class=\"background\" aria-hidden=\"true\" d=\"M0,0h200v200h-200Z\"/><g><g class=\"mark-area role-mark marks\" role=\"graphics-object\" aria-roledescription=\"area mark container\"><path aria-label=\"hour: 0; value_sum: 478.572876796; resource: natural_gas_fired_combined_cycle\" role=\"graphics-symbol\" aria-roledescription=\"area mark\" d=\"M0,176.071L8.333,150.941L16.667,137.175L25,137.175L33.333,137.175L41.667,137.175L50,137.175L58.333,137.175L66.667,138.763L75,140.517L83.333,139.085L91.667,145.83L100,139.085L108.333,139.085L116.667,139.73L125,142.711L133.333,143.485L141.667,138.763L150,137.175L158.333,137.175L166.667,137.175L175,137.175L183.333,151.818L191.667,200L191.667,200L183.333,200L175,200L166.667,200L158.333,200L150,200L141.667,200L133.333,200L125,200L116.667,200L108.333,200L100,200L91.667,200L83.333,200L75,200L66.667,200L58.333,200L50,200L41.667,200L33.333,200L25,200L16.667,200L8.333,200L0,200Z\" fill=\"#e377c2\"/></g></g><path class=\"foreground\" aria-hidden=\"true\" d=\"\" display=\"none\"/></g><g transform=\"translate(0,0)\"><path class=\"background\" aria-hidden=\"true\" d=\"M0,0h200v200h-200Z\"/><g><g class=\"mark-area role-mark marks\" role=\"graphics-object\" aria-roledescription=\"area mark container\"><path aria-label=\"hour: 0; value_sum: 0; resource: natural_gas_fired_combustion_turbine\" role=\"graphics-symbol\" aria-roledescription=\"area mark\" d=\"M0,200L8.333,200L16.667,200L25,200L33.333,200L41.667,200L50,200L58.333,200L66.667,200L75,200L83.333,200L91.667,200L100,200L108.333,200L116.667,200L125,200L133.333,200L141.667,200L150,200L158.333,200L166.667,200L175,200L183.333,200L191.667,200L191.667,200L183.333,200L175,200L166.667,200L158.333,200L150,200L141.667,200L133.333,200L125,200L116.667,200L108.333,200L100,200L91.667,200L83.333,200L75,200L66.667,200L58.333,200L50,200L41.667,200L33.333,200L25,200L16.667,200L8.333,200L0,200Z\" fill=\"#7f7f7f\"/></g></g><path class=\"foreground\" aria-hidden=\"true\" d=\"\" display=\"none\"/></g><g transform=\"translate(0,0)\"><path class=\"background\" aria-hidden=\"true\" d=\"M0,0h200v200h-200Z\"/><g><g class=\"mark-area role-mark marks\" role=\"graphics-object\" aria-roledescription=\"area mark container\"><path aria-label=\"hour: 0; value_sum: 163.3088; resource: _onshore_wind_turbine\" role=\"graphics-symbol\" aria-roledescription=\"area mark\" d=\"M0,165.647L8.333,139.122L16.667,128.09L25,128.818L33.333,129.817L41.667,126.887L50,118.8L58.333,86.052L66.667,29.158L75,12.591L83.333,6.397L91.667,12.045L100,1.008L108.333,0.194L116.667,5.999L125,19.363L133.333,41.398L141.667,65.165L150,121.436L158.333,130.774L166.667,130.25L175,129.043L183.333,142.165L191.667,190.52L191.667,197.741L183.333,148.489L175,133.846L166.667,133.846L158.333,133.846L150,124.067L141.667,69.096L133.333,44.257L125,22.634L116.667,8.461L108.333,3.428L100,3.613L91.667,16.651L83.333,11.956L75,19.169L66.667,37.526L58.333,88.52L50,122.509L41.667,133.846L33.333,133.846L25,133.846L16.667,133.846L8.333,147.612L0,173.812Z\" fill=\"#1f77b4\"/></g></g><path class=\"foreground\" aria-hidden=\"true\" d=\"\" display=\"none\"/></g><g transform=\"translate(0,0)\"><path class=\"background\" aria-hidden=\"true\" d=\"M0,0h200v200h-200Z\"/><g><g class=\"mark-area role-mark marks\" role=\"graphics-object\" aria-roledescription=\"area mark container\"><path aria-label=\"hour: 0; value_sum: 3.184932; resource: _small_hydroelectric\" role=\"graphics-symbol\" aria-roledescription=\"area mark\" d=\"M0,173.812L8.333,147.612L16.667,133.846L25,133.846L33.333,133.846L41.667,133.846L50,122.509L58.333,88.52L66.667,37.526L75,19.169L83.333,11.956L91.667,16.651L100,3.613L108.333,3.428L116.667,8.461L125,22.634L133.333,44.257L141.667,69.096L150,124.067L158.333,133.846L166.667,133.846L175,133.846L183.333,148.489L191.667,197.741L191.667,197.9L183.333,148.648L175,134.005L166.667,134.005L158.333,134.005L150,124.227L141.667,69.255L133.333,44.416L125,22.793L116.667,8.62L108.333,3.588L100,3.772L91.667,16.81L83.333,12.115L75,19.328L66.667,37.685L58.333,88.679L50,122.668L41.667,134.005L33.333,134.005L25,134.005L16.667,134.005L8.333,147.771L0,173.971Z\" fill=\"#ff7f0e\"/></g></g><path class=\"foreground\" aria-hidden=\"true\" d=\"\" display=\"none\"/></g><g transform=\"translate(0,0)\"><path class=\"background\" aria-hidden=\"true\" d=\"M0,0h200v200h-200Z\"/><g><g class=\"mark-area role-mark marks\" role=\"graphics-object\" aria-roledescription=\"area mark container\"><path aria-label=\"hour: 0; value_sum: 0; resource: _solar_photovoltaic\" role=\"graphics-symbol\" aria-roledescription=\"area mark\" d=\"M0,173.971L8.333,147.771L16.667,134.005L25,134.005L33.333,134.005L41.667,134.005L50,122.668L58.333,88.679L66.667,37.685L75,19.328L83.333,12.115L91.667,16.81L100,3.772L108.333,3.588L116.667,8.62L125,22.793L133.333,44.416L141.667,69.255L150,124.227L158.333,134.005L166.667,134.005L175,134.005L183.333,148.648L191.667,197.9L191.667,197.9L183.333,148.648L175,134.005L166.667,134.005L158.333,134.005L150,132.574L141.667,125.885L133.333,126.281L125,122.456L116.667,117.837L108.333,116.55L100,116.577L91.667,124.243L83.333,117.798L75,120.076L66.667,121.265L58.333,127.372L50,132.346L41.667,134.005L33.333,134.005L25,134.005L16.667,134.005L8.333,147.771L0,173.971Z\" fill=\"#2ca02c\"/></g></g><path class=\"foreground\" aria-hidden=\"true\" d=\"\" display=\"none\"/></g><g transform=\"translate(0,0)\"><path class=\"background\" aria-hidden=\"true\" d=\"M0,0h200v200h-200Z\"/><g><g class=\"mark-area role-mark marks\" role=\"graphics-object\" aria-roledescription=\"area mark container\"><path aria-label=\"hour: 0; value_sum: 0; resource: _solar_photovoltaic_btm\" role=\"graphics-symbol\" aria-roledescription=\"area mark\" d=\"M0,173.971L8.333,147.771L16.667,134.005L25,134.005L33.333,134.005L41.667,134.005L50,132.346L58.333,127.372L66.667,121.265L75,120.076L83.333,117.798L91.667,124.243L100,116.577L108.333,116.55L116.667,117.837L125,122.456L133.333,126.281L141.667,125.885L150,132.574L158.333,134.005L166.667,134.005L175,134.005L183.333,148.648L191.667,197.9L191.667,197.9L183.333,148.648L175,134.005L166.667,134.005L158.333,134.005L150,134.005L141.667,135.593L133.333,140.315L125,139.541L116.667,136.56L108.333,135.915L100,135.915L91.667,142.66L83.333,135.915L75,137.347L66.667,135.593L58.333,134.005L50,134.005L41.667,134.005L33.333,134.005L25,134.005L16.667,134.005L8.333,147.771L0,173.971Z\" fill=\"#d62728\"/></g></g><path class=\"foreground\" aria-hidden=\"true\" d=\"\" display=\"none\"/></g></g><g class=\"mark-group role-legend\" role=\"graphics-symbol\" aria-roledescription=\"legend\" aria-label=\"Symbol legend titled 'resource' for fill color with 8 values: _onshore_wind_turbine, _small_hydroelectric, _solar_photovoltaic, _solar_photovoltaic_btm, biomass, ending with natural_gas_fired_combustion_turbine\"><g transform=\"translate(218,0)\"><path class=\"background\" aria-hidden=\"true\" d=\"M0,0h176v118h-176Z\" pointer-events=\"none\"/><g><g class=\"mark-group role-legend-entry\"><g transform=\"translate(0,16)\"><path class=\"background\" aria-hidden=\"true\" d=\"M0,0h0v0h0Z\" pointer-events=\"none\"/><g><g class=\"mark-group role-scope\" role=\"graphics-object\" aria-roledescription=\"group mark container\"><g transform=\"translate(0,0)\"><path class=\"background\" aria-hidden=\"true\" d=\"M0,0h175.5263671875v11h-175.5263671875Z\" pointer-events=\"none\" opacity=\"1\"/><g><g class=\"mark-symbol role-legend-symbol\" pointer-events=\"none\"><path transform=\"translate(6,6)\" d=\"M5,0A5,5,0,1,1,-5,0A5,5,0,1,1,5,0\" fill=\"#1f77b4\" stroke-width=\"1.5\" opacity=\"1\"/></g><g class=\"mark-text role-legend-label\" pointer-events=\"none\"><text text-anchor=\"start\" transform=\"translate(16,9)\" font-family=\"sans-serif\" font-size=\"10px\" fill=\"#000\" opacity=\"1\">_onshore_wind_turbine</text></g></g><path class=\"foreground\" aria-hidden=\"true\" d=\"\" pointer-events=\"none\" display=\"none\"/></g><g transform=\"translate(0,13)\"><path class=\"background\" aria-hidden=\"true\" d=\"M0,0h175.5263671875v11h-175.5263671875Z\" pointer-events=\"none\" opacity=\"1\"/><g><g class=\"mark-symbol role-legend-symbol\" pointer-events=\"none\"><path transform=\"translate(6,6)\" d=\"M5,0A5,5,0,1,1,-5,0A5,5,0,1,1,5,0\" fill=\"#ff7f0e\" stroke-width=\"1.5\" opacity=\"1\"/></g><g class=\"mark-text role-legend-label\" pointer-events=\"none\"><text text-anchor=\"start\" transform=\"translate(16,9)\" font-family=\"sans-serif\" font-size=\"10px\" fill=\"#000\" opacity=\"1\">_small_hydroelectric</text></g></g><path class=\"foreground\" aria-hidden=\"true\" d=\"\" pointer-events=\"none\" display=\"none\"/></g><g transform=\"translate(0,26)\"><path class=\"background\" aria-hidden=\"true\" d=\"M0,0h175.5263671875v11h-175.5263671875Z\" pointer-events=\"none\" opacity=\"1\"/><g><g class=\"mark-symbol role-legend-symbol\" pointer-events=\"none\"><path transform=\"translate(6,6)\" d=\"M5,0A5,5,0,1,1,-5,0A5,5,0,1,1,5,0\" fill=\"#2ca02c\" stroke-width=\"1.5\" opacity=\"1\"/></g><g class=\"mark-text role-legend-label\" pointer-events=\"none\"><text text-anchor=\"start\" transform=\"translate(16,9)\" font-family=\"sans-serif\" font-size=\"10px\" fill=\"#000\" opacity=\"1\">_solar_photovoltaic</text></g></g><path class=\"foreground\" aria-hidden=\"true\" d=\"\" pointer-events=\"none\" display=\"none\"/></g><g transform=\"translate(0,39)\"><path class=\"background\" aria-hidden=\"true\" d=\"M0,0h175.5263671875v11h-175.5263671875Z\" pointer-events=\"none\" opacity=\"1\"/><g><g class=\"mark-symbol role-legend-symbol\" pointer-events=\"none\"><path transform=\"translate(6,6)\" d=\"M5,0A5,5,0,1,1,-5,0A5,5,0,1,1,5,0\" fill=\"#d62728\" stroke-width=\"1.5\" opacity=\"1\"/></g><g class=\"mark-text role-legend-label\" pointer-events=\"none\"><text text-anchor=\"start\" transform=\"translate(16,9)\" font-family=\"sans-serif\" font-size=\"10px\" fill=\"#000\" opacity=\"1\">_solar_photovoltaic_btm</text></g></g><path class=\"foreground\" aria-hidden=\"true\" d=\"\" pointer-events=\"none\" display=\"none\"/></g><g transform=\"translate(0,52)\"><path class=\"background\" aria-hidden=\"true\" d=\"M0,0h175.5263671875v11h-175.5263671875Z\" pointer-events=\"none\" opacity=\"1\"/><g><g class=\"mark-symbol role-legend-symbol\" pointer-events=\"none\"><path transform=\"translate(6,6)\" d=\"M5,0A5,5,0,1,1,-5,0A5,5,0,1,1,5,0\" fill=\"#9467bd\" stroke-width=\"1.5\" opacity=\"1\"/></g><g class=\"mark-text role-legend-label\" pointer-events=\"none\"><text text-anchor=\"start\" transform=\"translate(16,9)\" font-family=\"sans-serif\" font-size=\"10px\" fill=\"#000\" opacity=\"1\">biomass</text></g></g><path class=\"foreground\" aria-hidden=\"true\" d=\"\" pointer-events=\"none\" display=\"none\"/></g><g transform=\"translate(0,65)\"><path class=\"background\" aria-hidden=\"true\" d=\"M0,0h175.5263671875v11h-175.5263671875Z\" pointer-events=\"none\" opacity=\"1\"/><g><g class=\"mark-symbol role-legend-symbol\" pointer-events=\"none\"><path transform=\"translate(6,6)\" d=\"M5,0A5,5,0,1,1,-5,0A5,5,0,1,1,5,0\" fill=\"#8c564b\" stroke-width=\"1.5\" opacity=\"1\"/></g><g class=\"mark-text role-legend-label\" pointer-events=\"none\"><text text-anchor=\"start\" transform=\"translate(16,9)\" font-family=\"sans-serif\" font-size=\"10px\" fill=\"#000\" opacity=\"1\">hydroelectric_pumped_storage</text></g></g><path class=\"foreground\" aria-hidden=\"true\" d=\"\" pointer-events=\"none\" display=\"none\"/></g><g transform=\"translate(0,78)\"><path class=\"background\" aria-hidden=\"true\" d=\"M0,0h175.5263671875v11h-175.5263671875Z\" pointer-events=\"none\" opacity=\"1\"/><g><g class=\"mark-symbol role-legend-symbol\" pointer-events=\"none\"><path transform=\"translate(6,6)\" d=\"M5,0A5,5,0,1,1,-5,0A5,5,0,1,1,5,0\" fill=\"#e377c2\" stroke-width=\"1.5\" opacity=\"1\"/></g><g class=\"mark-text role-legend-label\" pointer-events=\"none\"><text text-anchor=\"start\" transform=\"translate(16,9)\" font-family=\"sans-serif\" font-size=\"10px\" fill=\"#000\" opacity=\"1\">natural_gas_fired_combined_…</text></g></g><path class=\"foreground\" aria-hidden=\"true\" d=\"\" pointer-events=\"none\" display=\"none\"/></g><g transform=\"translate(0,91)\"><path class=\"background\" aria-hidden=\"true\" d=\"M0,0h175.5263671875v11h-175.5263671875Z\" pointer-events=\"none\" opacity=\"1\"/><g><g class=\"mark-symbol role-legend-symbol\" pointer-events=\"none\"><path transform=\"translate(6,6)\" d=\"M5,0A5,5,0,1,1,-5,0A5,5,0,1,1,5,0\" fill=\"#7f7f7f\" stroke-width=\"1.5\" opacity=\"1\"/></g><g class=\"mark-text role-legend-label\" pointer-events=\"none\"><text text-anchor=\"start\" transform=\"translate(16,9)\" font-family=\"sans-serif\" font-size=\"10px\" fill=\"#000\" opacity=\"1\">natural_gas_fired_combustion…</text></g></g><path class=\"foreground\" aria-hidden=\"true\" d=\"\" pointer-events=\"none\" display=\"none\"/></g></g></g><path class=\"foreground\" aria-hidden=\"true\" d=\"\" pointer-events=\"none\" display=\"none\"/></g></g><g class=\"mark-text role-legend-title\" pointer-events=\"none\"><text text-anchor=\"start\" transform=\"translate(0,9)\" font-family=\"sans-serif\" font-size=\"11px\" font-weight=\"bold\" fill=\"#000\" opacity=\"1\">resource</text></g></g><path class=\"foreground\" aria-hidden=\"true\" d=\"\" pointer-events=\"none\" display=\"none\"/></g></g></g><path class=\"foreground\" aria-hidden=\"true\" d=\"\" display=\"none\"/></g></g></g></svg>"
      ],
      "text/plain": [
       "@vlplot(\n",
       "    mark=\"area\",\n",
       "    encoding={\n",
       "        x={\n",
       "            field=\"hour\"\n",
       "        },\n",
       "        y={\n",
       "            stack=\"zero\",\n",
       "            field=\"value_sum\"\n",
       "        },\n",
       "        color={\n",
       "            scale={\n",
       "                scheme=\"category10\"\n",
       "            },\n",
       "            field=\"resource\",\n",
       "            type=\"nominal\"\n",
       "        }\n",
       "    },\n",
       "    data={\n",
       "        values=...\n",
       "    }\n",
       ")"
      ]
     },
     "metadata": {},
     "output_type": "display_data"
    }
   ],
   "source": [
    "solution = solve_unit_commitment(\n",
    "    gen_df_sens,\n",
    "    loads_multi,\n",
    "    gen_variable_multi,\n",
    "    0.001,\n",
    "    ramp_constraints = true,\n",
    "    storage = storage_df\n",
    "    );\n",
    "\n",
    "sol_gen = innerjoin(solution.GEN, \n",
    "                    gen_df[!, [:r_id, :resource]], \n",
    "                    on = :r_id)\n",
    "sol_gen = combine(groupby(sol_gen, [:resource, :hour]), \n",
    "            :value => sum)\n",
    "\n",
    "# Rename generators (for plotting purposes)\n",
    "sol_gen[sol_gen.resource .== \"solar_photovoltaic\", :resource] .= \"_solar_photovoltaic\"\n",
    "sol_gen[sol_gen.resource .== \"onshore_wind_turbine\", :resource] .= \"_onshore_wind_turbine\"\n",
    "sol_gen[sol_gen.resource .== \"small_hydroelectric\", :resource] .= \"_small_hydroelectric\"\n",
    "\n",
    "# BTM solar\n",
    "btm = DataFrame(resource = repeat([\"_solar_photovoltaic_btm\"]; outer=length(T_period)), \n",
    "    hour = T_period,\n",
    "    value_sum = gen_variable_multi[gen_variable_multi.gen_full .== \"wec_sdge_solar_photovoltaic_1.0\",:cf] * 600)\n",
    "append!(sol_gen, btm)\n",
    "\n",
    "# Curtailment\n",
    "if haskey(solution, :curtail)\n",
    "    curtail = combine(groupby(solution.curtail, [:hour]),\n",
    "                :value => sum)\n",
    "    curtail[!, :resource] .= \"_curtailment\"\n",
    "    # rename!(curtail, :curt_sum => :value_sum)\n",
    "    append!(sol_gen, curtail[:,[:resource, :hour, :value_sum]])\n",
    "end\n",
    "\n",
    "# Storage\n",
    "if haskey(solution, :dis)\n",
    "    storage_ch = innerjoin(\n",
    "        solution.dis, \n",
    "        storage_df[!, [:r_id, :resource]], \n",
    "        on = :r_id)\n",
    "    storage_ch = combine(groupby(storage_ch, [:resource, :hour]), :value => sum)\n",
    "    append!(sol_gen, storage_ch)\n",
    "end\n",
    "# Rescale hours\n",
    "sol_gen.hour = sol_gen.hour .- T_period[1]\n",
    "\n",
    "sol_gen |>\n",
    "@vlplot(:area, \n",
    "    x=:hour, y={:value_sum, stack=:zero}, \n",
    "    color={\"resource:n\", scale={scheme=\"category10\"}})"
   ]
  },
  {
   "cell_type": "code",
   "execution_count": 10,
   "metadata": {},
   "outputs": [
    {
     "name": "stdout",
     "output_type": "stream",
     "text": [
      "Set parameter WLSAccessID\n",
      "Set parameter WLSSecret\n",
      "Set parameter LicenseID to value 2475843\n",
      "Academic license 2475843 - for non-commercial use only - registered to pa___@imperial.ac.uk\n",
      "Set parameter MIPGap to value 0.001\n",
      "Adding ramp constraints...\n",
      "Adding storage...\n"
     ]
    },
    {
     "name": "stdout",
     "output_type": "stream",
     "text": [
      "Set parameter MIPGap to value 0.001\n",
      "Gurobi Optimizer version 11.0.0 build v11.0.0rc2 (linux64 - \"Ubuntu 22.04.3 LTS\")\n",
      "\n",
      "CPU model: 11th Gen Intel(R) Core(TM) i7-11370H @ 3.30GHz, instruction set [SSE2|AVX|AVX2|AVX512]\n",
      "Thread count: 4 physical cores, 8 logical processors, using up to 8 threads\n",
      "\n",
      "Academic license 2475843 - for non-commercial use only - registered to pa___@imperial.ac.uk\n",
      "Optimize a model with 6692 rows, 3720 columns and 17076 nonzeros\n",
      "Model fingerprint: 0x6ec01c60\n",
      "Variable types: 1896 continuous, 1824 integer (1824 binary)\n",
      "Coefficient statistics:\n",
      "  Matrix range     [9e-01, 1e+03]\n",
      "  Objective range  [1e-01, 5e+04]\n",
      "  Bounds range     [0e+00, 0e+00]\n",
      "  RHS range        [1e+00, 4e+03]\n",
      "Presolve removed 3316 rows and 674 columns\n",
      "Presolve time: 0.04s\n",
      "Presolved: 3376 rows, 3046 columns, 13026 nonzeros\n",
      "Variable types: 1266 continuous, 1780 integer (1780 binary)\n",
      "\n",
      "Root relaxation: objective 6.032806e+05, 566 iterations, 0.01 seconds (0.01 work units)\n",
      "\n",
      "    Nodes    |    Current Node    |     Objective Bounds      |     Work\n",
      " Expl Unexpl |  Obj  Depth IntInf | Incumbent    BestBd   Gap | It/Node Time\n",
      "\n",
      "     0     0 603280.602    0    9          - 603280.602      -     -    0s\n",
      "H    0     0                    603457.66965 603280.602  0.03%     -    0s\n",
      "\n",
      "Explored 1 nodes (566 simplex iterations) in 0.08 seconds (0.07 work units)\n",
      "Thread count was 8 (of 8 available processors)\n",
      "\n",
      "Solution count 1: 603458 \n",
      "\n",
      "Optimal solution found (tolerance 1.00e-03)\n",
      "Best objective 6.034576696459e+05, best bound 6.032806020334e+05, gap 0.0293%\n",
      "\n",
      "User-callback calls 461, time in user-callback 0.00 sec\n"
     ]
    }
   ],
   "source": [
    "solution = solve_unit_commitment(\n",
    "    gen_df_sens,\n",
    "    loads_multi,\n",
    "    gen_variable_multi,\n",
    "    0.001,\n",
    "    ramp_constraints = true,\n",
    "    storage = storage_df,\n",
    "    enriched_solution = true);"
   ]
  },
  {
   "cell_type": "code",
   "execution_count": 11,
   "metadata": {},
   "outputs": [
    {
     "data": {
      "application/vnd.vegalite.v5+json": {
       "data": {
        "values": [
         {
          "hour": 2401,
          "production_MW": 163.3088,
          "resource": "onshore_wind_turbine"
         },
         {
          "hour": 2401,
          "production_MW": 3.184932,
          "resource": "small_hydroelectric"
         },
         {
          "hour": 2401,
          "production_MW": 0,
          "resource": "solar_photovoltaic"
         },
         {
          "hour": 2402,
          "production_MW": 169.79327999999998,
          "resource": "onshore_wind_turbine"
         },
         {
          "hour": 2402,
          "production_MW": 3.184932,
          "resource": "small_hydroelectric"
         },
         {
          "hour": 2402,
          "production_MW": 0,
          "resource": "solar_photovoltaic"
         },
         {
          "hour": 2403,
          "production_MW": 115.1104,
          "resource": "onshore_wind_turbine"
         },
         {
          "hour": 2403,
          "production_MW": 3.184932,
          "resource": "small_hydroelectric"
         },
         {
          "hour": 2403,
          "production_MW": 0,
          "resource": "solar_photovoltaic"
         },
         {
          "hour": 2404,
          "production_MW": 100.55296,
          "resource": "onshore_wind_turbine"
         },
         {
          "hour": 2404,
          "production_MW": 3.184931999999989,
          "resource": "small_hydroelectric"
         },
         {
          "hour": 2404,
          "production_MW": 0,
          "resource": "solar_photovoltaic"
         },
         {
          "hour": 2405,
          "production_MW": 80.57728,
          "resource": "onshore_wind_turbine"
         },
         {
          "hour": 2405,
          "production_MW": 3.184932,
          "resource": "small_hydroelectric"
         },
         {
          "hour": 2405,
          "production_MW": 0,
          "resource": "solar_photovoltaic"
         },
         {
          "hour": 2406,
          "production_MW": 139.17695999999998,
          "resource": "onshore_wind_turbine"
         },
         {
          "hour": 2406,
          "production_MW": 3.184932,
          "resource": "small_hydroelectric"
         },
         {
          "hour": 2406,
          "production_MW": 0,
          "resource": "solar_photovoltaic"
         },
         {
          "hour": 2407,
          "production_MW": 74.17984,
          "resource": "onshore_wind_turbine"
         },
         {
          "hour": 2407,
          "production_MW": 3.184932,
          "resource": "small_hydroelectric"
         },
         {
          "hour": 2407,
          "production_MW": 193.55,
          "resource": "solar_photovoltaic"
         },
         {
          "hour": 2408,
          "production_MW": 49.373439999999995,
          "resource": "onshore_wind_turbine"
         },
         {
          "hour": 2408,
          "production_MW": 3.184932,
          "resource": "small_hydroelectric"
         },
         {
          "hour": 2408,
          "production_MW": 773.85,
          "resource": "solar_photovoltaic"
         },
         {
          "hour": 2409,
          "production_MW": 167.35616,
          "resource": "onshore_wind_turbine"
         },
         {
          "hour": 2409,
          "production_MW": 3.184932,
          "resource": "small_hydroelectric"
         },
         {
          "hour": 2409,
          "production_MW": 1671.6,
          "resource": "solar_photovoltaic"
         },
         {
          "hour": 2410,
          "production_MW": 131.56096000000014,
          "resource": "onshore_wind_turbine"
         },
         {
          "hour": 2410,
          "production_MW": 3.184932,
          "resource": "small_hydroelectric"
         },
         {
          "hour": 2410,
          "production_MW": 2014.95,
          "resource": "solar_photovoltaic"
         },
         {
          "hour": 2411,
          "production_MW": 111.1936,
          "resource": "onshore_wind_turbine"
         },
         {
          "hour": 2411,
          "production_MW": 3.184932,
          "resource": "small_hydroelectric"
         },
         {
          "hour": 2411,
          "production_MW": 2113.65,
          "resource": "solar_photovoltaic"
         },
         {
          "hour": 2412,
          "production_MW": 92.11008,
          "resource": "onshore_wind_turbine"
         },
         {
          "hour": 2412,
          "production_MW": 3.184932,
          "resource": "small_hydroelectric"
         },
         {
          "hour": 2412,
          "production_MW": 2148.65,
          "resource": "solar_photovoltaic"
         },
         {
          "hour": 2413,
          "production_MW": 52.09344,
          "resource": "onshore_wind_turbine"
         },
         {
          "hour": 2413,
          "production_MW": 3.184932,
          "resource": "small_hydroelectric"
         },
         {
          "hour": 2413,
          "production_MW": 2256.1,
          "resource": "solar_photovoltaic"
         },
         {
          "hour": 2414,
          "production_MW": 64.69248,
          "resource": "onshore_wind_turbine"
         },
         {
          "hour": 2414,
          "production_MW": 3.184932,
          "resource": "small_hydroelectric"
         },
         {
          "hour": 2414,
          "production_MW": 2259.25,
          "resource": "solar_photovoltaic"
         },
         {
          "hour": 2415,
          "production_MW": 49.22112,
          "resource": "onshore_wind_turbine"
         },
         {
          "hour": 2415,
          "production_MW": 3.184932,
          "resource": "small_hydroelectric"
         },
         {
          "hour": 2415,
          "production_MW": 2184.35,
          "resource": "solar_photovoltaic"
         },
         {
          "hour": 2416,
          "production_MW": 65.41055999999999,
          "resource": "onshore_wind_turbine"
         },
         {
          "hour": 2416,
          "production_MW": 3.184932,
          "resource": "small_hydroelectric"
         },
         {
          "hour": 2416,
          "production_MW": 1993.25,
          "resource": "solar_photovoltaic"
         },
         {
          "hour": 2417,
          "production_MW": 57.18527999999999,
          "resource": "onshore_wind_turbine"
         },
         {
          "hour": 2417,
          "production_MW": 3.184932,
          "resource": "small_hydroelectric"
         },
         {
          "hour": 2417,
          "production_MW": 1637.3,
          "resource": "solar_photovoltaic"
         },
         {
          "hour": 2418,
          "production_MW": 78.61888,
          "resource": "onshore_wind_turbine"
         },
         {
          "hour": 2418,
          "production_MW": 3.184932,
          "resource": "small_hydroelectric"
         },
         {
          "hour": 2418,
          "production_MW": 1132.6,
          "resource": "solar_photovoltaic"
         },
         {
          "hour": 2419,
          "production_MW": 52.61568,
          "resource": "onshore_wind_turbine"
         },
         {
          "hour": 2419,
          "production_MW": 3.184932,
          "resource": "small_hydroelectric"
         },
         {
          "hour": 2419,
          "production_MW": 166.95,
          "resource": "solar_photovoltaic"
         },
         {
          "hour": 2420,
          "production_MW": 61.42848,
          "resource": "onshore_wind_turbine"
         },
         {
          "hour": 2420,
          "production_MW": 3.1849320000000105,
          "resource": "small_hydroelectric"
         },
         {
          "hour": 2420,
          "production_MW": 0,
          "resource": "solar_photovoltaic"
         },
         {
          "hour": 2421,
          "production_MW": 71.9168,
          "resource": "onshore_wind_turbine"
         },
         {
          "hour": 2421,
          "production_MW": 3.184932,
          "resource": "small_hydroelectric"
         },
         {
          "hour": 2421,
          "production_MW": 0,
          "resource": "solar_photovoltaic"
         },
         {
          "hour": 2422,
          "production_MW": 96.04864,
          "resource": "onshore_wind_turbine"
         },
         {
          "hour": 2422,
          "production_MW": 3.184932,
          "resource": "small_hydroelectric"
         },
         {
          "hour": 2422,
          "production_MW": 0,
          "resource": "solar_photovoltaic"
         },
         {
          "hour": 2423,
          "production_MW": 126.46912,
          "resource": "onshore_wind_turbine"
         },
         {
          "hour": 2423,
          "production_MW": 3.184932,
          "resource": "small_hydroelectric"
         },
         {
          "hour": 2423,
          "production_MW": 0,
          "resource": "solar_photovoltaic"
         },
         {
          "hour": 2424,
          "production_MW": 144.42111999999997,
          "resource": "onshore_wind_turbine"
         },
         {
          "hour": 2424,
          "production_MW": 3.184932,
          "resource": "small_hydroelectric"
         },
         {
          "hour": 2424,
          "production_MW": 0,
          "resource": "solar_photovoltaic"
         },
         {
          "hour": 2401,
          "production_MW": 0,
          "resource": "biomass"
         },
         {
          "hour": 2401,
          "production_MW": 42,
          "resource": "hydroelectric_pumped_storage"
         },
         {
          "hour": 2401,
          "production_MW": 478.57287679599926,
          "resource": "natural_gas_fired_combined_cycle"
         },
         {
          "hour": 2401,
          "production_MW": 0,
          "resource": "natural_gas_fired_combustion_turbine"
         },
         {
          "hour": 2402,
          "production_MW": 21.4,
          "resource": "biomass"
         },
         {
          "hour": 2402,
          "production_MW": 42,
          "resource": "hydroelectric_pumped_storage"
         },
         {
          "hour": 2402,
          "production_MW": 981.1728767959993,
          "resource": "natural_gas_fired_combined_cycle"
         },
         {
          "hour": 2402,
          "production_MW": 0,
          "resource": "natural_gas_fired_combustion_turbine"
         },
         {
          "hour": 2403,
          "production_MW": 21.4,
          "resource": "biomass"
         },
         {
          "hour": 2403,
          "production_MW": 42,
          "resource": "hydroelectric_pumped_storage"
         },
         {
          "hour": 2403,
          "production_MW": 1256.5,
          "resource": "natural_gas_fired_combined_cycle"
         },
         {
          "hour": 2403,
          "production_MW": 0,
          "resource": "natural_gas_fired_combustion_turbine"
         },
         {
          "hour": 2404,
          "production_MW": 21.4,
          "resource": "biomass"
         },
         {
          "hour": 2404,
          "production_MW": 42,
          "resource": "hydroelectric_pumped_storage"
         },
         {
          "hour": 2404,
          "production_MW": 1256.5,
          "resource": "natural_gas_fired_combined_cycle"
         },
         {
          "hour": 2404,
          "production_MW": 0,
          "resource": "natural_gas_fired_combustion_turbine"
         },
         {
          "hour": 2405,
          "production_MW": 21.4,
          "resource": "biomass"
         },
         {
          "hour": 2405,
          "production_MW": 42,
          "resource": "hydroelectric_pumped_storage"
         },
         {
          "hour": 2405,
          "production_MW": 1256.5,
          "resource": "natural_gas_fired_combined_cycle"
         },
         {
          "hour": 2405,
          "production_MW": 0,
          "resource": "natural_gas_fired_combustion_turbine"
         },
         {
          "hour": 2406,
          "production_MW": 21.4,
          "resource": "biomass"
         },
         {
          "hour": 2406,
          "production_MW": 42,
          "resource": "hydroelectric_pumped_storage"
         },
         {
          "hour": 2406,
          "production_MW": 1256.5,
          "resource": "natural_gas_fired_combined_cycle"
         },
         {
          "hour": 2406,
          "production_MW": 0,
          "resource": "natural_gas_fired_combustion_turbine"
         },
         {
          "hour": 2407,
          "production_MW": 21.4,
          "resource": "biomass"
         },
         {
          "hour": 2407,
          "production_MW": 42,
          "resource": "hydroelectric_pumped_storage"
         },
         {
          "hour": 2407,
          "production_MW": 1256.5,
          "resource": "natural_gas_fired_combined_cycle"
         },
         {
          "hour": 2407,
          "production_MW": 0,
          "resource": "natural_gas_fired_combustion_turbine"
         },
         {
          "hour": 2408,
          "production_MW": 21.4,
          "resource": "biomass"
         },
         {
          "hour": 2408,
          "production_MW": 42,
          "resource": "hydroelectric_pumped_storage"
         },
         {
          "hour": 2408,
          "production_MW": 1256.5,
          "resource": "natural_gas_fired_combined_cycle"
         },
         {
          "hour": 2408,
          "production_MW": 0,
          "resource": "natural_gas_fired_combustion_turbine"
         },
         {
          "hour": 2409,
          "production_MW": 21.4,
          "resource": "biomass"
         },
         {
          "hour": 2409,
          "production_MW": 42,
          "resource": "hydroelectric_pumped_storage"
         },
         {
          "hour": 2409,
          "production_MW": 1224.74,
          "resource": "natural_gas_fired_combined_cycle"
         },
         {
          "hour": 2409,
          "production_MW": 0,
          "resource": "natural_gas_fired_combustion_turbine"
         },
         {
          "hour": 2410,
          "production_MW": 21.4,
          "resource": "biomass"
         },
         {
          "hour": 2410,
          "production_MW": 42,
          "resource": "hydroelectric_pumped_storage"
         },
         {
          "hour": 2410,
          "production_MW": 1189.6699276999998,
          "resource": "natural_gas_fired_combined_cycle"
         },
         {
          "hour": 2410,
          "production_MW": 0,
          "resource": "natural_gas_fired_combustion_turbine"
         },
         {
          "hour": 2411,
          "production_MW": 21.4,
          "resource": "biomass"
         },
         {
          "hour": 2411,
          "production_MW": 42,
          "resource": "hydroelectric_pumped_storage"
         },
         {
          "hour": 2411,
          "production_MW": 1218.3000000000002,
          "resource": "natural_gas_fired_combined_cycle"
         },
         {
          "hour": 2411,
          "production_MW": 0,
          "resource": "natural_gas_fired_combustion_turbine"
         },
         {
          "hour": 2412,
          "production_MW": 21.4,
          "resource": "biomass"
         },
         {
          "hour": 2412,
          "production_MW": 42,
          "resource": "hydroelectric_pumped_storage"
         },
         {
          "hour": 2412,
          "production_MW": 1083.4057475521736,
          "resource": "natural_gas_fired_combined_cycle"
         },
         {
          "hour": 2412,
          "production_MW": 0,
          "resource": "natural_gas_fired_combustion_turbine"
         },
         {
          "hour": 2413,
          "production_MW": 21.4,
          "resource": "biomass"
         },
         {
          "hour": 2413,
          "production_MW": 42,
          "resource": "hydroelectric_pumped_storage"
         },
         {
          "hour": 2413,
          "production_MW": 1218.3000000000002,
          "resource": "natural_gas_fired_combined_cycle"
         },
         {
          "hour": 2413,
          "production_MW": 0,
          "resource": "natural_gas_fired_combustion_turbine"
         },
         {
          "hour": 2414,
          "production_MW": 21.4,
          "resource": "biomass"
         },
         {
          "hour": 2414,
          "production_MW": 42,
          "resource": "hydroelectric_pumped_storage"
         },
         {
          "hour": 2414,
          "production_MW": 1218.3000000000002,
          "resource": "natural_gas_fired_combined_cycle"
         },
         {
          "hour": 2414,
          "production_MW": 0,
          "resource": "natural_gas_fired_combustion_turbine"
         },
         {
          "hour": 2415,
          "production_MW": 21.4,
          "resource": "biomass"
         },
         {
          "hour": 2415,
          "production_MW": 42,
          "resource": "hydroelectric_pumped_storage"
         },
         {
          "hour": 2415,
          "production_MW": 1205.3943987999999,
          "resource": "natural_gas_fired_combined_cycle"
         },
         {
          "hour": 2415,
          "production_MW": 0,
          "resource": "natural_gas_fired_combustion_turbine"
         },
         {
          "hour": 2416,
          "production_MW": 21.4,
          "resource": "biomass"
         },
         {
          "hour": 2416,
          "production_MW": 42,
          "resource": "hydroelectric_pumped_storage"
         },
         {
          "hour": 2416,
          "production_MW": 1145.7894363,
          "resource": "natural_gas_fired_combined_cycle"
         },
         {
          "hour": 2416,
          "production_MW": 0,
          "resource": "natural_gas_fired_combustion_turbine"
         },
         {
          "hour": 2417,
          "production_MW": 21.4,
          "resource": "biomass"
         },
         {
          "hour": 2417,
          "production_MW": 42,
          "resource": "hydroelectric_pumped_storage"
         },
         {
          "hour": 2417,
          "production_MW": 1130.294909269751,
          "resource": "natural_gas_fired_combined_cycle"
         },
         {
          "hour": 2417,
          "production_MW": 0,
          "resource": "natural_gas_fired_combustion_turbine"
         },
         {
          "hour": 2418,
          "production_MW": 21.4,
          "resource": "biomass"
         },
         {
          "hour": 2418,
          "production_MW": 42,
          "resource": "hydroelectric_pumped_storage"
         },
         {
          "hour": 2418,
          "production_MW": 1224.74,
          "resource": "natural_gas_fired_combined_cycle"
         },
         {
          "hour": 2418,
          "production_MW": 0,
          "resource": "natural_gas_fired_combustion_turbine"
         },
         {
          "hour": 2419,
          "production_MW": 21.4,
          "resource": "biomass"
         },
         {
          "hour": 2419,
          "production_MW": 42,
          "resource": "hydroelectric_pumped_storage"
         },
         {
          "hour": 2419,
          "production_MW": 1256.5,
          "resource": "natural_gas_fired_combined_cycle"
         },
         {
          "hour": 2419,
          "production_MW": 0,
          "resource": "natural_gas_fired_combustion_turbine"
         },
         {
          "hour": 2420,
          "production_MW": 21.4,
          "resource": "biomass"
         },
         {
          "hour": 2420,
          "production_MW": 42,
          "resource": "hydroelectric_pumped_storage"
         },
         {
          "hour": 2420,
          "production_MW": 1256.5,
          "resource": "natural_gas_fired_combined_cycle"
         },
         {
          "hour": 2420,
          "production_MW": 0,
          "resource": "natural_gas_fired_combustion_turbine"
         },
         {
          "hour": 2421,
          "production_MW": 21.4,
          "resource": "biomass"
         },
         {
          "hour": 2421,
          "production_MW": 42,
          "resource": "hydroelectric_pumped_storage"
         },
         {
          "hour": 2421,
          "production_MW": 1256.5,
          "resource": "natural_gas_fired_combined_cycle"
         },
         {
          "hour": 2421,
          "production_MW": 0,
          "resource": "natural_gas_fired_combustion_turbine"
         },
         {
          "hour": 2422,
          "production_MW": 21.4,
          "resource": "biomass"
         },
         {
          "hour": 2422,
          "production_MW": 42,
          "resource": "hydroelectric_pumped_storage"
         },
         {
          "hour": 2422,
          "production_MW": 1256.5,
          "resource": "natural_gas_fired_combined_cycle"
         },
         {
          "hour": 2422,
          "production_MW": 0,
          "resource": "natural_gas_fired_combustion_turbine"
         },
         {
          "hour": 2423,
          "production_MW": 21.4,
          "resource": "biomass"
         },
         {
          "hour": 2423,
          "production_MW": 42,
          "resource": "hydroelectric_pumped_storage"
         },
         {
          "hour": 2423,
          "production_MW": 963.6402000000006,
          "resource": "natural_gas_fired_combined_cycle"
         },
         {
          "hour": 2423,
          "production_MW": 0,
          "resource": "natural_gas_fired_combustion_turbine"
         },
         {
          "hour": 2424,
          "production_MW": 0,
          "resource": "biomass"
         },
         {
          "hour": 2424,
          "production_MW": 42,
          "resource": "hydroelectric_pumped_storage"
         },
         {
          "hour": 2424,
          "production_MW": 0,
          "resource": "natural_gas_fired_combined_cycle"
         },
         {
          "hour": 2424,
          "production_MW": 0,
          "resource": "natural_gas_fired_combustion_turbine"
         },
         {
          "hour": 2401,
          "production_MW": 927.9333912040006,
          "resource": "battery"
         },
         {
          "hour": 2402,
          "production_MW": 335.4489112040008,
          "resource": "battery"
         },
         {
          "hour": 2403,
          "production_MW": 79.80466799999994,
          "resource": "battery"
         },
         {
          "hour": 2404,
          "production_MW": 138.36210799999975,
          "resource": "battery"
         },
         {
          "hour": 2405,
          "production_MW": 329.33778799999976,
          "resource": "battery"
         },
         {
          "hour": 2406,
          "production_MW": 513.738108,
          "resource": "battery"
         },
         {
          "hour": 2407,
          "production_MW": 683.1852279999998,
          "resource": "battery"
         },
         {
          "hour": 2408,
          "production_MW": 450.69162800000004,
          "resource": "battery"
         },
         {
          "hour": 2409,
          "production_MW": 0,
          "resource": "battery"
         },
         {
          "hour": 2410,
          "production_MW": 0,
          "resource": "battery"
         },
         {
          "hour": 2411,
          "production_MW": 0,
          "resource": "battery"
         },
         {
          "hour": 2412,
          "production_MW": 0,
          "resource": "battery"
         },
         {
          "hour": 2413,
          "production_MW": 0,
          "resource": "battery"
         },
         {
          "hour": 2414,
          "production_MW": 0,
          "resource": "battery"
         },
         {
          "hour": 2415,
          "production_MW": 0,
          "resource": "battery"
         },
         {
          "hour": 2416,
          "production_MW": 0,
          "resource": "battery"
         },
         {
          "hour": 2417,
          "production_MW": 0,
          "resource": "battery"
         },
         {
          "hour": 2418,
          "production_MW": 0,
          "resource": "battery"
         },
         {
          "hour": 2419,
          "production_MW": 835.3493879999999,
          "resource": "battery"
         },
         {
          "hour": 2420,
          "production_MW": 1116.4865879999998,
          "resource": "battery"
         },
         {
          "hour": 2421,
          "production_MW": 1110.9982679999998,
          "resource": "battery"
         },
         {
          "hour": 2422,
          "production_MW": 838.8664279999998,
          "resource": "battery"
         },
         {
          "hour": 2423,
          "production_MW": 831.3057479999991,
          "resource": "battery"
         },
         {
          "hour": 2424,
          "production_MW": 1570.3939479999997,
          "resource": "battery"
         }
        ]
       },
       "encoding": {
        "color": {
         "field": "resource",
         "scale": {
          "scheme": "category10"
         },
         "type": "nominal"
        },
        "x": {
         "field": "hour",
         "type": "quantitative"
        },
        "y": {
         "field": "production_MW",
         "stack": "zero",
         "type": "quantitative"
        }
       },
       "mark": "area"
      },
      "image/png": "[encoded data removed]",
      "image/svg+xml": [
       "<svg xmlns=\"http://www.w3.org/2000/svg\" xmlns:xlink=\"http://www.w3.org/1999/xlink\" version=\"1.1\" class=\"marks\" width=\"455\" height=\"247\" viewBox=\"0 0 455 247\"><rect width=\"455\" height=\"247\" fill=\"white\"/><g fill=\"none\" stroke-miterlimit=\"10\" transform=\"translate(56,10)\"><g class=\"mark-group role-frame root\" role=\"graphics-object\" aria-roledescription=\"group mark container\"><g transform=\"translate(0,0)\"><path class=\"background\" aria-hidden=\"true\" d=\"M0.5,0.5h200v200h-200Z\" stroke=\"#ddd\"/><g><g class=\"mark-group role-axis\" aria-hidden=\"true\"><g transform=\"translate(0.5,200.5)\"><path class=\"background\" aria-hidden=\"true\" d=\"M0,0h0v0h0Z\" pointer-events=\"none\"/><g><g class=\"mark-rule role-axis-grid\" pointer-events=\"none\"><line transform=\"translate(0,-200)\" x2=\"0\" y2=\"200\" stroke=\"#ddd\" stroke-width=\"1\" opacity=\"1\"/><line transform=\"translate(42,-200)\" x2=\"0\" y2=\"200\" stroke=\"#ddd\" stroke-width=\"1\" opacity=\"1\"/><line transform=\"translate(83,-200)\" x2=\"0\" y2=\"200\" stroke=\"#ddd\" stroke-width=\"1\" opacity=\"1\"/><line transform=\"translate(125,-200)\" x2=\"0\" y2=\"200\" stroke=\"#ddd\" stroke-width=\"1\" opacity=\"1\"/><line transform=\"translate(167,-200)\" x2=\"0\" y2=\"200\" stroke=\"#ddd\" stroke-width=\"1\" opacity=\"1\"/></g></g><path class=\"foreground\" aria-hidden=\"true\" d=\"\" pointer-events=\"none\" display=\"none\"/></g></g><g class=\"mark-group role-axis\" aria-hidden=\"true\"><g transform=\"translate(0.5,0.5)\"><path class=\"background\" aria-hidden=\"true\" d=\"M0,0h0v0h0Z\" pointer-events=\"none\"/><g><g class=\"mark-rule role-axis-grid\" pointer-events=\"none\"><line transform=\"translate(0,200)\" x2=\"200\" y2=\"0\" stroke=\"#ddd\" stroke-width=\"1\" opacity=\"1\"/><line transform=\"translate(0,150)\" x2=\"200\" y2=\"0\" stroke=\"#ddd\" stroke-width=\"1\" opacity=\"1\"/><line transform=\"translate(0,100)\" x2=\"200\" y2=\"0\" stroke=\"#ddd\" stroke-width=\"1\" opacity=\"1\"/><line transform=\"translate(0,50)\" x2=\"200\" y2=\"0\" stroke=\"#ddd\" stroke-width=\"1\" opacity=\"1\"/><line transform=\"translate(0,0)\" x2=\"200\" y2=\"0\" stroke=\"#ddd\" stroke-width=\"1\" opacity=\"1\"/></g></g><path class=\"foreground\" aria-hidden=\"true\" d=\"\" pointer-events=\"none\" display=\"none\"/></g></g><g class=\"mark-group role-axis\" role=\"graphics-symbol\" aria-roledescription=\"axis\" aria-label=\"X-axis titled 'hour' for a linear scale with values from 2,400 to 2,424\"><g transform=\"translate(0.5,200.5)\"><path class=\"background\" aria-hidden=\"true\" d=\"M0,0h0v0h0Z\" pointer-events=\"none\"/><g><g class=\"mark-rule role-axis-tick\" pointer-events=\"none\"><line transform=\"translate(0,0)\" x2=\"0\" y2=\"5\" stroke=\"#888\" stroke-width=\"1\" opacity=\"1\"/><line transform=\"translate(42,0)\" x2=\"0\" y2=\"5\" stroke=\"#888\" stroke-width=\"1\" opacity=\"1\"/><line transform=\"translate(83,0)\" x2=\"0\" y2=\"5\" stroke=\"#888\" stroke-width=\"1\" opacity=\"1\"/><line transform=\"translate(125,0)\" x2=\"0\" y2=\"5\" stroke=\"#888\" stroke-width=\"1\" opacity=\"1\"/><line transform=\"translate(167,0)\" x2=\"0\" y2=\"5\" stroke=\"#888\" stroke-width=\"1\" opacity=\"1\"/></g><g class=\"mark-text role-axis-label\" pointer-events=\"none\"><text text-anchor=\"start\" transform=\"translate(0,15)\" font-family=\"sans-serif\" font-size=\"10px\" fill=\"#000\" opacity=\"1\">2,400</text><text text-anchor=\"middle\" transform=\"translate(41.66666666666667,15)\" font-family=\"sans-serif\" font-size=\"10px\" fill=\"#000\" opacity=\"0\">2,405</text><text text-anchor=\"middle\" transform=\"translate(83.33333333333334,15)\" font-family=\"sans-serif\" font-size=\"10px\" fill=\"#000\" opacity=\"1\">2,410</text><text text-anchor=\"middle\" transform=\"translate(125,15)\" font-family=\"sans-serif\" font-size=\"10px\" fill=\"#000\" opacity=\"0\">2,415</text><text text-anchor=\"middle\" transform=\"translate(166.66666666666669,15)\" font-family=\"sans-serif\" font-size=\"10px\" fill=\"#000\" opacity=\"1\">2,420</text></g><g class=\"mark-rule role-axis-domain\" pointer-events=\"none\"><line transform=\"translate(0,0)\" x2=\"200\" y2=\"0\" stroke=\"#888\" stroke-width=\"1\" opacity=\"1\"/></g><g class=\"mark-text role-axis-title\" pointer-events=\"none\"><text text-anchor=\"middle\" transform=\"translate(100,30)\" font-family=\"sans-serif\" font-size=\"11px\" font-weight=\"bold\" fill=\"#000\" opacity=\"1\">hour</text></g></g><path class=\"foreground\" aria-hidden=\"true\" d=\"\" pointer-events=\"none\" display=\"none\"/></g></g><g class=\"mark-group role-axis\" role=\"graphics-symbol\" aria-roledescription=\"axis\" aria-label=\"Y-axis titled 'production_MW' for a linear scale with values from 0 to 4,000\"><g transform=\"translate(0.5,0.5)\"><path class=\"background\" aria-hidden=\"true\" d=\"M0,0h0v0h0Z\" pointer-events=\"none\"/><g><g class=\"mark-rule role-axis-tick\" pointer-events=\"none\"><line transform=\"translate(0,200)\" x2=\"-5\" y2=\"0\" stroke=\"#888\" stroke-width=\"1\" opacity=\"1\"/><line transform=\"translate(0,150)\" x2=\"-5\" y2=\"0\" stroke=\"#888\" stroke-width=\"1\" opacity=\"1\"/><line transform=\"translate(0,100)\" x2=\"-5\" y2=\"0\" stroke=\"#888\" stroke-width=\"1\" opacity=\"1\"/><line transform=\"translate(0,50)\" x2=\"-5\" y2=\"0\" stroke=\"#888\" stroke-width=\"1\" opacity=\"1\"/><line transform=\"translate(0,0)\" x2=\"-5\" y2=\"0\" stroke=\"#888\" stroke-width=\"1\" opacity=\"1\"/></g><g class=\"mark-text role-axis-label\" pointer-events=\"none\"><text text-anchor=\"end\" transform=\"translate(-7,203)\" font-family=\"sans-serif\" font-size=\"10px\" fill=\"#000\" opacity=\"1\">0</text><text text-anchor=\"end\" transform=\"translate(-7,153)\" font-family=\"sans-serif\" font-size=\"10px\" fill=\"#000\" opacity=\"1\">1,000</text><text text-anchor=\"end\" transform=\"translate(-7,103)\" font-family=\"sans-serif\" font-size=\"10px\" fill=\"#000\" opacity=\"1\">2,000</text><text text-anchor=\"end\" transform=\"translate(-7,53)\" font-family=\"sans-serif\" font-size=\"10px\" fill=\"#000\" opacity=\"1\">3,000</text><text text-anchor=\"end\" transform=\"translate(-7,3)\" font-family=\"sans-serif\" font-size=\"10px\" fill=\"#000\" opacity=\"1\">4,000</text></g><g class=\"mark-rule role-axis-domain\" pointer-events=\"none\"><line transform=\"translate(0,200)\" x2=\"0\" y2=\"-200\" stroke=\"#888\" stroke-width=\"1\" opacity=\"1\"/></g><g class=\"mark-text role-axis-title\" pointer-events=\"none\"><text text-anchor=\"middle\" transform=\"translate(-39.6279296875,100) rotate(-90) translate(0,-2)\" font-family=\"sans-serif\" font-size=\"11px\" font-weight=\"bold\" fill=\"#000\" opacity=\"1\">production_MW</text></g></g><path class=\"foreground\" aria-hidden=\"true\" d=\"\" pointer-events=\"none\" display=\"none\"/></g></g><g class=\"mark-group role-scope pathgroup\" role=\"graphics-object\" aria-roledescription=\"group mark container\"><g transform=\"translate(0,0)\"><path class=\"background\" aria-hidden=\"true\" d=\"M0,0h200v200h-200Z\"/><g><g class=\"mark-area role-mark marks\" role=\"graphics-object\" aria-roledescription=\"area mark container\"><path aria-label=\"hour: 2401; production_MW: 163.3088; resource: onshore_wind_turbine\" role=\"graphics-symbol\" aria-roledescription=\"area mark\" d=\"M8.333,191.675L16.667,191.351L25,194.085L33.333,194.813L41.667,195.812L50,192.882L58.333,186.454L66.667,158.68L75,107.893L83.333,92.515L91.667,88.599L100,87.803L108.333,84.431L116.667,83.644L125,88.162L133.333,96.908L141.667,115.116L150,139.28L158.333,188.862L166.667,196.769L175,196.245L183.333,195.038L191.667,193.517L200,192.62L200,199.841L191.667,199.841L183.333,199.841L175,199.841L166.667,199.841L158.333,191.493L150,143.211L141.667,117.976L133.333,100.178L125,90.623L116.667,86.878L108.333,87.036L100,92.408L91.667,94.158L83.333,99.093L75,116.261L66.667,161.148L58.333,190.163L50,199.841L41.667,199.841L33.333,199.841L25,199.841L16.667,199.841L8.333,199.841Z\" fill=\"#8c564b\"/></g></g><path class=\"foreground\" aria-hidden=\"true\" d=\"\" display=\"none\"/></g><g transform=\"translate(0,0)\"><path class=\"background\" aria-hidden=\"true\" d=\"M0,0h200v200h-200Z\"/><g><g class=\"mark-area role-mark marks\" role=\"graphics-object\" aria-roledescription=\"area mark container\"><path aria-label=\"hour: 2401; production_MW: 3.184932; resource: small_hydroelectric\" role=\"graphics-symbol\" aria-roledescription=\"area mark\" d=\"M8.333,199.841L16.667,199.841L25,199.841L33.333,199.841L41.667,199.841L50,199.841L58.333,190.163L66.667,161.148L75,116.261L83.333,99.093L91.667,94.158L100,92.408L108.333,87.036L116.667,86.878L125,90.623L133.333,100.178L141.667,117.976L150,143.211L158.333,191.493L166.667,199.841L175,199.841L183.333,199.841L191.667,199.841L200,199.841L200,200L191.667,200L183.333,200L175,200L166.667,200L158.333,191.653L150,143.37L141.667,118.135L133.333,100.338L125,90.783L116.667,87.038L108.333,87.195L100,92.568L91.667,94.317L83.333,99.252L75,116.42L66.667,161.308L58.333,190.323L50,200L41.667,200L33.333,200L25,200L16.667,200L8.333,200Z\" fill=\"#e377c2\"/></g></g><path class=\"foreground\" aria-hidden=\"true\" d=\"\" display=\"none\"/></g><g transform=\"translate(0,0)\"><path class=\"background\" aria-hidden=\"true\" d=\"M0,0h200v200h-200Z\"/><g><g class=\"mark-area role-mark marks\" role=\"graphics-object\" aria-roledescription=\"area mark container\"><path aria-label=\"hour: 2401; production_MW: 0; resource: solar_photovoltaic\" role=\"graphics-symbol\" aria-roledescription=\"area mark\" d=\"M8.333,200L16.667,200L25,200L33.333,200L41.667,200L50,200L58.333,190.323L66.667,161.308L75,116.42L83.333,99.252L91.667,94.317L100,92.568L108.333,87.195L116.667,87.038L125,90.783L133.333,100.338L141.667,118.135L150,143.37L158.333,191.653L166.667,200L175,200L183.333,200L191.667,200L200,200L200,200L191.667,200L183.333,200L175,200L166.667,200L158.333,200L150,200L141.667,200L133.333,200L125,200L116.667,200L108.333,200L100,200L91.667,200L83.333,200L75,200L66.667,200L58.333,200L50,200L41.667,200L33.333,200L25,200L16.667,200L8.333,200Z\" fill=\"#7f7f7f\"/></g></g><path class=\"foreground\" aria-hidden=\"true\" d=\"\" display=\"none\"/></g><g transform=\"translate(0,0)\"><path class=\"background\" aria-hidden=\"true\" d=\"M0,0h200v200h-200Z\"/><g><g class=\"mark-area role-mark marks\" role=\"graphics-object\" aria-roledescription=\"area mark container\"><path aria-label=\"hour: 2401; production_MW: 0; resource: biomass\" role=\"graphics-symbol\" aria-roledescription=\"area mark\" d=\"M8.333,165.647L16.667,139.122L25,128.09L33.333,128.818L41.667,129.817L50,126.887L58.333,120.459L66.667,92.685L75,43.486L83.333,29.862L91.667,24.514L100,30.462L108.333,20.346L116.667,19.559L125,24.722L133.333,36.448L141.667,55.432L150,74.873L158.333,122.867L166.667,130.774L175,130.25L183.333,129.043L191.667,142.165L200,190.52L200,190.52L191.667,143.235L183.333,130.113L175,131.32L166.667,131.844L158.333,123.937L150,75.943L141.667,56.502L133.333,37.518L125,25.792L116.667,20.629L108.333,21.416L100,31.532L91.667,25.584L83.333,30.932L75,44.556L66.667,93.755L58.333,121.529L50,127.957L41.667,130.887L33.333,129.888L25,129.16L16.667,140.192L8.333,165.647Z\" fill=\"#ff7f0e\"/></g></g><path class=\"foreground\" aria-hidden=\"true\" d=\"\" display=\"none\"/></g><g transform=\"translate(0,0)\"><path class=\"background\" aria-hidden=\"true\" d=\"M0,0h200v200h-200Z\"/><g><g class=\"mark-area role-mark marks\" role=\"graphics-object\" aria-roledescription=\"area mark container\"><path aria-label=\"hour: 2401; production_MW: 42; resource: hydroelectric_pumped_storage\" role=\"graphics-symbol\" aria-roledescription=\"area mark\" d=\"M8.333,165.647L16.667,140.192L25,129.16L33.333,129.888L41.667,130.887L50,127.957L58.333,121.529L66.667,93.755L75,44.556L83.333,30.932L91.667,25.584L100,31.532L108.333,21.416L116.667,20.629L125,25.792L133.333,37.518L141.667,56.502L150,75.943L158.333,123.937L166.667,131.844L175,131.32L183.333,130.113L191.667,143.235L200,190.52L200,192.62L191.667,145.335L183.333,132.213L175,133.42L166.667,133.944L158.333,126.037L150,78.043L141.667,58.602L133.333,39.618L125,27.892L116.667,22.729L108.333,23.516L100,33.632L91.667,27.684L83.333,33.032L75,46.656L66.667,95.855L58.333,123.629L50,130.057L41.667,132.987L33.333,131.988L25,131.26L16.667,142.292L8.333,167.747Z\" fill=\"#2ca02c\"/></g></g><path class=\"foreground\" aria-hidden=\"true\" d=\"\" display=\"none\"/></g><g transform=\"translate(0,0)\"><path class=\"background\" aria-hidden=\"true\" d=\"M0,0h200v200h-200Z\"/><g><g class=\"mark-area role-mark marks\" role=\"graphics-object\" aria-roledescription=\"area mark container\"><path aria-label=\"hour: 2401; production_MW: 478.572876796; resource: natural_gas_fired_combined_cycle\" role=\"graphics-symbol\" aria-roledescription=\"area mark\" d=\"M8.333,167.747L16.667,142.292L25,131.26L33.333,131.988L41.667,132.987L50,130.057L58.333,123.629L66.667,95.855L75,46.656L83.333,33.032L91.667,27.684L100,33.632L108.333,23.516L116.667,22.729L125,27.892L133.333,39.618L141.667,58.602L150,78.043L158.333,126.037L166.667,133.944L175,133.42L183.333,132.213L191.667,145.335L200,192.62L200,192.62L191.667,193.517L183.333,195.038L175,196.245L166.667,196.769L158.333,188.862L150,139.28L141.667,115.116L133.333,96.908L125,88.162L116.667,83.644L108.333,84.431L100,87.803L91.667,88.599L83.333,92.515L75,107.893L66.667,158.68L58.333,186.454L50,192.882L41.667,195.812L33.333,194.813L25,194.085L16.667,191.351L8.333,191.675Z\" fill=\"#d62728\"/></g></g><path class=\"foreground\" aria-hidden=\"true\" d=\"\" display=\"none\"/></g><g transform=\"translate(0,0)\"><path class=\"background\" aria-hidden=\"true\" d=\"M0,0h200v200h-200Z\"/><g><g class=\"mark-area role-mark marks\" role=\"graphics-object\" aria-roledescription=\"area mark container\"><path aria-label=\"hour: 2401; production_MW: 0; resource: natural_gas_fired_combustion_turbine\" role=\"graphics-symbol\" aria-roledescription=\"area mark\" d=\"M8.333,191.675L16.667,191.351L25,194.085L33.333,194.813L41.667,195.812L50,192.882L58.333,186.454L66.667,158.68L75,107.893L83.333,92.515L91.667,88.599L100,87.803L108.333,84.431L116.667,83.644L125,88.162L133.333,96.908L141.667,115.116L150,139.28L158.333,188.862L166.667,196.769L175,196.245L183.333,195.038L191.667,193.517L200,192.62L200,192.62L191.667,193.517L183.333,195.038L175,196.245L166.667,196.769L158.333,188.862L150,139.28L141.667,115.116L133.333,96.908L125,88.162L116.667,83.644L108.333,84.431L100,87.803L91.667,88.599L83.333,92.515L75,107.893L66.667,158.68L58.333,186.454L50,192.882L41.667,195.812L33.333,194.813L25,194.085L16.667,191.351L8.333,191.675Z\" fill=\"#9467bd\"/></g></g><path class=\"foreground\" aria-hidden=\"true\" d=\"\" display=\"none\"/></g><g transform=\"translate(0,0)\"><path class=\"background\" aria-hidden=\"true\" d=\"M0,0h200v200h-200Z\"/><g><g class=\"mark-area role-mark marks\" role=\"graphics-object\" aria-roledescription=\"area mark container\"><path aria-label=\"hour: 2401; production_MW: 927.933391204; resource: battery\" role=\"graphics-symbol\" aria-roledescription=\"area mark\" d=\"M8.333,119.25L16.667,122.35L25,124.1L33.333,121.9L41.667,113.35L50,101.2L58.333,86.3L66.667,70.15L75,43.486L83.333,29.862L91.667,24.514L100,30.462L108.333,20.346L116.667,19.559L125,24.722L133.333,36.448L141.667,55.432L150,74.873L158.333,81.1L166.667,74.95L175,74.7L183.333,87.1L191.667,100.6L200,112L200,190.52L191.667,142.165L183.333,129.043L175,130.25L166.667,130.774L158.333,122.867L150,74.873L141.667,55.432L133.333,36.448L125,24.722L116.667,19.559L108.333,20.346L100,30.462L91.667,24.514L83.333,29.862L75,43.486L66.667,92.685L58.333,120.459L50,126.887L41.667,129.817L33.333,128.818L25,128.09L16.667,139.122L8.333,165.647Z\" fill=\"#1f77b4\"/></g></g><path class=\"foreground\" aria-hidden=\"true\" d=\"\" display=\"none\"/></g></g><g class=\"mark-group role-legend\" role=\"graphics-symbol\" aria-roledescription=\"legend\" aria-label=\"Symbol legend titled 'resource' for fill color with 8 values: battery, biomass, hydroelectric_pumped_storage, natural_gas_fired_combined_cycle, natural_gas_fired_combustion_turbine, ending with solar_photovoltaic\"><g transform=\"translate(218,0)\"><path class=\"background\" aria-hidden=\"true\" d=\"M0,0h176v118h-176Z\" pointer-events=\"none\"/><g><g class=\"mark-group role-legend-entry\"><g transform=\"translate(0,16)\"><path class=\"background\" aria-hidden=\"true\" d=\"M0,0h0v0h0Z\" pointer-events=\"none\"/><g><g class=\"mark-group role-scope\" role=\"graphics-object\" aria-roledescription=\"group mark container\"><g transform=\"translate(0,0)\"><path class=\"background\" aria-hidden=\"true\" d=\"M0,0h175.5263671875v11h-175.5263671875Z\" pointer-events=\"none\" opacity=\"1\"/><g><g class=\"mark-symbol role-legend-symbol\" pointer-events=\"none\"><path transform=\"translate(6,6)\" d=\"M5,0A5,5,0,1,1,-5,0A5,5,0,1,1,5,0\" fill=\"#1f77b4\" stroke-width=\"1.5\" opacity=\"1\"/></g><g class=\"mark-text role-legend-label\" pointer-events=\"none\"><text text-anchor=\"start\" transform=\"translate(16,9)\" font-family=\"sans-serif\" font-size=\"10px\" fill=\"#000\" opacity=\"1\">battery</text></g></g><path class=\"foreground\" aria-hidden=\"true\" d=\"\" pointer-events=\"none\" display=\"none\"/></g><g transform=\"translate(0,13)\"><path class=\"background\" aria-hidden=\"true\" d=\"M0,0h175.5263671875v11h-175.5263671875Z\" pointer-events=\"none\" opacity=\"1\"/><g><g class=\"mark-symbol role-legend-symbol\" pointer-events=\"none\"><path transform=\"translate(6,6)\" d=\"M5,0A5,5,0,1,1,-5,0A5,5,0,1,1,5,0\" fill=\"#ff7f0e\" stroke-width=\"1.5\" opacity=\"1\"/></g><g class=\"mark-text role-legend-label\" pointer-events=\"none\"><text text-anchor=\"start\" transform=\"translate(16,9)\" font-family=\"sans-serif\" font-size=\"10px\" fill=\"#000\" opacity=\"1\">biomass</text></g></g><path class=\"foreground\" aria-hidden=\"true\" d=\"\" pointer-events=\"none\" display=\"none\"/></g><g transform=\"translate(0,26)\"><path class=\"background\" aria-hidden=\"true\" d=\"M0,0h175.5263671875v11h-175.5263671875Z\" pointer-events=\"none\" opacity=\"1\"/><g><g class=\"mark-symbol role-legend-symbol\" pointer-events=\"none\"><path transform=\"translate(6,6)\" d=\"M5,0A5,5,0,1,1,-5,0A5,5,0,1,1,5,0\" fill=\"#2ca02c\" stroke-width=\"1.5\" opacity=\"1\"/></g><g class=\"mark-text role-legend-label\" pointer-events=\"none\"><text text-anchor=\"start\" transform=\"translate(16,9)\" font-family=\"sans-serif\" font-size=\"10px\" fill=\"#000\" opacity=\"1\">hydroelectric_pumped_storage</text></g></g><path class=\"foreground\" aria-hidden=\"true\" d=\"\" pointer-events=\"none\" display=\"none\"/></g><g transform=\"translate(0,39)\"><path class=\"background\" aria-hidden=\"true\" d=\"M0,0h175.5263671875v11h-175.5263671875Z\" pointer-events=\"none\" opacity=\"1\"/><g><g class=\"mark-symbol role-legend-symbol\" pointer-events=\"none\"><path transform=\"translate(6,6)\" d=\"M5,0A5,5,0,1,1,-5,0A5,5,0,1,1,5,0\" fill=\"#d62728\" stroke-width=\"1.5\" opacity=\"1\"/></g><g class=\"mark-text role-legend-label\" pointer-events=\"none\"><text text-anchor=\"start\" transform=\"translate(16,9)\" font-family=\"sans-serif\" font-size=\"10px\" fill=\"#000\" opacity=\"1\">natural_gas_fired_combined_…</text></g></g><path class=\"foreground\" aria-hidden=\"true\" d=\"\" pointer-events=\"none\" display=\"none\"/></g><g transform=\"translate(0,52)\"><path class=\"background\" aria-hidden=\"true\" d=\"M0,0h175.5263671875v11h-175.5263671875Z\" pointer-events=\"none\" opacity=\"1\"/><g><g class=\"mark-symbol role-legend-symbol\" pointer-events=\"none\"><path transform=\"translate(6,6)\" d=\"M5,0A5,5,0,1,1,-5,0A5,5,0,1,1,5,0\" fill=\"#9467bd\" stroke-width=\"1.5\" opacity=\"1\"/></g><g class=\"mark-text role-legend-label\" pointer-events=\"none\"><text text-anchor=\"start\" transform=\"translate(16,9)\" font-family=\"sans-serif\" font-size=\"10px\" fill=\"#000\" opacity=\"1\">natural_gas_fired_combustion…</text></g></g><path class=\"foreground\" aria-hidden=\"true\" d=\"\" pointer-events=\"none\" display=\"none\"/></g><g transform=\"translate(0,65)\"><path class=\"background\" aria-hidden=\"true\" d=\"M0,0h175.5263671875v11h-175.5263671875Z\" pointer-events=\"none\" opacity=\"1\"/><g><g class=\"mark-symbol role-legend-symbol\" pointer-events=\"none\"><path transform=\"translate(6,6)\" d=\"M5,0A5,5,0,1,1,-5,0A5,5,0,1,1,5,0\" fill=\"#8c564b\" stroke-width=\"1.5\" opacity=\"1\"/></g><g class=\"mark-text role-legend-label\" pointer-events=\"none\"><text text-anchor=\"start\" transform=\"translate(16,9)\" font-family=\"sans-serif\" font-size=\"10px\" fill=\"#000\" opacity=\"1\">onshore_wind_turbine</text></g></g><path class=\"foreground\" aria-hidden=\"true\" d=\"\" pointer-events=\"none\" display=\"none\"/></g><g transform=\"translate(0,78)\"><path class=\"background\" aria-hidden=\"true\" d=\"M0,0h175.5263671875v11h-175.5263671875Z\" pointer-events=\"none\" opacity=\"1\"/><g><g class=\"mark-symbol role-legend-symbol\" pointer-events=\"none\"><path transform=\"translate(6,6)\" d=\"M5,0A5,5,0,1,1,-5,0A5,5,0,1,1,5,0\" fill=\"#e377c2\" stroke-width=\"1.5\" opacity=\"1\"/></g><g class=\"mark-text role-legend-label\" pointer-events=\"none\"><text text-anchor=\"start\" transform=\"translate(16,9)\" font-family=\"sans-serif\" font-size=\"10px\" fill=\"#000\" opacity=\"1\">small_hydroelectric</text></g></g><path class=\"foreground\" aria-hidden=\"true\" d=\"\" pointer-events=\"none\" display=\"none\"/></g><g transform=\"translate(0,91)\"><path class=\"background\" aria-hidden=\"true\" d=\"M0,0h175.5263671875v11h-175.5263671875Z\" pointer-events=\"none\" opacity=\"1\"/><g><g class=\"mark-symbol role-legend-symbol\" pointer-events=\"none\"><path transform=\"translate(6,6)\" d=\"M5,0A5,5,0,1,1,-5,0A5,5,0,1,1,5,0\" fill=\"#7f7f7f\" stroke-width=\"1.5\" opacity=\"1\"/></g><g class=\"mark-text role-legend-label\" pointer-events=\"none\"><text text-anchor=\"start\" transform=\"translate(16,9)\" font-family=\"sans-serif\" font-size=\"10px\" fill=\"#000\" opacity=\"1\">solar_photovoltaic</text></g></g><path class=\"foreground\" aria-hidden=\"true\" d=\"\" pointer-events=\"none\" display=\"none\"/></g></g></g><path class=\"foreground\" aria-hidden=\"true\" d=\"\" pointer-events=\"none\" display=\"none\"/></g></g><g class=\"mark-text role-legend-title\" pointer-events=\"none\"><text text-anchor=\"start\" transform=\"translate(0,9)\" font-family=\"sans-serif\" font-size=\"11px\" font-weight=\"bold\" fill=\"#000\" opacity=\"1\">resource</text></g></g><path class=\"foreground\" aria-hidden=\"true\" d=\"\" pointer-events=\"none\" display=\"none\"/></g></g></g><path class=\"foreground\" aria-hidden=\"true\" d=\"\" display=\"none\"/></g></g></g></svg>"
      ],
      "text/plain": [
       "@vlplot(\n",
       "    mark=\"area\",\n",
       "    encoding={\n",
       "        x={\n",
       "            field=\"hour\"\n",
       "        },\n",
       "        y={\n",
       "            stack=\"zero\",\n",
       "            field=\"production_MW\"\n",
       "        },\n",
       "        color={\n",
       "            scale={\n",
       "                scheme=\"category10\"\n",
       "            },\n",
       "            field=\"resource\",\n",
       "            type=\"nominal\"\n",
       "        }\n",
       "    },\n",
       "    data={\n",
       "        values=...\n",
       "    }\n",
       ")"
      ]
     },
     "metadata": {},
     "output_type": "display_data"
    }
   ],
   "source": [
    "supply = combine(groupby(solution.generation, [:hour, :resource]), :production_MW => sum, renamecols=false)\n",
    "supply_ch = combine(groupby(solution.storage, [:hour, :resource]), :discharge_MW => sum, renamecols=false)\n",
    "rename!(supply_ch, :discharge_MW => :production_MW)\n",
    "append!(supply, supply_ch)\n",
    "supply |>\n",
    "@vlplot(:area, \n",
    "    x=:hour, y={:production_MW, stack=:zero}, \n",
    "    color={\"resource:n\", scale={scheme=\"category10\"}})"
   ]
  }
 ],
 "metadata": {
  "@webio": {
   "lastCommId": null,
   "lastKernelId": null
  },
  "kernelspec": {
   "display_name": "Julia 1.10.1",
   "language": "julia",
   "name": "julia-1.10"
  },
  "language_info": {
   "file_extension": ".jl",
   "mimetype": "application/julia",
   "name": "julia",
   "version": "1.10.1"
  }
 },
 "nbformat": 4,
 "nbformat_minor": 4
}
