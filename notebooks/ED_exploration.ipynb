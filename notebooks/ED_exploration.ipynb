{
 "cells": [
  {
   "cell_type": "code",
   "execution_count": 3,
   "metadata": {},
   "outputs": [
    {
     "data": {
      "text/plain": [
       "calculate_reserve_gcd_KPI (generic function with 1 method)"
      ]
     },
     "execution_count": 3,
     "metadata": {},
     "output_type": "execute_result"
    }
   ],
   "source": [
    "using PlotlyJS\n",
    "# using XLSX\n",
    "include(\"../model/pre_processing.jl\")\n",
    "# include(\"../model/unit_commitment.jl\")\n",
    "# include(\"../model/economic_dispatch.jl\")\n",
    "include(\"./plotting.jl\")\n",
    "include(\"./processing.jl\")\n",
    "# XLSX.writetable(joinpath(folder_path,\"LOL_CUR.xlsx\"), \"LOL_CUR\" => change_type(LOL_CUR, Symbol, string))"
   ]
  },
  {
   "cell_type": "code",
   "execution_count": 4,
   "metadata": {},
   "outputs": [
    {
     "name": "stdout",
     "output_type": "stream",
     "text": [
      "../output/solutions_v35.1u/all_gcdi_KPI_adequacy.parquet\n",
      "../output/solutions_v35.1u/all_gcd_KPI_adequacy.parquet\n",
      "../output/solutions_v35.1u/all_KPI_reserve.parquet\n",
      "../output/solutions_v35.1u/all_gcdi_KPI_reserve.parquet\n",
      "../output/solutions_v35.1u/all_gcd_KPI_reserve.parquet\n"
     ]
    }
   ],
   "source": [
    "folder_path = joinpath(\"..\",\"output\", \"solutions_v35.1u\")\n",
    "gcdi_KPI_adequacy = read_parquet_and_convert(joinpath(folder_path,\"all_gcdi_KPI_adequacy.parquet\"))\n",
    "gcd_KPI_adequacy = read_parquet_and_convert(joinpath(folder_path,\"all_gcd_KPI_adequacy.parquet\"))\n",
    "KPI_reserve = read_parquet_and_convert(joinpath(folder_path,\"all_KPI_reserve.parquet\"))\n",
    "gcdi_KPI_reserve = read_parquet_and_convert(joinpath(folder_path,\"all_gcdi_KPI_reserve.parquet\"))\n",
    "gcd_KPI_reserve = read_parquet_and_convert(joinpath(folder_path,\"all_gcd_KPI_reserve.parquet\"))\n",
    ";"
   ]
  },
  {
   "cell_type": "code",
   "execution_count": 9,
   "metadata": {},
   "outputs": [
    {
     "data": {
      "text/html": [
       "<div><div style = \"float: left;\"><span>4200×20 DataFrame</span></div><div style = \"float: right;\"><span style = \"font-style: italic;\">4175 rows omitted</span></div><div style = \"clear: both;\"></div></div><div class = \"data-frame\" style = \"overflow-x: scroll;\"><table class = \"data-frame\" style = \"margin-bottom: 6px;\"><thead><tr class = \"header\"><th class = \"rowNumber\" style = \"font-weight: bold; text-align: right;\">Row</th><th style = \"text-align: left;\">configuration</th><th style = \"text-align: left;\">day</th><th style = \"text-align: left;\">iteration</th><th style = \"text-align: left;\">LLD_h</th><th style = \"text-align: left;\">ENS_MWh</th><th style = \"text-align: left;\">demand_MWh</th><th style = \"text-align: left;\">CURD_h</th><th style = \"text-align: left;\">CUR_MWh</th><th style = \"text-align: left;\">RES_production_MWh</th><th style = \"text-align: left;\">LGEN_MWh</th><th style = \"text-align: left;\">objective_value</th><th style = \"text-align: left;\">OPEX</th><th style = \"text-align: left;\">objective_value_uc</th><th style = \"text-align: left;\">OPEX_uc</th><th style = \"text-align: left;\">Δobjective_value</th><th style = \"text-align: left;\">Δobjective_value_relative</th><th style = \"text-align: left;\">objective_value_ref_conf</th><th style = \"text-align: left;\">Δobjective_value_ref_conf</th><th style = \"text-align: left;\">Δobjective_value_relative_ref_conf</th><th style = \"text-align: left;\">mu</th></tr><tr class = \"subheader headerLastRow\"><th class = \"rowNumber\" style = \"font-weight: bold; text-align: right;\"></th><th title = \"Symbol\" style = \"text-align: left;\">Symbol</th><th title = \"Int64\" style = \"text-align: left;\">Int64</th><th title = \"Symbol\" style = \"text-align: left;\">Symbol</th><th title = \"Union{Missing, Int64}\" style = \"text-align: left;\">Int64?</th><th title = \"Union{Missing, Float64}\" style = \"text-align: left;\">Float64?</th><th title = \"Union{Missing, Float64}\" style = \"text-align: left;\">Float64?</th><th title = \"Union{Missing, Int64}\" style = \"text-align: left;\">Int64?</th><th title = \"Union{Missing, Float64}\" style = \"text-align: left;\">Float64?</th><th title = \"Union{Missing, Float64}\" style = \"text-align: left;\">Float64?</th><th title = \"Union{Missing, Float64}\" style = \"text-align: left;\">Float64?</th><th title = \"Union{Missing, Float64}\" style = \"text-align: left;\">Float64?</th><th title = \"Union{Missing, Float64}\" style = \"text-align: left;\">Float64?</th><th title = \"Union{Missing, Float64}\" style = \"text-align: left;\">Float64?</th><th title = \"Union{Missing, Float64}\" style = \"text-align: left;\">Float64?</th><th title = \"Union{Missing, Float64}\" style = \"text-align: left;\">Float64?</th><th title = \"Union{Missing, Float64}\" style = \"text-align: left;\">Float64?</th><th title = \"Union{Missing, Float64}\" style = \"text-align: left;\">Float64?</th><th title = \"Union{Missing, Float64}\" style = \"text-align: left;\">Float64?</th><th title = \"Union{Missing, Float64}\" style = \"text-align: left;\">Float64?</th><th title = \"Float64\" style = \"text-align: left;\">Float64</th></tr></thead><tbody><tr><td class = \"rowNumber\" style = \"font-weight: bold; text-align: right;\">1</td><td style = \"text-align: left;\">base_ramp_storage_envelopes_up_0_dn_0</td><td style = \"text-align: right;\">1</td><td style = \"text-align: left;\">demand_86</td><td style = \"text-align: right;\">4</td><td style = \"text-align: right;\">680.846</td><td style = \"text-align: right;\">53825.5</td><td style = \"text-align: right;\">0</td><td style = \"text-align: right;\">5.31131e-13</td><td style = \"text-align: right;\">19416.3</td><td style = \"text-align: right;\">0.0</td><td style = \"text-align: right;\">7.63414e6</td><td style = \"text-align: right;\">8.25688e5</td><td style = \"text-align: right;\">8.25708e5</td><td style = \"text-align: right;\">8.25708e5</td><td style = \"text-align: right;\">6.80844e6</td><td style = \"text-align: right;\">8.24557</td><td style = \"text-align: right;\">7.63414e6</td><td style = \"text-align: right;\">0.0</td><td style = \"text-align: right;\">0.0</td><td style = \"text-align: right;\">0.0</td></tr><tr><td class = \"rowNumber\" style = \"font-weight: bold; text-align: right;\">2</td><td style = \"text-align: left;\">base_ramp_storage_envelopes_up_0_dn_0</td><td style = \"text-align: right;\">1</td><td style = \"text-align: left;\">demand_91</td><td style = \"text-align: right;\">0</td><td style = \"text-align: right;\">0.0</td><td style = \"text-align: right;\">52728.3</td><td style = \"text-align: right;\">0</td><td style = \"text-align: right;\">5.31131e-13</td><td style = \"text-align: right;\">19416.3</td><td style = \"text-align: right;\">357.188</td><td style = \"text-align: right;\">8.2574e5</td><td style = \"text-align: right;\">8.2574e5</td><td style = \"text-align: right;\">8.25708e5</td><td style = \"text-align: right;\">8.25708e5</td><td style = \"text-align: right;\">31.6305</td><td style = \"text-align: right;\">3.83071e-5</td><td style = \"text-align: right;\">8.2574e5</td><td style = \"text-align: right;\">0.0</td><td style = \"text-align: right;\">0.0</td><td style = \"text-align: right;\">0.0</td></tr><tr><td class = \"rowNumber\" style = \"font-weight: bold; text-align: right;\">3</td><td style = \"text-align: left;\">base_ramp_storage_envelopes_up_0_dn_0</td><td style = \"text-align: right;\">1</td><td style = \"text-align: left;\">demand_48</td><td style = \"text-align: right;\">4</td><td style = \"text-align: right;\">778.758</td><td style = \"text-align: right;\">53859.2</td><td style = \"text-align: right;\">0</td><td style = \"text-align: right;\">5.31131e-13</td><td style = \"text-align: right;\">19416.3</td><td style = \"text-align: right;\">0.0</td><td style = \"text-align: right;\">8.61332e6</td><td style = \"text-align: right;\">8.25736e5</td><td style = \"text-align: right;\">8.25708e5</td><td style = \"text-align: right;\">8.25708e5</td><td style = \"text-align: right;\">7.78761e6</td><td style = \"text-align: right;\">9.43143</td><td style = \"text-align: right;\">8.61332e6</td><td style = \"text-align: right;\">0.0</td><td style = \"text-align: right;\">0.0</td><td style = \"text-align: right;\">0.0</td></tr><tr><td class = \"rowNumber\" style = \"font-weight: bold; text-align: right;\">4</td><td style = \"text-align: left;\">base_ramp_storage_envelopes_up_0_dn_0</td><td style = \"text-align: right;\">1</td><td style = \"text-align: left;\">demand_21</td><td style = \"text-align: right;\">4</td><td style = \"text-align: right;\">688.953</td><td style = \"text-align: right;\">53846.6</td><td style = \"text-align: right;\">0</td><td style = \"text-align: right;\">5.31131e-13</td><td style = \"text-align: right;\">19416.3</td><td style = \"text-align: right;\">0.0</td><td style = \"text-align: right;\">7.71521e6</td><td style = \"text-align: right;\">825682.0</td><td style = \"text-align: right;\">8.25708e5</td><td style = \"text-align: right;\">8.25708e5</td><td style = \"text-align: right;\">6.88951e6</td><td style = \"text-align: right;\">8.34375</td><td style = \"text-align: right;\">7.71521e6</td><td style = \"text-align: right;\">0.0</td><td style = \"text-align: right;\">0.0</td><td style = \"text-align: right;\">0.0</td></tr><tr><td class = \"rowNumber\" style = \"font-weight: bold; text-align: right;\">5</td><td style = \"text-align: left;\">base_ramp_storage_envelopes_up_0_dn_0</td><td style = \"text-align: right;\">1</td><td style = \"text-align: left;\">demand_16</td><td style = \"text-align: right;\">0</td><td style = \"text-align: right;\">0.0</td><td style = \"text-align: right;\">52323.0</td><td style = \"text-align: right;\">0</td><td style = \"text-align: right;\">5.31131e-13</td><td style = \"text-align: right;\">19416.3</td><td style = \"text-align: right;\">804.688</td><td style = \"text-align: right;\">8.25677e5</td><td style = \"text-align: right;\">8.25677e5</td><td style = \"text-align: right;\">8.25708e5</td><td style = \"text-align: right;\">8.25708e5</td><td style = \"text-align: right;\">-31.1113</td><td style = \"text-align: right;\">-3.76783e-5</td><td style = \"text-align: right;\">8.25677e5</td><td style = \"text-align: right;\">0.0</td><td style = \"text-align: right;\">0.0</td><td style = \"text-align: right;\">0.0</td></tr><tr><td class = \"rowNumber\" style = \"font-weight: bold; text-align: right;\">6</td><td style = \"text-align: left;\">base_ramp_storage_envelopes_up_0_dn_0</td><td style = \"text-align: right;\">1</td><td style = \"text-align: left;\">demand_28</td><td style = \"text-align: right;\">0</td><td style = \"text-align: right;\">0.0</td><td style = \"text-align: right;\">52833.2</td><td style = \"text-align: right;\">0</td><td style = \"text-align: right;\">5.31131e-13</td><td style = \"text-align: right;\">19416.3</td><td style = \"text-align: right;\">277.74</td><td style = \"text-align: right;\">8.25682e5</td><td style = \"text-align: right;\">8.25682e5</td><td style = \"text-align: right;\">8.25708e5</td><td style = \"text-align: right;\">8.25708e5</td><td style = \"text-align: right;\">-26.1515</td><td style = \"text-align: right;\">-3.16716e-5</td><td style = \"text-align: right;\">8.25682e5</td><td style = \"text-align: right;\">0.0</td><td style = \"text-align: right;\">0.0</td><td style = \"text-align: right;\">0.0</td></tr><tr><td class = \"rowNumber\" style = \"font-weight: bold; text-align: right;\">7</td><td style = \"text-align: left;\">base_ramp_storage_envelopes_up_0_dn_0</td><td style = \"text-align: right;\">1</td><td style = \"text-align: left;\">demand_54</td><td style = \"text-align: right;\">7</td><td style = \"text-align: right;\">469.865</td><td style = \"text-align: right;\">53570.7</td><td style = \"text-align: right;\">0</td><td style = \"text-align: right;\">5.31131e-13</td><td style = \"text-align: right;\">19416.3</td><td style = \"text-align: right;\">0.0</td><td style = \"text-align: right;\">5.52433e6</td><td style = \"text-align: right;\">8.25686e5</td><td style = \"text-align: right;\">8.25708e5</td><td style = \"text-align: right;\">8.25708e5</td><td style = \"text-align: right;\">4.69862e6</td><td style = \"text-align: right;\">5.69042</td><td style = \"text-align: right;\">5.52433e6</td><td style = \"text-align: right;\">0.0</td><td style = \"text-align: right;\">0.0</td><td style = \"text-align: right;\">0.0</td></tr><tr><td class = \"rowNumber\" style = \"font-weight: bold; text-align: right;\">8</td><td style = \"text-align: left;\">base_ramp_storage_envelopes_up_0_dn_0</td><td style = \"text-align: right;\">1</td><td style = \"text-align: left;\">demand_24</td><td style = \"text-align: right;\">0</td><td style = \"text-align: right;\">0.0</td><td style = \"text-align: right;\">52166.4</td><td style = \"text-align: right;\">0</td><td style = \"text-align: right;\">5.31131e-13</td><td style = \"text-align: right;\">19416.3</td><td style = \"text-align: right;\">990.132</td><td style = \"text-align: right;\">825634.0</td><td style = \"text-align: right;\">825634.0</td><td style = \"text-align: right;\">8.25708e5</td><td style = \"text-align: right;\">8.25708e5</td><td style = \"text-align: right;\">-74.414</td><td style = \"text-align: right;\">-9.01214e-5</td><td style = \"text-align: right;\">825634.0</td><td style = \"text-align: right;\">0.0</td><td style = \"text-align: right;\">0.0</td><td style = \"text-align: right;\">0.0</td></tr><tr><td class = \"rowNumber\" style = \"font-weight: bold; text-align: right;\">9</td><td style = \"text-align: left;\">base_ramp_storage_envelopes_up_0_dn_0</td><td style = \"text-align: right;\">1</td><td style = \"text-align: left;\">demand_26</td><td style = \"text-align: right;\">0</td><td style = \"text-align: right;\">0.0</td><td style = \"text-align: right;\">52726.5</td><td style = \"text-align: right;\">0</td><td style = \"text-align: right;\">5.31131e-13</td><td style = \"text-align: right;\">19416.3</td><td style = \"text-align: right;\">473.09</td><td style = \"text-align: right;\">8.25628e5</td><td style = \"text-align: right;\">8.25628e5</td><td style = \"text-align: right;\">8.25708e5</td><td style = \"text-align: right;\">8.25708e5</td><td style = \"text-align: right;\">-80.9128</td><td style = \"text-align: right;\">-9.7992e-5</td><td style = \"text-align: right;\">8.25628e5</td><td style = \"text-align: right;\">0.0</td><td style = \"text-align: right;\">0.0</td><td style = \"text-align: right;\">0.0</td></tr><tr><td class = \"rowNumber\" style = \"font-weight: bold; text-align: right;\">10</td><td style = \"text-align: left;\">base_ramp_storage_envelopes_up_0_dn_0</td><td style = \"text-align: right;\">1</td><td style = \"text-align: left;\">demand_7</td><td style = \"text-align: right;\">0</td><td style = \"text-align: right;\">0.0</td><td style = \"text-align: right;\">52291.2</td><td style = \"text-align: right;\">0</td><td style = \"text-align: right;\">5.31131e-13</td><td style = \"text-align: right;\">19416.3</td><td style = \"text-align: right;\">811.392</td><td style = \"text-align: right;\">8.25684e5</td><td style = \"text-align: right;\">8.25684e5</td><td style = \"text-align: right;\">8.25708e5</td><td style = \"text-align: right;\">8.25708e5</td><td style = \"text-align: right;\">-24.088</td><td style = \"text-align: right;\">-2.91726e-5</td><td style = \"text-align: right;\">8.25684e5</td><td style = \"text-align: right;\">0.0</td><td style = \"text-align: right;\">0.0</td><td style = \"text-align: right;\">0.0</td></tr><tr><td class = \"rowNumber\" style = \"font-weight: bold; text-align: right;\">11</td><td style = \"text-align: left;\">base_ramp_storage_envelopes_up_0_dn_0</td><td style = \"text-align: right;\">1</td><td style = \"text-align: left;\">demand_19</td><td style = \"text-align: right;\">0</td><td style = \"text-align: right;\">0.0</td><td style = \"text-align: right;\">52787.4</td><td style = \"text-align: right;\">0</td><td style = \"text-align: right;\">5.31131e-13</td><td style = \"text-align: right;\">19416.3</td><td style = \"text-align: right;\">343.152</td><td style = \"text-align: right;\">8.25683e5</td><td style = \"text-align: right;\">8.25683e5</td><td style = \"text-align: right;\">8.25708e5</td><td style = \"text-align: right;\">8.25708e5</td><td style = \"text-align: right;\">-25.312</td><td style = \"text-align: right;\">-3.06549e-5</td><td style = \"text-align: right;\">8.25683e5</td><td style = \"text-align: right;\">0.0</td><td style = \"text-align: right;\">0.0</td><td style = \"text-align: right;\">0.0</td></tr><tr><td class = \"rowNumber\" style = \"font-weight: bold; text-align: right;\">12</td><td style = \"text-align: left;\">base_ramp_storage_envelopes_up_0_dn_0</td><td style = \"text-align: right;\">1</td><td style = \"text-align: left;\">demand_25</td><td style = \"text-align: right;\">5</td><td style = \"text-align: right;\">261.09</td><td style = \"text-align: right;\">53384.8</td><td style = \"text-align: right;\">0</td><td style = \"text-align: right;\">5.31131e-13</td><td style = \"text-align: right;\">19416.3</td><td style = \"text-align: right;\">0.0</td><td style = \"text-align: right;\">3.43657e6</td><td style = \"text-align: right;\">8.25667e5</td><td style = \"text-align: right;\">8.25708e5</td><td style = \"text-align: right;\">8.25708e5</td><td style = \"text-align: right;\">2.61086e6</td><td style = \"text-align: right;\">3.16196</td><td style = \"text-align: right;\">3.43657e6</td><td style = \"text-align: right;\">0.0</td><td style = \"text-align: right;\">0.0</td><td style = \"text-align: right;\">0.0</td></tr><tr><td class = \"rowNumber\" style = \"font-weight: bold; text-align: right;\">13</td><td style = \"text-align: left;\">base_ramp_storage_envelopes_up_0_dn_0</td><td style = \"text-align: right;\">1</td><td style = \"text-align: left;\">demand_66</td><td style = \"text-align: right;\">0</td><td style = \"text-align: right;\">0.0</td><td style = \"text-align: right;\">52683.1</td><td style = \"text-align: right;\">0</td><td style = \"text-align: right;\">5.31131e-13</td><td style = \"text-align: right;\">19416.3</td><td style = \"text-align: right;\">484.163</td><td style = \"text-align: right;\">825631.0</td><td style = \"text-align: right;\">825631.0</td><td style = \"text-align: right;\">8.25708e5</td><td style = \"text-align: right;\">8.25708e5</td><td style = \"text-align: right;\">-77.471</td><td style = \"text-align: right;\">-9.38237e-5</td><td style = \"text-align: right;\">825631.0</td><td style = \"text-align: right;\">0.0</td><td style = \"text-align: right;\">0.0</td><td style = \"text-align: right;\">0.0</td></tr><tr><td style = \"text-align: right;\">&vellip;</td><td style = \"text-align: right;\">&vellip;</td><td style = \"text-align: right;\">&vellip;</td><td style = \"text-align: right;\">&vellip;</td><td style = \"text-align: right;\">&vellip;</td><td style = \"text-align: right;\">&vellip;</td><td style = \"text-align: right;\">&vellip;</td><td style = \"text-align: right;\">&vellip;</td><td style = \"text-align: right;\">&vellip;</td><td style = \"text-align: right;\">&vellip;</td><td style = \"text-align: right;\">&vellip;</td><td style = \"text-align: right;\">&vellip;</td><td style = \"text-align: right;\">&vellip;</td><td style = \"text-align: right;\">&vellip;</td><td style = \"text-align: right;\">&vellip;</td><td style = \"text-align: right;\">&vellip;</td><td style = \"text-align: right;\">&vellip;</td><td style = \"text-align: right;\">&vellip;</td><td style = \"text-align: right;\">&vellip;</td><td style = \"text-align: right;\">&vellip;</td><td style = \"text-align: right;\">&vellip;</td></tr><tr><td class = \"rowNumber\" style = \"font-weight: bold; text-align: right;\">4189</td><td style = \"text-align: left;\">base_ramp_storage_envelopes_up_1_dn_1</td><td style = \"text-align: right;\">7</td><td style = \"text-align: left;\">demand_83</td><td style = \"text-align: right;\">0</td><td style = \"text-align: right;\">0.0</td><td style = \"text-align: right;\">50593.3</td><td style = \"text-align: right;\">0</td><td style = \"text-align: right;\">-3.85691e-13</td><td style = \"text-align: right;\">21140.9</td><td style = \"text-align: right;\">4080.84</td><td style = \"text-align: right;\">7.09562e5</td><td style = \"text-align: right;\">7.09562e5</td><td style = \"text-align: right;\">7.0995e5</td><td style = \"text-align: right;\">7.0995e5</td><td style = \"text-align: right;\">-388.428</td><td style = \"text-align: right;\">-0.000547121</td><td style = \"text-align: right;\">2.77214e6</td><td style = \"text-align: right;\">-2.06258e6</td><td style = \"text-align: right;\">-0.744039</td><td style = \"text-align: right;\">1.0</td></tr><tr><td class = \"rowNumber\" style = \"font-weight: bold; text-align: right;\">4190</td><td style = \"text-align: left;\">base_ramp_storage_envelopes_up_1_dn_1</td><td style = \"text-align: right;\">7</td><td style = \"text-align: left;\">demand_89</td><td style = \"text-align: right;\">0</td><td style = \"text-align: right;\">0.0</td><td style = \"text-align: right;\">49799.6</td><td style = \"text-align: right;\">0</td><td style = \"text-align: right;\">-3.85691e-13</td><td style = \"text-align: right;\">21140.9</td><td style = \"text-align: right;\">4892.09</td><td style = \"text-align: right;\">7.09534e5</td><td style = \"text-align: right;\">7.09534e5</td><td style = \"text-align: right;\">7.0995e5</td><td style = \"text-align: right;\">7.0995e5</td><td style = \"text-align: right;\">-416.53</td><td style = \"text-align: right;\">-0.000586703</td><td style = \"text-align: right;\">3.32332e6</td><td style = \"text-align: right;\">-2.61379e6</td><td style = \"text-align: right;\">-0.786499</td><td style = \"text-align: right;\">1.0</td></tr><tr><td class = \"rowNumber\" style = \"font-weight: bold; text-align: right;\">4191</td><td style = \"text-align: left;\">base_ramp_storage_envelopes_up_1_dn_1</td><td style = \"text-align: right;\">7</td><td style = \"text-align: left;\">demand_42</td><td style = \"text-align: right;\">0</td><td style = \"text-align: right;\">0.0</td><td style = \"text-align: right;\">50232.0</td><td style = \"text-align: right;\">0</td><td style = \"text-align: right;\">-3.85691e-13</td><td style = \"text-align: right;\">21140.9</td><td style = \"text-align: right;\">4465.27</td><td style = \"text-align: right;\">7.09526e5</td><td style = \"text-align: right;\">7.09526e5</td><td style = \"text-align: right;\">7.0995e5</td><td style = \"text-align: right;\">7.0995e5</td><td style = \"text-align: right;\">-424.087</td><td style = \"text-align: right;\">-0.000597347</td><td style = \"text-align: right;\">7.05991e5</td><td style = \"text-align: right;\">3534.82</td><td style = \"text-align: right;\">0.0050069</td><td style = \"text-align: right;\">1.0</td></tr><tr><td class = \"rowNumber\" style = \"font-weight: bold; text-align: right;\">4192</td><td style = \"text-align: left;\">base_ramp_storage_envelopes_up_1_dn_1</td><td style = \"text-align: right;\">7</td><td style = \"text-align: left;\">demand_84</td><td style = \"text-align: right;\">0</td><td style = \"text-align: right;\">0.0</td><td style = \"text-align: right;\">51346.6</td><td style = \"text-align: right;\">0</td><td style = \"text-align: right;\">-3.85691e-13</td><td style = \"text-align: right;\">21140.9</td><td style = \"text-align: right;\">3233.57</td><td style = \"text-align: right;\">7.09683e5</td><td style = \"text-align: right;\">7.09683e5</td><td style = \"text-align: right;\">7.0995e5</td><td style = \"text-align: right;\">7.0995e5</td><td style = \"text-align: right;\">-266.822</td><td style = \"text-align: right;\">-0.000375832</td><td style = \"text-align: right;\">8.76616e6</td><td style = \"text-align: right;\">-8.05647e6</td><td style = \"text-align: right;\">-0.919043</td><td style = \"text-align: right;\">1.0</td></tr><tr><td class = \"rowNumber\" style = \"font-weight: bold; text-align: right;\">4193</td><td style = \"text-align: left;\">base_ramp_storage_envelopes_up_1_dn_1</td><td style = \"text-align: right;\">7</td><td style = \"text-align: left;\">demand_15</td><td style = \"text-align: right;\">0</td><td style = \"text-align: right;\">0.0</td><td style = \"text-align: right;\">51521.9</td><td style = \"text-align: right;\">0</td><td style = \"text-align: right;\">-3.85691e-13</td><td style = \"text-align: right;\">21140.9</td><td style = \"text-align: right;\">3053.27</td><td style = \"text-align: right;\">7.0969e5</td><td style = \"text-align: right;\">7.0969e5</td><td style = \"text-align: right;\">7.0995e5</td><td style = \"text-align: right;\">7.0995e5</td><td style = \"text-align: right;\">-260.519</td><td style = \"text-align: right;\">-0.000366954</td><td style = \"text-align: right;\">9.74597e6</td><td style = \"text-align: right;\">-9.03628e6</td><td style = \"text-align: right;\">-0.927181</td><td style = \"text-align: right;\">1.0</td></tr><tr><td class = \"rowNumber\" style = \"font-weight: bold; text-align: right;\">4194</td><td style = \"text-align: left;\">base_ramp_storage_envelopes_up_1_dn_1</td><td style = \"text-align: right;\">7</td><td style = \"text-align: left;\">demand_44</td><td style = \"text-align: right;\">0</td><td style = \"text-align: right;\">0.0</td><td style = \"text-align: right;\">50334.4</td><td style = \"text-align: right;\">0</td><td style = \"text-align: right;\">-3.85691e-13</td><td style = \"text-align: right;\">21140.9</td><td style = \"text-align: right;\">4312.91</td><td style = \"text-align: right;\">7.09588e5</td><td style = \"text-align: right;\">7.09588e5</td><td style = \"text-align: right;\">7.0995e5</td><td style = \"text-align: right;\">7.0995e5</td><td style = \"text-align: right;\">-362.352</td><td style = \"text-align: right;\">-0.00051039</td><td style = \"text-align: right;\">7.06052e5</td><td style = \"text-align: right;\">3535.74</td><td style = \"text-align: right;\">0.00500776</td><td style = \"text-align: right;\">1.0</td></tr><tr><td class = \"rowNumber\" style = \"font-weight: bold; text-align: right;\">4195</td><td style = \"text-align: left;\">base_ramp_storage_envelopes_up_1_dn_1</td><td style = \"text-align: right;\">7</td><td style = \"text-align: left;\">demand_94</td><td style = \"text-align: right;\">0</td><td style = \"text-align: right;\">0.0</td><td style = \"text-align: right;\">50103.6</td><td style = \"text-align: right;\">0</td><td style = \"text-align: right;\">-3.85691e-13</td><td style = \"text-align: right;\">21140.9</td><td style = \"text-align: right;\">4676.83</td><td style = \"text-align: right;\">7.09406e5</td><td style = \"text-align: right;\">7.09406e5</td><td style = \"text-align: right;\">7.0995e5</td><td style = \"text-align: right;\">7.0995e5</td><td style = \"text-align: right;\">-544.053</td><td style = \"text-align: right;\">-0.000766326</td><td style = \"text-align: right;\">7.05866e5</td><td style = \"text-align: right;\">3539.84</td><td style = \"text-align: right;\">0.00501488</td><td style = \"text-align: right;\">1.0</td></tr><tr><td class = \"rowNumber\" style = \"font-weight: bold; text-align: right;\">4196</td><td style = \"text-align: left;\">base_ramp_storage_envelopes_up_1_dn_1</td><td style = \"text-align: right;\">7</td><td style = \"text-align: left;\">demand_30</td><td style = \"text-align: right;\">0</td><td style = \"text-align: right;\">0.0</td><td style = \"text-align: right;\">50268.6</td><td style = \"text-align: right;\">0</td><td style = \"text-align: right;\">-3.85691e-13</td><td style = \"text-align: right;\">21140.9</td><td style = \"text-align: right;\">4489.39</td><td style = \"text-align: right;\">7.0944e5</td><td style = \"text-align: right;\">7.0944e5</td><td style = \"text-align: right;\">7.0995e5</td><td style = \"text-align: right;\">7.0995e5</td><td style = \"text-align: right;\">-510.376</td><td style = \"text-align: right;\">-0.000718889</td><td style = \"text-align: right;\">7.05905e5</td><td style = \"text-align: right;\">3534.91</td><td style = \"text-align: right;\">0.00500763</td><td style = \"text-align: right;\">1.0</td></tr><tr><td class = \"rowNumber\" style = \"font-weight: bold; text-align: right;\">4197</td><td style = \"text-align: left;\">base_ramp_storage_envelopes_up_1_dn_1</td><td style = \"text-align: right;\">7</td><td style = \"text-align: left;\">demand_56</td><td style = \"text-align: right;\">0</td><td style = \"text-align: right;\">0.0</td><td style = \"text-align: right;\">50513.5</td><td style = \"text-align: right;\">0</td><td style = \"text-align: right;\">-3.85691e-13</td><td style = \"text-align: right;\">21140.9</td><td style = \"text-align: right;\">4135.86</td><td style = \"text-align: right;\">7.09593e5</td><td style = \"text-align: right;\">7.09593e5</td><td style = \"text-align: right;\">7.0995e5</td><td style = \"text-align: right;\">7.0995e5</td><td style = \"text-align: right;\">-357.374</td><td style = \"text-align: right;\">-0.000503379</td><td style = \"text-align: right;\">2.57822e6</td><td style = \"text-align: right;\">-1.86863e6</td><td style = \"text-align: right;\">-0.724774</td><td style = \"text-align: right;\">1.0</td></tr><tr><td class = \"rowNumber\" style = \"font-weight: bold; text-align: right;\">4198</td><td style = \"text-align: left;\">base_ramp_storage_envelopes_up_1_dn_1</td><td style = \"text-align: right;\">7</td><td style = \"text-align: left;\">demand_61</td><td style = \"text-align: right;\">0</td><td style = \"text-align: right;\">0.0</td><td style = \"text-align: right;\">50222.2</td><td style = \"text-align: right;\">0</td><td style = \"text-align: right;\">-3.85691e-13</td><td style = \"text-align: right;\">21140.9</td><td style = \"text-align: right;\">4451.53</td><td style = \"text-align: right;\">7.09558e5</td><td style = \"text-align: right;\">7.09558e5</td><td style = \"text-align: right;\">7.0995e5</td><td style = \"text-align: right;\">7.0995e5</td><td style = \"text-align: right;\">-391.757</td><td style = \"text-align: right;\">-0.000551809</td><td style = \"text-align: right;\">1.80961e6</td><td style = \"text-align: right;\">-1.10005e6</td><td style = \"text-align: right;\">-0.607895</td><td style = \"text-align: right;\">1.0</td></tr><tr><td class = \"rowNumber\" style = \"font-weight: bold; text-align: right;\">4199</td><td style = \"text-align: left;\">base_ramp_storage_envelopes_up_1_dn_1</td><td style = \"text-align: right;\">7</td><td style = \"text-align: left;\">demand_55</td><td style = \"text-align: right;\">0</td><td style = \"text-align: right;\">0.0</td><td style = \"text-align: right;\">50265.9</td><td style = \"text-align: right;\">0</td><td style = \"text-align: right;\">-3.85691e-13</td><td style = \"text-align: right;\">21140.9</td><td style = \"text-align: right;\">4440.9</td><td style = \"text-align: right;\">7.09518e5</td><td style = \"text-align: right;\">7.09518e5</td><td style = \"text-align: right;\">7.0995e5</td><td style = \"text-align: right;\">7.0995e5</td><td style = \"text-align: right;\">-431.932</td><td style = \"text-align: right;\">-0.000608397</td><td style = \"text-align: right;\">7.05983e5</td><td style = \"text-align: right;\">3535.17</td><td style = \"text-align: right;\">0.00500744</td><td style = \"text-align: right;\">1.0</td></tr><tr><td class = \"rowNumber\" style = \"font-weight: bold; text-align: right;\">4200</td><td style = \"text-align: left;\">base_ramp_storage_envelopes_up_1_dn_1</td><td style = \"text-align: right;\">7</td><td style = \"text-align: left;\">demand_52</td><td style = \"text-align: right;\">0</td><td style = \"text-align: right;\">0.0</td><td style = \"text-align: right;\">50953.4</td><td style = \"text-align: right;\">0</td><td style = \"text-align: right;\">-3.85691e-13</td><td style = \"text-align: right;\">21140.9</td><td style = \"text-align: right;\">3764.06</td><td style = \"text-align: right;\">709496.0</td><td style = \"text-align: right;\">709496.0</td><td style = \"text-align: right;\">7.0995e5</td><td style = \"text-align: right;\">7.0995e5</td><td style = \"text-align: right;\">-454.139</td><td style = \"text-align: right;\">-0.000639677</td><td style = \"text-align: right;\">3.88002e6</td><td style = \"text-align: right;\">-3.17053e6</td><td style = \"text-align: right;\">-0.817141</td><td style = \"text-align: right;\">1.0</td></tr></tbody></table></div>"
      ],
      "text/latex": [
       "\\begin{tabular}{r|ccccccc}\n",
       "\t& configuration & day & iteration & LLD\\_h & ENS\\_MWh & demand\\_MWh & \\\\\n",
       "\t\\hline\n",
       "\t& Symbol & Int64 & Symbol & Int64? & Float64? & Float64? & \\\\\n",
       "\t\\hline\n",
       "\t1 & base\\_ramp\\_storage\\_envelopes\\_up\\_0\\_dn\\_0 & 1 & demand\\_86 & 4 & 680.846 & 53825.5 & $\\dots$ \\\\\n",
       "\t2 & base\\_ramp\\_storage\\_envelopes\\_up\\_0\\_dn\\_0 & 1 & demand\\_91 & 0 & 0.0 & 52728.3 & $\\dots$ \\\\\n",
       "\t3 & base\\_ramp\\_storage\\_envelopes\\_up\\_0\\_dn\\_0 & 1 & demand\\_48 & 4 & 778.758 & 53859.2 & $\\dots$ \\\\\n",
       "\t4 & base\\_ramp\\_storage\\_envelopes\\_up\\_0\\_dn\\_0 & 1 & demand\\_21 & 4 & 688.953 & 53846.6 & $\\dots$ \\\\\n",
       "\t5 & base\\_ramp\\_storage\\_envelopes\\_up\\_0\\_dn\\_0 & 1 & demand\\_16 & 0 & 0.0 & 52323.0 & $\\dots$ \\\\\n",
       "\t6 & base\\_ramp\\_storage\\_envelopes\\_up\\_0\\_dn\\_0 & 1 & demand\\_28 & 0 & 0.0 & 52833.2 & $\\dots$ \\\\\n",
       "\t7 & base\\_ramp\\_storage\\_envelopes\\_up\\_0\\_dn\\_0 & 1 & demand\\_54 & 7 & 469.865 & 53570.7 & $\\dots$ \\\\\n",
       "\t8 & base\\_ramp\\_storage\\_envelopes\\_up\\_0\\_dn\\_0 & 1 & demand\\_24 & 0 & 0.0 & 52166.4 & $\\dots$ \\\\\n",
       "\t9 & base\\_ramp\\_storage\\_envelopes\\_up\\_0\\_dn\\_0 & 1 & demand\\_26 & 0 & 0.0 & 52726.5 & $\\dots$ \\\\\n",
       "\t10 & base\\_ramp\\_storage\\_envelopes\\_up\\_0\\_dn\\_0 & 1 & demand\\_7 & 0 & 0.0 & 52291.2 & $\\dots$ \\\\\n",
       "\t11 & base\\_ramp\\_storage\\_envelopes\\_up\\_0\\_dn\\_0 & 1 & demand\\_19 & 0 & 0.0 & 52787.4 & $\\dots$ \\\\\n",
       "\t12 & base\\_ramp\\_storage\\_envelopes\\_up\\_0\\_dn\\_0 & 1 & demand\\_25 & 5 & 261.09 & 53384.8 & $\\dots$ \\\\\n",
       "\t13 & base\\_ramp\\_storage\\_envelopes\\_up\\_0\\_dn\\_0 & 1 & demand\\_66 & 0 & 0.0 & 52683.1 & $\\dots$ \\\\\n",
       "\t14 & base\\_ramp\\_storage\\_envelopes\\_up\\_0\\_dn\\_0 & 1 & demand\\_43 & 0 & 0.0 & 52468.1 & $\\dots$ \\\\\n",
       "\t15 & base\\_ramp\\_storage\\_envelopes\\_up\\_0\\_dn\\_0 & 1 & demand\\_87 & 4 & 502.334 & 53673.4 & $\\dots$ \\\\\n",
       "\t16 & base\\_ramp\\_storage\\_envelopes\\_up\\_0\\_dn\\_0 & 1 & demand\\_74 & 0 & 0.0 & 52940.3 & $\\dots$ \\\\\n",
       "\t17 & base\\_ramp\\_storage\\_envelopes\\_up\\_0\\_dn\\_0 & 1 & demand\\_49 & 5 & 492.442 & 53581.7 & $\\dots$ \\\\\n",
       "\t18 & base\\_ramp\\_storage\\_envelopes\\_up\\_0\\_dn\\_0 & 1 & demand\\_58 & 4 & 455.932 & 53564.4 & $\\dots$ \\\\\n",
       "\t19 & base\\_ramp\\_storage\\_envelopes\\_up\\_0\\_dn\\_0 & 1 & demand\\_18 & 0 & 0.0 & 52056.6 & $\\dots$ \\\\\n",
       "\t20 & base\\_ramp\\_storage\\_envelopes\\_up\\_0\\_dn\\_0 & 1 & demand\\_69 & 4 & 496.461 & 53593.8 & $\\dots$ \\\\\n",
       "\t21 & base\\_ramp\\_storage\\_envelopes\\_up\\_0\\_dn\\_0 & 1 & demand\\_99 & 3 & 198.371 & 53221.0 & $\\dots$ \\\\\n",
       "\t22 & base\\_ramp\\_storage\\_envelopes\\_up\\_0\\_dn\\_0 & 1 & demand\\_88 & 0 & 0.0 & 52761.7 & $\\dots$ \\\\\n",
       "\t23 & base\\_ramp\\_storage\\_envelopes\\_up\\_0\\_dn\\_0 & 1 & demand\\_92 & 6 & 603.781 & 53685.5 & $\\dots$ \\\\\n",
       "\t24 & base\\_ramp\\_storage\\_envelopes\\_up\\_0\\_dn\\_0 & 1 & demand & 0 & 0.0 & 53090.0 & $\\dots$ \\\\\n",
       "\t25 & base\\_ramp\\_storage\\_envelopes\\_up\\_0\\_dn\\_0 & 1 & demand\\_63 & 0 & 0.0 & 52817.8 & $\\dots$ \\\\\n",
       "\t26 & base\\_ramp\\_storage\\_envelopes\\_up\\_0\\_dn\\_0 & 1 & demand\\_6 & 0 & 0.0 & 52266.5 & $\\dots$ \\\\\n",
       "\t27 & base\\_ramp\\_storage\\_envelopes\\_up\\_0\\_dn\\_0 & 1 & demand\\_34 & 2 & 560.292 & 53736.2 & $\\dots$ \\\\\n",
       "\t28 & base\\_ramp\\_storage\\_envelopes\\_up\\_0\\_dn\\_0 & 1 & demand\\_95 & 0 & 0.0 & 52806.5 & $\\dots$ \\\\\n",
       "\t29 & base\\_ramp\\_storage\\_envelopes\\_up\\_0\\_dn\\_0 & 1 & demand\\_22 & 0 & 0.0 & 53068.4 & $\\dots$ \\\\\n",
       "\t30 & base\\_ramp\\_storage\\_envelopes\\_up\\_0\\_dn\\_0 & 1 & demand\\_64 & 1 & 243.576 & 53332.1 & $\\dots$ \\\\\n",
       "\t$\\dots$ & $\\dots$ & $\\dots$ & $\\dots$ & $\\dots$ & $\\dots$ & $\\dots$ &  \\\\\n",
       "\\end{tabular}\n"
      ],
      "text/plain": [
       "\u001b[1m4200×20 DataFrame\u001b[0m\n",
       "\u001b[1m  Row \u001b[0m│\u001b[1m configuration                     \u001b[0m\u001b[1m day   \u001b[0m\u001b[1m iteration \u001b[0m\u001b[1m LLD_h  \u001b[0m\u001b[1m ENS_MWh  \u001b[0m\u001b[1m\u001b[0m ⋯\n",
       "      │\u001b[90m Symbol                            \u001b[0m\u001b[90m Int64 \u001b[0m\u001b[90m Symbol    \u001b[0m\u001b[90m Int64? \u001b[0m\u001b[90m Float64? \u001b[0m\u001b[90m\u001b[0m ⋯\n",
       "──────┼─────────────────────────────────────────────────────────────────────────\n",
       "    1 │ base_ramp_storage_envelopes_up_0…      1  demand_86       4   680.846  ⋯\n",
       "    2 │ base_ramp_storage_envelopes_up_0…      1  demand_91       0     0.0\n",
       "    3 │ base_ramp_storage_envelopes_up_0…      1  demand_48       4   778.758\n",
       "    4 │ base_ramp_storage_envelopes_up_0…      1  demand_21       4   688.953\n",
       "    5 │ base_ramp_storage_envelopes_up_0…      1  demand_16       0     0.0    ⋯\n",
       "    6 │ base_ramp_storage_envelopes_up_0…      1  demand_28       0     0.0\n",
       "    7 │ base_ramp_storage_envelopes_up_0…      1  demand_54       7   469.865\n",
       "    8 │ base_ramp_storage_envelopes_up_0…      1  demand_24       0     0.0\n",
       "    9 │ base_ramp_storage_envelopes_up_0…      1  demand_26       0     0.0    ⋯\n",
       "   10 │ base_ramp_storage_envelopes_up_0…      1  demand_7        0     0.0\n",
       "   11 │ base_ramp_storage_envelopes_up_0…      1  demand_19       0     0.0\n",
       "  ⋮   │                 ⋮                    ⋮        ⋮        ⋮        ⋮      ⋱\n",
       " 4191 │ base_ramp_storage_envelopes_up_1…      7  demand_42       0     0.0\n",
       " 4192 │ base_ramp_storage_envelopes_up_1…      7  demand_84       0     0.0    ⋯\n",
       " 4193 │ base_ramp_storage_envelopes_up_1…      7  demand_15       0     0.0\n",
       " 4194 │ base_ramp_storage_envelopes_up_1…      7  demand_44       0     0.0\n",
       " 4195 │ base_ramp_storage_envelopes_up_1…      7  demand_94       0     0.0\n",
       " 4196 │ base_ramp_storage_envelopes_up_1…      7  demand_30       0     0.0    ⋯\n",
       " 4197 │ base_ramp_storage_envelopes_up_1…      7  demand_56       0     0.0\n",
       " 4198 │ base_ramp_storage_envelopes_up_1…      7  demand_61       0     0.0\n",
       " 4199 │ base_ramp_storage_envelopes_up_1…      7  demand_55       0     0.0\n",
       " 4200 │ base_ramp_storage_envelopes_up_1…      7  demand_52       0     0.0    ⋯\n",
       "\u001b[36m                                                15 columns and 4179 rows omitted\u001b[0m"
      ]
     },
     "execution_count": 9,
     "metadata": {},
     "output_type": "execute_result"
    }
   ],
   "source": [
    "gcdi_KPI_adequacy"
   ]
  },
  {
   "cell_type": "code",
   "execution_count": null,
   "metadata": {},
   "outputs": [],
   "source": [
    "p1 = plot(gcd_KPI_adequacy, x = :mu, y = :EOV, color = :day, kind = \"bar\")\n",
    "p2 = plot(gcd_KPI_adequacy, x = :mu, y = :EENS, color = :day, kind = \"bar\")\n",
    "p3 = plot(gcd_KPI_adequacy, x = :mu, y = :ECUR, color = :day, kind = \"bar\")\n",
    "p4 = plot(gcd_KPI_adequacy, x = :mu, y = :ELGEN, color = :day, kind = \"bar\")\n",
    "# p4 = plot(gcd_KPI_adequacy, x = :mu, y = :ELGEN, color = :day)\n",
    "# p3 = plot(KPI, x = :mu, y = :LOLE, color = :day)\n",
    "[p1 p2 p4]\n",
    "# savefig([p1 p2 p3 p4], \"adecuacy KPIs v1.png\", width=12*scale, height=6*scale)"
   ]
  },
  {
   "cell_type": "code",
   "execution_count": null,
   "metadata": {},
   "outputs": [],
   "source": [
    "iteration_ = :demand_52\n",
    "day_ = 3\n",
    "s1 = bar(filter(:day =>x -> x == day_, gcd_KPI_adequacy), x = :mu, y = :objective_value_uc,  name = \"Day-ahead - Objective function\") # Layout(yaxis_title =\"cost [US]\")\n",
    "s2 = bar(filter(:day =>x -> x == day_, gcd_KPI_adequacy), x = :mu, y = :EΔOV, name = \"Real-time - Expected redispatch + ENS penalties cost\")\n",
    "plot([s1,s2], Layout(barmode=\"stack\",title = attr(text = \"Production cost + penalties for ENS\", xanchor = \"center\", x=0.5), xaxis_title = \"μ\", yaxis_title =\"24-hours total cost \\$\", \n",
    "legend=attr(\n",
    "        x=0,\n",
    "        y=-0.3,\n",
    "        yanchor=\"bottom\",\n",
    "        xanchor=\"left\",\n",
    "        orientation=\"h\"\n",
    "    ))\n",
    ")"
   ]
  },
  {
   "cell_type": "markdown",
   "metadata": {},
   "source": [
    "### Undelivered reserve"
   ]
  },
  {
   "cell_type": "code",
   "execution_count": null,
   "metadata": {},
   "outputs": [],
   "source": [
    "mu_ = 0.1\n",
    "to_plot = filter([:iteration, :day, :mu] => (x,y,z) -> (x.==iteration_).&(y.==day_).&(z.== mu_), KPI_reserve)\n",
    "to_plot = stack(to_plot,[:SOE_MWh, :envelope_up_MWh, :envelope_down_MWh])\n",
    "plot(to_plot, x =:hour, y = :value, group = :variable, facet_col = :configuration, mode=\"markers+lines\")"
   ]
  },
  {
   "cell_type": "code",
   "execution_count": null,
   "metadata": {},
   "outputs": [],
   "source": [
    "# to_plot = KPI_reserve[(KPI_reserve.iteration .== iteration_),:]\n",
    "to_plot = filter(:iteration => ==(iteration_), KPI_reserve)\n",
    "p1 = plot(to_plot, x = :hour, y = :Δenergy_reserve_up_MWh, color = :mu, group = :day)\n",
    "p2 = plot(to_plot, x = :hour, y = :LOL_MW, color = :mu, group = :day)\n",
    "# mu_ = 0.5\n",
    "# to_plot = KPI_reserve[(KPI_reserve.iteration .== iteration_),:]\n",
    "# to_plot = filter([:iteration, :day, :mu] => (x,y,z) -> (x.==iteration_).&(y.==day_).&(z.== mu_), KPI_reserve)\n",
    "# s1 = scatter(to_plot, x = :hour, y = :Δenergy_reserve_up_MWh, group = :day, name = \"Δenergy_reserve_up_MWh - mu = $(mu_)\")\n",
    "# s2 = scatter(to_plot, x = :hour, y = :LOL_MW, group = :day,name = \"LOL_MW - mu = $(mu_)\")\n",
    "# union!(s1,s2)\n",
    "# p2= plot(s1)\n",
    "[p1 p2]"
   ]
  },
  {
   "cell_type": "code",
   "execution_count": null,
   "metadata": {},
   "outputs": [],
   "source": []
  },
  {
   "cell_type": "code",
   "execution_count": null,
   "metadata": {},
   "outputs": [],
   "source": [
    "to_plot = gcd_KPI_reserve[gcd_KPI_reserve.day .== day_,:]\n",
    "s1 = scatter(to_plot, x = :mu, y = :E_final_Δenergy_reserve_up_MWh, group = :day, name = \"Expected energy trapped (∆r_up_t_end)\")\n",
    "s3 = scatter(to_plot, x = :mu, y = :E_final_SOE_MWh, group = :day, name = \"Expected  SOE_t_end\")\n",
    "to_plot = gcd_KPI_adequacy[gcd_KPI_adequacy.day .== day_,:]\n",
    "s2 = scatter(to_plot, x = :mu, y = :EENS, group = :day, name = \"EENS\")\n",
    "\n",
    "union!(s1,s2,s3)\n",
    "plot(s1, Layout(yaxis_title= \"Energy MWh\", xaxis_title=\"μ\",\n",
    "    legend=attr(\n",
    "        x=0.95,\n",
    "        y=0.75,\n",
    "        yanchor=\"bottom\",\n",
    "        xanchor=\"right\",\n",
    "        orientation=\"h\"\n",
    "    ))\n",
    ")"
   ]
  },
  {
   "cell_type": "code",
   "execution_count": null,
   "metadata": {},
   "outputs": [],
   "source": [
    "\n",
    "\n",
    "to_plot = filter([:day,:iteration] => (x,y) -> (x.==day_) .& (y.==iteration_), gcdi_KPI_reserve)\n",
    "s1 = scatter(to_plot, x = :mu, y = :final_Δenergy_reserve_up_MWh, group = :day, name = \"Energy trapped (∆r_t_end)\")\n",
    "s3 = scatter(to_plot, x = :mu, y = :final_SOE_MWh, group = :day, name = \"SOE_t_end\")\n",
    "to_plot = filter([:day,:iteration] => (x,y) -> (x.==day_) .& (y.==iteration_), gcdi_KPI_adequacy)\n",
    "s2 = scatter(to_plot, x = :mu, y = :ENS_MWh, group = :day, name = \"ENS\")\n",
    "\n",
    "union!(s1,s2,s3)\n",
    "plot(s1, Layout(yaxis_title= \"Energy MWh\", xaxis_title=\"μ\",\n",
    "    legend=attr(\n",
    "        x=0.95,\n",
    "        y=0.75,\n",
    "        yanchor=\"bottom\",\n",
    "        xanchor=\"right\",\n",
    "        orientation=\"h\"\n",
    "    ))\n",
    ")"
   ]
  },
  {
   "cell_type": "code",
   "execution_count": null,
   "metadata": {},
   "outputs": [],
   "source": [
    "# to_plot = gcdi_KPI_reserve[gcdi_KPI_reserve.day .== day_,:]\n",
    "# p1 = plot(scatter(to_plot, x = :mu, y = :final_stored_energy_reserve_up_MWh, group = :iteration))\n",
    "# to_plot  = gcdi_KPI_adequacy[gcdi_KPI_adequacy.day .== day_,:]\n",
    "# p2 = plot(scatter(to_plot, x = :mu, y = :ENS_MWh, group = :iteration))\n",
    "# [p1 p2]\n",
    "\n",
    "to_plot = gcdi_KPI_reserve[gcdi_KPI_reserve.day .== day_,:]\n",
    "s1 = scatter(to_plot, x = :mu, y = :final_stored_energy_reserve_up_MWh, group = :iteration, color =\"red\")\n",
    "# s3 = scatter(to_plot, x = :mu, y = :E_final_SOE_MWh, group = :day, name = \"Expected  SOE_t_end\")\n",
    "to_plot = gcdi_KPI_adequacy[gcdi_KPI_adequacy.day .== day_,:]\n",
    "s2 = scatter(to_plot, x = :mu, y = :ENS_MWh, group = :iteration, color =\"blue\")\n",
    "\n",
    "union!(s1,s2)\n",
    "plot(s1,\n",
    "    # Layout(yaxis_title= \"Energy MWh\", xaxis_title=\"μ\",\n",
    "    # legend=attr(\n",
    "    #     x=0.95,\n",
    "    #     y=0.75,\n",
    "    #     yanchor=\"bottom\",\n",
    "    #     xanchor=\"right\",\n",
    "    #     orientation=\"h\"\n",
    "    # ))\n",
    ")"
   ]
  },
  {
   "cell_type": "markdown",
   "metadata": {},
   "source": [
    "### Redispatch probability\n",
    "Redispatch = LOL - LGEN\n",
    "Redispatch is considered to be needed when sign(redispatch*reserve_needed)>0. Cases when reserve_needed>0 but redispatch<0 (i.e., LGEN>0) are considered economic deviations of the RT problem"
   ]
  },
  {
   "cell_type": "code",
   "execution_count": 26,
   "metadata": {},
   "outputs": [],
   "source": [
    "function redispatch_prob(r_relative_min, r_relative_max, required_reserve, number_key)\n",
    "    out =  combine(groupby(required_reserve, [:configuration, :mu]), [:required_r_relative, :redispatch_needed] => ((x,y) -> 100*sum((x.>=r_relative_min).*(x.<=r_relative_max).*y)/sum((x.>=r_relative_min).*(x.<=r_relative_max))) => :redispatch_probability)\n",
    "    out.r_max_relative .= number_key\n",
    "    return out\n",
    "end\n",
    "combine(groupby(KPI_reserve, [:configuration, :mu]), [:required_r_relative, :redispatch_needed] => ((x,y) -> sum((x.>=0).*(x.<=0.1))) => :redispatch_probability)\n",
    ";"
   ]
  },
  {
   "cell_type": "markdown",
   "metadata": {},
   "source": [
    "KPI_reserve"
   ]
  },
  {
   "cell_type": "code",
   "execution_count": null,
   "metadata": {},
   "outputs": [],
   "source": [
    "redispatch_probability = vcat(\n",
    "    vcat([redispatch_prob(0, r_max, KPI_reserve, r_max) for r_max in 0.0:0.01:0.15]...),\n",
    "    vcat([redispatch_prob(-r_max, 0, KPI_reserve, -r_max) for r_max in 0.0:0.01:0.15]...)\n",
    ")\n",
    "sort!(redispatch_probability, :r_max_relative)\n",
    "# redispatch_probability = vcat([redispatch_prob(-r_max, r_max, required_reserve, r_max) for r_max in 0.0:0.01:0.2]...)\n",
    "p1 = plot(redispatch_probability, x = :r_max_relative, y = :redispatch_probability, color = :mu, Layout(title = \"Redispatch probability\", yaxis_title = \"probability  [%]\", xaxis_title = \"required reserve [%]\"), mode=\"markers+lines\")\n",
    "p2 = plot(filter(:mu => x -> ismissing(x) ? false : x == 1, redispatch_probability), x = :r_max_relative, y = :redispatch_probability, Layout(title = \"Redispatch probability mu = 1 \", yaxis_title = \"probability  [%]\", xaxis_title = \"required reserve [%]\"), name = \"1.0\", mode=\"markers+lines\", marker=attr(color=\"black\"))\n",
    "p3 = plot(filter(:day => x -> x in [day_], KPI_reserve), x = :required_r_relative, y = :redispatch_MW, color = :mu, mode = \"markers\")\n",
    "[p1 p2 p3]"
   ]
  },
  {
   "cell_type": "markdown",
   "metadata": {},
   "source": [
    "Sanity check: Figue 2 should exhibit 0 redispatch probability when required reserve >0 for mu = 1\n",
    "Points of quadrant IV in Figure 3 are not considered as redispatching actions\n"
   ]
  },
  {
   "cell_type": "code",
   "execution_count": null,
   "metadata": {},
   "outputs": [],
   "source": [
    "p2 = plot(filter(:day => x -> x in [day_], KPI_reserve), x = :required_r_relative, y = :mu, facet_col = :redispatch_needed, facet_row = :day, mode = \"markers\", Layout(height=800))\n",
    "# p2 = plot(filter(:mu => x -> ismissing(x) ? false : x == 1, KPI_reserve), x = :required_r_relative, y = :mu, facet_col = :redispatch_needed, mode = \"markers\", Layout(height=800))"
   ]
  },
  {
   "cell_type": "code",
   "execution_count": null,
   "metadata": {},
   "outputs": [],
   "source": [
    "p1 = plot(gcdi_KPI_adequacy, y = :Δobjective_value_relative_ref_conf, x = :mu, color = :iteration)\n",
    "p2 = plot(gcdi_KPI_adequacy, y = :ENS_MWh, x = :mu, color = :iteration)\n",
    "p3 = plot(gcdi_KPI_adequacy, y = :LGEN_MWh, x = :mu, color = :iteration)\n",
    "p4 = plot(gcdi_KPI_adequacy, y = :CUR_MWh, x = :mu, color = :iteration)\n",
    "[p1 p2; p3 p4]"
   ]
  },
  {
   "cell_type": "code",
   "execution_count": null,
   "metadata": {},
   "outputs": [],
   "source": [
    "p1 = plot(gcdi_KPI_adequacy, y = :Δobjective_value_relative_ref_conf, x = :mu, facet_col = :day, color = :iteration)\n",
    "[p1;]"
   ]
  },
  {
   "cell_type": "markdown",
   "metadata": {},
   "source": [
    "## Revise code"
   ]
  },
  {
   "cell_type": "code",
   "execution_count": null,
   "metadata": {},
   "outputs": [],
   "source": [
    "p1 = plot(gcd_KPI_reserve, x = :mu, y = :delivered_r_up_ratio, color = :day)\n",
    "p2 = plot(gcd_KPI_reserve, x = :mu, y = :delivered_r_dn_ratio, color = :day)\n",
    "p3 = plot(gcd_KPI_reserve, x = :mu, y = :E_delivered_r_up_MWh, color = :day)\n",
    "p4 = plot(gcd_KPI_reserve, x = :mu, y = :E_deliverered_dn_MWh, color = :day)\n",
    "# [p1 p2; p3 p4]\n",
    "[p1 p2]"
   ]
  },
  {
   "cell_type": "markdown",
   "metadata": {},
   "source": [
    "## Deprecated"
   ]
  },
  {
   "cell_type": "code",
   "execution_count": null,
   "metadata": {},
   "outputs": [],
   "source": [
    "reserve_thrs = 0.1+0.0001\n",
    "group_by = [:configuration, :day, :iteration]\n",
    "\n",
    "ov = leftjoin(\n",
    "    gcdi_KPI_adequacy[:,union(group_by,[:objective_value, :OPEX, :ENS_MWh])],\n",
    "    combine(groupby(KPI_reserve, group_by), :required_r_relative => (x-> all(abs.(x) .<= reserve_thrs))  => :required_reserve_within_margins),\n",
    "    on = group_by\n",
    ")\n",
    "\n",
    "eov = combine(groupby(ov, [:configuration, :day, :required_reserve_within_margins]), [:objective_value, :OPEX, :ENS_MWh] .=> mean .=> [:EOV, :EOPEX, :EENS])\n",
    "sort!(transform!(eov, :configuration .=> ByRow(x -> parse_configuration_to_mu(x)) .=> :mu), :mu)\n",
    "\n",
    "[plot(eov, x = :mu, y = :EOV, color = :day, facet_col = :required_reserve_within_margins) plot(eov, x = :mu, y = :EENS, color = :day, facet_col = :required_reserve_within_margins)]"
   ]
  }
 ],
 "metadata": {
  "@webio": {
   "lastCommId": null,
   "lastKernelId": null
  },
  "kernelspec": {
   "display_name": "julia-energy_reserve 1.10.1",
   "language": "julia",
   "name": "julia-energy_reserve-1.10"
  },
  "language_info": {
   "file_extension": ".jl",
   "mimetype": "application/julia",
   "name": "julia",
   "version": "1.10.1"
  }
 },
 "nbformat": 4,
 "nbformat_minor": 4
}
